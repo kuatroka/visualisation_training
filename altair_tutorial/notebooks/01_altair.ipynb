{
 "cells": [
  {
   "cell_type": "code",
   "execution_count": null,
   "metadata": {},
   "outputs": [],
   "source": [
    "import pandas as pd\n",
    "import altair as alt\n",
    "from pathlib import Path\n",
    "# alt.renderers.enable(\"mimetype\")\n",
    "alt.renderers.enable('default')\n",
    "\n",
    "\n",
    "df = pd.read_csv(\"https://raw.githubusercontent.com/onlyphantom/miband/main/data/run_1km.csv\",\n",
    "                 parse_dates=['startTime', 'date'])\n",
    "df['day_of_week'] = df.startTime.dt.day_name()\n"
   ]
  },
  {
   "cell_type": "code",
   "execution_count": null,
   "metadata": {},
   "outputs": [],
   "source": [
    "df['week'] = df.startTime.dt.isocalendar().week\n",
    "df.head(2)"
   ]
  },
  {
   "cell_type": "code",
   "execution_count": null,
   "metadata": {},
   "outputs": [],
   "source": [
    "# %%time\n",
    "import warnings\n",
    "warnings.simplefilter(action='ignore', category=FutureWarning)\n",
    "\n",
    "alt.Chart(df).mark_point().encode(\n",
    "    # x = 'seconds_per_km:Q',\n",
    "    # y = 'day_of_week:N',\n",
    "    # color = 'day_of_week:N'\n",
    "    alt.X('seconds_per_km',),\n",
    "    alt.Y('day_of_week'),\n",
    "    alt.Color('day_of_week')\n",
    "    ).interactive()"
   ]
  },
  {
   "cell_type": "code",
   "execution_count": null,
   "metadata": {},
   "outputs": [],
   "source": [
    "alt.Chart(df).mark_point(color='green').encode(\n",
    "    alt.X('seconds_per_km', \"min\"),\n",
    "    alt.Y('day_of_week'),\n",
    "    # alt.Color('day_of_week'),\n",
    ")"
   ]
  },
  {
   "cell_type": "code",
   "execution_count": null,
   "metadata": {},
   "outputs": [],
   "source": [
    "alt.Chart(df).mark_point(color='#5f9ea0').encode(\n",
    "    alt.X('seconds_per_km', \"min\", title='Seconds/km (min)', scale=alt.Scale(type='log')),\n",
    "    alt.Y('day_of_week',  title='Day'),\n",
    ")"
   ]
  },
  {
   "cell_type": "code",
   "execution_count": null,
   "metadata": {},
   "outputs": [],
   "source": [
    "alt.Chart(df).mark_circle(color='#5f9ea0').encode(\n",
    "    alt.X('seconds_per_km', \"min\", title='Seconds/km (min)', scale=alt.Scale(type='log')),\n",
    "    alt.Y('day_of_week',  title='Day'),\n",
    ")"
   ]
  },
  {
   "cell_type": "code",
   "execution_count": null,
   "metadata": {},
   "outputs": [],
   "source": [
    "line = alt.Chart(df).mark_line(color='lightpink').encode(\n",
    "    alt.X('week', title='Week number'),\n",
    "    alt.Y('seconds_per_km', aggregate='mean',  title='Speed'),\n",
    ")\n",
    "\n",
    "circle = alt.Chart(df).mark_circle(color='deeppink').encode(\n",
    "    alt.X('week', title='Week number'),\n",
    "    alt.Y('seconds_per_km', aggregate='mean',  title='Speed'),\n",
    ")\n",
    "line + circle"
   ]
  },
  {
   "cell_type": "code",
   "execution_count": null,
   "metadata": {},
   "outputs": [],
   "source": [
    "# Another way of doing the above is to set up a base chart and add more layers, like so\n",
    "\n",
    "base = alt.Chart(df).mark_line(color='lightpink').encode(\n",
    "    alt.X('week', title='Week number'),\n",
    "    alt.Y('seconds_per_km', aggregate='mean',  title='Speed'),\n",
    ")\n",
    "\n",
    "base + base.mark_circle(color='magenta')"
   ]
  },
  {
   "cell_type": "code",
   "execution_count": null,
   "metadata": {},
   "outputs": [],
   "source": [
    "# the same as above, but with `point=True`\n",
    "\n",
    "alt.Chart(df).mark_line(color='lightpink', point=True).encode(\n",
    "    alt.X('week', title='Week number'),\n",
    "    alt.Y('seconds_per_km', aggregate='mean',  title='Speed'),\n",
    ")\n"
   ]
  },
  {
   "cell_type": "code",
   "execution_count": null,
   "metadata": {},
   "outputs": [],
   "source": [
    "# two charts in line (side by side)\n",
    "speed = alt.Chart(df).mark_line(color='#A9A9A9', point=True).encode(\n",
    "    alt.X('week', title='Week Number'),\n",
    "    alt.Y(\"seconds_per_km\", aggregate='mean')\n",
    "    )\n",
    "\n",
    "dist = alt.Chart(df).mark_line(color='#A9A9A9', point=True).encode(\n",
    "    alt.X('week', title='Week Number'),\n",
    "    alt.Y(\"distance(m)\", aggregate='sum')\n",
    "    )\n",
    "\n",
    "speed | dist"
   ]
  },
  {
   "cell_type": "code",
   "execution_count": null,
   "metadata": {},
   "outputs": [],
   "source": [
    "# another way to do side by side\n",
    "speed = alt.Chart(df).mark_line(color='#A9A9A9', point=True).encode(\n",
    "    alt.X('week', title='Week Number'),\n",
    "    alt.Y(\"seconds_per_km\", aggregate='mean')\n",
    "    )\n",
    "\n",
    "cal = speed.encode(\n",
    "    alt.Y(\"calories(kcal)\", aggregate='sum', title='Calories')\n",
    ")\n",
    "\n",
    "speed | cal.interactive() # `|` for side by side\n",
    "# speed & cal # `&` for one above the other\n",
    "# speed + cal # `&` to overlay different charts on the same graph\n"
   ]
  },
  {
   "cell_type": "code",
   "execution_count": null,
   "metadata": {},
   "outputs": [],
   "source": [
    "import warnings\n",
    "warnings.simplefilter(action='ignore', category=FutureWarning)\n",
    "\n",
    "speed = alt.Chart(df).mark_line(color='#A9A9A9', point=True).encode(\n",
    "    alt.X('week', title='Week Number'),\n",
    "    alt.Y(\"seconds_per_km\", aggregate='mean'),\n",
    "    tooltip=['date', 'distance(m)', 'maxPace(/meter)', 'seconds_per_km' ]\n",
    "    )\n",
    "speed.interactive()"
   ]
  },
  {
   "cell_type": "code",
   "execution_count": null,
   "metadata": {},
   "outputs": [],
   "source": [
    "\n",
    "speed = alt.Chart(df).mark_point(color='#A9A9A9').encode(\n",
    "    alt.X('week', title='Week Number'),\n",
    "    alt.Y(\"seconds_per_km\", aggregate='mean'),\n",
    "    tooltip=['date', 'distance(m)', 'maxPace(/meter)', 'seconds_per_km' ]\n",
    "    )\n",
    "speed.interactive()"
   ]
  },
  {
   "cell_type": "code",
   "execution_count": null,
   "metadata": {},
   "outputs": [],
   "source": [
    "alt.Chart(df).mark_bar().encode(\n",
    "    alt.X('speed_per_km',  aggregate='count', title='Run count'),\n",
    "    alt.Y(\"startTime:O\", timeUnit='month'),\n",
    "    \n",
    "    )\n"
   ]
  },
  {
   "cell_type": "code",
   "execution_count": null,
   "metadata": {},
   "outputs": [],
   "source": [
    "alt.Chart(df).mark_bar().encode(\n",
    "    alt.X('speed_per_km',  aggregate='count', title='Run count'),\n",
    "    alt.Y('hours(startTime):O')\n",
    "    \n",
    "    )"
   ]
  },
  {
   "cell_type": "code",
   "execution_count": null,
   "metadata": {},
   "outputs": [],
   "source": [
    "alt.Chart(df).mark_bar().encode(\n",
    "    alt.X('speed_per_km',  aggregate='count', title='Run count'),\n",
    "    alt.Y('hours(startTime):T')\n",
    "\n",
    "    )"
   ]
  },
  {
   "cell_type": "code",
   "execution_count": null,
   "metadata": {},
   "outputs": [],
   "source": [
    "alt.Chart(df).mark_bar().encode(\n",
    "    alt.X('hours(startTime):N'),\n",
    "    alt.Y('speed_per_km:Q',  aggregate='count', title='Run count'),\n",
    "\n",
    "    )"
   ]
  },
  {
   "cell_type": "code",
   "execution_count": null,
   "metadata": {},
   "outputs": [],
   "source": [
    "%%time\n",
    "# Heatmap\n",
    "\n",
    "alt.Chart(df).mark_rect().encode(\n",
    "    alt.X('date(startTime):O', title='day'),\n",
    "    alt.Y('month(startTime):O', title='month'),\n",
    "    color='max(distance(m)):Q'\n",
    "    ).properties(\n",
    "        title='Daily runs'\n",
    "    )"
   ]
  },
  {
   "cell_type": "code",
   "execution_count": null,
   "metadata": {},
   "outputs": [],
   "source": [
    "# create a selection / filter over y-axix encoding that changes color \n",
    "brush = alt.selection_interval(encodings=['y'])\n",
    "\n",
    "# variable opacity based on if something is selected or not\n",
    "opacity = alt.condition(brush, alt.value(1), alt.value(0.2))\n",
    "\n",
    "runs = alt.Chart(df).mark_bar(color='lightpink').encode(\n",
    "    alt.X('count(speed_per_km):Q', title='Run count'),\n",
    "    alt.Y('month(startTime):O', title=None, timeUnit='month'),\n",
    "    # tooltip=['max(speed_per_km)', 'count(speed_per_km)'],\n",
    "    tooltip=[\n",
    "        alt.Tooltip('max(speed_per_km)', title='max speed'),\n",
    "        alt.Tooltip('count(speed_per_km):Q', title='# of runs')\n",
    "    ],\n",
    "    # opacity=alt.value(0.5) # manual opacity\n",
    "    opacity=opacity # opacity based on if data is selected by mouse or not\n",
    "    ).add_selection(brush).properties(\n",
    "        title='Monthly Runs',\n",
    "        height=240,\n",
    "        width=300\n",
    "    )\n",
    "\n",
    "speed = alt.Chart(df).mark_circle(color='turquoise').encode(\n",
    "    alt.X('week', title='Week Number'),\n",
    "    alt.Y('seconds_per_km:Q'),\n",
    "    opacity=opacity\n",
    "    ).properties(\n",
    "        title='Weekly Speed',\n",
    "        height=240,\n",
    "        width=300\n",
    "    )\n",
    "\n",
    "speed |runs "
   ]
  },
  {
   "cell_type": "code",
   "execution_count": null,
   "metadata": {},
   "outputs": [],
   "source": [
    "\n",
    "speed2 = alt.Chart(df).mark_circle(color='plum').encode(\n",
    "    alt.X('week', title='Week Number'),\n",
    "    alt.Y('seconds_per_km'),\n",
    "    opacity=opacity\n",
    "    ).add_selection(brush)\n",
    "\n",
    "# print(speed2.to_json()[-400:])\n",
    "# the same as above, but in javascrip notation\n",
    "\n",
    "x = alt.X(field=\"week\",title= \"Week Number\", type= \"quantitative\")\n",
    "\n",
    "speed2"
   ]
  },
  {
   "cell_type": "code",
   "execution_count": null,
   "metadata": {},
   "outputs": [],
   "source": [
    "x = alt.X('count(week):O')\n",
    "print(x.to_json())\n",
    "\n",
    "\n",
    "x = alt.X(aggregate='count', field=\"week\", type= \"ordinal\")\n",
    "print(x.to_json())"
   ]
  },
  {
   "cell_type": "code",
   "execution_count": null,
   "metadata": {},
   "outputs": [],
   "source": [
    "speed2.save('speed2.html')"
   ]
  }
 ],
 "metadata": {
  "kernelspec": {
   "display_name": "Python 3.9.7 ('venv': venv)",
   "language": "python",
   "name": "python3"
  },
  "language_info": {
   "codemirror_mode": {
    "name": "ipython",
    "version": 3
   },
   "file_extension": ".py",
   "mimetype": "text/x-python",
   "name": "python",
   "nbconvert_exporter": "python",
   "pygments_lexer": "ipython3",
   "version": "3.9.7"
  },
  "orig_nbformat": 4,
  "vscode": {
   "interpreter": {
    "hash": "1639a9c6c40fffe50f648a499d5764837d5cb46660124e3f1e95cc1f6fa19bf1"
   }
  }
 },
 "nbformat": 4,
 "nbformat_minor": 2
}
