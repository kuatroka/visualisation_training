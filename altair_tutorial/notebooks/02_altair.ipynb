{
 "cells": [
  {
   "cell_type": "code",
   "execution_count": null,
   "metadata": {
    "tags": []
   },
   "outputs": [],
   "source": [
    "%%time\n",
    "import pandas as pd\n",
    "import altair as alt\n",
    "from vega_datasets import data\n",
    "\n",
    "df = data.gapminder()\n"
   ]
  },
  {
   "cell_type": "code",
   "execution_count": null,
   "metadata": {},
   "outputs": [],
   "source": [
    "df = df.astype({'country':'category'}); df.query('cluster == 0').drop_duplicates().sample(40)"
   ]
  },
  {
   "cell_type": "code",
   "execution_count": null,
   "metadata": {},
   "outputs": [],
   "source": [
    "df.head()"
   ]
  },
  {
   "cell_type": "code",
   "execution_count": null,
   "metadata": {},
   "outputs": [],
   "source": [
    "alt.Chart(df.query(\"year == 2000\")).mark_point().encode(\n",
    "    alt.X('fertility:Q'),\n",
    "    alt.Y('country:O')   \n",
    "    \n",
    ")"
   ]
  },
  {
   "cell_type": "code",
   "execution_count": null,
   "metadata": {},
   "outputs": [],
   "source": [
    "# Q and O\n",
    "alt.Chart(df.query(\"year == 2000\")).mark_point().encode(\n",
    "    alt.X('fertility:Q'),\n",
    "    # alt.Y('cluster:Q')   # qualitative data type will add grid and zero based scaling automatically\n",
    "    # alt.Y('cluster:N')   # nominal data type will treat data as categorical and unoredered\n",
    "    alt.Y('cluster:O')   # ordinal data type will treat data as categorical and oredered\n",
    "       \n",
    ")"
   ]
  },
  {
   "cell_type": "code",
   "execution_count": null,
   "metadata": {},
   "outputs": [],
   "source": [
    "# Q and Q scatterplot. It add two zero based X and Y scales\n",
    "alt.Chart(df.query(\"year == 2000\")).mark_point().encode(\n",
    "    alt.X('fertility:Q'),\n",
    "    alt.Y('life_expect:Q')\n",
    "       \n",
    ")"
   ]
  },
  {
   "cell_type": "code",
   "execution_count": null,
   "metadata": {},
   "outputs": [],
   "source": [
    "# Q and Q scatterplot. It add two zero based X and Y scales\n",
    "alt.Chart(df.query(\"year == 2000\")).mark_point().encode(\n",
    "    alt.X('fertility:Q', scale=alt.Scale(zero=False)),   # zero=False removes the zero based axis scaling\n",
    "    alt.Y('life_expect:Q', scale=alt.Scale(zero=False)),\n",
    "    alt.Size('pop:Q')\n",
    "       \n",
    ")"
   ]
  },
  {
   "cell_type": "code",
   "execution_count": null,
   "metadata": {},
   "outputs": [],
   "source": [
    "# Q and Q scatterplot. It add two zero based X and Y scales\n",
    "alt.Chart(df.query(\"year == 2000\")).mark_point(filled=False).encode(\n",
    "    alt.X('fertility:Q', scale=alt.Scale(zero=False)),   # zero=False removes the zero based axis scaling\n",
    "    alt.Y('life_expect:Q', scale=alt.Scale(zero=False)),\n",
    "    alt.Size('pop:Q', scale=alt.Scale(range=[0, 1400])),\n",
    "    alt.Color('cluster:N')\n",
    "       \n",
    ")"
   ]
  },
  {
   "cell_type": "code",
   "execution_count": null,
   "metadata": {},
   "outputs": [],
   "source": [
    "# Q and Q scatterplot. It add two zero based X and Y scales\n",
    "alt.Chart(df.query(\"year == 2000\")).mark_point(filled=True).encode(\n",
    "    alt.X('fertility:Q', scale=alt.Scale(zero=False)),   # zero=False removes the zero based axis scaling\n",
    "    alt.Y('life_expect:Q', scale=alt.Scale(zero=False)),\n",
    "    alt.Size('pop:Q', scale=alt.Scale(range=[0, 1400])),\n",
    "    alt.Color('cluster:N'),\n",
    "    alt.OpacityValue(0.5),\n",
    "    alt.Shape('cluster:N'), \n",
    "    tooltip=['country', 'pop']\n",
    "       \n",
    ")"
   ]
  },
  {
   "cell_type": "code",
   "execution_count": null,
   "metadata": {},
   "outputs": [],
   "source": [
    "# Q and Q scatterplot. It add two zero based X and Y scales\n",
    "alt.Chart(df.query(\"year == 2000\")).mark_point(filled=True).encode(\n",
    "    alt.X('fertility:Q', scale=alt.Scale(zero=False)),   # zero=False removes the zero based axis scaling\n",
    "    alt.Y('life_expect:Q', scale=alt.Scale(zero=False)),\n",
    "    alt.Size('pop:Q', scale=alt.Scale(range=[0, 1400])),\n",
    "    alt.Color('cluster:N'),\n",
    "    alt.OpacityValue(0.5),\n",
    "    alt.Shape('cluster:N'), \n",
    "    alt.Order('pop:Q', sort='descending'),\n",
    "    tooltip=['country', 'pop']\n",
    "       \n",
    ")"
   ]
  },
  {
   "cell_type": "code",
   "execution_count": null,
   "metadata": {},
   "outputs": [],
   "source": [
    "# Q and Q scatterplot. It add two zero based X and Y scales\n",
    "alt.Chart(df.query(\"year == 2000\")).mark_point(filled=True).encode(\n",
    "    alt.X('fertility:Q', scale=alt.Scale(zero=False)),   # zero=False removes the zero based axis scaling\n",
    "    alt.Y('life_expect:Q', scale=alt.Scale(zero=False)),\n",
    "    alt.Size('pop:Q', scale=alt.Scale(range=[0, 1400])),\n",
    "    alt.Color('cluster:N'),\n",
    "    alt.OpacityValue(0.5),\n",
    "    alt.Shape('cluster:N'), \n",
    "    alt.Order('pop:Q', sort='descending'),\n",
    "    tooltip=[\n",
    "        alt.Tooltip('country:N'),\n",
    "        alt.Tooltip('pop:Q', title='population'),\n",
    "        alt.Tooltip('life_expect:Q', title='life expectancy')\n",
    "    ]\n",
    "       \n",
    ")"
   ]
  },
  {
   "cell_type": "code",
   "execution_count": null,
   "metadata": {
    "tags": []
   },
   "outputs": [],
   "source": [
    "%%time\n",
    "# Column and Row functionality\n",
    "\n",
    "alt.Chart(df.query(\"year == 2000\")).mark_point(filled=True).encode(\n",
    "    alt.X('fertility:Q', scale=alt.Scale(zero=False)),   # zero=False removes the zero based axis scaling\n",
    "    alt.Y('life_expect:Q', scale=alt.Scale(zero=False)),\n",
    "    alt.Size('pop:Q', scale=alt.Scale(range=[0, 1400])),\n",
    "    alt.Color('cluster:N'),\n",
    "    alt.OpacityValue(0.5),\n",
    "    alt.Shape('cluster:N'), \n",
    "    alt.Order('pop:Q', sort='descending'),\n",
    "    tooltip=[\n",
    "        alt.Tooltip('country:N'),\n",
    "        alt.Tooltip('pop:Q', title='population'),\n",
    "        alt.Tooltip('life_expect:Q', title='life expectancy')\n",
    "    ],\n",
    "       \n",
    ")"
   ]
  },
  {
   "cell_type": "code",
   "execution_count": null,
   "metadata": {},
   "outputs": [],
   "source": [
    "# Column and Row functionality\n",
    "\n",
    "alt.Chart(df.query(\"year == 2000\")).mark_point(filled=True).encode(\n",
    "    alt.X('fertility:Q', scale=alt.Scale(zero=False)),   # zero=False removes the zero based axis scaling\n",
    "    alt.Y('life_expect:Q', scale=alt.Scale(zero=False)),\n",
    "    alt.Size('pop:Q', scale=alt.Scale(range=[0, 1400])),\n",
    "    alt.Color('cluster:N' ),\n",
    "    alt.OpacityValue(0.8),\n",
    "    # alt.Shape('cluster:N'), \n",
    "    alt.Order('pop:Q', sort='descending'),\n",
    "    alt.Column('cluster:N'),\n",
    "    # alt.Row('cluster:N'),\n",
    "    alt.Tooltip('country:N'),\n",
    "\n",
    "       \n",
    ").properties(width=100, height=100)"
   ]
  },
  {
   "cell_type": "code",
   "execution_count": null,
   "metadata": {},
   "outputs": [],
   "source": [
    "# playing with positining of legend\n",
    "\n",
    "alt.Chart(df.query(\"year == 2000\")).mark_point(filled=True).encode(\n",
    "    alt.X('fertility:Q', scale=alt.Scale(zero=False)),   # zero=False removes the zero based axis scaling\n",
    "    alt.Y('life_expect:Q', scale=alt.Scale(zero=False)),\n",
    "    alt.Size('pop:Q', \n",
    "             scale=alt.Scale(range=[0, 1500]),\n",
    "             legend=alt.Legend(orient='bottom', titleOrient='left')),\n",
    "    alt.Color('cluster:N',legend=None ),\n",
    "    alt.OpacityValue(0.8),\n",
    "    # alt.Shape('cluster:N'), \n",
    "    alt.Order('pop:Q', sort='descending'),\n",
    "    alt.Column('cluster:N'),\n",
    "    # alt.Row('cluster:N'),\n",
    "    alt.Tooltip('country:N'),\n",
    "\n",
    "       \n",
    ").properties(width=100, height=100)"
   ]
  },
  {
   "cell_type": "code",
   "execution_count": null,
   "metadata": {},
   "outputs": [],
   "source": [
    "# playing with positining of legend\n",
    "\n",
    "alt.Chart(df.query(\"year == 2000\")).mark_point(filled=True).encode(\n",
    "    alt.X('fertility:Q', scale=alt.Scale(zero=False)),   # zero=False removes the zero based axis scaling\n",
    "    alt.Y('life_expect:Q', scale=alt.Scale(zero=False)),\n",
    "    alt.Size('pop:Q', \n",
    "             scale=alt.Scale(range=[0, 1500]),\n",
    "             legend=alt.Legend(orient='bottom', titleOrient='left')),\n",
    "    alt.Color('cluster:N',legend=None ),\n",
    "    alt.OpacityValue(0.8),\n",
    "    # alt.Shape('cluster:N'), \n",
    "    alt.Order('pop:Q', sort='descending'),\n",
    "    alt.Column('year:O'),\n",
    "    # alt.Row('cluster:N'),\n",
    "    alt.Tooltip('country:N'),\n",
    "\n",
    "       \n",
    ").properties(width=100, height=100)"
   ]
  },
  {
   "cell_type": "code",
   "execution_count": null,
   "metadata": {},
   "outputs": [],
   "source": [
    "# playing with positining of legend\n",
    "\n",
    "alt.Chart(df).mark_point(filled=True).encode(\n",
    "    alt.X('fertility:Q', scale=alt.Scale(zero=False)),   # zero=False removes the zero based axis scaling\n",
    "    alt.Y('life_expect:Q', scale=alt.Scale(zero=False)),\n",
    "    alt.Size('pop:Q', \n",
    "             scale=alt.Scale(range=[0, 1500]),\n",
    "             legend=alt.Legend(orient='bottom', titleOrient='left')),\n",
    "    alt.Color('cluster:N',legend=None ),\n",
    "    alt.OpacityValue(0.8),\n",
    "    # alt.Shape('cluster:N'), \n",
    "    alt.Order('pop:Q', sort='descending'),\n",
    "    alt.Column('year:O'),\n",
    "    # alt.Row('cluster:N'),\n",
    "    alt.Tooltip('country:N'),\n",
    "\n",
    "       \n",
    ").properties(width=80, height=80)"
   ]
  },
  {
   "cell_type": "code",
   "execution_count": null,
   "metadata": {},
   "outputs": [],
   "source": [
    "# playing with positining of legend\n",
    "\n",
    "alt.Chart(df).mark_point(filled=True).encode(\n",
    "    alt.X('fertility:Q', scale=alt.Scale(zero=False)),   # zero=False removes the zero based axis scaling\n",
    "    alt.Y('life_expect:Q', scale=alt.Scale(zero=False)),\n",
    "    alt.Size('pop:Q', \n",
    "             scale=alt.Scale(range=[0, 1500]),\n",
    "             legend=alt.Legend(orient='bottom', titleOrient='left')),\n",
    "    alt.Color('cluster:N',legend=None ),\n",
    "    alt.OpacityValue(0.8),\n",
    "    # alt.Shape('cluster:N'), \n",
    "    alt.Order('pop:Q', sort='descending'),\n",
    "    alt.Column('cluster:N'),\n",
    "    # alt.Row('cluster:N'),\n",
    "    alt.Tooltip(['country:N', 'year:N']),\n",
    "\n",
    "       \n",
    ").properties(width=80, height=80)"
   ]
  },
  {
   "cell_type": "code",
   "execution_count": null,
   "metadata": {},
   "outputs": [],
   "source": [
    "# working with slider / selector\n",
    "yearslider = alt.selection_single(\n",
    "    name='select year',\n",
    "    fields=['year'],\n",
    "    init={'year': 1955},\n",
    "    bind=alt.binding_range(min=1955, max=2005, step=5)\n",
    ")\n",
    "\n",
    "\n",
    "alt.Chart(df).mark_point(filled=True).encode(\n",
    "    alt.X('fertility:Q', scale=alt.Scale(zero=False)),   # zero=False removes the zero based axis scaling\n",
    "    alt.Y('life_expect:Q', scale=alt.Scale(zero=False)),\n",
    "    alt.Size('pop:Q', \n",
    "             scale=alt.Scale(range=[0, 1200]),\n",
    "             legend=alt.Legend(orient='bottom', titleOrient='left')),\n",
    "    alt.Color('cluster:N',legend=None ),\n",
    "    alt.OpacityValue(0.4),\n",
    "    alt.Order('pop:Q', sort='descending'),\n",
    "    alt.Tooltip('country:N'),\n",
    "\n",
    ").add_selection(yearslider).transform_filter(yearslider)"
   ]
  },
  {
   "cell_type": "code",
   "execution_count": null,
   "metadata": {},
   "outputs": [],
   "source": [
    "# playing with different chart types\n",
    "\n",
    "alt.Chart(df.query(\"year == 2000\")).mark_point(filled=True, size=150).encode(\n",
    "    alt.X('fertility:Q'),   # zero=False removes the zero based axis scaling\n",
    "    alt.Y('life_expect:Q', scale=alt.Scale(zero=False)),\n",
    "    alt.Shape('cluster:N')\n",
    ")\n",
    "\n",
    "alt.Chart(df.query(\"year == 2000\")).mark_point(filled=False, size=150).encode(\n",
    "    alt.X('fertility:Q'),   # zero=False removes the zero based axis scaling\n",
    "    alt.Y('life_expect:Q', scale=alt.Scale(zero=False)),\n",
    "    alt.Shape('cluster:N')\n",
    ")\n",
    "\n",
    "alt.Chart(df.query(\"year == 2000\")).mark_square().encode(\n",
    "    alt.X('fertility:Q'),   # zero=False removes the zero based axis scaling\n",
    "    alt.Y('life_expect:Q', scale=alt.Scale(zero=False)),\n",
    "    alt.Shape('cluster:N')\n",
    ")"
   ]
  },
  {
   "cell_type": "code",
   "execution_count": null,
   "metadata": {},
   "outputs": [],
   "source": [
    "alt.Chart(df.query(\"year == 2000\")).mark_tick(color='magenta').encode(\n",
    "    alt.X('fertility:Q'),   # zero=False removes the zero based axis scaling\n",
    "    alt.Y('life_expect:Q', scale=alt.Scale(zero=False)),\n",
    "\n",
    ")"
   ]
  },
  {
   "cell_type": "code",
   "execution_count": null,
   "metadata": {},
   "outputs": [],
   "source": [
    "alt.Chart(df.query(\"year == 2000\")).mark_bar(color='lightblue').encode(\n",
    "    alt.X('country:N', sort='ascending'),\n",
    "    alt.Y('pop:Q'),\n",
    "\n",
    ").properties(width=900)"
   ]
  },
  {
   "cell_type": "code",
   "execution_count": null,
   "metadata": {},
   "outputs": [],
   "source": [
    "alt.Chart(df.query(\"year == 2000\")).mark_bar().encode(\n",
    "    alt.X('cluster:N', sort='ascending'),\n",
    "    alt.Y('pop:Q'),\n",
    "    alt.Color('country:N'),\n",
    "    tooltip='country:N'\n",
    "\n",
    ")"
   ]
  },
  {
   "cell_type": "code",
   "execution_count": null,
   "metadata": {},
   "outputs": [],
   "source": [
    "# playting with the option of not starting the bar from zero scale, but form the minimum value\n",
    "\n",
    "alt.Chart(df.query(\"year == 2000\")).mark_bar().encode(\n",
    "    alt.X('life_expect:Q', scale=alt.Scale(zero=False)),\n",
    "    alt.Y('cluster:N')\n",
    "    )"
   ]
  },
  {
   "cell_type": "code",
   "execution_count": null,
   "metadata": {},
   "outputs": [],
   "source": [
    "# playting with the option of not starting the bar from zero scale, but form the minimum value\n",
    "\n",
    "alt.Chart(df.query(\"year == 2000\")).mark_bar().encode(\n",
    "    alt.X('min(life_expect):Q'),\n",
    "    alt.X2('max(life_expect):Q'),\n",
    "    alt.Y('cluster:N')\n",
    "    )"
   ]
  },
  {
   "cell_type": "code",
   "execution_count": null,
   "metadata": {},
   "outputs": [],
   "source": [
    "# line\n",
    "\n",
    "alt.Chart(df).mark_line().encode(\n",
    "    alt.X('year:O'),\n",
    "    alt.Y('fertility:Q'),\n",
    "    \n",
    "    )"
   ]
  },
  {
   "cell_type": "code",
   "execution_count": null,
   "metadata": {},
   "outputs": [],
   "source": [
    "# line\n",
    "\n",
    "alt.Chart(df).mark_line().encode(\n",
    "    alt.X('year:O'),\n",
    "    alt.Y('fertility:Q'),\n",
    "    alt.Color('country:N'),\n",
    "    tooltip='country:N'\n",
    "    \n",
    "        ).properties(\n",
    "            width=500\n",
    "        )"
   ]
  },
  {
   "cell_type": "code",
   "execution_count": null,
   "metadata": {},
   "outputs": [],
   "source": [
    "# line\n",
    "\n",
    "alt.Chart(df).mark_line(strokeWidth=3).encode(\n",
    "    alt.X('year:O'),\n",
    "    alt.Y('fertility:Q'),\n",
    "    alt.Color('country:N'),\n",
    "    tooltip='country:N'\n",
    "    \n",
    "        ).properties(\n",
    "            width=500\n",
    "        )"
   ]
  },
  {
   "cell_type": "code",
   "execution_count": null,
   "metadata": {},
   "outputs": [],
   "source": [
    "# smoothing the line, interpolating data\n",
    "\n",
    "alt.Chart(df).mark_line(strokeWidth=3,\n",
    "                        interpolate='monotone').encode(\n",
    "    alt.X('year:O'),\n",
    "    alt.Y('fertility:Q'),\n",
    "    alt.Color('country:N'),\n",
    "    tooltip='country:N'\n",
    "    \n",
    "        ).properties(\n",
    "            width=500\n",
    "        )"
   ]
  },
  {
   "cell_type": "code",
   "execution_count": null,
   "metadata": {},
   "outputs": [],
   "source": [
    "# compater only two years\n",
    "\n",
    "alt.Chart(df.query('year == 1955 | year == 2005')).mark_line().encode(\n",
    "    alt.X('year:O'),\n",
    "    alt.Y('fertility:Q'),\n",
    "    alt.Color('country:N'),\n",
    "    tooltip='country:N'\n",
    "    \n",
    "        ).properties(\n",
    "            width=400\n",
    "        )"
   ]
  },
  {
   "cell_type": "code",
   "execution_count": null,
   "metadata": {},
   "outputs": [],
   "source": [
    "# compater only two years\n",
    "\n",
    "alt.Chart(df.query('year == 1955 | year == 2005')).mark_line().encode(\n",
    "    alt.X('year:O'),\n",
    "    alt.Y('fertility:Q'),\n",
    "    alt.Color('country:N'),\n",
    "    tooltip='country:N'\n",
    "    \n",
    "        ).properties(\n",
    "            width={'step':300}\n",
    "        )"
   ]
  },
  {
   "cell_type": "code",
   "execution_count": null,
   "metadata": {},
   "outputs": [],
   "source": [
    "indonesia = df.query('country == \"Indonesia\"')\n",
    "indonesia.shape"
   ]
  },
  {
   "cell_type": "code",
   "execution_count": null,
   "metadata": {},
   "outputs": [],
   "source": [
    "alt.Chart(indonesia).mark_area(\n",
    "    interpolate='monotone'        # smoothes out the line on the chart\n",
    "    ).encode(\n",
    "    alt.X('year:O'),\n",
    "    alt.Y('fertility:Q')\n",
    "       \n",
    ")"
   ]
  },
  {
   "cell_type": "code",
   "execution_count": null,
   "metadata": {},
   "outputs": [],
   "source": [
    "alt.Chart(df).mark_area(\n",
    "    interpolate='monotone'        # smoothes out the line on the chart\n",
    "    ).encode(\n",
    "    alt.X('year:O'),\n",
    "    alt.Y('fertility:Q'),\n",
    "    alt.Color('country:N')\n",
    "       \n",
    ")"
   ]
  },
  {
   "cell_type": "code",
   "execution_count": null,
   "metadata": {},
   "outputs": [],
   "source": [
    "cluster4 = df.query('cluster == 4')\n",
    "\n",
    "alt.Chart(cluster4).mark_area(\n",
    "    interpolate='monotone'        # smoothes out the line on the chart\n",
    "    ).encode(\n",
    "    alt.X('year:O'),\n",
    "    alt.Y('fertility:Q'),\n",
    "    alt.Color('country:N')\n",
    "       \n",
    ")"
   ]
  },
  {
   "cell_type": "code",
   "execution_count": null,
   "metadata": {},
   "outputs": [],
   "source": [
    "cluster4 = df.query('cluster == 4')\n",
    "\n",
    "alt.Chart(cluster4).mark_area(\n",
    "    interpolate='monotone'        # smoothes out the line on the chart\n",
    "    ).encode(\n",
    "    alt.X('year:O'),\n",
    "    alt.Y('fertility:Q', stack='center'),\n",
    "    alt.Color('country:N')\n",
    "       \n",
    ")"
   ]
  },
  {
   "cell_type": "code",
   "execution_count": null,
   "metadata": {},
   "outputs": [],
   "source": [
    "# we can normalize our data in the viz\n",
    "cluster4 = df.query('cluster == 4')\n",
    "\n",
    "alt.Chart(cluster4).mark_area(\n",
    "    interpolate='monotone'        # smoothes out the line on the chart\n",
    "    ).encode(\n",
    "    alt.X('year:O'),\n",
    "    alt.Y('fertility:Q', stack='normalize'),\n",
    "    alt.Color('country:N')\n",
    "       \n",
    ")"
   ]
  },
  {
   "cell_type": "code",
   "execution_count": null,
   "metadata": {},
   "outputs": [],
   "source": [
    "# we can normalize our data in the viz\n",
    "cluster4 = df.query('cluster == 4')\n",
    "\n",
    "alt.Chart(cluster4).mark_area(\n",
    "    interpolate='monotone'        # smoothes out the line on the chart\n",
    "    ).encode(\n",
    "    alt.X('year:O'),\n",
    "    alt.Y('min(fertility):Q'),\n",
    "    alt.Y2('max(fertility):Q')\n",
    "\n",
    "       \n",
    ")"
   ]
  },
  {
   "cell_type": "code",
   "execution_count": null,
   "metadata": {},
   "outputs": [],
   "source": []
  },
  {
   "cell_type": "code",
   "execution_count": null,
   "metadata": {},
   "outputs": [],
   "source": []
  },
  {
   "cell_type": "code",
   "execution_count": null,
   "metadata": {},
   "outputs": [],
   "source": []
  }
 ],
 "metadata": {
  "kernelspec": {
   "display_name": "Python 3 (ipykernel)",
   "language": "python",
   "name": "python3"
  },
  "language_info": {
   "codemirror_mode": {
    "name": "ipython",
    "version": 3
   },
   "file_extension": ".py",
   "mimetype": "text/x-python",
   "name": "python",
   "nbconvert_exporter": "python",
   "pygments_lexer": "ipython3",
   "version": "3.9.7"
  },
  "vscode": {
   "interpreter": {
    "hash": "81794d4967e6c3204c66dcd87b604927b115b27c00565d3d43f05ba2f3a2cb0d"
   }
  }
 },
 "nbformat": 4,
 "nbformat_minor": 4
}
