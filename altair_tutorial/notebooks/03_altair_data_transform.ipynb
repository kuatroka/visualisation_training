{
 "cells": [
  {
   "cell_type": "code",
   "execution_count": null,
   "id": "023b99b0-ea62-46b7-bfa9-ca0583324f94",
   "metadata": {
    "tags": []
   },
   "outputs": [],
   "source": [
    "import pandas as pd\n",
    "import altair as alt\n",
    "from vega_datasets import data"
   ]
  },
  {
   "cell_type": "code",
   "execution_count": null,
   "id": "240bc84c-8d90-4bf3-929b-157f77a05ab1",
   "metadata": {
    "tags": []
   },
   "outputs": [],
   "source": [
    "movies_url = data.movies.url\n",
    "movies = pd.read_json(movies_url)\n",
    "movies.shape\n",
    "movies.Release_Date.min(), movies.Release_Date.max()\n",
    "movies['Release_Date']  = pd.to_datetime(movies.Release_Date)\n",
    "movies.Release_Date.min(), movies.Release_Date.max()\n"
   ]
  },
  {
   "cell_type": "code",
   "execution_count": null,
   "id": "4dcf67eb-0d73-43b9-9075-5559cc412677",
   "metadata": {
    "tags": []
   },
   "outputs": [],
   "source": [
    "movies.head(); movies.query('Release_Date > \"2020\" ').head()"
   ]
  },
  {
   "cell_type": "code",
   "execution_count": null,
   "id": "cd7a640d-e5c3-46e3-9b35-50677e8e020b",
   "metadata": {
    "tags": []
   },
   "outputs": [],
   "source": [
    "%%time\n",
    "alt.Chart(movies_url).mark_circle().encode(\n",
    "alt.X('IMDB_Rating:Q'),\n",
    "alt.Y('Rotten_Tomatoes_Rating:Q')\n",
    ")\n",
    "pd.to_datetime()\n"
   ]
  },
  {
   "cell_type": "code",
   "execution_count": null,
   "id": "14c9f690-47a6-484b-a319-a4e4871bfcb2",
   "metadata": {
    "tags": []
   },
   "outputs": [],
   "source": [
    "%%time\n",
    "median = alt.Chart(movies_url).mark_bar().encode(\n",
    "    alt.X('median(Rotten_Tomatoes_Rating):Q'),\n",
    "    alt.Y('Major_Genre:N'),\n",
    ")\n",
    "\n",
    "mean = alt.Chart(movies_url).mark_bar().encode(\n",
    "    alt.X('mean(Rotten_Tomatoes_Rating):Q'),\n",
    "    alt.Y('Major_Genre:N'),\n",
    ")\n",
    "mean & median\n"
   ]
  },
  {
   "cell_type": "code",
   "execution_count": null,
   "id": "ae7710ab-798f-4d58-b406-156750ad46ea",
   "metadata": {
    "tags": []
   },
   "outputs": [],
   "source": [
    "alt.Chart(movies_url).mark_bar().encode(\n",
    "    alt.X('mean(Rotten_Tomatoes_Rating):Q'),\n",
    "    alt.Y('Major_Genre:N'),\n",
    ")"
   ]
  },
  {
   "cell_type": "code",
   "execution_count": null,
   "id": "3d325561-34de-41e9-9909-2ef2e47965ee",
   "metadata": {
    "tags": []
   },
   "outputs": [],
   "source": [
    "alt.Chart(movies_url).mark_bar().encode(    \n",
    "    alt.X('Major_Genre:N'),\n",
    "    # alt.Y('max(Production_Budget):Q'),\n",
    "    alt.Y(field='Production_Budget', aggregate='mean', type='quantitative'),\n",
    "    tooltip = 'min(Production_Budget):Q'\n",
    ")\n"
   ]
  },
  {
   "cell_type": "code",
   "execution_count": null,
   "id": "4b4b780b",
   "metadata": {},
   "outputs": [],
   "source": [
    "!jt -l\n"
   ]
  },
  {
   "cell_type": "code",
   "execution_count": null,
   "id": "4f099f01",
   "metadata": {},
   "outputs": [],
   "source": [
    "# !jt -t gruvboxd -T\n",
    "# !jt -t onedork -T\n",
    "\n"
   ]
  },
  {
   "cell_type": "code",
   "execution_count": null,
   "id": "8f1e61a2-c74f-4331-8c7d-99853ead14d6",
   "metadata": {
    "tags": []
   },
   "outputs": [],
   "source": [
    "alt.Chart(movies).mark_bar().encode(\n",
    "    alt.X('Major_Genre:N'),\n",
    "    alt.Y('max_budget:Q'),\n",
    "\n",
    "    tooltip='max_budget:Q'\n",
    ").transform_aggregate(\n",
    "    max_budget = 'max(Production_Budget)',\n",
    "    groupby=['Major_Genre'])"
   ]
  },
  {
   "cell_type": "code",
   "execution_count": null,
   "id": "035b04c2-5250-4073-9a9c-e9f17ae0948e",
   "metadata": {
    "tags": []
   },
   "outputs": [],
   "source": [
    "sort_criteria = alt.EncodingSortField(\n",
    "        op='mean',\n",
    "        field='Rotten_Tomatoes_Rating',\n",
    "        order='descending'\n",
    "        )\n",
    "\n",
    "alt.Chart(movies).mark_bar().encode(\n",
    "    alt.X('mean(Rotten_Tomatoes_Rating):Q'),\n",
    "    alt.Y('Major_Genre:N', sort=sort_criteria),\n",
    "    \n",
    "\n",
    ")"
   ]
  },
  {
   "cell_type": "code",
   "execution_count": null,
   "id": "8c49d3d0-2c82-4028-b7c0-88cc03827cb7",
   "metadata": {
    "tags": []
   },
   "outputs": [],
   "source": [
    "sort_criteria = alt.EncodingSortField(\n",
    "        op='median',\n",
    "        field='Rotten_Tomatoes_Rating',\n",
    "        order='descending'\n",
    "        )\n",
    "\n",
    "alt.Chart(movies).mark_bar().encode(\n",
    "    alt.X('median(Rotten_Tomatoes_Rating):Q'),\n",
    "    alt.Y('Major_Genre:N', sort=sort_criteria),\n",
    "    )"
   ]
  },
  {
   "cell_type": "code",
   "execution_count": null,
   "id": "91fed26a-bdd1-41f9-aa9c-86362418a274",
   "metadata": {
    "tags": []
   },
   "outputs": [],
   "source": [
    "x = [1, 3, 39, 7, 4, 5]\n",
    "import statistics\n",
    "statistics.median(x), statistics.mean(x)"
   ]
  },
  {
   "cell_type": "code",
   "execution_count": null,
   "id": "08ce7a5c-c780-4876-b1f5-61f5b4a56edb",
   "metadata": {
    "tags": []
   },
   "outputs": [],
   "source": [
    "# IQR: Inter Quartile Range\n",
    "sort_criteria = alt.EncodingSortField(\n",
    "        op='median', field='Rotten_Tomatoes_Rating', order='descending')\n",
    "alt.Chart(movies).mark_bar().encode(\n",
    "    alt.X('q1(Rotten_Tomatoes_Rating):Q'),\n",
    "    alt.X2('q3(Rotten_Tomatoes_Rating):Q'),\n",
    "    alt.Y('Major_Genre:N', sort=sort_criteria),\n",
    "    )"
   ]
  },
  {
   "cell_type": "code",
   "execution_count": null,
   "id": "201fffb1-9a0d-4478-9da8-18c4c408fea5",
   "metadata": {
    "tags": []
   },
   "outputs": [],
   "source": [
    "\n",
    "alt.Chart(movies).mark_point(filled=True).encode(\n",
    "    alt.X('Rotten_Tomatoes_Rating:Q'),\n",
    "    alt.Y('IMDB_Rating:Q'),\n",
    "    )"
   ]
  },
  {
   "cell_type": "markdown",
   "id": "65c7b8f0-eda4-4ebd-a0f9-0a2ede9dba19",
   "metadata": {
    "tags": []
   },
   "source": [
    "### Bin Transform"
   ]
  },
  {
   "cell_type": "code",
   "execution_count": null,
   "id": "314d4293-48bb-46bb-9d59-09d09bd51537",
   "metadata": {
    "tags": []
   },
   "outputs": [],
   "source": [
    "\n",
    "alt.Chart(movies).mark_point(filled=True).encode(\n",
    "    alt.X('Rotten_Tomatoes_Rating:Q', bin=True),\n",
    "    alt.Y('IMDB_Rating:Q'),\n",
    "    )"
   ]
  },
  {
   "cell_type": "code",
   "execution_count": null,
   "id": "ae9271d4-73e2-4b75-8b3c-77f58e03ae38",
   "metadata": {
    "tags": []
   },
   "outputs": [],
   "source": [
    "\n",
    "alt.Chart(movies).mark_point(filled=True).encode(\n",
    "    alt.X('Rotten_Tomatoes_Rating:Q', bin=alt.BinParams(maxbins=20)),\n",
    "    alt.Y('IMDB_Rating:Q'),\n",
    "    )"
   ]
  },
  {
   "cell_type": "code",
   "execution_count": null,
   "id": "b8bae363-5203-452f-8510-15b91de48df1",
   "metadata": {
    "tags": []
   },
   "outputs": [],
   "source": [
    "\n",
    "alt.Chart(movies).mark_point(filled=True).encode(\n",
    "    alt.X('Rotten_Tomatoes_Rating:Q', bin=alt.BinParams(maxbins=20)),\n",
    "    alt.Y('count(Rotten_Tomatoes_Rating):Q'),\n",
    "    )"
   ]
  },
  {
   "cell_type": "code",
   "execution_count": null,
   "id": "1ed49a54-414e-434a-9f67-0d6476cf881b",
   "metadata": {
    "tags": []
   },
   "outputs": [],
   "source": [
    "\n",
    "alt.Chart(movies).mark_bar(filled=True).encode(\n",
    "    alt.X('Rotten_Tomatoes_Rating:Q', bin=alt.BinParams(maxbins=20)),\n",
    "    alt.Y('count(Rotten_Tomatoes_Rating):Q'),\n",
    "    )"
   ]
  },
  {
   "cell_type": "code",
   "execution_count": null,
   "id": "b82d1f0f-e489-4fb0-a875-d5a54c4624f0",
   "metadata": {
    "tags": []
   },
   "outputs": [],
   "source": [
    "\n",
    "alt.Chart(movies).mark_bar(filled=True).encode(\n",
    "    alt.X('IMDB_Rating:Q', bin=alt.BinParams(maxbins=20)),\n",
    "    alt.Y('count(Rotten_Tomatoes_Rating):Q'),\n",
    "    )"
   ]
  },
  {
   "cell_type": "code",
   "execution_count": null,
   "id": "8e5acc30-c9fc-4ed2-bca5-47c57f78d0bf",
   "metadata": {
    "tags": []
   },
   "outputs": [],
   "source": [
    "\n",
    "alt.Chart(movies).mark_point(filled=False).encode(\n",
    "    alt.X('IMDB_Rating:Q', bin=alt.BinParams(maxbins=20)),\n",
    "    alt.Y('Rotten_Tomatoes_Rating:Q', bin=alt.BinParams(maxbins=20)),\n",
    "    )"
   ]
  },
  {
   "cell_type": "code",
   "execution_count": null,
   "id": "ceff0f78-4129-4508-9510-8d027fae0abe",
   "metadata": {
    "tags": []
   },
   "outputs": [],
   "source": [
    "\n",
    "alt.Chart(movies).mark_circle().encode(\n",
    "    alt.X('IMDB_Rating:Q', bin=alt.BinParams(maxbins=20)),\n",
    "    alt.Y('Rotten_Tomatoes_Rating:Q', bin=alt.BinParams(maxbins=20)),\n",
    "    alt.Size('count()')\n",
    "    )"
   ]
  },
  {
   "cell_type": "code",
   "execution_count": null,
   "id": "910b4212-7dd9-4601-bcd7-5daa38ddf64f",
   "metadata": {
    "tags": []
   },
   "outputs": [],
   "source": [
    "\n",
    "alt.Chart(movies).mark_point(filled=False).encode(\n",
    "    alt.X('IMDB_Rating:Q', bin=alt.BinParams(maxbins=20)),\n",
    "    alt.Y('Rotten_Tomatoes_Rating:Q', bin=alt.BinParams(maxbins=20)),\n",
    "    alt.Size('count()')\n",
    "    )"
   ]
  },
  {
   "cell_type": "code",
   "execution_count": null,
   "id": "9ef9f227-ef66-463e-9875-0d28525c9b9d",
   "metadata": {
    "tags": []
   },
   "outputs": [],
   "source": [
    "\n",
    "alt.Chart(movies).mark_circle().encode(\n",
    "    alt.X('IMDB_Rating:Q', bin=alt.BinParams(maxbins=20)),\n",
    "    alt.Y('Rotten_Tomatoes_Rating:Q', bin=alt.BinParams(maxbins=20)),\n",
    "    alt.Color('count()')\n",
    "    )"
   ]
  },
  {
   "cell_type": "code",
   "execution_count": null,
   "id": "9c212934-c49c-44e0-b5d0-942d323067db",
   "metadata": {
    "tags": []
   },
   "outputs": [],
   "source": [
    "\n",
    "alt.Chart(movies).mark_bar().encode(\n",
    "    alt.X('IMDB_Rating:Q', bin=alt.BinParams(maxbins=20)),\n",
    "    alt.Y('Rotten_Tomatoes_Rating:Q', bin=alt.BinParams(maxbins=20)),\n",
    "    alt.Color('count()')\n",
    "    )"
   ]
  },
  {
   "cell_type": "markdown",
   "id": "48cca45b-62e2-477e-83df-000e5b023e4b",
   "metadata": {
    "tags": []
   },
   "source": [
    "### TimeUnit Transform"
   ]
  },
  {
   "cell_type": "code",
   "execution_count": null,
   "id": "436b86b4-09eb-42cc-be0e-4737ff469f6b",
   "metadata": {
    "tags": []
   },
   "outputs": [],
   "source": [
    "alt.Chart(movies).mark_area().encode(\n",
    "        alt.X('month(Release_Date):T'),\n",
    "        alt.Y('median(US_Gross):Q')\n",
    "\n",
    ")"
   ]
  },
  {
   "cell_type": "code",
   "execution_count": null,
   "id": "4e35f7fd-0fc9-4250-8fae-b884454d48e1",
   "metadata": {
    "tags": []
   },
   "outputs": [],
   "source": [
    "alt.Chart(movies).mark_area().encode(\n",
    "        alt.X('yearquarter(Release_Date):T'),\n",
    "        alt.Y('median(US_Gross):Q'),\n",
    "        tooltip='year(Release_Date)'\n",
    "\n",
    ")"
   ]
  },
  {
   "cell_type": "code",
   "execution_count": null,
   "id": "016d2708-8a74-4071-826a-2c4b7bdf2613",
   "metadata": {
    "tags": []
   },
   "outputs": [],
   "source": [
    "alt.Chart(movies).mark_area().encode(\n",
    "        alt.X('year(Release_Date):T'),\n",
    "        alt.Y('median(US_Gross):Q')\n",
    "\n",
    ")"
   ]
  },
  {
   "cell_type": "markdown",
   "id": "720832b2-3ee3-4dce-b6f1-3d48860e701e",
   "metadata": {},
   "source": [
    "### Calculate Transform\n",
    "Create a new column based on come calculation on existing columns"
   ]
  },
  {
   "cell_type": "code",
   "execution_count": null,
   "id": "454243ea-690b-4359-97ee-b692a3850cb3",
   "metadata": {
    "tags": []
   },
   "outputs": [],
   "source": [
    "# Create a new calculated column to represent the World wide Gross minus the US Gross revenue\n",
    "alt.Chart(movies).mark_area().encode(\n",
    "        alt.X('month(Release_Date):T'),\n",
    "        alt.Y('median(NonUS_Gross):Q')).transform_calculate(\n",
    "        \n",
    "        NonUS_Gross = 'datum.Worldwide_Gross - datum.US_Gross',\n",
    "        NonUS_Gross2 = '(datum.Worldwide_Gross - datum.US_Gross) * 2'\n",
    ") "
   ]
  },
  {
   "cell_type": "code",
   "execution_count": null,
   "id": "778f190b-c768-4363-97a1-9aa327050f4a",
   "metadata": {
    "tags": []
   },
   "outputs": [],
   "source": [
    "# Using a calculated colulmn to filter data out\n",
    "\n",
    "alt.Chart(movies).mark_circle().encode(\n",
    "    alt.X('IMDB_Rating:Q', bin=alt.BinParams(maxbins=20)),\n",
    "    alt.Y('Rotten_Tomatoes_Rating:Q', bin=alt.BinParams(maxbins=20)),\n",
    "    alt.Size('count()')\n",
    "    ).transform_filter('datum.Major_Genre == \"Horror\"')"
   ]
  },
  {
   "cell_type": "code",
   "execution_count": null,
   "id": "37bfdf64-5dcf-47c8-a3f7-1c2c64c60b42",
   "metadata": {
    "tags": []
   },
   "outputs": [],
   "source": [
    "# Using a calculated colulmn to filter data out\n",
    "\n",
    "alt.Chart(movies).mark_circle().encode(\n",
    "    alt.X('IMDB_Rating:Q', bin=alt.BinParams(maxbins=20)),\n",
    "    alt.Y('Rotten_Tomatoes_Rating:Q', bin=alt.BinParams(maxbins=20)),\n",
    "    alt.Size('count()')\n",
    "    ).transform_filter('datum.Release_Date > \"2023\"') # without using altair, but we can also use year(datum.Release_Date)"
   ]
  },
  {
   "cell_type": "code",
   "execution_count": null,
   "id": "fbe52a67-fbea-4a37-afd8-8d0eaf5d7f59",
   "metadata": {
    "tags": []
   },
   "outputs": [],
   "source": [
    "# Using a calculated colulmn to filter data out\n",
    "\n",
    "alt.Chart(movies).mark_circle().encode(\n",
    "    alt.X('IMDB_Rating:Q', bin=alt.BinParams(maxbins=20)),\n",
    "    alt.Y('Rotten_Tomatoes_Rating:Q', bin=alt.BinParams(maxbins=20)),\n",
    "    alt.Size('count()')\n",
    "    ).transform_filter('year(datum.Release_Date) < 2023'). \\\n",
    "      transform_filter('datum.Production_Budget < 1000000')"
   ]
  },
  {
   "cell_type": "code",
   "execution_count": null,
   "id": "c8476f94-710a-41a2-9d9c-279e0a3fa135",
   "metadata": {
    "tags": []
   },
   "outputs": [],
   "source": [
    "# multiple filter conditions = version 2\n",
    "\n",
    "alt.Chart(movies).mark_circle().encode(\n",
    "    # alt.X('IMDB_Rating:Q', bin=alt.BinParams(maxbins=20)),\n",
    "    alt.X(field='IMDB_Rating', type='quantitative', bin={'maxbins':20}),\n",
    "    alt.Y('Rotten_Tomatoes_Rating:Q', bin=alt.BinParams(maxbins=20)),\n",
    "    alt.Size('count()')\n",
    "    ).transform_filter(\n",
    "        (alt.datum.Production_Budget < 10000000) &\n",
    "        (alt.datum.Major_Genre == 'Drama')\n",
    "        )"
   ]
  },
  {
   "cell_type": "code",
   "execution_count": null,
   "id": "96732517-1121-4f97-9544-faf822b97925",
   "metadata": {
    "tags": []
   },
   "outputs": [],
   "source": [
    "alt.X('IMDB_Rating:Q', bin=alt.BinParams(maxbins=20)).to_json()"
   ]
  },
  {
   "cell_type": "code",
   "execution_count": null,
   "id": "316b6977-1af7-4d67-972a-f6c583ec14b5",
   "metadata": {
    "tags": []
   },
   "outputs": [],
   "source": [
    "movies.sample(4)\n",
    "\n"
   ]
  },
  {
   "cell_type": "markdown",
   "id": "96ba00d2-f473-49a1-8401-4034c7ca391e",
   "metadata": {
    "execution": {
     "iopub.execute_input": "2022-11-30T21:11:35.542361Z",
     "iopub.status.busy": "2022-11-30T21:11:35.542361Z",
     "iopub.status.idle": "2022-11-30T21:11:35.551364Z",
     "shell.execute_reply": "2022-11-30T21:11:35.551364Z",
     "shell.execute_reply.started": "2022-11-30T21:11:35.542361Z"
    },
    "tags": []
   },
   "source": [
    "## Section 1 "
   ]
  },
  {
   "cell_type": "markdown",
   "id": "518834ca-90d2-4a6e-8e37-7958ef291e80",
   "metadata": {
    "execution": {
     "iopub.execute_input": "2022-11-30T21:52:48.450905Z",
     "iopub.status.busy": "2022-11-30T21:52:48.450905Z",
     "iopub.status.idle": "2022-11-30T21:52:48.457945Z",
     "shell.execute_reply": "2022-11-30T21:52:48.456906Z",
     "shell.execute_reply.started": "2022-11-30T21:52:48.450905Z"
    }
   },
   "source": [
    "### Subsection 1.1"
   ]
  },
  {
   "cell_type": "markdown",
   "id": "b8011e7a-83b6-474d-bdc2-0630c44dccc0",
   "metadata": {
    "execution": {
     "iopub.execute_input": "2022-11-30T21:52:48.450905Z",
     "iopub.status.busy": "2022-11-30T21:52:48.450905Z",
     "iopub.status.idle": "2022-11-30T21:52:48.457945Z",
     "shell.execute_reply": "2022-11-30T21:52:48.456906Z",
     "shell.execute_reply.started": "2022-11-30T21:52:48.450905Z"
    }
   },
   "source": [
    "### Subsection 1.2"
   ]
  },
  {
   "cell_type": "markdown",
   "id": "9dde1745-aa8c-4229-9f20-72e7cd68c674",
   "metadata": {
    "execution": {
     "iopub.execute_input": "2022-11-30T21:52:48.450905Z",
     "iopub.status.busy": "2022-11-30T21:52:48.450905Z",
     "iopub.status.idle": "2022-11-30T21:52:48.457945Z",
     "shell.execute_reply": "2022-11-30T21:52:48.456906Z",
     "shell.execute_reply.started": "2022-11-30T21:52:48.450905Z"
    }
   },
   "source": [
    "### 👺 Subsection 1.3"
   ]
  },
  {
   "cell_type": "markdown",
   "id": "d05d03da-7601-4241-8e0c-fd078913d306",
   "metadata": {
    "execution": {
     "iopub.execute_input": "2022-11-30T21:52:48.450905Z",
     "iopub.status.busy": "2022-11-30T21:52:48.450905Z",
     "iopub.status.idle": "2022-11-30T21:52:48.457945Z",
     "shell.execute_reply": "2022-11-30T21:52:48.456906Z",
     "shell.execute_reply.started": "2022-11-30T21:52:48.450905Z"
    }
   },
   "source": [
    "## Section 2"
   ]
  },
  {
   "cell_type": "markdown",
   "id": "a4757909-adbf-497b-9928-0bb5aca9e662",
   "metadata": {
    "execution": {
     "iopub.execute_input": "2022-11-30T21:52:48.450905Z",
     "iopub.status.busy": "2022-11-30T21:52:48.450905Z",
     "iopub.status.idle": "2022-11-30T21:52:48.457945Z",
     "shell.execute_reply": "2022-11-30T21:52:48.456906Z",
     "shell.execute_reply.started": "2022-11-30T21:52:48.450905Z"
    }
   },
   "source": [
    "### Subsection 2.1"
   ]
  },
  {
   "cell_type": "markdown",
   "id": "ac0b9d33-c572-45ab-bfbd-9a0f39aa372b",
   "metadata": {
    "execution": {
     "iopub.execute_input": "2022-11-30T21:52:48.450905Z",
     "iopub.status.busy": "2022-11-30T21:52:48.450905Z",
     "iopub.status.idle": "2022-11-30T21:52:48.457945Z",
     "shell.execute_reply": "2022-11-30T21:52:48.456906Z",
     "shell.execute_reply.started": "2022-11-30T21:52:48.450905Z"
    }
   },
   "source": [
    "### Subsection 2.2"
   ]
  },
  {
   "cell_type": "code",
   "execution_count": null,
   "id": "2e335b55-de16-4523-bfee-2a861030bd0b",
   "metadata": {},
   "outputs": [],
   "source": []
  }
 ],
 "metadata": {
  "kernelspec": {
   "display_name": "Python 3 (ipykernel)",
   "language": "python",
   "name": "python3"
  },
  "language_info": {
   "codemirror_mode": {
    "name": "ipython",
    "version": 3
   },
   "file_extension": ".py",
   "mimetype": "text/x-python",
   "name": "python",
   "nbconvert_exporter": "python",
   "pygments_lexer": "ipython3",
   "version": "3.9.7"
  }
 },
 "nbformat": 4,
 "nbformat_minor": 5
}
