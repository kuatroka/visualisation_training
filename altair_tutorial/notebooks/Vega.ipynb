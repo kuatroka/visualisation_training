{
 "cells": [
  {
   "cell_type": "code",
   "execution_count": 25,
   "metadata": {
    "tags": []
   },
   "outputs": [
    {
     "data": {
      "application/javascript": [
       "(function(root) {\n",
       "  function now() {\n",
       "    return new Date();\n",
       "  }\n",
       "\n",
       "  var force = true;\n",
       "\n",
       "  if (typeof root._bokeh_onload_callbacks === \"undefined\" || force === true) {\n",
       "    root._bokeh_onload_callbacks = [];\n",
       "    root._bokeh_is_loading = undefined;\n",
       "  }\n",
       "\n",
       "  if (typeof (root._bokeh_timeout) === \"undefined\" || force === true) {\n",
       "    root._bokeh_timeout = Date.now() + 5000;\n",
       "    root._bokeh_failed_load = false;\n",
       "  }\n",
       "\n",
       "  function run_callbacks() {\n",
       "    try {\n",
       "      root._bokeh_onload_callbacks.forEach(function(callback) {\n",
       "        if (callback != null)\n",
       "          callback();\n",
       "      });\n",
       "    } finally {\n",
       "      delete root._bokeh_onload_callbacks\n",
       "    }\n",
       "    console.debug(\"Bokeh: all callbacks have finished\");\n",
       "  }\n",
       "\n",
       "  function load_libs(css_urls, js_urls, js_modules, callback) {\n",
       "    if (css_urls == null) css_urls = [];\n",
       "    if (js_urls == null) js_urls = [];\n",
       "    if (js_modules == null) js_modules = [];\n",
       "\n",
       "    root._bokeh_onload_callbacks.push(callback);\n",
       "    if (root._bokeh_is_loading > 0) {\n",
       "      console.debug(\"Bokeh: BokehJS is being loaded, scheduling callback at\", now());\n",
       "      return null;\n",
       "    }\n",
       "    if (js_urls.length === 0 && js_modules.length === 0) {\n",
       "      run_callbacks();\n",
       "      return null;\n",
       "    }\n",
       "    console.debug(\"Bokeh: BokehJS not loaded, scheduling load and callback at\", now());\n",
       "\n",
       "    function on_load() {\n",
       "      root._bokeh_is_loading--;\n",
       "      if (root._bokeh_is_loading === 0) {\n",
       "        console.debug(\"Bokeh: all BokehJS libraries/stylesheets loaded\");\n",
       "        run_callbacks()\n",
       "      }\n",
       "    }\n",
       "\n",
       "    function on_error() {\n",
       "      console.error(\"failed to load \" + url);\n",
       "    }\n",
       "\n",
       "    for (var i = 0; i < css_urls.length; i++) {\n",
       "      var url = css_urls[i];\n",
       "      const element = document.createElement(\"link\");\n",
       "      element.onload = on_load;\n",
       "      element.onerror = on_error;\n",
       "      element.rel = \"stylesheet\";\n",
       "      element.type = \"text/css\";\n",
       "      element.href = url;\n",
       "      console.debug(\"Bokeh: injecting link tag for BokehJS stylesheet: \", url);\n",
       "      document.body.appendChild(element);\n",
       "    }\n",
       "\n",
       "    var skip = [];\n",
       "    if (window.requirejs) {\n",
       "      window.requirejs.config({'packages': {}, 'paths': {'vega-embed': 'https://cdn.jsdelivr.net/npm/vega-embed@6/build/vega-embed.min', 'vega-lite': 'https://cdn.jsdelivr.net/npm/vega-lite@5/build/vega-lite.min', 'vega': 'https://cdn.jsdelivr.net/npm/vega@5/build/vega.min', 'gridstack': 'https://cdn.jsdelivr.net/npm/gridstack@4.2.5/dist/gridstack-h5', 'notyf': 'https://cdn.jsdelivr.net/npm/notyf@3/notyf.min'}, 'shim': {'gridstack': {'exports': 'GridStack'}}});\n",
       "      require([\"vega-embed\"], function(vegaEmbed) {\n",
       "\twindow.vegaEmbed = vegaEmbed\n",
       "\ton_load()\n",
       "      })\n",
       "      require([\"vega-lite\"], function(vl) {\n",
       "\twindow.vl = vl\n",
       "\ton_load()\n",
       "      })\n",
       "      require([\"vega\"], function(vega) {\n",
       "\twindow.vega = vega\n",
       "\ton_load()\n",
       "      })\n",
       "      require([\"gridstack\"], function(GridStack) {\n",
       "\twindow.GridStack = GridStack\n",
       "\ton_load()\n",
       "      })\n",
       "      require([\"notyf\"], function() {\n",
       "\ton_load()\n",
       "      })\n",
       "      root._bokeh_is_loading = css_urls.length + 5;\n",
       "    } else {\n",
       "      root._bokeh_is_loading = css_urls.length + js_urls.length + js_modules.length;\n",
       "    }    if (((window['vega'] !== undefined) && (!(window['vega'] instanceof HTMLElement))) || window.requirejs) {\n",
       "      var urls = ['https://cdn.holoviz.org/panel/0.14.3/dist/bundled/vegaplot/vega@5'];\n",
       "      for (var i = 0; i < urls.length; i++) {\n",
       "        skip.push(urls[i])\n",
       "      }\n",
       "    }    if (((window['vegaLite'] !== undefined) && (!(window['vegaLite'] instanceof HTMLElement))) || window.requirejs) {\n",
       "      var urls = ['https://cdn.holoviz.org/panel/0.14.3/dist/bundled/vegaplot/vega-lite@5'];\n",
       "      for (var i = 0; i < urls.length; i++) {\n",
       "        skip.push(urls[i])\n",
       "      }\n",
       "    }    if (((window['vegaEmbed'] !== undefined) && (!(window['vegaEmbed'] instanceof HTMLElement))) || window.requirejs) {\n",
       "      var urls = ['https://cdn.holoviz.org/panel/0.14.3/dist/bundled/vegaplot/vega-embed@6'];\n",
       "      for (var i = 0; i < urls.length; i++) {\n",
       "        skip.push(urls[i])\n",
       "      }\n",
       "    }    if (((window['GridStack'] !== undefined) && (!(window['GridStack'] instanceof HTMLElement))) || window.requirejs) {\n",
       "      var urls = ['https://cdn.holoviz.org/panel/0.14.3/dist/bundled/gridstack/gridstack@4.2.5/dist/gridstack-h5.js'];\n",
       "      for (var i = 0; i < urls.length; i++) {\n",
       "        skip.push(urls[i])\n",
       "      }\n",
       "    }    if (((window['Notyf'] !== undefined) && (!(window['Notyf'] instanceof HTMLElement))) || window.requirejs) {\n",
       "      var urls = ['https://cdn.holoviz.org/panel/0.14.3/dist/bundled/notificationarea/notyf@3/notyf.min.js'];\n",
       "      for (var i = 0; i < urls.length; i++) {\n",
       "        skip.push(urls[i])\n",
       "      }\n",
       "    }    for (var i = 0; i < js_urls.length; i++) {\n",
       "      var url = js_urls[i];\n",
       "      if (skip.indexOf(url) >= 0) {\n",
       "\tif (!window.requirejs) {\n",
       "\t  on_load();\n",
       "\t}\n",
       "\tcontinue;\n",
       "      }\n",
       "      var element = document.createElement('script');\n",
       "      element.onload = on_load;\n",
       "      element.onerror = on_error;\n",
       "      element.async = false;\n",
       "      element.src = url;\n",
       "      console.debug(\"Bokeh: injecting script tag for BokehJS library: \", url);\n",
       "      document.head.appendChild(element);\n",
       "    }\n",
       "    for (var i = 0; i < js_modules.length; i++) {\n",
       "      var url = js_modules[i];\n",
       "      if (skip.indexOf(url) >= 0) {\n",
       "\tif (!window.requirejs) {\n",
       "\t  on_load();\n",
       "\t}\n",
       "\tcontinue;\n",
       "      }\n",
       "      var element = document.createElement('script');\n",
       "      element.onload = on_load;\n",
       "      element.onerror = on_error;\n",
       "      element.async = false;\n",
       "      element.src = url;\n",
       "      element.type = \"module\";\n",
       "      console.debug(\"Bokeh: injecting script tag for BokehJS library: \", url);\n",
       "      document.head.appendChild(element);\n",
       "    }\n",
       "    if (!js_urls.length && !js_modules.length) {\n",
       "      on_load()\n",
       "    }\n",
       "  };\n",
       "\n",
       "  function inject_raw_css(css) {\n",
       "    const element = document.createElement(\"style\");\n",
       "    element.appendChild(document.createTextNode(css));\n",
       "    document.body.appendChild(element);\n",
       "  }\n",
       "\n",
       "  var js_urls = [\"https://cdn.holoviz.org/panel/0.14.3/dist/bundled/vegaplot/vega@5\", \"https://cdn.holoviz.org/panel/0.14.3/dist/bundled/vegaplot/vega-lite@5\", \"https://cdn.holoviz.org/panel/0.14.3/dist/bundled/vegaplot/vega-embed@6\", \"https://cdn.bokeh.org/bokeh/release/bokeh-2.4.3.min.js\", \"https://cdn.bokeh.org/bokeh/release/bokeh-gl-2.4.3.min.js\", \"https://cdn.bokeh.org/bokeh/release/bokeh-widgets-2.4.3.min.js\", \"https://cdn.bokeh.org/bokeh/release/bokeh-tables-2.4.3.min.js\", \"https://cdn.bokeh.org/bokeh/release/bokeh-mathjax-2.4.3.min.js\", \"https://unpkg.com/@holoviz/panel@0.14.3/dist/panel.min.js\"];\n",
       "  var js_modules = [];\n",
       "  var css_urls = [\"https://cdn.holoviz.org/panel/0.14.3/dist/css/debugger.css\", \"https://cdn.holoviz.org/panel/0.14.3/dist/css/alerts.css\", \"https://cdn.holoviz.org/panel/0.14.3/dist/css/card.css\", \"https://cdn.holoviz.org/panel/0.14.3/dist/css/widgets.css\", \"https://cdn.holoviz.org/panel/0.14.3/dist/css/markdown.css\", \"https://cdn.holoviz.org/panel/0.14.3/dist/css/json.css\", \"https://cdn.holoviz.org/panel/0.14.3/dist/css/loading.css\", \"https://cdn.holoviz.org/panel/0.14.3/dist/css/dataframe.css\"];\n",
       "  var inline_js = [    function(Bokeh) {\n",
       "      inject_raw_css(\"\\n    .bk.pn-loading.arc:before {\\n      background-image: url(\\\"data:image/svg+xml;base64,PHN2ZyB4bWxucz0iaHR0cDovL3d3dy53My5vcmcvMjAwMC9zdmciIHN0eWxlPSJtYXJnaW46IGF1dG87IGJhY2tncm91bmQ6IG5vbmU7IGRpc3BsYXk6IGJsb2NrOyBzaGFwZS1yZW5kZXJpbmc6IGF1dG87IiB2aWV3Qm94PSIwIDAgMTAwIDEwMCIgcHJlc2VydmVBc3BlY3RSYXRpbz0ieE1pZFlNaWQiPiAgPGNpcmNsZSBjeD0iNTAiIGN5PSI1MCIgZmlsbD0ibm9uZSIgc3Ryb2tlPSIjYzNjM2MzIiBzdHJva2Utd2lkdGg9IjEwIiByPSIzNSIgc3Ryb2tlLWRhc2hhcnJheT0iMTY0LjkzMzYxNDMxMzQ2NDE1IDU2Ljk3Nzg3MTQzNzgyMTM4Ij4gICAgPGFuaW1hdGVUcmFuc2Zvcm0gYXR0cmlidXRlTmFtZT0idHJhbnNmb3JtIiB0eXBlPSJyb3RhdGUiIHJlcGVhdENvdW50PSJpbmRlZmluaXRlIiBkdXI9IjFzIiB2YWx1ZXM9IjAgNTAgNTA7MzYwIDUwIDUwIiBrZXlUaW1lcz0iMDsxIj48L2FuaW1hdGVUcmFuc2Zvcm0+ICA8L2NpcmNsZT48L3N2Zz4=\\\");\\n      background-size: auto calc(min(50%, 400px));\\n    }\\n    \");\n",
       "    },    function(Bokeh) {\n",
       "      Bokeh.set_log_level(\"info\");\n",
       "    },\n",
       "function(Bokeh) {} // ensure no trailing comma for IE\n",
       "  ];\n",
       "\n",
       "  function run_inline_js() {\n",
       "    if ((root.Bokeh !== undefined) || (force === true)) {\n",
       "      for (var i = 0; i < inline_js.length; i++) {\n",
       "        inline_js[i].call(root, root.Bokeh);\n",
       "      }} else if (Date.now() < root._bokeh_timeout) {\n",
       "      setTimeout(run_inline_js, 100);\n",
       "    } else if (!root._bokeh_failed_load) {\n",
       "      console.log(\"Bokeh: BokehJS failed to load within specified timeout.\");\n",
       "      root._bokeh_failed_load = true;\n",
       "    }\n",
       "  }\n",
       "\n",
       "  if (root._bokeh_is_loading === 0) {\n",
       "    console.debug(\"Bokeh: BokehJS loaded, going straight to plotting\");\n",
       "    run_inline_js();\n",
       "  } else {\n",
       "    load_libs(css_urls, js_urls, js_modules, function() {\n",
       "      console.debug(\"Bokeh: BokehJS plotting callback run at\", now());\n",
       "      run_inline_js();\n",
       "    });\n",
       "  }\n",
       "}(window));"
      ],
      "application/vnd.holoviews_load.v0+json": "(function(root) {\n  function now() {\n    return new Date();\n  }\n\n  var force = true;\n\n  if (typeof root._bokeh_onload_callbacks === \"undefined\" || force === true) {\n    root._bokeh_onload_callbacks = [];\n    root._bokeh_is_loading = undefined;\n  }\n\n  if (typeof (root._bokeh_timeout) === \"undefined\" || force === true) {\n    root._bokeh_timeout = Date.now() + 5000;\n    root._bokeh_failed_load = false;\n  }\n\n  function run_callbacks() {\n    try {\n      root._bokeh_onload_callbacks.forEach(function(callback) {\n        if (callback != null)\n          callback();\n      });\n    } finally {\n      delete root._bokeh_onload_callbacks\n    }\n    console.debug(\"Bokeh: all callbacks have finished\");\n  }\n\n  function load_libs(css_urls, js_urls, js_modules, callback) {\n    if (css_urls == null) css_urls = [];\n    if (js_urls == null) js_urls = [];\n    if (js_modules == null) js_modules = [];\n\n    root._bokeh_onload_callbacks.push(callback);\n    if (root._bokeh_is_loading > 0) {\n      console.debug(\"Bokeh: BokehJS is being loaded, scheduling callback at\", now());\n      return null;\n    }\n    if (js_urls.length === 0 && js_modules.length === 0) {\n      run_callbacks();\n      return null;\n    }\n    console.debug(\"Bokeh: BokehJS not loaded, scheduling load and callback at\", now());\n\n    function on_load() {\n      root._bokeh_is_loading--;\n      if (root._bokeh_is_loading === 0) {\n        console.debug(\"Bokeh: all BokehJS libraries/stylesheets loaded\");\n        run_callbacks()\n      }\n    }\n\n    function on_error() {\n      console.error(\"failed to load \" + url);\n    }\n\n    for (var i = 0; i < css_urls.length; i++) {\n      var url = css_urls[i];\n      const element = document.createElement(\"link\");\n      element.onload = on_load;\n      element.onerror = on_error;\n      element.rel = \"stylesheet\";\n      element.type = \"text/css\";\n      element.href = url;\n      console.debug(\"Bokeh: injecting link tag for BokehJS stylesheet: \", url);\n      document.body.appendChild(element);\n    }\n\n    var skip = [];\n    if (window.requirejs) {\n      window.requirejs.config({'packages': {}, 'paths': {'vega-embed': 'https://cdn.jsdelivr.net/npm/vega-embed@6/build/vega-embed.min', 'vega-lite': 'https://cdn.jsdelivr.net/npm/vega-lite@5/build/vega-lite.min', 'vega': 'https://cdn.jsdelivr.net/npm/vega@5/build/vega.min', 'gridstack': 'https://cdn.jsdelivr.net/npm/gridstack@4.2.5/dist/gridstack-h5', 'notyf': 'https://cdn.jsdelivr.net/npm/notyf@3/notyf.min'}, 'shim': {'gridstack': {'exports': 'GridStack'}}});\n      require([\"vega-embed\"], function(vegaEmbed) {\n\twindow.vegaEmbed = vegaEmbed\n\ton_load()\n      })\n      require([\"vega-lite\"], function(vl) {\n\twindow.vl = vl\n\ton_load()\n      })\n      require([\"vega\"], function(vega) {\n\twindow.vega = vega\n\ton_load()\n      })\n      require([\"gridstack\"], function(GridStack) {\n\twindow.GridStack = GridStack\n\ton_load()\n      })\n      require([\"notyf\"], function() {\n\ton_load()\n      })\n      root._bokeh_is_loading = css_urls.length + 5;\n    } else {\n      root._bokeh_is_loading = css_urls.length + js_urls.length + js_modules.length;\n    }    if (((window['vega'] !== undefined) && (!(window['vega'] instanceof HTMLElement))) || window.requirejs) {\n      var urls = ['https://cdn.holoviz.org/panel/0.14.3/dist/bundled/vegaplot/vega@5'];\n      for (var i = 0; i < urls.length; i++) {\n        skip.push(urls[i])\n      }\n    }    if (((window['vegaLite'] !== undefined) && (!(window['vegaLite'] instanceof HTMLElement))) || window.requirejs) {\n      var urls = ['https://cdn.holoviz.org/panel/0.14.3/dist/bundled/vegaplot/vega-lite@5'];\n      for (var i = 0; i < urls.length; i++) {\n        skip.push(urls[i])\n      }\n    }    if (((window['vegaEmbed'] !== undefined) && (!(window['vegaEmbed'] instanceof HTMLElement))) || window.requirejs) {\n      var urls = ['https://cdn.holoviz.org/panel/0.14.3/dist/bundled/vegaplot/vega-embed@6'];\n      for (var i = 0; i < urls.length; i++) {\n        skip.push(urls[i])\n      }\n    }    if (((window['GridStack'] !== undefined) && (!(window['GridStack'] instanceof HTMLElement))) || window.requirejs) {\n      var urls = ['https://cdn.holoviz.org/panel/0.14.3/dist/bundled/gridstack/gridstack@4.2.5/dist/gridstack-h5.js'];\n      for (var i = 0; i < urls.length; i++) {\n        skip.push(urls[i])\n      }\n    }    if (((window['Notyf'] !== undefined) && (!(window['Notyf'] instanceof HTMLElement))) || window.requirejs) {\n      var urls = ['https://cdn.holoviz.org/panel/0.14.3/dist/bundled/notificationarea/notyf@3/notyf.min.js'];\n      for (var i = 0; i < urls.length; i++) {\n        skip.push(urls[i])\n      }\n    }    for (var i = 0; i < js_urls.length; i++) {\n      var url = js_urls[i];\n      if (skip.indexOf(url) >= 0) {\n\tif (!window.requirejs) {\n\t  on_load();\n\t}\n\tcontinue;\n      }\n      var element = document.createElement('script');\n      element.onload = on_load;\n      element.onerror = on_error;\n      element.async = false;\n      element.src = url;\n      console.debug(\"Bokeh: injecting script tag for BokehJS library: \", url);\n      document.head.appendChild(element);\n    }\n    for (var i = 0; i < js_modules.length; i++) {\n      var url = js_modules[i];\n      if (skip.indexOf(url) >= 0) {\n\tif (!window.requirejs) {\n\t  on_load();\n\t}\n\tcontinue;\n      }\n      var element = document.createElement('script');\n      element.onload = on_load;\n      element.onerror = on_error;\n      element.async = false;\n      element.src = url;\n      element.type = \"module\";\n      console.debug(\"Bokeh: injecting script tag for BokehJS library: \", url);\n      document.head.appendChild(element);\n    }\n    if (!js_urls.length && !js_modules.length) {\n      on_load()\n    }\n  };\n\n  function inject_raw_css(css) {\n    const element = document.createElement(\"style\");\n    element.appendChild(document.createTextNode(css));\n    document.body.appendChild(element);\n  }\n\n  var js_urls = [\"https://cdn.holoviz.org/panel/0.14.3/dist/bundled/vegaplot/vega@5\", \"https://cdn.holoviz.org/panel/0.14.3/dist/bundled/vegaplot/vega-lite@5\", \"https://cdn.holoviz.org/panel/0.14.3/dist/bundled/vegaplot/vega-embed@6\", \"https://cdn.bokeh.org/bokeh/release/bokeh-2.4.3.min.js\", \"https://cdn.bokeh.org/bokeh/release/bokeh-gl-2.4.3.min.js\", \"https://cdn.bokeh.org/bokeh/release/bokeh-widgets-2.4.3.min.js\", \"https://cdn.bokeh.org/bokeh/release/bokeh-tables-2.4.3.min.js\", \"https://cdn.bokeh.org/bokeh/release/bokeh-mathjax-2.4.3.min.js\", \"https://unpkg.com/@holoviz/panel@0.14.3/dist/panel.min.js\"];\n  var js_modules = [];\n  var css_urls = [\"https://cdn.holoviz.org/panel/0.14.3/dist/css/debugger.css\", \"https://cdn.holoviz.org/panel/0.14.3/dist/css/alerts.css\", \"https://cdn.holoviz.org/panel/0.14.3/dist/css/card.css\", \"https://cdn.holoviz.org/panel/0.14.3/dist/css/widgets.css\", \"https://cdn.holoviz.org/panel/0.14.3/dist/css/markdown.css\", \"https://cdn.holoviz.org/panel/0.14.3/dist/css/json.css\", \"https://cdn.holoviz.org/panel/0.14.3/dist/css/loading.css\", \"https://cdn.holoviz.org/panel/0.14.3/dist/css/dataframe.css\"];\n  var inline_js = [    function(Bokeh) {\n      inject_raw_css(\"\\n    .bk.pn-loading.arc:before {\\n      background-image: url(\\\"data:image/svg+xml;base64,PHN2ZyB4bWxucz0iaHR0cDovL3d3dy53My5vcmcvMjAwMC9zdmciIHN0eWxlPSJtYXJnaW46IGF1dG87IGJhY2tncm91bmQ6IG5vbmU7IGRpc3BsYXk6IGJsb2NrOyBzaGFwZS1yZW5kZXJpbmc6IGF1dG87IiB2aWV3Qm94PSIwIDAgMTAwIDEwMCIgcHJlc2VydmVBc3BlY3RSYXRpbz0ieE1pZFlNaWQiPiAgPGNpcmNsZSBjeD0iNTAiIGN5PSI1MCIgZmlsbD0ibm9uZSIgc3Ryb2tlPSIjYzNjM2MzIiBzdHJva2Utd2lkdGg9IjEwIiByPSIzNSIgc3Ryb2tlLWRhc2hhcnJheT0iMTY0LjkzMzYxNDMxMzQ2NDE1IDU2Ljk3Nzg3MTQzNzgyMTM4Ij4gICAgPGFuaW1hdGVUcmFuc2Zvcm0gYXR0cmlidXRlTmFtZT0idHJhbnNmb3JtIiB0eXBlPSJyb3RhdGUiIHJlcGVhdENvdW50PSJpbmRlZmluaXRlIiBkdXI9IjFzIiB2YWx1ZXM9IjAgNTAgNTA7MzYwIDUwIDUwIiBrZXlUaW1lcz0iMDsxIj48L2FuaW1hdGVUcmFuc2Zvcm0+ICA8L2NpcmNsZT48L3N2Zz4=\\\");\\n      background-size: auto calc(min(50%, 400px));\\n    }\\n    \");\n    },    function(Bokeh) {\n      Bokeh.set_log_level(\"info\");\n    },\nfunction(Bokeh) {} // ensure no trailing comma for IE\n  ];\n\n  function run_inline_js() {\n    if ((root.Bokeh !== undefined) || (force === true)) {\n      for (var i = 0; i < inline_js.length; i++) {\n        inline_js[i].call(root, root.Bokeh);\n      }} else if (Date.now() < root._bokeh_timeout) {\n      setTimeout(run_inline_js, 100);\n    } else if (!root._bokeh_failed_load) {\n      console.log(\"Bokeh: BokehJS failed to load within specified timeout.\");\n      root._bokeh_failed_load = true;\n    }\n  }\n\n  if (root._bokeh_is_loading === 0) {\n    console.debug(\"Bokeh: BokehJS loaded, going straight to plotting\");\n    run_inline_js();\n  } else {\n    load_libs(css_urls, js_urls, js_modules, function() {\n      console.debug(\"Bokeh: BokehJS plotting callback run at\", now());\n      run_inline_js();\n    });\n  }\n}(window));"
     },
     "metadata": {},
     "output_type": "display_data"
    },
    {
     "data": {
      "application/javascript": [
       "\n",
       "if ((window.PyViz === undefined) || (window.PyViz instanceof HTMLElement)) {\n",
       "  window.PyViz = {comms: {}, comm_status:{}, kernels:{}, receivers: {}, plot_index: []}\n",
       "}\n",
       "\n",
       "\n",
       "    function JupyterCommManager() {\n",
       "    }\n",
       "\n",
       "    JupyterCommManager.prototype.register_target = function(plot_id, comm_id, msg_handler) {\n",
       "      if (window.comm_manager || ((window.Jupyter !== undefined) && (Jupyter.notebook.kernel != null))) {\n",
       "        var comm_manager = window.comm_manager || Jupyter.notebook.kernel.comm_manager;\n",
       "        comm_manager.register_target(comm_id, function(comm) {\n",
       "          comm.on_msg(msg_handler);\n",
       "        });\n",
       "      } else if ((plot_id in window.PyViz.kernels) && (window.PyViz.kernels[plot_id])) {\n",
       "        window.PyViz.kernels[plot_id].registerCommTarget(comm_id, function(comm) {\n",
       "          comm.onMsg = msg_handler;\n",
       "        });\n",
       "      } else if (typeof google != 'undefined' && google.colab.kernel != null) {\n",
       "        google.colab.kernel.comms.registerTarget(comm_id, (comm) => {\n",
       "          var messages = comm.messages[Symbol.asyncIterator]();\n",
       "          function processIteratorResult(result) {\n",
       "            var message = result.value;\n",
       "            console.log(message)\n",
       "            var content = {data: message.data, comm_id};\n",
       "            var buffers = []\n",
       "            for (var buffer of message.buffers || []) {\n",
       "              buffers.push(new DataView(buffer))\n",
       "            }\n",
       "            var metadata = message.metadata || {};\n",
       "            var msg = {content, buffers, metadata}\n",
       "            msg_handler(msg);\n",
       "            return messages.next().then(processIteratorResult);\n",
       "          }\n",
       "          return messages.next().then(processIteratorResult);\n",
       "        })\n",
       "      }\n",
       "    }\n",
       "\n",
       "    JupyterCommManager.prototype.get_client_comm = function(plot_id, comm_id, msg_handler) {\n",
       "      if (comm_id in window.PyViz.comms) {\n",
       "        return window.PyViz.comms[comm_id];\n",
       "      } else if (window.comm_manager || ((window.Jupyter !== undefined) && (Jupyter.notebook.kernel != null))) {\n",
       "        var comm_manager = window.comm_manager || Jupyter.notebook.kernel.comm_manager;\n",
       "        var comm = comm_manager.new_comm(comm_id, {}, {}, {}, comm_id);\n",
       "        if (msg_handler) {\n",
       "          comm.on_msg(msg_handler);\n",
       "        }\n",
       "      } else if ((plot_id in window.PyViz.kernels) && (window.PyViz.kernels[plot_id])) {\n",
       "        var comm = window.PyViz.kernels[plot_id].connectToComm(comm_id);\n",
       "        comm.open();\n",
       "        if (msg_handler) {\n",
       "          comm.onMsg = msg_handler;\n",
       "        }\n",
       "      } else if (typeof google != 'undefined' && google.colab.kernel != null) {\n",
       "        var comm_promise = google.colab.kernel.comms.open(comm_id)\n",
       "        comm_promise.then((comm) => {\n",
       "          window.PyViz.comms[comm_id] = comm;\n",
       "          if (msg_handler) {\n",
       "            var messages = comm.messages[Symbol.asyncIterator]();\n",
       "            function processIteratorResult(result) {\n",
       "              var message = result.value;\n",
       "              var content = {data: message.data};\n",
       "              var metadata = message.metadata || {comm_id};\n",
       "              var msg = {content, metadata}\n",
       "              msg_handler(msg);\n",
       "              return messages.next().then(processIteratorResult);\n",
       "            }\n",
       "            return messages.next().then(processIteratorResult);\n",
       "          }\n",
       "        }) \n",
       "        var sendClosure = (data, metadata, buffers, disposeOnDone) => {\n",
       "          return comm_promise.then((comm) => {\n",
       "            comm.send(data, metadata, buffers, disposeOnDone);\n",
       "          });\n",
       "        };\n",
       "        var comm = {\n",
       "          send: sendClosure\n",
       "        };\n",
       "      }\n",
       "      window.PyViz.comms[comm_id] = comm;\n",
       "      return comm;\n",
       "    }\n",
       "    window.PyViz.comm_manager = new JupyterCommManager();\n",
       "    \n",
       "\n",
       "\n",
       "var JS_MIME_TYPE = 'application/javascript';\n",
       "var HTML_MIME_TYPE = 'text/html';\n",
       "var EXEC_MIME_TYPE = 'application/vnd.holoviews_exec.v0+json';\n",
       "var CLASS_NAME = 'output';\n",
       "\n",
       "/**\n",
       " * Render data to the DOM node\n",
       " */\n",
       "function render(props, node) {\n",
       "  var div = document.createElement(\"div\");\n",
       "  var script = document.createElement(\"script\");\n",
       "  node.appendChild(div);\n",
       "  node.appendChild(script);\n",
       "}\n",
       "\n",
       "/**\n",
       " * Handle when a new output is added\n",
       " */\n",
       "function handle_add_output(event, handle) {\n",
       "  var output_area = handle.output_area;\n",
       "  var output = handle.output;\n",
       "  if ((output.data == undefined) || (!output.data.hasOwnProperty(EXEC_MIME_TYPE))) {\n",
       "    return\n",
       "  }\n",
       "  var id = output.metadata[EXEC_MIME_TYPE][\"id\"];\n",
       "  var toinsert = output_area.element.find(\".\" + CLASS_NAME.split(' ')[0]);\n",
       "  if (id !== undefined) {\n",
       "    var nchildren = toinsert.length;\n",
       "    var html_node = toinsert[nchildren-1].children[0];\n",
       "    html_node.innerHTML = output.data[HTML_MIME_TYPE];\n",
       "    var scripts = [];\n",
       "    var nodelist = html_node.querySelectorAll(\"script\");\n",
       "    for (var i in nodelist) {\n",
       "      if (nodelist.hasOwnProperty(i)) {\n",
       "        scripts.push(nodelist[i])\n",
       "      }\n",
       "    }\n",
       "\n",
       "    scripts.forEach( function (oldScript) {\n",
       "      var newScript = document.createElement(\"script\");\n",
       "      var attrs = [];\n",
       "      var nodemap = oldScript.attributes;\n",
       "      for (var j in nodemap) {\n",
       "        if (nodemap.hasOwnProperty(j)) {\n",
       "          attrs.push(nodemap[j])\n",
       "        }\n",
       "      }\n",
       "      attrs.forEach(function(attr) { newScript.setAttribute(attr.name, attr.value) });\n",
       "      newScript.appendChild(document.createTextNode(oldScript.innerHTML));\n",
       "      oldScript.parentNode.replaceChild(newScript, oldScript);\n",
       "    });\n",
       "    if (JS_MIME_TYPE in output.data) {\n",
       "      toinsert[nchildren-1].children[1].textContent = output.data[JS_MIME_TYPE];\n",
       "    }\n",
       "    output_area._hv_plot_id = id;\n",
       "    if ((window.Bokeh !== undefined) && (id in Bokeh.index)) {\n",
       "      window.PyViz.plot_index[id] = Bokeh.index[id];\n",
       "    } else {\n",
       "      window.PyViz.plot_index[id] = null;\n",
       "    }\n",
       "  } else if (output.metadata[EXEC_MIME_TYPE][\"server_id\"] !== undefined) {\n",
       "    var bk_div = document.createElement(\"div\");\n",
       "    bk_div.innerHTML = output.data[HTML_MIME_TYPE];\n",
       "    var script_attrs = bk_div.children[0].attributes;\n",
       "    for (var i = 0; i < script_attrs.length; i++) {\n",
       "      toinsert[toinsert.length - 1].childNodes[1].setAttribute(script_attrs[i].name, script_attrs[i].value);\n",
       "    }\n",
       "    // store reference to server id on output_area\n",
       "    output_area._bokeh_server_id = output.metadata[EXEC_MIME_TYPE][\"server_id\"];\n",
       "  }\n",
       "}\n",
       "\n",
       "/**\n",
       " * Handle when an output is cleared or removed\n",
       " */\n",
       "function handle_clear_output(event, handle) {\n",
       "  var id = handle.cell.output_area._hv_plot_id;\n",
       "  var server_id = handle.cell.output_area._bokeh_server_id;\n",
       "  if (((id === undefined) || !(id in PyViz.plot_index)) && (server_id !== undefined)) { return; }\n",
       "  var comm = window.PyViz.comm_manager.get_client_comm(\"hv-extension-comm\", \"hv-extension-comm\", function () {});\n",
       "  if (server_id !== null) {\n",
       "    comm.send({event_type: 'server_delete', 'id': server_id});\n",
       "    return;\n",
       "  } else if (comm !== null) {\n",
       "    comm.send({event_type: 'delete', 'id': id});\n",
       "  }\n",
       "  delete PyViz.plot_index[id];\n",
       "  if ((window.Bokeh !== undefined) & (id in window.Bokeh.index)) {\n",
       "    var doc = window.Bokeh.index[id].model.document\n",
       "    doc.clear();\n",
       "    const i = window.Bokeh.documents.indexOf(doc);\n",
       "    if (i > -1) {\n",
       "      window.Bokeh.documents.splice(i, 1);\n",
       "    }\n",
       "  }\n",
       "}\n",
       "\n",
       "/**\n",
       " * Handle kernel restart event\n",
       " */\n",
       "function handle_kernel_cleanup(event, handle) {\n",
       "  delete PyViz.comms[\"hv-extension-comm\"];\n",
       "  window.PyViz.plot_index = {}\n",
       "}\n",
       "\n",
       "/**\n",
       " * Handle update_display_data messages\n",
       " */\n",
       "function handle_update_output(event, handle) {\n",
       "  handle_clear_output(event, {cell: {output_area: handle.output_area}})\n",
       "  handle_add_output(event, handle)\n",
       "}\n",
       "\n",
       "function register_renderer(events, OutputArea) {\n",
       "  function append_mime(data, metadata, element) {\n",
       "    // create a DOM node to render to\n",
       "    var toinsert = this.create_output_subarea(\n",
       "    metadata,\n",
       "    CLASS_NAME,\n",
       "    EXEC_MIME_TYPE\n",
       "    );\n",
       "    this.keyboard_manager.register_events(toinsert);\n",
       "    // Render to node\n",
       "    var props = {data: data, metadata: metadata[EXEC_MIME_TYPE]};\n",
       "    render(props, toinsert[0]);\n",
       "    element.append(toinsert);\n",
       "    return toinsert\n",
       "  }\n",
       "\n",
       "  events.on('output_added.OutputArea', handle_add_output);\n",
       "  events.on('output_updated.OutputArea', handle_update_output);\n",
       "  events.on('clear_output.CodeCell', handle_clear_output);\n",
       "  events.on('delete.Cell', handle_clear_output);\n",
       "  events.on('kernel_ready.Kernel', handle_kernel_cleanup);\n",
       "\n",
       "  OutputArea.prototype.register_mime_type(EXEC_MIME_TYPE, append_mime, {\n",
       "    safe: true,\n",
       "    index: 0\n",
       "  });\n",
       "}\n",
       "\n",
       "if (window.Jupyter !== undefined) {\n",
       "  try {\n",
       "    var events = require('base/js/events');\n",
       "    var OutputArea = require('notebook/js/outputarea').OutputArea;\n",
       "    if (OutputArea.prototype.mime_types().indexOf(EXEC_MIME_TYPE) == -1) {\n",
       "      register_renderer(events, OutputArea);\n",
       "    }\n",
       "  } catch(err) {\n",
       "  }\n",
       "}\n"
      ],
      "application/vnd.holoviews_load.v0+json": "\nif ((window.PyViz === undefined) || (window.PyViz instanceof HTMLElement)) {\n  window.PyViz = {comms: {}, comm_status:{}, kernels:{}, receivers: {}, plot_index: []}\n}\n\n\n    function JupyterCommManager() {\n    }\n\n    JupyterCommManager.prototype.register_target = function(plot_id, comm_id, msg_handler) {\n      if (window.comm_manager || ((window.Jupyter !== undefined) && (Jupyter.notebook.kernel != null))) {\n        var comm_manager = window.comm_manager || Jupyter.notebook.kernel.comm_manager;\n        comm_manager.register_target(comm_id, function(comm) {\n          comm.on_msg(msg_handler);\n        });\n      } else if ((plot_id in window.PyViz.kernels) && (window.PyViz.kernels[plot_id])) {\n        window.PyViz.kernels[plot_id].registerCommTarget(comm_id, function(comm) {\n          comm.onMsg = msg_handler;\n        });\n      } else if (typeof google != 'undefined' && google.colab.kernel != null) {\n        google.colab.kernel.comms.registerTarget(comm_id, (comm) => {\n          var messages = comm.messages[Symbol.asyncIterator]();\n          function processIteratorResult(result) {\n            var message = result.value;\n            console.log(message)\n            var content = {data: message.data, comm_id};\n            var buffers = []\n            for (var buffer of message.buffers || []) {\n              buffers.push(new DataView(buffer))\n            }\n            var metadata = message.metadata || {};\n            var msg = {content, buffers, metadata}\n            msg_handler(msg);\n            return messages.next().then(processIteratorResult);\n          }\n          return messages.next().then(processIteratorResult);\n        })\n      }\n    }\n\n    JupyterCommManager.prototype.get_client_comm = function(plot_id, comm_id, msg_handler) {\n      if (comm_id in window.PyViz.comms) {\n        return window.PyViz.comms[comm_id];\n      } else if (window.comm_manager || ((window.Jupyter !== undefined) && (Jupyter.notebook.kernel != null))) {\n        var comm_manager = window.comm_manager || Jupyter.notebook.kernel.comm_manager;\n        var comm = comm_manager.new_comm(comm_id, {}, {}, {}, comm_id);\n        if (msg_handler) {\n          comm.on_msg(msg_handler);\n        }\n      } else if ((plot_id in window.PyViz.kernels) && (window.PyViz.kernels[plot_id])) {\n        var comm = window.PyViz.kernels[plot_id].connectToComm(comm_id);\n        comm.open();\n        if (msg_handler) {\n          comm.onMsg = msg_handler;\n        }\n      } else if (typeof google != 'undefined' && google.colab.kernel != null) {\n        var comm_promise = google.colab.kernel.comms.open(comm_id)\n        comm_promise.then((comm) => {\n          window.PyViz.comms[comm_id] = comm;\n          if (msg_handler) {\n            var messages = comm.messages[Symbol.asyncIterator]();\n            function processIteratorResult(result) {\n              var message = result.value;\n              var content = {data: message.data};\n              var metadata = message.metadata || {comm_id};\n              var msg = {content, metadata}\n              msg_handler(msg);\n              return messages.next().then(processIteratorResult);\n            }\n            return messages.next().then(processIteratorResult);\n          }\n        }) \n        var sendClosure = (data, metadata, buffers, disposeOnDone) => {\n          return comm_promise.then((comm) => {\n            comm.send(data, metadata, buffers, disposeOnDone);\n          });\n        };\n        var comm = {\n          send: sendClosure\n        };\n      }\n      window.PyViz.comms[comm_id] = comm;\n      return comm;\n    }\n    window.PyViz.comm_manager = new JupyterCommManager();\n    \n\n\nvar JS_MIME_TYPE = 'application/javascript';\nvar HTML_MIME_TYPE = 'text/html';\nvar EXEC_MIME_TYPE = 'application/vnd.holoviews_exec.v0+json';\nvar CLASS_NAME = 'output';\n\n/**\n * Render data to the DOM node\n */\nfunction render(props, node) {\n  var div = document.createElement(\"div\");\n  var script = document.createElement(\"script\");\n  node.appendChild(div);\n  node.appendChild(script);\n}\n\n/**\n * Handle when a new output is added\n */\nfunction handle_add_output(event, handle) {\n  var output_area = handle.output_area;\n  var output = handle.output;\n  if ((output.data == undefined) || (!output.data.hasOwnProperty(EXEC_MIME_TYPE))) {\n    return\n  }\n  var id = output.metadata[EXEC_MIME_TYPE][\"id\"];\n  var toinsert = output_area.element.find(\".\" + CLASS_NAME.split(' ')[0]);\n  if (id !== undefined) {\n    var nchildren = toinsert.length;\n    var html_node = toinsert[nchildren-1].children[0];\n    html_node.innerHTML = output.data[HTML_MIME_TYPE];\n    var scripts = [];\n    var nodelist = html_node.querySelectorAll(\"script\");\n    for (var i in nodelist) {\n      if (nodelist.hasOwnProperty(i)) {\n        scripts.push(nodelist[i])\n      }\n    }\n\n    scripts.forEach( function (oldScript) {\n      var newScript = document.createElement(\"script\");\n      var attrs = [];\n      var nodemap = oldScript.attributes;\n      for (var j in nodemap) {\n        if (nodemap.hasOwnProperty(j)) {\n          attrs.push(nodemap[j])\n        }\n      }\n      attrs.forEach(function(attr) { newScript.setAttribute(attr.name, attr.value) });\n      newScript.appendChild(document.createTextNode(oldScript.innerHTML));\n      oldScript.parentNode.replaceChild(newScript, oldScript);\n    });\n    if (JS_MIME_TYPE in output.data) {\n      toinsert[nchildren-1].children[1].textContent = output.data[JS_MIME_TYPE];\n    }\n    output_area._hv_plot_id = id;\n    if ((window.Bokeh !== undefined) && (id in Bokeh.index)) {\n      window.PyViz.plot_index[id] = Bokeh.index[id];\n    } else {\n      window.PyViz.plot_index[id] = null;\n    }\n  } else if (output.metadata[EXEC_MIME_TYPE][\"server_id\"] !== undefined) {\n    var bk_div = document.createElement(\"div\");\n    bk_div.innerHTML = output.data[HTML_MIME_TYPE];\n    var script_attrs = bk_div.children[0].attributes;\n    for (var i = 0; i < script_attrs.length; i++) {\n      toinsert[toinsert.length - 1].childNodes[1].setAttribute(script_attrs[i].name, script_attrs[i].value);\n    }\n    // store reference to server id on output_area\n    output_area._bokeh_server_id = output.metadata[EXEC_MIME_TYPE][\"server_id\"];\n  }\n}\n\n/**\n * Handle when an output is cleared or removed\n */\nfunction handle_clear_output(event, handle) {\n  var id = handle.cell.output_area._hv_plot_id;\n  var server_id = handle.cell.output_area._bokeh_server_id;\n  if (((id === undefined) || !(id in PyViz.plot_index)) && (server_id !== undefined)) { return; }\n  var comm = window.PyViz.comm_manager.get_client_comm(\"hv-extension-comm\", \"hv-extension-comm\", function () {});\n  if (server_id !== null) {\n    comm.send({event_type: 'server_delete', 'id': server_id});\n    return;\n  } else if (comm !== null) {\n    comm.send({event_type: 'delete', 'id': id});\n  }\n  delete PyViz.plot_index[id];\n  if ((window.Bokeh !== undefined) & (id in window.Bokeh.index)) {\n    var doc = window.Bokeh.index[id].model.document\n    doc.clear();\n    const i = window.Bokeh.documents.indexOf(doc);\n    if (i > -1) {\n      window.Bokeh.documents.splice(i, 1);\n    }\n  }\n}\n\n/**\n * Handle kernel restart event\n */\nfunction handle_kernel_cleanup(event, handle) {\n  delete PyViz.comms[\"hv-extension-comm\"];\n  window.PyViz.plot_index = {}\n}\n\n/**\n * Handle update_display_data messages\n */\nfunction handle_update_output(event, handle) {\n  handle_clear_output(event, {cell: {output_area: handle.output_area}})\n  handle_add_output(event, handle)\n}\n\nfunction register_renderer(events, OutputArea) {\n  function append_mime(data, metadata, element) {\n    // create a DOM node to render to\n    var toinsert = this.create_output_subarea(\n    metadata,\n    CLASS_NAME,\n    EXEC_MIME_TYPE\n    );\n    this.keyboard_manager.register_events(toinsert);\n    // Render to node\n    var props = {data: data, metadata: metadata[EXEC_MIME_TYPE]};\n    render(props, toinsert[0]);\n    element.append(toinsert);\n    return toinsert\n  }\n\n  events.on('output_added.OutputArea', handle_add_output);\n  events.on('output_updated.OutputArea', handle_update_output);\n  events.on('clear_output.CodeCell', handle_clear_output);\n  events.on('delete.Cell', handle_clear_output);\n  events.on('kernel_ready.Kernel', handle_kernel_cleanup);\n\n  OutputArea.prototype.register_mime_type(EXEC_MIME_TYPE, append_mime, {\n    safe: true,\n    index: 0\n  });\n}\n\nif (window.Jupyter !== undefined) {\n  try {\n    var events = require('base/js/events');\n    var OutputArea = require('notebook/js/outputarea').OutputArea;\n    if (OutputArea.prototype.mime_types().indexOf(EXEC_MIME_TYPE) == -1) {\n      register_renderer(events, OutputArea);\n    }\n  } catch(err) {\n  }\n}\n"
     },
     "metadata": {},
     "output_type": "display_data"
    },
    {
     "data": {
      "text/html": [
       "<style>.bk-root, .bk-root .bk:before, .bk-root .bk:after {\n",
       "  font-family: var(--jp-ui-font-size1);\n",
       "  font-size: var(--jp-ui-font-size1);\n",
       "  color: var(--jp-ui-font-color1);\n",
       "}\n",
       "</style>"
      ]
     },
     "metadata": {},
     "output_type": "display_data"
    }
   ],
   "source": [
    "import panel as pn\n",
    "pn.extension('vega')"
   ]
  },
  {
   "cell_type": "markdown",
   "metadata": {},
   "source": [
    "The ``Vega`` pane renders Vega-based plots (including those from Altair) inside a panel. It optimizes the plot rendering by using binary serialization for any array data found on the Vega/Altair object, providing huge speedups over the standard JSON serialization employed by Vega natively. Note that to use the ``Vega`` pane in the notebook the Panel extension has to be loaded with 'vega' as an argument to ensure that vega.js is initialized.\n",
    "\n",
    "#### Parameters:\n",
    "\n",
    "For layout and styling related parameters see the [customization user guide](../../user_guide/Customization.ipynb).\n",
    "\n",
    "* **``debounce``** (int or dict): The debounce timeout to apply to selection events, either specified as a single integer value (in milliseconds) or a dictionary that declares a debounce value per event. Debouncing ensures that events are only dispatched N milliseconds after a user is done interacting with the plot.\n",
    "* **``object``** (dict or altair Chart): Either a dictionary containing a Vega or Vega-Lite plot specification, or an Altair Chart\n",
    "* **``theme``** (str): A theme to apply to the plot, must be one of 'excel', 'ggplot2', 'quartz', 'vox', 'fivethirtyeight', 'dark', 'latimes', 'urbaninstitute', 'googlecharts'.\n",
    "* **``show_actions``** (boolean): Whether to show chart actions menu such as save, edit etc.\n",
    "\n",
    "Readonly parameters:\n",
    "\n",
    "* **``selection``** (Selection): The Selection object exposes parameters which reflect the selections declared on the plot into Python. \n",
    "\n",
    "___"
   ]
  },
  {
   "cell_type": "markdown",
   "metadata": {},
   "source": [
    "The ``Vega`` pane supports both ``vega`` and ``vega-lite`` specs which may be provided in a raw form (i.e. a dictionary) or by defining an ``altair`` plot.\n",
    "\n",
    "To display ``vega`` and ``vega-lite`` specification simply construct a ``Vega`` pane directly or pass it to ``pn.panel``:"
   ]
  },
  {
   "cell_type": "code",
   "execution_count": null,
   "metadata": {},
   "outputs": [],
   "source": [
    "vegalite = {\n",
    "  \"$schema\": \"https://vega.github.io/schema/vega-lite/v3.json\",\n",
    "  \"data\": {\"url\": \"https://raw.githubusercontent.com/vega/vega/master/docs/data/barley.json\"},\n",
    "  \"mark\": \"bar\",\n",
    "  \"encoding\": {\n",
    "    \"x\": {\"aggregate\": \"sum\", \"field\": \"yield\", \"type\": \"quantitative\"},\n",
    "    \"y\": {\"field\": \"variety\", \"type\": \"nominal\"},\n",
    "    \"color\": {\"field\": \"site\", \"type\": \"nominal\"}\n",
    "  }\n",
    "}\n",
    "vgl_pane = pn.panel(vegalite, height=240)\n",
    "vgl_pane"
   ]
  },
  {
   "cell_type": "markdown",
   "metadata": {},
   "source": [
    "Like all other panes, the ``Vega`` pane ``object`` can be updated, either in place and triggering an update:"
   ]
  },
  {
   "cell_type": "code",
   "execution_count": null,
   "metadata": {},
   "outputs": [],
   "source": [
    "vegalite['mark'] = 'area'\n",
    "vgl_pane.param.trigger('object')"
   ]
  },
  {
   "cell_type": "markdown",
   "metadata": {},
   "source": [
    "or by replacing the ``object`` entirely:"
   ]
  },
  {
   "cell_type": "code",
   "execution_count": null,
   "metadata": {},
   "outputs": [],
   "source": [
    "vgl_pane.object = {\n",
    "  \"$schema\": \"https://vega.github.io/schema/vega-lite/v3.json\",\n",
    "  \"data\": {\n",
    "    \"url\": \"https://raw.githubusercontent.com/vega/vega/master/docs/data/disasters.csv\"\n",
    "  },\n",
    "  \"width\": 600,\n",
    "  \"height\": 400,\n",
    "  \"transform\": [\n",
    "    {\"filter\": \"datum.Entity !== 'All natural disasters'\"}\n",
    "  ],\n",
    "  \"mark\": {\n",
    "    \"type\": \"circle\",\n",
    "    \"opacity\": 0.8,\n",
    "    \"stroke\": \"black\",\n",
    "    \"strokeWidth\": 1\n",
    "  },\n",
    "  \"encoding\": {\n",
    "    \"x\": {\n",
    "      \"field\": \"Year\",\n",
    "      \"type\": \"nominal\",\n",
    "      \"axis\": {\"labelAngle\": 90}\n",
    "    },\n",
    "    \"y\": {\"field\": \"Entity\", \"type\": \"nominal\", \"axis\": {\"title\": \"\"}},\n",
    "    \"size\": {\n",
    "      \"field\": \"Deaths\",\n",
    "      \"type\": \"quantitative\",\n",
    "      \"legend\": {\"title\": \"Annual Global Deaths\", \"clipHeight\": 30},\n",
    "      \"scale\": {\"range\": [0, 5000]}\n",
    "    },\n",
    "    \"color\": {\"field\": \"Entity\", \"type\": \"nominal\", \"legend\": None}\n",
    "  }\n",
    "}"
   ]
  },
  {
   "cell_type": "markdown",
   "metadata": {},
   "source": [
    "The `vega-lite` specification can also be responsively sized by declaring the width or height to match the container:"
   ]
  },
  {
   "cell_type": "code",
   "execution_count": null,
   "metadata": {},
   "outputs": [],
   "source": [
    "responsive_spec = dict(vgl_pane.object, width='container')\n",
    "\n",
    "vgl_responsive_pane = pn.pane.Vega(responsive_spec)\n",
    "vgl_responsive_pane"
   ]
  },
  {
   "cell_type": "markdown",
   "metadata": {},
   "source": [
    "Please note that the `vega` specification does not support setting `width` and `height` to `container`."
   ]
  },
  {
   "cell_type": "markdown",
   "metadata": {},
   "source": [
    "### Altair\n",
    "\n",
    "A more convenient way of defining a Vega chart is to declare it using [altair](https://altair-viz.github.io), which provides a declarative API on top of vega-lite. The ``Vega`` pane will automatically render the Vega-Lite spec when passed an Altair chart:"
   ]
  },
  {
   "cell_type": "code",
   "execution_count": 26,
   "metadata": {
    "tags": []
   },
   "outputs": [
    {
     "data": {},
     "metadata": {},
     "output_type": "display_data"
    },
    {
     "data": {
      "application/vnd.holoviews_exec.v0+json": "",
      "text/html": [
       "<div id='1003'>\n",
       "  <div class=\"bk-root\" id=\"37094fe9-9e9b-4289-972c-2822a4e25990\" data-root-id=\"1003\"></div>\n",
       "</div>\n",
       "<script type=\"application/javascript\">(function(root) {\n",
       "  function embed_document(root) {\n",
       "    var docs_json = {\"4f65a5ff-f230-4a5b-a16a-71b9647b63be\":{\"defs\":[{\"extends\":null,\"module\":null,\"name\":\"ReactiveHTML1\",\"overrides\":[],\"properties\":[]},{\"extends\":null,\"module\":null,\"name\":\"FlexBox1\",\"overrides\":[],\"properties\":[{\"default\":\"flex-start\",\"kind\":null,\"name\":\"align_content\"},{\"default\":\"flex-start\",\"kind\":null,\"name\":\"align_items\"},{\"default\":\"row\",\"kind\":null,\"name\":\"flex_direction\"},{\"default\":\"wrap\",\"kind\":null,\"name\":\"flex_wrap\"},{\"default\":\"flex-start\",\"kind\":null,\"name\":\"justify_content\"}]},{\"extends\":null,\"module\":null,\"name\":\"GridStack1\",\"overrides\":[],\"properties\":[{\"default\":\"warn\",\"kind\":null,\"name\":\"mode\"},{\"default\":null,\"kind\":null,\"name\":\"ncols\"},{\"default\":null,\"kind\":null,\"name\":\"nrows\"},{\"default\":true,\"kind\":null,\"name\":\"allow_resize\"},{\"default\":true,\"kind\":null,\"name\":\"allow_drag\"},{\"default\":[],\"kind\":null,\"name\":\"state\"}]},{\"extends\":null,\"module\":null,\"name\":\"click1\",\"overrides\":[],\"properties\":[{\"default\":\"\",\"kind\":null,\"name\":\"terminal_output\"},{\"default\":\"\",\"kind\":null,\"name\":\"debug_name\"},{\"default\":0,\"kind\":null,\"name\":\"clears\"}]},{\"extends\":null,\"module\":null,\"name\":\"NotificationAreaBase1\",\"overrides\":[],\"properties\":[{\"default\":\"bottom-right\",\"kind\":null,\"name\":\"position\"},{\"default\":0,\"kind\":null,\"name\":\"_clear\"}]},{\"extends\":null,\"module\":null,\"name\":\"NotificationArea1\",\"overrides\":[],\"properties\":[{\"default\":[],\"kind\":null,\"name\":\"notifications\"},{\"default\":\"bottom-right\",\"kind\":null,\"name\":\"position\"},{\"default\":0,\"kind\":null,\"name\":\"_clear\"},{\"default\":[{\"background\":\"#ffc107\",\"icon\":{\"className\":\"fas fa-exclamation-triangle\",\"color\":\"white\",\"tagName\":\"i\"},\"type\":\"warning\"},{\"background\":\"#007bff\",\"icon\":{\"className\":\"fas fa-info-circle\",\"color\":\"white\",\"tagName\":\"i\"},\"type\":\"info\"}],\"kind\":null,\"name\":\"types\"}]},{\"extends\":null,\"module\":null,\"name\":\"Notification\",\"overrides\":[],\"properties\":[{\"default\":null,\"kind\":null,\"name\":\"background\"},{\"default\":3000,\"kind\":null,\"name\":\"duration\"},{\"default\":null,\"kind\":null,\"name\":\"icon\"},{\"default\":\"\",\"kind\":null,\"name\":\"message\"},{\"default\":null,\"kind\":null,\"name\":\"notification_type\"},{\"default\":false,\"kind\":null,\"name\":\"_destroyed\"}]},{\"extends\":null,\"module\":null,\"name\":\"TemplateActions1\",\"overrides\":[],\"properties\":[{\"default\":0,\"kind\":null,\"name\":\"open_modal\"},{\"default\":0,\"kind\":null,\"name\":\"close_modal\"}]},{\"extends\":null,\"module\":null,\"name\":\"MaterialTemplateActions1\",\"overrides\":[],\"properties\":[{\"default\":0,\"kind\":null,\"name\":\"open_modal\"},{\"default\":0,\"kind\":null,\"name\":\"close_modal\"}]}],\"roots\":{\"references\":[{\"attributes\":{\"data\":{\"$schema\":\"https://vega.github.io/schema/vega-lite/v4.17.0.json\",\"config\":{\"view\":{\"continuousHeight\":300,\"continuousWidth\":400}},\"data\":{\"name\":\"data-f02450ab61490a1363517a0190416235\"},\"datasets\":{},\"encoding\":{\"color\":{\"field\":\"Origin\",\"type\":\"nominal\"},\"tooltip\":[{\"field\":\"Name\",\"type\":\"nominal\"},{\"field\":\"Origin\",\"type\":\"nominal\"},{\"field\":\"Horsepower\",\"type\":\"quantitative\"},{\"field\":\"Miles_per_Gallon\",\"type\":\"quantitative\"}],\"x\":{\"field\":\"Horsepower\",\"type\":\"quantitative\"},\"y\":{\"field\":\"Miles_per_Gallon\",\"type\":\"quantitative\"}},\"mark\":{\"size\":30,\"type\":\"point\"},\"selection\":{\"selector005\":{\"bind\":\"scales\",\"encodings\":[\"x\",\"y\"],\"type\":\"interval\"}}},\"data_sources\":{\"data-f02450ab61490a1363517a0190416235\":{\"id\":\"1002\"}},\"events\":[\"selector005\"],\"height\":322,\"margin\":[5,5,30,5],\"subscribed_events\":[\"vega_event\"],\"throttle\":{\"selector005\":20},\"width\":422},\"id\":\"1003\",\"type\":\"panel.models.vega.VegaPlot\"},{\"attributes\":{},\"id\":\"1005\",\"type\":\"Selection\"},{\"attributes\":{},\"id\":\"1004\",\"type\":\"UnionRenderers\"},{\"attributes\":{\"data\":{\"Acceleration\":{\"__ndarray__\":\"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\",\"dtype\":\"float64\",\"order\":\"little\",\"shape\":[406]},\"Cylinders\":[8,8,8,8,8,8,8,8,8,8,4,8,8,8,8,8,8,8,8,8,4,6,6,6,4,4,4,4,4,4,6,8,8,8,8,4,4,4,4,4,6,6,6,6,6,8,8,8,8,8,8,8,6,4,6,6,4,4,4,4,4,4,4,4,4,4,4,4,4,8,8,8,8,8,8,8,8,8,3,8,8,8,8,4,4,4,4,4,4,4,4,4,8,8,8,8,8,8,8,8,8,8,8,8,6,6,6,6,6,4,8,8,8,8,6,4,4,4,3,4,6,4,8,8,4,4,4,4,8,4,6,8,6,6,6,6,4,4,4,4,6,6,6,8,8,8,8,8,4,4,4,4,4,4,4,4,4,4,4,6,6,6,6,8,8,8,8,6,6,6,6,6,8,8,4,4,6,4,4,4,4,6,4,6,4,4,4,4,4,4,4,4,4,4,8,8,8,8,6,6,6,6,4,4,4,4,6,6,6,6,4,4,4,4,4,8,4,6,6,8,8,8,8,4,4,4,4,4,8,8,8,8,6,6,6,6,8,8,8,8,4,4,4,4,4,4,4,4,6,4,3,4,4,4,4,4,8,8,8,6,6,6,4,6,6,6,6,6,6,8,6,8,8,4,4,4,4,4,4,4,4,5,6,4,6,4,4,6,6,4,6,6,8,8,8,8,8,8,8,8,4,4,4,4,5,8,4,8,4,4,4,4,4,6,6,4,4,4,4,4,4,4,4,6,4,4,4,4,4,4,4,4,4,4,5,4,4,4,4,4,6,3,4,4,4,4,4,4,6,4,4,4,4,4,4,4,4,4,4,4,4,4,4,4,4,4,4,4,6,6,6,6,8,6,6,4,4,4,4,4,4,4,4,4,4,4,4,4,4,4,4,4,4,4,6,6,4,6,4,4,4,4,4,4,4,4],\"Displacement\":{\"__ndarray__\":\"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\",\"dtype\":\"float64\",\"order\":\"little\",\"shape\":[406]},\"Horsepower\":{\"__ndarray__\":\"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\",\"dtype\":\"float64\",\"order\":\"little\",\"shape\":[406]},\"Miles_per_Gallon\":{\"__ndarray__\":\"AAAAAAAAMkAAAAAAAAAuQAAAAAAAADJAAAAAAAAAMEAAAAAAAAAxQAAAAAAAAC5AAAAAAAAALEAAAAAAAAAsQAAAAAAAACxAAAAAAAAALkAAAAAAAAD4fwAAAAAAAPh/AAAAAAAA+H8AAAAAAAD4fwAAAAAAAPh/AAAAAAAALkAAAAAAAAAsQAAAAAAAAPh/AAAAAAAALkAAAAAAAAAsQAAAAAAAADhAAAAAAAAANkAAAAAAAAAyQAAAAAAAADVAAAAAAAAAO0AAAAAAAAA6QAAAAAAAADlAAAAAAAAAOEAAAAAAAAA5QAAAAAAAADpAAAAAAAAANUAAAAAAAAAkQAAAAAAAACRAAAAAAAAAJkAAAAAAAAAiQAAAAAAAADtAAAAAAAAAPEAAAAAAAAA5QAAAAAAAADlAAAAAAAAA+H8AAAAAAAAzQAAAAAAAADBAAAAAAAAAMUAAAAAAAAAzQAAAAAAAADJAAAAAAAAALEAAAAAAAAAsQAAAAAAAACxAAAAAAAAALEAAAAAAAAAoQAAAAAAAACpAAAAAAAAAKkAAAAAAAAAyQAAAAAAAADZAAAAAAAAAM0AAAAAAAAAyQAAAAAAAADdAAAAAAAAAPEAAAAAAAAA+QAAAAAAAAD5AAAAAAAAAP0AAAAAAAIBBQAAAAAAAADtAAAAAAAAAOkAAAAAAAAA4QAAAAAAAADlAAAAAAAAAN0AAAAAAAAA0QAAAAAAAADVAAAAAAAAAKkAAAAAAAAAsQAAAAAAAAC5AAAAAAAAALEAAAAAAAAAxQAAAAAAAACZAAAAAAAAAKkAAAAAAAAAoQAAAAAAAACpAAAAAAAAAM0AAAAAAAAAuQAAAAAAAACpAAAAAAAAAKkAAAAAAAAAsQAAAAAAAADJAAAAAAAAANkAAAAAAAAA1QAAAAAAAADpAAAAAAAAANkAAAAAAAAA8QAAAAAAAADdAAAAAAAAAPEAAAAAAAAA7QAAAAAAAACpAAAAAAAAALEAAAAAAAAAqQAAAAAAAACxAAAAAAAAALkAAAAAAAAAoQAAAAAAAACpAAAAAAAAAKkAAAAAAAAAsQAAAAAAAACpAAAAAAAAAKEAAAAAAAAAqQAAAAAAAADJAAAAAAAAAMEAAAAAAAAAyQAAAAAAAADJAAAAAAAAAN0AAAAAAAAA6QAAAAAAAACZAAAAAAAAAKEAAAAAAAAAqQAAAAAAAAChAAAAAAAAAMkAAAAAAAAA0QAAAAAAAADVAAAAAAAAANkAAAAAAAAAyQAAAAAAAADNAAAAAAAAANUAAAAAAAAA6QAAAAAAAAC5AAAAAAAAAMEAAAAAAAAA9QAAAAAAAADhAAAAAAAAANEAAAAAAAAAzQAAAAAAAAC5AAAAAAAAAOEAAAAAAAAA0QAAAAAAAACZAAAAAAAAANEAAAAAAAAA1QAAAAAAAADNAAAAAAAAALkAAAAAAAAA/QAAAAAAAADpAAAAAAAAAQEAAAAAAAAA5QAAAAAAAADBAAAAAAAAAMEAAAAAAAAAyQAAAAAAAADBAAAAAAAAAKkAAAAAAAAAsQAAAAAAAACxAAAAAAAAALEAAAAAAAAA9QAAAAAAAADpAAAAAAAAAOkAAAAAAAAA/QAAAAAAAAEBAAAAAAAAAPEAAAAAAAAA4QAAAAAAAADpAAAAAAAAAOEAAAAAAAAA6QAAAAAAAAD9AAAAAAAAAM0AAAAAAAAAyQAAAAAAAAC5AAAAAAAAALkAAAAAAAAAwQAAAAAAAAC5AAAAAAAAAMEAAAAAAAAAsQAAAAAAAADFAAAAAAAAAMEAAAAAAAAAuQAAAAAAAADJAAAAAAAAANUAAAAAAAAA0QAAAAAAAACpAAAAAAAAAPUAAAAAAAAA3QAAAAAAAADRAAAAAAAAAN0AAAAAAAAA4QAAAAAAAADlAAAAAAAAAOEAAAAAAAAAyQAAAAAAAAD1AAAAAAAAAM0AAAAAAAAA3QAAAAAAAADdAAAAAAAAANkAAAAAAAAA5QAAAAAAAgEBAAAAAAAAAPEAAAAAAAAA5QAAAAAAAADlAAAAAAAAAOkAAAAAAAAA7QAAAAAAAgDFAAAAAAAAAMEAAAAAAAAAvQAAAAAAAAC1AAAAAAAAANkAAAAAAAAA2QAAAAAAAADhAAAAAAACANkAAAAAAAAA9QAAAAAAAgDhAAAAAAAAAPUAAAAAAAIBAQAAAAAAAADRAAAAAAAAAMkAAAAAAAIAyQAAAAAAAgDFAAAAAAACAPUAAAAAAAABAQAAAAAAAADxAAAAAAACAOkAAAAAAAAA0QAAAAAAAACpAAAAAAAAAM0AAAAAAAAAzQAAAAAAAgDBAAAAAAACAMEAAAAAAAAAqQAAAAAAAACpAAAAAAAAAKkAAAAAAAIA/QAAAAAAAAD5AAAAAAAAAQkAAAAAAAIA5QAAAAAAAwEBAAAAAAACAMUAAAAAAAAAxQAAAAAAAAC9AAAAAAAAALkAAAAAAAIAxQAAAAAAAgDRAAAAAAAAAM0AAAAAAAIAyQAAAAAAAADBAAAAAAAAAL0AAAAAAAAAvQAAAAAAAADBAAAAAAAAAPUAAAAAAAIA4QAAAAAAAADpAAAAAAACAOUAAAAAAAIA+QAAAAAAAwEBAAAAAAAAAPkAAAAAAAIA+QAAAAAAAADZAAAAAAACANUAAAAAAAIA1QM3MzMzMjEVAzczMzMwMQkBmZmZmZmZAQDMzMzMzs0NAzczMzMwMQkBmZmZmZuYzQGZmZmZmZjNAMzMzMzMzNEAzMzMzMzMzQAAAAAAAgDRAMzMzMzMzNECamZmZmRk5QAAAAAAAgDRAZmZmZmZmM0CamZmZmZk0QM3MzMzMzDRAmpmZmZmZMkCamZmZmRkyQDMzMzMzMzNAMzMzMzOzMUCamZmZmRkyQAAAAAAAgDFAAAAAAAAAPkAAAAAAAIA7QDMzMzMzMztAZmZmZmbmPkCamZmZmRk1QDMzMzMzMzdAzczMzMzMN0BmZmZmZuY3QM3MzMzMTDRAAAAAAAAAMUCamZmZmZk1QDMzMzMzMzBAAAAAAACAP0AAAAAAAIA9QAAAAAAAgDVAzczMzMzMM0DNzMzMzEw2QDMzMzMzMzRAmpmZmZmZNEAAAAAAAAAxQJqZmZmZmTFAAAAAAACAMEAzMzMzMzMyQGZmZmZm5jBAAAAAAAAAL0AzMzMzMzMzQAAAAAAAgDJAZmZmZmbmP0DNzMzMzAxBQJqZmZmZ2UFAZmZmZmZmO0BmZmZmZmY5QAAAAAAAADdAMzMzMzMzO0BmZmZmZuY3QJqZmZmZGUFAAAAAAABAQUDNzMzMzMw/QGZmZmZmpkJAZmZmZmZmPEDNzMzMzMw8QM3MzMzMzDpAAAAAAADAQEAAAAAAAMBEQM3MzMzMDENAzczMzMwMQECamZmZmZlCQAAAAAAAADxAZmZmZmZmOkDNzMzMzEw4QJqZmZmZGTNAZmZmZmYmQUDNzMzMzMw9QM3MzMzMTD9AAAAAAACAQkCamZmZmRlAQM3MzMzMTEdAZmZmZmbmO0BmZmZmZmZEQGZmZmZmJkZAMzMzMzOzRUAzMzMzMzNCQAAAAAAAAD5AzczMzMxMRkAzMzMzM3NEQGZmZmZm5kBAzczMzMzMPUCamZmZmVlAQDMzMzMzszdAAAAAAACAQUCamZmZmZk3QDMzMzMzM0BAMzMzMzMzO0CamZmZmZk6QM3MzMzMzDlAAAAAAACAN0AAAAAAAAA+QM3MzMzMjENAAAAAAACAQ0DNzMzMzIxBQGZmZmZmJkBAAAAAAACAQkCamZmZmdlCQM3MzMzMDEFAmpmZmZlZQUAzMzMzMzNBQGZmZmZm5j1AAAAAAACAQEAAAAAAAEBBQJqZmZmZ2UBAMzMzMzMzQEAzMzMzM3NAQJqZmZmZmT9AmpmZmZkZPEAAAAAAAAD4fzMzMzMzsz5AZmZmZmZmOUAzMzMzMzM4QGZmZmZmZjZAmpmZmZmZOkAzMzMzMzM0QJqZmZmZmTFAAAAAAAAAPEAAAAAAAAA7QAAAAAAAAEFAAAAAAAAAP0AAAAAAAAA9QAAAAAAAADtAAAAAAAAAOEAAAAAAAAA3QAAAAAAAAEJAAAAAAACAQkAAAAAAAAA/QAAAAAAAAENAAAAAAAAAQkAAAAAAAABCQAAAAAAAAEJAAAAAAAAAQUAAAAAAAABDQAAAAAAAAEBAAAAAAAAAQ0AAAAAAAAA5QAAAAAAAAENAAAAAAAAAOkAAAAAAAAA2QAAAAAAAAEBAAAAAAAAAQkAAAAAAAAA7QAAAAAAAADtAAAAAAAAARkAAAAAAAABAQAAAAAAAADxAAAAAAAAAP0A=\",\"dtype\":\"float64\",\"order\":\"little\",\"shape\":[406]},\"Name\":[\"chevrolet chevelle malibu\",\"buick skylark 320\",\"plymouth satellite\",\"amc rebel sst\",\"ford torino\",\"ford galaxie 500\",\"chevrolet impala\",\"plymouth fury iii\",\"pontiac catalina\",\"amc ambassador dpl\",\"citroen ds-21 pallas\",\"chevrolet chevelle concours (sw)\",\"ford torino (sw)\",\"plymouth satellite (sw)\",\"amc rebel sst (sw)\",\"dodge challenger se\",\"plymouth 'cuda 340\",\"ford mustang boss 302\",\"chevrolet monte carlo\",\"buick estate wagon (sw)\",\"toyota corona mark ii\",\"plymouth duster\",\"amc hornet\",\"ford maverick\",\"datsun pl510\",\"volkswagen 1131 deluxe sedan\",\"peugeot 504\",\"audi 100 ls\",\"saab 99e\",\"bmw 2002\",\"amc gremlin\",\"ford f250\",\"chevy c20\",\"dodge d200\",\"hi 1200d\",\"datsun pl510\",\"chevrolet vega 2300\",\"toyota corona\",\"ford pinto\",\"volkswagen super beetle 117\",\"amc gremlin\",\"plymouth satellite custom\",\"chevrolet chevelle malibu\",\"ford torino 500\",\"amc matador\",\"chevrolet impala\",\"pontiac catalina brougham\",\"ford galaxie 500\",\"plymouth fury iii\",\"dodge monaco (sw)\",\"ford country squire (sw)\",\"pontiac safari (sw)\",\"amc hornet sportabout (sw)\",\"chevrolet vega (sw)\",\"pontiac firebird\",\"ford mustang\",\"mercury capri 2000\",\"opel 1900\",\"peugeot 304\",\"fiat 124b\",\"toyota corolla 1200\",\"datsun 1200\",\"volkswagen model 111\",\"plymouth cricket\",\"toyota corona hardtop\",\"dodge colt hardtop\",\"volkswagen type 3\",\"chevrolet vega\",\"ford pinto runabout\",\"chevrolet impala\",\"pontiac catalina\",\"plymouth fury iii\",\"ford galaxie 500\",\"amc ambassador sst\",\"mercury marquis\",\"buick lesabre custom\",\"oldsmobile delta 88 royale\",\"chrysler newport royal\",\"mazda rx2 coupe\",\"amc matador (sw)\",\"chevrolet chevelle concours (sw)\",\"ford gran torino (sw)\",\"plymouth satellite custom (sw)\",\"volvo 145e (sw)\",\"volkswagen 411 (sw)\",\"peugeot 504 (sw)\",\"renault 12 (sw)\",\"ford pinto (sw)\",\"datsun 510 (sw)\",\"toyouta corona mark ii (sw)\",\"dodge colt (sw)\",\"toyota corolla 1600 (sw)\",\"buick century 350\",\"amc matador\",\"chevrolet malibu\",\"ford gran torino\",\"dodge coronet custom\",\"mercury marquis brougham\",\"chevrolet caprice classic\",\"ford ltd\",\"plymouth fury gran sedan\",\"chrysler new yorker brougham\",\"buick electra 225 custom\",\"amc ambassador brougham\",\"plymouth valiant\",\"chevrolet nova custom\",\"amc hornet\",\"ford maverick\",\"plymouth duster\",\"volkswagen super beetle\",\"chevrolet impala\",\"ford country\",\"plymouth custom suburb\",\"oldsmobile vista cruiser\",\"amc gremlin\",\"toyota carina\",\"chevrolet vega\",\"datsun 610\",\"maxda rx3\",\"ford pinto\",\"mercury capri v6\",\"fiat 124 sport coupe\",\"chevrolet monte carlo s\",\"pontiac grand prix\",\"fiat 128\",\"opel manta\",\"audi 100ls\",\"volvo 144ea\",\"dodge dart custom\",\"saab 99le\",\"toyota mark ii\",\"oldsmobile omega\",\"plymouth duster\",\"ford maverick\",\"amc hornet\",\"chevrolet nova\",\"datsun b210\",\"ford pinto\",\"toyota corolla 1200\",\"chevrolet vega\",\"chevrolet chevelle malibu classic\",\"amc matador\",\"plymouth satellite sebring\",\"ford gran torino\",\"buick century luxus (sw)\",\"dodge coronet custom (sw)\",\"ford gran torino (sw)\",\"amc matador (sw)\",\"audi fox\",\"volkswagen dasher\",\"opel manta\",\"toyota corona\",\"datsun 710\",\"dodge colt\",\"fiat 128\",\"fiat 124 tc\",\"honda civic\",\"subaru\",\"fiat x1.9\",\"plymouth valiant custom\",\"chevrolet nova\",\"mercury monarch\",\"ford maverick\",\"pontiac catalina\",\"chevrolet bel air\",\"plymouth grand fury\",\"ford ltd\",\"buick century\",\"chevroelt chevelle malibu\",\"amc matador\",\"plymouth fury\",\"buick skyhawk\",\"chevrolet monza 2+2\",\"ford mustang ii\",\"toyota corolla\",\"ford pinto\",\"amc gremlin\",\"pontiac astro\",\"toyota corona\",\"volkswagen dasher\",\"datsun 710\",\"ford pinto\",\"volkswagen rabbit\",\"amc pacer\",\"audi 100ls\",\"peugeot 504\",\"volvo 244dl\",\"saab 99le\",\"honda civic cvcc\",\"fiat 131\",\"opel 1900\",\"capri ii\",\"dodge colt\",\"renault 12tl\",\"chevrolet chevelle malibu classic\",\"dodge coronet brougham\",\"amc matador\",\"ford gran torino\",\"plymouth valiant\",\"chevrolet nova\",\"ford maverick\",\"amc hornet\",\"chevrolet chevette\",\"chevrolet woody\",\"vw rabbit\",\"honda civic\",\"dodge aspen se\",\"ford granada ghia\",\"pontiac ventura sj\",\"amc pacer d/l\",\"volkswagen rabbit\",\"datsun b-210\",\"toyota corolla\",\"ford pinto\",\"volvo 245\",\"plymouth volare premier v8\",\"peugeot 504\",\"toyota mark ii\",\"mercedes-benz 280s\",\"cadillac seville\",\"chevy c10\",\"ford f108\",\"dodge d100\",\"honda Accelerationord cvcc\",\"buick opel isuzu deluxe\",\"renault 5 gtl\",\"plymouth arrow gs\",\"datsun f-10 hatchback\",\"chevrolet caprice classic\",\"oldsmobile cutlass supreme\",\"dodge monaco brougham\",\"mercury cougar brougham\",\"chevrolet concours\",\"buick skylark\",\"plymouth volare custom\",\"ford granada\",\"pontiac grand prix lj\",\"chevrolet monte carlo landau\",\"chrysler cordoba\",\"ford thunderbird\",\"volkswagen rabbit custom\",\"pontiac sunbird coupe\",\"toyota corolla liftback\",\"ford mustang ii 2+2\",\"chevrolet chevette\",\"dodge colt m/m\",\"subaru dl\",\"volkswagen dasher\",\"datsun 810\",\"bmw 320i\",\"mazda rx-4\",\"volkswagen rabbit custom diesel\",\"ford fiesta\",\"mazda glc deluxe\",\"datsun b210 gx\",\"honda civic cvcc\",\"oldsmobile cutlass salon brougham\",\"dodge diplomat\",\"mercury monarch ghia\",\"pontiac phoenix lj\",\"chevrolet malibu\",\"ford fairmont (auto)\",\"ford fairmont (man)\",\"plymouth volare\",\"amc concord\",\"buick century special\",\"mercury zephyr\",\"dodge aspen\",\"amc concord d/l\",\"chevrolet monte carlo landau\",\"buick regal sport coupe (turbo)\",\"ford futura\",\"dodge magnum xe\",\"chevrolet chevette\",\"toyota corona\",\"datsun 510\",\"dodge omni\",\"toyota celica gt liftback\",\"plymouth sapporo\",\"oldsmobile starfire sx\",\"datsun 200-sx\",\"audi 5000\",\"volvo 264gl\",\"saab 99gle\",\"peugeot 604sl\",\"volkswagen scirocco\",\"honda Accelerationord lx\",\"pontiac lemans v6\",\"mercury zephyr 6\",\"ford fairmont 4\",\"amc concord dl 6\",\"dodge aspen 6\",\"chevrolet caprice classic\",\"ford ltd landau\",\"mercury grand marquis\",\"dodge st. regis\",\"buick estate wagon (sw)\",\"ford country squire (sw)\",\"chevrolet malibu classic (sw)\",\"chrysler lebaron town @ country (sw)\",\"vw rabbit custom\",\"maxda glc deluxe\",\"dodge colt hatchback custom\",\"amc spirit dl\",\"mercedes benz 300d\",\"cadillac eldorado\",\"peugeot 504\",\"oldsmobile cutlass salon brougham\",\"plymouth horizon\",\"plymouth horizon tc3\",\"datsun 210\",\"fiat strada custom\",\"buick skylark limited\",\"chevrolet citation\",\"oldsmobile omega brougham\",\"pontiac phoenix\",\"vw rabbit\",\"toyota corolla tercel\",\"chevrolet chevette\",\"datsun 310\",\"chevrolet citation\",\"ford fairmont\",\"amc concord\",\"dodge aspen\",\"audi 4000\",\"toyota corona liftback\",\"mazda 626\",\"datsun 510 hatchback\",\"toyota corolla\",\"mazda glc\",\"dodge colt\",\"datsun 210\",\"vw rabbit c (diesel)\",\"vw dasher (diesel)\",\"audi 5000s (diesel)\",\"mercedes-benz 240d\",\"honda civic 1500 gl\",\"renault lecar deluxe\",\"subaru dl\",\"vokswagen rabbit\",\"datsun 280-zx\",\"mazda rx-7 gs\",\"triumph tr7 coupe\",\"ford mustang cobra\",\"honda Accelerationord\",\"plymouth reliant\",\"buick skylark\",\"dodge aries wagon (sw)\",\"chevrolet citation\",\"plymouth reliant\",\"toyota starlet\",\"plymouth champ\",\"honda civic 1300\",\"subaru\",\"datsun 210\",\"toyota tercel\",\"mazda glc 4\",\"plymouth horizon 4\",\"ford escort 4w\",\"ford escort 2h\",\"volkswagen jetta\",\"renault 18i\",\"honda prelude\",\"toyota corolla\",\"datsun 200sx\",\"mazda 626\",\"peugeot 505s turbo diesel\",\"saab 900s\",\"volvo diesel\",\"toyota cressida\",\"datsun 810 maxima\",\"buick century\",\"oldsmobile cutlass ls\",\"ford granada gl\",\"chrysler lebaron salon\",\"chevrolet cavalier\",\"chevrolet cavalier wagon\",\"chevrolet cavalier 2-door\",\"pontiac j2000 se hatchback\",\"dodge aries se\",\"pontiac phoenix\",\"ford fairmont futura\",\"amc concord dl\",\"volkswagen rabbit l\",\"mazda glc custom l\",\"mazda glc custom\",\"plymouth horizon miser\",\"mercury lynx l\",\"nissan stanza xe\",\"honda Accelerationord\",\"toyota corolla\",\"honda civic\",\"honda civic (auto)\",\"datsun 310 gx\",\"buick century limited\",\"oldsmobile cutlass ciera (diesel)\",\"chrysler lebaron medallion\",\"ford granada l\",\"toyota celica gt\",\"dodge charger 2.2\",\"chevrolet camaro\",\"ford mustang gl\",\"vw pickup\",\"dodge rampage\",\"ford ranger\",\"chevy s-10\"],\"Origin\":[\"USA\",\"USA\",\"USA\",\"USA\",\"USA\",\"USA\",\"USA\",\"USA\",\"USA\",\"USA\",\"Europe\",\"USA\",\"USA\",\"USA\",\"USA\",\"USA\",\"USA\",\"USA\",\"USA\",\"USA\",\"Japan\",\"USA\",\"USA\",\"USA\",\"Japan\",\"Europe\",\"Europe\",\"Europe\",\"Europe\",\"Europe\",\"USA\",\"USA\",\"USA\",\"USA\",\"USA\",\"Japan\",\"USA\",\"Japan\",\"USA\",\"Europe\",\"USA\",\"USA\",\"USA\",\"USA\",\"USA\",\"USA\",\"USA\",\"USA\",\"USA\",\"USA\",\"USA\",\"USA\",\"USA\",\"USA\",\"USA\",\"USA\",\"USA\",\"Europe\",\"Europe\",\"Europe\",\"Japan\",\"Japan\",\"Europe\",\"USA\",\"Japan\",\"USA\",\"Europe\",\"USA\",\"USA\",\"USA\",\"USA\",\"USA\",\"USA\",\"USA\",\"USA\",\"USA\",\"USA\",\"USA\",\"Japan\",\"USA\",\"USA\",\"USA\",\"USA\",\"Europe\",\"Europe\",\"Europe\",\"Europe\",\"USA\",\"Japan\",\"Japan\",\"USA\",\"Japan\",\"USA\",\"USA\",\"USA\",\"USA\",\"USA\",\"USA\",\"USA\",\"USA\",\"USA\",\"USA\",\"USA\",\"USA\",\"USA\",\"USA\",\"USA\",\"USA\",\"USA\",\"Europe\",\"USA\",\"USA\",\"USA\",\"USA\",\"USA\",\"Japan\",\"USA\",\"Japan\",\"Japan\",\"USA\",\"USA\",\"Europe\",\"USA\",\"USA\",\"Europe\",\"Europe\",\"Europe\",\"Europe\",\"USA\",\"Europe\",\"Japan\",\"USA\",\"USA\",\"USA\",\"USA\",\"USA\",\"Japan\",\"USA\",\"Japan\",\"USA\",\"USA\",\"USA\",\"USA\",\"USA\",\"USA\",\"USA\",\"USA\",\"USA\",\"Europe\",\"Europe\",\"Europe\",\"Japan\",\"Japan\",\"USA\",\"Europe\",\"Europe\",\"Japan\",\"Japan\",\"Europe\",\"USA\",\"USA\",\"USA\",\"USA\",\"USA\",\"USA\",\"USA\",\"USA\",\"USA\",\"USA\",\"USA\",\"USA\",\"USA\",\"USA\",\"USA\",\"Japan\",\"USA\",\"USA\",\"USA\",\"Japan\",\"Europe\",\"Japan\",\"USA\",\"Europe\",\"USA\",\"Europe\",\"Europe\",\"Europe\",\"Europe\",\"Japan\",\"Europe\",\"Europe\",\"USA\",\"USA\",\"Europe\",\"USA\",\"USA\",\"USA\",\"USA\",\"USA\",\"USA\",\"USA\",\"USA\",\"USA\",\"USA\",\"Europe\",\"Japan\",\"USA\",\"USA\",\"USA\",\"USA\",\"Europe\",\"Japan\",\"Japan\",\"USA\",\"Europe\",\"USA\",\"Europe\",\"Japan\",\"Europe\",\"USA\",\"USA\",\"USA\",\"USA\",\"Japan\",\"USA\",\"Europe\",\"USA\",\"Japan\",\"USA\",\"USA\",\"USA\",\"USA\",\"USA\",\"USA\",\"USA\",\"USA\",\"USA\",\"USA\",\"USA\",\"USA\",\"Europe\",\"USA\",\"Japan\",\"USA\",\"USA\",\"USA\",\"Japan\",\"Europe\",\"Japan\",\"Europe\",\"Japan\",\"Europe\",\"USA\",\"Japan\",\"Japan\",\"Japan\",\"USA\",\"USA\",\"USA\",\"USA\",\"USA\",\"USA\",\"USA\",\"USA\",\"USA\",\"USA\",\"USA\",\"USA\",\"USA\",\"USA\",\"USA\",\"USA\",\"USA\",\"USA\",\"Japan\",\"Japan\",\"USA\",\"Japan\",\"USA\",\"USA\",\"Japan\",\"Europe\",\"Europe\",\"Europe\",\"Europe\",\"Europe\",\"Japan\",\"USA\",\"USA\",\"USA\",\"USA\",\"USA\",\"USA\",\"USA\",\"USA\",\"USA\",\"USA\",\"USA\",\"USA\",\"USA\",\"Europe\",\"Japan\",\"USA\",\"USA\",\"Europe\",\"USA\",\"Europe\",\"USA\",\"USA\",\"USA\",\"Japan\",\"Europe\",\"USA\",\"USA\",\"USA\",\"USA\",\"Europe\",\"Japan\",\"USA\",\"Japan\",\"USA\",\"USA\",\"USA\",\"USA\",\"Europe\",\"Japan\",\"Japan\",\"Japan\",\"Japan\",\"Japan\",\"USA\",\"Japan\",\"Europe\",\"Europe\",\"Europe\",\"Europe\",\"Japan\",\"Europe\",\"Japan\",\"Europe\",\"Japan\",\"Japan\",\"Europe\",\"USA\",\"Japan\",\"USA\",\"USA\",\"USA\",\"USA\",\"USA\",\"Japan\",\"USA\",\"Japan\",\"Japan\",\"Japan\",\"Japan\",\"Japan\",\"USA\",\"USA\",\"USA\",\"Europe\",\"Europe\",\"Japan\",\"Japan\",\"Japan\",\"Japan\",\"Europe\",\"Europe\",\"Europe\",\"Japan\",\"Japan\",\"USA\",\"USA\",\"USA\",\"USA\",\"USA\",\"USA\",\"USA\",\"USA\",\"USA\",\"USA\",\"USA\",\"USA\",\"Europe\",\"Japan\",\"Japan\",\"USA\",\"USA\",\"Japan\",\"Japan\",\"Japan\",\"Japan\",\"Japan\",\"Japan\",\"USA\",\"USA\",\"USA\",\"USA\",\"Japan\",\"USA\",\"USA\",\"USA\",\"Europe\",\"USA\",\"USA\",\"USA\"],\"Weight_in_lbs\":[3504,3693,3436,3433,3449,4341,4354,4312,4425,3850,3090,4142,4034,4166,3850,3563,3609,3353,3761,3086,2372,2833,2774,2587,2130,1835,2672,2430,2375,2234,2648,4615,4376,4382,4732,2130,2264,2228,2046,1978,2634,3439,3329,3302,3288,4209,4464,4154,4096,4955,4746,5140,2962,2408,3282,3139,2220,2123,2074,2065,1773,1613,1834,1955,2278,2126,2254,2408,2226,4274,4385,4135,4129,3672,4633,4502,4456,4422,2330,3892,4098,4294,4077,2933,2511,2979,2189,2395,2288,2506,2164,2100,4100,3672,3988,4042,3777,4952,4464,4363,4237,4735,4951,3821,3121,3278,2945,3021,2904,1950,4997,4906,4654,4499,2789,2279,2401,2379,2124,2310,2472,2265,4082,4278,1867,2158,2582,2868,3399,2660,2807,3664,3102,2875,2901,3336,1950,2451,1836,2542,3781,3632,3613,4141,4699,4457,4638,4257,2219,1963,2300,1649,2003,2125,2108,2246,2489,2391,2000,3264,3459,3432,3158,4668,4440,4498,4657,3907,3897,3730,3785,3039,3221,3169,2171,2639,2914,2592,2702,2223,2545,2984,1937,3211,2694,2957,2945,2671,1795,2464,2220,2572,2255,2202,4215,4190,3962,4215,3233,3353,3012,3085,2035,2164,1937,1795,3651,3574,3645,3193,1825,1990,2155,2565,3150,3940,3270,2930,3820,4380,4055,3870,3755,2045,2155,1825,2300,1945,3880,4060,4140,4295,3520,3425,3630,3525,4220,4165,4325,4335,1940,2740,2265,2755,2051,2075,1985,2190,2815,2600,2720,1985,1800,1985,2070,1800,3365,3735,3570,3535,3155,2965,2720,3430,3210,3380,3070,3620,3410,3425,3445,3205,4080,2155,2560,2300,2230,2515,2745,2855,2405,2830,3140,2795,3410,1990,2135,3245,2990,2890,3265,3360,3840,3725,3955,3830,4360,4054,3605,3940,1925,1975,1915,2670,3530,3900,3190,3420,2200,2150,2020,2130,2670,2595,2700,2556,2144,1968,2120,2019,2678,2870,3003,3381,2188,2711,2542,2434,2265,2110,2800,2110,2085,2335,2950,3250,1850,1835,2145,1845,2910,2420,2500,2905,2290,2490,2635,2620,2725,2385,1755,1875,1760,2065,1975,2050,1985,2215,2045,2380,2190,2320,2210,2350,2615,2635,3230,2800,3160,2900,2930,3415,3725,3060,3465,2605,2640,2395,2575,2525,2735,2865,3035,1980,2025,1970,2125,2125,2160,2205,2245,1965,1965,1995,2945,3015,2585,2835,2665,2370,2950,2790,2130,2295,2625,2720],\"Year\":{\"__ndarray__\":\"AAAAAAAAAAAAAAAAAAAAAAAAAAAAAAAAAAAAAAAAAAAAAAAAAAAAAAAAAAAAAAAAAAAAAAAAAAAAAAAAAAAAAAAAAAAAAAAAAAAAAAAAAAAAAAAAAAAAAAAAAAAAAAAAAAAAAAAAAAAAAAAAAAAAAAAAAAAAAAAAAAAAAAAAAAAAAAAAAAAAAAAAAAAAAAAAAAAAAAAAAAAAAAAAAAAAAAAAAAAAAAAAAAAAAAAAAAAAAAAAAAAAAAAAAAAAAAAAAAAAAAAAAAAAAAAAAAAAAAAAAAAAAAAAAAAAAAAAAAAAAAAAAAAAAAAAAAAAAAAAAAAAAAAAAAAAAAAAAAAAAAAAAAAAAAAAAAAAAAAAAAAAAAAAAAAAAAAAALDEXh1CAAAAsMReHUIAAACwxF4dQgAAALDEXh1CAAAAsMReHUIAAACwxF4dQgAAALDEXh1CAAAAsMReHUIAAACwxF4dQgAAALDEXh1CAAAAsMReHUIAAACwxF4dQgAAALDEXh1CAAAAsMReHUIAAACwxF4dQgAAALDEXh1CAAAAsMReHUIAAACwxF4dQgAAALDEXh1CAAAAsMReHUIAAACwxF4dQgAAALDEXh1CAAAAsMReHUIAAACwxF4dQgAAALDEXh1CAAAAsMReHUIAAACwxF4dQgAAALDEXh1CAAAAsMReHUIAAACwxF4tQgAAALDEXi1CAAAAsMReLUIAAACwxF4tQgAAALDEXi1CAAAAsMReLUIAAACwxF4tQgAAALDEXi1CAAAAsMReLUIAAACwxF4tQgAAALDEXi1CAAAAsMReLUIAAACwxF4tQgAAALDEXi1CAAAAsMReLUIAAACwxF4tQgAAALDEXi1CAAAAsMReLUIAAACwxF4tQgAAALDEXi1CAAAAsMReLUIAAACwxF4tQgAAALDEXi1CAAAAsMReLUIAAACwxF4tQgAAALDEXi1CAAAAsMReLUIAAACwxF4tQgAAAOA5DDZCAAAA4DkMNkIAAADgOQw2QgAAAOA5DDZCAAAA4DkMNkIAAADgOQw2QgAAAOA5DDZCAAAA4DkMNkIAAADgOQw2QgAAAOA5DDZCAAAA4DkMNkIAAADgOQw2QgAAAOA5DDZCAAAA4DkMNkIAAADgOQw2QgAAAOA5DDZCAAAA4DkMNkIAAADgOQw2QgAAAOA5DDZCAAAA4DkMNkIAAADgOQw2QgAAAOA5DDZCAAAA4DkMNkIAAADgOQw2QgAAAOA5DDZCAAAA4DkMNkIAAADgOQw2QgAAAOA5DDZCAAAA4DkMNkIAAADgOQw2QgAAAOA5DDZCAAAA4DkMNkIAAADgOQw2QgAAAOA5DDZCAAAA4DkMNkIAAADgOQw2QgAAAOA5DDZCAAAA4DkMNkIAAADgOQw2QgAAAOA5DDZCAAAADOtjPUIAAAAM62M9QgAAAAzrYz1CAAAADOtjPUIAAAAM62M9QgAAAAzrYz1CAAAADOtjPUIAAAAM62M9QgAAAAzrYz1CAAAADOtjPUIAAAAM62M9QgAAAAzrYz1CAAAADOtjPUIAAAAM62M9QgAAAAzrYz1CAAAADOtjPUIAAAAM62M9QgAAAAzrYz1CAAAADOtjPUIAAAAM62M9QgAAAAzrYz1CAAAADOtjPUIAAAAM62M9QgAAAAzrYz1CAAAADOtjPUIAAAAM62M9QgAAAAzrYz1CAAAAHM5dQkIAAAAczl1CQgAAABzOXUJCAAAAHM5dQkIAAAAczl1CQgAAABzOXUJCAAAAHM5dQkIAAAAczl1CQgAAABzOXUJCAAAAHM5dQkIAAAAczl1CQgAAABzOXUJCAAAAHM5dQkIAAAAczl1CQgAAABzOXUJCAAAAHM5dQkIAAAAczl1CQgAAABzOXUJCAAAAHM5dQkIAAAAczl1CQgAAABzOXUJCAAAAHM5dQkIAAAAczl1CQgAAABzOXUJCAAAAHM5dQkIAAAAczl1CQgAAABzOXUJCAAAAHM5dQkIAAAAczl1CQgAAABzOXUJCAAAAsqYJRkIAAACypglGQgAAALKmCUZCAAAAsqYJRkIAAACypglGQgAAALKmCUZCAAAAsqYJRkIAAACypglGQgAAALKmCUZCAAAAsqYJRkIAAACypglGQgAAALKmCUZCAAAAsqYJRkIAAACypglGQgAAALKmCUZCAAAAsqYJRkIAAACypglGQgAAALKmCUZCAAAAsqYJRkIAAACypglGQgAAALKmCUZCAAAAsqYJRkIAAACypglGQgAAALKmCUZCAAAAsqYJRkIAAACypglGQgAAALKmCUZCAAAAsqYJRkIAAACypglGQgAAALKmCUZCAAAAsqYJRkIAAACypglGQgAAALKmCUZCAAAAsqYJRkIAAAB2ErhJQgAAAHYSuElCAAAAdhK4SUIAAAB2ErhJQgAAAHYSuElCAAAAdhK4SUIAAAB2ErhJQgAAAHYSuElCAAAAdhK4SUIAAAB2ErhJQgAAAHYSuElCAAAAdhK4SUIAAAB2ErhJQgAAAHYSuElCAAAAdhK4SUIAAAB2ErhJQgAAAHYSuElCAAAAdhK4SUIAAAB2ErhJQgAAAHYSuElCAAAAdhK4SUIAAAB2ErhJQgAAAHYSuElCAAAAdhK4SUIAAAB2ErhJQgAAAHYSuElCAAAAdhK4SUIAAAB2ErhJQgAAAAzrY01CAAAADOtjTUIAAAAM62NNQgAAAAzrY01CAAAADOtjTUIAAAAM62NNQgAAAAzrY01CAAAADOtjTUIAAAAM62NNQgAAAAzrY01CAAAADOtjTUIAAAAM62NNQgAAAAzrY01CAAAADOtjTUIAAAAM62NNQgAAAAzrY01CAAAADOtjTUIAAAAM62NNQgAAAAzrY01CAAAADOtjTUIAAAAM62NNQgAAAAzrY01CAAAADOtjTUIAAAAM62NNQgAAAAzrY01CAAAADOtjTUIAAAAM62NNQgAAAAzrY01CAAAADOtjTUIAAAAM62NNQgAAAAzrY01CAAAADOtjTUIAAAAM62NNQgAAAAzrY01CAAAADOtjTUIAAAAM62NNQgAAANHhh1BCAAAA0eGHUEIAAADR4YdQQgAAANHhh1BCAAAA0eGHUEIAAADR4YdQQgAAANHhh1BCAAAA0eGHUEIAAADR4YdQQgAAANHhh1BCAAAA0eGHUEIAAADR4YdQQgAAANHhh1BCAAAA0eGHUEIAAADR4YdQQgAAANHhh1BCAAAA0eGHUEIAAADR4YdQQgAAANHhh1BCAAAA0eGHUEIAAADR4YdQQgAAANHhh1BCAAAA0eGHUEIAAADR4YdQQgAAANHhh1BCAAAA0eGHUEIAAADR4YdQQgAAANHhh1BCAAAA0eGHUEIAAAAczl1SQgAAABzOXVJCAAAAHM5dUkIAAAAczl1SQgAAABzOXVJCAAAAHM5dUkIAAAAczl1SQgAAABzOXVJCAAAAHM5dUkIAAAAczl1SQgAAABzOXVJCAAAAHM5dUkIAAAAczl1SQgAAABzOXVJCAAAAHM5dUkIAAAAczl1SQgAAABzOXVJCAAAAHM5dUkIAAAAczl1SQgAAABzOXVJCAAAAHM5dUkIAAAAczl1SQgAAABzOXVJCAAAAHM5dUkIAAAAczl1SQgAAABzOXVJCAAAAHM5dUkIAAAAczl1SQgAAABzOXVJCAAAASfAKVkIAAABJ8ApWQgAAAEnwClZCAAAASfAKVkIAAABJ8ApWQgAAAEnwClZCAAAASfAKVkIAAABJ8ApWQgAAAEnwClZCAAAASfAKVkIAAABJ8ApWQgAAAEnwClZCAAAASfAKVkIAAABJ8ApWQgAAAEnwClZCAAAASfAKVkIAAABJ8ApWQgAAAEnwClZCAAAASfAKVkIAAABJ8ApWQgAAAEnwClZCAAAASfAKVkIAAABJ8ApWQgAAAEnwClZCAAAASfAKVkIAAABJ8ApWQgAAAEnwClZCAAAASfAKVkIAAABJ8ApWQgAAAEnwClZCAAAASfAKVkIAAABJ8ApWQgAAAEnwClZCAAAASfAKVkIAAABJ8ApWQgAAAEnwClZCAAAASfAKVkIAAABJ8ApWQgAAAEnwClZCAAAASfAKVkIAAABJ8ApWQgAAAEnwClZCAAAASfAKVkIAAABJ8ApWQgAAAEnwClZCAAAASfAKVkIAAABJ8ApWQgAAAEnwClZCAAAASfAKVkIAAABJ8ApWQgAAAEnwClZCAAAASfAKVkIAAABJ8ApWQgAAAEnwClZCAAAASfAKVkIAAABJ8ApWQgAAAEnwClZCAAAASfAKVkIAAABJ8ApWQgAAAEnwClZCAAAASfAKVkI=\",\"dtype\":\"float64\",\"order\":\"little\",\"shape\":[406]},\"index\":[0,1,2,3,4,5,6,7,8,9,10,11,12,13,14,15,16,17,18,19,20,21,22,23,24,25,26,27,28,29,30,31,32,33,34,35,36,37,38,39,40,41,42,43,44,45,46,47,48,49,50,51,52,53,54,55,56,57,58,59,60,61,62,63,64,65,66,67,68,69,70,71,72,73,74,75,76,77,78,79,80,81,82,83,84,85,86,87,88,89,90,91,92,93,94,95,96,97,98,99,100,101,102,103,104,105,106,107,108,109,110,111,112,113,114,115,116,117,118,119,120,121,122,123,124,125,126,127,128,129,130,131,132,133,134,135,136,137,138,139,140,141,142,143,144,145,146,147,148,149,150,151,152,153,154,155,156,157,158,159,160,161,162,163,164,165,166,167,168,169,170,171,172,173,174,175,176,177,178,179,180,181,182,183,184,185,186,187,188,189,190,191,192,193,194,195,196,197,198,199,200,201,202,203,204,205,206,207,208,209,210,211,212,213,214,215,216,217,218,219,220,221,222,223,224,225,226,227,228,229,230,231,232,233,234,235,236,237,238,239,240,241,242,243,244,245,246,247,248,249,250,251,252,253,254,255,256,257,258,259,260,261,262,263,264,265,266,267,268,269,270,271,272,273,274,275,276,277,278,279,280,281,282,283,284,285,286,287,288,289,290,291,292,293,294,295,296,297,298,299,300,301,302,303,304,305,306,307,308,309,310,311,312,313,314,315,316,317,318,319,320,321,322,323,324,325,326,327,328,329,330,331,332,333,334,335,336,337,338,339,340,341,342,343,344,345,346,347,348,349,350,351,352,353,354,355,356,357,358,359,360,361,362,363,364,365,366,367,368,369,370,371,372,373,374,375,376,377,378,379,380,381,382,383,384,385,386,387,388,389,390,391,392,393,394,395,396,397,398,399,400,401,402,403,404,405]},\"selected\":{\"id\":\"1005\"},\"selection_policy\":{\"id\":\"1004\"}},\"id\":\"1002\",\"type\":\"ColumnDataSource\"},{\"attributes\":{\"reload\":false},\"id\":\"1017\",\"type\":\"panel.models.location.Location\"},{\"attributes\":{\"client_comm_id\":\"ce35a11b3d33436fb8ffc5f51bc52fbc\",\"comm_id\":\"0f263db101ae4d8c90a6641965380cce\",\"plot_id\":\"1003\"},\"id\":\"1010\",\"type\":\"panel.models.comm_manager.CommManager\"}],\"root_ids\":[\"1003\",\"1010\",\"1017\"]},\"title\":\"Bokeh Application\",\"version\":\"2.4.3\"}};\n",
       "    var render_items = [{\"docid\":\"4f65a5ff-f230-4a5b-a16a-71b9647b63be\",\"root_ids\":[\"1003\"],\"roots\":{\"1003\":\"37094fe9-9e9b-4289-972c-2822a4e25990\"}}];\n",
       "    root.Bokeh.embed.embed_items_notebook(docs_json, render_items);\n",
       "    for (const render_item of render_items) {\n",
       "      for (const root_id of render_item.root_ids) {\n",
       "\tconst id_el = document.getElementById(root_id)\n",
       "\tif (id_el.children.length && (id_el.children[0].className === 'bk-root')) {\n",
       "\t  const root_el = id_el.children[0]\n",
       "\t  root_el.id = root_el.id + '-rendered'\n",
       "\t}\n",
       "      }\n",
       "    }\n",
       "  }\n",
       "  if (root.Bokeh !== undefined && root.Bokeh.Panel !== undefined && ( root['vega'] !== undefined)) {\n",
       "    embed_document(root);\n",
       "  } else {\n",
       "    var attempts = 0;\n",
       "    var timer = setInterval(function(root) {\n",
       "      if (root.Bokeh !== undefined && root.Bokeh.Panel !== undefined && (root['vega'] !== undefined)) {\n",
       "        clearInterval(timer);\n",
       "        embed_document(root);\n",
       "      } else if (document.readyState == \"complete\") {\n",
       "        attempts++;\n",
       "        if (attempts > 200) {\n",
       "          clearInterval(timer);\n",
       "          console.log(\"Bokeh: ERROR: Unable to run BokehJS code because BokehJS library is missing\");\n",
       "        }\n",
       "      }\n",
       "    }, 25, root)\n",
       "  }\n",
       "})(window);</script>"
      ],
      "text/plain": [
       "Vega(Chart, selection=Selection)"
      ]
     },
     "execution_count": 26,
     "metadata": {
      "application/vnd.holoviews_exec.v0+json": {
       "id": "1003"
      }
     },
     "output_type": "execute_result"
    }
   ],
   "source": [
    "import altair as alt\n",
    "from vega_datasets import data\n",
    "\n",
    "cars = data.cars()\n",
    "\n",
    "chart = alt.Chart(cars).mark_point(size=30).encode(\n",
    "    x='Horsepower',\n",
    "    y='Miles_per_Gallon',\n",
    "    color='Origin',\n",
    "    tooltip=['Name', 'Origin', 'Horsepower', 'Miles_per_Gallon']\n",
    ").interactive()\n",
    "\n",
    "altair_pane = pn.panel(chart)\n",
    "altair_pane"
   ]
  },
  {
   "cell_type": "markdown",
   "metadata": {},
   "source": [
    "The Altair chart can also be updated by updating the pane ``object``:"
   ]
  },
  {
   "cell_type": "code",
   "execution_count": 27,
   "metadata": {
    "tags": []
   },
   "outputs": [],
   "source": [
    "altair_pane.object = chart.mark_circle(size=100)"
   ]
  },
  {
   "cell_type": "markdown",
   "metadata": {},
   "source": [
    "All the usual layouts and composition operators that Altair supports can also be rendered:"
   ]
  },
  {
   "cell_type": "code",
   "execution_count": 28,
   "metadata": {
    "tags": []
   },
   "outputs": [
    {
     "data": {},
     "metadata": {},
     "output_type": "display_data"
    },
    {
     "data": {
      "application/vnd.holoviews_exec.v0+json": "",
      "text/html": [
       "<div id='1027'>\n",
       "  <div class=\"bk-root\" id=\"4c2a119b-f818-4aef-ad81-c027d4168f68\" data-root-id=\"1027\"></div>\n",
       "</div>\n",
       "<script type=\"application/javascript\">(function(root) {\n",
       "  function embed_document(root) {\n",
       "    var docs_json = {\"c78125af-c66c-401e-b589-e890c0809a3d\":{\"defs\":[{\"extends\":null,\"module\":null,\"name\":\"ReactiveHTML1\",\"overrides\":[],\"properties\":[]},{\"extends\":null,\"module\":null,\"name\":\"FlexBox1\",\"overrides\":[],\"properties\":[{\"default\":\"flex-start\",\"kind\":null,\"name\":\"align_content\"},{\"default\":\"flex-start\",\"kind\":null,\"name\":\"align_items\"},{\"default\":\"row\",\"kind\":null,\"name\":\"flex_direction\"},{\"default\":\"wrap\",\"kind\":null,\"name\":\"flex_wrap\"},{\"default\":\"flex-start\",\"kind\":null,\"name\":\"justify_content\"}]},{\"extends\":null,\"module\":null,\"name\":\"GridStack1\",\"overrides\":[],\"properties\":[{\"default\":\"warn\",\"kind\":null,\"name\":\"mode\"},{\"default\":null,\"kind\":null,\"name\":\"ncols\"},{\"default\":null,\"kind\":null,\"name\":\"nrows\"},{\"default\":true,\"kind\":null,\"name\":\"allow_resize\"},{\"default\":true,\"kind\":null,\"name\":\"allow_drag\"},{\"default\":[],\"kind\":null,\"name\":\"state\"}]},{\"extends\":null,\"module\":null,\"name\":\"click1\",\"overrides\":[],\"properties\":[{\"default\":\"\",\"kind\":null,\"name\":\"terminal_output\"},{\"default\":\"\",\"kind\":null,\"name\":\"debug_name\"},{\"default\":0,\"kind\":null,\"name\":\"clears\"}]},{\"extends\":null,\"module\":null,\"name\":\"NotificationAreaBase1\",\"overrides\":[],\"properties\":[{\"default\":\"bottom-right\",\"kind\":null,\"name\":\"position\"},{\"default\":0,\"kind\":null,\"name\":\"_clear\"}]},{\"extends\":null,\"module\":null,\"name\":\"NotificationArea1\",\"overrides\":[],\"properties\":[{\"default\":[],\"kind\":null,\"name\":\"notifications\"},{\"default\":\"bottom-right\",\"kind\":null,\"name\":\"position\"},{\"default\":0,\"kind\":null,\"name\":\"_clear\"},{\"default\":[{\"background\":\"#ffc107\",\"icon\":{\"className\":\"fas fa-exclamation-triangle\",\"color\":\"white\",\"tagName\":\"i\"},\"type\":\"warning\"},{\"background\":\"#007bff\",\"icon\":{\"className\":\"fas fa-info-circle\",\"color\":\"white\",\"tagName\":\"i\"},\"type\":\"info\"}],\"kind\":null,\"name\":\"types\"}]},{\"extends\":null,\"module\":null,\"name\":\"Notification\",\"overrides\":[],\"properties\":[{\"default\":null,\"kind\":null,\"name\":\"background\"},{\"default\":3000,\"kind\":null,\"name\":\"duration\"},{\"default\":null,\"kind\":null,\"name\":\"icon\"},{\"default\":\"\",\"kind\":null,\"name\":\"message\"},{\"default\":null,\"kind\":null,\"name\":\"notification_type\"},{\"default\":false,\"kind\":null,\"name\":\"_destroyed\"}]},{\"extends\":null,\"module\":null,\"name\":\"TemplateActions1\",\"overrides\":[],\"properties\":[{\"default\":0,\"kind\":null,\"name\":\"open_modal\"},{\"default\":0,\"kind\":null,\"name\":\"close_modal\"}]},{\"extends\":null,\"module\":null,\"name\":\"MaterialTemplateActions1\",\"overrides\":[],\"properties\":[{\"default\":0,\"kind\":null,\"name\":\"open_modal\"},{\"default\":0,\"kind\":null,\"name\":\"close_modal\"}]}],\"roots\":{\"references\":[{\"attributes\":{\"client_comm_id\":\"347ff6c88d80415baf2d496bf73583a5\",\"comm_id\":\"af93cca843b6440e9d535f954ddcebe2\",\"plot_id\":\"1027\"},\"id\":\"1028\",\"type\":\"panel.models.comm_manager.CommManager\"},{\"attributes\":{\"data\":{\"$schema\":\"https://vega.github.io/schema/vega-lite/v4.17.0.json\",\"config\":{\"view\":{\"continuousHeight\":300,\"continuousWidth\":400}},\"data\":{\"url\":\"https://raw.githubusercontent.com/vega/vega/master/docs/data/penguins.json\"},\"hconcat\":[{\"encoding\":{\"color\":{\"field\":\"Species\",\"type\":\"nominal\"},\"x\":{\"field\":\"Beak Length (mm)\",\"scale\":{\"zero\":false},\"type\":\"quantitative\"},\"y\":{\"field\":\"Beak Depth (mm)\",\"scale\":{\"zero\":false},\"type\":\"quantitative\"}},\"height\":300,\"mark\":\"point\",\"width\":300},{\"encoding\":{\"color\":{\"field\":\"Species\",\"type\":\"nominal\"},\"x\":{\"aggregate\":\"count\",\"type\":\"quantitative\"},\"y\":{\"bin\":{\"maxbins\":30},\"field\":\"Beak Depth (mm)\",\"type\":\"quantitative\"}},\"height\":300,\"mark\":\"bar\",\"width\":100}]},\"height\":322,\"margin\":[5,5,30,5],\"subscribed_events\":[\"vega_event\"],\"width\":422},\"id\":\"1027\",\"type\":\"panel.models.vega.VegaPlot\"}],\"root_ids\":[\"1027\",\"1028\"]},\"title\":\"Bokeh Application\",\"version\":\"2.4.3\"}};\n",
       "    var render_items = [{\"docid\":\"c78125af-c66c-401e-b589-e890c0809a3d\",\"root_ids\":[\"1027\"],\"roots\":{\"1027\":\"4c2a119b-f818-4aef-ad81-c027d4168f68\"}}];\n",
       "    root.Bokeh.embed.embed_items_notebook(docs_json, render_items);\n",
       "    for (const render_item of render_items) {\n",
       "      for (const root_id of render_item.root_ids) {\n",
       "\tconst id_el = document.getElementById(root_id)\n",
       "\tif (id_el.children.length && (id_el.children[0].className === 'bk-root')) {\n",
       "\t  const root_el = id_el.children[0]\n",
       "\t  root_el.id = root_el.id + '-rendered'\n",
       "\t}\n",
       "      }\n",
       "    }\n",
       "  }\n",
       "  if (root.Bokeh !== undefined && root.Bokeh.Panel !== undefined && ( root['vega'] !== undefined)) {\n",
       "    embed_document(root);\n",
       "  } else {\n",
       "    var attempts = 0;\n",
       "    var timer = setInterval(function(root) {\n",
       "      if (root.Bokeh !== undefined && root.Bokeh.Panel !== undefined && (root['vega'] !== undefined)) {\n",
       "        clearInterval(timer);\n",
       "        embed_document(root);\n",
       "      } else if (document.readyState == \"complete\") {\n",
       "        attempts++;\n",
       "        if (attempts > 200) {\n",
       "          clearInterval(timer);\n",
       "          console.log(\"Bokeh: ERROR: Unable to run BokehJS code because BokehJS library is missing\");\n",
       "        }\n",
       "      }\n",
       "    }, 25, root)\n",
       "  }\n",
       "})(window);</script>"
      ],
      "text/plain": [
       "Vega(HConcatChart, selection=Selection)"
      ]
     },
     "execution_count": 28,
     "metadata": {
      "application/vnd.holoviews_exec.v0+json": {
       "id": "1027"
      }
     },
     "output_type": "execute_result"
    }
   ],
   "source": [
    "penguins_url = \"https://raw.githubusercontent.com/vega/vega/master/docs/data/penguins.json\"\n",
    "\n",
    "chart1 = alt.Chart(penguins_url).mark_point().encode(\n",
    "    x=alt.X('Beak Length (mm):Q', scale=alt.Scale(zero=False)),\n",
    "    y=alt.Y('Beak Depth (mm):Q', scale=alt.Scale(zero=False)),\n",
    "    color='Species:N'\n",
    ").properties(\n",
    "    height=300,\n",
    "    width=300,\n",
    ")\n",
    "\n",
    "chart2 = alt.Chart(penguins_url).mark_bar().encode(\n",
    "    x='count()',\n",
    "    y=alt.Y('Beak Depth (mm):Q', bin=alt.Bin(maxbins=30)),\n",
    "    color='Species:N'\n",
    ").properties(\n",
    "    height=300,\n",
    "    width=100\n",
    ")\n",
    "\n",
    "pn.panel(chart1 | chart2)"
   ]
  },
  {
   "cell_type": "markdown",
   "metadata": {},
   "source": [
    "### Selections\n",
    "\n",
    "The `Vega` pane automatically syncs any selections expressed on the Vega/Altair chart. Three types of selections are currently supported:\n",
    "\n",
    "- `selection_interval`: Allows selecting a intervals using a box-select tool, returns data in the form of `{<x-axis-name: [xmin, xmax], <y-axis-name>: [ymin, ymax]}`\n",
    "- `selection_single`: Allows selecting a single point using clicks, returns a list of integer indices\n",
    "- `selection_multi`: Allows selecting a multiple points using (shift+) click, returns a list of integer indices.\n",
    "\n",
    "#### Interval selection\n",
    "\n",
    "As an example we can add an Altair `selection_interval` selection to our chart:"
   ]
  },
  {
   "cell_type": "code",
   "execution_count": 99,
   "metadata": {
    "tags": []
   },
   "outputs": [
    {
     "data": {},
     "metadata": {},
     "output_type": "display_data"
    },
    {
     "data": {
      "application/vnd.holoviews_exec.v0+json": "",
      "text/html": [
       "<div id='1472'>\n",
       "  <div class=\"bk-root\" id=\"0d5dd7ff-38c1-431f-b650-42ceb6e4521d\" data-root-id=\"1472\"></div>\n",
       "</div>\n",
       "<script type=\"application/javascript\">(function(root) {\n",
       "  function embed_document(root) {\n",
       "    var docs_json = {\"49575066-4871-48d0-becf-949a946d8f24\":{\"defs\":[{\"extends\":null,\"module\":null,\"name\":\"ReactiveHTML1\",\"overrides\":[],\"properties\":[]},{\"extends\":null,\"module\":null,\"name\":\"FlexBox1\",\"overrides\":[],\"properties\":[{\"default\":\"flex-start\",\"kind\":null,\"name\":\"align_content\"},{\"default\":\"flex-start\",\"kind\":null,\"name\":\"align_items\"},{\"default\":\"row\",\"kind\":null,\"name\":\"flex_direction\"},{\"default\":\"wrap\",\"kind\":null,\"name\":\"flex_wrap\"},{\"default\":\"flex-start\",\"kind\":null,\"name\":\"justify_content\"}]},{\"extends\":null,\"module\":null,\"name\":\"GridStack1\",\"overrides\":[],\"properties\":[{\"default\":\"warn\",\"kind\":null,\"name\":\"mode\"},{\"default\":null,\"kind\":null,\"name\":\"ncols\"},{\"default\":null,\"kind\":null,\"name\":\"nrows\"},{\"default\":true,\"kind\":null,\"name\":\"allow_resize\"},{\"default\":true,\"kind\":null,\"name\":\"allow_drag\"},{\"default\":[],\"kind\":null,\"name\":\"state\"}]},{\"extends\":null,\"module\":null,\"name\":\"click1\",\"overrides\":[],\"properties\":[{\"default\":\"\",\"kind\":null,\"name\":\"terminal_output\"},{\"default\":\"\",\"kind\":null,\"name\":\"debug_name\"},{\"default\":0,\"kind\":null,\"name\":\"clears\"}]},{\"extends\":null,\"module\":null,\"name\":\"NotificationAreaBase1\",\"overrides\":[],\"properties\":[{\"default\":\"bottom-right\",\"kind\":null,\"name\":\"position\"},{\"default\":0,\"kind\":null,\"name\":\"_clear\"}]},{\"extends\":null,\"module\":null,\"name\":\"NotificationArea1\",\"overrides\":[],\"properties\":[{\"default\":[],\"kind\":null,\"name\":\"notifications\"},{\"default\":\"bottom-right\",\"kind\":null,\"name\":\"position\"},{\"default\":0,\"kind\":null,\"name\":\"_clear\"},{\"default\":[{\"background\":\"#ffc107\",\"icon\":{\"className\":\"fas fa-exclamation-triangle\",\"color\":\"white\",\"tagName\":\"i\"},\"type\":\"warning\"},{\"background\":\"#007bff\",\"icon\":{\"className\":\"fas fa-info-circle\",\"color\":\"white\",\"tagName\":\"i\"},\"type\":\"info\"}],\"kind\":null,\"name\":\"types\"}]},{\"extends\":null,\"module\":null,\"name\":\"Notification\",\"overrides\":[],\"properties\":[{\"default\":null,\"kind\":null,\"name\":\"background\"},{\"default\":3000,\"kind\":null,\"name\":\"duration\"},{\"default\":null,\"kind\":null,\"name\":\"icon\"},{\"default\":\"\",\"kind\":null,\"name\":\"message\"},{\"default\":null,\"kind\":null,\"name\":\"notification_type\"},{\"default\":false,\"kind\":null,\"name\":\"_destroyed\"}]},{\"extends\":null,\"module\":null,\"name\":\"TemplateActions1\",\"overrides\":[],\"properties\":[{\"default\":0,\"kind\":null,\"name\":\"open_modal\"},{\"default\":0,\"kind\":null,\"name\":\"close_modal\"}]},{\"extends\":null,\"module\":null,\"name\":\"MaterialTemplateActions1\",\"overrides\":[],\"properties\":[{\"default\":0,\"kind\":null,\"name\":\"open_modal\"},{\"default\":0,\"kind\":null,\"name\":\"close_modal\"}]}],\"roots\":{\"references\":[{\"attributes\":{\"client_comm_id\":\"b5e20b7702fa42eb80631b22ecf4e697\",\"comm_id\":\"1391dd06bea143d6a4d9e25b6fb69fe7\",\"plot_id\":\"1472\"},\"id\":\"1473\",\"type\":\"panel.models.comm_manager.CommManager\"},{\"attributes\":{\"data\":{\"$schema\":\"https://vega.github.io/schema/vega-lite/v4.17.0.json\",\"config\":{\"view\":{\"continuousHeight\":300,\"continuousWidth\":400}},\"data\":{\"url\":\"https://raw.githubusercontent.com/vega/vega/master/docs/data/penguins.json\"},\"encoding\":{\"color\":{\"condition\":{\"field\":\"Species\",\"selection\":\"brush\",\"type\":\"nominal\"},\"value\":\"lightgray\"},\"x\":{\"field\":\"Beak Length (mm)\",\"scale\":{\"zero\":false},\"type\":\"quantitative\"},\"y\":{\"field\":\"Beak Depth (mm)\",\"scale\":{\"zero\":false},\"type\":\"quantitative\"}},\"height\":250,\"mark\":\"point\",\"selection\":{\"brush\":{\"type\":\"interval\"},\"species_selection\":{\"bind\":{\"input\":\"select\",\"name\":\"Species \",\"options\":[\"Adelie\",\"Chinstrap\",\"Gentoo\"]},\"fields\":[\"Species\"],\"type\":\"single\"}},\"transform\":[{\"filter\":{\"selection\":\"species_selection\"}}],\"width\":250},\"events\":[\"brush\",\"species_selection\"],\"height\":322,\"margin\":[5,5,30,5],\"subscribed_events\":[\"vega_event\"],\"throttle\":{\"brush\":5,\"species_selection\":5},\"width\":422},\"id\":\"1472\",\"type\":\"panel.models.vega.VegaPlot\"}],\"root_ids\":[\"1472\",\"1473\"]},\"title\":\"Bokeh Application\",\"version\":\"2.4.3\"}};\n",
       "    var render_items = [{\"docid\":\"49575066-4871-48d0-becf-949a946d8f24\",\"root_ids\":[\"1472\"],\"roots\":{\"1472\":\"0d5dd7ff-38c1-431f-b650-42ceb6e4521d\"}}];\n",
       "    root.Bokeh.embed.embed_items_notebook(docs_json, render_items);\n",
       "    for (const render_item of render_items) {\n",
       "      for (const root_id of render_item.root_ids) {\n",
       "\tconst id_el = document.getElementById(root_id)\n",
       "\tif (id_el.children.length && (id_el.children[0].className === 'bk-root')) {\n",
       "\t  const root_el = id_el.children[0]\n",
       "\t  root_el.id = root_el.id + '-rendered'\n",
       "\t}\n",
       "      }\n",
       "    }\n",
       "  }\n",
       "  if (root.Bokeh !== undefined && root.Bokeh.Panel !== undefined && ( root['vega'] !== undefined)) {\n",
       "    embed_document(root);\n",
       "  } else {\n",
       "    var attempts = 0;\n",
       "    var timer = setInterval(function(root) {\n",
       "      if (root.Bokeh !== undefined && root.Bokeh.Panel !== undefined && (root['vega'] !== undefined)) {\n",
       "        clearInterval(timer);\n",
       "        embed_document(root);\n",
       "      } else if (document.readyState == \"complete\") {\n",
       "        attempts++;\n",
       "        if (attempts > 200) {\n",
       "          clearInterval(timer);\n",
       "          console.log(\"Bokeh: ERROR: Unable to run BokehJS code because BokehJS library is missing\");\n",
       "        }\n",
       "      }\n",
       "    }, 25, root)\n",
       "  }\n",
       "})(window);</script>"
      ],
      "text/plain": [
       "Vega(Chart, debounce=5, selection=Selection)"
      ]
     },
     "execution_count": 99,
     "metadata": {
      "application/vnd.holoviews_exec.v0+json": {
       "id": "1472"
      }
     },
     "output_type": "execute_result"
    }
   ],
   "source": [
    "import pandas as pd\n",
    "penguins_url = \"https://raw.githubusercontent.com/vega/vega/master/docs/data/penguins.json\"\n",
    "df = pd.read_json(penguins_url)\n",
    "\n",
    "brush = alt.selection_interval(name='brush')  # selection of type \"interval\"\n",
    "\n",
    "\n",
    "input_dropdown = alt.binding_select(options=df.Species.unique().tolist(), name='Species ')\n",
    "species_selection = alt.selection_single(fields=['Species'], bind=input_dropdown, name='species_selection')\n",
    "\n",
    "chart = alt.Chart(penguins_url).mark_point().encode(\n",
    "    x=alt.X('Beak Length (mm):Q', scale=alt.Scale(zero=False)),\n",
    "    y=alt.Y('Beak Depth (mm):Q', scale=alt.Scale(zero=False)),\n",
    "    color=alt.condition(brush, 'Species:N', alt.value('lightgray'))\n",
    ").properties(\n",
    "    width=250,\n",
    "    height=250\n",
    ").add_selection(\n",
    "    brush, species_selection\n",
    ").transform_filter(species_selection)\n",
    "\n",
    "vega_pane = pn.pane.Vega(chart, debounce=5)\n",
    "\n",
    "vega_pane"
   ]
  },
  {
   "cell_type": "markdown",
   "metadata": {},
   "source": [
    "Note we specified a single `debounce` value, if we declare multiple selections we can instead declare a debounce value per named event by specifying it as a dictionary, e.g. `debounce={'brush': 10, ...}`.\n",
    "\n",
    "The named selection will now appear on the `.selection` sub-object:"
   ]
  },
  {
   "cell_type": "code",
   "execution_count": 100,
   "metadata": {
    "tags": []
   },
   "outputs": [
    {
     "data": {
      "text/plain": [
       "Selection(brush={'Beak Length (mm)': [43.770978515625, 51.498978515625], 'Beak Depth (mm)': [15.411896728515625, 17.823896728515624]}, name='Selection00455', species_selection=[])"
      ]
     },
     "execution_count": 100,
     "metadata": {},
     "output_type": "execute_result"
    }
   ],
   "source": [
    "vega_pane.selection"
   ]
  },
  {
   "cell_type": "markdown",
   "metadata": {},
   "source": [
    "By inspecting the JSON representation of the Altair chart we can see how to express these selections in vega(-lite):"
   ]
  },
  {
   "cell_type": "code",
   "execution_count": 9,
   "metadata": {
    "tags": []
   },
   "outputs": [
    {
     "data": {
      "text/plain": [
       "{'brush': {'type': 'interval'}}"
      ]
     },
     "execution_count": 9,
     "metadata": {},
     "output_type": "execute_result"
    }
   ],
   "source": [
    "chart.to_dict()['selection']"
   ]
  },
  {
   "cell_type": "markdown",
   "metadata": {},
   "source": [
    "#### Single & multi-selection\n",
    "\n",
    "Both single and multi-selection return the indices of the selected data as a list (in the case of single selection the list is always of length 0 or 1)."
   ]
  },
  {
   "cell_type": "code",
   "execution_count": 103,
   "metadata": {
    "tags": []
   },
   "outputs": [
    {
     "data": {},
     "metadata": {},
     "output_type": "display_data"
    },
    {
     "data": {
      "application/vnd.holoviews_exec.v0+json": "",
      "text/html": [
       "<div id='1494'>\n",
       "  <div class=\"bk-root\" id=\"90642377-3165-48c9-bad0-5530c1f27721\" data-root-id=\"1494\"></div>\n",
       "</div>\n",
       "<script type=\"application/javascript\">(function(root) {\n",
       "  function embed_document(root) {\n",
       "    var docs_json = {\"6890ce0a-219d-44b4-a066-6b25d96c63c5\":{\"defs\":[{\"extends\":null,\"module\":null,\"name\":\"ReactiveHTML1\",\"overrides\":[],\"properties\":[]},{\"extends\":null,\"module\":null,\"name\":\"FlexBox1\",\"overrides\":[],\"properties\":[{\"default\":\"flex-start\",\"kind\":null,\"name\":\"align_content\"},{\"default\":\"flex-start\",\"kind\":null,\"name\":\"align_items\"},{\"default\":\"row\",\"kind\":null,\"name\":\"flex_direction\"},{\"default\":\"wrap\",\"kind\":null,\"name\":\"flex_wrap\"},{\"default\":\"flex-start\",\"kind\":null,\"name\":\"justify_content\"}]},{\"extends\":null,\"module\":null,\"name\":\"GridStack1\",\"overrides\":[],\"properties\":[{\"default\":\"warn\",\"kind\":null,\"name\":\"mode\"},{\"default\":null,\"kind\":null,\"name\":\"ncols\"},{\"default\":null,\"kind\":null,\"name\":\"nrows\"},{\"default\":true,\"kind\":null,\"name\":\"allow_resize\"},{\"default\":true,\"kind\":null,\"name\":\"allow_drag\"},{\"default\":[],\"kind\":null,\"name\":\"state\"}]},{\"extends\":null,\"module\":null,\"name\":\"click1\",\"overrides\":[],\"properties\":[{\"default\":\"\",\"kind\":null,\"name\":\"terminal_output\"},{\"default\":\"\",\"kind\":null,\"name\":\"debug_name\"},{\"default\":0,\"kind\":null,\"name\":\"clears\"}]},{\"extends\":null,\"module\":null,\"name\":\"NotificationAreaBase1\",\"overrides\":[],\"properties\":[{\"default\":\"bottom-right\",\"kind\":null,\"name\":\"position\"},{\"default\":0,\"kind\":null,\"name\":\"_clear\"}]},{\"extends\":null,\"module\":null,\"name\":\"NotificationArea1\",\"overrides\":[],\"properties\":[{\"default\":[],\"kind\":null,\"name\":\"notifications\"},{\"default\":\"bottom-right\",\"kind\":null,\"name\":\"position\"},{\"default\":0,\"kind\":null,\"name\":\"_clear\"},{\"default\":[{\"background\":\"#ffc107\",\"icon\":{\"className\":\"fas fa-exclamation-triangle\",\"color\":\"white\",\"tagName\":\"i\"},\"type\":\"warning\"},{\"background\":\"#007bff\",\"icon\":{\"className\":\"fas fa-info-circle\",\"color\":\"white\",\"tagName\":\"i\"},\"type\":\"info\"}],\"kind\":null,\"name\":\"types\"}]},{\"extends\":null,\"module\":null,\"name\":\"Notification\",\"overrides\":[],\"properties\":[{\"default\":null,\"kind\":null,\"name\":\"background\"},{\"default\":3000,\"kind\":null,\"name\":\"duration\"},{\"default\":null,\"kind\":null,\"name\":\"icon\"},{\"default\":\"\",\"kind\":null,\"name\":\"message\"},{\"default\":null,\"kind\":null,\"name\":\"notification_type\"},{\"default\":false,\"kind\":null,\"name\":\"_destroyed\"}]},{\"extends\":null,\"module\":null,\"name\":\"TemplateActions1\",\"overrides\":[],\"properties\":[{\"default\":0,\"kind\":null,\"name\":\"open_modal\"},{\"default\":0,\"kind\":null,\"name\":\"close_modal\"}]},{\"extends\":null,\"module\":null,\"name\":\"MaterialTemplateActions1\",\"overrides\":[],\"properties\":[{\"default\":0,\"kind\":null,\"name\":\"open_modal\"},{\"default\":0,\"kind\":null,\"name\":\"close_modal\"}]}],\"roots\":{\"references\":[{\"attributes\":{\"data\":{\"Beak Depth (mm)\":{\"__ndarray__\":\"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\",\"dtype\":\"float64\",\"order\":\"little\",\"shape\":[344]},\"Beak Length (mm)\":{\"__ndarray__\":\"zczMzMyMQ0AAAAAAAMBDQGZmZmZmJkRAAAAAAAAA+H+amZmZmVlCQGZmZmZmpkNAMzMzMzNzQ0CamZmZmZlDQM3MzMzMDEFAAAAAAAAARUBmZmZmZuZCQGZmZmZm5kJAzczMzMyMREDNzMzMzExDQM3MzMzMTEFAzczMzMxMQkCamZmZmVlDQAAAAAAAQEVAMzMzMzMzQUAAAAAAAABHQGZmZmZm5kJAmpmZmZnZQkAzMzMzM/NBQJqZmZmZGUNAZmZmZmZmQ0BmZmZmZqZBQM3MzMzMTERAAAAAAABAREAzMzMzM/NCQAAAAAAAQERAAAAAAADAQ0CamZmZmZlCQAAAAAAAwENAMzMzMzNzREAzMzMzMzNCQJqZmZmZmUNAZmZmZmZmQ0CamZmZmRlFQM3MzMzMzEJAZmZmZmbmQ0AAAAAAAEBCQGZmZmZmZkRAAAAAAAAAQkDNzMzMzAxGQAAAAAAAgEJAzczMzMzMQ0DNzMzMzIxEQAAAAAAAwEJAAAAAAAAAQkBmZmZmZiZFQM3MzMzMzENAzczMzMwMREAAAAAAAIBBQAAAAAAAAEVAAAAAAABAQUAzMzMzM7NEQAAAAAAAgENAzczMzMxMREAAAAAAAEBCQM3MzMzMzEJAmpmZmZnZQUBmZmZmZqZEQM3MzMzMzEJAzczMzMyMREAzMzMzMzNCQM3MzMzMzERAAAAAAADAQUDNzMzMzIxEQDMzMzMz80FAZmZmZmbmREAAAAAAAMBAQJqZmZmZ2UNAzczMzMzMQ0BmZmZmZuZGQAAAAAAAwEFAZmZmZmZmRUAzMzMzM3NEQJqZmZmZmUJAmpmZmZkZQkDNzMzMzAxFQM3MzMzMTEFAMzMzMzNzRUCamZmZmVlCQM3MzMzMjEFAZmZmZmamQkBmZmZmZqZEQGZmZmZmJkJAMzMzMzNzQkBmZmZmZiZDQDMzMzMzc0NAmpmZmZnZQUDNzMzMzIxEQAAAAAAAAEFAzczMzMzMQ0CamZmZmRlCQGZmZmZmZkRAzczMzMwMQ0BmZmZmZiZEQM3MzMzMjEBAmpmZmZmZRUAAAAAAAIBBQAAAAAAAgERAmpmZmZnZQkBmZmZmZuZCQDMzMzMz80JAmpmZmZnZQ0DNzMzMzExDQJqZmZmZGUNAzczMzMwMQ0CamZmZmZlFQM3MzMzMDENAzczMzMzMRkCamZmZmdlDQJqZmZmZGUVAzczMzMzMQ0CamZmZmVlFQM3MzMzMTENAZmZmZmamQkCamZmZmdlBQM3MzMzMjERAmpmZmZkZQkCamZmZmdlCQJqZmZmZGURAMzMzMzOzRECamZmZmZlBQM3MzMzMTERAZmZmZmZmQ0AAAAAAAMBEQAAAAAAAgENAzczMzMwMRkAAAAAAAEBDQM3MzMzMjEVAZmZmZmZmQkAAAAAAAMBCQM3MzMzMDENAzczMzMyMREDNzMzMzMxBQJqZmZmZGURAAAAAAACAQkCamZmZmdlDQJqZmZmZGURAzczMzMxMREDNzMzMzAxAQJqZmZmZWURAZmZmZmamQkAAAAAAAIBDQJqZmZmZmUNAzczMzMxMQkAAAAAAAABCQGZmZmZm5kJAAAAAAAAAQkAAAAAAAMBEQAAAAAAAQEdAAAAAAAAASUBmZmZmZqZJQDMzMzMzs0ZAmpmZmZlZSkCamZmZmZlGQM3MzMzMDEdAZmZmZmamSUAAAAAAAABHQGZmZmZmpklAzczMzMxMR0CamZmZmdlJQAAAAAAAgEdAAAAAAAAASkAzMzMzM/NGQAAAAAAAQElAZmZmZmYmSUAAAAAAAABNQDMzMzMzM0dAmpmZmZmZSEAzMzMzMzNFQAAAAAAAQEhAmpmZmZmZRUDNzMzMzExJQJqZmZmZWUdAAAAAAAAASkAAAAAAAEBJQAAAAAAAwEhAMzMzMzMzR0BmZmZmZmZKQDMzMzMzc0RAmpmZmZkZS0AAAAAAAEBFQAAAAAAAgElAmpmZmZnZSEAAAAAAAMBHQM3MzMzMzEdAAAAAAAAASkAzMzMzM3NHQAAAAAAAwEpAAAAAAACASECamZmZmRlHQDMzMzMzc0lAAAAAAADARkAzMzMzM3NJQGZmZmZmZklAzczMzMwMSUAAAAAAAIBIQAAAAAAAwElAZmZmZmbmSEDNzMzMzAxIQDMzMzMzs0lAmpmZmZnZRkCamZmZmVlJQAAAAAAAQEVAmpmZmZkZSkCamZmZmZlGQGZmZmZmpkhAmpmZmZkZSUDNzMzMzMxGQDMzMzMz80lAZmZmZmZmR0CamZmZmdlGQGZmZmZm5ktAAAAAAADARUDNzMzMzMxIQGZmZmZmZklAmpmZmZkZSUDNzMzMzAxHQAAAAAAAAElAmpmZmZlZSEAAAAAAAABJQM3MzMzMzEdAAAAAAABAR0AzMzMzM7NGQJqZmZmZWUdAZmZmZmamRUBmZmZmZmZHQDMzMzMzc0RAAAAAAACASEAAAAAAAMBGQDMzMzMzM0hAZmZmZmbmRkBmZmZmZqZIQAAAAAAAAEVAmpmZmZmZSECamZmZmRlHQJqZmZmZWUhAmpmZmZkZSUDNzMzMzIxGQAAAAAAAQEdAZmZmZmYmR0AzMzMzM3NFQM3MzMzMDEdAAAAAAABARkBmZmZmZuZHQJqZmZmZGUhAAAAAAAAASUBmZmZmZqZHQGZmZmZmZkVAzczMzMyMRkDNzMzMzMxNQM3MzMzMjEhAMzMzMzMzSEDNzMzMzExFQDMzMzMzM0ZAAAAAAAAARkCamZmZmVlIQJqZmZmZWUVAzczMzMzMSEBmZmZmZqZGQM3MzMzMzEhAAAAAAABASUDNzMzMzMxFQAAAAAAAwEZAAAAAAABASUAzMzMzM3NGQJqZmZmZmUZAzczMzMxMR0AAAAAAAEBIQM3MzMzMjEZAzczMzMwMSUAAAAAAAEBHQAAAAAAAgEZAZmZmZmbmRUAAAAAAAMBGQJqZmZmZmUVAMzMzMzMzSUBmZmZmZqZGQJqZmZmZGUdAmpmZmZnZRkBmZmZmZiZLQGZmZmZm5kZAZmZmZmbmSECamZmZmRlHQAAAAAAAwEhAAAAAAADARUCamZmZmVlJQJqZmZmZ2UdAMzMzMzMzR0CamZmZmRlIQAAAAAAAQEdAMzMzMzMzR0DNzMzMzExIQAAAAAAAwEdAzczMzMyMSUCamZmZmZlGQJqZmZmZmUZAzczMzMyMSEAAAAAAAEBKQDMzMzMzs0dAAAAAAAAASUAzMzMzM3NGQGZmZmZmZklAMzMzMzOzRUBmZmZmZqZJQAAAAAAAwEdAzczMzMwMSkAAAAAAAMBHQJqZmZmZGUpAAAAAAADARkAAAAAAAMBIQAAAAAAAQEZAZmZmZmZmSUAzMzMzM7NIQDMzMzMzc0dAMzMzMzMzSEDNzMzMzIxJQAAAAAAAQEhAMzMzMzPzS0CamZmZmZlHQM3MzMzMjEhAZmZmZmamR0BmZmZmZmZHQJqZmZmZ2URAMzMzMzOzSkBmZmZmZqZFQM3MzMzMDEhAAAAAAABASUBmZmZmZuZIQAAAAAAAwEVAAAAAAADASUCamZmZmRlHQM3MzMzMjEtAAAAAAABARkBmZmZmZmZIQJqZmZmZmUdAAAAAAAAA+H9mZmZmZmZHQDMzMzMzM0lAmpmZmZmZRkAzMzMzM/NIQA==\",\"dtype\":\"float64\",\"order\":\"little\",\"shape\":[344]},\"Body Mass (g)\":{\"__ndarray__\":\"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\",\"dtype\":\"float64\",\"order\":\"little\",\"shape\":[344]},\"Flipper Length (mm)\":{\"__ndarray__\":\"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\",\"dtype\":\"float64\",\"order\":\"little\",\"shape\":[344]},\"Island\":[\"Torgersen\",\"Torgersen\",\"Torgersen\",\"Torgersen\",\"Torgersen\",\"Torgersen\",\"Torgersen\",\"Torgersen\",\"Torgersen\",\"Torgersen\",\"Torgersen\",\"Torgersen\",\"Torgersen\",\"Torgersen\",\"Torgersen\",\"Torgersen\",\"Torgersen\",\"Torgersen\",\"Torgersen\",\"Torgersen\",\"Biscoe\",\"Biscoe\",\"Biscoe\",\"Biscoe\",\"Biscoe\",\"Biscoe\",\"Biscoe\",\"Biscoe\",\"Biscoe\",\"Biscoe\",\"Dream\",\"Dream\",\"Dream\",\"Dream\",\"Dream\",\"Dream\",\"Dream\",\"Dream\",\"Dream\",\"Dream\",\"Dream\",\"Dream\",\"Dream\",\"Dream\",\"Dream\",\"Dream\",\"Dream\",\"Dream\",\"Dream\",\"Dream\",\"Biscoe\",\"Biscoe\",\"Biscoe\",\"Biscoe\",\"Biscoe\",\"Biscoe\",\"Biscoe\",\"Biscoe\",\"Biscoe\",\"Biscoe\",\"Biscoe\",\"Biscoe\",\"Biscoe\",\"Biscoe\",\"Biscoe\",\"Biscoe\",\"Biscoe\",\"Biscoe\",\"Torgersen\",\"Torgersen\",\"Torgersen\",\"Torgersen\",\"Torgersen\",\"Torgersen\",\"Torgersen\",\"Torgersen\",\"Torgersen\",\"Torgersen\",\"Torgersen\",\"Torgersen\",\"Torgersen\",\"Torgersen\",\"Torgersen\",\"Torgersen\",\"Dream\",\"Dream\",\"Dream\",\"Dream\",\"Dream\",\"Dream\",\"Dream\",\"Dream\",\"Dream\",\"Dream\",\"Dream\",\"Dream\",\"Dream\",\"Dream\",\"Dream\",\"Dream\",\"Biscoe\",\"Biscoe\",\"Biscoe\",\"Biscoe\",\"Biscoe\",\"Biscoe\",\"Biscoe\",\"Biscoe\",\"Biscoe\",\"Biscoe\",\"Biscoe\",\"Biscoe\",\"Biscoe\",\"Biscoe\",\"Biscoe\",\"Biscoe\",\"Torgersen\",\"Torgersen\",\"Torgersen\",\"Torgersen\",\"Torgersen\",\"Torgersen\",\"Torgersen\",\"Torgersen\",\"Torgersen\",\"Torgersen\",\"Torgersen\",\"Torgersen\",\"Torgersen\",\"Torgersen\",\"Torgersen\",\"Torgersen\",\"Dream\",\"Dream\",\"Dream\",\"Dream\",\"Dream\",\"Dream\",\"Dream\",\"Dream\",\"Dream\",\"Dream\",\"Dream\",\"Dream\",\"Dream\",\"Dream\",\"Dream\",\"Dream\",\"Dream\",\"Dream\",\"Dream\",\"Dream\",\"Dream\",\"Dream\",\"Dream\",\"Dream\",\"Dream\",\"Dream\",\"Dream\",\"Dream\",\"Dream\",\"Dream\",\"Dream\",\"Dream\",\"Dream\",\"Dream\",\"Dream\",\"Dream\",\"Dream\",\"Dream\",\"Dream\",\"Dream\",\"Dream\",\"Dream\",\"Dream\",\"Dream\",\"Dream\",\"Dream\",\"Dream\",\"Dream\",\"Dream\",\"Dream\",\"Dream\",\"Dream\",\"Dream\",\"Dream\",\"Dream\",\"Dream\",\"Dream\",\"Dream\",\"Dream\",\"Dream\",\"Dream\",\"Dream\",\"Dream\",\"Dream\",\"Dream\",\"Dream\",\"Dream\",\"Dream\",\"Dream\",\"Dream\",\"Dream\",\"Dream\",\"Dream\",\"Dream\",\"Dream\",\"Dream\",\"Dream\",\"Dream\",\"Dream\",\"Dream\",\"Dream\",\"Dream\",\"Dream\",\"Dream\",\"Dream\",\"Dream\",\"Dream\",\"Dream\",\"Biscoe\",\"Biscoe\",\"Biscoe\",\"Biscoe\",\"Biscoe\",\"Biscoe\",\"Biscoe\",\"Biscoe\",\"Biscoe\",\"Biscoe\",\"Biscoe\",\"Biscoe\",\"Biscoe\",\"Biscoe\",\"Biscoe\",\"Biscoe\",\"Biscoe\",\"Biscoe\",\"Biscoe\",\"Biscoe\",\"Biscoe\",\"Biscoe\",\"Biscoe\",\"Biscoe\",\"Biscoe\",\"Biscoe\",\"Biscoe\",\"Biscoe\",\"Biscoe\",\"Biscoe\",\"Biscoe\",\"Biscoe\",\"Biscoe\",\"Biscoe\",\"Biscoe\",\"Biscoe\",\"Biscoe\",\"Biscoe\",\"Biscoe\",\"Biscoe\",\"Biscoe\",\"Biscoe\",\"Biscoe\",\"Biscoe\",\"Biscoe\",\"Biscoe\",\"Biscoe\",\"Biscoe\",\"Biscoe\",\"Biscoe\",\"Biscoe\",\"Biscoe\",\"Biscoe\",\"Biscoe\",\"Biscoe\",\"Biscoe\",\"Biscoe\",\"Biscoe\",\"Biscoe\",\"Biscoe\",\"Biscoe\",\"Biscoe\",\"Biscoe\",\"Biscoe\",\"Biscoe\",\"Biscoe\",\"Biscoe\",\"Biscoe\",\"Biscoe\",\"Biscoe\",\"Biscoe\",\"Biscoe\",\"Biscoe\",\"Biscoe\",\"Biscoe\",\"Biscoe\",\"Biscoe\",\"Biscoe\",\"Biscoe\",\"Biscoe\",\"Biscoe\",\"Biscoe\",\"Biscoe\",\"Biscoe\",\"Biscoe\",\"Biscoe\",\"Biscoe\",\"Biscoe\",\"Biscoe\",\"Biscoe\",\"Biscoe\",\"Biscoe\",\"Biscoe\",\"Biscoe\",\"Biscoe\",\"Biscoe\",\"Biscoe\",\"Biscoe\",\"Biscoe\",\"Biscoe\",\"Biscoe\",\"Biscoe\",\"Biscoe\",\"Biscoe\",\"Biscoe\",\"Biscoe\",\"Biscoe\",\"Biscoe\",\"Biscoe\",\"Biscoe\",\"Biscoe\",\"Biscoe\",\"Biscoe\",\"Biscoe\",\"Biscoe\",\"Biscoe\",\"Biscoe\",\"Biscoe\",\"Biscoe\",\"Biscoe\",\"Biscoe\",\"Biscoe\",\"Biscoe\",\"Biscoe\"],\"Sex\":[\"MALE\",\"FEMALE\",\"FEMALE\",\"NaN\",\"FEMALE\",\"MALE\",\"FEMALE\",\"MALE\",\"NaN\",\"NaN\",\"NaN\",\"NaN\",\"FEMALE\",\"MALE\",\"MALE\",\"FEMALE\",\"FEMALE\",\"MALE\",\"FEMALE\",\"MALE\",\"FEMALE\",\"MALE\",\"FEMALE\",\"MALE\",\"MALE\",\"FEMALE\",\"MALE\",\"FEMALE\",\"FEMALE\",\"MALE\",\"FEMALE\",\"MALE\",\"FEMALE\",\"MALE\",\"FEMALE\",\"MALE\",\"MALE\",\"FEMALE\",\"FEMALE\",\"MALE\",\"FEMALE\",\"MALE\",\"FEMALE\",\"MALE\",\"FEMALE\",\"MALE\",\"MALE\",\"NaN\",\"FEMALE\",\"MALE\",\"FEMALE\",\"MALE\",\"FEMALE\",\"MALE\",\"FEMALE\",\"MALE\",\"FEMALE\",\"MALE\",\"FEMALE\",\"MALE\",\"FEMALE\",\"MALE\",\"FEMALE\",\"MALE\",\"FEMALE\",\"MALE\",\"FEMALE\",\"MALE\",\"FEMALE\",\"MALE\",\"FEMALE\",\"MALE\",\"FEMALE\",\"MALE\",\"FEMALE\",\"MALE\",\"FEMALE\",\"MALE\",\"FEMALE\",\"MALE\",\"FEMALE\",\"MALE\",\"FEMALE\",\"MALE\",\"FEMALE\",\"MALE\",\"MALE\",\"FEMALE\",\"MALE\",\"FEMALE\",\"FEMALE\",\"MALE\",\"FEMALE\",\"MALE\",\"FEMALE\",\"MALE\",\"FEMALE\",\"MALE\",\"FEMALE\",\"MALE\",\"FEMALE\",\"MALE\",\"FEMALE\",\"MALE\",\"FEMALE\",\"MALE\",\"FEMALE\",\"MALE\",\"FEMALE\",\"MALE\",\"FEMALE\",\"MALE\",\"FEMALE\",\"MALE\",\"FEMALE\",\"MALE\",\"FEMALE\",\"MALE\",\"FEMALE\",\"MALE\",\"FEMALE\",\"MALE\",\"FEMALE\",\"MALE\",\"FEMALE\",\"MALE\",\"FEMALE\",\"MALE\",\"FEMALE\",\"MALE\",\"FEMALE\",\"MALE\",\"FEMALE\",\"MALE\",\"FEMALE\",\"MALE\",\"FEMALE\",\"MALE\",\"FEMALE\",\"MALE\",\"FEMALE\",\"MALE\",\"FEMALE\",\"MALE\",\"FEMALE\",\"MALE\",\"MALE\",\"FEMALE\",\"FEMALE\",\"MALE\",\"FEMALE\",\"MALE\",\"FEMALE\",\"MALE\",\"MALE\",\"FEMALE\",\"MALE\",\"FEMALE\",\"FEMALE\",\"MALE\",\"FEMALE\",\"MALE\",\"FEMALE\",\"MALE\",\"FEMALE\",\"MALE\",\"FEMALE\",\"MALE\",\"MALE\",\"FEMALE\",\"FEMALE\",\"MALE\",\"FEMALE\",\"MALE\",\"FEMALE\",\"MALE\",\"FEMALE\",\"MALE\",\"FEMALE\",\"MALE\",\"FEMALE\",\"MALE\",\"FEMALE\",\"MALE\",\"FEMALE\",\"MALE\",\"MALE\",\"FEMALE\",\"FEMALE\",\"MALE\",\"FEMALE\",\"MALE\",\"MALE\",\"FEMALE\",\"MALE\",\"FEMALE\",\"FEMALE\",\"MALE\",\"FEMALE\",\"MALE\",\"MALE\",\"FEMALE\",\"FEMALE\",\"MALE\",\"FEMALE\",\"MALE\",\"FEMALE\",\"MALE\",\"FEMALE\",\"MALE\",\"MALE\",\"FEMALE\",\"MALE\",\"FEMALE\",\"FEMALE\",\"MALE\",\"FEMALE\",\"MALE\",\"MALE\",\"FEMALE\",\"FEMALE\",\"MALE\",\"FEMALE\",\"MALE\",\"MALE\",\"FEMALE\",\"FEMALE\",\"MALE\",\"FEMALE\",\"MALE\",\"FEMALE\",\"MALE\",\"FEMALE\",\"MALE\",\"FEMALE\",\"MALE\",\"FEMALE\",\"MALE\",\"FEMALE\",\"MALE\",\"MALE\",\"FEMALE\",\"FEMALE\",\"MALE\",\"FEMALE\",\"MALE\",\"NaN\",\"MALE\",\"FEMALE\",\"MALE\",\"MALE\",\"FEMALE\",\"FEMALE\",\"MALE\",\"FEMALE\",\"MALE\",\"FEMALE\",\"MALE\",\"FEMALE\",\"MALE\",\"FEMALE\",\"MALE\",\"FEMALE\",\"MALE\",\"MALE\",\"FEMALE\",\"FEMALE\",\"MALE\",\"FEMALE\",\"MALE\",\"FEMALE\",\"MALE\",\"FEMALE\",\"MALE\",\"FEMALE\",\"MALE\",\"FEMALE\",\"MALE\",\"FEMALE\",\"MALE\",\"FEMALE\",\"MALE\",\"FEMALE\",\"MALE\",\"FEMALE\",\"MALE\",\"NaN\",\"MALE\",\"FEMALE\",\"MALE\",\"FEMALE\",\"MALE\",\"MALE\",\"FEMALE\",\"FEMALE\",\"MALE\",\"FEMALE\",\"MALE\",\"FEMALE\",\"MALE\",\"FEMALE\",\"MALE\",\"FEMALE\",\"MALE\",\"FEMALE\",\"MALE\",\"FEMALE\",\"MALE\",\"FEMALE\",\"MALE\",\"FEMALE\",\"MALE\",\"FEMALE\",\"MALE\",\"FEMALE\",\"MALE\",\"MALE\",\"FEMALE\",\"FEMALE\",\"MALE\",\"FEMALE\",\"MALE\",\"FEMALE\",\"MALE\",\"NaN\",\"MALE\",\"FEMALE\",\"MALE\",\"FEMALE\",\"MALE\",\"FEMALE\",\"MALE\",\"FEMALE\",\"MALE\",\"FEMALE\",\"MALE\",\".\",\"MALE\",\"FEMALE\",\"NaN\",\"FEMALE\",\"MALE\",\"FEMALE\",\"MALE\"],\"Species\":[\"Adelie\",\"Adelie\",\"Adelie\",\"Adelie\",\"Adelie\",\"Adelie\",\"Adelie\",\"Adelie\",\"Adelie\",\"Adelie\",\"Adelie\",\"Adelie\",\"Adelie\",\"Adelie\",\"Adelie\",\"Adelie\",\"Adelie\",\"Adelie\",\"Adelie\",\"Adelie\",\"Adelie\",\"Adelie\",\"Adelie\",\"Adelie\",\"Adelie\",\"Adelie\",\"Adelie\",\"Adelie\",\"Adelie\",\"Adelie\",\"Adelie\",\"Adelie\",\"Adelie\",\"Adelie\",\"Adelie\",\"Adelie\",\"Adelie\",\"Adelie\",\"Adelie\",\"Adelie\",\"Adelie\",\"Adelie\",\"Adelie\",\"Adelie\",\"Adelie\",\"Adelie\",\"Adelie\",\"Adelie\",\"Adelie\",\"Adelie\",\"Adelie\",\"Adelie\",\"Adelie\",\"Adelie\",\"Adelie\",\"Adelie\",\"Adelie\",\"Adelie\",\"Adelie\",\"Adelie\",\"Adelie\",\"Adelie\",\"Adelie\",\"Adelie\",\"Adelie\",\"Adelie\",\"Adelie\",\"Adelie\",\"Adelie\",\"Adelie\",\"Adelie\",\"Adelie\",\"Adelie\",\"Adelie\",\"Adelie\",\"Adelie\",\"Adelie\",\"Adelie\",\"Adelie\",\"Adelie\",\"Adelie\",\"Adelie\",\"Adelie\",\"Adelie\",\"Adelie\",\"Adelie\",\"Adelie\",\"Adelie\",\"Adelie\",\"Adelie\",\"Adelie\",\"Adelie\",\"Adelie\",\"Adelie\",\"Adelie\",\"Adelie\",\"Adelie\",\"Adelie\",\"Adelie\",\"Adelie\",\"Adelie\",\"Adelie\",\"Adelie\",\"Adelie\",\"Adelie\",\"Adelie\",\"Adelie\",\"Adelie\",\"Adelie\",\"Adelie\",\"Adelie\",\"Adelie\",\"Adelie\",\"Adelie\",\"Adelie\",\"Adelie\",\"Adelie\",\"Adelie\",\"Adelie\",\"Adelie\",\"Adelie\",\"Adelie\",\"Adelie\",\"Adelie\",\"Adelie\",\"Adelie\",\"Adelie\",\"Adelie\",\"Adelie\",\"Adelie\",\"Adelie\",\"Adelie\",\"Adelie\",\"Adelie\",\"Adelie\",\"Adelie\",\"Adelie\",\"Adelie\",\"Adelie\",\"Adelie\",\"Adelie\",\"Adelie\",\"Adelie\",\"Adelie\",\"Adelie\",\"Adelie\",\"Adelie\",\"Adelie\",\"Adelie\",\"Adelie\",\"Adelie\",\"Adelie\",\"Chinstrap\",\"Chinstrap\",\"Chinstrap\",\"Chinstrap\",\"Chinstrap\",\"Chinstrap\",\"Chinstrap\",\"Chinstrap\",\"Chinstrap\",\"Chinstrap\",\"Chinstrap\",\"Chinstrap\",\"Chinstrap\",\"Chinstrap\",\"Chinstrap\",\"Chinstrap\",\"Chinstrap\",\"Chinstrap\",\"Chinstrap\",\"Chinstrap\",\"Chinstrap\",\"Chinstrap\",\"Chinstrap\",\"Chinstrap\",\"Chinstrap\",\"Chinstrap\",\"Chinstrap\",\"Chinstrap\",\"Chinstrap\",\"Chinstrap\",\"Chinstrap\",\"Chinstrap\",\"Chinstrap\",\"Chinstrap\",\"Chinstrap\",\"Chinstrap\",\"Chinstrap\",\"Chinstrap\",\"Chinstrap\",\"Chinstrap\",\"Chinstrap\",\"Chinstrap\",\"Chinstrap\",\"Chinstrap\",\"Chinstrap\",\"Chinstrap\",\"Chinstrap\",\"Chinstrap\",\"Chinstrap\",\"Chinstrap\",\"Chinstrap\",\"Chinstrap\",\"Chinstrap\",\"Chinstrap\",\"Chinstrap\",\"Chinstrap\",\"Chinstrap\",\"Chinstrap\",\"Chinstrap\",\"Chinstrap\",\"Chinstrap\",\"Chinstrap\",\"Chinstrap\",\"Chinstrap\",\"Chinstrap\",\"Chinstrap\",\"Chinstrap\",\"Chinstrap\",\"Gentoo\",\"Gentoo\",\"Gentoo\",\"Gentoo\",\"Gentoo\",\"Gentoo\",\"Gentoo\",\"Gentoo\",\"Gentoo\",\"Gentoo\",\"Gentoo\",\"Gentoo\",\"Gentoo\",\"Gentoo\",\"Gentoo\",\"Gentoo\",\"Gentoo\",\"Gentoo\",\"Gentoo\",\"Gentoo\",\"Gentoo\",\"Gentoo\",\"Gentoo\",\"Gentoo\",\"Gentoo\",\"Gentoo\",\"Gentoo\",\"Gentoo\",\"Gentoo\",\"Gentoo\",\"Gentoo\",\"Gentoo\",\"Gentoo\",\"Gentoo\",\"Gentoo\",\"Gentoo\",\"Gentoo\",\"Gentoo\",\"Gentoo\",\"Gentoo\",\"Gentoo\",\"Gentoo\",\"Gentoo\",\"Gentoo\",\"Gentoo\",\"Gentoo\",\"Gentoo\",\"Gentoo\",\"Gentoo\",\"Gentoo\",\"Gentoo\",\"Gentoo\",\"Gentoo\",\"Gentoo\",\"Gentoo\",\"Gentoo\",\"Gentoo\",\"Gentoo\",\"Gentoo\",\"Gentoo\",\"Gentoo\",\"Gentoo\",\"Gentoo\",\"Gentoo\",\"Gentoo\",\"Gentoo\",\"Gentoo\",\"Gentoo\",\"Gentoo\",\"Gentoo\",\"Gentoo\",\"Gentoo\",\"Gentoo\",\"Gentoo\",\"Gentoo\",\"Gentoo\",\"Gentoo\",\"Gentoo\",\"Gentoo\",\"Gentoo\",\"Gentoo\",\"Gentoo\",\"Gentoo\",\"Gentoo\",\"Gentoo\",\"Gentoo\",\"Gentoo\",\"Gentoo\",\"Gentoo\",\"Gentoo\",\"Gentoo\",\"Gentoo\",\"Gentoo\",\"Gentoo\",\"Gentoo\",\"Gentoo\",\"Gentoo\",\"Gentoo\",\"Gentoo\",\"Gentoo\",\"Gentoo\",\"Gentoo\",\"Gentoo\",\"Gentoo\",\"Gentoo\",\"Gentoo\",\"Gentoo\",\"Gentoo\",\"Gentoo\",\"Gentoo\",\"Gentoo\",\"Gentoo\",\"Gentoo\",\"Gentoo\",\"Gentoo\",\"Gentoo\",\"Gentoo\",\"Gentoo\",\"Gentoo\",\"Gentoo\",\"Gentoo\",\"Gentoo\",\"Gentoo\",\"Gentoo\"],\"index\":[0,1,2,3,4,5,6,7,8,9,10,11,12,13,14,15,16,17,18,19,20,21,22,23,24,25,26,27,28,29,30,31,32,33,34,35,36,37,38,39,40,41,42,43,44,45,46,47,48,49,50,51,52,53,54,55,56,57,58,59,60,61,62,63,64,65,66,67,68,69,70,71,72,73,74,75,76,77,78,79,80,81,82,83,84,85,86,87,88,89,90,91,92,93,94,95,96,97,98,99,100,101,102,103,104,105,106,107,108,109,110,111,112,113,114,115,116,117,118,119,120,121,122,123,124,125,126,127,128,129,130,131,132,133,134,135,136,137,138,139,140,141,142,143,144,145,146,147,148,149,150,151,152,153,154,155,156,157,158,159,160,161,162,163,164,165,166,167,168,169,170,171,172,173,174,175,176,177,178,179,180,181,182,183,184,185,186,187,188,189,190,191,192,193,194,195,196,197,198,199,200,201,202,203,204,205,206,207,208,209,210,211,212,213,214,215,216,217,218,219,220,221,222,223,224,225,226,227,228,229,230,231,232,233,234,235,236,237,238,239,240,241,242,243,244,245,246,247,248,249,250,251,252,253,254,255,256,257,258,259,260,261,262,263,264,265,266,267,268,269,270,271,272,273,274,275,276,277,278,279,280,281,282,283,284,285,286,287,288,289,290,291,292,293,294,295,296,297,298,299,300,301,302,303,304,305,306,307,308,309,310,311,312,313,314,315,316,317,318,319,320,321,322,323,324,325,326,327,328,329,330,331,332,333,334,335,336,337,338,339,340,341,342,343]},\"selected\":{\"id\":\"1496\"},\"selection_policy\":{\"id\":\"1495\"}},\"id\":\"1493\",\"type\":\"ColumnDataSource\"},{\"attributes\":{\"data\":{\"$schema\":\"https://vega.github.io/schema/vega-lite/v4.17.0.json\",\"config\":{\"view\":{\"continuousHeight\":300,\"continuousWidth\":400}},\"data\":{\"name\":\"data-d7e7d3a006e30f7795655a1e9e190879\"},\"datasets\":{},\"encoding\":{\"color\":{\"condition\":{\"field\":\"Species\",\"selection\":\"multi\",\"type\":\"nominal\"},\"value\":\"lightgray\"},\"x\":{\"field\":\"Beak Length (mm)\",\"scale\":{\"zero\":false},\"type\":\"quantitative\"},\"y\":{\"field\":\"Beak Depth (mm)\",\"scale\":{\"zero\":false},\"type\":\"quantitative\"}},\"height\":250,\"mark\":\"point\",\"selection\":{\"multi\":{\"type\":\"multi\"}},\"width\":250},\"data_sources\":{\"data-d7e7d3a006e30f7795655a1e9e190879\":{\"id\":\"1493\"}},\"events\":[\"multi\"],\"height\":322,\"margin\":[5,5,30,5],\"subscribed_events\":[\"vega_event\"],\"throttle\":{\"multi\":10},\"width\":422},\"id\":\"1494\",\"type\":\"panel.models.vega.VegaPlot\"},{\"attributes\":{},\"id\":\"1495\",\"type\":\"UnionRenderers\"},{\"attributes\":{},\"id\":\"1496\",\"type\":\"Selection\"},{\"attributes\":{\"client_comm_id\":\"45e327d1f3e74bf381acbf519ca1f3ac\",\"comm_id\":\"715ab135e83a43478d6a4f02927dd305\",\"plot_id\":\"1494\"},\"id\":\"1501\",\"type\":\"panel.models.comm_manager.CommManager\"}],\"root_ids\":[\"1494\",\"1501\"]},\"title\":\"Bokeh Application\",\"version\":\"2.4.3\"}};\n",
       "    var render_items = [{\"docid\":\"6890ce0a-219d-44b4-a066-6b25d96c63c5\",\"root_ids\":[\"1494\"],\"roots\":{\"1494\":\"90642377-3165-48c9-bad0-5530c1f27721\"}}];\n",
       "    root.Bokeh.embed.embed_items_notebook(docs_json, render_items);\n",
       "    for (const render_item of render_items) {\n",
       "      for (const root_id of render_item.root_ids) {\n",
       "\tconst id_el = document.getElementById(root_id)\n",
       "\tif (id_el.children.length && (id_el.children[0].className === 'bk-root')) {\n",
       "\t  const root_el = id_el.children[0]\n",
       "\t  root_el.id = root_el.id + '-rendered'\n",
       "\t}\n",
       "      }\n",
       "    }\n",
       "  }\n",
       "  if (root.Bokeh !== undefined && root.Bokeh.Panel !== undefined && ( root['vega'] !== undefined)) {\n",
       "    embed_document(root);\n",
       "  } else {\n",
       "    var attempts = 0;\n",
       "    var timer = setInterval(function(root) {\n",
       "      if (root.Bokeh !== undefined && root.Bokeh.Panel !== undefined && (root['vega'] !== undefined)) {\n",
       "        clearInterval(timer);\n",
       "        embed_document(root);\n",
       "      } else if (document.readyState == \"complete\") {\n",
       "        attempts++;\n",
       "        if (attempts > 200) {\n",
       "          clearInterval(timer);\n",
       "          console.log(\"Bokeh: ERROR: Unable to run BokehJS code because BokehJS library is missing\");\n",
       "        }\n",
       "      }\n",
       "    }, 25, root)\n",
       "  }\n",
       "})(window);</script>"
      ],
      "text/plain": [
       "Vega(Chart, debounce=10, selection=Selection)"
      ]
     },
     "execution_count": 103,
     "metadata": {
      "application/vnd.holoviews_exec.v0+json": {
       "id": "1494"
      }
     },
     "output_type": "execute_result"
    }
   ],
   "source": [
    "multi = alt.selection_multi(name='multi')  # selection of type \"multi\"\n",
    "\n",
    "input_dropdown = alt.binding_select(options=df.Species.unique().tolist(), name='Species ')\n",
    "species_selection = alt.selection_single(fields=['Species'], bind=input_dropdown, name='species_selection')\n",
    "\n",
    "multi_chart = alt.Chart(df).mark_point().encode(\n",
    "    x=alt.X('Beak Length (mm):Q', scale=alt.Scale(zero=False)),\n",
    "    y=alt.Y('Beak Depth (mm):Q', scale=alt.Scale(zero=False)),\n",
    "    color=alt.condition(multi, 'Species:N', alt.value('lightgray'))\n",
    ").properties(\n",
    "    width=250,\n",
    "    height=250\n",
    ").add_selection(\n",
    "    multi\n",
    ")\n",
    "\n",
    "vega_multi = pn.pane.Vega(multi_chart, debounce=10)\n",
    "\n",
    "vega_multi\n"
   ]
  },
  {
   "cell_type": "code",
   "execution_count": 176,
   "metadata": {
    "tags": []
   },
   "outputs": [
    {
     "data": {
      "text/plain": [
       "Selection(multi=[98, 146], name='Selection00465')"
      ]
     },
     "execution_count": 176,
     "metadata": {},
     "output_type": "execute_result"
    }
   ],
   "source": [
    "vega_multi.selection"
   ]
  },
  {
   "cell_type": "code",
   "execution_count": 105,
   "metadata": {
    "tags": []
   },
   "outputs": [
    {
     "data": {
      "text/html": [
       "<div>\n",
       "<style scoped>\n",
       "    .dataframe tbody tr th:only-of-type {\n",
       "        vertical-align: middle;\n",
       "    }\n",
       "\n",
       "    .dataframe tbody tr th {\n",
       "        vertical-align: top;\n",
       "    }\n",
       "\n",
       "    .dataframe thead th {\n",
       "        text-align: right;\n",
       "    }\n",
       "</style>\n",
       "<table border=\"1\" class=\"dataframe\">\n",
       "  <thead>\n",
       "    <tr style=\"text-align: right;\">\n",
       "      <th></th>\n",
       "      <th>Species</th>\n",
       "      <th>Island</th>\n",
       "      <th>Beak Length (mm)</th>\n",
       "      <th>Beak Depth (mm)</th>\n",
       "      <th>Flipper Length (mm)</th>\n",
       "      <th>Body Mass (g)</th>\n",
       "      <th>Sex</th>\n",
       "    </tr>\n",
       "  </thead>\n",
       "  <tbody>\n",
       "    <tr>\n",
       "      <th>98</th>\n",
       "      <td>Adelie</td>\n",
       "      <td>Dream</td>\n",
       "      <td>33.1</td>\n",
       "      <td>16.1</td>\n",
       "      <td>178.0</td>\n",
       "      <td>2900.0</td>\n",
       "      <td>FEMALE</td>\n",
       "    </tr>\n",
       "    <tr>\n",
       "      <th>146</th>\n",
       "      <td>Adelie</td>\n",
       "      <td>Dream</td>\n",
       "      <td>39.2</td>\n",
       "      <td>18.6</td>\n",
       "      <td>190.0</td>\n",
       "      <td>4250.0</td>\n",
       "      <td>MALE</td>\n",
       "    </tr>\n",
       "  </tbody>\n",
       "</table>\n",
       "</div>"
      ],
      "text/plain": [
       "    Species Island  Beak Length (mm)  Beak Depth (mm)  Flipper Length (mm)  \\\n",
       "98   Adelie  Dream              33.1             16.1                178.0   \n",
       "146  Adelie  Dream              39.2             18.6                190.0   \n",
       "\n",
       "     Body Mass (g)     Sex  \n",
       "98          2900.0  FEMALE  \n",
       "146         4250.0    MALE  "
      ]
     },
     "execution_count": 105,
     "metadata": {},
     "output_type": "execute_result"
    }
   ],
   "source": [
    "df.query(\"index.isin([98, 146])\")"
   ]
  },
  {
   "cell_type": "markdown",
   "metadata": {},
   "source": [
    "The `multi` value is now available on the `selection` object:"
   ]
  },
  {
   "cell_type": "code",
   "execution_count": 79,
   "metadata": {
    "tags": []
   },
   "outputs": [
    {
     "data": {
      "text/plain": [
       "Selection(multi=[254], name='Selection00188')"
      ]
     },
     "execution_count": 79,
     "metadata": {},
     "output_type": "execute_result"
    }
   ],
   "source": [
    "vega_multi.selection"
   ]
  },
  {
   "cell_type": "markdown",
   "metadata": {},
   "source": [
    "To apply the selection we can simply use the `.iloc` method on the pandas DataFrame containing our data (try tapping on one or more points above and re-running the cell below):"
   ]
  },
  {
   "cell_type": "code",
   "execution_count": 177,
   "metadata": {
    "tags": []
   },
   "outputs": [
    {
     "data": {
      "text/html": [
       "<div>\n",
       "<style scoped>\n",
       "    .dataframe tbody tr th:only-of-type {\n",
       "        vertical-align: middle;\n",
       "    }\n",
       "\n",
       "    .dataframe tbody tr th {\n",
       "        vertical-align: top;\n",
       "    }\n",
       "\n",
       "    .dataframe thead th {\n",
       "        text-align: right;\n",
       "    }\n",
       "</style>\n",
       "<table border=\"1\" class=\"dataframe\">\n",
       "  <thead>\n",
       "    <tr style=\"text-align: right;\">\n",
       "      <th></th>\n",
       "      <th>Species</th>\n",
       "      <th>Island</th>\n",
       "      <th>Beak Length (mm)</th>\n",
       "      <th>Beak Depth (mm)</th>\n",
       "      <th>Flipper Length (mm)</th>\n",
       "      <th>Body Mass (g)</th>\n",
       "      <th>Sex</th>\n",
       "    </tr>\n",
       "  </thead>\n",
       "  <tbody>\n",
       "    <tr>\n",
       "      <th>98</th>\n",
       "      <td>Adelie</td>\n",
       "      <td>Dream</td>\n",
       "      <td>33.1</td>\n",
       "      <td>16.1</td>\n",
       "      <td>178.0</td>\n",
       "      <td>2900.0</td>\n",
       "      <td>FEMALE</td>\n",
       "    </tr>\n",
       "    <tr>\n",
       "      <th>146</th>\n",
       "      <td>Adelie</td>\n",
       "      <td>Dream</td>\n",
       "      <td>39.2</td>\n",
       "      <td>18.6</td>\n",
       "      <td>190.0</td>\n",
       "      <td>4250.0</td>\n",
       "      <td>MALE</td>\n",
       "    </tr>\n",
       "  </tbody>\n",
       "</table>\n",
       "</div>"
      ],
      "text/plain": [
       "    Species Island  Beak Length (mm)  Beak Depth (mm)  Flipper Length (mm)  \\\n",
       "98   Adelie  Dream              33.1             16.1                178.0   \n",
       "146  Adelie  Dream              39.2             18.6                190.0   \n",
       "\n",
       "     Body Mass (g)     Sex  \n",
       "98          2900.0  FEMALE  \n",
       "146         4250.0    MALE  "
      ]
     },
     "execution_count": 177,
     "metadata": {},
     "output_type": "execute_result"
    }
   ],
   "source": [
    "df.iloc[vega_multi.selection.multi]\n",
    "# df.iloc[vega_pane.selection.param]\n",
    "# vega_pane.selection.params\n",
    "# vega_multi.selection.params"
   ]
  },
  {
   "cell_type": "markdown",
   "metadata": {},
   "source": [
    "For more background see the [Altair](https://altair-viz.github.io/user_guide/interactions.html) documentation on available interactions.\n",
    "\n",
    "#### Filtering a table via a selection\n",
    "\n",
    "To filter a table via a chart selection we're first going to bind the `brush` selection to a function which filters the dataframe to display only the selected values in the table. To achieve this, we need to know that the selection returns a dictionary in the format `{'column_name': [min, max]}`, which for our Penguins examples can look like this:\n",
    "\n",
    "```python\n",
    "{'Beak Length (mm)': [51.824, 53.952], 'Beak Depth (mm)': [18.796, 18.904]}\n",
    "```\n",
    "\n",
    "To display the selected values in a table, we will use the selection dictionary to construct a pandas query string that can be used with `DataFrame.query()`. Finally we are returning both the query string and the filtered table in a Column:"
   ]
  },
  {
   "cell_type": "code",
   "execution_count": 190,
   "metadata": {
    "tags": []
   },
   "outputs": [
    {
     "data": {},
     "metadata": {},
     "output_type": "display_data"
    },
    {
     "data": {
      "application/vnd.holoviews_exec.v0+json": "",
      "text/html": [
       "<div id='11939'>\n",
       "  <div class=\"bk-root\" id=\"e2eed793-db8e-4a7c-8187-10f29a365adf\" data-root-id=\"11939\"></div>\n",
       "</div>\n",
       "<script type=\"application/javascript\">(function(root) {\n",
       "  function embed_document(root) {\n",
       "    var docs_json = {\"463a3610-6928-46f2-b4c0-d8733b117569\":{\"defs\":[{\"extends\":null,\"module\":null,\"name\":\"ReactiveHTML1\",\"overrides\":[],\"properties\":[]},{\"extends\":null,\"module\":null,\"name\":\"FlexBox1\",\"overrides\":[],\"properties\":[{\"default\":\"flex-start\",\"kind\":null,\"name\":\"align_content\"},{\"default\":\"flex-start\",\"kind\":null,\"name\":\"align_items\"},{\"default\":\"row\",\"kind\":null,\"name\":\"flex_direction\"},{\"default\":\"wrap\",\"kind\":null,\"name\":\"flex_wrap\"},{\"default\":\"flex-start\",\"kind\":null,\"name\":\"justify_content\"}]},{\"extends\":null,\"module\":null,\"name\":\"GridStack1\",\"overrides\":[],\"properties\":[{\"default\":\"warn\",\"kind\":null,\"name\":\"mode\"},{\"default\":null,\"kind\":null,\"name\":\"ncols\"},{\"default\":null,\"kind\":null,\"name\":\"nrows\"},{\"default\":true,\"kind\":null,\"name\":\"allow_resize\"},{\"default\":true,\"kind\":null,\"name\":\"allow_drag\"},{\"default\":[],\"kind\":null,\"name\":\"state\"}]},{\"extends\":null,\"module\":null,\"name\":\"click1\",\"overrides\":[],\"properties\":[{\"default\":\"\",\"kind\":null,\"name\":\"terminal_output\"},{\"default\":\"\",\"kind\":null,\"name\":\"debug_name\"},{\"default\":0,\"kind\":null,\"name\":\"clears\"}]},{\"extends\":null,\"module\":null,\"name\":\"NotificationAreaBase1\",\"overrides\":[],\"properties\":[{\"default\":\"bottom-right\",\"kind\":null,\"name\":\"position\"},{\"default\":0,\"kind\":null,\"name\":\"_clear\"}]},{\"extends\":null,\"module\":null,\"name\":\"NotificationArea1\",\"overrides\":[],\"properties\":[{\"default\":[],\"kind\":null,\"name\":\"notifications\"},{\"default\":\"bottom-right\",\"kind\":null,\"name\":\"position\"},{\"default\":0,\"kind\":null,\"name\":\"_clear\"},{\"default\":[{\"background\":\"#ffc107\",\"icon\":{\"className\":\"fas fa-exclamation-triangle\",\"color\":\"white\",\"tagName\":\"i\"},\"type\":\"warning\"},{\"background\":\"#007bff\",\"icon\":{\"className\":\"fas fa-info-circle\",\"color\":\"white\",\"tagName\":\"i\"},\"type\":\"info\"}],\"kind\":null,\"name\":\"types\"}]},{\"extends\":null,\"module\":null,\"name\":\"Notification\",\"overrides\":[],\"properties\":[{\"default\":null,\"kind\":null,\"name\":\"background\"},{\"default\":3000,\"kind\":null,\"name\":\"duration\"},{\"default\":null,\"kind\":null,\"name\":\"icon\"},{\"default\":\"\",\"kind\":null,\"name\":\"message\"},{\"default\":null,\"kind\":null,\"name\":\"notification_type\"},{\"default\":false,\"kind\":null,\"name\":\"_destroyed\"}]},{\"extends\":null,\"module\":null,\"name\":\"TemplateActions1\",\"overrides\":[],\"properties\":[{\"default\":0,\"kind\":null,\"name\":\"open_modal\"},{\"default\":0,\"kind\":null,\"name\":\"close_modal\"}]},{\"extends\":null,\"module\":null,\"name\":\"MaterialTemplateActions1\",\"overrides\":[],\"properties\":[{\"default\":0,\"kind\":null,\"name\":\"open_modal\"},{\"default\":0,\"kind\":null,\"name\":\"close_modal\"}]}],\"roots\":{\"references\":[{\"attributes\":{\"margin\":[5,10,5,10],\"options\":[\"Torgersen\",\"Biscoe\",\"Dream\"],\"title\":\"Island\",\"value\":\"Torgersen\"},\"id\":\"11940\",\"type\":\"panel.models.widgets.CustomSelect\"},{\"attributes\":{\"children\":[{\"id\":\"11944\"}],\"margin\":[0,0,0,0],\"name\":\"Row11318\"},\"id\":\"11943\",\"type\":\"Row\"},{\"attributes\":{\"data\":{\"$schema\":\"https://vega.github.io/schema/vega-lite/v4.17.0.json\",\"config\":{\"view\":{\"continuousHeight\":300,\"continuousWidth\":400}},\"data\":{\"name\":\"data-d7e7d3a006e30f7795655a1e9e190879\"},\"datasets\":{},\"encoding\":{\"color\":{\"condition\":{\"field\":\"Species\",\"selection\":\"brush\",\"type\":\"nominal\"},\"value\":\"lightgray\"},\"x\":{\"field\":\"Beak Length (mm)\",\"scale\":{\"zero\":false},\"type\":\"quantitative\"},\"y\":{\"field\":\"Beak Depth (mm)\",\"scale\":{\"zero\":false},\"type\":\"quantitative\"}},\"height\":250,\"mark\":\"point\",\"selection\":{\"brush\":{\"type\":\"interval\"}},\"width\":250},\"data_sources\":{\"data-d7e7d3a006e30f7795655a1e9e190879\":{\"id\":\"11941\"}},\"events\":[\"brush\"],\"height\":322,\"margin\":[5,5,30,5],\"subscribed_events\":[\"vega_event\"],\"throttle\":{\"brush\":5},\"width\":422},\"id\":\"11942\",\"type\":\"panel.models.vega.VegaPlot\"},{\"attributes\":{\"data\":{\"Beak Depth (mm)\":{\"__ndarray__\":\"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\",\"dtype\":\"float64\",\"order\":\"little\",\"shape\":[344]},\"Beak Length (mm)\":{\"__ndarray__\":\"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\",\"dtype\":\"float64\",\"order\":\"little\",\"shape\":[344]},\"Body Mass (g)\":{\"__ndarray__\":\"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\",\"dtype\":\"float64\",\"order\":\"little\",\"shape\":[344]},\"Flipper Length (mm)\":{\"__ndarray__\":\"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\",\"dtype\":\"float64\",\"order\":\"little\",\"shape\":[344]},\"Island\":[\"Torgersen\",\"Torgersen\",\"Torgersen\",\"Torgersen\",\"Torgersen\",\"Torgersen\",\"Torgersen\",\"Torgersen\",\"Torgersen\",\"Torgersen\",\"Torgersen\",\"Torgersen\",\"Torgersen\",\"Torgersen\",\"Torgersen\",\"Torgersen\",\"Torgersen\",\"Torgersen\",\"Torgersen\",\"Torgersen\",\"Biscoe\",\"Biscoe\",\"Biscoe\",\"Biscoe\",\"Biscoe\",\"Biscoe\",\"Biscoe\",\"Biscoe\",\"Biscoe\",\"Biscoe\",\"Dream\",\"Dream\",\"Dream\",\"Dream\",\"Dream\",\"Dream\",\"Dream\",\"Dream\",\"Dream\",\"Dream\",\"Dream\",\"Dream\",\"Dream\",\"Dream\",\"Dream\",\"Dream\",\"Dream\",\"Dream\",\"Dream\",\"Dream\",\"Biscoe\",\"Biscoe\",\"Biscoe\",\"Biscoe\",\"Biscoe\",\"Biscoe\",\"Biscoe\",\"Biscoe\",\"Biscoe\",\"Biscoe\",\"Biscoe\",\"Biscoe\",\"Biscoe\",\"Biscoe\",\"Biscoe\",\"Biscoe\",\"Biscoe\",\"Biscoe\",\"Torgersen\",\"Torgersen\",\"Torgersen\",\"Torgersen\",\"Torgersen\",\"Torgersen\",\"Torgersen\",\"Torgersen\",\"Torgersen\",\"Torgersen\",\"Torgersen\",\"Torgersen\",\"Torgersen\",\"Torgersen\",\"Torgersen\",\"Torgersen\",\"Dream\",\"Dream\",\"Dream\",\"Dream\",\"Dream\",\"Dream\",\"Dream\",\"Dream\",\"Dream\",\"Dream\",\"Dream\",\"Dream\",\"Dream\",\"Dream\",\"Dream\",\"Dream\",\"Biscoe\",\"Biscoe\",\"Biscoe\",\"Biscoe\",\"Biscoe\",\"Biscoe\",\"Biscoe\",\"Biscoe\",\"Biscoe\",\"Biscoe\",\"Biscoe\",\"Biscoe\",\"Biscoe\",\"Biscoe\",\"Biscoe\",\"Biscoe\",\"Torgersen\",\"Torgersen\",\"Torgersen\",\"Torgersen\",\"Torgersen\",\"Torgersen\",\"Torgersen\",\"Torgersen\",\"Torgersen\",\"Torgersen\",\"Torgersen\",\"Torgersen\",\"Torgersen\",\"Torgersen\",\"Torgersen\",\"Torgersen\",\"Dream\",\"Dream\",\"Dream\",\"Dream\",\"Dream\",\"Dream\",\"Dream\",\"Dream\",\"Dream\",\"Dream\",\"Dream\",\"Dream\",\"Dream\",\"Dream\",\"Dream\",\"Dream\",\"Dream\",\"Dream\",\"Dream\",\"Dream\",\"Dream\",\"Dream\",\"Dream\",\"Dream\",\"Dream\",\"Dream\",\"Dream\",\"Dream\",\"Dream\",\"Dream\",\"Dream\",\"Dream\",\"Dream\",\"Dream\",\"Dream\",\"Dream\",\"Dream\",\"Dream\",\"Dream\",\"Dream\",\"Dream\",\"Dream\",\"Dream\",\"Dream\",\"Dream\",\"Dream\",\"Dream\",\"Dream\",\"Dream\",\"Dream\",\"Dream\",\"Dream\",\"Dream\",\"Dream\",\"Dream\",\"Dream\",\"Dream\",\"Dream\",\"Dream\",\"Dream\",\"Dream\",\"Dream\",\"Dream\",\"Dream\",\"Dream\",\"Dream\",\"Dream\",\"Dream\",\"Dream\",\"Dream\",\"Dream\",\"Dream\",\"Dream\",\"Dream\",\"Dream\",\"Dream\",\"Dream\",\"Dream\",\"Dream\",\"Dream\",\"Dream\",\"Dream\",\"Dream\",\"Dream\",\"Dream\",\"Dream\",\"Dream\",\"Dream\",\"Biscoe\",\"Biscoe\",\"Biscoe\",\"Biscoe\",\"Biscoe\",\"Biscoe\",\"Biscoe\",\"Biscoe\",\"Biscoe\",\"Biscoe\",\"Biscoe\",\"Biscoe\",\"Biscoe\",\"Biscoe\",\"Biscoe\",\"Biscoe\",\"Biscoe\",\"Biscoe\",\"Biscoe\",\"Biscoe\",\"Biscoe\",\"Biscoe\",\"Biscoe\",\"Biscoe\",\"Biscoe\",\"Biscoe\",\"Biscoe\",\"Biscoe\",\"Biscoe\",\"Biscoe\",\"Biscoe\",\"Biscoe\",\"Biscoe\",\"Biscoe\",\"Biscoe\",\"Biscoe\",\"Biscoe\",\"Biscoe\",\"Biscoe\",\"Biscoe\",\"Biscoe\",\"Biscoe\",\"Biscoe\",\"Biscoe\",\"Biscoe\",\"Biscoe\",\"Biscoe\",\"Biscoe\",\"Biscoe\",\"Biscoe\",\"Biscoe\",\"Biscoe\",\"Biscoe\",\"Biscoe\",\"Biscoe\",\"Biscoe\",\"Biscoe\",\"Biscoe\",\"Biscoe\",\"Biscoe\",\"Biscoe\",\"Biscoe\",\"Biscoe\",\"Biscoe\",\"Biscoe\",\"Biscoe\",\"Biscoe\",\"Biscoe\",\"Biscoe\",\"Biscoe\",\"Biscoe\",\"Biscoe\",\"Biscoe\",\"Biscoe\",\"Biscoe\",\"Biscoe\",\"Biscoe\",\"Biscoe\",\"Biscoe\",\"Biscoe\",\"Biscoe\",\"Biscoe\",\"Biscoe\",\"Biscoe\",\"Biscoe\",\"Biscoe\",\"Biscoe\",\"Biscoe\",\"Biscoe\",\"Biscoe\",\"Biscoe\",\"Biscoe\",\"Biscoe\",\"Biscoe\",\"Biscoe\",\"Biscoe\",\"Biscoe\",\"Biscoe\",\"Biscoe\",\"Biscoe\",\"Biscoe\",\"Biscoe\",\"Biscoe\",\"Biscoe\",\"Biscoe\",\"Biscoe\",\"Biscoe\",\"Biscoe\",\"Biscoe\",\"Biscoe\",\"Biscoe\",\"Biscoe\",\"Biscoe\",\"Biscoe\",\"Biscoe\",\"Biscoe\",\"Biscoe\",\"Biscoe\",\"Biscoe\",\"Biscoe\",\"Biscoe\",\"Biscoe\",\"Biscoe\",\"Biscoe\"],\"Sex\":[\"MALE\",\"FEMALE\",\"FEMALE\",\"NaN\",\"FEMALE\",\"MALE\",\"FEMALE\",\"MALE\",\"NaN\",\"NaN\",\"NaN\",\"NaN\",\"FEMALE\",\"MALE\",\"MALE\",\"FEMALE\",\"FEMALE\",\"MALE\",\"FEMALE\",\"MALE\",\"FEMALE\",\"MALE\",\"FEMALE\",\"MALE\",\"MALE\",\"FEMALE\",\"MALE\",\"FEMALE\",\"FEMALE\",\"MALE\",\"FEMALE\",\"MALE\",\"FEMALE\",\"MALE\",\"FEMALE\",\"MALE\",\"MALE\",\"FEMALE\",\"FEMALE\",\"MALE\",\"FEMALE\",\"MALE\",\"FEMALE\",\"MALE\",\"FEMALE\",\"MALE\",\"MALE\",\"NaN\",\"FEMALE\",\"MALE\",\"FEMALE\",\"MALE\",\"FEMALE\",\"MALE\",\"FEMALE\",\"MALE\",\"FEMALE\",\"MALE\",\"FEMALE\",\"MALE\",\"FEMALE\",\"MALE\",\"FEMALE\",\"MALE\",\"FEMALE\",\"MALE\",\"FEMALE\",\"MALE\",\"FEMALE\",\"MALE\",\"FEMALE\",\"MALE\",\"FEMALE\",\"MALE\",\"FEMALE\",\"MALE\",\"FEMALE\",\"MALE\",\"FEMALE\",\"MALE\",\"FEMALE\",\"MALE\",\"FEMALE\",\"MALE\",\"FEMALE\",\"MALE\",\"MALE\",\"FEMALE\",\"MALE\",\"FEMALE\",\"FEMALE\",\"MALE\",\"FEMALE\",\"MALE\",\"FEMALE\",\"MALE\",\"FEMALE\",\"MALE\",\"FEMALE\",\"MALE\",\"FEMALE\",\"MALE\",\"FEMALE\",\"MALE\",\"FEMALE\",\"MALE\",\"FEMALE\",\"MALE\",\"FEMALE\",\"MALE\",\"FEMALE\",\"MALE\",\"FEMALE\",\"MALE\",\"FEMALE\",\"MALE\",\"FEMALE\",\"MALE\",\"FEMALE\",\"MALE\",\"FEMALE\",\"MALE\",\"FEMALE\",\"MALE\",\"FEMALE\",\"MALE\",\"FEMALE\",\"MALE\",\"FEMALE\",\"MALE\",\"FEMALE\",\"MALE\",\"FEMALE\",\"MALE\",\"FEMALE\",\"MALE\",\"FEMALE\",\"MALE\",\"FEMALE\",\"MALE\",\"FEMALE\",\"MALE\",\"FEMALE\",\"MALE\",\"FEMALE\",\"MALE\",\"MALE\",\"FEMALE\",\"FEMALE\",\"MALE\",\"FEMALE\",\"MALE\",\"FEMALE\",\"MALE\",\"MALE\",\"FEMALE\",\"MALE\",\"FEMALE\",\"FEMALE\",\"MALE\",\"FEMALE\",\"MALE\",\"FEMALE\",\"MALE\",\"FEMALE\",\"MALE\",\"FEMALE\",\"MALE\",\"MALE\",\"FEMALE\",\"FEMALE\",\"MALE\",\"FEMALE\",\"MALE\",\"FEMALE\",\"MALE\",\"FEMALE\",\"MALE\",\"FEMALE\",\"MALE\",\"FEMALE\",\"MALE\",\"FEMALE\",\"MALE\",\"FEMALE\",\"MALE\",\"MALE\",\"FEMALE\",\"FEMALE\",\"MALE\",\"FEMALE\",\"MALE\",\"MALE\",\"FEMALE\",\"MALE\",\"FEMALE\",\"FEMALE\",\"MALE\",\"FEMALE\",\"MALE\",\"MALE\",\"FEMALE\",\"FEMALE\",\"MALE\",\"FEMALE\",\"MALE\",\"FEMALE\",\"MALE\",\"FEMALE\",\"MALE\",\"MALE\",\"FEMALE\",\"MALE\",\"FEMALE\",\"FEMALE\",\"MALE\",\"FEMALE\",\"MALE\",\"MALE\",\"FEMALE\",\"FEMALE\",\"MALE\",\"FEMALE\",\"MALE\",\"MALE\",\"FEMALE\",\"FEMALE\",\"MALE\",\"FEMALE\",\"MALE\",\"FEMALE\",\"MALE\",\"FEMALE\",\"MALE\",\"FEMALE\",\"MALE\",\"FEMALE\",\"MALE\",\"FEMALE\",\"MALE\",\"MALE\",\"FEMALE\",\"FEMALE\",\"MALE\",\"FEMALE\",\"MALE\",\"NaN\",\"MALE\",\"FEMALE\",\"MALE\",\"MALE\",\"FEMALE\",\"FEMALE\",\"MALE\",\"FEMALE\",\"MALE\",\"FEMALE\",\"MALE\",\"FEMALE\",\"MALE\",\"FEMALE\",\"MALE\",\"FEMALE\",\"MALE\",\"MALE\",\"FEMALE\",\"FEMALE\",\"MALE\",\"FEMALE\",\"MALE\",\"FEMALE\",\"MALE\",\"FEMALE\",\"MALE\",\"FEMALE\",\"MALE\",\"FEMALE\",\"MALE\",\"FEMALE\",\"MALE\",\"FEMALE\",\"MALE\",\"FEMALE\",\"MALE\",\"FEMALE\",\"MALE\",\"NaN\",\"MALE\",\"FEMALE\",\"MALE\",\"FEMALE\",\"MALE\",\"MALE\",\"FEMALE\",\"FEMALE\",\"MALE\",\"FEMALE\",\"MALE\",\"FEMALE\",\"MALE\",\"FEMALE\",\"MALE\",\"FEMALE\",\"MALE\",\"FEMALE\",\"MALE\",\"FEMALE\",\"MALE\",\"FEMALE\",\"MALE\",\"FEMALE\",\"MALE\",\"FEMALE\",\"MALE\",\"FEMALE\",\"MALE\",\"MALE\",\"FEMALE\",\"FEMALE\",\"MALE\",\"FEMALE\",\"MALE\",\"FEMALE\",\"MALE\",\"NaN\",\"MALE\",\"FEMALE\",\"MALE\",\"FEMALE\",\"MALE\",\"FEMALE\",\"MALE\",\"FEMALE\",\"MALE\",\"FEMALE\",\"MALE\",\".\",\"MALE\",\"FEMALE\",\"NaN\",\"FEMALE\",\"MALE\",\"FEMALE\",\"MALE\"],\"Species\":[\"Adelie\",\"Adelie\",\"Adelie\",\"Adelie\",\"Adelie\",\"Adelie\",\"Adelie\",\"Adelie\",\"Adelie\",\"Adelie\",\"Adelie\",\"Adelie\",\"Adelie\",\"Adelie\",\"Adelie\",\"Adelie\",\"Adelie\",\"Adelie\",\"Adelie\",\"Adelie\",\"Adelie\",\"Adelie\",\"Adelie\",\"Adelie\",\"Adelie\",\"Adelie\",\"Adelie\",\"Adelie\",\"Adelie\",\"Adelie\",\"Adelie\",\"Adelie\",\"Adelie\",\"Adelie\",\"Adelie\",\"Adelie\",\"Adelie\",\"Adelie\",\"Adelie\",\"Adelie\",\"Adelie\",\"Adelie\",\"Adelie\",\"Adelie\",\"Adelie\",\"Adelie\",\"Adelie\",\"Adelie\",\"Adelie\",\"Adelie\",\"Adelie\",\"Adelie\",\"Adelie\",\"Adelie\",\"Adelie\",\"Adelie\",\"Adelie\",\"Adelie\",\"Adelie\",\"Adelie\",\"Adelie\",\"Adelie\",\"Adelie\",\"Adelie\",\"Adelie\",\"Adelie\",\"Adelie\",\"Adelie\",\"Adelie\",\"Adelie\",\"Adelie\",\"Adelie\",\"Adelie\",\"Adelie\",\"Adelie\",\"Adelie\",\"Adelie\",\"Adelie\",\"Adelie\",\"Adelie\",\"Adelie\",\"Adelie\",\"Adelie\",\"Adelie\",\"Adelie\",\"Adelie\",\"Adelie\",\"Adelie\",\"Adelie\",\"Adelie\",\"Adelie\",\"Adelie\",\"Adelie\",\"Adelie\",\"Adelie\",\"Adelie\",\"Adelie\",\"Adelie\",\"Adelie\",\"Adelie\",\"Adelie\",\"Adelie\",\"Adelie\",\"Adelie\",\"Adelie\",\"Adelie\",\"Adelie\",\"Adelie\",\"Adelie\",\"Adelie\",\"Adelie\",\"Adelie\",\"Adelie\",\"Adelie\",\"Adelie\",\"Adelie\",\"Adelie\",\"Adelie\",\"Adelie\",\"Adelie\",\"Adelie\",\"Adelie\",\"Adelie\",\"Adelie\",\"Adelie\",\"Adelie\",\"Adelie\",\"Adelie\",\"Adelie\",\"Adelie\",\"Adelie\",\"Adelie\",\"Adelie\",\"Adelie\",\"Adelie\",\"Adelie\",\"Adelie\",\"Adelie\",\"Adelie\",\"Adelie\",\"Adelie\",\"Adelie\",\"Adelie\",\"Adelie\",\"Adelie\",\"Adelie\",\"Adelie\",\"Adelie\",\"Adelie\",\"Adelie\",\"Adelie\",\"Adelie\",\"Chinstrap\",\"Chinstrap\",\"Chinstrap\",\"Chinstrap\",\"Chinstrap\",\"Chinstrap\",\"Chinstrap\",\"Chinstrap\",\"Chinstrap\",\"Chinstrap\",\"Chinstrap\",\"Chinstrap\",\"Chinstrap\",\"Chinstrap\",\"Chinstrap\",\"Chinstrap\",\"Chinstrap\",\"Chinstrap\",\"Chinstrap\",\"Chinstrap\",\"Chinstrap\",\"Chinstrap\",\"Chinstrap\",\"Chinstrap\",\"Chinstrap\",\"Chinstrap\",\"Chinstrap\",\"Chinstrap\",\"Chinstrap\",\"Chinstrap\",\"Chinstrap\",\"Chinstrap\",\"Chinstrap\",\"Chinstrap\",\"Chinstrap\",\"Chinstrap\",\"Chinstrap\",\"Chinstrap\",\"Chinstrap\",\"Chinstrap\",\"Chinstrap\",\"Chinstrap\",\"Chinstrap\",\"Chinstrap\",\"Chinstrap\",\"Chinstrap\",\"Chinstrap\",\"Chinstrap\",\"Chinstrap\",\"Chinstrap\",\"Chinstrap\",\"Chinstrap\",\"Chinstrap\",\"Chinstrap\",\"Chinstrap\",\"Chinstrap\",\"Chinstrap\",\"Chinstrap\",\"Chinstrap\",\"Chinstrap\",\"Chinstrap\",\"Chinstrap\",\"Chinstrap\",\"Chinstrap\",\"Chinstrap\",\"Chinstrap\",\"Chinstrap\",\"Chinstrap\",\"Gentoo\",\"Gentoo\",\"Gentoo\",\"Gentoo\",\"Gentoo\",\"Gentoo\",\"Gentoo\",\"Gentoo\",\"Gentoo\",\"Gentoo\",\"Gentoo\",\"Gentoo\",\"Gentoo\",\"Gentoo\",\"Gentoo\",\"Gentoo\",\"Gentoo\",\"Gentoo\",\"Gentoo\",\"Gentoo\",\"Gentoo\",\"Gentoo\",\"Gentoo\",\"Gentoo\",\"Gentoo\",\"Gentoo\",\"Gentoo\",\"Gentoo\",\"Gentoo\",\"Gentoo\",\"Gentoo\",\"Gentoo\",\"Gentoo\",\"Gentoo\",\"Gentoo\",\"Gentoo\",\"Gentoo\",\"Gentoo\",\"Gentoo\",\"Gentoo\",\"Gentoo\",\"Gentoo\",\"Gentoo\",\"Gentoo\",\"Gentoo\",\"Gentoo\",\"Gentoo\",\"Gentoo\",\"Gentoo\",\"Gentoo\",\"Gentoo\",\"Gentoo\",\"Gentoo\",\"Gentoo\",\"Gentoo\",\"Gentoo\",\"Gentoo\",\"Gentoo\",\"Gentoo\",\"Gentoo\",\"Gentoo\",\"Gentoo\",\"Gentoo\",\"Gentoo\",\"Gentoo\",\"Gentoo\",\"Gentoo\",\"Gentoo\",\"Gentoo\",\"Gentoo\",\"Gentoo\",\"Gentoo\",\"Gentoo\",\"Gentoo\",\"Gentoo\",\"Gentoo\",\"Gentoo\",\"Gentoo\",\"Gentoo\",\"Gentoo\",\"Gentoo\",\"Gentoo\",\"Gentoo\",\"Gentoo\",\"Gentoo\",\"Gentoo\",\"Gentoo\",\"Gentoo\",\"Gentoo\",\"Gentoo\",\"Gentoo\",\"Gentoo\",\"Gentoo\",\"Gentoo\",\"Gentoo\",\"Gentoo\",\"Gentoo\",\"Gentoo\",\"Gentoo\",\"Gentoo\",\"Gentoo\",\"Gentoo\",\"Gentoo\",\"Gentoo\",\"Gentoo\",\"Gentoo\",\"Gentoo\",\"Gentoo\",\"Gentoo\",\"Gentoo\",\"Gentoo\",\"Gentoo\",\"Gentoo\",\"Gentoo\",\"Gentoo\",\"Gentoo\",\"Gentoo\",\"Gentoo\",\"Gentoo\",\"Gentoo\",\"Gentoo\",\"Gentoo\",\"Gentoo\",\"Gentoo\"],\"index\":[0,1,2,3,4,5,6,7,8,9,10,11,12,13,14,15,16,17,18,19,20,21,22,23,24,25,26,27,28,29,30,31,32,33,34,35,36,37,38,39,40,41,42,43,44,45,46,47,48,49,50,51,52,53,54,55,56,57,58,59,60,61,62,63,64,65,66,67,68,69,70,71,72,73,74,75,76,77,78,79,80,81,82,83,84,85,86,87,88,89,90,91,92,93,94,95,96,97,98,99,100,101,102,103,104,105,106,107,108,109,110,111,112,113,114,115,116,117,118,119,120,121,122,123,124,125,126,127,128,129,130,131,132,133,134,135,136,137,138,139,140,141,142,143,144,145,146,147,148,149,150,151,152,153,154,155,156,157,158,159,160,161,162,163,164,165,166,167,168,169,170,171,172,173,174,175,176,177,178,179,180,181,182,183,184,185,186,187,188,189,190,191,192,193,194,195,196,197,198,199,200,201,202,203,204,205,206,207,208,209,210,211,212,213,214,215,216,217,218,219,220,221,222,223,224,225,226,227,228,229,230,231,232,233,234,235,236,237,238,239,240,241,242,243,244,245,246,247,248,249,250,251,252,253,254,255,256,257,258,259,260,261,262,263,264,265,266,267,268,269,270,271,272,273,274,275,276,277,278,279,280,281,282,283,284,285,286,287,288,289,290,291,292,293,294,295,296,297,298,299,300,301,302,303,304,305,306,307,308,309,310,311,312,313,314,315,316,317,318,319,320,321,322,323,324,325,326,327,328,329,330,331,332,333,334,335,336,337,338,339,340,341,342,343]},\"selected\":{\"id\":\"11946\"},\"selection_policy\":{\"id\":\"11945\"}},\"id\":\"11941\",\"type\":\"ColumnDataSource\"},{\"attributes\":{\"css_classes\":[\"markdown\"],\"margin\":[5,5,5,5],\"name\":\"ParamFunction11314\",\"text\":\"&lt;h2&gt;No selection&lt;/h2&gt;\"},\"id\":\"11944\",\"type\":\"panel.models.markup.HTML\"},{\"attributes\":{\"client_comm_id\":\"2d66eb588b82436eb9e8ccb28996f726\",\"comm_id\":\"f6a784ac88b74e2e8829c962abd59b44\",\"plot_id\":\"11939\"},\"id\":\"11951\",\"type\":\"panel.models.comm_manager.CommManager\"},{\"attributes\":{\"children\":[{\"id\":\"11940\"},{\"id\":\"11942\"},{\"id\":\"11943\"}],\"margin\":[0,0,0,0],\"name\":\"Row11321\"},\"id\":\"11939\",\"type\":\"Row\"},{\"attributes\":{},\"id\":\"11945\",\"type\":\"UnionRenderers\"},{\"attributes\":{},\"id\":\"11946\",\"type\":\"Selection\"}],\"root_ids\":[\"11939\",\"11951\"]},\"title\":\"Bokeh Application\",\"version\":\"2.4.3\"}};\n",
       "    var render_items = [{\"docid\":\"463a3610-6928-46f2-b4c0-d8733b117569\",\"root_ids\":[\"11939\"],\"roots\":{\"11939\":\"e2eed793-db8e-4a7c-8187-10f29a365adf\"}}];\n",
       "    root.Bokeh.embed.embed_items_notebook(docs_json, render_items);\n",
       "    for (const render_item of render_items) {\n",
       "      for (const root_id of render_item.root_ids) {\n",
       "\tconst id_el = document.getElementById(root_id)\n",
       "\tif (id_el.children.length && (id_el.children[0].className === 'bk-root')) {\n",
       "\t  const root_el = id_el.children[0]\n",
       "\t  root_el.id = root_el.id + '-rendered'\n",
       "\t}\n",
       "      }\n",
       "    }\n",
       "  }\n",
       "  if (root.Bokeh !== undefined && root.Bokeh.Panel !== undefined && ( root['vega'] !== undefined) && ( root['Tabulator'] !== undefined)) {\n",
       "    embed_document(root);\n",
       "  } else {\n",
       "    var attempts = 0;\n",
       "    var timer = setInterval(function(root) {\n",
       "      if (root.Bokeh !== undefined && root.Bokeh.Panel !== undefined && (root['vega'] !== undefined) && (root['Tabulator'] !== undefined)) {\n",
       "        clearInterval(timer);\n",
       "        embed_document(root);\n",
       "      } else if (document.readyState == \"complete\") {\n",
       "        attempts++;\n",
       "        if (attempts > 200) {\n",
       "          clearInterval(timer);\n",
       "          console.log(\"Bokeh: ERROR: Unable to run BokehJS code because BokehJS library is missing\");\n",
       "        }\n",
       "      }\n",
       "    }, 25, root)\n",
       "  }\n",
       "})(window);</script>"
      ],
      "text/plain": [
       "Row\n",
       "    [0] Select(name='Island', options=['Torgersen', ...], value='Torgersen')\n",
       "    [1] Vega(Chart, debounce=5, selection=Selection)\n",
       "    [2] ParamFunction(function, _pane=Markdown)"
      ]
     },
     "execution_count": 191,
     "metadata": {
      "application/vnd.holoviews_exec.v0+json": {
       "id": "11939"
      }
     },
     "output_type": "execute_result"
    }
   ],
   "source": [
    "import pandas as pd\n",
    "penguins_url = \"https://raw.githubusercontent.com/vega/vega/master/docs/data/penguins.json\"\n",
    "df = pd.read_json(penguins_url)\n",
    "\n",
    "brush = alt.selection_interval(name='brush')  # selection of type \"interval\"\n",
    "island = pn.widgets.Select(name='Island', options=df.Island.unique().tolist())\n",
    "# input_dropdown = alt.binding_select(options=df.Species.unique().tolist(), name='Species ')\n",
    "# species_selection = alt.selection_single(fields=['Species'], bind=input_dropdown, name='species_selection')\n",
    "\n",
    "chart = alt.Chart(d).mark_point().encode(\n",
    "    x=alt.X('Beak Length (mm):Q', scale=alt.Scale(zero=False)),\n",
    "    y=alt.Y('Beak Depth (mm):Q', scale=alt.Scale(zero=False)),\n",
    "    \n",
    "    color=alt.condition(brush, 'Species:N', alt.value('lightgray'))\n",
    ").properties(\n",
    "    width=250,\n",
    "    height=250\n",
    ").add_selection(\n",
    "    brush\n",
    ")\n",
    "\n",
    "vega_pane = pn.pane.Vega(chart, selection=island, debounce=5)\n",
    "\n",
    "def filtered_table(selection):\n",
    "    if not selection:\n",
    "        return '## No selection'\n",
    "    query = ' & '.join(\n",
    "        f'{crange[0]:.3f} <= `{col}` <= {crange[1]:.3f}'\n",
    "        for col, crange in selection.items()\n",
    "    )\n",
    "    return pn.Column(\n",
    "        f'Query: {query}',\n",
    "        pn.pane.DataFrame(df.query(query), width=600, height=300)\n",
    "    )\n",
    "\n",
    "pn.Row(island, vega_pane, pn.bind(filtered_table, vega_pane.selection.param.brush))"
   ]
  },
  {
   "cell_type": "code",
   "execution_count": 187,
   "metadata": {
    "tags": []
   },
   "outputs": [
    {
     "data": {
      "text/plain": [
       "'Dream'"
      ]
     },
     "execution_count": 187,
     "metadata": {},
     "output_type": "execute_result"
    }
   ],
   "source": [
    "island.value"
   ]
  },
  {
   "cell_type": "markdown",
   "metadata": {},
   "source": [
    "Note that this way of constructing the query string means that Panel currently supports filtering the table via the max and min values of the selection area but does not check whether there are actually points present in this area of the chart."
   ]
  },
  {
   "cell_type": "markdown",
   "metadata": {},
   "source": [
    "#### Filtering another chart via a selection\n",
    "\n",
    "Altair already provides a syntax for filtering one chart based on the selection in another, but one limitation is that these charts need to be displayed in the same layout for the filtering to work. By using Panel to filter one Altair chart based on another, we can place the charts anywhere in our app and still have the filtering work as expected.\n",
    "\n",
    "One way to filter a chart based on the selection in another chart, is to to use the same approach as above and create the second chart with the dataframe filtered via `.query`. Altair also provides a way to do the filtering directly with the `transform_filter` method instead of using pandas. In the example below, we are constructing a [composed](https://vega.github.io/vega-lite/docs/predicate.html#composition) [range predicate](https://vega.github.io/vega-lite/docs/predicate.html#range-predicate) from our selection object and passing it to the `transform_filter` method of the second chart."
   ]
  },
  {
   "cell_type": "code",
   "execution_count": 114,
   "metadata": {
    "tags": []
   },
   "outputs": [
    {
     "data": {},
     "metadata": {},
     "output_type": "display_data"
    },
    {
     "data": {
      "application/vnd.holoviews_exec.v0+json": "",
      "text/html": [
       "<div id='2903'>\n",
       "  <div class=\"bk-root\" id=\"6e0c9e63-9e5f-4b0b-a3bc-742c12575dd1\" data-root-id=\"2903\"></div>\n",
       "</div>\n",
       "<script type=\"application/javascript\">(function(root) {\n",
       "  function embed_document(root) {\n",
       "    var docs_json = {\"e334cfa0-2a0a-4623-bd5e-76de4d40bb1d\":{\"defs\":[{\"extends\":null,\"module\":null,\"name\":\"ReactiveHTML1\",\"overrides\":[],\"properties\":[]},{\"extends\":null,\"module\":null,\"name\":\"FlexBox1\",\"overrides\":[],\"properties\":[{\"default\":\"flex-start\",\"kind\":null,\"name\":\"align_content\"},{\"default\":\"flex-start\",\"kind\":null,\"name\":\"align_items\"},{\"default\":\"row\",\"kind\":null,\"name\":\"flex_direction\"},{\"default\":\"wrap\",\"kind\":null,\"name\":\"flex_wrap\"},{\"default\":\"flex-start\",\"kind\":null,\"name\":\"justify_content\"}]},{\"extends\":null,\"module\":null,\"name\":\"GridStack1\",\"overrides\":[],\"properties\":[{\"default\":\"warn\",\"kind\":null,\"name\":\"mode\"},{\"default\":null,\"kind\":null,\"name\":\"ncols\"},{\"default\":null,\"kind\":null,\"name\":\"nrows\"},{\"default\":true,\"kind\":null,\"name\":\"allow_resize\"},{\"default\":true,\"kind\":null,\"name\":\"allow_drag\"},{\"default\":[],\"kind\":null,\"name\":\"state\"}]},{\"extends\":null,\"module\":null,\"name\":\"click1\",\"overrides\":[],\"properties\":[{\"default\":\"\",\"kind\":null,\"name\":\"terminal_output\"},{\"default\":\"\",\"kind\":null,\"name\":\"debug_name\"},{\"default\":0,\"kind\":null,\"name\":\"clears\"}]},{\"extends\":null,\"module\":null,\"name\":\"NotificationAreaBase1\",\"overrides\":[],\"properties\":[{\"default\":\"bottom-right\",\"kind\":null,\"name\":\"position\"},{\"default\":0,\"kind\":null,\"name\":\"_clear\"}]},{\"extends\":null,\"module\":null,\"name\":\"NotificationArea1\",\"overrides\":[],\"properties\":[{\"default\":[],\"kind\":null,\"name\":\"notifications\"},{\"default\":\"bottom-right\",\"kind\":null,\"name\":\"position\"},{\"default\":0,\"kind\":null,\"name\":\"_clear\"},{\"default\":[{\"background\":\"#ffc107\",\"icon\":{\"className\":\"fas fa-exclamation-triangle\",\"color\":\"white\",\"tagName\":\"i\"},\"type\":\"warning\"},{\"background\":\"#007bff\",\"icon\":{\"className\":\"fas fa-info-circle\",\"color\":\"white\",\"tagName\":\"i\"},\"type\":\"info\"}],\"kind\":null,\"name\":\"types\"}]},{\"extends\":null,\"module\":null,\"name\":\"Notification\",\"overrides\":[],\"properties\":[{\"default\":null,\"kind\":null,\"name\":\"background\"},{\"default\":3000,\"kind\":null,\"name\":\"duration\"},{\"default\":null,\"kind\":null,\"name\":\"icon\"},{\"default\":\"\",\"kind\":null,\"name\":\"message\"},{\"default\":null,\"kind\":null,\"name\":\"notification_type\"},{\"default\":false,\"kind\":null,\"name\":\"_destroyed\"}]},{\"extends\":null,\"module\":null,\"name\":\"TemplateActions1\",\"overrides\":[],\"properties\":[{\"default\":0,\"kind\":null,\"name\":\"open_modal\"},{\"default\":0,\"kind\":null,\"name\":\"close_modal\"}]},{\"extends\":null,\"module\":null,\"name\":\"MaterialTemplateActions1\",\"overrides\":[],\"properties\":[{\"default\":0,\"kind\":null,\"name\":\"open_modal\"},{\"default\":0,\"kind\":null,\"name\":\"close_modal\"}]}],\"roots\":{\"references\":[{\"attributes\":{\"data\":{\"$schema\":\"https://vega.github.io/schema/vega-lite/v4.17.0.json\",\"config\":{\"view\":{\"continuousHeight\":300,\"continuousWidth\":400}},\"data\":{\"url\":\"https://raw.githubusercontent.com/vega/vega/master/docs/data/penguins.json\"},\"encoding\":{\"color\":{\"condition\":{\"field\":\"Species\",\"selection\":\"brush\",\"type\":\"nominal\"},\"value\":\"lightgray\"},\"x\":{\"field\":\"Beak Length (mm)\",\"scale\":{\"zero\":false},\"type\":\"quantitative\"},\"y\":{\"field\":\"Beak Depth (mm)\",\"scale\":{\"zero\":false},\"type\":\"quantitative\"}},\"height\":250,\"mark\":\"point\",\"selection\":{\"brush\":{\"type\":\"interval\"}},\"width\":250},\"events\":[\"brush\"],\"height\":322,\"margin\":[5,5,30,5],\"subscribed_events\":[\"vega_event\"],\"throttle\":{\"brush\":5},\"width\":422},\"id\":\"2904\",\"type\":\"panel.models.vega.VegaPlot\"},{\"attributes\":{\"css_classes\":[\"markdown\"],\"margin\":[5,5,5,5],\"name\":\"ParamFunction02816\",\"text\":\"&lt;h2&gt;No selection&lt;/h2&gt;\"},\"id\":\"2906\",\"type\":\"panel.models.markup.HTML\"},{\"attributes\":{\"children\":[{\"id\":\"2906\"}],\"margin\":[0,0,0,0],\"name\":\"Row02820\"},\"id\":\"2905\",\"type\":\"Row\"},{\"attributes\":{\"children\":[{\"id\":\"2904\"},{\"id\":\"2905\"}],\"margin\":[0,0,0,0],\"name\":\"Column02823\"},\"id\":\"2903\",\"type\":\"Column\"},{\"attributes\":{\"client_comm_id\":\"bbad060e1ac546f8bd0897a3d771cc9a\",\"comm_id\":\"61899c67a1b945b4ae4c60bec43ecbd1\",\"plot_id\":\"2903\"},\"id\":\"2907\",\"type\":\"panel.models.comm_manager.CommManager\"}],\"root_ids\":[\"2903\",\"2907\"]},\"title\":\"Bokeh Application\",\"version\":\"2.4.3\"}};\n",
       "    var render_items = [{\"docid\":\"e334cfa0-2a0a-4623-bd5e-76de4d40bb1d\",\"root_ids\":[\"2903\"],\"roots\":{\"2903\":\"6e0c9e63-9e5f-4b0b-a3bc-742c12575dd1\"}}];\n",
       "    root.Bokeh.embed.embed_items_notebook(docs_json, render_items);\n",
       "    for (const render_item of render_items) {\n",
       "      for (const root_id of render_item.root_ids) {\n",
       "\tconst id_el = document.getElementById(root_id)\n",
       "\tif (id_el.children.length && (id_el.children[0].className === 'bk-root')) {\n",
       "\t  const root_el = id_el.children[0]\n",
       "\t  root_el.id = root_el.id + '-rendered'\n",
       "\t}\n",
       "      }\n",
       "    }\n",
       "  }\n",
       "  if (root.Bokeh !== undefined && root.Bokeh.Panel !== undefined && ( root['vega'] !== undefined)) {\n",
       "    embed_document(root);\n",
       "  } else {\n",
       "    var attempts = 0;\n",
       "    var timer = setInterval(function(root) {\n",
       "      if (root.Bokeh !== undefined && root.Bokeh.Panel !== undefined && (root['vega'] !== undefined)) {\n",
       "        clearInterval(timer);\n",
       "        embed_document(root);\n",
       "      } else if (document.readyState == \"complete\") {\n",
       "        attempts++;\n",
       "        if (attempts > 200) {\n",
       "          clearInterval(timer);\n",
       "          console.log(\"Bokeh: ERROR: Unable to run BokehJS code because BokehJS library is missing\");\n",
       "        }\n",
       "      }\n",
       "    }, 25, root)\n",
       "  }\n",
       "})(window);</script>"
      ],
      "text/plain": [
       "Column\n",
       "    [0] Vega(Chart, debounce=5, selection=Selection)\n",
       "    [1] ParamFunction(function, _pane=Markdown)"
      ]
     },
     "execution_count": 114,
     "metadata": {
      "application/vnd.holoviews_exec.v0+json": {
       "id": "2903"
      }
     },
     "output_type": "execute_result"
    }
   ],
   "source": [
    "# two charts connected by a selection brush. When data is dynamically selected in the chart 1, the\n",
    "# chart 2 automatically gets created and midified dinamically. \n",
    "# it can't have a table instead of the 2nd chart though. altair doesn't have tables\n",
    "\n",
    "\n",
    "import pandas as pd\n",
    "penguins_url = \"https://raw.githubusercontent.com/vega/vega/master/docs/data/penguins.json\"\n",
    "df = pd.read_json(penguins_url)\n",
    "\n",
    "brush = alt.selection_interval(name='brush')  # selection of type \"interval\"\n",
    "\n",
    "\n",
    "input_dropdown = alt.binding_select(options=df.Species.unique().tolist(), name='Species ')\n",
    "species_selection = alt.selection_single(fields=['Species'], bind=input_dropdown, name='species_selection')\n",
    "\n",
    "chart = alt.Chart(penguins_url).mark_point().encode(\n",
    "    x=alt.X('Beak Length (mm):Q', scale=alt.Scale(zero=False)),\n",
    "    y=alt.Y('Beak Depth (mm):Q', scale=alt.Scale(zero=False)),\n",
    "    \n",
    "    color=alt.condition(brush, 'Species:N', alt.value('lightgray'))\n",
    ").properties(\n",
    "    width=250,\n",
    "    height=250\n",
    ").add_selection(\n",
    "    brush\n",
    ")\n",
    "\n",
    "vega_pane = pn.pane.Vega(chart, debounce=5)\n",
    "\n",
    "def bar_counts(selection):\n",
    "    if not selection:\n",
    "        return '## No selection'\n",
    "    range_predicate = {\n",
    "        'and': [{\n",
    "            'field': key,\n",
    "            'range': [selection[key][0], selection[key][1]]\n",
    "        } for key in selection]\n",
    "    }\n",
    "    return alt.Chart(penguins_url, width=220).mark_bar().encode(\n",
    "        x='count()',\n",
    "        y='Species:N',\n",
    "        color=alt.Color('Species:N', legend=None)\n",
    "    ).transform_filter(\n",
    "        range_predicate\n",
    "    )\n",
    "\n",
    "pn.Column(vega_pane, pn.bind(bar_counts, vega_pane.selection.param.brush))\n",
    "# vega_pane.selection"
   ]
  },
  {
   "cell_type": "markdown",
   "metadata": {},
   "source": [
    "#### Filtering categorical data via a selection\n",
    "\n",
    "Selections on categorical columns ('nominal' and 'ordinal' in Altair) return all the selected values in a list rather than just the min and max of the selection interval. Therefore, we need to construct the query string as follows:\n",
    "\n",
    "```python\n",
    "query = ' & '.join([f'`{col}` in {values}' for col, values in selection.items()])\n",
    "```\n",
    "\n",
    "In the example below we first check the data type in the column and then use either the categorical and quantitative query string as appropriate, which allows us to filter on a combination on categorical and numerical data."
   ]
  },
  {
   "cell_type": "code",
   "execution_count": 180,
   "metadata": {
    "tags": []
   },
   "outputs": [
    {
     "data": {},
     "metadata": {},
     "output_type": "display_data"
    },
    {
     "data": {
      "application/vnd.holoviews_exec.v0+json": "",
      "text/html": [
       "<div id='9188'>\n",
       "  <div class=\"bk-root\" id=\"93b72924-9b46-4867-866c-ea358accf5b3\" data-root-id=\"9188\"></div>\n",
       "</div>\n",
       "<script type=\"application/javascript\">(function(root) {\n",
       "  function embed_document(root) {\n",
       "    var docs_json = {\"892df980-531d-4deb-9158-a76d18a26fd2\":{\"defs\":[{\"extends\":null,\"module\":null,\"name\":\"ReactiveHTML1\",\"overrides\":[],\"properties\":[]},{\"extends\":null,\"module\":null,\"name\":\"FlexBox1\",\"overrides\":[],\"properties\":[{\"default\":\"flex-start\",\"kind\":null,\"name\":\"align_content\"},{\"default\":\"flex-start\",\"kind\":null,\"name\":\"align_items\"},{\"default\":\"row\",\"kind\":null,\"name\":\"flex_direction\"},{\"default\":\"wrap\",\"kind\":null,\"name\":\"flex_wrap\"},{\"default\":\"flex-start\",\"kind\":null,\"name\":\"justify_content\"}]},{\"extends\":null,\"module\":null,\"name\":\"GridStack1\",\"overrides\":[],\"properties\":[{\"default\":\"warn\",\"kind\":null,\"name\":\"mode\"},{\"default\":null,\"kind\":null,\"name\":\"ncols\"},{\"default\":null,\"kind\":null,\"name\":\"nrows\"},{\"default\":true,\"kind\":null,\"name\":\"allow_resize\"},{\"default\":true,\"kind\":null,\"name\":\"allow_drag\"},{\"default\":[],\"kind\":null,\"name\":\"state\"}]},{\"extends\":null,\"module\":null,\"name\":\"click1\",\"overrides\":[],\"properties\":[{\"default\":\"\",\"kind\":null,\"name\":\"terminal_output\"},{\"default\":\"\",\"kind\":null,\"name\":\"debug_name\"},{\"default\":0,\"kind\":null,\"name\":\"clears\"}]},{\"extends\":null,\"module\":null,\"name\":\"NotificationAreaBase1\",\"overrides\":[],\"properties\":[{\"default\":\"bottom-right\",\"kind\":null,\"name\":\"position\"},{\"default\":0,\"kind\":null,\"name\":\"_clear\"}]},{\"extends\":null,\"module\":null,\"name\":\"NotificationArea1\",\"overrides\":[],\"properties\":[{\"default\":[],\"kind\":null,\"name\":\"notifications\"},{\"default\":\"bottom-right\",\"kind\":null,\"name\":\"position\"},{\"default\":0,\"kind\":null,\"name\":\"_clear\"},{\"default\":[{\"background\":\"#ffc107\",\"icon\":{\"className\":\"fas fa-exclamation-triangle\",\"color\":\"white\",\"tagName\":\"i\"},\"type\":\"warning\"},{\"background\":\"#007bff\",\"icon\":{\"className\":\"fas fa-info-circle\",\"color\":\"white\",\"tagName\":\"i\"},\"type\":\"info\"}],\"kind\":null,\"name\":\"types\"}]},{\"extends\":null,\"module\":null,\"name\":\"Notification\",\"overrides\":[],\"properties\":[{\"default\":null,\"kind\":null,\"name\":\"background\"},{\"default\":3000,\"kind\":null,\"name\":\"duration\"},{\"default\":null,\"kind\":null,\"name\":\"icon\"},{\"default\":\"\",\"kind\":null,\"name\":\"message\"},{\"default\":null,\"kind\":null,\"name\":\"notification_type\"},{\"default\":false,\"kind\":null,\"name\":\"_destroyed\"}]},{\"extends\":null,\"module\":null,\"name\":\"TemplateActions1\",\"overrides\":[],\"properties\":[{\"default\":0,\"kind\":null,\"name\":\"open_modal\"},{\"default\":0,\"kind\":null,\"name\":\"close_modal\"}]},{\"extends\":null,\"module\":null,\"name\":\"MaterialTemplateActions1\",\"overrides\":[],\"properties\":[{\"default\":0,\"kind\":null,\"name\":\"open_modal\"},{\"default\":0,\"kind\":null,\"name\":\"close_modal\"}]}],\"roots\":{\"references\":[{\"attributes\":{},\"id\":\"9193\",\"type\":\"UnionRenderers\"},{\"attributes\":{\"data\":{\"$schema\":\"https://vega.github.io/schema/vega-lite/v4.17.0.json\",\"config\":{\"view\":{\"continuousHeight\":300,\"continuousWidth\":400}},\"data\":{\"name\":\"data-d7e7d3a006e30f7795655a1e9e190879\"},\"datasets\":{},\"encoding\":{\"color\":{\"condition\":{\"field\":\"Species\",\"selection\":\"brush\",\"type\":\"nominal\"},\"value\":\"lightgray\"},\"x\":{\"field\":\"Beak Depth (mm)\",\"scale\":{\"zero\":false},\"type\":\"quantitative\"},\"y\":{\"field\":\"Beak Length (mm)\",\"scale\":{\"zero\":false},\"type\":\"quantitative\"}},\"height\":150,\"mark\":\"circle\",\"selection\":{\"brush\":{\"type\":\"interval\"}}},\"data_sources\":{\"data-d7e7d3a006e30f7795655a1e9e190879\":{\"id\":\"9189\"}},\"events\":[\"brush\"],\"height\":322,\"margin\":[5,5,30,5],\"subscribed_events\":[\"vega_event\"],\"throttle\":{\"brush\":5},\"width\":422},\"id\":\"9190\",\"type\":\"panel.models.vega.VegaPlot\"},{\"attributes\":{\"children\":[{\"id\":\"9192\"}],\"margin\":[0,0,0,0],\"name\":\"Row09202\"},\"id\":\"9191\",\"type\":\"Row\"},{\"attributes\":{},\"id\":\"9194\",\"type\":\"Selection\"},{\"attributes\":{\"client_comm_id\":\"14232ed9a92441dfae9da0126df61588\",\"comm_id\":\"77b4ddb6a1fb41648a36977deb3a0821\",\"plot_id\":\"9188\"},\"id\":\"9199\",\"type\":\"panel.models.comm_manager.CommManager\"},{\"attributes\":{\"css_classes\":[\"markdown\"],\"margin\":[5,5,5,5],\"name\":\"ParamFunction09198\",\"text\":\"&lt;h2&gt;No selection&lt;/h2&gt;\"},\"id\":\"9192\",\"type\":\"panel.models.markup.HTML\"},{\"attributes\":{\"data\":{\"Beak Depth (mm)\":{\"__ndarray__\":\"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\",\"dtype\":\"float64\",\"order\":\"little\",\"shape\":[344]},\"Beak Length (mm)\":{\"__ndarray__\":\"zczMzMyMQ0AAAAAAAMBDQGZmZmZmJkRAAAAAAAAA+H+amZmZmVlCQGZmZmZmpkNAMzMzMzNzQ0CamZmZmZlDQM3MzMzMDEFAAAAAAAAARUBmZmZmZuZCQGZmZmZm5kJAzczMzMyMREDNzMzMzExDQM3MzMzMTEFAzczMzMxMQkCamZmZmVlDQAAAAAAAQEVAMzMzMzMzQUAAAAAAAABHQGZmZmZm5kJAmpmZmZnZQkAzMzMzM/NBQJqZmZmZGUNAZmZmZmZmQ0BmZmZmZqZBQM3MzMzMTERAAAAAAABAREAzMzMzM/NCQAAAAAAAQERAAAAAAADAQ0CamZmZmZlCQAAAAAAAwENAMzMzMzNzREAzMzMzMzNCQJqZmZmZmUNAZmZmZmZmQ0CamZmZmRlFQM3MzMzMzEJAZmZmZmbmQ0AAAAAAAEBCQGZmZmZmZkRAAAAAAAAAQkDNzMzMzAxGQAAAAAAAgEJAzczMzMzMQ0DNzMzMzIxEQAAAAAAAwEJAAAAAAAAAQkBmZmZmZiZFQM3MzMzMzENAzczMzMwMREAAAAAAAIBBQAAAAAAAAEVAAAAAAABAQUAzMzMzM7NEQAAAAAAAgENAzczMzMxMREAAAAAAAEBCQM3MzMzMzEJAmpmZmZnZQUBmZmZmZqZEQM3MzMzMzEJAzczMzMyMREAzMzMzMzNCQM3MzMzMzERAAAAAAADAQUDNzMzMzIxEQDMzMzMz80FAZmZmZmbmREAAAAAAAMBAQJqZmZmZ2UNAzczMzMzMQ0BmZmZmZuZGQAAAAAAAwEFAZmZmZmZmRUAzMzMzM3NEQJqZmZmZmUJAmpmZmZkZQkDNzMzMzAxFQM3MzMzMTEFAMzMzMzNzRUCamZmZmVlCQM3MzMzMjEFAZmZmZmamQkBmZmZmZqZEQGZmZmZmJkJAMzMzMzNzQkBmZmZmZiZDQDMzMzMzc0NAmpmZmZnZQUDNzMzMzIxEQAAAAAAAAEFAzczMzMzMQ0CamZmZmRlCQGZmZmZmZkRAzczMzMwMQ0BmZmZmZiZEQM3MzMzMjEBAmpmZmZmZRUAAAAAAAIBBQAAAAAAAgERAmpmZmZnZQkBmZmZmZuZCQDMzMzMz80JAmpmZmZnZQ0DNzMzMzExDQJqZmZmZGUNAzczMzMwMQ0CamZmZmZlFQM3MzMzMDENAzczMzMzMRkCamZmZmdlDQJqZmZmZGUVAzczMzMzMQ0CamZmZmVlFQM3MzMzMTENAZmZmZmamQkCamZmZmdlBQM3MzMzMjERAmpmZmZkZQkCamZmZmdlCQJqZmZmZGURAMzMzMzOzRECamZmZmZlBQM3MzMzMTERAZmZmZmZmQ0AAAAAAAMBEQAAAAAAAgENAzczMzMwMRkAAAAAAAEBDQM3MzMzMjEVAZmZmZmZmQkAAAAAAAMBCQM3MzMzMDENAzczMzMyMREDNzMzMzMxBQJqZmZmZGURAAAAAAACAQkCamZmZmdlDQJqZmZmZGURAzczMzMxMREDNzMzMzAxAQJqZmZmZWURAZmZmZmamQkAAAAAAAIBDQJqZmZmZmUNAzczMzMxMQkAAAAAAAABCQGZmZmZm5kJAAAAAAAAAQkAAAAAAAMBEQAAAAAAAQEdAAAAAAAAASUBmZmZmZqZJQDMzMzMzs0ZAmpmZmZlZSkCamZmZmZlGQM3MzMzMDEdAZmZmZmamSUAAAAAAAABHQGZmZmZmpklAzczMzMxMR0CamZmZmdlJQAAAAAAAgEdAAAAAAAAASkAzMzMzM/NGQAAAAAAAQElAZmZmZmYmSUAAAAAAAABNQDMzMzMzM0dAmpmZmZmZSEAzMzMzMzNFQAAAAAAAQEhAmpmZmZmZRUDNzMzMzExJQJqZmZmZWUdAAAAAAAAASkAAAAAAAEBJQAAAAAAAwEhAMzMzMzMzR0BmZmZmZmZKQDMzMzMzc0RAmpmZmZkZS0AAAAAAAEBFQAAAAAAAgElAmpmZmZnZSEAAAAAAAMBHQM3MzMzMzEdAAAAAAAAASkAzMzMzM3NHQAAAAAAAwEpAAAAAAACASECamZmZmRlHQDMzMzMzc0lAAAAAAADARkAzMzMzM3NJQGZmZmZmZklAzczMzMwMSUAAAAAAAIBIQAAAAAAAwElAZmZmZmbmSEDNzMzMzAxIQDMzMzMzs0lAmpmZmZnZRkCamZmZmVlJQAAAAAAAQEVAmpmZmZkZSkCamZmZmZlGQGZmZmZmpkhAmpmZmZkZSUDNzMzMzMxGQDMzMzMz80lAZmZmZmZmR0CamZmZmdlGQGZmZmZm5ktAAAAAAADARUDNzMzMzMxIQGZmZmZmZklAmpmZmZkZSUDNzMzMzAxHQAAAAAAAAElAmpmZmZlZSEAAAAAAAABJQM3MzMzMzEdAAAAAAABAR0AzMzMzM7NGQJqZmZmZWUdAZmZmZmamRUBmZmZmZmZHQDMzMzMzc0RAAAAAAACASEAAAAAAAMBGQDMzMzMzM0hAZmZmZmbmRkBmZmZmZqZIQAAAAAAAAEVAmpmZmZmZSECamZmZmRlHQJqZmZmZWUhAmpmZmZkZSUDNzMzMzIxGQAAAAAAAQEdAZmZmZmYmR0AzMzMzM3NFQM3MzMzMDEdAAAAAAABARkBmZmZmZuZHQJqZmZmZGUhAAAAAAAAASUBmZmZmZqZHQGZmZmZmZkVAzczMzMyMRkDNzMzMzMxNQM3MzMzMjEhAMzMzMzMzSEDNzMzMzExFQDMzMzMzM0ZAAAAAAAAARkCamZmZmVlIQJqZmZmZWUVAzczMzMzMSEBmZmZmZqZGQM3MzMzMzEhAAAAAAABASUDNzMzMzMxFQAAAAAAAwEZAAAAAAABASUAzMzMzM3NGQJqZmZmZmUZAzczMzMxMR0AAAAAAAEBIQM3MzMzMjEZAzczMzMwMSUAAAAAAAEBHQAAAAAAAgEZAZmZmZmbmRUAAAAAAAMBGQJqZmZmZmUVAMzMzMzMzSUBmZmZmZqZGQJqZmZmZGUdAmpmZmZnZRkBmZmZmZiZLQGZmZmZm5kZAZmZmZmbmSECamZmZmRlHQAAAAAAAwEhAAAAAAADARUCamZmZmVlJQJqZmZmZ2UdAMzMzMzMzR0CamZmZmRlIQAAAAAAAQEdAMzMzMzMzR0DNzMzMzExIQAAAAAAAwEdAzczMzMyMSUCamZmZmZlGQJqZmZmZmUZAzczMzMyMSEAAAAAAAEBKQDMzMzMzs0dAAAAAAAAASUAzMzMzM3NGQGZmZmZmZklAMzMzMzOzRUBmZmZmZqZJQAAAAAAAwEdAzczMzMwMSkAAAAAAAMBHQJqZmZmZGUpAAAAAAADARkAAAAAAAMBIQAAAAAAAQEZAZmZmZmZmSUAzMzMzM7NIQDMzMzMzc0dAMzMzMzMzSEDNzMzMzIxJQAAAAAAAQEhAMzMzMzPzS0CamZmZmZlHQM3MzMzMjEhAZmZmZmamR0BmZmZmZmZHQJqZmZmZ2URAMzMzMzOzSkBmZmZmZqZFQM3MzMzMDEhAAAAAAABASUBmZmZmZuZIQAAAAAAAwEVAAAAAAADASUCamZmZmRlHQM3MzMzMjEtAAAAAAABARkBmZmZmZmZIQJqZmZmZmUdAAAAAAAAA+H9mZmZmZmZHQDMzMzMzM0lAmpmZmZmZRkAzMzMzM/NIQA==\",\"dtype\":\"float64\",\"order\":\"little\",\"shape\":[344]},\"Body Mass (g)\":{\"__ndarray__\":\"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\",\"dtype\":\"float64\",\"order\":\"little\",\"shape\":[344]},\"Flipper Length (mm)\":{\"__ndarray__\":\"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\",\"dtype\":\"float64\",\"order\":\"little\",\"shape\":[344]},\"Island\":[\"Torgersen\",\"Torgersen\",\"Torgersen\",\"Torgersen\",\"Torgersen\",\"Torgersen\",\"Torgersen\",\"Torgersen\",\"Torgersen\",\"Torgersen\",\"Torgersen\",\"Torgersen\",\"Torgersen\",\"Torgersen\",\"Torgersen\",\"Torgersen\",\"Torgersen\",\"Torgersen\",\"Torgersen\",\"Torgersen\",\"Biscoe\",\"Biscoe\",\"Biscoe\",\"Biscoe\",\"Biscoe\",\"Biscoe\",\"Biscoe\",\"Biscoe\",\"Biscoe\",\"Biscoe\",\"Dream\",\"Dream\",\"Dream\",\"Dream\",\"Dream\",\"Dream\",\"Dream\",\"Dream\",\"Dream\",\"Dream\",\"Dream\",\"Dream\",\"Dream\",\"Dream\",\"Dream\",\"Dream\",\"Dream\",\"Dream\",\"Dream\",\"Dream\",\"Biscoe\",\"Biscoe\",\"Biscoe\",\"Biscoe\",\"Biscoe\",\"Biscoe\",\"Biscoe\",\"Biscoe\",\"Biscoe\",\"Biscoe\",\"Biscoe\",\"Biscoe\",\"Biscoe\",\"Biscoe\",\"Biscoe\",\"Biscoe\",\"Biscoe\",\"Biscoe\",\"Torgersen\",\"Torgersen\",\"Torgersen\",\"Torgersen\",\"Torgersen\",\"Torgersen\",\"Torgersen\",\"Torgersen\",\"Torgersen\",\"Torgersen\",\"Torgersen\",\"Torgersen\",\"Torgersen\",\"Torgersen\",\"Torgersen\",\"Torgersen\",\"Dream\",\"Dream\",\"Dream\",\"Dream\",\"Dream\",\"Dream\",\"Dream\",\"Dream\",\"Dream\",\"Dream\",\"Dream\",\"Dream\",\"Dream\",\"Dream\",\"Dream\",\"Dream\",\"Biscoe\",\"Biscoe\",\"Biscoe\",\"Biscoe\",\"Biscoe\",\"Biscoe\",\"Biscoe\",\"Biscoe\",\"Biscoe\",\"Biscoe\",\"Biscoe\",\"Biscoe\",\"Biscoe\",\"Biscoe\",\"Biscoe\",\"Biscoe\",\"Torgersen\",\"Torgersen\",\"Torgersen\",\"Torgersen\",\"Torgersen\",\"Torgersen\",\"Torgersen\",\"Torgersen\",\"Torgersen\",\"Torgersen\",\"Torgersen\",\"Torgersen\",\"Torgersen\",\"Torgersen\",\"Torgersen\",\"Torgersen\",\"Dream\",\"Dream\",\"Dream\",\"Dream\",\"Dream\",\"Dream\",\"Dream\",\"Dream\",\"Dream\",\"Dream\",\"Dream\",\"Dream\",\"Dream\",\"Dream\",\"Dream\",\"Dream\",\"Dream\",\"Dream\",\"Dream\",\"Dream\",\"Dream\",\"Dream\",\"Dream\",\"Dream\",\"Dream\",\"Dream\",\"Dream\",\"Dream\",\"Dream\",\"Dream\",\"Dream\",\"Dream\",\"Dream\",\"Dream\",\"Dream\",\"Dream\",\"Dream\",\"Dream\",\"Dream\",\"Dream\",\"Dream\",\"Dream\",\"Dream\",\"Dream\",\"Dream\",\"Dream\",\"Dream\",\"Dream\",\"Dream\",\"Dream\",\"Dream\",\"Dream\",\"Dream\",\"Dream\",\"Dream\",\"Dream\",\"Dream\",\"Dream\",\"Dream\",\"Dream\",\"Dream\",\"Dream\",\"Dream\",\"Dream\",\"Dream\",\"Dream\",\"Dream\",\"Dream\",\"Dream\",\"Dream\",\"Dream\",\"Dream\",\"Dream\",\"Dream\",\"Dream\",\"Dream\",\"Dream\",\"Dream\",\"Dream\",\"Dream\",\"Dream\",\"Dream\",\"Dream\",\"Dream\",\"Dream\",\"Dream\",\"Dream\",\"Dream\",\"Biscoe\",\"Biscoe\",\"Biscoe\",\"Biscoe\",\"Biscoe\",\"Biscoe\",\"Biscoe\",\"Biscoe\",\"Biscoe\",\"Biscoe\",\"Biscoe\",\"Biscoe\",\"Biscoe\",\"Biscoe\",\"Biscoe\",\"Biscoe\",\"Biscoe\",\"Biscoe\",\"Biscoe\",\"Biscoe\",\"Biscoe\",\"Biscoe\",\"Biscoe\",\"Biscoe\",\"Biscoe\",\"Biscoe\",\"Biscoe\",\"Biscoe\",\"Biscoe\",\"Biscoe\",\"Biscoe\",\"Biscoe\",\"Biscoe\",\"Biscoe\",\"Biscoe\",\"Biscoe\",\"Biscoe\",\"Biscoe\",\"Biscoe\",\"Biscoe\",\"Biscoe\",\"Biscoe\",\"Biscoe\",\"Biscoe\",\"Biscoe\",\"Biscoe\",\"Biscoe\",\"Biscoe\",\"Biscoe\",\"Biscoe\",\"Biscoe\",\"Biscoe\",\"Biscoe\",\"Biscoe\",\"Biscoe\",\"Biscoe\",\"Biscoe\",\"Biscoe\",\"Biscoe\",\"Biscoe\",\"Biscoe\",\"Biscoe\",\"Biscoe\",\"Biscoe\",\"Biscoe\",\"Biscoe\",\"Biscoe\",\"Biscoe\",\"Biscoe\",\"Biscoe\",\"Biscoe\",\"Biscoe\",\"Biscoe\",\"Biscoe\",\"Biscoe\",\"Biscoe\",\"Biscoe\",\"Biscoe\",\"Biscoe\",\"Biscoe\",\"Biscoe\",\"Biscoe\",\"Biscoe\",\"Biscoe\",\"Biscoe\",\"Biscoe\",\"Biscoe\",\"Biscoe\",\"Biscoe\",\"Biscoe\",\"Biscoe\",\"Biscoe\",\"Biscoe\",\"Biscoe\",\"Biscoe\",\"Biscoe\",\"Biscoe\",\"Biscoe\",\"Biscoe\",\"Biscoe\",\"Biscoe\",\"Biscoe\",\"Biscoe\",\"Biscoe\",\"Biscoe\",\"Biscoe\",\"Biscoe\",\"Biscoe\",\"Biscoe\",\"Biscoe\",\"Biscoe\",\"Biscoe\",\"Biscoe\",\"Biscoe\",\"Biscoe\",\"Biscoe\",\"Biscoe\",\"Biscoe\",\"Biscoe\",\"Biscoe\",\"Biscoe\",\"Biscoe\",\"Biscoe\",\"Biscoe\"],\"Sex\":[\"MALE\",\"FEMALE\",\"FEMALE\",\"NaN\",\"FEMALE\",\"MALE\",\"FEMALE\",\"MALE\",\"NaN\",\"NaN\",\"NaN\",\"NaN\",\"FEMALE\",\"MALE\",\"MALE\",\"FEMALE\",\"FEMALE\",\"MALE\",\"FEMALE\",\"MALE\",\"FEMALE\",\"MALE\",\"FEMALE\",\"MALE\",\"MALE\",\"FEMALE\",\"MALE\",\"FEMALE\",\"FEMALE\",\"MALE\",\"FEMALE\",\"MALE\",\"FEMALE\",\"MALE\",\"FEMALE\",\"MALE\",\"MALE\",\"FEMALE\",\"FEMALE\",\"MALE\",\"FEMALE\",\"MALE\",\"FEMALE\",\"MALE\",\"FEMALE\",\"MALE\",\"MALE\",\"NaN\",\"FEMALE\",\"MALE\",\"FEMALE\",\"MALE\",\"FEMALE\",\"MALE\",\"FEMALE\",\"MALE\",\"FEMALE\",\"MALE\",\"FEMALE\",\"MALE\",\"FEMALE\",\"MALE\",\"FEMALE\",\"MALE\",\"FEMALE\",\"MALE\",\"FEMALE\",\"MALE\",\"FEMALE\",\"MALE\",\"FEMALE\",\"MALE\",\"FEMALE\",\"MALE\",\"FEMALE\",\"MALE\",\"FEMALE\",\"MALE\",\"FEMALE\",\"MALE\",\"FEMALE\",\"MALE\",\"FEMALE\",\"MALE\",\"FEMALE\",\"MALE\",\"MALE\",\"FEMALE\",\"MALE\",\"FEMALE\",\"FEMALE\",\"MALE\",\"FEMALE\",\"MALE\",\"FEMALE\",\"MALE\",\"FEMALE\",\"MALE\",\"FEMALE\",\"MALE\",\"FEMALE\",\"MALE\",\"FEMALE\",\"MALE\",\"FEMALE\",\"MALE\",\"FEMALE\",\"MALE\",\"FEMALE\",\"MALE\",\"FEMALE\",\"MALE\",\"FEMALE\",\"MALE\",\"FEMALE\",\"MALE\",\"FEMALE\",\"MALE\",\"FEMALE\",\"MALE\",\"FEMALE\",\"MALE\",\"FEMALE\",\"MALE\",\"FEMALE\",\"MALE\",\"FEMALE\",\"MALE\",\"FEMALE\",\"MALE\",\"FEMALE\",\"MALE\",\"FEMALE\",\"MALE\",\"FEMALE\",\"MALE\",\"FEMALE\",\"MALE\",\"FEMALE\",\"MALE\",\"FEMALE\",\"MALE\",\"FEMALE\",\"MALE\",\"FEMALE\",\"MALE\",\"MALE\",\"FEMALE\",\"FEMALE\",\"MALE\",\"FEMALE\",\"MALE\",\"FEMALE\",\"MALE\",\"MALE\",\"FEMALE\",\"MALE\",\"FEMALE\",\"FEMALE\",\"MALE\",\"FEMALE\",\"MALE\",\"FEMALE\",\"MALE\",\"FEMALE\",\"MALE\",\"FEMALE\",\"MALE\",\"MALE\",\"FEMALE\",\"FEMALE\",\"MALE\",\"FEMALE\",\"MALE\",\"FEMALE\",\"MALE\",\"FEMALE\",\"MALE\",\"FEMALE\",\"MALE\",\"FEMALE\",\"MALE\",\"FEMALE\",\"MALE\",\"FEMALE\",\"MALE\",\"MALE\",\"FEMALE\",\"FEMALE\",\"MALE\",\"FEMALE\",\"MALE\",\"MALE\",\"FEMALE\",\"MALE\",\"FEMALE\",\"FEMALE\",\"MALE\",\"FEMALE\",\"MALE\",\"MALE\",\"FEMALE\",\"FEMALE\",\"MALE\",\"FEMALE\",\"MALE\",\"FEMALE\",\"MALE\",\"FEMALE\",\"MALE\",\"MALE\",\"FEMALE\",\"MALE\",\"FEMALE\",\"FEMALE\",\"MALE\",\"FEMALE\",\"MALE\",\"MALE\",\"FEMALE\",\"FEMALE\",\"MALE\",\"FEMALE\",\"MALE\",\"MALE\",\"FEMALE\",\"FEMALE\",\"MALE\",\"FEMALE\",\"MALE\",\"FEMALE\",\"MALE\",\"FEMALE\",\"MALE\",\"FEMALE\",\"MALE\",\"FEMALE\",\"MALE\",\"FEMALE\",\"MALE\",\"MALE\",\"FEMALE\",\"FEMALE\",\"MALE\",\"FEMALE\",\"MALE\",\"NaN\",\"MALE\",\"FEMALE\",\"MALE\",\"MALE\",\"FEMALE\",\"FEMALE\",\"MALE\",\"FEMALE\",\"MALE\",\"FEMALE\",\"MALE\",\"FEMALE\",\"MALE\",\"FEMALE\",\"MALE\",\"FEMALE\",\"MALE\",\"MALE\",\"FEMALE\",\"FEMALE\",\"MALE\",\"FEMALE\",\"MALE\",\"FEMALE\",\"MALE\",\"FEMALE\",\"MALE\",\"FEMALE\",\"MALE\",\"FEMALE\",\"MALE\",\"FEMALE\",\"MALE\",\"FEMALE\",\"MALE\",\"FEMALE\",\"MALE\",\"FEMALE\",\"MALE\",\"NaN\",\"MALE\",\"FEMALE\",\"MALE\",\"FEMALE\",\"MALE\",\"MALE\",\"FEMALE\",\"FEMALE\",\"MALE\",\"FEMALE\",\"MALE\",\"FEMALE\",\"MALE\",\"FEMALE\",\"MALE\",\"FEMALE\",\"MALE\",\"FEMALE\",\"MALE\",\"FEMALE\",\"MALE\",\"FEMALE\",\"MALE\",\"FEMALE\",\"MALE\",\"FEMALE\",\"MALE\",\"FEMALE\",\"MALE\",\"MALE\",\"FEMALE\",\"FEMALE\",\"MALE\",\"FEMALE\",\"MALE\",\"FEMALE\",\"MALE\",\"NaN\",\"MALE\",\"FEMALE\",\"MALE\",\"FEMALE\",\"MALE\",\"FEMALE\",\"MALE\",\"FEMALE\",\"MALE\",\"FEMALE\",\"MALE\",\".\",\"MALE\",\"FEMALE\",\"NaN\",\"FEMALE\",\"MALE\",\"FEMALE\",\"MALE\"],\"Species\":[\"Adelie\",\"Adelie\",\"Adelie\",\"Adelie\",\"Adelie\",\"Adelie\",\"Adelie\",\"Adelie\",\"Adelie\",\"Adelie\",\"Adelie\",\"Adelie\",\"Adelie\",\"Adelie\",\"Adelie\",\"Adelie\",\"Adelie\",\"Adelie\",\"Adelie\",\"Adelie\",\"Adelie\",\"Adelie\",\"Adelie\",\"Adelie\",\"Adelie\",\"Adelie\",\"Adelie\",\"Adelie\",\"Adelie\",\"Adelie\",\"Adelie\",\"Adelie\",\"Adelie\",\"Adelie\",\"Adelie\",\"Adelie\",\"Adelie\",\"Adelie\",\"Adelie\",\"Adelie\",\"Adelie\",\"Adelie\",\"Adelie\",\"Adelie\",\"Adelie\",\"Adelie\",\"Adelie\",\"Adelie\",\"Adelie\",\"Adelie\",\"Adelie\",\"Adelie\",\"Adelie\",\"Adelie\",\"Adelie\",\"Adelie\",\"Adelie\",\"Adelie\",\"Adelie\",\"Adelie\",\"Adelie\",\"Adelie\",\"Adelie\",\"Adelie\",\"Adelie\",\"Adelie\",\"Adelie\",\"Adelie\",\"Adelie\",\"Adelie\",\"Adelie\",\"Adelie\",\"Adelie\",\"Adelie\",\"Adelie\",\"Adelie\",\"Adelie\",\"Adelie\",\"Adelie\",\"Adelie\",\"Adelie\",\"Adelie\",\"Adelie\",\"Adelie\",\"Adelie\",\"Adelie\",\"Adelie\",\"Adelie\",\"Adelie\",\"Adelie\",\"Adelie\",\"Adelie\",\"Adelie\",\"Adelie\",\"Adelie\",\"Adelie\",\"Adelie\",\"Adelie\",\"Adelie\",\"Adelie\",\"Adelie\",\"Adelie\",\"Adelie\",\"Adelie\",\"Adelie\",\"Adelie\",\"Adelie\",\"Adelie\",\"Adelie\",\"Adelie\",\"Adelie\",\"Adelie\",\"Adelie\",\"Adelie\",\"Adelie\",\"Adelie\",\"Adelie\",\"Adelie\",\"Adelie\",\"Adelie\",\"Adelie\",\"Adelie\",\"Adelie\",\"Adelie\",\"Adelie\",\"Adelie\",\"Adelie\",\"Adelie\",\"Adelie\",\"Adelie\",\"Adelie\",\"Adelie\",\"Adelie\",\"Adelie\",\"Adelie\",\"Adelie\",\"Adelie\",\"Adelie\",\"Adelie\",\"Adelie\",\"Adelie\",\"Adelie\",\"Adelie\",\"Adelie\",\"Adelie\",\"Adelie\",\"Adelie\",\"Adelie\",\"Adelie\",\"Adelie\",\"Adelie\",\"Adelie\",\"Chinstrap\",\"Chinstrap\",\"Chinstrap\",\"Chinstrap\",\"Chinstrap\",\"Chinstrap\",\"Chinstrap\",\"Chinstrap\",\"Chinstrap\",\"Chinstrap\",\"Chinstrap\",\"Chinstrap\",\"Chinstrap\",\"Chinstrap\",\"Chinstrap\",\"Chinstrap\",\"Chinstrap\",\"Chinstrap\",\"Chinstrap\",\"Chinstrap\",\"Chinstrap\",\"Chinstrap\",\"Chinstrap\",\"Chinstrap\",\"Chinstrap\",\"Chinstrap\",\"Chinstrap\",\"Chinstrap\",\"Chinstrap\",\"Chinstrap\",\"Chinstrap\",\"Chinstrap\",\"Chinstrap\",\"Chinstrap\",\"Chinstrap\",\"Chinstrap\",\"Chinstrap\",\"Chinstrap\",\"Chinstrap\",\"Chinstrap\",\"Chinstrap\",\"Chinstrap\",\"Chinstrap\",\"Chinstrap\",\"Chinstrap\",\"Chinstrap\",\"Chinstrap\",\"Chinstrap\",\"Chinstrap\",\"Chinstrap\",\"Chinstrap\",\"Chinstrap\",\"Chinstrap\",\"Chinstrap\",\"Chinstrap\",\"Chinstrap\",\"Chinstrap\",\"Chinstrap\",\"Chinstrap\",\"Chinstrap\",\"Chinstrap\",\"Chinstrap\",\"Chinstrap\",\"Chinstrap\",\"Chinstrap\",\"Chinstrap\",\"Chinstrap\",\"Chinstrap\",\"Gentoo\",\"Gentoo\",\"Gentoo\",\"Gentoo\",\"Gentoo\",\"Gentoo\",\"Gentoo\",\"Gentoo\",\"Gentoo\",\"Gentoo\",\"Gentoo\",\"Gentoo\",\"Gentoo\",\"Gentoo\",\"Gentoo\",\"Gentoo\",\"Gentoo\",\"Gentoo\",\"Gentoo\",\"Gentoo\",\"Gentoo\",\"Gentoo\",\"Gentoo\",\"Gentoo\",\"Gentoo\",\"Gentoo\",\"Gentoo\",\"Gentoo\",\"Gentoo\",\"Gentoo\",\"Gentoo\",\"Gentoo\",\"Gentoo\",\"Gentoo\",\"Gentoo\",\"Gentoo\",\"Gentoo\",\"Gentoo\",\"Gentoo\",\"Gentoo\",\"Gentoo\",\"Gentoo\",\"Gentoo\",\"Gentoo\",\"Gentoo\",\"Gentoo\",\"Gentoo\",\"Gentoo\",\"Gentoo\",\"Gentoo\",\"Gentoo\",\"Gentoo\",\"Gentoo\",\"Gentoo\",\"Gentoo\",\"Gentoo\",\"Gentoo\",\"Gentoo\",\"Gentoo\",\"Gentoo\",\"Gentoo\",\"Gentoo\",\"Gentoo\",\"Gentoo\",\"Gentoo\",\"Gentoo\",\"Gentoo\",\"Gentoo\",\"Gentoo\",\"Gentoo\",\"Gentoo\",\"Gentoo\",\"Gentoo\",\"Gentoo\",\"Gentoo\",\"Gentoo\",\"Gentoo\",\"Gentoo\",\"Gentoo\",\"Gentoo\",\"Gentoo\",\"Gentoo\",\"Gentoo\",\"Gentoo\",\"Gentoo\",\"Gentoo\",\"Gentoo\",\"Gentoo\",\"Gentoo\",\"Gentoo\",\"Gentoo\",\"Gentoo\",\"Gentoo\",\"Gentoo\",\"Gentoo\",\"Gentoo\",\"Gentoo\",\"Gentoo\",\"Gentoo\",\"Gentoo\",\"Gentoo\",\"Gentoo\",\"Gentoo\",\"Gentoo\",\"Gentoo\",\"Gentoo\",\"Gentoo\",\"Gentoo\",\"Gentoo\",\"Gentoo\",\"Gentoo\",\"Gentoo\",\"Gentoo\",\"Gentoo\",\"Gentoo\",\"Gentoo\",\"Gentoo\",\"Gentoo\",\"Gentoo\",\"Gentoo\",\"Gentoo\",\"Gentoo\",\"Gentoo\",\"Gentoo\"],\"index\":[0,1,2,3,4,5,6,7,8,9,10,11,12,13,14,15,16,17,18,19,20,21,22,23,24,25,26,27,28,29,30,31,32,33,34,35,36,37,38,39,40,41,42,43,44,45,46,47,48,49,50,51,52,53,54,55,56,57,58,59,60,61,62,63,64,65,66,67,68,69,70,71,72,73,74,75,76,77,78,79,80,81,82,83,84,85,86,87,88,89,90,91,92,93,94,95,96,97,98,99,100,101,102,103,104,105,106,107,108,109,110,111,112,113,114,115,116,117,118,119,120,121,122,123,124,125,126,127,128,129,130,131,132,133,134,135,136,137,138,139,140,141,142,143,144,145,146,147,148,149,150,151,152,153,154,155,156,157,158,159,160,161,162,163,164,165,166,167,168,169,170,171,172,173,174,175,176,177,178,179,180,181,182,183,184,185,186,187,188,189,190,191,192,193,194,195,196,197,198,199,200,201,202,203,204,205,206,207,208,209,210,211,212,213,214,215,216,217,218,219,220,221,222,223,224,225,226,227,228,229,230,231,232,233,234,235,236,237,238,239,240,241,242,243,244,245,246,247,248,249,250,251,252,253,254,255,256,257,258,259,260,261,262,263,264,265,266,267,268,269,270,271,272,273,274,275,276,277,278,279,280,281,282,283,284,285,286,287,288,289,290,291,292,293,294,295,296,297,298,299,300,301,302,303,304,305,306,307,308,309,310,311,312,313,314,315,316,317,318,319,320,321,322,323,324,325,326,327,328,329,330,331,332,333,334,335,336,337,338,339,340,341,342,343]},\"selected\":{\"id\":\"9194\"},\"selection_policy\":{\"id\":\"9193\"}},\"id\":\"9189\",\"type\":\"ColumnDataSource\"},{\"attributes\":{\"children\":[{\"id\":\"9190\"},{\"id\":\"9191\"}],\"margin\":[0,0,0,0],\"name\":\"Row09205\"},\"id\":\"9188\",\"type\":\"Row\"}],\"root_ids\":[\"9188\",\"9199\"]},\"title\":\"Bokeh Application\",\"version\":\"2.4.3\"}};\n",
       "    var render_items = [{\"docid\":\"892df980-531d-4deb-9158-a76d18a26fd2\",\"root_ids\":[\"9188\"],\"roots\":{\"9188\":\"93b72924-9b46-4867-866c-ea358accf5b3\"}}];\n",
       "    root.Bokeh.embed.embed_items_notebook(docs_json, render_items);\n",
       "    for (const render_item of render_items) {\n",
       "      for (const root_id of render_item.root_ids) {\n",
       "\tconst id_el = document.getElementById(root_id)\n",
       "\tif (id_el.children.length && (id_el.children[0].className === 'bk-root')) {\n",
       "\t  const root_el = id_el.children[0]\n",
       "\t  root_el.id = root_el.id + '-rendered'\n",
       "\t}\n",
       "      }\n",
       "    }\n",
       "  }\n",
       "  if (root.Bokeh !== undefined && root.Bokeh.Panel !== undefined && ( root['vega'] !== undefined) && ( root['Tabulator'] !== undefined)) {\n",
       "    embed_document(root);\n",
       "  } else {\n",
       "    var attempts = 0;\n",
       "    var timer = setInterval(function(root) {\n",
       "      if (root.Bokeh !== undefined && root.Bokeh.Panel !== undefined && (root['vega'] !== undefined) && (root['Tabulator'] !== undefined)) {\n",
       "        clearInterval(timer);\n",
       "        embed_document(root);\n",
       "      } else if (document.readyState == \"complete\") {\n",
       "        attempts++;\n",
       "        if (attempts > 200) {\n",
       "          clearInterval(timer);\n",
       "          console.log(\"Bokeh: ERROR: Unable to run BokehJS code because BokehJS library is missing\");\n",
       "        }\n",
       "      }\n",
       "    }, 25, root)\n",
       "  }\n",
       "})(window);</script>"
      ],
      "text/plain": [
       "Row\n",
       "    [0] Vega(Chart, debounce=5, selection=Selection)\n",
       "    [1] ParamFunction(function, _pane=Markdown)"
      ]
     },
     "execution_count": 180,
     "metadata": {
      "application/vnd.holoviews_exec.v0+json": {
       "id": "9188"
      }
     },
     "output_type": "execute_result"
    }
   ],
   "source": [
    "# using brush for both X being categorical or quantitative\n",
    "\n",
    "import pandas as pd\n",
    "penguins_url = \"https://raw.githubusercontent.com/vega/vega/master/docs/data/penguins.json\"\n",
    "df = pd.read_json(penguins_url)\n",
    "\n",
    "# input_dropdown = alt.binding_select(options=df.Island.unique().tolist(), name='Island ')\n",
    "# island_selection = alt.selection_single(fields=['Island'], bind=input_dropdown)\n",
    "brush = alt.selection_interval(name='brush')  # \n",
    "\n",
    "chart = alt.Chart(df,height=150).mark_circle().encode(\n",
    "    # x=alt.X('Species:N'),\n",
    "    x=alt.X('Beak Depth (mm):Q', scale=alt.Scale(zero=False)),\n",
    "    y=alt.Y('Beak Length (mm):Q', scale=alt.Scale(zero=False)),\n",
    "    color=alt.condition(brush, 'Species:N', alt.value('lightgray'))\n",
    ").add_selection(\n",
    "    brush\n",
    ")\n",
    "\n",
    "def filtered_table(selection):\n",
    "    if not selection:\n",
    "        return '## No selection'\n",
    "    query = ' & '.join(\n",
    "        f'{values[0]} <= `{col}` <= {values[1]}'\n",
    "        if pd.api.types.is_numeric_dtype(df[col])\n",
    "        else f'`{col}` in {values}' \n",
    "        for col, values in selection.items()\n",
    "    )\n",
    "    return pn.Column(\n",
    "        f'Query: {query}', selection.items(),\n",
    "        pn.pane.DataFrame(df.query(query), width=600, height=300)\n",
    "    )\n",
    "\n",
    "vega_pane = pn.pane.Vega(chart, debounce=5)\n",
    "pn.Row(vega_pane, pn.bind(filtered_table, vega_pane.selection.param.brush))"
   ]
  },
  {
   "cell_type": "markdown",
   "metadata": {},
   "source": [
    "#### Filtering temporal data via a selection\n",
    "\n",
    "Selections on temporal columns return the max and min of the selection interval, just as for quantitative data. However, these are returned as a Unix timestamp in milliseconds by default and therefore need to be converted to a pandas timestamp before they can be used in a query string. We can do this using `pd.to_datetime(value, unit=\"ms\")` as in the example below."
   ]
  },
  {
   "cell_type": "code",
   "execution_count": 143,
   "metadata": {
    "tags": []
   },
   "outputs": [
    {
     "data": {},
     "metadata": {},
     "output_type": "display_data"
    },
    {
     "data": {
      "application/vnd.holoviews_exec.v0+json": "",
      "text/html": [
       "<div id='4263'>\n",
       "  <div class=\"bk-root\" id=\"7a0ce2b9-a8ee-49fc-a4bd-e2162dc13941\" data-root-id=\"4263\"></div>\n",
       "</div>\n",
       "<script type=\"application/javascript\">(function(root) {\n",
       "  function embed_document(root) {\n",
       "    var docs_json = {\"6a32f057-f292-4840-ba11-d58eeaedfedc\":{\"defs\":[{\"extends\":null,\"module\":null,\"name\":\"ReactiveHTML1\",\"overrides\":[],\"properties\":[]},{\"extends\":null,\"module\":null,\"name\":\"FlexBox1\",\"overrides\":[],\"properties\":[{\"default\":\"flex-start\",\"kind\":null,\"name\":\"align_content\"},{\"default\":\"flex-start\",\"kind\":null,\"name\":\"align_items\"},{\"default\":\"row\",\"kind\":null,\"name\":\"flex_direction\"},{\"default\":\"wrap\",\"kind\":null,\"name\":\"flex_wrap\"},{\"default\":\"flex-start\",\"kind\":null,\"name\":\"justify_content\"}]},{\"extends\":null,\"module\":null,\"name\":\"GridStack1\",\"overrides\":[],\"properties\":[{\"default\":\"warn\",\"kind\":null,\"name\":\"mode\"},{\"default\":null,\"kind\":null,\"name\":\"ncols\"},{\"default\":null,\"kind\":null,\"name\":\"nrows\"},{\"default\":true,\"kind\":null,\"name\":\"allow_resize\"},{\"default\":true,\"kind\":null,\"name\":\"allow_drag\"},{\"default\":[],\"kind\":null,\"name\":\"state\"}]},{\"extends\":null,\"module\":null,\"name\":\"click1\",\"overrides\":[],\"properties\":[{\"default\":\"\",\"kind\":null,\"name\":\"terminal_output\"},{\"default\":\"\",\"kind\":null,\"name\":\"debug_name\"},{\"default\":0,\"kind\":null,\"name\":\"clears\"}]},{\"extends\":null,\"module\":null,\"name\":\"NotificationAreaBase1\",\"overrides\":[],\"properties\":[{\"default\":\"bottom-right\",\"kind\":null,\"name\":\"position\"},{\"default\":0,\"kind\":null,\"name\":\"_clear\"}]},{\"extends\":null,\"module\":null,\"name\":\"NotificationArea1\",\"overrides\":[],\"properties\":[{\"default\":[],\"kind\":null,\"name\":\"notifications\"},{\"default\":\"bottom-right\",\"kind\":null,\"name\":\"position\"},{\"default\":0,\"kind\":null,\"name\":\"_clear\"},{\"default\":[{\"background\":\"#ffc107\",\"icon\":{\"className\":\"fas fa-exclamation-triangle\",\"color\":\"white\",\"tagName\":\"i\"},\"type\":\"warning\"},{\"background\":\"#007bff\",\"icon\":{\"className\":\"fas fa-info-circle\",\"color\":\"white\",\"tagName\":\"i\"},\"type\":\"info\"}],\"kind\":null,\"name\":\"types\"}]},{\"extends\":null,\"module\":null,\"name\":\"Notification\",\"overrides\":[],\"properties\":[{\"default\":null,\"kind\":null,\"name\":\"background\"},{\"default\":3000,\"kind\":null,\"name\":\"duration\"},{\"default\":null,\"kind\":null,\"name\":\"icon\"},{\"default\":\"\",\"kind\":null,\"name\":\"message\"},{\"default\":null,\"kind\":null,\"name\":\"notification_type\"},{\"default\":false,\"kind\":null,\"name\":\"_destroyed\"}]},{\"extends\":null,\"module\":null,\"name\":\"TemplateActions1\",\"overrides\":[],\"properties\":[{\"default\":0,\"kind\":null,\"name\":\"open_modal\"},{\"default\":0,\"kind\":null,\"name\":\"close_modal\"}]},{\"extends\":null,\"module\":null,\"name\":\"MaterialTemplateActions1\",\"overrides\":[],\"properties\":[{\"default\":0,\"kind\":null,\"name\":\"open_modal\"},{\"default\":0,\"kind\":null,\"name\":\"close_modal\"}]}],\"roots\":{\"references\":[{\"attributes\":{\"css_classes\":[\"markdown\"],\"margin\":[5,5,5,5],\"name\":\"ParamFunction04022\",\"text\":\"&lt;h2&gt;No selection&lt;/h2&gt;\"},\"id\":\"4267\",\"type\":\"panel.models.markup.HTML\"},{\"attributes\":{\"children\":[{\"id\":\"4267\"}],\"margin\":[0,0,0,0],\"name\":\"Row04026\"},\"id\":\"4266\",\"type\":\"Row\"},{\"attributes\":{},\"id\":\"4268\",\"type\":\"UnionRenderers\"},{\"attributes\":{\"children\":[{\"id\":\"4265\"},{\"id\":\"4266\"}],\"margin\":[0,0,0,0],\"name\":\"Row04029\"},\"id\":\"4263\",\"type\":\"Row\"},{\"attributes\":{\"client_comm_id\":\"5a9237abcb5a443884943bb0699f8f6d\",\"comm_id\":\"8b648902e57a4599868620249b10ed8b\",\"plot_id\":\"4263\"},\"id\":\"4274\",\"type\":\"panel.models.comm_manager.CommManager\"},{\"attributes\":{\"data\":{\"$schema\":\"https://vega.github.io/schema/vega-lite/v4.17.0.json\",\"config\":{\"view\":{\"continuousHeight\":300,\"continuousWidth\":400}},\"data\":{\"name\":\"data-9fefbd52c0f5ca9d3bc841b782f4a243\"},\"datasets\":{},\"encoding\":{\"color\":{\"condition\":{\"selection\":\"brush\",\"value\":\"coral\"},\"value\":\"lightgray\"},\"x\":{\"field\":\"date\",\"type\":\"temporal\"},\"y\":{\"field\":\"temp\",\"type\":\"quantitative\"}},\"mark\":\"circle\",\"selection\":{\"brush\":{\"type\":\"interval\"}}},\"data_sources\":{\"data-9fefbd52c0f5ca9d3bc841b782f4a243\":{\"id\":\"4264\"}},\"events\":[\"brush\"],\"height\":322,\"margin\":[5,5,30,5],\"subscribed_events\":[\"vega_event\"],\"throttle\":{\"brush\":10},\"width\":422},\"id\":\"4265\",\"type\":\"panel.models.vega.VegaPlot\"},{\"attributes\":{\"data\":{\"date\":{\"__ndarray__\":\"AACA53JeckIAAGhWdl5yQgAAUMV5XnJCAAA4NH1eckIAACCjgF5yQgAACBKEXnJCAADwgIdeckIAANjvil5yQgAAwF6OXnJCAACozZFeckIAAJA8lV5yQgAAeKuYXnJCAABgGpxeckIAAEiJn15yQgAAMPiiXnJCAAAYZ6ZeckIAAADWqV5yQgAA6EStXnJCAADQs7BeckIAALgitF5yQgAAoJG3XnJCAACIALteckIAAHBvvl5yQgAAWN7BXnJCAABATcVeckIAACi8yF5yQgAAECvMXnJCAAD4mc9eckIAAOAI015yQgAAyHfWXnJCAACw5tleckIAAJhV3V5yQgAAgMTgXnJCAABoM+ReckIAAFCi515yQgAAOBHrXnJCAAAggO5eckIAAAjv8V5yQgAA8F31XnJCAADYzPheckIAAMA7/F5yQgAAqKr/XnJCAACQGQNfckIAAHiIBl9yQgAAYPcJX3JCAABIZg1fckIAADDVEF9yQgAAGEQUX3JCAAAAsxdfckIAAOghG19yQgAA0JAeX3JCAAC4/yFfckIAAKBuJV9yQgAAiN0oX3JCAABwTCxfckIAAFi7L19yQgAAQCozX3JCAAAomTZfckIAABAIOl9yQgAA+HY9X3JCAADg5UBfckIAAMhURF9yQgAAsMNHX3JCAACYMktfckIAAIChTl9yQgAAaBBSX3JCAABQf1VfckIAADjuWF9yQgAAIF1cX3JCAAAIzF9fckIAAPA6Y19yQgAA2KlmX3JCAADAGGpfckIAAKiHbV9yQgAAkPZwX3JCAAB4ZXRfckIAAGDUd19yQgAASEN7X3JCAAAwsn5fckIAABghgl9yQgAAAJCFX3JCAADo/ohfckIAANBtjF9yQgAAuNyPX3JCAACgS5NfckIAAIi6ll9yQgAAcCmaX3JCAABYmJ1fckIAAEAHoV9yQgAAKHakX3JCAAAQ5adfckIAAPhTq19yQgAA4MKuX3JCAADIMbJfckIAALCgtV9yQgAAmA+5X3JCAACAfrxfckIAAGjtv19yQgAAUFzDX3JCAAA4y8ZfckI=\",\"dtype\":\"float64\",\"order\":\"little\",\"shape\":[100]},\"index\":[0,1,2,3,4,5,6,7,8,9,10,11,12,13,14,15,16,17,18,19,20,21,22,23,24,25,26,27,28,29,30,31,32,33,34,35,36,37,38,39,40,41,42,43,44,45,46,47,48,49,50,51,52,53,54,55,56,57,58,59,60,61,62,63,64,65,66,67,68,69,70,71,72,73,74,75,76,77,78,79,80,81,82,83,84,85,86,87,88,89,90,91,92,93,94,95,96,97,98,99],\"temp\":{\"__ndarray__\":\"MzMzMzOzQ0CamZmZmZlDQAAAAAAAgENAMzMzMzNzQ0BmZmZmZmZDQJqZmZmZWUNAmpmZmZlZQ0DNzMzMzExDQJqZmZmZWUNAmpmZmZmZQ0DNzMzMzAxEQGZmZmZmpkRAAAAAAABARUCamZmZmZlFQAAAAAAAwEVAZmZmZmamRUCamZmZmVlFQJqZmZmZ2URAmpmZmZmZREAzMzMzM3NEQJqZmZmZWURAMzMzMzMzRECamZmZmRlEQDMzMzMz80NAzczMzMzMQ0AzMzMzM7NDQGZmZmZmpkNAzczMzMyMQ0AAAAAAAIBDQDMzMzMzc0NAAAAAAACAQ0BmZmZmZmZDQDMzMzMzc0NAAAAAAADAQ0AzMzMzMzNEQAAAAAAAwERAmpmZmZlZRUAzMzMzM7NFQGZmZmZm5kVAzczMzMzMRUAzMzMzM3NFQDMzMzMz80RAMzMzMzOzREDNzMzMzIxEQDMzMzMzc0RAzczMzMxMREAzMzMzMzNEQAAAAAAAAERAZmZmZmbmQ0DNzMzMzMxDQAAAAAAAwENAZmZmZmamQ0CamZmZmZlDQM3MzMzMjENAzczMzMyMQ0AAAAAAAIBDQM3MzMzMjENAmpmZmZnZQ0DNzMzMzExEQGZmZmZm5kRAMzMzMzNzRUCamZmZmdlFQAAAAAAAAEZAZmZmZmbmRUCamZmZmZlFQM3MzMzMDEVAzczMzMzMREBmZmZmZqZEQJqZmZmZmURAZmZmZmZmREDNzMzMzExEQGZmZmZmJkRAAAAAAAAAREBmZmZmZuZDQJqZmZmZ2UNAAAAAAADAQ0BmZmZmZqZDQJqZmZmZmUNAZmZmZmamQ0CamZmZmZlDQGZmZmZmpkNAZmZmZmbmQ0BmZmZmZmZEQDMzMzMz80RAAAAAAACARUCamZmZmdlFQJqZmZmZGUZAAAAAAAAARkAzMzMzM7NFQGZmZmZmJkVAZmZmZmbmREAAAAAAAMBEQGZmZmZmpkRAAAAAAACAREBmZmZmZmZEQAAAAAAAQERAmpmZmZkZREAAAAAAAABEQGZmZmZm5kNAzczMzMzMQ0A=\",\"dtype\":\"float64\",\"order\":\"little\",\"shape\":[100]}},\"selected\":{\"id\":\"4269\"},\"selection_policy\":{\"id\":\"4268\"}},\"id\":\"4264\",\"type\":\"ColumnDataSource\"},{\"attributes\":{},\"id\":\"4269\",\"type\":\"Selection\"}],\"root_ids\":[\"4263\",\"4274\"]},\"title\":\"Bokeh Application\",\"version\":\"2.4.3\"}};\n",
       "    var render_items = [{\"docid\":\"6a32f057-f292-4840-ba11-d58eeaedfedc\",\"root_ids\":[\"4263\"],\"roots\":{\"4263\":\"7a0ce2b9-a8ee-49fc-a4bd-e2162dc13941\"}}];\n",
       "    root.Bokeh.embed.embed_items_notebook(docs_json, render_items);\n",
       "    for (const render_item of render_items) {\n",
       "      for (const root_id of render_item.root_ids) {\n",
       "\tconst id_el = document.getElementById(root_id)\n",
       "\tif (id_el.children.length && (id_el.children[0].className === 'bk-root')) {\n",
       "\t  const root_el = id_el.children[0]\n",
       "\t  root_el.id = root_el.id + '-rendered'\n",
       "\t}\n",
       "      }\n",
       "    }\n",
       "  }\n",
       "  if (root.Bokeh !== undefined && root.Bokeh.Panel !== undefined && ( root['vega'] !== undefined)) {\n",
       "    embed_document(root);\n",
       "  } else {\n",
       "    var attempts = 0;\n",
       "    var timer = setInterval(function(root) {\n",
       "      if (root.Bokeh !== undefined && root.Bokeh.Panel !== undefined && (root['vega'] !== undefined)) {\n",
       "        clearInterval(timer);\n",
       "        embed_document(root);\n",
       "      } else if (document.readyState == \"complete\") {\n",
       "        attempts++;\n",
       "        if (attempts > 200) {\n",
       "          clearInterval(timer);\n",
       "          console.log(\"Bokeh: ERROR: Unable to run BokehJS code because BokehJS library is missing\");\n",
       "        }\n",
       "      }\n",
       "    }, 25, root)\n",
       "  }\n",
       "})(window);</script>"
      ],
      "text/plain": [
       "Row\n",
       "    [0] Vega(Chart, debounce=10, selection=Selection)\n",
       "    [1] ParamFunction(function, _pane=Markdown)"
      ]
     },
     "execution_count": 143,
     "metadata": {
      "application/vnd.holoviews_exec.v0+json": {
       "id": "4263"
      }
     },
     "output_type": "execute_result"
    }
   ],
   "source": [
    "from vega_datasets import data\n",
    "\n",
    "\n",
    "df = data.seattle_temps()[:100]\n",
    "\n",
    "brush = alt.selection_interval(name='brush')\n",
    "\n",
    "chart = alt.Chart(df).mark_circle().encode(\n",
    "    x='date:T',\n",
    "    y='temp:Q',\n",
    "    color=alt.condition(brush, alt.value('coral'), alt.value('lightgray'))\n",
    ").add_selection(\n",
    "    brush\n",
    ")\n",
    "\n",
    "def filtered_table(selection):\n",
    "    if not selection:\n",
    "        return '## No selection'\n",
    "    print(selection)\n",
    "    query = ' & '.join(\n",
    "        f'\"{pd.to_datetime(values[0], unit=\"ms\")}\" <= `{col}` <= \"{pd.to_datetime(values[1], unit=\"ms\")}\"'\n",
    "        if pd.api.types.is_datetime64_any_dtype(df[col]) else f'{values[0]} <= `{col}` <= {values[1]}'\n",
    "        for col, values in selection.items()\n",
    "    )\n",
    "    print(query)\n",
    "    return pn.Column(\n",
    "        f'Query: {query}', selection,\n",
    "        pn.pane.DataFrame(df.query(query), width=600, height=300)\n",
    "    )\n",
    "\n",
    "\n",
    "vega_pane = pn.pane.Vega(chart, debounce=10)\n",
    "pn.Row(vega_pane, pn.bind(filtered_table, vega_pane.selection.param.brush))"
   ]
  },
  {
   "cell_type": "code",
   "execution_count": null,
   "metadata": {},
   "outputs": [],
   "source": []
  },
  {
   "cell_type": "markdown",
   "metadata": {},
   "source": [
    "### Controls\n",
    "\n",
    "The `Vega` pane exposes a number of options which can be changed from both Python and Javascript. Try out the effect of these parameters interactively:"
   ]
  },
  {
   "cell_type": "code",
   "execution_count": 144,
   "metadata": {},
   "outputs": [
    {
     "ename": "NameError",
     "evalue": "name 'vgl_responsive_pane' is not defined",
     "output_type": "error",
     "traceback": [
      "\u001b[0;31m---------------------------------------------------------------------------\u001b[0m",
      "\u001b[0;31mNameError\u001b[0m                                 Traceback (most recent call last)",
      "Cell \u001b[0;32mIn[144], line 1\u001b[0m\n\u001b[0;32m----> 1\u001b[0m pn\u001b[38;5;241m.\u001b[39mRow(\u001b[43mvgl_responsive_pane\u001b[49m\u001b[38;5;241m.\u001b[39mcontrols(jslink\u001b[38;5;241m=\u001b[39m\u001b[38;5;28;01mTrue\u001b[39;00m), vgl_responsive_pane, sizing_mode\u001b[38;5;241m=\u001b[39m\u001b[38;5;124m\"\u001b[39m\u001b[38;5;124mstretch_width\u001b[39m\u001b[38;5;124m\"\u001b[39m)\n",
      "\u001b[0;31mNameError\u001b[0m: name 'vgl_responsive_pane' is not defined"
     ]
    }
   ],
   "source": [
    "pn.Row(vgl_responsive_pane.controls(jslink=True), vgl_responsive_pane, sizing_mode=\"stretch_width\")"
   ]
  },
  {
   "cell_type": "code",
   "execution_count": 137,
   "metadata": {
    "tags": []
   },
   "outputs": [
    {
     "data": {
      "text/html": [
       "\n",
       "<div id=\"altair-viz-20d8b8715abc4dd5a4963b2191d7af6d\"></div>\n",
       "<script type=\"text/javascript\">\n",
       "  var VEGA_DEBUG = (typeof VEGA_DEBUG == \"undefined\") ? {} : VEGA_DEBUG;\n",
       "  (function(spec, embedOpt){\n",
       "    let outputDiv = document.currentScript.previousElementSibling;\n",
       "    if (outputDiv.id !== \"altair-viz-20d8b8715abc4dd5a4963b2191d7af6d\") {\n",
       "      outputDiv = document.getElementById(\"altair-viz-20d8b8715abc4dd5a4963b2191d7af6d\");\n",
       "    }\n",
       "    const paths = {\n",
       "      \"vega\": \"https://cdn.jsdelivr.net/npm//vega@5?noext\",\n",
       "      \"vega-lib\": \"https://cdn.jsdelivr.net/npm//vega-lib?noext\",\n",
       "      \"vega-lite\": \"https://cdn.jsdelivr.net/npm//vega-lite@4.17.0?noext\",\n",
       "      \"vega-embed\": \"https://cdn.jsdelivr.net/npm//vega-embed@6?noext\",\n",
       "    };\n",
       "\n",
       "    function maybeLoadScript(lib, version) {\n",
       "      var key = `${lib.replace(\"-\", \"\")}_version`;\n",
       "      return (VEGA_DEBUG[key] == version) ?\n",
       "        Promise.resolve(paths[lib]) :\n",
       "        new Promise(function(resolve, reject) {\n",
       "          var s = document.createElement('script');\n",
       "          document.getElementsByTagName(\"head\")[0].appendChild(s);\n",
       "          s.async = true;\n",
       "          s.onload = () => {\n",
       "            VEGA_DEBUG[key] = version;\n",
       "            return resolve(paths[lib]);\n",
       "          };\n",
       "          s.onerror = () => reject(`Error loading script: ${paths[lib]}`);\n",
       "          s.src = paths[lib];\n",
       "        });\n",
       "    }\n",
       "\n",
       "    function showError(err) {\n",
       "      outputDiv.innerHTML = `<div class=\"error\" style=\"color:red;\">${err}</div>`;\n",
       "      throw err;\n",
       "    }\n",
       "\n",
       "    function displayChart(vegaEmbed) {\n",
       "      vegaEmbed(outputDiv, spec, embedOpt)\n",
       "        .catch(err => showError(`Javascript Error: ${err.message}<br>This usually means there's a typo in your chart specification. See the javascript console for the full traceback.`));\n",
       "    }\n",
       "\n",
       "    if(typeof define === \"function\" && define.amd) {\n",
       "      requirejs.config({paths});\n",
       "      require([\"vega-embed\"], displayChart, err => showError(`Error loading script: ${err.message}`));\n",
       "    } else {\n",
       "      maybeLoadScript(\"vega\", \"5\")\n",
       "        .then(() => maybeLoadScript(\"vega-lite\", \"4.17.0\"))\n",
       "        .then(() => maybeLoadScript(\"vega-embed\", \"6\"))\n",
       "        .catch(showError)\n",
       "        .then(() => displayChart(vegaEmbed));\n",
       "    }\n",
       "  })({\"config\": {\"view\": {\"continuousWidth\": 400, \"continuousHeight\": 300}}, \"data\": {\"name\": \"data-d7e7d3a006e30f7795655a1e9e190879\"}, \"mark\": \"circle\", \"transform\": [{\"filter\": \"datum.Island\"}], \"$schema\": \"https://vega.github.io/schema/vega-lite/v4.17.0.json\", \"datasets\": {\"data-d7e7d3a006e30f7795655a1e9e190879\": [{\"Species\": \"Adelie\", \"Island\": \"Torgersen\", \"Beak Length (mm)\": 39.1, \"Beak Depth (mm)\": 18.7, \"Flipper Length (mm)\": 181.0, \"Body Mass (g)\": 3750.0, \"Sex\": \"MALE\"}, {\"Species\": \"Adelie\", \"Island\": \"Torgersen\", \"Beak Length (mm)\": 39.5, \"Beak Depth (mm)\": 17.4, \"Flipper Length (mm)\": 186.0, \"Body Mass (g)\": 3800.0, \"Sex\": \"FEMALE\"}, {\"Species\": \"Adelie\", \"Island\": \"Torgersen\", \"Beak Length (mm)\": 40.3, \"Beak Depth (mm)\": 18.0, \"Flipper Length (mm)\": 195.0, \"Body Mass (g)\": 3250.0, \"Sex\": \"FEMALE\"}, {\"Species\": \"Adelie\", \"Island\": \"Torgersen\", \"Beak Length (mm)\": null, \"Beak Depth (mm)\": null, \"Flipper Length (mm)\": null, \"Body Mass (g)\": null, \"Sex\": null}, {\"Species\": \"Adelie\", \"Island\": \"Torgersen\", \"Beak Length (mm)\": 36.7, \"Beak Depth (mm)\": 19.3, \"Flipper Length (mm)\": 193.0, \"Body Mass (g)\": 3450.0, \"Sex\": \"FEMALE\"}, {\"Species\": \"Adelie\", \"Island\": \"Torgersen\", \"Beak Length (mm)\": 39.3, \"Beak Depth (mm)\": 20.6, \"Flipper Length (mm)\": 190.0, \"Body Mass (g)\": 3650.0, \"Sex\": \"MALE\"}, {\"Species\": \"Adelie\", \"Island\": \"Torgersen\", \"Beak Length (mm)\": 38.9, \"Beak Depth (mm)\": 17.8, \"Flipper Length (mm)\": 181.0, \"Body Mass (g)\": 3625.0, \"Sex\": \"FEMALE\"}, {\"Species\": \"Adelie\", \"Island\": \"Torgersen\", \"Beak Length (mm)\": 39.2, \"Beak Depth (mm)\": 19.6, \"Flipper Length (mm)\": 195.0, \"Body Mass (g)\": 4675.0, \"Sex\": \"MALE\"}, {\"Species\": \"Adelie\", \"Island\": \"Torgersen\", \"Beak Length (mm)\": 34.1, \"Beak Depth (mm)\": 18.1, \"Flipper Length (mm)\": 193.0, \"Body Mass (g)\": 3475.0, \"Sex\": null}, {\"Species\": \"Adelie\", \"Island\": \"Torgersen\", \"Beak Length (mm)\": 42.0, \"Beak Depth (mm)\": 20.2, \"Flipper Length (mm)\": 190.0, \"Body Mass (g)\": 4250.0, \"Sex\": null}, {\"Species\": \"Adelie\", \"Island\": \"Torgersen\", \"Beak Length (mm)\": 37.8, \"Beak Depth (mm)\": 17.1, \"Flipper Length (mm)\": 186.0, \"Body Mass (g)\": 3300.0, \"Sex\": null}, {\"Species\": \"Adelie\", \"Island\": \"Torgersen\", \"Beak Length (mm)\": 37.8, \"Beak Depth (mm)\": 17.3, \"Flipper Length (mm)\": 180.0, \"Body Mass (g)\": 3700.0, \"Sex\": null}, {\"Species\": \"Adelie\", \"Island\": \"Torgersen\", \"Beak Length (mm)\": 41.1, \"Beak Depth (mm)\": 17.6, \"Flipper Length (mm)\": 182.0, \"Body Mass (g)\": 3200.0, \"Sex\": \"FEMALE\"}, {\"Species\": \"Adelie\", \"Island\": \"Torgersen\", \"Beak Length (mm)\": 38.6, \"Beak Depth (mm)\": 21.2, \"Flipper Length (mm)\": 191.0, \"Body Mass (g)\": 3800.0, \"Sex\": \"MALE\"}, {\"Species\": \"Adelie\", \"Island\": \"Torgersen\", \"Beak Length (mm)\": 34.6, \"Beak Depth (mm)\": 21.1, \"Flipper Length (mm)\": 198.0, \"Body Mass (g)\": 4400.0, \"Sex\": \"MALE\"}, {\"Species\": \"Adelie\", \"Island\": \"Torgersen\", \"Beak Length (mm)\": 36.6, \"Beak Depth (mm)\": 17.8, \"Flipper Length (mm)\": 185.0, \"Body Mass (g)\": 3700.0, \"Sex\": \"FEMALE\"}, {\"Species\": \"Adelie\", \"Island\": \"Torgersen\", \"Beak Length (mm)\": 38.7, \"Beak Depth (mm)\": 19.0, \"Flipper Length (mm)\": 195.0, \"Body Mass (g)\": 3450.0, \"Sex\": \"FEMALE\"}, {\"Species\": \"Adelie\", \"Island\": \"Torgersen\", \"Beak Length (mm)\": 42.5, \"Beak Depth (mm)\": 20.7, \"Flipper Length (mm)\": 197.0, \"Body Mass (g)\": 4500.0, \"Sex\": \"MALE\"}, {\"Species\": \"Adelie\", \"Island\": \"Torgersen\", \"Beak Length (mm)\": 34.4, \"Beak Depth (mm)\": 18.4, \"Flipper Length (mm)\": 184.0, \"Body Mass (g)\": 3325.0, \"Sex\": \"FEMALE\"}, {\"Species\": \"Adelie\", \"Island\": \"Torgersen\", \"Beak Length (mm)\": 46.0, \"Beak Depth (mm)\": 21.5, \"Flipper Length (mm)\": 194.0, \"Body Mass (g)\": 4200.0, \"Sex\": \"MALE\"}, {\"Species\": \"Adelie\", \"Island\": \"Biscoe\", \"Beak Length (mm)\": 37.8, \"Beak Depth (mm)\": 18.3, \"Flipper Length (mm)\": 174.0, \"Body Mass (g)\": 3400.0, \"Sex\": \"FEMALE\"}, {\"Species\": \"Adelie\", \"Island\": \"Biscoe\", \"Beak Length (mm)\": 37.7, \"Beak Depth (mm)\": 18.7, \"Flipper Length (mm)\": 180.0, \"Body Mass (g)\": 3600.0, \"Sex\": \"MALE\"}, {\"Species\": \"Adelie\", \"Island\": \"Biscoe\", \"Beak Length (mm)\": 35.9, \"Beak Depth (mm)\": 19.2, \"Flipper Length (mm)\": 189.0, \"Body Mass (g)\": 3800.0, \"Sex\": \"FEMALE\"}, {\"Species\": \"Adelie\", \"Island\": \"Biscoe\", \"Beak Length (mm)\": 38.2, \"Beak Depth (mm)\": 18.1, \"Flipper Length (mm)\": 185.0, \"Body Mass (g)\": 3950.0, \"Sex\": \"MALE\"}, {\"Species\": \"Adelie\", \"Island\": \"Biscoe\", \"Beak Length (mm)\": 38.8, \"Beak Depth (mm)\": 17.2, \"Flipper Length (mm)\": 180.0, \"Body Mass (g)\": 3800.0, \"Sex\": \"MALE\"}, {\"Species\": \"Adelie\", \"Island\": \"Biscoe\", \"Beak Length (mm)\": 35.3, \"Beak Depth (mm)\": 18.9, \"Flipper Length (mm)\": 187.0, \"Body Mass (g)\": 3800.0, \"Sex\": \"FEMALE\"}, {\"Species\": \"Adelie\", \"Island\": \"Biscoe\", \"Beak Length (mm)\": 40.6, \"Beak Depth (mm)\": 18.6, \"Flipper Length (mm)\": 183.0, \"Body Mass (g)\": 3550.0, \"Sex\": \"MALE\"}, {\"Species\": \"Adelie\", \"Island\": \"Biscoe\", \"Beak Length (mm)\": 40.5, \"Beak Depth (mm)\": 17.9, \"Flipper Length (mm)\": 187.0, \"Body Mass (g)\": 3200.0, \"Sex\": \"FEMALE\"}, {\"Species\": \"Adelie\", \"Island\": \"Biscoe\", \"Beak Length (mm)\": 37.9, \"Beak Depth (mm)\": 18.6, \"Flipper Length (mm)\": 172.0, \"Body Mass (g)\": 3150.0, \"Sex\": \"FEMALE\"}, {\"Species\": \"Adelie\", \"Island\": \"Biscoe\", \"Beak Length (mm)\": 40.5, \"Beak Depth (mm)\": 18.9, \"Flipper Length (mm)\": 180.0, \"Body Mass (g)\": 3950.0, \"Sex\": \"MALE\"}, {\"Species\": \"Adelie\", \"Island\": \"Dream\", \"Beak Length (mm)\": 39.5, \"Beak Depth (mm)\": 16.7, \"Flipper Length (mm)\": 178.0, \"Body Mass (g)\": 3250.0, \"Sex\": \"FEMALE\"}, {\"Species\": \"Adelie\", \"Island\": \"Dream\", \"Beak Length (mm)\": 37.2, \"Beak Depth (mm)\": 18.1, \"Flipper Length (mm)\": 178.0, \"Body Mass (g)\": 3900.0, \"Sex\": \"MALE\"}, {\"Species\": \"Adelie\", \"Island\": \"Dream\", \"Beak Length (mm)\": 39.5, \"Beak Depth (mm)\": 17.8, \"Flipper Length (mm)\": 188.0, \"Body Mass (g)\": 3300.0, \"Sex\": \"FEMALE\"}, {\"Species\": \"Adelie\", \"Island\": \"Dream\", \"Beak Length (mm)\": 40.9, \"Beak Depth (mm)\": 18.9, \"Flipper Length (mm)\": 184.0, \"Body Mass (g)\": 3900.0, \"Sex\": \"MALE\"}, {\"Species\": \"Adelie\", \"Island\": \"Dream\", \"Beak Length (mm)\": 36.4, \"Beak Depth (mm)\": 17.0, \"Flipper Length (mm)\": 195.0, \"Body Mass (g)\": 3325.0, \"Sex\": \"FEMALE\"}, {\"Species\": \"Adelie\", \"Island\": \"Dream\", \"Beak Length (mm)\": 39.2, \"Beak Depth (mm)\": 21.1, \"Flipper Length (mm)\": 196.0, \"Body Mass (g)\": 4150.0, \"Sex\": \"MALE\"}, {\"Species\": \"Adelie\", \"Island\": \"Dream\", \"Beak Length (mm)\": 38.8, \"Beak Depth (mm)\": 20.0, \"Flipper Length (mm)\": 190.0, \"Body Mass (g)\": 3950.0, \"Sex\": \"MALE\"}, {\"Species\": \"Adelie\", \"Island\": \"Dream\", \"Beak Length (mm)\": 42.2, \"Beak Depth (mm)\": 18.5, \"Flipper Length (mm)\": 180.0, \"Body Mass (g)\": 3550.0, \"Sex\": \"FEMALE\"}, {\"Species\": \"Adelie\", \"Island\": \"Dream\", \"Beak Length (mm)\": 37.6, \"Beak Depth (mm)\": 19.3, \"Flipper Length (mm)\": 181.0, \"Body Mass (g)\": 3300.0, \"Sex\": \"FEMALE\"}, {\"Species\": \"Adelie\", \"Island\": \"Dream\", \"Beak Length (mm)\": 39.8, \"Beak Depth (mm)\": 19.1, \"Flipper Length (mm)\": 184.0, \"Body Mass (g)\": 4650.0, \"Sex\": \"MALE\"}, {\"Species\": \"Adelie\", \"Island\": \"Dream\", \"Beak Length (mm)\": 36.5, \"Beak Depth (mm)\": 18.0, \"Flipper Length (mm)\": 182.0, \"Body Mass (g)\": 3150.0, \"Sex\": \"FEMALE\"}, {\"Species\": \"Adelie\", \"Island\": \"Dream\", \"Beak Length (mm)\": 40.8, \"Beak Depth (mm)\": 18.4, \"Flipper Length (mm)\": 195.0, \"Body Mass (g)\": 3900.0, \"Sex\": \"MALE\"}, {\"Species\": \"Adelie\", \"Island\": \"Dream\", \"Beak Length (mm)\": 36.0, \"Beak Depth (mm)\": 18.5, \"Flipper Length (mm)\": 186.0, \"Body Mass (g)\": 3100.0, \"Sex\": \"FEMALE\"}, {\"Species\": \"Adelie\", \"Island\": \"Dream\", \"Beak Length (mm)\": 44.1, \"Beak Depth (mm)\": 19.7, \"Flipper Length (mm)\": 196.0, \"Body Mass (g)\": 4400.0, \"Sex\": \"MALE\"}, {\"Species\": \"Adelie\", \"Island\": \"Dream\", \"Beak Length (mm)\": 37.0, \"Beak Depth (mm)\": 16.9, \"Flipper Length (mm)\": 185.0, \"Body Mass (g)\": 3000.0, \"Sex\": \"FEMALE\"}, {\"Species\": \"Adelie\", \"Island\": \"Dream\", \"Beak Length (mm)\": 39.6, \"Beak Depth (mm)\": 18.8, \"Flipper Length (mm)\": 190.0, \"Body Mass (g)\": 4600.0, \"Sex\": \"MALE\"}, {\"Species\": \"Adelie\", \"Island\": \"Dream\", \"Beak Length (mm)\": 41.1, \"Beak Depth (mm)\": 19.0, \"Flipper Length (mm)\": 182.0, \"Body Mass (g)\": 3425.0, \"Sex\": \"MALE\"}, {\"Species\": \"Adelie\", \"Island\": \"Dream\", \"Beak Length (mm)\": 37.5, \"Beak Depth (mm)\": 18.9, \"Flipper Length (mm)\": 179.0, \"Body Mass (g)\": 2975.0, \"Sex\": null}, {\"Species\": \"Adelie\", \"Island\": \"Dream\", \"Beak Length (mm)\": 36.0, \"Beak Depth (mm)\": 17.9, \"Flipper Length (mm)\": 190.0, \"Body Mass (g)\": 3450.0, \"Sex\": \"FEMALE\"}, {\"Species\": \"Adelie\", \"Island\": \"Dream\", \"Beak Length (mm)\": 42.3, \"Beak Depth (mm)\": 21.2, \"Flipper Length (mm)\": 191.0, \"Body Mass (g)\": 4150.0, \"Sex\": \"MALE\"}, {\"Species\": \"Adelie\", \"Island\": \"Biscoe\", \"Beak Length (mm)\": 39.6, \"Beak Depth (mm)\": 17.7, \"Flipper Length (mm)\": 186.0, \"Body Mass (g)\": 3500.0, \"Sex\": \"FEMALE\"}, {\"Species\": \"Adelie\", \"Island\": \"Biscoe\", \"Beak Length (mm)\": 40.1, \"Beak Depth (mm)\": 18.9, \"Flipper Length (mm)\": 188.0, \"Body Mass (g)\": 4300.0, \"Sex\": \"MALE\"}, {\"Species\": \"Adelie\", \"Island\": \"Biscoe\", \"Beak Length (mm)\": 35.0, \"Beak Depth (mm)\": 17.9, \"Flipper Length (mm)\": 190.0, \"Body Mass (g)\": 3450.0, \"Sex\": \"FEMALE\"}, {\"Species\": \"Adelie\", \"Island\": \"Biscoe\", \"Beak Length (mm)\": 42.0, \"Beak Depth (mm)\": 19.5, \"Flipper Length (mm)\": 200.0, \"Body Mass (g)\": 4050.0, \"Sex\": \"MALE\"}, {\"Species\": \"Adelie\", \"Island\": \"Biscoe\", \"Beak Length (mm)\": 34.5, \"Beak Depth (mm)\": 18.1, \"Flipper Length (mm)\": 187.0, \"Body Mass (g)\": 2900.0, \"Sex\": \"FEMALE\"}, {\"Species\": \"Adelie\", \"Island\": \"Biscoe\", \"Beak Length (mm)\": 41.4, \"Beak Depth (mm)\": 18.6, \"Flipper Length (mm)\": 191.0, \"Body Mass (g)\": 3700.0, \"Sex\": \"MALE\"}, {\"Species\": \"Adelie\", \"Island\": \"Biscoe\", \"Beak Length (mm)\": 39.0, \"Beak Depth (mm)\": 17.5, \"Flipper Length (mm)\": 186.0, \"Body Mass (g)\": 3550.0, \"Sex\": \"FEMALE\"}, {\"Species\": \"Adelie\", \"Island\": \"Biscoe\", \"Beak Length (mm)\": 40.6, \"Beak Depth (mm)\": 18.8, \"Flipper Length (mm)\": 193.0, \"Body Mass (g)\": 3800.0, \"Sex\": \"MALE\"}, {\"Species\": \"Adelie\", \"Island\": \"Biscoe\", \"Beak Length (mm)\": 36.5, \"Beak Depth (mm)\": 16.6, \"Flipper Length (mm)\": 181.0, \"Body Mass (g)\": 2850.0, \"Sex\": \"FEMALE\"}, {\"Species\": \"Adelie\", \"Island\": \"Biscoe\", \"Beak Length (mm)\": 37.6, \"Beak Depth (mm)\": 19.1, \"Flipper Length (mm)\": 194.0, \"Body Mass (g)\": 3750.0, \"Sex\": \"MALE\"}, {\"Species\": \"Adelie\", \"Island\": \"Biscoe\", \"Beak Length (mm)\": 35.7, \"Beak Depth (mm)\": 16.9, \"Flipper Length (mm)\": 185.0, \"Body Mass (g)\": 3150.0, \"Sex\": \"FEMALE\"}, {\"Species\": \"Adelie\", \"Island\": \"Biscoe\", \"Beak Length (mm)\": 41.3, \"Beak Depth (mm)\": 21.1, \"Flipper Length (mm)\": 195.0, \"Body Mass (g)\": 4400.0, \"Sex\": \"MALE\"}, {\"Species\": \"Adelie\", \"Island\": \"Biscoe\", \"Beak Length (mm)\": 37.6, \"Beak Depth (mm)\": 17.0, \"Flipper Length (mm)\": 185.0, \"Body Mass (g)\": 3600.0, \"Sex\": \"FEMALE\"}, {\"Species\": \"Adelie\", \"Island\": \"Biscoe\", \"Beak Length (mm)\": 41.1, \"Beak Depth (mm)\": 18.2, \"Flipper Length (mm)\": 192.0, \"Body Mass (g)\": 4050.0, \"Sex\": \"MALE\"}, {\"Species\": \"Adelie\", \"Island\": \"Biscoe\", \"Beak Length (mm)\": 36.4, \"Beak Depth (mm)\": 17.1, \"Flipper Length (mm)\": 184.0, \"Body Mass (g)\": 2850.0, \"Sex\": \"FEMALE\"}, {\"Species\": \"Adelie\", \"Island\": \"Biscoe\", \"Beak Length (mm)\": 41.6, \"Beak Depth (mm)\": 18.0, \"Flipper Length (mm)\": 192.0, \"Body Mass (g)\": 3950.0, \"Sex\": \"MALE\"}, {\"Species\": \"Adelie\", \"Island\": \"Biscoe\", \"Beak Length (mm)\": 35.5, \"Beak Depth (mm)\": 16.2, \"Flipper Length (mm)\": 195.0, \"Body Mass (g)\": 3350.0, \"Sex\": \"FEMALE\"}, {\"Species\": \"Adelie\", \"Island\": \"Biscoe\", \"Beak Length (mm)\": 41.1, \"Beak Depth (mm)\": 19.1, \"Flipper Length (mm)\": 188.0, \"Body Mass (g)\": 4100.0, \"Sex\": \"MALE\"}, {\"Species\": \"Adelie\", \"Island\": \"Torgersen\", \"Beak Length (mm)\": 35.9, \"Beak Depth (mm)\": 16.6, \"Flipper Length (mm)\": 190.0, \"Body Mass (g)\": 3050.0, \"Sex\": \"FEMALE\"}, {\"Species\": \"Adelie\", \"Island\": \"Torgersen\", \"Beak Length (mm)\": 41.8, \"Beak Depth (mm)\": 19.4, \"Flipper Length (mm)\": 198.0, \"Body Mass (g)\": 4450.0, \"Sex\": \"MALE\"}, {\"Species\": \"Adelie\", \"Island\": \"Torgersen\", \"Beak Length (mm)\": 33.5, \"Beak Depth (mm)\": 19.0, \"Flipper Length (mm)\": 190.0, \"Body Mass (g)\": 3600.0, \"Sex\": \"FEMALE\"}, {\"Species\": \"Adelie\", \"Island\": \"Torgersen\", \"Beak Length (mm)\": 39.7, \"Beak Depth (mm)\": 18.4, \"Flipper Length (mm)\": 190.0, \"Body Mass (g)\": 3900.0, \"Sex\": \"MALE\"}, {\"Species\": \"Adelie\", \"Island\": \"Torgersen\", \"Beak Length (mm)\": 39.6, \"Beak Depth (mm)\": 17.2, \"Flipper Length (mm)\": 196.0, \"Body Mass (g)\": 3550.0, \"Sex\": \"FEMALE\"}, {\"Species\": \"Adelie\", \"Island\": \"Torgersen\", \"Beak Length (mm)\": 45.8, \"Beak Depth (mm)\": 18.9, \"Flipper Length (mm)\": 197.0, \"Body Mass (g)\": 4150.0, \"Sex\": \"MALE\"}, {\"Species\": \"Adelie\", \"Island\": \"Torgersen\", \"Beak Length (mm)\": 35.5, \"Beak Depth (mm)\": 17.5, \"Flipper Length (mm)\": 190.0, \"Body Mass (g)\": 3700.0, \"Sex\": \"FEMALE\"}, {\"Species\": \"Adelie\", \"Island\": \"Torgersen\", \"Beak Length (mm)\": 42.8, \"Beak Depth (mm)\": 18.5, \"Flipper Length (mm)\": 195.0, \"Body Mass (g)\": 4250.0, \"Sex\": \"MALE\"}, {\"Species\": \"Adelie\", \"Island\": \"Torgersen\", \"Beak Length (mm)\": 40.9, \"Beak Depth (mm)\": 16.8, \"Flipper Length (mm)\": 191.0, \"Body Mass (g)\": 3700.0, \"Sex\": \"FEMALE\"}, {\"Species\": \"Adelie\", \"Island\": \"Torgersen\", \"Beak Length (mm)\": 37.2, \"Beak Depth (mm)\": 19.4, \"Flipper Length (mm)\": 184.0, \"Body Mass (g)\": 3900.0, \"Sex\": \"MALE\"}, {\"Species\": \"Adelie\", \"Island\": \"Torgersen\", \"Beak Length (mm)\": 36.2, \"Beak Depth (mm)\": 16.1, \"Flipper Length (mm)\": 187.0, \"Body Mass (g)\": 3550.0, \"Sex\": \"FEMALE\"}, {\"Species\": \"Adelie\", \"Island\": \"Torgersen\", \"Beak Length (mm)\": 42.1, \"Beak Depth (mm)\": 19.1, \"Flipper Length (mm)\": 195.0, \"Body Mass (g)\": 4000.0, \"Sex\": \"MALE\"}, {\"Species\": \"Adelie\", \"Island\": \"Torgersen\", \"Beak Length (mm)\": 34.6, \"Beak Depth (mm)\": 17.2, \"Flipper Length (mm)\": 189.0, \"Body Mass (g)\": 3200.0, \"Sex\": \"FEMALE\"}, {\"Species\": \"Adelie\", \"Island\": \"Torgersen\", \"Beak Length (mm)\": 42.9, \"Beak Depth (mm)\": 17.6, \"Flipper Length (mm)\": 196.0, \"Body Mass (g)\": 4700.0, \"Sex\": \"MALE\"}, {\"Species\": \"Adelie\", \"Island\": \"Torgersen\", \"Beak Length (mm)\": 36.7, \"Beak Depth (mm)\": 18.8, \"Flipper Length (mm)\": 187.0, \"Body Mass (g)\": 3800.0, \"Sex\": \"FEMALE\"}, {\"Species\": \"Adelie\", \"Island\": \"Torgersen\", \"Beak Length (mm)\": 35.1, \"Beak Depth (mm)\": 19.4, \"Flipper Length (mm)\": 193.0, \"Body Mass (g)\": 4200.0, \"Sex\": \"MALE\"}, {\"Species\": \"Adelie\", \"Island\": \"Dream\", \"Beak Length (mm)\": 37.3, \"Beak Depth (mm)\": 17.8, \"Flipper Length (mm)\": 191.0, \"Body Mass (g)\": 3350.0, \"Sex\": \"FEMALE\"}, {\"Species\": \"Adelie\", \"Island\": \"Dream\", \"Beak Length (mm)\": 41.3, \"Beak Depth (mm)\": 20.3, \"Flipper Length (mm)\": 194.0, \"Body Mass (g)\": 3550.0, \"Sex\": \"MALE\"}, {\"Species\": \"Adelie\", \"Island\": \"Dream\", \"Beak Length (mm)\": 36.3, \"Beak Depth (mm)\": 19.5, \"Flipper Length (mm)\": 190.0, \"Body Mass (g)\": 3800.0, \"Sex\": \"MALE\"}, {\"Species\": \"Adelie\", \"Island\": \"Dream\", \"Beak Length (mm)\": 36.9, \"Beak Depth (mm)\": 18.6, \"Flipper Length (mm)\": 189.0, \"Body Mass (g)\": 3500.0, \"Sex\": \"FEMALE\"}, {\"Species\": \"Adelie\", \"Island\": \"Dream\", \"Beak Length (mm)\": 38.3, \"Beak Depth (mm)\": 19.2, \"Flipper Length (mm)\": 189.0, \"Body Mass (g)\": 3950.0, \"Sex\": \"MALE\"}, {\"Species\": \"Adelie\", \"Island\": \"Dream\", \"Beak Length (mm)\": 38.9, \"Beak Depth (mm)\": 18.8, \"Flipper Length (mm)\": 190.0, \"Body Mass (g)\": 3600.0, \"Sex\": \"FEMALE\"}, {\"Species\": \"Adelie\", \"Island\": \"Dream\", \"Beak Length (mm)\": 35.7, \"Beak Depth (mm)\": 18.0, \"Flipper Length (mm)\": 202.0, \"Body Mass (g)\": 3550.0, \"Sex\": \"FEMALE\"}, {\"Species\": \"Adelie\", \"Island\": \"Dream\", \"Beak Length (mm)\": 41.1, \"Beak Depth (mm)\": 18.1, \"Flipper Length (mm)\": 205.0, \"Body Mass (g)\": 4300.0, \"Sex\": \"MALE\"}, {\"Species\": \"Adelie\", \"Island\": \"Dream\", \"Beak Length (mm)\": 34.0, \"Beak Depth (mm)\": 17.1, \"Flipper Length (mm)\": 185.0, \"Body Mass (g)\": 3400.0, \"Sex\": \"FEMALE\"}, {\"Species\": \"Adelie\", \"Island\": \"Dream\", \"Beak Length (mm)\": 39.6, \"Beak Depth (mm)\": 18.1, \"Flipper Length (mm)\": 186.0, \"Body Mass (g)\": 4450.0, \"Sex\": \"MALE\"}, {\"Species\": \"Adelie\", \"Island\": \"Dream\", \"Beak Length (mm)\": 36.2, \"Beak Depth (mm)\": 17.3, \"Flipper Length (mm)\": 187.0, \"Body Mass (g)\": 3300.0, \"Sex\": \"FEMALE\"}, {\"Species\": \"Adelie\", \"Island\": \"Dream\", \"Beak Length (mm)\": 40.8, \"Beak Depth (mm)\": 18.9, \"Flipper Length (mm)\": 208.0, \"Body Mass (g)\": 4300.0, \"Sex\": \"MALE\"}, {\"Species\": \"Adelie\", \"Island\": \"Dream\", \"Beak Length (mm)\": 38.1, \"Beak Depth (mm)\": 18.6, \"Flipper Length (mm)\": 190.0, \"Body Mass (g)\": 3700.0, \"Sex\": \"FEMALE\"}, {\"Species\": \"Adelie\", \"Island\": \"Dream\", \"Beak Length (mm)\": 40.3, \"Beak Depth (mm)\": 18.5, \"Flipper Length (mm)\": 196.0, \"Body Mass (g)\": 4350.0, \"Sex\": \"MALE\"}, {\"Species\": \"Adelie\", \"Island\": \"Dream\", \"Beak Length (mm)\": 33.1, \"Beak Depth (mm)\": 16.1, \"Flipper Length (mm)\": 178.0, \"Body Mass (g)\": 2900.0, \"Sex\": \"FEMALE\"}, {\"Species\": \"Adelie\", \"Island\": \"Dream\", \"Beak Length (mm)\": 43.2, \"Beak Depth (mm)\": 18.5, \"Flipper Length (mm)\": 192.0, \"Body Mass (g)\": 4100.0, \"Sex\": \"MALE\"}, {\"Species\": \"Adelie\", \"Island\": \"Biscoe\", \"Beak Length (mm)\": 35.0, \"Beak Depth (mm)\": 17.9, \"Flipper Length (mm)\": 192.0, \"Body Mass (g)\": 3725.0, \"Sex\": \"FEMALE\"}, {\"Species\": \"Adelie\", \"Island\": \"Biscoe\", \"Beak Length (mm)\": 41.0, \"Beak Depth (mm)\": 20.0, \"Flipper Length (mm)\": 203.0, \"Body Mass (g)\": 4725.0, \"Sex\": \"MALE\"}, {\"Species\": \"Adelie\", \"Island\": \"Biscoe\", \"Beak Length (mm)\": 37.7, \"Beak Depth (mm)\": 16.0, \"Flipper Length (mm)\": 183.0, \"Body Mass (g)\": 3075.0, \"Sex\": \"FEMALE\"}, {\"Species\": \"Adelie\", \"Island\": \"Biscoe\", \"Beak Length (mm)\": 37.8, \"Beak Depth (mm)\": 20.0, \"Flipper Length (mm)\": 190.0, \"Body Mass (g)\": 4250.0, \"Sex\": \"MALE\"}, {\"Species\": \"Adelie\", \"Island\": \"Biscoe\", \"Beak Length (mm)\": 37.9, \"Beak Depth (mm)\": 18.6, \"Flipper Length (mm)\": 193.0, \"Body Mass (g)\": 2925.0, \"Sex\": \"FEMALE\"}, {\"Species\": \"Adelie\", \"Island\": \"Biscoe\", \"Beak Length (mm)\": 39.7, \"Beak Depth (mm)\": 18.9, \"Flipper Length (mm)\": 184.0, \"Body Mass (g)\": 3550.0, \"Sex\": \"MALE\"}, {\"Species\": \"Adelie\", \"Island\": \"Biscoe\", \"Beak Length (mm)\": 38.6, \"Beak Depth (mm)\": 17.2, \"Flipper Length (mm)\": 199.0, \"Body Mass (g)\": 3750.0, \"Sex\": \"FEMALE\"}, {\"Species\": \"Adelie\", \"Island\": \"Biscoe\", \"Beak Length (mm)\": 38.2, \"Beak Depth (mm)\": 20.0, \"Flipper Length (mm)\": 190.0, \"Body Mass (g)\": 3900.0, \"Sex\": \"MALE\"}, {\"Species\": \"Adelie\", \"Island\": \"Biscoe\", \"Beak Length (mm)\": 38.1, \"Beak Depth (mm)\": 17.0, \"Flipper Length (mm)\": 181.0, \"Body Mass (g)\": 3175.0, \"Sex\": \"FEMALE\"}, {\"Species\": \"Adelie\", \"Island\": \"Biscoe\", \"Beak Length (mm)\": 43.2, \"Beak Depth (mm)\": 19.0, \"Flipper Length (mm)\": 197.0, \"Body Mass (g)\": 4775.0, \"Sex\": \"MALE\"}, {\"Species\": \"Adelie\", \"Island\": \"Biscoe\", \"Beak Length (mm)\": 38.1, \"Beak Depth (mm)\": 16.5, \"Flipper Length (mm)\": 198.0, \"Body Mass (g)\": 3825.0, \"Sex\": \"FEMALE\"}, {\"Species\": \"Adelie\", \"Island\": \"Biscoe\", \"Beak Length (mm)\": 45.6, \"Beak Depth (mm)\": 20.3, \"Flipper Length (mm)\": 191.0, \"Body Mass (g)\": 4600.0, \"Sex\": \"MALE\"}, {\"Species\": \"Adelie\", \"Island\": \"Biscoe\", \"Beak Length (mm)\": 39.7, \"Beak Depth (mm)\": 17.7, \"Flipper Length (mm)\": 193.0, \"Body Mass (g)\": 3200.0, \"Sex\": \"FEMALE\"}, {\"Species\": \"Adelie\", \"Island\": \"Biscoe\", \"Beak Length (mm)\": 42.2, \"Beak Depth (mm)\": 19.5, \"Flipper Length (mm)\": 197.0, \"Body Mass (g)\": 4275.0, \"Sex\": \"MALE\"}, {\"Species\": \"Adelie\", \"Island\": \"Biscoe\", \"Beak Length (mm)\": 39.6, \"Beak Depth (mm)\": 20.7, \"Flipper Length (mm)\": 191.0, \"Body Mass (g)\": 3900.0, \"Sex\": \"FEMALE\"}, {\"Species\": \"Adelie\", \"Island\": \"Biscoe\", \"Beak Length (mm)\": 42.7, \"Beak Depth (mm)\": 18.3, \"Flipper Length (mm)\": 196.0, \"Body Mass (g)\": 4075.0, \"Sex\": \"MALE\"}, {\"Species\": \"Adelie\", \"Island\": \"Torgersen\", \"Beak Length (mm)\": 38.6, \"Beak Depth (mm)\": 17.0, \"Flipper Length (mm)\": 188.0, \"Body Mass (g)\": 2900.0, \"Sex\": \"FEMALE\"}, {\"Species\": \"Adelie\", \"Island\": \"Torgersen\", \"Beak Length (mm)\": 37.3, \"Beak Depth (mm)\": 20.5, \"Flipper Length (mm)\": 199.0, \"Body Mass (g)\": 3775.0, \"Sex\": \"MALE\"}, {\"Species\": \"Adelie\", \"Island\": \"Torgersen\", \"Beak Length (mm)\": 35.7, \"Beak Depth (mm)\": 17.0, \"Flipper Length (mm)\": 189.0, \"Body Mass (g)\": 3350.0, \"Sex\": \"FEMALE\"}, {\"Species\": \"Adelie\", \"Island\": \"Torgersen\", \"Beak Length (mm)\": 41.1, \"Beak Depth (mm)\": 18.6, \"Flipper Length (mm)\": 189.0, \"Body Mass (g)\": 3325.0, \"Sex\": \"MALE\"}, {\"Species\": \"Adelie\", \"Island\": \"Torgersen\", \"Beak Length (mm)\": 36.2, \"Beak Depth (mm)\": 17.2, \"Flipper Length (mm)\": 187.0, \"Body Mass (g)\": 3150.0, \"Sex\": \"FEMALE\"}, {\"Species\": \"Adelie\", \"Island\": \"Torgersen\", \"Beak Length (mm)\": 37.7, \"Beak Depth (mm)\": 19.8, \"Flipper Length (mm)\": 198.0, \"Body Mass (g)\": 3500.0, \"Sex\": \"MALE\"}, {\"Species\": \"Adelie\", \"Island\": \"Torgersen\", \"Beak Length (mm)\": 40.2, \"Beak Depth (mm)\": 17.0, \"Flipper Length (mm)\": 176.0, \"Body Mass (g)\": 3450.0, \"Sex\": \"FEMALE\"}, {\"Species\": \"Adelie\", \"Island\": \"Torgersen\", \"Beak Length (mm)\": 41.4, \"Beak Depth (mm)\": 18.5, \"Flipper Length (mm)\": 202.0, \"Body Mass (g)\": 3875.0, \"Sex\": \"MALE\"}, {\"Species\": \"Adelie\", \"Island\": \"Torgersen\", \"Beak Length (mm)\": 35.2, \"Beak Depth (mm)\": 15.9, \"Flipper Length (mm)\": 186.0, \"Body Mass (g)\": 3050.0, \"Sex\": \"FEMALE\"}, {\"Species\": \"Adelie\", \"Island\": \"Torgersen\", \"Beak Length (mm)\": 40.6, \"Beak Depth (mm)\": 19.0, \"Flipper Length (mm)\": 199.0, \"Body Mass (g)\": 4000.0, \"Sex\": \"MALE\"}, {\"Species\": \"Adelie\", \"Island\": \"Torgersen\", \"Beak Length (mm)\": 38.8, \"Beak Depth (mm)\": 17.6, \"Flipper Length (mm)\": 191.0, \"Body Mass (g)\": 3275.0, \"Sex\": \"FEMALE\"}, {\"Species\": \"Adelie\", \"Island\": \"Torgersen\", \"Beak Length (mm)\": 41.5, \"Beak Depth (mm)\": 18.3, \"Flipper Length (mm)\": 195.0, \"Body Mass (g)\": 4300.0, \"Sex\": \"MALE\"}, {\"Species\": \"Adelie\", \"Island\": \"Torgersen\", \"Beak Length (mm)\": 39.0, \"Beak Depth (mm)\": 17.1, \"Flipper Length (mm)\": 191.0, \"Body Mass (g)\": 3050.0, \"Sex\": \"FEMALE\"}, {\"Species\": \"Adelie\", \"Island\": \"Torgersen\", \"Beak Length (mm)\": 44.1, \"Beak Depth (mm)\": 18.0, \"Flipper Length (mm)\": 210.0, \"Body Mass (g)\": 4000.0, \"Sex\": \"MALE\"}, {\"Species\": \"Adelie\", \"Island\": \"Torgersen\", \"Beak Length (mm)\": 38.5, \"Beak Depth (mm)\": 17.9, \"Flipper Length (mm)\": 190.0, \"Body Mass (g)\": 3325.0, \"Sex\": \"FEMALE\"}, {\"Species\": \"Adelie\", \"Island\": \"Torgersen\", \"Beak Length (mm)\": 43.1, \"Beak Depth (mm)\": 19.2, \"Flipper Length (mm)\": 197.0, \"Body Mass (g)\": 3500.0, \"Sex\": \"MALE\"}, {\"Species\": \"Adelie\", \"Island\": \"Dream\", \"Beak Length (mm)\": 36.8, \"Beak Depth (mm)\": 18.5, \"Flipper Length (mm)\": 193.0, \"Body Mass (g)\": 3500.0, \"Sex\": \"FEMALE\"}, {\"Species\": \"Adelie\", \"Island\": \"Dream\", \"Beak Length (mm)\": 37.5, \"Beak Depth (mm)\": 18.5, \"Flipper Length (mm)\": 199.0, \"Body Mass (g)\": 4475.0, \"Sex\": \"MALE\"}, {\"Species\": \"Adelie\", \"Island\": \"Dream\", \"Beak Length (mm)\": 38.1, \"Beak Depth (mm)\": 17.6, \"Flipper Length (mm)\": 187.0, \"Body Mass (g)\": 3425.0, \"Sex\": \"FEMALE\"}, {\"Species\": \"Adelie\", \"Island\": \"Dream\", \"Beak Length (mm)\": 41.1, \"Beak Depth (mm)\": 17.5, \"Flipper Length (mm)\": 190.0, \"Body Mass (g)\": 3900.0, \"Sex\": \"MALE\"}, {\"Species\": \"Adelie\", \"Island\": \"Dream\", \"Beak Length (mm)\": 35.6, \"Beak Depth (mm)\": 17.5, \"Flipper Length (mm)\": 191.0, \"Body Mass (g)\": 3175.0, \"Sex\": \"FEMALE\"}, {\"Species\": \"Adelie\", \"Island\": \"Dream\", \"Beak Length (mm)\": 40.2, \"Beak Depth (mm)\": 20.1, \"Flipper Length (mm)\": 200.0, \"Body Mass (g)\": 3975.0, \"Sex\": \"MALE\"}, {\"Species\": \"Adelie\", \"Island\": \"Dream\", \"Beak Length (mm)\": 37.0, \"Beak Depth (mm)\": 16.5, \"Flipper Length (mm)\": 185.0, \"Body Mass (g)\": 3400.0, \"Sex\": \"FEMALE\"}, {\"Species\": \"Adelie\", \"Island\": \"Dream\", \"Beak Length (mm)\": 39.7, \"Beak Depth (mm)\": 17.9, \"Flipper Length (mm)\": 193.0, \"Body Mass (g)\": 4250.0, \"Sex\": \"MALE\"}, {\"Species\": \"Adelie\", \"Island\": \"Dream\", \"Beak Length (mm)\": 40.2, \"Beak Depth (mm)\": 17.1, \"Flipper Length (mm)\": 193.0, \"Body Mass (g)\": 3400.0, \"Sex\": \"FEMALE\"}, {\"Species\": \"Adelie\", \"Island\": \"Dream\", \"Beak Length (mm)\": 40.6, \"Beak Depth (mm)\": 17.2, \"Flipper Length (mm)\": 187.0, \"Body Mass (g)\": 3475.0, \"Sex\": \"MALE\"}, {\"Species\": \"Adelie\", \"Island\": \"Dream\", \"Beak Length (mm)\": 32.1, \"Beak Depth (mm)\": 15.5, \"Flipper Length (mm)\": 188.0, \"Body Mass (g)\": 3050.0, \"Sex\": \"FEMALE\"}, {\"Species\": \"Adelie\", \"Island\": \"Dream\", \"Beak Length (mm)\": 40.7, \"Beak Depth (mm)\": 17.0, \"Flipper Length (mm)\": 190.0, \"Body Mass (g)\": 3725.0, \"Sex\": \"MALE\"}, {\"Species\": \"Adelie\", \"Island\": \"Dream\", \"Beak Length (mm)\": 37.3, \"Beak Depth (mm)\": 16.8, \"Flipper Length (mm)\": 192.0, \"Body Mass (g)\": 3000.0, \"Sex\": \"FEMALE\"}, {\"Species\": \"Adelie\", \"Island\": \"Dream\", \"Beak Length (mm)\": 39.0, \"Beak Depth (mm)\": 18.7, \"Flipper Length (mm)\": 185.0, \"Body Mass (g)\": 3650.0, \"Sex\": \"MALE\"}, {\"Species\": \"Adelie\", \"Island\": \"Dream\", \"Beak Length (mm)\": 39.2, \"Beak Depth (mm)\": 18.6, \"Flipper Length (mm)\": 190.0, \"Body Mass (g)\": 4250.0, \"Sex\": \"MALE\"}, {\"Species\": \"Adelie\", \"Island\": \"Dream\", \"Beak Length (mm)\": 36.6, \"Beak Depth (mm)\": 18.4, \"Flipper Length (mm)\": 184.0, \"Body Mass (g)\": 3475.0, \"Sex\": \"FEMALE\"}, {\"Species\": \"Adelie\", \"Island\": \"Dream\", \"Beak Length (mm)\": 36.0, \"Beak Depth (mm)\": 17.8, \"Flipper Length (mm)\": 195.0, \"Body Mass (g)\": 3450.0, \"Sex\": \"FEMALE\"}, {\"Species\": \"Adelie\", \"Island\": \"Dream\", \"Beak Length (mm)\": 37.8, \"Beak Depth (mm)\": 18.1, \"Flipper Length (mm)\": 193.0, \"Body Mass (g)\": 3750.0, \"Sex\": \"MALE\"}, {\"Species\": \"Adelie\", \"Island\": \"Dream\", \"Beak Length (mm)\": 36.0, \"Beak Depth (mm)\": 17.1, \"Flipper Length (mm)\": 187.0, \"Body Mass (g)\": 3700.0, \"Sex\": \"FEMALE\"}, {\"Species\": \"Adelie\", \"Island\": \"Dream\", \"Beak Length (mm)\": 41.5, \"Beak Depth (mm)\": 18.5, \"Flipper Length (mm)\": 201.0, \"Body Mass (g)\": 4000.0, \"Sex\": \"MALE\"}, {\"Species\": \"Chinstrap\", \"Island\": \"Dream\", \"Beak Length (mm)\": 46.5, \"Beak Depth (mm)\": 17.9, \"Flipper Length (mm)\": 192.0, \"Body Mass (g)\": 3500.0, \"Sex\": \"FEMALE\"}, {\"Species\": \"Chinstrap\", \"Island\": \"Dream\", \"Beak Length (mm)\": 50.0, \"Beak Depth (mm)\": 19.5, \"Flipper Length (mm)\": 196.0, \"Body Mass (g)\": 3900.0, \"Sex\": \"MALE\"}, {\"Species\": \"Chinstrap\", \"Island\": \"Dream\", \"Beak Length (mm)\": 51.3, \"Beak Depth (mm)\": 19.2, \"Flipper Length (mm)\": 193.0, \"Body Mass (g)\": 3650.0, \"Sex\": \"MALE\"}, {\"Species\": \"Chinstrap\", \"Island\": \"Dream\", \"Beak Length (mm)\": 45.4, \"Beak Depth (mm)\": 18.7, \"Flipper Length (mm)\": 188.0, \"Body Mass (g)\": 3525.0, \"Sex\": \"FEMALE\"}, {\"Species\": \"Chinstrap\", \"Island\": \"Dream\", \"Beak Length (mm)\": 52.7, \"Beak Depth (mm)\": 19.8, \"Flipper Length (mm)\": 197.0, \"Body Mass (g)\": 3725.0, \"Sex\": \"MALE\"}, {\"Species\": \"Chinstrap\", \"Island\": \"Dream\", \"Beak Length (mm)\": 45.2, \"Beak Depth (mm)\": 17.8, \"Flipper Length (mm)\": 198.0, \"Body Mass (g)\": 3950.0, \"Sex\": \"FEMALE\"}, {\"Species\": \"Chinstrap\", \"Island\": \"Dream\", \"Beak Length (mm)\": 46.1, \"Beak Depth (mm)\": 18.2, \"Flipper Length (mm)\": 178.0, \"Body Mass (g)\": 3250.0, \"Sex\": \"FEMALE\"}, {\"Species\": \"Chinstrap\", \"Island\": \"Dream\", \"Beak Length (mm)\": 51.3, \"Beak Depth (mm)\": 18.2, \"Flipper Length (mm)\": 197.0, \"Body Mass (g)\": 3750.0, \"Sex\": \"MALE\"}, {\"Species\": \"Chinstrap\", \"Island\": \"Dream\", \"Beak Length (mm)\": 46.0, \"Beak Depth (mm)\": 18.9, \"Flipper Length (mm)\": 195.0, \"Body Mass (g)\": 4150.0, \"Sex\": \"FEMALE\"}, {\"Species\": \"Chinstrap\", \"Island\": \"Dream\", \"Beak Length (mm)\": 51.3, \"Beak Depth (mm)\": 19.9, \"Flipper Length (mm)\": 198.0, \"Body Mass (g)\": 3700.0, \"Sex\": \"MALE\"}, {\"Species\": \"Chinstrap\", \"Island\": \"Dream\", \"Beak Length (mm)\": 46.6, \"Beak Depth (mm)\": 17.8, \"Flipper Length (mm)\": 193.0, \"Body Mass (g)\": 3800.0, \"Sex\": \"FEMALE\"}, {\"Species\": \"Chinstrap\", \"Island\": \"Dream\", \"Beak Length (mm)\": 51.7, \"Beak Depth (mm)\": 20.3, \"Flipper Length (mm)\": 194.0, \"Body Mass (g)\": 3775.0, \"Sex\": \"MALE\"}, {\"Species\": \"Chinstrap\", \"Island\": \"Dream\", \"Beak Length (mm)\": 47.0, \"Beak Depth (mm)\": 17.3, \"Flipper Length (mm)\": 185.0, \"Body Mass (g)\": 3700.0, \"Sex\": \"FEMALE\"}, {\"Species\": \"Chinstrap\", \"Island\": \"Dream\", \"Beak Length (mm)\": 52.0, \"Beak Depth (mm)\": 18.1, \"Flipper Length (mm)\": 201.0, \"Body Mass (g)\": 4050.0, \"Sex\": \"MALE\"}, {\"Species\": \"Chinstrap\", \"Island\": \"Dream\", \"Beak Length (mm)\": 45.9, \"Beak Depth (mm)\": 17.1, \"Flipper Length (mm)\": 190.0, \"Body Mass (g)\": 3575.0, \"Sex\": \"FEMALE\"}, {\"Species\": \"Chinstrap\", \"Island\": \"Dream\", \"Beak Length (mm)\": 50.5, \"Beak Depth (mm)\": 19.6, \"Flipper Length (mm)\": 201.0, \"Body Mass (g)\": 4050.0, \"Sex\": \"MALE\"}, {\"Species\": \"Chinstrap\", \"Island\": \"Dream\", \"Beak Length (mm)\": 50.3, \"Beak Depth (mm)\": 20.0, \"Flipper Length (mm)\": 197.0, \"Body Mass (g)\": 3300.0, \"Sex\": \"MALE\"}, {\"Species\": \"Chinstrap\", \"Island\": \"Dream\", \"Beak Length (mm)\": 58.0, \"Beak Depth (mm)\": 17.8, \"Flipper Length (mm)\": 181.0, \"Body Mass (g)\": 3700.0, \"Sex\": \"FEMALE\"}, {\"Species\": \"Chinstrap\", \"Island\": \"Dream\", \"Beak Length (mm)\": 46.4, \"Beak Depth (mm)\": 18.6, \"Flipper Length (mm)\": 190.0, \"Body Mass (g)\": 3450.0, \"Sex\": \"FEMALE\"}, {\"Species\": \"Chinstrap\", \"Island\": \"Dream\", \"Beak Length (mm)\": 49.2, \"Beak Depth (mm)\": 18.2, \"Flipper Length (mm)\": 195.0, \"Body Mass (g)\": 4400.0, \"Sex\": \"MALE\"}, {\"Species\": \"Chinstrap\", \"Island\": \"Dream\", \"Beak Length (mm)\": 42.4, \"Beak Depth (mm)\": 17.3, \"Flipper Length (mm)\": 181.0, \"Body Mass (g)\": 3600.0, \"Sex\": \"FEMALE\"}, {\"Species\": \"Chinstrap\", \"Island\": \"Dream\", \"Beak Length (mm)\": 48.5, \"Beak Depth (mm)\": 17.5, \"Flipper Length (mm)\": 191.0, \"Body Mass (g)\": 3400.0, \"Sex\": \"MALE\"}, {\"Species\": \"Chinstrap\", \"Island\": \"Dream\", \"Beak Length (mm)\": 43.2, \"Beak Depth (mm)\": 16.6, \"Flipper Length (mm)\": 187.0, \"Body Mass (g)\": 2900.0, \"Sex\": \"FEMALE\"}, {\"Species\": \"Chinstrap\", \"Island\": \"Dream\", \"Beak Length (mm)\": 50.6, \"Beak Depth (mm)\": 19.4, \"Flipper Length (mm)\": 193.0, \"Body Mass (g)\": 3800.0, \"Sex\": \"MALE\"}, {\"Species\": \"Chinstrap\", \"Island\": \"Dream\", \"Beak Length (mm)\": 46.7, \"Beak Depth (mm)\": 17.9, \"Flipper Length (mm)\": 195.0, \"Body Mass (g)\": 3300.0, \"Sex\": \"FEMALE\"}, {\"Species\": \"Chinstrap\", \"Island\": \"Dream\", \"Beak Length (mm)\": 52.0, \"Beak Depth (mm)\": 19.0, \"Flipper Length (mm)\": 197.0, \"Body Mass (g)\": 4150.0, \"Sex\": \"MALE\"}, {\"Species\": \"Chinstrap\", \"Island\": \"Dream\", \"Beak Length (mm)\": 50.5, \"Beak Depth (mm)\": 18.4, \"Flipper Length (mm)\": 200.0, \"Body Mass (g)\": 3400.0, \"Sex\": \"FEMALE\"}, {\"Species\": \"Chinstrap\", \"Island\": \"Dream\", \"Beak Length (mm)\": 49.5, \"Beak Depth (mm)\": 19.0, \"Flipper Length (mm)\": 200.0, \"Body Mass (g)\": 3800.0, \"Sex\": \"MALE\"}, {\"Species\": \"Chinstrap\", \"Island\": \"Dream\", \"Beak Length (mm)\": 46.4, \"Beak Depth (mm)\": 17.8, \"Flipper Length (mm)\": 191.0, \"Body Mass (g)\": 3700.0, \"Sex\": \"FEMALE\"}, {\"Species\": \"Chinstrap\", \"Island\": \"Dream\", \"Beak Length (mm)\": 52.8, \"Beak Depth (mm)\": 20.0, \"Flipper Length (mm)\": 205.0, \"Body Mass (g)\": 4550.0, \"Sex\": \"MALE\"}, {\"Species\": \"Chinstrap\", \"Island\": \"Dream\", \"Beak Length (mm)\": 40.9, \"Beak Depth (mm)\": 16.6, \"Flipper Length (mm)\": 187.0, \"Body Mass (g)\": 3200.0, \"Sex\": \"FEMALE\"}, {\"Species\": \"Chinstrap\", \"Island\": \"Dream\", \"Beak Length (mm)\": 54.2, \"Beak Depth (mm)\": 20.8, \"Flipper Length (mm)\": 201.0, \"Body Mass (g)\": 4300.0, \"Sex\": \"MALE\"}, {\"Species\": \"Chinstrap\", \"Island\": \"Dream\", \"Beak Length (mm)\": 42.5, \"Beak Depth (mm)\": 16.7, \"Flipper Length (mm)\": 187.0, \"Body Mass (g)\": 3350.0, \"Sex\": \"FEMALE\"}, {\"Species\": \"Chinstrap\", \"Island\": \"Dream\", \"Beak Length (mm)\": 51.0, \"Beak Depth (mm)\": 18.8, \"Flipper Length (mm)\": 203.0, \"Body Mass (g)\": 4100.0, \"Sex\": \"MALE\"}, {\"Species\": \"Chinstrap\", \"Island\": \"Dream\", \"Beak Length (mm)\": 49.7, \"Beak Depth (mm)\": 18.6, \"Flipper Length (mm)\": 195.0, \"Body Mass (g)\": 3600.0, \"Sex\": \"MALE\"}, {\"Species\": \"Chinstrap\", \"Island\": \"Dream\", \"Beak Length (mm)\": 47.5, \"Beak Depth (mm)\": 16.8, \"Flipper Length (mm)\": 199.0, \"Body Mass (g)\": 3900.0, \"Sex\": \"FEMALE\"}, {\"Species\": \"Chinstrap\", \"Island\": \"Dream\", \"Beak Length (mm)\": 47.6, \"Beak Depth (mm)\": 18.3, \"Flipper Length (mm)\": 195.0, \"Body Mass (g)\": 3850.0, \"Sex\": \"FEMALE\"}, {\"Species\": \"Chinstrap\", \"Island\": \"Dream\", \"Beak Length (mm)\": 52.0, \"Beak Depth (mm)\": 20.7, \"Flipper Length (mm)\": 210.0, \"Body Mass (g)\": 4800.0, \"Sex\": \"MALE\"}, {\"Species\": \"Chinstrap\", \"Island\": \"Dream\", \"Beak Length (mm)\": 46.9, \"Beak Depth (mm)\": 16.6, \"Flipper Length (mm)\": 192.0, \"Body Mass (g)\": 2700.0, \"Sex\": \"FEMALE\"}, {\"Species\": \"Chinstrap\", \"Island\": \"Dream\", \"Beak Length (mm)\": 53.5, \"Beak Depth (mm)\": 19.9, \"Flipper Length (mm)\": 205.0, \"Body Mass (g)\": 4500.0, \"Sex\": \"MALE\"}, {\"Species\": \"Chinstrap\", \"Island\": \"Dream\", \"Beak Length (mm)\": 49.0, \"Beak Depth (mm)\": 19.5, \"Flipper Length (mm)\": 210.0, \"Body Mass (g)\": 3950.0, \"Sex\": \"MALE\"}, {\"Species\": \"Chinstrap\", \"Island\": \"Dream\", \"Beak Length (mm)\": 46.2, \"Beak Depth (mm)\": 17.5, \"Flipper Length (mm)\": 187.0, \"Body Mass (g)\": 3650.0, \"Sex\": \"FEMALE\"}, {\"Species\": \"Chinstrap\", \"Island\": \"Dream\", \"Beak Length (mm)\": 50.9, \"Beak Depth (mm)\": 19.1, \"Flipper Length (mm)\": 196.0, \"Body Mass (g)\": 3550.0, \"Sex\": \"MALE\"}, {\"Species\": \"Chinstrap\", \"Island\": \"Dream\", \"Beak Length (mm)\": 45.5, \"Beak Depth (mm)\": 17.0, \"Flipper Length (mm)\": 196.0, \"Body Mass (g)\": 3500.0, \"Sex\": \"FEMALE\"}, {\"Species\": \"Chinstrap\", \"Island\": \"Dream\", \"Beak Length (mm)\": 50.9, \"Beak Depth (mm)\": 17.9, \"Flipper Length (mm)\": 196.0, \"Body Mass (g)\": 3675.0, \"Sex\": \"FEMALE\"}, {\"Species\": \"Chinstrap\", \"Island\": \"Dream\", \"Beak Length (mm)\": 50.8, \"Beak Depth (mm)\": 18.5, \"Flipper Length (mm)\": 201.0, \"Body Mass (g)\": 4450.0, \"Sex\": \"MALE\"}, {\"Species\": \"Chinstrap\", \"Island\": \"Dream\", \"Beak Length (mm)\": 50.1, \"Beak Depth (mm)\": 17.9, \"Flipper Length (mm)\": 190.0, \"Body Mass (g)\": 3400.0, \"Sex\": \"FEMALE\"}, {\"Species\": \"Chinstrap\", \"Island\": \"Dream\", \"Beak Length (mm)\": 49.0, \"Beak Depth (mm)\": 19.6, \"Flipper Length (mm)\": 212.0, \"Body Mass (g)\": 4300.0, \"Sex\": \"MALE\"}, {\"Species\": \"Chinstrap\", \"Island\": \"Dream\", \"Beak Length (mm)\": 51.5, \"Beak Depth (mm)\": 18.7, \"Flipper Length (mm)\": 187.0, \"Body Mass (g)\": 3250.0, \"Sex\": \"MALE\"}, {\"Species\": \"Chinstrap\", \"Island\": \"Dream\", \"Beak Length (mm)\": 49.8, \"Beak Depth (mm)\": 17.3, \"Flipper Length (mm)\": 198.0, \"Body Mass (g)\": 3675.0, \"Sex\": \"FEMALE\"}, {\"Species\": \"Chinstrap\", \"Island\": \"Dream\", \"Beak Length (mm)\": 48.1, \"Beak Depth (mm)\": 16.4, \"Flipper Length (mm)\": 199.0, \"Body Mass (g)\": 3325.0, \"Sex\": \"FEMALE\"}, {\"Species\": \"Chinstrap\", \"Island\": \"Dream\", \"Beak Length (mm)\": 51.4, \"Beak Depth (mm)\": 19.0, \"Flipper Length (mm)\": 201.0, \"Body Mass (g)\": 3950.0, \"Sex\": \"MALE\"}, {\"Species\": \"Chinstrap\", \"Island\": \"Dream\", \"Beak Length (mm)\": 45.7, \"Beak Depth (mm)\": 17.3, \"Flipper Length (mm)\": 193.0, \"Body Mass (g)\": 3600.0, \"Sex\": \"FEMALE\"}, {\"Species\": \"Chinstrap\", \"Island\": \"Dream\", \"Beak Length (mm)\": 50.7, \"Beak Depth (mm)\": 19.7, \"Flipper Length (mm)\": 203.0, \"Body Mass (g)\": 4050.0, \"Sex\": \"MALE\"}, {\"Species\": \"Chinstrap\", \"Island\": \"Dream\", \"Beak Length (mm)\": 42.5, \"Beak Depth (mm)\": 17.3, \"Flipper Length (mm)\": 187.0, \"Body Mass (g)\": 3350.0, \"Sex\": \"FEMALE\"}, {\"Species\": \"Chinstrap\", \"Island\": \"Dream\", \"Beak Length (mm)\": 52.2, \"Beak Depth (mm)\": 18.8, \"Flipper Length (mm)\": 197.0, \"Body Mass (g)\": 3450.0, \"Sex\": \"MALE\"}, {\"Species\": \"Chinstrap\", \"Island\": \"Dream\", \"Beak Length (mm)\": 45.2, \"Beak Depth (mm)\": 16.6, \"Flipper Length (mm)\": 191.0, \"Body Mass (g)\": 3250.0, \"Sex\": \"FEMALE\"}, {\"Species\": \"Chinstrap\", \"Island\": \"Dream\", \"Beak Length (mm)\": 49.3, \"Beak Depth (mm)\": 19.9, \"Flipper Length (mm)\": 203.0, \"Body Mass (g)\": 4050.0, \"Sex\": \"MALE\"}, {\"Species\": \"Chinstrap\", \"Island\": \"Dream\", \"Beak Length (mm)\": 50.2, \"Beak Depth (mm)\": 18.8, \"Flipper Length (mm)\": 202.0, \"Body Mass (g)\": 3800.0, \"Sex\": \"MALE\"}, {\"Species\": \"Chinstrap\", \"Island\": \"Dream\", \"Beak Length (mm)\": 45.6, \"Beak Depth (mm)\": 19.4, \"Flipper Length (mm)\": 194.0, \"Body Mass (g)\": 3525.0, \"Sex\": \"FEMALE\"}, {\"Species\": \"Chinstrap\", \"Island\": \"Dream\", \"Beak Length (mm)\": 51.9, \"Beak Depth (mm)\": 19.5, \"Flipper Length (mm)\": 206.0, \"Body Mass (g)\": 3950.0, \"Sex\": \"MALE\"}, {\"Species\": \"Chinstrap\", \"Island\": \"Dream\", \"Beak Length (mm)\": 46.8, \"Beak Depth (mm)\": 16.5, \"Flipper Length (mm)\": 189.0, \"Body Mass (g)\": 3650.0, \"Sex\": \"FEMALE\"}, {\"Species\": \"Chinstrap\", \"Island\": \"Dream\", \"Beak Length (mm)\": 45.7, \"Beak Depth (mm)\": 17.0, \"Flipper Length (mm)\": 195.0, \"Body Mass (g)\": 3650.0, \"Sex\": \"FEMALE\"}, {\"Species\": \"Chinstrap\", \"Island\": \"Dream\", \"Beak Length (mm)\": 55.8, \"Beak Depth (mm)\": 19.8, \"Flipper Length (mm)\": 207.0, \"Body Mass (g)\": 4000.0, \"Sex\": \"MALE\"}, {\"Species\": \"Chinstrap\", \"Island\": \"Dream\", \"Beak Length (mm)\": 43.5, \"Beak Depth (mm)\": 18.1, \"Flipper Length (mm)\": 202.0, \"Body Mass (g)\": 3400.0, \"Sex\": \"FEMALE\"}, {\"Species\": \"Chinstrap\", \"Island\": \"Dream\", \"Beak Length (mm)\": 49.6, \"Beak Depth (mm)\": 18.2, \"Flipper Length (mm)\": 193.0, \"Body Mass (g)\": 3775.0, \"Sex\": \"MALE\"}, {\"Species\": \"Chinstrap\", \"Island\": \"Dream\", \"Beak Length (mm)\": 50.8, \"Beak Depth (mm)\": 19.0, \"Flipper Length (mm)\": 210.0, \"Body Mass (g)\": 4100.0, \"Sex\": \"MALE\"}, {\"Species\": \"Chinstrap\", \"Island\": \"Dream\", \"Beak Length (mm)\": 50.2, \"Beak Depth (mm)\": 18.7, \"Flipper Length (mm)\": 198.0, \"Body Mass (g)\": 3775.0, \"Sex\": \"FEMALE\"}, {\"Species\": \"Gentoo\", \"Island\": \"Biscoe\", \"Beak Length (mm)\": 46.1, \"Beak Depth (mm)\": 13.2, \"Flipper Length (mm)\": 211.0, \"Body Mass (g)\": 4500.0, \"Sex\": \"FEMALE\"}, {\"Species\": \"Gentoo\", \"Island\": \"Biscoe\", \"Beak Length (mm)\": 50.0, \"Beak Depth (mm)\": 16.3, \"Flipper Length (mm)\": 230.0, \"Body Mass (g)\": 5700.0, \"Sex\": \"MALE\"}, {\"Species\": \"Gentoo\", \"Island\": \"Biscoe\", \"Beak Length (mm)\": 48.7, \"Beak Depth (mm)\": 14.1, \"Flipper Length (mm)\": 210.0, \"Body Mass (g)\": 4450.0, \"Sex\": \"FEMALE\"}, {\"Species\": \"Gentoo\", \"Island\": \"Biscoe\", \"Beak Length (mm)\": 50.0, \"Beak Depth (mm)\": 15.2, \"Flipper Length (mm)\": 218.0, \"Body Mass (g)\": 5700.0, \"Sex\": \"MALE\"}, {\"Species\": \"Gentoo\", \"Island\": \"Biscoe\", \"Beak Length (mm)\": 47.6, \"Beak Depth (mm)\": 14.5, \"Flipper Length (mm)\": 215.0, \"Body Mass (g)\": 5400.0, \"Sex\": \"MALE\"}, {\"Species\": \"Gentoo\", \"Island\": \"Biscoe\", \"Beak Length (mm)\": 46.5, \"Beak Depth (mm)\": 13.5, \"Flipper Length (mm)\": 210.0, \"Body Mass (g)\": 4550.0, \"Sex\": \"FEMALE\"}, {\"Species\": \"Gentoo\", \"Island\": \"Biscoe\", \"Beak Length (mm)\": 45.4, \"Beak Depth (mm)\": 14.6, \"Flipper Length (mm)\": 211.0, \"Body Mass (g)\": 4800.0, \"Sex\": \"FEMALE\"}, {\"Species\": \"Gentoo\", \"Island\": \"Biscoe\", \"Beak Length (mm)\": 46.7, \"Beak Depth (mm)\": 15.3, \"Flipper Length (mm)\": 219.0, \"Body Mass (g)\": 5200.0, \"Sex\": \"MALE\"}, {\"Species\": \"Gentoo\", \"Island\": \"Biscoe\", \"Beak Length (mm)\": 43.3, \"Beak Depth (mm)\": 13.4, \"Flipper Length (mm)\": 209.0, \"Body Mass (g)\": 4400.0, \"Sex\": \"FEMALE\"}, {\"Species\": \"Gentoo\", \"Island\": \"Biscoe\", \"Beak Length (mm)\": 46.8, \"Beak Depth (mm)\": 15.4, \"Flipper Length (mm)\": 215.0, \"Body Mass (g)\": 5150.0, \"Sex\": \"MALE\"}, {\"Species\": \"Gentoo\", \"Island\": \"Biscoe\", \"Beak Length (mm)\": 40.9, \"Beak Depth (mm)\": 13.7, \"Flipper Length (mm)\": 214.0, \"Body Mass (g)\": 4650.0, \"Sex\": \"FEMALE\"}, {\"Species\": \"Gentoo\", \"Island\": \"Biscoe\", \"Beak Length (mm)\": 49.0, \"Beak Depth (mm)\": 16.1, \"Flipper Length (mm)\": 216.0, \"Body Mass (g)\": 5550.0, \"Sex\": \"MALE\"}, {\"Species\": \"Gentoo\", \"Island\": \"Biscoe\", \"Beak Length (mm)\": 45.5, \"Beak Depth (mm)\": 13.7, \"Flipper Length (mm)\": 214.0, \"Body Mass (g)\": 4650.0, \"Sex\": \"FEMALE\"}, {\"Species\": \"Gentoo\", \"Island\": \"Biscoe\", \"Beak Length (mm)\": 48.4, \"Beak Depth (mm)\": 14.6, \"Flipper Length (mm)\": 213.0, \"Body Mass (g)\": 5850.0, \"Sex\": \"MALE\"}, {\"Species\": \"Gentoo\", \"Island\": \"Biscoe\", \"Beak Length (mm)\": 45.8, \"Beak Depth (mm)\": 14.6, \"Flipper Length (mm)\": 210.0, \"Body Mass (g)\": 4200.0, \"Sex\": \"FEMALE\"}, {\"Species\": \"Gentoo\", \"Island\": \"Biscoe\", \"Beak Length (mm)\": 49.3, \"Beak Depth (mm)\": 15.7, \"Flipper Length (mm)\": 217.0, \"Body Mass (g)\": 5850.0, \"Sex\": \"MALE\"}, {\"Species\": \"Gentoo\", \"Island\": \"Biscoe\", \"Beak Length (mm)\": 42.0, \"Beak Depth (mm)\": 13.5, \"Flipper Length (mm)\": 210.0, \"Body Mass (g)\": 4150.0, \"Sex\": \"FEMALE\"}, {\"Species\": \"Gentoo\", \"Island\": \"Biscoe\", \"Beak Length (mm)\": 49.2, \"Beak Depth (mm)\": 15.2, \"Flipper Length (mm)\": 221.0, \"Body Mass (g)\": 6300.0, \"Sex\": \"MALE\"}, {\"Species\": \"Gentoo\", \"Island\": \"Biscoe\", \"Beak Length (mm)\": 46.2, \"Beak Depth (mm)\": 14.5, \"Flipper Length (mm)\": 209.0, \"Body Mass (g)\": 4800.0, \"Sex\": \"FEMALE\"}, {\"Species\": \"Gentoo\", \"Island\": \"Biscoe\", \"Beak Length (mm)\": 48.7, \"Beak Depth (mm)\": 15.1, \"Flipper Length (mm)\": 222.0, \"Body Mass (g)\": 5350.0, \"Sex\": \"MALE\"}, {\"Species\": \"Gentoo\", \"Island\": \"Biscoe\", \"Beak Length (mm)\": 50.2, \"Beak Depth (mm)\": 14.3, \"Flipper Length (mm)\": 218.0, \"Body Mass (g)\": 5700.0, \"Sex\": \"MALE\"}, {\"Species\": \"Gentoo\", \"Island\": \"Biscoe\", \"Beak Length (mm)\": 45.1, \"Beak Depth (mm)\": 14.5, \"Flipper Length (mm)\": 215.0, \"Body Mass (g)\": 5000.0, \"Sex\": \"FEMALE\"}, {\"Species\": \"Gentoo\", \"Island\": \"Biscoe\", \"Beak Length (mm)\": 46.5, \"Beak Depth (mm)\": 14.5, \"Flipper Length (mm)\": 213.0, \"Body Mass (g)\": 4400.0, \"Sex\": \"FEMALE\"}, {\"Species\": \"Gentoo\", \"Island\": \"Biscoe\", \"Beak Length (mm)\": 46.3, \"Beak Depth (mm)\": 15.8, \"Flipper Length (mm)\": 215.0, \"Body Mass (g)\": 5050.0, \"Sex\": \"MALE\"}, {\"Species\": \"Gentoo\", \"Island\": \"Biscoe\", \"Beak Length (mm)\": 42.9, \"Beak Depth (mm)\": 13.1, \"Flipper Length (mm)\": 215.0, \"Body Mass (g)\": 5000.0, \"Sex\": \"FEMALE\"}, {\"Species\": \"Gentoo\", \"Island\": \"Biscoe\", \"Beak Length (mm)\": 46.1, \"Beak Depth (mm)\": 15.1, \"Flipper Length (mm)\": 215.0, \"Body Mass (g)\": 5100.0, \"Sex\": \"MALE\"}, {\"Species\": \"Gentoo\", \"Island\": \"Biscoe\", \"Beak Length (mm)\": 44.5, \"Beak Depth (mm)\": 14.3, \"Flipper Length (mm)\": 216.0, \"Body Mass (g)\": 4100.0, \"Sex\": null}, {\"Species\": \"Gentoo\", \"Island\": \"Biscoe\", \"Beak Length (mm)\": 47.8, \"Beak Depth (mm)\": 15.0, \"Flipper Length (mm)\": 215.0, \"Body Mass (g)\": 5650.0, \"Sex\": \"MALE\"}, {\"Species\": \"Gentoo\", \"Island\": \"Biscoe\", \"Beak Length (mm)\": 48.2, \"Beak Depth (mm)\": 14.3, \"Flipper Length (mm)\": 210.0, \"Body Mass (g)\": 4600.0, \"Sex\": \"FEMALE\"}, {\"Species\": \"Gentoo\", \"Island\": \"Biscoe\", \"Beak Length (mm)\": 50.0, \"Beak Depth (mm)\": 15.3, \"Flipper Length (mm)\": 220.0, \"Body Mass (g)\": 5550.0, \"Sex\": \"MALE\"}, {\"Species\": \"Gentoo\", \"Island\": \"Biscoe\", \"Beak Length (mm)\": 47.3, \"Beak Depth (mm)\": 15.3, \"Flipper Length (mm)\": 222.0, \"Body Mass (g)\": 5250.0, \"Sex\": \"MALE\"}, {\"Species\": \"Gentoo\", \"Island\": \"Biscoe\", \"Beak Length (mm)\": 42.8, \"Beak Depth (mm)\": 14.2, \"Flipper Length (mm)\": 209.0, \"Body Mass (g)\": 4700.0, \"Sex\": \"FEMALE\"}, {\"Species\": \"Gentoo\", \"Island\": \"Biscoe\", \"Beak Length (mm)\": 45.1, \"Beak Depth (mm)\": 14.5, \"Flipper Length (mm)\": 207.0, \"Body Mass (g)\": 5050.0, \"Sex\": \"FEMALE\"}, {\"Species\": \"Gentoo\", \"Island\": \"Biscoe\", \"Beak Length (mm)\": 59.6, \"Beak Depth (mm)\": 17.0, \"Flipper Length (mm)\": 230.0, \"Body Mass (g)\": 6050.0, \"Sex\": \"MALE\"}, {\"Species\": \"Gentoo\", \"Island\": \"Biscoe\", \"Beak Length (mm)\": 49.1, \"Beak Depth (mm)\": 14.8, \"Flipper Length (mm)\": 220.0, \"Body Mass (g)\": 5150.0, \"Sex\": \"FEMALE\"}, {\"Species\": \"Gentoo\", \"Island\": \"Biscoe\", \"Beak Length (mm)\": 48.4, \"Beak Depth (mm)\": 16.3, \"Flipper Length (mm)\": 220.0, \"Body Mass (g)\": 5400.0, \"Sex\": \"MALE\"}, {\"Species\": \"Gentoo\", \"Island\": \"Biscoe\", \"Beak Length (mm)\": 42.6, \"Beak Depth (mm)\": 13.7, \"Flipper Length (mm)\": 213.0, \"Body Mass (g)\": 4950.0, \"Sex\": \"FEMALE\"}, {\"Species\": \"Gentoo\", \"Island\": \"Biscoe\", \"Beak Length (mm)\": 44.4, \"Beak Depth (mm)\": 17.3, \"Flipper Length (mm)\": 219.0, \"Body Mass (g)\": 5250.0, \"Sex\": \"MALE\"}, {\"Species\": \"Gentoo\", \"Island\": \"Biscoe\", \"Beak Length (mm)\": 44.0, \"Beak Depth (mm)\": 13.6, \"Flipper Length (mm)\": 208.0, \"Body Mass (g)\": 4350.0, \"Sex\": \"FEMALE\"}, {\"Species\": \"Gentoo\", \"Island\": \"Biscoe\", \"Beak Length (mm)\": 48.7, \"Beak Depth (mm)\": 15.7, \"Flipper Length (mm)\": 208.0, \"Body Mass (g)\": 5350.0, \"Sex\": \"MALE\"}, {\"Species\": \"Gentoo\", \"Island\": \"Biscoe\", \"Beak Length (mm)\": 42.7, \"Beak Depth (mm)\": 13.7, \"Flipper Length (mm)\": 208.0, \"Body Mass (g)\": 3950.0, \"Sex\": \"FEMALE\"}, {\"Species\": \"Gentoo\", \"Island\": \"Biscoe\", \"Beak Length (mm)\": 49.6, \"Beak Depth (mm)\": 16.0, \"Flipper Length (mm)\": 225.0, \"Body Mass (g)\": 5700.0, \"Sex\": \"MALE\"}, {\"Species\": \"Gentoo\", \"Island\": \"Biscoe\", \"Beak Length (mm)\": 45.3, \"Beak Depth (mm)\": 13.7, \"Flipper Length (mm)\": 210.0, \"Body Mass (g)\": 4300.0, \"Sex\": \"FEMALE\"}, {\"Species\": \"Gentoo\", \"Island\": \"Biscoe\", \"Beak Length (mm)\": 49.6, \"Beak Depth (mm)\": 15.0, \"Flipper Length (mm)\": 216.0, \"Body Mass (g)\": 4750.0, \"Sex\": \"MALE\"}, {\"Species\": \"Gentoo\", \"Island\": \"Biscoe\", \"Beak Length (mm)\": 50.5, \"Beak Depth (mm)\": 15.9, \"Flipper Length (mm)\": 222.0, \"Body Mass (g)\": 5550.0, \"Sex\": \"MALE\"}, {\"Species\": \"Gentoo\", \"Island\": \"Biscoe\", \"Beak Length (mm)\": 43.6, \"Beak Depth (mm)\": 13.9, \"Flipper Length (mm)\": 217.0, \"Body Mass (g)\": 4900.0, \"Sex\": \"FEMALE\"}, {\"Species\": \"Gentoo\", \"Island\": \"Biscoe\", \"Beak Length (mm)\": 45.5, \"Beak Depth (mm)\": 13.9, \"Flipper Length (mm)\": 210.0, \"Body Mass (g)\": 4200.0, \"Sex\": \"FEMALE\"}, {\"Species\": \"Gentoo\", \"Island\": \"Biscoe\", \"Beak Length (mm)\": 50.5, \"Beak Depth (mm)\": 15.9, \"Flipper Length (mm)\": 225.0, \"Body Mass (g)\": 5400.0, \"Sex\": \"MALE\"}, {\"Species\": \"Gentoo\", \"Island\": \"Biscoe\", \"Beak Length (mm)\": 44.9, \"Beak Depth (mm)\": 13.3, \"Flipper Length (mm)\": 213.0, \"Body Mass (g)\": 5100.0, \"Sex\": \"FEMALE\"}, {\"Species\": \"Gentoo\", \"Island\": \"Biscoe\", \"Beak Length (mm)\": 45.2, \"Beak Depth (mm)\": 15.8, \"Flipper Length (mm)\": 215.0, \"Body Mass (g)\": 5300.0, \"Sex\": \"MALE\"}, {\"Species\": \"Gentoo\", \"Island\": \"Biscoe\", \"Beak Length (mm)\": 46.6, \"Beak Depth (mm)\": 14.2, \"Flipper Length (mm)\": 210.0, \"Body Mass (g)\": 4850.0, \"Sex\": \"FEMALE\"}, {\"Species\": \"Gentoo\", \"Island\": \"Biscoe\", \"Beak Length (mm)\": 48.5, \"Beak Depth (mm)\": 14.1, \"Flipper Length (mm)\": 220.0, \"Body Mass (g)\": 5300.0, \"Sex\": \"MALE\"}, {\"Species\": \"Gentoo\", \"Island\": \"Biscoe\", \"Beak Length (mm)\": 45.1, \"Beak Depth (mm)\": 14.4, \"Flipper Length (mm)\": 210.0, \"Body Mass (g)\": 4400.0, \"Sex\": \"FEMALE\"}, {\"Species\": \"Gentoo\", \"Island\": \"Biscoe\", \"Beak Length (mm)\": 50.1, \"Beak Depth (mm)\": 15.0, \"Flipper Length (mm)\": 225.0, \"Body Mass (g)\": 5000.0, \"Sex\": \"MALE\"}, {\"Species\": \"Gentoo\", \"Island\": \"Biscoe\", \"Beak Length (mm)\": 46.5, \"Beak Depth (mm)\": 14.4, \"Flipper Length (mm)\": 217.0, \"Body Mass (g)\": 4900.0, \"Sex\": \"FEMALE\"}, {\"Species\": \"Gentoo\", \"Island\": \"Biscoe\", \"Beak Length (mm)\": 45.0, \"Beak Depth (mm)\": 15.4, \"Flipper Length (mm)\": 220.0, \"Body Mass (g)\": 5050.0, \"Sex\": \"MALE\"}, {\"Species\": \"Gentoo\", \"Island\": \"Biscoe\", \"Beak Length (mm)\": 43.8, \"Beak Depth (mm)\": 13.9, \"Flipper Length (mm)\": 208.0, \"Body Mass (g)\": 4300.0, \"Sex\": \"FEMALE\"}, {\"Species\": \"Gentoo\", \"Island\": \"Biscoe\", \"Beak Length (mm)\": 45.5, \"Beak Depth (mm)\": 15.0, \"Flipper Length (mm)\": 220.0, \"Body Mass (g)\": 5000.0, \"Sex\": \"MALE\"}, {\"Species\": \"Gentoo\", \"Island\": \"Biscoe\", \"Beak Length (mm)\": 43.2, \"Beak Depth (mm)\": 14.5, \"Flipper Length (mm)\": 208.0, \"Body Mass (g)\": 4450.0, \"Sex\": \"FEMALE\"}, {\"Species\": \"Gentoo\", \"Island\": \"Biscoe\", \"Beak Length (mm)\": 50.4, \"Beak Depth (mm)\": 15.3, \"Flipper Length (mm)\": 224.0, \"Body Mass (g)\": 5550.0, \"Sex\": \"MALE\"}, {\"Species\": \"Gentoo\", \"Island\": \"Biscoe\", \"Beak Length (mm)\": 45.3, \"Beak Depth (mm)\": 13.8, \"Flipper Length (mm)\": 208.0, \"Body Mass (g)\": 4200.0, \"Sex\": \"FEMALE\"}, {\"Species\": \"Gentoo\", \"Island\": \"Biscoe\", \"Beak Length (mm)\": 46.2, \"Beak Depth (mm)\": 14.9, \"Flipper Length (mm)\": 221.0, \"Body Mass (g)\": 5300.0, \"Sex\": \"MALE\"}, {\"Species\": \"Gentoo\", \"Island\": \"Biscoe\", \"Beak Length (mm)\": 45.7, \"Beak Depth (mm)\": 13.9, \"Flipper Length (mm)\": 214.0, \"Body Mass (g)\": 4400.0, \"Sex\": \"FEMALE\"}, {\"Species\": \"Gentoo\", \"Island\": \"Biscoe\", \"Beak Length (mm)\": 54.3, \"Beak Depth (mm)\": 15.7, \"Flipper Length (mm)\": 231.0, \"Body Mass (g)\": 5650.0, \"Sex\": \"MALE\"}, {\"Species\": \"Gentoo\", \"Island\": \"Biscoe\", \"Beak Length (mm)\": 45.8, \"Beak Depth (mm)\": 14.2, \"Flipper Length (mm)\": 219.0, \"Body Mass (g)\": 4700.0, \"Sex\": \"FEMALE\"}, {\"Species\": \"Gentoo\", \"Island\": \"Biscoe\", \"Beak Length (mm)\": 49.8, \"Beak Depth (mm)\": 16.8, \"Flipper Length (mm)\": 230.0, \"Body Mass (g)\": 5700.0, \"Sex\": \"MALE\"}, {\"Species\": \"Gentoo\", \"Island\": \"Biscoe\", \"Beak Length (mm)\": 46.2, \"Beak Depth (mm)\": 14.4, \"Flipper Length (mm)\": 214.0, \"Body Mass (g)\": 4650.0, \"Sex\": null}, {\"Species\": \"Gentoo\", \"Island\": \"Biscoe\", \"Beak Length (mm)\": 49.5, \"Beak Depth (mm)\": 16.2, \"Flipper Length (mm)\": 229.0, \"Body Mass (g)\": 5800.0, \"Sex\": \"MALE\"}, {\"Species\": \"Gentoo\", \"Island\": \"Biscoe\", \"Beak Length (mm)\": 43.5, \"Beak Depth (mm)\": 14.2, \"Flipper Length (mm)\": 220.0, \"Body Mass (g)\": 4700.0, \"Sex\": \"FEMALE\"}, {\"Species\": \"Gentoo\", \"Island\": \"Biscoe\", \"Beak Length (mm)\": 50.7, \"Beak Depth (mm)\": 15.0, \"Flipper Length (mm)\": 223.0, \"Body Mass (g)\": 5550.0, \"Sex\": \"MALE\"}, {\"Species\": \"Gentoo\", \"Island\": \"Biscoe\", \"Beak Length (mm)\": 47.7, \"Beak Depth (mm)\": 15.0, \"Flipper Length (mm)\": 216.0, \"Body Mass (g)\": 4750.0, \"Sex\": \"FEMALE\"}, {\"Species\": \"Gentoo\", \"Island\": \"Biscoe\", \"Beak Length (mm)\": 46.4, \"Beak Depth (mm)\": 15.6, \"Flipper Length (mm)\": 221.0, \"Body Mass (g)\": 5000.0, \"Sex\": \"MALE\"}, {\"Species\": \"Gentoo\", \"Island\": \"Biscoe\", \"Beak Length (mm)\": 48.2, \"Beak Depth (mm)\": 15.6, \"Flipper Length (mm)\": 221.0, \"Body Mass (g)\": 5100.0, \"Sex\": \"MALE\"}, {\"Species\": \"Gentoo\", \"Island\": \"Biscoe\", \"Beak Length (mm)\": 46.5, \"Beak Depth (mm)\": 14.8, \"Flipper Length (mm)\": 217.0, \"Body Mass (g)\": 5200.0, \"Sex\": \"FEMALE\"}, {\"Species\": \"Gentoo\", \"Island\": \"Biscoe\", \"Beak Length (mm)\": 46.4, \"Beak Depth (mm)\": 15.0, \"Flipper Length (mm)\": 216.0, \"Body Mass (g)\": 4700.0, \"Sex\": \"FEMALE\"}, {\"Species\": \"Gentoo\", \"Island\": \"Biscoe\", \"Beak Length (mm)\": 48.6, \"Beak Depth (mm)\": 16.0, \"Flipper Length (mm)\": 230.0, \"Body Mass (g)\": 5800.0, \"Sex\": \"MALE\"}, {\"Species\": \"Gentoo\", \"Island\": \"Biscoe\", \"Beak Length (mm)\": 47.5, \"Beak Depth (mm)\": 14.2, \"Flipper Length (mm)\": 209.0, \"Body Mass (g)\": 4600.0, \"Sex\": \"FEMALE\"}, {\"Species\": \"Gentoo\", \"Island\": \"Biscoe\", \"Beak Length (mm)\": 51.1, \"Beak Depth (mm)\": 16.3, \"Flipper Length (mm)\": 220.0, \"Body Mass (g)\": 6000.0, \"Sex\": \"MALE\"}, {\"Species\": \"Gentoo\", \"Island\": \"Biscoe\", \"Beak Length (mm)\": 45.2, \"Beak Depth (mm)\": 13.8, \"Flipper Length (mm)\": 215.0, \"Body Mass (g)\": 4750.0, \"Sex\": \"FEMALE\"}, {\"Species\": \"Gentoo\", \"Island\": \"Biscoe\", \"Beak Length (mm)\": 45.2, \"Beak Depth (mm)\": 16.4, \"Flipper Length (mm)\": 223.0, \"Body Mass (g)\": 5950.0, \"Sex\": \"MALE\"}, {\"Species\": \"Gentoo\", \"Island\": \"Biscoe\", \"Beak Length (mm)\": 49.1, \"Beak Depth (mm)\": 14.5, \"Flipper Length (mm)\": 212.0, \"Body Mass (g)\": 4625.0, \"Sex\": \"FEMALE\"}, {\"Species\": \"Gentoo\", \"Island\": \"Biscoe\", \"Beak Length (mm)\": 52.5, \"Beak Depth (mm)\": 15.6, \"Flipper Length (mm)\": 221.0, \"Body Mass (g)\": 5450.0, \"Sex\": \"MALE\"}, {\"Species\": \"Gentoo\", \"Island\": \"Biscoe\", \"Beak Length (mm)\": 47.4, \"Beak Depth (mm)\": 14.6, \"Flipper Length (mm)\": 212.0, \"Body Mass (g)\": 4725.0, \"Sex\": \"FEMALE\"}, {\"Species\": \"Gentoo\", \"Island\": \"Biscoe\", \"Beak Length (mm)\": 50.0, \"Beak Depth (mm)\": 15.9, \"Flipper Length (mm)\": 224.0, \"Body Mass (g)\": 5350.0, \"Sex\": \"MALE\"}, {\"Species\": \"Gentoo\", \"Island\": \"Biscoe\", \"Beak Length (mm)\": 44.9, \"Beak Depth (mm)\": 13.8, \"Flipper Length (mm)\": 212.0, \"Body Mass (g)\": 4750.0, \"Sex\": \"FEMALE\"}, {\"Species\": \"Gentoo\", \"Island\": \"Biscoe\", \"Beak Length (mm)\": 50.8, \"Beak Depth (mm)\": 17.3, \"Flipper Length (mm)\": 228.0, \"Body Mass (g)\": 5600.0, \"Sex\": \"MALE\"}, {\"Species\": \"Gentoo\", \"Island\": \"Biscoe\", \"Beak Length (mm)\": 43.4, \"Beak Depth (mm)\": 14.4, \"Flipper Length (mm)\": 218.0, \"Body Mass (g)\": 4600.0, \"Sex\": \"FEMALE\"}, {\"Species\": \"Gentoo\", \"Island\": \"Biscoe\", \"Beak Length (mm)\": 51.3, \"Beak Depth (mm)\": 14.2, \"Flipper Length (mm)\": 218.0, \"Body Mass (g)\": 5300.0, \"Sex\": \"MALE\"}, {\"Species\": \"Gentoo\", \"Island\": \"Biscoe\", \"Beak Length (mm)\": 47.5, \"Beak Depth (mm)\": 14.0, \"Flipper Length (mm)\": 212.0, \"Body Mass (g)\": 4875.0, \"Sex\": \"FEMALE\"}, {\"Species\": \"Gentoo\", \"Island\": \"Biscoe\", \"Beak Length (mm)\": 52.1, \"Beak Depth (mm)\": 17.0, \"Flipper Length (mm)\": 230.0, \"Body Mass (g)\": 5550.0, \"Sex\": \"MALE\"}, {\"Species\": \"Gentoo\", \"Island\": \"Biscoe\", \"Beak Length (mm)\": 47.5, \"Beak Depth (mm)\": 15.0, \"Flipper Length (mm)\": 218.0, \"Body Mass (g)\": 4950.0, \"Sex\": \"FEMALE\"}, {\"Species\": \"Gentoo\", \"Island\": \"Biscoe\", \"Beak Length (mm)\": 52.2, \"Beak Depth (mm)\": 17.1, \"Flipper Length (mm)\": 228.0, \"Body Mass (g)\": 5400.0, \"Sex\": \"MALE\"}, {\"Species\": \"Gentoo\", \"Island\": \"Biscoe\", \"Beak Length (mm)\": 45.5, \"Beak Depth (mm)\": 14.5, \"Flipper Length (mm)\": 212.0, \"Body Mass (g)\": 4750.0, \"Sex\": \"FEMALE\"}, {\"Species\": \"Gentoo\", \"Island\": \"Biscoe\", \"Beak Length (mm)\": 49.5, \"Beak Depth (mm)\": 16.1, \"Flipper Length (mm)\": 224.0, \"Body Mass (g)\": 5650.0, \"Sex\": \"MALE\"}, {\"Species\": \"Gentoo\", \"Island\": \"Biscoe\", \"Beak Length (mm)\": 44.5, \"Beak Depth (mm)\": 14.7, \"Flipper Length (mm)\": 214.0, \"Body Mass (g)\": 4850.0, \"Sex\": \"FEMALE\"}, {\"Species\": \"Gentoo\", \"Island\": \"Biscoe\", \"Beak Length (mm)\": 50.8, \"Beak Depth (mm)\": 15.7, \"Flipper Length (mm)\": 226.0, \"Body Mass (g)\": 5200.0, \"Sex\": \"MALE\"}, {\"Species\": \"Gentoo\", \"Island\": \"Biscoe\", \"Beak Length (mm)\": 49.4, \"Beak Depth (mm)\": 15.8, \"Flipper Length (mm)\": 216.0, \"Body Mass (g)\": 4925.0, \"Sex\": \"MALE\"}, {\"Species\": \"Gentoo\", \"Island\": \"Biscoe\", \"Beak Length (mm)\": 46.9, \"Beak Depth (mm)\": 14.6, \"Flipper Length (mm)\": 222.0, \"Body Mass (g)\": 4875.0, \"Sex\": \"FEMALE\"}, {\"Species\": \"Gentoo\", \"Island\": \"Biscoe\", \"Beak Length (mm)\": 48.4, \"Beak Depth (mm)\": 14.4, \"Flipper Length (mm)\": 203.0, \"Body Mass (g)\": 4625.0, \"Sex\": \"FEMALE\"}, {\"Species\": \"Gentoo\", \"Island\": \"Biscoe\", \"Beak Length (mm)\": 51.1, \"Beak Depth (mm)\": 16.5, \"Flipper Length (mm)\": 225.0, \"Body Mass (g)\": 5250.0, \"Sex\": \"MALE\"}, {\"Species\": \"Gentoo\", \"Island\": \"Biscoe\", \"Beak Length (mm)\": 48.5, \"Beak Depth (mm)\": 15.0, \"Flipper Length (mm)\": 219.0, \"Body Mass (g)\": 4850.0, \"Sex\": \"FEMALE\"}, {\"Species\": \"Gentoo\", \"Island\": \"Biscoe\", \"Beak Length (mm)\": 55.9, \"Beak Depth (mm)\": 17.0, \"Flipper Length (mm)\": 228.0, \"Body Mass (g)\": 5600.0, \"Sex\": \"MALE\"}, {\"Species\": \"Gentoo\", \"Island\": \"Biscoe\", \"Beak Length (mm)\": 47.2, \"Beak Depth (mm)\": 15.5, \"Flipper Length (mm)\": 215.0, \"Body Mass (g)\": 4975.0, \"Sex\": \"FEMALE\"}, {\"Species\": \"Gentoo\", \"Island\": \"Biscoe\", \"Beak Length (mm)\": 49.1, \"Beak Depth (mm)\": 15.0, \"Flipper Length (mm)\": 228.0, \"Body Mass (g)\": 5500.0, \"Sex\": \"MALE\"}, {\"Species\": \"Gentoo\", \"Island\": \"Biscoe\", \"Beak Length (mm)\": 47.3, \"Beak Depth (mm)\": 13.8, \"Flipper Length (mm)\": 216.0, \"Body Mass (g)\": 4725.0, \"Sex\": null}, {\"Species\": \"Gentoo\", \"Island\": \"Biscoe\", \"Beak Length (mm)\": 46.8, \"Beak Depth (mm)\": 16.1, \"Flipper Length (mm)\": 215.0, \"Body Mass (g)\": 5500.0, \"Sex\": \"MALE\"}, {\"Species\": \"Gentoo\", \"Island\": \"Biscoe\", \"Beak Length (mm)\": 41.7, \"Beak Depth (mm)\": 14.7, \"Flipper Length (mm)\": 210.0, \"Body Mass (g)\": 4700.0, \"Sex\": \"FEMALE\"}, {\"Species\": \"Gentoo\", \"Island\": \"Biscoe\", \"Beak Length (mm)\": 53.4, \"Beak Depth (mm)\": 15.8, \"Flipper Length (mm)\": 219.0, \"Body Mass (g)\": 5500.0, \"Sex\": \"MALE\"}, {\"Species\": \"Gentoo\", \"Island\": \"Biscoe\", \"Beak Length (mm)\": 43.3, \"Beak Depth (mm)\": 14.0, \"Flipper Length (mm)\": 208.0, \"Body Mass (g)\": 4575.0, \"Sex\": \"FEMALE\"}, {\"Species\": \"Gentoo\", \"Island\": \"Biscoe\", \"Beak Length (mm)\": 48.1, \"Beak Depth (mm)\": 15.1, \"Flipper Length (mm)\": 209.0, \"Body Mass (g)\": 5500.0, \"Sex\": \"MALE\"}, {\"Species\": \"Gentoo\", \"Island\": \"Biscoe\", \"Beak Length (mm)\": 50.5, \"Beak Depth (mm)\": 15.2, \"Flipper Length (mm)\": 216.0, \"Body Mass (g)\": 5000.0, \"Sex\": \"FEMALE\"}, {\"Species\": \"Gentoo\", \"Island\": \"Biscoe\", \"Beak Length (mm)\": 49.8, \"Beak Depth (mm)\": 15.9, \"Flipper Length (mm)\": 229.0, \"Body Mass (g)\": 5950.0, \"Sex\": \"MALE\"}, {\"Species\": \"Gentoo\", \"Island\": \"Biscoe\", \"Beak Length (mm)\": 43.5, \"Beak Depth (mm)\": 15.2, \"Flipper Length (mm)\": 213.0, \"Body Mass (g)\": 4650.0, \"Sex\": \"FEMALE\"}, {\"Species\": \"Gentoo\", \"Island\": \"Biscoe\", \"Beak Length (mm)\": 51.5, \"Beak Depth (mm)\": 16.3, \"Flipper Length (mm)\": 230.0, \"Body Mass (g)\": 5500.0, \"Sex\": \"MALE\"}, {\"Species\": \"Gentoo\", \"Island\": \"Biscoe\", \"Beak Length (mm)\": 46.2, \"Beak Depth (mm)\": 14.1, \"Flipper Length (mm)\": 217.0, \"Body Mass (g)\": 4375.0, \"Sex\": \"FEMALE\"}, {\"Species\": \"Gentoo\", \"Island\": \"Biscoe\", \"Beak Length (mm)\": 55.1, \"Beak Depth (mm)\": 16.0, \"Flipper Length (mm)\": 230.0, \"Body Mass (g)\": 5850.0, \"Sex\": \"MALE\"}, {\"Species\": \"Gentoo\", \"Island\": \"Biscoe\", \"Beak Length (mm)\": 44.5, \"Beak Depth (mm)\": 15.7, \"Flipper Length (mm)\": 217.0, \"Body Mass (g)\": 4875.0, \"Sex\": \".\"}, {\"Species\": \"Gentoo\", \"Island\": \"Biscoe\", \"Beak Length (mm)\": 48.8, \"Beak Depth (mm)\": 16.2, \"Flipper Length (mm)\": 222.0, \"Body Mass (g)\": 6000.0, \"Sex\": \"MALE\"}, {\"Species\": \"Gentoo\", \"Island\": \"Biscoe\", \"Beak Length (mm)\": 47.2, \"Beak Depth (mm)\": 13.7, \"Flipper Length (mm)\": 214.0, \"Body Mass (g)\": 4925.0, \"Sex\": \"FEMALE\"}, {\"Species\": \"Gentoo\", \"Island\": \"Biscoe\", \"Beak Length (mm)\": null, \"Beak Depth (mm)\": null, \"Flipper Length (mm)\": null, \"Body Mass (g)\": null, \"Sex\": null}, {\"Species\": \"Gentoo\", \"Island\": \"Biscoe\", \"Beak Length (mm)\": 46.8, \"Beak Depth (mm)\": 14.3, \"Flipper Length (mm)\": 215.0, \"Body Mass (g)\": 4850.0, \"Sex\": \"FEMALE\"}, {\"Species\": \"Gentoo\", \"Island\": \"Biscoe\", \"Beak Length (mm)\": 50.4, \"Beak Depth (mm)\": 15.7, \"Flipper Length (mm)\": 222.0, \"Body Mass (g)\": 5750.0, \"Sex\": \"MALE\"}, {\"Species\": \"Gentoo\", \"Island\": \"Biscoe\", \"Beak Length (mm)\": 45.2, \"Beak Depth (mm)\": 14.8, \"Flipper Length (mm)\": 212.0, \"Body Mass (g)\": 5200.0, \"Sex\": \"FEMALE\"}, {\"Species\": \"Gentoo\", \"Island\": \"Biscoe\", \"Beak Length (mm)\": 49.9, \"Beak Depth (mm)\": 16.1, \"Flipper Length (mm)\": 213.0, \"Body Mass (g)\": 5400.0, \"Sex\": \"MALE\"}]}}, {\"mode\": \"vega-lite\"});\n",
       "</script>"
      ],
      "text/plain": [
       "alt.Chart(...)"
      ]
     },
     "execution_count": 137,
     "metadata": {},
     "output_type": "execute_result"
    }
   ],
   "source": [
    "alt.Chart(df).mark_circle().transform_filter(alt.datum.Island)\n"
   ]
  },
  {
   "cell_type": "code",
   "execution_count": null,
   "metadata": {
    "tags": []
   },
   "outputs": [],
   "source": [
    "import altair as alt\n",
    "import pandas as pd\n",
    "import panel as pn\n",
    "\n",
    "islands = pn.widgets.Select(name='Island', options=df.Island.unique().tolist())\n",
    "\n",
    "def scatter_plot(df):\n",
    "    brush = alt.selection(type='interval')\n",
    "\n",
    "    scatter = alt.Chart(df).mark_circle().encode(\n",
    "        x='Beak Length (mm):Q',\n",
    "        y='Beak Depth (mm):Q',\n",
    "        color=alt.condition(brush, 'Species:N', alt.value('lightgray')),\n",
    "        tooltip=['Beak Length (mm)', 'Beak Depth (mm)', 'Species'],\n",
    "        opacity=alt.condition(brush, alt.value(1), alt.value(0.2))\n",
    "    ).add_selection(brush)\n",
    "    return scatter\n",
    "\n",
    "def table(df):\n",
    "    selected_data = alt.Chart(df).transform_filter(alt.datum['Island'] == islands)\n",
    "    table = pn.widgets.Tabulator(selected_data, width=800)\n",
    "    return table\n",
    "\n",
    "penguins_url = \"https://raw.githubusercontent.com/vega/vega/master/docs/data/penguins.json\"\n",
    "df = pd.read_json(penguins_url)\n",
    "df = df.reset_index()\n",
    "\n",
    "scatter = scatter_plot(df)\n",
    "table = table(df)\n",
    "pn.Column(scatter, table).servable()\n",
    "# error out on table\n",
    "\n"
   ]
  },
  {
   "cell_type": "code",
   "execution_count": 174,
   "metadata": {
    "tags": []
   },
   "outputs": [
    {
     "ename": "SyntaxError",
     "evalue": "invalid syntax (6707431.py, line 9)",
     "output_type": "error",
     "traceback": [
      "\u001b[0;36m  Cell \u001b[0;32mIn[192], line 9\u001b[0;36m\u001b[0m\n\u001b[0;31m    chart = alt.Chart(df,height=150).mark_circle().encode(\u001b[0m\n\u001b[0m    ^\u001b[0m\n\u001b[0;31mSyntaxError\u001b[0m\u001b[0;31m:\u001b[0m invalid syntax\n"
     ]
    }
   ],
   "source": [
    "import pandas as pd\n",
    "penguins_url = \"https://raw.githubusercontent.com/vega/vega/master/docs/data/penguins.json\"\n",
    "df = pd.read_json(penguins_url)\n",
    "\n",
    "islands = pn.widgets.Select(name='Company', options=df.Island.unique().tolist())\n",
    "brush = alt.selection_interval(name='brush')  # \n",
    "\n",
    "@pn.depends(ticker.param.value, date_range_slider.param.value)\n",
    "\n",
    "chart = alt.Chart(df,height=150).mark_circle().encode(\n",
    "    # x=alt.X('Species:N'),\n",
    "    x=alt.X('Beak Depth (mm):Q', scale=alt.Scale(zero=False)),\n",
    "    y=alt.Y('Beak Length (mm):Q', scale=alt.Scale(zero=False)),\n",
    "    color=alt.condition(brush, 'Species:N', alt.value('lightgray'))\n",
    ").properties(\n",
    "    width=400,\n",
    "    height=400\n",
    ").add_selection(\n",
    "    brush\n",
    ")\n",
    "\n",
    "# def filtered_table(selection):\n",
    "#     if not selection:\n",
    "#         return '## No selection'\n",
    "#     query = ' & '.join(\n",
    "#         f'{values[0]} <= `{col}` <= {values[1]}'\n",
    "#         if pd.api.types.is_numeric_dtype(df[col])\n",
    "#         else f'`{col}` in {values}' \n",
    "#         for col, values in selection.items()\n",
    "#     )\n",
    "#     return pn.Column(\n",
    "#         f'Query: {query}', selection.items(),\n",
    "#         pn.pane.DataFrame(df.query(query), width=600, height=300)\n",
    "#     )\n",
    "\n",
    "# vega_pane = pn.pane.Vega(chart, debounce=5)\n",
    "# pn.Row(vega_pane, pn.bind(filtered_table, vega_pane.selection.param.brush))"
   ]
  }
 ],
 "metadata": {
  "kernelspec": {
   "display_name": "Python 3 (ipykernel)",
   "language": "python",
   "name": "python3"
  },
  "language_info": {
   "codemirror_mode": {
    "name": "ipython",
    "version": 3
   },
   "file_extension": ".py",
   "mimetype": "text/x-python",
   "name": "python",
   "nbconvert_exporter": "python",
   "pygments_lexer": "ipython3",
   "version": "3.10.9"
  }
 },
 "nbformat": 4,
 "nbformat_minor": 4
}
