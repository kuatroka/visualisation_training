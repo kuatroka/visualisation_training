{
 "cells": [
  {
   "cell_type": "markdown",
   "id": "ab39fd7a-f81f-42ef-990c-415461e3253b",
   "metadata": {},
   "source": [
    "# **CIK** cleaning tool for `value`"
   ]
  },
  {
   "cell_type": "code",
   "execution_count": 53,
   "id": "18718cd3-0425-43af-aa68-491e9587b9e4",
   "metadata": {
    "tags": []
   },
   "outputs": [],
   "source": [
    "pd.set_option('display.max_columns', 35)\n",
    "pd.set_option(\"display.max_colwidth\",200)\n",
    "pd.set_option(\"display.max_rows\", 500)\n",
    "\n",
    "# 54928210C\n",
    "# 020039COM\n",
    "# 832696306\n",
    "# COM"
   ]
  },
  {
   "cell_type": "code",
   "execution_count": 48,
   "id": "efa98563-1280-4722-b516-a2f45666188a",
   "metadata": {},
   "outputs": [
    {
     "name": "stdout",
     "output_type": "stream",
     "text": [
      "CPU times: user 9.93 s, sys: 1.65 s, total: 11.6 s\n",
      "Wall time: 9.73 s\n"
     ]
    }
   ],
   "source": [
    "%%time\n",
    "\n",
    "from pathlib import Path\n",
    "import pandas as pd\n",
    "import polars as pl\n",
    "from scipy import stats\n",
    "\n",
    "selected_cik = [2230,3520,5272,7195,7789,9015,10742,14661,16972,18349,18748,19475,19617,21175,22657,24386,35442,35527,36066,36104,36644,36966,38777,39263,40417,40545,44365,45319,49205,50863,51762,51812,51964,52234,53417,59558,59951,60086,61227,67698,70858,71210,71259,72971,73124,80255,84616,89014,92230,93751,98758,102212,102909,105495,108572,200217,201772,216851,276101,310051,312348,313028,313807,314949,314957,314984,315014,315032,315038,315054,315066,315080,315157,315297,315498,316011,318989,320335,320376,351051,351173,351262,354204,356264,700529,704051,707179,712537,713676,714142,720672,723204,728083,728100,728618,732905,733020,740272,740913,741073,743127,750641,754811,757657,759944,762152,763212,763848,764068,764106,764112,764529,764532,765443,769317,769954,769963,775368,776867,778963,779519,788714,790354,790502,791191,791490,796848,799003,799004,801051,806097,807249,807985,808722,809339,809443,810265,810384,810386,810672,810716,811360,811454,813917,813933,814133,814375,816788,819535,820027,820123,820124,820289,820478,820743,821197,822581,823621,825293,829407,831001,831571,836372,837592,842782,842941,846222,846633,846788,846797,850401,850529,852743,854157,857508,859872,860486,860561,860580,860585,860643,860644,860645,860662,860748,860828,860857,861176,861177,861462,861787,862469,866361,866842,868491,869178,869179,869353,869367,872080,872163,872259,872573,872732,873630,874791,877134,877338,878228,881432,883511,883677,883782,883790,883803,883961,883965,884300,884314,884414,884423,884541,884546,884548,884566,884589,885062,885415,886982,887402,887777,887818,889232,891287,891478,893738,894205,894300,894309,895213,895421,897070,897378,897599,898358,898382,898399,898413,899211,900169,900529,900973,902219,902367,902464,902584,903064,903944,903947,903949,905567,905591,905608,906304,908195,909151,909661,911274,912938,914933,914976,915287,915325,916542,917579,918893,919079,919185,919192,919458,919489,919497,919530,919538,919859,920440,920441,921531,921669,922127,922439,922898,922940,923093,923116,923469,924166,924171,924181,926688,926833,926834,928047,928196,928566,928568,928633,930441,931097,932024,932974,933429,934639,934999,936698,936753,936936,936941,936944,937394,937522,937589,937615,937760,937886,938076,938206,938487,938582,938592,938759,939219,940445,941560,943719,944234,944804,945625,945631,947822,947996,948518,948669,949012,949509,949615,949623,949853,1000097,1000742,1002152,1002672,1002784,1004244,1005354,1005607,1005817,1006364,1006378,1006407,1006435,1007280,1007399,1007524,1008322,1008877,1008894,1008895,1008929,1008937,1009003,1009005,1009012,1009016,1009022,1009076,1009207,1009209,1009232,1009254,1009258,1009262,1010873,1010911,1011443,1011659,1013234,1013536,1013538,1013701,1014306,1014315,1014736,1014738,1015079,1015083,1015086,1015308,1016150,1016287,1016683,1016972,1017115,1017645,1017918,1018331,1018674,1018825,1019231,1020066,1020317,1020580,1020585,1020617,1020918,1021008,1021117,1021223,1021249,1021258,1021642,1021926,1023279,1024716,1025421,1026200,1026710,1027451,1027796,1027817,1029160,1030618,1030815,1031972,1032814,1033225,1033427,1033475,1033505,1033974,1033984,1034184,1034196,1034524,1034541,1034546,1034549,1034642,1034771,1034886,1035350,1035463,1035912,1036248,1036325,1037389,1037558,1037763,1037792,1038661,1039565,1039807,1040190,1040197,1040198,1040210,1040273,1040592,1040762,1041241,1041885,1042046,1044207,1044797,1044905,1044924,1044929,1044936,1046187,1047339,1048921,1049648,1049650,1050442,1050463,1050470,1051359,1052100,1053013,1053054,1053055,1054074,1054425,1054522,1054554,1054677,1055290,1055544,1055963,1055964,1055966,1056053,1056288,1056466,1056488,1056491,1056515,1056516,1056527,1056549,1056559,1056581,1056593,1056807,1056821,1056825,1056827,1056831,1056859,1056958,1056973,1057395,1057439,1058022,1058470,1058800,1059187,1061186,1061768,1062938,1065349,1065350,1066816,1067324,1067926,1067983,1068829,1070134,1071483,1072843,1074027,1074034,1074266,1074273,1076598,1077148,1077583,1078013,1078246,1078658,1078841,1079112,1079114,1079736,1079738,1079930,1080071,1080107,1080117,1080132,1080166,1080171,1080173,1080197,1080201,1080351,1080374,1080380,1080381,1080382,1080386,1080493,1080523,1080628,1080818,1081019,1081198,1082020,1082215,1082327,1082339,1082461,1082491,1082509,1082621,1082917,1083323,1083340,1084207,1084208,1084683,1085041,1085163,1085227,1085601,1085936,1086477,1086483,1086611,1086619,1086762,1086763,1088859,1088875,1088950,1089707,1089755,1089911,1089991,1090413,1091561,1091860,1091923,1092203,1092290,1092351,1092903,1093276,1093589,1094584,1094749,1095836,1096783,1097218,1097278,1097833,1100710,1101250,1102062,1102578,1102598,1103245,1103738,1103804,1103882,1103887,1104186,1104329,1104366,1105468,1105471,1105497,1105837,1105863,1105909,1106129,1106191,1106500,1106505,1106832,1107261,1107310,1108893,1108965,1108969,1109147,1110806,1113629,1114618,1114739,1114928,1115941,1116247,1125727,1125816,1129770,1133219,1134152,1140334,1140771,1142031,1142062,1158583,1389426,1398739,1469219]\n",
    "both = Path(r\"/Users/yo_macbook/Documents/app_data/dropbox_13f_files/processed_tables/TR_01_TEST_676_CIK_CSV_CLEANED_BOTH\")\n",
    "\n",
    "columns = ['cik', 'cusip9','value', 'shares','rdate', 'fdate',\\\n",
    "            'address', 'form', 'shrsOrPrnAmt', 'putCall', 'nameOfIssuer', 'titleOfClass', 'type', 'dsource']\n",
    "\n",
    "pl_dtypes = {'cusip8': str, 'cusip9': str , 'titleOfClass': str, 'form': str, 'putCall': str,\n",
    "            'shrsOrPrnAmt': str, 'value': pl.Float64, 'shares': pl.Float64, 'type': str, 'nameOfIssuer': str,\n",
    "            'cik' : pl.Int64, 'address': str,  'dsource': str}\n",
    "\n",
    "pd_dtypes_validation = {'cusip9': str , 'titleOfClass': str, 'form': 'category',\n",
    "            'putCall': 'category', 'shrsOrPrnAmt': 'category', 'value': 'float64',\n",
    "            'shares': 'float64', 'type': 'category', 'nameOfIssuer': str,\n",
    "            'cik' : 'int64', 'address': 'category',  'dsource': 'category'}\n",
    "\n",
    "\n",
    "# cleaned = [file for file in TR_01_TEST_676_CIK_CSV_CLEANED.glob(\"*.csv\")]\n",
    "# origin_clean = [file for file in TR_01_TEST_676_CIK_CSV_ORIGIN_CLEAN.glob(\"*.csv\")]\n",
    "both_clean = [file for file in both.glob(\"*.csv\")]\n",
    "\n",
    "cik_dfs = []\n",
    "for index, cik in enumerate(selected_cik[:10]):\n",
    "    file_dfs = []\n",
    "    for file in set(both_clean):\n",
    "    # for file in set(cleaned + origin_clean):\n",
    "        if file.name.split(\"-\")[0] == str(cik):\n",
    "            try:\n",
    "                df = pl.read_csv(file, columns=columns, dtypes=pl_dtypes, parse_dates=True) \n",
    "                \n",
    "                df = df.to_pandas().astype(pd_dtypes_validation)\n",
    "                if df.empty: continue\n",
    "\n",
    "                df = (df.assign(row_value_zscore = stats.zscore(df.value),\n",
    "                                file_value_sum = df.value.sum(),\n",
    "                                file_value_max = df.value.max(),\n",
    "                                file_value_min = df.value.min(),\n",
    "                                file_record_count = df.shape[0],\n",
    "                                quarter=df.rdate.dt.to_period(freq=\"Q\").astype(str),\n",
    "                                path=file))\n",
    "                df_short = df[['cik', 'cusip9', 'rdate', 'fdate',\n",
    "                               'address', 'file_value_sum', 'file_value_max',\n",
    "                               'file_value_min', 'file_record_count', 'quarter', 'path']].head(1)\n",
    "               \n",
    "\n",
    "                file_dfs.append(df_short)\n",
    "                df = None\n",
    "            except Exception as e:\n",
    "                print(f\"Problem reading file... {file.name}\")\n",
    "                print(e)\n",
    "      \n",
    "    cik_df = pd.concat(file_dfs)\n",
    "    file_dfs = None\n",
    "\n",
    "    cik_dfs.append(cik_df)\n",
    "big_df = pd.concat(cik_dfs)"
   ]
  },
  {
   "cell_type": "code",
   "execution_count": null,
   "id": "51c62d76-f87a-4527-b896-f89fe56f953a",
   "metadata": {
    "tags": []
   },
   "outputs": [],
   "source": [
    "!python -V\n",
    "# big_df.head(2)\n",
    "# df.head()"
   ]
  },
  {
   "cell_type": "markdown",
   "id": "3f8273b7-1060-43d3-9416-ba6f6015773c",
   "metadata": {},
   "source": [
    "### Non-working altair only version - no way to select or copy/paste the addresses"
   ]
  },
  {
   "cell_type": "code",
   "execution_count": null,
   "id": "3f89d82c-acfa-4368-ad4a-f638d333ddb4",
   "metadata": {
    "tags": []
   },
   "outputs": [],
   "source": [
    "import altair as alt\n",
    "from altair import datum\n",
    "alt.data_transformers.disable_max_rows()\n",
    "\n",
    "input_dropdown = alt.binding_select(options=selected_cik, name='cik ')\n",
    "cik_selection = alt.selection_single(fields=['cik'], bind=input_dropdown)\n",
    "brush = alt.selection(type='multi')\n",
    "\n",
    "scatter = alt.Chart(big_df).mark_point().transform_calculate(value_billion=\"datum.value / 1000000000\")\\\n",
    "    .encode(\n",
    "    alt.X('quarter:O'),\n",
    "    alt.Y('file_value_sum:Q'),\n",
    "    \n",
    "    # alt.Row('cik'),\n",
    "    tooltip=['quarter:O','address:N', \n",
    "             alt.Tooltip('file_value_sum:Q', format=\"$.3s\") ,\n",
    "             alt.Tooltip('file_value_sum:Q', format=\"$~s\"),\n",
    "             alt.Tooltip('fdate:T')\n",
    "            ]\n",
    "    # alt.Tooltip(['quarter:O','accession_number:N', 'value:O']),\n",
    "    \n",
    ").add_selection(cik_selection\n",
    ").transform_filter(cik_selection\n",
    ").add_selection(brush\n",
    ").properties(width=800, height=200)\n",
    "\n",
    "ranked_text = alt.Chart(big_df).mark_text().encode(\n",
    "    y=alt.Y('row_number:O',axis=None)\n",
    ").transform_window(\n",
    "    row_number='row_number()'\n",
    ").transform_filter(\n",
    "    brush\n",
    ").transform_window(\n",
    "    rank='rank(row_number)'\n",
    ").transform_filter(\n",
    "    alt.datum.rank<5\n",
    ")\n",
    "\n",
    "# Data Tables\n",
    "address = ranked_text.encode(text='address:N').properties(title='address')\n",
    "quarter = ranked_text.encode(text='quarter:O').properties(title='quarter')\n",
    "value = ranked_text.encode(text='file_value_sum:Q').properties(title='value')\n",
    "text = alt.hconcat(address, quarter, value) # Combine data tables\n",
    "\n",
    "alt.vconcat(\n",
    "    scatter,\n",
    "    text\n",
    ").resolve_legend(\n",
    "    color=\"independent\"\n",
    ").configure_view(\n",
    "    strokeWidth=0\n",
    ")"
   ]
  },
  {
   "cell_type": "code",
   "execution_count": null,
   "id": "08c55f6e-83d1-495c-a1c3-3af84f9ec1c8",
   "metadata": {},
   "outputs": [],
   "source": [
    "ranked_text.data"
   ]
  },
  {
   "cell_type": "markdown",
   "id": "21fe2c22-2612-4d51-8e20-e84b400a010c",
   "metadata": {},
   "source": [
    "#### panel + altair - doesn't work yet"
   ]
  },
  {
   "cell_type": "code",
   "execution_count": null,
   "id": "b44895e7-577d-4434-8523-b7c6aee5cce0",
   "metadata": {},
   "outputs": [],
   "source": [
    "big_df.cik.head()"
   ]
  },
  {
   "cell_type": "code",
   "execution_count": null,
   "id": "1b71bfbb-1cbd-4622-9724-a1f4319b8db4",
   "metadata": {
    "tags": []
   },
   "outputs": [],
   "source": [
    "# import altair as alt\n",
    "# import pandas as pd\n",
    "# import panel as pn\n",
    "# from altair import datum\n",
    "# pn.extension(\"vega\", sizing_mode=\"stretch_width\")\n",
    "# alt.data_transformers.disable_max_rows()\n",
    "\n",
    "# cik_input_pn = pn.widgets.Select(name='Select CIK', options = big_df.cik.unique().tolist(), placeholder = 'ex: 2230', value = 2230)\n",
    "# ###\n",
    "# input_dropdown = alt.binding_select(options=selected_cik, name='cik ')\n",
    "# cik_selection = alt.selection_single(fields=['cik'], bind=input_dropdown, init={'cik': 5272}, name='cik_select')\n",
    "# brush = alt.selection(type='multi')\n",
    "\n",
    "# scatter = alt.Chart(big_df).mark_point()\\\n",
    "#     .encode(\n",
    "#     alt.X('quarter:O'),\n",
    "#     alt.Y('file_value_sum:Q'),\n",
    "    \n",
    "#     # alt.Row('cik'),\n",
    "#     tooltip=['quarter:O','address:N', \n",
    "#              alt.Tooltip('file_value_sum:Q', format=\"$.3s\") ,\n",
    "#              alt.Tooltip('file_value_sum:Q', format=\"$~s\"),\n",
    "#              alt.Tooltip('fdate:T')\n",
    "#             ]\n",
    "#     # alt.Tooltip(['quarter:O','accession_number:N', 'value:O']),\n",
    "    \n",
    "# # ).add_selection(cik_selection\n",
    "# # ).transform_filter(cik_selection\n",
    "# # ).add_selection(brush\n",
    "# # ).properties(width=800, height=200)\n",
    "    \n",
    "# ).add_selection(cik_selection\n",
    "# ).transform_filter(cik_selection\n",
    "# ).properties(width=800, height=200)\n",
    "\n",
    "# scatter\n",
    "\n",
    "# vega_pane = pn.pane.Vega(scatter, debounce=10, height=600)\n",
    "# vega_pane\n",
    "# # @pn.depends(vega_pane.selection.param.brush)\n",
    "# # def filtered_table(selection):\n",
    "# #     # return selection.value\n",
    "# #     if not selection:\n",
    "# #         return \"## No selection\"\n",
    "# #     query = \" & \".join(\n",
    "# #         f'{crange[0]:.3f} <= {col} <= {crange[1]:.3f}'\n",
    "# #         for col, crange in selection.items()\n",
    "# #     )\n",
    "# #     return pn.pane.DataFrame(big_df.query(query))\n",
    "\n",
    "\n",
    "# # Data Tables\n",
    "\n",
    "\n",
    "# # table = pn.Row(filtered_table, height=300, scroll=True)\n",
    "# # component = pn.Column(vega_pane, table).servable()\n",
    "# # component\n",
    "\n",
    "# # template = pn.template.FastListTemplate(\n",
    "# #     site=\"Awesome Panel\",\n",
    "# #     title=\"Panel supports Vega and Altair Selections\",\n",
    "# #     accent=\"#F08080\",\n",
    "# #     main=[component],\n",
    "# # ).servable()"
   ]
  },
  {
   "cell_type": "markdown",
   "id": "3251697a-3809-4211-8fee-4d535b43b61e",
   "metadata": {
    "tags": []
   },
   "source": [
    "### Working altair example with different data, but with a caveat.\n",
    "1. It uses the `tabulator` parameter selector and not the table display option. It still can work fine, but I can't programatically extract the seleced data and use it as a variable. (or at least I think so). It also makes it so when I manually select the line in that tabulator, it can by deleted if I hit `del` or `backspace`\n",
    "2. It feels too complicated and now it only works with `x` and `y` being both numerical \n",
    "3. It has to be launched as a separte panel dashboard (for now)"
   ]
  },
  {
   "cell_type": "code",
   "execution_count": 24,
   "id": "b5baaf3c-d05a-46f3-b107-f9ab080956ba",
   "metadata": {
    "tags": []
   },
   "outputs": [
    {
     "name": "stderr",
     "output_type": "stream",
     "text": [
      "/Users/yo_macbook/Documents/dev/visualisation_training/venv3.10/lib/python3.10/site-packages/sklearn/cluster/_kmeans.py:870: FutureWarning: The default value of `n_init` will change from 10 to 'auto' in 1.4. Set the value of `n_init` explicitly to suppress the warning\n",
      "  warnings.warn(\n",
      "/var/folders/mb/j8hmh6_x6yn6jbbbdtrnsxmm0000gn/T/ipykernel_7361/964572645.py:33: FutureWarning: The default value of numeric_only in DataFrameGroupBy.mean is deprecated. In a future version, numeric_only will default to False. Either specify numeric_only or select only columns which should be valid for the function.\n",
      "  centers = df.groupby('labels').mean()\n"
     ]
    }
   ],
   "source": [
    "# import altair as alt\n",
    "# import panel as pn\n",
    "# import pandas as pd\n",
    "\n",
    "# from sklearn.cluster import KMeans\n",
    "# # from pyodide.http import open_url\n",
    "\n",
    "# pn.config.sizing_mode = 'stretch_width'\n",
    "\n",
    "# url = 'https://raw.githubusercontent.com/rfordatascience/tidytuesday/master/data/2020/2020-07-28/penguins.csv'\n",
    "# penguins = pd.read_csv(url).dropna()\n",
    "# cols = list(penguins.columns)[2:6]\n",
    "\n",
    "\n",
    "# filter_dropdown = pn.widgets.Select(name='Island',\n",
    "#                              options=penguins.island.unique().tolist(),\n",
    "#                              value='Torgersen').servable(target='filter-dropdown-widget')\n",
    "# x = pn.widgets.Select(name='x', options=cols, value='bill_depth_mm').servable(target='x-widget')\n",
    "# y = pn.widgets.Select(name='y', options=cols, value='bill_length_mm').servable(target='y-widget')\n",
    "# n_clusters = pn.widgets.IntSlider(name='n_clusters', start=1, end=5, value=3).servable(target='n-widget')\n",
    "\n",
    "# brush = alt.selection_interval(name='brush')  # selection of type \"interval\"\n",
    "\n",
    "# def get_clusters(n_clusters, filter_dropdown):\n",
    "#     kmeans = KMeans(n_clusters=n_clusters)\n",
    "#     est = kmeans.fit(penguins[cols].values)\n",
    "#     df = penguins.copy()\n",
    "#     df['labels'] = est.labels_.astype('str')\n",
    "#     df = df.query(f'island == \"{filter_dropdown}\"')\n",
    "#     return df\n",
    "\n",
    "# def get_chart(x, y, df, filter_dropdown):\n",
    "#     centers = df.groupby('labels').mean()\n",
    "#     return (\n",
    "#       alt.Chart(df)\n",
    "#           .mark_point(size=100)\n",
    "#           .encode(\n",
    "#               x=alt.X(x, scale=alt.Scale(zero=False)),\n",
    "#               y=alt.Y(y, scale=alt.Scale(zero=False)),\n",
    "#               shape='labels',\n",
    "#               color='species'\n",
    "#           ).add_selection(brush).properties(width=800) +\n",
    "#       alt.Chart(centers)\n",
    "#           .mark_point(size=250, shape='cross', color='black')\n",
    "#           .encode(x=x+':Q', y=y+':Q')\n",
    "#     )\n",
    "\n",
    "# intro = pn.pane.Markdown(\"\"\"\n",
    "# This app provides an example of **building a simple dashboard using\n",
    "# Panel**.\\n\\nIt demonstrates how to take the output of **k-means\n",
    "# clustering on the Penguins dataset** using scikit-learn,\n",
    "# parameterizing the number of clusters and the variables to\n",
    "# plot.\\n\\nThe plot and the table are linked, i.e. selecting on the plot\n",
    "# will filter the data in the table.\\n\\n The **`x` marks the center** of\n",
    "# the cluster.\n",
    "# \"\"\").servable(target='intro')\n",
    "\n",
    "# chart = pn.pane.Vega(debounce=5).servable(target='cluster-plot')\n",
    "# table = pn.widgets.Tabulator(pagination='remote', page_size=10).servable(target='table')\n",
    "\n",
    "# def update_table(event=None):\n",
    "#     table.value = get_clusters(n_clusters.value, filter_dropdown.value)\n",
    "\n",
    "# n_clusters.param.watch(update_table, 'value')\n",
    "# filter_dropdown.param.watch(update_table, 'value')\n",
    "\n",
    "# @pn.depends(x, y, n_clusters, filter_dropdown, watch=True)\n",
    "# def update_chart(*events):\n",
    "#     chart.object = get_chart(x.value, y.value, table.value, filter_dropdown.value)\n",
    "#     chart.selection.param.watch(update_filters, 'brush')\n",
    "\n",
    "# def update_filters(event=None):\n",
    "#     filters = []\n",
    "#     for k, v in (getattr(event, 'new') or {}).items():\n",
    "#         filters.append(dict(field=k, type='>=', value=v[0]))\n",
    "#         filters.append(dict(field=k, type='<=', value=v[1]))\n",
    "#         table.filters = filters\n",
    "\n",
    "# update_table()\n",
    "# update_chart()\n"
   ]
  },
  {
   "cell_type": "markdown",
   "id": "23ffc1dc-041c-4ba6-858b-7d20d0e7d68a",
   "metadata": {},
   "source": [
    "### **Fully working** code with hvplot. It's got the plot, dropdown, table and the selection captured as a list"
   ]
  },
  {
   "cell_type": "code",
   "execution_count": 1369,
   "id": "f3b991b4-a42b-4a49-80ad-74adeea1b29b",
   "metadata": {
    "tags": []
   },
   "outputs": [
    {
     "name": "stdout",
     "output_type": "stream",
     "text": [
      "CPU times: user 3min 21s, sys: 39 s, total: 4min\n",
      "Wall time: 3min 31s\n"
     ]
    }
   ],
   "source": [
    "%%time\n",
    "\n",
    "from pathlib import Path\n",
    "import pandas as pd\n",
    "import polars as pl\n",
    "from scipy import stats\n",
    "\n",
    "selected_cik = [2230,3520,5272,7195,7789,9015,10742,14661,16972,18349,18748,19475,19617,21175,22657,24386,35442,35527,36066,36104,36644,36966,38777,39263,40417,40545,44365,45319,49205,50863,51762,51812,51964,52234,53417,59558,59951,60086,61227,67698,70858,71210,71259,72971,73124,80255,84616,89014,92230,93751,98758,102212,102909,105495,108572,200217,201772,216851,276101,310051,312348,313028,313807,314949,314957,314984,315014,315032,315038,315054,315066,315080,315157,315297,315498,316011,318989,320335,320376,351051,351173,351262,354204,356264,700529,704051,707179,712537,713676,714142,720672,723204,728083,728100,728618,732905,733020,740272,740913,741073,743127,750641,754811,757657,759944,762152,763212,763848,764068,764106,764112,764529,764532,765443,769317,769954,769963,775368,776867,778963,779519,788714,790354,790502,791191,791490,796848,799003,799004,801051,806097,807249,807985,808722,809339,809443,810265,810384,810386,810672,810716,811360,811454,813917,813933,814133,814375,816788,819535,820027,820123,820124,820289,820478,820743,821197,822581,823621,825293,829407,831001,831571,836372,837592,842782,842941,846222,846633,846788,846797,850401,850529,852743,854157,857508,859872,860486,860561,860580,860585,860643,860644,860645,860662,860748,860828,860857,861176,861177,861462,861787,862469,866361,866842,868491,869178,869179,869353,869367,872080,872163,872259,872573,872732,873630,874791,877134,877338,878228,881432,883511,883677,883782,883790,883803,883961,883965,884300,884314,884414,884423,884541,884546,884548,884566,884589,885062,885415,886982,887402,887777,887818,889232,891287,891478,893738,894205,894300,894309,895213,895421,897070,897378,897599,898358,898382,898399,898413,899211,900169,900529,900973,902219,902367,902464,902584,903064,903944,903947,903949,905567,905591,905608,906304,908195,909151,909661,911274,912938,914933,914976,915287,915325,916542,917579,918893,919079,919185,919192,919458,919489,919497,919530,919538,919859,920440,920441,921531,921669,922127,922439,922898,922940,923093,923116,923469,924166,924171,924181,926688,926833,926834,928047,928196,928566,928568,928633,930441,931097,932024,932974,933429,934639,934999,936698,936753,936936,936941,936944,937394,937522,937589,937615,937760,937886,938076,938206,938487,938582,938592,938759,939219,940445,941560,943719,944234,944804,945625,945631,947822,947996,948518,948669,949012,949509,949615,949623,949853,1000097,1000742,1002152,1002672,1002784,1004244,1005354,1005607,1005817,1006364,1006378,1006407,1006435,1007280,1007399,1007524,1008322,1008877,1008894,1008895,1008929,1008937,1009003,1009005,1009012,1009016,1009022,1009076,1009207,1009209,1009232,1009254,1009258,1009262,1010873,1010911,1011443,1011659,1013234,1013536,1013538,1013701,1014306,1014315,1014736,1014738,1015079,1015083,1015086,1015308,1016150,1016287,1016683,1016972,1017115,1017645,1017918,1018331,1018674,1018825,1019231,1020066,1020317,1020580,1020585,1020617,1020918,1021008,1021117,1021223,1021249,1021258,1021642,1021926,1023279,1024716,1025421,1026200,1026710,1027451,1027796,1027817,1029160,1030618,1030815,1031972,1032814,1033225,1033427,1033475,1033505,1033974,1033984,1034184,1034196,1034524,1034541,1034546,1034549,1034642,1034771,1034886,1035350,1035463,1035912,1036248,1036325,1037389,1037558,1037763,1037792,1038661,1039565,1039807,1040190,1040197,1040198,1040210,1040273,1040592,1040762,1041241,1041885,1042046,1044207,1044797,1044905,1044924,1044929,1044936,1046187,1047339,1048921,1049648,1049650,1050442,1050463,1050470,1051359,1052100,1053013,1053054,1053055,1054074,1054425,1054522,1054554,1054677,1055290,1055544,1055963,1055964,1055966,1056053,1056288,1056466,1056488,1056491,1056515,1056516,1056527,1056549,1056559,1056581,1056593,1056807,1056821,1056825,1056827,1056831,1056859,1056958,1056973,1057395,1057439,1058022,1058470,1058800,1059187,1061186,1061768,1062938,1065349,1065350,1066816,1067324,1067926,1067983,1068829,1070134,1071483,1072843,1074027,1074034,1074266,1074273,1076598,1077148,1077583,1078013,1078246,1078658,1078841,1079112,1079114,1079736,1079738,1079930,1080071,1080107,1080117,1080132,1080166,1080171,1080173,1080197,1080201,1080351,1080374,1080380,1080381,1080382,1080386,1080493,1080523,1080628,1080818,1081019,1081198,1082020,1082215,1082327,1082339,1082461,1082491,1082509,1082621,1082917,1083323,1083340,1084207,1084208,1084683,1085041,1085163,1085227,1085601,1085936,1086477,1086483,1086611,1086619,1086762,1086763,1088859,1088875,1088950,1089707,1089755,1089911,1089991,1090413,1091561,1091860,1091923,1092203,1092290,1092351,1092903,1093276,1093589,1094584,1094749,1095836,1096783,1097218,1097278,1097833,1100710,1101250,1102062,1102578,1102598,1103245,1103738,1103804,1103882,1103887,1104186,1104329,1104366,1105468,1105471,1105497,1105837,1105863,1105909,1106129,1106191,1106500,1106505,1106832,1107261,1107310,1108893,1108965,1108969,1109147,1110806,1113629,1114618,1114739,1114928,1115941,1116247,1125727,1125816,1129770,1133219,1134152,1140334,1140771,1142031,1142062,1158583,1389426,1398739,1469219]\n",
    "both = Path(r\"/Users/yo_macbook/Documents/app_data/dropbox_13f_files/processed_tables/TR_01_TEST_676_CIK_CSV_CLEANED_BOTH\")\n",
    "\n",
    "columns = ['cik', 'cusip9','value', 'shares','rdate', 'fdate',\\\n",
    "            'address', 'form', 'shrsOrPrnAmt', 'putCall', 'nameOfIssuer', 'titleOfClass', 'type', 'dsource']\n",
    "\n",
    "pl_dtypes = {'cusip8': str, 'cusip9': str , 'titleOfClass': str, 'form': str, 'putCall': str,\n",
    "            'shrsOrPrnAmt': str, 'value': pl.Float64, 'shares': pl.Float64, 'type': str, 'nameOfIssuer': str,\n",
    "            'cik' : pl.Int64, 'address': str,  'dsource': str}\n",
    "\n",
    "pd_dtypes_validation = {'cusip9': str , 'titleOfClass': str, 'form': 'category',\n",
    "            'putCall': 'category', 'shrsOrPrnAmt': 'category', 'value': 'float64',\n",
    "            'shares': 'float64', 'type': 'category', 'nameOfIssuer': str,\n",
    "            'cik' : 'int64', 'address': 'category',  'dsource': 'category'}\n",
    "\n",
    "\n",
    "# cleaned = [file for file in TR_01_TEST_676_CIK_CSV_CLEANED.glob(\"*.csv\")]\n",
    "# origin_clean = [file for file in TR_01_TEST_676_CIK_CSV_ORIGIN_CLEAN.glob(\"*.csv\")]\n",
    "both_clean = [file for file in both.glob(\"*.csv\")]\n",
    "\n",
    "cik_dfs = []\n",
    "for index, cik in enumerate(selected_cik[:10]):\n",
    "    file_dfs = []\n",
    "    for file in set(both_clean):\n",
    "    # for file in set(cleaned + origin_clean):\n",
    "        if file.name.split(\"-\")[0] == str(cik):\n",
    "            try:\n",
    "                df = pl.read_csv(file, columns=columns, dtypes=pl_dtypes, parse_dates=True) \n",
    "                \n",
    "                df = df.to_pandas().astype(pd_dtypes_validation)\n",
    "                if df.empty: continue\n",
    "\n",
    "                df = (df.assign(row_value_zscore = stats.zscore(df.value),\n",
    "                                file_value_sum = df.value.sum().round(0),\n",
    "                                file_value_max = df.value.max(),\n",
    "                                file_value_min = df.value.min(),\n",
    "                                file_record_count = df.shape[0],\n",
    "                                quarter=df.rdate.dt.to_period(freq=\"Q\").astype(str),\n",
    "                                quarter_period=df.rdate.dt.to_period(freq='Q'),\n",
    "                                path=file))\n",
    "                df_short = df[['cik', 'cusip9', 'rdate', 'fdate',\n",
    "                               'address', 'file_value_sum', 'file_value_max',\n",
    "                               'file_value_min', 'file_record_count', 'quarter', 'path']].head(1)\n",
    "               \n",
    "\n",
    "                file_dfs.append(df_short)\n",
    "                df = None\n",
    "            except Exception as e:\n",
    "                print(f\"Problem reading file... {file.name}\")\n",
    "                print(e)\n",
    "      \n",
    "    cik_df = pd.concat(file_dfs)\n",
    "    file_dfs = None\n",
    "\n",
    "    cik_dfs.append(cik_df)\n",
    "big_df = pd.concat(cik_dfs)\n",
    "               "
   ]
  },
  {
   "cell_type": "code",
   "execution_count": 1315,
   "id": "9f8632f6-307c-4cbb-9a3b-5b92803f3cb6",
   "metadata": {
    "tags": []
   },
   "outputs": [],
   "source": [
    "# format/formatting of amounts to million or billion\n",
    "big_df['value_format'] = big_df['file_value_sum'] / 1_000_000\n",
    "big_df['value_format'] = big_df['value_format'].apply(lambda x: f'{x:.2f}M' if x < 1000 else f'{x/1000:.2f}B')"
   ]
  },
  {
   "cell_type": "code",
   "execution_count": 1319,
   "id": "99da26c1-ad26-4eb5-9846-a9ed6317aa3d",
   "metadata": {
    "tags": []
   },
   "outputs": [
    {
     "name": "stderr",
     "output_type": "stream",
     "text": [
      "WARNING:param.main: formatters option not found for points plot with bokeh; similar options include: ['yformatter', 'xformatter']\n",
      "WARNING:param.main: formatters option not found for points plot with bokeh; similar options include: ['yformatter', 'xformatter']\n",
      "WARNING:param.main: formatters option not found for points plot with bokeh; similar options include: ['yformatter', 'xformatter']\n",
      "WARNING:param.main: formatters option not found for points plot with bokeh; similar options include: ['yformatter', 'xformatter']\n"
     ]
    },
    {
     "data": {},
     "metadata": {},
     "output_type": "display_data"
    },
    {
     "data": {},
     "metadata": {},
     "output_type": "display_data"
    },
    {
     "data": {
      "application/vnd.holoviews_exec.v0+json": "",
      "text/html": [
       "<div id='379203'>\n",
       "  <div class=\"bk-root\" id=\"cd2ae6e7-a46f-437e-bcfb-6842b1089cc9\" data-root-id=\"379203\"></div>\n",
       "</div>\n",
       "<script type=\"application/javascript\">(function(root) {\n",
       "  function embed_document(root) {\n",
       "    var docs_json = {\"d687811b-4e07-4ef3-a661-9398d357473d\":{\"defs\":[{\"extends\":null,\"module\":null,\"name\":\"ReactiveHTML1\",\"overrides\":[],\"properties\":[]},{\"extends\":null,\"module\":null,\"name\":\"FlexBox1\",\"overrides\":[],\"properties\":[{\"default\":\"flex-start\",\"kind\":null,\"name\":\"align_content\"},{\"default\":\"flex-start\",\"kind\":null,\"name\":\"align_items\"},{\"default\":\"row\",\"kind\":null,\"name\":\"flex_direction\"},{\"default\":\"wrap\",\"kind\":null,\"name\":\"flex_wrap\"},{\"default\":\"flex-start\",\"kind\":null,\"name\":\"justify_content\"}]},{\"extends\":null,\"module\":null,\"name\":\"GridStack1\",\"overrides\":[],\"properties\":[{\"default\":\"warn\",\"kind\":null,\"name\":\"mode\"},{\"default\":null,\"kind\":null,\"name\":\"ncols\"},{\"default\":null,\"kind\":null,\"name\":\"nrows\"},{\"default\":true,\"kind\":null,\"name\":\"allow_resize\"},{\"default\":true,\"kind\":null,\"name\":\"allow_drag\"},{\"default\":[],\"kind\":null,\"name\":\"state\"}]},{\"extends\":null,\"module\":null,\"name\":\"click1\",\"overrides\":[],\"properties\":[{\"default\":\"\",\"kind\":null,\"name\":\"terminal_output\"},{\"default\":\"\",\"kind\":null,\"name\":\"debug_name\"},{\"default\":0,\"kind\":null,\"name\":\"clears\"}]},{\"extends\":null,\"module\":null,\"name\":\"NotificationAreaBase1\",\"overrides\":[],\"properties\":[{\"default\":\"bottom-right\",\"kind\":null,\"name\":\"position\"},{\"default\":0,\"kind\":null,\"name\":\"_clear\"}]},{\"extends\":null,\"module\":null,\"name\":\"NotificationArea1\",\"overrides\":[],\"properties\":[{\"default\":[],\"kind\":null,\"name\":\"notifications\"},{\"default\":\"bottom-right\",\"kind\":null,\"name\":\"position\"},{\"default\":0,\"kind\":null,\"name\":\"_clear\"},{\"default\":[{\"background\":\"#ffc107\",\"icon\":{\"className\":\"fas fa-exclamation-triangle\",\"color\":\"white\",\"tagName\":\"i\"},\"type\":\"warning\"},{\"background\":\"#007bff\",\"icon\":{\"className\":\"fas fa-info-circle\",\"color\":\"white\",\"tagName\":\"i\"},\"type\":\"info\"}],\"kind\":null,\"name\":\"types\"}]},{\"extends\":null,\"module\":null,\"name\":\"Notification\",\"overrides\":[],\"properties\":[{\"default\":null,\"kind\":null,\"name\":\"background\"},{\"default\":3000,\"kind\":null,\"name\":\"duration\"},{\"default\":null,\"kind\":null,\"name\":\"icon\"},{\"default\":\"\",\"kind\":null,\"name\":\"message\"},{\"default\":null,\"kind\":null,\"name\":\"notification_type\"},{\"default\":false,\"kind\":null,\"name\":\"_destroyed\"}]},{\"extends\":null,\"module\":null,\"name\":\"TemplateActions1\",\"overrides\":[],\"properties\":[{\"default\":0,\"kind\":null,\"name\":\"open_modal\"},{\"default\":0,\"kind\":null,\"name\":\"close_modal\"}]},{\"extends\":null,\"module\":null,\"name\":\"MaterialTemplateActions1\",\"overrides\":[],\"properties\":[{\"default\":0,\"kind\":null,\"name\":\"open_modal\"},{\"default\":0,\"kind\":null,\"name\":\"close_modal\"}]}],\"roots\":{\"references\":[{\"attributes\":{\"source\":{\"id\":\"379269\"}},\"id\":\"379278\",\"type\":\"CDSView\"},{\"attributes\":{\"days\":[1,2,3,4,5,6,7,8,9,10,11,12,13,14,15,16,17,18,19,20,21,22,23,24,25,26,27,28,29,30,31]},\"id\":\"379322\",\"type\":\"DaysTicker\"},{\"attributes\":{\"num_minor_ticks\":5,\"tickers\":[{\"id\":\"379319\"},{\"id\":\"379320\"},{\"id\":\"379321\"},{\"id\":\"379322\"},{\"id\":\"379323\"},{\"id\":\"379324\"},{\"id\":\"379325\"},{\"id\":\"379326\"},{\"id\":\"379327\"},{\"id\":\"379328\"},{\"id\":\"379329\"},{\"id\":\"379330\"}]},\"id\":\"379226\",\"type\":\"DatetimeTicker\"},{\"attributes\":{},\"id\":\"379310\",\"type\":\"UnionRenderers\"},{\"attributes\":{\"editor\":{\"id\":\"379341\"},\"field\":\"cik\",\"formatter\":{\"id\":\"379340\"},\"title\":\"cik\",\"width\":0},\"id\":\"379342\",\"type\":\"TableColumn\"},{\"attributes\":{\"columns\":[{\"id\":\"379337\"},{\"id\":\"379342\"},{\"id\":\"379347\"},{\"id\":\"379352\"},{\"id\":\"379357\"},{\"id\":\"379362\"},{\"id\":\"379367\"},{\"id\":\"379372\"}],\"configuration\":{\"columns\":[{\"field\":\"index\",\"sorter\":\"number\"},{\"field\":\"cik\",\"sorter\":\"number\"},{\"field\":\"rdate\",\"sorter\":\"timestamp\"},{\"field\":\"fdate\",\"sorter\":\"timestamp\"},{\"field\":\"address\"},{\"field\":\"file_value_sum\",\"sorter\":\"number\"},{\"field\":\"file_record_count\",\"sorter\":\"number\"},{\"field\":\"quarter\"}],\"dataTree\":false,\"selectable\":true},\"indexes\":[\"index\"],\"layout\":\"fit_data_table\",\"margin\":[5,10,5,10],\"max_page\":9,\"name\":\"\",\"page\":1,\"page_size\":10,\"pagination\":\"remote\",\"select_mode\":true,\"selectable_rows\":null,\"sizing_mode\":\"stretch_width\",\"source\":{\"id\":\"379332\"},\"styles\":{\"data\":{},\"id\":\"87b79266f65d4d118af03a005cd10fa2\"},\"subscribed_events\":[\"cell-click\",\"table-edit\"],\"theme_url\":\"https://cdn.jsdelivr.net/npm/@holoviz/panel@0.14.3/dist/bundled/datatabulator/tabulator-tables@5.3.2/dist/css/\"},\"id\":\"379375\",\"type\":\"panel.models.tabulator.DataTabulator\"},{\"attributes\":{\"fill_alpha\":{\"value\":0.08},\"fill_color\":{\"value\":\"#30a2da\"},\"hatch_alpha\":{\"value\":0.08},\"hatch_color\":{\"value\":\"#30a2da\"},\"line_alpha\":{\"value\":0.08},\"line_color\":{\"value\":\"#30a2da\"},\"size\":{\"value\":5.477225575051661},\"x\":{\"field\":\"rdate\"},\"y\":{\"field\":\"file_value_sum\"}},\"id\":\"379264\",\"type\":\"Scatter\"},{\"attributes\":{\"indices\":[]},\"id\":\"379333\",\"type\":\"Selection\"},{\"attributes\":{\"line_alpha\":{\"value\":0.2},\"line_dash\":{\"value\":\"dotted\"},\"xs\":{\"field\":\"xs\"},\"ys\":{\"field\":\"ys\"}},\"id\":\"379294\",\"type\":\"MultiLine\"},{\"attributes\":{},\"id\":\"379346\",\"type\":\"DateEditor\"},{\"attributes\":{},\"id\":\"379312\",\"type\":\"UnionRenderers\"},{\"attributes\":{},\"id\":\"379256\",\"type\":\"AllLabels\"},{\"attributes\":{\"data\":{\"address\":[\"1016683/0001016683-05-000011.txt\",\"1016683/0001016683-05-000002.txt\",\"1016683/0001016683-14-000006.txt\",\"1016683/0001016683-09-000009.txt\",\"1016683/0001016683-14-000002.txt\",\"1016683/0001016683-00-000003.txt\",\"1016683/0001016683-10-000005.txt\",\"1016683/0001016683-10-000002.txt\",\"1016683/0001016683-15-000002.txt\",\"1016683/0001016683-13-000005.txt\",\"1016683/0001016683-07-000004.txt\",\"1016683/0001016683-17-000007.txt\",\"1016683/0001016683-18-000007.txt\",\"1016683/0001016683-99-000003.txt\",\"1016683/0001016683-15-000009.txt\",\"1016683/0001016683-16-000015.txt\",\"1016683/0001016683-08-000010.txt\",\"1016683/0001016683-06-000009.txt\",\"1016683/0001016683-02-000009.txt\",\"1016683/0001016683-99-000009.txt\",\"1016683/0001016683-13-000010.txt\",\"1016683/0001016683-07-000009.txt\",\"1016683/0001016683-20-000008.txt\",\"1016683/0001016683-04-000004.txt\",\"1016683/0001016683-03-000009.txt\",\"1016683/0001016683-14-000008.txt\",\"1016683/0001016683-00-000005.txt\",\"1016683/0001016683-00-000002.txt\",\"1016683/0001016683-15-000006.txt\",\"1016683/0001016683-11-000002.txt\",\"1016683/0001016683-01-500004.txt\",\"1016683/0001016683-09-000004.txt\",\"1016683/0001016683-12-000002.txt\",\"1016683/0001016683-08-000002.txt\",\"1016683/0001016683-11-000004.txt\",\"1016683/0001016683-02-000005.txt\",\"1016683/0001016683-19-000002.txt\",\"1016683/0001016683-07-000011.txt\",\"1016683/0001016683-20-000002.txt\",\"1016683/0001016683-12-000010.txt\",\"1016683/0001016683-01-000002.txt\",\"1016683/0001016683-02-000007.txt\",\"1016683/0001016683-14-000004.txt\",\"1016683/0001016683-07-000006.txt\",\"1016683/0001016683-04-000010.txt\",\"1016683/0001016683-16-000011.txt\",\"1016683/0001016683-16-000017.txt\",\"1016683/0001016683-12-000006.txt\",\"1016683/0001016683-99-000005.txt\",\"1016683/0001016683-13-000008.txt\",\"1016683/0001016683-02-000002.txt\",\"1016683/0001016683-13-000003.txt\",\"1016683/0001016683-19-000008.txt\",\"1016683/0001016683-17-000005.txt\",\"1016683/0001016683-18-000001.txt\",\"1016683/0001016683-03-000002.txt\",\"1016683/0001016683-11-000006.txt\",\"1016683/0001016683-17-000003.txt\",\"1016683/0001016683-15-000004.txt\",\"1016683/0001016683-11-000008.txt\",\"1016683/0001016683-03-000007.txt\",\"1016683/0001016683-08-000004.txt\",\"1016683/0001016683-18-000005.txt\",\"1016683/0001016683-09-000006.txt\",\"1016683/0001016683-08-000007.txt\",\"1016683/0001016683-20-000005.txt\",\"1016683/0001016683-19-000006.txt\",\"1016683/0001016683-00-000009.txt\",\"1016683/0001016683-09-000002.txt\",\"1016683/0001016683-04-000002.txt\",\"1016683/0001016683-01-500009.txt\",\"1016683/0001016683-03-000005.txt\",\"1016683/0001016683-05-000007.txt\",\"1016683/0001016683-06-000011.txt\",\"1016683/0001016683-10-000007.txt\",\"1016683/0001016683-21-000001.txt\",\"1016683/0001016683-04-000006.txt\",\"1016683/0001016683-01-500006.txt\",\"1016683/0001016683-99-000006.txt\",\"1016683/0001016683-20-000004.txt\",\"1016683/0001016683-16-000013.txt\",\"1016683/0001016683-06-000004.txt\",\"1016683/0001016683-05-000009.txt\",\"1016683/0001016683-12-000004.txt\",\"1016683/0001016683-18-000003.txt\",\"1016683/0001016683-10-000011.txt\",\"1016683/0001016683-19-000004.txt\",\"1016683/0001016683-17-000002.txt\",\"1016683/0001016683-12-000008.txt\",\"1016683/0001016683-06-000002.txt\"],\"fdate\":{\"__ndarray__\":\"AABA+/VycEIAAIA+9B5wQgAAQESkd3RCAABAdHVLckIAAADk40F0QgAAgEwJ4WtCAABALfiHckIAAMBnAGtyQgAAQMIDuHRCAADAOjrkc0IAAABk6glxQgAAAAfq+HVCAACAUSRsdkIAAIDyt/ZqQgAAgEqqDHVCAADADXRddUIAAIDKsNRxQgAAAH3UynBCAACAFospbkIAAICf4GtrQgAAwMUpHnRCAADAVCxEcUIAAEA/W1l3QgAAAEXQjm9CAACAcNwTb0IAAAB2tpF0QgAAgG5CHGxCAACAwRmna0IAAIBQV/B0QgAAgHp74HJCAACAplrLbEIAAAC4jhByQgAAwM7hTnNCAAAAERN/cUIAAMCyVfdyQgAAAMxQtm1CAABADfCNdkIAAEDskF5xQgAAACBrA3dCAAAAs66oc0IAAIAba5FsQgAAAFdA8G1CAACAiNhVdEIAAAD1hidxQgAAgEShAnBCAADAgoQjdUIAAMC/E4R1QgAAQGZGaXNCAAAASUwxa0IAAIBsTP5zQgAAgHW8e21CAACAD/DGc0IAAADK8eF2QgAAQHmx2XVCAACA+nQYdkIAAIA4xGRuQgAAgG4hGXNCAABAFqi+dUIAAIC/utJ0QgAAwD1FMXNCAACAqsndbkIAAICod5lxQgAAALq/UXZCAADArn0uckIAAADXJbVxQgAAAKtaPXdCAACAm0PGdkIAAICdC1FsQgAAQFjp83FCAACA7jtUb0IAAACI3j9tQgAAACaioG5CAACAof05cEIAAIAHqetwQgAAgFhCpXJCAAAAnwB2d0IAAICbZMlvQgAAAGalBG1CAAAA4JUya0IAAEBYRRp3QgAAgAMtSXVCAAAAGsuvcEIAAACViFlwQgAAQM/8Z3NCAACA9Mc0dkIAAMCQHLxyQgAAwNLnqnZCAAAA612hdUIAAAAiEotzQgAAwO6AknBC\",\"dtype\":\"float64\",\"order\":\"little\",\"shape\":[90]},\"file_record_count\":[68,78,141,101,147,66,118,100,143,156,90,130,125,56,138,147,78,79,44,43,145,109,133,79,65,145,64,73,150,119,30,75,115,111,122,58,128,115,130,136,51,53,140,97,78,142,149,128,47,172,65,143,130,136,133,42,121,137,148,107,50,105,121,98,110,132,127,66,60,74,49,41,77,81,112,143,81,66,47,117,133,65,72,115,127,119,129,145,118,69],\"file_value_sum\":{\"__ndarray__\":\"AAAAACjyAUEAAAAAIO3+QAAAAADkTBdBAAAAACiwCkEAAAAALIAWQQAAAADkERFBAAAAAIDzD0EAAAAA2CoNQQAAAAD0mRdBAAAAACQFEkEAAAAA4EMIQQAAAADsMhtBAAAAAKR0HEEAAAAAeMkDQQAAAABUGhZBAAAAACwuF0EAAAAA0AMBQQAAAABACQRBAAAAAGBw+kAAAAAAID//QAAAAADUxxNBAAAAAJCODEEAAAAAesggQQAAAADwgPtAAAAAAFBC9UAAAAAAKNoXQQAAAABsbhBBAAAAAHglD0EAAAAAUB0ZQQAAAAA08hFBAAAAAGAr5UAAAAAAKOcBQQAAAAAo+RBBAAAAALBGDUEAAAAAePIRQQAAAAAYbwNBAAAAAPD/GEEAAAAAcNcMQQAAAACUmR9BAAAAAMh7EUEAAAAAKFoCQQAAAABATQFBAAAAADBkFkEAAAAA2J0HQQAAAACQGf1AAAAAAFDjF0EAAAAAtL0XQQAAAACwjxJBAAAAACiIB0EAAAAA8EIRQQAAAACYmgRBAAAAAGx+EUEAAAAA9OIcQQAAAABMQRpBAAAAACw6HEEAAAAAALH0QAAAAABUgBJBAAAAAPDOGEEAAAAAwBgZQQAAAADwLA1BAAAAAIDr80AAAAAAkG4JQQAAAABEYxtBAAAAANg2CUEAAAAAgAEOQQAAAAD8mR5BAAAAAMzvHEEAAAAA+HMVQQAAAADQCvxAAAAAAPC9+UAAAAAA2CkAQQAAAADwZvFAAAAAAPDJ/kAAAAAA4FkFQQAAAACAiwxBAAAAABLdI0EAAAAAQNj7QAAAAAAgxwhBAAAAACiIB0EAAAAA8IwZQQAAAABY7xVBAAAAACjBBUEAAAAA8BEAQQAAAAAo+RBBAAAAAFhNG0EAAAAAiBEQQQAAAAAkxBtBAAAAAEyNFkEAAAAAsLwPQQAAAACAyANB\",\"dtype\":\"float64\",\"order\":\"little\",\"shape\":[90]},\"quarter\":[\"2005Q3\",\"2004Q4\",\"2014Q2\",\"2009Q3\",\"2013Q4\",\"2000Q1\",\"2010Q1\",\"2009Q4\",\"2014Q4\",\"2013Q1\",\"2006Q4\",\"2017Q3\",\"2018Q3\",\"1999Q1\",\"2015Q3\",\"2016Q2\",\"2008Q3\",\"2006Q2\",\"2002Q3\",\"1999Q3\",\"2013Q3\",\"2007Q2\",\"2020Q3\",\"2004Q1\",\"2003Q3\",\"2014Q3\",\"2000Q2\",\"1999Q4\",\"2015Q2\",\"2010Q4\",\"2001Q1\",\"2009Q1\",\"2011Q4\",\"2007Q4\",\"2011Q1\",\"2002Q1\",\"2018Q4\",\"2007Q3\",\"2019Q4\",\"2012Q3\",\"2000Q4\",\"2002Q2\",\"2014Q1\",\"2007Q1\",\"2004Q3\",\"2015Q4\",\"2016Q3\",\"2012Q1\",\"1999Q2\",\"2013Q2\",\"2001Q4\",\"2012Q4\",\"2019Q3\",\"2017Q2\",\"2017Q4\",\"2002Q4\",\"2011Q2\",\"2017Q1\",\"2015Q1\",\"2011Q3\",\"2003Q2\",\"2008Q1\",\"2018Q2\",\"2009Q2\",\"2008Q2\",\"2020Q2\",\"2019Q2\",\"2000Q3\",\"2008Q4\",\"2003Q4\",\"2001Q3\",\"2003Q1\",\"2005Q1\",\"2006Q3\",\"2010Q2\",\"2020Q4\",\"2004Q2\",\"2001Q2\",\"1999Q2\",\"2020Q1\",\"2016Q1\",\"2006Q1\",\"2005Q2\",\"2011Q4\",\"2018Q1\",\"2010Q3\",\"2019Q1\",\"2016Q4\",\"2012Q2\",\"2005Q4\"],\"rdate\":{\"__ndarray__\":\"AAAAQEVqcEIAAEC+ZhJwQgAAQCOhbnRCAADA8INAckIAAIAyXzR0QgAAgIBJx2tCAABARxh7ckIAAMCBIF5yQgAAQEXaqXRCAABA5dvbc0IAAMDjXP1wQgAAQFIB7XVCAAAAZXxidkIAAICPrttqQgAAAMe4AXVCAACArulZdUIAAADeCMtxQgAAwDdqunBCAAAARAMTbkIAAAAIfFFrQgAAgKHCFnRCAACA1J43cUIAAEDwxE13QgAAAOLGc29CAACAafn9bkIAAEC0PYx0QgAAANfdAWxCAAAAKrWMa0IAAAA2HOR0QgAAgJSb03JCAAAApj+ybEIAAIA0nQVyQgAAQKcWSXNCAACA9tdycUIAAABak/ByQgAAgMs1nW1CAAAA9hiAdkIAAIBlO1VxQgAAwAiU9XZCAADAjkehc0IAAAAbUHhsQgAAACLK121CAAAA+FZRdEIAAECpVBpxQgAAgFqU6W9CAAAAWFUfdUIAAIA/hnd1QgAAgNJgZnNCAAAA5kIWa0IAAIAQJvlzQgAAgEBGY21CAADAH+S+c0IAAMB399d2QgAAQMFkz3VCAABA450KdkIAAABmPE5uQgAAQIXdDXNCAAAAlhqydUIAAMAK0sZ0QgAAQBZ6K3NCAACAR8DCbkIAAMAhIpBxQgAAANTfRHZCAADAX+cickIAAABNbK1xQgAAQF8oMHdCAADA5lq6dkIAAAD5Fj1sQgAAAG+l6HFCAACAizI5b0IAAIAeDShtQgAAAPEriG5CAADAg14vcEIAAMBSwN9wQgAAgHJimHJCAABAgWFrd0IAAIA4W65vQgAAgPzT7GxCAAAA5kIWa0IAAAA03hJ3QgAAQIOfPHVCAACAltmkcEIAAACvqExwQgAAQKcWSXNCAADAqJUndkIAAIAD/7VyQgAAgLsQnXZCAACA0CKVdUIAAMD9qoNzQgAAANHhh3BC\",\"dtype\":\"float64\",\"order\":\"little\",\"shape\":[90]},\"value_format\":[\"0.15M\",\"0.13M\",\"0.38M\",\"0.22M\",\"0.37M\",\"0.28M\",\"0.26M\",\"0.24M\",\"0.39M\",\"0.30M\",\"0.20M\",\"0.45M\",\"0.47M\",\"0.16M\",\"0.36M\",\"0.38M\",\"0.14M\",\"0.16M\",\"0.11M\",\"0.13M\",\"0.32M\",\"0.23M\",\"0.55M\",\"0.11M\",\"0.09M\",\"0.39M\",\"0.27M\",\"0.26M\",\"0.41M\",\"0.29M\",\"0.04M\",\"0.15M\",\"0.28M\",\"0.24M\",\"0.29M\",\"0.16M\",\"0.41M\",\"0.24M\",\"0.52M\",\"0.29M\",\"0.15M\",\"0.14M\",\"0.37M\",\"0.19M\",\"0.12M\",\"0.39M\",\"0.39M\",\"0.30M\",\"0.19M\",\"0.28M\",\"0.17M\",\"0.29M\",\"0.47M\",\"0.43M\",\"0.46M\",\"0.08M\",\"0.30M\",\"0.41M\",\"0.41M\",\"0.24M\",\"0.08M\",\"0.21M\",\"0.45M\",\"0.21M\",\"0.25M\",\"0.50M\",\"0.47M\",\"0.35M\",\"0.11M\",\"0.11M\",\"0.13M\",\"0.07M\",\"0.13M\",\"0.17M\",\"0.23M\",\"0.65M\",\"0.11M\",\"0.20M\",\"0.19M\",\"0.42M\",\"0.36M\",\"0.18M\",\"0.13M\",\"0.28M\",\"0.45M\",\"0.26M\",\"0.45M\",\"0.37M\",\"0.26M\",\"0.16M\"]},\"selected\":{\"id\":\"379260\"},\"selection_policy\":{\"id\":\"379308\"}},\"id\":\"379259\",\"type\":\"ColumnDataSource\"},{\"attributes\":{},\"id\":\"379270\",\"type\":\"Selection\"},{\"attributes\":{},\"id\":\"379406\",\"type\":\"UnionRenderers\"},{\"attributes\":{},\"id\":\"379280\",\"type\":\"Selection\"},{\"attributes\":{\"fill_alpha\":{\"value\":0},\"fill_color\":{\"value\":\"#1f77b4\"},\"height\":{\"field\":\"height\"},\"width\":{\"field\":\"width\"},\"x\":{\"field\":\"x\"},\"y\":{\"field\":\"y\"}},\"id\":\"379284\",\"type\":\"Rect\"},{\"attributes\":{\"months\":[0,1,2,3,4,5,6,7,8,9,10,11]},\"id\":\"379326\",\"type\":\"MonthsTicker\"},{\"attributes\":{},\"id\":\"379290\",\"type\":\"Selection\"},{\"attributes\":{\"coordinates\":null,\"data_source\":{\"id\":\"379269\"},\"glyph\":{\"id\":\"379272\"},\"group\":null,\"hover_glyph\":{\"id\":\"379275\"},\"muted_glyph\":{\"id\":\"379276\"},\"nonselection_glyph\":{\"id\":\"379273\"},\"selection_glyph\":{\"id\":\"379274\"},\"view\":{\"id\":\"379278\"}},\"id\":\"379277\",\"type\":\"GlyphRenderer\"},{\"attributes\":{\"fill_alpha\":{\"value\":0.08},\"fill_color\":{\"value\":\"#30a2da\"},\"hatch_alpha\":{\"value\":0.08},\"hatch_color\":{\"value\":\"#30a2da\"},\"line_alpha\":{\"value\":0.08},\"line_color\":{\"value\":\"#30a2da\"},\"size\":{\"value\":5.477225575051661},\"x\":{\"field\":\"rdate\"},\"y\":{\"field\":\"file_value_sum\"}},\"id\":\"379262\",\"type\":\"Scatter\"},{\"attributes\":{},\"id\":\"379351\",\"type\":\"DateEditor\"},{\"attributes\":{\"source\":{\"id\":\"379259\"}},\"id\":\"379268\",\"type\":\"CDSView\"},{\"attributes\":{\"below\":[{\"id\":\"379225\"}],\"center\":[{\"id\":\"379228\"},{\"id\":\"379232\"}],\"height\":350,\"left\":[{\"id\":\"379229\"}],\"margin\":[5,5,5,5],\"min_border_bottom\":10,\"min_border_left\":10,\"min_border_right\":10,\"min_border_top\":10,\"renderers\":[{\"id\":\"379267\"},{\"id\":\"379277\"},{\"id\":\"379287\"},{\"id\":\"379295\"}],\"sizing_mode\":\"fixed\",\"subscribed_events\":[\"selectiongeometry\",\"reset\"],\"title\":{\"id\":\"379217\"},\"toolbar\":{\"id\":\"379241\"},\"width\":900,\"x_range\":{\"id\":\"379206\"},\"x_scale\":{\"id\":\"379221\"},\"y_range\":{\"id\":\"379207\"},\"y_scale\":{\"id\":\"379223\"}},\"id\":\"379216\",\"subtype\":\"Figure\",\"type\":\"Plot\"},{\"attributes\":{},\"id\":\"379330\",\"type\":\"YearsTicker\"},{\"attributes\":{\"fill_color\":{\"value\":\"#30a2da\"},\"hatch_color\":{\"value\":\"#30a2da\"},\"line_color\":{\"value\":\"#30a2da\"},\"size\":{\"value\":5.477225575051661},\"x\":{\"field\":\"rdate\"},\"y\":{\"field\":\"file_value_sum\"}},\"id\":\"379276\",\"type\":\"Scatter\"},{\"attributes\":{\"bottom_units\":\"screen\",\"coordinates\":null,\"fill_alpha\":0.5,\"fill_color\":\"lightgrey\",\"group\":null,\"left_units\":\"screen\",\"level\":\"overlay\",\"line_alpha\":1.0,\"line_color\":\"black\",\"line_dash\":[4,4],\"line_width\":2,\"right_units\":\"screen\",\"syncable\":false,\"top_units\":\"screen\"},\"id\":\"379238\",\"type\":\"BoxAnnotation\"},{\"attributes\":{\"source\":{\"id\":\"379289\"}},\"id\":\"379296\",\"type\":\"CDSView\"},{\"attributes\":{},\"id\":\"379308\",\"type\":\"UnionRenderers\"},{\"attributes\":{\"js_property_callbacks\":{\"change:mode\":[{\"id\":\"379213\"}]},\"overlay\":{\"id\":\"379238\"}},\"id\":\"379210\",\"type\":\"BoxSelectTool\"},{\"attributes\":{\"fill_color\":{\"value\":\"#30a2da\"},\"hatch_color\":{\"value\":\"#30a2da\"},\"line_color\":{\"value\":\"#30a2da\"},\"size\":{\"value\":5.477225575051661},\"x\":{\"field\":\"rdate\"},\"y\":{\"field\":\"file_value_sum\"}},\"id\":\"379274\",\"type\":\"Scatter\"},{\"attributes\":{\"editor\":{\"id\":\"379351\"},\"field\":\"fdate\",\"formatter\":{\"id\":\"379350\"},\"title\":\"fdate\",\"width\":0},\"id\":\"379352\",\"type\":\"TableColumn\"},{\"attributes\":{\"fill_color\":{\"value\":\"#1f77b4\"},\"height\":{\"field\":\"height\"},\"width\":{\"field\":\"width\"},\"x\":{\"field\":\"x\"},\"y\":{\"field\":\"y\"}},\"id\":\"379286\",\"type\":\"Rect\"},{\"attributes\":{\"editor\":{\"id\":\"379346\"},\"field\":\"rdate\",\"formatter\":{\"id\":\"379345\"},\"title\":\"rdate\",\"width\":0},\"id\":\"379347\",\"type\":\"TableColumn\"},{\"attributes\":{\"js_property_callbacks\":{\"change:mode\":[{\"id\":\"379214\"}]},\"overlay\":{\"id\":\"379240\"}},\"id\":\"379211\",\"type\":\"LassoSelectTool\"},{\"attributes\":{},\"id\":\"379237\",\"type\":\"ResetTool\"},{\"attributes\":{},\"id\":\"379314\",\"type\":\"UnionRenderers\"},{\"attributes\":{\"data\":{\"address\":[\"1016683/0001016683-05-000011.txt\",\"1016683/0001016683-05-000002.txt\",\"1016683/0001016683-14-000006.txt\",\"1016683/0001016683-09-000009.txt\",\"1016683/0001016683-14-000002.txt\",\"1016683/0001016683-00-000003.txt\",\"1016683/0001016683-10-000005.txt\",\"1016683/0001016683-10-000002.txt\",\"1016683/0001016683-15-000002.txt\",\"1016683/0001016683-13-000005.txt\"],\"cik\":[1016683,1016683,1016683,1016683,1016683,1016683,1016683,1016683,1016683,1016683],\"fdate\":{\"__ndarray__\":\"AABA+/VycEIAAIA+9B5wQgAAQESkd3RCAABAdHVLckIAAADk40F0QgAAgEwJ4WtCAABALfiHckIAAMBnAGtyQgAAQMIDuHRCAADAOjrkc0I=\",\"dtype\":\"float64\",\"order\":\"little\",\"shape\":[10]},\"file_record_count\":[68,78,141,101,147,66,118,100,143,156],\"file_value_sum\":{\"__ndarray__\":\"AAAAACjyAUEAAAAAIO3+QAAAAADkTBdBAAAAACiwCkEAAAAALIAWQQAAAADkERFBAAAAAIDzD0EAAAAA2CoNQQAAAAD0mRdBAAAAACQFEkE=\",\"dtype\":\"float64\",\"order\":\"little\",\"shape\":[10]},\"index\":[0,0,0,0,0,0,0,0,0,0],\"quarter\":[\"2005Q3\",\"2004Q4\",\"2014Q2\",\"2009Q3\",\"2013Q4\",\"2000Q1\",\"2010Q1\",\"2009Q4\",\"2014Q4\",\"2013Q1\"],\"rdate\":{\"__ndarray__\":\"AAAAQEVqcEIAAEC+ZhJwQgAAQCOhbnRCAADA8INAckIAAIAyXzR0QgAAgIBJx2tCAABARxh7ckIAAMCBIF5yQgAAQEXaqXRCAABA5dvbc0I=\",\"dtype\":\"float64\",\"order\":\"little\",\"shape\":[10]}},\"selected\":{\"id\":\"379333\"},\"selection_policy\":{\"id\":\"379406\"}},\"id\":\"379332\",\"type\":\"ColumnDataSource\"},{\"attributes\":{\"coordinates\":null,\"data_source\":{\"id\":\"379259\"},\"glyph\":{\"id\":\"379262\"},\"group\":null,\"hover_glyph\":{\"id\":\"379265\"},\"muted_glyph\":{\"id\":\"379266\"},\"nonselection_glyph\":{\"id\":\"379263\"},\"selection_glyph\":{\"id\":\"379264\"},\"view\":{\"id\":\"379268\"}},\"id\":\"379267\",\"type\":\"GlyphRenderer\"},{\"attributes\":{\"fill_alpha\":{\"value\":0.08},\"fill_color\":{\"value\":\"#30a2da\"},\"hatch_alpha\":{\"value\":0.08},\"hatch_color\":{\"value\":\"#30a2da\"},\"line_alpha\":{\"value\":0.08},\"line_color\":{\"value\":\"#30a2da\"},\"size\":{\"value\":5.477225575051661},\"x\":{\"field\":\"rdate\"},\"y\":{\"field\":\"file_value_sum\"}},\"id\":\"379265\",\"type\":\"Scatter\"},{\"attributes\":{\"fill_color\":{\"value\":\"#1f77b4\"},\"height\":{\"field\":\"height\"},\"width\":{\"field\":\"width\"},\"x\":{\"field\":\"x\"},\"y\":{\"field\":\"y\"}},\"id\":\"379285\",\"type\":\"Rect\"},{\"attributes\":{\"axis\":{\"id\":\"379229\"},\"coordinates\":null,\"dimension\":1,\"grid_line_color\":null,\"group\":null,\"ticker\":null},\"id\":\"379232\",\"type\":\"Grid\"},{\"attributes\":{\"fill_alpha\":{\"value\":0},\"fill_color\":{\"value\":\"#1f77b4\"},\"height\":{\"field\":\"height\"},\"width\":{\"field\":\"width\"},\"x\":{\"field\":\"x\"},\"y\":{\"field\":\"y\"}},\"id\":\"379282\",\"type\":\"Rect\"},{\"attributes\":{\"base\":60,\"mantissas\":[1,2,5,10,15,20,30],\"max_interval\":1800000.0,\"min_interval\":1000.0,\"num_minor_ticks\":0},\"id\":\"379320\",\"type\":\"AdaptiveTicker\"},{\"attributes\":{\"args\":{\"other\":{\"id\":\"379210\"}},\"code\":\"other.mode = this.mode\"},\"id\":\"379214\",\"type\":\"CustomJS\"},{\"attributes\":{\"fill_alpha\":{\"value\":0.08},\"fill_color\":{\"value\":\"#30a2da\"},\"hatch_alpha\":{\"value\":0.08},\"hatch_color\":{\"value\":\"#30a2da\"},\"line_alpha\":{\"value\":0.08},\"line_color\":{\"value\":\"#30a2da\"},\"size\":{\"value\":5.477225575051661},\"x\":{\"field\":\"rdate\"},\"y\":{\"field\":\"file_value_sum\"}},\"id\":\"379266\",\"type\":\"Scatter\"},{\"attributes\":{},\"id\":\"379370\",\"type\":\"StringFormatter\"},{\"attributes\":{\"coordinates\":null,\"data_source\":{\"id\":\"379289\"},\"glyph\":{\"id\":\"379292\"},\"group\":null,\"hover_glyph\":null,\"muted_glyph\":{\"id\":\"379294\"},\"nonselection_glyph\":{\"id\":\"379293\"},\"selection_glyph\":{\"id\":\"379297\"},\"view\":{\"id\":\"379296\"}},\"id\":\"379295\",\"type\":\"GlyphRenderer\"},{\"attributes\":{},\"id\":\"379221\",\"type\":\"LinearScale\"},{\"attributes\":{},\"id\":\"379336\",\"type\":\"CellEditor\"},{\"attributes\":{\"margin\":[5,10,5,10],\"options\":[\"1016683\",\"1016972\",\"1017115\",\"1017645\",\"1017918\",\"1018331\",\"1018674\",\"1018825\",\"1019231\",\"1020066\",\"1020317\",\"1020580\",\"1020585\",\"1020617\",\"1020918\",\"1021008\",\"1021117\",\"1021223\",\"1021249\",\"1021258\",\"1021642\",\"1021926\",\"1023279\",\"1024716\",\"1025421\",\"1026200\",\"1026710\",\"1027451\",\"1027796\",\"1027817\",\"1029160\",\"1030618\",\"1030815\",\"1031972\",\"1032814\",\"1033225\",\"1033427\",\"1033475\",\"1033505\",\"1033974\",\"1033984\",\"1034184\",\"1034196\",\"1034524\",\"1034541\",\"1034546\",\"1034549\",\"1034642\",\"1034771\",\"1034886\",\"1035350\",\"1035463\",\"1035912\",\"1036248\",\"1036325\",\"1037389\",\"1037558\",\"1037763\",\"1037792\",\"1038661\",\"1039565\",\"1039807\",\"1040190\",\"1040197\",\"1040198\",\"1040210\",\"1040273\",\"1040592\",\"1040762\",\"1041241\",\"1041885\",\"1042046\",\"1044207\",\"1044797\",\"1044905\",\"1044924\",\"1044929\",\"1044936\",\"1046187\",\"1047339\",\"1048921\",\"1049648\",\"1049650\",\"1050442\",\"1050463\",\"1050470\",\"1051359\",\"1052100\",\"1053013\",\"1053054\",\"1053055\",\"1054074\",\"1054425\",\"1054522\",\"1054554\",\"1054677\",\"1055290\",\"1055544\",\"1055963\",\"1055964\",\"1055966\",\"1056053\",\"1056288\",\"1056466\",\"1056488\",\"1056491\",\"1056515\",\"1056516\",\"1056527\",\"1056549\",\"1056559\",\"1056581\",\"1056593\",\"1056807\",\"1056821\",\"1056825\",\"1056827\",\"1056831\",\"1056859\",\"1056958\",\"1056973\",\"1057395\",\"1057439\",\"1058022\",\"1058470\",\"1058800\",\"1059187\",\"1061186\",\"1061768\",\"1062938\",\"1065349\",\"1065350\",\"1066816\",\"1067324\",\"1067926\",\"1067983\",\"1068829\",\"1070134\",\"1071483\",\"1072843\",\"1074027\",\"1074034\",\"1074266\",\"1074273\",\"1076598\",\"1077148\",\"1077583\",\"1078013\",\"1078246\",\"1078658\",\"1078841\",\"1079112\",\"1079114\",\"1079736\",\"1079738\",\"1079930\",\"1080071\",\"1080107\",\"1080117\",\"1080132\",\"1080166\",\"1080171\",\"1080173\",\"1080197\",\"1080201\",\"1080351\",\"1080374\",\"1080380\",\"1080381\",\"1080382\",\"1080386\",\"1080493\",\"1080523\",\"1080628\",\"1080818\",\"1081019\",\"1081198\",\"1082020\",\"1082215\",\"1082327\",\"1082339\",\"1082461\",\"1082491\",\"1082509\",\"1082621\",\"1082917\",\"1083323\",\"1083340\",\"1084207\",\"1084208\",\"1084683\",\"1085041\",\"1085163\",\"1085227\",\"1085601\",\"1085936\",\"1086477\",\"1086483\",\"1086611\",\"1086619\",\"1086762\",\"1086763\",\"1088859\",\"1088875\",\"1088950\",\"1089707\",\"1089755\",\"1089911\",\"1089991\",\"1090413\",\"1091561\",\"1091860\",\"1091923\",\"1092203\",\"1092290\",\"1092351\",\"1092903\",\"1093276\",\"1093589\",\"1094584\",\"1094749\",\"1095836\",\"1096783\",\"1097218\",\"1097278\",\"1097833\",\"1100710\",\"1101250\",\"1102062\",\"1102578\",\"1102598\",\"1103245\",\"1103738\",\"1103804\",\"1103882\",\"1103887\",\"1104186\",\"1104329\",\"1104366\",\"1105468\",\"1105471\",\"1105497\",\"1105837\",\"1105863\",\"1105909\",\"1106129\",\"1106191\",\"1106500\",\"1106505\",\"1106832\",\"1107261\",\"1107310\",\"1108893\",\"1108965\",\"1108969\",\"1109147\",\"1110806\",\"1113629\",\"1114618\",\"1114739\",\"1114928\",\"1115941\",\"1116247\",\"1125727\",\"1125816\",\"1129770\",\"1133219\",\"1134152\",\"1140334\",\"1140771\",\"1142031\",\"1142062\",\"1158583\",\"1389426\",\"1398739\",\"1469219\"],\"sizing_mode\":\"stretch_width\",\"title\":\"cik\",\"value\":\"1016683\"},\"id\":\"379205\",\"type\":\"panel.models.widgets.CustomSelect\"},{\"attributes\":{\"line_dash\":{\"value\":\"dotted\"},\"xs\":{\"field\":\"xs\"},\"ys\":{\"field\":\"ys\"}},\"id\":\"379292\",\"type\":\"MultiLine\"},{\"attributes\":{\"overlay\":{\"id\":\"379239\"}},\"id\":\"379236\",\"type\":\"BoxZoomTool\"},{\"attributes\":{},\"id\":\"379341\",\"type\":\"IntEditor\"},{\"attributes\":{\"editor\":{\"id\":\"379371\"},\"field\":\"quarter\",\"formatter\":{\"id\":\"379370\"},\"title\":\"quarter\",\"width\":0},\"id\":\"379372\",\"type\":\"TableColumn\"},{\"attributes\":{\"months\":[0,2,4,6,8,10]},\"id\":\"379327\",\"type\":\"MonthsTicker\"},{\"attributes\":{},\"id\":\"379252\",\"type\":\"DatetimeTickFormatter\"},{\"attributes\":{\"format\":\"%Y-%m-%d %H:%M:%S\",\"text_align\":\"right\"},\"id\":\"379350\",\"type\":\"DateFormatter\"},{\"attributes\":{\"callback\":null,\"formatters\":{\"@{fdate}\":\"datetime\",\"@{rdate}\":\"datetime\"},\"renderers\":[{\"id\":\"379267\"},{\"id\":\"379277\"}],\"tags\":[\"hv_created\"],\"tooltips\":[[\"rdate\",\"@{rdate}{%F %T}\"],[\"file_value_sum\",\"@{file_value_sum}\"],[\"address\",\"@{address}\"],[\"fdate\",\"@{fdate}{%F %T}\"],[\"quarter\",\"@{quarter}\"],[\"value_format\",\"@{value_format}\"],[\"file_record_count\",\"@{file_record_count}\"]]},\"id\":\"379212\",\"type\":\"HoverTool\"},{\"attributes\":{\"coordinates\":null,\"group\":null,\"text_color\":\"black\",\"text_font_size\":\"12pt\"},\"id\":\"379217\",\"type\":\"Title\"},{\"attributes\":{\"coordinates\":null,\"fill_alpha\":0.5,\"fill_color\":\"lightgrey\",\"group\":null,\"level\":\"overlay\",\"line_alpha\":1.0,\"line_color\":\"black\",\"line_dash\":[4,4],\"line_width\":2,\"syncable\":false,\"xs_units\":\"screen\",\"ys_units\":\"screen\"},\"id\":\"379240\",\"type\":\"PolyAnnotation\"},{\"attributes\":{\"format\":\"0,0.0[00000]\",\"text_align\":\"right\"},\"id\":\"379360\",\"type\":\"NumberFormatter\"},{\"attributes\":{},\"id\":\"379230\",\"type\":\"BasicTicker\"},{\"attributes\":{\"fill_color\":{\"value\":\"#30a2da\"},\"hatch_color\":{\"value\":\"#30a2da\"},\"line_color\":{\"value\":\"#30a2da\"},\"size\":{\"value\":5.477225575051661},\"x\":{\"field\":\"rdate\"},\"y\":{\"field\":\"file_value_sum\"}},\"id\":\"379275\",\"type\":\"Scatter\"},{\"attributes\":{\"fill_color\":{\"value\":\"#30a2da\"},\"hatch_color\":{\"value\":\"#30a2da\"},\"line_color\":{\"value\":\"#30a2da\"},\"size\":{\"value\":5.477225575051661},\"x\":{\"field\":\"rdate\"},\"y\":{\"field\":\"file_value_sum\"}},\"id\":\"379272\",\"type\":\"Scatter\"},{\"attributes\":{\"active_drag\":{\"id\":\"379234\"},\"active_scroll\":{\"id\":\"379235\"},\"tools\":[{\"id\":\"379210\"},{\"id\":\"379211\"},{\"id\":\"379212\"},{\"id\":\"379233\"},{\"id\":\"379234\"},{\"id\":\"379235\"},{\"id\":\"379236\"},{\"id\":\"379237\"}]},\"id\":\"379241\",\"type\":\"Toolbar\"},{\"attributes\":{\"format\":\"%d\"},\"id\":\"379250\",\"type\":\"PrintfTickFormatter\"},{\"attributes\":{},\"id\":\"379361\",\"type\":\"NumberEditor\"},{\"attributes\":{\"line_alpha\":{\"value\":1.0},\"line_cap\":{\"value\":\"butt\"},\"line_color\":{\"value\":\"black\"},\"line_dash\":{\"value\":\"dotted\"},\"line_dash_offset\":{\"value\":0},\"line_join\":{\"value\":\"bevel\"},\"line_width\":{\"value\":1},\"xs\":{\"field\":\"xs\"},\"ys\":{\"field\":\"ys\"}},\"id\":\"379297\",\"type\":\"MultiLine\"},{\"attributes\":{\"line_alpha\":{\"value\":0.1},\"line_dash\":{\"value\":\"dotted\"},\"xs\":{\"field\":\"xs\"},\"ys\":{\"field\":\"ys\"}},\"id\":\"379293\",\"type\":\"MultiLine\"},{\"attributes\":{},\"id\":\"379356\",\"type\":\"StringEditor\"},{\"attributes\":{\"mantissas\":[1,2,5],\"max_interval\":500.0,\"num_minor_ticks\":0},\"id\":\"379319\",\"type\":\"AdaptiveTicker\"},{\"attributes\":{\"source\":{\"id\":\"379279\"}},\"id\":\"379288\",\"type\":\"CDSView\"},{\"attributes\":{\"fill_color\":{\"value\":\"#30a2da\"},\"hatch_color\":{\"value\":\"#30a2da\"},\"line_color\":{\"value\":\"#30a2da\"},\"size\":{\"value\":5.477225575051661},\"x\":{\"field\":\"rdate\"},\"y\":{\"field\":\"file_value_sum\"}},\"id\":\"379273\",\"type\":\"Scatter\"},{\"attributes\":{},\"id\":\"379253\",\"type\":\"AllLabels\"},{\"attributes\":{\"days\":[1,4,7,10,13,16,19,22,25,28]},\"id\":\"379323\",\"type\":\"DaysTicker\"},{\"attributes\":{},\"id\":\"379371\",\"type\":\"StringEditor\"},{\"attributes\":{},\"id\":\"379260\",\"type\":\"Selection\"},{\"attributes\":{\"editor\":{\"id\":\"379336\"},\"field\":\"index\",\"formatter\":{\"id\":\"379334\"},\"title\":\"index\",\"width\":0},\"id\":\"379337\",\"type\":\"TableColumn\"},{\"attributes\":{\"data\":{\"xs\":[],\"ys\":[]},\"selected\":{\"id\":\"379290\"},\"selection_policy\":{\"id\":\"379314\"}},\"id\":\"379289\",\"type\":\"ColumnDataSource\"},{\"attributes\":{\"editor\":{\"id\":\"379366\"},\"field\":\"file_record_count\",\"formatter\":{\"id\":\"379365\"},\"title\":\"file_record_count\",\"width\":0},\"id\":\"379367\",\"type\":\"TableColumn\"},{\"attributes\":{\"months\":[0,6]},\"id\":\"379329\",\"type\":\"MonthsTicker\"},{\"attributes\":{\"editor\":{\"id\":\"379356\"},\"field\":\"address\",\"formatter\":{\"id\":\"379355\"},\"title\":\"address\",\"width\":0},\"id\":\"379357\",\"type\":\"TableColumn\"},{\"attributes\":{\"client_comm_id\":\"2934cf5a814d491e9e698297173c336b\",\"comm_id\":\"7ca82035848a478ca0f5af17f1113576\",\"plot_id\":\"379203\"},\"id\":\"379470\",\"type\":\"panel.models.comm_manager.CommManager\"},{\"attributes\":{\"axis_label\":\"rdate\",\"coordinates\":null,\"formatter\":{\"id\":\"379252\"},\"group\":null,\"major_label_policy\":{\"id\":\"379253\"},\"ticker\":{\"id\":\"379226\"}},\"id\":\"379225\",\"type\":\"DatetimeAxis\"},{\"attributes\":{\"fill_alpha\":{\"value\":0.08},\"fill_color\":{\"value\":\"#30a2da\"},\"hatch_alpha\":{\"value\":0.08},\"hatch_color\":{\"value\":\"#30a2da\"},\"line_alpha\":{\"value\":0.08},\"line_color\":{\"value\":\"#30a2da\"},\"size\":{\"value\":5.477225575051661},\"x\":{\"field\":\"rdate\"},\"y\":{\"field\":\"file_value_sum\"}},\"id\":\"379263\",\"type\":\"Scatter\"},{\"attributes\":{\"days\":[1,8,15,22]},\"id\":\"379324\",\"type\":\"DaysTicker\"},{\"attributes\":{\"coordinates\":null,\"data_source\":{\"id\":\"379279\"},\"glyph\":{\"id\":\"379282\"},\"group\":null,\"hover_glyph\":{\"id\":\"379285\"},\"muted_glyph\":{\"id\":\"379286\"},\"nonselection_glyph\":{\"id\":\"379283\"},\"selection_glyph\":{\"id\":\"379284\"},\"view\":{\"id\":\"379288\"}},\"id\":\"379287\",\"type\":\"GlyphRenderer\"},{\"attributes\":{\"data\":{\"height\":{\"__ndarray__\":\"\",\"dtype\":\"float64\",\"order\":\"little\",\"shape\":[0]},\"width\":{\"__ndarray__\":\"\",\"dtype\":\"float64\",\"order\":\"little\",\"shape\":[0]},\"x\":{\"__ndarray__\":\"\",\"dtype\":\"float64\",\"order\":\"little\",\"shape\":[0]},\"y\":{\"__ndarray__\":\"\",\"dtype\":\"float64\",\"order\":\"little\",\"shape\":[0]}},\"selected\":{\"id\":\"379280\"},\"selection_policy\":{\"id\":\"379312\"}},\"id\":\"379279\",\"type\":\"ColumnDataSource\"},{\"attributes\":{\"data\":{\"address\":[\"1016683/0001016683-05-000011.txt\",\"1016683/0001016683-05-000002.txt\",\"1016683/0001016683-14-000006.txt\",\"1016683/0001016683-09-000009.txt\",\"1016683/0001016683-14-000002.txt\",\"1016683/0001016683-00-000003.txt\",\"1016683/0001016683-10-000005.txt\",\"1016683/0001016683-10-000002.txt\",\"1016683/0001016683-15-000002.txt\",\"1016683/0001016683-13-000005.txt\",\"1016683/0001016683-07-000004.txt\",\"1016683/0001016683-17-000007.txt\",\"1016683/0001016683-18-000007.txt\",\"1016683/0001016683-99-000003.txt\",\"1016683/0001016683-15-000009.txt\",\"1016683/0001016683-16-000015.txt\",\"1016683/0001016683-08-000010.txt\",\"1016683/0001016683-06-000009.txt\",\"1016683/0001016683-02-000009.txt\",\"1016683/0001016683-99-000009.txt\",\"1016683/0001016683-13-000010.txt\",\"1016683/0001016683-07-000009.txt\",\"1016683/0001016683-20-000008.txt\",\"1016683/0001016683-04-000004.txt\",\"1016683/0001016683-03-000009.txt\",\"1016683/0001016683-14-000008.txt\",\"1016683/0001016683-00-000005.txt\",\"1016683/0001016683-00-000002.txt\",\"1016683/0001016683-15-000006.txt\",\"1016683/0001016683-11-000002.txt\",\"1016683/0001016683-01-500004.txt\",\"1016683/0001016683-09-000004.txt\",\"1016683/0001016683-12-000002.txt\",\"1016683/0001016683-08-000002.txt\",\"1016683/0001016683-11-000004.txt\",\"1016683/0001016683-02-000005.txt\",\"1016683/0001016683-19-000002.txt\",\"1016683/0001016683-07-000011.txt\",\"1016683/0001016683-20-000002.txt\",\"1016683/0001016683-12-000010.txt\",\"1016683/0001016683-01-000002.txt\",\"1016683/0001016683-02-000007.txt\",\"1016683/0001016683-14-000004.txt\",\"1016683/0001016683-07-000006.txt\",\"1016683/0001016683-04-000010.txt\",\"1016683/0001016683-16-000011.txt\",\"1016683/0001016683-16-000017.txt\",\"1016683/0001016683-12-000006.txt\",\"1016683/0001016683-99-000005.txt\",\"1016683/0001016683-13-000008.txt\",\"1016683/0001016683-02-000002.txt\",\"1016683/0001016683-13-000003.txt\",\"1016683/0001016683-19-000008.txt\",\"1016683/0001016683-17-000005.txt\",\"1016683/0001016683-18-000001.txt\",\"1016683/0001016683-03-000002.txt\",\"1016683/0001016683-11-000006.txt\",\"1016683/0001016683-17-000003.txt\",\"1016683/0001016683-15-000004.txt\",\"1016683/0001016683-11-000008.txt\",\"1016683/0001016683-03-000007.txt\",\"1016683/0001016683-08-000004.txt\",\"1016683/0001016683-18-000005.txt\",\"1016683/0001016683-09-000006.txt\",\"1016683/0001016683-08-000007.txt\",\"1016683/0001016683-20-000005.txt\",\"1016683/0001016683-19-000006.txt\",\"1016683/0001016683-00-000009.txt\",\"1016683/0001016683-09-000002.txt\",\"1016683/0001016683-04-000002.txt\",\"1016683/0001016683-01-500009.txt\",\"1016683/0001016683-03-000005.txt\",\"1016683/0001016683-05-000007.txt\",\"1016683/0001016683-06-000011.txt\",\"1016683/0001016683-10-000007.txt\",\"1016683/0001016683-21-000001.txt\",\"1016683/0001016683-04-000006.txt\",\"1016683/0001016683-01-500006.txt\",\"1016683/0001016683-99-000006.txt\",\"1016683/0001016683-20-000004.txt\",\"1016683/0001016683-16-000013.txt\",\"1016683/0001016683-06-000004.txt\",\"1016683/0001016683-05-000009.txt\",\"1016683/0001016683-12-000004.txt\",\"1016683/0001016683-18-000003.txt\",\"1016683/0001016683-10-000011.txt\",\"1016683/0001016683-19-000004.txt\",\"1016683/0001016683-17-000002.txt\",\"1016683/0001016683-12-000008.txt\",\"1016683/0001016683-06-000002.txt\"],\"fdate\":{\"__ndarray__\":\"AABA+/VycEIAAIA+9B5wQgAAQESkd3RCAABAdHVLckIAAADk40F0QgAAgEwJ4WtCAABALfiHckIAAMBnAGtyQgAAQMIDuHRCAADAOjrkc0IAAABk6glxQgAAAAfq+HVCAACAUSRsdkIAAIDyt/ZqQgAAgEqqDHVCAADADXRddUIAAIDKsNRxQgAAAH3UynBCAACAFospbkIAAICf4GtrQgAAwMUpHnRCAADAVCxEcUIAAEA/W1l3QgAAAEXQjm9CAACAcNwTb0IAAAB2tpF0QgAAgG5CHGxCAACAwRmna0IAAIBQV/B0QgAAgHp74HJCAACAplrLbEIAAAC4jhByQgAAwM7hTnNCAAAAERN/cUIAAMCyVfdyQgAAAMxQtm1CAABADfCNdkIAAEDskF5xQgAAACBrA3dCAAAAs66oc0IAAIAba5FsQgAAAFdA8G1CAACAiNhVdEIAAAD1hidxQgAAgEShAnBCAADAgoQjdUIAAMC/E4R1QgAAQGZGaXNCAAAASUwxa0IAAIBsTP5zQgAAgHW8e21CAACAD/DGc0IAAADK8eF2QgAAQHmx2XVCAACA+nQYdkIAAIA4xGRuQgAAgG4hGXNCAABAFqi+dUIAAIC/utJ0QgAAwD1FMXNCAACAqsndbkIAAICod5lxQgAAALq/UXZCAADArn0uckIAAADXJbVxQgAAAKtaPXdCAACAm0PGdkIAAICdC1FsQgAAQFjp83FCAACA7jtUb0IAAACI3j9tQgAAACaioG5CAACAof05cEIAAIAHqetwQgAAgFhCpXJCAAAAnwB2d0IAAICbZMlvQgAAAGalBG1CAAAA4JUya0IAAEBYRRp3QgAAgAMtSXVCAAAAGsuvcEIAAACViFlwQgAAQM/8Z3NCAACA9Mc0dkIAAMCQHLxyQgAAwNLnqnZCAAAA612hdUIAAAAiEotzQgAAwO6AknBC\",\"dtype\":\"float64\",\"order\":\"little\",\"shape\":[90]},\"file_record_count\":[68,78,141,101,147,66,118,100,143,156,90,130,125,56,138,147,78,79,44,43,145,109,133,79,65,145,64,73,150,119,30,75,115,111,122,58,128,115,130,136,51,53,140,97,78,142,149,128,47,172,65,143,130,136,133,42,121,137,148,107,50,105,121,98,110,132,127,66,60,74,49,41,77,81,112,143,81,66,47,117,133,65,72,115,127,119,129,145,118,69],\"file_value_sum\":{\"__ndarray__\":\"AAAAACjyAUEAAAAAIO3+QAAAAADkTBdBAAAAACiwCkEAAAAALIAWQQAAAADkERFBAAAAAIDzD0EAAAAA2CoNQQAAAAD0mRdBAAAAACQFEkEAAAAA4EMIQQAAAADsMhtBAAAAAKR0HEEAAAAAeMkDQQAAAABUGhZBAAAAACwuF0EAAAAA0AMBQQAAAABACQRBAAAAAGBw+kAAAAAAID//QAAAAADUxxNBAAAAAJCODEEAAAAAesggQQAAAADwgPtAAAAAAFBC9UAAAAAAKNoXQQAAAABsbhBBAAAAAHglD0EAAAAAUB0ZQQAAAAA08hFBAAAAAGAr5UAAAAAAKOcBQQAAAAAo+RBBAAAAALBGDUEAAAAAePIRQQAAAAAYbwNBAAAAAPD/GEEAAAAAcNcMQQAAAACUmR9BAAAAAMh7EUEAAAAAKFoCQQAAAABATQFBAAAAADBkFkEAAAAA2J0HQQAAAACQGf1AAAAAAFDjF0EAAAAAtL0XQQAAAACwjxJBAAAAACiIB0EAAAAA8EIRQQAAAACYmgRBAAAAAGx+EUEAAAAA9OIcQQAAAABMQRpBAAAAACw6HEEAAAAAALH0QAAAAABUgBJBAAAAAPDOGEEAAAAAwBgZQQAAAADwLA1BAAAAAIDr80AAAAAAkG4JQQAAAABEYxtBAAAAANg2CUEAAAAAgAEOQQAAAAD8mR5BAAAAAMzvHEEAAAAA+HMVQQAAAADQCvxAAAAAAPC9+UAAAAAA2CkAQQAAAADwZvFAAAAAAPDJ/kAAAAAA4FkFQQAAAACAiwxBAAAAABLdI0EAAAAAQNj7QAAAAAAgxwhBAAAAACiIB0EAAAAA8IwZQQAAAABY7xVBAAAAACjBBUEAAAAA8BEAQQAAAAAo+RBBAAAAAFhNG0EAAAAAiBEQQQAAAAAkxBtBAAAAAEyNFkEAAAAAsLwPQQAAAACAyANB\",\"dtype\":\"float64\",\"order\":\"little\",\"shape\":[90]},\"quarter\":[\"2005Q3\",\"2004Q4\",\"2014Q2\",\"2009Q3\",\"2013Q4\",\"2000Q1\",\"2010Q1\",\"2009Q4\",\"2014Q4\",\"2013Q1\",\"2006Q4\",\"2017Q3\",\"2018Q3\",\"1999Q1\",\"2015Q3\",\"2016Q2\",\"2008Q3\",\"2006Q2\",\"2002Q3\",\"1999Q3\",\"2013Q3\",\"2007Q2\",\"2020Q3\",\"2004Q1\",\"2003Q3\",\"2014Q3\",\"2000Q2\",\"1999Q4\",\"2015Q2\",\"2010Q4\",\"2001Q1\",\"2009Q1\",\"2011Q4\",\"2007Q4\",\"2011Q1\",\"2002Q1\",\"2018Q4\",\"2007Q3\",\"2019Q4\",\"2012Q3\",\"2000Q4\",\"2002Q2\",\"2014Q1\",\"2007Q1\",\"2004Q3\",\"2015Q4\",\"2016Q3\",\"2012Q1\",\"1999Q2\",\"2013Q2\",\"2001Q4\",\"2012Q4\",\"2019Q3\",\"2017Q2\",\"2017Q4\",\"2002Q4\",\"2011Q2\",\"2017Q1\",\"2015Q1\",\"2011Q3\",\"2003Q2\",\"2008Q1\",\"2018Q2\",\"2009Q2\",\"2008Q2\",\"2020Q2\",\"2019Q2\",\"2000Q3\",\"2008Q4\",\"2003Q4\",\"2001Q3\",\"2003Q1\",\"2005Q1\",\"2006Q3\",\"2010Q2\",\"2020Q4\",\"2004Q2\",\"2001Q2\",\"1999Q2\",\"2020Q1\",\"2016Q1\",\"2006Q1\",\"2005Q2\",\"2011Q4\",\"2018Q1\",\"2010Q3\",\"2019Q1\",\"2016Q4\",\"2012Q2\",\"2005Q4\"],\"rdate\":{\"__ndarray__\":\"AAAAQEVqcEIAAEC+ZhJwQgAAQCOhbnRCAADA8INAckIAAIAyXzR0QgAAgIBJx2tCAABARxh7ckIAAMCBIF5yQgAAQEXaqXRCAABA5dvbc0IAAMDjXP1wQgAAQFIB7XVCAAAAZXxidkIAAICPrttqQgAAAMe4AXVCAACArulZdUIAAADeCMtxQgAAwDdqunBCAAAARAMTbkIAAAAIfFFrQgAAgKHCFnRCAACA1J43cUIAAEDwxE13QgAAAOLGc29CAACAafn9bkIAAEC0PYx0QgAAANfdAWxCAAAAKrWMa0IAAAA2HOR0QgAAgJSb03JCAAAApj+ybEIAAIA0nQVyQgAAQKcWSXNCAACA9tdycUIAAABak/ByQgAAgMs1nW1CAAAA9hiAdkIAAIBlO1VxQgAAwAiU9XZCAADAjkehc0IAAAAbUHhsQgAAACLK121CAAAA+FZRdEIAAECpVBpxQgAAgFqU6W9CAAAAWFUfdUIAAIA/hnd1QgAAgNJgZnNCAAAA5kIWa0IAAIAQJvlzQgAAgEBGY21CAADAH+S+c0IAAMB399d2QgAAQMFkz3VCAABA450KdkIAAABmPE5uQgAAQIXdDXNCAAAAlhqydUIAAMAK0sZ0QgAAQBZ6K3NCAACAR8DCbkIAAMAhIpBxQgAAANTfRHZCAADAX+cickIAAABNbK1xQgAAQF8oMHdCAADA5lq6dkIAAAD5Fj1sQgAAAG+l6HFCAACAizI5b0IAAIAeDShtQgAAAPEriG5CAADAg14vcEIAAMBSwN9wQgAAgHJimHJCAABAgWFrd0IAAIA4W65vQgAAgPzT7GxCAAAA5kIWa0IAAAA03hJ3QgAAQIOfPHVCAACAltmkcEIAAACvqExwQgAAQKcWSXNCAADAqJUndkIAAIAD/7VyQgAAgLsQnXZCAACA0CKVdUIAAMD9qoNzQgAAANHhh3BC\",\"dtype\":\"float64\",\"order\":\"little\",\"shape\":[90]},\"value_format\":[\"0.15M\",\"0.13M\",\"0.38M\",\"0.22M\",\"0.37M\",\"0.28M\",\"0.26M\",\"0.24M\",\"0.39M\",\"0.30M\",\"0.20M\",\"0.45M\",\"0.47M\",\"0.16M\",\"0.36M\",\"0.38M\",\"0.14M\",\"0.16M\",\"0.11M\",\"0.13M\",\"0.32M\",\"0.23M\",\"0.55M\",\"0.11M\",\"0.09M\",\"0.39M\",\"0.27M\",\"0.26M\",\"0.41M\",\"0.29M\",\"0.04M\",\"0.15M\",\"0.28M\",\"0.24M\",\"0.29M\",\"0.16M\",\"0.41M\",\"0.24M\",\"0.52M\",\"0.29M\",\"0.15M\",\"0.14M\",\"0.37M\",\"0.19M\",\"0.12M\",\"0.39M\",\"0.39M\",\"0.30M\",\"0.19M\",\"0.28M\",\"0.17M\",\"0.29M\",\"0.47M\",\"0.43M\",\"0.46M\",\"0.08M\",\"0.30M\",\"0.41M\",\"0.41M\",\"0.24M\",\"0.08M\",\"0.21M\",\"0.45M\",\"0.21M\",\"0.25M\",\"0.50M\",\"0.47M\",\"0.35M\",\"0.11M\",\"0.11M\",\"0.13M\",\"0.07M\",\"0.13M\",\"0.17M\",\"0.23M\",\"0.65M\",\"0.11M\",\"0.20M\",\"0.19M\",\"0.42M\",\"0.36M\",\"0.18M\",\"0.13M\",\"0.28M\",\"0.45M\",\"0.26M\",\"0.45M\",\"0.37M\",\"0.26M\",\"0.16M\"]},\"selected\":{\"id\":\"379270\"},\"selection_policy\":{\"id\":\"379310\"}},\"id\":\"379269\",\"type\":\"ColumnDataSource\"},{\"attributes\":{\"text_align\":\"right\"},\"id\":\"379340\",\"type\":\"NumberFormatter\"},{\"attributes\":{\"text_align\":\"right\"},\"id\":\"379365\",\"type\":\"NumberFormatter\"},{\"attributes\":{},\"id\":\"379234\",\"type\":\"PanTool\"},{\"attributes\":{\"children\":[{\"id\":\"379375\"}],\"margin\":[5,5,5,5],\"name\":\"ParamFunction1299019\",\"sizing_mode\":\"stretch_width\"},\"id\":\"379331\",\"type\":\"Row\"},{\"attributes\":{\"days\":[1,15]},\"id\":\"379325\",\"type\":\"DaysTicker\"},{\"attributes\":{\"args\":{\"other\":{\"id\":\"379211\"}},\"code\":\"other.mode = this.mode\"},\"id\":\"379213\",\"type\":\"CustomJS\"},{\"attributes\":{\"fill_alpha\":{\"value\":0},\"fill_color\":{\"value\":\"#1f77b4\"},\"height\":{\"field\":\"height\"},\"width\":{\"field\":\"width\"},\"x\":{\"field\":\"x\"},\"y\":{\"field\":\"y\"}},\"id\":\"379283\",\"type\":\"Rect\"},{\"attributes\":{\"editor\":{\"id\":\"379361\"},\"field\":\"file_value_sum\",\"formatter\":{\"id\":\"379360\"},\"title\":\"file_value_sum\",\"width\":0},\"id\":\"379362\",\"type\":\"TableColumn\"},{\"attributes\":{\"children\":[{\"id\":\"379204\"},{\"id\":\"379216\"},{\"id\":\"379331\"}],\"margin\":[0,0,0,0],\"name\":\"Column1299080\",\"sizing_mode\":\"stretch_width\"},\"id\":\"379203\",\"type\":\"Column\"},{\"attributes\":{},\"id\":\"379355\",\"type\":\"StringFormatter\"},{\"attributes\":{\"axis\":{\"id\":\"379225\"},\"coordinates\":null,\"grid_line_color\":null,\"group\":null,\"ticker\":null},\"id\":\"379228\",\"type\":\"Grid\"},{\"attributes\":{},\"id\":\"379233\",\"type\":\"SaveTool\"},{\"attributes\":{},\"id\":\"379366\",\"type\":\"IntEditor\"},{\"attributes\":{\"text_align\":\"left\"},\"id\":\"379334\",\"type\":\"NumberFormatter\"},{\"attributes\":{\"end\":711642.4,\"reset_end\":711642.4,\"reset_start\":-17398.4,\"start\":-17398.4,\"tags\":[[[\"file_value_sum\",\"file_value_sum\",null]]]},\"id\":\"379207\",\"type\":\"Range1d\"},{\"attributes\":{\"months\":[0,4,8]},\"id\":\"379328\",\"type\":\"MonthsTicker\"},{\"attributes\":{},\"id\":\"379223\",\"type\":\"LinearScale\"},{\"attributes\":{\"format\":\"%Y-%m-%d %H:%M:%S\",\"text_align\":\"right\"},\"id\":\"379345\",\"type\":\"DateFormatter\"},{\"attributes\":{},\"id\":\"379235\",\"type\":\"WheelZoomTool\"},{\"attributes\":{\"bottom_units\":\"screen\",\"coordinates\":null,\"fill_alpha\":0.5,\"fill_color\":\"lightgrey\",\"group\":null,\"left_units\":\"screen\",\"level\":\"overlay\",\"line_alpha\":1.0,\"line_color\":\"black\",\"line_dash\":[4,4],\"line_width\":2,\"right_units\":\"screen\",\"syncable\":false,\"top_units\":\"screen\"},\"id\":\"379239\",\"type\":\"BoxAnnotation\"},{\"attributes\":{\"end\":1636071360000.0,\"reset_end\":1636071360000.0,\"reset_start\":896139840000.0,\"start\":896139840000.0,\"tags\":[[[\"rdate\",\"rdate\",null]]]},\"id\":\"379206\",\"type\":\"Range1d\"},{\"attributes\":{\"base\":24,\"mantissas\":[1,2,4,6,8,12],\"max_interval\":43200000.0,\"min_interval\":3600000.0,\"num_minor_ticks\":0},\"id\":\"379321\",\"type\":\"AdaptiveTicker\"},{\"attributes\":{\"children\":[{\"id\":\"379205\"}],\"margin\":[0,0,0,0],\"name\":\"Column1298813\",\"sizing_mode\":\"stretch_width\"},\"id\":\"379204\",\"type\":\"Column\"},{\"attributes\":{\"axis_label\":\"file_value_sum\",\"coordinates\":null,\"formatter\":{\"id\":\"379250\"},\"group\":null,\"major_label_policy\":{\"id\":\"379256\"},\"ticker\":{\"id\":\"379230\"}},\"id\":\"379229\",\"type\":\"LinearAxis\"}],\"root_ids\":[\"379203\",\"379470\"]},\"title\":\"Bokeh Application\",\"version\":\"2.4.3\"}};\n",
       "    var render_items = [{\"docid\":\"d687811b-4e07-4ef3-a661-9398d357473d\",\"root_ids\":[\"379203\"],\"roots\":{\"379203\":\"cd2ae6e7-a46f-437e-bcfb-6842b1089cc9\"}}];\n",
       "    root.Bokeh.embed.embed_items_notebook(docs_json, render_items);\n",
       "    for (const render_item of render_items) {\n",
       "      for (const root_id of render_item.root_ids) {\n",
       "\tconst id_el = document.getElementById(root_id)\n",
       "\tif (id_el.children.length && (id_el.children[0].className === 'bk-root')) {\n",
       "\t  const root_el = id_el.children[0]\n",
       "\t  root_el.id = root_el.id + '-rendered'\n",
       "\t}\n",
       "      }\n",
       "    }\n",
       "  }\n",
       "  if (root.Bokeh !== undefined && root.Bokeh.Panel !== undefined && ( root['vega'] !== undefined) && ( root['vega'] !== undefined) && ( root['vega'] !== undefined) && ( root['vega'] !== undefined) && ( root['vega'] !== undefined) && ( root['Tabulator'] !== undefined) && ( root['Tabulator'] !== undefined) && ( root['Tabulator'] !== undefined) && ( root['Tabulator'] !== undefined) && ( root['Tabulator'] !== undefined) && ( root['Tabulator'] !== undefined) && ( root['Tabulator'] !== undefined) && ( root['Tabulator'] !== undefined) && ( root['Tabulator'] !== undefined) && ( root['Tabulator'] !== undefined) && ( root['Tabulator'] !== undefined) && ( root['Tabulator'] !== undefined) && ( root['Tabulator'] !== undefined) && ( root['Tabulator'] !== undefined) && ( root['Tabulator'] !== undefined) && ( root['Tabulator'] !== undefined) && ( root['Tabulator'] !== undefined) && ( root['Tabulator'] !== undefined) && ( root['Tabulator'] !== undefined) && ( root['Tabulator'] !== undefined) && ( root['Tabulator'] !== undefined) && ( root['Tabulator'] !== undefined) && ( root['Tabulator'] !== undefined) && ( root['Tabulator'] !== undefined) && ( root['Tabulator'] !== undefined) && ( root['Tabulator'] !== undefined) && ( root['Tabulator'] !== undefined) && ( root['Tabulator'] !== undefined) && ( root['Tabulator'] !== undefined) && ( root['Tabulator'] !== undefined) && ( root['Tabulator'] !== undefined) && ( root['Tabulator'] !== undefined) && ( root['Tabulator'] !== undefined) && ( root['Tabulator'] !== undefined) && ( root['Tabulator'] !== undefined) && ( root['Tabulator'] !== undefined) && ( root['Tabulator'] !== undefined) && ( root['Tabulator'] !== undefined) && ( root['Tabulator'] !== undefined) && ( root['Tabulator'] !== undefined) && ( root['Tabulator'] !== undefined) && ( root['Tabulator'] !== undefined) && ( root['Tabulator'] !== undefined) && ( root['Tabulator'] !== undefined) && ( root['Tabulator'] !== undefined) && ( root['Tabulator'] !== undefined) && ( root['Tabulator'] !== undefined) && ( root['Tabulator'] !== undefined) && ( root['Tabulator'] !== undefined) && ( root['Tabulator'] !== undefined) && ( root['Tabulator'] !== undefined) && ( root['Tabulator'] !== undefined) && ( root['Tabulator'] !== undefined) && ( root['Tabulator'] !== undefined) && ( root['Tabulator'] !== undefined) && ( root['Tabulator'] !== undefined) && ( root['Tabulator'] !== undefined) && ( root['Tabulator'] !== undefined) && ( root['Tabulator'] !== undefined) && ( root['Tabulator'] !== undefined) && ( root['Tabulator'] !== undefined) && ( root['Tabulator'] !== undefined) && ( root['Tabulator'] !== undefined) && ( root['Tabulator'] !== undefined) && ( root['Tabulator'] !== undefined) && ( root['Tabulator'] !== undefined) && ( root['Tabulator'] !== undefined) && ( root['Tabulator'] !== undefined) && ( root['Tabulator'] !== undefined) && ( root['Tabulator'] !== undefined)) {\n",
       "    embed_document(root);\n",
       "  } else {\n",
       "    var attempts = 0;\n",
       "    var timer = setInterval(function(root) {\n",
       "      if (root.Bokeh !== undefined && root.Bokeh.Panel !== undefined && (root['vega'] !== undefined) && (root['vega'] !== undefined) && (root['vega'] !== undefined) && (root['vega'] !== undefined) && (root['vega'] !== undefined) && (root['Tabulator'] !== undefined) && (root['Tabulator'] !== undefined) && (root['Tabulator'] !== undefined) && (root['Tabulator'] !== undefined) && (root['Tabulator'] !== undefined) && (root['Tabulator'] !== undefined) && (root['Tabulator'] !== undefined) && (root['Tabulator'] !== undefined) && (root['Tabulator'] !== undefined) && (root['Tabulator'] !== undefined) && (root['Tabulator'] !== undefined) && (root['Tabulator'] !== undefined) && (root['Tabulator'] !== undefined) && (root['Tabulator'] !== undefined) && (root['Tabulator'] !== undefined) && (root['Tabulator'] !== undefined) && (root['Tabulator'] !== undefined) && (root['Tabulator'] !== undefined) && (root['Tabulator'] !== undefined) && (root['Tabulator'] !== undefined) && (root['Tabulator'] !== undefined) && (root['Tabulator'] !== undefined) && (root['Tabulator'] !== undefined) && (root['Tabulator'] !== undefined) && (root['Tabulator'] !== undefined) && (root['Tabulator'] !== undefined) && (root['Tabulator'] !== undefined) && (root['Tabulator'] !== undefined) && (root['Tabulator'] !== undefined) && (root['Tabulator'] !== undefined) && (root['Tabulator'] !== undefined) && (root['Tabulator'] !== undefined) && (root['Tabulator'] !== undefined) && (root['Tabulator'] !== undefined) && (root['Tabulator'] !== undefined) && (root['Tabulator'] !== undefined) && (root['Tabulator'] !== undefined) && (root['Tabulator'] !== undefined) && (root['Tabulator'] !== undefined) && (root['Tabulator'] !== undefined) && (root['Tabulator'] !== undefined) && (root['Tabulator'] !== undefined) && (root['Tabulator'] !== undefined) && (root['Tabulator'] !== undefined) && (root['Tabulator'] !== undefined) && (root['Tabulator'] !== undefined) && (root['Tabulator'] !== undefined) && (root['Tabulator'] !== undefined) && (root['Tabulator'] !== undefined) && (root['Tabulator'] !== undefined) && (root['Tabulator'] !== undefined) && (root['Tabulator'] !== undefined) && (root['Tabulator'] !== undefined) && (root['Tabulator'] !== undefined) && (root['Tabulator'] !== undefined) && (root['Tabulator'] !== undefined) && (root['Tabulator'] !== undefined) && (root['Tabulator'] !== undefined) && (root['Tabulator'] !== undefined) && (root['Tabulator'] !== undefined) && (root['Tabulator'] !== undefined) && (root['Tabulator'] !== undefined) && (root['Tabulator'] !== undefined) && (root['Tabulator'] !== undefined) && (root['Tabulator'] !== undefined) && (root['Tabulator'] !== undefined) && (root['Tabulator'] !== undefined) && (root['Tabulator'] !== undefined) && (root['Tabulator'] !== undefined) && (root['Tabulator'] !== undefined)) {\n",
       "        clearInterval(timer);\n",
       "        embed_document(root);\n",
       "      } else if (document.readyState == \"complete\") {\n",
       "        attempts++;\n",
       "        if (attempts > 200) {\n",
       "          clearInterval(timer);\n",
       "          console.log(\"Bokeh: ERROR: Unable to run BokehJS code because BokehJS library is missing\");\n",
       "        }\n",
       "      }\n",
       "    }, 25, root)\n",
       "  }\n",
       "})(window);</script>"
      ],
      "text/plain": [
       "Column(sizing_mode='stretch_width')\n",
       "    [0] Column(sizing_mode='stretch_width')\n",
       "        [0] Select(name='cik', options=[1016683, 1016972, ...], sizing_mode='stretch_width', value=1016683)\n",
       "    [1] HoloViews(DynamicMap, height=350, sizing_mode='fixed', width=900)\n",
       "    [2] ParamFunction(function, _pane=Tabulator, sizing_mode='stretch_width')"
      ]
     },
     "execution_count": 1319,
     "metadata": {
      "application/vnd.holoviews_exec.v0+json": {
       "id": "379203"
      }
     },
     "output_type": "execute_result"
    }
   ],
   "source": [
    "# Fully working hvplot data cleaning tool\n",
    "import panel as pn\n",
    "import holoviews as hv\n",
    "pn.extension('tabulator', template='material', sizing_mode='stretch_width')\n",
    "import hvplot.pandas # noqa\n",
    "pd.options.display.float_format = '{:.0f}'.format\n",
    "\n",
    "cik_dropdown = pn.widgets.Select(name='cik',\n",
    "                                     options=big_df.cik.unique().tolist(),\n",
    "                                     value=big_df.cik.unique().tolist()[0])\n",
    "\n",
    "big_dfi =  big_df.interactive(sizing_mode='stretch_width')\n",
    "filtered_big_dfi = big_dfi[(big_dfi['cik'] == cik_dropdown)]\n",
    "# points plot\n",
    "points_plot = filtered_big_dfi.hvplot(x='rdate',\n",
    "                                      y='file_value_sum',\n",
    "                                      kind='points',\n",
    "                                      height=350, \n",
    "                                      width=900,\n",
    "                                      persist=True,\n",
    "                                      hover_cols=['address', 'fdate','quarter', 'value_format', 'file_record_count'],\n",
    "                                      formatters={'value_format': '%s', 'file_value_sum': 'int'},\n",
    "                                      yformatter='%d')\n",
    "ls = hv.link_selections.instance(unselected_alpha=0.08)\n",
    "\n",
    "# Table is not yet dynamically linked to the linked selection\n",
    "table = filtered_big_dfi[['cik', 'rdate', 'fdate', 'address', 'file_value_sum', 'file_record_count', 'quarter']].pipe(ls.filter, selection_expr=ls.param.selection_expr).pipe(\n",
    "    pn.widgets.Tabulator, pagination='remote', page_size=10)\n",
    "\n",
    "column = pn.Column(filtered_big_dfi.widgets(),ls(points_plot.holoviews()), ls(table.panel()))\n",
    "\n",
    "column"
   ]
  },
  {
   "cell_type": "markdown",
   "id": "445790fe-39cc-4269-af7c-42646e6fda08",
   "metadata": {},
   "source": [
    "### **Captures the selection** into a list of file paths"
   ]
  },
  {
   "cell_type": "code",
   "execution_count": null,
   "id": "cb0f47f0-8f80-4b42-bbe2-70d1c58e568e",
   "metadata": {
    "scrolled": true,
    "tags": []
   },
   "outputs": [],
   "source": [
    "# captures the selection into a list of file paths\n",
    "records_to_edit = ls.filter(big_df).query(f'cik == {cik_dropdown.value}')\n",
    "l = records_to_edit.path.to_list()\n",
    "l\n",
    "# l[0]\n",
    "# [print(i) for i in records_to_edit.path]"
   ]
  },
  {
   "cell_type": "markdown",
   "id": "1c3555bb-e5b3-49cc-85d6-e01d8323b99b",
   "metadata": {},
   "source": [
    "### **Opens file** in LibreOffice"
   ]
  },
  {
   "cell_type": "code",
   "execution_count": 1366,
   "id": "8b936703-af90-422c-ac93-a9e73b433ee8",
   "metadata": {
    "tags": []
   },
   "outputs": [
    {
     "name": "stderr",
     "output_type": "stream",
     "text": [
      "The file /Users/yo_macbook/Documents/app_data/dropbox_13f_files/processed_tables/TR_01_TEST_676_CIK_CSV_CLEANED_BOTH/1024716-0000913849-04-000058.csv does not exist.\n"
     ]
    },
    {
     "name": "stdin",
     "output_type": "stream",
     "text": [
      "did you correct the file? yes\n"
     ]
    },
    {
     "name": "stdout",
     "output_type": "stream",
     "text": [
      "file: /Users/yo_macbook/Documents/app_data/dropbox_13f_files/processed_tables/TR_01_TEST_676_CIK_CSV_CLEANED_BOTH/1024716-0000913849-04-000058.csv is finished\n"
     ]
    }
   ],
   "source": [
    "import os, sys\n",
    "file_to_open = l[1]\n",
    "os.system(f\"open {file_to_open} -a LibreOffice\")\n",
    "i = input(\"did you correct the file?\")\n",
    "if i == \"yes\":\n",
    "    print(f\"file: {file_to_open} is finished\")\n",
    "    # continue\n",
    "else: \n",
    "    sys.exit()"
   ]
  },
  {
   "cell_type": "markdown",
   "id": "7e6e4629-7bd7-4f99-beb7-b8b16b31f295",
   "metadata": {},
   "source": [
    "###  **Divides** the `df` by 1_000 and writes it to the original file "
   ]
  },
  {
   "cell_type": "code",
   "execution_count": 1361,
   "id": "fe0226c8-4993-4b34-a007-f873f2fdb87d",
   "metadata": {
    "tags": []
   },
   "outputs": [],
   "source": [
    "# devide by 1_000\n",
    "from pathlib import Path\n",
    "for file in l:\n",
    "    file = Path(file)\n",
    "    try:\n",
    "        # print(file)\n",
    "        df = pl.read_csv(file, columns=columns, dtypes=pl_dtypes, parse_dates=True) \n",
    "        df = df.to_pandas().astype(pd_dtypes_validation)\n",
    "        df = (df.assign(value=df.value/1000))\n",
    "        # df = (df.assign(value=df.value * 1000))\n",
    "        df.to_csv(file, index=False)\n",
    "    except:\n",
    "        print(\"error\")"
   ]
  },
  {
   "cell_type": "markdown",
   "id": "2d865835-e5a0-45de-94ae-c3596c32c339",
   "metadata": {
    "tags": []
   },
   "source": [
    "### **DELETES** files - CAREFUL!"
   ]
  },
  {
   "cell_type": "code",
   "execution_count": 1368,
   "id": "4e47f09e-32bd-4d8e-81ba-3c592b57f49f",
   "metadata": {
    "tags": []
   },
   "outputs": [
    {
     "name": "stdout",
     "output_type": "stream",
     "text": [
      "Error deleting /Users/yo_macbook/Documents/app_data/dropbox_13f_files/processed_tables/TR_01_TEST_676_CIK_CSV_CLEANED_BOTH/1034184-0001034184-14-000014.csv: [Errno 2] No such file or directory: '/Users/yo_macbook/Documents/app_data/dropbox_13f_files/processed_tables/TR_01_TEST_676_CIK_CSV_CLEANED_BOTH/1034184-0001034184-14-000014.csv'\n",
      "Error deleting /Users/yo_macbook/Documents/app_data/dropbox_13f_files/processed_tables/TR_01_TEST_676_CIK_CSV_CLEANED_BOTH/1034184-0001034184-14-000009.csv: [Errno 2] No such file or directory: '/Users/yo_macbook/Documents/app_data/dropbox_13f_files/processed_tables/TR_01_TEST_676_CIK_CSV_CLEANED_BOTH/1034184-0001034184-14-000009.csv'\n"
     ]
    }
   ],
   "source": [
    "# delete files\n",
    "import os\n",
    "\n",
    "for file in l:\n",
    "    try:\n",
    "        os.remove(file)\n",
    "        print(f\"{file} deleted successfully\")\n",
    "    except OSError as e:\n",
    "        print(f\"Error deleting {file}: {e}\")"
   ]
  },
  {
   "cell_type": "markdown",
   "id": "da72f628-433b-41c1-bc43-0eff12b49f49",
   "metadata": {},
   "source": [
    "### **DELETES** records  !!! that  contain certain string - CAREFUL!"
   ]
  },
  {
   "cell_type": "code",
   "execution_count": null,
   "id": "7af78eb3-dcfd-48e8-8408-9a61bfe2a152",
   "metadata": {
    "tags": []
   },
   "outputs": [],
   "source": [
    "# delete individual records, data frame\n",
    "from pathlib import Path\n",
    "for file in l[:]:\n",
    "    file = Path(file)\n",
    "\n",
    "    try:\n",
    "        # print(file)\n",
    "        df = pl.read_csv(file, columns=columns, dtypes=pl_dtypes, parse_dates=True) \n",
    "        df = df.to_pandas().astype(pd_dtypes_validation)\n",
    "        mask_delete_if_contains =  (df['cusip9'].str.contains('COM'))  | (df['cusip9'].str.contains('54928210C')) | \\\n",
    "                                   (df['cusip9'].str.contains('832696306')) | (df['cusip9'].str.contains('6986571CO'))\n",
    "        \n",
    "        display(df[mask_delete_if_contains])\n",
    "        df = df.drop(df[mask_delete_if_contains].index)\n",
    "\n",
    "        # print('#' * 40)\n",
    "        \n",
    "\n",
    "        df.to_csv(file, index=False)\n",
    "    except:\n",
    "        print(\"error\")    \n",
    "# TEGIESLTD         "
   ]
  },
  {
   "cell_type": "markdown",
   "id": "40ab1125-6f06-4a66-bb36-7aaf32cefb98",
   "metadata": {},
   "source": [
    "### **COPIES** `cusip, value, shares` from  `csv` **A** to **B** while keeping the dates and metadata of **B**"
   ]
  },
  {
   "cell_type": "code",
   "execution_count": 285,
   "id": "46a9f1ce-2dc9-40aa-911f-d0a07d6aea03",
   "metadata": {
    "tags": []
   },
   "outputs": [],
   "source": [
    "file_from = '/Users/yo_macbook/Documents/app_data/dropbox_13f_files/processed_tables/TR_01_TEST_676_CIK_CSV_CLEANED_BOTH/313028-0000313028-07-000001.csv'\n",
    "file_to = '/Users/yo_macbook/Documents/app_data/dropbox_13f_files/processed_tables/TR_01_TEST_676_CIK_CSV_CLEANED_BOTH/313028-0000313028-07-000002.csv'"
   ]
  },
  {
   "cell_type": "code",
   "execution_count": null,
   "id": "aef97bdb-0673-4efa-9a28-5124f328dd42",
   "metadata": {
    "tags": []
   },
   "outputs": [],
   "source": [
    "file_from = l[0]\n",
    "file_to = l[1]\n",
    "file_from, file_to"
   ]
  },
  {
   "cell_type": "code",
   "execution_count": null,
   "id": "77af4c8c-a992-4af3-97cc-093a562720c5",
   "metadata": {
    "tags": []
   },
   "outputs": [],
   "source": [
    "# Copy the contents of one CSV, another well changing dates and quarter\n",
    "file_from = Path(file_from)\n",
    "file_to = Path(file_to)\n",
    "\n",
    "try:\n",
    "    # print(file)\n",
    "    df_from = pl.read_csv(file_from, columns=columns, dtypes=pl_dtypes, parse_dates=True) \n",
    "    df_from = df_from.to_pandas().astype(pd_dtypes_validation)\n",
    "\n",
    "    df_to = pl.read_csv(file_to, columns=columns, dtypes=pl_dtypes, parse_dates=True) \n",
    "    df_to = df_to.to_pandas().astype(pd_dtypes_validation)\n",
    "    display('before transform')\n",
    "    display('from', df_from.head(3))\n",
    "    display('from value', df_from.value.sum())\n",
    "    display('to value', df_to.value.sum())\n",
    "\n",
    "    df_from.rdate, df_from.fdate, df_from.address, df_from.form = \\\n",
    "    df_to.rdate.head(1).values[0], df_to.fdate.head(1).values[0], df_to.address.head(1).values[0], df_to.form.head(1).values[0]\n",
    "    # print(file)\n",
    "    # print(f'value before: {df.value.sum()/1_000_000}M')\n",
    "\n",
    "\n",
    "    display('after transform')\n",
    "    display(df_from.head(3))\n",
    "    display(df_from.value.sum())\n",
    "\n",
    "    # print(file, f'value after: {df.value.sum()/1_000_000}M')\n",
    "    # print('#' * 40)\n",
    "\n",
    "\n",
    "    # df_from.to_csv(file_to, index=False)\n",
    "except:\n",
    "    print(\"error\")  "
   ]
  },
  {
   "cell_type": "markdown",
   "id": "f786174a-aa63-4897-a612-7e833e5b3748",
   "metadata": {},
   "source": [
    "### **Delete** records that contains some substring from files"
   ]
  },
  {
   "cell_type": "code",
   "execution_count": 1169,
   "id": "52ba0368-7268-4f06-9327-130396ee829d",
   "metadata": {
    "scrolled": true,
    "tags": []
   },
   "outputs": [],
   "source": [
    "# delete individual records with some substring form files\n",
    "from pathlib import Path\n",
    "for file in big_df.path.values[:]:\n",
    "    file = Path(file)\n",
    "    # print(file)\n",
    "    if file.exists():\n",
    "        df = pl.read_csv(file, columns=columns, dtypes=pl_dtypes, parse_dates=True)\n",
    "    else: continue\n",
    "    df = df.to_pandas().astype(pd_dtypes_validation)\n",
    "    # df = df.query('cusip9.str.contains(\"[a-zA-Z]{4,}\", regex=True)')\n",
    "    # df = df.query('cusip9.str.contains(\"TEGIES\")')\n",
    "    # if not df.empty: display(df)\n",
    "    df = df.drop(df.query('cusip9.str.contains(\"TEGIES\")').index)\n",
    "    df.to_csv(file, index=False)\n",
    "    \n",
    "    # df = df.query('cusip9.str.contains(\"TEGIES\")')\n",
    "    # if not df.empty: display(df)\n",
    "\n",
    " "
   ]
  },
  {
   "cell_type": "markdown",
   "id": "8655a55c-a91b-4e6f-8333-cb5f4ab00b22",
   "metadata": {},
   "source": [
    "## Bringing **my** filings for the selected CIK"
   ]
  },
  {
   "cell_type": "code",
   "execution_count": 155,
   "id": "db95faa2-09c8-4eca-911c-67ef2905d634",
   "metadata": {},
   "outputs": [
    {
     "name": "stdout",
     "output_type": "stream",
     "text": [
      "CPU times: user 34.4 s, sys: 6.47 s, total: 40.9 s\n",
      "Wall time: 33.4 s\n"
     ]
    }
   ],
   "source": [
    "%%time\n",
    "# df for my parsed data. `sec_app`. I will need to merge it with the `dropbox` data \n",
    "# and display it on the same charts tool\n",
    "from pathlib import Path\n",
    "import pandas as pd\n",
    "import polars as pl\n",
    "from scipy import stats\n",
    "\n",
    "\n",
    "selected_cik = [2230,3520,5272,7195,7789,9015,10742,14661,16972,18349,18748,19475,19617,21175,22657,24386,35442,35527,36066,36104,36644,36966,38777,39263,40417,40545,44365,45319,49205,50863,51762,51812,51964,52234,53417,59558,59951,60086,61227,67698,70858,71210,71259,72971,73124,80255,84616,89014,92230,93751,98758,102212,102909,105495,108572,200217,201772,216851,276101,310051,312348,313028,313807,314949,314957,314984,315014,315032,315038,315054,315066,315080,315157,315297,315498,316011,318989,320335,320376,351051,351173,351262,354204,356264,700529,704051,707179,712537,713676,714142,720672,723204,728083,728100,728618,732905,733020,740272,740913,741073,743127,750641,754811,757657,759944,762152,763212,763848,764068,764106,764112,764529,764532,765443,769317,769954,769963,775368,776867,778963,779519,788714,790354,790502,791191,791490,796848,799003,799004,801051,806097,807249,807985,808722,809339,809443,810265,810384,810386,810672,810716,811360,811454,813917,813933,814133,814375,816788,819535,820027,820123,820124,820289,820478,820743,821197,822581,823621,825293,829407,831001,831571,836372,837592,842782,842941,846222,846633,846788,846797,850401,850529,852743,854157,857508,859872,860486,860561,860580,860585,860643,860644,860645,860662,860748,860828,860857,861176,861177,861462,861787,862469,866361,866842,868491,869178,869179,869353,869367,872080,872163,872259,872573,872732,873630,874791,877134,877338,878228,881432,883511,883677,883782,883790,883803,883961,883965,884300,884314,884414,884423,884541,884546,884548,884566,884589,885062,885415,886982,887402,887777,887818,889232,891287,891478,893738,894205,894300,894309,895213,895421,897070,897378,897599,898358,898382,898399,898413,899211,900169,900529,900973,902219,902367,902464,902584,903064,903944,903947,903949,905567,905591,905608,906304,908195,909151,909661,911274,912938,914933,914976,915287,915325,916542,917579,918893,919079,919185,919192,919458,919489,919497,919530,919538,919859,920440,920441,921531,921669,922127,922439,922898,922940,923093,923116,923469,924166,924171,924181,926688,926833,926834,928047,928196,928566,928568,928633,930441,931097,932024,932974,933429,934639,934999,936698,936753,936936,936941,936944,937394,937522,937589,937615,937760,937886,938076,938206,938487,938582,938592,938759,939219,940445,941560,943719,944234,944804,945625,945631,947822,947996,948518,948669,949012,949509,949615,949623,949853,1000097,1000742,1002152,1002672,1002784,1004244,1005354,1005607,1005817,1006364,1006378,1006407,1006435,1007280,1007399,1007524,1008322,1008877,1008894,1008895,1008929,1008937,1009003,1009005,1009012,1009016,1009022,1009076,1009207,1009209,1009232,1009254,1009258,1009262,1010873,1010911,1011443,1011659,1013234,1013536,1013538,1013701,1014306,1014315,1014736,1014738,1015079,1015083,1015086,1015308,1016150,1016287,1016683,1016972,1017115,1017645,1017918,1018331,1018674,1018825,1019231,1020066,1020317,1020580,1020585,1020617,1020918,1021008,1021117,1021223,1021249,1021258,1021642,1021926,1023279,1024716,1025421,1026200,1026710,1027451,1027796,1027817,1029160,1030618,1030815,1031972,1032814,1033225,1033427,1033475,1033505,1033974,1033984,1034184,1034196,1034524,1034541,1034546,1034549,1034642,1034771,1034886,1035350,1035463,1035912,1036248,1036325,1037389,1037558,1037763,1037792,1038661,1039565,1039807,1040190,1040197,1040198,1040210,1040273,1040592,1040762,1041241,1041885,1042046,1044207,1044797,1044905,1044924,1044929,1044936,1046187,1047339,1048921,1049648,1049650,1050442,1050463,1050470,1051359,1052100,1053013,1053054,1053055,1054074,1054425,1054522,1054554,1054677,1055290,1055544,1055963,1055964,1055966,1056053,1056288,1056466,1056488,1056491,1056515,1056516,1056527,1056549,1056559,1056581,1056593,1056807,1056821,1056825,1056827,1056831,1056859,1056958,1056973,1057395,1057439,1058022,1058470,1058800,1059187,1061186,1061768,1062938,1065349,1065350,1066816,1067324,1067926,1067983,1068829,1070134,1071483,1072843,1074027,1074034,1074266,1074273,1076598,1077148,1077583,1078013,1078246,1078658,1078841,1079112,1079114,1079736,1079738,1079930,1080071,1080107,1080117,1080132,1080166,1080171,1080173,1080197,1080201,1080351,1080374,1080380,1080381,1080382,1080386,1080493,1080523,1080628,1080818,1081019,1081198,1082020,1082215,1082327,1082339,1082461,1082491,1082509,1082621,1082917,1083323,1083340,1084207,1084208,1084683,1085041,1085163,1085227,1085601,1085936,1086477,1086483,1086611,1086619,1086762,1086763,1088859,1088875,1088950,1089707,1089755,1089911,1089991,1090413,1091561,1091860,1091923,1092203,1092290,1092351,1092903,1093276,1093589,1094584,1094749,1095836,1096783,1097218,1097278,1097833,1100710,1101250,1102062,1102578,1102598,1103245,1103738,1103804,1103882,1103887,1104186,1104329,1104366,1105468,1105471,1105497,1105837,1105863,1105909,1106129,1106191,1106500,1106505,1106832,1107261,1107310,1108893,1108965,1108969,1109147,1110806,1113629,1114618,1114739,1114928,1115941,1116247,1125727,1125816,1129770,1133219,1134152,1140334,1140771,1142031,1142062,1158583,1389426,1398739,1469219]\n",
    "dropbox_csv = Path(r\"/Users/yo_macbook/Documents/app_data/dropbox_13f_files/processed_tables/TR_01_TEST_676_CIK_CSV_CLEANED_BOTH\")\n",
    "sec_app_parq = Path(r'/Users/yo_macbook/Documents/app_data/sec_apps_data/TR_02_TEST_676_CIK_PARQ_SEC_APP')\n",
    "## sec_app\n",
    "columns_dropbox = ['cik', 'cusip9','value', 'shares','rdate', 'fdate',\\\n",
    "            'address', 'form', 'type', 'dsource']\n",
    "\n",
    "pd_dtypes_validation_dropbox = {'cusip9': str, 'form': 'category',\n",
    "            'value': 'float64', 'shares': 'float64', 'type': 'category',\n",
    "            'cik' : 'int64', 'address': 'category',  'dsource': 'category'}\n",
    "\n",
    "pl_dtypes_dropbox = {'cusip9': str ,'form': str, 'value': pl.Float64, 'shares': pl.Float64, 'type': str,\n",
    "            'cik' : pl.Int64, 'address': str,  'dsource': str}\n",
    "\n",
    "## sec_app\n",
    "columns_sec_app = ['cik', 'cusip','value', 'shares','rdate', 'fdate',\\\n",
    "            'accession_number', 'submission_type', 'type', 'dsource', 'file']\n",
    "\n",
    "pd_dtypes_validation_sec_app = {'cusip': str, 'submission_type': 'category', 'value': 'float64', \n",
    "            'shares': 'float64', 'type': 'category', 'cik' : 'int64',\n",
    "            'accession_number': 'category',  'dsource': 'category', 'file':'category'}\n",
    "\n",
    "pl_dtypes_sec_app = {'cusip': str ,'submission_type': str, 'value': pl.Float64, 'shares': pl.Float64, 'type': str,\n",
    "            'cik' : pl.Int64, 'accession_number': str,  'dsource': str, 'file': str}\n",
    "\n",
    "\n",
    "list_dropbox = [file for file in dropbox_csv.glob(\"*.csv\")]\n",
    "list_sec_app = [file for file in sec_app_parq.glob(\"*.parquet\")]\n",
    "l_from = 0\n",
    "l_to = 30\n",
    "cutoff_date = '2014-01-01'\n",
    "\n",
    "cik_dfs = []\n",
    "for index, cik in enumerate(selected_cik[l_from:l_to]):\n",
    "    file_dfs = []\n",
    "    for file in list_dropbox:\n",
    "        if file.name.split(\"-\")[0] == str(cik):\n",
    "            try:\n",
    "                df_dropbox = pl.read_csv(file, columns=columns_dropbox, dtypes=pl_dtypes_dropbox, parse_dates=True) \n",
    "                \n",
    "                df_dropbox = df_dropbox.to_pandas().astype(pd_dtypes_validation_dropbox)\n",
    "                \n",
    "                if df_dropbox.empty or df_dropbox.fdate.max() >= pd.to_datetime(cutoff_date,format='%Y-%m-%d'): continue\n",
    "                \n",
    "                df_dropbox = (df_dropbox.assign(row_value_zscore = stats.zscore(df_dropbox.value),\n",
    "                                                file_value_sum = df_dropbox.value.sum(),\n",
    "                                                file_value_max = df_dropbox.value.max(),\n",
    "                                                file_value_min = df_dropbox.value.min(),\n",
    "                                                file_record_count = df_dropbox.shape[0],\n",
    "                                                quarter=df_dropbox.rdate.dt.to_period(freq=\"Q\").astype(str),\n",
    "                                                file=file)\n",
    "                             )\n",
    "                \n",
    "                df_dropbox_short = df_dropbox[['cik', 'cusip9', 'rdate', 'fdate',\n",
    "                               'address', 'file_value_sum', 'file_value_max',\n",
    "                               'file_value_min', 'file_record_count', 'quarter', 'file']].head(1)\n",
    "                df_dropbox_short = df_dropbox_short.rename(columns={'cusip9': 'cusip', 'address': 'accession_number'})\n",
    "               \n",
    "                \n",
    "                file_dfs.append(df_dropbox_short)\n",
    "                df_dropbox = None\n",
    "            except Exception as e:\n",
    "                print(f\"Problem reading file... {file.name}\")\n",
    "                print(e)\n",
    "\n",
    "      \n",
    "    cik_df = pd.concat(file_dfs)\n",
    "    file_dfs = None\n",
    "\n",
    "    cik_dfs.append(cik_df)\n",
    "big_dropbox_df = pd.concat(cik_dfs)\n",
    "\n",
    "######\n",
    "\n",
    "cik_sec_app_dfs = []\n",
    "for index, cik in enumerate(selected_cik[l_from:l_to]):\n",
    "    file_sec_app_dfs = []\n",
    "    for file in list_sec_app:\n",
    "        if file.name.split(\"-\")[0] == str(cik):\n",
    "            try:\n",
    "                df_sec_app = pl.read_parquet(file, columns=columns_sec_app) \n",
    "\n",
    "                df_sec_app = df_sec_app.to_pandas().astype(pd_dtypes_validation_sec_app)\n",
    "                if df_sec_app.empty or df_sec_app.fdate.max() < pd.to_datetime(cutoff_date,format='%Y-%m-%d'): continue\n",
    "\n",
    "                df_sec_app = (df_sec_app.assign(row_value_zscore = stats.zscore(df_sec_app.value),\n",
    "                                file_value_sum = df_sec_app.value.sum().round(),\n",
    "                                file_value_max = df_sec_app.value.max(),\n",
    "                                file_value_min = df_sec_app.value.min(),\n",
    "                                file_record_count = df_sec_app.shape[0],\n",
    "                                quarter=df_sec_app.rdate.dt.to_period(freq=\"Q\").astype(str),\n",
    "                                file=file)\n",
    "                             )\n",
    "                df_sec_app_short = df_sec_app[['cik', 'cusip', 'rdate', 'fdate',\n",
    "                               'accession_number', 'file_value_sum', 'file_value_max',\n",
    "                               'file_value_min', 'file_record_count', 'quarter', 'file']].head(1)\n",
    "\n",
    "\n",
    "                file_sec_app_dfs.append(df_sec_app_short)\n",
    "                df_sec_app = None\n",
    "            except Exception as e:\n",
    "                print(f\"Problem reading file... {file.name}\")\n",
    "                print(e)\n",
    "\n",
    "      \n",
    "    cik_sec_app_df = pd.concat(file_sec_app_dfs)\n",
    "    file_dfs = None\n",
    "\n",
    "    cik_sec_app_dfs.append(cik_sec_app_df)\n",
    "big_sec_app_df = pd.concat(cik_sec_app_dfs)\n",
    "\n",
    "common_df = pd.concat([big_dropbox_df,big_sec_app_df] )\n",
    "\n",
    "# format/formatting of amounts to million or billion\n",
    "common_df['value_format'] = common_df['file_value_sum'] / 1_000_000\n",
    "common_df['value_format'] = common_df['value_format'].apply(lambda x: f'{x:.2f}M' if x < 1000 else f'{x/1000:.2f}B')\n",
    "\n"
   ]
  },
  {
   "cell_type": "code",
   "execution_count": 156,
   "id": "4f6fb009-4cd4-4b3b-ab59-85422e0d9336",
   "metadata": {
    "tags": []
   },
   "outputs": [
    {
     "name": "stderr",
     "output_type": "stream",
     "text": [
      "WARNING:param.main: formatters option not found for points plot with bokeh; similar options include: ['yformatter', 'xformatter']\n",
      "WARNING:param.main: formatters option not found for points plot with bokeh; similar options include: ['yformatter', 'xformatter']\n",
      "WARNING:param.main: formatters option not found for points plot with bokeh; similar options include: ['yformatter', 'xformatter']\n",
      "WARNING:param.main: formatters option not found for points plot with bokeh; similar options include: ['yformatter', 'xformatter']\n"
     ]
    },
    {
     "data": {},
     "metadata": {},
     "output_type": "display_data"
    },
    {
     "data": {},
     "metadata": {},
     "output_type": "display_data"
    },
    {
     "data": {
      "application/vnd.holoviews_exec.v0+json": "",
      "text/html": [
       "<div id='26163'>\n",
       "  <div class=\"bk-root\" id=\"f767315e-c5cc-4068-b963-d62b35337cec\" data-root-id=\"26163\"></div>\n",
       "</div>\n",
       "<script type=\"application/javascript\">(function(root) {\n",
       "  function embed_document(root) {\n",
       "    var docs_json = {\"d52b9b52-a840-46c7-8f6b-47ba6fee7289\":{\"defs\":[{\"extends\":null,\"module\":null,\"name\":\"ReactiveHTML1\",\"overrides\":[],\"properties\":[]},{\"extends\":null,\"module\":null,\"name\":\"FlexBox1\",\"overrides\":[],\"properties\":[{\"default\":\"flex-start\",\"kind\":null,\"name\":\"align_content\"},{\"default\":\"flex-start\",\"kind\":null,\"name\":\"align_items\"},{\"default\":\"row\",\"kind\":null,\"name\":\"flex_direction\"},{\"default\":\"wrap\",\"kind\":null,\"name\":\"flex_wrap\"},{\"default\":\"flex-start\",\"kind\":null,\"name\":\"justify_content\"}]},{\"extends\":null,\"module\":null,\"name\":\"GridStack1\",\"overrides\":[],\"properties\":[{\"default\":\"warn\",\"kind\":null,\"name\":\"mode\"},{\"default\":null,\"kind\":null,\"name\":\"ncols\"},{\"default\":null,\"kind\":null,\"name\":\"nrows\"},{\"default\":true,\"kind\":null,\"name\":\"allow_resize\"},{\"default\":true,\"kind\":null,\"name\":\"allow_drag\"},{\"default\":[],\"kind\":null,\"name\":\"state\"}]},{\"extends\":null,\"module\":null,\"name\":\"click1\",\"overrides\":[],\"properties\":[{\"default\":\"\",\"kind\":null,\"name\":\"terminal_output\"},{\"default\":\"\",\"kind\":null,\"name\":\"debug_name\"},{\"default\":0,\"kind\":null,\"name\":\"clears\"}]},{\"extends\":null,\"module\":null,\"name\":\"NotificationAreaBase1\",\"overrides\":[],\"properties\":[{\"default\":\"bottom-right\",\"kind\":null,\"name\":\"position\"},{\"default\":0,\"kind\":null,\"name\":\"_clear\"}]},{\"extends\":null,\"module\":null,\"name\":\"NotificationArea1\",\"overrides\":[],\"properties\":[{\"default\":[],\"kind\":null,\"name\":\"notifications\"},{\"default\":\"bottom-right\",\"kind\":null,\"name\":\"position\"},{\"default\":0,\"kind\":null,\"name\":\"_clear\"},{\"default\":[{\"background\":\"#ffc107\",\"icon\":{\"className\":\"fas fa-exclamation-triangle\",\"color\":\"white\",\"tagName\":\"i\"},\"type\":\"warning\"},{\"background\":\"#007bff\",\"icon\":{\"className\":\"fas fa-info-circle\",\"color\":\"white\",\"tagName\":\"i\"},\"type\":\"info\"}],\"kind\":null,\"name\":\"types\"}]},{\"extends\":null,\"module\":null,\"name\":\"Notification\",\"overrides\":[],\"properties\":[{\"default\":null,\"kind\":null,\"name\":\"background\"},{\"default\":3000,\"kind\":null,\"name\":\"duration\"},{\"default\":null,\"kind\":null,\"name\":\"icon\"},{\"default\":\"\",\"kind\":null,\"name\":\"message\"},{\"default\":null,\"kind\":null,\"name\":\"notification_type\"},{\"default\":false,\"kind\":null,\"name\":\"_destroyed\"}]},{\"extends\":null,\"module\":null,\"name\":\"TemplateActions1\",\"overrides\":[],\"properties\":[{\"default\":0,\"kind\":null,\"name\":\"open_modal\"},{\"default\":0,\"kind\":null,\"name\":\"close_modal\"}]},{\"extends\":null,\"module\":null,\"name\":\"MaterialTemplateActions1\",\"overrides\":[],\"properties\":[{\"default\":0,\"kind\":null,\"name\":\"open_modal\"},{\"default\":0,\"kind\":null,\"name\":\"close_modal\"}]}],\"roots\":{\"references\":[{\"attributes\":{},\"id\":\"26326\",\"type\":\"IntEditor\"},{\"attributes\":{\"source\":{\"id\":\"26229\"}},\"id\":\"26238\",\"type\":\"CDSView\"},{\"attributes\":{\"editor\":{\"id\":\"26306\"},\"field\":\"rdate\",\"formatter\":{\"id\":\"26305\"},\"title\":\"rdate\",\"width\":0},\"id\":\"26307\",\"type\":\"TableColumn\"},{\"attributes\":{\"args\":{\"other\":{\"id\":\"26171\"}},\"code\":\"other.mode = this.mode\"},\"id\":\"26173\",\"type\":\"CustomJS\"},{\"attributes\":{\"editor\":{\"id\":\"26296\"},\"field\":\"index\",\"formatter\":{\"id\":\"26294\"},\"title\":\"index\",\"width\":0},\"id\":\"26297\",\"type\":\"TableColumn\"},{\"attributes\":{\"client_comm_id\":\"400c80b7366c401ba6579b390724c455\",\"comm_id\":\"246dccfed3b546cdaab213a21b293c79\",\"plot_id\":\"26163\"},\"id\":\"26430\",\"type\":\"panel.models.comm_manager.CommManager\"},{\"attributes\":{\"fill_alpha\":{\"value\":0.08},\"fill_color\":{\"value\":\"#30a2da\"},\"hatch_alpha\":{\"value\":0.08},\"hatch_color\":{\"value\":\"#30a2da\"},\"line_alpha\":{\"value\":0.08},\"line_color\":{\"value\":\"#30a2da\"},\"size\":{\"value\":5.477225575051661},\"x\":{\"field\":\"rdate\"},\"y\":{\"field\":\"file_value_sum\"}},\"id\":\"26225\",\"type\":\"Scatter\"},{\"attributes\":{},\"id\":\"26331\",\"type\":\"StringEditor\"},{\"attributes\":{},\"id\":\"26270\",\"type\":\"UnionRenderers\"},{\"attributes\":{\"active_drag\":{\"id\":\"26194\"},\"active_scroll\":{\"id\":\"26195\"},\"tools\":[{\"id\":\"26170\"},{\"id\":\"26171\"},{\"id\":\"26172\"},{\"id\":\"26193\"},{\"id\":\"26194\"},{\"id\":\"26195\"},{\"id\":\"26196\"},{\"id\":\"26197\"}]},\"id\":\"26201\",\"type\":\"Toolbar\"},{\"attributes\":{\"editor\":{\"id\":\"26326\"},\"field\":\"file_record_count\",\"formatter\":{\"id\":\"26325\"},\"title\":\"file_record_count\",\"width\":0},\"id\":\"26327\",\"type\":\"TableColumn\"},{\"attributes\":{},\"id\":\"26330\",\"type\":\"StringFormatter\"},{\"attributes\":{},\"id\":\"26194\",\"type\":\"PanTool\"},{\"attributes\":{\"coordinates\":null,\"data_source\":{\"id\":\"26219\"},\"glyph\":{\"id\":\"26222\"},\"group\":null,\"hover_glyph\":{\"id\":\"26225\"},\"muted_glyph\":{\"id\":\"26226\"},\"nonselection_glyph\":{\"id\":\"26223\"},\"selection_glyph\":{\"id\":\"26224\"},\"view\":{\"id\":\"26228\"}},\"id\":\"26227\",\"type\":\"GlyphRenderer\"},{\"attributes\":{\"data\":{\"accession_number\":[\"2230/0000002230-04-000014.txt\",\"2230/0000002230-02-000008.txt\",\"2230/0000002230-99-000007.txt\",\"2230/0000002230-99-000013.txt\",\"2230/0000002230-01-000002.txt\",\"2230/0000002230-01-500008.txt\",\"2230/0000002230-08-000056.txt\",\"2230/0000002230-07-000022.txt\",\"2230/0000002230-08-000043.txt\",\"2230/0000002230-10-000064.txt\",\"2230/0000002230-08-000025.txt\",\"2230/0000002230-10-000059.txt\",\"2230/0000002230-05-000032.txt\",\"2230/0000002230-09-000049.txt\",\"2230/0000002230-03-000013.txt\",\"2230/0000002230-00-000008.txt\",\"2230/0000002230-04-000049.txt\",\"2230/0000002230-03-000006.txt\",\"2230/0000002230-10-000072.txt\",\"2230/0000002230-13-000054.txt\",\"2230/0000002230-05-000035.txt\",\"2230/0000002230-11-000027.txt\",\"2230/0000002230-09-000065.txt\",\"2230/0000002230-06-000038.txt\",\"2230/0000002230-03-000001.txt\",\"2230/0000002230-13-000077.txt\",\"2230/0000002230-05-000012.txt\",\"2230/0000002230-07-000064.txt\",\"2230/0000002230-00-000003.txt\",\"2230/0000002230-07-000071.txt\",\"2230/0000002230-12-000032.txt\",\"2230/0000002230-06-000009.txt\",\"2230/0000002230-04-000041.txt\",\"2230/0000002230-09-000057.txt\",\"2230/0000002230-00-000010.txt\",\"2230/0000002230-13-000066.txt\",\"2230/0000002230-00-000007.txt\",\"2230/0000002230-07-000048.txt\",\"2230/0000002230-03-000009.txt\",\"2230/0000002230-05-000016.txt\",\"2230/0000002230-02-000002.txt\",\"2230/0000002230-01-500012.txt\",\"2230/0000002230-13-000028.txt\",\"2230/0000002230-06-000043.txt\",\"2230/0000002230-99-000009.txt\",\"2230/0000002230-08-000066.txt\",\"2230/0000002230-04-000034.txt\",\"2230/0000002230-12-000051.txt\",\"2230/0000002230-01-500005.txt\",\"2230/0000002230-10-000031.txt\",\"2230/0000002230-11-000074.txt\",\"2230/0000002230-12-000046.txt\",\"2230/0000002230-09-000034.txt\",\"2230/0000002230-02-000010.txt\",\"2230/0000002230-12-000056.txt\",\"2230/0000002230-11-000065.txt\",\"2230/0000002230-11-000059.txt\",\"2230/0000002230-06-000052.txt\",\"2230/0000002230-02-000006.txt\",\"0001104659-22-111497\",\"0000002230-14-000062\",\"0001104659-21-095273\",\"0001104659-20-116496\",\"0000002230-18-000023\",\"0000002230-16-000093\",\"0001104659-20-047324\",\"0001144204-19-021569\",\"0001144204-19-036410\",\"0001104659-22-020247\",\"0000002230-14-000035\",\"0001104659-21-130390\",\"0001104659-20-085958\",\"0001104659-21-054404\",\"0001144204-18-055832\",\"0001104659-19-056775\",\"0000002230-15-000052\",\"0001104659-21-021812\",\"0001104659-20-009265\",\"0001104659-23-010345\",\"0000002230-16-000100\",\"0000002230-17-000036\",\"0000002230-14-000072\",\"0000002230-17-000023\",\"0001144204-18-040186\",\"0000002230-16-000105\",\"0000002230-17-000047\",\"0001144204-19-008131\",\"0000002230-15-000035\",\"0000002230-16-000113\",\"0000002230-17-000032\",\"0000002230-14-000083\",\"0000002230-15-000073\",\"0001104659-22-083096\",\"0001104659-22-050964\",\"0000002230-18-000018\",\"0000002230-15-000055\"],\"fdate\":{\"__ndarray__\":\"AAAAx3BOb0IAAADuifFtQgAAAOzv+WpCAACANipta0IAAIBWjo1sQgAAgMiTBm1CAACAC4G0cUIAAABk6glxQgAAwEIlmXFCAADALROhckIAAMANr4BxQgAAgGt/gnJCAADAB2tTcEIAAECNXwxyQgAAgOYiDG9CAACAe9IVbEIAAAA6rPlvQgAAgDn6lm5CAABAIZ7AckIAAADV5+NzQgAAQPv1cnBCAABAdxfickIAAMDWY01yQgAAAEhesnBCAAAABGllbkIAAADJjRx0QgAAAAqZH3BCAABA8j1CcUIAAAC7UaprQgAAALuZXXFCAAAAipJXc0IAAIDrHJRwQgAAAAvjxG9CAADArn0uckIAAID5MVZsQgAAQPOhB3RCAAAARkHka0IAAMCV/CNxQgAAgInG1G5CAAAAPw84cEIAAABBYXxtQgAAAIjeP21CAACAAmDNc0IAAICxL8pwQgAAgBTxMWtCAAAAaMLScUIAAABf8IFvQgAAQOpSjXNCAACAKTG9bEIAAAAwQW1yQgAAQDd9NHNCAACAxdBsc0IAAADszvZxQgAAAJOZHm5CAACArOarc0IAAMBD8hRzQgAAwODo+XJCAADAz+ntcEIAAAAUBKxtQgAAQGsZQXhCAABAHL5YdEIAAECWCq13QgAAQOM0VHdCAAAAZEYwdkIAAMCjhyx1QgAAAJAEGHdCAAAAEW+ldkIAAIBtsMN2QgAAgEVh7ndCAABAFdtCdEIAAEC+8Mt3QgAAgIOPN3dCAAAAa8CPd0IAAMDr0Wt2QgAAwJj64HZCAABAJQ3TdEIAAICYOHl3QgAAAFuO/3ZCAABAKklheEIAAABzq0R1QgAAABon1nVCAACAdZt4dEIAAECznqN1QgAAgCk+TXZCAAAAbf5gdUIAAMA+qfZ1QgAAwNiUjnZCAADA9l63dEIAAIDJP391QgAAALcdu3VCAAAADQCTdEIAAMDkVwx1QgAAAEDPI3hCAADAFIUGeEIAAEBgxxh2QgAAAMDV63RC\",\"dtype\":\"float64\",\"order\":\"little\",\"shape\":[96]},\"file_record_count\":[83,105,110,119,96,101,75,82,79,77,76,78,87,72,79,110,83,77,78,103,83,77,74,82,102,80,84,83,110,81,90,84,85,74,105,79,109,83,78,87,92,98,115,81,113,70,86,103,106,77,88,99,69,90,113,82,79,85,104,92,85,98,101,211,80,97,219,220,91,85,98,105,102,211,93,86,99,93,93,77,210,86,210,211,198,212,213,86,198,208,86,84,91,88,204,84],\"file_value_sum\":{\"__ndarray__\":\"AAAAAM3bMUEAAAAAFX8wQQAAAABV4jhBAAAAALAnOUEAAAAA2hw7QQAAAAA7VDZBAAAAAG/wMEEAAAAAUDo0QQAAAAA4SjJBAAAAAGQmLEEAAAAAsJozQQAAAAADOTBBAAAAAKj6MkEAAAAAXBIlQQAAAADKii5BAAAAAIscQEEAAAAAnfoxQQAAAAAkhylBAAAAAK7lLkEAAAAAlsUyQQAAAADA0jJBAAAAAApRMEEAAAAAolItQQAAAAB8xjNBAAAAABSnK0EAAAAAAgU0QQAAAABILjNBAAAAALlvNUEAAAAAgPc/QQAAAAAQRDVBAAAAAL6fLkEAAAAAbgMzQQAAAAC7nDJBAAAAAP5HKUEAAAAAPI0+QQAAAAB8MzNBAAAAgIOyQEEAAAAAO2k0QQAAAACkbS1BAAAAACy8MkEAAAAAwlwzQQAAAADsNDNBAAAAAOGaMUEAAAAAaE0zQQAAAAD6TTpBAAAAAC42LkEAAAAAYmEyQQAAAACcYzBBAAAAAJYfNkEAAAAAoGwuQQAAAACIGyxBAAAAAJPeMEEAAAAAmPImQQAAAACIGSlBAAAAAKLSMUEAAAAATMowQQAAAACJejFBAAAAAP+fM0EAAAAA41MzQQAAAACfkz5BAAAAAEChNUEAAACAhFxDQQAAAAACPz9BAAAAANHgO0EAAAAA1Cw2QQAAAADhFzhBAAAAACe8O0EAAAAAo788QQAAAICHHURBAAAAANaQNUEAAAAAZU5DQQAAAAC8zzxBAAAAAPTaQUEAAAAA1cI+QQAAAADjozxBAAAAAIMvN0EAAAAAJ91AQQAAAAB7nz1BAAAAADfTP0EAAAAA+es1QQAAAAADCTtBAAAAAGrZNkEAAAAArZ84QQAAAACLqDxBAAAAAAG3NkEAAAAAPBk8QQAAAAD0yThBAAAAAAcbN0EAAAAAAbc2QQAAAAAYmjpBAAAAAI4lN0EAAAAA6iY1QQAAAIDrDkBBAAAAABMyQ0EAAAAAa148QQAAAAD4GjdB\",\"dtype\":\"float64\",\"order\":\"little\",\"shape\":[96]},\"quarter\":[\"2003Q4\",\"2002Q2\",\"1999Q1\",\"1999Q3\",\"2000Q4\",\"2001Q2\",\"2008Q2\",\"2006Q4\",\"2008Q1\",\"2010Q2\",\"2007Q4\",\"2010Q1\",\"2005Q2\",\"2009Q1\",\"2003Q3\",\"2000Q2\",\"2004Q3\",\"2003Q1\",\"2010Q3\",\"2013Q1\",\"2005Q3\",\"2010Q4\",\"2009Q3\",\"2006Q1\",\"2002Q4\",\"2013Q3\",\"2004Q4\",\"2007Q2\",\"1999Q4\",\"2007Q3\",\"2011Q4\",\"2005Q4\",\"2004Q2\",\"2009Q2\",\"2000Q3\",\"2013Q2\",\"2000Q1\",\"2007Q1\",\"2003Q2\",\"2005Q1\",\"2001Q4\",\"2001Q3\",\"2012Q4\",\"2006Q2\",\"1999Q2\",\"2008Q3\",\"2004Q1\",\"2012Q2\",\"2001Q1\",\"2009Q4\",\"2011Q3\",\"2012Q1\",\"2008Q4\",\"2002Q3\",\"2012Q3\",\"2011Q2\",\"2011Q1\",\"2006Q3\",\"2002Q1\",\"2022Q3\",\"2014Q1\",\"2021Q2\",\"2020Q3\",\"2018Q1\",\"2015Q4\",\"2020Q1\",\"2019Q1\",\"2019Q2\",\"2021Q4\",\"2013Q4\",\"2021Q3\",\"2020Q2\",\"2021Q1\",\"2018Q3\",\"2019Q3\",\"2015Q1\",\"2020Q4\",\"2019Q4\",\"2022Q4\",\"2016Q1\",\"2017Q2\",\"2014Q2\",\"2016Q4\",\"2018Q2\",\"2016Q2\",\"2017Q3\",\"2018Q4\",\"2014Q4\",\"2016Q3\",\"2017Q1\",\"2014Q3\",\"2015Q3\",\"2022Q2\",\"2022Q1\",\"2017Q4\",\"2015Q2\"],\"rdate\":{\"__ndarray__\":\"AACAizI5b0IAAAAiytdtQgAAgI+u22pCAAAACHxRa0IAAAAbUHhsQgAAgPzT7GxCAAAATWytcUIAAMDjXP1wQgAAwCEikHFCAACAcmKYckIAAID213JxQgAAQEcYe3JCAAAAr6hMcEIAAIA0nQVyQgAAgGn5/W5CAAAA190BbEIAAIBalOlvQgAAAPEriG5CAACAA/+1ckIAAEDl29tzQgAAAEBFanBCAACAlJvTckIAAMDwg0ByQgAAgJbZpHBCAAAAZjxObkIAAIChwhZ0QgAAQL5mEnBCAACA1J43cUIAAAAqtYxrQgAAgGU7VXFCAABApxZJc0IAAADR4YdwQgAAgDhbrm9CAADAX+cickIAAAD5Fj1sQgAAgBAm+XNCAACAgEnHa0IAAECpVBpxQgAAgEfAwm5CAADAg14vcEIAAIBARmNtQgAAgB4NKG1CAADAH+S+c0IAAMDBI8JwQgAAAOZCFmtCAAAA3gjLcUIAAADixnNvQgAAwP2qg3NCAAAApj+ybEIAAMCBIF5yQgAAQBZ6K3NCAACA0mBmc0IAAABvpehxQgAAAEQDE25CAADAjkehc0IAAECF3Q1zQgAAAFqT8HJCAADAUsDfcEIAAIDLNZ1tQgAAwBW7OHhCAAAA+FZRdEIAAAByo6V3QgAAQPDETXdCAADAqJUndkIAAABYVR91QgAAADTeEndCAACAuxCddkIAAMDmWrp2QgAAAJTc4HdCAACAMl80dEIAAAADQMN3QgAAQF8oMHdCAADARlmId0IAAABlfGJ2QgAAwHf313ZCAADACtLGdEIAAECBYWt3QgAAwAiU9XZCAADApldWeEIAAECDnzx1QgAAQMFkz3VCAABAI6FudEIAAIDQIpV1QgAAANTfRHZCAACArulZdUIAAEBSAe11QgAAAPYYgHZCAABARdqpdEIAAIA/hnd1QgAAAJYasnVCAABAtD2MdEIAAADHuAF1QgAAwIQeG3hCAACAWdT9d0IAAEDjnQp2QgAAADYc5HRC\",\"dtype\":\"float64\",\"order\":\"little\",\"shape\":[96]},\"value_format\":[\"1.17M\",\"1.08M\",\"1.63M\",\"1.65M\",\"1.78M\",\"1.46M\",\"1.11M\",\"1.33M\",\"1.20M\",\"0.92M\",\"1.28M\",\"1.06M\",\"1.24M\",\"0.69M\",\"1.00M\",\"2.11M\",\"1.18M\",\"0.84M\",\"1.01M\",\"1.23M\",\"1.23M\",\"1.07M\",\"0.96M\",\"1.30M\",\"0.91M\",\"1.31M\",\"1.26M\",\"1.40M\",\"2.09M\",\"1.39M\",\"1.00M\",\"1.25M\",\"1.22M\",\"0.83M\",\"2.00M\",\"1.26M\",\"2.19M\",\"1.34M\",\"0.96M\",\"1.23M\",\"1.27M\",\"1.26M\",\"1.15M\",\"1.26M\",\"1.72M\",\"0.99M\",\"1.20M\",\"1.07M\",\"1.45M\",\"1.00M\",\"0.92M\",\"1.11M\",\"0.75M\",\"0.82M\",\"1.17M\",\"1.10M\",\"1.15M\",\"1.29M\",\"1.27M\",\"2.00M\",\"1.42M\",\"2.54M\",\"2.05M\",\"1.83M\",\"1.45M\",\"1.58M\",\"1.82M\",\"1.88M\",\"2.64M\",\"1.41M\",\"2.53M\",\"1.89M\",\"2.34M\",\"2.02M\",\"1.88M\",\"1.52M\",\"2.21M\",\"1.94M\",\"2.09M\",\"1.44M\",\"1.77M\",\"1.50M\",\"1.61M\",\"1.88M\",\"1.49M\",\"1.84M\",\"1.62M\",\"1.51M\",\"1.49M\",\"1.74M\",\"1.52M\",\"1.39M\",\"2.10M\",\"2.52M\",\"1.86M\",\"1.51M\"]},\"selected\":{\"id\":\"26230\"},\"selection_policy\":{\"id\":\"26270\"}},\"id\":\"26229\",\"type\":\"ColumnDataSource\"},{\"attributes\":{\"editor\":{\"id\":\"26331\"},\"field\":\"quarter\",\"formatter\":{\"id\":\"26330\"},\"title\":\"quarter\",\"width\":0},\"id\":\"26332\",\"type\":\"TableColumn\"},{\"attributes\":{\"axis\":{\"id\":\"26189\"},\"coordinates\":null,\"dimension\":1,\"grid_line_color\":null,\"group\":null,\"ticker\":null},\"id\":\"26192\",\"type\":\"Grid\"},{\"attributes\":{\"editor\":{\"id\":\"26321\"},\"field\":\"file_value_sum\",\"formatter\":{\"id\":\"26320\"},\"title\":\"file_value_sum\",\"width\":0},\"id\":\"26322\",\"type\":\"TableColumn\"},{\"attributes\":{},\"id\":\"26197\",\"type\":\"ResetTool\"},{\"attributes\":{},\"id\":\"26274\",\"type\":\"UnionRenderers\"},{\"attributes\":{},\"id\":\"26220\",\"type\":\"Selection\"},{\"attributes\":{\"children\":[{\"id\":\"26335\"}],\"margin\":[5,5,5,5],\"name\":\"ParamFunction82749\",\"sizing_mode\":\"stretch_width\"},\"id\":\"26291\",\"type\":\"Row\"},{\"attributes\":{},\"id\":\"26321\",\"type\":\"NumberEditor\"},{\"attributes\":{},\"id\":\"26315\",\"type\":\"StringFormatter\"},{\"attributes\":{},\"id\":\"26195\",\"type\":\"WheelZoomTool\"},{\"attributes\":{\"data\":{\"accession_number\":[\"2230/0000002230-04-000014.txt\",\"2230/0000002230-02-000008.txt\",\"2230/0000002230-99-000007.txt\",\"2230/0000002230-99-000013.txt\",\"2230/0000002230-01-000002.txt\",\"2230/0000002230-01-500008.txt\",\"2230/0000002230-08-000056.txt\",\"2230/0000002230-07-000022.txt\",\"2230/0000002230-08-000043.txt\",\"2230/0000002230-10-000064.txt\"],\"cik\":[2230,2230,2230,2230,2230,2230,2230,2230,2230,2230],\"fdate\":{\"__ndarray__\":\"AAAAx3BOb0IAAADuifFtQgAAAOzv+WpCAACANipta0IAAIBWjo1sQgAAgMiTBm1CAACAC4G0cUIAAABk6glxQgAAwEIlmXFCAADALROhckI=\",\"dtype\":\"float64\",\"order\":\"little\",\"shape\":[10]},\"file_record_count\":[83,105,110,119,96,101,75,82,79,77],\"file_value_sum\":{\"__ndarray__\":\"AAAAAM3bMUEAAAAAFX8wQQAAAABV4jhBAAAAALAnOUEAAAAA2hw7QQAAAAA7VDZBAAAAAG/wMEEAAAAAUDo0QQAAAAA4SjJBAAAAAGQmLEE=\",\"dtype\":\"float64\",\"order\":\"little\",\"shape\":[10]},\"index\":[0,0,0,0,0,0,0,0,0,0],\"quarter\":[\"2003Q4\",\"2002Q2\",\"1999Q1\",\"1999Q3\",\"2000Q4\",\"2001Q2\",\"2008Q2\",\"2006Q4\",\"2008Q1\",\"2010Q2\"],\"rdate\":{\"__ndarray__\":\"AACAizI5b0IAAAAiytdtQgAAgI+u22pCAAAACHxRa0IAAAAbUHhsQgAAgPzT7GxCAAAATWytcUIAAMDjXP1wQgAAwCEikHFCAACAcmKYckI=\",\"dtype\":\"float64\",\"order\":\"little\",\"shape\":[10]}},\"selected\":{\"id\":\"26293\"},\"selection_policy\":{\"id\":\"26366\"}},\"id\":\"26292\",\"type\":\"ColumnDataSource\"},{\"attributes\":{\"data\":{\"height\":{\"__ndarray__\":\"\",\"dtype\":\"float64\",\"order\":\"little\",\"shape\":[0]},\"width\":{\"__ndarray__\":\"\",\"dtype\":\"float64\",\"order\":\"little\",\"shape\":[0]},\"x\":{\"__ndarray__\":\"\",\"dtype\":\"float64\",\"order\":\"little\",\"shape\":[0]},\"y\":{\"__ndarray__\":\"\",\"dtype\":\"float64\",\"order\":\"little\",\"shape\":[0]}},\"selected\":{\"id\":\"26240\"},\"selection_policy\":{\"id\":\"26272\"}},\"id\":\"26239\",\"type\":\"ColumnDataSource\"},{\"attributes\":{},\"id\":\"26250\",\"type\":\"Selection\"},{\"attributes\":{\"editor\":{\"id\":\"26316\"},\"field\":\"accession_number\",\"formatter\":{\"id\":\"26315\"},\"title\":\"accession_number\",\"width\":0},\"id\":\"26317\",\"type\":\"TableColumn\"},{\"attributes\":{\"fill_color\":{\"value\":\"#30a2da\"},\"hatch_color\":{\"value\":\"#30a2da\"},\"line_color\":{\"value\":\"#30a2da\"},\"size\":{\"value\":5.477225575051661},\"x\":{\"field\":\"rdate\"},\"y\":{\"field\":\"file_value_sum\"}},\"id\":\"26232\",\"type\":\"Scatter\"},{\"attributes\":{\"days\":[1,4,7,10,13,16,19,22,25,28]},\"id\":\"26283\",\"type\":\"DaysTicker\"},{\"attributes\":{},\"id\":\"26216\",\"type\":\"AllLabels\"},{\"attributes\":{\"fill_color\":{\"value\":\"#30a2da\"},\"hatch_color\":{\"value\":\"#30a2da\"},\"line_color\":{\"value\":\"#30a2da\"},\"size\":{\"value\":5.477225575051661},\"x\":{\"field\":\"rdate\"},\"y\":{\"field\":\"file_value_sum\"}},\"id\":\"26235\",\"type\":\"Scatter\"},{\"attributes\":{},\"id\":\"26190\",\"type\":\"BasicTicker\"},{\"attributes\":{\"editor\":{\"id\":\"26311\"},\"field\":\"fdate\",\"formatter\":{\"id\":\"26310\"},\"title\":\"fdate\",\"width\":0},\"id\":\"26312\",\"type\":\"TableColumn\"},{\"attributes\":{\"fill_alpha\":{\"value\":0},\"fill_color\":{\"value\":\"#1f77b4\"},\"height\":{\"field\":\"height\"},\"width\":{\"field\":\"width\"},\"x\":{\"field\":\"x\"},\"y\":{\"field\":\"y\"}},\"id\":\"26243\",\"type\":\"Rect\"},{\"attributes\":{\"format\":\"0,0.0[00000]\",\"text_align\":\"right\"},\"id\":\"26320\",\"type\":\"NumberFormatter\"},{\"attributes\":{\"data\":{\"accession_number\":[\"2230/0000002230-04-000014.txt\",\"2230/0000002230-02-000008.txt\",\"2230/0000002230-99-000007.txt\",\"2230/0000002230-99-000013.txt\",\"2230/0000002230-01-000002.txt\",\"2230/0000002230-01-500008.txt\",\"2230/0000002230-08-000056.txt\",\"2230/0000002230-07-000022.txt\",\"2230/0000002230-08-000043.txt\",\"2230/0000002230-10-000064.txt\",\"2230/0000002230-08-000025.txt\",\"2230/0000002230-10-000059.txt\",\"2230/0000002230-05-000032.txt\",\"2230/0000002230-09-000049.txt\",\"2230/0000002230-03-000013.txt\",\"2230/0000002230-00-000008.txt\",\"2230/0000002230-04-000049.txt\",\"2230/0000002230-03-000006.txt\",\"2230/0000002230-10-000072.txt\",\"2230/0000002230-13-000054.txt\",\"2230/0000002230-05-000035.txt\",\"2230/0000002230-11-000027.txt\",\"2230/0000002230-09-000065.txt\",\"2230/0000002230-06-000038.txt\",\"2230/0000002230-03-000001.txt\",\"2230/0000002230-13-000077.txt\",\"2230/0000002230-05-000012.txt\",\"2230/0000002230-07-000064.txt\",\"2230/0000002230-00-000003.txt\",\"2230/0000002230-07-000071.txt\",\"2230/0000002230-12-000032.txt\",\"2230/0000002230-06-000009.txt\",\"2230/0000002230-04-000041.txt\",\"2230/0000002230-09-000057.txt\",\"2230/0000002230-00-000010.txt\",\"2230/0000002230-13-000066.txt\",\"2230/0000002230-00-000007.txt\",\"2230/0000002230-07-000048.txt\",\"2230/0000002230-03-000009.txt\",\"2230/0000002230-05-000016.txt\",\"2230/0000002230-02-000002.txt\",\"2230/0000002230-01-500012.txt\",\"2230/0000002230-13-000028.txt\",\"2230/0000002230-06-000043.txt\",\"2230/0000002230-99-000009.txt\",\"2230/0000002230-08-000066.txt\",\"2230/0000002230-04-000034.txt\",\"2230/0000002230-12-000051.txt\",\"2230/0000002230-01-500005.txt\",\"2230/0000002230-10-000031.txt\",\"2230/0000002230-11-000074.txt\",\"2230/0000002230-12-000046.txt\",\"2230/0000002230-09-000034.txt\",\"2230/0000002230-02-000010.txt\",\"2230/0000002230-12-000056.txt\",\"2230/0000002230-11-000065.txt\",\"2230/0000002230-11-000059.txt\",\"2230/0000002230-06-000052.txt\",\"2230/0000002230-02-000006.txt\",\"0001104659-22-111497\",\"0000002230-14-000062\",\"0001104659-21-095273\",\"0001104659-20-116496\",\"0000002230-18-000023\",\"0000002230-16-000093\",\"0001104659-20-047324\",\"0001144204-19-021569\",\"0001144204-19-036410\",\"0001104659-22-020247\",\"0000002230-14-000035\",\"0001104659-21-130390\",\"0001104659-20-085958\",\"0001104659-21-054404\",\"0001144204-18-055832\",\"0001104659-19-056775\",\"0000002230-15-000052\",\"0001104659-21-021812\",\"0001104659-20-009265\",\"0001104659-23-010345\",\"0000002230-16-000100\",\"0000002230-17-000036\",\"0000002230-14-000072\",\"0000002230-17-000023\",\"0001144204-18-040186\",\"0000002230-16-000105\",\"0000002230-17-000047\",\"0001144204-19-008131\",\"0000002230-15-000035\",\"0000002230-16-000113\",\"0000002230-17-000032\",\"0000002230-14-000083\",\"0000002230-15-000073\",\"0001104659-22-083096\",\"0001104659-22-050964\",\"0000002230-18-000018\",\"0000002230-15-000055\"],\"fdate\":{\"__ndarray__\":\"AAAAx3BOb0IAAADuifFtQgAAAOzv+WpCAACANipta0IAAIBWjo1sQgAAgMiTBm1CAACAC4G0cUIAAABk6glxQgAAwEIlmXFCAADALROhckIAAMANr4BxQgAAgGt/gnJCAADAB2tTcEIAAECNXwxyQgAAgOYiDG9CAACAe9IVbEIAAAA6rPlvQgAAgDn6lm5CAABAIZ7AckIAAADV5+NzQgAAQPv1cnBCAABAdxfickIAAMDWY01yQgAAAEhesnBCAAAABGllbkIAAADJjRx0QgAAAAqZH3BCAABA8j1CcUIAAAC7UaprQgAAALuZXXFCAAAAipJXc0IAAIDrHJRwQgAAAAvjxG9CAADArn0uckIAAID5MVZsQgAAQPOhB3RCAAAARkHka0IAAMCV/CNxQgAAgInG1G5CAAAAPw84cEIAAABBYXxtQgAAAIjeP21CAACAAmDNc0IAAICxL8pwQgAAgBTxMWtCAAAAaMLScUIAAABf8IFvQgAAQOpSjXNCAACAKTG9bEIAAAAwQW1yQgAAQDd9NHNCAACAxdBsc0IAAADszvZxQgAAAJOZHm5CAACArOarc0IAAMBD8hRzQgAAwODo+XJCAADAz+ntcEIAAAAUBKxtQgAAQGsZQXhCAABAHL5YdEIAAECWCq13QgAAQOM0VHdCAAAAZEYwdkIAAMCjhyx1QgAAAJAEGHdCAAAAEW+ldkIAAIBtsMN2QgAAgEVh7ndCAABAFdtCdEIAAEC+8Mt3QgAAgIOPN3dCAAAAa8CPd0IAAMDr0Wt2QgAAwJj64HZCAABAJQ3TdEIAAICYOHl3QgAAAFuO/3ZCAABAKklheEIAAABzq0R1QgAAABon1nVCAACAdZt4dEIAAECznqN1QgAAgCk+TXZCAAAAbf5gdUIAAMA+qfZ1QgAAwNiUjnZCAADA9l63dEIAAIDJP391QgAAALcdu3VCAAAADQCTdEIAAMDkVwx1QgAAAEDPI3hCAADAFIUGeEIAAEBgxxh2QgAAAMDV63RC\",\"dtype\":\"float64\",\"order\":\"little\",\"shape\":[96]},\"file_record_count\":[83,105,110,119,96,101,75,82,79,77,76,78,87,72,79,110,83,77,78,103,83,77,74,82,102,80,84,83,110,81,90,84,85,74,105,79,109,83,78,87,92,98,115,81,113,70,86,103,106,77,88,99,69,90,113,82,79,85,104,92,85,98,101,211,80,97,219,220,91,85,98,105,102,211,93,86,99,93,93,77,210,86,210,211,198,212,213,86,198,208,86,84,91,88,204,84],\"file_value_sum\":{\"__ndarray__\":\"AAAAAM3bMUEAAAAAFX8wQQAAAABV4jhBAAAAALAnOUEAAAAA2hw7QQAAAAA7VDZBAAAAAG/wMEEAAAAAUDo0QQAAAAA4SjJBAAAAAGQmLEEAAAAAsJozQQAAAAADOTBBAAAAAKj6MkEAAAAAXBIlQQAAAADKii5BAAAAAIscQEEAAAAAnfoxQQAAAAAkhylBAAAAAK7lLkEAAAAAlsUyQQAAAADA0jJBAAAAAApRMEEAAAAAolItQQAAAAB8xjNBAAAAABSnK0EAAAAAAgU0QQAAAABILjNBAAAAALlvNUEAAAAAgPc/QQAAAAAQRDVBAAAAAL6fLkEAAAAAbgMzQQAAAAC7nDJBAAAAAP5HKUEAAAAAPI0+QQAAAAB8MzNBAAAAgIOyQEEAAAAAO2k0QQAAAACkbS1BAAAAACy8MkEAAAAAwlwzQQAAAADsNDNBAAAAAOGaMUEAAAAAaE0zQQAAAAD6TTpBAAAAAC42LkEAAAAAYmEyQQAAAACcYzBBAAAAAJYfNkEAAAAAoGwuQQAAAACIGyxBAAAAAJPeMEEAAAAAmPImQQAAAACIGSlBAAAAAKLSMUEAAAAATMowQQAAAACJejFBAAAAAP+fM0EAAAAA41MzQQAAAACfkz5BAAAAAEChNUEAAACAhFxDQQAAAAACPz9BAAAAANHgO0EAAAAA1Cw2QQAAAADhFzhBAAAAACe8O0EAAAAAo788QQAAAICHHURBAAAAANaQNUEAAAAAZU5DQQAAAAC8zzxBAAAAAPTaQUEAAAAA1cI+QQAAAADjozxBAAAAAIMvN0EAAAAAJ91AQQAAAAB7nz1BAAAAADfTP0EAAAAA+es1QQAAAAADCTtBAAAAAGrZNkEAAAAArZ84QQAAAACLqDxBAAAAAAG3NkEAAAAAPBk8QQAAAAD0yThBAAAAAAcbN0EAAAAAAbc2QQAAAAAYmjpBAAAAAI4lN0EAAAAA6iY1QQAAAIDrDkBBAAAAABMyQ0EAAAAAa148QQAAAAD4GjdB\",\"dtype\":\"float64\",\"order\":\"little\",\"shape\":[96]},\"quarter\":[\"2003Q4\",\"2002Q2\",\"1999Q1\",\"1999Q3\",\"2000Q4\",\"2001Q2\",\"2008Q2\",\"2006Q4\",\"2008Q1\",\"2010Q2\",\"2007Q4\",\"2010Q1\",\"2005Q2\",\"2009Q1\",\"2003Q3\",\"2000Q2\",\"2004Q3\",\"2003Q1\",\"2010Q3\",\"2013Q1\",\"2005Q3\",\"2010Q4\",\"2009Q3\",\"2006Q1\",\"2002Q4\",\"2013Q3\",\"2004Q4\",\"2007Q2\",\"1999Q4\",\"2007Q3\",\"2011Q4\",\"2005Q4\",\"2004Q2\",\"2009Q2\",\"2000Q3\",\"2013Q2\",\"2000Q1\",\"2007Q1\",\"2003Q2\",\"2005Q1\",\"2001Q4\",\"2001Q3\",\"2012Q4\",\"2006Q2\",\"1999Q2\",\"2008Q3\",\"2004Q1\",\"2012Q2\",\"2001Q1\",\"2009Q4\",\"2011Q3\",\"2012Q1\",\"2008Q4\",\"2002Q3\",\"2012Q3\",\"2011Q2\",\"2011Q1\",\"2006Q3\",\"2002Q1\",\"2022Q3\",\"2014Q1\",\"2021Q2\",\"2020Q3\",\"2018Q1\",\"2015Q4\",\"2020Q1\",\"2019Q1\",\"2019Q2\",\"2021Q4\",\"2013Q4\",\"2021Q3\",\"2020Q2\",\"2021Q1\",\"2018Q3\",\"2019Q3\",\"2015Q1\",\"2020Q4\",\"2019Q4\",\"2022Q4\",\"2016Q1\",\"2017Q2\",\"2014Q2\",\"2016Q4\",\"2018Q2\",\"2016Q2\",\"2017Q3\",\"2018Q4\",\"2014Q4\",\"2016Q3\",\"2017Q1\",\"2014Q3\",\"2015Q3\",\"2022Q2\",\"2022Q1\",\"2017Q4\",\"2015Q2\"],\"rdate\":{\"__ndarray__\":\"AACAizI5b0IAAAAiytdtQgAAgI+u22pCAAAACHxRa0IAAAAbUHhsQgAAgPzT7GxCAAAATWytcUIAAMDjXP1wQgAAwCEikHFCAACAcmKYckIAAID213JxQgAAQEcYe3JCAAAAr6hMcEIAAIA0nQVyQgAAgGn5/W5CAAAA190BbEIAAIBalOlvQgAAAPEriG5CAACAA/+1ckIAAEDl29tzQgAAAEBFanBCAACAlJvTckIAAMDwg0ByQgAAgJbZpHBCAAAAZjxObkIAAIChwhZ0QgAAQL5mEnBCAACA1J43cUIAAAAqtYxrQgAAgGU7VXFCAABApxZJc0IAAADR4YdwQgAAgDhbrm9CAADAX+cickIAAAD5Fj1sQgAAgBAm+XNCAACAgEnHa0IAAECpVBpxQgAAgEfAwm5CAADAg14vcEIAAIBARmNtQgAAgB4NKG1CAADAH+S+c0IAAMDBI8JwQgAAAOZCFmtCAAAA3gjLcUIAAADixnNvQgAAwP2qg3NCAAAApj+ybEIAAMCBIF5yQgAAQBZ6K3NCAACA0mBmc0IAAABvpehxQgAAAEQDE25CAADAjkehc0IAAECF3Q1zQgAAAFqT8HJCAADAUsDfcEIAAIDLNZ1tQgAAwBW7OHhCAAAA+FZRdEIAAAByo6V3QgAAQPDETXdCAADAqJUndkIAAABYVR91QgAAADTeEndCAACAuxCddkIAAMDmWrp2QgAAAJTc4HdCAACAMl80dEIAAAADQMN3QgAAQF8oMHdCAADARlmId0IAAABlfGJ2QgAAwHf313ZCAADACtLGdEIAAECBYWt3QgAAwAiU9XZCAADApldWeEIAAECDnzx1QgAAQMFkz3VCAABAI6FudEIAAIDQIpV1QgAAANTfRHZCAACArulZdUIAAEBSAe11QgAAAPYYgHZCAABARdqpdEIAAIA/hnd1QgAAAJYasnVCAABAtD2MdEIAAADHuAF1QgAAwIQeG3hCAACAWdT9d0IAAEDjnQp2QgAAADYc5HRC\",\"dtype\":\"float64\",\"order\":\"little\",\"shape\":[96]},\"value_format\":[\"1.17M\",\"1.08M\",\"1.63M\",\"1.65M\",\"1.78M\",\"1.46M\",\"1.11M\",\"1.33M\",\"1.20M\",\"0.92M\",\"1.28M\",\"1.06M\",\"1.24M\",\"0.69M\",\"1.00M\",\"2.11M\",\"1.18M\",\"0.84M\",\"1.01M\",\"1.23M\",\"1.23M\",\"1.07M\",\"0.96M\",\"1.30M\",\"0.91M\",\"1.31M\",\"1.26M\",\"1.40M\",\"2.09M\",\"1.39M\",\"1.00M\",\"1.25M\",\"1.22M\",\"0.83M\",\"2.00M\",\"1.26M\",\"2.19M\",\"1.34M\",\"0.96M\",\"1.23M\",\"1.27M\",\"1.26M\",\"1.15M\",\"1.26M\",\"1.72M\",\"0.99M\",\"1.20M\",\"1.07M\",\"1.45M\",\"1.00M\",\"0.92M\",\"1.11M\",\"0.75M\",\"0.82M\",\"1.17M\",\"1.10M\",\"1.15M\",\"1.29M\",\"1.27M\",\"2.00M\",\"1.42M\",\"2.54M\",\"2.05M\",\"1.83M\",\"1.45M\",\"1.58M\",\"1.82M\",\"1.88M\",\"2.64M\",\"1.41M\",\"2.53M\",\"1.89M\",\"2.34M\",\"2.02M\",\"1.88M\",\"1.52M\",\"2.21M\",\"1.94M\",\"2.09M\",\"1.44M\",\"1.77M\",\"1.50M\",\"1.61M\",\"1.88M\",\"1.49M\",\"1.84M\",\"1.62M\",\"1.51M\",\"1.49M\",\"1.74M\",\"1.52M\",\"1.39M\",\"2.10M\",\"2.52M\",\"1.86M\",\"1.51M\"]},\"selected\":{\"id\":\"26220\"},\"selection_policy\":{\"id\":\"26268\"}},\"id\":\"26219\",\"type\":\"ColumnDataSource\"},{\"attributes\":{\"fill_color\":{\"value\":\"#1f77b4\"},\"height\":{\"field\":\"height\"},\"width\":{\"field\":\"width\"},\"x\":{\"field\":\"x\"},\"y\":{\"field\":\"y\"}},\"id\":\"26245\",\"type\":\"Rect\"},{\"attributes\":{\"line_alpha\":{\"value\":1.0},\"line_cap\":{\"value\":\"butt\"},\"line_color\":{\"value\":\"black\"},\"line_dash\":{\"value\":\"dotted\"},\"line_dash_offset\":{\"value\":0},\"line_join\":{\"value\":\"bevel\"},\"line_width\":{\"value\":1},\"xs\":{\"field\":\"xs\"},\"ys\":{\"field\":\"ys\"}},\"id\":\"26257\",\"type\":\"MultiLine\"},{\"attributes\":{},\"id\":\"26316\",\"type\":\"StringEditor\"},{\"attributes\":{\"months\":[0,2,4,6,8,10]},\"id\":\"26287\",\"type\":\"MonthsTicker\"},{\"attributes\":{\"fill_alpha\":{\"value\":0.08},\"fill_color\":{\"value\":\"#30a2da\"},\"hatch_alpha\":{\"value\":0.08},\"hatch_color\":{\"value\":\"#30a2da\"},\"line_alpha\":{\"value\":0.08},\"line_color\":{\"value\":\"#30a2da\"},\"size\":{\"value\":5.477225575051661},\"x\":{\"field\":\"rdate\"},\"y\":{\"field\":\"file_value_sum\"}},\"id\":\"26222\",\"type\":\"Scatter\"},{\"attributes\":{\"line_alpha\":{\"value\":0.1},\"line_dash\":{\"value\":\"dotted\"},\"xs\":{\"field\":\"xs\"},\"ys\":{\"field\":\"ys\"}},\"id\":\"26253\",\"type\":\"MultiLine\"},{\"attributes\":{\"line_alpha\":{\"value\":0.2},\"line_dash\":{\"value\":\"dotted\"},\"xs\":{\"field\":\"xs\"},\"ys\":{\"field\":\"ys\"}},\"id\":\"26254\",\"type\":\"MultiLine\"},{\"attributes\":{\"source\":{\"id\":\"26219\"}},\"id\":\"26228\",\"type\":\"CDSView\"},{\"attributes\":{\"coordinates\":null,\"data_source\":{\"id\":\"26229\"},\"glyph\":{\"id\":\"26232\"},\"group\":null,\"hover_glyph\":{\"id\":\"26235\"},\"muted_glyph\":{\"id\":\"26236\"},\"nonselection_glyph\":{\"id\":\"26233\"},\"selection_glyph\":{\"id\":\"26234\"},\"view\":{\"id\":\"26238\"}},\"id\":\"26237\",\"type\":\"GlyphRenderer\"},{\"attributes\":{\"fill_alpha\":{\"value\":0.08},\"fill_color\":{\"value\":\"#30a2da\"},\"hatch_alpha\":{\"value\":0.08},\"hatch_color\":{\"value\":\"#30a2da\"},\"line_alpha\":{\"value\":0.08},\"line_color\":{\"value\":\"#30a2da\"},\"size\":{\"value\":5.477225575051661},\"x\":{\"field\":\"rdate\"},\"y\":{\"field\":\"file_value_sum\"}},\"id\":\"26226\",\"type\":\"Scatter\"},{\"attributes\":{\"indices\":[]},\"id\":\"26293\",\"type\":\"Selection\"},{\"attributes\":{\"fill_alpha\":{\"value\":0.08},\"fill_color\":{\"value\":\"#30a2da\"},\"hatch_alpha\":{\"value\":0.08},\"hatch_color\":{\"value\":\"#30a2da\"},\"line_alpha\":{\"value\":0.08},\"line_color\":{\"value\":\"#30a2da\"},\"size\":{\"value\":5.477225575051661},\"x\":{\"field\":\"rdate\"},\"y\":{\"field\":\"file_value_sum\"}},\"id\":\"26224\",\"type\":\"Scatter\"},{\"attributes\":{},\"id\":\"26212\",\"type\":\"DatetimeTickFormatter\"},{\"attributes\":{\"children\":[{\"id\":\"26164\"},{\"id\":\"26176\"},{\"id\":\"26291\"}],\"margin\":[0,0,0,0],\"name\":\"Column82810\",\"sizing_mode\":\"stretch_width\"},\"id\":\"26163\",\"type\":\"Column\"},{\"attributes\":{\"axis_label\":\"rdate\",\"coordinates\":null,\"formatter\":{\"id\":\"26212\"},\"group\":null,\"major_label_policy\":{\"id\":\"26213\"},\"ticker\":{\"id\":\"26186\"}},\"id\":\"26185\",\"type\":\"DatetimeAxis\"},{\"attributes\":{\"args\":{\"other\":{\"id\":\"26170\"}},\"code\":\"other.mode = this.mode\"},\"id\":\"26174\",\"type\":\"CustomJS\"},{\"attributes\":{\"columns\":[{\"id\":\"26297\"},{\"id\":\"26302\"},{\"id\":\"26307\"},{\"id\":\"26312\"},{\"id\":\"26317\"},{\"id\":\"26322\"},{\"id\":\"26327\"},{\"id\":\"26332\"}],\"configuration\":{\"columns\":[{\"field\":\"index\",\"sorter\":\"number\"},{\"field\":\"cik\",\"sorter\":\"number\"},{\"field\":\"rdate\",\"sorter\":\"timestamp\"},{\"field\":\"fdate\",\"sorter\":\"timestamp\"},{\"field\":\"accession_number\"},{\"field\":\"file_value_sum\",\"sorter\":\"number\"},{\"field\":\"file_record_count\",\"sorter\":\"number\"},{\"field\":\"quarter\"}],\"dataTree\":false,\"selectable\":true},\"indexes\":[\"index\"],\"layout\":\"fit_data_table\",\"margin\":[5,10,5,10],\"max_page\":10,\"name\":\"\",\"page\":1,\"page_size\":10,\"pagination\":\"remote\",\"select_mode\":true,\"selectable_rows\":null,\"sizing_mode\":\"stretch_width\",\"source\":{\"id\":\"26292\"},\"styles\":{\"data\":{},\"id\":\"c1f64cd8a0774c98975cc3c546c56ca3\"},\"subscribed_events\":[\"cell-click\",\"table-edit\"],\"theme_url\":\"https://cdn.jsdelivr.net/npm/@holoviz/panel@0.14.3/dist/bundled/datatabulator/tabulator-tables@5.3.2/dist/css/\"},\"id\":\"26335\",\"type\":\"panel.models.tabulator.DataTabulator\"},{\"attributes\":{},\"id\":\"26268\",\"type\":\"UnionRenderers\"},{\"attributes\":{\"callback\":null,\"formatters\":{\"@{fdate}\":\"datetime\",\"@{rdate}\":\"datetime\"},\"renderers\":[{\"id\":\"26227\"},{\"id\":\"26237\"}],\"tags\":[\"hv_created\"],\"tooltips\":[[\"rdate\",\"@{rdate}{%F %T}\"],[\"file_value_sum\",\"@{file_value_sum}\"],[\"fdate\",\"@{fdate}{%F %T}\"],[\"quarter\",\"@{quarter}\"],[\"value_format\",\"@{value_format}\"],[\"file_record_count\",\"@{file_record_count}\"],[\"accession_number\",\"@{accession_number}\"]]},\"id\":\"26172\",\"type\":\"HoverTool\"},{\"attributes\":{\"format\":\"%Y-%m-%d %H:%M:%S\",\"text_align\":\"right\"},\"id\":\"26305\",\"type\":\"DateFormatter\"},{\"attributes\":{\"text_align\":\"left\"},\"id\":\"26294\",\"type\":\"NumberFormatter\"},{\"attributes\":{\"js_property_callbacks\":{\"change:mode\":[{\"id\":\"26173\"}]},\"overlay\":{\"id\":\"26198\"}},\"id\":\"26170\",\"type\":\"BoxSelectTool\"},{\"attributes\":{},\"id\":\"26366\",\"type\":\"UnionRenderers\"},{\"attributes\":{\"coordinates\":null,\"group\":null,\"text_color\":\"black\",\"text_font_size\":\"12pt\"},\"id\":\"26177\",\"type\":\"Title\"},{\"attributes\":{\"coordinates\":null,\"data_source\":{\"id\":\"26249\"},\"glyph\":{\"id\":\"26252\"},\"group\":null,\"hover_glyph\":null,\"muted_glyph\":{\"id\":\"26254\"},\"nonselection_glyph\":{\"id\":\"26253\"},\"selection_glyph\":{\"id\":\"26257\"},\"view\":{\"id\":\"26256\"}},\"id\":\"26255\",\"type\":\"GlyphRenderer\"},{\"attributes\":{\"format\":\"%Y-%m-%d %H:%M:%S\",\"text_align\":\"right\"},\"id\":\"26310\",\"type\":\"DateFormatter\"},{\"attributes\":{\"format\":\"%d\"},\"id\":\"26210\",\"type\":\"PrintfTickFormatter\"},{\"attributes\":{},\"id\":\"26301\",\"type\":\"IntEditor\"},{\"attributes\":{\"days\":[1,15]},\"id\":\"26285\",\"type\":\"DaysTicker\"},{\"attributes\":{\"bottom_units\":\"screen\",\"coordinates\":null,\"fill_alpha\":0.5,\"fill_color\":\"lightgrey\",\"group\":null,\"left_units\":\"screen\",\"level\":\"overlay\",\"line_alpha\":1.0,\"line_color\":\"black\",\"line_dash\":[4,4],\"line_width\":2,\"right_units\":\"screen\",\"syncable\":false,\"top_units\":\"screen\"},\"id\":\"26199\",\"type\":\"BoxAnnotation\"},{\"attributes\":{\"days\":[1,8,15,22]},\"id\":\"26284\",\"type\":\"DaysTicker\"},{\"attributes\":{\"line_dash\":{\"value\":\"dotted\"},\"xs\":{\"field\":\"xs\"},\"ys\":{\"field\":\"ys\"}},\"id\":\"26252\",\"type\":\"MultiLine\"},{\"attributes\":{\"bottom_units\":\"screen\",\"coordinates\":null,\"fill_alpha\":0.5,\"fill_color\":\"lightgrey\",\"group\":null,\"left_units\":\"screen\",\"level\":\"overlay\",\"line_alpha\":1.0,\"line_color\":\"black\",\"line_dash\":[4,4],\"line_width\":2,\"right_units\":\"screen\",\"syncable\":false,\"top_units\":\"screen\"},\"id\":\"26198\",\"type\":\"BoxAnnotation\"},{\"attributes\":{},\"id\":\"26272\",\"type\":\"UnionRenderers\"},{\"attributes\":{\"overlay\":{\"id\":\"26199\"}},\"id\":\"26196\",\"type\":\"BoxZoomTool\"},{\"attributes\":{\"months\":[0,6]},\"id\":\"26289\",\"type\":\"MonthsTicker\"},{\"attributes\":{},\"id\":\"26181\",\"type\":\"LinearScale\"},{\"attributes\":{\"fill_color\":{\"value\":\"#30a2da\"},\"hatch_color\":{\"value\":\"#30a2da\"},\"line_color\":{\"value\":\"#30a2da\"},\"size\":{\"value\":5.477225575051661},\"x\":{\"field\":\"rdate\"},\"y\":{\"field\":\"file_value_sum\"}},\"id\":\"26236\",\"type\":\"Scatter\"},{\"attributes\":{\"editor\":{\"id\":\"26301\"},\"field\":\"cik\",\"formatter\":{\"id\":\"26300\"},\"title\":\"cik\",\"width\":0},\"id\":\"26302\",\"type\":\"TableColumn\"},{\"attributes\":{\"base\":24,\"mantissas\":[1,2,4,6,8,12],\"max_interval\":43200000.0,\"min_interval\":3600000.0,\"num_minor_ticks\":0},\"id\":\"26281\",\"type\":\"AdaptiveTicker\"},{\"attributes\":{\"days\":[1,2,3,4,5,6,7,8,9,10,11,12,13,14,15,16,17,18,19,20,21,22,23,24,25,26,27,28,29,30,31]},\"id\":\"26282\",\"type\":\"DaysTicker\"},{\"attributes\":{},\"id\":\"26290\",\"type\":\"YearsTicker\"},{\"attributes\":{\"end\":2831167.1,\"reset_end\":2831167.1,\"reset_start\":495869.9,\"start\":495869.9,\"tags\":[[[\"file_value_sum\",\"file_value_sum\",null]]]},\"id\":\"26167\",\"type\":\"Range1d\"},{\"attributes\":{\"margin\":[5,10,5,10],\"options\":[\"2230\",\"3520\",\"5272\",\"7195\",\"7789\",\"9015\",\"10742\",\"14661\",\"16972\",\"18349\",\"18748\",\"19475\",\"19617\",\"21175\",\"22657\",\"24386\",\"35442\",\"35527\",\"36066\",\"36104\",\"36644\",\"36966\",\"38777\",\"39263\",\"40417\",\"40545\",\"44365\",\"45319\",\"49205\",\"50863\"],\"sizing_mode\":\"stretch_width\",\"title\":\"cik\",\"value\":\"2230\"},\"id\":\"26165\",\"type\":\"panel.models.widgets.CustomSelect\"},{\"attributes\":{\"source\":{\"id\":\"26249\"}},\"id\":\"26256\",\"type\":\"CDSView\"},{\"attributes\":{\"fill_color\":{\"value\":\"#1f77b4\"},\"height\":{\"field\":\"height\"},\"width\":{\"field\":\"width\"},\"x\":{\"field\":\"x\"},\"y\":{\"field\":\"y\"}},\"id\":\"26246\",\"type\":\"Rect\"},{\"attributes\":{\"fill_alpha\":{\"value\":0.08},\"fill_color\":{\"value\":\"#30a2da\"},\"hatch_alpha\":{\"value\":0.08},\"hatch_color\":{\"value\":\"#30a2da\"},\"line_alpha\":{\"value\":0.08},\"line_color\":{\"value\":\"#30a2da\"},\"size\":{\"value\":5.477225575051661},\"x\":{\"field\":\"rdate\"},\"y\":{\"field\":\"file_value_sum\"}},\"id\":\"26223\",\"type\":\"Scatter\"},{\"attributes\":{\"axis_label\":\"file_value_sum\",\"coordinates\":null,\"formatter\":{\"id\":\"26210\"},\"group\":null,\"major_label_policy\":{\"id\":\"26216\"},\"ticker\":{\"id\":\"26190\"}},\"id\":\"26189\",\"type\":\"LinearAxis\"},{\"attributes\":{\"text_align\":\"right\"},\"id\":\"26325\",\"type\":\"NumberFormatter\"},{\"attributes\":{\"fill_alpha\":{\"value\":0},\"fill_color\":{\"value\":\"#1f77b4\"},\"height\":{\"field\":\"height\"},\"width\":{\"field\":\"width\"},\"x\":{\"field\":\"x\"},\"y\":{\"field\":\"y\"}},\"id\":\"26244\",\"type\":\"Rect\"},{\"attributes\":{},\"id\":\"26240\",\"type\":\"Selection\"},{\"attributes\":{\"js_property_callbacks\":{\"change:mode\":[{\"id\":\"26174\"}]},\"overlay\":{\"id\":\"26200\"}},\"id\":\"26171\",\"type\":\"LassoSelectTool\"},{\"attributes\":{},\"id\":\"26230\",\"type\":\"Selection\"},{\"attributes\":{\"text_align\":\"right\"},\"id\":\"26300\",\"type\":\"NumberFormatter\"},{\"attributes\":{\"fill_color\":{\"value\":\"#30a2da\"},\"hatch_color\":{\"value\":\"#30a2da\"},\"line_color\":{\"value\":\"#30a2da\"},\"size\":{\"value\":5.477225575051661},\"x\":{\"field\":\"rdate\"},\"y\":{\"field\":\"file_value_sum\"}},\"id\":\"26234\",\"type\":\"Scatter\"},{\"attributes\":{\"fill_color\":{\"value\":\"#30a2da\"},\"hatch_color\":{\"value\":\"#30a2da\"},\"line_color\":{\"value\":\"#30a2da\"},\"size\":{\"value\":5.477225575051661},\"x\":{\"field\":\"rdate\"},\"y\":{\"field\":\"file_value_sum\"}},\"id\":\"26233\",\"type\":\"Scatter\"},{\"attributes\":{},\"id\":\"26311\",\"type\":\"DateEditor\"},{\"attributes\":{},\"id\":\"26296\",\"type\":\"CellEditor\"},{\"attributes\":{\"source\":{\"id\":\"26239\"}},\"id\":\"26248\",\"type\":\"CDSView\"},{\"attributes\":{},\"id\":\"26183\",\"type\":\"LinearScale\"},{\"attributes\":{},\"id\":\"26193\",\"type\":\"SaveTool\"},{\"attributes\":{\"end\":1701596160000.0,\"reset_end\":1701596160000.0,\"reset_start\":893687040000.0,\"start\":893687040000.0,\"tags\":[[[\"rdate\",\"rdate\",null]]]},\"id\":\"26166\",\"type\":\"Range1d\"},{\"attributes\":{\"coordinates\":null,\"data_source\":{\"id\":\"26239\"},\"glyph\":{\"id\":\"26242\"},\"group\":null,\"hover_glyph\":{\"id\":\"26245\"},\"muted_glyph\":{\"id\":\"26246\"},\"nonselection_glyph\":{\"id\":\"26243\"},\"selection_glyph\":{\"id\":\"26244\"},\"view\":{\"id\":\"26248\"}},\"id\":\"26247\",\"type\":\"GlyphRenderer\"},{\"attributes\":{},\"id\":\"26306\",\"type\":\"DateEditor\"},{\"attributes\":{\"below\":[{\"id\":\"26185\"}],\"center\":[{\"id\":\"26188\"},{\"id\":\"26192\"}],\"height\":350,\"left\":[{\"id\":\"26189\"}],\"margin\":[5,5,5,5],\"min_border_bottom\":10,\"min_border_left\":10,\"min_border_right\":10,\"min_border_top\":10,\"renderers\":[{\"id\":\"26227\"},{\"id\":\"26237\"},{\"id\":\"26247\"},{\"id\":\"26255\"}],\"sizing_mode\":\"fixed\",\"subscribed_events\":[\"selectiongeometry\",\"reset\"],\"title\":{\"id\":\"26177\"},\"toolbar\":{\"id\":\"26201\"},\"width\":900,\"x_range\":{\"id\":\"26166\"},\"x_scale\":{\"id\":\"26181\"},\"y_range\":{\"id\":\"26167\"},\"y_scale\":{\"id\":\"26183\"}},\"id\":\"26176\",\"subtype\":\"Figure\",\"type\":\"Plot\"},{\"attributes\":{\"months\":[0,4,8]},\"id\":\"26288\",\"type\":\"MonthsTicker\"},{\"attributes\":{\"base\":60,\"mantissas\":[1,2,5,10,15,20,30],\"max_interval\":1800000.0,\"min_interval\":1000.0,\"num_minor_ticks\":0},\"id\":\"26280\",\"type\":\"AdaptiveTicker\"},{\"attributes\":{\"months\":[0,1,2,3,4,5,6,7,8,9,10,11]},\"id\":\"26286\",\"type\":\"MonthsTicker\"},{\"attributes\":{\"coordinates\":null,\"fill_alpha\":0.5,\"fill_color\":\"lightgrey\",\"group\":null,\"level\":\"overlay\",\"line_alpha\":1.0,\"line_color\":\"black\",\"line_dash\":[4,4],\"line_width\":2,\"syncable\":false,\"xs_units\":\"screen\",\"ys_units\":\"screen\"},\"id\":\"26200\",\"type\":\"PolyAnnotation\"},{\"attributes\":{\"children\":[{\"id\":\"26165\"}],\"margin\":[0,0,0,0],\"name\":\"Column82543\",\"sizing_mode\":\"stretch_width\"},\"id\":\"26164\",\"type\":\"Column\"},{\"attributes\":{\"axis\":{\"id\":\"26185\"},\"coordinates\":null,\"grid_line_color\":null,\"group\":null,\"ticker\":null},\"id\":\"26188\",\"type\":\"Grid\"},{\"attributes\":{\"mantissas\":[1,2,5],\"max_interval\":500.0,\"num_minor_ticks\":0},\"id\":\"26279\",\"type\":\"AdaptiveTicker\"},{\"attributes\":{\"num_minor_ticks\":5,\"tickers\":[{\"id\":\"26279\"},{\"id\":\"26280\"},{\"id\":\"26281\"},{\"id\":\"26282\"},{\"id\":\"26283\"},{\"id\":\"26284\"},{\"id\":\"26285\"},{\"id\":\"26286\"},{\"id\":\"26287\"},{\"id\":\"26288\"},{\"id\":\"26289\"},{\"id\":\"26290\"}]},\"id\":\"26186\",\"type\":\"DatetimeTicker\"},{\"attributes\":{},\"id\":\"26213\",\"type\":\"AllLabels\"},{\"attributes\":{\"fill_alpha\":{\"value\":0},\"fill_color\":{\"value\":\"#1f77b4\"},\"height\":{\"field\":\"height\"},\"width\":{\"field\":\"width\"},\"x\":{\"field\":\"x\"},\"y\":{\"field\":\"y\"}},\"id\":\"26242\",\"type\":\"Rect\"},{\"attributes\":{\"data\":{\"xs\":[],\"ys\":[]},\"selected\":{\"id\":\"26250\"},\"selection_policy\":{\"id\":\"26274\"}},\"id\":\"26249\",\"type\":\"ColumnDataSource\"}],\"root_ids\":[\"26163\",\"26430\"]},\"title\":\"Bokeh Application\",\"version\":\"2.4.3\"}};\n",
       "    var render_items = [{\"docid\":\"d52b9b52-a840-46c7-8f6b-47ba6fee7289\",\"root_ids\":[\"26163\"],\"roots\":{\"26163\":\"f767315e-c5cc-4068-b963-d62b35337cec\"}}];\n",
       "    root.Bokeh.embed.embed_items_notebook(docs_json, render_items);\n",
       "    for (const render_item of render_items) {\n",
       "      for (const root_id of render_item.root_ids) {\n",
       "\tconst id_el = document.getElementById(root_id)\n",
       "\tif (id_el.children.length && (id_el.children[0].className === 'bk-root')) {\n",
       "\t  const root_el = id_el.children[0]\n",
       "\t  root_el.id = root_el.id + '-rendered'\n",
       "\t}\n",
       "      }\n",
       "    }\n",
       "  }\n",
       "  if (root.Bokeh !== undefined && root.Bokeh.Panel !== undefined && ( root['Tabulator'] !== undefined) && ( root['Tabulator'] !== undefined) && ( root['Tabulator'] !== undefined) && ( root['Tabulator'] !== undefined) && ( root['Tabulator'] !== undefined) && ( root['Tabulator'] !== undefined) && ( root['Tabulator'] !== undefined) && ( root['Tabulator'] !== undefined) && ( root['Tabulator'] !== undefined) && ( root['Tabulator'] !== undefined) && ( root['Tabulator'] !== undefined) && ( root['Tabulator'] !== undefined) && ( root['Tabulator'] !== undefined) && ( root['Tabulator'] !== undefined) && ( root['Tabulator'] !== undefined) && ( root['Tabulator'] !== undefined) && ( root['Tabulator'] !== undefined) && ( root['Tabulator'] !== undefined) && ( root['Tabulator'] !== undefined) && ( root['Tabulator'] !== undefined) && ( root['Tabulator'] !== undefined) && ( root['Tabulator'] !== undefined) && ( root['Tabulator'] !== undefined) && ( root['Tabulator'] !== undefined) && ( root['Tabulator'] !== undefined) && ( root['Tabulator'] !== undefined) && ( root['Tabulator'] !== undefined)) {\n",
       "    embed_document(root);\n",
       "  } else {\n",
       "    var attempts = 0;\n",
       "    var timer = setInterval(function(root) {\n",
       "      if (root.Bokeh !== undefined && root.Bokeh.Panel !== undefined && (root['Tabulator'] !== undefined) && (root['Tabulator'] !== undefined) && (root['Tabulator'] !== undefined) && (root['Tabulator'] !== undefined) && (root['Tabulator'] !== undefined) && (root['Tabulator'] !== undefined) && (root['Tabulator'] !== undefined) && (root['Tabulator'] !== undefined) && (root['Tabulator'] !== undefined) && (root['Tabulator'] !== undefined) && (root['Tabulator'] !== undefined) && (root['Tabulator'] !== undefined) && (root['Tabulator'] !== undefined) && (root['Tabulator'] !== undefined) && (root['Tabulator'] !== undefined) && (root['Tabulator'] !== undefined) && (root['Tabulator'] !== undefined) && (root['Tabulator'] !== undefined) && (root['Tabulator'] !== undefined) && (root['Tabulator'] !== undefined) && (root['Tabulator'] !== undefined) && (root['Tabulator'] !== undefined) && (root['Tabulator'] !== undefined) && (root['Tabulator'] !== undefined) && (root['Tabulator'] !== undefined) && (root['Tabulator'] !== undefined) && (root['Tabulator'] !== undefined)) {\n",
       "        clearInterval(timer);\n",
       "        embed_document(root);\n",
       "      } else if (document.readyState == \"complete\") {\n",
       "        attempts++;\n",
       "        if (attempts > 200) {\n",
       "          clearInterval(timer);\n",
       "          console.log(\"Bokeh: ERROR: Unable to run BokehJS code because BokehJS library is missing\");\n",
       "        }\n",
       "      }\n",
       "    }, 25, root)\n",
       "  }\n",
       "})(window);</script>"
      ],
      "text/plain": [
       "Column(sizing_mode='stretch_width')\n",
       "    [0] Column(sizing_mode='stretch_width')\n",
       "        [0] Select(name='cik', options=[2230, 3520, 5272, ...], sizing_mode='stretch_width', value=2230)\n",
       "    [1] HoloViews(DynamicMap, height=350, sizing_mode='fixed', width=900)\n",
       "    [2] ParamFunction(function, _pane=Tabulator, sizing_mode='stretch_width')"
      ]
     },
     "execution_count": 156,
     "metadata": {
      "application/vnd.holoviews_exec.v0+json": {
       "id": "26163"
      }
     },
     "output_type": "execute_result"
    }
   ],
   "source": [
    "# Fully working hvplot data cleaning tool\n",
    "import panel as pn\n",
    "import holoviews as hv\n",
    "pn.extension('tabulator', template='material', sizing_mode='stretch_width')\n",
    "import hvplot.pandas # noqa\n",
    "pd.options.display.float_format = '{:.0f}'.format\n",
    "\n",
    "cik_dropdown = pn.widgets.Select(name='cik',\n",
    "                                     options=common_df.cik.unique().tolist(),\n",
    "                                     value=common_df.cik.unique().tolist()[0])\n",
    "\n",
    "common_dfi =  common_df.interactive(sizing_mode='stretch_width')\n",
    "filtered_common_dfi = common_dfi[(common_dfi['cik'] == cik_dropdown)]\n",
    "# # points plot\n",
    "points_plot = filtered_common_dfi.hvplot(x='rdate',\n",
    "                                      y='file_value_sum',\n",
    "                                      kind='points',\n",
    "                                      height=350, \n",
    "                                      width=900,\n",
    "                                      persist=True,\n",
    "                                      hover_cols=['fdate','quarter', 'value_format', 'file_record_count', 'accession_number'],\n",
    "                                      formatters={'value_format': '%s', 'file_value_sum': 'int',},\n",
    "                                      yformatter='%d')\n",
    "ls_common = hv.link_selections.instance(unselected_alpha=0.08)\n",
    "\n",
    "# # Table is not yet dynamically linked to the linked selection\n",
    "table = filtered_common_dfi[['cik', 'rdate', 'fdate', 'accession_number','file_value_sum', 'file_record_count', 'quarter']].pipe(ls_common.filter, selection_expr=ls_common.param.selection_expr).pipe(\n",
    "    pn.widgets.Tabulator, pagination='remote', page_size=10)\n",
    "\n",
    "column = pn.Column(filtered_common_dfi.widgets(),ls_common(points_plot.holoviews()), ls_common(table.panel()))\n",
    "\n",
    "column"
   ]
  },
  {
   "cell_type": "code",
   "execution_count": 153,
   "id": "55abf9ac-65d8-4710-84e6-6ed784f086b0",
   "metadata": {
    "tags": []
   },
   "outputs": [
    {
     "data": {
      "text/plain": [
       "[PosixPath('/Users/yo_macbook/Documents/app_data/sec_apps_data/TR_02_TEST_676_CIK_PARQ_SEC_APP/50863-0000950123-23-001454-2023-02-10.parquet')]"
      ]
     },
     "execution_count": 153,
     "metadata": {},
     "output_type": "execute_result"
    }
   ],
   "source": [
    "# captures the selection into a list of file paths\n",
    "records_to_edit = ls_common.filter(common_df).query(f'cik == {cik_dropdown.value}')\n",
    "l = records_to_edit.file.to_list()\n",
    "l\n"
   ]
  },
  {
   "cell_type": "markdown",
   "id": "0e754616-1047-4d1e-8d0d-892d9a82436b",
   "metadata": {
    "tags": []
   },
   "source": [
    "###  **Divides** the `df` by 1_000 and writes it to the original file "
   ]
  },
  {
   "cell_type": "code",
   "execution_count": 154,
   "id": "650f74db-e050-4483-8173-369264e29551",
   "metadata": {
    "tags": []
   },
   "outputs": [
    {
     "name": "stdout",
     "output_type": "stream",
     "text": [
      "parquet\n"
     ]
    }
   ],
   "source": [
    "# devide by 1_000\n",
    "from pathlib import Path\n",
    "for file in l:\n",
    "    file = Path(file)\n",
    "    try:\n",
    "        if file.suffix == '.parquet':\n",
    "            print('parquet')\n",
    "            df = pd.read_parquet(file)\n",
    "            df = (df.assign(value=df.value/1000))\n",
    "            df.to_parquet(file)\n",
    "        elif file.suffix == '.csv':\n",
    "            df = pl.read_csv(file, columns=columns, dtypes=pl_dtypes, parse_dates=True) \n",
    "            df = df.to_pandas().astype(pd_dtypes_validation)\n",
    "            df = (df.assign(value=df.value/1000))\n",
    "            # df = (df.assign(value=df.value * 1000))\n",
    "            df.to_csv(file, index=False)\n",
    "    except:\n",
    "        print(\"error\")"
   ]
  },
  {
   "cell_type": "code",
   "execution_count": 89,
   "id": "fdb52b05-d58c-4c3d-b2f3-fb32e2104fcd",
   "metadata": {},
   "outputs": [
    {
     "data": {
      "text/plain": [
       "2085687.1049999993"
      ]
     },
     "execution_count": 89,
     "metadata": {},
     "output_type": "execute_result"
    }
   ],
   "source": [
    "df.value.sum()"
   ]
  }
 ],
 "metadata": {
  "kernelspec": {
   "display_name": "Python 3 (ipykernel)",
   "language": "python",
   "name": "python3"
  },
  "language_info": {
   "codemirror_mode": {
    "name": "ipython",
    "version": 3
   },
   "file_extension": ".py",
   "mimetype": "text/x-python",
   "name": "python",
   "nbconvert_exporter": "python",
   "pygments_lexer": "ipython3",
   "version": "3.10.9"
  }
 },
 "nbformat": 4,
 "nbformat_minor": 5
}
