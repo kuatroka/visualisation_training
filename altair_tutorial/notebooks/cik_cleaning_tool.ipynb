{
 "cells": [
  {
   "cell_type": "markdown",
   "id": "ab39fd7a-f81f-42ef-990c-415461e3253b",
   "metadata": {},
   "source": [
    "# **CIK** cleaning tool for `value`"
   ]
  },
  {
   "cell_type": "code",
   "execution_count": null,
   "id": "18718cd3-0425-43af-aa68-491e9587b9e4",
   "metadata": {
    "tags": []
   },
   "outputs": [],
   "source": [
    "pd.set_option('display.max_columns', 35)\n",
    "pd.set_option(\"display.max_colwidth\",200)\n",
    "pd.set_option(\"display.max_rows\", 500)\n",
    "\n",
    "# 54928210C\n",
    "# 020039COM\n",
    "# 832696306\n",
    "# COM"
   ]
  },
  {
   "cell_type": "code",
   "execution_count": 382,
   "id": "e00034bf-837b-404a-a356-e034037958e2",
   "metadata": {
    "tags": []
   },
   "outputs": [
    {
     "name": "stdout",
     "output_type": "stream",
     "text": [
      "CPU times: user 78.2 ms, sys: 36.1 ms, total: 114 ms\n",
      "Wall time: 114 ms\n"
     ]
    },
    {
     "data": {
      "text/plain": [
       "[PosixPath('/Users/yo_macbook/Documents/app_data/dropbox_13f_files/processed_tables/TR_01_TEST_676_CIK_CSV_CLEANED_BOTH/902584-0000902584-07-000362.csv'),\n",
       " PosixPath('/Users/yo_macbook/Documents/app_data/dropbox_13f_files/processed_tables/TR_01_TEST_676_CIK_CSV_CLEANED_BOTH/920441-0000920441-15-000001.csv'),\n",
       " PosixPath('/Users/yo_macbook/Documents/app_data/dropbox_13f_files/processed_tables/TR_01_TEST_676_CIK_CSV_CLEANED_BOTH/813917-0000813917-12-000002.csv')]"
      ]
     },
     "execution_count": 382,
     "metadata": {},
     "output_type": "execute_result"
    }
   ],
   "source": [
    "%%time\n",
    "both = Path(r\"/Users/yo_macbook/Documents/app_data/dropbox_13f_files/processed_tables/TR_01_TEST_676_CIK_CSV_CLEANED_BOTH\")\n",
    "\n",
    "# both_clean = [file for file in both.glob(\"*.csv\")]\n",
    "# len(both_clean)\n",
    "# both_clean[:3]\n",
    "list(both.glob(\"*.csv\"))[:3]"
   ]
  },
  {
   "cell_type": "code",
   "execution_count": null,
   "id": "efa98563-1280-4722-b516-a2f45666188a",
   "metadata": {},
   "outputs": [],
   "source": [
    "%%time\n",
    "\n",
    "from pathlib import Path\n",
    "import pandas as pd\n",
    "import polars as pl\n",
    "from scipy import stats\n",
    "\n",
    "selected_cik = [2230,3520,5272,7195,7789,9015,10742,14661,16972,18349,18748,19475,19617,21175,22657,24386,35442,35527,36066,36104,36644,36966,38777,39263,40417,40545,44365,45319,49205,50863,51762,51812,51964,52234,53417,59558,59951,60086,61227,67698,70858,71210,71259,72971,73124,80255,84616,89014,92230,93751,98758,102212,102909,105495,108572,200217,201772,216851,276101,310051,312348,313028,313807,314949,314957,314984,315014,315032,315038,315054,315066,315080,315157,315297,315498,316011,318989,320335,320376,351051,351173,351262,354204,356264,700529,704051,707179,712537,713676,714142,720672,723204,728083,728100,728618,732905,733020,740272,740913,741073,743127,750641,754811,757657,759944,762152,763212,763848,764068,764106,764112,764529,764532,765443,769317,769954,769963,775368,776867,778963,779519,788714,790354,790502,791191,791490,796848,799003,799004,801051,806097,807249,807985,808722,809339,809443,810265,810384,810386,810672,810716,811360,811454,813917,813933,814133,814375,816788,819535,820027,820123,820124,820289,820478,820743,821197,822581,823621,825293,829407,831001,831571,836372,837592,842782,842941,846222,846633,846788,846797,850401,850529,852743,854157,857508,859872,860486,860561,860580,860585,860643,860644,860645,860662,860748,860828,860857,861176,861177,861462,861787,862469,866361,866842,868491,869178,869179,869353,869367,872080,872163,872259,872573,872732,873630,874791,877134,877338,878228,881432,883511,883677,883782,883790,883803,883961,883965,884300,884314,884414,884423,884541,884546,884548,884566,884589,885062,885415,886982,887402,887777,887818,889232,891287,891478,893738,894205,894300,894309,895213,895421,897070,897378,897599,898358,898382,898399,898413,899211,900169,900529,900973,902219,902367,902464,902584,903064,903944,903947,903949,905567,905591,905608,906304,908195,909151,909661,911274,912938,914933,914976,915287,915325,916542,917579,918893,919079,919185,919192,919458,919489,919497,919530,919538,919859,920440,920441,921531,921669,922127,922439,922898,922940,923093,923116,923469,924166,924171,924181,926688,926833,926834,928047,928196,928566,928568,928633,930441,931097,932024,932974,933429,934639,934999,936698,936753,936936,936941,936944,937394,937522,937589,937615,937760,937886,938076,938206,938487,938582,938592,938759,939219,940445,941560,943719,944234,944804,945625,945631,947822,947996,948518,948669,949012,949509,949615,949623,949853,1000097,1000742,1002152,1002672,1002784,1004244,1005354,1005607,1005817,1006364,1006378,1006407,1006435,1007280,1007399,1007524,1008322,1008877,1008894,1008895,1008929,1008937,1009003,1009005,1009012,1009016,1009022,1009076,1009207,1009209,1009232,1009254,1009258,1009262,1010873,1010911,1011443,1011659,1013234,1013536,1013538,1013701,1014306,1014315,1014736,1014738,1015079,1015083,1015086,1015308,1016150,1016287,1016683,1016972,1017115,1017645,1017918,1018331,1018674,1018825,1019231,1020066,1020317,1020580,1020585,1020617,1020918,1021008,1021117,1021223,1021249,1021258,1021642,1021926,1023279,1024716,1025421,1026200,1026710,1027451,1027796,1027817,1029160,1030618,1030815,1031972,1032814,1033225,1033427,1033475,1033505,1033974,1033984,1034184,1034196,1034524,1034541,1034546,1034549,1034642,1034771,1034886,1035350,1035463,1035912,1036248,1036325,1037389,1037558,1037763,1037792,1038661,1039565,1039807,1040190,1040197,1040198,1040210,1040273,1040592,1040762,1041241,1041885,1042046,1044207,1044797,1044905,1044924,1044929,1044936,1046187,1047339,1048921,1049648,1049650,1050442,1050463,1050470,1051359,1052100,1053013,1053054,1053055,1054074,1054425,1054522,1054554,1054677,1055290,1055544,1055963,1055964,1055966,1056053,1056288,1056466,1056488,1056491,1056515,1056516,1056527,1056549,1056559,1056581,1056593,1056807,1056821,1056825,1056827,1056831,1056859,1056958,1056973,1057395,1057439,1058022,1058470,1058800,1059187,1061186,1061768,1062938,1065349,1065350,1066816,1067324,1067926,1067983,1068829,1070134,1071483,1072843,1074027,1074034,1074266,1074273,1076598,1077148,1077583,1078013,1078246,1078658,1078841,1079112,1079114,1079736,1079738,1079930,1080071,1080107,1080117,1080132,1080166,1080171,1080173,1080197,1080201,1080351,1080374,1080380,1080381,1080382,1080386,1080493,1080523,1080628,1080818,1081019,1081198,1082020,1082215,1082327,1082339,1082461,1082491,1082509,1082621,1082917,1083323,1083340,1084207,1084208,1084683,1085041,1085163,1085227,1085601,1085936,1086477,1086483,1086611,1086619,1086762,1086763,1088859,1088875,1088950,1089707,1089755,1089911,1089991,1090413,1091561,1091860,1091923,1092203,1092290,1092351,1092903,1093276,1093589,1094584,1094749,1095836,1096783,1097218,1097278,1097833,1100710,1101250,1102062,1102578,1102598,1103245,1103738,1103804,1103882,1103887,1104186,1104329,1104366,1105468,1105471,1105497,1105837,1105863,1105909,1106129,1106191,1106500,1106505,1106832,1107261,1107310,1108893,1108965,1108969,1109147,1110806,1113629,1114618,1114739,1114928,1115941,1116247,1125727,1125816,1129770,1133219,1134152,1140334,1140771,1142031,1142062,1158583,1389426,1398739,1469219]\n",
    "both = Path(r\"/Users/yo_macbook/Documents/app_data/dropbox_13f_files/processed_tables/TR_01_TEST_676_CIK_CSV_CLEANED_BOTH\")\n",
    "\n",
    "columns = ['cik', 'cusip9','value', 'shares','rdate', 'fdate',\\\n",
    "            'address', 'form', 'shrsOrPrnAmt', 'putCall', 'nameOfIssuer', 'titleOfClass', 'type', 'dsource']\n",
    "\n",
    "pl_dtypes = {'cusip8': str, 'cusip9': str , 'titleOfClass': str, 'form': str, 'putCall': str,\n",
    "            'shrsOrPrnAmt': str, 'value': pl.Float64, 'shares': pl.Float64, 'type': str, 'nameOfIssuer': str,\n",
    "            'cik' : pl.Int64, 'address': str,  'dsource': str}\n",
    "\n",
    "pd_dtypes_validation = {'cusip9': str , 'titleOfClass': str, 'form': 'category',\n",
    "            'putCall': 'category', 'shrsOrPrnAmt': 'category', 'value': 'float64',\n",
    "            'shares': 'float64', 'type': 'category', 'nameOfIssuer': str,\n",
    "            'cik' : 'int64', 'address': 'category',  'dsource': 'category'}\n",
    "\n",
    "both_clean = list(both.glob(\"*.csv\"))\n",
    "\n",
    "cik_dfs = []\n",
    "for index, cik in enumerate(selected_cik[:10]):\n",
    "    file_dfs = []\n",
    "    for file in set(both_clean):\n",
    "    # for file in set(cleaned + origin_clean):\n",
    "        if file.name.split(\"-\")[0] == str(cik):\n",
    "            try:\n",
    "                df = pl.read_csv(file, columns=columns, dtypes=pl_dtypes, parse_dates=True) \n",
    "                \n",
    "                df = df.to_pandas().astype(pd_dtypes_validation)\n",
    "                if df.empty: continue\n",
    "\n",
    "                df = (df.assign(row_value_zscore = stats.zscore(df.value),\n",
    "                                file_value_sum = df.value.sum(),\n",
    "                                file_value_max = df.value.max(),\n",
    "                                file_value_min = df.value.min(),\n",
    "                                n_holdings = df.shape[0],\n",
    "                                quarter=df.rdate.dt.to_period(freq=\"Q\").astype(str),\n",
    "                                path=file))\n",
    "                df_short = df[['cik', 'cusip9', 'rdate', 'fdate',\n",
    "                               'address', 'file_value_sum', 'file_value_max',\n",
    "                               'file_value_min', 'n_holdings', 'quarter', 'path']].head(1)\n",
    "               \n",
    "\n",
    "                file_dfs.append(df_short)\n",
    "                df = None\n",
    "            except Exception as e:\n",
    "                print(f\"Problem reading file... {file.name}\")\n",
    "                print(e)\n",
    "      \n",
    "    cik_df = pd.concat(file_dfs)\n",
    "    file_dfs = None\n",
    "\n",
    "    cik_dfs.append(cik_df)\n",
    "big_df = pd.concat(cik_dfs)"
   ]
  },
  {
   "cell_type": "code",
   "execution_count": null,
   "id": "51c62d76-f87a-4527-b896-f89fe56f953a",
   "metadata": {
    "scrolled": true,
    "tags": []
   },
   "outputs": [],
   "source": [
    "!python -V\n",
    "# big_df.head(2)\n",
    "# df.head()\n",
    "selected_cik = [2230,3520,5272,7195,7789,9015,10742,14661,16972,18349,18748,19475,19617,21175,22657,24386,35442,35527,36066,36104,36644,36966,38777,39263,40417,40545,44365,45319,49205,50863,51762,51812,51964,52234,53417,59558,59951,60086,61227,67698,70858,71210,71259,72971,73124,80255,84616,89014,92230,93751,98758,102212,102909,105495,108572,200217,201772,216851,276101,310051,312348,313028,313807,314949,314957,314984,315014,315032,315038,315054,315066,315080,315157,315297,315498,316011,318989,320335,320376,351051,351173,351262,354204,356264,700529,704051,707179,712537,713676,714142,720672,723204,728083,728100,728618,732905,733020,740272,740913,741073,743127,750641,754811,757657,759944,762152,763212,763848,764068,764106,764112,764529,764532,765443,769317,769954,769963,775368,776867,778963,779519,788714,790354,790502,791191,791490,796848,799003,799004,801051,806097,807249,807985,808722,809339,809443,810265,810384,810386,810672,810716,811360,811454,813917,813933,814133,814375,816788,819535,820027,820123,820124,820289,820478,820743,821197,822581,823621,825293,829407,831001,831571,836372,837592,842782,842941,846222,846633,846788,846797,850401,850529,852743,854157,857508,859872,860486,860561,860580,860585,860643,860644,860645,860662,860748,860828,860857,861176,861177,861462,861787,862469,866361,866842,868491,869178,869179,869353,869367,872080,872163,872259,872573,872732,873630,874791,877134,877338,878228,881432,883511,883677,883782,883790,883803,883961,883965,884300,884314,884414,884423,884541,884546,884548,884566,884589,885062,885415,886982,887402,887777,887818,889232,891287,891478,893738,894205,894300,894309,895213,895421,897070,897378,897599,898358,898382,898399,898413,899211,900169,900529,900973,902219,902367,902464,902584,903064,903944,903947,903949,905567,905591,905608,906304,908195,909151,909661,911274,912938,914933,914976,915287,915325,916542,917579,918893,919079,919185,919192,919458,919489,919497,919530,919538,919859,920440,920441,921531,921669,922127,922439,922898,922940,923093,923116,923469,924166,924171,924181,926688,926833,926834,928047,928196,928566,928568,928633,930441,931097,932024,932974,933429,934639,934999,936698,936753,936936,936941,936944,937394,937522,937589,937615,937760,937886,938076,938206,938487,938582,938592,938759,939219,940445,941560,943719,944234,944804,945625,945631,947822,947996,948518,948669,949012,949509,949615,949623,949853,1000097,1000742,1002152,1002672,1002784,1004244,1005354,1005607,1005817,1006364,1006378,1006407,1006435,1007280,1007399,1007524,1008322,1008877,1008894,1008895,1008929,1008937,1009003,1009005,1009012,1009016,1009022,1009076,1009207,1009209,1009232,1009254,1009258,1009262,1010873,1010911,1011443,1011659,1013234,1013536,1013538,1013701,1014306,1014315,1014736,1014738,1015079,1015083,1015086,1015308,1016150,1016287,1016683,1016972,1017115,1017645,1017918,1018331,1018674,1018825,1019231,1020066,1020317,1020580,1020585,1020617,1020918,1021008,1021117,1021223,1021249,1021258,1021642,1021926,1023279,1024716,1025421,1026200,1026710,1027451,1027796,1027817,1029160,1030618,1030815,1031972,1032814,1033225,1033427,1033475,1033505,1033974,1033984,1034184,1034196,1034524,1034541,1034546,1034549,1034642,1034771,1034886,1035350,1035463,1035912,1036248,1036325,1037389,1037558,1037763,1037792,1038661,1039565,1039807,1040190,1040197,1040198,1040210,1040273,1040592,1040762,1041241,1041885,1042046,1044207,1044797,1044905,1044924,1044929,1044936,1046187,1047339,1048921,1049648,1049650,1050442,1050463,1050470,1051359,1052100,1053013,1053054,1053055,1054074,1054425,1054522,1054554,1054677,1055290,1055544,1055963,1055964,1055966,1056053,1056288,1056466,1056488,1056491,1056515,1056516,1056527,1056549,1056559,1056581,1056593,1056807,1056821,1056825,1056827,1056831,1056859,1056958,1056973,1057395,1057439,1058022,1058470,1058800,1059187,1061186,1061768,1062938,1065349,1065350,1066816,1067324,1067926,1067983,1068829,1070134,1071483,1072843,1074027,1074034,1074266,1074273,1076598,1077148,1077583,1078013,1078246,1078658,1078841,1079112,1079114,1079736,1079738,1079930,1080071,1080107,1080117,1080132,1080166,1080171,1080173,1080197,1080201,1080351,1080374,1080380,1080381,1080382,1080386,1080493,1080523,1080628,1080818,1081019,1081198,1082020,1082215,1082327,1082339,1082461,1082491,1082509,1082621,1082917,1083323,1083340,1084207,1084208,1084683,1085041,1085163,1085227,1085601,1085936,1086477,1086483,1086611,1086619,1086762,1086763,1088859,1088875,1088950,1089707,1089755,1089911,1089991,1090413,1091561,1091860,1091923,1092203,1092290,1092351,1092903,1093276,1093589,1094584,1094749,1095836,1096783,1097218,1097278,1097833,1100710,1101250,1102062,1102578,1102598,1103245,1103738,1103804,1103882,1103887,1104186,1104329,1104366,1105468,1105471,1105497,1105837,1105863,1105909,1106129,1106191,1106500,1106505,1106832,1107261,1107310,1108893,1108965,1108969,1109147,1110806,1113629,1114618,1114739,1114928,1115941,1116247,1125727,1125816,1129770,1133219,1134152,1140334,1140771,1142031,1142062,1158583,1389426,1398739,1469219]\n",
    "sorted(selected_cik)"
   ]
  },
  {
   "cell_type": "markdown",
   "id": "3f8273b7-1060-43d3-9416-ba6f6015773c",
   "metadata": {},
   "source": [
    "### Non-working altair only version - no way to select or copy/paste the addresses"
   ]
  },
  {
   "cell_type": "code",
   "execution_count": null,
   "id": "3f89d82c-acfa-4368-ad4a-f638d333ddb4",
   "metadata": {
    "tags": []
   },
   "outputs": [],
   "source": [
    "import altair as alt\n",
    "from altair import datum\n",
    "alt.data_transformers.disable_max_rows()\n",
    "\n",
    "input_dropdown = alt.binding_select(options=selected_cik, name='cik ')\n",
    "cik_selection = alt.selection_single(fields=['cik'], bind=input_dropdown)\n",
    "brush = alt.selection(type='multi')\n",
    "\n",
    "scatter = alt.Chart(big_df).mark_point().transform_calculate(value_billion=\"datum.value / 1000000000\")\\\n",
    "    .encode(\n",
    "    alt.X('quarter:O'),\n",
    "    alt.Y('file_value_sum:Q'),\n",
    "    \n",
    "    # alt.Row('cik'),\n",
    "    tooltip=['quarter:O','address:N', \n",
    "             alt.Tooltip('file_value_sum:Q', format=\"$.3s\") ,\n",
    "             alt.Tooltip('file_value_sum:Q', format=\"$~s\"),\n",
    "             alt.Tooltip('fdate:T')\n",
    "            ]\n",
    "    # alt.Tooltip(['quarter:O','accession_number:N', 'value:O']),\n",
    "    \n",
    ").add_selection(cik_selection\n",
    ").transform_filter(cik_selection\n",
    ").add_selection(brush\n",
    ").properties(width=800, height=200)\n",
    "\n",
    "ranked_text = alt.Chart(big_df).mark_text().encode(\n",
    "    y=alt.Y('row_number:O',axis=None)\n",
    ").transform_window(\n",
    "    row_number='row_number()'\n",
    ").transform_filter(\n",
    "    brush\n",
    ").transform_window(\n",
    "    rank='rank(row_number)'\n",
    ").transform_filter(\n",
    "    alt.datum.rank<5\n",
    ")\n",
    "\n",
    "# Data Tables\n",
    "address = ranked_text.encode(text='address:N').properties(title='address')\n",
    "quarter = ranked_text.encode(text='quarter:O').properties(title='quarter')\n",
    "value = ranked_text.encode(text='file_value_sum:Q').properties(title='value')\n",
    "text = alt.hconcat(address, quarter, value) # Combine data tables\n",
    "\n",
    "alt.vconcat(\n",
    "    scatter,\n",
    "    text\n",
    ").resolve_legend(\n",
    "    color=\"independent\"\n",
    ").configure_view(\n",
    "    strokeWidth=0\n",
    ")"
   ]
  },
  {
   "cell_type": "code",
   "execution_count": null,
   "id": "08c55f6e-83d1-495c-a1c3-3af84f9ec1c8",
   "metadata": {},
   "outputs": [],
   "source": [
    "ranked_text.data"
   ]
  },
  {
   "cell_type": "markdown",
   "id": "21fe2c22-2612-4d51-8e20-e84b400a010c",
   "metadata": {},
   "source": [
    "#### panel + altair - doesn't work yet"
   ]
  },
  {
   "cell_type": "code",
   "execution_count": null,
   "id": "b44895e7-577d-4434-8523-b7c6aee5cce0",
   "metadata": {},
   "outputs": [],
   "source": [
    "big_df.cik.head()"
   ]
  },
  {
   "cell_type": "code",
   "execution_count": null,
   "id": "1b71bfbb-1cbd-4622-9724-a1f4319b8db4",
   "metadata": {
    "tags": []
   },
   "outputs": [],
   "source": [
    "# import altair as alt\n",
    "# import pandas as pd\n",
    "# import panel as pn\n",
    "# from altair import datum\n",
    "# pn.extension(\"vega\", sizing_mode=\"stretch_width\")\n",
    "# alt.data_transformers.disable_max_rows()\n",
    "\n",
    "# cik_input_pn = pn.widgets.Select(name='Select CIK', options = big_df.cik.unique().tolist(), placeholder = 'ex: 2230', value = 2230)\n",
    "# ###\n",
    "# input_dropdown = alt.binding_select(options=selected_cik, name='cik ')\n",
    "# cik_selection = alt.selection_single(fields=['cik'], bind=input_dropdown, init={'cik': 5272}, name='cik_select')\n",
    "# brush = alt.selection(type='multi')\n",
    "\n",
    "# scatter = alt.Chart(big_df).mark_point()\\\n",
    "#     .encode(\n",
    "#     alt.X('quarter:O'),\n",
    "#     alt.Y('file_value_sum:Q'),\n",
    "    \n",
    "#     # alt.Row('cik'),\n",
    "#     tooltip=['quarter:O','address:N', \n",
    "#              alt.Tooltip('file_value_sum:Q', format=\"$.3s\") ,\n",
    "#              alt.Tooltip('file_value_sum:Q', format=\"$~s\"),\n",
    "#              alt.Tooltip('fdate:T')\n",
    "#             ]\n",
    "#     # alt.Tooltip(['quarter:O','accession_number:N', 'value:O']),\n",
    "    \n",
    "# # ).add_selection(cik_selection\n",
    "# # ).transform_filter(cik_selection\n",
    "# # ).add_selection(brush\n",
    "# # ).properties(width=800, height=200)\n",
    "    \n",
    "# ).add_selection(cik_selection\n",
    "# ).transform_filter(cik_selection\n",
    "# ).properties(width=800, height=200)\n",
    "\n",
    "# scatter\n",
    "\n",
    "# vega_pane = pn.pane.Vega(scatter, debounce=10, height=600)\n",
    "# vega_pane\n",
    "# # @pn.depends(vega_pane.selection.param.brush)\n",
    "# # def filtered_table(selection):\n",
    "# #     # return selection.value\n",
    "# #     if not selection:\n",
    "# #         return \"## No selection\"\n",
    "# #     query = \" & \".join(\n",
    "# #         f'{crange[0]:.3f} <= {col} <= {crange[1]:.3f}'\n",
    "# #         for col, crange in selection.items()\n",
    "# #     )\n",
    "# #     return pn.pane.DataFrame(big_df.query(query))\n",
    "\n",
    "\n",
    "# # Data Tables\n",
    "\n",
    "\n",
    "# # table = pn.Row(filtered_table, height=300, scroll=True)\n",
    "# # component = pn.Column(vega_pane, table).servable()\n",
    "# # component\n",
    "\n",
    "# # template = pn.template.FastListTemplate(\n",
    "# #     site=\"Awesome Panel\",\n",
    "# #     title=\"Panel supports Vega and Altair Selections\",\n",
    "# #     accent=\"#F08080\",\n",
    "# #     main=[component],\n",
    "# # ).servable()"
   ]
  },
  {
   "cell_type": "markdown",
   "id": "3251697a-3809-4211-8fee-4d535b43b61e",
   "metadata": {
    "tags": []
   },
   "source": [
    "### Working altair example with different data, but with a caveat.\n",
    "1. It uses the `tabulator` parameter selector and not the table display option. It still can work fine, but I can't programatically extract the seleced data and use it as a variable. (or at least I think so). It also makes it so when I manually select the line in that tabulator, it can by deleted if I hit `del` or `backspace`\n",
    "2. It feels too complicated and now it only works with `x` and `y` being both numerical \n",
    "3. It has to be launched as a separte panel dashboard (for now)"
   ]
  },
  {
   "cell_type": "code",
   "execution_count": null,
   "id": "b5baaf3c-d05a-46f3-b107-f9ab080956ba",
   "metadata": {
    "tags": []
   },
   "outputs": [],
   "source": [
    "# import altair as alt\n",
    "# import panel as pn\n",
    "# import pandas as pd\n",
    "\n",
    "# from sklearn.cluster import KMeans\n",
    "# # from pyodide.http import open_url\n",
    "\n",
    "# pn.config.sizing_mode = 'stretch_width'\n",
    "\n",
    "# url = 'https://raw.githubusercontent.com/rfordatascience/tidytuesday/master/data/2020/2020-07-28/penguins.csv'\n",
    "# penguins = pd.read_csv(url).dropna()\n",
    "# cols = list(penguins.columns)[2:6]\n",
    "\n",
    "\n",
    "# filter_dropdown = pn.widgets.Select(name='Island',\n",
    "#                              options=penguins.island.unique().tolist(),\n",
    "#                              value='Torgersen').servable(target='filter-dropdown-widget')\n",
    "# x = pn.widgets.Select(name='x', options=cols, value='bill_depth_mm').servable(target='x-widget')\n",
    "# y = pn.widgets.Select(name='y', options=cols, value='bill_length_mm').servable(target='y-widget')\n",
    "# n_clusters = pn.widgets.IntSlider(name='n_clusters', start=1, end=5, value=3).servable(target='n-widget')\n",
    "\n",
    "# brush = alt.selection_interval(name='brush')  # selection of type \"interval\"\n",
    "\n",
    "# def get_clusters(n_clusters, filter_dropdown):\n",
    "#     kmeans = KMeans(n_clusters=n_clusters)\n",
    "#     est = kmeans.fit(penguins[cols].values)\n",
    "#     df = penguins.copy()\n",
    "#     df['labels'] = est.labels_.astype('str')\n",
    "#     df = df.query(f'island == \"{filter_dropdown}\"')\n",
    "#     return df\n",
    "\n",
    "# def get_chart(x, y, df, filter_dropdown):\n",
    "#     centers = df.groupby('labels').mean()\n",
    "#     return (\n",
    "#       alt.Chart(df)\n",
    "#           .mark_point(size=100)\n",
    "#           .encode(\n",
    "#               x=alt.X(x, scale=alt.Scale(zero=False)),\n",
    "#               y=alt.Y(y, scale=alt.Scale(zero=False)),\n",
    "#               shape='labels',\n",
    "#               color='species'\n",
    "#           ).add_selection(brush).properties(width=800) +\n",
    "#       alt.Chart(centers)\n",
    "#           .mark_point(size=250, shape='cross', color='black')\n",
    "#           .encode(x=x+':Q', y=y+':Q')\n",
    "#     )\n",
    "\n",
    "# intro = pn.pane.Markdown(\"\"\"\n",
    "# This app provides an example of **building a simple dashboard using\n",
    "# Panel**.\\n\\nIt demonstrates how to take the output of **k-means\n",
    "# clustering on the Penguins dataset** using scikit-learn,\n",
    "# parameterizing the number of clusters and the variables to\n",
    "# plot.\\n\\nThe plot and the table are linked, i.e. selecting on the plot\n",
    "# will filter the data in the table.\\n\\n The **`x` marks the center** of\n",
    "# the cluster.\n",
    "# \"\"\").servable(target='intro')\n",
    "\n",
    "# chart = pn.pane.Vega(debounce=5).servable(target='cluster-plot')\n",
    "# table = pn.widgets.Tabulator(pagination='remote', page_size=10).servable(target='table')\n",
    "\n",
    "# def update_table(event=None):\n",
    "#     table.value = get_clusters(n_clusters.value, filter_dropdown.value)\n",
    "\n",
    "# n_clusters.param.watch(update_table, 'value')\n",
    "# filter_dropdown.param.watch(update_table, 'value')\n",
    "\n",
    "# @pn.depends(x, y, n_clusters, filter_dropdown, watch=True)\n",
    "# def update_chart(*events):\n",
    "#     chart.object = get_chart(x.value, y.value, table.value, filter_dropdown.value)\n",
    "#     chart.selection.param.watch(update_filters, 'brush')\n",
    "\n",
    "# def update_filters(event=None):\n",
    "#     filters = []\n",
    "#     for k, v in (getattr(event, 'new') or {}).items():\n",
    "#         filters.append(dict(field=k, type='>=', value=v[0]))\n",
    "#         filters.append(dict(field=k, type='<=', value=v[1]))\n",
    "#         table.filters = filters\n",
    "\n",
    "# update_table()\n",
    "# update_chart()\n"
   ]
  },
  {
   "cell_type": "markdown",
   "id": "23ffc1dc-041c-4ba6-858b-7d20d0e7d68a",
   "metadata": {},
   "source": [
    "### **Fully working** code with hvplot. It's got the plot, dropdown, table and the selection captured as a list"
   ]
  },
  {
   "cell_type": "code",
   "execution_count": null,
   "id": "f3b991b4-a42b-4a49-80ad-74adeea1b29b",
   "metadata": {
    "tags": []
   },
   "outputs": [],
   "source": [
    "%%time\n",
    "\n",
    "from pathlib import Path\n",
    "import pandas as pd\n",
    "import polars as pl\n",
    "from scipy import stats\n",
    "\n",
    "selected_cik = [2230,3520,5272,7195,7789,9015,10742,14661,16972,18349,18748,19475,19617,21175,22657,24386,35442,35527,36066,36104,36644,36966,38777,39263,40417,40545,44365,45319,49205,50863,51762,51812,51964,52234,53417,59558,59951,60086,61227,67698,70858,71210,71259,72971,73124,80255,84616,89014,92230,93751,98758,102212,102909,105495,108572,200217,201772,216851,276101,310051,312348,313028,313807,314949,314957,314984,315014,315032,315038,315054,315066,315080,315157,315297,315498,316011,318989,320335,320376,351051,351173,351262,354204,356264,700529,704051,707179,712537,713676,714142,720672,723204,728083,728100,728618,732905,733020,740272,740913,741073,743127,750641,754811,757657,759944,762152,763212,763848,764068,764106,764112,764529,764532,765443,769317,769954,769963,775368,776867,778963,779519,788714,790354,790502,791191,791490,796848,799003,799004,801051,806097,807249,807985,808722,809339,809443,810265,810384,810386,810672,810716,811360,811454,813917,813933,814133,814375,816788,819535,820027,820123,820124,820289,820478,820743,821197,822581,823621,825293,829407,831001,831571,836372,837592,842782,842941,846222,846633,846788,846797,850401,850529,852743,854157,857508,859872,860486,860561,860580,860585,860643,860644,860645,860662,860748,860828,860857,861176,861177,861462,861787,862469,866361,866842,868491,869178,869179,869353,869367,872080,872163,872259,872573,872732,873630,874791,877134,877338,878228,881432,883511,883677,883782,883790,883803,883961,883965,884300,884314,884414,884423,884541,884546,884548,884566,884589,885062,885415,886982,887402,887777,887818,889232,891287,891478,893738,894205,894300,894309,895213,895421,897070,897378,897599,898358,898382,898399,898413,899211,900169,900529,900973,902219,902367,902464,902584,903064,903944,903947,903949,905567,905591,905608,906304,908195,909151,909661,911274,912938,914933,914976,915287,915325,916542,917579,918893,919079,919185,919192,919458,919489,919497,919530,919538,919859,920440,920441,921531,921669,922127,922439,922898,922940,923093,923116,923469,924166,924171,924181,926688,926833,926834,928047,928196,928566,928568,928633,930441,931097,932024,932974,933429,934639,934999,936698,936753,936936,936941,936944,937394,937522,937589,937615,937760,937886,938076,938206,938487,938582,938592,938759,939219,940445,941560,943719,944234,944804,945625,945631,947822,947996,948518,948669,949012,949509,949615,949623,949853,1000097,1000742,1002152,1002672,1002784,1004244,1005354,1005607,1005817,1006364,1006378,1006407,1006435,1007280,1007399,1007524,1008322,1008877,1008894,1008895,1008929,1008937,1009003,1009005,1009012,1009016,1009022,1009076,1009207,1009209,1009232,1009254,1009258,1009262,1010873,1010911,1011443,1011659,1013234,1013536,1013538,1013701,1014306,1014315,1014736,1014738,1015079,1015083,1015086,1015308,1016150,1016287,1016683,1016972,1017115,1017645,1017918,1018331,1018674,1018825,1019231,1020066,1020317,1020580,1020585,1020617,1020918,1021008,1021117,1021223,1021249,1021258,1021642,1021926,1023279,1024716,1025421,1026200,1026710,1027451,1027796,1027817,1029160,1030618,1030815,1031972,1032814,1033225,1033427,1033475,1033505,1033974,1033984,1034184,1034196,1034524,1034541,1034546,1034549,1034642,1034771,1034886,1035350,1035463,1035912,1036248,1036325,1037389,1037558,1037763,1037792,1038661,1039565,1039807,1040190,1040197,1040198,1040210,1040273,1040592,1040762,1041241,1041885,1042046,1044207,1044797,1044905,1044924,1044929,1044936,1046187,1047339,1048921,1049648,1049650,1050442,1050463,1050470,1051359,1052100,1053013,1053054,1053055,1054074,1054425,1054522,1054554,1054677,1055290,1055544,1055963,1055964,1055966,1056053,1056288,1056466,1056488,1056491,1056515,1056516,1056527,1056549,1056559,1056581,1056593,1056807,1056821,1056825,1056827,1056831,1056859,1056958,1056973,1057395,1057439,1058022,1058470,1058800,1059187,1061186,1061768,1062938,1065349,1065350,1066816,1067324,1067926,1067983,1068829,1070134,1071483,1072843,1074027,1074034,1074266,1074273,1076598,1077148,1077583,1078013,1078246,1078658,1078841,1079112,1079114,1079736,1079738,1079930,1080071,1080107,1080117,1080132,1080166,1080171,1080173,1080197,1080201,1080351,1080374,1080380,1080381,1080382,1080386,1080493,1080523,1080628,1080818,1081019,1081198,1082020,1082215,1082327,1082339,1082461,1082491,1082509,1082621,1082917,1083323,1083340,1084207,1084208,1084683,1085041,1085163,1085227,1085601,1085936,1086477,1086483,1086611,1086619,1086762,1086763,1088859,1088875,1088950,1089707,1089755,1089911,1089991,1090413,1091561,1091860,1091923,1092203,1092290,1092351,1092903,1093276,1093589,1094584,1094749,1095836,1096783,1097218,1097278,1097833,1100710,1101250,1102062,1102578,1102598,1103245,1103738,1103804,1103882,1103887,1104186,1104329,1104366,1105468,1105471,1105497,1105837,1105863,1105909,1106129,1106191,1106500,1106505,1106832,1107261,1107310,1108893,1108965,1108969,1109147,1110806,1113629,1114618,1114739,1114928,1115941,1116247,1125727,1125816,1129770,1133219,1134152,1140334,1140771,1142031,1142062,1158583,1389426,1398739,1469219]\n",
    "both = Path(r\"/Users/yo_macbook/Documents/app_data/dropbox_13f_files/processed_tables/TR_01_TEST_676_CIK_CSV_CLEANED_BOTH\")\n",
    "\n",
    "columns = ['cik', 'cusip9','value', 'shares','rdate', 'fdate',\\\n",
    "            'address', 'form', 'shrsOrPrnAmt', 'putCall', 'nameOfIssuer', 'titleOfClass', 'type', 'dsource']\n",
    "\n",
    "pl_dtypes = {'cusip8': str, 'cusip9': str , 'titleOfClass': str, 'form': str, 'putCall': str,\n",
    "            'shrsOrPrnAmt': str, 'value': pl.Float64, 'shares': pl.Float64, 'type': str, 'nameOfIssuer': str,\n",
    "            'cik' : pl.Int64, 'address': str,  'dsource': str}\n",
    "\n",
    "pd_dtypes_validation = {'cusip9': str , 'titleOfClass': str, 'form': 'category',\n",
    "            'putCall': 'category', 'shrsOrPrnAmt': 'category', 'value': 'float64',\n",
    "            'shares': 'float64', 'type': 'category', 'nameOfIssuer': str,\n",
    "            'cik' : 'int64', 'address': 'category',  'dsource': 'category'}\n",
    "\n",
    "\n",
    "# cleaned = [file for file in TR_01_TEST_676_CIK_CSV_CLEANED.glob(\"*.csv\")]\n",
    "# origin_clean = [file for file in TR_01_TEST_676_CIK_CSV_ORIGIN_CLEAN.glob(\"*.csv\")]\n",
    "both_clean = [file for file in both.glob(\"*.csv\")]\n",
    "\n",
    "cik_dfs = []\n",
    "for index, cik in enumerate(selected_cik[:10]):\n",
    "    file_dfs = []\n",
    "    for file in set(both_clean):\n",
    "    # for file in set(cleaned + origin_clean):\n",
    "        if file.name.split(\"-\")[0] == str(cik):\n",
    "            try:\n",
    "                df = pl.read_csv(file, columns=columns, dtypes=pl_dtypes, parse_dates=True) \n",
    "                \n",
    "                df = df.to_pandas().astype(pd_dtypes_validation)\n",
    "                if df.empty: continue\n",
    "\n",
    "                df = (df.assign(row_value_zscore = stats.zscore(df.value),\n",
    "                                file_value_sum = df.value.sum().round(0),\n",
    "                                file_value_max = df.value.max(),\n",
    "                                file_value_min = df.value.min(),\n",
    "                                n_holdings = df.shape[0],\n",
    "                                quarter=df.rdate.dt.to_period(freq=\"Q\").astype(str),\n",
    "                                quarter_period=df.rdate.dt.to_period(freq='Q'),\n",
    "                                path=file))\n",
    "                df_short = df[['cik', 'cusip9', 'rdate', 'fdate',\n",
    "                               'address', 'file_value_sum', 'file_value_max',\n",
    "                               'file_value_min', 'n_holdings', 'quarter', 'path']].head(1)\n",
    "               \n",
    "\n",
    "                file_dfs.append(df_short)\n",
    "                df = None\n",
    "            except Exception as e:\n",
    "                print(f\"Problem reading file... {file.name}\")\n",
    "                print(e)\n",
    "      \n",
    "    cik_df = pd.concat(file_dfs)\n",
    "    file_dfs = None\n",
    "\n",
    "    cik_dfs.append(cik_df)\n",
    "big_df = pd.concat(cik_dfs)\n",
    "               "
   ]
  },
  {
   "cell_type": "code",
   "execution_count": null,
   "id": "9f8632f6-307c-4cbb-9a3b-5b92803f3cb6",
   "metadata": {
    "tags": []
   },
   "outputs": [],
   "source": [
    "# format/formatting of amounts to million or billion\n",
    "big_df['value_format'] = big_df['file_value_sum'] / 1_000_000\n",
    "big_df['value_format'] = big_df['value_format'].apply(lambda x: f'{x:.2f}M' if x < 1000 else f'{x/1000:.2f}B')"
   ]
  },
  {
   "cell_type": "code",
   "execution_count": null,
   "id": "99da26c1-ad26-4eb5-9846-a9ed6317aa3d",
   "metadata": {
    "tags": []
   },
   "outputs": [],
   "source": [
    "# Fully working hvplot data cleaning tool\n",
    "import panel as pn\n",
    "import holoviews as hv\n",
    "pn.extension('tabulator', template='material', sizing_mode='stretch_width')\n",
    "import hvplot.pandas # noqa\n",
    "pd.options.display.float_format = '{:.0f}'.format\n",
    "\n",
    "cik_dropdown = pn.widgets.Select(name='cik',\n",
    "                                     options=big_df.cik.unique().tolist(),\n",
    "                                     value=big_df.cik.unique().tolist()[0])\n",
    "\n",
    "big_dfi =  big_df.interactive(sizing_mode='stretch_width')\n",
    "filtered_big_dfi = big_dfi[(big_dfi['cik'] == cik_dropdown)]\n",
    "# points plot\n",
    "points_plot = filtered_big_dfi.hvplot(x='rdate',\n",
    "                                      y='file_value_sum',\n",
    "                                      kind='points',\n",
    "                                      height=350, \n",
    "                                      width=900,\n",
    "                                      persist=True,\n",
    "                                      hover_cols=['address', 'fdate','quarter', 'value_format', 'n_holdings'],\n",
    "                                      formatters={'value_format': '%s', 'file_value_sum': 'int'},\n",
    "                                      yformatter='%d')\n",
    "ls = hv.link_selections.instance(unselected_alpha=0.08)\n",
    "\n",
    "# Table is not yet dynamically linked to the linked selection\n",
    "table = filtered_big_dfi[['cik', 'rdate', 'fdate', 'address', 'file_value_sum', 'n_holdings', 'quarter']].pipe(ls.filter, selection_expr=ls.param.selection_expr).pipe(\n",
    "    pn.widgets.Tabulator, pagination='remote', page_size=10)\n",
    "\n",
    "column = pn.Column(filtered_big_dfi.widgets(),ls(points_plot.holoviews()), ls(table.panel()))\n",
    "\n",
    "column"
   ]
  },
  {
   "cell_type": "markdown",
   "id": "445790fe-39cc-4269-af7c-42646e6fda08",
   "metadata": {},
   "source": [
    "### **Captures the selection** into a list of file paths"
   ]
  },
  {
   "cell_type": "code",
   "execution_count": null,
   "id": "cb0f47f0-8f80-4b42-bbe2-70d1c58e568e",
   "metadata": {
    "scrolled": true,
    "tags": []
   },
   "outputs": [],
   "source": [
    "# captures the selection into a list of file paths\n",
    "records_to_edit = ls.filter(big_df).query(f'cik == {cik_dropdown.value}')\n",
    "l = records_to_edit.path.to_list()\n",
    "l\n",
    "# l[0]\n",
    "# [print(i) for i in records_to_edit.path]"
   ]
  },
  {
   "cell_type": "markdown",
   "id": "1c3555bb-e5b3-49cc-85d6-e01d8323b99b",
   "metadata": {},
   "source": [
    "### **Opens file** in LibreOffice"
   ]
  },
  {
   "cell_type": "code",
   "execution_count": null,
   "id": "8b936703-af90-422c-ac93-a9e73b433ee8",
   "metadata": {
    "tags": []
   },
   "outputs": [],
   "source": [
    "import os, sys\n",
    "file_to_open = l[1]\n",
    "os.system(f\"open {file_to_open} -a LibreOffice\")\n",
    "i = input(\"did you correct the file?\")\n",
    "if i == \"yes\":\n",
    "    print(f\"file: {file_to_open} is finished\")\n",
    "    # continue\n",
    "else: \n",
    "    sys.exit()"
   ]
  },
  {
   "cell_type": "markdown",
   "id": "7e6e4629-7bd7-4f99-beb7-b8b16b31f295",
   "metadata": {},
   "source": [
    "###  **Divides** the `df` by 1_000 and writes it to the original file "
   ]
  },
  {
   "cell_type": "code",
   "execution_count": null,
   "id": "fe0226c8-4993-4b34-a007-f873f2fdb87d",
   "metadata": {
    "tags": []
   },
   "outputs": [],
   "source": [
    "# devide by 1_000\n",
    "from pathlib import Path\n",
    "for file in l:\n",
    "    file = Path(file)\n",
    "    try:\n",
    "        # print(file)\n",
    "        df = pl.read_csv(file, columns=columns, dtypes=pl_dtypes, parse_dates=True) \n",
    "        df = df.to_pandas().astype(pd_dtypes_validation)\n",
    "        df = (df.assign(value=df.value/1000))\n",
    "        # df = (df.assign(value=df.value * 1000))\n",
    "        df.to_csv(file, index=False)\n",
    "    except:\n",
    "        print(\"error\")"
   ]
  },
  {
   "cell_type": "markdown",
   "id": "2d865835-e5a0-45de-94ae-c3596c32c339",
   "metadata": {
    "tags": []
   },
   "source": [
    "### **DELETES** files - CAREFUL!"
   ]
  },
  {
   "cell_type": "code",
   "execution_count": null,
   "id": "4e47f09e-32bd-4d8e-81ba-3c592b57f49f",
   "metadata": {
    "tags": []
   },
   "outputs": [],
   "source": [
    "# delete files\n",
    "import os\n",
    "\n",
    "for file in l:\n",
    "    try:\n",
    "        os.remove(file)\n",
    "        print(f\"{file} deleted successfully\")\n",
    "    except OSError as e:\n",
    "        print(f\"Error deleting {file}: {e}\")"
   ]
  },
  {
   "cell_type": "markdown",
   "id": "da72f628-433b-41c1-bc43-0eff12b49f49",
   "metadata": {},
   "source": [
    "### **DELETES** records  !!! that  contain certain string - CAREFUL!"
   ]
  },
  {
   "cell_type": "code",
   "execution_count": null,
   "id": "7af78eb3-dcfd-48e8-8408-9a61bfe2a152",
   "metadata": {
    "tags": []
   },
   "outputs": [],
   "source": [
    "# delete individual records, data frame\n",
    "from pathlib import Path\n",
    "for file in l[:]:\n",
    "    file = Path(file)\n",
    "\n",
    "    try:\n",
    "        # print(file)\n",
    "        df = pl.read_csv(file, columns=columns, dtypes=pl_dtypes, parse_dates=True) \n",
    "        df = df.to_pandas().astype(pd_dtypes_validation)\n",
    "        mask_delete_if_contains =  (df['cusip9'].str.contains('COM'))  | (df['cusip9'].str.contains('54928210C')) | \\\n",
    "                                   (df['cusip9'].str.contains('832696306')) | (df['cusip9'].str.contains('6986571CO'))\n",
    "        \n",
    "        display(df[mask_delete_if_contains])\n",
    "        df = df.drop(df[mask_delete_if_contains].index)\n",
    "\n",
    "        # print('#' * 40)\n",
    "        \n",
    "\n",
    "        df.to_csv(file, index=False)\n",
    "    except:\n",
    "        print(\"error\")    \n",
    "# TEGIESLTD         "
   ]
  },
  {
   "cell_type": "markdown",
   "id": "40ab1125-6f06-4a66-bb36-7aaf32cefb98",
   "metadata": {},
   "source": [
    "### **COPIES** `cusip, value, shares` from  `csv` **A** to **B** while keeping the dates and metadata of **B**"
   ]
  },
  {
   "cell_type": "code",
   "execution_count": null,
   "id": "46a9f1ce-2dc9-40aa-911f-d0a07d6aea03",
   "metadata": {
    "tags": []
   },
   "outputs": [],
   "source": [
    "file_from = '/Users/yo_macbook/Documents/app_data/dropbox_13f_files/processed_tables/TR_01_TEST_676_CIK_CSV_CLEANED_BOTH/313028-0000313028-07-000001.csv'\n",
    "file_to = '/Users/yo_macbook/Documents/app_data/dropbox_13f_files/processed_tables/TR_01_TEST_676_CIK_CSV_CLEANED_BOTH/313028-0000313028-07-000002.csv'"
   ]
  },
  {
   "cell_type": "code",
   "execution_count": null,
   "id": "aef97bdb-0673-4efa-9a28-5124f328dd42",
   "metadata": {
    "tags": []
   },
   "outputs": [],
   "source": [
    "file_from = l[0]\n",
    "file_to = l[1]\n",
    "file_from, file_to"
   ]
  },
  {
   "cell_type": "code",
   "execution_count": null,
   "id": "77af4c8c-a992-4af3-97cc-093a562720c5",
   "metadata": {
    "tags": []
   },
   "outputs": [],
   "source": [
    "# Copy the contents of one CSV, another well changing dates and quarter\n",
    "file_from = Path(file_from)\n",
    "file_to = Path(file_to)\n",
    "\n",
    "try:\n",
    "    # print(file)\n",
    "    df_from = pl.read_csv(file_from, columns=columns, dtypes=pl_dtypes, parse_dates=True) \n",
    "    df_from = df_from.to_pandas().astype(pd_dtypes_validation)\n",
    "\n",
    "    df_to = pl.read_csv(file_to, columns=columns, dtypes=pl_dtypes, parse_dates=True) \n",
    "    df_to = df_to.to_pandas().astype(pd_dtypes_validation)\n",
    "    display('before transform')\n",
    "    display('from', df_from.head(3))\n",
    "    display('from value', df_from.value.sum())\n",
    "    display('to value', df_to.value.sum())\n",
    "\n",
    "    df_from.rdate, df_from.fdate, df_from.address, df_from.form = \\\n",
    "    df_to.rdate.head(1).values[0], df_to.fdate.head(1).values[0], df_to.address.head(1).values[0], df_to.form.head(1).values[0]\n",
    "    # print(file)\n",
    "    # print(f'value before: {df.value.sum()/1_000_000}M')\n",
    "\n",
    "\n",
    "    display('after transform')\n",
    "    display(df_from.head(3))\n",
    "    display(df_from.value.sum())\n",
    "\n",
    "    # print(file, f'value after: {df.value.sum()/1_000_000}M')\n",
    "    # print('#' * 40)\n",
    "\n",
    "\n",
    "    # df_from.to_csv(file_to, index=False)\n",
    "except:\n",
    "    print(\"error\")  "
   ]
  },
  {
   "cell_type": "markdown",
   "id": "f786174a-aa63-4897-a612-7e833e5b3748",
   "metadata": {},
   "source": [
    "### **Delete** records that contains some substring from files"
   ]
  },
  {
   "cell_type": "code",
   "execution_count": null,
   "id": "52ba0368-7268-4f06-9327-130396ee829d",
   "metadata": {
    "scrolled": true,
    "tags": []
   },
   "outputs": [],
   "source": [
    "# delete individual records with some substring form files\n",
    "from pathlib import Path\n",
    "for file in big_df.path.values[:]:\n",
    "    file = Path(file)\n",
    "    # print(file)\n",
    "    if file.exists():\n",
    "        df = pl.read_csv(file, columns=columns, dtypes=pl_dtypes, parse_dates=True)\n",
    "    else: continue\n",
    "    df = df.to_pandas().astype(pd_dtypes_validation)\n",
    "    # df = df.query('cusip9.str.contains(\"[a-zA-Z]{4,}\", regex=True)')\n",
    "    # df = df.query('cusip9.str.contains(\"TEGIES\")')\n",
    "    # if not df.empty: display(df)\n",
    "    df = df.drop(df.query('cusip9.str.contains(\"TEGIES\")').index)\n",
    "    df.to_csv(file, index=False)\n",
    "    \n",
    "    # df = df.query('cusip9.str.contains(\"TEGIES\")')\n",
    "    # if not df.empty: display(df)\n",
    "\n",
    " "
   ]
  },
  {
   "cell_type": "code",
   "execution_count": null,
   "id": "c2439ee5-dd7b-43ed-b7a2-4118e70e9943",
   "metadata": {
    "scrolled": true,
    "tags": []
   },
   "outputs": [],
   "source": [
    "selected_cik = [2230,3520,5272,7195,7789,9015,10742,14661,16972,18349,18748,19475,19617,21175,22657,24386,35442,35527,36066,36104,36644,36966,38777,39263,40417,40545,44365,45319,49205,50863,51762,51812,51964,52234,53417,59558,59951,60086,61227,67698,70858,71210,71259,72971,73124,80255,84616,89014,92230,93751,98758,102212,102909,105495,108572,200217,201772,216851,276101,310051,312348,313028,313807,314949,314957,314984,315014,315032,315038,315054,315066,315080,315157,315297,315498,316011,318989,320335,320376,351051,351173,351262,354204,356264,700529,704051,707179,712537,713676,714142,720672,723204,728083,728100,728618,732905,733020,740272,740913,741073,743127,750641,754811,757657,759944,762152,763212,763848,764068,764106,764112,764529,764532,765443,769317,769954,769963,775368,776867,778963,779519,788714,790354,790502,791191,791490,796848,799003,799004,801051,806097,807249,807985,808722,809339,809443,810265,810384,810386,810672,810716,811360,811454,813917,813933,814133,814375,816788,819535,820027,820123,820124,820289,820478,820743,821197,822581,823621,825293,829407,831001,831571,836372,837592,842782,842941,846222,846633,846788,846797,850401,850529,852743,854157,857508,859872,860486,860561,860580,860585,860643,860644,860645,860662,860748,860828,860857,861176,861177,861462,861787,862469,866361,866842,868491,869178,869179,869353,869367,872080,872163,872259,872573,872732,873630,874791,877134,877338,878228,881432,883511,883677,883782,883790,883803,883961,883965,884300,884314,884414,884423,884541,884546,884548,884566,884589,885062,885415,886982,887402,887777,887818,889232,891287,891478,893738,894205,894300,894309,895213,895421,897070,897378,897599,898358,898382,898399,898413,899211,900169,900529,900973,902219,902367,902464,902584,903064,903944,903947,903949,905567,905591,905608,906304,908195,909151,909661,911274,912938,914933,914976,915287,915325,916542,917579,918893,919079,919185,919192,919458,919489,919497,919530,919538,919859,920440,920441,921531,921669,922127,922439,922898,922940,923093,923116,923469,924166,924171,924181,926688,926833,926834,928047,928196,928566,928568,928633,930441,931097,932024,932974,933429,934639,934999,936698,936753,936936,936941,936944,937394,937522,937589,937615,937760,937886,938076,938206,938487,938582,938592,938759,939219,940445,941560,943719,944234,944804,945625,945631,947822,947996,948518,948669,949012,949509,949615,949623,949853,1000097,1000742,1002152,1002672,1002784,1004244,1005354,1005607,1005817,1006364,1006378,1006407,1006435,1007280,1007399,1007524,1008322,1008877,1008894,1008895,1008929,1008937,1009003,1009005,1009012,1009016,1009022,1009076,1009207,1009209,1009232,1009254,1009258,1009262,1010873,1010911,1011443,1011659,1013234,1013536,1013538,1013701,1014306,1014315,1014736,1014738,1015079,1015083,1015086,1015308,1016150,1016287,1016683,1016972,1017115,1017645,1017918,1018331,1018674,1018825,1019231,1020066,1020317,1020580,1020585,1020617,1020918,1021008,1021117,1021223,1021249,1021258,1021642,1021926,1023279,1024716,1025421,1026200,1026710,1027451,1027796,1027817,1029160,1030618,1030815,1031972,1032814,1033225,1033427,1033475,1033505,1033974,1033984,1034184,1034196,1034524,1034541,1034546,1034549,1034642,1034771,1034886,1035350,1035463,1035912,1036248,1036325,1037389,1037558,1037763,1037792,1038661,1039565,1039807,1040190,1040197,1040198,1040210,1040273,1040592,1040762,1041241,1041885,1042046,1044207,1044797,1044905,1044924,1044929,1044936,1046187,1047339,1048921,1049648,1049650,1050442,1050463,1050470,1051359,1052100,1053013,1053054,1053055,1054074,1054425,1054522,1054554,1054677,1055290,1055544,1055963,1055964,1055966,1056053,1056288,1056466,1056488,1056491,1056515,1056516,1056527,1056549,1056559,1056581,1056593,1056807,1056821,1056825,1056827,1056831,1056859,1056958,1056973,1057395,1057439,1058022,1058470,1058800,1059187,1061186,1061768,1062938,1065349,1065350,1066816,1067324,1067926,1067983,1068829,1070134,1071483,1072843,1074027,1074034,1074266,1074273,1076598,1077148,1077583,1078013,1078246,1078658,1078841,1079112,1079114,1079736,1079738,1079930,1080071,1080107,1080117,1080132,1080166,1080171,1080173,1080197,1080201,1080351,1080374,1080380,1080381,1080382,1080386,1080493,1080523,1080628,1080818,1081019,1081198,1082020,1082215,1082327,1082339,1082461,1082491,1082509,1082621,1082917,1083323,1083340,1084207,1084208,1084683,1085041,1085163,1085227,1085601,1085936,1086477,1086483,1086611,1086619,1086762,1086763,1088859,1088875,1088950,1089707,1089755,1089911,1089991,1090413,1091561,1091860,1091923,1092203,1092290,1092351,1092903,1093276,1093589,1094584,1094749,1095836,1096783,1097218,1097278,1097833,1100710,1101250,1102062,1102578,1102598,1103245,1103738,1103804,1103882,1103887,1104186,1104329,1104366,1105468,1105471,1105497,1105837,1105863,1105909,1106129,1106191,1106500,1106505,1106832,1107261,1107310,1108893,1108965,1108969,1109147,1110806,1113629,1114618,1114739,1114928,1115941,1116247,1125727,1125816,1129770,1133219,1134152,1140334,1140771,1142031,1142062,1158583,1389426,1398739,1469219]\n",
    "sorted(selected_cik)"
   ]
  },
  {
   "cell_type": "markdown",
   "id": "8655a55c-a91b-4e6f-8333-cb5f4ab00b22",
   "metadata": {},
   "source": [
    "## Merges together **my/sec_app** and **dropbox**  filings for the selected CIKs\n",
    "* The merge is `fdate` based. Every filing before `2014` comes from cleaned `dropbox` folder\n",
    "* From 2014 and onwards is from `sec_app` parquet based filings"
   ]
  },
  {
   "cell_type": "code",
   "execution_count": null,
   "id": "94705cf1-4e64-4093-a29e-8af74c25dacb",
   "metadata": {
    "tags": []
   },
   "outputs": [],
   "source": [
    "%%time\n",
    "# reads the combined tr_04 to extract all ciks\n",
    "from pathlib import Path\n",
    "import pandas as pd\n",
    "\n",
    "columns = ['cik', 'rdate']\n",
    "my_file = Path(r\"/Volumes/fanpc/app_data/sec_apps_data/speed_test/filings_13f_full/tr_04_filings_parquet_cik\")\n",
    "df = pd.concat(pd.read_parquet(f, columns=columns).drop_duplicates(subset=['cik', 'rdate']) for f in my_file.glob(\"*.parquet\"))"
   ]
  },
  {
   "cell_type": "code",
   "execution_count": 106,
   "id": "858b1217-0fec-4217-bb6e-3a24fa0b9fd8",
   "metadata": {
    "tags": []
   },
   "outputs": [
    {
     "data": {
      "text/plain": [
       "[1000097, 1000207]"
      ]
     },
     "execution_count": 106,
     "metadata": {},
     "output_type": "execute_result"
    }
   ],
   "source": [
    "all_cik = df.cik.unique().tolist()\n",
    "all_cik[:2]"
   ]
  },
  {
   "cell_type": "code",
   "execution_count": 111,
   "id": "fd48ffb2-86f2-4396-906d-678aeca2b380",
   "metadata": {
    "tags": []
   },
   "outputs": [
    {
     "data": {
      "text/plain": [
       "[3133, 3521, 4962]"
      ]
     },
     "execution_count": 111,
     "metadata": {},
     "output_type": "execute_result"
    }
   ],
   "source": [
    "sorted(list(set(all_cik).difference(set(selected_cik))))[:3]"
   ]
  },
  {
   "cell_type": "code",
   "execution_count": 152,
   "id": "db95faa2-09c8-4eca-911c-67ef2905d634",
   "metadata": {},
   "outputs": [
    {
     "name": "stdout",
     "output_type": "stream",
     "text": [
      "    cik      cusip      rdate      fdate               accession_number  \\\n",
      "0  3133  000375204 2006-06-30 2006-08-10  3133/0001044945-06-000033.txt   \n",
      "\n",
      "   file_value_sum  n_holdings quarter  \\\n",
      "0         6147708         711  2006Q2   \n",
      "\n",
      "                                                file  \n",
      "0  /Users/yo_macbook/Documents/app_data/dropbox_1...  \n",
      "CPU times: user 2.13 s, sys: 233 ms, total: 2.36 s\n",
      "Wall time: 2.25 s\n"
     ]
    }
   ],
   "source": [
    "%%time\n",
    "# df for my parsed data. `sec_app`. I will need to merge it with the `dropbox` data \n",
    "# and display it on the same charts tool\n",
    "from pathlib import Path\n",
    "import pandas as pd\n",
    "import polars as pl\n",
    "from scipy import stats\n",
    "\n",
    "\n",
    "# selected_cik = [2230,3520,5272,7195,7789,9015,10742,14661,16972,18349,18748,19475,19617,21175,22657,24386,35442,35527,36066,36104,36644,36966,38777,39263,40417,40545,44365,45319,49205,50863,51762,51812,51964,52234,53417,59558,59951,60086,61227,67698,70858,71210,71259,72971,73124,80255,84616,89014,92230,93751,98758,102212,102909,105495,108572,200217,201772,216851,276101,310051,312348,313028,313807,314949,314957,314984,315014,315032,315038,315054,315066,315080,315157,315297,315498,316011,318989,320335,320376,351051,351173,351262,354204,356264,700529,704051,707179,712537,713676,714142,720672,723204,728083,728100,728618,732905,733020,740272,740913,741073,743127,750641,754811,757657,759944,762152,763212,763848,764068,764106,764112,764529,764532,765443,769317,769954,769963,775368,776867,778963,779519,788714,790354,790502,791191,791490,796848,799003,799004,801051,806097,807249,807985,808722,809339,809443,810265,810384,810386,810672,810716,811360,811454,813917,813933,814133,814375,816788,819535,820027,820123,820124,820289,820478,820743,821197,822581,823621,825293,829407,831001,831571,836372,837592,842782,842941,846222,846633,846788,846797,850401,850529,852743,854157,857508,859872,860486,860561,860580,860585,860643,860644,860645,860662,860748,860828,860857,861176,861177,861462,861787,862469,866361,866842,868491,869178,869179,869353,869367,872080,872163,872259,872573,872732,873630,874791,877134,877338,878228,881432,883511,883677,883782,883790,883803,883961,883965,884300,884314,884414,884423,884541,884546,884548,884566,884589,885062,885415,886982,887402,887777,887818,889232,891287,891478,893738,894205,894300,894309,895213,895421,897070,897378,897599,898358,898382,898399,898413,899211,900169,900529,900973,902219,902367,902464,902584,903064,903944,903947,903949,905567,905591,905608,906304,908195,909151,909661,911274,912938,914933,914976,915287,915325,916542,917579,918893,919079,919185,919192,919458,919489,919497,919530,919538,919859,920440,920441,921531,921669,922127,922439,922898,922940,923093,923116,923469,924166,924171,924181,926688,926833,926834,928047,928196,928566,928568,928633,930441,931097,932024,932974,933429,934639,934999,936698,936753,936936,936941,936944,937394,937522,937589,937615,937760,937886,938076,938206,938487,938582,938592,938759,939219,940445,941560,943719,944234,944804,945625,945631,947822,947996,948518,948669,949012,949509,949615,949623,949853,1000097,1000742,1002152,1002672,1002784,1004244,1005354,1005607,1005817,1006364,1006378,1006407,1006435,1007280,1007399,1007524,1008322,1008877,1008894,1008895,1008929,1008937,1009003,1009005,1009012,1009016,1009022,1009076,1009207,1009209,1009232,1009254,1009258,1009262,1010873,1010911,1011443,1011659,1013234,1013536,1013538,1013701,1014306,1014315,1014736,1014738,1015079,1015083,1015086,1015308,1016150,1016287,1016683,1016972,1017115,1017645,1017918,1018331,1018674,1018825,1019231,1020066,1020317,1020580,1020585,1020617,1020918,1021008,1021117,1021223,1021249,1021258,1021642,1021926,1023279,1024716,1025421,1026200,1026710,1027451,1027796,1027817,1029160,1030618,1030815,1031972,1032814,1033225,1033427,1033475,1033505,1033974,1033984,1034184,1034196,1034524,1034541,1034546,1034549,1034642,1034771,1034886,1035350,1035463,1035912,1036248,1036325,1037389,1037558,1037763,1037792,1038661,1039565,1039807,1040190,1040197,1040198,1040210,1040273,1040592,1040762,1041241,1041885,1042046,1044207,1044797,1044905,1044924,1044929,1044936,1046187,1047339,1048921,1049648,1049650,1050442,1050463,1050470,1051359,1052100,1053013,1053054,1053055,1054074,1054425,1054522,1054554,1054677,1055290,1055544,1055963,1055964,1055966,1056053,1056288,1056466,1056488,1056491,1056515,1056516,1056527,1056549,1056559,1056581,1056593,1056807,1056821,1056825,1056827,1056831,1056859,1056958,1056973,1057395,1057439,1058022,1058470,1058800,1059187,1061186,1061768,1062938,1065349,1065350,1066816,1067324,1067926,1067983,1068829,1070134,1071483,1072843,1074027,1074034,1074266,1074273,1076598,1077148,1077583,1078013,1078246,1078658,1078841,1079112,1079114,1079736,1079738,1079930,1080071,1080107,1080117,1080132,1080166,1080171,1080173,1080197,1080201,1080351,1080374,1080380,1080381,1080382,1080386,1080493,1080523,1080628,1080818,1081019,1081198,1082020,1082215,1082327,1082339,1082461,1082491,1082509,1082621,1082917,1083323,1083340,1084207,1084208,1084683,1085041,1085163,1085227,1085601,1085936,1086477,1086483,1086611,1086619,1086762,1086763,1088859,1088875,1088950,1089707,1089755,1089911,1089991,1090413,1091561,1091860,1091923,1092203,1092290,1092351,1092903,1093276,1093589,1094584,1094749,1095836,1096783,1097218,1097278,1097833,1100710,1101250,1102062,1102578,1102598,1103245,1103738,1103804,1103882,1103887,1104186,1104329,1104366,1105468,1105471,1105497,1105837,1105863,1105909,1106129,1106191,1106500,1106505,1106832,1107261,1107310,1108893,1108965,1108969,1109147,1110806,1113629,1114618,1114739,1114928,1115941,1116247,1125727,1125816,1129770,1133219,1134152,1140334,1140771,1142031,1142062,1158583,1389426,1398739,1469219]\n",
    "# dropbox_csv = Path(r\"/Users/yo_macbook/Documents/app_data/dropbox_13f_files/processed_tables/TR_01_TEST_676_CIK_CSV_CLEANED_BOTH\")\n",
    "# sec_app_parq = Path(r'/Users/yo_macbook/Documents/app_data/sec_apps_data/TR_02_TEST_676_CIK_PARQ_SEC_APP')\n",
    "\n",
    "# temp\n",
    "selected_cik2 = sorted(list(set(all_cik).difference(set(selected_cik))))\n",
    "# selected_cik = [3133, 3521, 4962]\n",
    "\n",
    "dropbox_csv = Path(r\"/Users/yo_macbook/Documents/app_data/dropbox_13f_files/processed_tables/TR_01_ALL_CSV_CLEANED\")\n",
    "sec_app_parq = Path(r'/Users/yo_macbook/Documents/app_data/sec_apps_data/TR_02_ALL_PARQ_SEC_APP')\n",
    "## sec_app\n",
    "columns_dropbox = ['cik', 'cusip9','value', 'shares','rdate', 'fdate',\\\n",
    "            'address', 'form', 'type', 'dsource']\n",
    "\n",
    "pd_dtypes_validation_dropbox = {'cusip9': str, 'form': 'category',\n",
    "            'value': 'float64', 'shares': 'float64', 'type': 'category',\n",
    "            'cik' : 'int64', 'address': 'category',  'dsource': 'category'}\n",
    "\n",
    "pl_dtypes_dropbox = {'cusip9': str ,'form': str, 'value': pl.Float64, 'shares': pl.Float64, 'type': str,\n",
    "            'cik' : pl.Int64, 'address': str,  'dsource': str}\n",
    "\n",
    "## sec_app\n",
    "columns_sec_app = ['cik', 'cusip','value', 'shares','rdate', 'fdate',\\\n",
    "            'accession_number', 'submission_type', 'type', 'dsource', 'file']\n",
    "\n",
    "pd_dtypes_validation_sec_app = {'cusip': str, 'submission_type': 'category', 'value': 'float64', \n",
    "            'shares': 'float64', 'type': 'category', 'cik' : 'int64',\n",
    "            'accession_number': 'category',  'dsource': 'category', 'file':'category'}\n",
    "\n",
    "pl_dtypes_sec_app = {'cusip': str ,'submission_type': str, 'value': pl.Float64, 'shares': pl.Float64, 'type': str,\n",
    "            'cik' : pl.Int64, 'accession_number': str,  'dsource': str, 'file': str}\n",
    "\n",
    "\n",
    "list_dropbox = [file for file in dropbox_csv.glob(\"*.csv\")]\n",
    "\n",
    "list_sec_app = [file for file in sec_app_parq.glob(\"*.parquet\")]\n",
    "\n",
    "l_from = 0\n",
    "l_to = 30\n",
    "cutoff_date = '2014-01-01'\n",
    "cik_dfs = []\n",
    "for index, cik in enumerate(selected_cik2[l_from:l_to]):\n",
    "    file_dfs = []\n",
    "    for file in list_dropbox:\n",
    "        if file.name.split(\"-\")[0] == str(cik):\n",
    "            try:               \n",
    "                df_dropbox = pl.read_csv(file, columns=columns_dropbox, dtypes=pl_dtypes_dropbox, parse_dates=True)                \n",
    "                df_dropbox = df_dropbox.to_pandas().astype(pd_dtypes_validation_dropbox)\n",
    "                               \n",
    "                if df_dropbox.empty or df_dropbox.fdate.max() >= pd.to_datetime(cutoff_date,format='%Y-%m-%d'): continue\n",
    "                \n",
    "                df_dropbox = (df_dropbox.assign(file_value_sum = df_dropbox.value.sum(),\n",
    "                                                n_holdings = df_dropbox.cusip9.nunique(),\n",
    "                                                quarter=df_dropbox.rdate.dt.to_period(freq=\"Q\").astype(str),\n",
    "                                                file=file)\n",
    "                             )\n",
    "                df_dropbox_short = df_dropbox[['cik', 'cusip9', 'rdate', 'fdate', 'address', \n",
    "                               'file_value_sum', 'n_holdings', 'quarter', 'file']].head(1)\n",
    "                \n",
    "                df_dropbox_short = df_dropbox_short.rename(columns={'cusip9': 'cusip', 'address': 'accession_number'}) \n",
    "                file_dfs.append(df_dropbox_short)                \n",
    "                df_dropbox = None\n",
    "            except Exception as e:\n",
    "                print(f\"Problem reading file... {file.name}\")\n",
    "                print(e)\n",
    "      \n",
    "    if not file_dfs: continue\n",
    "    cik_df = pd.concat(file_dfs)\n",
    "    file_dfs = None\n",
    "    \n",
    "    cik_dfs.append(cik_df)\n",
    "\n",
    "if cik_dfs: big_dropbox_df = pd.concat(cik_dfs)\n",
    "# else: big_dropbox_df = pd.DataFrame()\n",
    "print(big_dropbox_df.head(1))\n",
    "######\n",
    "\n",
    "cik_sec_app_dfs = []\n",
    "for index, cik in enumerate(selected_cik2[l_from:l_to]):\n",
    "    file_sec_app_dfs = []\n",
    "    for file in list_sec_app:\n",
    "        if file.name.split(\"-\")[0] == str(cik):\n",
    "            try:\n",
    "                df_sec_app = pl.read_parquet(file, columns=columns_sec_app) \n",
    "                df_sec_app = df_sec_app.to_pandas().astype(pd_dtypes_validation_sec_app)\n",
    "                if df_sec_app.empty or df_sec_app.fdate.max() < pd.to_datetime(cutoff_date,format='%Y-%m-%d'): continue               \n",
    "                df_sec_app = (df_sec_app.assign(row_value_zscore = stats.zscore(df_sec_app.value),\n",
    "                                file_value_sum = df_sec_app.value.sum().round(),\n",
    "                                n_holdings = df_sec_app.cusip.nunique(),\n",
    "                                quarter=df_sec_app.rdate.dt.to_period(freq=\"Q\").astype(str),\n",
    "                                file=file)\n",
    "                             )\n",
    "                df_sec_app_short = df_sec_app[['cik', 'cusip', 'rdate', 'fdate', 'accession_number',\n",
    "                                'file_value_sum', 'n_holdings', 'quarter', 'file']].head(1)\n",
    "\n",
    "                file_sec_app_dfs.append(df_sec_app_short)\n",
    "                df_sec_app = None\n",
    "            except Exception as e:\n",
    "                print(f\"Problem reading file... {file.name}\")\n",
    "                print(e)\n",
    "\n",
    "\n",
    "    if not file_sec_app_dfs: continue\n",
    "    cik_sec_app_df = pd.concat(file_sec_app_dfs)\n",
    "    file_dfs = None\n",
    "\n",
    "    cik_sec_app_dfs.append(cik_sec_app_df)\n",
    "if cik_sec_app_dfs: big_sec_app_df = pd.concat(cik_sec_app_dfs)\n",
    "\n",
    "common_df = pd.concat([big_dropbox_df,big_sec_app_df])\n",
    "\n",
    "# format/formatting of amounts to million or billion for the chart\n",
    "common_df['value_format'] = common_df['file_value_sum'] / 1_000_000\n",
    "common_df['value_format'] = common_df['value_format'].apply(lambda x: f'{x:.2f}M' if x < 1000 else f'{x/1000:.2f}B')"
   ]
  },
  {
   "cell_type": "code",
   "execution_count": null,
   "id": "98697ef4-de99-44b7-9cfa-a0cf4e6f230c",
   "metadata": {
    "tags": []
   },
   "outputs": [],
   "source": [
    "cik_sec_app_dfs == True\n",
    "big_sec_app_df"
   ]
  },
  {
   "cell_type": "markdown",
   "id": "85cda037-625f-42b8-a9d4-1b8f2a15dbb4",
   "metadata": {},
   "source": [
    "## Fully working, hvplot based data cleaning tool"
   ]
  },
  {
   "cell_type": "code",
   "execution_count": 153,
   "id": "d75d5fa5-8133-450e-89b1-9eb5b628fde0",
   "metadata": {
    "tags": []
   },
   "outputs": [
    {
     "data": {
      "text/plain": [
       "[3133, 3521, 4962]"
      ]
     },
     "execution_count": 153,
     "metadata": {},
     "output_type": "execute_result"
    }
   ],
   "source": [
    "selected_cik2"
   ]
  },
  {
   "cell_type": "code",
   "execution_count": 150,
   "id": "4f6fb009-4cd4-4b3b-ab59-85422e0d9336",
   "metadata": {
    "tags": []
   },
   "outputs": [
    {
     "data": {},
     "metadata": {},
     "output_type": "display_data"
    },
    {
     "data": {},
     "metadata": {},
     "output_type": "display_data"
    },
    {
     "data": {
      "application/vnd.holoviews_exec.v0+json": "",
      "text/html": [
       "<div id='27568'>\n",
       "  <div class=\"bk-root\" id=\"3340a392-28ab-41a8-88ff-dbce9138049a\" data-root-id=\"27568\"></div>\n",
       "</div>\n",
       "<script type=\"application/javascript\">(function(root) {\n",
       "  function embed_document(root) {\n",
       "    var docs_json = {\"6317e014-979a-4c32-b232-07756bb47067\":{\"defs\":[{\"extends\":null,\"module\":null,\"name\":\"ReactiveHTML1\",\"overrides\":[],\"properties\":[]},{\"extends\":null,\"module\":null,\"name\":\"FlexBox1\",\"overrides\":[],\"properties\":[{\"default\":\"flex-start\",\"kind\":null,\"name\":\"align_content\"},{\"default\":\"flex-start\",\"kind\":null,\"name\":\"align_items\"},{\"default\":\"row\",\"kind\":null,\"name\":\"flex_direction\"},{\"default\":\"wrap\",\"kind\":null,\"name\":\"flex_wrap\"},{\"default\":\"flex-start\",\"kind\":null,\"name\":\"justify_content\"}]},{\"extends\":null,\"module\":null,\"name\":\"GridStack1\",\"overrides\":[],\"properties\":[{\"default\":\"warn\",\"kind\":null,\"name\":\"mode\"},{\"default\":null,\"kind\":null,\"name\":\"ncols\"},{\"default\":null,\"kind\":null,\"name\":\"nrows\"},{\"default\":true,\"kind\":null,\"name\":\"allow_resize\"},{\"default\":true,\"kind\":null,\"name\":\"allow_drag\"},{\"default\":[],\"kind\":null,\"name\":\"state\"}]},{\"extends\":null,\"module\":null,\"name\":\"click1\",\"overrides\":[],\"properties\":[{\"default\":\"\",\"kind\":null,\"name\":\"terminal_output\"},{\"default\":\"\",\"kind\":null,\"name\":\"debug_name\"},{\"default\":0,\"kind\":null,\"name\":\"clears\"}]},{\"extends\":null,\"module\":null,\"name\":\"NotificationAreaBase1\",\"overrides\":[],\"properties\":[{\"default\":\"bottom-right\",\"kind\":null,\"name\":\"position\"},{\"default\":0,\"kind\":null,\"name\":\"_clear\"}]},{\"extends\":null,\"module\":null,\"name\":\"NotificationArea1\",\"overrides\":[],\"properties\":[{\"default\":[],\"kind\":null,\"name\":\"notifications\"},{\"default\":\"bottom-right\",\"kind\":null,\"name\":\"position\"},{\"default\":0,\"kind\":null,\"name\":\"_clear\"},{\"default\":[{\"background\":\"#ffc107\",\"icon\":{\"className\":\"fas fa-exclamation-triangle\",\"color\":\"white\",\"tagName\":\"i\"},\"type\":\"warning\"},{\"background\":\"#007bff\",\"icon\":{\"className\":\"fas fa-info-circle\",\"color\":\"white\",\"tagName\":\"i\"},\"type\":\"info\"}],\"kind\":null,\"name\":\"types\"}]},{\"extends\":null,\"module\":null,\"name\":\"Notification\",\"overrides\":[],\"properties\":[{\"default\":null,\"kind\":null,\"name\":\"background\"},{\"default\":3000,\"kind\":null,\"name\":\"duration\"},{\"default\":null,\"kind\":null,\"name\":\"icon\"},{\"default\":\"\",\"kind\":null,\"name\":\"message\"},{\"default\":null,\"kind\":null,\"name\":\"notification_type\"},{\"default\":false,\"kind\":null,\"name\":\"_destroyed\"}]},{\"extends\":null,\"module\":null,\"name\":\"TemplateActions1\",\"overrides\":[],\"properties\":[{\"default\":0,\"kind\":null,\"name\":\"open_modal\"},{\"default\":0,\"kind\":null,\"name\":\"close_modal\"}]},{\"extends\":null,\"module\":null,\"name\":\"MaterialTemplateActions1\",\"overrides\":[],\"properties\":[{\"default\":0,\"kind\":null,\"name\":\"open_modal\"},{\"default\":0,\"kind\":null,\"name\":\"close_modal\"}]}],\"roots\":{\"references\":[{\"attributes\":{\"text_align\":\"right\"},\"id\":\"27728\",\"type\":\"NumberFormatter\"},{\"attributes\":{\"format\":\"%d\"},\"id\":\"27615\",\"type\":\"PrintfTickFormatter\"},{\"attributes\":{},\"id\":\"27699\",\"type\":\"CellEditor\"},{\"attributes\":{\"format\":\"%Y-%m-%d %H:%M:%S\",\"text_align\":\"right\"},\"id\":\"27708\",\"type\":\"DateFormatter\"},{\"attributes\":{\"text_align\":\"left\"},\"id\":\"27697\",\"type\":\"NumberFormatter\"},{\"attributes\":{\"line_alpha\":{\"value\":0.2},\"line_dash\":{\"value\":\"dotted\"},\"xs\":{\"field\":\"xs\"},\"ys\":{\"field\":\"ys\"}},\"id\":\"27659\",\"type\":\"MultiLine\"},{\"attributes\":{\"editor\":{\"id\":\"27719\"},\"field\":\"accession_number\",\"formatter\":{\"id\":\"27718\"},\"title\":\"accession_number\",\"width\":0},\"id\":\"27720\",\"type\":\"TableColumn\"},{\"attributes\":{\"base\":60,\"mantissas\":[1,2,5,10,15,20,30],\"max_interval\":1800000.0,\"min_interval\":1000.0,\"num_minor_ticks\":0},\"id\":\"27683\",\"type\":\"AdaptiveTicker\"},{\"attributes\":{\"editor\":{\"id\":\"27724\"},\"field\":\"file_value_sum\",\"formatter\":{\"id\":\"27723\"},\"title\":\"file_value_sum\",\"width\":0},\"id\":\"27725\",\"type\":\"TableColumn\"},{\"attributes\":{\"fill_color\":{\"value\":\"#30a2da\"},\"hatch_color\":{\"value\":\"#30a2da\"},\"line_color\":{\"value\":\"#30a2da\"},\"size\":{\"value\":5.477225575051661},\"x\":{\"field\":\"rdate\"},\"y\":{\"field\":\"file_value_sum\"}},\"id\":\"27637\",\"type\":\"Scatter\"},{\"attributes\":{},\"id\":\"27602\",\"type\":\"ResetTool\"},{\"attributes\":{\"fill_color\":{\"value\":\"#30a2da\"},\"hatch_color\":{\"value\":\"#30a2da\"},\"line_color\":{\"value\":\"#30a2da\"},\"size\":{\"value\":5.477225575051661},\"x\":{\"field\":\"rdate\"},\"y\":{\"field\":\"file_value_sum\"}},\"id\":\"27641\",\"type\":\"Scatter\"},{\"attributes\":{},\"id\":\"27617\",\"type\":\"DatetimeTickFormatter\"},{\"attributes\":{},\"id\":\"27677\",\"type\":\"UnionRenderers\"},{\"attributes\":{\"days\":[1,4,7,10,13,16,19,22,25,28]},\"id\":\"27686\",\"type\":\"DaysTicker\"},{\"attributes\":{\"overlay\":{\"id\":\"27604\"}},\"id\":\"27601\",\"type\":\"BoxZoomTool\"},{\"attributes\":{},\"id\":\"27598\",\"type\":\"SaveTool\"},{\"attributes\":{\"indices\":[]},\"id\":\"27696\",\"type\":\"Selection\"},{\"attributes\":{\"fill_alpha\":{\"value\":0.08},\"fill_color\":{\"value\":\"#30a2da\"},\"hatch_alpha\":{\"value\":0.08},\"hatch_color\":{\"value\":\"#30a2da\"},\"line_alpha\":{\"value\":0.08},\"line_color\":{\"value\":\"#30a2da\"},\"size\":{\"value\":5.477225575051661},\"x\":{\"field\":\"rdate\"},\"y\":{\"field\":\"file_value_sum\"}},\"id\":\"27630\",\"type\":\"Scatter\"},{\"attributes\":{},\"id\":\"27729\",\"type\":\"IntEditor\"},{\"attributes\":{\"months\":[0,1,2,3,4,5,6,7,8,9,10,11]},\"id\":\"27689\",\"type\":\"MonthsTicker\"},{\"attributes\":{},\"id\":\"27595\",\"type\":\"BasicTicker\"},{\"attributes\":{\"base\":24,\"mantissas\":[1,2,4,6,8,12],\"max_interval\":43200000.0,\"min_interval\":3600000.0,\"num_minor_ticks\":0},\"id\":\"27684\",\"type\":\"AdaptiveTicker\"},{\"attributes\":{},\"id\":\"27734\",\"type\":\"StringEditor\"},{\"attributes\":{\"days\":[1,2,3,4,5,6,7,8,9,10,11,12,13,14,15,16,17,18,19,20,21,22,23,24,25,26,27,28,29,30,31]},\"id\":\"27685\",\"type\":\"DaysTicker\"},{\"attributes\":{},\"id\":\"27724\",\"type\":\"NumberEditor\"},{\"attributes\":{},\"id\":\"27618\",\"type\":\"AllLabels\"},{\"attributes\":{},\"id\":\"27693\",\"type\":\"YearsTicker\"},{\"attributes\":{},\"id\":\"27769\",\"type\":\"UnionRenderers\"},{\"attributes\":{\"coordinates\":null,\"data_source\":{\"id\":\"27634\"},\"glyph\":{\"id\":\"27637\"},\"group\":null,\"hover_glyph\":{\"id\":\"27640\"},\"muted_glyph\":{\"id\":\"27641\"},\"nonselection_glyph\":{\"id\":\"27638\"},\"selection_glyph\":{\"id\":\"27639\"},\"view\":{\"id\":\"27643\"}},\"id\":\"27642\",\"type\":\"GlyphRenderer\"},{\"attributes\":{\"children\":[{\"id\":\"27570\"}],\"margin\":[0,0,0,0],\"name\":\"Column190318\",\"sizing_mode\":\"stretch_width\"},\"id\":\"27569\",\"type\":\"Column\"},{\"attributes\":{\"callback\":null,\"formatters\":{\"@{fdate}\":\"datetime\",\"@{rdate}\":\"datetime\"},\"renderers\":[{\"id\":\"27632\"},{\"id\":\"27642\"}],\"tags\":[\"hv_created\"],\"tooltips\":[[\"rdate\",\"@{rdate}{%F %T}\"],[\"file_value_sum\",\"@{file_value_sum}\"],[\"fdate\",\"@{fdate}{%F %T}\"],[\"quarter\",\"@{quarter}\"],[\"value_format\",\"@{value_format}\"],[\"n_holdings\",\"@{n_holdings}\"],[\"accession_number\",\"@{accession_number}\"]]},\"id\":\"27577\",\"type\":\"HoverTool\"},{\"attributes\":{\"days\":[1,8,15,22]},\"id\":\"27687\",\"type\":\"DaysTicker\"},{\"attributes\":{\"js_property_callbacks\":{\"change:mode\":[{\"id\":\"27578\"}]},\"overlay\":{\"id\":\"27603\"}},\"id\":\"27575\",\"type\":\"BoxSelectTool\"},{\"attributes\":{},\"id\":\"27675\",\"type\":\"UnionRenderers\"},{\"attributes\":{\"months\":[0,4,8]},\"id\":\"27691\",\"type\":\"MonthsTicker\"},{\"attributes\":{\"line_alpha\":{\"value\":1.0},\"line_cap\":{\"value\":\"butt\"},\"line_color\":{\"value\":\"black\"},\"line_dash\":{\"value\":\"dotted\"},\"line_dash_offset\":{\"value\":0},\"line_join\":{\"value\":\"bevel\"},\"line_width\":{\"value\":1},\"xs\":{\"field\":\"xs\"},\"ys\":{\"field\":\"ys\"}},\"id\":\"27662\",\"type\":\"MultiLine\"},{\"attributes\":{\"bottom_units\":\"screen\",\"coordinates\":null,\"fill_alpha\":0.5,\"fill_color\":\"lightgrey\",\"group\":null,\"left_units\":\"screen\",\"level\":\"overlay\",\"line_alpha\":1.0,\"line_color\":\"black\",\"line_dash\":[4,4],\"line_width\":2,\"right_units\":\"screen\",\"syncable\":false,\"top_units\":\"screen\"},\"id\":\"27604\",\"type\":\"BoxAnnotation\"},{\"attributes\":{\"mantissas\":[1,2,5],\"max_interval\":500.0,\"num_minor_ticks\":0},\"id\":\"27682\",\"type\":\"AdaptiveTicker\"},{\"attributes\":{\"columns\":[{\"id\":\"27700\"},{\"id\":\"27705\"},{\"id\":\"27710\"},{\"id\":\"27715\"},{\"id\":\"27720\"},{\"id\":\"27725\"},{\"id\":\"27730\"},{\"id\":\"27735\"}],\"configuration\":{\"columns\":[{\"field\":\"index\",\"sorter\":\"number\"},{\"field\":\"cik\",\"sorter\":\"number\"},{\"field\":\"rdate\",\"sorter\":\"timestamp\"},{\"field\":\"fdate\",\"sorter\":\"timestamp\"},{\"field\":\"accession_number\"},{\"field\":\"file_value_sum\",\"sorter\":\"number\"},{\"field\":\"n_holdings\",\"sorter\":\"number\"},{\"field\":\"quarter\"}],\"dataTree\":false,\"selectable\":true},\"indexes\":[\"index\"],\"layout\":\"fit_data_table\",\"margin\":[5,10,5,10],\"max_page\":10,\"name\":\"\",\"page\":1,\"page_size\":10,\"pagination\":\"remote\",\"select_mode\":true,\"selectable_rows\":null,\"sizing_mode\":\"stretch_width\",\"source\":{\"id\":\"27695\"},\"styles\":{\"data\":{},\"id\":\"9d95c2ba34be44e494fd4d122244ee40\"},\"subscribed_events\":[\"cell-click\",\"table-edit\"],\"theme_url\":\"https://cdn.jsdelivr.net/npm/@holoviz/panel@0.14.3/dist/bundled/datatabulator/tabulator-tables@5.3.2/dist/css/\"},\"id\":\"27738\",\"type\":\"panel.models.tabulator.DataTabulator\"},{\"attributes\":{\"editor\":{\"id\":\"27729\"},\"field\":\"n_holdings\",\"formatter\":{\"id\":\"27728\"},\"title\":\"n_holdings\",\"width\":0},\"id\":\"27730\",\"type\":\"TableColumn\"},{\"attributes\":{\"num_minor_ticks\":5,\"tickers\":[{\"id\":\"27682\"},{\"id\":\"27683\"},{\"id\":\"27684\"},{\"id\":\"27685\"},{\"id\":\"27686\"},{\"id\":\"27687\"},{\"id\":\"27688\"},{\"id\":\"27689\"},{\"id\":\"27690\"},{\"id\":\"27691\"},{\"id\":\"27692\"},{\"id\":\"27693\"}]},\"id\":\"27591\",\"type\":\"DatetimeTicker\"},{\"attributes\":{},\"id\":\"27586\",\"type\":\"LinearScale\"},{\"attributes\":{\"editor\":{\"id\":\"27699\"},\"field\":\"index\",\"formatter\":{\"id\":\"27697\"},\"title\":\"index\",\"width\":0},\"id\":\"27700\",\"type\":\"TableColumn\"},{\"attributes\":{\"data\":{\"accession_number\":[\"2230/0000002230-04-000014.txt\",\"2230/0000002230-02-000008.txt\",\"2230/0000002230-99-000007.txt\",\"2230/0000002230-99-000013.txt\",\"2230/0000002230-01-000002.txt\",\"2230/0000002230-01-500008.txt\",\"2230/0000002230-08-000056.txt\",\"2230/0000002230-07-000022.txt\",\"2230/0000002230-08-000043.txt\",\"2230/0000002230-10-000064.txt\",\"2230/0000002230-08-000025.txt\",\"2230/0000002230-10-000059.txt\",\"2230/0000002230-05-000032.txt\",\"2230/0000002230-09-000049.txt\",\"2230/0000002230-03-000013.txt\",\"2230/0000002230-00-000008.txt\",\"2230/0000002230-04-000049.txt\",\"2230/0000002230-03-000006.txt\",\"2230/0000002230-10-000072.txt\",\"2230/0000002230-13-000054.txt\",\"2230/0000002230-05-000035.txt\",\"2230/0000002230-11-000027.txt\",\"2230/0000002230-09-000065.txt\",\"2230/0000002230-06-000038.txt\",\"2230/0000002230-03-000001.txt\",\"2230/0000002230-13-000077.txt\",\"2230/0000002230-05-000012.txt\",\"2230/0000002230-07-000064.txt\",\"2230/0000002230-00-000003.txt\",\"2230/0000002230-07-000071.txt\",\"2230/0000002230-12-000032.txt\",\"2230/0000002230-06-000009.txt\",\"2230/0000002230-04-000041.txt\",\"2230/0000002230-09-000057.txt\",\"2230/0000002230-00-000010.txt\",\"2230/0000002230-13-000066.txt\",\"2230/0000002230-00-000007.txt\",\"2230/0000002230-07-000048.txt\",\"2230/0000002230-03-000009.txt\",\"2230/0000002230-05-000016.txt\",\"2230/0000002230-02-000002.txt\",\"2230/0000002230-01-500012.txt\",\"2230/0000002230-13-000028.txt\",\"2230/0000002230-06-000043.txt\",\"2230/0000002230-99-000009.txt\",\"2230/0000002230-08-000066.txt\",\"2230/0000002230-04-000034.txt\",\"2230/0000002230-12-000051.txt\",\"2230/0000002230-01-500005.txt\",\"2230/0000002230-10-000031.txt\",\"2230/0000002230-11-000074.txt\",\"2230/0000002230-12-000046.txt\",\"2230/0000002230-09-000034.txt\",\"2230/0000002230-02-000010.txt\",\"2230/0000002230-12-000056.txt\",\"2230/0000002230-11-000065.txt\",\"2230/0000002230-11-000059.txt\",\"2230/0000002230-06-000052.txt\",\"2230/0000002230-02-000006.txt\",\"0001104659-22-111497\",\"0000002230-14-000062\",\"0001104659-21-095273\",\"0001104659-20-116496\",\"0000002230-18-000023\",\"0000002230-16-000093\",\"0001104659-20-047324\",\"0001144204-19-021569\",\"0001144204-19-036410\",\"0001104659-22-020247\",\"0000002230-14-000035\",\"0001104659-21-130390\",\"0001104659-20-085958\",\"0001104659-21-054404\",\"0001144204-18-055832\",\"0001104659-19-056775\",\"0000002230-15-000052\",\"0001104659-21-021812\",\"0001104659-20-009265\",\"0001104659-23-010345\",\"0000002230-16-000100\",\"0000002230-17-000036\",\"0000002230-14-000072\",\"0000002230-17-000023\",\"0001144204-18-040186\",\"0000002230-16-000105\",\"0000002230-17-000047\",\"0001144204-19-008131\",\"0000002230-15-000035\",\"0000002230-16-000113\",\"0000002230-17-000032\",\"0000002230-14-000083\",\"0000002230-15-000073\",\"0001104659-22-083096\",\"0001104659-22-050964\",\"0000002230-18-000018\",\"0000002230-15-000055\"],\"fdate\":{\"__ndarray__\":\"AAAAx3BOb0IAAADuifFtQgAAAOzv+WpCAACANipta0IAAIBWjo1sQgAAgMiTBm1CAACAC4G0cUIAAABk6glxQgAAwEIlmXFCAADALROhckIAAMANr4BxQgAAgGt/gnJCAADAB2tTcEIAAECNXwxyQgAAgOYiDG9CAACAe9IVbEIAAAA6rPlvQgAAgDn6lm5CAABAIZ7AckIAAADV5+NzQgAAQPv1cnBCAABAdxfickIAAMDWY01yQgAAAEhesnBCAAAABGllbkIAAADJjRx0QgAAAAqZH3BCAABA8j1CcUIAAAC7UaprQgAAALuZXXFCAAAAipJXc0IAAIDrHJRwQgAAAAvjxG9CAADArn0uckIAAID5MVZsQgAAQPOhB3RCAAAARkHka0IAAMCV/CNxQgAAgInG1G5CAAAAPw84cEIAAABBYXxtQgAAAIjeP21CAACAAmDNc0IAAICxL8pwQgAAgBTxMWtCAAAAaMLScUIAAABf8IFvQgAAQOpSjXNCAACAKTG9bEIAAAAwQW1yQgAAQDd9NHNCAACAxdBsc0IAAADszvZxQgAAAJOZHm5CAACArOarc0IAAMBD8hRzQgAAwODo+XJCAADAz+ntcEIAAAAUBKxtQgAAQGsZQXhCAABAHL5YdEIAAECWCq13QgAAQOM0VHdCAAAAZEYwdkIAAMCjhyx1QgAAAJAEGHdCAAAAEW+ldkIAAIBtsMN2QgAAgEVh7ndCAABAFdtCdEIAAEC+8Mt3QgAAgIOPN3dCAAAAa8CPd0IAAMDr0Wt2QgAAwJj64HZCAABAJQ3TdEIAAICYOHl3QgAAAFuO/3ZCAABAKklheEIAAABzq0R1QgAAABon1nVCAACAdZt4dEIAAECznqN1QgAAgCk+TXZCAAAAbf5gdUIAAMA+qfZ1QgAAwNiUjnZCAADA9l63dEIAAIDJP391QgAAALcdu3VCAAAADQCTdEIAAMDkVwx1QgAAAEDPI3hCAADAFIUGeEIAAEBgxxh2QgAAAMDV63RC\",\"dtype\":\"float64\",\"order\":\"little\",\"shape\":[96]},\"file_value_sum\":{\"__ndarray__\":\"AAAAAM3bMUEAAAAAFX8wQQAAAABV4jhBAAAAALAnOUEAAAAA2hw7QQAAAAA7VDZBAAAAAG/wMEEAAAAAUDo0QQAAAAA4SjJBAAAAAGQmLEEAAAAAsJozQQAAAAADOTBBAAAAAKj6MkEAAAAAXBIlQQAAAADKii5BAAAAAIscQEEAAAAAnfoxQQAAAAAkhylBAAAAAK7lLkEAAAAAlsUyQQAAAADA0jJBAAAAAApRMEEAAAAAolItQQAAAAB8xjNBAAAAABSnK0EAAAAAAgU0QQAAAABILjNBAAAAALlvNUEAAAAAgPc/QQAAAAAQRDVBAAAAAL6fLkEAAAAAbgMzQQAAAAC7nDJBAAAAAP5HKUEAAAAAPI0+QQAAAAB8MzNBAAAAgIOyQEEAAAAAO2k0QQAAAACkbS1BAAAAACy8MkEAAAAAwlwzQQAAAADsNDNBAAAAAOGaMUEAAAAAaE0zQQAAAAD6TTpBAAAAAC42LkEAAAAAYmEyQQAAAACcYzBBAAAAAJYfNkEAAAAAoGwuQQAAAACIGyxBAAAAAJPeMEEAAAAAmPImQQAAAACIGSlBAAAAAKLSMUEAAAAATMowQQAAAACJejFBAAAAAP+fM0EAAAAA41MzQQAAAACfkz5BAAAAAEChNUEAAACAhFxDQQAAAAACPz9BAAAAANHgO0EAAAAA1Cw2QQAAAADhFzhBAAAAACe8O0EAAAAAo788QQAAAICHHURBAAAAANaQNUEAAAAAZU5DQQAAAAC8zzxBAAAAAPTaQUEAAAAA1cI+QQAAAADjozxBAAAAAIMvN0EAAAAAJ91AQQAAAAB7nz1BAAAAADfTP0EAAAAA+es1QQAAAAADCTtBAAAAAGrZNkEAAAAArZ84QQAAAACLqDxBAAAAAAG3NkEAAAAAPBk8QQAAAAD0yThBAAAAAAcbN0EAAAAAAbc2QQAAAAAYmjpBAAAAAI4lN0EAAAAA6iY1QQAAAIDrDkBBAAAAABMyQ0EAAAAAa148QQAAAAD4GjdB\",\"dtype\":\"float64\",\"order\":\"little\",\"shape\":[96]},\"n_holdings\":[83,104,108,118,96,101,75,82,79,77,76,78,87,72,79,109,83,77,78,103,83,77,74,82,102,80,84,83,109,81,90,84,85,74,104,79,108,83,78,87,91,97,115,81,112,70,86,103,106,77,88,99,69,90,113,82,79,85,103,92,85,98,101,211,80,97,219,220,91,85,98,105,102,211,93,86,99,93,93,77,210,86,210,211,198,212,213,86,198,208,86,84,91,88,204,84],\"quarter\":[\"2003Q4\",\"2002Q2\",\"1999Q1\",\"1999Q3\",\"2000Q4\",\"2001Q2\",\"2008Q2\",\"2006Q4\",\"2008Q1\",\"2010Q2\",\"2007Q4\",\"2010Q1\",\"2005Q2\",\"2009Q1\",\"2003Q3\",\"2000Q2\",\"2004Q3\",\"2003Q1\",\"2010Q3\",\"2013Q1\",\"2005Q3\",\"2010Q4\",\"2009Q3\",\"2006Q1\",\"2002Q4\",\"2013Q3\",\"2004Q4\",\"2007Q2\",\"1999Q4\",\"2007Q3\",\"2011Q4\",\"2005Q4\",\"2004Q2\",\"2009Q2\",\"2000Q3\",\"2013Q2\",\"2000Q1\",\"2007Q1\",\"2003Q2\",\"2005Q1\",\"2001Q4\",\"2001Q3\",\"2012Q4\",\"2006Q2\",\"1999Q2\",\"2008Q3\",\"2004Q1\",\"2012Q2\",\"2001Q1\",\"2009Q4\",\"2011Q3\",\"2012Q1\",\"2008Q4\",\"2002Q3\",\"2012Q3\",\"2011Q2\",\"2011Q1\",\"2006Q3\",\"2002Q1\",\"2022Q3\",\"2014Q1\",\"2021Q2\",\"2020Q3\",\"2018Q1\",\"2015Q4\",\"2020Q1\",\"2019Q1\",\"2019Q2\",\"2021Q4\",\"2013Q4\",\"2021Q3\",\"2020Q2\",\"2021Q1\",\"2018Q3\",\"2019Q3\",\"2015Q1\",\"2020Q4\",\"2019Q4\",\"2022Q4\",\"2016Q1\",\"2017Q2\",\"2014Q2\",\"2016Q4\",\"2018Q2\",\"2016Q2\",\"2017Q3\",\"2018Q4\",\"2014Q4\",\"2016Q3\",\"2017Q1\",\"2014Q3\",\"2015Q3\",\"2022Q2\",\"2022Q1\",\"2017Q4\",\"2015Q2\"],\"rdate\":{\"__ndarray__\":\"AACAizI5b0IAAAAiytdtQgAAgI+u22pCAAAACHxRa0IAAAAbUHhsQgAAgPzT7GxCAAAATWytcUIAAMDjXP1wQgAAwCEikHFCAACAcmKYckIAAID213JxQgAAQEcYe3JCAAAAr6hMcEIAAIA0nQVyQgAAgGn5/W5CAAAA190BbEIAAIBalOlvQgAAAPEriG5CAACAA/+1ckIAAEDl29tzQgAAAEBFanBCAACAlJvTckIAAMDwg0ByQgAAgJbZpHBCAAAAZjxObkIAAIChwhZ0QgAAQL5mEnBCAACA1J43cUIAAAAqtYxrQgAAgGU7VXFCAABApxZJc0IAAADR4YdwQgAAgDhbrm9CAADAX+cickIAAAD5Fj1sQgAAgBAm+XNCAACAgEnHa0IAAECpVBpxQgAAgEfAwm5CAADAg14vcEIAAIBARmNtQgAAgB4NKG1CAADAH+S+c0IAAMDBI8JwQgAAAOZCFmtCAAAA3gjLcUIAAADixnNvQgAAwP2qg3NCAAAApj+ybEIAAMCBIF5yQgAAQBZ6K3NCAACA0mBmc0IAAABvpehxQgAAAEQDE25CAADAjkehc0IAAECF3Q1zQgAAAFqT8HJCAADAUsDfcEIAAIDLNZ1tQgAAwBW7OHhCAAAA+FZRdEIAAAByo6V3QgAAQPDETXdCAADAqJUndkIAAABYVR91QgAAADTeEndCAACAuxCddkIAAMDmWrp2QgAAAJTc4HdCAACAMl80dEIAAAADQMN3QgAAQF8oMHdCAADARlmId0IAAABlfGJ2QgAAwHf313ZCAADACtLGdEIAAECBYWt3QgAAwAiU9XZCAADApldWeEIAAECDnzx1QgAAQMFkz3VCAABAI6FudEIAAIDQIpV1QgAAANTfRHZCAACArulZdUIAAEBSAe11QgAAAPYYgHZCAABARdqpdEIAAIA/hnd1QgAAAJYasnVCAABAtD2MdEIAAADHuAF1QgAAwIQeG3hCAACAWdT9d0IAAEDjnQp2QgAAADYc5HRC\",\"dtype\":\"float64\",\"order\":\"little\",\"shape\":[96]},\"value_format\":[\"1.17M\",\"1.08M\",\"1.63M\",\"1.65M\",\"1.78M\",\"1.46M\",\"1.11M\",\"1.33M\",\"1.20M\",\"0.92M\",\"1.28M\",\"1.06M\",\"1.24M\",\"0.69M\",\"1.00M\",\"2.11M\",\"1.18M\",\"0.84M\",\"1.01M\",\"1.23M\",\"1.23M\",\"1.07M\",\"0.96M\",\"1.30M\",\"0.91M\",\"1.31M\",\"1.26M\",\"1.40M\",\"2.09M\",\"1.39M\",\"1.00M\",\"1.25M\",\"1.22M\",\"0.83M\",\"2.00M\",\"1.26M\",\"2.19M\",\"1.34M\",\"0.96M\",\"1.23M\",\"1.27M\",\"1.26M\",\"1.15M\",\"1.26M\",\"1.72M\",\"0.99M\",\"1.20M\",\"1.07M\",\"1.45M\",\"1.00M\",\"0.92M\",\"1.11M\",\"0.75M\",\"0.82M\",\"1.17M\",\"1.10M\",\"1.15M\",\"1.29M\",\"1.27M\",\"2.00M\",\"1.42M\",\"2.54M\",\"2.05M\",\"1.83M\",\"1.45M\",\"1.58M\",\"1.82M\",\"1.88M\",\"2.64M\",\"1.41M\",\"2.53M\",\"1.89M\",\"2.34M\",\"2.02M\",\"1.88M\",\"1.52M\",\"2.21M\",\"1.94M\",\"2.09M\",\"1.44M\",\"1.77M\",\"1.50M\",\"1.61M\",\"1.88M\",\"1.49M\",\"1.84M\",\"1.62M\",\"1.51M\",\"1.49M\",\"1.74M\",\"1.52M\",\"1.39M\",\"2.10M\",\"2.52M\",\"1.86M\",\"1.51M\"]},\"selected\":{\"id\":\"27625\"},\"selection_policy\":{\"id\":\"27671\"}},\"id\":\"27624\",\"type\":\"ColumnDataSource\"},{\"attributes\":{\"bottom_units\":\"screen\",\"coordinates\":null,\"fill_alpha\":0.5,\"fill_color\":\"lightgrey\",\"group\":null,\"left_units\":\"screen\",\"level\":\"overlay\",\"line_alpha\":1.0,\"line_color\":\"black\",\"line_dash\":[4,4],\"line_width\":2,\"right_units\":\"screen\",\"syncable\":false,\"top_units\":\"screen\"},\"id\":\"27603\",\"type\":\"BoxAnnotation\"},{\"attributes\":{\"axis\":{\"id\":\"27590\"},\"coordinates\":null,\"grid_line_color\":null,\"group\":null,\"ticker\":null},\"id\":\"27593\",\"type\":\"Grid\"},{\"attributes\":{\"fill_alpha\":{\"value\":0.08},\"fill_color\":{\"value\":\"#30a2da\"},\"hatch_alpha\":{\"value\":0.08},\"hatch_color\":{\"value\":\"#30a2da\"},\"line_alpha\":{\"value\":0.08},\"line_color\":{\"value\":\"#30a2da\"},\"size\":{\"value\":5.477225575051661},\"x\":{\"field\":\"rdate\"},\"y\":{\"field\":\"file_value_sum\"}},\"id\":\"27629\",\"type\":\"Scatter\"},{\"attributes\":{},\"id\":\"27621\",\"type\":\"AllLabels\"},{\"attributes\":{},\"id\":\"27718\",\"type\":\"StringFormatter\"},{\"attributes\":{\"args\":{\"other\":{\"id\":\"27575\"}},\"code\":\"other.mode = this.mode\"},\"id\":\"27579\",\"type\":\"CustomJS\"},{\"attributes\":{\"fill_alpha\":{\"value\":0.08},\"fill_color\":{\"value\":\"#30a2da\"},\"hatch_alpha\":{\"value\":0.08},\"hatch_color\":{\"value\":\"#30a2da\"},\"line_alpha\":{\"value\":0.08},\"line_color\":{\"value\":\"#30a2da\"},\"size\":{\"value\":5.477225575051661},\"x\":{\"field\":\"rdate\"},\"y\":{\"field\":\"file_value_sum\"}},\"id\":\"27631\",\"type\":\"Scatter\"},{\"attributes\":{\"coordinates\":null,\"data_source\":{\"id\":\"27624\"},\"glyph\":{\"id\":\"27627\"},\"group\":null,\"hover_glyph\":{\"id\":\"27630\"},\"muted_glyph\":{\"id\":\"27631\"},\"nonselection_glyph\":{\"id\":\"27628\"},\"selection_glyph\":{\"id\":\"27629\"},\"view\":{\"id\":\"27633\"}},\"id\":\"27632\",\"type\":\"GlyphRenderer\"},{\"attributes\":{\"format\":\"%Y-%m-%d %H:%M:%S\",\"text_align\":\"right\"},\"id\":\"27713\",\"type\":\"DateFormatter\"},{\"attributes\":{\"days\":[1,15]},\"id\":\"27688\",\"type\":\"DaysTicker\"},{\"attributes\":{\"editor\":{\"id\":\"27704\"},\"field\":\"cik\",\"formatter\":{\"id\":\"27703\"},\"title\":\"cik\",\"width\":0},\"id\":\"27705\",\"type\":\"TableColumn\"},{\"attributes\":{\"end\":1701596160000.0,\"reset_end\":1701596160000.0,\"reset_start\":893687040000.0,\"start\":893687040000.0,\"tags\":[[[\"rdate\",\"rdate\",null]]]},\"id\":\"27571\",\"type\":\"Range1d\"},{\"attributes\":{},\"id\":\"27655\",\"type\":\"Selection\"},{\"attributes\":{\"fill_color\":{\"value\":\"#1f77b4\"},\"height\":{\"field\":\"height\"},\"width\":{\"field\":\"width\"},\"x\":{\"field\":\"x\"},\"y\":{\"field\":\"y\"}},\"id\":\"27651\",\"type\":\"Rect\"},{\"attributes\":{\"below\":[{\"id\":\"27590\"}],\"center\":[{\"id\":\"27593\"},{\"id\":\"27597\"}],\"height\":350,\"left\":[{\"id\":\"27594\"}],\"margin\":[5,5,5,5],\"min_border_bottom\":10,\"min_border_left\":10,\"min_border_right\":10,\"min_border_top\":10,\"renderers\":[{\"id\":\"27632\"},{\"id\":\"27642\"},{\"id\":\"27652\"},{\"id\":\"27660\"}],\"sizing_mode\":\"fixed\",\"subscribed_events\":[\"selectiongeometry\",\"reset\"],\"title\":{\"id\":\"27582\"},\"toolbar\":{\"id\":\"27606\"},\"width\":900,\"x_range\":{\"id\":\"27571\"},\"x_scale\":{\"id\":\"27586\"},\"y_range\":{\"id\":\"27572\"},\"y_scale\":{\"id\":\"27588\"}},\"id\":\"27581\",\"subtype\":\"Figure\",\"type\":\"Plot\"},{\"attributes\":{},\"id\":\"27704\",\"type\":\"IntEditor\"},{\"attributes\":{\"data\":{\"accession_number\":[\"2230/0000002230-04-000014.txt\",\"2230/0000002230-02-000008.txt\",\"2230/0000002230-99-000007.txt\",\"2230/0000002230-99-000013.txt\",\"2230/0000002230-01-000002.txt\",\"2230/0000002230-01-500008.txt\",\"2230/0000002230-08-000056.txt\",\"2230/0000002230-07-000022.txt\",\"2230/0000002230-08-000043.txt\",\"2230/0000002230-10-000064.txt\",\"2230/0000002230-08-000025.txt\",\"2230/0000002230-10-000059.txt\",\"2230/0000002230-05-000032.txt\",\"2230/0000002230-09-000049.txt\",\"2230/0000002230-03-000013.txt\",\"2230/0000002230-00-000008.txt\",\"2230/0000002230-04-000049.txt\",\"2230/0000002230-03-000006.txt\",\"2230/0000002230-10-000072.txt\",\"2230/0000002230-13-000054.txt\",\"2230/0000002230-05-000035.txt\",\"2230/0000002230-11-000027.txt\",\"2230/0000002230-09-000065.txt\",\"2230/0000002230-06-000038.txt\",\"2230/0000002230-03-000001.txt\",\"2230/0000002230-13-000077.txt\",\"2230/0000002230-05-000012.txt\",\"2230/0000002230-07-000064.txt\",\"2230/0000002230-00-000003.txt\",\"2230/0000002230-07-000071.txt\",\"2230/0000002230-12-000032.txt\",\"2230/0000002230-06-000009.txt\",\"2230/0000002230-04-000041.txt\",\"2230/0000002230-09-000057.txt\",\"2230/0000002230-00-000010.txt\",\"2230/0000002230-13-000066.txt\",\"2230/0000002230-00-000007.txt\",\"2230/0000002230-07-000048.txt\",\"2230/0000002230-03-000009.txt\",\"2230/0000002230-05-000016.txt\",\"2230/0000002230-02-000002.txt\",\"2230/0000002230-01-500012.txt\",\"2230/0000002230-13-000028.txt\",\"2230/0000002230-06-000043.txt\",\"2230/0000002230-99-000009.txt\",\"2230/0000002230-08-000066.txt\",\"2230/0000002230-04-000034.txt\",\"2230/0000002230-12-000051.txt\",\"2230/0000002230-01-500005.txt\",\"2230/0000002230-10-000031.txt\",\"2230/0000002230-11-000074.txt\",\"2230/0000002230-12-000046.txt\",\"2230/0000002230-09-000034.txt\",\"2230/0000002230-02-000010.txt\",\"2230/0000002230-12-000056.txt\",\"2230/0000002230-11-000065.txt\",\"2230/0000002230-11-000059.txt\",\"2230/0000002230-06-000052.txt\",\"2230/0000002230-02-000006.txt\",\"0001104659-22-111497\",\"0000002230-14-000062\",\"0001104659-21-095273\",\"0001104659-20-116496\",\"0000002230-18-000023\",\"0000002230-16-000093\",\"0001104659-20-047324\",\"0001144204-19-021569\",\"0001144204-19-036410\",\"0001104659-22-020247\",\"0000002230-14-000035\",\"0001104659-21-130390\",\"0001104659-20-085958\",\"0001104659-21-054404\",\"0001144204-18-055832\",\"0001104659-19-056775\",\"0000002230-15-000052\",\"0001104659-21-021812\",\"0001104659-20-009265\",\"0001104659-23-010345\",\"0000002230-16-000100\",\"0000002230-17-000036\",\"0000002230-14-000072\",\"0000002230-17-000023\",\"0001144204-18-040186\",\"0000002230-16-000105\",\"0000002230-17-000047\",\"0001144204-19-008131\",\"0000002230-15-000035\",\"0000002230-16-000113\",\"0000002230-17-000032\",\"0000002230-14-000083\",\"0000002230-15-000073\",\"0001104659-22-083096\",\"0001104659-22-050964\",\"0000002230-18-000018\",\"0000002230-15-000055\"],\"fdate\":{\"__ndarray__\":\"AAAAx3BOb0IAAADuifFtQgAAAOzv+WpCAACANipta0IAAIBWjo1sQgAAgMiTBm1CAACAC4G0cUIAAABk6glxQgAAwEIlmXFCAADALROhckIAAMANr4BxQgAAgGt/gnJCAADAB2tTcEIAAECNXwxyQgAAgOYiDG9CAACAe9IVbEIAAAA6rPlvQgAAgDn6lm5CAABAIZ7AckIAAADV5+NzQgAAQPv1cnBCAABAdxfickIAAMDWY01yQgAAAEhesnBCAAAABGllbkIAAADJjRx0QgAAAAqZH3BCAABA8j1CcUIAAAC7UaprQgAAALuZXXFCAAAAipJXc0IAAIDrHJRwQgAAAAvjxG9CAADArn0uckIAAID5MVZsQgAAQPOhB3RCAAAARkHka0IAAMCV/CNxQgAAgInG1G5CAAAAPw84cEIAAABBYXxtQgAAAIjeP21CAACAAmDNc0IAAICxL8pwQgAAgBTxMWtCAAAAaMLScUIAAABf8IFvQgAAQOpSjXNCAACAKTG9bEIAAAAwQW1yQgAAQDd9NHNCAACAxdBsc0IAAADszvZxQgAAAJOZHm5CAACArOarc0IAAMBD8hRzQgAAwODo+XJCAADAz+ntcEIAAAAUBKxtQgAAQGsZQXhCAABAHL5YdEIAAECWCq13QgAAQOM0VHdCAAAAZEYwdkIAAMCjhyx1QgAAAJAEGHdCAAAAEW+ldkIAAIBtsMN2QgAAgEVh7ndCAABAFdtCdEIAAEC+8Mt3QgAAgIOPN3dCAAAAa8CPd0IAAMDr0Wt2QgAAwJj64HZCAABAJQ3TdEIAAICYOHl3QgAAAFuO/3ZCAABAKklheEIAAABzq0R1QgAAABon1nVCAACAdZt4dEIAAECznqN1QgAAgCk+TXZCAAAAbf5gdUIAAMA+qfZ1QgAAwNiUjnZCAADA9l63dEIAAIDJP391QgAAALcdu3VCAAAADQCTdEIAAMDkVwx1QgAAAEDPI3hCAADAFIUGeEIAAEBgxxh2QgAAAMDV63RC\",\"dtype\":\"float64\",\"order\":\"little\",\"shape\":[96]},\"file_value_sum\":{\"__ndarray__\":\"AAAAAM3bMUEAAAAAFX8wQQAAAABV4jhBAAAAALAnOUEAAAAA2hw7QQAAAAA7VDZBAAAAAG/wMEEAAAAAUDo0QQAAAAA4SjJBAAAAAGQmLEEAAAAAsJozQQAAAAADOTBBAAAAAKj6MkEAAAAAXBIlQQAAAADKii5BAAAAAIscQEEAAAAAnfoxQQAAAAAkhylBAAAAAK7lLkEAAAAAlsUyQQAAAADA0jJBAAAAAApRMEEAAAAAolItQQAAAAB8xjNBAAAAABSnK0EAAAAAAgU0QQAAAABILjNBAAAAALlvNUEAAAAAgPc/QQAAAAAQRDVBAAAAAL6fLkEAAAAAbgMzQQAAAAC7nDJBAAAAAP5HKUEAAAAAPI0+QQAAAAB8MzNBAAAAgIOyQEEAAAAAO2k0QQAAAACkbS1BAAAAACy8MkEAAAAAwlwzQQAAAADsNDNBAAAAAOGaMUEAAAAAaE0zQQAAAAD6TTpBAAAAAC42LkEAAAAAYmEyQQAAAACcYzBBAAAAAJYfNkEAAAAAoGwuQQAAAACIGyxBAAAAAJPeMEEAAAAAmPImQQAAAACIGSlBAAAAAKLSMUEAAAAATMowQQAAAACJejFBAAAAAP+fM0EAAAAA41MzQQAAAACfkz5BAAAAAEChNUEAAACAhFxDQQAAAAACPz9BAAAAANHgO0EAAAAA1Cw2QQAAAADhFzhBAAAAACe8O0EAAAAAo788QQAAAICHHURBAAAAANaQNUEAAAAAZU5DQQAAAAC8zzxBAAAAAPTaQUEAAAAA1cI+QQAAAADjozxBAAAAAIMvN0EAAAAAJ91AQQAAAAB7nz1BAAAAADfTP0EAAAAA+es1QQAAAAADCTtBAAAAAGrZNkEAAAAArZ84QQAAAACLqDxBAAAAAAG3NkEAAAAAPBk8QQAAAAD0yThBAAAAAAcbN0EAAAAAAbc2QQAAAAAYmjpBAAAAAI4lN0EAAAAA6iY1QQAAAIDrDkBBAAAAABMyQ0EAAAAAa148QQAAAAD4GjdB\",\"dtype\":\"float64\",\"order\":\"little\",\"shape\":[96]},\"n_holdings\":[83,104,108,118,96,101,75,82,79,77,76,78,87,72,79,109,83,77,78,103,83,77,74,82,102,80,84,83,109,81,90,84,85,74,104,79,108,83,78,87,91,97,115,81,112,70,86,103,106,77,88,99,69,90,113,82,79,85,103,92,85,98,101,211,80,97,219,220,91,85,98,105,102,211,93,86,99,93,93,77,210,86,210,211,198,212,213,86,198,208,86,84,91,88,204,84],\"quarter\":[\"2003Q4\",\"2002Q2\",\"1999Q1\",\"1999Q3\",\"2000Q4\",\"2001Q2\",\"2008Q2\",\"2006Q4\",\"2008Q1\",\"2010Q2\",\"2007Q4\",\"2010Q1\",\"2005Q2\",\"2009Q1\",\"2003Q3\",\"2000Q2\",\"2004Q3\",\"2003Q1\",\"2010Q3\",\"2013Q1\",\"2005Q3\",\"2010Q4\",\"2009Q3\",\"2006Q1\",\"2002Q4\",\"2013Q3\",\"2004Q4\",\"2007Q2\",\"1999Q4\",\"2007Q3\",\"2011Q4\",\"2005Q4\",\"2004Q2\",\"2009Q2\",\"2000Q3\",\"2013Q2\",\"2000Q1\",\"2007Q1\",\"2003Q2\",\"2005Q1\",\"2001Q4\",\"2001Q3\",\"2012Q4\",\"2006Q2\",\"1999Q2\",\"2008Q3\",\"2004Q1\",\"2012Q2\",\"2001Q1\",\"2009Q4\",\"2011Q3\",\"2012Q1\",\"2008Q4\",\"2002Q3\",\"2012Q3\",\"2011Q2\",\"2011Q1\",\"2006Q3\",\"2002Q1\",\"2022Q3\",\"2014Q1\",\"2021Q2\",\"2020Q3\",\"2018Q1\",\"2015Q4\",\"2020Q1\",\"2019Q1\",\"2019Q2\",\"2021Q4\",\"2013Q4\",\"2021Q3\",\"2020Q2\",\"2021Q1\",\"2018Q3\",\"2019Q3\",\"2015Q1\",\"2020Q4\",\"2019Q4\",\"2022Q4\",\"2016Q1\",\"2017Q2\",\"2014Q2\",\"2016Q4\",\"2018Q2\",\"2016Q2\",\"2017Q3\",\"2018Q4\",\"2014Q4\",\"2016Q3\",\"2017Q1\",\"2014Q3\",\"2015Q3\",\"2022Q2\",\"2022Q1\",\"2017Q4\",\"2015Q2\"],\"rdate\":{\"__ndarray__\":\"AACAizI5b0IAAAAiytdtQgAAgI+u22pCAAAACHxRa0IAAAAbUHhsQgAAgPzT7GxCAAAATWytcUIAAMDjXP1wQgAAwCEikHFCAACAcmKYckIAAID213JxQgAAQEcYe3JCAAAAr6hMcEIAAIA0nQVyQgAAgGn5/W5CAAAA190BbEIAAIBalOlvQgAAAPEriG5CAACAA/+1ckIAAEDl29tzQgAAAEBFanBCAACAlJvTckIAAMDwg0ByQgAAgJbZpHBCAAAAZjxObkIAAIChwhZ0QgAAQL5mEnBCAACA1J43cUIAAAAqtYxrQgAAgGU7VXFCAABApxZJc0IAAADR4YdwQgAAgDhbrm9CAADAX+cickIAAAD5Fj1sQgAAgBAm+XNCAACAgEnHa0IAAECpVBpxQgAAgEfAwm5CAADAg14vcEIAAIBARmNtQgAAgB4NKG1CAADAH+S+c0IAAMDBI8JwQgAAAOZCFmtCAAAA3gjLcUIAAADixnNvQgAAwP2qg3NCAAAApj+ybEIAAMCBIF5yQgAAQBZ6K3NCAACA0mBmc0IAAABvpehxQgAAAEQDE25CAADAjkehc0IAAECF3Q1zQgAAAFqT8HJCAADAUsDfcEIAAIDLNZ1tQgAAwBW7OHhCAAAA+FZRdEIAAAByo6V3QgAAQPDETXdCAADAqJUndkIAAABYVR91QgAAADTeEndCAACAuxCddkIAAMDmWrp2QgAAAJTc4HdCAACAMl80dEIAAAADQMN3QgAAQF8oMHdCAADARlmId0IAAABlfGJ2QgAAwHf313ZCAADACtLGdEIAAECBYWt3QgAAwAiU9XZCAADApldWeEIAAECDnzx1QgAAQMFkz3VCAABAI6FudEIAAIDQIpV1QgAAANTfRHZCAACArulZdUIAAEBSAe11QgAAAPYYgHZCAABARdqpdEIAAIA/hnd1QgAAAJYasnVCAABAtD2MdEIAAADHuAF1QgAAwIQeG3hCAACAWdT9d0IAAEDjnQp2QgAAADYc5HRC\",\"dtype\":\"float64\",\"order\":\"little\",\"shape\":[96]},\"value_format\":[\"1.17M\",\"1.08M\",\"1.63M\",\"1.65M\",\"1.78M\",\"1.46M\",\"1.11M\",\"1.33M\",\"1.20M\",\"0.92M\",\"1.28M\",\"1.06M\",\"1.24M\",\"0.69M\",\"1.00M\",\"2.11M\",\"1.18M\",\"0.84M\",\"1.01M\",\"1.23M\",\"1.23M\",\"1.07M\",\"0.96M\",\"1.30M\",\"0.91M\",\"1.31M\",\"1.26M\",\"1.40M\",\"2.09M\",\"1.39M\",\"1.00M\",\"1.25M\",\"1.22M\",\"0.83M\",\"2.00M\",\"1.26M\",\"2.19M\",\"1.34M\",\"0.96M\",\"1.23M\",\"1.27M\",\"1.26M\",\"1.15M\",\"1.26M\",\"1.72M\",\"0.99M\",\"1.20M\",\"1.07M\",\"1.45M\",\"1.00M\",\"0.92M\",\"1.11M\",\"0.75M\",\"0.82M\",\"1.17M\",\"1.10M\",\"1.15M\",\"1.29M\",\"1.27M\",\"2.00M\",\"1.42M\",\"2.54M\",\"2.05M\",\"1.83M\",\"1.45M\",\"1.58M\",\"1.82M\",\"1.88M\",\"2.64M\",\"1.41M\",\"2.53M\",\"1.89M\",\"2.34M\",\"2.02M\",\"1.88M\",\"1.52M\",\"2.21M\",\"1.94M\",\"2.09M\",\"1.44M\",\"1.77M\",\"1.50M\",\"1.61M\",\"1.88M\",\"1.49M\",\"1.84M\",\"1.62M\",\"1.51M\",\"1.49M\",\"1.74M\",\"1.52M\",\"1.39M\",\"2.10M\",\"2.52M\",\"1.86M\",\"1.51M\"]},\"selected\":{\"id\":\"27635\"},\"selection_policy\":{\"id\":\"27673\"}},\"id\":\"27634\",\"type\":\"ColumnDataSource\"},{\"attributes\":{\"fill_alpha\":{\"value\":0.08},\"fill_color\":{\"value\":\"#30a2da\"},\"hatch_alpha\":{\"value\":0.08},\"hatch_color\":{\"value\":\"#30a2da\"},\"line_alpha\":{\"value\":0.08},\"line_color\":{\"value\":\"#30a2da\"},\"size\":{\"value\":5.477225575051661},\"x\":{\"field\":\"rdate\"},\"y\":{\"field\":\"file_value_sum\"}},\"id\":\"27628\",\"type\":\"Scatter\"},{\"attributes\":{\"source\":{\"id\":\"27624\"}},\"id\":\"27633\",\"type\":\"CDSView\"},{\"attributes\":{},\"id\":\"27635\",\"type\":\"Selection\"},{\"attributes\":{\"margin\":[5,10,5,10],\"options\":[\"2230\",\"3520\",\"5103\",\"5272\",\"5907\",\"7195\",\"7645\",\"7789\",\"8565\",\"9015\",\"9235\",\"9631\",\"9634\",\"9712\",\"9749\",\"10742\",\"11860\",\"14060\",\"14661\",\"14899\",\"16686\",\"16972\",\"17283\",\"18230\",\"18349\",\"18568\",\"4977\",\"7773\",\"11544\",\"12933\"],\"sizing_mode\":\"stretch_width\",\"title\":\"cik\",\"value\":\"2230\"},\"id\":\"27570\",\"type\":\"panel.models.widgets.CustomSelect\"},{\"attributes\":{},\"id\":\"27719\",\"type\":\"StringEditor\"},{\"attributes\":{\"source\":{\"id\":\"27654\"}},\"id\":\"27661\",\"type\":\"CDSView\"},{\"attributes\":{\"fill_color\":{\"value\":\"#30a2da\"},\"hatch_color\":{\"value\":\"#30a2da\"},\"line_color\":{\"value\":\"#30a2da\"},\"size\":{\"value\":5.477225575051661},\"x\":{\"field\":\"rdate\"},\"y\":{\"field\":\"file_value_sum\"}},\"id\":\"27640\",\"type\":\"Scatter\"},{\"attributes\":{},\"id\":\"27673\",\"type\":\"UnionRenderers\"},{\"attributes\":{},\"id\":\"27733\",\"type\":\"StringFormatter\"},{\"attributes\":{\"editor\":{\"id\":\"27709\"},\"field\":\"rdate\",\"formatter\":{\"id\":\"27708\"},\"title\":\"rdate\",\"width\":0},\"id\":\"27710\",\"type\":\"TableColumn\"},{\"attributes\":{},\"id\":\"27600\",\"type\":\"WheelZoomTool\"},{\"attributes\":{\"axis_label\":\"rdate\",\"coordinates\":null,\"formatter\":{\"id\":\"27617\"},\"group\":null,\"major_label_policy\":{\"id\":\"27618\"},\"ticker\":{\"id\":\"27591\"}},\"id\":\"27590\",\"type\":\"DatetimeAxis\"},{\"attributes\":{\"active_drag\":{\"id\":\"27575\"},\"tools\":[{\"id\":\"27575\"},{\"id\":\"27576\"},{\"id\":\"27577\"},{\"id\":\"27598\"},{\"id\":\"27599\"},{\"id\":\"27600\"},{\"id\":\"27601\"},{\"id\":\"27602\"}]},\"id\":\"27606\",\"type\":\"Toolbar\"},{\"attributes\":{\"months\":[0,6]},\"id\":\"27692\",\"type\":\"MonthsTicker\"},{\"attributes\":{\"fill_color\":{\"value\":\"#30a2da\"},\"hatch_color\":{\"value\":\"#30a2da\"},\"line_color\":{\"value\":\"#30a2da\"},\"size\":{\"value\":5.477225575051661},\"x\":{\"field\":\"rdate\"},\"y\":{\"field\":\"file_value_sum\"}},\"id\":\"27638\",\"type\":\"Scatter\"},{\"attributes\":{\"fill_color\":{\"value\":\"#30a2da\"},\"hatch_color\":{\"value\":\"#30a2da\"},\"line_color\":{\"value\":\"#30a2da\"},\"size\":{\"value\":5.477225575051661},\"x\":{\"field\":\"rdate\"},\"y\":{\"field\":\"file_value_sum\"}},\"id\":\"27639\",\"type\":\"Scatter\"},{\"attributes\":{\"coordinates\":null,\"data_source\":{\"id\":\"27644\"},\"glyph\":{\"id\":\"27647\"},\"group\":null,\"hover_glyph\":{\"id\":\"27650\"},\"muted_glyph\":{\"id\":\"27651\"},\"nonselection_glyph\":{\"id\":\"27648\"},\"selection_glyph\":{\"id\":\"27649\"},\"view\":{\"id\":\"27653\"}},\"id\":\"27652\",\"type\":\"GlyphRenderer\"},{\"attributes\":{\"source\":{\"id\":\"27644\"}},\"id\":\"27653\",\"type\":\"CDSView\"},{\"attributes\":{\"fill_alpha\":{\"value\":0},\"fill_color\":{\"value\":\"#1f77b4\"},\"height\":{\"field\":\"height\"},\"width\":{\"field\":\"width\"},\"x\":{\"field\":\"x\"},\"y\":{\"field\":\"y\"}},\"id\":\"27647\",\"type\":\"Rect\"},{\"attributes\":{\"fill_alpha\":{\"value\":0},\"fill_color\":{\"value\":\"#1f77b4\"},\"height\":{\"field\":\"height\"},\"width\":{\"field\":\"width\"},\"x\":{\"field\":\"x\"},\"y\":{\"field\":\"y\"}},\"id\":\"27648\",\"type\":\"Rect\"},{\"attributes\":{\"js_property_callbacks\":{\"change:mode\":[{\"id\":\"27579\"}]},\"overlay\":{\"id\":\"27605\"}},\"id\":\"27576\",\"type\":\"LassoSelectTool\"},{\"attributes\":{\"fill_alpha\":{\"value\":0},\"fill_color\":{\"value\":\"#1f77b4\"},\"height\":{\"field\":\"height\"},\"width\":{\"field\":\"width\"},\"x\":{\"field\":\"x\"},\"y\":{\"field\":\"y\"}},\"id\":\"27649\",\"type\":\"Rect\"},{\"attributes\":{},\"id\":\"27625\",\"type\":\"Selection\"},{\"attributes\":{},\"id\":\"27714\",\"type\":\"DateEditor\"},{\"attributes\":{\"client_comm_id\":\"dbfb1cbfb37544ad88f3168ae3f0dbaf\",\"comm_id\":\"312dd2abf86e436fa603736e7343cdc7\",\"plot_id\":\"27568\"},\"id\":\"27833\",\"type\":\"panel.models.comm_manager.CommManager\"},{\"attributes\":{\"children\":[{\"id\":\"27738\"}],\"margin\":[5,5,5,5],\"name\":\"ParamFunction190528\",\"sizing_mode\":\"stretch_width\"},\"id\":\"27694\",\"type\":\"Row\"},{\"attributes\":{\"line_alpha\":{\"value\":0.1},\"line_dash\":{\"value\":\"dotted\"},\"xs\":{\"field\":\"xs\"},\"ys\":{\"field\":\"ys\"}},\"id\":\"27658\",\"type\":\"MultiLine\"},{\"attributes\":{\"children\":[{\"id\":\"27569\"},{\"id\":\"27581\"},{\"id\":\"27694\"}],\"margin\":[0,0,0,0],\"name\":\"Column190585\",\"sizing_mode\":\"stretch_width\"},\"id\":\"27568\",\"type\":\"Column\"},{\"attributes\":{\"coordinates\":null,\"fill_alpha\":0.5,\"fill_color\":\"lightgrey\",\"group\":null,\"level\":\"overlay\",\"line_alpha\":1.0,\"line_color\":\"black\",\"line_dash\":[4,4],\"line_width\":2,\"syncable\":false,\"xs_units\":\"screen\",\"ys_units\":\"screen\"},\"id\":\"27605\",\"type\":\"PolyAnnotation\"},{\"attributes\":{},\"id\":\"27599\",\"type\":\"PanTool\"},{\"attributes\":{},\"id\":\"27709\",\"type\":\"DateEditor\"},{\"attributes\":{\"fill_color\":{\"value\":\"#1f77b4\"},\"height\":{\"field\":\"height\"},\"width\":{\"field\":\"width\"},\"x\":{\"field\":\"x\"},\"y\":{\"field\":\"y\"}},\"id\":\"27650\",\"type\":\"Rect\"},{\"attributes\":{\"text_align\":\"right\"},\"id\":\"27703\",\"type\":\"NumberFormatter\"},{\"attributes\":{\"axis_label\":\"file_value_sum\",\"coordinates\":null,\"formatter\":{\"id\":\"27615\"},\"group\":null,\"major_label_policy\":{\"id\":\"27621\"},\"ticker\":{\"id\":\"27595\"}},\"id\":\"27594\",\"type\":\"LinearAxis\"},{\"attributes\":{\"source\":{\"id\":\"27634\"}},\"id\":\"27643\",\"type\":\"CDSView\"},{\"attributes\":{\"format\":\"0,0.0[00000]\",\"text_align\":\"right\"},\"id\":\"27723\",\"type\":\"NumberFormatter\"},{\"attributes\":{\"data\":{\"xs\":[],\"ys\":[]},\"selected\":{\"id\":\"27655\"},\"selection_policy\":{\"id\":\"27677\"}},\"id\":\"27654\",\"type\":\"ColumnDataSource\"},{\"attributes\":{\"editor\":{\"id\":\"27714\"},\"field\":\"fdate\",\"formatter\":{\"id\":\"27713\"},\"title\":\"fdate\",\"width\":0},\"id\":\"27715\",\"type\":\"TableColumn\"},{\"attributes\":{\"data\":{\"accession_number\":[\"2230/0000002230-99-000007.txt\",\"2230/0000002230-99-000009.txt\",\"2230/0000002230-99-000013.txt\",\"2230/0000002230-00-000003.txt\",\"2230/0000002230-00-000007.txt\",\"2230/0000002230-00-000008.txt\",\"2230/0000002230-00-000010.txt\",\"2230/0000002230-01-000002.txt\",\"2230/0000002230-01-500005.txt\",\"2230/0000002230-01-500008.txt\"],\"cik\":[2230,2230,2230,2230,2230,2230,2230,2230,2230,2230],\"fdate\":{\"__ndarray__\":\"AAAA7O/5akIAAIAU8TFrQgAAgDYqbWtCAAAAu1Gqa0IAAABGQeRrQgAAgHvSFWxCAACA+TFWbEIAAIBWjo1sQgAAgCkxvWxCAACAyJMGbUI=\",\"dtype\":\"float64\",\"order\":\"little\",\"shape\":[10]},\"file_value_sum\":{\"__ndarray__\":\"AAAAAFXiOEEAAAAA+k06QQAAAACwJzlBAAAAAID3P0EAAACAg7JAQQAAAACLHEBBAAAAADyNPkEAAAAA2hw7QQAAAACWHzZBAAAAADtUNkE=\",\"dtype\":\"float64\",\"order\":\"little\",\"shape\":[10]},\"index\":[0,0,0,0,0,0,0,0,0,0],\"n_holdings\":[108,112,118,109,108,109,104,96,106,101],\"quarter\":[\"1999Q1\",\"1999Q2\",\"1999Q3\",\"1999Q4\",\"2000Q1\",\"2000Q2\",\"2000Q3\",\"2000Q4\",\"2001Q1\",\"2001Q2\"],\"rdate\":{\"__ndarray__\":\"AACAj67bakIAAADmQhZrQgAAAAh8UWtCAAAAKrWMa0IAAICAScdrQgAAANfdAWxCAAAA+RY9bEIAAAAbUHhsQgAAAKY/smxCAACA/NPsbEI=\",\"dtype\":\"float64\",\"order\":\"little\",\"shape\":[10]}},\"selected\":{\"id\":\"27696\"},\"selection_policy\":{\"id\":\"27769\"}},\"id\":\"27695\",\"type\":\"ColumnDataSource\"},{\"attributes\":{\"end\":2831167.1,\"reset_end\":2831167.1,\"reset_start\":495869.9,\"start\":495869.9,\"tags\":[[[\"file_value_sum\",\"file_value_sum\",null]]]},\"id\":\"27572\",\"type\":\"Range1d\"},{\"attributes\":{},\"id\":\"27645\",\"type\":\"Selection\"},{\"attributes\":{\"args\":{\"other\":{\"id\":\"27576\"}},\"code\":\"other.mode = this.mode\"},\"id\":\"27578\",\"type\":\"CustomJS\"},{\"attributes\":{},\"id\":\"27588\",\"type\":\"LinearScale\"},{\"attributes\":{\"data\":{\"height\":{\"__ndarray__\":\"\",\"dtype\":\"float64\",\"order\":\"little\",\"shape\":[0]},\"width\":{\"__ndarray__\":\"\",\"dtype\":\"float64\",\"order\":\"little\",\"shape\":[0]},\"x\":{\"__ndarray__\":\"\",\"dtype\":\"float64\",\"order\":\"little\",\"shape\":[0]},\"y\":{\"__ndarray__\":\"\",\"dtype\":\"float64\",\"order\":\"little\",\"shape\":[0]}},\"selected\":{\"id\":\"27645\"},\"selection_policy\":{\"id\":\"27675\"}},\"id\":\"27644\",\"type\":\"ColumnDataSource\"},{\"attributes\":{\"axis\":{\"id\":\"27594\"},\"coordinates\":null,\"dimension\":1,\"grid_line_color\":null,\"group\":null,\"ticker\":null},\"id\":\"27597\",\"type\":\"Grid\"},{\"attributes\":{\"coordinates\":null,\"data_source\":{\"id\":\"27654\"},\"glyph\":{\"id\":\"27657\"},\"group\":null,\"hover_glyph\":null,\"muted_glyph\":{\"id\":\"27659\"},\"nonselection_glyph\":{\"id\":\"27658\"},\"selection_glyph\":{\"id\":\"27662\"},\"view\":{\"id\":\"27661\"}},\"id\":\"27660\",\"type\":\"GlyphRenderer\"},{\"attributes\":{\"coordinates\":null,\"group\":null,\"text_color\":\"black\",\"text_font_size\":\"12pt\"},\"id\":\"27582\",\"type\":\"Title\"},{\"attributes\":{\"line_dash\":{\"value\":\"dotted\"},\"xs\":{\"field\":\"xs\"},\"ys\":{\"field\":\"ys\"}},\"id\":\"27657\",\"type\":\"MultiLine\"},{\"attributes\":{},\"id\":\"27671\",\"type\":\"UnionRenderers\"},{\"attributes\":{\"editor\":{\"id\":\"27734\"},\"field\":\"quarter\",\"formatter\":{\"id\":\"27733\"},\"title\":\"quarter\",\"width\":0},\"id\":\"27735\",\"type\":\"TableColumn\"},{\"attributes\":{\"months\":[0,2,4,6,8,10]},\"id\":\"27690\",\"type\":\"MonthsTicker\"},{\"attributes\":{\"fill_alpha\":{\"value\":0.08},\"fill_color\":{\"value\":\"#30a2da\"},\"hatch_alpha\":{\"value\":0.08},\"hatch_color\":{\"value\":\"#30a2da\"},\"line_alpha\":{\"value\":0.08},\"line_color\":{\"value\":\"#30a2da\"},\"size\":{\"value\":5.477225575051661},\"x\":{\"field\":\"rdate\"},\"y\":{\"field\":\"file_value_sum\"}},\"id\":\"27627\",\"type\":\"Scatter\"}],\"root_ids\":[\"27568\",\"27833\"]},\"title\":\"Bokeh Application\",\"version\":\"2.4.3\"}};\n",
       "    var render_items = [{\"docid\":\"6317e014-979a-4c32-b232-07756bb47067\",\"root_ids\":[\"27568\"],\"roots\":{\"27568\":\"3340a392-28ab-41a8-88ff-dbce9138049a\"}}];\n",
       "    root.Bokeh.embed.embed_items_notebook(docs_json, render_items);\n",
       "    for (const render_item of render_items) {\n",
       "      for (const root_id of render_item.root_ids) {\n",
       "\tconst id_el = document.getElementById(root_id)\n",
       "\tif (id_el.children.length && (id_el.children[0].className === 'bk-root')) {\n",
       "\t  const root_el = id_el.children[0]\n",
       "\t  root_el.id = root_el.id + '-rendered'\n",
       "\t}\n",
       "      }\n",
       "    }\n",
       "  }\n",
       "  if (root.Bokeh !== undefined && root.Bokeh.Panel !== undefined && ( root['Tabulator'] !== undefined) && ( root['Tabulator'] !== undefined) && ( root['Tabulator'] !== undefined) && ( root['Tabulator'] !== undefined) && ( root['Tabulator'] !== undefined) && ( root['Tabulator'] !== undefined) && ( root['Tabulator'] !== undefined) && ( root['Tabulator'] !== undefined) && ( root['Tabulator'] !== undefined) && ( root['Tabulator'] !== undefined) && ( root['Tabulator'] !== undefined) && ( root['Tabulator'] !== undefined) && ( root['Tabulator'] !== undefined) && ( root['Tabulator'] !== undefined) && ( root['Tabulator'] !== undefined) && ( root['Tabulator'] !== undefined) && ( root['Tabulator'] !== undefined) && ( root['Tabulator'] !== undefined) && ( root['Tabulator'] !== undefined) && ( root['Tabulator'] !== undefined) && ( root['Tabulator'] !== undefined) && ( root['Tabulator'] !== undefined) && ( root['Tabulator'] !== undefined) && ( root['Tabulator'] !== undefined) && ( root['Tabulator'] !== undefined) && ( root['Tabulator'] !== undefined) && ( root['Tabulator'] !== undefined) && ( root['Tabulator'] !== undefined) && ( root['Tabulator'] !== undefined) && ( root['Tabulator'] !== undefined) && ( root['Tabulator'] !== undefined) && ( root['Tabulator'] !== undefined) && ( root['Tabulator'] !== undefined) && ( root['Tabulator'] !== undefined) && ( root['Tabulator'] !== undefined) && ( root['Tabulator'] !== undefined) && ( root['Tabulator'] !== undefined) && ( root['Tabulator'] !== undefined) && ( root['Tabulator'] !== undefined) && ( root['Tabulator'] !== undefined) && ( root['Tabulator'] !== undefined) && ( root['Tabulator'] !== undefined) && ( root['Tabulator'] !== undefined) && ( root['Tabulator'] !== undefined) && ( root['Tabulator'] !== undefined) && ( root['Tabulator'] !== undefined)) {\n",
       "    embed_document(root);\n",
       "  } else {\n",
       "    var attempts = 0;\n",
       "    var timer = setInterval(function(root) {\n",
       "      if (root.Bokeh !== undefined && root.Bokeh.Panel !== undefined && (root['Tabulator'] !== undefined) && (root['Tabulator'] !== undefined) && (root['Tabulator'] !== undefined) && (root['Tabulator'] !== undefined) && (root['Tabulator'] !== undefined) && (root['Tabulator'] !== undefined) && (root['Tabulator'] !== undefined) && (root['Tabulator'] !== undefined) && (root['Tabulator'] !== undefined) && (root['Tabulator'] !== undefined) && (root['Tabulator'] !== undefined) && (root['Tabulator'] !== undefined) && (root['Tabulator'] !== undefined) && (root['Tabulator'] !== undefined) && (root['Tabulator'] !== undefined) && (root['Tabulator'] !== undefined) && (root['Tabulator'] !== undefined) && (root['Tabulator'] !== undefined) && (root['Tabulator'] !== undefined) && (root['Tabulator'] !== undefined) && (root['Tabulator'] !== undefined) && (root['Tabulator'] !== undefined) && (root['Tabulator'] !== undefined) && (root['Tabulator'] !== undefined) && (root['Tabulator'] !== undefined) && (root['Tabulator'] !== undefined) && (root['Tabulator'] !== undefined) && (root['Tabulator'] !== undefined) && (root['Tabulator'] !== undefined) && (root['Tabulator'] !== undefined) && (root['Tabulator'] !== undefined) && (root['Tabulator'] !== undefined) && (root['Tabulator'] !== undefined) && (root['Tabulator'] !== undefined) && (root['Tabulator'] !== undefined) && (root['Tabulator'] !== undefined) && (root['Tabulator'] !== undefined) && (root['Tabulator'] !== undefined) && (root['Tabulator'] !== undefined) && (root['Tabulator'] !== undefined) && (root['Tabulator'] !== undefined) && (root['Tabulator'] !== undefined) && (root['Tabulator'] !== undefined) && (root['Tabulator'] !== undefined) && (root['Tabulator'] !== undefined) && (root['Tabulator'] !== undefined)) {\n",
       "        clearInterval(timer);\n",
       "        embed_document(root);\n",
       "      } else if (document.readyState == \"complete\") {\n",
       "        attempts++;\n",
       "        if (attempts > 200) {\n",
       "          clearInterval(timer);\n",
       "          console.log(\"Bokeh: ERROR: Unable to run BokehJS code because BokehJS library is missing\");\n",
       "        }\n",
       "      }\n",
       "    }, 25, root)\n",
       "  }\n",
       "})(window);</script>"
      ],
      "text/plain": [
       "Column(sizing_mode='stretch_width')\n",
       "    [0] Column(sizing_mode='stretch_width')\n",
       "        [0] Select(name='cik', options=[2230, 3520, 5103, ...], sizing_mode='stretch_width', value=2230)\n",
       "    [1] HoloViews(DynamicMap, height=350, sizing_mode='fixed', width=900)\n",
       "    [2] ParamFunction(function, _pane=Tabulator, sizing_mode='stretch_width')"
      ]
     },
     "execution_count": 150,
     "metadata": {
      "application/vnd.holoviews_exec.v0+json": {
       "id": "27568"
      }
     },
     "output_type": "execute_result"
    }
   ],
   "source": [
    "# Fully working hvplot data cleaning tool\n",
    "import panel as pn\n",
    "import holoviews as hv\n",
    "pn.extension('tabulator', template='material', sizing_mode='stretch_width')\n",
    "import hvplot.pandas # noqa\n",
    "pd.options.display.float_format = '{:.0f}'.format\n",
    "\n",
    "cik_dropdown = pn.widgets.Select(name='cik',\n",
    "                                     options=common_df.cik.unique().tolist(),\n",
    "                                     value=common_df.cik.unique().tolist()[0])\n",
    "\n",
    "common_dfi =  common_df.interactive(sizing_mode='stretch_width')\n",
    "filtered_common_dfi = common_dfi[(common_dfi['cik'] == cik_dropdown)]\n",
    "# # points plot\n",
    "points_plot = filtered_common_dfi.hvplot(x='rdate',\n",
    "                                      y='file_value_sum',\n",
    "                                      kind='points',\n",
    "                                      height=350, \n",
    "                                      width=900,\n",
    "                                      persist=True,\n",
    "                                      hover_cols=['fdate','quarter', 'value_format', 'n_holdings', 'accession_number'],\n",
    "                                      yformatter='%d')\n",
    "\n",
    "ls_common = hv.link_selections.instance(unselected_alpha=0.08)\n",
    "\n",
    "# # Table is not yet dynamically linked to the linked selection\n",
    "table = (filtered_common_dfi[['cik', 'rdate', 'fdate', 'accession_number','file_value_sum', 'n_holdings', 'quarter']]\n",
    "        .sort_values(by='quarter')\n",
    "        .pipe(ls_common.filter, selection_expr=ls_common.param.selection_expr)\n",
    "        .pipe(pn.widgets.Tabulator, pagination='remote', page_size=10))\n",
    "\n",
    "column = pn.Column(filtered_common_dfi.widgets(),ls_common(points_plot.holoviews()).opts(hv.opts.Points(active_tools=['box_select'])),\n",
    "                   ls_common(table.panel()))\n",
    "\n",
    "column"
   ]
  },
  {
   "cell_type": "code",
   "execution_count": null,
   "id": "a6223528-b98a-45f3-ac04-be6ba69f6450",
   "metadata": {
    "tags": []
   },
   "outputs": [],
   "source": [
    "table()"
   ]
  },
  {
   "cell_type": "code",
   "execution_count": 341,
   "id": "55abf9ac-65d8-4710-84e6-6ed784f086b0",
   "metadata": {
    "scrolled": true,
    "tags": []
   },
   "outputs": [
    {
     "data": {
      "text/plain": [
       "[PosixPath('/Users/yo_macbook/Documents/app_data/sec_apps_data/TR_02_TEST_676_CIK_PARQ_SEC_APP/1105497-0000950123-23-002622-2023-02-14.parquet')]"
      ]
     },
     "execution_count": 341,
     "metadata": {},
     "output_type": "execute_result"
    }
   ],
   "source": [
    "# captures the selection into a list of file paths\n",
    "records_to_edit = ls_common.filter(common_df).query(f'cik == {cik_dropdown.value}')\n",
    "l = records_to_edit.file.to_list()\n",
    "l"
   ]
  },
  {
   "cell_type": "markdown",
   "id": "0e754616-1047-4d1e-8d0d-892d9a82436b",
   "metadata": {
    "tags": []
   },
   "source": [
    "###  **Divides** the `df` by 1_000 and writes it to the original file. `txt` or `parquet`"
   ]
  },
  {
   "cell_type": "code",
   "execution_count": 342,
   "id": "e2e16a3d-47c3-4e8e-9039-4d19590768fd",
   "metadata": {
    "scrolled": true,
    "tags": []
   },
   "outputs": [
    {
     "name": "stdout",
     "output_type": "stream",
     "text": [
      "parquet /Users/yo_macbook/Documents/app_data/sec_apps_data/TR_02_TEST_676_CIK_PARQ_SEC_APP/1105497-0000950123-23-002622-2023-02-14.parquet\n"
     ]
    }
   ],
   "source": [
    "# func: divide value by 1000\n",
    "value_div_1000(l)"
   ]
  },
  {
   "cell_type": "code",
   "execution_count": 292,
   "id": "650f74db-e050-4483-8173-369264e29551",
   "metadata": {
    "tags": []
   },
   "outputs": [],
   "source": [
    "# devide by 1_000\n",
    "from pathlib import Path\n",
    "columns = ['cik', 'cusip9','value', 'shares','rdate', 'fdate',\\\n",
    "            'address', 'form', 'shrsOrPrnAmt', 'putCall', 'nameOfIssuer', 'titleOfClass', 'type', 'dsource']\n",
    "\n",
    "pl_dtypes = {'cusip8': str, 'cusip9': str , 'titleOfClass': str, 'form': str, 'putCall': str,\n",
    "            'shrsOrPrnAmt': str, 'value': pl.Float64, 'shares': pl.Float64, 'type': str, 'nameOfIssuer': str,\n",
    "            'cik' : pl.Int64, 'address': str,  'dsource': str}\n",
    "\n",
    "pd_dtypes_validation = {'cusip9': str , 'titleOfClass': str, 'form': 'category',\n",
    "            'putCall': 'category', 'shrsOrPrnAmt': 'category', 'value': 'float64',\n",
    "            'shares': 'float64', 'type': 'category', 'nameOfIssuer': str,\n",
    "            'cik' : 'int64', 'address': 'category',  'dsource': 'category'}\n",
    "\n",
    "def value_div_1000(path_list):\n",
    "    \"\"\"\n",
    "    input: list of file paths to deal with\n",
    "    returns: divides `value` by 1000 and \n",
    "    saves it back to the original file\n",
    "    csv or parquet\n",
    "    \n",
    "    \"\"\"\n",
    "    for file in path_list:\n",
    "        file = Path(file)\n",
    "        try:\n",
    "            if file.suffix == '.parquet':\n",
    "                \n",
    "                df = pd.read_parquet(file)\n",
    "                df = (df.assign(value=df.value/1000))\n",
    "                df.to_parquet(file, index=False)\n",
    "                print('parquet', file)\n",
    "            elif file.suffix == '.csv':\n",
    "                df = pl.read_csv(file, columns=columns, dtypes=pl_dtypes, parse_dates=True) \n",
    "                df = df.to_pandas().astype(pd_dtypes_validation)\n",
    "                df = (df.assign(value=df.value/1000))\n",
    "                # df = (df.assign(value=df.value * 1000))\n",
    "                df.to_csv(file, index=False)\n",
    "                print('csv', file)\n",
    "        except:\n",
    "            print(\"error\")"
   ]
  },
  {
   "cell_type": "markdown",
   "id": "fd2a5332-bd54-4c0e-be8f-575bfa513e4e",
   "metadata": {},
   "source": [
    "### Open `csv` in Libreoffice"
   ]
  },
  {
   "cell_type": "code",
   "execution_count": 288,
   "id": "54890a1e-c0ef-4b00-ba6a-15e54d62216f",
   "metadata": {
    "tags": []
   },
   "outputs": [
    {
     "name": "stdin",
     "output_type": "stream",
     "text": [
      "did you correct the file? yes\n"
     ]
    },
    {
     "name": "stdout",
     "output_type": "stream",
     "text": [
      "file: /Users/yo_macbook/Documents/app_data/dropbox_13f_files/processed_tables/TR_01_TEST_676_CIK_CSV_CLEANED_BOTH/1057439-0001057439-01-500073.csv is finished\n"
     ]
    }
   ],
   "source": [
    "import os, sys\n",
    "file_to_open = l[-3]\n",
    "os.system(f\"open {file_to_open} -a LibreOffice\")\n",
    "i = input(\"did you correct the file?\")\n",
    "if i == \"yes\":\n",
    "    print(f\"file: {file_to_open} is finished\")\n",
    "    # continue\n",
    "else: \n",
    "    sys.exit()"
   ]
  },
  {
   "cell_type": "markdown",
   "id": "99381960-f0e6-4b07-8fb1-b587ffd70add",
   "metadata": {},
   "source": [
    "### Open parquet file in Tad"
   ]
  },
  {
   "cell_type": "code",
   "execution_count": 340,
   "id": "6834414a-6585-4463-972d-b62c9f054af4",
   "metadata": {
    "tags": []
   },
   "outputs": [
    {
     "name": "stdin",
     "output_type": "stream",
     "text": [
      "did you correct the file? yes\n"
     ]
    },
    {
     "name": "stdout",
     "output_type": "stream",
     "text": [
      "file: /Users/yo_macbook/Documents/app_data/sec_apps_data/TR_02_TEST_676_CIK_PARQ_SEC_APP/1103738-0001085146-21-000731-2021-02-12.parquet is finished\n"
     ]
    }
   ],
   "source": [
    "import os, sys\n",
    "file_to_open = l[2]\n",
    "os.system(f\"open {file_to_open} -a Tad\")\n",
    "i = input(\"did you correct the file?\")\n",
    "if i == \"yes\":\n",
    "    print(f\"file: {file_to_open} is finished\")\n",
    "    # continue\n",
    "else: \n",
    "    sys.exit()"
   ]
  },
  {
   "cell_type": "markdown",
   "id": "6852ca34-629c-438c-aa14-628ece8d8a6e",
   "metadata": {},
   "source": [
    "### **DELETE** records with certain values from the df and write back to parquet"
   ]
  },
  {
   "cell_type": "code",
   "execution_count": null,
   "id": "9d5f0cf7-6964-4a38-8f78-47dcc0fef7f1",
   "metadata": {
    "tags": []
   },
   "outputs": [],
   "source": [
    "df_edit = pd.read_parquet(l[0])\n",
    "print(df_edit.shape)\n",
    "# df_edit = df_edit.drop(df_edit.query('cusip == \"74139C102\" | cusip == \"498696103\"').index)\n",
    "# print(df_edit.shape)\n",
    "# df = (df.drop(df[df['cusip'].map(len) < 9].index))\n",
    "# df_edit.sort_values(by='value', ascending=False).head(3)\n",
    "# df_edit.to_parquet(l[0],index=False)"
   ]
  },
  {
   "cell_type": "markdown",
   "id": "0c8a7850-842b-47f4-950c-f71afdf67218",
   "metadata": {},
   "source": [
    "### **DELETES** entire files. CAREFULL !!!"
   ]
  },
  {
   "cell_type": "code",
   "execution_count": null,
   "id": "687303c4-f330-40e0-ba9f-4bbcfef3e726",
   "metadata": {
    "tags": []
   },
   "outputs": [],
   "source": [
    "# delete files\n",
    "import os\n",
    "\n",
    "for file in l:\n",
    "    try:\n",
    "        os.remove(file)\n",
    "        print(f\"{file} deleted successfully\")\n",
    "    except OSError as e:\n",
    "        print(f\"Error deleting {file}: {e}\")"
   ]
  },
  {
   "cell_type": "markdown",
   "id": "4363bcda-f72c-4c91-b589-1b677eceecfa",
   "metadata": {},
   "source": [
    "### **SWAP** columns `value` and `shares`"
   ]
  },
  {
   "cell_type": "code",
   "execution_count": 272,
   "id": "bf86d11d-5087-459b-bc99-815a9d5cd053",
   "metadata": {
    "tags": []
   },
   "outputs": [],
   "source": [
    "# swaps columns `value` and `shares`\n",
    "from pathlib import Path\n",
    "columns = ['cik', 'cusip9','value', 'shares','rdate', 'fdate',\\\n",
    "            'address', 'form', 'shrsOrPrnAmt', 'putCall', 'nameOfIssuer', 'titleOfClass', 'type', 'dsource']\n",
    "\n",
    "pl_dtypes = {'cusip8': str, 'cusip9': str , 'titleOfClass': str, 'form': str, 'putCall': str,\n",
    "            'shrsOrPrnAmt': str, 'value': pl.Float64, 'shares': pl.Float64, 'type': str, 'nameOfIssuer': str,\n",
    "            'cik' : pl.Int64, 'address': str,  'dsource': str}\n",
    "\n",
    "pd_dtypes_validation = {'cusip9': str , 'titleOfClass': str, 'form': 'category',\n",
    "            'putCall': 'category', 'shrsOrPrnAmt': 'category', 'value': 'float64',\n",
    "            'shares': 'float64', 'type': 'category', 'nameOfIssuer': str,\n",
    "            'cik' : 'int64', 'address': 'category',  'dsource': 'category'}\n",
    "\n",
    "def swap_value_shares(path_list, save_flag = False):\n",
    "    \"\"\"\n",
    "    input: list of file paths to deal with\n",
    "    returns: # swaps columns `value` and `shares` in a file\n",
    "    \n",
    "    \"\"\"\n",
    "    for file in path_list:\n",
    "        file = Path(file)\n",
    "        try:\n",
    "            if file.suffix == '.parquet':\n",
    "                \n",
    "                df = pd.read_parquet(file)\n",
    "                df = (df.assign(value=df.shares,\n",
    "                                shares=df.value))\n",
    "                if save_flag: df.to_parquet(file, index=False)\n",
    "                print('parquet')\n",
    "            elif file.suffix == '.csv':\n",
    "                df = pl.read_csv(file, columns=columns, dtypes=pl_dtypes, parse_dates=True) \n",
    "                df = df.to_pandas().astype(pd_dtypes_validation)\n",
    "                df = (df.assign(value=df.shares,\n",
    "                                shares=df.value))\n",
    "                print(df.rdate.dt.to_period(freq='Q').squeeze()[0],  df.value.sum()/1_000_000, df.cik)\n",
    "                if save_flag: df.to_csv(file, index=False)\n",
    "                print('csv')\n",
    "        except:\n",
    "            print(\"error\")"
   ]
  },
  {
   "cell_type": "code",
   "execution_count": null,
   "id": "b7c48bad-1ca7-4940-b618-d089fec494e5",
   "metadata": {
    "tags": []
   },
   "outputs": [],
   "source": [
    "swap_value_shares(l, save_flag = True)"
   ]
  },
  {
   "cell_type": "code",
   "execution_count": null,
   "id": "8bb079a6-1cca-45eb-b4f0-cbf6a8958297",
   "metadata": {},
   "outputs": [],
   "source": []
  },
  {
   "cell_type": "code",
   "execution_count": null,
   "id": "fad122ba-58df-446e-aec5-47a18f2bddba",
   "metadata": {},
   "outputs": [],
   "source": []
  },
  {
   "cell_type": "code",
   "execution_count": null,
   "id": "cec9dd03-9d66-4d86-b57c-2d3aaf87f15b",
   "metadata": {
    "tags": []
   },
   "outputs": [],
   "source": [
    "# common_df.query('rdate.dt.year.isin([1999, 2010])')['cik'].nunique()\n",
    "common_df.drop_duplicates(subset=['cik', 'rdate'])\n",
    "# common_df.rdate.dt.year\n",
    "import lux\n",
    "import pandas as pd\n"
   ]
  },
  {
   "cell_type": "code",
   "execution_count": 320,
   "id": "01d73054-4b27-4a50-80a4-9bd4fb9600cc",
   "metadata": {},
   "outputs": [
    {
     "data": {},
     "metadata": {},
     "output_type": "display_data"
    },
    {
     "data": {},
     "metadata": {},
     "output_type": "display_data"
    },
    {
     "data": {
      "application/vnd.holoviews_exec.v0+json": "",
      "text/html": [
       "<div id='89471'>\n",
       "  <div class=\"bk-root\" id=\"43665edc-3457-4b97-8166-ad07fe5a9062\" data-root-id=\"89471\"></div>\n",
       "</div>\n",
       "<script type=\"application/javascript\">(function(root) {\n",
       "  function embed_document(root) {\n",
       "    var docs_json = {\"0924f4e7-3f5f-42f7-9239-54b4bcbd77e6\":{\"defs\":[{\"extends\":null,\"module\":null,\"name\":\"ReactiveHTML1\",\"overrides\":[],\"properties\":[]},{\"extends\":null,\"module\":null,\"name\":\"FlexBox1\",\"overrides\":[],\"properties\":[{\"default\":\"flex-start\",\"kind\":null,\"name\":\"align_content\"},{\"default\":\"flex-start\",\"kind\":null,\"name\":\"align_items\"},{\"default\":\"row\",\"kind\":null,\"name\":\"flex_direction\"},{\"default\":\"wrap\",\"kind\":null,\"name\":\"flex_wrap\"},{\"default\":\"flex-start\",\"kind\":null,\"name\":\"justify_content\"}]},{\"extends\":null,\"module\":null,\"name\":\"GridStack1\",\"overrides\":[],\"properties\":[{\"default\":\"warn\",\"kind\":null,\"name\":\"mode\"},{\"default\":null,\"kind\":null,\"name\":\"ncols\"},{\"default\":null,\"kind\":null,\"name\":\"nrows\"},{\"default\":true,\"kind\":null,\"name\":\"allow_resize\"},{\"default\":true,\"kind\":null,\"name\":\"allow_drag\"},{\"default\":[],\"kind\":null,\"name\":\"state\"}]},{\"extends\":null,\"module\":null,\"name\":\"click1\",\"overrides\":[],\"properties\":[{\"default\":\"\",\"kind\":null,\"name\":\"terminal_output\"},{\"default\":\"\",\"kind\":null,\"name\":\"debug_name\"},{\"default\":0,\"kind\":null,\"name\":\"clears\"}]},{\"extends\":null,\"module\":null,\"name\":\"NotificationAreaBase1\",\"overrides\":[],\"properties\":[{\"default\":\"bottom-right\",\"kind\":null,\"name\":\"position\"},{\"default\":0,\"kind\":null,\"name\":\"_clear\"}]},{\"extends\":null,\"module\":null,\"name\":\"NotificationArea1\",\"overrides\":[],\"properties\":[{\"default\":[],\"kind\":null,\"name\":\"notifications\"},{\"default\":\"bottom-right\",\"kind\":null,\"name\":\"position\"},{\"default\":0,\"kind\":null,\"name\":\"_clear\"},{\"default\":[{\"background\":\"#ffc107\",\"icon\":{\"className\":\"fas fa-exclamation-triangle\",\"color\":\"white\",\"tagName\":\"i\"},\"type\":\"warning\"},{\"background\":\"#007bff\",\"icon\":{\"className\":\"fas fa-info-circle\",\"color\":\"white\",\"tagName\":\"i\"},\"type\":\"info\"}],\"kind\":null,\"name\":\"types\"}]},{\"extends\":null,\"module\":null,\"name\":\"Notification\",\"overrides\":[],\"properties\":[{\"default\":null,\"kind\":null,\"name\":\"background\"},{\"default\":3000,\"kind\":null,\"name\":\"duration\"},{\"default\":null,\"kind\":null,\"name\":\"icon\"},{\"default\":\"\",\"kind\":null,\"name\":\"message\"},{\"default\":null,\"kind\":null,\"name\":\"notification_type\"},{\"default\":false,\"kind\":null,\"name\":\"_destroyed\"}]},{\"extends\":null,\"module\":null,\"name\":\"TemplateActions1\",\"overrides\":[],\"properties\":[{\"default\":0,\"kind\":null,\"name\":\"open_modal\"},{\"default\":0,\"kind\":null,\"name\":\"close_modal\"}]},{\"extends\":null,\"module\":null,\"name\":\"MaterialTemplateActions1\",\"overrides\":[],\"properties\":[{\"default\":0,\"kind\":null,\"name\":\"open_modal\"},{\"default\":0,\"kind\":null,\"name\":\"close_modal\"}]}],\"roots\":{\"references\":[{\"attributes\":{\"margin\":[5,10,5,10],\"options\":[\"accel\",\"displ\",\"hp\",\"mpg\",\"weight\"],\"sizing_mode\":\"stretch_width\",\"title\":\"Y-Axis\",\"value\":\"hp\"},\"id\":\"89474\",\"type\":\"panel.models.widgets.CustomSelect\"},{\"attributes\":{},\"id\":\"89494\",\"type\":\"BasicTicker\"},{\"attributes\":{},\"id\":\"89535\",\"type\":\"UnionRenderers\"},{\"attributes\":{\"children\":[{\"id\":\"89480\"}],\"margin\":[0,0,0,0],\"name\":\"Row321760\",\"sizing_mode\":\"stretch_width\"},\"id\":\"89477\",\"type\":\"Row\"},{\"attributes\":{\"below\":[{\"id\":\"89489\"}],\"center\":[{\"id\":\"89492\"},{\"id\":\"89496\"}],\"left\":[{\"id\":\"89493\"}],\"margin\":[5,5,5,5],\"min_border_bottom\":10,\"min_border_left\":10,\"min_border_right\":10,\"min_border_top\":10,\"name\":\"ParamFunction321756\",\"renderers\":[{\"id\":\"89515\"}],\"sizing_mode\":\"stretch_width\",\"title\":{\"id\":\"89481\"},\"toolbar\":{\"id\":\"89503\"},\"width\":800,\"x_range\":{\"id\":\"89478\"},\"x_scale\":{\"id\":\"89485\"},\"y_range\":{\"id\":\"89479\"},\"y_scale\":{\"id\":\"89487\"}},\"id\":\"89480\",\"subtype\":\"Figure\",\"type\":\"Plot\"},{\"attributes\":{\"margin\":[5,10,5,10],\"options\":[\"None\",\"accel\",\"displ\",\"hp\",\"mpg\",\"weight\"],\"sizing_mode\":\"stretch_width\",\"title\":\"Color\",\"value\":\"None\"},\"id\":\"89475\",\"type\":\"panel.models.widgets.CustomSelect\"},{\"attributes\":{\"active_drag\":{\"id\":\"89498\"},\"active_scroll\":{\"id\":\"89499\"},\"tools\":[{\"id\":\"89497\"},{\"id\":\"89498\"},{\"id\":\"89499\"},{\"id\":\"89500\"},{\"id\":\"89501\"}]},\"id\":\"89503\",\"type\":\"Toolbar\"},{\"attributes\":{\"overlay\":{\"id\":\"89502\"}},\"id\":\"89500\",\"type\":\"BoxZoomTool\"},{\"attributes\":{},\"id\":\"89490\",\"type\":\"BasicTicker\"},{\"attributes\":{\"end\":248.4,\"reset_end\":248.4,\"reset_start\":27.599999999999998,\"start\":27.599999999999998,\"tags\":[[[\"hp\",\"hp\",null]]]},\"id\":\"89479\",\"type\":\"Range1d\"},{\"attributes\":{\"axis\":{\"id\":\"89489\"},\"coordinates\":null,\"grid_line_color\":null,\"group\":null,\"ticker\":null},\"id\":\"89492\",\"type\":\"Grid\"},{\"attributes\":{\"axis_label\":\"mpg\",\"coordinates\":null,\"formatter\":{\"id\":\"89519\"},\"group\":null,\"major_label_policy\":{\"id\":\"89520\"},\"ticker\":{\"id\":\"89490\"}},\"id\":\"89489\",\"type\":\"LinearAxis\"},{\"attributes\":{\"source\":{\"id\":\"89509\"}},\"id\":\"89516\",\"type\":\"CDSView\"},{\"attributes\":{\"coordinates\":null,\"group\":null,\"text\":\"Mpg vs Hp\",\"text_color\":\"black\",\"text_font_size\":\"12pt\"},\"id\":\"89481\",\"type\":\"Title\"},{\"attributes\":{\"bottom_units\":\"screen\",\"coordinates\":null,\"fill_alpha\":0.5,\"fill_color\":\"lightgrey\",\"group\":null,\"left_units\":\"screen\",\"level\":\"overlay\",\"line_alpha\":1.0,\"line_color\":\"black\",\"line_dash\":[4,4],\"line_width\":2,\"right_units\":\"screen\",\"syncable\":false,\"top_units\":\"screen\"},\"id\":\"89502\",\"type\":\"BoxAnnotation\"},{\"attributes\":{},\"id\":\"89522\",\"type\":\"BasicTickFormatter\"},{\"attributes\":{},\"id\":\"89485\",\"type\":\"LinearScale\"},{\"attributes\":{\"coordinates\":null,\"data_source\":{\"id\":\"89509\"},\"glyph\":{\"id\":\"89512\"},\"group\":null,\"hover_glyph\":null,\"muted_glyph\":{\"id\":\"89514\"},\"nonselection_glyph\":{\"id\":\"89513\"},\"selection_glyph\":{\"id\":\"89517\"},\"view\":{\"id\":\"89516\"}},\"id\":\"89515\",\"type\":\"GlyphRenderer\"},{\"attributes\":{\"data\":{\"hp\":[130,165,150,150,140,198,220,215,225,190,170,160,150,225,95,95,97,85,88,46,87,90,95,113,90,215,200,210,193,88,90,95,100,105,100,88,100,165,175,153,150,180,170,175,110,72,100,88,86,90,70,76,65,69,60,70,95,80,54,90,86,165,175,150,153,150,208,155,160,190,97,150,130,140,150,112,76,87,69,86,92,97,80,88,175,150,145,137,150,198,150,158,150,215,225,175,105,100,100,88,95,46,150,167,170,180,100,88,72,94,90,85,107,90,145,230,49,75,91,112,150,110,122,180,95,100,100,67,80,65,75,100,110,105,140,150,150,140,150,83,67,78,52,61,75,75,75,97,93,67,95,105,72,72,170,145,150,148,110,105,110,95,110,110,129,75,83,100,78,96,71,97,97,70,90,95,88,98,115,53,86,81,92,79,83,140,150,120,152,100,105,81,90,52,60,70,53,100,78,110,95,71,70,75,72,102,150,88,108,120,180,145,130,150,68,80,58,96,70,145,110,145,130,110,105,100,98,180,170,190,149,78,88,75,89,63,83,67,78,97,110,110,48,66,52,70,60,110,140,139,105,95,85,88,100,90,105,85,110,120,145,165,139,140,68,95,97,75,95,105,85,97,103,125,115,133,71,68,115,85,88,90,110,130,129,138,135,155,142,125,150,71,65,80,80,77,125,71,90,70,70,65,69,90,115,115,90,76,60,70,65,90,88,90,90,78,90,75,92,75,65,105,65,48,48,67,67,67,67,62,132,100,88,72,84,84,92,110,84,58,64,60,67,65,62,68,63,65,65,74,75,75,100,74,80,76,116,120,110,105,88,85,88,88,88,85,84,90,92,74,68,68,63,70,88,75,70,67,67,67,110,85,92,112,96,84,90,86,52,84,79,82],\"mpg\":{\"__ndarray__\":\"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\",\"dtype\":\"float64\",\"order\":\"little\",\"shape\":[392]}},\"selected\":{\"id\":\"89510\"},\"selection_policy\":{\"id\":\"89535\"}},\"id\":\"89509\",\"type\":\"ColumnDataSource\"},{\"attributes\":{\"fill_alpha\":{\"value\":0.2},\"fill_color\":{\"value\":\"#30a2da\"},\"hatch_alpha\":{\"value\":0.2},\"hatch_color\":{\"value\":\"#30a2da\"},\"line_alpha\":{\"value\":0.2},\"size\":{\"value\":2.449489742783178},\"x\":{\"field\":\"mpg\"},\"y\":{\"field\":\"hp\"}},\"id\":\"89514\",\"type\":\"Scatter\"},{\"attributes\":{\"fill_color\":{\"value\":\"#30a2da\"},\"hatch_color\":{\"value\":\"#30a2da\"},\"size\":{\"value\":2.449489742783178},\"x\":{\"field\":\"mpg\"},\"y\":{\"field\":\"hp\"}},\"id\":\"89512\",\"type\":\"Scatter\"},{\"attributes\":{},\"id\":\"89501\",\"type\":\"ResetTool\"},{\"attributes\":{\"margin\":[5,10,5,10],\"options\":[\"accel\",\"displ\",\"hp\",\"mpg\",\"weight\"],\"sizing_mode\":\"stretch_width\",\"title\":\"X-Axis\",\"value\":\"mpg\"},\"id\":\"89473\",\"type\":\"panel.models.widgets.CustomSelect\"},{\"attributes\":{\"children\":[{\"id\":\"89473\"},{\"id\":\"89474\"},{\"id\":\"89475\"},{\"id\":\"89476\"}],\"css_classes\":[\"panel-widget-box\"],\"margin\":[5,5,5,5],\"min_width\":200,\"name\":\"WidgetBox321755\",\"width\":200},\"id\":\"89472\",\"type\":\"Column\"},{\"attributes\":{},\"id\":\"89510\",\"type\":\"Selection\"},{\"attributes\":{\"children\":[{\"id\":\"89472\"},{\"id\":\"89477\"}],\"margin\":[0,0,0,0],\"name\":\"Row321794\",\"sizing_mode\":\"stretch_width\"},\"id\":\"89471\",\"type\":\"Row\"},{\"attributes\":{},\"id\":\"89520\",\"type\":\"AllLabels\"},{\"attributes\":{\"end\":49.42,\"reset_end\":49.42,\"reset_start\":6.18,\"start\":6.18,\"tags\":[[[\"mpg\",\"mpg\",null]]]},\"id\":\"89478\",\"type\":\"Range1d\"},{\"attributes\":{\"angle\":{\"value\":0.0},\"fill_alpha\":{\"value\":1.0},\"fill_color\":{\"value\":\"#30a2da\"},\"hatch_alpha\":{\"value\":1.0},\"hatch_color\":{\"value\":\"#30a2da\"},\"hatch_scale\":{\"value\":12.0},\"hatch_weight\":{\"value\":1.0},\"line_alpha\":{\"value\":1.0},\"line_cap\":{\"value\":\"butt\"},\"line_color\":{\"value\":\"black\"},\"line_dash\":{\"value\":[]},\"line_dash_offset\":{\"value\":0},\"line_join\":{\"value\":\"bevel\"},\"line_width\":{\"value\":1},\"marker\":{\"value\":\"circle\"},\"size\":{\"value\":2.449489742783178},\"x\":{\"field\":\"mpg\"},\"y\":{\"field\":\"hp\"}},\"id\":\"89517\",\"type\":\"Scatter\"},{\"attributes\":{},\"id\":\"89497\",\"type\":\"SaveTool\"},{\"attributes\":{\"client_comm_id\":\"6f3641156d11432a992e761818541902\",\"comm_id\":\"a0e7c9434886456cb0f461742562cd23\",\"plot_id\":\"89471\"},\"id\":\"89568\",\"type\":\"panel.models.comm_manager.CommManager\"},{\"attributes\":{\"margin\":[5,10,5,10],\"options\":[\"None\",\"accel\",\"displ\",\"hp\",\"mpg\",\"weight\"],\"sizing_mode\":\"stretch_width\",\"title\":\"Size\",\"value\":\"None\"},\"id\":\"89476\",\"type\":\"panel.models.widgets.CustomSelect\"},{\"attributes\":{},\"id\":\"89499\",\"type\":\"WheelZoomTool\"},{\"attributes\":{\"axis\":{\"id\":\"89493\"},\"coordinates\":null,\"dimension\":1,\"grid_line_color\":null,\"group\":null,\"ticker\":null},\"id\":\"89496\",\"type\":\"Grid\"},{\"attributes\":{},\"id\":\"89519\",\"type\":\"BasicTickFormatter\"},{\"attributes\":{},\"id\":\"89487\",\"type\":\"LinearScale\"},{\"attributes\":{},\"id\":\"89523\",\"type\":\"AllLabels\"},{\"attributes\":{},\"id\":\"89498\",\"type\":\"PanTool\"},{\"attributes\":{\"axis_label\":\"hp\",\"coordinates\":null,\"formatter\":{\"id\":\"89522\"},\"group\":null,\"major_label_policy\":{\"id\":\"89523\"},\"ticker\":{\"id\":\"89494\"}},\"id\":\"89493\",\"type\":\"LinearAxis\"},{\"attributes\":{\"fill_alpha\":{\"value\":0.1},\"fill_color\":{\"value\":\"#30a2da\"},\"hatch_alpha\":{\"value\":0.1},\"hatch_color\":{\"value\":\"#30a2da\"},\"line_alpha\":{\"value\":0.1},\"size\":{\"value\":2.449489742783178},\"x\":{\"field\":\"mpg\"},\"y\":{\"field\":\"hp\"}},\"id\":\"89513\",\"type\":\"Scatter\"}],\"root_ids\":[\"89471\",\"89568\"]},\"title\":\"Bokeh Application\",\"version\":\"2.4.3\"}};\n",
       "    var render_items = [{\"docid\":\"0924f4e7-3f5f-42f7-9239-54b4bcbd77e6\",\"root_ids\":[\"89471\"],\"roots\":{\"89471\":\"43665edc-3457-4b97-8166-ad07fe5a9062\"}}];\n",
       "    root.Bokeh.embed.embed_items_notebook(docs_json, render_items);\n",
       "    for (const render_item of render_items) {\n",
       "      for (const root_id of render_item.root_ids) {\n",
       "\tconst id_el = document.getElementById(root_id)\n",
       "\tif (id_el.children.length && (id_el.children[0].className === 'bk-root')) {\n",
       "\t  const root_el = id_el.children[0]\n",
       "\t  root_el.id = root_el.id + '-rendered'\n",
       "\t}\n",
       "      }\n",
       "    }\n",
       "  }\n",
       "  if (root.Bokeh !== undefined && root.Bokeh.Panel !== undefined && ( root['Tabulator'] !== undefined) && ( root['Tabulator'] !== undefined) && ( root['Tabulator'] !== undefined) && ( root['Tabulator'] !== undefined) && ( root['Tabulator'] !== undefined) && ( root['Tabulator'] !== undefined) && ( root['Tabulator'] !== undefined) && ( root['Tabulator'] !== undefined) && ( root['Tabulator'] !== undefined) && ( root['Tabulator'] !== undefined) && ( root['Tabulator'] !== undefined) && ( root['Tabulator'] !== undefined) && ( root['Tabulator'] !== undefined) && ( root['Tabulator'] !== undefined) && ( root['Tabulator'] !== undefined) && ( root['Tabulator'] !== undefined) && ( root['Tabulator'] !== undefined) && ( root['Tabulator'] !== undefined) && ( root['Tabulator'] !== undefined) && ( root['Tabulator'] !== undefined) && ( root['Tabulator'] !== undefined) && ( root['Tabulator'] !== undefined) && ( root['Tabulator'] !== undefined)) {\n",
       "    embed_document(root);\n",
       "  } else {\n",
       "    var attempts = 0;\n",
       "    var timer = setInterval(function(root) {\n",
       "      if (root.Bokeh !== undefined && root.Bokeh.Panel !== undefined && (root['Tabulator'] !== undefined) && (root['Tabulator'] !== undefined) && (root['Tabulator'] !== undefined) && (root['Tabulator'] !== undefined) && (root['Tabulator'] !== undefined) && (root['Tabulator'] !== undefined) && (root['Tabulator'] !== undefined) && (root['Tabulator'] !== undefined) && (root['Tabulator'] !== undefined) && (root['Tabulator'] !== undefined) && (root['Tabulator'] !== undefined) && (root['Tabulator'] !== undefined) && (root['Tabulator'] !== undefined) && (root['Tabulator'] !== undefined) && (root['Tabulator'] !== undefined) && (root['Tabulator'] !== undefined) && (root['Tabulator'] !== undefined) && (root['Tabulator'] !== undefined) && (root['Tabulator'] !== undefined) && (root['Tabulator'] !== undefined) && (root['Tabulator'] !== undefined) && (root['Tabulator'] !== undefined) && (root['Tabulator'] !== undefined)) {\n",
       "        clearInterval(timer);\n",
       "        embed_document(root);\n",
       "      } else if (document.readyState == \"complete\") {\n",
       "        attempts++;\n",
       "        if (attempts > 200) {\n",
       "          clearInterval(timer);\n",
       "          console.log(\"Bokeh: ERROR: Unable to run BokehJS code because BokehJS library is missing\");\n",
       "        }\n",
       "      }\n",
       "    }, 25, root)\n",
       "  }\n",
       "})(window);</script>"
      ],
      "text/plain": [
       "Row(sizing_mode='stretch_width')\n",
       "    [0] WidgetBox(width=200)\n",
       "        [0] Select(name='X-Axis', options=['accel', 'displ', ...], sizing_mode='stretch_width', value='mpg')\n",
       "        [1] Select(name='Y-Axis', options=['accel', 'displ', ...], sizing_mode='stretch_width', value='hp')\n",
       "        [2] Select(name='Color', options=['None', 'accel', ...], sizing_mode='stretch_width', value='None')\n",
       "        [3] Select(name='Size', options=['None', 'accel', ...], sizing_mode='stretch_width', value='None')\n",
       "    [1] ParamFunction(function, _pane=HoloViews, sizing_mode='stretch_width')"
      ]
     },
     "execution_count": 320,
     "metadata": {
      "application/vnd.holoviews_exec.v0+json": {
       "id": "89471"
      }
     },
     "output_type": "execute_result"
    }
   ],
   "source": [
    "\"\"\"\n",
    "An example demonstrating how to put together a cross-selector app based\n",
    "on the Auto MPG dataset.\n",
    "\"\"\"\n",
    "import holoviews as hv\n",
    "import panel as pn\n",
    "import panel.widgets as pnw\n",
    "\n",
    "from bokeh.sampledata.autompg import autompg\n",
    "\n",
    "df = autompg.copy()\n",
    "\n",
    "ORIGINS = ['North America', 'Europe', 'Asia']\n",
    "\n",
    "# data cleanup\n",
    "df.origin = [ORIGINS[x-1] for x in df.origin]\n",
    "\n",
    "df['mfr'] = [x.split()[0] for x in df.name]\n",
    "df.loc[df.mfr=='chevy', 'mfr'] = 'chevrolet'\n",
    "df.loc[df.mfr=='chevroelt', 'mfr'] = 'chevrolet'\n",
    "df.loc[df.mfr=='maxda', 'mfr'] = 'mazda'\n",
    "df.loc[df.mfr=='mercedes-benz', 'mfr'] = 'mercedes'\n",
    "df.loc[df.mfr=='toyouta', 'mfr'] = 'toyota'\n",
    "df.loc[df.mfr=='vokswagen', 'mfr'] = 'volkswagen'\n",
    "df.loc[df.mfr=='vw', 'mfr'] = 'volkswagen'\n",
    "del df['name']\n",
    "\n",
    "columns = sorted(df.columns)\n",
    "discrete = [x for x in columns if df[x].dtype == object]\n",
    "continuous = [x for x in columns if x not in discrete]\n",
    "quantileable = [x for x in continuous if len(df[x].unique()) > 20]\n",
    "\n",
    "x = pnw.Select(name='X-Axis', value='mpg', options=quantileable)\n",
    "y = pnw.Select(name='Y-Axis', value='hp', options=quantileable)\n",
    "size = pnw.Select(name='Size', value='None', options=['None'] + quantileable)\n",
    "color = pnw.Select(name='Color', value='None', options=['None'] + quantileable)\n",
    "\n",
    "@pn.depends(x.param.value, y.param.value, color.param.value, size.param.value)\n",
    "def create_figure(x, y, color, size):\n",
    "    opts = dict(cmap='rainbow', width=800, height=600, line_color='black')\n",
    "    if color != 'None':\n",
    "        opts['color'] = color\n",
    "    if size != 'None':\n",
    "        opts['size'] = hv.dim(size).norm()*20\n",
    "    return hv.Points(df, [x, y], label=\"%s vs %s\" % (x.title(), y.title())).opts(**opts)\n",
    "\n",
    "widgets = pn.WidgetBox(x, y, color, size, width=200)\n",
    "\n",
    "pn.Row(widgets, create_figure).servable('Cross-selector')"
   ]
  },
  {
   "cell_type": "code",
   "execution_count": 12,
   "id": "5189fc18-0a32-41de-a65b-3058240855fb",
   "metadata": {
    "tags": []
   },
   "outputs": [],
   "source": [
    "\n",
    "\n",
    "\n"
   ]
  },
  {
   "cell_type": "code",
   "execution_count": 75,
   "id": "68bf6741-b17d-4c5a-b599-fb3c6c30d3c5",
   "metadata": {
    "tags": []
   },
   "outputs": [
    {
     "data": {},
     "metadata": {},
     "output_type": "display_data"
    },
    {
     "data": {},
     "metadata": {},
     "output_type": "display_data"
    },
    {
     "data": {
      "application/vnd.holoviews_exec.v0+json": "",
      "text/html": [
       "<div id='16519'>\n",
       "  <div class=\"bk-root\" id=\"03b49047-9f10-4e39-8858-a75a06561f5d\" data-root-id=\"16519\"></div>\n",
       "</div>\n",
       "<script type=\"application/javascript\">(function(root) {\n",
       "  function embed_document(root) {\n",
       "    var docs_json = {\"7a7f406b-0400-42ca-ac59-dba0637e8b94\":{\"defs\":[{\"extends\":null,\"module\":null,\"name\":\"ReactiveHTML1\",\"overrides\":[],\"properties\":[]},{\"extends\":null,\"module\":null,\"name\":\"FlexBox1\",\"overrides\":[],\"properties\":[{\"default\":\"flex-start\",\"kind\":null,\"name\":\"align_content\"},{\"default\":\"flex-start\",\"kind\":null,\"name\":\"align_items\"},{\"default\":\"row\",\"kind\":null,\"name\":\"flex_direction\"},{\"default\":\"wrap\",\"kind\":null,\"name\":\"flex_wrap\"},{\"default\":\"flex-start\",\"kind\":null,\"name\":\"justify_content\"}]},{\"extends\":null,\"module\":null,\"name\":\"GridStack1\",\"overrides\":[],\"properties\":[{\"default\":\"warn\",\"kind\":null,\"name\":\"mode\"},{\"default\":null,\"kind\":null,\"name\":\"ncols\"},{\"default\":null,\"kind\":null,\"name\":\"nrows\"},{\"default\":true,\"kind\":null,\"name\":\"allow_resize\"},{\"default\":true,\"kind\":null,\"name\":\"allow_drag\"},{\"default\":[],\"kind\":null,\"name\":\"state\"}]},{\"extends\":null,\"module\":null,\"name\":\"click1\",\"overrides\":[],\"properties\":[{\"default\":\"\",\"kind\":null,\"name\":\"terminal_output\"},{\"default\":\"\",\"kind\":null,\"name\":\"debug_name\"},{\"default\":0,\"kind\":null,\"name\":\"clears\"}]},{\"extends\":null,\"module\":null,\"name\":\"NotificationAreaBase1\",\"overrides\":[],\"properties\":[{\"default\":\"bottom-right\",\"kind\":null,\"name\":\"position\"},{\"default\":0,\"kind\":null,\"name\":\"_clear\"}]},{\"extends\":null,\"module\":null,\"name\":\"NotificationArea1\",\"overrides\":[],\"properties\":[{\"default\":[],\"kind\":null,\"name\":\"notifications\"},{\"default\":\"bottom-right\",\"kind\":null,\"name\":\"position\"},{\"default\":0,\"kind\":null,\"name\":\"_clear\"},{\"default\":[{\"background\":\"#ffc107\",\"icon\":{\"className\":\"fas fa-exclamation-triangle\",\"color\":\"white\",\"tagName\":\"i\"},\"type\":\"warning\"},{\"background\":\"#007bff\",\"icon\":{\"className\":\"fas fa-info-circle\",\"color\":\"white\",\"tagName\":\"i\"},\"type\":\"info\"}],\"kind\":null,\"name\":\"types\"}]},{\"extends\":null,\"module\":null,\"name\":\"Notification\",\"overrides\":[],\"properties\":[{\"default\":null,\"kind\":null,\"name\":\"background\"},{\"default\":3000,\"kind\":null,\"name\":\"duration\"},{\"default\":null,\"kind\":null,\"name\":\"icon\"},{\"default\":\"\",\"kind\":null,\"name\":\"message\"},{\"default\":null,\"kind\":null,\"name\":\"notification_type\"},{\"default\":false,\"kind\":null,\"name\":\"_destroyed\"}]},{\"extends\":null,\"module\":null,\"name\":\"TemplateActions1\",\"overrides\":[],\"properties\":[{\"default\":0,\"kind\":null,\"name\":\"open_modal\"},{\"default\":0,\"kind\":null,\"name\":\"close_modal\"}]},{\"extends\":null,\"module\":null,\"name\":\"MaterialTemplateActions1\",\"overrides\":[],\"properties\":[{\"default\":0,\"kind\":null,\"name\":\"open_modal\"},{\"default\":0,\"kind\":null,\"name\":\"close_modal\"}]}],\"roots\":{\"references\":[{\"attributes\":{\"args\":{\"other\":{\"id\":\"16527\"}},\"code\":\"other.mode = this.mode\"},\"id\":\"16529\",\"type\":\"CustomJS\"},{\"attributes\":{},\"id\":\"16646\",\"type\":\"StringFormatter\"},{\"attributes\":{\"data\":{\"Beak_Length_left_parenthesis_mm_right_parenthesis\":{\"__ndarray__\":\"zczMzMyMQ0AAAAAAAMBDQGZmZmZmJkRAAAAAAAAA+H+amZmZmVlCQGZmZmZmpkNAMzMzMzNzQ0CamZmZmZlDQM3MzMzMDEFAAAAAAAAARUBmZmZmZuZCQGZmZmZm5kJAzczMzMyMREDNzMzMzExDQM3MzMzMTEFAzczMzMxMQkCamZmZmVlDQAAAAAAAQEVAMzMzMzMzQUAAAAAAAABHQDMzMzMz80FAZmZmZmbmREAAAAAAAMBAQJqZmZmZ2UNAzczMzMzMQ0BmZmZmZuZGQAAAAAAAwEFAZmZmZmZmRUAzMzMzM3NEQJqZmZmZmUJAmpmZmZkZQkDNzMzMzAxFQM3MzMzMTEFAMzMzMzNzRUCamZmZmVlCQM3MzMzMjEFAzczMzMxMQ0BmZmZmZqZCQJqZmZmZ2UFAzczMzMyMRECamZmZmRlCQJqZmZmZ2UJAmpmZmZkZREAzMzMzM7NEQJqZmZmZmUFAzczMzMxMREBmZmZmZmZDQAAAAAAAwERAAAAAAACAQ0DNzMzMzAxGQAAAAAAAQENAzczMzMyMRUA=\",\"dtype\":\"float64\",\"order\":\"little\",\"shape\":[52]},\"Body Mass (g)\":{\"__ndarray__\":\"AAAAAABMrUAAAAAAALCtQAAAAAAAZKlAAAAAAAAA+H8AAAAAAPSqQAAAAAAAhKxAAAAAAABSrEAAAAAAAEOyQAAAAAAAJqtAAAAAAACasEAAAAAAAMipQAAAAAAA6KxAAAAAAAAAqUAAAAAAALCtQAAAAAAAMLFAAAAAAADorEAAAAAAAPSqQAAAAAAAlLFAAAAAAAD6qUAAAAAAAGiwQAAAAAAA1KdAAAAAAABisUAAAAAAACCsQAAAAAAAeK5AAAAAAAC8q0AAAAAAADawQAAAAAAA6KxAAAAAAACasEAAAAAAAOisQAAAAAAAeK5AAAAAAAC8q0AAAAAAAECvQAAAAAAAAKlAAAAAAABcskAAAAAAALCtQAAAAAAAaLBAAAAAAACopkAAAAAAAH6tQAAAAAAALKpAAAAAAAD6qUAAAAAAAJyoQAAAAAAAWKtAAAAAAAD0qkAAAAAAAEauQAAAAAAA1KdAAAAAAABAr0AAAAAAAJapQAAAAAAAzLBAAAAAAADUp0AAAAAAAECvQAAAAAAA+qlAAAAAAABYq0A=\",\"dtype\":\"float64\",\"order\":\"little\",\"shape\":[52]},\"Body_Mass_left_parenthesis_g_right_parenthesis\":{\"__ndarray__\":\"AAAAAABMrUAAAAAAALCtQAAAAAAAZKlAAAAAAAAA+H8AAAAAAPSqQAAAAAAAhKxAAAAAAABSrEAAAAAAAEOyQAAAAAAAJqtAAAAAAACasEAAAAAAAMipQAAAAAAA6KxAAAAAAAAAqUAAAAAAALCtQAAAAAAAMLFAAAAAAADorEAAAAAAAPSqQAAAAAAAlLFAAAAAAAD6qUAAAAAAAGiwQAAAAAAA1KdAAAAAAABisUAAAAAAACCsQAAAAAAAeK5AAAAAAAC8q0AAAAAAADawQAAAAAAA6KxAAAAAAACasEAAAAAAAOisQAAAAAAAeK5AAAAAAAC8q0AAAAAAAECvQAAAAAAAAKlAAAAAAABcskAAAAAAALCtQAAAAAAAaLBAAAAAAACopkAAAAAAAH6tQAAAAAAALKpAAAAAAAD6qUAAAAAAAJyoQAAAAAAAWKtAAAAAAAD0qkAAAAAAAEauQAAAAAAA1KdAAAAAAABAr0AAAAAAAJapQAAAAAAAzLBAAAAAAADUp0AAAAAAAECvQAAAAAAA+qlAAAAAAABYq0A=\",\"dtype\":\"float64\",\"order\":\"little\",\"shape\":[52]},\"Flipper_Length_left_parenthesis_mm_right_parenthesis\":{\"__ndarray__\":\"AAAAAACgZkAAAAAAAEBnQAAAAAAAYGhAAAAAAAAA+H8AAAAAACBoQAAAAAAAwGdAAAAAAACgZkAAAAAAAGBoQAAAAAAAIGhAAAAAAADAZ0AAAAAAAEBnQAAAAAAAgGZAAAAAAADAZkAAAAAAAOBnQAAAAAAAwGhAAAAAAAAgZ0AAAAAAAGBoQAAAAAAAoGhAAAAAAAAAZ0AAAAAAAEBoQAAAAAAAwGdAAAAAAADAaEAAAAAAAMBnQAAAAAAAwGdAAAAAAACAaEAAAAAAAKBoQAAAAAAAwGdAAAAAAABgaEAAAAAAAOBnQAAAAAAAAGdAAAAAAABgZ0AAAAAAAGBoQAAAAAAAoGdAAAAAAACAaEAAAAAAAGBnQAAAAAAAIGhAAAAAAACAZ0AAAAAAAOBoQAAAAAAAoGdAAAAAAACgZ0AAAAAAAGBnQAAAAAAAwGhAAAAAAAAAZkAAAAAAAEBpQAAAAAAAQGdAAAAAAADgaEAAAAAAAOBnQAAAAAAAYGhAAAAAAADgZ0AAAAAAAEBqQAAAAAAAwGdAAAAAAACgaEA=\",\"dtype\":\"float64\",\"order\":\"little\",\"shape\":[52]},\"Species\":[\"Adelie\",\"Adelie\",\"Adelie\",\"Adelie\",\"Adelie\",\"Adelie\",\"Adelie\",\"Adelie\",\"Adelie\",\"Adelie\",\"Adelie\",\"Adelie\",\"Adelie\",\"Adelie\",\"Adelie\",\"Adelie\",\"Adelie\",\"Adelie\",\"Adelie\",\"Adelie\",\"Adelie\",\"Adelie\",\"Adelie\",\"Adelie\",\"Adelie\",\"Adelie\",\"Adelie\",\"Adelie\",\"Adelie\",\"Adelie\",\"Adelie\",\"Adelie\",\"Adelie\",\"Adelie\",\"Adelie\",\"Adelie\",\"Adelie\",\"Adelie\",\"Adelie\",\"Adelie\",\"Adelie\",\"Adelie\",\"Adelie\",\"Adelie\",\"Adelie\",\"Adelie\",\"Adelie\",\"Adelie\",\"Adelie\",\"Adelie\",\"Adelie\",\"Adelie\"]},\"selected\":{\"id\":\"16585\"},\"selection_policy\":{\"id\":\"16623\"}},\"id\":\"16584\",\"type\":\"ColumnDataSource\"},{\"attributes\":{\"coordinates\":null,\"data_source\":{\"id\":\"16604\"},\"glyph\":{\"id\":\"16607\"},\"group\":null,\"hover_glyph\":null,\"muted_glyph\":{\"id\":\"16609\"},\"nonselection_glyph\":{\"id\":\"16608\"},\"selection_glyph\":{\"id\":\"16612\"},\"view\":{\"id\":\"16611\"}},\"id\":\"16610\",\"type\":\"GlyphRenderer\"},{\"attributes\":{\"editor\":{\"id\":\"16647\"},\"field\":\"Species\",\"formatter\":{\"id\":\"16646\"},\"title\":\"Species\",\"width\":0},\"id\":\"16648\",\"type\":\"TableColumn\"},{\"attributes\":{},\"id\":\"16625\",\"type\":\"UnionRenderers\"},{\"attributes\":{},\"id\":\"16647\",\"type\":\"StringEditor\"},{\"attributes\":{\"data\":{\"Beak_Length_left_parenthesis_mm_right_parenthesis\":{\"__ndarray__\":\"zczMzMyMQ0AAAAAAAMBDQGZmZmZmJkRAAAAAAAAA+H+amZmZmVlCQGZmZmZmpkNAMzMzMzNzQ0CamZmZmZlDQM3MzMzMDEFAAAAAAAAARUBmZmZmZuZCQGZmZmZm5kJAzczMzMyMREDNzMzMzExDQM3MzMzMTEFAzczMzMxMQkCamZmZmVlDQAAAAAAAQEVAMzMzMzMzQUAAAAAAAABHQDMzMzMz80FAZmZmZmbmREAAAAAAAMBAQJqZmZmZ2UNAzczMzMzMQ0BmZmZmZuZGQAAAAAAAwEFAZmZmZmZmRUAzMzMzM3NEQJqZmZmZmUJAmpmZmZkZQkDNzMzMzAxFQM3MzMzMTEFAMzMzMzNzRUCamZmZmVlCQM3MzMzMjEFAzczMzMxMQ0BmZmZmZqZCQJqZmZmZ2UFAzczMzMyMRECamZmZmRlCQJqZmZmZ2UJAmpmZmZkZREAzMzMzM7NEQJqZmZmZmUFAzczMzMxMREBmZmZmZmZDQAAAAAAAwERAAAAAAACAQ0DNzMzMzAxGQAAAAAAAQENAzczMzMyMRUA=\",\"dtype\":\"float64\",\"order\":\"little\",\"shape\":[52]},\"Body Mass (g)\":{\"__ndarray__\":\"AAAAAABMrUAAAAAAALCtQAAAAAAAZKlAAAAAAAAA+H8AAAAAAPSqQAAAAAAAhKxAAAAAAABSrEAAAAAAAEOyQAAAAAAAJqtAAAAAAACasEAAAAAAAMipQAAAAAAA6KxAAAAAAAAAqUAAAAAAALCtQAAAAAAAMLFAAAAAAADorEAAAAAAAPSqQAAAAAAAlLFAAAAAAAD6qUAAAAAAAGiwQAAAAAAA1KdAAAAAAABisUAAAAAAACCsQAAAAAAAeK5AAAAAAAC8q0AAAAAAADawQAAAAAAA6KxAAAAAAACasEAAAAAAAOisQAAAAAAAeK5AAAAAAAC8q0AAAAAAAECvQAAAAAAAAKlAAAAAAABcskAAAAAAALCtQAAAAAAAaLBAAAAAAACopkAAAAAAAH6tQAAAAAAALKpAAAAAAAD6qUAAAAAAAJyoQAAAAAAAWKtAAAAAAAD0qkAAAAAAAEauQAAAAAAA1KdAAAAAAABAr0AAAAAAAJapQAAAAAAAzLBAAAAAAADUp0AAAAAAAECvQAAAAAAA+qlAAAAAAABYq0A=\",\"dtype\":\"float64\",\"order\":\"little\",\"shape\":[52]},\"Body_Mass_left_parenthesis_g_right_parenthesis\":{\"__ndarray__\":\"AAAAAABMrUAAAAAAALCtQAAAAAAAZKlAAAAAAAAA+H8AAAAAAPSqQAAAAAAAhKxAAAAAAABSrEAAAAAAAEOyQAAAAAAAJqtAAAAAAACasEAAAAAAAMipQAAAAAAA6KxAAAAAAAAAqUAAAAAAALCtQAAAAAAAMLFAAAAAAADorEAAAAAAAPSqQAAAAAAAlLFAAAAAAAD6qUAAAAAAAGiwQAAAAAAA1KdAAAAAAABisUAAAAAAACCsQAAAAAAAeK5AAAAAAAC8q0AAAAAAADawQAAAAAAA6KxAAAAAAACasEAAAAAAAOisQAAAAAAAeK5AAAAAAAC8q0AAAAAAAECvQAAAAAAAAKlAAAAAAABcskAAAAAAALCtQAAAAAAAaLBAAAAAAACopkAAAAAAAH6tQAAAAAAALKpAAAAAAAD6qUAAAAAAAJyoQAAAAAAAWKtAAAAAAAD0qkAAAAAAAEauQAAAAAAA1KdAAAAAAABAr0AAAAAAAJapQAAAAAAAzLBAAAAAAADUp0AAAAAAAECvQAAAAAAA+qlAAAAAAABYq0A=\",\"dtype\":\"float64\",\"order\":\"little\",\"shape\":[52]},\"Flipper_Length_left_parenthesis_mm_right_parenthesis\":{\"__ndarray__\":\"AAAAAACgZkAAAAAAAEBnQAAAAAAAYGhAAAAAAAAA+H8AAAAAACBoQAAAAAAAwGdAAAAAAACgZkAAAAAAAGBoQAAAAAAAIGhAAAAAAADAZ0AAAAAAAEBnQAAAAAAAgGZAAAAAAADAZkAAAAAAAOBnQAAAAAAAwGhAAAAAAAAgZ0AAAAAAAGBoQAAAAAAAoGhAAAAAAAAAZ0AAAAAAAEBoQAAAAAAAwGdAAAAAAADAaEAAAAAAAMBnQAAAAAAAwGdAAAAAAACAaEAAAAAAAKBoQAAAAAAAwGdAAAAAAABgaEAAAAAAAOBnQAAAAAAAAGdAAAAAAABgZ0AAAAAAAGBoQAAAAAAAoGdAAAAAAACAaEAAAAAAAGBnQAAAAAAAIGhAAAAAAACAZ0AAAAAAAOBoQAAAAAAAoGdAAAAAAACgZ0AAAAAAAGBnQAAAAAAAwGhAAAAAAAAAZkAAAAAAAEBpQAAAAAAAQGdAAAAAAADgaEAAAAAAAOBnQAAAAAAAYGhAAAAAAADgZ0AAAAAAAEBqQAAAAAAAwGdAAAAAAACgaEA=\",\"dtype\":\"float64\",\"order\":\"little\",\"shape\":[52]},\"Species\":[\"Adelie\",\"Adelie\",\"Adelie\",\"Adelie\",\"Adelie\",\"Adelie\",\"Adelie\",\"Adelie\",\"Adelie\",\"Adelie\",\"Adelie\",\"Adelie\",\"Adelie\",\"Adelie\",\"Adelie\",\"Adelie\",\"Adelie\",\"Adelie\",\"Adelie\",\"Adelie\",\"Adelie\",\"Adelie\",\"Adelie\",\"Adelie\",\"Adelie\",\"Adelie\",\"Adelie\",\"Adelie\",\"Adelie\",\"Adelie\",\"Adelie\",\"Adelie\",\"Adelie\",\"Adelie\",\"Adelie\",\"Adelie\",\"Adelie\",\"Adelie\",\"Adelie\",\"Adelie\",\"Adelie\",\"Adelie\",\"Adelie\",\"Adelie\",\"Adelie\",\"Adelie\",\"Adelie\",\"Adelie\",\"Adelie\",\"Adelie\",\"Adelie\",\"Adelie\"]},\"selected\":{\"id\":\"16575\"},\"selection_policy\":{\"id\":\"16621\"}},\"id\":\"16574\",\"type\":\"ColumnDataSource\"},{\"attributes\":{},\"id\":\"16657\",\"type\":\"NumberEditor\"},{\"attributes\":{\"coordinates\":null,\"fill_alpha\":0.5,\"fill_color\":\"lightgrey\",\"group\":null,\"level\":\"overlay\",\"line_alpha\":1.0,\"line_color\":\"black\",\"line_dash\":[4,4],\"line_width\":2,\"syncable\":false,\"xs_units\":\"screen\",\"ys_units\":\"screen\"},\"id\":\"16555\",\"type\":\"PolyAnnotation\"},{\"attributes\":{},\"id\":\"16605\",\"type\":\"Selection\"},{\"attributes\":{\"fill_alpha\":{\"value\":0},\"fill_color\":{\"value\":\"#1f77b4\"},\"height\":{\"field\":\"height\"},\"width\":{\"field\":\"width\"},\"x\":{\"field\":\"x\"},\"y\":{\"field\":\"y\"}},\"id\":\"16599\",\"type\":\"Rect\"},{\"attributes\":{\"fill_color\":{\"value\":\"#30a2da\"},\"hatch_color\":{\"value\":\"#30a2da\"},\"line_color\":{\"value\":\"#30a2da\"},\"size\":{\"value\":5.477225575051661},\"x\":{\"field\":\"Species\"},\"y\":{\"field\":\"Body Mass (g)\"}},\"id\":\"16590\",\"type\":\"Scatter\"},{\"attributes\":{\"children\":[{\"id\":\"16521\"}],\"margin\":[0,0,0,0],\"name\":\"Column149200\",\"sizing_mode\":\"stretch_width\"},\"id\":\"16520\",\"type\":\"Column\"},{\"attributes\":{},\"id\":\"16627\",\"type\":\"UnionRenderers\"},{\"attributes\":{},\"id\":\"16595\",\"type\":\"Selection\"},{\"attributes\":{\"end\":4880.0,\"reset_end\":4880.0,\"reset_start\":2720.0,\"start\":2720.0,\"tags\":[[[\"Body Mass (g)\",\"Body Mass (g)\",null]]]},\"id\":\"16523\",\"type\":\"Range1d\"},{\"attributes\":{\"data\":{\"Beak Length (mm)\":{\"__ndarray__\":\"zczMzMyMQ0AAAAAAAMBDQGZmZmZmJkRAAAAAAAAA+H+amZmZmVlCQGZmZmZmpkNAMzMzMzNzQ0CamZmZmZlDQM3MzMzMDEFAAAAAAAAARUA=\",\"dtype\":\"float64\",\"order\":\"little\",\"shape\":[10]},\"Body Mass (g)\":{\"__ndarray__\":\"AAAAAABMrUAAAAAAALCtQAAAAAAAZKlAAAAAAAAA+H8AAAAAAPSqQAAAAAAAhKxAAAAAAABSrEAAAAAAAEOyQAAAAAAAJqtAAAAAAACasEA=\",\"dtype\":\"float64\",\"order\":\"little\",\"shape\":[10]},\"Flipper Length (mm)\":{\"__ndarray__\":\"AAAAAACgZkAAAAAAAEBnQAAAAAAAYGhAAAAAAAAA+H8AAAAAACBoQAAAAAAAwGdAAAAAAACgZkAAAAAAAGBoQAAAAAAAIGhAAAAAAADAZ0A=\",\"dtype\":\"float64\",\"order\":\"little\",\"shape\":[10]},\"Island\":[\"Torgersen\",\"Torgersen\",\"Torgersen\",\"Torgersen\",\"Torgersen\",\"Torgersen\",\"Torgersen\",\"Torgersen\",\"Torgersen\",\"Torgersen\"],\"Sex\":[\"MALE\",\"FEMALE\",\"FEMALE\",\"NaN\",\"FEMALE\",\"MALE\",\"FEMALE\",\"MALE\",\"NaN\",\"NaN\"],\"Species\":[\"Adelie\",\"Adelie\",\"Adelie\",\"Adelie\",\"Adelie\",\"Adelie\",\"Adelie\",\"Adelie\",\"Adelie\",\"Adelie\"],\"index\":[0,1,2,3,4,5,6,7,8,9]},\"selected\":{\"id\":\"16634\"},\"selection_policy\":{\"id\":\"16690\"}},\"id\":\"16633\",\"type\":\"ColumnDataSource\"},{\"attributes\":{\"coordinates\":null,\"data_source\":{\"id\":\"16594\"},\"glyph\":{\"id\":\"16597\"},\"group\":null,\"hover_glyph\":{\"id\":\"16600\"},\"muted_glyph\":{\"id\":\"16601\"},\"nonselection_glyph\":{\"id\":\"16598\"},\"selection_glyph\":{\"id\":\"16599\"},\"view\":{\"id\":\"16603\"}},\"id\":\"16602\",\"type\":\"GlyphRenderer\"},{\"attributes\":{\"text_align\":\"left\"},\"id\":\"16635\",\"type\":\"NumberFormatter\"},{\"attributes\":{\"fill_alpha\":{\"value\":0.08},\"fill_color\":{\"value\":\"#30a2da\"},\"hatch_alpha\":{\"value\":0.08},\"hatch_color\":{\"value\":\"#30a2da\"},\"line_alpha\":{\"value\":0.08},\"line_color\":{\"value\":\"#30a2da\"},\"size\":{\"value\":5.477225575051661},\"x\":{\"field\":\"Species\"},\"y\":{\"field\":\"Body Mass (g)\"}},\"id\":\"16577\",\"type\":\"Scatter\"},{\"attributes\":{\"format\":\"0,0.0[00000]\",\"text_align\":\"right\"},\"id\":\"16661\",\"type\":\"NumberFormatter\"},{\"attributes\":{\"children\":[{\"id\":\"16671\"}],\"margin\":[5,5,5,5],\"name\":\"ParamFunction149401\",\"sizing_mode\":\"stretch_width\"},\"id\":\"16632\",\"type\":\"Row\"},{\"attributes\":{\"js_property_callbacks\":{\"change:mode\":[{\"id\":\"16530\"}]},\"overlay\":{\"id\":\"16555\"}},\"id\":\"16527\",\"type\":\"LassoSelectTool\"},{\"attributes\":{},\"id\":\"16575\",\"type\":\"Selection\"},{\"attributes\":{\"fill_color\":{\"value\":\"#1f77b4\"},\"height\":{\"field\":\"height\"},\"width\":{\"field\":\"width\"},\"x\":{\"field\":\"x\"},\"y\":{\"field\":\"y\"}},\"id\":\"16600\",\"type\":\"Rect\"},{\"attributes\":{\"coordinates\":null,\"data_source\":{\"id\":\"16574\"},\"glyph\":{\"id\":\"16577\"},\"group\":null,\"hover_glyph\":{\"id\":\"16580\"},\"muted_glyph\":{\"id\":\"16581\"},\"nonselection_glyph\":{\"id\":\"16578\"},\"selection_glyph\":{\"id\":\"16579\"},\"view\":{\"id\":\"16583\"}},\"id\":\"16582\",\"type\":\"GlyphRenderer\"},{\"attributes\":{\"axis_label\":\"Species\",\"coordinates\":null,\"formatter\":{\"id\":\"16567\"},\"group\":null,\"major_label_policy\":{\"id\":\"16568\"},\"ticker\":{\"id\":\"16542\"}},\"id\":\"16541\",\"type\":\"CategoricalAxis\"},{\"attributes\":{\"fill_alpha\":{\"value\":0.08},\"fill_color\":{\"value\":\"#30a2da\"},\"hatch_alpha\":{\"value\":0.08},\"hatch_color\":{\"value\":\"#30a2da\"},\"line_alpha\":{\"value\":0.08},\"line_color\":{\"value\":\"#30a2da\"},\"size\":{\"value\":5.477225575051661},\"x\":{\"field\":\"Species\"},\"y\":{\"field\":\"Body Mass (g)\"}},\"id\":\"16581\",\"type\":\"Scatter\"},{\"attributes\":{},\"id\":\"16662\",\"type\":\"NumberEditor\"},{\"attributes\":{\"data\":{\"height\":{\"__ndarray__\":\"\",\"dtype\":\"float64\",\"order\":\"little\",\"shape\":[0]},\"width\":{\"__ndarray__\":\"\",\"dtype\":\"float64\",\"order\":\"little\",\"shape\":[0]},\"x\":{\"__ndarray__\":\"\",\"dtype\":\"float64\",\"order\":\"little\",\"shape\":[0]},\"y\":{\"__ndarray__\":\"\",\"dtype\":\"float64\",\"order\":\"little\",\"shape\":[0]}},\"selected\":{\"id\":\"16595\"},\"selection_policy\":{\"id\":\"16625\"}},\"id\":\"16594\",\"type\":\"ColumnDataSource\"},{\"attributes\":{\"format\":\"0,0.0[00000]\",\"text_align\":\"right\"},\"id\":\"16666\",\"type\":\"NumberFormatter\"},{\"attributes\":{\"client_comm_id\":\"f0ed1980bd474de2bc8207b9fdad8239\",\"comm_id\":\"c7f79d9d82d9443bbeda4a2428fa1fd7\",\"plot_id\":\"16519\"},\"id\":\"16730\",\"type\":\"panel.models.comm_manager.CommManager\"},{\"attributes\":{\"axis\":{\"id\":\"16544\"},\"coordinates\":null,\"dimension\":1,\"grid_line_color\":null,\"group\":null,\"ticker\":null},\"id\":\"16547\",\"type\":\"Grid\"},{\"attributes\":{},\"id\":\"16623\",\"type\":\"UnionRenderers\"},{\"attributes\":{\"children\":[{\"id\":\"16520\"},{\"id\":\"16532\"},{\"id\":\"16632\"}],\"margin\":[0,0,0,0],\"name\":\"Column149452\",\"sizing_mode\":\"stretch_width\"},\"id\":\"16519\",\"type\":\"Column\"},{\"attributes\":{\"fill_alpha\":{\"value\":0},\"fill_color\":{\"value\":\"#1f77b4\"},\"height\":{\"field\":\"height\"},\"width\":{\"field\":\"width\"},\"x\":{\"field\":\"x\"},\"y\":{\"field\":\"y\"}},\"id\":\"16598\",\"type\":\"Rect\"},{\"attributes\":{\"js_property_callbacks\":{\"change:mode\":[{\"id\":\"16529\"}]},\"overlay\":{\"id\":\"16553\"}},\"id\":\"16526\",\"type\":\"BoxSelectTool\"},{\"attributes\":{\"margin\":[5,10,5,10],\"options\":[\"Torgersen\",\"Biscoe\",\"Dream\"],\"sizing_mode\":\"stretch_width\",\"title\":\"Island\",\"value\":\"Torgersen\"},\"id\":\"16521\",\"type\":\"panel.models.widgets.CustomSelect\"},{\"attributes\":{\"columns\":[{\"id\":\"16638\"},{\"id\":\"16643\"},{\"id\":\"16648\"},{\"id\":\"16653\"},{\"id\":\"16658\"},{\"id\":\"16663\"},{\"id\":\"16668\"}],\"configuration\":{\"columns\":[{\"field\":\"index\",\"sorter\":\"number\"},{\"field\":\"Island\"},{\"field\":\"Species\"},{\"field\":\"Sex\"},{\"field\":\"Body Mass (g)\",\"sorter\":\"number\"},{\"field\":\"Beak Length (mm)\",\"sorter\":\"number\"},{\"field\":\"Flipper Length (mm)\",\"sorter\":\"number\"}],\"dataTree\":false,\"selectable\":true},\"indexes\":[\"index\"],\"layout\":\"fit_data_table\",\"margin\":[5,10,5,10],\"max_page\":6,\"name\":\"\",\"page\":1,\"page_size\":10,\"pagination\":\"remote\",\"select_mode\":true,\"selectable_rows\":null,\"sizing_mode\":\"stretch_width\",\"source\":{\"id\":\"16633\"},\"styles\":{\"data\":{},\"id\":\"1f306931ccd245a89067e1d4e8d203d7\"},\"subscribed_events\":[\"cell-click\",\"table-edit\"],\"theme_url\":\"https://cdn.jsdelivr.net/npm/@holoviz/panel@0.14.3/dist/bundled/datatabulator/tabulator-tables@5.3.2/dist/css/\"},\"id\":\"16671\",\"type\":\"panel.models.tabulator.DataTabulator\"},{\"attributes\":{\"editor\":{\"id\":\"16662\"},\"field\":\"Beak Length (mm)\",\"formatter\":{\"id\":\"16661\"},\"title\":\"Beak Length (mm)\",\"width\":0},\"id\":\"16663\",\"type\":\"TableColumn\"},{\"attributes\":{\"coordinates\":null,\"group\":null,\"text_color\":\"black\",\"text_font_size\":\"12pt\"},\"id\":\"16533\",\"type\":\"Title\"},{\"attributes\":{\"factors\":[\"Adelie\"],\"tags\":[[[\"Species\",\"Species\",null]]]},\"id\":\"16522\",\"type\":\"FactorRange\"},{\"attributes\":{\"bottom_units\":\"screen\",\"coordinates\":null,\"fill_alpha\":0.5,\"fill_color\":\"lightgrey\",\"group\":null,\"left_units\":\"screen\",\"level\":\"overlay\",\"line_alpha\":1.0,\"line_color\":\"black\",\"line_dash\":[4,4],\"line_width\":2,\"right_units\":\"screen\",\"syncable\":false,\"top_units\":\"screen\"},\"id\":\"16553\",\"type\":\"BoxAnnotation\"},{\"attributes\":{\"callback\":null,\"renderers\":[{\"id\":\"16582\"},{\"id\":\"16592\"}],\"tags\":[\"hv_created\"],\"tooltips\":[[\"Species\",\"@{Species}\"],[\"Body Mass (g)\",\"@{Body_Mass_left_parenthesis_g_right_parenthesis}\"],[\"Beak Length (mm)\",\"@{Beak_Length_left_parenthesis_mm_right_parenthesis}\"],[\"Flipper Length (mm)\",\"@{Flipper_Length_left_parenthesis_mm_right_parenthesis}\"]]},\"id\":\"16528\",\"type\":\"HoverTool\"},{\"attributes\":{\"axis_label\":\"Body Mass (g)\",\"coordinates\":null,\"formatter\":{\"id\":\"16565\"},\"group\":null,\"major_label_policy\":{\"id\":\"16571\"},\"ticker\":{\"id\":\"16545\"}},\"id\":\"16544\",\"type\":\"LinearAxis\"},{\"attributes\":{},\"id\":\"16585\",\"type\":\"Selection\"},{\"attributes\":{},\"id\":\"16552\",\"type\":\"ResetTool\"},{\"attributes\":{\"indices\":[]},\"id\":\"16634\",\"type\":\"Selection\"},{\"attributes\":{\"below\":[{\"id\":\"16541\"}],\"center\":[{\"id\":\"16543\"},{\"id\":\"16547\"}],\"height\":350,\"left\":[{\"id\":\"16544\"}],\"margin\":[5,5,5,5],\"min_border_bottom\":10,\"min_border_left\":10,\"min_border_right\":10,\"min_border_top\":10,\"renderers\":[{\"id\":\"16582\"},{\"id\":\"16592\"},{\"id\":\"16602\"},{\"id\":\"16610\"}],\"sizing_mode\":\"fixed\",\"subscribed_events\":[\"selectiongeometry\",\"reset\"],\"title\":{\"id\":\"16533\"},\"toolbar\":{\"id\":\"16556\"},\"width\":900,\"x_range\":{\"id\":\"16522\"},\"x_scale\":{\"id\":\"16537\"},\"y_range\":{\"id\":\"16523\"},\"y_scale\":{\"id\":\"16539\"}},\"id\":\"16532\",\"subtype\":\"Figure\",\"type\":\"Plot\"},{\"attributes\":{\"line_alpha\":{\"value\":1.0},\"line_cap\":{\"value\":\"butt\"},\"line_color\":{\"value\":\"black\"},\"line_dash\":{\"value\":\"dotted\"},\"line_dash_offset\":{\"value\":0},\"line_join\":{\"value\":\"bevel\"},\"line_width\":{\"value\":1},\"xs\":{\"field\":\"xs\"},\"ys\":{\"field\":\"ys\"}},\"id\":\"16612\",\"type\":\"MultiLine\"},{\"attributes\":{\"fill_color\":{\"value\":\"#30a2da\"},\"hatch_color\":{\"value\":\"#30a2da\"},\"line_color\":{\"value\":\"#30a2da\"},\"size\":{\"value\":5.477225575051661},\"x\":{\"field\":\"Species\"},\"y\":{\"field\":\"Body Mass (g)\"}},\"id\":\"16589\",\"type\":\"Scatter\"},{\"attributes\":{\"fill_color\":{\"value\":\"#30a2da\"},\"hatch_color\":{\"value\":\"#30a2da\"},\"line_color\":{\"value\":\"#30a2da\"},\"size\":{\"value\":5.477225575051661},\"x\":{\"field\":\"Species\"},\"y\":{\"field\":\"Body Mass (g)\"}},\"id\":\"16588\",\"type\":\"Scatter\"},{\"attributes\":{\"line_dash\":{\"value\":\"dotted\"},\"xs\":{\"field\":\"xs\"},\"ys\":{\"field\":\"ys\"}},\"id\":\"16607\",\"type\":\"MultiLine\"},{\"attributes\":{\"fill_alpha\":{\"value\":0.08},\"fill_color\":{\"value\":\"#30a2da\"},\"hatch_alpha\":{\"value\":0.08},\"hatch_color\":{\"value\":\"#30a2da\"},\"line_alpha\":{\"value\":0.08},\"line_color\":{\"value\":\"#30a2da\"},\"size\":{\"value\":5.477225575051661},\"x\":{\"field\":\"Species\"},\"y\":{\"field\":\"Body Mass (g)\"}},\"id\":\"16579\",\"type\":\"Scatter\"},{\"attributes\":{\"format\":\"0,0.0[00000]\",\"text_align\":\"right\"},\"id\":\"16656\",\"type\":\"NumberFormatter\"},{\"attributes\":{\"source\":{\"id\":\"16604\"}},\"id\":\"16611\",\"type\":\"CDSView\"},{\"attributes\":{},\"id\":\"16548\",\"type\":\"SaveTool\"},{\"attributes\":{},\"id\":\"16545\",\"type\":\"BasicTicker\"},{\"attributes\":{\"fill_alpha\":{\"value\":0.08},\"fill_color\":{\"value\":\"#30a2da\"},\"hatch_alpha\":{\"value\":0.08},\"hatch_color\":{\"value\":\"#30a2da\"},\"line_alpha\":{\"value\":0.08},\"line_color\":{\"value\":\"#30a2da\"},\"size\":{\"value\":5.477225575051661},\"x\":{\"field\":\"Species\"},\"y\":{\"field\":\"Body Mass (g)\"}},\"id\":\"16580\",\"type\":\"Scatter\"},{\"attributes\":{\"overlay\":{\"id\":\"16554\"}},\"id\":\"16551\",\"type\":\"BoxZoomTool\"},{\"attributes\":{},\"id\":\"16539\",\"type\":\"LinearScale\"},{\"attributes\":{},\"id\":\"16690\",\"type\":\"UnionRenderers\"},{\"attributes\":{},\"id\":\"16651\",\"type\":\"StringFormatter\"},{\"attributes\":{},\"id\":\"16549\",\"type\":\"PanTool\"},{\"attributes\":{},\"id\":\"16621\",\"type\":\"UnionRenderers\"},{\"attributes\":{},\"id\":\"16652\",\"type\":\"StringEditor\"},{\"attributes\":{},\"id\":\"16537\",\"type\":\"CategoricalScale\"},{\"attributes\":{},\"id\":\"16641\",\"type\":\"StringFormatter\"},{\"attributes\":{},\"id\":\"16550\",\"type\":\"WheelZoomTool\"},{\"attributes\":{\"editor\":{\"id\":\"16642\"},\"field\":\"Island\",\"formatter\":{\"id\":\"16641\"},\"title\":\"Island\",\"width\":0},\"id\":\"16643\",\"type\":\"TableColumn\"},{\"attributes\":{\"line_alpha\":{\"value\":0.2},\"line_dash\":{\"value\":\"dotted\"},\"xs\":{\"field\":\"xs\"},\"ys\":{\"field\":\"ys\"}},\"id\":\"16609\",\"type\":\"MultiLine\"},{\"attributes\":{\"editor\":{\"id\":\"16637\"},\"field\":\"index\",\"formatter\":{\"id\":\"16635\"},\"title\":\"index\",\"width\":0},\"id\":\"16638\",\"type\":\"TableColumn\"},{\"attributes\":{\"editor\":{\"id\":\"16657\"},\"field\":\"Body Mass (g)\",\"formatter\":{\"id\":\"16656\"},\"title\":\"Body Mass (g)\",\"width\":0},\"id\":\"16658\",\"type\":\"TableColumn\"},{\"attributes\":{},\"id\":\"16568\",\"type\":\"AllLabels\"},{\"attributes\":{\"source\":{\"id\":\"16574\"}},\"id\":\"16583\",\"type\":\"CDSView\"},{\"attributes\":{\"fill_alpha\":{\"value\":0.08},\"fill_color\":{\"value\":\"#30a2da\"},\"hatch_alpha\":{\"value\":0.08},\"hatch_color\":{\"value\":\"#30a2da\"},\"line_alpha\":{\"value\":0.08},\"line_color\":{\"value\":\"#30a2da\"},\"size\":{\"value\":5.477225575051661},\"x\":{\"field\":\"Species\"},\"y\":{\"field\":\"Body Mass (g)\"}},\"id\":\"16578\",\"type\":\"Scatter\"},{\"attributes\":{\"editor\":{\"id\":\"16667\"},\"field\":\"Flipper Length (mm)\",\"formatter\":{\"id\":\"16666\"},\"title\":\"Flipper Length (mm)\",\"width\":0},\"id\":\"16668\",\"type\":\"TableColumn\"},{\"attributes\":{\"bottom_units\":\"screen\",\"coordinates\":null,\"fill_alpha\":0.5,\"fill_color\":\"lightgrey\",\"group\":null,\"left_units\":\"screen\",\"level\":\"overlay\",\"line_alpha\":1.0,\"line_color\":\"black\",\"line_dash\":[4,4],\"line_width\":2,\"right_units\":\"screen\",\"syncable\":false,\"top_units\":\"screen\"},\"id\":\"16554\",\"type\":\"BoxAnnotation\"},{\"attributes\":{\"format\":\"%d\"},\"id\":\"16565\",\"type\":\"PrintfTickFormatter\"},{\"attributes\":{\"fill_color\":{\"value\":\"#30a2da\"},\"hatch_color\":{\"value\":\"#30a2da\"},\"line_color\":{\"value\":\"#30a2da\"},\"size\":{\"value\":5.477225575051661},\"x\":{\"field\":\"Species\"},\"y\":{\"field\":\"Body Mass (g)\"}},\"id\":\"16591\",\"type\":\"Scatter\"},{\"attributes\":{\"args\":{\"other\":{\"id\":\"16526\"}},\"code\":\"other.mode = this.mode\"},\"id\":\"16530\",\"type\":\"CustomJS\"},{\"attributes\":{\"fill_color\":{\"value\":\"#1f77b4\"},\"height\":{\"field\":\"height\"},\"width\":{\"field\":\"width\"},\"x\":{\"field\":\"x\"},\"y\":{\"field\":\"y\"}},\"id\":\"16601\",\"type\":\"Rect\"},{\"attributes\":{\"fill_alpha\":{\"value\":0},\"fill_color\":{\"value\":\"#1f77b4\"},\"height\":{\"field\":\"height\"},\"width\":{\"field\":\"width\"},\"x\":{\"field\":\"x\"},\"y\":{\"field\":\"y\"}},\"id\":\"16597\",\"type\":\"Rect\"},{\"attributes\":{\"axis\":{\"id\":\"16541\"},\"coordinates\":null,\"grid_line_color\":null,\"group\":null,\"ticker\":null},\"id\":\"16543\",\"type\":\"Grid\"},{\"attributes\":{},\"id\":\"16637\",\"type\":\"CellEditor\"},{\"attributes\":{\"fill_color\":{\"value\":\"#30a2da\"},\"hatch_color\":{\"value\":\"#30a2da\"},\"line_color\":{\"value\":\"#30a2da\"},\"size\":{\"value\":5.477225575051661},\"x\":{\"field\":\"Species\"},\"y\":{\"field\":\"Body Mass (g)\"}},\"id\":\"16587\",\"type\":\"Scatter\"},{\"attributes\":{\"line_alpha\":{\"value\":0.1},\"line_dash\":{\"value\":\"dotted\"},\"xs\":{\"field\":\"xs\"},\"ys\":{\"field\":\"ys\"}},\"id\":\"16608\",\"type\":\"MultiLine\"},{\"attributes\":{\"source\":{\"id\":\"16594\"}},\"id\":\"16603\",\"type\":\"CDSView\"},{\"attributes\":{\"source\":{\"id\":\"16584\"}},\"id\":\"16593\",\"type\":\"CDSView\"},{\"attributes\":{},\"id\":\"16642\",\"type\":\"StringEditor\"},{\"attributes\":{\"coordinates\":null,\"data_source\":{\"id\":\"16584\"},\"glyph\":{\"id\":\"16587\"},\"group\":null,\"hover_glyph\":{\"id\":\"16590\"},\"muted_glyph\":{\"id\":\"16591\"},\"nonselection_glyph\":{\"id\":\"16588\"},\"selection_glyph\":{\"id\":\"16589\"},\"view\":{\"id\":\"16593\"}},\"id\":\"16592\",\"type\":\"GlyphRenderer\"},{\"attributes\":{},\"id\":\"16667\",\"type\":\"NumberEditor\"},{\"attributes\":{},\"id\":\"16571\",\"type\":\"AllLabels\"},{\"attributes\":{\"editor\":{\"id\":\"16652\"},\"field\":\"Sex\",\"formatter\":{\"id\":\"16651\"},\"title\":\"Sex\",\"width\":0},\"id\":\"16653\",\"type\":\"TableColumn\"},{\"attributes\":{},\"id\":\"16567\",\"type\":\"CategoricalTickFormatter\"},{\"attributes\":{},\"id\":\"16542\",\"type\":\"CategoricalTicker\"},{\"attributes\":{\"active_drag\":{\"id\":\"16526\"},\"tools\":[{\"id\":\"16526\"},{\"id\":\"16527\"},{\"id\":\"16528\"},{\"id\":\"16548\"},{\"id\":\"16549\"},{\"id\":\"16550\"},{\"id\":\"16551\"},{\"id\":\"16552\"}]},\"id\":\"16556\",\"type\":\"Toolbar\"},{\"attributes\":{\"data\":{\"xs\":[],\"ys\":[]},\"selected\":{\"id\":\"16605\"},\"selection_policy\":{\"id\":\"16627\"}},\"id\":\"16604\",\"type\":\"ColumnDataSource\"}],\"root_ids\":[\"16519\",\"16730\"]},\"title\":\"Bokeh Application\",\"version\":\"2.4.3\"}};\n",
       "    var render_items = [{\"docid\":\"7a7f406b-0400-42ca-ac59-dba0637e8b94\",\"root_ids\":[\"16519\"],\"roots\":{\"16519\":\"03b49047-9f10-4e39-8858-a75a06561f5d\"}}];\n",
       "    root.Bokeh.embed.embed_items_notebook(docs_json, render_items);\n",
       "    for (const render_item of render_items) {\n",
       "      for (const root_id of render_item.root_ids) {\n",
       "\tconst id_el = document.getElementById(root_id)\n",
       "\tif (id_el.children.length && (id_el.children[0].className === 'bk-root')) {\n",
       "\t  const root_el = id_el.children[0]\n",
       "\t  root_el.id = root_el.id + '-rendered'\n",
       "\t}\n",
       "      }\n",
       "    }\n",
       "  }\n",
       "  if (root.Bokeh !== undefined && root.Bokeh.Panel !== undefined && ( root['Tabulator'] !== undefined) && ( root['Tabulator'] !== undefined) && ( root['Tabulator'] !== undefined) && ( root['Tabulator'] !== undefined) && ( root['Tabulator'] !== undefined) && ( root['Tabulator'] !== undefined) && ( root['Tabulator'] !== undefined) && ( root['Tabulator'] !== undefined) && ( root['Tabulator'] !== undefined) && ( root['Tabulator'] !== undefined) && ( root['Tabulator'] !== undefined) && ( root['Tabulator'] !== undefined) && ( root['Tabulator'] !== undefined) && ( root['Tabulator'] !== undefined) && ( root['Tabulator'] !== undefined) && ( root['Tabulator'] !== undefined) && ( root['Tabulator'] !== undefined) && ( root['Tabulator'] !== undefined) && ( root['Tabulator'] !== undefined) && ( root['Tabulator'] !== undefined) && ( root['Tabulator'] !== undefined) && ( root['Tabulator'] !== undefined) && ( root['Tabulator'] !== undefined) && ( root['Tabulator'] !== undefined) && ( root['Tabulator'] !== undefined) && ( root['Tabulator'] !== undefined) && ( root['Tabulator'] !== undefined) && ( root['Tabulator'] !== undefined) && ( root['Tabulator'] !== undefined) && ( root['Tabulator'] !== undefined) && ( root['Tabulator'] !== undefined) && ( root['Tabulator'] !== undefined)) {\n",
       "    embed_document(root);\n",
       "  } else {\n",
       "    var attempts = 0;\n",
       "    var timer = setInterval(function(root) {\n",
       "      if (root.Bokeh !== undefined && root.Bokeh.Panel !== undefined && (root['Tabulator'] !== undefined) && (root['Tabulator'] !== undefined) && (root['Tabulator'] !== undefined) && (root['Tabulator'] !== undefined) && (root['Tabulator'] !== undefined) && (root['Tabulator'] !== undefined) && (root['Tabulator'] !== undefined) && (root['Tabulator'] !== undefined) && (root['Tabulator'] !== undefined) && (root['Tabulator'] !== undefined) && (root['Tabulator'] !== undefined) && (root['Tabulator'] !== undefined) && (root['Tabulator'] !== undefined) && (root['Tabulator'] !== undefined) && (root['Tabulator'] !== undefined) && (root['Tabulator'] !== undefined) && (root['Tabulator'] !== undefined) && (root['Tabulator'] !== undefined) && (root['Tabulator'] !== undefined) && (root['Tabulator'] !== undefined) && (root['Tabulator'] !== undefined) && (root['Tabulator'] !== undefined) && (root['Tabulator'] !== undefined) && (root['Tabulator'] !== undefined) && (root['Tabulator'] !== undefined) && (root['Tabulator'] !== undefined) && (root['Tabulator'] !== undefined) && (root['Tabulator'] !== undefined) && (root['Tabulator'] !== undefined) && (root['Tabulator'] !== undefined) && (root['Tabulator'] !== undefined) && (root['Tabulator'] !== undefined)) {\n",
       "        clearInterval(timer);\n",
       "        embed_document(root);\n",
       "      } else if (document.readyState == \"complete\") {\n",
       "        attempts++;\n",
       "        if (attempts > 200) {\n",
       "          clearInterval(timer);\n",
       "          console.log(\"Bokeh: ERROR: Unable to run BokehJS code because BokehJS library is missing\");\n",
       "        }\n",
       "      }\n",
       "    }, 25, root)\n",
       "  }\n",
       "})(window);</script>"
      ],
      "text/plain": [
       "Column(sizing_mode='stretch_width')\n",
       "    [0] Column(sizing_mode='stretch_width')\n",
       "        [0] Select(name='Island', options=['Torgersen', ...], sizing_mode='stretch_width', value='Torgersen')\n",
       "    [1] HoloViews(DynamicMap, height=350, sizing_mode='fixed', width=900)\n",
       "    [2] ParamFunction(function, _pane=Tabulator, sizing_mode='stretch_width')"
      ]
     },
     "execution_count": 75,
     "metadata": {
      "application/vnd.holoviews_exec.v0+json": {
       "id": "16519"
      }
     },
     "output_type": "execute_result"
    }
   ],
   "source": [
    "\n",
    "import pandas as pd\n",
    "import panel as pn\n",
    "import holoviews as hv\n",
    "pn.extension('tabulator', template='material', sizing_mode='stretch_width')\n",
    "import hvplot.pandas # noqa\n",
    "pd.options.display.float_format = '{:.0f}'.format\n",
    "\n",
    "penguins_url = \"https://raw.githubusercontent.com/vega/vega/master/docs/data/penguins.json\"\n",
    "penguins_df = pd.read_json(penguins_url)\n",
    "penguins_df.head()\n",
    "\n",
    "island_dropdown = pn.widgets.Select(name='Island',\n",
    "                                     options=penguins_df.Island.unique().tolist(),\n",
    "                                     value=penguins_df.Island.unique().tolist()[0])\n",
    "\n",
    "\n",
    "penguins_dfi =  penguins_df.interactive(sizing_mode='stretch_width')\n",
    "penguins_dfi = penguins_dfi[(penguins_dfi['Island'] == island_dropdown)]\n",
    "# # points plot\n",
    "points_plot = penguins_dfi.hvplot(x='Species',\n",
    "                                      y='Body Mass (g)',\n",
    "                                      kind='points',\n",
    "                                      height=350, \n",
    "                                      width=900,\n",
    "                                      persist=True,\n",
    "                                      hover_cols=['Body Mass (g)','Beak Length (mm)', 'Flipper Length (mm)'],\n",
    "                                      yformatter='%d')\n",
    "\n",
    "ls_common = hv.link_selections.instance(unselected_alpha=0.08)\n",
    "\n",
    "# # Table is not yet dynamically linked to the linked selection\n",
    "table = penguins_dfi[['Island', 'Species', 'Sex', 'Body Mass (g)','Beak Length (mm)', 'Flipper Length (mm)']].pipe(ls_common.filter, selection_expr=ls_common.param.selection_expr).pipe(\n",
    "    pn.widgets.Tabulator, pagination='remote', page_size=10)\n",
    "\n",
    "column = pn.Column(penguins_dfi.widgets(),\n",
    "                   ls_common(points_plot.holoviews()).opts(hv.opts.Points(active_tools=['box_select'])),\n",
    "                   ls_common(table.panel()))\n",
    "column"
   ]
  }
 ],
 "metadata": {
  "kernelspec": {
   "display_name": "Python 3 (ipykernel)",
   "language": "python",
   "name": "python3"
  },
  "language_info": {
   "codemirror_mode": {
    "name": "ipython",
    "version": 3
   },
   "file_extension": ".py",
   "mimetype": "text/x-python",
   "name": "python",
   "nbconvert_exporter": "python",
   "pygments_lexer": "ipython3",
   "version": "3.10.9"
  }
 },
 "nbformat": 4,
 "nbformat_minor": 5
}
