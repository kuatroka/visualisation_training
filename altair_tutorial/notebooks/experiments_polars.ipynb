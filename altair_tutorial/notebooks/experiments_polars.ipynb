{
 "cells": [
  {
   "cell_type": "code",
   "execution_count": 21,
   "id": "0762cd43-a2cb-4073-8bbb-2b472b93ce0d",
   "metadata": {
    "execution": {
     "iopub.execute_input": "2023-01-06T23:18:31.871785Z",
     "iopub.status.busy": "2023-01-06T23:18:31.871785Z",
     "iopub.status.idle": "2023-01-06T23:18:31.886133Z",
     "shell.execute_reply": "2023-01-06T23:18:31.886133Z",
     "shell.execute_reply.started": "2023-01-06T23:18:31.871785Z"
    },
    "tags": []
   },
   "outputs": [],
   "source": [
    "from pathlib import Path\n",
    "import pandas as pd\n",
    "import numpy as np\n",
    "import polars as pl\n",
    "import duckdb\n",
    "import os\n",
    "import pandera as pa\n",
    "import io\n",
    "\n",
    "FROM_EXPERIMENT_CSV_IN = Path(r\"E:\\app_data\\dropbox_13f_files\\processed_tables\\TR_02_EXP_SELECT_CIK_CSV\")\n",
    "TO_EXPERIMENT_PARQUET = Path(r\"E:\\app_data\\dropbox_13f_files\\processed_tables\\TR_03_EXP_SELECT_CIK_PARQUET\")"
   ]
  },
  {
   "cell_type": "code",
   "execution_count": 104,
   "id": "99b5d62e-9730-486c-b09d-897676692514",
   "metadata": {
    "execution": {
     "iopub.execute_input": "2023-01-07T00:46:29.055487Z",
     "iopub.status.busy": "2023-01-07T00:46:29.054488Z",
     "iopub.status.idle": "2023-01-07T00:46:29.100292Z",
     "shell.execute_reply": "2023-01-07T00:46:29.100292Z",
     "shell.execute_reply.started": "2023-01-07T00:46:29.054488Z"
    },
    "tags": []
   },
   "outputs": [],
   "source": [
    "\n",
    "columns = ['cik', 'cusip8', 'cusip9','rdate', 'fdate','value', 'shares',\\\n",
    "           'address', 'form', 'shrsOrPrnAmt', 'putCall', 'nameOfIssuer', 'titleOfClass', 'type', 'dsource']\n",
    "\n",
    "dtypes = {'cusip8': str, 'cusip9': str , 'titleOfClass': str, 'form': str,\n",
    "          'putCall': str, 'shrsOrPrnAmt': str, 'value': float, 'shares': float, \n",
    "          'nameOfIssuer': str, 'cik' : pl.Int64, 'address': str, 'type': str,'num5': str,\n",
    "          'deviation':str, 'shrout':str,'num3': str,'num2': str, 'num6':str,'num7': str,'num4': str,\n",
    "           'votingAuthority': str, 'in_universe': str,'prc': str, 'split': str,\n",
    "           'investmentDiscretion': str, 'rdate': str, 'fdate': str, 'dsource': str}\n",
    "\n",
    "pd_dtypes = {'cusip8': str, 'cusip9': str , 'titleOfClass': str, 'form': 'category', 'putCall': 'category',\n",
    "           'shrsOrPrnAmt': 'category', 'value': 'Int64', 'shares': 'Int64', 'type': 'category', 'nameOfIssuer': str,\n",
    "           'cik' : 'int64', 'address': 'category',  'dsource': 'category'}\n",
    "\n",
    "file = list(FROM_EXPERIMENT_CSV_IN.rglob(r\"*0000036104-03-000131.csv\"))[0]\n",
    "\n",
    "for file in FROM_EXPERIMENT_CSV_IN.rglob(\"*0000036104-03-000131.csv\"):\n",
    "    schema = pl.scan_csv(file).schema\n",
    "    read_cols = list(set(schema.keys()).intersection(columns))\n",
    "    df = pl.read_csv(file, columns=read_cols, dtypes=dtypes)\n",
    "    for col in columns:\n",
    "        if col not in df.columns:\n",
    "            df = df.with_column(pl.lit(None, dtype=dtypes[col]).alias(col))\n",
    "    # df = df.select(columns)\n",
    "    df = df.with_columns([pl.col(\"rdate\").str.strptime(pl.Date, fmt=\"%Y%m%d\"),\n",
    "                        pl.col(\"fdate\").str.strptime(pl.Date, fmt=\"%Y%m%d\"),\n",
    "                        pl.col(\"cusip8\").str.to_uppercase(),\n",
    "                        pl.col(\"cusip9\").str.to_uppercase(),\n",
    "                        pl.lit('dropbox').alias('dsource')]).select(columns)\n",
    "\n",
    "df = df.to_pandas().astype(pd_dtypes)\n"
   ]
  },
  {
   "cell_type": "code",
   "execution_count": 97,
   "id": "99b0d0da-b540-4ec7-81d1-0f4a28c68e15",
   "metadata": {
    "execution": {
     "iopub.execute_input": "2023-01-07T00:20:41.639274Z",
     "iopub.status.busy": "2023-01-07T00:20:41.639274Z",
     "iopub.status.idle": "2023-01-07T00:20:41.652569Z",
     "shell.execute_reply": "2023-01-07T00:20:41.651579Z",
     "shell.execute_reply.started": "2023-01-07T00:20:41.639274Z"
    },
    "tags": []
   },
   "outputs": [],
   "source": [
    "# df.info()"
   ]
  },
  {
   "cell_type": "code",
   "execution_count": 111,
   "id": "4222cfa0-851f-4f89-9d43-663fda4fc6a5",
   "metadata": {
    "execution": {
     "iopub.execute_input": "2023-01-07T00:50:46.721685Z",
     "iopub.status.busy": "2023-01-07T00:50:46.721685Z",
     "iopub.status.idle": "2023-01-07T00:50:46.742102Z",
     "shell.execute_reply": "2023-01-07T00:50:46.741102Z",
     "shell.execute_reply.started": "2023-01-07T00:50:46.721685Z"
    },
    "tags": []
   },
   "outputs": [
    {
     "data": {
      "text/html": [
       "<div>\n",
       "<style scoped>\n",
       "    .dataframe tbody tr th:only-of-type {\n",
       "        vertical-align: middle;\n",
       "    }\n",
       "\n",
       "    .dataframe tbody tr th {\n",
       "        vertical-align: top;\n",
       "    }\n",
       "\n",
       "    .dataframe thead th {\n",
       "        text-align: right;\n",
       "    }\n",
       "</style>\n",
       "<table border=\"1\" class=\"dataframe\">\n",
       "  <thead>\n",
       "    <tr style=\"text-align: right;\">\n",
       "      <th></th>\n",
       "      <th>cik</th>\n",
       "      <th>cusip8</th>\n",
       "      <th>cusip9</th>\n",
       "      <th>rdate</th>\n",
       "      <th>fdate</th>\n",
       "      <th>value</th>\n",
       "      <th>shares</th>\n",
       "      <th>address</th>\n",
       "      <th>form</th>\n",
       "      <th>shrsOrPrnAmt</th>\n",
       "      <th>putCall</th>\n",
       "      <th>nameOfIssuer</th>\n",
       "      <th>titleOfClass</th>\n",
       "      <th>type</th>\n",
       "      <th>dsource</th>\n",
       "    </tr>\n",
       "  </thead>\n",
       "  <tbody>\n",
       "    <tr>\n",
       "      <th>24</th>\n",
       "      <td>36104</td>\n",
       "      <td>1850000000000</td>\n",
       "      <td>1.85E+108</td>\n",
       "      <td>2003-09-30</td>\n",
       "      <td>2003-11-14</td>\n",
       "      <td>8</td>\n",
       "      <td>3000</td>\n",
       "      <td>36104/0000036104-03-000131.txt</td>\n",
       "      <td>13F-HR</td>\n",
       "      <td>NaN</td>\n",
       "      <td>NaN</td>\n",
       "      <td>None</td>\n",
       "      <td>None</td>\n",
       "      <td>fwf</td>\n",
       "      <td>dropbox</td>\n",
       "    </tr>\n",
       "    <tr>\n",
       "      <th>80</th>\n",
       "      <td>36104</td>\n",
       "      <td>7610000000000</td>\n",
       "      <td>7.61E+110</td>\n",
       "      <td>2003-09-30</td>\n",
       "      <td>2003-11-14</td>\n",
       "      <td>1</td>\n",
       "      <td>100</td>\n",
       "      <td>36104/0000036104-03-000131.txt</td>\n",
       "      <td>13F-HR</td>\n",
       "      <td>NaN</td>\n",
       "      <td>NaN</td>\n",
       "      <td>None</td>\n",
       "      <td>None</td>\n",
       "      <td>fwf</td>\n",
       "      <td>dropbox</td>\n",
       "    </tr>\n",
       "  </tbody>\n",
       "</table>\n",
       "</div>"
      ],
      "text/plain": [
       "      cik         cusip8     cusip9      rdate      fdate  value  shares  \\\n",
       "24  36104  1850000000000  1.85E+108 2003-09-30 2003-11-14      8    3000   \n",
       "80  36104  7610000000000  7.61E+110 2003-09-30 2003-11-14      1     100   \n",
       "\n",
       "                           address    form shrsOrPrnAmt putCall nameOfIssuer  \\\n",
       "24  36104/0000036104-03-000131.txt  13F-HR          NaN     NaN         None   \n",
       "80  36104/0000036104-03-000131.txt  13F-HR          NaN     NaN         None   \n",
       "\n",
       "   titleOfClass type  dsource  \n",
       "24         None  fwf  dropbox  \n",
       "80         None  fwf  dropbox  "
      ]
     },
     "execution_count": 111,
     "metadata": {},
     "output_type": "execute_result"
    }
   ],
   "source": [
    "df.query('index.isin([24, 80])').head(7)\n",
    "\n",
    "# 0     26       1957109\n",
    "# 1    183     718154107\n",
    "# 2   1369     297659104\n",
    "# 3   4145     362320103\n",
    "# 4   4358      16962105\n",
    "# 5   4373      67543101\n",
    "# 6   4383      90078109"
   ]
  },
  {
   "cell_type": "code",
   "execution_count": 99,
   "id": "b03ffa5f-5b51-42a0-bd2e-f1ea34e014a2",
   "metadata": {
    "execution": {
     "iopub.execute_input": "2023-01-07T00:20:44.245032Z",
     "iopub.status.busy": "2023-01-07T00:20:44.245032Z",
     "iopub.status.idle": "2023-01-07T00:20:44.259389Z",
     "shell.execute_reply": "2023-01-07T00:20:44.259389Z",
     "shell.execute_reply.started": "2023-01-07T00:20:44.245032Z"
    },
    "tags": []
   },
   "outputs": [],
   "source": [
    "\n",
    "basic_types_schema = pa.DataFrameSchema({\n",
    "    \"cik\": pa.Column('int64'),\n",
    "    \"cusip8\": pa.Column(str),\n",
    "    \"cusip9\": pa.Column(str),\n",
    "    \"rdate\": pa.Column(\"datetime64\"),\n",
    "    \"fdate\": pa.Column(\"datetime64\"),\n",
    "    \"value\": pa.Column(\"int64\")\n",
    "    \n",
    "    \n",
    "    })"
   ]
  },
  {
   "cell_type": "code",
   "execution_count": null,
   "id": "5db972ac-f0d2-45c0-a680-2048812d63ce",
   "metadata": {
    "tags": []
   },
   "outputs": [],
   "source": [
    "basic_types_schema.validate(df[columns])"
   ]
  },
  {
   "cell_type": "code",
   "execution_count": 76,
   "id": "ca6a494e-ccff-4058-b45a-e558538a18d2",
   "metadata": {
    "execution": {
     "iopub.execute_input": "2023-01-06T23:50:35.207752Z",
     "iopub.status.busy": "2023-01-06T23:50:35.207752Z",
     "iopub.status.idle": "2023-01-06T23:50:35.212728Z",
     "shell.execute_reply": "2023-01-06T23:50:35.211725Z",
     "shell.execute_reply.started": "2023-01-06T23:50:35.207752Z"
    },
    "tags": []
   },
   "outputs": [],
   "source": [
    "bad_types_schema = pa.DataFrameSchema({\n",
    "    \"cik\": pa.Column('Int64'),\n",
    "    \"fdate\": pa.Column(\"datetime64\"),\n",
    "    })\n",
    "\n"
   ]
  },
  {
   "cell_type": "code",
   "execution_count": null,
   "id": "487e1862-bb59-45c0-b526-57b8d9bd1c77",
   "metadata": {
    "tags": []
   },
   "outputs": [],
   "source": [
    "bad_types_schema.validate(df[columns])"
   ]
  },
  {
   "cell_type": "code",
   "execution_count": 118,
   "id": "c1b63469-5729-4100-ae28-ab9da1293a41",
   "metadata": {
    "execution": {
     "iopub.execute_input": "2023-01-07T01:01:29.643852Z",
     "iopub.status.busy": "2023-01-07T01:01:29.643852Z",
     "iopub.status.idle": "2023-01-07T01:01:29.793669Z",
     "shell.execute_reply": "2023-01-07T01:01:29.792655Z",
     "shell.execute_reply.started": "2023-01-07T01:01:29.643852Z"
    },
    "tags": []
   },
   "outputs": [
    {
     "ename": "SchemaError",
     "evalue": "<Schema Column(name=cusip8, type=DataType(str))> failed element-wise validator 0:\n<Check <lambda>>\nfailure cases:\n    index     failure_case\n0      24    1850000000000\n1      80    7610000000000\n2     149       1.853E+023\n3     204   25530000000000\n4     212   26860000000000\n..    ...              ...\n68   4013  903330000000000\n69   4073  913590000000000\n70   4142  923430000000000\n71   4194  929250000000000\n72   4263      9.5988E+024\n\n[73 rows x 2 columns]",
     "output_type": "error",
     "traceback": [
      "\u001b[1;31m---------------------------------------------------------------------------\u001b[0m",
      "\u001b[1;31mSchemaError\u001b[0m                               Traceback (most recent call last)",
      "Cell \u001b[1;32mIn[118], line 16\u001b[0m\n\u001b[0;32m      1\u001b[0m \u001b[38;5;66;03m# Pandera also allows validating value ranges for numerical columns\u001b[39;00m\n\u001b[0;32m      2\u001b[0m \u001b[38;5;66;03m# value_range_schema = pa.DataFrameSchema({\u001b[39;00m\n\u001b[0;32m      3\u001b[0m \u001b[38;5;66;03m#     \"LotArea\": pa.Column(int, pa.Check(lambda s: s <= 1000000), nullable=False),\u001b[39;00m\n\u001b[0;32m      4\u001b[0m \u001b[38;5;66;03m#     \"YearBuilt\": pa.Column(int, pa.Check.in_range(1800, 2022)),\u001b[39;00m\n\u001b[0;32m      5\u001b[0m \u001b[38;5;66;03m# })\u001b[39;00m\n\u001b[0;32m      7\u001b[0m value_range_schema \u001b[38;5;241m=\u001b[39m pa\u001b[38;5;241m.\u001b[39mDataFrameSchema({\n\u001b[0;32m      8\u001b[0m     \u001b[38;5;124m\"\u001b[39m\u001b[38;5;124mcik\u001b[39m\u001b[38;5;124m\"\u001b[39m: pa\u001b[38;5;241m.\u001b[39mColumn(\u001b[38;5;124m'\u001b[39m\u001b[38;5;124mint64\u001b[39m\u001b[38;5;124m'\u001b[39m),\n\u001b[0;32m      9\u001b[0m     \u001b[38;5;124m\"\u001b[39m\u001b[38;5;124mcusip8\u001b[39m\u001b[38;5;124m\"\u001b[39m: pa\u001b[38;5;241m.\u001b[39mColumn(\u001b[38;5;28mstr\u001b[39m, pa\u001b[38;5;241m.\u001b[39mCheck(\u001b[38;5;28;01mlambda\u001b[39;00m s: s\u001b[38;5;241m.\u001b[39mstr\u001b[38;5;241m.\u001b[39mlen() \u001b[38;5;241m<\u001b[39m\u001b[38;5;241m=\u001b[39m \u001b[38;5;241m9\u001b[39m)),\n\u001b[1;32m   (...)\u001b[0m\n\u001b[0;32m     14\u001b[0m     \u001b[38;5;124m\"\u001b[39m\u001b[38;5;124mvalue\u001b[39m\u001b[38;5;124m\"\u001b[39m: pa\u001b[38;5;241m.\u001b[39mColumn(\u001b[38;5;124m\"\u001b[39m\u001b[38;5;124mint64\u001b[39m\u001b[38;5;124m\"\u001b[39m, pa\u001b[38;5;241m.\u001b[39mCheck(\u001b[38;5;28;01mlambda\u001b[39;00m s: s \u001b[38;5;241m<\u001b[39m\u001b[38;5;241m=\u001b[39m \u001b[38;5;241m1000000\u001b[39m), nullable\u001b[38;5;241m=\u001b[39m\u001b[38;5;28;01mFalse\u001b[39;00m)\n\u001b[0;32m     15\u001b[0m                         })\n\u001b[1;32m---> 16\u001b[0m \u001b[43mvalue_range_schema\u001b[49m\u001b[38;5;241;43m.\u001b[39;49m\u001b[43mvalidate\u001b[49m\u001b[43m(\u001b[49m\u001b[43mdf\u001b[49m\u001b[43m[\u001b[49m\u001b[43mcolumns\u001b[49m\u001b[43m]\u001b[49m\u001b[43m)\u001b[49m\n",
      "File \u001b[1;32mC:\\Python39\\lib\\site-packages\\pandera\\schemas.py:534\u001b[0m, in \u001b[0;36mDataFrameSchema.validate\u001b[1;34m(self, check_obj, head, tail, sample, random_state, lazy, inplace)\u001b[0m\n\u001b[0;32m    521\u001b[0m     check_obj \u001b[38;5;241m=\u001b[39m check_obj\u001b[38;5;241m.\u001b[39mmap_partitions(\n\u001b[0;32m    522\u001b[0m         \u001b[38;5;28mself\u001b[39m\u001b[38;5;241m.\u001b[39m_validate,\n\u001b[0;32m    523\u001b[0m         head\u001b[38;5;241m=\u001b[39mhead,\n\u001b[1;32m   (...)\u001b[0m\n\u001b[0;32m    529\u001b[0m         meta\u001b[38;5;241m=\u001b[39mcheck_obj,\n\u001b[0;32m    530\u001b[0m     )\n\u001b[0;32m    532\u001b[0m     \u001b[38;5;28;01mreturn\u001b[39;00m check_obj\u001b[38;5;241m.\u001b[39mpandera\u001b[38;5;241m.\u001b[39madd_schema(\u001b[38;5;28mself\u001b[39m)\n\u001b[1;32m--> 534\u001b[0m \u001b[38;5;28;01mreturn\u001b[39;00m \u001b[38;5;28;43mself\u001b[39;49m\u001b[38;5;241;43m.\u001b[39;49m\u001b[43m_validate\u001b[49m\u001b[43m(\u001b[49m\n\u001b[0;32m    535\u001b[0m \u001b[43m    \u001b[49m\u001b[43mcheck_obj\u001b[49m\u001b[38;5;241;43m=\u001b[39;49m\u001b[43mcheck_obj\u001b[49m\u001b[43m,\u001b[49m\n\u001b[0;32m    536\u001b[0m \u001b[43m    \u001b[49m\u001b[43mhead\u001b[49m\u001b[38;5;241;43m=\u001b[39;49m\u001b[43mhead\u001b[49m\u001b[43m,\u001b[49m\n\u001b[0;32m    537\u001b[0m \u001b[43m    \u001b[49m\u001b[43mtail\u001b[49m\u001b[38;5;241;43m=\u001b[39;49m\u001b[43mtail\u001b[49m\u001b[43m,\u001b[49m\n\u001b[0;32m    538\u001b[0m \u001b[43m    \u001b[49m\u001b[43msample\u001b[49m\u001b[38;5;241;43m=\u001b[39;49m\u001b[43msample\u001b[49m\u001b[43m,\u001b[49m\n\u001b[0;32m    539\u001b[0m \u001b[43m    \u001b[49m\u001b[43mrandom_state\u001b[49m\u001b[38;5;241;43m=\u001b[39;49m\u001b[43mrandom_state\u001b[49m\u001b[43m,\u001b[49m\n\u001b[0;32m    540\u001b[0m \u001b[43m    \u001b[49m\u001b[43mlazy\u001b[49m\u001b[38;5;241;43m=\u001b[39;49m\u001b[43mlazy\u001b[49m\u001b[43m,\u001b[49m\n\u001b[0;32m    541\u001b[0m \u001b[43m    \u001b[49m\u001b[43minplace\u001b[49m\u001b[38;5;241;43m=\u001b[39;49m\u001b[43minplace\u001b[49m\u001b[43m,\u001b[49m\n\u001b[0;32m    542\u001b[0m \u001b[43m\u001b[49m\u001b[43m)\u001b[49m\n",
      "File \u001b[1;32mC:\\Python39\\lib\\site-packages\\pandera\\schemas.py:732\u001b[0m, in \u001b[0;36mDataFrameSchema._validate\u001b[1;34m(self, check_obj, head, tail, sample, random_state, lazy, inplace)\u001b[0m\n\u001b[0;32m    730\u001b[0m     check_results\u001b[38;5;241m.\u001b[39mappend(check_utils\u001b[38;5;241m.\u001b[39mis_table(result))\n\u001b[0;32m    731\u001b[0m \u001b[38;5;28;01mexcept\u001b[39;00m errors\u001b[38;5;241m.\u001b[39mSchemaError \u001b[38;5;28;01mas\u001b[39;00m err:\n\u001b[1;32m--> 732\u001b[0m     \u001b[43merror_handler\u001b[49m\u001b[38;5;241;43m.\u001b[39;49m\u001b[43mcollect_error\u001b[49m\u001b[43m(\u001b[49m\u001b[38;5;124;43m\"\u001b[39;49m\u001b[38;5;124;43mschema_component_check\u001b[39;49m\u001b[38;5;124;43m\"\u001b[39;49m\u001b[43m,\u001b[49m\u001b[43m \u001b[49m\u001b[43merr\u001b[49m\u001b[43m)\u001b[49m\n\u001b[0;32m    733\u001b[0m \u001b[38;5;28;01mexcept\u001b[39;00m errors\u001b[38;5;241m.\u001b[39mSchemaErrors \u001b[38;5;28;01mas\u001b[39;00m err:\n\u001b[0;32m    734\u001b[0m     \u001b[38;5;28;01mfor\u001b[39;00m schema_error_dict \u001b[38;5;129;01min\u001b[39;00m err\u001b[38;5;241m.\u001b[39mschema_errors:\n",
      "File \u001b[1;32mC:\\Python39\\lib\\site-packages\\pandera\\error_handlers.py:32\u001b[0m, in \u001b[0;36mSchemaErrorHandler.collect_error\u001b[1;34m(self, reason_code, schema_error, original_exc)\u001b[0m\n\u001b[0;32m     26\u001b[0m \u001b[38;5;124;03m\"\"\"Collect schema error, raising exception if lazy is False.\u001b[39;00m\n\u001b[0;32m     27\u001b[0m \n\u001b[0;32m     28\u001b[0m \u001b[38;5;124;03m:param reason_code: string representing reason for error\u001b[39;00m\n\u001b[0;32m     29\u001b[0m \u001b[38;5;124;03m:param schema_error: ``SchemaError`` object.\u001b[39;00m\n\u001b[0;32m     30\u001b[0m \u001b[38;5;124;03m\"\"\"\u001b[39;00m\n\u001b[0;32m     31\u001b[0m \u001b[38;5;28;01mif\u001b[39;00m \u001b[38;5;129;01mnot\u001b[39;00m \u001b[38;5;28mself\u001b[39m\u001b[38;5;241m.\u001b[39m_lazy:\n\u001b[1;32m---> 32\u001b[0m     \u001b[38;5;28;01mraise\u001b[39;00m schema_error \u001b[38;5;28;01mfrom\u001b[39;00m \u001b[38;5;21;01moriginal_exc\u001b[39;00m\n\u001b[0;32m     34\u001b[0m \u001b[38;5;66;03m# delete data of validated object from SchemaError object to prevent\u001b[39;00m\n\u001b[0;32m     35\u001b[0m \u001b[38;5;66;03m# storing copies of the validated DataFrame/Series for every\u001b[39;00m\n\u001b[0;32m     36\u001b[0m \u001b[38;5;66;03m# SchemaError collected.\u001b[39;00m\n\u001b[0;32m     37\u001b[0m \u001b[38;5;28;01mdel\u001b[39;00m schema_error\u001b[38;5;241m.\u001b[39mdata\n",
      "File \u001b[1;32mC:\\Python39\\lib\\site-packages\\pandera\\schemas.py:724\u001b[0m, in \u001b[0;36mDataFrameSchema._validate\u001b[1;34m(self, check_obj, head, tail, sample, random_state, lazy, inplace)\u001b[0m\n\u001b[0;32m    722\u001b[0m \u001b[38;5;28;01mfor\u001b[39;00m schema_component \u001b[38;5;129;01min\u001b[39;00m schema_components:\n\u001b[0;32m    723\u001b[0m     \u001b[38;5;28;01mtry\u001b[39;00m:\n\u001b[1;32m--> 724\u001b[0m         result \u001b[38;5;241m=\u001b[39m \u001b[43mschema_component\u001b[49m\u001b[43m(\u001b[49m\n\u001b[0;32m    725\u001b[0m \u001b[43m            \u001b[49m\u001b[43mdf_to_validate\u001b[49m\u001b[43m,\u001b[49m\n\u001b[0;32m    726\u001b[0m \u001b[43m            \u001b[49m\u001b[43mlazy\u001b[49m\u001b[38;5;241;43m=\u001b[39;49m\u001b[43mlazy\u001b[49m\u001b[43m,\u001b[49m\n\u001b[0;32m    727\u001b[0m \u001b[43m            \u001b[49m\u001b[38;5;66;43;03m# don't make a copy of the data\u001b[39;49;00m\n\u001b[0;32m    728\u001b[0m \u001b[43m            \u001b[49m\u001b[43minplace\u001b[49m\u001b[38;5;241;43m=\u001b[39;49m\u001b[38;5;28;43;01mTrue\u001b[39;49;00m\u001b[43m,\u001b[49m\n\u001b[0;32m    729\u001b[0m \u001b[43m        \u001b[49m\u001b[43m)\u001b[49m\n\u001b[0;32m    730\u001b[0m         check_results\u001b[38;5;241m.\u001b[39mappend(check_utils\u001b[38;5;241m.\u001b[39mis_table(result))\n\u001b[0;32m    731\u001b[0m     \u001b[38;5;28;01mexcept\u001b[39;00m errors\u001b[38;5;241m.\u001b[39mSchemaError \u001b[38;5;28;01mas\u001b[39;00m err:\n",
      "File \u001b[1;32mC:\\Python39\\lib\\site-packages\\pandera\\schemas.py:2138\u001b[0m, in \u001b[0;36mSeriesSchemaBase.__call__\u001b[1;34m(self, check_obj, head, tail, sample, random_state, lazy, inplace)\u001b[0m\n\u001b[0;32m   2127\u001b[0m \u001b[38;5;28;01mdef\u001b[39;00m \u001b[38;5;21m__call__\u001b[39m(\n\u001b[0;32m   2128\u001b[0m     \u001b[38;5;28mself\u001b[39m,\n\u001b[0;32m   2129\u001b[0m     check_obj: Union[pd\u001b[38;5;241m.\u001b[39mDataFrame, pd\u001b[38;5;241m.\u001b[39mSeries],\n\u001b[1;32m   (...)\u001b[0m\n\u001b[0;32m   2135\u001b[0m     inplace: \u001b[38;5;28mbool\u001b[39m \u001b[38;5;241m=\u001b[39m \u001b[38;5;28;01mFalse\u001b[39;00m,\n\u001b[0;32m   2136\u001b[0m ) \u001b[38;5;241m-\u001b[39m\u001b[38;5;241m>\u001b[39m Union[pd\u001b[38;5;241m.\u001b[39mDataFrame, pd\u001b[38;5;241m.\u001b[39mSeries]:\n\u001b[0;32m   2137\u001b[0m     \u001b[38;5;124;03m\"\"\"Alias for ``validate`` method.\"\"\"\u001b[39;00m\n\u001b[1;32m-> 2138\u001b[0m     \u001b[38;5;28;01mreturn\u001b[39;00m \u001b[38;5;28;43mself\u001b[39;49m\u001b[38;5;241;43m.\u001b[39;49m\u001b[43mvalidate\u001b[49m\u001b[43m(\u001b[49m\n\u001b[0;32m   2139\u001b[0m \u001b[43m        \u001b[49m\u001b[43mcheck_obj\u001b[49m\u001b[43m,\u001b[49m\u001b[43m \u001b[49m\u001b[43mhead\u001b[49m\u001b[43m,\u001b[49m\u001b[43m \u001b[49m\u001b[43mtail\u001b[49m\u001b[43m,\u001b[49m\u001b[43m \u001b[49m\u001b[43msample\u001b[49m\u001b[43m,\u001b[49m\u001b[43m \u001b[49m\u001b[43mrandom_state\u001b[49m\u001b[43m,\u001b[49m\u001b[43m \u001b[49m\u001b[43mlazy\u001b[49m\u001b[43m,\u001b[49m\u001b[43m \u001b[49m\u001b[43minplace\u001b[49m\n\u001b[0;32m   2140\u001b[0m \u001b[43m    \u001b[49m\u001b[43m)\u001b[49m\n",
      "File \u001b[1;32mC:\\Python39\\lib\\site-packages\\pandera\\schema_components.py:223\u001b[0m, in \u001b[0;36mColumn.validate\u001b[1;34m(self, check_obj, head, tail, sample, random_state, lazy, inplace)\u001b[0m\n\u001b[0;32m    219\u001b[0m             validate_column(\n\u001b[0;32m    220\u001b[0m                 check_obj[column_name]\u001b[38;5;241m.\u001b[39miloc[:, [i]], column_name\n\u001b[0;32m    221\u001b[0m             )\n\u001b[0;32m    222\u001b[0m     \u001b[38;5;28;01melse\u001b[39;00m:\n\u001b[1;32m--> 223\u001b[0m         \u001b[43mvalidate_column\u001b[49m\u001b[43m(\u001b[49m\u001b[43mcheck_obj\u001b[49m\u001b[43m,\u001b[49m\u001b[43m \u001b[49m\u001b[43mcolumn_name\u001b[49m\u001b[43m)\u001b[49m\n\u001b[0;32m    225\u001b[0m \u001b[38;5;28;01mreturn\u001b[39;00m check_obj\n",
      "File \u001b[1;32mC:\\Python39\\lib\\site-packages\\pandera\\schema_components.py:196\u001b[0m, in \u001b[0;36mColumn.validate.<locals>.validate_column\u001b[1;34m(check_obj, column_name)\u001b[0m\n\u001b[0;32m    195\u001b[0m \u001b[38;5;28;01mdef\u001b[39;00m \u001b[38;5;21mvalidate_column\u001b[39m(check_obj, column_name):\n\u001b[1;32m--> 196\u001b[0m     \u001b[38;5;28;43msuper\u001b[39;49m\u001b[43m(\u001b[49m\u001b[43mColumn\u001b[49m\u001b[43m,\u001b[49m\u001b[43m \u001b[49m\u001b[43mcopy\u001b[49m\u001b[43m(\u001b[49m\u001b[38;5;28;43mself\u001b[39;49m\u001b[43m)\u001b[49m\u001b[38;5;241;43m.\u001b[39;49m\u001b[43mset_name\u001b[49m\u001b[43m(\u001b[49m\u001b[43mcolumn_name\u001b[49m\u001b[43m)\u001b[49m\u001b[43m)\u001b[49m\u001b[38;5;241;43m.\u001b[39;49m\u001b[43mvalidate\u001b[49m\u001b[43m(\u001b[49m\n\u001b[0;32m    197\u001b[0m \u001b[43m        \u001b[49m\u001b[43mcheck_obj\u001b[49m\u001b[43m,\u001b[49m\n\u001b[0;32m    198\u001b[0m \u001b[43m        \u001b[49m\u001b[43mhead\u001b[49m\u001b[43m,\u001b[49m\n\u001b[0;32m    199\u001b[0m \u001b[43m        \u001b[49m\u001b[43mtail\u001b[49m\u001b[43m,\u001b[49m\n\u001b[0;32m    200\u001b[0m \u001b[43m        \u001b[49m\u001b[43msample\u001b[49m\u001b[43m,\u001b[49m\n\u001b[0;32m    201\u001b[0m \u001b[43m        \u001b[49m\u001b[43mrandom_state\u001b[49m\u001b[43m,\u001b[49m\n\u001b[0;32m    202\u001b[0m \u001b[43m        \u001b[49m\u001b[43mlazy\u001b[49m\u001b[43m,\u001b[49m\n\u001b[0;32m    203\u001b[0m \u001b[43m        \u001b[49m\u001b[43minplace\u001b[49m\u001b[38;5;241;43m=\u001b[39;49m\u001b[43minplace\u001b[49m\u001b[43m,\u001b[49m\n\u001b[0;32m    204\u001b[0m \u001b[43m    \u001b[49m\u001b[43m)\u001b[49m\n",
      "File \u001b[1;32mC:\\Python39\\lib\\site-packages\\pandera\\schemas.py:2096\u001b[0m, in \u001b[0;36mSeriesSchemaBase.validate\u001b[1;34m(self, check_obj, head, tail, sample, random_state, lazy, inplace)\u001b[0m\n\u001b[0;32m   2090\u001b[0m     check_results\u001b[38;5;241m.\u001b[39mappend(\n\u001b[0;32m   2091\u001b[0m         _handle_check_results(\n\u001b[0;32m   2092\u001b[0m             \u001b[38;5;28mself\u001b[39m, check_index, check, check_obj, \u001b[38;5;241m*\u001b[39mcheck_args\n\u001b[0;32m   2093\u001b[0m         )\n\u001b[0;32m   2094\u001b[0m     )\n\u001b[0;32m   2095\u001b[0m \u001b[38;5;28;01mexcept\u001b[39;00m errors\u001b[38;5;241m.\u001b[39mSchemaError \u001b[38;5;28;01mas\u001b[39;00m err:\n\u001b[1;32m-> 2096\u001b[0m     \u001b[43merror_handler\u001b[49m\u001b[38;5;241;43m.\u001b[39;49m\u001b[43mcollect_error\u001b[49m\u001b[43m(\u001b[49m\u001b[38;5;124;43m\"\u001b[39;49m\u001b[38;5;124;43mdataframe_check\u001b[39;49m\u001b[38;5;124;43m\"\u001b[39;49m\u001b[43m,\u001b[49m\u001b[43m \u001b[49m\u001b[43merr\u001b[49m\u001b[43m)\u001b[49m\n\u001b[0;32m   2097\u001b[0m \u001b[38;5;28;01mexcept\u001b[39;00m \u001b[38;5;167;01mException\u001b[39;00m \u001b[38;5;28;01mas\u001b[39;00m err:  \u001b[38;5;66;03m# pylint: disable=broad-except\u001b[39;00m\n\u001b[0;32m   2098\u001b[0m     \u001b[38;5;66;03m# catch other exceptions that may occur when executing the\u001b[39;00m\n\u001b[0;32m   2099\u001b[0m     \u001b[38;5;66;03m# Check\u001b[39;00m\n\u001b[0;32m   2100\u001b[0m     err_msg \u001b[38;5;241m=\u001b[39m \u001b[38;5;124mf\u001b[39m\u001b[38;5;124m'\u001b[39m\u001b[38;5;124m\"\u001b[39m\u001b[38;5;132;01m{\u001b[39;00merr\u001b[38;5;241m.\u001b[39margs[\u001b[38;5;241m0\u001b[39m]\u001b[38;5;132;01m}\u001b[39;00m\u001b[38;5;124m\"\u001b[39m\u001b[38;5;124m'\u001b[39m \u001b[38;5;28;01mif\u001b[39;00m \u001b[38;5;28mlen\u001b[39m(err\u001b[38;5;241m.\u001b[39margs) \u001b[38;5;241m>\u001b[39m \u001b[38;5;241m0\u001b[39m \u001b[38;5;28;01melse\u001b[39;00m \u001b[38;5;124m\"\u001b[39m\u001b[38;5;124m\"\u001b[39m\n",
      "File \u001b[1;32mC:\\Python39\\lib\\site-packages\\pandera\\error_handlers.py:32\u001b[0m, in \u001b[0;36mSchemaErrorHandler.collect_error\u001b[1;34m(self, reason_code, schema_error, original_exc)\u001b[0m\n\u001b[0;32m     26\u001b[0m \u001b[38;5;124;03m\"\"\"Collect schema error, raising exception if lazy is False.\u001b[39;00m\n\u001b[0;32m     27\u001b[0m \n\u001b[0;32m     28\u001b[0m \u001b[38;5;124;03m:param reason_code: string representing reason for error\u001b[39;00m\n\u001b[0;32m     29\u001b[0m \u001b[38;5;124;03m:param schema_error: ``SchemaError`` object.\u001b[39;00m\n\u001b[0;32m     30\u001b[0m \u001b[38;5;124;03m\"\"\"\u001b[39;00m\n\u001b[0;32m     31\u001b[0m \u001b[38;5;28;01mif\u001b[39;00m \u001b[38;5;129;01mnot\u001b[39;00m \u001b[38;5;28mself\u001b[39m\u001b[38;5;241m.\u001b[39m_lazy:\n\u001b[1;32m---> 32\u001b[0m     \u001b[38;5;28;01mraise\u001b[39;00m schema_error \u001b[38;5;28;01mfrom\u001b[39;00m \u001b[38;5;21;01moriginal_exc\u001b[39;00m\n\u001b[0;32m     34\u001b[0m \u001b[38;5;66;03m# delete data of validated object from SchemaError object to prevent\u001b[39;00m\n\u001b[0;32m     35\u001b[0m \u001b[38;5;66;03m# storing copies of the validated DataFrame/Series for every\u001b[39;00m\n\u001b[0;32m     36\u001b[0m \u001b[38;5;66;03m# SchemaError collected.\u001b[39;00m\n\u001b[0;32m     37\u001b[0m \u001b[38;5;28;01mdel\u001b[39;00m schema_error\u001b[38;5;241m.\u001b[39mdata\n",
      "File \u001b[1;32mC:\\Python39\\lib\\site-packages\\pandera\\schemas.py:2091\u001b[0m, in \u001b[0;36mSeriesSchemaBase.validate\u001b[1;34m(self, check_obj, head, tail, sample, random_state, lazy, inplace)\u001b[0m\n\u001b[0;32m   2088\u001b[0m \u001b[38;5;28;01mfor\u001b[39;00m check_index, check \u001b[38;5;129;01min\u001b[39;00m \u001b[38;5;28menumerate\u001b[39m(\u001b[38;5;28mself\u001b[39m\u001b[38;5;241m.\u001b[39mchecks):\n\u001b[0;32m   2089\u001b[0m     \u001b[38;5;28;01mtry\u001b[39;00m:\n\u001b[0;32m   2090\u001b[0m         check_results\u001b[38;5;241m.\u001b[39mappend(\n\u001b[1;32m-> 2091\u001b[0m             \u001b[43m_handle_check_results\u001b[49m\u001b[43m(\u001b[49m\n\u001b[0;32m   2092\u001b[0m \u001b[43m                \u001b[49m\u001b[38;5;28;43mself\u001b[39;49m\u001b[43m,\u001b[49m\u001b[43m \u001b[49m\u001b[43mcheck_index\u001b[49m\u001b[43m,\u001b[49m\u001b[43m \u001b[49m\u001b[43mcheck\u001b[49m\u001b[43m,\u001b[49m\u001b[43m \u001b[49m\u001b[43mcheck_obj\u001b[49m\u001b[43m,\u001b[49m\u001b[43m \u001b[49m\u001b[38;5;241;43m*\u001b[39;49m\u001b[43mcheck_args\u001b[49m\n\u001b[0;32m   2093\u001b[0m \u001b[43m            \u001b[49m\u001b[43m)\u001b[49m\n\u001b[0;32m   2094\u001b[0m         )\n\u001b[0;32m   2095\u001b[0m     \u001b[38;5;28;01mexcept\u001b[39;00m errors\u001b[38;5;241m.\u001b[39mSchemaError \u001b[38;5;28;01mas\u001b[39;00m err:\n\u001b[0;32m   2096\u001b[0m         error_handler\u001b[38;5;241m.\u001b[39mcollect_error(\u001b[38;5;124m\"\u001b[39m\u001b[38;5;124mdataframe_check\u001b[39m\u001b[38;5;124m\"\u001b[39m, err)\n",
      "File \u001b[1;32mC:\\Python39\\lib\\site-packages\\pandera\\schemas.py:2482\u001b[0m, in \u001b[0;36m_handle_check_results\u001b[1;34m(schema, check_index, check, check_obj, *check_args)\u001b[0m\n\u001b[0;32m   2480\u001b[0m         warnings\u001b[38;5;241m.\u001b[39mwarn(error_msg, \u001b[38;5;167;01mUserWarning\u001b[39;00m)\n\u001b[0;32m   2481\u001b[0m         \u001b[38;5;28;01mreturn\u001b[39;00m \u001b[38;5;28;01mTrue\u001b[39;00m\n\u001b[1;32m-> 2482\u001b[0m     \u001b[38;5;28;01mraise\u001b[39;00m errors\u001b[38;5;241m.\u001b[39mSchemaError(\n\u001b[0;32m   2483\u001b[0m         schema,\n\u001b[0;32m   2484\u001b[0m         check_obj,\n\u001b[0;32m   2485\u001b[0m         error_msg,\n\u001b[0;32m   2486\u001b[0m         failure_cases\u001b[38;5;241m=\u001b[39mfailure_cases,\n\u001b[0;32m   2487\u001b[0m         check\u001b[38;5;241m=\u001b[39mcheck,\n\u001b[0;32m   2488\u001b[0m         check_index\u001b[38;5;241m=\u001b[39mcheck_index,\n\u001b[0;32m   2489\u001b[0m         check_output\u001b[38;5;241m=\u001b[39mcheck_result\u001b[38;5;241m.\u001b[39mcheck_output,\n\u001b[0;32m   2490\u001b[0m     )\n\u001b[0;32m   2491\u001b[0m \u001b[38;5;28;01mreturn\u001b[39;00m check_result\u001b[38;5;241m.\u001b[39mcheck_passed\n",
      "\u001b[1;31mSchemaError\u001b[0m: <Schema Column(name=cusip8, type=DataType(str))> failed element-wise validator 0:\n<Check <lambda>>\nfailure cases:\n    index     failure_case\n0      24    1850000000000\n1      80    7610000000000\n2     149       1.853E+023\n3     204   25530000000000\n4     212   26860000000000\n..    ...              ...\n68   4013  903330000000000\n69   4073  913590000000000\n70   4142  923430000000000\n71   4194  929250000000000\n72   4263      9.5988E+024\n\n[73 rows x 2 columns]"
     ]
    }
   ],
   "source": [
    "# Pandera also allows validating value ranges for numerical columns\n",
    "# value_range_schema = pa.DataFrameSchema({\n",
    "#     \"LotArea\": pa.Column(int, pa.Check(lambda s: s <= 1000000), nullable=False),\n",
    "#     \"YearBuilt\": pa.Column(int, pa.Check.in_range(1800, 2022)),\n",
    "# })\n",
    "\n",
    "value_range_schema = pa.DataFrameSchema({\n",
    "    \"cik\": pa.Column('int64'),\n",
    "    \"cusip8\": pa.Column(str, pa.Check(lambda s: s.str.len() <= 9)),\n",
    "    \"cusip9\": pa.Column(str, pa.Check(lambda s: s.str.contains(\"+\"))),\n",
    "    \"cusip9\": pa.Column(str, pa.Check(lambda s: s.str.contains(\"-\"))),\n",
    "    \"rdate\": pa.Column(\"datetime64\"),\n",
    "    \"fdate\": pa.Column(\"datetime64\"),\n",
    "    \"value\": pa.Column(\"int64\", pa.Check(lambda s: s <= 1000000), nullable=False)\n",
    "                        })\n",
    "value_range_schema.validate(df[columns])"
   ]
  },
  {
   "cell_type": "code",
   "execution_count": null,
   "id": "b4fc1015-458f-47b2-bf49-6eb9bc37a264",
   "metadata": {},
   "outputs": [],
   "source": []
  },
  {
   "cell_type": "code",
   "execution_count": null,
   "id": "fd2a2bbe-9ca8-41c8-87ae-87c47528b643",
   "metadata": {},
   "outputs": [],
   "source": []
  },
  {
   "cell_type": "code",
   "execution_count": null,
   "id": "103eeb88-d8a1-446f-8374-a639f2bb8bcf",
   "metadata": {},
   "outputs": [],
   "source": []
  },
  {
   "cell_type": "code",
   "execution_count": null,
   "id": "34cec1e5-1fcd-445c-b0a0-73a0ddd28b9f",
   "metadata": {},
   "outputs": [],
   "source": []
  },
  {
   "cell_type": "code",
   "execution_count": null,
   "id": "a90a746e-b0da-411e-8a30-2094376dc502",
   "metadata": {},
   "outputs": [],
   "source": []
  },
  {
   "cell_type": "code",
   "execution_count": null,
   "id": "a7309dcf-fedf-474b-b6cd-666f03e724a0",
   "metadata": {},
   "outputs": [],
   "source": []
  },
  {
   "cell_type": "code",
   "execution_count": null,
   "id": "1c72bc12-c5db-4c02-b1b2-cedf704114f3",
   "metadata": {},
   "outputs": [],
   "source": []
  },
  {
   "cell_type": "code",
   "execution_count": null,
   "id": "af943a5d-84ef-492a-8317-b1310379ac9a",
   "metadata": {},
   "outputs": [],
   "source": []
  },
  {
   "cell_type": "code",
   "execution_count": 107,
   "id": "06a11663-5064-4d4b-8bca-dd225d41336d",
   "metadata": {
    "execution": {
     "iopub.execute_input": "2023-01-07T00:48:43.312377Z",
     "iopub.status.busy": "2023-01-07T00:48:43.311390Z",
     "iopub.status.idle": "2023-01-07T00:48:43.332264Z",
     "shell.execute_reply": "2023-01-07T00:48:43.332264Z",
     "shell.execute_reply.started": "2023-01-07T00:48:43.312377Z"
    },
    "tags": []
   },
   "outputs": [
    {
     "data": {
      "text/plain": [
       "<function __main__.<lambda>(txt)>"
      ]
     },
     "execution_count": 107,
     "metadata": {},
     "output_type": "execute_result"
    }
   ],
   "source": [
    "txt = \"\"\"\n",
    "AB,CD,EF, JJ\n",
    "foo,20160101,a,23\n",
    "foo,20160102,a,34\n",
    "foo,20160103,a,56\n",
    "\"\"\"\n",
    "lambda txt: len(txt) <= 10\n",
    "# data = pl.read_csv(io.StringIO(txt))\n",
    "# data = data."
   ]
  },
  {
   "cell_type": "code",
   "execution_count": 52,
   "id": "fbe79f6b-df65-4778-be7f-16a5d3b614a3",
   "metadata": {
    "execution": {
     "iopub.execute_input": "2023-01-06T23:41:32.693356Z",
     "iopub.status.busy": "2023-01-06T23:41:32.693356Z",
     "iopub.status.idle": "2023-01-06T23:41:32.708624Z",
     "shell.execute_reply": "2023-01-06T23:41:32.707625Z",
     "shell.execute_reply.started": "2023-01-06T23:41:32.693356Z"
    },
    "tags": []
   },
   "outputs": [],
   "source": [
    "# different pandas dtypes\n",
    "\n",
    "dtypes =    {\n",
    "        \"ID\": str,\n",
    "        \"accessionNumber\": str,\n",
    "        \"cikManager\": \"Int64\",\n",
    "        \"periodOfReport\": \"datetime64[ns]\",\n",
    "        \"report_Quarter\": \"Int64\",\n",
    "        \"report_Year\": \"Int64\",\n",
    "        \"submissionType\": str,\n",
    "        \"isAmendment\": bool,\n",
    "        \"amendmentType\": str,\n",
    "        \"filedAsOfDate\": \"datetime64[ns]\",\n",
    "        \"entryTotal\": \"Int64\",\n",
    "        \"valueTotal\": \"float64\",\n",
    "        \"cusip\": str,\n",
    "        \"nameOfIssuer\": str,\n",
    "        \"titleOfClass\": str,\n",
    "        \"sharesValue\": \"float64\",\n",
    "        \"sharesHeldAtEndOfQtr\": \"Int64\",\n",
    "        \"securityType\": str,\n",
    "        \"putCall\": str,\n",
    "        \"xml_flag\": str,\n",
    "        \"created_at\": \"datetime64[ns]\",\n",
    "        \"edgar_path\": str,\n",
    "    }"
   ]
  }
 ],
 "metadata": {
  "kernelspec": {
   "display_name": "Python 3 (ipykernel)",
   "language": "python",
   "name": "python3"
  },
  "language_info": {
   "codemirror_mode": {
    "name": "ipython",
    "version": 3
   },
   "file_extension": ".py",
   "mimetype": "text/x-python",
   "name": "python",
   "nbconvert_exporter": "python",
   "pygments_lexer": "ipython3",
   "version": "3.9.7"
  }
 },
 "nbformat": 4,
 "nbformat_minor": 5
}
