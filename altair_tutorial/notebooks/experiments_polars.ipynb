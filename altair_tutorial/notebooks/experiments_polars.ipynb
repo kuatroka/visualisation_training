{
 "cells": [
  {
   "cell_type": "code",
   "execution_count": 74,
   "id": "0762cd43-a2cb-4073-8bbb-2b472b93ce0d",
   "metadata": {
    "execution": {
     "iopub.execute_input": "2023-01-10T22:10:03.768532Z",
     "iopub.status.busy": "2023-01-10T22:10:03.767523Z",
     "iopub.status.idle": "2023-01-10T22:10:03.776574Z",
     "shell.execute_reply": "2023-01-10T22:10:03.775544Z",
     "shell.execute_reply.started": "2023-01-10T22:10:03.767523Z"
    },
    "tags": []
   },
   "outputs": [],
   "source": [
    "from pathlib import Path\n",
    "import pandas as pd\n",
    "import numpy as np\n",
    "import polars as pl\n",
    "import duckdb\n",
    "import os\n",
    "import pandera as pa\n",
    "import io\n",
    "\n",
    "pd.set_option('display.max_columns', 35)\n",
    "pd.set_option(\"display.max_colwidth\",40)\n",
    "pd.set_option(\"display.max_rows\", 500)\n",
    "\n",
    "FROM_EXPERIMENT_CSV_IN = Path(r\"E:\\app_data\\dropbox_13f_files\\processed_tables\\TR_02_EXP_SELECT_CIK_CSV\")\n",
    "TO_EXPERIMENT_PARQUET = Path(r\"E:\\app_data\\dropbox_13f_files\\processed_tables\\TR_03_EXP_SELECT_CIK_PARQUET\")\n",
    "\n",
    "REDUCED_SELECT_CSV =Path(r\"E:\\app_data\\dropbox_13f_files\\processed_tables\\TR_02_EXP_SELECT_CIK_CSV_REDUCED\")\n",
    "\n",
    "#----\n",
    "processed_tables_copy = Path(r\"E:\\app_data\\dropbox_13f_files\\processed_tables\\processed_tables_copy\")\n",
    "TR_00_ALL_CSV_REDUCED = Path(r\"E:\\app_data\\dropbox_13f_files\\processed_tables\\TR_00_ALL_CSV_REDUCED\")"
   ]
  },
  {
   "cell_type": "markdown",
   "id": "466597c7-1706-4cec-b325-063f477cbb56",
   "metadata": {},
   "source": [
    "### Transforming original `csv` files into new `csv` with reduced number of columns\n",
    "* new folder with reduced `csv`: \n",
    "  1. From `processed_tables_copy =Path(r\"E:\\app_data\\dropbox_13f_files\\processed_tables\\processed_tables_copy\")`\n",
    "  2. To ```TR_00_ALL_CSV_REDUCED = Path(r\"E:\\app_data\\dropbox_13f_files\\processed_tables\\TR_00_ALL_CSV_REDUCED\")```\n",
    "  \n",
    "* It's a one off code\n"
   ]
  },
  {
   "cell_type": "code",
   "execution_count": null,
   "id": "321300de-052b-4b2f-a962-de7d123b1be0",
   "metadata": {
    "tags": []
   },
   "outputs": [],
   "source": [
    "%%time\n",
    "\n",
    "columns = ['cik', 'cusip8', 'cusip9','value', 'shares','rdate', 'fdate',\\\n",
    "           'address', 'form', 'shrsOrPrnAmt', 'putCall', 'nameOfIssuer', 'titleOfClass', 'type', 'dsource']\n",
    "\n",
    "dtypes = {'cusip8': str, 'cusip9': str , 'titleOfClass': str, 'form': str,\n",
    "          'putCall': str, 'shrsOrPrnAmt': str, 'value': pl.Float64, 'shares': pl.Float64, \n",
    "          'nameOfIssuer': str, 'cik' : pl.Int64, 'address': str, 'type': str,'num5': str,\n",
    "          'deviation':str, 'shrout':str,'num3': str,'num2': str, 'num6':str,'num7': str,'num4': str,\n",
    "           'votingAuthority': str, 'in_universe': str,'prc': str, 'split': str,\n",
    "           'investmentDiscretion': str, 'rdate': str, 'fdate': str, 'dsource': str}\n",
    "\n",
    "pd_dtypes = {'cusip8': str, 'cusip9': str , 'titleOfClass': str, 'form': 'category', 'putCall': 'category',\n",
    "           'shrsOrPrnAmt': 'category', 'value': 'float64', 'shares': 'float64', 'type': 'category', 'nameOfIssuer': str,\n",
    "           'cik' : 'int64', 'address': 'category',  'dsource': 'category'}\n",
    "\n",
    "# pd_dtypes_validation = {'cusip8': str, 'cusip9': str , 'titleOfClass': str, 'form': 'category', 'putCall': 'category',\n",
    "#            'shrsOrPrnAmt': 'category', 'value': 'Int64', 'shares': 'Int64', 'type': 'category', 'nameOfIssuer': str,\n",
    "#            'cik' : 'int64', 'address': 'category',  'dsource': 'category'}\n",
    "\n",
    "\n",
    "# for file in processed_tables_copy.rglob(\"*.csv\"):\n",
    "#     new_file_name = file.parts[-2]+\"-\"+file.name\n",
    "#     new_file_path = Path(os.path.join(TR_00_ALL_CSV_REDUCED, new_file_name))\n",
    "#     if new_file_path.exists():  continue\n",
    "\n",
    "    \n",
    "#     schema = pl.scan_csv(file).schema\n",
    "#     read_cols = list(set(schema.keys()).intersection(columns))\n",
    "#     df = pl.read_csv(file, columns=read_cols, dtypes=dtypes)\n",
    "\n",
    "#     for col in columns:\n",
    "#         if col not in df.columns:\n",
    "#             df = df.with_column(pl.lit(None, dtype=dtypes[col]).alias(col))\n",
    "\n",
    "#     df = df.with_columns([pl.col(\"rdate\").str.strptime(pl.Date, fmt=\"%Y%m%d\"),\n",
    "#                         pl.col(\"fdate\").str.strptime(pl.Date, fmt=\"%Y%m%d\"),\n",
    "#                         pl.col(\"cusip8\").str.to_uppercase(),\n",
    "#                         pl.col(\"cusip9\").str.to_uppercase(),\n",
    "#                         pl.lit('dropbox').alias('dsource')]).select(columns)  \n",
    "\n",
    "#     df.write_csv(new_file_path, sep=\",\")\n",
    "#     df = df.to_pandas().astype(pd_dtypes_validation)"
   ]
  },
  {
   "cell_type": "code",
   "execution_count": 32,
   "id": "65cd4be3-1f12-4639-a554-1f21bf2d3e26",
   "metadata": {
    "execution": {
     "iopub.execute_input": "2023-01-10T16:39:22.145327Z",
     "iopub.status.busy": "2023-01-10T16:39:22.144328Z",
     "iopub.status.idle": "2023-01-10T16:39:22.161324Z",
     "shell.execute_reply": "2023-01-10T16:39:22.161324Z",
     "shell.execute_reply.started": "2023-01-10T16:39:22.145327Z"
    },
    "tags": []
   },
   "outputs": [],
   "source": [
    "# len(list(processed_tables_copy.rglob(\"*.csv\"))), len(list(TR_00_ALL_CSV_REDUCED.glob(\"*.csv\")))\n",
    "# (308585, 308585)"
   ]
  },
  {
   "cell_type": "markdown",
   "id": "a0f14d4b-a45a-482c-bf2a-cb2ee9b1b7fd",
   "metadata": {},
   "source": [
    "### Working on selected **reduced csv** and **txt** files to manually improve the data quality with `pandera`"
   ]
  },
  {
   "cell_type": "code",
   "execution_count": 314,
   "id": "801b81d8-2b8b-48f9-9aeb-721eee47134d",
   "metadata": {
    "execution": {
     "iopub.execute_input": "2023-01-10T13:53:31.379967Z",
     "iopub.status.busy": "2023-01-10T13:53:31.379967Z",
     "iopub.status.idle": "2023-01-10T13:53:31.422922Z",
     "shell.execute_reply": "2023-01-10T13:53:31.421923Z",
     "shell.execute_reply.started": "2023-01-10T13:53:31.379967Z"
    },
    "tags": []
   },
   "outputs": [
    {
     "data": {
      "text/plain": [
       "676"
      ]
     },
     "execution_count": 314,
     "metadata": {},
     "output_type": "execute_result"
    }
   ],
   "source": [
    "selected_cik = [2230,3520,5272,7195,7789,9015,10742,14661,16972,18349,18748,19475,19617,21175,22657,24386,35442,35527,36066,36104,36644,36966,38777,39263,40417,40545,44365,45319,49205,50863,51762,51812,51964,52234,53417,59558,59951,60086,61227,67698,70858,71210,71259,72971,73124,80255,84616,89014,92230,93751,98758,102212,102909,105495,108572,200217,201772,216851,276101,310051,312348,313028,313807,314949,314957,314984,315014,315032,315038,315054,315066,315080,315157,315297,315498,316011,318989,320335,320376,351051,351173,351262,354204,356264,700529,704051,707179,712537,713676,714142,720672,723204,728083,728100,728618,732905,733020,740272,740913,741073,743127,750641,754811,757657,759944,762152,763212,763848,764068,764106,764112,764529,764532,765443,769317,769954,769963,775368,776867,778963,779519,788714,790354,790502,791191,791490,796848,799003,799004,801051,806097,807249,807985,808722,809339,809443,810265,810384,810386,810672,810716,811360,811454,813917,813933,814133,814375,816788,819535,820027,820123,820124,820289,820478,820743,821197,822581,823621,825293,829407,831001,831571,836372,837592,842782,842941,846222,846633,846788,846797,850401,850529,852743,854157,857508,859872,860486,860561,860580,860585,860643,860644,860645,860662,860748,860828,860857,861176,861177,861462,861787,862469,866361,866842,868491,869178,869179,869353,869367,872080,872163,872259,872573,872732,873630,874791,877134,877338,878228,881432,883511,883677,883782,883790,883803,883961,883965,884300,884314,884414,884423,884541,884546,884548,884566,884589,885062,885415,886982,887402,887777,887818,889232,891287,891478,893738,894205,894300,894309,895213,895421,897070,897378,897599,898358,898382,898399,898413,899211,900169,900529,900973,902219,902367,902464,902584,903064,903944,903947,903949,905567,905591,905608,906304,908195,909151,909661,911274,912938,914933,914976,915287,915325,916542,917579,918893,919079,919185,919192,919458,919489,919497,919530,919538,919859,920440,920441,921531,921669,922127,922439,922898,922940,923093,923116,923469,924166,924171,924181,926688,926833,926834,928047,928196,928566,928568,928633,930441,931097,932024,932974,933429,934639,934999,936698,936753,936936,936941,936944,937394,937522,937589,937615,937760,937886,938076,938206,938487,938582,938592,938759,939219,940445,941560,943719,944234,944804,945625,945631,947822,947996,948518,948669,949012,949509,949615,949623,949853,1000097,1000742,1002152,1002672,1002784,1004244,1005354,1005607,1005817,1006364,1006378,1006407,1006435,1007280,1007399,1007524,1008322,1008877,1008894,1008895,1008929,1008937,1009003,1009005,1009012,1009016,1009022,1009076,1009207,1009209,1009232,1009254,1009258,1009262,1010873,1010911,1011443,1011659,1013234,1013536,1013538,1013701,1014306,1014315,1014736,1014738,1015079,1015083,1015086,1015308,1016150,1016287,1016683,1016972,1017115,1017645,1017918,1018331,1018674,1018825,1019231,1020066,1020317,1020580,1020585,1020617,1020918,1021008,1021117,1021223,1021249,1021258,1021642,1021926,1023279,1024716,1025421,1026200,1026710,1027451,1027796,1027817,1029160,1030618,1030815,1031972,1032814,1033225,1033427,1033475,1033505,1033974,1033984,1034184,1034196,1034524,1034541,1034546,1034549,1034642,1034771,1034886,1035350,1035463,1035912,1036248,1036325,1037389,1037558,1037763,1037792,1038661,1039565,1039807,1040190,1040197,1040198,1040210,1040273,1040592,1040762,1041241,1041885,1042046,1044207,1044797,1044905,1044924,1044929,1044936,1046187,1047339,1048921,1049648,1049650,1050442,1050463,1050470,1051359,1052100,1053013,1053054,1053055,1054074,1054425,1054522,1054554,1054677,1055290,1055544,1055963,1055964,1055966,1056053,1056288,1056466,1056488,1056491,1056515,1056516,1056527,1056549,1056559,1056581,1056593,1056807,1056821,1056825,1056827,1056831,1056859,1056958,1056973,1057395,1057439,1058022,1058470,1058800,1059187,1061186,1061768,1062938,1065349,1065350,1066816,1067324,1067926,1067983,1068829,1070134,1071483,1072843,1074027,1074034,1074266,1074273,1076598,1077148,1077583,1078013,1078246,1078658,1078841,1079112,1079114,1079736,1079738,1079930,1080071,1080107,1080117,1080132,1080166,1080171,1080173,1080197,1080201,1080351,1080374,1080380,1080381,1080382,1080386,1080493,1080523,1080628,1080818,1081019,1081198,1082020,1082215,1082327,1082339,1082461,1082491,1082509,1082621,1082917,1083323,1083340,1084207,1084208,1084683,1085041,1085163,1085227,1085601,1085936,1086477,1086483,1086611,1086619,1086762,1086763,1088859,1088875,1088950,1089707,1089755,1089911,1089991,1090413,1091561,1091860,1091923,1092203,1092290,1092351,1092903,1093276,1093589,1094584,1094749,1095836,1096783,1097218,1097278,1097833,1100710,1101250,1102062,1102578,1102598,1103245,1103738,1103804,1103882,1103887,1104186,1104329,1104366,1105468,1105471,1105497,1105837,1105863,1105909,1106129,1106191,1106500,1106505,1106832,1107261,1107310,1108893,1108965,1108969,1109147,1110806,1113629,1114618,1114739,1114928,1115941,1116247,1125727,1125816,1129770,1133219,1134152,1140334,1140771,1142031,1142062,1158583,1389426,1398739,1469219]\n",
    "len(selected_cik)"
   ]
  },
  {
   "cell_type": "code",
   "execution_count": 322,
   "id": "95b70c53-1b0b-4157-9146-5dd967d16e50",
   "metadata": {
    "execution": {
     "iopub.execute_input": "2023-01-10T14:06:49.220418Z",
     "iopub.status.busy": "2023-01-10T14:06:49.219418Z",
     "iopub.status.idle": "2023-01-10T14:08:09.589257Z",
     "shell.execute_reply": "2023-01-10T14:08:09.589257Z",
     "shell.execute_reply.started": "2023-01-10T14:06:49.219418Z"
    },
    "tags": []
   },
   "outputs": [],
   "source": [
    "# copy raw .txt filings for the selected 676 ciks (active in 1999 and 2000) to a separate folder `TR_00_TEST_676_CIK_TXT`\n",
    "selected_cik = [2230,3520,5272,7195,7789,9015,10742,14661,16972,18349,18748,19475,19617,21175,22657,24386,35442,35527,36066,36104,36644,36966,38777,39263,40417,40545,44365,45319,49205,50863,51762,51812,51964,52234,53417,59558,59951,60086,61227,67698,70858,71210,71259,72971,73124,80255,84616,89014,92230,93751,98758,102212,102909,105495,108572,200217,201772,216851,276101,310051,312348,313028,313807,314949,314957,314984,315014,315032,315038,315054,315066,315080,315157,315297,315498,316011,318989,320335,320376,351051,351173,351262,354204,356264,700529,704051,707179,712537,713676,714142,720672,723204,728083,728100,728618,732905,733020,740272,740913,741073,743127,750641,754811,757657,759944,762152,763212,763848,764068,764106,764112,764529,764532,765443,769317,769954,769963,775368,776867,778963,779519,788714,790354,790502,791191,791490,796848,799003,799004,801051,806097,807249,807985,808722,809339,809443,810265,810384,810386,810672,810716,811360,811454,813917,813933,814133,814375,816788,819535,820027,820123,820124,820289,820478,820743,821197,822581,823621,825293,829407,831001,831571,836372,837592,842782,842941,846222,846633,846788,846797,850401,850529,852743,854157,857508,859872,860486,860561,860580,860585,860643,860644,860645,860662,860748,860828,860857,861176,861177,861462,861787,862469,866361,866842,868491,869178,869179,869353,869367,872080,872163,872259,872573,872732,873630,874791,877134,877338,878228,881432,883511,883677,883782,883790,883803,883961,883965,884300,884314,884414,884423,884541,884546,884548,884566,884589,885062,885415,886982,887402,887777,887818,889232,891287,891478,893738,894205,894300,894309,895213,895421,897070,897378,897599,898358,898382,898399,898413,899211,900169,900529,900973,902219,902367,902464,902584,903064,903944,903947,903949,905567,905591,905608,906304,908195,909151,909661,911274,912938,914933,914976,915287,915325,916542,917579,918893,919079,919185,919192,919458,919489,919497,919530,919538,919859,920440,920441,921531,921669,922127,922439,922898,922940,923093,923116,923469,924166,924171,924181,926688,926833,926834,928047,928196,928566,928568,928633,930441,931097,932024,932974,933429,934639,934999,936698,936753,936936,936941,936944,937394,937522,937589,937615,937760,937886,938076,938206,938487,938582,938592,938759,939219,940445,941560,943719,944234,944804,945625,945631,947822,947996,948518,948669,949012,949509,949615,949623,949853,1000097,1000742,1002152,1002672,1002784,1004244,1005354,1005607,1005817,1006364,1006378,1006407,1006435,1007280,1007399,1007524,1008322,1008877,1008894,1008895,1008929,1008937,1009003,1009005,1009012,1009016,1009022,1009076,1009207,1009209,1009232,1009254,1009258,1009262,1010873,1010911,1011443,1011659,1013234,1013536,1013538,1013701,1014306,1014315,1014736,1014738,1015079,1015083,1015086,1015308,1016150,1016287,1016683,1016972,1017115,1017645,1017918,1018331,1018674,1018825,1019231,1020066,1020317,1020580,1020585,1020617,1020918,1021008,1021117,1021223,1021249,1021258,1021642,1021926,1023279,1024716,1025421,1026200,1026710,1027451,1027796,1027817,1029160,1030618,1030815,1031972,1032814,1033225,1033427,1033475,1033505,1033974,1033984,1034184,1034196,1034524,1034541,1034546,1034549,1034642,1034771,1034886,1035350,1035463,1035912,1036248,1036325,1037389,1037558,1037763,1037792,1038661,1039565,1039807,1040190,1040197,1040198,1040210,1040273,1040592,1040762,1041241,1041885,1042046,1044207,1044797,1044905,1044924,1044929,1044936,1046187,1047339,1048921,1049648,1049650,1050442,1050463,1050470,1051359,1052100,1053013,1053054,1053055,1054074,1054425,1054522,1054554,1054677,1055290,1055544,1055963,1055964,1055966,1056053,1056288,1056466,1056488,1056491,1056515,1056516,1056527,1056549,1056559,1056581,1056593,1056807,1056821,1056825,1056827,1056831,1056859,1056958,1056973,1057395,1057439,1058022,1058470,1058800,1059187,1061186,1061768,1062938,1065349,1065350,1066816,1067324,1067926,1067983,1068829,1070134,1071483,1072843,1074027,1074034,1074266,1074273,1076598,1077148,1077583,1078013,1078246,1078658,1078841,1079112,1079114,1079736,1079738,1079930,1080071,1080107,1080117,1080132,1080166,1080171,1080173,1080197,1080201,1080351,1080374,1080380,1080381,1080382,1080386,1080493,1080523,1080628,1080818,1081019,1081198,1082020,1082215,1082327,1082339,1082461,1082491,1082509,1082621,1082917,1083323,1083340,1084207,1084208,1084683,1085041,1085163,1085227,1085601,1085936,1086477,1086483,1086611,1086619,1086762,1086763,1088859,1088875,1088950,1089707,1089755,1089911,1089991,1090413,1091561,1091860,1091923,1092203,1092290,1092351,1092903,1093276,1093589,1094584,1094749,1095836,1096783,1097218,1097278,1097833,1100710,1101250,1102062,1102578,1102598,1103245,1103738,1103804,1103882,1103887,1104186,1104329,1104366,1105468,1105471,1105497,1105837,1105863,1105909,1106129,1106191,1106500,1106505,1106832,1107261,1107310,1108893,1108965,1108969,1109147,1110806,1113629,1114618,1114739,1114928,1115941,1116247,1125727,1125816,1129770,1133219,1134152,1140334,1140771,1142031,1142062,1158583,1389426,1398739,1469219]\n",
    "\n",
    "from pathlib import Path\n",
    "import shutil\n",
    "\n",
    "# Define the paths\n",
    "# main_directory = Path('E:\\\\app_data\\\\sec_apps_data\\\\speed_test\\\\filings_13f_full')\n",
    "# filings_directory = main_directory / 'filings'\n",
    "# selected_filings_directory = Path(r\"E:\\app_data\\dropbox_13f_files\\processed_tables\\TR_00_TEST_676_CIK_TXT\")\n",
    "\n",
    "# # Create the selected_filings_directory if it doesn't exist\n",
    "# selected_filings_directory.mkdir(parents=True, exist_ok=True)\n",
    "\n",
    "# # Iterate through the subdirectories in the filings directory\n",
    "# for subdir in filings_directory.iterdir():\n",
    "#     if int(subdir.name) in selected_cik:\n",
    "#         # Copy the subdirectory to the selected_filings_directory\n",
    "#         shutil.copytree(subdir, selected_filings_directory / subdir.name)"
   ]
  },
  {
   "cell_type": "code",
   "execution_count": 10,
   "id": "c0ace740-b66a-4d8c-a4d6-c63f6bd50da0",
   "metadata": {
    "execution": {
     "iopub.execute_input": "2023-01-10T15:08:43.374972Z",
     "iopub.status.busy": "2023-01-10T15:08:43.373981Z",
     "iopub.status.idle": "2023-01-10T15:08:43.412972Z",
     "shell.execute_reply": "2023-01-10T15:08:43.411971Z",
     "shell.execute_reply.started": "2023-01-10T15:08:43.374972Z"
    },
    "tags": []
   },
   "outputs": [],
   "source": [
    "# copy reduced `csv` filings for the selected 676 ciks (active in 1999 and 2000) to a separate folder `TR_01_TEST_676_CIK_CSV_REDUCED`\n",
    "selected_cik = [2230,3520,5272,7195,7789,9015,10742,14661,16972,18349,18748,19475,19617,21175,22657,24386,35442,35527,36066,36104,36644,36966,38777,39263,40417,40545,44365,45319,49205,50863,51762,51812,51964,52234,53417,59558,59951,60086,61227,67698,70858,71210,71259,72971,73124,80255,84616,89014,92230,93751,98758,102212,102909,105495,108572,200217,201772,216851,276101,310051,312348,313028,313807,314949,314957,314984,315014,315032,315038,315054,315066,315080,315157,315297,315498,316011,318989,320335,320376,351051,351173,351262,354204,356264,700529,704051,707179,712537,713676,714142,720672,723204,728083,728100,728618,732905,733020,740272,740913,741073,743127,750641,754811,757657,759944,762152,763212,763848,764068,764106,764112,764529,764532,765443,769317,769954,769963,775368,776867,778963,779519,788714,790354,790502,791191,791490,796848,799003,799004,801051,806097,807249,807985,808722,809339,809443,810265,810384,810386,810672,810716,811360,811454,813917,813933,814133,814375,816788,819535,820027,820123,820124,820289,820478,820743,821197,822581,823621,825293,829407,831001,831571,836372,837592,842782,842941,846222,846633,846788,846797,850401,850529,852743,854157,857508,859872,860486,860561,860580,860585,860643,860644,860645,860662,860748,860828,860857,861176,861177,861462,861787,862469,866361,866842,868491,869178,869179,869353,869367,872080,872163,872259,872573,872732,873630,874791,877134,877338,878228,881432,883511,883677,883782,883790,883803,883961,883965,884300,884314,884414,884423,884541,884546,884548,884566,884589,885062,885415,886982,887402,887777,887818,889232,891287,891478,893738,894205,894300,894309,895213,895421,897070,897378,897599,898358,898382,898399,898413,899211,900169,900529,900973,902219,902367,902464,902584,903064,903944,903947,903949,905567,905591,905608,906304,908195,909151,909661,911274,912938,914933,914976,915287,915325,916542,917579,918893,919079,919185,919192,919458,919489,919497,919530,919538,919859,920440,920441,921531,921669,922127,922439,922898,922940,923093,923116,923469,924166,924171,924181,926688,926833,926834,928047,928196,928566,928568,928633,930441,931097,932024,932974,933429,934639,934999,936698,936753,936936,936941,936944,937394,937522,937589,937615,937760,937886,938076,938206,938487,938582,938592,938759,939219,940445,941560,943719,944234,944804,945625,945631,947822,947996,948518,948669,949012,949509,949615,949623,949853,1000097,1000742,1002152,1002672,1002784,1004244,1005354,1005607,1005817,1006364,1006378,1006407,1006435,1007280,1007399,1007524,1008322,1008877,1008894,1008895,1008929,1008937,1009003,1009005,1009012,1009016,1009022,1009076,1009207,1009209,1009232,1009254,1009258,1009262,1010873,1010911,1011443,1011659,1013234,1013536,1013538,1013701,1014306,1014315,1014736,1014738,1015079,1015083,1015086,1015308,1016150,1016287,1016683,1016972,1017115,1017645,1017918,1018331,1018674,1018825,1019231,1020066,1020317,1020580,1020585,1020617,1020918,1021008,1021117,1021223,1021249,1021258,1021642,1021926,1023279,1024716,1025421,1026200,1026710,1027451,1027796,1027817,1029160,1030618,1030815,1031972,1032814,1033225,1033427,1033475,1033505,1033974,1033984,1034184,1034196,1034524,1034541,1034546,1034549,1034642,1034771,1034886,1035350,1035463,1035912,1036248,1036325,1037389,1037558,1037763,1037792,1038661,1039565,1039807,1040190,1040197,1040198,1040210,1040273,1040592,1040762,1041241,1041885,1042046,1044207,1044797,1044905,1044924,1044929,1044936,1046187,1047339,1048921,1049648,1049650,1050442,1050463,1050470,1051359,1052100,1053013,1053054,1053055,1054074,1054425,1054522,1054554,1054677,1055290,1055544,1055963,1055964,1055966,1056053,1056288,1056466,1056488,1056491,1056515,1056516,1056527,1056549,1056559,1056581,1056593,1056807,1056821,1056825,1056827,1056831,1056859,1056958,1056973,1057395,1057439,1058022,1058470,1058800,1059187,1061186,1061768,1062938,1065349,1065350,1066816,1067324,1067926,1067983,1068829,1070134,1071483,1072843,1074027,1074034,1074266,1074273,1076598,1077148,1077583,1078013,1078246,1078658,1078841,1079112,1079114,1079736,1079738,1079930,1080071,1080107,1080117,1080132,1080166,1080171,1080173,1080197,1080201,1080351,1080374,1080380,1080381,1080382,1080386,1080493,1080523,1080628,1080818,1081019,1081198,1082020,1082215,1082327,1082339,1082461,1082491,1082509,1082621,1082917,1083323,1083340,1084207,1084208,1084683,1085041,1085163,1085227,1085601,1085936,1086477,1086483,1086611,1086619,1086762,1086763,1088859,1088875,1088950,1089707,1089755,1089911,1089991,1090413,1091561,1091860,1091923,1092203,1092290,1092351,1092903,1093276,1093589,1094584,1094749,1095836,1096783,1097218,1097278,1097833,1100710,1101250,1102062,1102578,1102598,1103245,1103738,1103804,1103882,1103887,1104186,1104329,1104366,1105468,1105471,1105497,1105837,1105863,1105909,1106129,1106191,1106500,1106505,1106832,1107261,1107310,1108893,1108965,1108969,1109147,1110806,1113629,1114618,1114739,1114928,1115941,1116247,1125727,1125816,1129770,1133219,1134152,1140334,1140771,1142031,1142062,1158583,1389426,1398739,1469219]\n",
    "\n",
    "from pathlib import Path\n",
    "import shutil\n",
    "\n",
    "# Define the paths\n",
    "TR_00_ALL_CSV_REDUCED = Path(r'E:\\app_data\\dropbox_13f_files\\processed_tables\\TR_00_ALL_CSV_REDUCED')\n",
    "TR_01_TEST_676_CIK_CSV_REDUCED = Path(r\"E:\\app_data\\dropbox_13f_files\\processed_tables\\TR_01_TEST_676_CIK_CSV_REDUCED\")\n",
    "\n",
    "# Create the selected_filings_directory if it doesn't exist\n",
    "TR_01_TEST_676_CIK_CSV_REDUCED.mkdir(parents=True, exist_ok=True)\n",
    "\n",
    "# # Iterate through the subdirectories in the filings directory\n",
    "# for file in TR_00_ALL_CSV_REDUCED.glob(\"*.csv\"):\n",
    "#     file.name\n",
    "#     # if subdir.name.isdigit() and int(subdir.name) in selected_cik:\n",
    "#     if int(subdir.name) in selected_cik:\n",
    "        # Copy the subdirectory to the selected_filings_directory\n",
    "        # shutil.copytree(subdir, selected_filings_directory / subdir.name)"
   ]
  },
  {
   "cell_type": "code",
   "execution_count": 28,
   "id": "100456f7-5c3f-400a-8778-fc39afad0bdd",
   "metadata": {
    "execution": {
     "iopub.execute_input": "2023-01-10T15:57:20.824565Z",
     "iopub.status.busy": "2023-01-10T15:57:20.824565Z",
     "iopub.status.idle": "2023-01-10T15:57:20.839593Z",
     "shell.execute_reply": "2023-01-10T15:57:20.838594Z",
     "shell.execute_reply.started": "2023-01-10T15:57:20.824565Z"
    },
    "tags": []
   },
   "outputs": [
    {
     "data": {
      "text/plain": [
       "array([8.087139263148185, 125, -1, 125], dtype=object)"
      ]
     },
     "execution_count": 28,
     "metadata": {},
     "output_type": "execute_result"
    }
   ],
   "source": []
  },
  {
   "cell_type": "code",
   "execution_count": 36,
   "id": "b93407e7-40f6-4d39-baa9-611bf6d7c9d1",
   "metadata": {
    "execution": {
     "iopub.execute_input": "2023-01-10T21:22:27.708550Z",
     "iopub.status.busy": "2023-01-10T21:22:27.707549Z",
     "iopub.status.idle": "2023-01-10T21:22:28.032084Z",
     "shell.execute_reply": "2023-01-10T21:22:28.032084Z",
     "shell.execute_reply.started": "2023-01-10T21:22:27.708550Z"
    },
    "tags": []
   },
   "outputs": [
    {
     "ename": "NameError",
     "evalue": "name 'TR_02_EXP_SELECT_CIK_CSV_REDUCED' is not defined",
     "output_type": "error",
     "traceback": [
      "\u001b[1;31m---------------------------------------------------------------------------\u001b[0m",
      "\u001b[1;31mNameError\u001b[0m                                 Traceback (most recent call last)",
      "File \u001b[1;32m<timed exec>:17\u001b[0m\n",
      "\u001b[1;31mNameError\u001b[0m: name 'TR_02_EXP_SELECT_CIK_CSV_REDUCED' is not defined"
     ]
    }
   ],
   "source": [
    "%%time\n",
    "TR_01_TEST_676_CIK_CSV_REDUCED = Path(r\"E:\\app_data\\dropbox_13f_files\\processed_tables\\TR_01_TEST_676_CIK_CSV_REDUCED\")\n",
    "\n",
    "columns = ['cik', 'cusip8', 'cusip9','value', 'shares','rdate', 'fdate',\\\n",
    "           'address', 'form', 'shrsOrPrnAmt', 'putCall', 'nameOfIssuer', 'titleOfClass', 'type', 'dsource']\n",
    "\n",
    "\n",
    "\n",
    "pd_dtypes = {'cusip8': str, 'cusip9': str , 'titleOfClass': str, 'form': 'category', 'putCall': 'category',\n",
    "           'shrsOrPrnAmt': 'category', 'value': 'float64', 'shares': 'float64', 'type': 'category', 'nameOfIssuer': str,\n",
    "           'cik' : 'int64', 'address': 'category',  'dsource': 'category'}\n",
    "\n",
    "pd_dtypes_validation = {'cusip8': str, 'cusip9': str , 'titleOfClass': str, 'form': 'category', 'putCall': 'category',\n",
    "           'shrsOrPrnAmt': 'category', 'value': 'int64', 'shares': 'int64', 'type': 'category', 'nameOfIssuer': str,\n",
    "           'cik' : 'int64', 'address': 'category',  'dsource': 'category'}\n",
    "\n",
    "dfs = []\n",
    "for file in TR_02_EXP_SELECT_CIK_CSV_REDUCED.glob(\"2230-*.csv\"):\n",
    "    df = pl.read_csv(file, parse_dates=True) \n",
    "    \n",
    "    dfs.append(df)\n",
    "    \n",
    "    df = pl.concat(dfs).to_pandas().astype(pd_dtypes_validation)\n",
    "    # df = df.to_pandas().astype(pd_dtypes_validation)"
   ]
  },
  {
   "cell_type": "code",
   "execution_count": 97,
   "id": "99b0d0da-b540-4ec7-81d1-0f4a28c68e15",
   "metadata": {
    "execution": {
     "iopub.execute_input": "2023-01-07T00:20:41.639274Z",
     "iopub.status.busy": "2023-01-07T00:20:41.639274Z",
     "iopub.status.idle": "2023-01-07T00:20:41.652569Z",
     "shell.execute_reply": "2023-01-07T00:20:41.651579Z",
     "shell.execute_reply.started": "2023-01-07T00:20:41.639274Z"
    },
    "tags": []
   },
   "outputs": [],
   "source": [
    "# df.info()"
   ]
  },
  {
   "cell_type": "code",
   "execution_count": 45,
   "id": "4222cfa0-851f-4f89-9d43-663fda4fc6a5",
   "metadata": {
    "execution": {
     "iopub.execute_input": "2023-01-09T00:06:23.137479Z",
     "iopub.status.busy": "2023-01-09T00:06:23.137479Z",
     "iopub.status.idle": "2023-01-09T00:06:23.176478Z",
     "shell.execute_reply": "2023-01-09T00:06:23.175519Z",
     "shell.execute_reply.started": "2023-01-09T00:06:23.137479Z"
    },
    "tags": []
   },
   "outputs": [
    {
     "data": {
      "text/html": [
       "<div>\n",
       "<style scoped>\n",
       "    .dataframe tbody tr th:only-of-type {\n",
       "        vertical-align: middle;\n",
       "    }\n",
       "\n",
       "    .dataframe tbody tr th {\n",
       "        vertical-align: top;\n",
       "    }\n",
       "\n",
       "    .dataframe thead th {\n",
       "        text-align: right;\n",
       "    }\n",
       "</style>\n",
       "<table border=\"1\" class=\"dataframe\">\n",
       "  <thead>\n",
       "    <tr style=\"text-align: right;\">\n",
       "      <th></th>\n",
       "      <th>cik</th>\n",
       "      <th>cusip8</th>\n",
       "      <th>cusip9</th>\n",
       "      <th>value</th>\n",
       "      <th>shares</th>\n",
       "      <th>rdate</th>\n",
       "      <th>fdate</th>\n",
       "      <th>address</th>\n",
       "      <th>form</th>\n",
       "      <th>shrsOrPrnAmt</th>\n",
       "      <th>putCall</th>\n",
       "      <th>nameOfIssuer</th>\n",
       "      <th>titleOfClass</th>\n",
       "      <th>type</th>\n",
       "      <th>dsource</th>\n",
       "    </tr>\n",
       "  </thead>\n",
       "  <tbody>\n",
       "    <tr>\n",
       "      <th>24</th>\n",
       "      <td>2230</td>\n",
       "      <td>03475V10</td>\n",
       "      <td>03475V101</td>\n",
       "      <td>120</td>\n",
       "      <td>6100</td>\n",
       "      <td>2019-06-30</td>\n",
       "      <td>2019-07-29</td>\n",
       "      <td>2230/0001144204-19-036410.txt</td>\n",
       "      <td>13F-HR</td>\n",
       "      <td>SH</td>\n",
       "      <td>NaN</td>\n",
       "      <td>AngioDynamics, Inc.</td>\n",
       "      <td>COM</td>\n",
       "      <td>xml</td>\n",
       "      <td>dropbox</td>\n",
       "    </tr>\n",
       "    <tr>\n",
       "      <th>80</th>\n",
       "      <td>2230</td>\n",
       "      <td>29251M10</td>\n",
       "      <td>29251M106</td>\n",
       "      <td>84</td>\n",
       "      <td>1000</td>\n",
       "      <td>2019-06-30</td>\n",
       "      <td>2019-07-29</td>\n",
       "      <td>2230/0001144204-19-036410.txt</td>\n",
       "      <td>13F-HR</td>\n",
       "      <td>SH</td>\n",
       "      <td>NaN</td>\n",
       "      <td>Enanta Pharmaceuticals, Inc.</td>\n",
       "      <td>COM</td>\n",
       "      <td>xml</td>\n",
       "      <td>dropbox</td>\n",
       "    </tr>\n",
       "  </tbody>\n",
       "</table>\n",
       "</div>"
      ],
      "text/plain": [
       "     cik    cusip8     cusip9  value  shares      rdate      fdate  \\\n",
       "24  2230  03475V10  03475V101    120    6100 2019-06-30 2019-07-29   \n",
       "80  2230  29251M10  29251M106     84    1000 2019-06-30 2019-07-29   \n",
       "\n",
       "                          address    form shrsOrPrnAmt putCall  \\\n",
       "24  2230/0001144204-19-036410.txt  13F-HR           SH     NaN   \n",
       "80  2230/0001144204-19-036410.txt  13F-HR           SH     NaN   \n",
       "\n",
       "                    nameOfIssuer titleOfClass type  dsource  \n",
       "24           AngioDynamics, Inc.          COM  xml  dropbox  \n",
       "80  Enanta Pharmaceuticals, Inc.          COM  xml  dropbox  "
      ]
     },
     "execution_count": 45,
     "metadata": {},
     "output_type": "execute_result"
    }
   ],
   "source": [
    "df.query('index.isin([24, 80])').head(7)\n",
    "\n",
    "# 0     26       1957109\n",
    "# 1    183     718154107\n",
    "# 2   1369     297659104\n",
    "# 3   4145     362320103\n",
    "# 4   4358      16962105\n",
    "# 5   4373      67543101\n",
    "# 6   4383      90078109"
   ]
  },
  {
   "cell_type": "code",
   "execution_count": 49,
   "id": "b03ffa5f-5b51-42a0-bd2e-f1ea34e014a2",
   "metadata": {
    "execution": {
     "iopub.execute_input": "2023-01-09T00:11:23.621308Z",
     "iopub.status.busy": "2023-01-09T00:11:23.621308Z",
     "iopub.status.idle": "2023-01-09T00:11:23.636309Z",
     "shell.execute_reply": "2023-01-09T00:11:23.635311Z",
     "shell.execute_reply.started": "2023-01-09T00:11:23.621308Z"
    },
    "tags": []
   },
   "outputs": [],
   "source": [
    "\n",
    "basic_types_schema = pa.DataFrameSchema({\n",
    "    \"cik\": pa.Column('int64'),\n",
    "    \"cusip8\": pa.Column(str),\n",
    "    \"cusip9\": pa.Column(str),\n",
    "    \"rdate\": pa.Column(\"datetime64\"),\n",
    "    \"fdate\": pa.Column(\"datetime64\"),\n",
    "    \"value\": pa.Column(\"int64\")\n",
    "    \n",
    "    \n",
    "    })"
   ]
  },
  {
   "cell_type": "code",
   "execution_count": null,
   "id": "5db972ac-f0d2-45c0-a680-2048812d63ce",
   "metadata": {
    "tags": []
   },
   "outputs": [],
   "source": [
    "basic_types_schema.validate(df[columns])"
   ]
  },
  {
   "cell_type": "code",
   "execution_count": null,
   "id": "c1b63469-5729-4100-ae28-ab9da1293a41",
   "metadata": {
    "tags": []
   },
   "outputs": [],
   "source": [
    "%%time\n",
    "# Pandera also allows validating value ranges for numerical columns\n",
    "# value_range_schema = pa.DataFrameSchema({\n",
    "#     \"LotArea\": pa.Column(int, pa.Check(lambda s: s <= 1000000), nullable=False),\n",
    "#     \"YearBuilt\": pa.Column(int, pa.Check.in_range(1800, 2022)),\n",
    "# })\n",
    "\n",
    "value_range_schema = pa.DataFrameSchema({\n",
    "    \"cik\": pa.Column('int64'),\n",
    "    \"cusip8\": pa.Column(str, pa.Check(lambda s: s.str.len() >= 8), pa.Check(lambda s: s.str.len() <= 9)),\n",
    "    \"cusip9\": pa.Column(str, pa.Check(lambda s: s.str.len() >= 9), pa.Check(lambda s: s.str.len() <= 9)),\n",
    "\n",
    "    # \"cusip9\": pa.Column(str, pa.Check(lambda s: ~s.str.contains(\"\\+|\\-\"))),\n",
    "    # \"rdate\": pa.Column(\"datetime64\"),\n",
    "    # \"fdate\": pa.Column(\"datetime64\"),\n",
    "    # \"value\": pa.Column(\"int64\", pa.Check(lambda s: s <= 1000000), nullable=False)\n",
    "                        })\n",
    "%time value_range_schema.validate(df[columns])\n",
    "\n"
   ]
  },
  {
   "cell_type": "code",
   "execution_count": 58,
   "id": "b4fc1015-458f-47b2-bf49-6eb9bc37a264",
   "metadata": {
    "execution": {
     "iopub.execute_input": "2023-01-09T00:24:10.399874Z",
     "iopub.status.busy": "2023-01-09T00:24:10.399874Z",
     "iopub.status.idle": "2023-01-09T00:24:10.431873Z",
     "shell.execute_reply": "2023-01-09T00:24:10.430873Z",
     "shell.execute_reply.started": "2023-01-09T00:24:10.399874Z"
    },
    "tags": []
   },
   "outputs": [
    {
     "data": {
      "text/html": [
       "<div>\n",
       "<style scoped>\n",
       "    .dataframe tbody tr th:only-of-type {\n",
       "        vertical-align: middle;\n",
       "    }\n",
       "\n",
       "    .dataframe tbody tr th {\n",
       "        vertical-align: top;\n",
       "    }\n",
       "\n",
       "    .dataframe thead th {\n",
       "        text-align: right;\n",
       "    }\n",
       "</style>\n",
       "<table border=\"1\" class=\"dataframe\">\n",
       "  <thead>\n",
       "    <tr style=\"text-align: right;\">\n",
       "      <th></th>\n",
       "      <th>cik</th>\n",
       "      <th>cusip8</th>\n",
       "      <th>cusip9</th>\n",
       "      <th>value</th>\n",
       "      <th>shares</th>\n",
       "      <th>rdate</th>\n",
       "      <th>fdate</th>\n",
       "      <th>address</th>\n",
       "      <th>form</th>\n",
       "      <th>shrsOrPrnAmt</th>\n",
       "      <th>putCall</th>\n",
       "      <th>nameOfIssuer</th>\n",
       "      <th>titleOfClass</th>\n",
       "      <th>type</th>\n",
       "      <th>dsource</th>\n",
       "    </tr>\n",
       "  </thead>\n",
       "  <tbody>\n",
       "  </tbody>\n",
       "</table>\n",
       "</div>"
      ],
      "text/plain": [
       "Empty DataFrame\n",
       "Columns: [cik, cusip8, cusip9, value, shares, rdate, fdate, address, form, shrsOrPrnAmt, putCall, nameOfIssuer, titleOfClass, type, dsource]\n",
       "Index: []"
      ]
     },
     "execution_count": 58,
     "metadata": {},
     "output_type": "execute_result"
    }
   ],
   "source": [
    "filter = df.cusip9.str.contains('\\+')\n",
    "df.loc[filter]"
   ]
  },
  {
   "cell_type": "code",
   "execution_count": 96,
   "id": "fd2a2bbe-9ca8-41c8-87ae-87c47528b643",
   "metadata": {
    "execution": {
     "iopub.execute_input": "2023-01-09T02:53:31.419918Z",
     "iopub.status.busy": "2023-01-09T02:53:31.418891Z",
     "iopub.status.idle": "2023-01-09T02:53:31.432871Z",
     "shell.execute_reply": "2023-01-09T02:53:31.431876Z",
     "shell.execute_reply.started": "2023-01-09T02:53:31.419918Z"
    },
    "tags": []
   },
   "outputs": [
    {
     "data": {
      "text/plain": [
       "8750    000361105\n",
       "8751    001055102\n",
       "8328    001055102\n",
       "8539    001055102\n",
       "9182    001055102\n",
       "          ...    \n",
       "8538    Y1771G102\n",
       "8749    Y1771G102\n",
       "8962    Y1771G102\n",
       "6770    Y1771G102\n",
       "9401    Y1771G102\n",
       "Name: cusip9, Length: 9402, dtype: object"
      ]
     },
     "execution_count": 96,
     "metadata": {},
     "output_type": "execute_result"
    }
   ],
   "source": [
    "df.cusip9.sort_values(ascending=True)"
   ]
  },
  {
   "cell_type": "code",
   "execution_count": null,
   "id": "103eeb88-d8a1-446f-8374-a639f2bb8bcf",
   "metadata": {},
   "outputs": [],
   "source": []
  },
  {
   "cell_type": "code",
   "execution_count": 14,
   "id": "34cec1e5-1fcd-445c-b0a0-73a0ddd28b9f",
   "metadata": {
    "execution": {
     "iopub.execute_input": "2023-01-10T16:55:33.910429Z",
     "iopub.status.busy": "2023-01-10T16:55:33.910429Z",
     "iopub.status.idle": "2023-01-10T16:55:34.489410Z",
     "shell.execute_reply": "2023-01-10T16:55:34.488625Z",
     "shell.execute_reply.started": "2023-01-10T16:55:33.910429Z"
    },
    "tags": []
   },
   "outputs": [
    {
     "data": {
      "text/plain": [
       "WindowsPath('E:/app_data/dropbox_13f_files/processed_tables/TR_00_TEST_676_CIK_TXT/1000097/0000919574-00-000478.txt')"
      ]
     },
     "execution_count": 14,
     "metadata": {},
     "output_type": "execute_result"
    }
   ],
   "source": [
    "list(filings_676_txt.rglob(\"*.txt\"))[0]"
   ]
  },
  {
   "cell_type": "code",
   "execution_count": 176,
   "id": "a90a746e-b0da-411e-8a30-2094376dc502",
   "metadata": {
    "execution": {
     "iopub.execute_input": "2023-01-10T23:33:32.260161Z",
     "iopub.status.busy": "2023-01-10T23:33:32.260161Z",
     "iopub.status.idle": "2023-01-10T23:33:32.477170Z",
     "shell.execute_reply": "2023-01-10T23:33:32.477170Z",
     "shell.execute_reply.started": "2023-01-10T23:33:32.260161Z"
    },
    "scrolled": true,
    "tags": []
   },
   "outputs": [
    {
     "name": "stdout",
     "output_type": "stream",
     "text": [
      "CPU times: total: 203 ms\n",
      "Wall time: 206 ms\n"
     ]
    }
   ],
   "source": [
    "%%time\n",
    "import re\n",
    "import pandas as pd\n",
    "import numpy as np\n",
    "from pathlib import Path\n",
    "from datetime import datetime\n",
    "\n",
    "# Define the regular expression to extrtact `cusip` values\n",
    "exp_cusip = r\"\\b[A-Za-z0-9]{9}(?<![A-Za-z]{9})\\b\"\n",
    "\n",
    "# Compile the regular expression\n",
    "pattern_cusip = re.compile(exp_cusip)\n",
    "\n",
    "# Open the text file\n",
    "filings_676_txt = Path(r\"E:\\app_data\\dropbox_13f_files\\processed_tables\\TR_00_TEST_676_CIK_TXT\")\n",
    "# files = filings_676_txt.rglob(\"*.txt\")  \n",
    "files = filings_676_txt.rglob(\"*1006435/0001006435-12-000004.txt\")  # -03-000131\n",
    "big_df = pd.DataFrame()\n",
    "for file in files:\n",
    "    with open(file, 'r') as f:\n",
    "        # Read the contents of the file\n",
    "        text = f.read()\n",
    "        # print(file)\n",
    "        \n",
    "    xml_pattern = r'<?xml'\n",
    "    match_xml = re.search(xml_pattern, text, re.DOTALL | re.IGNORECASE)\n",
    "    if match_xml: continue\n",
    "    \n",
    "    header_pattern = r'^.*<TABLE>'\n",
    "    match_header = re.search(header_pattern, text, re.DOTALL | re.IGNORECASE)\n",
    "    \n",
    "    data_dict = dict()\n",
    "    data_dict['rdate'] = datetime.strptime(\n",
    "        re.compile(r\"(?<=CONFORMED PERIOD OF REPORT:).*\")\n",
    "        .search(text)\n",
    "        .group(0)\n",
    "        .strip(),\n",
    "        \"%Y%m%d\",\n",
    "    ).date()\n",
    "    \n",
    "    data_dict['fdate'] = datetime.strptime(\n",
    "        re.compile(r\"(?<=FILED AS OF DATE:).*\")\n",
    "        .search(text)\n",
    "        .group(0)\n",
    "        .strip(),\n",
    "        \"%Y%m%d\",\n",
    "    ).date()\n",
    "    \n",
    "    accession = (\n",
    "        re.compile(r\"(?<=ACCESSION NUMBER:).*\")\n",
    "        .search(text)\n",
    "        .group(0)\n",
    "        .strip()+\".txt\"\n",
    "    )\n",
    "    cik = (\n",
    "        re.compile(r\"(?<=CENTRAL INDEX KEY:).*\")\n",
    "        .search(text)\n",
    "        .group(0)\n",
    "        .strip().lstrip('0')\n",
    "        )\n",
    "    data_dict['address']  = '/'.join([cik, accession])\n",
    "    \n",
    "    ## !!! todo !!! problem with cases where there is no lines for entry or value total at all. code break at the missing .group(0)\n",
    "    \n",
    "    entry_total = re.compile(r\"(Entry Total(:)?).*\").search(text)\n",
    "    if entry_total:\n",
    "        entry_total = entry_total.group(0).strip()\n",
    "        entry_total = re.sub(r'\\D', '', entry_total)\n",
    "        if entry_total:\n",
    "            entry_total = int(entry_total)\n",
    "        else:\n",
    "            entry_total = np.nan\n",
    "    else:\n",
    "        entry_total = np.nan\n",
    "    data_dict['entry_total'] = entry_total\n",
    "    \n",
    "    #######----\n",
    "    \n",
    "    value_total = re.compile(r\"(Value Total(:)?).*\").search(text)\n",
    "    if value_total:\n",
    "        value_total = value_total.group(0).strip()\n",
    "        value_total = re.sub(r'\\D', '', value_total)\n",
    "        if value_total:\n",
    "            value_total = int(value_total)\n",
    "        else:\n",
    "            value_total = np.nan\n",
    "            \n",
    "    else:\n",
    "        value_total = np.nan\n",
    "    data_dict['value_total'] = value_total\n",
    "\n",
    "    \n",
    "    header_df = pd.DataFrame.from_dict([data_dict]).astype({'entry_total': 'Int64', 'value_total': 'Int64'})       \n",
    "    \n",
    "    # Search for table section\n",
    "    table_pattern = r'<TABLE>.*$'\n",
    "    # match_table = re.search(table_pattern, text, re.DOTALL | re.IGNORECASE)\n",
    "    # if match_table:\n",
    "        \n",
    "    matches = pattern_cusip.finditer(text)\n",
    "        # Create a list of the matched strings\n",
    "    matched_strings = [match.group(0) for match in matches]\n",
    "    matched_strings = set(matched_strings)\n",
    "    matched_strings = set([s for s in matched_strings if not re.search(r'([^\\d]{3,})', s)])\n",
    "\n",
    "    df = pd.DataFrame(matched_strings, columns=['cusip'])\n",
    "    # else:\n",
    "    #     df = pd.DataFrame(\"no_cusip\", columns=['cusip'])\n",
    "        \n",
    "    df = pd.concat([header_df, df], axis=1).ffill()\n",
    "    big_df = pd.concat([big_df, df])\n",
    "\n",
    "    # Filter out the strings that contain only non-digit characters\n",
    "    # filtered_strings = set([s for s in matched_strings if any(c.isdigit() for c in s) and not all(c.isalpha() for c in s)])\n"
   ]
  },
  {
   "cell_type": "code",
   "execution_count": null,
   "id": "75009b45-c07d-4572-929f-b4591cd324eb",
   "metadata": {
    "tags": []
   },
   "outputs": [],
   "source": [
    "df"
   ]
  },
  {
   "cell_type": "code",
   "execution_count": null,
   "id": "a24b6ad2-7b88-4e83-8956-fbf1773da42e",
   "metadata": {
    "tags": []
   },
   "outputs": [],
   "source": [
    "# big_df = big_df.drop_duplicates() # before  # (15354045, 6)\n",
    "# pd_dtypes = {'cusip': 'category' , 'value_total': 'Int64', 'entry_total': 'Int64', 'address': 'category',\n",
    "#            'rdate': 'datetime64', 'fdate': 'datetime64'}\n",
    "\n",
    "# directory = Path(r\"E:\\app_data\\dropbox_13f_files\\processed_tables\")\n",
    "big_df = big_df.astype(pd_dtypes)\n",
    "big_df.info()\n",
    "# big_df.to_parquet(Path.joinpath(directory, 'value_total_676.parquet'), index=False)"
   ]
  },
  {
   "cell_type": "code",
   "execution_count": 221,
   "id": "705d7617-57aa-4d8a-a230-e57a748d53f2",
   "metadata": {
    "execution": {
     "iopub.execute_input": "2023-01-11T00:18:55.616275Z",
     "iopub.status.busy": "2023-01-11T00:18:55.616275Z",
     "iopub.status.idle": "2023-01-11T00:18:55.885307Z",
     "shell.execute_reply": "2023-01-11T00:18:55.885307Z",
     "shell.execute_reply.started": "2023-01-11T00:18:55.616275Z"
    },
    "scrolled": true,
    "tags": []
   },
   "outputs": [
    {
     "data": {
      "text/plain": [
       "2391192     1040197/0001040197-00-500003.txt\n",
       "2391339     1040197/0001040197-00-500005.txt\n",
       "2391474     1040197/0001040197-00-500006.txt\n",
       "2391602     1040197/0001040197-01-500010.txt\n",
       "2399970     1040197/0001040197-99-000002.txt\n",
       "                          ...               \n",
       "15266715     947822/0000905718-00-000376.txt\n",
       "15266736     947822/0000905718-01-000053.txt\n",
       "15267565     947822/0000905718-99-000320.txt\n",
       "15267589     947822/0000905718-99-000429.txt\n",
       "15267616     947822/0000905718-99-000525.txt\n",
       "Name: address, Length: 704, dtype: category\n",
       "Categories (41084, object): ['1000097/0000919574-00-000478.txt', '1000097/0000919574-00-000575.txt', '1000097/0000919574-00-000601.txt', '1000097/0000919574-00-000736.txt', ..., '98758/0001193125-12-351360.txt', '98758/0001193125-12-462906.txt', '98758/0001193125-13-060787.txt', '98758/0001193125-13-213931.txt']"
      ]
     },
     "execution_count": 221,
     "metadata": {},
     "output_type": "execute_result"
    }
   ],
   "source": [
    "# big_df2 = pd.read_parquet(Path.joinpath(directory, \"value_total_676.parquet\"))\n",
    "dont_have_value_in_txt = ['1026710', '1011659']\n",
    "fixed_value_cik = ['1008895' , '1002152', '1006435', '1011659', '1026710', '1033427', '1033505' , '1035463', '1037389']\n",
    "(big_df2.query(\"value_total.isna() & \\\n",
    "                entry_total.notna() & \\\n",
    "                address.str.contains('|'.join(@fixed_value_cik))==False\")\n",
    " \n",
    "         .drop_duplicates(subset=['address'])['address'])\n",
    "                # address.str.contains('1033505') \\\n",
    "# df.query(\"cusip == '066050105'\")\n",
    "# value_total\n",
    "# matched_strings\n",
    "# [s for s in matched_strings if not re.search(r'([^\\d]{3,})', s).group(0)]\n",
    "# [s for s in matched_strings if not re.search(r'([^\\d]{3,})', s)]"
   ]
  },
  {
   "cell_type": "code",
   "execution_count": 220,
   "id": "fba9708f-2453-49d5-a0c2-8a59c5bcccee",
   "metadata": {
    "execution": {
     "iopub.execute_input": "2023-01-11T00:17:59.286708Z",
     "iopub.status.busy": "2023-01-11T00:17:59.285725Z",
     "iopub.status.idle": "2023-01-11T00:17:59.589788Z",
     "shell.execute_reply": "2023-01-11T00:17:59.588966Z",
     "shell.execute_reply.started": "2023-01-11T00:17:59.286708Z"
    },
    "tags": []
   },
   "outputs": [],
   "source": [
    "files = filings_676_txt.rglob(\"1037389/*.txt\")  # -03-000131\n",
    "# l = ('1008895/0001008895-06-000002.txt',\n",
    "#  '1008895/0001008895-06-000009.txt',\n",
    "#  '1008895/0001008895-06-000011.txt')\n",
    "\n",
    "for file in files:\n",
    "    if \"1037389/\"+file.name in l:\n",
    "    \n",
    "        with open(file, 'r') as f:\n",
    "            # Read the contents of the file\n",
    "            text = f.read()\n",
    "            # print(file)\n",
    "        # code to find the 2nd occurence of the substring in the text and \n",
    "        # substitute only this 2nd ocurrence with something else \n",
    "        \n",
    "        # entry_total = re.compile(r\"(Value \\(x1000\\) Total)\").finditer(text)\n",
    "        # matches =  [match.group(0) for match in entry_total]\n",
    "        # # print(matches)\n",
    "        # if len(matches) > 1:  \n",
    "        #     where = [m.start() for m in re.finditer(\"Value (x1000) Total\", text)][1-1]\n",
    "        #     before = text[:where]\n",
    "        #     after = text[where:]\n",
    "        #     after = after.replace(\"Value (x1000) Total\", \"(x1000) Value Total\", 1)\n",
    "        #     updated_text = before + after\n",
    "        #     print(updated_text)\n",
    "        \n",
    "############################## Value \\(x $1000\\) Total\n",
    "        entry_total = re.compile(r\"(Value \\(x \\$1000\\) Total)\").finditer(text)\n",
    "        matches =  [match.group(0) for match in entry_total]\n",
    "        # print(matches)\n",
    "        if matches:  \n",
    "            updated_text = text.replace(\"Value (x $1000) Total\", \"(x $1000) Value Total\", 1)\n",
    "\n",
    "            # print(updated_text[:10000])\n",
    "\n",
    "        # Write the file out again\n",
    "        with open(file, 'w') as file:\n",
    "            file.write(updated_text)\n",
    "    \n",
    "    "
   ]
  },
  {
   "cell_type": "code",
   "execution_count": 214,
   "id": "f7ed8af7-7670-4bdd-a09d-e7dc24438d96",
   "metadata": {
    "execution": {
     "iopub.execute_input": "2023-01-11T00:15:12.726636Z",
     "iopub.status.busy": "2023-01-11T00:15:12.726636Z",
     "iopub.status.idle": "2023-01-11T00:15:12.854665Z",
     "shell.execute_reply": "2023-01-11T00:15:12.854665Z",
     "shell.execute_reply.started": "2023-01-11T00:15:12.726636Z"
    },
    "tags": []
   },
   "outputs": [
    {
     "name": "stdout",
     "output_type": "stream",
     "text": [
      "True\n",
      "True\n",
      "True\n",
      "True\n",
      "True\n",
      "True\n",
      "True\n",
      "True\n",
      "True\n",
      "True\n",
      "True\n",
      "True\n",
      "True\n",
      "True\n",
      "True\n",
      "True\n",
      "True\n",
      "True\n",
      "True\n",
      "True\n",
      "True\n",
      "True\n",
      "True\n",
      "True\n",
      "True\n",
      "True\n",
      "True\n",
      "True\n",
      "True\n",
      "True\n",
      "True\n",
      "True\n",
      "True\n",
      "True\n",
      "True\n",
      "True\n",
      "True\n",
      "True\n",
      "True\n",
      "True\n",
      "True\n",
      "True\n",
      "True\n",
      "True\n",
      "True\n",
      "True\n",
      "True\n",
      "True\n",
      "True\n",
      "True\n",
      "True\n",
      "True\n",
      "True\n",
      "True\n",
      "True\n",
      "True\n",
      "True\n",
      "True\n",
      "True\n",
      "True\n",
      "True\n",
      "True\n",
      "True\n",
      "True\n",
      "True\n",
      "True\n",
      "True\n",
      "True\n",
      "True\n",
      "True\n",
      "True\n",
      "True\n",
      "True\n",
      "True\n"
     ]
    }
   ],
   "source": [
    "files = list(filings_676_txt.rglob(\"1037389/*.txt\"))\n",
    "for file in files:\n",
    "    if \"1037389/\"+file.name in l:\n",
    "        print(True)\n"
   ]
  },
  {
   "cell_type": "code",
   "execution_count": 153,
   "id": "892f8b11-b2a8-46de-b2b6-cdb8ca9b1e35",
   "metadata": {
    "execution": {
     "iopub.execute_input": "2023-01-10T23:10:27.601177Z",
     "iopub.status.busy": "2023-01-10T23:10:27.601177Z",
     "iopub.status.idle": "2023-01-10T23:10:27.609163Z",
     "shell.execute_reply": "2023-01-10T23:10:27.608181Z",
     "shell.execute_reply.started": "2023-01-10T23:10:27.601177Z"
    },
    "tags": []
   },
   "outputs": [
    {
     "data": {
      "text/plain": [
       "('1008895/0001008895-00-000001.txt', '1008895/0001008895-06-000002.txt')"
      ]
     },
     "execution_count": 153,
     "metadata": {},
     "output_type": "execute_result"
    }
   ],
   "source": [
    "\"1008895/\"+files.name, l[0]\n"
   ]
  },
  {
   "cell_type": "code",
   "execution_count": 196,
   "id": "6ef6f9d6-4484-49a9-b144-23a537929e0d",
   "metadata": {
    "execution": {
     "iopub.execute_input": "2023-01-10T23:47:54.073339Z",
     "iopub.status.busy": "2023-01-10T23:47:54.073339Z",
     "iopub.status.idle": "2023-01-10T23:47:54.093345Z",
     "shell.execute_reply": "2023-01-10T23:47:54.092338Z",
     "shell.execute_reply.started": "2023-01-10T23:47:54.073339Z"
    },
    "tags": []
   },
   "outputs": [
    {
     "data": {
      "text/plain": [
       "[]"
      ]
     },
     "execution_count": 196,
     "metadata": {},
     "output_type": "execute_result"
    }
   ],
   "source": [
    "matches"
   ]
  },
  {
   "cell_type": "code",
   "execution_count": null,
   "id": "7e536719-b8f7-48e3-a13c-e6969b463c26",
   "metadata": {},
   "outputs": [],
   "source": []
  },
  {
   "cell_type": "code",
   "execution_count": null,
   "id": "3e7f2fea-4399-4f03-a2e0-db1acbd3e043",
   "metadata": {},
   "outputs": [],
   "source": []
  },
  {
   "cell_type": "code",
   "execution_count": null,
   "id": "b160db3f-e63f-46c5-bd0c-a522cfde0749",
   "metadata": {},
   "outputs": [],
   "source": []
  },
  {
   "cell_type": "code",
   "execution_count": null,
   "id": "2923290f-4eb9-43a7-8ca6-46b57969d22b",
   "metadata": {},
   "outputs": [],
   "source": []
  },
  {
   "cell_type": "code",
   "execution_count": null,
   "id": "135a6bbf-5caf-4625-a63a-a1f1906d8709",
   "metadata": {},
   "outputs": [],
   "source": []
  },
  {
   "cell_type": "code",
   "execution_count": null,
   "id": "a0cd6a1d-0d96-4c29-9dec-d73371681b3d",
   "metadata": {},
   "outputs": [],
   "source": []
  },
  {
   "cell_type": "code",
   "execution_count": null,
   "id": "6cae51ac-d64b-4dd0-9726-eaebf9643346",
   "metadata": {},
   "outputs": [],
   "source": []
  },
  {
   "cell_type": "code",
   "execution_count": null,
   "id": "3dc1a331-3dd2-4107-95f2-84341c7f8c96",
   "metadata": {},
   "outputs": [],
   "source": []
  },
  {
   "cell_type": "code",
   "execution_count": null,
   "id": "cd1cec09-83e3-441b-9e3a-733ac166d33a",
   "metadata": {},
   "outputs": [],
   "source": []
  },
  {
   "cell_type": "code",
   "execution_count": null,
   "id": "5514b8fc-03bd-47ba-bbdf-619477cea33d",
   "metadata": {},
   "outputs": [],
   "source": []
  },
  {
   "cell_type": "code",
   "execution_count": null,
   "id": "ed840f59-06dd-41e6-952e-cadf1889dc7e",
   "metadata": {},
   "outputs": [],
   "source": []
  },
  {
   "cell_type": "code",
   "execution_count": null,
   "id": "d933ac20-c465-43cf-bb24-b27fffbcba9e",
   "metadata": {},
   "outputs": [],
   "source": []
  },
  {
   "cell_type": "code",
   "execution_count": null,
   "id": "f5730a0d-33d2-4e66-bb87-ee2ed5942412",
   "metadata": {},
   "outputs": [],
   "source": []
  },
  {
   "cell_type": "code",
   "execution_count": null,
   "id": "e7c4b27e-d75a-4f1b-b9be-3f6ffd781fe4",
   "metadata": {},
   "outputs": [],
   "source": []
  },
  {
   "cell_type": "code",
   "execution_count": null,
   "id": "91c2243a-c06e-4e93-b5b6-2c06aa536fec",
   "metadata": {},
   "outputs": [],
   "source": []
  },
  {
   "cell_type": "code",
   "execution_count": null,
   "id": "cfd3445b-e81a-472f-9744-0c5a9f1beab0",
   "metadata": {},
   "outputs": [],
   "source": []
  },
  {
   "cell_type": "code",
   "execution_count": null,
   "id": "b8c7b9eb-273d-417a-9946-cf66c3310715",
   "metadata": {},
   "outputs": [],
   "source": []
  },
  {
   "cell_type": "code",
   "execution_count": null,
   "id": "072ad7af-8740-48ee-9b79-5d8a27a37c34",
   "metadata": {},
   "outputs": [],
   "source": []
  },
  {
   "cell_type": "code",
   "execution_count": null,
   "id": "a8aa5663-520e-4abd-8b3a-89b731522d09",
   "metadata": {},
   "outputs": [],
   "source": []
  },
  {
   "cell_type": "code",
   "execution_count": null,
   "id": "1ff258bb-ff76-4d12-b40d-36d98b3f8d38",
   "metadata": {},
   "outputs": [],
   "source": []
  },
  {
   "cell_type": "code",
   "execution_count": null,
   "id": "90195eed-2c1f-4100-8788-ac62762b1c45",
   "metadata": {},
   "outputs": [],
   "source": []
  },
  {
   "cell_type": "code",
   "execution_count": null,
   "id": "0fb6682c-21d7-4b82-856c-9e61d4bc3b4e",
   "metadata": {},
   "outputs": [],
   "source": []
  },
  {
   "cell_type": "code",
   "execution_count": null,
   "id": "8af4b191-4319-4959-9825-40242db14a8f",
   "metadata": {},
   "outputs": [],
   "source": []
  },
  {
   "cell_type": "code",
   "execution_count": null,
   "id": "32ffa717-8519-4cb2-bfe4-0d5d9c4645fd",
   "metadata": {},
   "outputs": [],
   "source": []
  },
  {
   "cell_type": "code",
   "execution_count": null,
   "id": "bf7d500c-12f4-43f5-998e-1499b241891a",
   "metadata": {},
   "outputs": [],
   "source": []
  },
  {
   "cell_type": "code",
   "execution_count": null,
   "id": "046fb560-8039-479e-a034-55e9b9968cd4",
   "metadata": {},
   "outputs": [],
   "source": []
  },
  {
   "cell_type": "code",
   "execution_count": null,
   "id": "44372310-584a-4e3b-a7f4-a1590e58d33d",
   "metadata": {},
   "outputs": [],
   "source": [
    "txt = \"\"\"\n",
    "AB,CD,EF, JJ\n",
    "foo,20160101,a,23\n",
    "foo,20160102,a,34\n",
    "foo,20160103,a,56\n",
    "\"\"\"\n",
    "lambda txt: len(txt) <= 10\n",
    "# data = pl.read_csv(io.StringIO(txt))\n",
    "# data = data."
   ]
  },
  {
   "cell_type": "code",
   "execution_count": 52,
   "id": "fbe79f6b-df65-4778-be7f-16a5d3b614a3",
   "metadata": {
    "execution": {
     "iopub.execute_input": "2023-01-06T23:41:32.693356Z",
     "iopub.status.busy": "2023-01-06T23:41:32.693356Z",
     "iopub.status.idle": "2023-01-06T23:41:32.708624Z",
     "shell.execute_reply": "2023-01-06T23:41:32.707625Z",
     "shell.execute_reply.started": "2023-01-06T23:41:32.693356Z"
    },
    "tags": []
   },
   "outputs": [],
   "source": [
    "# different pandas dtypes\n",
    "\n",
    "dtypes =    {\n",
    "        \"ID\": str,\n",
    "        \"accessionNumber\": str,\n",
    "        \"cikManager\": \"Int64\",\n",
    "        \"periodOfReport\": \"datetime64[ns]\",\n",
    "        \"report_Quarter\": \"Int64\",\n",
    "        \"report_Year\": \"Int64\",\n",
    "        \"submissionType\": str,\n",
    "        \"isAmendment\": bool,\n",
    "        \"amendmentType\": str,\n",
    "        \"filedAsOfDate\": \"datetime64[ns]\",\n",
    "        \"entryTotal\": \"Int64\",\n",
    "        \"valueTotal\": \"float64\",\n",
    "        \"cusip\": str,\n",
    "        \"nameOfIssuer\": str,\n",
    "        \"titleOfClass\": str,\n",
    "        \"sharesValue\": \"float64\",\n",
    "        \"sharesHeldAtEndOfQtr\": \"Int64\",\n",
    "        \"securityType\": str,\n",
    "        \"putCall\": str,\n",
    "        \"xml_flag\": str,\n",
    "        \"created_at\": \"datetime64[ns]\",\n",
    "        \"edgar_path\": str,\n",
    "    }"
   ]
  }
 ],
 "metadata": {
  "kernelspec": {
   "display_name": "Python 3 (ipykernel)",
   "language": "python",
   "name": "python3"
  },
  "language_info": {
   "codemirror_mode": {
    "name": "ipython",
    "version": 3
   },
   "file_extension": ".py",
   "mimetype": "text/x-python",
   "name": "python",
   "nbconvert_exporter": "python",
   "pygments_lexer": "ipython3",
   "version": "3.9.7"
  }
 },
 "nbformat": 4,
 "nbformat_minor": 5
}
