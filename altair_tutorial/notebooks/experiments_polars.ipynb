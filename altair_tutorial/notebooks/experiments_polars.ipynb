{
 "cells": [
  {
   "cell_type": "code",
   "execution_count": 107,
   "id": "0762cd43-a2cb-4073-8bbb-2b472b93ce0d",
   "metadata": {
    "execution": {
     "iopub.execute_input": "2023-01-09T17:39:01.257048Z",
     "iopub.status.busy": "2023-01-09T17:39:01.257048Z",
     "iopub.status.idle": "2023-01-09T17:39:01.268030Z",
     "shell.execute_reply": "2023-01-09T17:39:01.267030Z",
     "shell.execute_reply.started": "2023-01-09T17:39:01.257048Z"
    },
    "tags": []
   },
   "outputs": [],
   "source": [
    "from pathlib import Path\n",
    "import pandas as pd\n",
    "import numpy as np\n",
    "import polars as pl\n",
    "import duckdb\n",
    "import os\n",
    "import pandera as pa\n",
    "import io\n",
    "\n",
    "pd.set_option('display.max_columns', 35)\n",
    "pd.set_option(\"display.max_colwidth\",30)\n",
    "pd.set_option(\"display.max_rows()\", 500)\n",
    "\n",
    "FROM_EXPERIMENT_CSV_IN = Path(r\"E:\\app_data\\dropbox_13f_files\\processed_tables\\TR_02_EXP_SELECT_CIK_CSV\")\n",
    "TO_EXPERIMENT_PARQUET = Path(r\"E:\\app_data\\dropbox_13f_files\\processed_tables\\TR_03_EXP_SELECT_CIK_PARQUET\")\n",
    "\n",
    "REDUCED_SELECT_CSV =Path(r\"E:\\app_data\\dropbox_13f_files\\processed_tables\\TR_02_EXP_SELECT_CIK_CSV_REDUCED\")\n",
    "\n",
    "#----\n",
    "processed_tables_copy = Path(r\"E:\\app_data\\dropbox_13f_files\\processed_tables\\processed_tables_copy\")\n",
    "processed_tables_copy_reduced = Path(r\"E:\\app_data\\dropbox_13f_files\\processed_tables\\processed_tables_copy_reduced\")"
   ]
  },
  {
   "cell_type": "markdown",
   "id": "466597c7-1706-4cec-b325-063f477cbb56",
   "metadata": {},
   "source": [
    "### Transforming original `csv` files into new `csv` with a reduced number of columns\n",
    "* new folderd with reduced `csv`: \n",
    "  1. **REDUCED_SELECT_CSV =Path(r\"E:\\app_data\\dropbox_13f_files\\processed_tables\\TR_02_EXP_SELECT_CIK_CSV_REDUCED\")**\n",
    "  2. **processed_tables_copy_reduced = Path(r\"E:\\app_data\\dropbox_13f_files\\processed_tables\\processed_tables_copy_reduced\")**\n",
    "  \n",
    "* It's a one off code\n"
   ]
  },
  {
   "cell_type": "code",
   "execution_count": null,
   "id": "321300de-052b-4b2f-a962-de7d123b1be0",
   "metadata": {
    "tags": []
   },
   "outputs": [],
   "source": [
    "%%time\n",
    "\n",
    "columns = ['cik', 'cusip8', 'cusip9','value', 'shares','rdate', 'fdate',\\\n",
    "           'address', 'form', 'shrsOrPrnAmt', 'putCall', 'nameOfIssuer', 'titleOfClass', 'type', 'dsource']\n",
    "\n",
    "dtypes = {'cusip8': str, 'cusip9': str , 'titleOfClass': str, 'form': str,\n",
    "          'putCall': str, 'shrsOrPrnAmt': str, 'value': pl.Float64, 'shares': pl.Float64, \n",
    "          'nameOfIssuer': str, 'cik' : pl.Int64, 'address': str, 'type': str,'num5': str,\n",
    "          'deviation':str, 'shrout':str,'num3': str,'num2': str, 'num6':str,'num7': str,'num4': str,\n",
    "           'votingAuthority': str, 'in_universe': str,'prc': str, 'split': str,\n",
    "           'investmentDiscretion': str, 'rdate': str, 'fdate': str, 'dsource': str}\n",
    "\n",
    "pd_dtypes = {'cusip8': str, 'cusip9': str , 'titleOfClass': str, 'form': 'category', 'putCall': 'category',\n",
    "           'shrsOrPrnAmt': 'category', 'value': 'float64', 'shares': 'float64', 'type': 'category', 'nameOfIssuer': str,\n",
    "           'cik' : 'int64', 'address': 'category',  'dsource': 'category'}\n",
    "\n",
    "# pd_dtypes_validation = {'cusip8': str, 'cusip9': str , 'titleOfClass': str, 'form': 'category', 'putCall': 'category',\n",
    "#            'shrsOrPrnAmt': 'category', 'value': 'Int64', 'shares': 'Int64', 'type': 'category', 'nameOfIssuer': str,\n",
    "#            'cik' : 'int64', 'address': 'category',  'dsource': 'category'}\n",
    "\n",
    "\n",
    "for file in processed_tables_copy.rglob(\"*.csv\"):\n",
    "    new_file_name = file.parts[-2]+\"-\"+file.name\n",
    "    new_file_path = Path(os.path.join(processed_tables_copy_reduced, new_file_name))\n",
    "    if new_file_path.exists():  continue\n",
    "\n",
    "    \n",
    "    schema = pl.scan_csv(file).schema\n",
    "    read_cols = list(set(schema.keys()).intersection(columns))\n",
    "    df = pl.read_csv(file, columns=read_cols, dtypes=dtypes)\n",
    "\n",
    "    for col in columns:\n",
    "        if col not in df.columns:\n",
    "            df = df.with_column(pl.lit(None, dtype=dtypes[col]).alias(col))\n",
    "\n",
    "    df = df.with_columns([pl.col(\"rdate\").str.strptime(pl.Date, fmt=\"%Y%m%d\"),\n",
    "                        pl.col(\"fdate\").str.strptime(pl.Date, fmt=\"%Y%m%d\"),\n",
    "                        pl.col(\"cusip8\").str.to_uppercase(),\n",
    "                        pl.col(\"cusip9\").str.to_uppercase(),\n",
    "                        pl.lit('dropbox').alias('dsource')]).select(columns)  \n",
    "\n",
    "    df.write_csv(new_file_path, sep=\",\")\n",
    "    df = df.to_pandas().astype(pd_dtypes_validation)"
   ]
  },
  {
   "cell_type": "code",
   "execution_count": 2,
   "id": "65cd4be3-1f12-4639-a554-1f21bf2d3e26",
   "metadata": {
    "execution": {
     "iopub.execute_input": "2023-01-07T18:37:45.560548Z",
     "iopub.status.busy": "2023-01-07T18:37:45.560548Z",
     "iopub.status.idle": "2023-01-07T18:37:48.980846Z",
     "shell.execute_reply": "2023-01-07T18:37:48.980846Z",
     "shell.execute_reply.started": "2023-01-07T18:37:45.560548Z"
    },
    "tags": []
   },
   "outputs": [
    {
     "data": {
      "text/plain": [
       "308586"
      ]
     },
     "execution_count": 2,
     "metadata": {},
     "output_type": "execute_result"
    }
   ],
   "source": [
    "len(list(processed_tables_copy.rglob(\"*.csv\")))\n",
    "# new_file_path"
   ]
  },
  {
   "cell_type": "markdown",
   "id": "a0f14d4b-a45a-482c-bf2a-cb2ee9b1b7fd",
   "metadata": {},
   "source": [
    "### Working on **reduced csv** files to manually improve the data quality with `pandera`"
   ]
  },
  {
   "cell_type": "code",
   "execution_count": 14,
   "id": "801b81d8-2b8b-48f9-9aeb-721eee47134d",
   "metadata": {
    "execution": {
     "iopub.execute_input": "2023-01-08T23:52:51.161397Z",
     "iopub.status.busy": "2023-01-08T23:52:51.160398Z",
     "iopub.status.idle": "2023-01-08T23:52:51.186422Z",
     "shell.execute_reply": "2023-01-08T23:52:51.185392Z",
     "shell.execute_reply.started": "2023-01-08T23:52:51.161397Z"
    }
   },
   "outputs": [],
   "source": [
    "cik = [2230,3520,5272,7195,7789,9015,10742,14661,16972,18349,18748,19475,19617,21175,22657,24386,35442,35527,36066,36104,36644,36966,38777,39263,40417,40545,44365,45319,49205,50863,51762,51812,51964,52234,53417,59558,59951,60086,61227,67698,70858,71210,71259,72971,73124,80255,84616,89014,92230,93751,98758,102212,102909,105495,108572,200217,201772,216851,276101,310051,312348,313028,313807,314949,314957,314984,315014,315032,315038,315054,315066,315080,315157,315297,315498,316011,318989,320335,320376,351051,351173,351262,354204,356264,700529,704051,707179,712537,713676,714142,720672,723204,728083,728100,728618,732905,733020,740272,740913,741073,743127,750641,754811,757657,759944,762152,763212,763848,764068,764106,764112,764529,764532,765443,769317,769954,769963,775368,776867,778963,779519,788714,790354,790502,791191,791490,796848,799003,799004,801051,806097,807249,807985,808722,809339,809443,810265,810384,810386,810672,810716,811360,811454,813917,813933,814133,814375,816788,819535,820027,820123,820124,820289,820478,820743,821197,822581,823621,825293,829407,831001,831571,836372,837592,842782,842941,846222,846633,846788,846797,850401,850529,852743,854157,857508,859872,860486,860561,860580,860585,860643,860644,860645,860662,860748,860828,860857,861176,861177,861462,861787,862469,866361,866842,868491,869178,869179,869353,869367,872080,872163,872259,872573,872732,873630,874791,877134,877338,878228,881432,883511,883677,883782,883790,883803,883961,883965,884300,884314,884414,884423,884541,884546,884548,884566,884589,885062,885415,886982,887402,887777,887818,889232,891287,891478,893738,894205,894300,894309,895213,895421,897070,897378,897599,898358,898382,898399,898413,899211,900169,900529,900973,902219,902367,902464,902584,903064,903944,903947,903949,905567,905591,905608,906304,908195,909151,909661,911274,912938,914933,914976,915287,915325,916542,917579,918893,919079,919185,919192,919458,919489,919497,919530,919538,919859,920440,920441,921531,921669,922127,922439,922898,922940,923093,923116,923469,924166,924171,924181,926688,926833,926834,928047,928196,928566,928568,928633,930441,931097,932024,932974,933429,934639,934999,936698,936753,936936,936941,936944,937394,937522,937589,937615,937760,937886,938076,938206,938487,938582,938592,938759,939219,940445,941560,943719,944234,944804,945625,945631,947822,947996,948518,948669,949012,949509,949615,949623,949853,1000097,1000742,1002152,1002672,1002784,1004244,1005354,1005607,1005817,1006364,1006378,1006407,1006435,1007280,1007399,1007524,1008322,1008877,1008894,1008895,1008929,1008937,1009003,1009005,1009012,1009016,1009022,1009076,1009207,1009209,1009232,1009254,1009258,1009262,1010873,1010911,1011443,1011659,1013234,1013536,1013538,1013701,1014306,1014315,1014736,1014738,1015079,1015083,1015086,1015308,1016150,1016287,1016683,1016972,1017115,1017645,1017918,1018331,1018674,1018825,1019231,1020066,1020317,1020580,1020585,1020617,1020918,1021008,1021117,1021223,1021249,1021258,1021642,1021926,1023279,1024716,1025421,1026200,1026710,1027451,1027796,1027817,1029160,1030618,1030815,1031972,1032814,1033225,1033427,1033475,1033505,1033974,1033984,1034184,1034196,1034524,1034541,1034546,1034549,1034642,1034771,1034886,1035350,1035463,1035912,1036248,1036325,1037389,1037558,1037763,1037792,1038661,1039565,1039807,1040190,1040197,1040198,1040210,1040273,1040592,1040762,1041241,1041885,1042046,1044207,1044797,1044905,1044924,1044929,1044936,1046187,1047339,1048921,1049648,1049650,1050442,1050463,1050470,1051359,1052100,1053013,1053054,1053055,1054074,1054425,1054522,1054554,1054677,1055290,1055544,1055963,1055964,1055966,1056053,1056288,1056466,1056488,1056491,1056515,1056516,1056527,1056549,1056559,1056581,1056593,1056807,1056821,1056825,1056827,1056831,1056859,1056958,1056973,1057395,1057439,1058022,1058470,1058800,1059187,1061186,1061768,1062938,1065349,1065350,1066816,1067324,1067926,1067983,1068829,1070134,1071483,1072843,1074027,1074034,1074266,1074273,1076598,1077148,1077583,1078013,1078246,1078658,1078841,1079112,1079114,1079736,1079738,1079930,1080071,1080107,1080117,1080132,1080166,1080171,1080173,1080197,1080201,1080351,1080374,1080380,1080381,1080382,1080386,1080493,1080523,1080628,1080818,1081019,1081198,1082020,1082215,1082327,1082339,1082461,1082491,1082509,1082621,1082917,1083323,1083340,1084207,1084208,1084683,1085041,1085163,1085227,1085601,1085936,1086477,1086483,1086611,1086619,1086762,1086763,1088859,1088875,1088950,1089707,1089755,1089911,1089991,1090413,1091561,1091860,1091923,1092203,1092290,1092351,1092903,1093276,1093589,1094584,1094749,1095836,1096783,1097218,1097278,1097833,1100710,1101250,1102062,1102578,1102598,1103245,1103738,1103804,1103882,1103887,1104186,1104329,1104366,1105468,1105471,1105497,1105837,1105863,1105909,1106129,1106191,1106500,1106505,1106832,1107261,1107310,1108893,1108965,1108969,1109147,1110806,1113629,1114618,1114739,1114928,1115941,1116247,1125727,1125816,1129770,1133219,1134152,1140334,1140771,1142031,1142062,1158583,1389426,1398739,1469219]"
   ]
  },
  {
   "cell_type": "code",
   "execution_count": 47,
   "id": "b93407e7-40f6-4d39-baa9-611bf6d7c9d1",
   "metadata": {
    "execution": {
     "iopub.execute_input": "2023-01-09T00:10:28.565962Z",
     "iopub.status.busy": "2023-01-09T00:10:28.565962Z",
     "iopub.status.idle": "2023-01-09T00:10:29.554636Z",
     "shell.execute_reply": "2023-01-09T00:10:29.554636Z",
     "shell.execute_reply.started": "2023-01-09T00:10:28.565962Z"
    },
    "tags": []
   },
   "outputs": [
    {
     "name": "stdout",
     "output_type": "stream",
     "text": [
      "CPU times: total: 1.39 s\n",
      "Wall time: 979 ms\n"
     ]
    }
   ],
   "source": [
    "%%time\n",
    "TR_02_EXP_SELECT_CIK_CSV_REDUCED = Path(r\"E:\\app_data\\dropbox_13f_files\\processed_tables\\TR_02_EXP_SELECT_CIK_CSV_REDUCED\")\n",
    "\n",
    "columns = ['cik', 'cusip8', 'cusip9','value', 'shares','rdate', 'fdate',\\\n",
    "           'address', 'form', 'shrsOrPrnAmt', 'putCall', 'nameOfIssuer', 'titleOfClass', 'type', 'dsource']\n",
    "\n",
    "\n",
    "\n",
    "pd_dtypes = {'cusip8': str, 'cusip9': str , 'titleOfClass': str, 'form': 'category', 'putCall': 'category',\n",
    "           'shrsOrPrnAmt': 'category', 'value': 'float64', 'shares': 'float64', 'type': 'category', 'nameOfIssuer': str,\n",
    "           'cik' : 'int64', 'address': 'category',  'dsource': 'category'}\n",
    "\n",
    "pd_dtypes_validation = {'cusip8': str, 'cusip9': str , 'titleOfClass': str, 'form': 'category', 'putCall': 'category',\n",
    "           'shrsOrPrnAmt': 'category', 'value': 'int64', 'shares': 'int64', 'type': 'category', 'nameOfIssuer': str,\n",
    "           'cik' : 'int64', 'address': 'category',  'dsource': 'category'}\n",
    "\n",
    "dfs = []\n",
    "for file in TR_02_EXP_SELECT_CIK_CSV_REDUCED.glob(\"2230-*.csv\"):\n",
    "    df = pl.read_csv(file, parse_dates=True) \n",
    "    \n",
    "    dfs.append(df)\n",
    "    \n",
    "    df = pl.concat(dfs).to_pandas().astype(pd_dtypes_validation)\n",
    "    # df = df.to_pandas().astype(pd_dtypes_validation)"
   ]
  },
  {
   "cell_type": "code",
   "execution_count": null,
   "id": "7b31bdf6-b849-4942-9145-8cc99a2426db",
   "metadata": {
    "tags": []
   },
   "outputs": [],
   "source": [
    "df.head(3)\n",
    "# len(list(FROM_EXPERIMENT_CSV_IN.glob(\"*2230-*.csv\")))"
   ]
  },
  {
   "cell_type": "code",
   "execution_count": 46,
   "id": "99b5d62e-9730-486c-b09d-897676692514",
   "metadata": {
    "execution": {
     "iopub.execute_input": "2023-01-09T00:07:09.587547Z",
     "iopub.status.busy": "2023-01-09T00:07:09.587547Z",
     "iopub.status.idle": "2023-01-09T00:07:09.606550Z",
     "shell.execute_reply": "2023-01-09T00:07:09.605550Z",
     "shell.execute_reply.started": "2023-01-09T00:07:09.587547Z"
    },
    "tags": []
   },
   "outputs": [
    {
     "data": {
      "text/plain": [
       "WindowsPath('E:/app_data/dropbox_13f_files/processed_tables/TR_02_EXP_SELECT_CIK_CSV_REDUCED/2230-0001144204-19-036410.csv')"
      ]
     },
     "execution_count": 46,
     "metadata": {},
     "output_type": "execute_result"
    }
   ],
   "source": [
    "file"
   ]
  },
  {
   "cell_type": "code",
   "execution_count": 97,
   "id": "99b0d0da-b540-4ec7-81d1-0f4a28c68e15",
   "metadata": {
    "execution": {
     "iopub.execute_input": "2023-01-07T00:20:41.639274Z",
     "iopub.status.busy": "2023-01-07T00:20:41.639274Z",
     "iopub.status.idle": "2023-01-07T00:20:41.652569Z",
     "shell.execute_reply": "2023-01-07T00:20:41.651579Z",
     "shell.execute_reply.started": "2023-01-07T00:20:41.639274Z"
    },
    "tags": []
   },
   "outputs": [],
   "source": [
    "# df.info()"
   ]
  },
  {
   "cell_type": "code",
   "execution_count": 45,
   "id": "4222cfa0-851f-4f89-9d43-663fda4fc6a5",
   "metadata": {
    "execution": {
     "iopub.execute_input": "2023-01-09T00:06:23.137479Z",
     "iopub.status.busy": "2023-01-09T00:06:23.137479Z",
     "iopub.status.idle": "2023-01-09T00:06:23.176478Z",
     "shell.execute_reply": "2023-01-09T00:06:23.175519Z",
     "shell.execute_reply.started": "2023-01-09T00:06:23.137479Z"
    },
    "tags": []
   },
   "outputs": [
    {
     "data": {
      "text/html": [
       "<div>\n",
       "<style scoped>\n",
       "    .dataframe tbody tr th:only-of-type {\n",
       "        vertical-align: middle;\n",
       "    }\n",
       "\n",
       "    .dataframe tbody tr th {\n",
       "        vertical-align: top;\n",
       "    }\n",
       "\n",
       "    .dataframe thead th {\n",
       "        text-align: right;\n",
       "    }\n",
       "</style>\n",
       "<table border=\"1\" class=\"dataframe\">\n",
       "  <thead>\n",
       "    <tr style=\"text-align: right;\">\n",
       "      <th></th>\n",
       "      <th>cik</th>\n",
       "      <th>cusip8</th>\n",
       "      <th>cusip9</th>\n",
       "      <th>value</th>\n",
       "      <th>shares</th>\n",
       "      <th>rdate</th>\n",
       "      <th>fdate</th>\n",
       "      <th>address</th>\n",
       "      <th>form</th>\n",
       "      <th>shrsOrPrnAmt</th>\n",
       "      <th>putCall</th>\n",
       "      <th>nameOfIssuer</th>\n",
       "      <th>titleOfClass</th>\n",
       "      <th>type</th>\n",
       "      <th>dsource</th>\n",
       "    </tr>\n",
       "  </thead>\n",
       "  <tbody>\n",
       "    <tr>\n",
       "      <th>24</th>\n",
       "      <td>2230</td>\n",
       "      <td>03475V10</td>\n",
       "      <td>03475V101</td>\n",
       "      <td>120</td>\n",
       "      <td>6100</td>\n",
       "      <td>2019-06-30</td>\n",
       "      <td>2019-07-29</td>\n",
       "      <td>2230/0001144204-19-036410.txt</td>\n",
       "      <td>13F-HR</td>\n",
       "      <td>SH</td>\n",
       "      <td>NaN</td>\n",
       "      <td>AngioDynamics, Inc.</td>\n",
       "      <td>COM</td>\n",
       "      <td>xml</td>\n",
       "      <td>dropbox</td>\n",
       "    </tr>\n",
       "    <tr>\n",
       "      <th>80</th>\n",
       "      <td>2230</td>\n",
       "      <td>29251M10</td>\n",
       "      <td>29251M106</td>\n",
       "      <td>84</td>\n",
       "      <td>1000</td>\n",
       "      <td>2019-06-30</td>\n",
       "      <td>2019-07-29</td>\n",
       "      <td>2230/0001144204-19-036410.txt</td>\n",
       "      <td>13F-HR</td>\n",
       "      <td>SH</td>\n",
       "      <td>NaN</td>\n",
       "      <td>Enanta Pharmaceuticals, Inc.</td>\n",
       "      <td>COM</td>\n",
       "      <td>xml</td>\n",
       "      <td>dropbox</td>\n",
       "    </tr>\n",
       "  </tbody>\n",
       "</table>\n",
       "</div>"
      ],
      "text/plain": [
       "     cik    cusip8     cusip9  value  shares      rdate      fdate  \\\n",
       "24  2230  03475V10  03475V101    120    6100 2019-06-30 2019-07-29   \n",
       "80  2230  29251M10  29251M106     84    1000 2019-06-30 2019-07-29   \n",
       "\n",
       "                          address    form shrsOrPrnAmt putCall  \\\n",
       "24  2230/0001144204-19-036410.txt  13F-HR           SH     NaN   \n",
       "80  2230/0001144204-19-036410.txt  13F-HR           SH     NaN   \n",
       "\n",
       "                    nameOfIssuer titleOfClass type  dsource  \n",
       "24           AngioDynamics, Inc.          COM  xml  dropbox  \n",
       "80  Enanta Pharmaceuticals, Inc.          COM  xml  dropbox  "
      ]
     },
     "execution_count": 45,
     "metadata": {},
     "output_type": "execute_result"
    }
   ],
   "source": [
    "df.query('index.isin([24, 80])').head(7)\n",
    "\n",
    "# 0     26       1957109\n",
    "# 1    183     718154107\n",
    "# 2   1369     297659104\n",
    "# 3   4145     362320103\n",
    "# 4   4358      16962105\n",
    "# 5   4373      67543101\n",
    "# 6   4383      90078109"
   ]
  },
  {
   "cell_type": "code",
   "execution_count": 49,
   "id": "b03ffa5f-5b51-42a0-bd2e-f1ea34e014a2",
   "metadata": {
    "execution": {
     "iopub.execute_input": "2023-01-09T00:11:23.621308Z",
     "iopub.status.busy": "2023-01-09T00:11:23.621308Z",
     "iopub.status.idle": "2023-01-09T00:11:23.636309Z",
     "shell.execute_reply": "2023-01-09T00:11:23.635311Z",
     "shell.execute_reply.started": "2023-01-09T00:11:23.621308Z"
    },
    "tags": []
   },
   "outputs": [],
   "source": [
    "\n",
    "basic_types_schema = pa.DataFrameSchema({\n",
    "    \"cik\": pa.Column('int64'),\n",
    "    \"cusip8\": pa.Column(str),\n",
    "    \"cusip9\": pa.Column(str),\n",
    "    \"rdate\": pa.Column(\"datetime64\"),\n",
    "    \"fdate\": pa.Column(\"datetime64\"),\n",
    "    \"value\": pa.Column(\"int64\")\n",
    "    \n",
    "    \n",
    "    })"
   ]
  },
  {
   "cell_type": "code",
   "execution_count": null,
   "id": "5db972ac-f0d2-45c0-a680-2048812d63ce",
   "metadata": {
    "tags": []
   },
   "outputs": [],
   "source": [
    "basic_types_schema.validate(df[columns])"
   ]
  },
  {
   "cell_type": "code",
   "execution_count": null,
   "id": "c1b63469-5729-4100-ae28-ab9da1293a41",
   "metadata": {
    "tags": []
   },
   "outputs": [],
   "source": [
    "%%time\n",
    "# Pandera also allows validating value ranges for numerical columns\n",
    "# value_range_schema = pa.DataFrameSchema({\n",
    "#     \"LotArea\": pa.Column(int, pa.Check(lambda s: s <= 1000000), nullable=False),\n",
    "#     \"YearBuilt\": pa.Column(int, pa.Check.in_range(1800, 2022)),\n",
    "# })\n",
    "\n",
    "value_range_schema = pa.DataFrameSchema({\n",
    "    \"cik\": pa.Column('int64'),\n",
    "    \"cusip8\": pa.Column(str, pa.Check(lambda s: s.str.len() >= 8), pa.Check(lambda s: s.str.len() <= 9)),\n",
    "    \"cusip9\": pa.Column(str, pa.Check(lambda s: s.str.len() >= 9), pa.Check(lambda s: s.str.len() <= 9)),\n",
    "\n",
    "    # \"cusip9\": pa.Column(str, pa.Check(lambda s: ~s.str.contains(\"\\+|\\-\"))),\n",
    "    # \"rdate\": pa.Column(\"datetime64\"),\n",
    "    # \"fdate\": pa.Column(\"datetime64\"),\n",
    "    # \"value\": pa.Column(\"int64\", pa.Check(lambda s: s <= 1000000), nullable=False)\n",
    "                        })\n",
    "%time value_range_schema.validate(df[columns])\n",
    "\n"
   ]
  },
  {
   "cell_type": "code",
   "execution_count": 58,
   "id": "b4fc1015-458f-47b2-bf49-6eb9bc37a264",
   "metadata": {
    "execution": {
     "iopub.execute_input": "2023-01-09T00:24:10.399874Z",
     "iopub.status.busy": "2023-01-09T00:24:10.399874Z",
     "iopub.status.idle": "2023-01-09T00:24:10.431873Z",
     "shell.execute_reply": "2023-01-09T00:24:10.430873Z",
     "shell.execute_reply.started": "2023-01-09T00:24:10.399874Z"
    },
    "tags": []
   },
   "outputs": [
    {
     "data": {
      "text/html": [
       "<div>\n",
       "<style scoped>\n",
       "    .dataframe tbody tr th:only-of-type {\n",
       "        vertical-align: middle;\n",
       "    }\n",
       "\n",
       "    .dataframe tbody tr th {\n",
       "        vertical-align: top;\n",
       "    }\n",
       "\n",
       "    .dataframe thead th {\n",
       "        text-align: right;\n",
       "    }\n",
       "</style>\n",
       "<table border=\"1\" class=\"dataframe\">\n",
       "  <thead>\n",
       "    <tr style=\"text-align: right;\">\n",
       "      <th></th>\n",
       "      <th>cik</th>\n",
       "      <th>cusip8</th>\n",
       "      <th>cusip9</th>\n",
       "      <th>value</th>\n",
       "      <th>shares</th>\n",
       "      <th>rdate</th>\n",
       "      <th>fdate</th>\n",
       "      <th>address</th>\n",
       "      <th>form</th>\n",
       "      <th>shrsOrPrnAmt</th>\n",
       "      <th>putCall</th>\n",
       "      <th>nameOfIssuer</th>\n",
       "      <th>titleOfClass</th>\n",
       "      <th>type</th>\n",
       "      <th>dsource</th>\n",
       "    </tr>\n",
       "  </thead>\n",
       "  <tbody>\n",
       "  </tbody>\n",
       "</table>\n",
       "</div>"
      ],
      "text/plain": [
       "Empty DataFrame\n",
       "Columns: [cik, cusip8, cusip9, value, shares, rdate, fdate, address, form, shrsOrPrnAmt, putCall, nameOfIssuer, titleOfClass, type, dsource]\n",
       "Index: []"
      ]
     },
     "execution_count": 58,
     "metadata": {},
     "output_type": "execute_result"
    }
   ],
   "source": [
    "filter = df.cusip9.str.contains('\\+')\n",
    "df.loc[filter]"
   ]
  },
  {
   "cell_type": "code",
   "execution_count": 96,
   "id": "fd2a2bbe-9ca8-41c8-87ae-87c47528b643",
   "metadata": {
    "execution": {
     "iopub.execute_input": "2023-01-09T02:53:31.419918Z",
     "iopub.status.busy": "2023-01-09T02:53:31.418891Z",
     "iopub.status.idle": "2023-01-09T02:53:31.432871Z",
     "shell.execute_reply": "2023-01-09T02:53:31.431876Z",
     "shell.execute_reply.started": "2023-01-09T02:53:31.419918Z"
    },
    "tags": []
   },
   "outputs": [
    {
     "data": {
      "text/plain": [
       "8750    000361105\n",
       "8751    001055102\n",
       "8328    001055102\n",
       "8539    001055102\n",
       "9182    001055102\n",
       "          ...    \n",
       "8538    Y1771G102\n",
       "8749    Y1771G102\n",
       "8962    Y1771G102\n",
       "6770    Y1771G102\n",
       "9401    Y1771G102\n",
       "Name: cusip9, Length: 9402, dtype: object"
      ]
     },
     "execution_count": 96,
     "metadata": {},
     "output_type": "execute_result"
    }
   ],
   "source": [
    "df.cusip9.sort_values(ascending=True)"
   ]
  },
  {
   "cell_type": "code",
   "execution_count": null,
   "id": "103eeb88-d8a1-446f-8374-a639f2bb8bcf",
   "metadata": {},
   "outputs": [],
   "source": []
  },
  {
   "cell_type": "code",
   "execution_count": null,
   "id": "34cec1e5-1fcd-445c-b0a0-73a0ddd28b9f",
   "metadata": {},
   "outputs": [],
   "source": []
  },
  {
   "cell_type": "code",
   "execution_count": 276,
   "id": "a90a746e-b0da-411e-8a30-2094376dc502",
   "metadata": {
    "execution": {
     "iopub.execute_input": "2023-01-09T23:36:54.057374Z",
     "iopub.status.busy": "2023-01-09T23:36:54.056367Z",
     "iopub.status.idle": "2023-01-09T23:36:54.122370Z",
     "shell.execute_reply": "2023-01-09T23:36:54.121397Z",
     "shell.execute_reply.started": "2023-01-09T23:36:54.057374Z"
    },
    "scrolled": true,
    "tags": []
   },
   "outputs": [
    {
     "name": "stdout",
     "output_type": "stream",
     "text": [
      "E:\\app_data\\sec_apps_data\\speed_test\\filings_13f_full\\filings\\100039\\0000950152-01-503715.txt\n"
     ]
    },
    {
     "ename": "AttributeError",
     "evalue": "'NoneType' object has no attribute 'group'",
     "output_type": "error",
     "traceback": [
      "\u001b[1;31m---------------------------------------------------------------------------\u001b[0m",
      "\u001b[1;31mAttributeError\u001b[0m                            Traceback (most recent call last)",
      "Cell \u001b[1;32mIn[276], line 63\u001b[0m\n\u001b[0;32m     53\u001b[0m cik \u001b[38;5;241m=\u001b[39m (\n\u001b[0;32m     54\u001b[0m     re\u001b[38;5;241m.\u001b[39mcompile(\u001b[38;5;124mr\u001b[39m\u001b[38;5;124m\"\u001b[39m\u001b[38;5;124m(?<=CENTRAL INDEX KEY:).*\u001b[39m\u001b[38;5;124m\"\u001b[39m)\n\u001b[0;32m     55\u001b[0m     \u001b[38;5;241m.\u001b[39msearch(match_header[\u001b[38;5;241m0\u001b[39m])\n\u001b[0;32m     56\u001b[0m     \u001b[38;5;241m.\u001b[39mgroup(\u001b[38;5;241m0\u001b[39m)\n\u001b[0;32m     57\u001b[0m     \u001b[38;5;241m.\u001b[39mstrip()\u001b[38;5;241m.\u001b[39mlstrip(\u001b[38;5;124m'\u001b[39m\u001b[38;5;124m0\u001b[39m\u001b[38;5;124m'\u001b[39m)\n\u001b[0;32m     58\u001b[0m     )\n\u001b[0;32m     59\u001b[0m data_dict[\u001b[38;5;124m'\u001b[39m\u001b[38;5;124maddress\u001b[39m\u001b[38;5;124m'\u001b[39m]  \u001b[38;5;241m=\u001b[39m \u001b[38;5;124m'\u001b[39m\u001b[38;5;124m/\u001b[39m\u001b[38;5;124m'\u001b[39m\u001b[38;5;241m.\u001b[39mjoin([cik, accession])\n\u001b[0;32m     62\u001b[0m entry_total \u001b[38;5;241m=\u001b[39m (\n\u001b[1;32m---> 63\u001b[0m     \u001b[43mre\u001b[49m\u001b[38;5;241;43m.\u001b[39;49m\u001b[43mcompile\u001b[49m\u001b[43m(\u001b[49m\u001b[38;5;124;43mr\u001b[39;49m\u001b[38;5;124;43m\"\u001b[39;49m\u001b[38;5;124;43m(Value Total(:)?).*\u001b[39;49m\u001b[38;5;124;43m\"\u001b[39;49m\u001b[43m)\u001b[49m\n\u001b[0;32m     64\u001b[0m \u001b[43m    \u001b[49m\u001b[38;5;241;43m.\u001b[39;49m\u001b[43msearch\u001b[49m\u001b[43m(\u001b[49m\u001b[43mmatch_header\u001b[49m\u001b[43m[\u001b[49m\u001b[38;5;241;43m0\u001b[39;49m\u001b[43m]\u001b[49m\u001b[43m)\u001b[49m\n\u001b[0;32m     65\u001b[0m \u001b[43m    \u001b[49m\u001b[38;5;241;43m.\u001b[39;49m\u001b[43mgroup\u001b[49m(\u001b[38;5;241m0\u001b[39m)\n\u001b[0;32m     66\u001b[0m     \u001b[38;5;241m.\u001b[39mstrip()\n\u001b[0;32m     67\u001b[0m     )\n\u001b[0;32m     68\u001b[0m entry_total \u001b[38;5;241m=\u001b[39m re\u001b[38;5;241m.\u001b[39msub(\u001b[38;5;124mr\u001b[39m\u001b[38;5;124m'\u001b[39m\u001b[38;5;124m\\\u001b[39m\u001b[38;5;124mD\u001b[39m\u001b[38;5;124m'\u001b[39m, \u001b[38;5;124m'\u001b[39m\u001b[38;5;124m'\u001b[39m, entry_total)  \n\u001b[0;32m     69\u001b[0m \u001b[38;5;28;01mif\u001b[39;00m \u001b[38;5;129;01mnot\u001b[39;00m entry_total: \n",
      "\u001b[1;31mAttributeError\u001b[0m: 'NoneType' object has no attribute 'group'"
     ]
    }
   ],
   "source": [
    "import re\n",
    "import pandas as pd\n",
    "import numpy as np\n",
    "from pathlib import Path\n",
    "from datetime import datetime\n",
    "\n",
    "# Define the regular expression to extrtact `cusip` values\n",
    "exp_cusip = r\"\\b[A-Za-z0-9]{9}(?<![A-Za-z]{9})\\b\"\n",
    "\n",
    "# Compile the regular expression\n",
    "pattern_cusip = re.compile(exp_cusip)\n",
    "\n",
    "# Open the text file\n",
    "filings_txt = Path(r\"E:\\app_data\\sec_apps_data\\speed_test\\filings_13f_full\\filings\")\n",
    "# files = filings_txt.rglob(\"*/*.txt\")  # -03-000131\n",
    "files = filings_txt.rglob(\"100039/*0000950152-01-503715.txt\")  # -03-000131\n",
    "for file in files:\n",
    "    with open(file, 'r') as f:\n",
    "        # Read the contents of the file\n",
    "        text = f.read()\n",
    "        print(file)\n",
    "        \n",
    "    xml_pattern = r'<?xml'\n",
    "    match_xml = re.search(xml_pattern, text, re.DOTALL | re.IGNORECASE)\n",
    "    if match_xml: continue\n",
    "    \n",
    "    header_pattern = r'^.*<TABLE>'\n",
    "    match_header = re.search(header_pattern, text, re.DOTALL | re.IGNORECASE)\n",
    "    \n",
    "    data_dict = dict()\n",
    "    data_dict['rdate'] = datetime.strptime(\n",
    "        re.compile(r\"(?<=CONFORMED PERIOD OF REPORT:).*\")\n",
    "        .search(match_header[0])\n",
    "        .group(0)\n",
    "        .strip(),\n",
    "        \"%Y%m%d\",\n",
    "    ).date()\n",
    "    \n",
    "    data_dict['fdate'] = datetime.strptime(\n",
    "        re.compile(r\"(?<=FILED AS OF DATE:).*\")\n",
    "        .search(match_header[0])\n",
    "        .group(0)\n",
    "        .strip(),\n",
    "        \"%Y%m%d\",\n",
    "    ).date()\n",
    "    \n",
    "    accession = (\n",
    "        re.compile(r\"(?<=ACCESSION NUMBER:).*\")\n",
    "        .search(match_header[0])\n",
    "        .group(0)\n",
    "        .strip()+\".txt\"\n",
    "    )\n",
    "    cik = (\n",
    "        re.compile(r\"(?<=CENTRAL INDEX KEY:).*\")\n",
    "        .search(match_header[0])\n",
    "        .group(0)\n",
    "        .strip().lstrip('0')\n",
    "        )\n",
    "    data_dict['address']  = '/'.join([cik, accession])\n",
    "    \n",
    "    ## !!! todo !!! problem with cases where there is no lines for entry or value total at all. code break at the missing .group(0)\n",
    "    entry_total = (\n",
    "        re.compile(r\"(Entry Total(:)?).*\")\n",
    "        .search(match_header[0])\n",
    "        .group(0)\n",
    "        .strip()\n",
    "        )\n",
    "    entry_total = re.sub(r'\\D', '', entry_total)  \n",
    "    if not entry_total: \n",
    "        data_dict['entry_total'] = np.nan\n",
    "    else:\n",
    "        data_dict['entry_total'] = int(entry_total)\n",
    "        \n",
    "    value_total = (\n",
    "        re.compile(r\"(Value Total(:)?).*\")\n",
    "        .search(match_header[0])\n",
    "        .group(0)\n",
    "        .strip()\n",
    "        )\n",
    "    \n",
    "    value_total = re.sub(r'\\D', '', value_total)\n",
    "    if not value_total:\n",
    "        value_total = data_dict['value_total'] = np.nan\n",
    "    else:\n",
    "        data_dict['value_total'] = int(value_total)\n",
    "    \n",
    "    header_df = pd.DataFrame.from_dict([data_dict]).astype({'entry_total': 'Int64', 'value_total': 'Int64'})       \n",
    "    \n",
    "    # Search for table section\n",
    "    table_pattern = r'<TABLE>.*$'\n",
    "    match_table = re.search(table_pattern, text, re.DOTALL | re.IGNORECASE)\n",
    "    if match_table:\n",
    "        \n",
    "        matches = pattern_cusip.finditer(match_table.group(0))\n",
    "            # Create a list of the matched strings\n",
    "        matched_strings = [match.group(0) for match in matches]\n",
    "        matched_strings = set(matched_strings)\n",
    "        df = pd.DataFrame(matched_strings, columns=['cusip'])\n",
    "    else:\n",
    "        df = pd.DataFrame(\"no_cusip\", columns=['cusip'])\n",
    "        \n",
    "    df = pd.concat([header_df, df], axis=1).ffill()\n",
    "\n",
    "    # Filter out the strings that contain only non-digit characters\n",
    "    # filtered_strings = set([s for s in matched_strings if any(c.isdigit() for c in s) and not all(c.isalpha() for c in s)])\n"
   ]
  },
  {
   "cell_type": "code",
   "execution_count": 267,
   "id": "df17dea2-b711-4ecd-a91f-5d841ca46763",
   "metadata": {
    "execution": {
     "iopub.execute_input": "2023-01-09T23:05:24.263629Z",
     "iopub.status.busy": "2023-01-09T23:05:24.262631Z",
     "iopub.status.idle": "2023-01-09T23:05:24.268648Z",
     "shell.execute_reply": "2023-01-09T23:05:24.268648Z",
     "shell.execute_reply.started": "2023-01-09T23:05:24.263629Z"
    },
    "tags": []
   },
   "outputs": [
    {
     "data": {
      "text/plain": [
       "False"
      ]
     },
     "execution_count": 267,
     "metadata": {},
     "output_type": "execute_result"
    }
   ],
   "source": [
    "value_total == True"
   ]
  },
  {
   "cell_type": "code",
   "execution_count": null,
   "id": "a7309dcf-fedf-474b-b6cd-666f03e724a0",
   "metadata": {
    "tags": []
   },
   "outputs": [],
   "source": [
    "df.shape\n",
    "df.query('cusip.str.contains(\"PREFFERED\")')\n",
    "# all_letters\n",
    "filtered_strings"
   ]
  },
  {
   "cell_type": "code",
   "execution_count": 127,
   "id": "1c72bc12-c5db-4c02-b1b2-cedf704114f3",
   "metadata": {
    "execution": {
     "iopub.execute_input": "2023-01-09T18:14:21.764262Z",
     "iopub.status.busy": "2023-01-09T18:14:21.763270Z",
     "iopub.status.idle": "2023-01-09T18:14:21.773292Z",
     "shell.execute_reply": "2023-01-09T18:14:21.773292Z",
     "shell.execute_reply.started": "2023-01-09T18:14:21.764262Z"
    },
    "tags": []
   },
   "outputs": [
    {
     "data": {
      "text/plain": [
       "[]"
      ]
     },
     "execution_count": 127,
     "metadata": {},
     "output_type": "execute_result"
    }
   ],
   "source": [
    "import re\n",
    "\n",
    "s = \"G02602103 410255900 D1668R123 Minnesota SPONSORED jkl 012 Originator-Name: webmaster@\"\n",
    "exp = r\"\\b(?=\\d)[A-Za-z\\d]{9}\\d[A-Za-z\\d]{9}\\b\"\n",
    "matches = re.findall(exp, s)\n",
    "matches"
   ]
  },
  {
   "cell_type": "code",
   "execution_count": null,
   "id": "af943a5d-84ef-492a-8317-b1310379ac9a",
   "metadata": {},
   "outputs": [],
   "source": []
  },
  {
   "cell_type": "code",
   "execution_count": 107,
   "id": "06a11663-5064-4d4b-8bca-dd225d41336d",
   "metadata": {
    "execution": {
     "iopub.execute_input": "2023-01-07T00:48:43.312377Z",
     "iopub.status.busy": "2023-01-07T00:48:43.311390Z",
     "iopub.status.idle": "2023-01-07T00:48:43.332264Z",
     "shell.execute_reply": "2023-01-07T00:48:43.332264Z",
     "shell.execute_reply.started": "2023-01-07T00:48:43.312377Z"
    },
    "tags": []
   },
   "outputs": [
    {
     "data": {
      "text/plain": [
       "<function __main__.<lambda>(txt)>"
      ]
     },
     "execution_count": 107,
     "metadata": {},
     "output_type": "execute_result"
    }
   ],
   "source": [
    "txt = \"\"\"\n",
    "AB,CD,EF, JJ\n",
    "foo,20160101,a,23\n",
    "foo,20160102,a,34\n",
    "foo,20160103,a,56\n",
    "\"\"\"\n",
    "lambda txt: len(txt) <= 10\n",
    "# data = pl.read_csv(io.StringIO(txt))\n",
    "# data = data."
   ]
  },
  {
   "cell_type": "code",
   "execution_count": 52,
   "id": "fbe79f6b-df65-4778-be7f-16a5d3b614a3",
   "metadata": {
    "execution": {
     "iopub.execute_input": "2023-01-06T23:41:32.693356Z",
     "iopub.status.busy": "2023-01-06T23:41:32.693356Z",
     "iopub.status.idle": "2023-01-06T23:41:32.708624Z",
     "shell.execute_reply": "2023-01-06T23:41:32.707625Z",
     "shell.execute_reply.started": "2023-01-06T23:41:32.693356Z"
    },
    "tags": []
   },
   "outputs": [],
   "source": [
    "# different pandas dtypes\n",
    "\n",
    "dtypes =    {\n",
    "        \"ID\": str,\n",
    "        \"accessionNumber\": str,\n",
    "        \"cikManager\": \"Int64\",\n",
    "        \"periodOfReport\": \"datetime64[ns]\",\n",
    "        \"report_Quarter\": \"Int64\",\n",
    "        \"report_Year\": \"Int64\",\n",
    "        \"submissionType\": str,\n",
    "        \"isAmendment\": bool,\n",
    "        \"amendmentType\": str,\n",
    "        \"filedAsOfDate\": \"datetime64[ns]\",\n",
    "        \"entryTotal\": \"Int64\",\n",
    "        \"valueTotal\": \"float64\",\n",
    "        \"cusip\": str,\n",
    "        \"nameOfIssuer\": str,\n",
    "        \"titleOfClass\": str,\n",
    "        \"sharesValue\": \"float64\",\n",
    "        \"sharesHeldAtEndOfQtr\": \"Int64\",\n",
    "        \"securityType\": str,\n",
    "        \"putCall\": str,\n",
    "        \"xml_flag\": str,\n",
    "        \"created_at\": \"datetime64[ns]\",\n",
    "        \"edgar_path\": str,\n",
    "    }"
   ]
  }
 ],
 "metadata": {
  "kernelspec": {
   "display_name": "Python 3 (ipykernel)",
   "language": "python",
   "name": "python3"
  },
  "language_info": {
   "codemirror_mode": {
    "name": "ipython",
    "version": 3
   },
   "file_extension": ".py",
   "mimetype": "text/x-python",
   "name": "python",
   "nbconvert_exporter": "python",
   "pygments_lexer": "ipython3",
   "version": "3.9.7"
  }
 },
 "nbformat": 4,
 "nbformat_minor": 5
}
