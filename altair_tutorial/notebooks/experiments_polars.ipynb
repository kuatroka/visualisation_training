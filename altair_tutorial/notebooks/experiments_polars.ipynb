{
 "cells": [
  {
   "cell_type": "code",
   "execution_count": 1,
   "id": "0762cd43-a2cb-4073-8bbb-2b472b93ce0d",
   "metadata": {
    "execution": {
     "iopub.execute_input": "2023-01-06T20:54:48.480237Z",
     "iopub.status.busy": "2023-01-06T20:54:48.480237Z",
     "iopub.status.idle": "2023-01-06T20:54:50.060686Z",
     "shell.execute_reply": "2023-01-06T20:54:50.060686Z",
     "shell.execute_reply.started": "2023-01-06T20:54:48.480237Z"
    },
    "tags": []
   },
   "outputs": [],
   "source": [
    "from pathlib import Path\n",
    "import pandas as pd\n",
    "import numpy as np\n",
    "import polars as pl\n",
    "import duckdb\n",
    "import os\n",
    "import pandera as pa\n",
    "import io\n",
    "\n",
    "FROM_EXPERIMENT_CSV_IN = Path(r\"E:\\app_data\\dropbox_13f_files\\processed_tables\\TR_02_EXP_SELECT_CIK_CSV\")\n",
    "TO_EXPERIMENT_PARQUET = Path(r\"E:\\app_data\\dropbox_13f_files\\processed_tables\\TR_03_EXP_SELECT_CIK_PARQUET\")"
   ]
  },
  {
   "cell_type": "code",
   "execution_count": 8,
   "id": "06a11663-5064-4d4b-8bca-dd225d41336d",
   "metadata": {
    "execution": {
     "iopub.execute_input": "2023-01-05T23:59:10.717772Z",
     "iopub.status.busy": "2023-01-05T23:59:10.717772Z",
     "iopub.status.idle": "2023-01-05T23:59:10.729751Z",
     "shell.execute_reply": "2023-01-05T23:59:10.728787Z",
     "shell.execute_reply.started": "2023-01-05T23:59:10.717772Z"
    },
    "tags": []
   },
   "outputs": [
    {
     "data": {
      "text/plain": [
       "[Utf8, Int64, Utf8, Int64]"
      ]
     },
     "execution_count": 8,
     "metadata": {},
     "output_type": "execute_result"
    }
   ],
   "source": [
    "txt = \"\"\"\n",
    "AB,CD,EF, JJ\n",
    "foo,20160101,a,23\n",
    "foo,20160102,a,34\n",
    "foo,20160103,a,56\n",
    "\"\"\"\n",
    "\n",
    "data = pl.read_csv(io.StringIO(txt))\n",
    "data = data."
   ]
  }
 ],
 "metadata": {
  "kernelspec": {
   "display_name": "Python 3 (ipykernel)",
   "language": "python",
   "name": "python3"
  },
  "language_info": {
   "codemirror_mode": {
    "name": "ipython",
    "version": 3
   },
   "file_extension": ".py",
   "mimetype": "text/x-python",
   "name": "python",
   "nbconvert_exporter": "python",
   "pygments_lexer": "ipython3",
   "version": "3.9.7"
  }
 },
 "nbformat": 4,
 "nbformat_minor": 5
}
