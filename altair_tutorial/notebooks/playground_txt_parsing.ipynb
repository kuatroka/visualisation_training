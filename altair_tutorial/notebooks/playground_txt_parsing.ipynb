{
 "cells": [
  {
   "cell_type": "code",
   "execution_count": 4,
   "id": "83c6bc6f-c794-4870-bdfe-f4ef6fbb2929",
   "metadata": {
    "tags": []
   },
   "outputs": [],
   "source": [
    "import pandas as pd\n",
    "pd.set_option('display.max_columns', 35)\n",
    "pd.set_option(\"display.max_colwidth\",200)\n",
    "pd.set_option(\"display.max_rows\", 500)"
   ]
  },
  {
   "cell_type": "markdown",
   "id": "d081d663-130b-40b5-a458-d9de0c75126a",
   "metadata": {},
   "source": [
    "### Parsing `txt` to `parquet` for selected 676 cik and does some cleaning with `pandera`\n",
    "* Casts `cusip` to upper case and cleans empty/zero value or shares\n",
    "* filter outs `cusip` that are non-8 char "
   ]
  },
  {
   "cell_type": "code",
   "execution_count": 2,
   "id": "cd4845c7-4bfd-44da-8145-9e7814a81eb6",
   "metadata": {
    "scrolled": true,
    "tags": []
   },
   "outputs": [],
   "source": [
    "%%time\n",
    "# for selected 676 cik, parse txt filings to parquet\n",
    "import pathlib\n",
    "from pathlib import Path\n",
    "from utils_data_cleaning import end_to_end_parsing\n",
    "\n",
    "selected_cik = [2230,3520,5272,7195,7789,9015,10742,14661,16972,18349,18748,19475,19617,21175,22657,24386,35442,35527,36066,36104,36644,36966,38777,39263,40417,40545,44365,45319,49205,50863,51762,51812,51964,52234,53417,59558,59951,60086,61227,67698,70858,71210,71259,72971,73124,80255,84616,89014,92230,93751,98758,102212,102909,105495,108572,200217,201772,216851,276101,310051,312348,313028,313807,314949,314957,314984,315014,315032,315038,315054,315066,315080,315157,315297,315498,316011,318989,320335,320376,351051,351173,351262,354204,356264,700529,704051,707179,712537,713676,714142,720672,723204,728083,728100,728618,732905,733020,740272,740913,741073,743127,750641,754811,757657,759944,762152,763212,763848,764068,764106,764112,764529,764532,765443,769317,769954,769963,775368,776867,778963,779519,788714,790354,790502,791191,791490,796848,799003,799004,801051,806097,807249,807985,808722,809339,809443,810265,810384,810386,810672,810716,811360,811454,813917,813933,814133,814375,816788,819535,820027,820123,820124,820289,820478,820743,821197,822581,823621,825293,829407,831001,831571,836372,837592,842782,842941,846222,846633,846788,846797,850401,850529,852743,854157,857508,859872,860486,860561,860580,860585,860643,860644,860645,860662,860748,860828,860857,861176,861177,861462,861787,862469,866361,866842,868491,869178,869179,869353,869367,872080,872163,872259,872573,872732,873630,874791,877134,877338,878228,881432,883511,883677,883782,883790,883803,883961,883965,884300,884314,884414,884423,884541,884546,884548,884566,884589,885062,885415,886982,887402,887777,887818,889232,891287,891478,893738,894205,894300,894309,895213,895421,897070,897378,897599,898358,898382,898399,898413,899211,900169,900529,900973,902219,902367,902464,902584,903064,903944,903947,903949,905567,905591,905608,906304,908195,909151,909661,911274,912938,914933,914976,915287,915325,916542,917579,918893,919079,919185,919192,919458,919489,919497,919530,919538,919859,920440,920441,921531,921669,922127,922439,922898,922940,923093,923116,923469,924166,924171,924181,926688,926833,926834,928047,928196,928566,928568,928633,930441,931097,932024,932974,933429,934639,934999,936698,936753,936936,936941,936944,937394,937522,937589,937615,937760,937886,938076,938206,938487,938582,938592,938759,939219,940445,941560,943719,944234,944804,945625,945631,947822,947996,948518,948669,949012,949509,949615,949623,949853,1000097,1000742,1002152,1002672,1002784,1004244,1005354,1005607,1005817,1006364,1006378,1006407,1006435,1007280,1007399,1007524,1008322,1008877,1008894,1008895,1008929,1008937,1009003,1009005,1009012,1009016,1009022,1009076,1009207,1009209,1009232,1009254,1009258,1009262,1010873,1010911,1011443,1011659,1013234,1013536,1013538,1013701,1014306,1014315,1014736,1014738,1015079,1015083,1015086,1015308,1016150,1016287,1016683,1016972,1017115,1017645,1017918,1018331,1018674,1018825,1019231,1020066,1020317,1020580,1020585,1020617,1020918,1021008,1021117,1021223,1021249,1021258,1021642,1021926,1023279,1024716,1025421,1026200,1026710,1027451,1027796,1027817,1029160,1030618,1030815,1031972,1032814,1033225,1033427,1033475,1033505,1033974,1033984,1034184,1034196,1034524,1034541,1034546,1034549,1034642,1034771,1034886,1035350,1035463,1035912,1036248,1036325,1037389,1037558,1037763,1037792,1038661,1039565,1039807,1040190,1040197,1040198,1040210,1040273,1040592,1040762,1041241,1041885,1042046,1044207,1044797,1044905,1044924,1044929,1044936,1046187,1047339,1048921,1049648,1049650,1050442,1050463,1050470,1051359,1052100,1053013,1053054,1053055,1054074,1054425,1054522,1054554,1054677,1055290,1055544,1055963,1055964,1055966,1056053,1056288,1056466,1056488,1056491,1056515,1056516,1056527,1056549,1056559,1056581,1056593,1056807,1056821,1056825,1056827,1056831,1056859,1056958,1056973,1057395,1057439,1058022,1058470,1058800,1059187,1061186,1061768,1062938,1065349,1065350,1066816,1067324,1067926,1067983,1068829,1070134,1071483,1072843,1074027,1074034,1074266,1074273,1076598,1077148,1077583,1078013,1078246,1078658,1078841,1079112,1079114,1079736,1079738,1079930,1080071,1080107,1080117,1080132,1080166,1080171,1080173,1080197,1080201,1080351,1080374,1080380,1080381,1080382,1080386,1080493,1080523,1080628,1080818,1081019,1081198,1082020,1082215,1082327,1082339,1082461,1082491,1082509,1082621,1082917,1083323,1083340,1084207,1084208,1084683,1085041,1085163,1085227,1085601,1085936,1086477,1086483,1086611,1086619,1086762,1086763,1088859,1088875,1088950,1089707,1089755,1089911,1089991,1090413,1091561,1091860,1091923,1092203,1092290,1092351,1092903,1093276,1093589,1094584,1094749,1095836,1096783,1097218,1097278,1097833,1100710,1101250,1102062,1102578,1102598,1103245,1103738,1103804,1103882,1103887,1104186,1104329,1104366,1105468,1105471,1105497,1105837,1105863,1105909,1106129,1106191,1106500,1106505,1106832,1107261,1107310,1108893,1108965,1108969,1109147,1110806,1113629,1114618,1114739,1114928,1115941,1116247,1125727,1125816,1129770,1133219,1134152,1140334,1140771,1142031,1142062,1158583,1389426,1398739,1469219]\n",
    "TR_00_TXT_SEC_APP = Path('/Volumes/fanpc/app_data/sec_apps_data/speed_test/filings_13f_full/filings')\n",
    "TR_02_TEST_676_CIK_PARQ_SEC_APP = Path(r'/Users/yo_macbook/Documents/app_data/sec_apps_data/TR_02_TEST_676_CIK_PARQ_SEC_APP')\n",
    "TR_02_FAILURE_CASES_PARQ_SEC_APP = Path(r\"/Users/yo_macbook/Documents/app_data/sec_apps_data/TR_02_FAILURE_CASES_PARQ_SEC_APP\")\n",
    "\n",
    "filings_parq = TR_02_TEST_676_CIK_PARQ_SEC_APP.glob(\"*.parquet\")\n",
    "f = TR_00_TXT_SEC_APP\n",
    "l = selected_cik\n",
    "subdirs = list(f.glob(\"*\"))\n",
    "subdirs = [d for d in subdirs if d.is_dir() and int(d.name) in l]\n",
    "\n",
    "for subdir in subdirs: # [-20:-1]\n",
    "    filings_txt = list(subdir.glob(\"*.txt\"))\n",
    "    for file in filings_txt:\n",
    "        file_exists = list(TR_02_TEST_676_CIK_PARQ_SEC_APP.glob(f\"{subdir.stem}-{file.stem}*\"))\n",
    "        # Check if the file exists\n",
    "        if len(file_exists) > 0:\n",
    "            continue\n",
    "        else:\n",
    "            # print(\"File does not exist. Converting to parquet...\")\n",
    "            end_to_end_parsing(file, TR_02_TEST_676_CIK_PARQ_SEC_APP, TR_02_FAILURE_CASES_PARQ_SEC_APP)\n"
   ]
  },
  {
   "cell_type": "markdown",
   "id": "dffac596-8947-4040-85a8-5f095166d138",
   "metadata": {},
   "source": [
    "### Parsing `txt` to `parquet` for **ALL** `cik` and does some cleaning with `pandera`\n",
    "* Casts `cusip` to upper case and cleans empty/zero value or shares\n",
    "* filter outs `cusip` that are non-8 char "
   ]
  },
  {
   "cell_type": "code",
   "execution_count": 4,
   "id": "1ecf6137-e031-4a88-9769-daf08c417239",
   "metadata": {
    "tags": []
   },
   "outputs": [
    {
     "name": "stdout",
     "output_type": "stream",
     "text": [
      "CPU times: user 16h 40min 20s, sys: 3h 40min 3s, total: 20h 20min 23s\n",
      "Wall time: 21h 4min 27s\n"
     ]
    }
   ],
   "source": [
    "%%time\n",
    "# Parse txt filings to parquet for ALL cik\n",
    "import pathlib\n",
    "from pathlib import Path\n",
    "from utils_data_cleaning import end_to_end_parsing\n",
    "\n",
    "TR_00_TXT_SEC_APP = Path('/Volumes/fanpc/app_data/sec_apps_data/speed_test/filings_13f_full/filings')\n",
    "TR_02_ALL_PARQ_SEC_APP = Path(r'/Users/yo_macbook/Documents/app_data/sec_apps_data/TR_02_ALL_PARQ_SEC_APP')\n",
    "TR_02_FAILURE_CASES_PARQ_SEC_APP = Path(r\"/Users/yo_macbook/Documents/app_data/sec_apps_data/TR_02_FAILURE_CASES_PARQ_SEC_APP\")\n",
    "\n",
    "# all_filings_parq = TR_02_ALL_PARQ_SEC_APP.glob(\"*.parquet\")\n",
    "subdirs = list(TR_00_TXT_SEC_APP.glob(\"*\"))\n",
    "\n",
    "for subdir in subdirs: # [-20:-1]\n",
    "    filings_txt = list(subdir.glob(\"*.txt\"))\n",
    "    for file in filings_txt:\n",
    "        file_exists = list(TR_02_ALL_PARQ_SEC_APP.glob(f\"{subdir.stem}-{file.stem}*\"))\n",
    "        # Check if the file exists\n",
    "        if len(file_exists) > 0: continue\n",
    "        else: end_to_end_parsing(file, TR_02_ALL_PARQ_SEC_APP, TR_02_FAILURE_CASES_PARQ_SEC_APP)\n"
   ]
  },
  {
   "cell_type": "code",
   "execution_count": 2,
   "id": "ca628589-c88c-4c7a-a4b9-ffbc43cea805",
   "metadata": {
    "tags": []
   },
   "outputs": [
    {
     "data": {
      "text/plain": [
       "PosixPath('/Volumes/fanpc/app_data/sec_apps_data/speed_test/filings_13f_full/filings/1005817/0001387131-14-001346.txt')"
      ]
     },
     "execution_count": 2,
     "metadata": {},
     "output_type": "execute_result"
    }
   ],
   "source": [
    "file"
   ]
  },
  {
   "cell_type": "markdown",
   "id": "57f3b50d-cc4d-47d9-b1d7-055f01991f63",
   "metadata": {},
   "source": [
    "### Parse individual `txt` file to `parquet`"
   ]
  },
  {
   "cell_type": "code",
   "execution_count": 5,
   "id": "adfdee53-8492-4a1e-a69f-48da57940c58",
   "metadata": {
    "scrolled": true,
    "tags": []
   },
   "outputs": [],
   "source": [
    "import pathlib\n",
    "from pathlib import Path\n",
    "from utils_data_cleaning import end_to_end_parsing\n",
    "\n",
    "file = Path(r'/Volumes/fanpc/app_data/sec_apps_data/speed_test/filings_13f_full/filings/902528/0001178913-20-002231.txt')\n",
    "test_parq = Path(r'/Users/yo_macbook/Documents/app_data/sec_apps_data/test_parq')\n",
    "test_failure = Path(r'/Users/yo_macbook/Documents/app_data/sec_apps_data/test_failure')\n",
    "\n",
    "df_test = end_to_end_parsing(file, test_parq, test_failure)\n",
    "# .sort_values(by='value', ascending=True)"
   ]
  },
  {
   "cell_type": "code",
   "execution_count": null,
   "id": "0c72d39d-7c26-4fbf-b68c-869aac3ba6eb",
   "metadata": {
    "tags": []
   },
   "outputs": [],
   "source": [
    "# df_test.head()\n",
    "# df_test.info()"
   ]
  },
  {
   "cell_type": "code",
   "execution_count": 42,
   "id": "c8327991-8f17-4327-8b23-b6997c1e1701",
   "metadata": {
    "tags": []
   },
   "outputs": [],
   "source": [
    "from datetime import datetime\n",
    "from bs4 import BeautifulSoup as bs\n",
    "import re\n",
    "import pandas as pd\n",
    "import numpy as np\n",
    "import os\n",
    "from pathlib import Path\n",
    "import pandera as pa\n",
    "\n",
    "############################################################################\n",
    "############################################################################\n",
    "\n",
    "## Function to end-to-end parse the raw `txt` filings, write to a pandas dataframe\n",
    "## and save to a `parquet` file. Only `xml` based filings are dealt with. \n",
    "## The filings prior `xml` format are ignored and instead we use the `csv` filings from dropbox\n",
    "\n",
    "## no division by 1000\n",
    "## cusip transformed to upper case\n",
    "## uses `pandera` to remove `cusip` != length of 9 (as non compliant)\n",
    "## uses `pandera` to remove `values` or `shares` != 0 (as non compliant)\n",
    "## the code writes bad data into a separate dataframes per filings\n",
    "## transformation where we group multiple `cusip` into one only after we have removed \n",
    "## the ones with zeros in `value` or `shares` \n",
    "\n",
    "\n",
    "def end_to_end_parsing(file_path, directory_parquet, failures_parq_dir):\n",
    "    \"\"\"\n",
    "    func that takes a txt filing's path and parses it to a parquet file\n",
    "    in the `directory_parquet`. It uses `pandera` lazy mode to filter out\n",
    "    bad cusip or empty/nan/zero shares or values. Bad records are written\n",
    "    to the `failures_parq_dir` for a later analysis or correction.\n",
    "    \n",
    "    \"\"\"\n",
    "    def work_content_extract(file_path):\n",
    "        \"\"\"extracting 1. xml or not flag, 2. xml part of filings, SEC header part\"\"\"\n",
    "        open_file = open(file_path, \"r\")\n",
    "        file_content = open_file.read()\n",
    "        open_file.close()\n",
    "\n",
    "        # find block of text between two words/tags/strings\n",
    "        start_header = \"<SEC-HEADER>\"\n",
    "        end_header = \"</SEC-HEADER>\"\n",
    "        block_header_search = re.compile(f\"{start_header}.*?{end_header}\", re.DOTALL)\n",
    "        pages_header = re.findall(block_header_search, file_content)\n",
    "\n",
    "        # check if file is XML or not\n",
    "        xml_tag_search = re.compile(r\"<xml>\", flags=re.IGNORECASE)\n",
    "        if xml_tag_search.search(file_content):\n",
    "            xml_flag = \"YES\"\n",
    "\n",
    "            # xml block search\n",
    "            start_xml = \"<XML\\>\"\n",
    "            end_xml = \"<\\/XML\\>\"\n",
    "            block_xml_search = re.compile(f\"{start_xml}(.*?){end_xml}\", re.DOTALL)\n",
    "            pages_xml = re.findall(block_xml_search, file_content)\n",
    "\n",
    "            if len(pages_xml) == 0:\n",
    "                reportType = \"\"\n",
    "                document0 = \"\"\n",
    "                document1 = \"\"\n",
    "            elif len(pages_xml) == 1:\n",
    "                document0 = bs(pages_xml[0], \"xml\")\n",
    "                coverPage = document0.find(\"coverPage\")\n",
    "                reportType = coverPage.find(\"reportType\").text.strip()\n",
    "                document1 = \"\"\n",
    "            if len(pages_xml) > 1:\n",
    "                document0 = bs(pages_xml[0], \"xml\")\n",
    "                coverPage = document0.find(\"coverPage\")\n",
    "                reportType = coverPage.find(\"reportType\").text.strip()\n",
    "                document1 = bs(pages_xml[1], \"xml\")\n",
    "\n",
    "        else:\n",
    "            xml_flag = \"NO\"\n",
    "            pages_xml = []\n",
    "            reportType = \"\"\n",
    "            document1 = \"\"\n",
    "\n",
    "        return pages_header, pages_xml, xml_flag, reportType, document1\n",
    "\n",
    "    def parse_institutionalInvestorInfo(file_path):\n",
    "        dataDictionary = dict()\n",
    "        dataDictionary[\"edgar_path\"] = file_path\n",
    "        periodOfReport = datetime.strptime(\n",
    "            re.compile(r\"(?<=CONFORMED PERIOD OF REPORT:).*\")\n",
    "            .search(pages_header[0])\n",
    "            .group(0)\n",
    "            .strip(),\n",
    "            \"%Y%m%d\",\n",
    "        ).date()\n",
    "        report_Year, report_Quarter = (\n",
    "            periodOfReport.year,\n",
    "            (periodOfReport.month - 1) // 3 + 1,\n",
    "        )\n",
    "\n",
    "        dataDictionary[\"accessionNumber\"] = (\n",
    "            re.compile(r\"(?<=ACCESSION NUMBER:).*\")\n",
    "            .search(pages_header[0])\n",
    "            .group(0)\n",
    "            .strip()\n",
    "        )\n",
    "        dataDictionary[\"cikManager\"] = (\n",
    "            re.compile(r\"(?<=CENTRAL INDEX KEY:).*\")\n",
    "            .search(pages_header[0])\n",
    "            .group(0)\n",
    "            .strip()\n",
    "        )\n",
    "        dataDictionary[\"managerName\"] = (\n",
    "            re.compile(r\"(?<=COMPANY CONFORMED NAME:).*\")\n",
    "            .search(pages_header[0])\n",
    "            .group(0)\n",
    "            .strip()\n",
    "        )\n",
    "        dataDictionary[\"periodOfReport\"] = periodOfReport\n",
    "        dataDictionary[\"report_Quarter\"] = report_Quarter\n",
    "        dataDictionary[\"report_Year\"] = report_Year\n",
    "        dataDictionary[\"submissionType\"] = (\n",
    "            re.compile(r\"(?<=CONFORMED SUBMISSION TYPE:).*\")\n",
    "            .search(pages_header[0])\n",
    "            .group(0)\n",
    "            .strip()\n",
    "        )\n",
    "        dataDictionary[\"filedAsOfDate\"] = datetime.strptime(\n",
    "            re.compile(r\"(?<=FILED AS OF DATE:).*\")\n",
    "            .search(pages_header[0])\n",
    "            .group(0)\n",
    "            .strip(),\n",
    "            \"%Y%m%d\",\n",
    "        ).date()\n",
    "        dataDictionary[\"xml_flag\"] = xml_flag\n",
    "        dataDictionary[\"created_at\"] = datetime.now()\n",
    "\n",
    "        # dataDictionary = dict()\n",
    "        dataDictionary[\"edgar_path\"] = file_path\n",
    "        if xml_flag == \"NO\":\n",
    "\n",
    "            dataDictionary[\"isAmendment\"] = \"\"\n",
    "            dataDictionary[\"amendmentType\"] = \"\"\n",
    "            dataDictionary[\"entryTotal\"] = int(\"0\" + \"\")\n",
    "            dataDictionary[\"valueTotal\"] = float(\"0.0\" + \"\")\n",
    "            dt = pd.DataFrame.from_dict([dataDictionary])\n",
    "\n",
    "        else:\n",
    "            if len(pages_xml) == 0:\n",
    "                dataDictionary[\"isAmendment\"] = \"\"\n",
    "                dataDictionary[\"amendmentType\"] = \"\"\n",
    "                dataDictionary[\"entryTotal\"] = int(\"0\" + \"\")\n",
    "                dataDictionary[\"valueTotal\"] = float(\"0.0\" + \"\")\n",
    "                dt = pd.DataFrame.from_dict([dataDictionary])\n",
    "\n",
    "            else:\n",
    "                document = bs(pages_xml[0], \"xml\")\n",
    "                # get sections\n",
    "                coverPage = document.find(\"coverPage\")\n",
    "                summaryPage = document.find(\"summaryPage\")\n",
    "                # get data\n",
    "                if coverPage.find(\"isAmendment\") is not None:\n",
    "\n",
    "                    if coverPage.find(\"isAmendment\").text.strip() == \"true\":\n",
    "                        dataDictionary[\"isAmendment\"] = coverPage.find(\n",
    "                            \"isAmendment\"\n",
    "                        ).text.strip()\n",
    "                        if coverPage.find(\"amendmentType\"):\n",
    "                            dataDictionary[\"amendmentType\"] = coverPage.find(\n",
    "                                \"amendmentType\"\n",
    "                            ).text.strip()\n",
    "                        else:\n",
    "                            dataDictionary[\"amendmentType\"] = \"\"\n",
    "                    else:\n",
    "                        dataDictionary[\"isAmendment\"] = coverPage.find(\n",
    "                            \"isAmendment\"\n",
    "                        ).text.strip()\n",
    "                        dataDictionary[\"amendmentType\"] = \"\"\n",
    "                else:\n",
    "                    dataDictionary[\"isAmendment\"] = \"\"\n",
    "                    dataDictionary[\"amendmentType\"] = \"\"\n",
    "\n",
    "                if summaryPage is not None:\n",
    "                    if summaryPage.find(\"tableEntryTotal\").text.strip():\n",
    "                        dataDictionary[\"entryTotal\"] = int(\n",
    "                            float(summaryPage.find(\"tableEntryTotal\").text.strip() + \"0.0\")\n",
    "                        )\n",
    "                    else:\n",
    "                        dataDictionary[\"entryTotal\"] = int(\"0\" + \"\")\n",
    "\n",
    "\n",
    "                    if summaryPage.find(\"tableValueTotal\").text.strip():\n",
    "                        dataDictionary[\"valueTotal\"] = float(\n",
    "                        summaryPage.find(\"tableValueTotal\").text.strip()\n",
    "                    + \"0.0\")\n",
    "\n",
    "                    else: dataDictionary[\"valueTotal\"] = float(\"0.0\" + \"\")\n",
    "                else:\n",
    "                    dataDictionary[\"entryTotal\"], dataDictionary[\"valueTotal\"] = int(\n",
    "                        \"0\" + \"\"\n",
    "                    ), float(\"0.0\" + \"\")\n",
    "\n",
    "                # create dataframe\n",
    "                dt = pd.DataFrame.from_dict([dataDictionary])\n",
    "\n",
    "        return dt\n",
    "\n",
    "    def parse_institutionalInvestorPortfolio(file_path):\n",
    "        check = re.compile(\"13F HOLDINGS REPORT|13F COMBINATION REPORT\")\n",
    "        if check.search(reportType) is not None and len(pages_xml) > 1:\n",
    "\n",
    "            portfolio = list()\n",
    "            # find all securities held\n",
    "\n",
    "            securities = document1.find_all(\"infoTable\")\n",
    "            for row in securities:\n",
    "                portfolioDict = dict()\n",
    "                portfolioDict[\"edgar_path\"] = file_path\n",
    "                portfolioDict[\"cusip\"] = row.find(\"cusip\").text.strip()\n",
    "                portfolioDict[\"nameOfIssuer\"] = row.find(\"nameOfIssuer\").text.strip()\n",
    "                portfolioDict[\"titleOfClass\"] = row.find(\"titleOfClass\").text.strip()\n",
    "                portfolioDict[\"sharesValue\"] = float(\n",
    "                    row.find(\"value\").text.strip()\n",
    "                )\n",
    "                portfolioDict[\"sharesHeldAtEndOfQtr\"] = int(\n",
    "                    float(row.find(\"sshPrnamt\").text.strip())\n",
    "                )\n",
    "\n",
    "                try:\n",
    "                    portfolioDict[\"sharePriceAtEndOfQtr\"] = round(\n",
    "                        portfolioDict[\"sharesValue\"]\n",
    "                        / portfolioDict[\"sharesHeldAtEndOfQtr\"],\n",
    "                        2,\n",
    "                    )\n",
    "                except ZeroDivisionError:\n",
    "                    portfolioDict[\"sharePriceAtEndOfQtr\"] = float(int(\"0\" + \"\"))\n",
    "\n",
    "                portfolioDict[\"shares_bonds\"] = row.find(\"sshPrnamtType\").text.strip()\n",
    "\n",
    "                if row.find(\"putCall\") is not None:\n",
    "                    portfolioDict[\"putCall\"] = row.find(\"putCall\").text.strip()\n",
    "                else:\n",
    "                    portfolioDict[\"putCall\"] = \"\"\n",
    "\n",
    "                portfolio.append(pd.DataFrame.from_dict([portfolioDict]))\n",
    "\n",
    "            # concatanate secutires\n",
    "            dtPortfolio = pd.concat(portfolio, sort=False, ignore_index=True)\n",
    "        else:\n",
    "            dtPortfolio = pd.DataFrame.from_dict(\n",
    "                [\n",
    "                    {\n",
    "                        \"cusip\": \"\",\n",
    "                        \"nameOfIssuer\": \"\",\n",
    "                        \"titleOfClass\": \"\",\n",
    "                        \"sharesValue\": float(\"0.0\" + \"\"),\n",
    "                        \"sharesHeldAtEndOfQtr\": int(\"0\" + \"\"),\n",
    "                        \"sharePriceAtEndOfQtr\": float(\"0.0\" + \"\"),\n",
    "                        \"shares_bonds\": \"\",\n",
    "                        \"putCall\": \"\",\n",
    "                        \"edgar_path\": file_path,\n",
    "                    }\n",
    "                ]\n",
    "            )\n",
    "\n",
    "        return dtPortfolio\n",
    "\n",
    "    pages_header, pages_xml, xml_flag, reportType, document1 = work_content_extract(\n",
    "        file_path\n",
    "    )\n",
    "    df1, df2 = parse_institutionalInvestorInfo(\n",
    "        file_path\n",
    "    ), parse_institutionalInvestorPortfolio(file_path)\n",
    "\n",
    "    data = pd.merge(df1, df2, on=\"edgar_path\")\n",
    "    data = data.assign(dsource='sec_app')    \n",
    "    data = data.rename(columns={'accessionNumber': 'accession_number', \"cikManager\": 'cik', \"managerName\":'cik_name','xml_flag':'type',\n",
    "           \"periodOfReport\": 'rdate', \"submissionType\": 'submission_type', \"filedAsOfDate\":'fdate', \"entryTotal\": \"entry_total\",\n",
    "           \"valueTotal\": \"value_total\", 'putCall':'put_call', \"sharesValue\":'value', \"sharesHeldAtEndOfQtr\":'shares',\n",
    "           \"securityType\": \"security_type\", 'titleOfClass':'title_of_class', 'nameOfIssuer':'name_of_issuer' , \"edgar_path\":'file'})\n",
    "\n",
    "    column_names = [\n",
    "        \"accession_number\",\n",
    "        \"cik\",\n",
    "        \"cik_name\",\n",
    "        \"rdate\",\n",
    "        \"submission_type\",\n",
    "        \"fdate\",\n",
    "        \"entry_total\",\n",
    "        \"value_total\",\n",
    "        \"cusip\",\n",
    "        \"name_of_issuer\",\n",
    "        \"title_of_class\",\n",
    "        \"value\",\n",
    "        \"shares\",\n",
    "        \"shares_bonds\",\n",
    "        \"put_call\",\n",
    "        \"type\",\n",
    "        \"created_at\",\n",
    "        \"file\",\n",
    "        'dsource'\n",
    "    ]\n",
    "    data = data.astype(\n",
    "        {\n",
    "            \"accession_number\": str,\n",
    "            \"cik\": \"Int64\",\n",
    "            'cik_name': str,\n",
    "            \"rdate\": \"datetime64[ns]\",\n",
    "            \"submission_type\": str,\n",
    "            \"fdate\": \"datetime64[ns]\",\n",
    "            \"entry_total\": \"Int64\",\n",
    "            \"value_total\": \"float64\",\n",
    "            \"cusip\": str,\n",
    "            \"name_of_issuer\": str,\n",
    "            \"title_of_class\": str,\n",
    "            \"value\": \"float64\",\n",
    "            \"shares\": \"float64\",\n",
    "            \"shares_bonds\": str,\n",
    "            \"put_call\": str,\n",
    "            \"type\": str,\n",
    "            \"created_at\": \"datetime64[ns]\",\n",
    "            \"file\": str,\n",
    "            'dsource': str\n",
    "        }\n",
    "    )\n",
    "    attributes = {\n",
    "        \"accession_number\": \"first\",\n",
    "        \"cik\": \"first\",\n",
    "        \"cik_name\": \"first\",\n",
    "        \"rdate\": \"first\",\n",
    "        \"submission_type\": \"first\",\n",
    "        \"fdate\": \"first\",\n",
    "        \"entry_total\": \"first\",\n",
    "        \"value_total\": \"first\",\n",
    "        \"cusip\": \"first\",\n",
    "        \"name_of_issuer\": \"first\",\n",
    "        \"title_of_class\": \"first\",\n",
    "        \"value\": \"sum\",\n",
    "        \"shares\": \"sum\",\n",
    "        \"shares_bonds\": \"first\",\n",
    "        \"put_call\": \"first\",\n",
    "        \"type\": \"first\",\n",
    "        \"file\": \"first\",\n",
    "        'dsource': 'first'\n",
    "    }\n",
    "    data = data.assign(cusip=data.cusip.str.upper())\n",
    "    data = data.reindex(columns=column_names)\n",
    "   \n",
    "    ## pandera code\n",
    "    validation_schema = pa.DataFrameSchema({\n",
    "    \"cusip\": pa.Column(str,\n",
    "                       pa.Check(lambda s: s.str.len() == 9),\n",
    "                       required=True, nullable=False),\n",
    "    \"value\":  pa.Column(float, pa.Check(lambda s: s != 0.0), required=True, nullable=False),\n",
    "    \"shares\": pa.Column(float, pa.Check(lambda s: s != 0.0), required=True, nullable=False)\n",
    "        })\n",
    "    if data.head(1).type.squeeze() != 'NO':\n",
    "        try:\n",
    "            validation_schema.validate(data, lazy=True)\n",
    "            if not data.empty:\n",
    "                # group cusips\n",
    "                df2 = data.groupby([\"cusip\"], as_index=False).agg(attributes)\n",
    "                df2.to_parquet(\n",
    "                    os.path.join(\n",
    "                        directory_parquet,\n",
    "                        f\"{df2.head(1).cik[0]}-{df2.head(1).accession_number[0]}-{df2.head(1).fdate[0].strftime('%Y-%m-%d')}.parquet\",\n",
    "                                    )\n",
    "                                )\n",
    "\n",
    "                # return df2\n",
    "            else: pd.DataFrame()\n",
    "\n",
    "        except pa.errors.SchemaErrors as e:\n",
    "            failure_cases = e.failure_cases\n",
    "            failure_cases = (failure_cases.assign(df_file=data.file,\n",
    "                                                 df_cik=data.cik,\n",
    "                                                 df_rdate=data.rdate,\n",
    "                                                 df_fdate=data.fdate,\n",
    "                                                 df_value=data.value)).astype({'failure_case':str})\n",
    "            # print(failure_cases)\n",
    "            failure_cases.to_parquet(Path.joinpath(failures_parq_dir, \\\n",
    "                                                   f\"bad-{data.head(1).cik[0]}-{data.head(1).accession_number[0]}-   {data.head(1).fdate[0].strftime('%Y-%m-%d')}.parquet\"))\n",
    "            data = data[~data.index.isin(failure_cases[\"index\"])]\n",
    "            if not data.empty:\n",
    "                # group cusips\n",
    "                df2 = data.groupby([\"cusip\"], as_index=False).agg(attributes)\n",
    "                df2.to_parquet(\n",
    "                    os.path.join(\n",
    "                        directory_parquet,\n",
    "                        f\"{df2.head(1).cik[0]}-{df2.head(1).accession_number[0]}-{df2.head(1).fdate[0].strftime('%Y-%m-%d')}.parquet\",\n",
    "                                    )\n",
    "                                )\n",
    "\n",
    "                # return df2\n",
    "            else: pd.DataFrame()\n"
   ]
  },
  {
   "cell_type": "code",
   "execution_count": 4,
   "id": "b7c63c78-8e51-48da-b05b-cce99d46766f",
   "metadata": {},
   "outputs": [
    {
     "data": {
      "text/plain": [
       "1"
      ]
     },
     "execution_count": 4,
     "metadata": {},
     "output_type": "execute_result"
    }
   ],
   "source": [
    "# read list of csvs with variable number of columns\n",
    "# we define what columns we need \n",
    "import pandas as pd\n",
    "from io import StringIO\n",
    "\n",
    "# txt = \"\"\"AB,CD,EF,GH\n",
    "# foo,20160101,a,1\n",
    "# foo,20160102,a,3\n",
    "# foo,20160103,a,5\"\"\"\n",
    "\n",
    "txt2 = \"\"\"AB,CD,EF\n",
    "foo,20160101,1\n",
    "foo,20160102,1\n",
    "foo,20160103,1\"\"\"\n",
    "\n",
    "# usecols = ['AB', 'CD', 'EF', 'GH','IJ']\n",
    "\n",
    "# df = pd.read_csv(StringIO(txt2), usecols=lambda c: c in set(usecols))\n",
    "df = pd.read_csv(StringIO(txt2))\n",
    "df.EF.head(1).squeeze()\n",
    "\n"
   ]
  },
  {
   "cell_type": "markdown",
   "id": "99af6ae9-aa9b-4807-a6b3-aeb76843d123",
   "metadata": {},
   "source": [
    "#### A very interesting use of lambda, dictionary comprehension creacion from Andrej Karpathy's code"
   ]
  },
  {
   "cell_type": "code",
   "execution_count": 167,
   "id": "36cbc8ed-1c04-420e-92de-1be7cc20eed2",
   "metadata": {
    "tags": []
   },
   "outputs": [],
   "source": [
    "import string\n",
    "\n",
    "string.ascii_letters\n",
    "\n",
    "stoi = {ch:i for i, ch in enumerate(string.ascii_letters+' ')}\n",
    "itos = {i:ch for i, ch in enumerate(string.ascii_letters+' ')}"
   ]
  },
  {
   "cell_type": "code",
   "execution_count": 168,
   "id": "f3efe9e9-e093-4bb1-bc8b-2bfa3e640a1f",
   "metadata": {
    "tags": []
   },
   "outputs": [
    {
     "data": {
      "text/plain": [
       "'hii itheerre'"
      ]
     },
     "execution_count": 168,
     "metadata": {},
     "output_type": "execute_result"
    }
   ],
   "source": [
    "stoi\n",
    "encode = lambda s: [stoi[c] for c in s]\n",
    "decode = lambda l: ''.join([itos[i] for i in l])\n",
    "encode('hii itheerre')\n",
    "decode(encode('hii itheerre'))"
   ]
  },
  {
   "cell_type": "markdown",
   "id": "2423bda3-9666-4019-8a9d-94f10fb4f9a7",
   "metadata": {},
   "source": [
    "#### Let's practice a bit"
   ]
  },
  {
   "cell_type": "code",
   "execution_count": 169,
   "id": "c53a1363-46e8-49ba-8905-8a8d9c68b206",
   "metadata": {
    "tags": []
   },
   "outputs": [],
   "source": [
    "# lambda func to list all files in a given dir\n",
    "from pathlib import Path\n",
    "sec_app_parq = Path(r'/Users/yo_macbook/Documents/app_data/sec_apps_data/TR_02_ALL_PARQ_SEC_APP')\n",
    "\n",
    "# list_files_in_dir = lambda dir_: sorted(list(Path(dir_).glob('*'))) \n",
    "# list_cik_in_dir = lambda dir_: sorted(set([int(file.stem.split('-')[0]) for file in Path(dir_).glob('*')]))\n",
    "list_fdates_in_dir = lambda dir_: sorted(set([file.stem.split('-', 4)[-1] for file in Path(dir_).glob('*')]))\n",
    "# list_cik_after = lambda dir_, cik_after: [cik for cik in list_cik_in_dir(dir_) if cik > cik_after ]"
   ]
  },
  {
   "cell_type": "code",
   "execution_count": 180,
   "id": "4bdc9d5d-737d-4d89-afd8-b345b9de406f",
   "metadata": {
    "tags": []
   },
   "outputs": [
    {
     "name": "stdout",
     "output_type": "stream",
     "text": [
      "CPU times: user 531 ms, sys: 207 ms, total: 738 ms\n",
      "Wall time: 753 ms\n"
     ]
    },
    {
     "data": {
      "text/plain": [
       "('2013-05-20', '2023-02-17')"
      ]
     },
     "execution_count": 180,
     "metadata": {},
     "output_type": "execute_result"
    }
   ],
   "source": [
    "%%time\n",
    "# list_files(sec_app_parq)[:4]\n",
    "# list_cik_in_dir(sec_app_parq)[:4]\n",
    "# list_fdates_in_dir(sec_app_parq)[:4]\n",
    "\n",
    "min(list_fdates_in_dir(sec_app_parq)), max(list_fdates_in_dir(sec_app_parq))\n",
    "\n",
    "# print(itemgetter(0, -1)(list_cik_after(sec_app_parq, 1958491)))\n",
    "\n",
    "# list_cik_in_dir = lambda dir_: sorted(set([int(file.stem.split('-')[0]) for file in Path(dir_).glob('*')]))\n",
    "# list_cik_after = lambda dir_, cik_after: [cik for cik in list_cik_in_dir(dir_) if cik > cik_after ]\n",
    "# list_cik_after(sec_app_parq, 1958491)"
   ]
  },
  {
   "cell_type": "code",
   "execution_count": 67,
   "id": "c878240a-ff4b-40d6-bf7b-9755e40bed26",
   "metadata": {
    "tags": []
   },
   "outputs": [
    {
     "data": {
      "text/plain": [
       "187"
      ]
     },
     "execution_count": 67,
     "metadata": {},
     "output_type": "execute_result"
    }
   ],
   "source": []
  },
  {
   "cell_type": "code",
   "execution_count": 72,
   "id": "914b1450-77a0-4846-a3de-1a9a5f5379e9",
   "metadata": {
    "tags": []
   },
   "outputs": [],
   "source": [
    "# getattr(object, 'y', 5)\n",
    "# getattr(object, 'x') is completely equivalent to object.x , but getattr(object, 'y', 5), sets a defaut value and won't error out if 'y' doesn't exist"
   ]
  },
  {
   "cell_type": "code",
   "execution_count": 110,
   "id": "885691ae-a291-4b27-b514-08b83bc71ac2",
   "metadata": {
    "tags": []
   },
   "outputs": [
    {
     "data": {
      "text/plain": [
       "('2013-05-21', '2013-05-22')"
      ]
     },
     "execution_count": 110,
     "metadata": {},
     "output_type": "execute_result"
    }
   ],
   "source": [
    "from operator import itemgetter\n",
    "l = ['2013-05-20', '2013-05-21', '2013-05-22', '2013-05-23', '2017-05-23']\n",
    "\n",
    "itemgetter(1, 2)(l)\n"
   ]
  },
  {
   "cell_type": "code",
   "execution_count": 102,
   "id": "d9dd8903-fe08-40e3-b5ef-47f903dd0750",
   "metadata": {
    "tags": []
   },
   "outputs": [],
   "source": [
    "falseValue = 345\n",
    "trueValue  = 65"
   ]
  },
  {
   "cell_type": "code",
   "execution_count": 103,
   "id": "90647cda-9c8a-4252-82b2-6f97f5fa445b",
   "metadata": {
    "tags": []
   },
   "outputs": [
    {
     "data": {
      "text/plain": [
       "65"
      ]
     },
     "execution_count": 103,
     "metadata": {},
     "output_type": "execute_result"
    }
   ],
   "source": [
    "(falseValue, trueValue)[bool(True)]"
   ]
  },
  {
   "cell_type": "code",
   "execution_count": 95,
   "id": "90173255-781f-4585-b9fb-eabbd846981a",
   "metadata": {
    "tags": []
   },
   "outputs": [
    {
     "data": {
      "text/plain": [
       "int"
      ]
     },
     "execution_count": 95,
     "metadata": {},
     "output_type": "execute_result"
    }
   ],
   "source": []
  },
  {
   "cell_type": "code",
   "execution_count": 100,
   "id": "353d8af8-04ad-4af8-a7eb-0519b1cb976f",
   "metadata": {
    "tags": []
   },
   "outputs": [
    {
     "name": "stdout",
     "output_type": "stream",
     "text": [
      "I was right\n"
     ]
    }
   ],
   "source": [
    "(lambda: print('I was wrong'), lambda: print('I was right'))[bool(True)]()"
   ]
  },
  {
   "cell_type": "code",
   "execution_count": 104,
   "id": "91eec6b5-0792-4f06-9342-d6828e3a0d72",
   "metadata": {
    "tags": []
   },
   "outputs": [
    {
     "name": "stdout",
     "output_type": "stream",
     "text": [
      "I was right\n"
     ]
    }
   ],
   "source": [
    "x = print('I was right') if True else rint('I was wrong')"
   ]
  },
  {
   "cell_type": "code",
   "execution_count": 112,
   "id": "6ae184a0-189b-4df3-abe7-c49377475620",
   "metadata": {
    "tags": []
   },
   "outputs": [
    {
     "name": "stdout",
     "output_type": "stream",
     "text": [
      "dropbox\n",
      "dropbox\n",
      "dropbox\n",
      "dropbox\n",
      "sec_app\n"
     ]
    }
   ],
   "source": [
    "# ternary operator\n",
    "for date in l:\n",
    "    x = 'dropbox' if date <= '2014-01-01' else 'sec_app'\n",
    "    print(x)"
   ]
  },
  {
   "cell_type": "code",
   "execution_count": 124,
   "id": "5b1b57f0-7000-40e0-b198-99cf6c11048a",
   "metadata": {
    "tags": []
   },
   "outputs": [
    {
     "data": {
      "text/plain": [
       "0"
      ]
     },
     "execution_count": 124,
     "metadata": {},
     "output_type": "execute_result"
    }
   ],
   "source": [
    "# another way how to launch programs from python\n",
    "import subprocess\n",
    "file = Path(r'/Users/yo_macbook/Documents/app_data/sec_apps_data/TR_02_ALL_PARQ_SEC_APP/1953154-0001214659-22-013465-2022-11-10.parquet')\n",
    "# subprocess.call([\"ls\", \"-l\"])\n",
    "subprocess.call(['tad', file])"
   ]
  },
  {
   "cell_type": "code",
   "execution_count": null,
   "id": "0fba042a-3d66-46c3-866d-dc097175eb10",
   "metadata": {},
   "outputs": [],
   "source": []
  },
  {
   "cell_type": "code",
   "execution_count": 132,
   "id": "0549f233-bc1b-4b5a-a894-db2cfe7683e0",
   "metadata": {},
   "outputs": [],
   "source": [
    "# lambda func to list all files in a given dir\n",
    "from pathlib import Path\n",
    "sec_app_parq = Path(r'/Users/yo_macbook/Documents/app_data/sec_apps_data/TR_02_ALL_PARQ_SEC_APP')"
   ]
  },
  {
   "cell_type": "code",
   "execution_count": 134,
   "id": "d80bfd57-0475-4735-b49c-36d8182f4f44",
   "metadata": {
    "tags": []
   },
   "outputs": [],
   "source": [
    "list_file_names = lambda _dir: [file.stem for file in Path(_dir).glob('*')]"
   ]
  },
  {
   "cell_type": "code",
   "execution_count": 135,
   "id": "739dc3b9-9baa-4302-8a9b-70387ea26c59",
   "metadata": {
    "tags": []
   },
   "outputs": [
    {
     "data": {
      "text/plain": [
       "['1727862-0001727862-23-000013-2023-02-01',\n",
       " '1825516-0001062993-21-003866-2021-04-28',\n",
       " '1801265-0001801265-22-000006-2022-08-15',\n",
       " '1358253-0000919574-15-006055-2015-08-14']"
      ]
     },
     "execution_count": 135,
     "metadata": {},
     "output_type": "execute_result"
    }
   ],
   "source": [
    "list_file_names(sec_app_parq)[:4]"
   ]
  },
  {
   "cell_type": "code",
   "execution_count": 150,
   "id": "7ad56904-b338-40ee-b77a-0a15050448ec",
   "metadata": {
    "tags": []
   },
   "outputs": [],
   "source": [
    "from operator import itemgetter\n",
    "last_date = lambda _dir: [file.stem.split('-', 4)[-1] for file in Path(_dir).glob('*')]"
   ]
  },
  {
   "cell_type": "code",
   "execution_count": 152,
   "id": "55ba6882-fa4e-4b00-9fb7-ba634175dbdf",
   "metadata": {
    "tags": []
   },
   "outputs": [
    {
     "data": {
      "text/plain": [
       "('2013-05-20', '2023-02-17')"
      ]
     },
     "execution_count": 152,
     "metadata": {},
     "output_type": "execute_result"
    }
   ],
   "source": [
    "min(last_date(sec_app_parq)), max(last_date(sec_app_parq))"
   ]
  },
  {
   "cell_type": "markdown",
   "id": "03edc7b3-a6e9-4c70-9ccf-a533caa59356",
   "metadata": {},
   "source": [
    "#### Lambda with two parameters"
   ]
  },
  {
   "cell_type": "code",
   "execution_count": 182,
   "id": "63897d4e-a388-4bc4-ba9c-f19d2747e612",
   "metadata": {
    "tags": []
   },
   "outputs": [],
   "source": [
    "list_parq_in_dir = lambda folder, ext: [file.stem for file in Path(folder).glob('*') if file.suffix == ext]"
   ]
  },
  {
   "cell_type": "code",
   "execution_count": 183,
   "id": "b099d9f4-3179-4915-91e7-958400bc0767",
   "metadata": {
    "tags": []
   },
   "outputs": [
    {
     "data": {
      "text/plain": [
       "[]"
      ]
     },
     "execution_count": 183,
     "metadata": {},
     "output_type": "execute_result"
    }
   ],
   "source": [
    "list_parq_in_dir(sec_app_parq, '.csv')[:4]"
   ]
  },
  {
   "cell_type": "code",
   "execution_count": 198,
   "id": "30b646a4-2394-4a91-8644-f6b1704cea00",
   "metadata": {
    "tags": []
   },
   "outputs": [
    {
     "data": {
      "text/plain": [
       "'865623-0000922423-01-500513'"
      ]
     },
     "execution_count": 198,
     "metadata": {},
     "output_type": "execute_result"
    }
   ],
   "source": [
    "'865623-0000922423-01-500513-2001-07-16'.rsplit('-', 3)[0]"
   ]
  },
  {
   "cell_type": "code",
   "execution_count": 207,
   "id": "cda9231f-83bf-4049-b6b1-fd032b7507f3",
   "metadata": {
    "tags": []
   },
   "outputs": [],
   "source": [
    "from pathlib import Path\n",
    "import numpy as np\n",
    "import pandas as pd\n",
    "\n",
    "list_file_names_csv = lambda folder: [file.stem for file in folder.glob('*.csv')]\n",
    "list_file_names_parq = lambda folder: [file.stem.rsplit('-', 3)[0] for file in folder.glob('*.parquet')]"
   ]
  },
  {
   "cell_type": "code",
   "execution_count": 202,
   "id": "fce8c0e3-f345-43ec-8f80-4c3891f9a03c",
   "metadata": {
    "tags": []
   },
   "outputs": [],
   "source": [
    "clean_csv_0_2013 = Path(r\"/Users/yo_macbook/Documents/app_data/dropbox_13f_files/processed_tables/TR_01_ALL_CSV_CLEANED\")\n",
    "clean_parq_0_2013 = Path(r'/Users/yo_macbook/Documents/app_data/dropbox_13f_files/processed_tables/TR_02_CLEANED_PARQ_0_2013')\n",
    "\n",
    "csv_files = list_file_names_csv(clean_csv_0_2013)\n",
    "parquet_files = list_file_names_parq(clean_parq_0_2013)\n"
   ]
  },
  {
   "cell_type": "code",
   "execution_count": null,
   "id": "feb8cad1-6595-423b-8b0b-7d39eb30fff9",
   "metadata": {},
   "outputs": [],
   "source": [
    "\n"
   ]
  },
  {
   "cell_type": "code",
   "execution_count": null,
   "id": "2adaf8da-e8e7-4bbf-9e0b-1a15324b0ca0",
   "metadata": {
    "tags": []
   },
   "outputs": [],
   "source": [
    "len(csv_files), len(parquet_files) \n",
    "csv_files[:3]"
   ]
  },
  {
   "cell_type": "markdown",
   "id": "734a4c69-e68b-4be8-b465-d3dab685d74f",
   "metadata": {},
   "source": [
    "### Find missing parquet files. It's difference between csv and parquet lists"
   ]
  },
  {
   "cell_type": "code",
   "execution_count": 215,
   "id": "eb918d72-02c6-4b48-b7e7-2c27e8bc703c",
   "metadata": {
    "tags": []
   },
   "outputs": [],
   "source": [
    "l = np.setdiff1d(csv_files, parquet_files)\n",
    "l_reverse = np.setdiff1d(parquet_files, csv_files)"
   ]
  },
  {
   "cell_type": "code",
   "execution_count": 205,
   "id": "b4f7430e-3337-41e9-be76-de24254f2fd0",
   "metadata": {
    "tags": []
   },
   "outputs": [
    {
     "name": "stdout",
     "output_type": "stream",
     "text": [
      "1215613-0000905718-03-000066\n",
      "872573-0000872573-03-000005\n",
      "948046-0001092307-02-000098\n",
      "948046-0001092307-02-000110\n",
      "948046-0001092307-02-000112\n",
      "948046-0001092307-02-000113\n",
      "948046-0001092307-02-000128\n",
      "948046-0001092307-02-000129\n",
      "948046-0001092307-03-000132\n",
      "948046-0001092307-03-000152\n"
     ]
    },
    {
     "data": {
      "text/plain": [
       "[None, None, None, None, None, None, None, None, None, None]"
      ]
     },
     "execution_count": 205,
     "metadata": {},
     "output_type": "execute_result"
    }
   ],
   "source": [
    "[print(name) for name in l if name not in parquet_files]"
   ]
  },
  {
   "cell_type": "code",
   "execution_count": 213,
   "id": "cbf2f61d-1e33-459a-9a8e-bbf4bc552375",
   "metadata": {
    "tags": []
   },
   "outputs": [],
   "source": [
    "df = pd.read_csv(Path.joinpath(clean_csv_0_2013, '1215613-0000905718-03-000066.csv'))"
   ]
  },
  {
   "cell_type": "code",
   "execution_count": 6,
   "id": "e201e8b1-bd3e-49d4-b294-98c5593ebb16",
   "metadata": {
    "tags": []
   },
   "outputs": [
    {
     "name": "stdout",
     "output_type": "stream",
     "text": [
      "first part: 162085 + second part: 193580 = 355665\n",
      "final folder: 355665\n"
     ]
    }
   ],
   "source": [
    "list_files = lambda folder: [file.stem for file in folder.iterdir()]\n",
    "\n",
    "clean_parq_0_2013 = Path(r'/Users/yo_macbook/Documents/app_data/dropbox_13f_files/processed_tables/TR_02_CLEANED_PARQ_0_2013')\n",
    "clean_parq_2014_2023 = Path('/Users/yo_macbook/Documents/app_data/sec_apps_data/TR_02_FINAL_PARQ_2014_2023_02_17')\n",
    "\n",
    "final_parq = Path(f'/Users/yo_macbook/Documents/app_data/TR_02_FINAL_PARQ_BOTH_1999_2023_02_17')\n",
    "print(f'first part: {len(list_files(clean_parq_0_2013))} + second part: {len(list_files(clean_parq_2014_2023))} = {len(list_files(clean_parq_0_2013)) + len(list_files(clean_parq_2014_2023))}')\n",
    "print(f'final folder: {len(list_files(final_parq))}')"
   ]
  },
  {
   "cell_type": "code",
   "execution_count": 255,
   "id": "5d790bfe-6aaf-461e-8cb1-a764949698a4",
   "metadata": {
    "tags": []
   },
   "outputs": [
    {
     "name": "stdout",
     "output_type": "stream",
     "text": [
      "0\n",
      "CPU times: user 443 ms, sys: 185 ms, total: 628 ms\n",
      "Wall time: 642 ms\n"
     ]
    }
   ],
   "source": [
    "%%time\n",
    "common_files = np.intersect1d(list_files(clean_parq_0_2013), list_files(clean_parq_2014_2023) )\n",
    "print(len(common_files))"
   ]
  },
  {
   "cell_type": "code",
   "execution_count": null,
   "id": "b9c7dad8-c7b0-4a42-aa1c-c2c9057a1b58",
   "metadata": {
    "tags": []
   },
   "outputs": [],
   "source": [
    "list_files(clean_parq_0_2013)[:3], list_files(clean_parq_2014_2023)[:3]"
   ]
  },
  {
   "cell_type": "code",
   "execution_count": 269,
   "id": "da1c3a88-77fa-444a-b424-54ed63b4ced5",
   "metadata": {
    "tags": []
   },
   "outputs": [
    {
     "name": "stdout",
     "output_type": "stream",
     "text": [
      "CPU times: user 272 ms, sys: 185 ms, total: 457 ms\n",
      "Wall time: 702 ms\n"
     ]
    },
    {
     "data": {
      "text/plain": [
       "355665"
      ]
     },
     "execution_count": 269,
     "metadata": {},
     "output_type": "execute_result"
    }
   ],
   "source": [
    "%%time\n",
    "\n",
    "len(list_files(final_parq))"
   ]
  },
  {
   "cell_type": "code",
   "execution_count": 260,
   "id": "44d7e849-7917-4ab0-ac21-e8f4a5271459",
   "metadata": {
    "tags": []
   },
   "outputs": [
    {
     "name": "stdout",
     "output_type": "stream",
     "text": [
      "0\n",
      "CPU times: user 305 ms, sys: 178 ms, total: 482 ms\n",
      "Wall time: 482 ms\n"
     ]
    }
   ],
   "source": [
    "%%time\n",
    "common_elements = list(set(list_files(clean_parq_0_2013)) & set(list_files(clean_parq_2014_2023)))\n",
    "\n",
    "print(len(common_elements) if common_elements else 0)"
   ]
  },
  {
   "cell_type": "code",
   "execution_count": 261,
   "id": "3f7fb544-aeb8-453c-8028-374f60f21e70",
   "metadata": {
    "tags": []
   },
   "outputs": [
    {
     "data": {
      "text/plain": [
       "1.3319502074688796"
      ]
     },
     "execution_count": 261,
     "metadata": {},
     "output_type": "execute_result"
    }
   ],
   "source": [
    "642/482"
   ]
  },
  {
   "cell_type": "markdown",
   "id": "d0edd33e-bd16-4df4-b087-28ba58d09ac7",
   "metadata": {},
   "source": [
    "### Copying file from one folder to another"
   ]
  },
  {
   "cell_type": "code",
   "execution_count": 164,
   "id": "05a3728b-6c4d-4aad-b2ac-b93caca58ead",
   "metadata": {
    "tags": []
   },
   "outputs": [],
   "source": [
    "from pathlib import Path\n",
    "import shutil\n",
    "\n",
    "copy_files = lambda folder_from, folder_to: [shutil.copy(file, folder_to) for file in folder_from.iterdir()]"
   ]
  },
  {
   "cell_type": "code",
   "execution_count": null,
   "id": "6d504bd0-5aee-4934-8182-23e571f9a3a5",
   "metadata": {
    "scrolled": true,
    "tags": []
   },
   "outputs": [],
   "source": [
    "%%time\n",
    "copy_files(clean_parq_2014_2023, final_parq)"
   ]
  },
  {
   "cell_type": "code",
   "execution_count": null,
   "id": "b162312b-8af9-4797-8a3f-28f5c0e742d7",
   "metadata": {
    "scrolled": true,
    "tags": []
   },
   "outputs": [],
   "source": [
    "%%time\n",
    "\n",
    "temp_parq = Path(f'/Users/yo_macbook/Documents/app_data/TR_02_FINAL_PARQ_BOTH_1999_2023_02_17')\n",
    "final_parq = Path(r'/Users/yo_macbook/Documents/app_data/TR_02_PARQ_ALL')\n",
    "\n",
    "copy_files(temp_parq, final_parq)"
   ]
  },
  {
   "cell_type": "code",
   "execution_count": null,
   "id": "f22a607e-d021-49e2-93d5-71f324fb432f",
   "metadata": {
    "scrolled": true,
    "tags": []
   },
   "outputs": [],
   "source": [
    "%%time\n",
    "\n",
    "temp_failure = Path(r'/Users/yo_macbook/Documents/app_data/sec_apps_data/TR_02_FAILURE_CASES_PARQ_SEC_APP')\n",
    "# temp_failure_csv = Path(r'/Users/yo_macbook/Documents/app_data/dropbox_13f_files/processed_tables/TR_01_FAILURE_CASES_CSV')\n",
    "final_failure = Path(r'/Users/yo_macbook/Documents/app_data/TR_02_FAILURE_CASES')\n",
    "\n",
    "copy_files(temp_failure, final_failure)"
   ]
  },
  {
   "cell_type": "code",
   "execution_count": null,
   "id": "4857ea9d-9e73-4029-861f-ceed6e9e8a37",
   "metadata": {},
   "outputs": [],
   "source": [
    "from pathlib import Path\n",
    "import shutil\n",
    "\n",
    "copy_files = lambda folder_from, folder_to: [shutil.copy(file, folder_to) for file in Path(folder_from).iterdir()]"
   ]
  },
  {
   "cell_type": "code",
   "execution_count": 9,
   "id": "08ab15c8-6422-4103-8146-680c1902a546",
   "metadata": {
    "tags": []
   },
   "outputs": [
    {
     "data": {
      "text/plain": [
       "PosixPath('/Users/yo_macbook/Documents/app_data/TR_02_FINAL_PARQ_BOTH_1999_2023_02_17')"
      ]
     },
     "execution_count": 9,
     "metadata": {},
     "output_type": "execute_result"
    }
   ],
   "source": [
    "from pathlib import Path\n",
    "from humanize import naturalsize\n",
    "\n",
    "# size = final_parq.stat().st_size\n",
    "\n",
    "# print(naturalsize(size))\n",
    "final_parq"
   ]
  },
  {
   "cell_type": "code",
   "execution_count": 19,
   "id": "0f196ba4-c465-400c-9034-2d255c7a7cdc",
   "metadata": {
    "tags": []
   },
   "outputs": [
    {
     "name": "stdout",
     "output_type": "stream",
     "text": [
      "7.8 GB\n"
     ]
    }
   ],
   "source": [
    "size = []\n",
    "folder_size = lambda folder: size.extend(file.stat().st_size for file in folder.iterdir())\n",
    "folder_size(final_parq)\n",
    "print(naturalsize(sum(size)))\n",
    "\n"
   ]
  },
  {
   "cell_type": "code",
   "execution_count": 15,
   "id": "4c6447ed-0f70-4824-b7b4-93f8a9ea8956",
   "metadata": {
    "tags": []
   },
   "outputs": [
    {
     "data": {
      "text/plain": [
       "355665"
      ]
     },
     "execution_count": 15,
     "metadata": {},
     "output_type": "execute_result"
    }
   ],
   "source": []
  },
  {
   "cell_type": "code",
   "execution_count": 295,
   "id": "554403f5-d09e-49d8-b1f9-9fb2db4dee38",
   "metadata": {
    "tags": []
   },
   "outputs": [
    {
     "data": {
      "text/html": [
       "<div>\n",
       "<style scoped>\n",
       "    .dataframe tbody tr th:only-of-type {\n",
       "        vertical-align: middle;\n",
       "    }\n",
       "\n",
       "    .dataframe tbody tr th {\n",
       "        vertical-align: top;\n",
       "    }\n",
       "\n",
       "    .dataframe thead th {\n",
       "        text-align: right;\n",
       "    }\n",
       "</style>\n",
       "<table border=\"1\" class=\"dataframe\">\n",
       "  <thead>\n",
       "    <tr style=\"text-align: right;\">\n",
       "      <th></th>\n",
       "      <th>price</th>\n",
       "      <th>amount</th>\n",
       "      <th>rank</th>\n",
       "      <th>date</th>\n",
       "      <th>city</th>\n",
       "      <th>name</th>\n",
       "      <th>category</th>\n",
       "    </tr>\n",
       "  </thead>\n",
       "  <tbody>\n",
       "    <tr>\n",
       "      <th>0</th>\n",
       "      <td>0.410924</td>\n",
       "      <td>3</td>\n",
       "      <td>0</td>\n",
       "      <td>2022-01-01</td>\n",
       "      <td>Port Ryanland</td>\n",
       "      <td>Michael Smith</td>\n",
       "      <td>Botswana</td>\n",
       "    </tr>\n",
       "    <tr>\n",
       "      <th>1</th>\n",
       "      <td>0.579694</td>\n",
       "      <td>2</td>\n",
       "      <td>1</td>\n",
       "      <td>2022-01-02</td>\n",
       "      <td>Dicksonberg</td>\n",
       "      <td>Vanessa Clark</td>\n",
       "      <td>Botswana</td>\n",
       "    </tr>\n",
       "    <tr>\n",
       "      <th>2</th>\n",
       "      <td>0.139951</td>\n",
       "      <td>4</td>\n",
       "      <td>2</td>\n",
       "      <td>2022-01-03</td>\n",
       "      <td>New Richard</td>\n",
       "      <td>Robert Gutierrez</td>\n",
       "      <td>Botswana</td>\n",
       "    </tr>\n",
       "    <tr>\n",
       "      <th>3</th>\n",
       "      <td>0.401018</td>\n",
       "      <td>7</td>\n",
       "      <td>3</td>\n",
       "      <td>2022-01-04</td>\n",
       "      <td>Gregoryburgh</td>\n",
       "      <td>Michael Baker</td>\n",
       "      <td>Sudan</td>\n",
       "    </tr>\n",
       "    <tr>\n",
       "      <th>4</th>\n",
       "      <td>0.627317</td>\n",
       "      <td>2</td>\n",
       "      <td>4</td>\n",
       "      <td>2022-01-05</td>\n",
       "      <td>South Tara</td>\n",
       "      <td>Tyler Christensen</td>\n",
       "      <td>Sudan</td>\n",
       "    </tr>\n",
       "    <tr>\n",
       "      <th>5</th>\n",
       "      <td>0.324151</td>\n",
       "      <td>4</td>\n",
       "      <td>5</td>\n",
       "      <td>2022-01-06</td>\n",
       "      <td>Brittanymouth</td>\n",
       "      <td>Mark Armstrong</td>\n",
       "      <td>Sudan</td>\n",
       "    </tr>\n",
       "    <tr>\n",
       "      <th>6</th>\n",
       "      <td>0.244759</td>\n",
       "      <td>8</td>\n",
       "      <td>6</td>\n",
       "      <td>2022-01-07</td>\n",
       "      <td>Christianfurt</td>\n",
       "      <td>Michelle Hunter</td>\n",
       "      <td>Sudan</td>\n",
       "    </tr>\n",
       "    <tr>\n",
       "      <th>7</th>\n",
       "      <td>0.694755</td>\n",
       "      <td>0</td>\n",
       "      <td>7</td>\n",
       "      <td>2022-01-08</td>\n",
       "      <td>Joycehaven</td>\n",
       "      <td>Christopher Owens</td>\n",
       "      <td>Greenland</td>\n",
       "    </tr>\n",
       "    <tr>\n",
       "      <th>8</th>\n",
       "      <td>0.593902</td>\n",
       "      <td>7</td>\n",
       "      <td>8</td>\n",
       "      <td>2022-01-09</td>\n",
       "      <td>Pamelafort</td>\n",
       "      <td>Tyler Wilson</td>\n",
       "      <td>Greenland</td>\n",
       "    </tr>\n",
       "    <tr>\n",
       "      <th>9</th>\n",
       "      <td>0.631792</td>\n",
       "      <td>9</td>\n",
       "      <td>9</td>\n",
       "      <td>2022-01-10</td>\n",
       "      <td>Petersburgh</td>\n",
       "      <td>Robyn Ford</td>\n",
       "      <td>Greenland</td>\n",
       "    </tr>\n",
       "  </tbody>\n",
       "</table>\n",
       "</div>"
      ],
      "text/plain": [
       "      price  amount  rank       date           city               name  \\\n",
       "0  0.410924       3     0 2022-01-01  Port Ryanland      Michael Smith   \n",
       "1  0.579694       2     1 2022-01-02    Dicksonberg      Vanessa Clark   \n",
       "2  0.139951       4     2 2022-01-03    New Richard   Robert Gutierrez   \n",
       "3  0.401018       7     3 2022-01-04   Gregoryburgh      Michael Baker   \n",
       "4  0.627317       2     4 2022-01-05     South Tara  Tyler Christensen   \n",
       "5  0.324151       4     5 2022-01-06  Brittanymouth     Mark Armstrong   \n",
       "6  0.244759       8     6 2022-01-07  Christianfurt    Michelle Hunter   \n",
       "7  0.694755       0     7 2022-01-08     Joycehaven  Christopher Owens   \n",
       "8  0.593902       7     8 2022-01-09     Pamelafort       Tyler Wilson   \n",
       "9  0.631792       9     9 2022-01-10    Petersburgh         Robyn Ford   \n",
       "\n",
       "    category  \n",
       "0   Botswana  \n",
       "1   Botswana  \n",
       "2   Botswana  \n",
       "3      Sudan  \n",
       "4      Sudan  \n",
       "5      Sudan  \n",
       "6      Sudan  \n",
       "7  Greenland  \n",
       "8  Greenland  \n",
       "9  Greenland  "
      ]
     },
     "execution_count": 295,
     "metadata": {},
     "output_type": "execute_result"
    }
   ],
   "source": [
    "from faker import Faker\n",
    "np.random.seed(123)\n",
    "\n",
    "fake = Faker()\n",
    "n = 10\n",
    "\n",
    "# categories = [fake.word() for _ in range(3)]\n",
    "\n",
    "# # Create a list of categories with repetition\n",
    "# categories = np.repeat(categories, [3, 4, 3])\n",
    "\n",
    "# Shuffle the categories randomly\n",
    "np.random.shuffle(categories)\n",
    "\n",
    "data = {\n",
    "    'price': np.random.rand(n),\n",
    "    'amount': np.random.randint(0, 10, n),\n",
    "    'rank': range(n),\n",
    "    'date': pd.date_range(start='2022-01-01', periods=n),\n",
    "    'city': [fake.city() for _ in range(n)],\n",
    "    'name': [fake.name() for _ in range(n)], \n",
    "    'category': np.repeat([fake.country() for _ in range(3)], [3, 4, 3])\n",
    "}\n",
    "\n",
    "df1 = pd.DataFrame(data)\n",
    "df1"
   ]
  },
  {
   "cell_type": "code",
   "execution_count": 285,
   "id": "1ce3c06e-4983-4042-8d6d-af881f213f82",
   "metadata": {
    "tags": []
   },
   "outputs": [],
   "source": [
    "rand_list1 = [fake.name() for _ in range(10)]\n",
    "rand_list2 = [fake.name() for _ in range(100)]"
   ]
  },
  {
   "cell_type": "code",
   "execution_count": null,
   "id": "abdccd3a-ac0c-493d-9963-e3c8d945e8dc",
   "metadata": {},
   "outputs": [],
   "source": []
  },
  {
   "cell_type": "code",
   "execution_count": 292,
   "id": "2b02ed01-bbfd-4d28-a3de-0e18e3b08e48",
   "metadata": {
    "tags": []
   },
   "outputs": [
    {
     "data": {
      "text/plain": [
       "0"
      ]
     },
     "execution_count": 292,
     "metadata": {},
     "output_type": "execute_result"
    }
   ],
   "source": [
    "len(set(rand_list1) & set(rand_list2) )"
   ]
  },
  {
   "cell_type": "code",
   "execution_count": 2,
   "id": "d87df31c-4c03-4c7b-ada7-aed3c003576c",
   "metadata": {
    "tags": []
   },
   "outputs": [
    {
     "data": {
      "text/html": [
       "\n",
       "<div id=\"altair-viz-8fe361955e5c4f06a715e8ebeb2d667d\"></div>\n",
       "<script type=\"text/javascript\">\n",
       "  var VEGA_DEBUG = (typeof VEGA_DEBUG == \"undefined\") ? {} : VEGA_DEBUG;\n",
       "  (function(spec, embedOpt){\n",
       "    let outputDiv = document.currentScript.previousElementSibling;\n",
       "    if (outputDiv.id !== \"altair-viz-8fe361955e5c4f06a715e8ebeb2d667d\") {\n",
       "      outputDiv = document.getElementById(\"altair-viz-8fe361955e5c4f06a715e8ebeb2d667d\");\n",
       "    }\n",
       "    const paths = {\n",
       "      \"vega\": \"https://cdn.jsdelivr.net/npm//vega@5?noext\",\n",
       "      \"vega-lib\": \"https://cdn.jsdelivr.net/npm//vega-lib?noext\",\n",
       "      \"vega-lite\": \"https://cdn.jsdelivr.net/npm//vega-lite@4.17.0?noext\",\n",
       "      \"vega-embed\": \"https://cdn.jsdelivr.net/npm//vega-embed@6?noext\",\n",
       "    };\n",
       "\n",
       "    function maybeLoadScript(lib, version) {\n",
       "      var key = `${lib.replace(\"-\", \"\")}_version`;\n",
       "      return (VEGA_DEBUG[key] == version) ?\n",
       "        Promise.resolve(paths[lib]) :\n",
       "        new Promise(function(resolve, reject) {\n",
       "          var s = document.createElement('script');\n",
       "          document.getElementsByTagName(\"head\")[0].appendChild(s);\n",
       "          s.async = true;\n",
       "          s.onload = () => {\n",
       "            VEGA_DEBUG[key] = version;\n",
       "            return resolve(paths[lib]);\n",
       "          };\n",
       "          s.onerror = () => reject(`Error loading script: ${paths[lib]}`);\n",
       "          s.src = paths[lib];\n",
       "        });\n",
       "    }\n",
       "\n",
       "    function showError(err) {\n",
       "      outputDiv.innerHTML = `<div class=\"error\" style=\"color:red;\">${err}</div>`;\n",
       "      throw err;\n",
       "    }\n",
       "\n",
       "    function displayChart(vegaEmbed) {\n",
       "      vegaEmbed(outputDiv, spec, embedOpt)\n",
       "        .catch(err => showError(`Javascript Error: ${err.message}<br>This usually means there's a typo in your chart specification. See the javascript console for the full traceback.`));\n",
       "    }\n",
       "\n",
       "    if(typeof define === \"function\" && define.amd) {\n",
       "      requirejs.config({paths});\n",
       "      require([\"vega-embed\"], displayChart, err => showError(`Error loading script: ${err.message}`));\n",
       "    } else {\n",
       "      maybeLoadScript(\"vega\", \"5\")\n",
       "        .then(() => maybeLoadScript(\"vega-lite\", \"4.17.0\"))\n",
       "        .then(() => maybeLoadScript(\"vega-embed\", \"6\"))\n",
       "        .catch(showError)\n",
       "        .then(() => displayChart(vegaEmbed));\n",
       "    }\n",
       "  })({\"config\": {\"view\": {\"continuousWidth\": 400, \"continuousHeight\": 300}}, \"data\": {\"name\": \"data-45472a6b49c2114088f578a20dfd0fdb\"}, \"mark\": \"point\", \"encoding\": {\"color\": {\"condition\": {\"value\": \"red\", \"test\": \"(datum.xval < SelectorName.cutoff)\"}, \"value\": \"blue\"}, \"x\": {\"field\": \"xval\", \"type\": \"quantitative\"}, \"y\": {\"field\": \"yval\", \"type\": \"quantitative\"}}, \"selection\": {\"SelectorName\": {\"type\": \"single\", \"fields\": [\"cutoff\"], \"bind\": {\"input\": \"range\", \"max\": 100, \"min\": 0, \"name\": \"cutoff:\", \"step\": 1}, \"init\": {\"cutoff\": 50}}}, \"$schema\": \"https://vega.github.io/schema/vega-lite/v4.17.0.json\", \"datasets\": {\"data-45472a6b49c2114088f578a20dfd0fdb\": [{\"xval\": 0, \"yval\": 0.4967141530112327}, {\"xval\": 1, \"yval\": 0.358449851840048}, {\"xval\": 2, \"yval\": 1.0061383899407406}, {\"xval\": 3, \"yval\": 2.5291682463487657}, {\"xval\": 4, \"yval\": 2.2950148716254297}, {\"xval\": 5, \"yval\": 2.060877914676249}, {\"xval\": 6, \"yval\": 3.6400907301836405}, {\"xval\": 7, \"yval\": 4.407525459336549}, {\"xval\": 8, \"yval\": 3.938051073401597}, {\"xval\": 9, \"yval\": 4.4806111169875615}, {\"xval\": 10, \"yval\": 4.017193424175099}, {\"xval\": 11, \"yval\": 3.5514636706048424}, {\"xval\": 12, \"yval\": 3.7934259421708765}, {\"xval\": 13, \"yval\": 1.8801456975130786}, {\"xval\": 14, \"yval\": 0.15522786500004582}, {\"xval\": 15, \"yval\": -0.4070596642409269}, {\"xval\": 16, \"yval\": -1.4198907845753506}, {\"xval\": 17, \"yval\": -1.1056434519800766}, {\"xval\": 18, \"yval\": -2.0136675275012874}, {\"xval\": 19, \"yval\": -3.4259712288365787}, {\"xval\": 20, \"yval\": -1.9603224599150246}, {\"xval\": 21, \"yval\": -2.1860987604015603}, {\"xval\": 22, \"yval\": -2.1185705557136365}, {\"xval\": 23, \"yval\": -3.5433187419270933}, {\"xval\": 24, \"yval\": -4.087701466452276}, {\"xval\": 25, \"yval\": -3.9767788767424097}, {\"xval\": 26, \"yval\": -5.127772454164712}, {\"xval\": 27, \"yval\": -4.75207443581904}, {\"xval\": 28, \"yval\": -5.352713125737845}, {\"xval\": 29, \"yval\": -5.644406875531121}, {\"xval\": 30, \"yval\": -6.2461134877605184}, {\"xval\": 31, \"yval\": -4.3938353032515804}, {\"xval\": 32, \"yval\": -4.407332527989515}, {\"xval\": 33, \"yval\": -5.4650434569454145}, {\"xval\": 34, \"yval\": -4.642498544842225}, {\"xval\": 35, \"yval\": -5.863342194813248}, {\"xval\": 36, \"yval\": -5.654478599808492}, {\"xval\": 37, \"yval\": -7.614148723688268}, {\"xval\": 38, \"yval\": -8.942334772586698}, {\"xval\": 39, \"yval\": -8.745473536717574}, {\"xval\": 40, \"yval\": -8.007006956722163}, {\"xval\": 41, \"yval\": -7.835638675532193}, {\"xval\": 42, \"yval\": -7.951286957920433}, {\"xval\": 43, \"yval\": -8.252390653509723}, {\"xval\": 44, \"yval\": -9.73091264387715}, {\"xval\": 45, \"yval\": -10.450756852271859}, {\"xval\": 46, \"yval\": -10.911395623231646}, {\"xval\": 47, \"yval\": -9.854273397012731}, {\"xval\": 48, \"yval\": -9.51065510744427}, {\"xval\": 49, \"yval\": -11.273695262807005}, {\"xval\": 50, \"yval\": -10.94961129341221}, {\"xval\": 51, \"yval\": -11.334693573828526}, {\"xval\": 52, \"yval\": -12.011615574134485}, {\"xval\": 53, \"yval\": -11.399939285293616}, {\"xval\": 54, \"yval\": -10.368939762797666}, {\"xval\": 55, \"yval\": -9.437659643681467}, {\"xval\": 56, \"yval\": -10.276877166904105}, {\"xval\": 57, \"yval\": -10.58608954275532}, {\"xval\": 58, \"yval\": -10.254826111351756}, {\"xval\": 59, \"yval\": -9.279280984229397}, {\"xval\": 60, \"yval\": -9.758455222074687}, {\"xval\": 61, \"yval\": -9.944114198738504}, {\"xval\": 62, \"yval\": -11.050449172744532}, {\"xval\": 63, \"yval\": -12.246655796825202}, {\"xval\": 64, \"yval\": -11.434129974431004}, {\"xval\": 65, \"yval\": -10.07788994586018}, {\"xval\": 66, \"yval\": -10.149900067440514}, {\"xval\": 67, \"yval\": -9.14636716954849}, {\"xval\": 68, \"yval\": -8.784731144500856}, {\"xval\": 69, \"yval\": -9.42985089910598}, {\"xval\": 70, \"yval\": -9.068455293597568}, {\"xval\": 71, \"yval\": -7.5304187271315985}, {\"xval\": 72, \"yval\": -7.56624476624155}, {\"xval\": 73, \"yval\": -6.001601110427544}, {\"xval\": 74, \"yval\": -8.621346214517288}, {\"xval\": 75, \"yval\": -7.799443710142064}, {\"xval\": 76, \"yval\": -7.712396641903894}, {\"xval\": 77, \"yval\": -8.011403992369761}, {\"xval\": 78, \"yval\": -7.919643215834259}, {\"xval\": 79, \"yval\": -9.907212130435152}, {\"xval\": 80, \"yval\": -10.126884018272664}, {\"xval\": 81, \"yval\": -9.769771446760917}, {\"xval\": 82, \"yval\": -8.2918774020194}, {\"xval\": 83, \"yval\": -8.810147620293048}, {\"xval\": 84, \"yval\": -9.618641223186236}, {\"xval\": 85, \"yval\": -10.120398266770772}, {\"xval\": 86, \"yval\": -9.204996149068698}, {\"xval\": 87, \"yval\": -8.876245039409014}, {\"xval\": 88, \"yval\": -9.406005243176052}, {\"xval\": 89, \"yval\": -8.892737810062696}, {\"xval\": 90, \"yval\": -8.795660260714657}, {\"xval\": 91, \"yval\": -7.827015270181768}, {\"xval\": 92, \"yval\": -8.529068364059121}, {\"xval\": 93, \"yval\": -8.85673051065689}, {\"xval\": 94, \"yval\": -9.248838663789048}, {\"xval\": 95, \"yval\": -10.712353611921166}, {\"xval\": 96, \"yval\": -10.41623333485659}, {\"xval\": 97, \"yval\": -10.1551780626767}, {\"xval\": 98, \"yval\": -10.15006460603424}, {\"xval\": 99, \"yval\": -10.384651739409387}]}}, {\"mode\": \"vega-lite\"});\n",
       "</script>"
      ],
      "text/plain": [
       "alt.Chart(...)"
      ]
     },
     "execution_count": 2,
     "metadata": {},
     "output_type": "execute_result"
    }
   ],
   "source": [
    "import altair as alt\n",
    "import pandas as pd\n",
    "import numpy as np\n",
    "\n",
    "rand = np.random.RandomState(42)\n",
    "df = pd.DataFrame({\"xval\": range(100), \"yval\": rand.randn(100).cumsum()})\n",
    "\n",
    "slider = alt.binding_range(min=0, max=100, step=1, name=\"cutoff:\")\n",
    "selector = alt.selection_single(\n",
    "    name=\"SelectorName\", fields=[\"cutoff\"], bind=slider, init={\"cutoff\": 50}\n",
    ")\n",
    "\n",
    "alt.Chart(df).mark_point().encode(\n",
    "    x=\"xval\",\n",
    "    y=\"yval\",\n",
    "    color=alt.condition(\n",
    "        alt.datum.xval < selector.cutoff, alt.value(\"red\"), alt.value(\"blue\")\n",
    "    ),\n",
    ").add_selection(selector)"
   ]
  },
  {
   "cell_type": "code",
   "execution_count": 4,
   "id": "1d51271c-3fb0-48df-a6f9-68f3b4507156",
   "metadata": {
    "tags": []
   },
   "outputs": [
    {
     "data": {
      "text/html": [
       "\n",
       "<div id=\"altair-viz-392044bcccd44cb1a29091e0025e66a4\"></div>\n",
       "<script type=\"text/javascript\">\n",
       "  var VEGA_DEBUG = (typeof VEGA_DEBUG == \"undefined\") ? {} : VEGA_DEBUG;\n",
       "  (function(spec, embedOpt){\n",
       "    let outputDiv = document.currentScript.previousElementSibling;\n",
       "    if (outputDiv.id !== \"altair-viz-392044bcccd44cb1a29091e0025e66a4\") {\n",
       "      outputDiv = document.getElementById(\"altair-viz-392044bcccd44cb1a29091e0025e66a4\");\n",
       "    }\n",
       "    const paths = {\n",
       "      \"vega\": \"https://cdn.jsdelivr.net/npm//vega@5?noext\",\n",
       "      \"vega-lib\": \"https://cdn.jsdelivr.net/npm//vega-lib?noext\",\n",
       "      \"vega-lite\": \"https://cdn.jsdelivr.net/npm//vega-lite@4.17.0?noext\",\n",
       "      \"vega-embed\": \"https://cdn.jsdelivr.net/npm//vega-embed@6?noext\",\n",
       "    };\n",
       "\n",
       "    function maybeLoadScript(lib, version) {\n",
       "      var key = `${lib.replace(\"-\", \"\")}_version`;\n",
       "      return (VEGA_DEBUG[key] == version) ?\n",
       "        Promise.resolve(paths[lib]) :\n",
       "        new Promise(function(resolve, reject) {\n",
       "          var s = document.createElement('script');\n",
       "          document.getElementsByTagName(\"head\")[0].appendChild(s);\n",
       "          s.async = true;\n",
       "          s.onload = () => {\n",
       "            VEGA_DEBUG[key] = version;\n",
       "            return resolve(paths[lib]);\n",
       "          };\n",
       "          s.onerror = () => reject(`Error loading script: ${paths[lib]}`);\n",
       "          s.src = paths[lib];\n",
       "        });\n",
       "    }\n",
       "\n",
       "    function showError(err) {\n",
       "      outputDiv.innerHTML = `<div class=\"error\" style=\"color:red;\">${err}</div>`;\n",
       "      throw err;\n",
       "    }\n",
       "\n",
       "    function displayChart(vegaEmbed) {\n",
       "      vegaEmbed(outputDiv, spec, embedOpt)\n",
       "        .catch(err => showError(`Javascript Error: ${err.message}<br>This usually means there's a typo in your chart specification. See the javascript console for the full traceback.`));\n",
       "    }\n",
       "\n",
       "    if(typeof define === \"function\" && define.amd) {\n",
       "      requirejs.config({paths});\n",
       "      require([\"vega-embed\"], displayChart, err => showError(`Error loading script: ${err.message}`));\n",
       "    } else {\n",
       "      maybeLoadScript(\"vega\", \"5\")\n",
       "        .then(() => maybeLoadScript(\"vega-lite\", \"4.17.0\"))\n",
       "        .then(() => maybeLoadScript(\"vega-embed\", \"6\"))\n",
       "        .catch(showError)\n",
       "        .then(() => displayChart(vegaEmbed));\n",
       "    }\n",
       "  })({\"config\": {\"view\": {\"continuousWidth\": 400, \"continuousHeight\": 300}}, \"data\": {\"name\": \"data-0556fb902801ef3a6841420d81af04de\"}, \"mark\": \"line\", \"encoding\": {\"color\": {\"field\": \"symbol\", \"type\": \"nominal\"}, \"opacity\": {\"condition\": {\"value\": 1, \"test\": {\"and\": [{\"selection\": \"cat\"}, {\"selection\": \"sym\"}]}}, \"value\": 0.1}, \"x\": {\"field\": \"date\", \"type\": \"temporal\"}, \"y\": {\"field\": \"price\", \"type\": \"quantitative\"}}, \"selection\": {\"sym\": {\"type\": \"single\", \"fields\": [\"symbol\"], \"bind\": {\"input\": \"select\", \"options\": [null, \"MSFT\", \"AMZN\", \"IBM\", \"GOOG\", \"AAPL\"], \"labels\": [\"All\", \"MSFT\", \"AMZN\", \"IBM\", \"GOOG\", \"AAPL\"], \"name\": \" \"}}, \"cat\": {\"type\": \"single\", \"fields\": [\"category\"], \"bind\": {\"input\": \"select\", \"options\": [null, \"software\", \"hardware\"], \"labels\": [\"All\", \"software\", \"hardware\"], \"name\": \" \"}}}, \"$schema\": \"https://vega.github.io/schema/vega-lite/v4.17.0.json\", \"datasets\": {\"data-0556fb902801ef3a6841420d81af04de\": [{\"symbol\": \"MSFT\", \"date\": \"2000-01-01T00:00:00\", \"price\": 39.81, \"category\": \"software\"}, {\"symbol\": \"MSFT\", \"date\": \"2000-02-01T00:00:00\", \"price\": 36.35, \"category\": \"software\"}, {\"symbol\": \"MSFT\", \"date\": \"2000-03-01T00:00:00\", \"price\": 43.22, \"category\": \"software\"}, {\"symbol\": \"MSFT\", \"date\": \"2000-04-01T00:00:00\", \"price\": 28.37, \"category\": \"software\"}, {\"symbol\": \"MSFT\", \"date\": \"2000-05-01T00:00:00\", \"price\": 25.45, \"category\": \"software\"}, {\"symbol\": \"MSFT\", \"date\": \"2000-06-01T00:00:00\", \"price\": 32.54, \"category\": \"software\"}, {\"symbol\": \"MSFT\", \"date\": \"2000-07-01T00:00:00\", \"price\": 28.4, \"category\": \"software\"}, {\"symbol\": \"MSFT\", \"date\": \"2000-08-01T00:00:00\", \"price\": 28.4, \"category\": \"software\"}, {\"symbol\": \"MSFT\", \"date\": \"2000-09-01T00:00:00\", \"price\": 24.53, \"category\": \"software\"}, {\"symbol\": \"MSFT\", \"date\": \"2000-10-01T00:00:00\", \"price\": 28.02, \"category\": \"software\"}, {\"symbol\": \"MSFT\", \"date\": \"2000-11-01T00:00:00\", \"price\": 23.34, \"category\": \"software\"}, {\"symbol\": \"MSFT\", \"date\": \"2000-12-01T00:00:00\", \"price\": 17.65, \"category\": \"software\"}, {\"symbol\": \"MSFT\", \"date\": \"2001-01-01T00:00:00\", \"price\": 24.84, \"category\": \"software\"}, {\"symbol\": \"MSFT\", \"date\": \"2001-02-01T00:00:00\", \"price\": 24.0, \"category\": \"software\"}, {\"symbol\": \"MSFT\", \"date\": \"2001-03-01T00:00:00\", \"price\": 22.25, \"category\": \"software\"}, {\"symbol\": \"MSFT\", \"date\": \"2001-04-01T00:00:00\", \"price\": 27.56, \"category\": \"software\"}, {\"symbol\": \"MSFT\", \"date\": \"2001-05-01T00:00:00\", \"price\": 28.14, \"category\": \"software\"}, {\"symbol\": \"MSFT\", \"date\": \"2001-06-01T00:00:00\", \"price\": 29.7, \"category\": \"software\"}, {\"symbol\": \"MSFT\", \"date\": \"2001-07-01T00:00:00\", \"price\": 26.93, \"category\": \"software\"}, {\"symbol\": \"MSFT\", \"date\": \"2001-08-01T00:00:00\", \"price\": 23.21, \"category\": \"software\"}, {\"symbol\": \"MSFT\", \"date\": \"2001-09-01T00:00:00\", \"price\": 20.82, \"category\": \"software\"}, {\"symbol\": \"MSFT\", \"date\": \"2001-10-01T00:00:00\", \"price\": 23.65, \"category\": \"software\"}, {\"symbol\": \"MSFT\", \"date\": \"2001-11-01T00:00:00\", \"price\": 26.12, \"category\": \"software\"}, {\"symbol\": \"MSFT\", \"date\": \"2001-12-01T00:00:00\", \"price\": 26.95, \"category\": \"software\"}, {\"symbol\": \"MSFT\", \"date\": \"2002-01-01T00:00:00\", \"price\": 25.92, \"category\": \"software\"}, {\"symbol\": \"MSFT\", \"date\": \"2002-02-01T00:00:00\", \"price\": 23.73, \"category\": \"software\"}, {\"symbol\": \"MSFT\", \"date\": \"2002-03-01T00:00:00\", \"price\": 24.53, \"category\": \"software\"}, {\"symbol\": \"MSFT\", \"date\": \"2002-04-01T00:00:00\", \"price\": 21.26, \"category\": \"software\"}, {\"symbol\": \"MSFT\", \"date\": \"2002-05-01T00:00:00\", \"price\": 20.71, \"category\": \"software\"}, {\"symbol\": \"MSFT\", \"date\": \"2002-06-01T00:00:00\", \"price\": 22.25, \"category\": \"software\"}, {\"symbol\": \"MSFT\", \"date\": \"2002-07-01T00:00:00\", \"price\": 19.52, \"category\": \"software\"}, {\"symbol\": \"MSFT\", \"date\": \"2002-08-01T00:00:00\", \"price\": 19.97, \"category\": \"software\"}, {\"symbol\": \"MSFT\", \"date\": \"2002-09-01T00:00:00\", \"price\": 17.79, \"category\": \"software\"}, {\"symbol\": \"MSFT\", \"date\": \"2002-10-01T00:00:00\", \"price\": 21.75, \"category\": \"software\"}, {\"symbol\": \"MSFT\", \"date\": \"2002-11-01T00:00:00\", \"price\": 23.46, \"category\": \"software\"}, {\"symbol\": \"MSFT\", \"date\": \"2002-12-01T00:00:00\", \"price\": 21.03, \"category\": \"software\"}, {\"symbol\": \"MSFT\", \"date\": \"2003-01-01T00:00:00\", \"price\": 19.31, \"category\": \"software\"}, {\"symbol\": \"MSFT\", \"date\": \"2003-02-01T00:00:00\", \"price\": 19.34, \"category\": \"software\"}, {\"symbol\": \"MSFT\", \"date\": \"2003-03-01T00:00:00\", \"price\": 19.76, \"category\": \"software\"}, {\"symbol\": \"MSFT\", \"date\": \"2003-04-01T00:00:00\", \"price\": 20.87, \"category\": \"software\"}, {\"symbol\": \"MSFT\", \"date\": \"2003-05-01T00:00:00\", \"price\": 20.09, \"category\": \"software\"}, {\"symbol\": \"MSFT\", \"date\": \"2003-06-01T00:00:00\", \"price\": 20.93, \"category\": \"software\"}, {\"symbol\": \"MSFT\", \"date\": \"2003-07-01T00:00:00\", \"price\": 21.56, \"category\": \"software\"}, {\"symbol\": \"MSFT\", \"date\": \"2003-08-01T00:00:00\", \"price\": 21.65, \"category\": \"software\"}, {\"symbol\": \"MSFT\", \"date\": \"2003-09-01T00:00:00\", \"price\": 22.69, \"category\": \"software\"}, {\"symbol\": \"MSFT\", \"date\": \"2003-10-01T00:00:00\", \"price\": 21.45, \"category\": \"software\"}, {\"symbol\": \"MSFT\", \"date\": \"2003-11-01T00:00:00\", \"price\": 21.1, \"category\": \"software\"}, {\"symbol\": \"MSFT\", \"date\": \"2003-12-01T00:00:00\", \"price\": 22.46, \"category\": \"software\"}, {\"symbol\": \"MSFT\", \"date\": \"2004-01-01T00:00:00\", \"price\": 22.69, \"category\": \"software\"}, {\"symbol\": \"MSFT\", \"date\": \"2004-02-01T00:00:00\", \"price\": 21.77, \"category\": \"software\"}, {\"symbol\": \"MSFT\", \"date\": \"2004-03-01T00:00:00\", \"price\": 20.46, \"category\": \"software\"}, {\"symbol\": \"MSFT\", \"date\": \"2004-04-01T00:00:00\", \"price\": 21.45, \"category\": \"software\"}, {\"symbol\": \"MSFT\", \"date\": \"2004-05-01T00:00:00\", \"price\": 21.53, \"category\": \"software\"}, {\"symbol\": \"MSFT\", \"date\": \"2004-06-01T00:00:00\", \"price\": 23.44, \"category\": \"software\"}, {\"symbol\": \"MSFT\", \"date\": \"2004-07-01T00:00:00\", \"price\": 23.38, \"category\": \"software\"}, {\"symbol\": \"MSFT\", \"date\": \"2004-08-01T00:00:00\", \"price\": 22.47, \"category\": \"software\"}, {\"symbol\": \"MSFT\", \"date\": \"2004-09-01T00:00:00\", \"price\": 22.76, \"category\": \"software\"}, {\"symbol\": \"MSFT\", \"date\": \"2004-10-01T00:00:00\", \"price\": 23.02, \"category\": \"software\"}, {\"symbol\": \"MSFT\", \"date\": \"2004-11-01T00:00:00\", \"price\": 24.6, \"category\": \"software\"}, {\"symbol\": \"MSFT\", \"date\": \"2004-12-01T00:00:00\", \"price\": 24.52, \"category\": \"software\"}, {\"symbol\": \"MSFT\", \"date\": \"2005-01-01T00:00:00\", \"price\": 24.11, \"category\": \"software\"}, {\"symbol\": \"MSFT\", \"date\": \"2005-02-01T00:00:00\", \"price\": 23.15, \"category\": \"software\"}, {\"symbol\": \"MSFT\", \"date\": \"2005-03-01T00:00:00\", \"price\": 22.24, \"category\": \"software\"}, {\"symbol\": \"MSFT\", \"date\": \"2005-04-01T00:00:00\", \"price\": 23.28, \"category\": \"software\"}, {\"symbol\": \"MSFT\", \"date\": \"2005-05-01T00:00:00\", \"price\": 23.82, \"category\": \"software\"}, {\"symbol\": \"MSFT\", \"date\": \"2005-06-01T00:00:00\", \"price\": 22.93, \"category\": \"software\"}, {\"symbol\": \"MSFT\", \"date\": \"2005-07-01T00:00:00\", \"price\": 23.64, \"category\": \"software\"}, {\"symbol\": \"MSFT\", \"date\": \"2005-08-01T00:00:00\", \"price\": 25.35, \"category\": \"software\"}, {\"symbol\": \"MSFT\", \"date\": \"2005-09-01T00:00:00\", \"price\": 23.83, \"category\": \"software\"}, {\"symbol\": \"MSFT\", \"date\": \"2005-10-01T00:00:00\", \"price\": 23.8, \"category\": \"software\"}, {\"symbol\": \"MSFT\", \"date\": \"2005-11-01T00:00:00\", \"price\": 25.71, \"category\": \"software\"}, {\"symbol\": \"MSFT\", \"date\": \"2005-12-01T00:00:00\", \"price\": 24.29, \"category\": \"software\"}, {\"symbol\": \"MSFT\", \"date\": \"2006-01-01T00:00:00\", \"price\": 26.14, \"category\": \"software\"}, {\"symbol\": \"MSFT\", \"date\": \"2006-02-01T00:00:00\", \"price\": 25.04, \"category\": \"software\"}, {\"symbol\": \"MSFT\", \"date\": \"2006-03-01T00:00:00\", \"price\": 25.36, \"category\": \"software\"}, {\"symbol\": \"MSFT\", \"date\": \"2006-04-01T00:00:00\", \"price\": 22.5, \"category\": \"software\"}, {\"symbol\": \"MSFT\", \"date\": \"2006-05-01T00:00:00\", \"price\": 21.19, \"category\": \"software\"}, {\"symbol\": \"MSFT\", \"date\": \"2006-06-01T00:00:00\", \"price\": 21.8, \"category\": \"software\"}, {\"symbol\": \"MSFT\", \"date\": \"2006-07-01T00:00:00\", \"price\": 22.51, \"category\": \"software\"}, {\"symbol\": \"MSFT\", \"date\": \"2006-08-01T00:00:00\", \"price\": 24.13, \"category\": \"software\"}, {\"symbol\": \"MSFT\", \"date\": \"2006-09-01T00:00:00\", \"price\": 25.68, \"category\": \"software\"}, {\"symbol\": \"MSFT\", \"date\": \"2006-10-01T00:00:00\", \"price\": 26.96, \"category\": \"software\"}, {\"symbol\": \"MSFT\", \"date\": \"2006-11-01T00:00:00\", \"price\": 27.66, \"category\": \"software\"}, {\"symbol\": \"MSFT\", \"date\": \"2006-12-01T00:00:00\", \"price\": 28.13, \"category\": \"software\"}, {\"symbol\": \"MSFT\", \"date\": \"2007-01-01T00:00:00\", \"price\": 29.07, \"category\": \"software\"}, {\"symbol\": \"MSFT\", \"date\": \"2007-02-01T00:00:00\", \"price\": 26.63, \"category\": \"software\"}, {\"symbol\": \"MSFT\", \"date\": \"2007-03-01T00:00:00\", \"price\": 26.35, \"category\": \"software\"}, {\"symbol\": \"MSFT\", \"date\": \"2007-04-01T00:00:00\", \"price\": 28.3, \"category\": \"software\"}, {\"symbol\": \"MSFT\", \"date\": \"2007-05-01T00:00:00\", \"price\": 29.11, \"category\": \"software\"}, {\"symbol\": \"MSFT\", \"date\": \"2007-06-01T00:00:00\", \"price\": 27.95, \"category\": \"software\"}, {\"symbol\": \"MSFT\", \"date\": \"2007-07-01T00:00:00\", \"price\": 27.5, \"category\": \"software\"}, {\"symbol\": \"MSFT\", \"date\": \"2007-08-01T00:00:00\", \"price\": 27.34, \"category\": \"software\"}, {\"symbol\": \"MSFT\", \"date\": \"2007-09-01T00:00:00\", \"price\": 28.04, \"category\": \"software\"}, {\"symbol\": \"MSFT\", \"date\": \"2007-10-01T00:00:00\", \"price\": 35.03, \"category\": \"software\"}, {\"symbol\": \"MSFT\", \"date\": \"2007-11-01T00:00:00\", \"price\": 32.09, \"category\": \"software\"}, {\"symbol\": \"MSFT\", \"date\": \"2007-12-01T00:00:00\", \"price\": 34.0, \"category\": \"software\"}, {\"symbol\": \"MSFT\", \"date\": \"2008-01-01T00:00:00\", \"price\": 31.13, \"category\": \"software\"}, {\"symbol\": \"MSFT\", \"date\": \"2008-02-01T00:00:00\", \"price\": 26.07, \"category\": \"software\"}, {\"symbol\": \"MSFT\", \"date\": \"2008-03-01T00:00:00\", \"price\": 27.21, \"category\": \"software\"}, {\"symbol\": \"MSFT\", \"date\": \"2008-04-01T00:00:00\", \"price\": 27.34, \"category\": \"software\"}, {\"symbol\": \"MSFT\", \"date\": \"2008-05-01T00:00:00\", \"price\": 27.25, \"category\": \"software\"}, {\"symbol\": \"MSFT\", \"date\": \"2008-06-01T00:00:00\", \"price\": 26.47, \"category\": \"software\"}, {\"symbol\": \"MSFT\", \"date\": \"2008-07-01T00:00:00\", \"price\": 24.75, \"category\": \"software\"}, {\"symbol\": \"MSFT\", \"date\": \"2008-08-01T00:00:00\", \"price\": 26.36, \"category\": \"software\"}, {\"symbol\": \"MSFT\", \"date\": \"2008-09-01T00:00:00\", \"price\": 25.78, \"category\": \"software\"}, {\"symbol\": \"MSFT\", \"date\": \"2008-10-01T00:00:00\", \"price\": 21.57, \"category\": \"software\"}, {\"symbol\": \"MSFT\", \"date\": \"2008-11-01T00:00:00\", \"price\": 19.66, \"category\": \"software\"}, {\"symbol\": \"MSFT\", \"date\": \"2008-12-01T00:00:00\", \"price\": 18.91, \"category\": \"software\"}, {\"symbol\": \"MSFT\", \"date\": \"2009-01-01T00:00:00\", \"price\": 16.63, \"category\": \"software\"}, {\"symbol\": \"MSFT\", \"date\": \"2009-02-01T00:00:00\", \"price\": 15.81, \"category\": \"software\"}, {\"symbol\": \"MSFT\", \"date\": \"2009-03-01T00:00:00\", \"price\": 17.99, \"category\": \"software\"}, {\"symbol\": \"MSFT\", \"date\": \"2009-04-01T00:00:00\", \"price\": 19.84, \"category\": \"software\"}, {\"symbol\": \"MSFT\", \"date\": \"2009-05-01T00:00:00\", \"price\": 20.59, \"category\": \"software\"}, {\"symbol\": \"MSFT\", \"date\": \"2009-06-01T00:00:00\", \"price\": 23.42, \"category\": \"software\"}, {\"symbol\": \"MSFT\", \"date\": \"2009-07-01T00:00:00\", \"price\": 23.18, \"category\": \"software\"}, {\"symbol\": \"MSFT\", \"date\": \"2009-08-01T00:00:00\", \"price\": 24.43, \"category\": \"software\"}, {\"symbol\": \"MSFT\", \"date\": \"2009-09-01T00:00:00\", \"price\": 25.49, \"category\": \"software\"}, {\"symbol\": \"MSFT\", \"date\": \"2009-10-01T00:00:00\", \"price\": 27.48, \"category\": \"software\"}, {\"symbol\": \"MSFT\", \"date\": \"2009-11-01T00:00:00\", \"price\": 29.27, \"category\": \"software\"}, {\"symbol\": \"MSFT\", \"date\": \"2009-12-01T00:00:00\", \"price\": 30.34, \"category\": \"software\"}, {\"symbol\": \"MSFT\", \"date\": \"2010-01-01T00:00:00\", \"price\": 28.05, \"category\": \"software\"}, {\"symbol\": \"MSFT\", \"date\": \"2010-02-01T00:00:00\", \"price\": 28.67, \"category\": \"software\"}, {\"symbol\": \"MSFT\", \"date\": \"2010-03-01T00:00:00\", \"price\": 28.8, \"category\": \"software\"}, {\"symbol\": \"AMZN\", \"date\": \"2000-01-01T00:00:00\", \"price\": 64.56, \"category\": \"software\"}, {\"symbol\": \"AMZN\", \"date\": \"2000-02-01T00:00:00\", \"price\": 68.87, \"category\": \"software\"}, {\"symbol\": \"AMZN\", \"date\": \"2000-03-01T00:00:00\", \"price\": 67.0, \"category\": \"software\"}, {\"symbol\": \"AMZN\", \"date\": \"2000-04-01T00:00:00\", \"price\": 55.19, \"category\": \"software\"}, {\"symbol\": \"AMZN\", \"date\": \"2000-05-01T00:00:00\", \"price\": 48.31, \"category\": \"software\"}, {\"symbol\": \"AMZN\", \"date\": \"2000-06-01T00:00:00\", \"price\": 36.31, \"category\": \"software\"}, {\"symbol\": \"AMZN\", \"date\": \"2000-07-01T00:00:00\", \"price\": 30.12, \"category\": \"software\"}, {\"symbol\": \"AMZN\", \"date\": \"2000-08-01T00:00:00\", \"price\": 41.5, \"category\": \"software\"}, {\"symbol\": \"AMZN\", \"date\": \"2000-09-01T00:00:00\", \"price\": 38.44, \"category\": \"software\"}, {\"symbol\": \"AMZN\", \"date\": \"2000-10-01T00:00:00\", \"price\": 36.62, \"category\": \"software\"}, {\"symbol\": \"AMZN\", \"date\": \"2000-11-01T00:00:00\", \"price\": 24.69, \"category\": \"software\"}, {\"symbol\": \"AMZN\", \"date\": \"2000-12-01T00:00:00\", \"price\": 15.56, \"category\": \"software\"}, {\"symbol\": \"AMZN\", \"date\": \"2001-01-01T00:00:00\", \"price\": 17.31, \"category\": \"software\"}, {\"symbol\": \"AMZN\", \"date\": \"2001-02-01T00:00:00\", \"price\": 10.19, \"category\": \"software\"}, {\"symbol\": \"AMZN\", \"date\": \"2001-03-01T00:00:00\", \"price\": 10.23, \"category\": \"software\"}, {\"symbol\": \"AMZN\", \"date\": \"2001-04-01T00:00:00\", \"price\": 15.78, \"category\": \"software\"}, {\"symbol\": \"AMZN\", \"date\": \"2001-05-01T00:00:00\", \"price\": 16.69, \"category\": \"software\"}, {\"symbol\": \"AMZN\", \"date\": \"2001-06-01T00:00:00\", \"price\": 14.15, \"category\": \"software\"}, {\"symbol\": \"AMZN\", \"date\": \"2001-07-01T00:00:00\", \"price\": 12.49, \"category\": \"software\"}, {\"symbol\": \"AMZN\", \"date\": \"2001-08-01T00:00:00\", \"price\": 8.94, \"category\": \"software\"}, {\"symbol\": \"AMZN\", \"date\": \"2001-09-01T00:00:00\", \"price\": 5.97, \"category\": \"software\"}, {\"symbol\": \"AMZN\", \"date\": \"2001-10-01T00:00:00\", \"price\": 6.98, \"category\": \"software\"}, {\"symbol\": \"AMZN\", \"date\": \"2001-11-01T00:00:00\", \"price\": 11.32, \"category\": \"software\"}, {\"symbol\": \"AMZN\", \"date\": \"2001-12-01T00:00:00\", \"price\": 10.82, \"category\": \"software\"}, {\"symbol\": \"AMZN\", \"date\": \"2002-01-01T00:00:00\", \"price\": 14.19, \"category\": \"software\"}, {\"symbol\": \"AMZN\", \"date\": \"2002-02-01T00:00:00\", \"price\": 14.1, \"category\": \"software\"}, {\"symbol\": \"AMZN\", \"date\": \"2002-03-01T00:00:00\", \"price\": 14.3, \"category\": \"software\"}, {\"symbol\": \"AMZN\", \"date\": \"2002-04-01T00:00:00\", \"price\": 16.69, \"category\": \"software\"}, {\"symbol\": \"AMZN\", \"date\": \"2002-05-01T00:00:00\", \"price\": 18.23, \"category\": \"software\"}, {\"symbol\": \"AMZN\", \"date\": \"2002-06-01T00:00:00\", \"price\": 16.25, \"category\": \"software\"}, {\"symbol\": \"AMZN\", \"date\": \"2002-07-01T00:00:00\", \"price\": 14.45, \"category\": \"software\"}, {\"symbol\": \"AMZN\", \"date\": \"2002-08-01T00:00:00\", \"price\": 14.94, \"category\": \"software\"}, {\"symbol\": \"AMZN\", \"date\": \"2002-09-01T00:00:00\", \"price\": 15.93, \"category\": \"software\"}, {\"symbol\": \"AMZN\", \"date\": \"2002-10-01T00:00:00\", \"price\": 19.36, \"category\": \"software\"}, {\"symbol\": \"AMZN\", \"date\": \"2002-11-01T00:00:00\", \"price\": 23.35, \"category\": \"software\"}, {\"symbol\": \"AMZN\", \"date\": \"2002-12-01T00:00:00\", \"price\": 18.89, \"category\": \"software\"}, {\"symbol\": \"AMZN\", \"date\": \"2003-01-01T00:00:00\", \"price\": 21.85, \"category\": \"software\"}, {\"symbol\": \"AMZN\", \"date\": \"2003-02-01T00:00:00\", \"price\": 22.01, \"category\": \"software\"}, {\"symbol\": \"AMZN\", \"date\": \"2003-03-01T00:00:00\", \"price\": 26.03, \"category\": \"software\"}, {\"symbol\": \"AMZN\", \"date\": \"2003-04-01T00:00:00\", \"price\": 28.69, \"category\": \"software\"}, {\"symbol\": \"AMZN\", \"date\": \"2003-05-01T00:00:00\", \"price\": 35.89, \"category\": \"software\"}, {\"symbol\": \"AMZN\", \"date\": \"2003-06-01T00:00:00\", \"price\": 36.32, \"category\": \"software\"}, {\"symbol\": \"AMZN\", \"date\": \"2003-07-01T00:00:00\", \"price\": 41.64, \"category\": \"software\"}, {\"symbol\": \"AMZN\", \"date\": \"2003-08-01T00:00:00\", \"price\": 46.32, \"category\": \"software\"}, {\"symbol\": \"AMZN\", \"date\": \"2003-09-01T00:00:00\", \"price\": 48.43, \"category\": \"software\"}, {\"symbol\": \"AMZN\", \"date\": \"2003-10-01T00:00:00\", \"price\": 54.43, \"category\": \"software\"}, {\"symbol\": \"AMZN\", \"date\": \"2003-11-01T00:00:00\", \"price\": 53.97, \"category\": \"software\"}, {\"symbol\": \"AMZN\", \"date\": \"2003-12-01T00:00:00\", \"price\": 52.62, \"category\": \"software\"}, {\"symbol\": \"AMZN\", \"date\": \"2004-01-01T00:00:00\", \"price\": 50.4, \"category\": \"software\"}, {\"symbol\": \"AMZN\", \"date\": \"2004-02-01T00:00:00\", \"price\": 43.01, \"category\": \"software\"}, {\"symbol\": \"AMZN\", \"date\": \"2004-03-01T00:00:00\", \"price\": 43.28, \"category\": \"software\"}, {\"symbol\": \"AMZN\", \"date\": \"2004-04-01T00:00:00\", \"price\": 43.6, \"category\": \"software\"}, {\"symbol\": \"AMZN\", \"date\": \"2004-05-01T00:00:00\", \"price\": 48.5, \"category\": \"software\"}, {\"symbol\": \"AMZN\", \"date\": \"2004-06-01T00:00:00\", \"price\": 54.4, \"category\": \"software\"}, {\"symbol\": \"AMZN\", \"date\": \"2004-07-01T00:00:00\", \"price\": 38.92, \"category\": \"software\"}, {\"symbol\": \"AMZN\", \"date\": \"2004-08-01T00:00:00\", \"price\": 38.14, \"category\": \"software\"}, {\"symbol\": \"AMZN\", \"date\": \"2004-09-01T00:00:00\", \"price\": 40.86, \"category\": \"software\"}, {\"symbol\": \"AMZN\", \"date\": \"2004-10-01T00:00:00\", \"price\": 34.13, \"category\": \"software\"}, {\"symbol\": \"AMZN\", \"date\": \"2004-11-01T00:00:00\", \"price\": 39.68, \"category\": \"software\"}, {\"symbol\": \"AMZN\", \"date\": \"2004-12-01T00:00:00\", \"price\": 44.29, \"category\": \"software\"}, {\"symbol\": \"AMZN\", \"date\": \"2005-01-01T00:00:00\", \"price\": 43.22, \"category\": \"software\"}, {\"symbol\": \"AMZN\", \"date\": \"2005-02-01T00:00:00\", \"price\": 35.18, \"category\": \"software\"}, {\"symbol\": \"AMZN\", \"date\": \"2005-03-01T00:00:00\", \"price\": 34.27, \"category\": \"software\"}, {\"symbol\": \"AMZN\", \"date\": \"2005-04-01T00:00:00\", \"price\": 32.36, \"category\": \"software\"}, {\"symbol\": \"AMZN\", \"date\": \"2005-05-01T00:00:00\", \"price\": 35.51, \"category\": \"software\"}, {\"symbol\": \"AMZN\", \"date\": \"2005-06-01T00:00:00\", \"price\": 33.09, \"category\": \"software\"}, {\"symbol\": \"AMZN\", \"date\": \"2005-07-01T00:00:00\", \"price\": 45.15, \"category\": \"software\"}, {\"symbol\": \"AMZN\", \"date\": \"2005-08-01T00:00:00\", \"price\": 42.7, \"category\": \"software\"}, {\"symbol\": \"AMZN\", \"date\": \"2005-09-01T00:00:00\", \"price\": 45.3, \"category\": \"software\"}, {\"symbol\": \"AMZN\", \"date\": \"2005-10-01T00:00:00\", \"price\": 39.86, \"category\": \"software\"}, {\"symbol\": \"AMZN\", \"date\": \"2005-11-01T00:00:00\", \"price\": 48.46, \"category\": \"software\"}, {\"symbol\": \"AMZN\", \"date\": \"2005-12-01T00:00:00\", \"price\": 47.15, \"category\": \"software\"}, {\"symbol\": \"AMZN\", \"date\": \"2006-01-01T00:00:00\", \"price\": 44.82, \"category\": \"software\"}, {\"symbol\": \"AMZN\", \"date\": \"2006-02-01T00:00:00\", \"price\": 37.44, \"category\": \"software\"}, {\"symbol\": \"AMZN\", \"date\": \"2006-03-01T00:00:00\", \"price\": 36.53, \"category\": \"software\"}, {\"symbol\": \"AMZN\", \"date\": \"2006-04-01T00:00:00\", \"price\": 35.21, \"category\": \"software\"}, {\"symbol\": \"AMZN\", \"date\": \"2006-05-01T00:00:00\", \"price\": 34.61, \"category\": \"software\"}, {\"symbol\": \"AMZN\", \"date\": \"2006-06-01T00:00:00\", \"price\": 38.68, \"category\": \"software\"}, {\"symbol\": \"AMZN\", \"date\": \"2006-07-01T00:00:00\", \"price\": 26.89, \"category\": \"software\"}, {\"symbol\": \"AMZN\", \"date\": \"2006-08-01T00:00:00\", \"price\": 30.83, \"category\": \"software\"}, {\"symbol\": \"AMZN\", \"date\": \"2006-09-01T00:00:00\", \"price\": 32.12, \"category\": \"software\"}, {\"symbol\": \"AMZN\", \"date\": \"2006-10-01T00:00:00\", \"price\": 38.09, \"category\": \"software\"}, {\"symbol\": \"AMZN\", \"date\": \"2006-11-01T00:00:00\", \"price\": 40.34, \"category\": \"software\"}, {\"symbol\": \"AMZN\", \"date\": \"2006-12-01T00:00:00\", \"price\": 39.46, \"category\": \"software\"}, {\"symbol\": \"AMZN\", \"date\": \"2007-01-01T00:00:00\", \"price\": 37.67, \"category\": \"software\"}, {\"symbol\": \"AMZN\", \"date\": \"2007-02-01T00:00:00\", \"price\": 39.14, \"category\": \"software\"}, {\"symbol\": \"AMZN\", \"date\": \"2007-03-01T00:00:00\", \"price\": 39.79, \"category\": \"software\"}, {\"symbol\": \"AMZN\", \"date\": \"2007-04-01T00:00:00\", \"price\": 61.33, \"category\": \"software\"}, {\"symbol\": \"AMZN\", \"date\": \"2007-05-01T00:00:00\", \"price\": 69.14, \"category\": \"software\"}, {\"symbol\": \"AMZN\", \"date\": \"2007-06-01T00:00:00\", \"price\": 68.41, \"category\": \"software\"}, {\"symbol\": \"AMZN\", \"date\": \"2007-07-01T00:00:00\", \"price\": 78.54, \"category\": \"software\"}, {\"symbol\": \"AMZN\", \"date\": \"2007-08-01T00:00:00\", \"price\": 79.91, \"category\": \"software\"}, {\"symbol\": \"AMZN\", \"date\": \"2007-09-01T00:00:00\", \"price\": 93.15, \"category\": \"software\"}, {\"symbol\": \"AMZN\", \"date\": \"2007-10-01T00:00:00\", \"price\": 89.15, \"category\": \"software\"}, {\"symbol\": \"AMZN\", \"date\": \"2007-11-01T00:00:00\", \"price\": 90.56, \"category\": \"software\"}, {\"symbol\": \"AMZN\", \"date\": \"2007-12-01T00:00:00\", \"price\": 92.64, \"category\": \"software\"}, {\"symbol\": \"AMZN\", \"date\": \"2008-01-01T00:00:00\", \"price\": 77.7, \"category\": \"software\"}, {\"symbol\": \"AMZN\", \"date\": \"2008-02-01T00:00:00\", \"price\": 64.47, \"category\": \"software\"}, {\"symbol\": \"AMZN\", \"date\": \"2008-03-01T00:00:00\", \"price\": 71.3, \"category\": \"software\"}, {\"symbol\": \"AMZN\", \"date\": \"2008-04-01T00:00:00\", \"price\": 78.63, \"category\": \"software\"}, {\"symbol\": \"AMZN\", \"date\": \"2008-05-01T00:00:00\", \"price\": 81.62, \"category\": \"software\"}, {\"symbol\": \"AMZN\", \"date\": \"2008-06-01T00:00:00\", \"price\": 73.33, \"category\": \"software\"}, {\"symbol\": \"AMZN\", \"date\": \"2008-07-01T00:00:00\", \"price\": 76.34, \"category\": \"software\"}, {\"symbol\": \"AMZN\", \"date\": \"2008-08-01T00:00:00\", \"price\": 80.81, \"category\": \"software\"}, {\"symbol\": \"AMZN\", \"date\": \"2008-09-01T00:00:00\", \"price\": 72.76, \"category\": \"software\"}, {\"symbol\": \"AMZN\", \"date\": \"2008-10-01T00:00:00\", \"price\": 57.24, \"category\": \"software\"}, {\"symbol\": \"AMZN\", \"date\": \"2008-11-01T00:00:00\", \"price\": 42.7, \"category\": \"software\"}, {\"symbol\": \"AMZN\", \"date\": \"2008-12-01T00:00:00\", \"price\": 51.28, \"category\": \"software\"}, {\"symbol\": \"AMZN\", \"date\": \"2009-01-01T00:00:00\", \"price\": 58.82, \"category\": \"software\"}, {\"symbol\": \"AMZN\", \"date\": \"2009-02-01T00:00:00\", \"price\": 64.79, \"category\": \"software\"}, {\"symbol\": \"AMZN\", \"date\": \"2009-03-01T00:00:00\", \"price\": 73.44, \"category\": \"software\"}, {\"symbol\": \"AMZN\", \"date\": \"2009-04-01T00:00:00\", \"price\": 80.52, \"category\": \"software\"}, {\"symbol\": \"AMZN\", \"date\": \"2009-05-01T00:00:00\", \"price\": 77.99, \"category\": \"software\"}, {\"symbol\": \"AMZN\", \"date\": \"2009-06-01T00:00:00\", \"price\": 83.66, \"category\": \"software\"}, {\"symbol\": \"AMZN\", \"date\": \"2009-07-01T00:00:00\", \"price\": 85.76, \"category\": \"software\"}, {\"symbol\": \"AMZN\", \"date\": \"2009-08-01T00:00:00\", \"price\": 81.19, \"category\": \"software\"}, {\"symbol\": \"AMZN\", \"date\": \"2009-09-01T00:00:00\", \"price\": 93.36, \"category\": \"software\"}, {\"symbol\": \"AMZN\", \"date\": \"2009-10-01T00:00:00\", \"price\": 118.81, \"category\": \"software\"}, {\"symbol\": \"AMZN\", \"date\": \"2009-11-01T00:00:00\", \"price\": 135.91, \"category\": \"software\"}, {\"symbol\": \"AMZN\", \"date\": \"2009-12-01T00:00:00\", \"price\": 134.52, \"category\": \"software\"}, {\"symbol\": \"AMZN\", \"date\": \"2010-01-01T00:00:00\", \"price\": 125.41, \"category\": \"software\"}, {\"symbol\": \"AMZN\", \"date\": \"2010-02-01T00:00:00\", \"price\": 118.4, \"category\": \"software\"}, {\"symbol\": \"AMZN\", \"date\": \"2010-03-01T00:00:00\", \"price\": 128.82, \"category\": \"software\"}, {\"symbol\": \"IBM\", \"date\": \"2000-01-01T00:00:00\", \"price\": 100.52, \"category\": \"hardware\"}, {\"symbol\": \"IBM\", \"date\": \"2000-02-01T00:00:00\", \"price\": 92.11, \"category\": \"hardware\"}, {\"symbol\": \"IBM\", \"date\": \"2000-03-01T00:00:00\", \"price\": 106.11, \"category\": \"hardware\"}, {\"symbol\": \"IBM\", \"date\": \"2000-04-01T00:00:00\", \"price\": 99.95, \"category\": \"hardware\"}, {\"symbol\": \"IBM\", \"date\": \"2000-05-01T00:00:00\", \"price\": 96.31, \"category\": \"hardware\"}, {\"symbol\": \"IBM\", \"date\": \"2000-06-01T00:00:00\", \"price\": 98.33, \"category\": \"hardware\"}, {\"symbol\": \"IBM\", \"date\": \"2000-07-01T00:00:00\", \"price\": 100.74, \"category\": \"hardware\"}, {\"symbol\": \"IBM\", \"date\": \"2000-08-01T00:00:00\", \"price\": 118.62, \"category\": \"hardware\"}, {\"symbol\": \"IBM\", \"date\": \"2000-09-01T00:00:00\", \"price\": 101.19, \"category\": \"hardware\"}, {\"symbol\": \"IBM\", \"date\": \"2000-10-01T00:00:00\", \"price\": 88.5, \"category\": \"hardware\"}, {\"symbol\": \"IBM\", \"date\": \"2000-11-01T00:00:00\", \"price\": 84.12, \"category\": \"hardware\"}, {\"symbol\": \"IBM\", \"date\": \"2000-12-01T00:00:00\", \"price\": 76.47, \"category\": \"hardware\"}, {\"symbol\": \"IBM\", \"date\": \"2001-01-01T00:00:00\", \"price\": 100.76, \"category\": \"hardware\"}, {\"symbol\": \"IBM\", \"date\": \"2001-02-01T00:00:00\", \"price\": 89.98, \"category\": \"hardware\"}, {\"symbol\": \"IBM\", \"date\": \"2001-03-01T00:00:00\", \"price\": 86.63, \"category\": \"hardware\"}, {\"symbol\": \"IBM\", \"date\": \"2001-04-01T00:00:00\", \"price\": 103.7, \"category\": \"hardware\"}, {\"symbol\": \"IBM\", \"date\": \"2001-05-01T00:00:00\", \"price\": 100.82, \"category\": \"hardware\"}, {\"symbol\": \"IBM\", \"date\": \"2001-06-01T00:00:00\", \"price\": 102.35, \"category\": \"hardware\"}, {\"symbol\": \"IBM\", \"date\": \"2001-07-01T00:00:00\", \"price\": 94.87, \"category\": \"hardware\"}, {\"symbol\": \"IBM\", \"date\": \"2001-08-01T00:00:00\", \"price\": 90.25, \"category\": \"hardware\"}, {\"symbol\": \"IBM\", \"date\": \"2001-09-01T00:00:00\", \"price\": 82.82, \"category\": \"hardware\"}, {\"symbol\": \"IBM\", \"date\": \"2001-10-01T00:00:00\", \"price\": 97.58, \"category\": \"hardware\"}, {\"symbol\": \"IBM\", \"date\": \"2001-11-01T00:00:00\", \"price\": 104.5, \"category\": \"hardware\"}, {\"symbol\": \"IBM\", \"date\": \"2001-12-01T00:00:00\", \"price\": 109.36, \"category\": \"hardware\"}, {\"symbol\": \"IBM\", \"date\": \"2002-01-01T00:00:00\", \"price\": 97.54, \"category\": \"hardware\"}, {\"symbol\": \"IBM\", \"date\": \"2002-02-01T00:00:00\", \"price\": 88.82, \"category\": \"hardware\"}, {\"symbol\": \"IBM\", \"date\": \"2002-03-01T00:00:00\", \"price\": 94.15, \"category\": \"hardware\"}, {\"symbol\": \"IBM\", \"date\": \"2002-04-01T00:00:00\", \"price\": 75.82, \"category\": \"hardware\"}, {\"symbol\": \"IBM\", \"date\": \"2002-05-01T00:00:00\", \"price\": 72.97, \"category\": \"hardware\"}, {\"symbol\": \"IBM\", \"date\": \"2002-06-01T00:00:00\", \"price\": 65.31, \"category\": \"hardware\"}, {\"symbol\": \"IBM\", \"date\": \"2002-07-01T00:00:00\", \"price\": 63.86, \"category\": \"hardware\"}, {\"symbol\": \"IBM\", \"date\": \"2002-08-01T00:00:00\", \"price\": 68.52, \"category\": \"hardware\"}, {\"symbol\": \"IBM\", \"date\": \"2002-09-01T00:00:00\", \"price\": 53.01, \"category\": \"hardware\"}, {\"symbol\": \"IBM\", \"date\": \"2002-10-01T00:00:00\", \"price\": 71.76, \"category\": \"hardware\"}, {\"symbol\": \"IBM\", \"date\": \"2002-11-01T00:00:00\", \"price\": 79.16, \"category\": \"hardware\"}, {\"symbol\": \"IBM\", \"date\": \"2002-12-01T00:00:00\", \"price\": 70.58, \"category\": \"hardware\"}, {\"symbol\": \"IBM\", \"date\": \"2003-01-01T00:00:00\", \"price\": 71.22, \"category\": \"hardware\"}, {\"symbol\": \"IBM\", \"date\": \"2003-02-01T00:00:00\", \"price\": 71.13, \"category\": \"hardware\"}, {\"symbol\": \"IBM\", \"date\": \"2003-03-01T00:00:00\", \"price\": 71.57, \"category\": \"hardware\"}, {\"symbol\": \"IBM\", \"date\": \"2003-04-01T00:00:00\", \"price\": 77.47, \"category\": \"hardware\"}, {\"symbol\": \"IBM\", \"date\": \"2003-05-01T00:00:00\", \"price\": 80.48, \"category\": \"hardware\"}, {\"symbol\": \"IBM\", \"date\": \"2003-06-01T00:00:00\", \"price\": 75.42, \"category\": \"hardware\"}, {\"symbol\": \"IBM\", \"date\": \"2003-07-01T00:00:00\", \"price\": 74.28, \"category\": \"hardware\"}, {\"symbol\": \"IBM\", \"date\": \"2003-08-01T00:00:00\", \"price\": 75.12, \"category\": \"hardware\"}, {\"symbol\": \"IBM\", \"date\": \"2003-09-01T00:00:00\", \"price\": 80.91, \"category\": \"hardware\"}, {\"symbol\": \"IBM\", \"date\": \"2003-10-01T00:00:00\", \"price\": 81.96, \"category\": \"hardware\"}, {\"symbol\": \"IBM\", \"date\": \"2003-11-01T00:00:00\", \"price\": 83.08, \"category\": \"hardware\"}, {\"symbol\": \"IBM\", \"date\": \"2003-12-01T00:00:00\", \"price\": 85.05, \"category\": \"hardware\"}, {\"symbol\": \"IBM\", \"date\": \"2004-01-01T00:00:00\", \"price\": 91.06, \"category\": \"hardware\"}, {\"symbol\": \"IBM\", \"date\": \"2004-02-01T00:00:00\", \"price\": 88.7, \"category\": \"hardware\"}, {\"symbol\": \"IBM\", \"date\": \"2004-03-01T00:00:00\", \"price\": 84.41, \"category\": \"hardware\"}, {\"symbol\": \"IBM\", \"date\": \"2004-04-01T00:00:00\", \"price\": 81.04, \"category\": \"hardware\"}, {\"symbol\": \"IBM\", \"date\": \"2004-05-01T00:00:00\", \"price\": 81.59, \"category\": \"hardware\"}, {\"symbol\": \"IBM\", \"date\": \"2004-06-01T00:00:00\", \"price\": 81.19, \"category\": \"hardware\"}, {\"symbol\": \"IBM\", \"date\": \"2004-07-01T00:00:00\", \"price\": 80.19, \"category\": \"hardware\"}, {\"symbol\": \"IBM\", \"date\": \"2004-08-01T00:00:00\", \"price\": 78.17, \"category\": \"hardware\"}, {\"symbol\": \"IBM\", \"date\": \"2004-09-01T00:00:00\", \"price\": 79.13, \"category\": \"hardware\"}, {\"symbol\": \"IBM\", \"date\": \"2004-10-01T00:00:00\", \"price\": 82.84, \"category\": \"hardware\"}, {\"symbol\": \"IBM\", \"date\": \"2004-11-01T00:00:00\", \"price\": 87.15, \"category\": \"hardware\"}, {\"symbol\": \"IBM\", \"date\": \"2004-12-01T00:00:00\", \"price\": 91.16, \"category\": \"hardware\"}, {\"symbol\": \"IBM\", \"date\": \"2005-01-01T00:00:00\", \"price\": 86.39, \"category\": \"hardware\"}, {\"symbol\": \"IBM\", \"date\": \"2005-02-01T00:00:00\", \"price\": 85.78, \"category\": \"hardware\"}, {\"symbol\": \"IBM\", \"date\": \"2005-03-01T00:00:00\", \"price\": 84.66, \"category\": \"hardware\"}, {\"symbol\": \"IBM\", \"date\": \"2005-04-01T00:00:00\", \"price\": 70.77, \"category\": \"hardware\"}, {\"symbol\": \"IBM\", \"date\": \"2005-05-01T00:00:00\", \"price\": 70.18, \"category\": \"hardware\"}, {\"symbol\": \"IBM\", \"date\": \"2005-06-01T00:00:00\", \"price\": 68.93, \"category\": \"hardware\"}, {\"symbol\": \"IBM\", \"date\": \"2005-07-01T00:00:00\", \"price\": 77.53, \"category\": \"hardware\"}, {\"symbol\": \"IBM\", \"date\": \"2005-08-01T00:00:00\", \"price\": 75.07, \"category\": \"hardware\"}, {\"symbol\": \"IBM\", \"date\": \"2005-09-01T00:00:00\", \"price\": 74.7, \"category\": \"hardware\"}, {\"symbol\": \"IBM\", \"date\": \"2005-10-01T00:00:00\", \"price\": 76.25, \"category\": \"hardware\"}, {\"symbol\": \"IBM\", \"date\": \"2005-11-01T00:00:00\", \"price\": 82.98, \"category\": \"hardware\"}, {\"symbol\": \"IBM\", \"date\": \"2005-12-01T00:00:00\", \"price\": 76.73, \"category\": \"hardware\"}, {\"symbol\": \"IBM\", \"date\": \"2006-01-01T00:00:00\", \"price\": 75.89, \"category\": \"hardware\"}, {\"symbol\": \"IBM\", \"date\": \"2006-02-01T00:00:00\", \"price\": 75.09, \"category\": \"hardware\"}, {\"symbol\": \"IBM\", \"date\": \"2006-03-01T00:00:00\", \"price\": 77.17, \"category\": \"hardware\"}, {\"symbol\": \"IBM\", \"date\": \"2006-04-01T00:00:00\", \"price\": 77.05, \"category\": \"hardware\"}, {\"symbol\": \"IBM\", \"date\": \"2006-05-01T00:00:00\", \"price\": 75.04, \"category\": \"hardware\"}, {\"symbol\": \"IBM\", \"date\": \"2006-06-01T00:00:00\", \"price\": 72.15, \"category\": \"hardware\"}, {\"symbol\": \"IBM\", \"date\": \"2006-07-01T00:00:00\", \"price\": 72.7, \"category\": \"hardware\"}, {\"symbol\": \"IBM\", \"date\": \"2006-08-01T00:00:00\", \"price\": 76.35, \"category\": \"hardware\"}, {\"symbol\": \"IBM\", \"date\": \"2006-09-01T00:00:00\", \"price\": 77.26, \"category\": \"hardware\"}, {\"symbol\": \"IBM\", \"date\": \"2006-10-01T00:00:00\", \"price\": 87.06, \"category\": \"hardware\"}, {\"symbol\": \"IBM\", \"date\": \"2006-11-01T00:00:00\", \"price\": 86.95, \"category\": \"hardware\"}, {\"symbol\": \"IBM\", \"date\": \"2006-12-01T00:00:00\", \"price\": 91.9, \"category\": \"hardware\"}, {\"symbol\": \"IBM\", \"date\": \"2007-01-01T00:00:00\", \"price\": 93.79, \"category\": \"hardware\"}, {\"symbol\": \"IBM\", \"date\": \"2007-02-01T00:00:00\", \"price\": 88.18, \"category\": \"hardware\"}, {\"symbol\": \"IBM\", \"date\": \"2007-03-01T00:00:00\", \"price\": 89.44, \"category\": \"hardware\"}, {\"symbol\": \"IBM\", \"date\": \"2007-04-01T00:00:00\", \"price\": 96.98, \"category\": \"hardware\"}, {\"symbol\": \"IBM\", \"date\": \"2007-05-01T00:00:00\", \"price\": 101.54, \"category\": \"hardware\"}, {\"symbol\": \"IBM\", \"date\": \"2007-06-01T00:00:00\", \"price\": 100.25, \"category\": \"hardware\"}, {\"symbol\": \"IBM\", \"date\": \"2007-07-01T00:00:00\", \"price\": 105.4, \"category\": \"hardware\"}, {\"symbol\": \"IBM\", \"date\": \"2007-08-01T00:00:00\", \"price\": 111.54, \"category\": \"hardware\"}, {\"symbol\": \"IBM\", \"date\": \"2007-09-01T00:00:00\", \"price\": 112.6, \"category\": \"hardware\"}, {\"symbol\": \"IBM\", \"date\": \"2007-10-01T00:00:00\", \"price\": 111.0, \"category\": \"hardware\"}, {\"symbol\": \"IBM\", \"date\": \"2007-11-01T00:00:00\", \"price\": 100.9, \"category\": \"hardware\"}, {\"symbol\": \"IBM\", \"date\": \"2007-12-01T00:00:00\", \"price\": 103.7, \"category\": \"hardware\"}, {\"symbol\": \"IBM\", \"date\": \"2008-01-01T00:00:00\", \"price\": 102.75, \"category\": \"hardware\"}, {\"symbol\": \"IBM\", \"date\": \"2008-02-01T00:00:00\", \"price\": 109.64, \"category\": \"hardware\"}, {\"symbol\": \"IBM\", \"date\": \"2008-03-01T00:00:00\", \"price\": 110.87, \"category\": \"hardware\"}, {\"symbol\": \"IBM\", \"date\": \"2008-04-01T00:00:00\", \"price\": 116.23, \"category\": \"hardware\"}, {\"symbol\": \"IBM\", \"date\": \"2008-05-01T00:00:00\", \"price\": 125.14, \"category\": \"hardware\"}, {\"symbol\": \"IBM\", \"date\": \"2008-06-01T00:00:00\", \"price\": 114.6, \"category\": \"hardware\"}, {\"symbol\": \"IBM\", \"date\": \"2008-07-01T00:00:00\", \"price\": 123.74, \"category\": \"hardware\"}, {\"symbol\": \"IBM\", \"date\": \"2008-08-01T00:00:00\", \"price\": 118.16, \"category\": \"hardware\"}, {\"symbol\": \"IBM\", \"date\": \"2008-09-01T00:00:00\", \"price\": 113.53, \"category\": \"hardware\"}, {\"symbol\": \"IBM\", \"date\": \"2008-10-01T00:00:00\", \"price\": 90.24, \"category\": \"hardware\"}, {\"symbol\": \"IBM\", \"date\": \"2008-11-01T00:00:00\", \"price\": 79.65, \"category\": \"hardware\"}, {\"symbol\": \"IBM\", \"date\": \"2008-12-01T00:00:00\", \"price\": 82.15, \"category\": \"hardware\"}, {\"symbol\": \"IBM\", \"date\": \"2009-01-01T00:00:00\", \"price\": 89.46, \"category\": \"hardware\"}, {\"symbol\": \"IBM\", \"date\": \"2009-02-01T00:00:00\", \"price\": 90.32, \"category\": \"hardware\"}, {\"symbol\": \"IBM\", \"date\": \"2009-03-01T00:00:00\", \"price\": 95.09, \"category\": \"hardware\"}, {\"symbol\": \"IBM\", \"date\": \"2009-04-01T00:00:00\", \"price\": 101.29, \"category\": \"hardware\"}, {\"symbol\": \"IBM\", \"date\": \"2009-05-01T00:00:00\", \"price\": 104.85, \"category\": \"hardware\"}, {\"symbol\": \"IBM\", \"date\": \"2009-06-01T00:00:00\", \"price\": 103.01, \"category\": \"hardware\"}, {\"symbol\": \"IBM\", \"date\": \"2009-07-01T00:00:00\", \"price\": 116.34, \"category\": \"hardware\"}, {\"symbol\": \"IBM\", \"date\": \"2009-08-01T00:00:00\", \"price\": 117.0, \"category\": \"hardware\"}, {\"symbol\": \"IBM\", \"date\": \"2009-09-01T00:00:00\", \"price\": 118.55, \"category\": \"hardware\"}, {\"symbol\": \"IBM\", \"date\": \"2009-10-01T00:00:00\", \"price\": 119.54, \"category\": \"hardware\"}, {\"symbol\": \"IBM\", \"date\": \"2009-11-01T00:00:00\", \"price\": 125.79, \"category\": \"hardware\"}, {\"symbol\": \"IBM\", \"date\": \"2009-12-01T00:00:00\", \"price\": 130.32, \"category\": \"hardware\"}, {\"symbol\": \"IBM\", \"date\": \"2010-01-01T00:00:00\", \"price\": 121.85, \"category\": \"hardware\"}, {\"symbol\": \"IBM\", \"date\": \"2010-02-01T00:00:00\", \"price\": 127.16, \"category\": \"hardware\"}, {\"symbol\": \"IBM\", \"date\": \"2010-03-01T00:00:00\", \"price\": 125.55, \"category\": \"hardware\"}, {\"symbol\": \"GOOG\", \"date\": \"2004-08-01T00:00:00\", \"price\": 102.37, \"category\": \"software\"}, {\"symbol\": \"GOOG\", \"date\": \"2004-09-01T00:00:00\", \"price\": 129.6, \"category\": \"software\"}, {\"symbol\": \"GOOG\", \"date\": \"2004-10-01T00:00:00\", \"price\": 190.64, \"category\": \"software\"}, {\"symbol\": \"GOOG\", \"date\": \"2004-11-01T00:00:00\", \"price\": 181.98, \"category\": \"software\"}, {\"symbol\": \"GOOG\", \"date\": \"2004-12-01T00:00:00\", \"price\": 192.79, \"category\": \"software\"}, {\"symbol\": \"GOOG\", \"date\": \"2005-01-01T00:00:00\", \"price\": 195.62, \"category\": \"software\"}, {\"symbol\": \"GOOG\", \"date\": \"2005-02-01T00:00:00\", \"price\": 187.99, \"category\": \"software\"}, {\"symbol\": \"GOOG\", \"date\": \"2005-03-01T00:00:00\", \"price\": 180.51, \"category\": \"software\"}, {\"symbol\": \"GOOG\", \"date\": \"2005-04-01T00:00:00\", \"price\": 220.0, \"category\": \"software\"}, {\"symbol\": \"GOOG\", \"date\": \"2005-05-01T00:00:00\", \"price\": 277.27, \"category\": \"software\"}, {\"symbol\": \"GOOG\", \"date\": \"2005-06-01T00:00:00\", \"price\": 294.15, \"category\": \"software\"}, {\"symbol\": \"GOOG\", \"date\": \"2005-07-01T00:00:00\", \"price\": 287.76, \"category\": \"software\"}, {\"symbol\": \"GOOG\", \"date\": \"2005-08-01T00:00:00\", \"price\": 286.0, \"category\": \"software\"}, {\"symbol\": \"GOOG\", \"date\": \"2005-09-01T00:00:00\", \"price\": 316.46, \"category\": \"software\"}, {\"symbol\": \"GOOG\", \"date\": \"2005-10-01T00:00:00\", \"price\": 372.14, \"category\": \"software\"}, {\"symbol\": \"GOOG\", \"date\": \"2005-11-01T00:00:00\", \"price\": 404.91, \"category\": \"software\"}, {\"symbol\": \"GOOG\", \"date\": \"2005-12-01T00:00:00\", \"price\": 414.86, \"category\": \"software\"}, {\"symbol\": \"GOOG\", \"date\": \"2006-01-01T00:00:00\", \"price\": 432.66, \"category\": \"software\"}, {\"symbol\": \"GOOG\", \"date\": \"2006-02-01T00:00:00\", \"price\": 362.62, \"category\": \"software\"}, {\"symbol\": \"GOOG\", \"date\": \"2006-03-01T00:00:00\", \"price\": 390.0, \"category\": \"software\"}, {\"symbol\": \"GOOG\", \"date\": \"2006-04-01T00:00:00\", \"price\": 417.94, \"category\": \"software\"}, {\"symbol\": \"GOOG\", \"date\": \"2006-05-01T00:00:00\", \"price\": 371.82, \"category\": \"software\"}, {\"symbol\": \"GOOG\", \"date\": \"2006-06-01T00:00:00\", \"price\": 419.33, \"category\": \"software\"}, {\"symbol\": \"GOOG\", \"date\": \"2006-07-01T00:00:00\", \"price\": 386.6, \"category\": \"software\"}, {\"symbol\": \"GOOG\", \"date\": \"2006-08-01T00:00:00\", \"price\": 378.53, \"category\": \"software\"}, {\"symbol\": \"GOOG\", \"date\": \"2006-09-01T00:00:00\", \"price\": 401.9, \"category\": \"software\"}, {\"symbol\": \"GOOG\", \"date\": \"2006-10-01T00:00:00\", \"price\": 476.39, \"category\": \"software\"}, {\"symbol\": \"GOOG\", \"date\": \"2006-11-01T00:00:00\", \"price\": 484.81, \"category\": \"software\"}, {\"symbol\": \"GOOG\", \"date\": \"2006-12-01T00:00:00\", \"price\": 460.48, \"category\": \"software\"}, {\"symbol\": \"GOOG\", \"date\": \"2007-01-01T00:00:00\", \"price\": 501.5, \"category\": \"software\"}, {\"symbol\": \"GOOG\", \"date\": \"2007-02-01T00:00:00\", \"price\": 449.45, \"category\": \"software\"}, {\"symbol\": \"GOOG\", \"date\": \"2007-03-01T00:00:00\", \"price\": 458.16, \"category\": \"software\"}, {\"symbol\": \"GOOG\", \"date\": \"2007-04-01T00:00:00\", \"price\": 471.38, \"category\": \"software\"}, {\"symbol\": \"GOOG\", \"date\": \"2007-05-01T00:00:00\", \"price\": 497.91, \"category\": \"software\"}, {\"symbol\": \"GOOG\", \"date\": \"2007-06-01T00:00:00\", \"price\": 522.7, \"category\": \"software\"}, {\"symbol\": \"GOOG\", \"date\": \"2007-07-01T00:00:00\", \"price\": 510.0, \"category\": \"software\"}, {\"symbol\": \"GOOG\", \"date\": \"2007-08-01T00:00:00\", \"price\": 515.25, \"category\": \"software\"}, {\"symbol\": \"GOOG\", \"date\": \"2007-09-01T00:00:00\", \"price\": 567.27, \"category\": \"software\"}, {\"symbol\": \"GOOG\", \"date\": \"2007-10-01T00:00:00\", \"price\": 707.0, \"category\": \"software\"}, {\"symbol\": \"GOOG\", \"date\": \"2007-11-01T00:00:00\", \"price\": 693.0, \"category\": \"software\"}, {\"symbol\": \"GOOG\", \"date\": \"2007-12-01T00:00:00\", \"price\": 691.48, \"category\": \"software\"}, {\"symbol\": \"GOOG\", \"date\": \"2008-01-01T00:00:00\", \"price\": 564.3, \"category\": \"software\"}, {\"symbol\": \"GOOG\", \"date\": \"2008-02-01T00:00:00\", \"price\": 471.18, \"category\": \"software\"}, {\"symbol\": \"GOOG\", \"date\": \"2008-03-01T00:00:00\", \"price\": 440.47, \"category\": \"software\"}, {\"symbol\": \"GOOG\", \"date\": \"2008-04-01T00:00:00\", \"price\": 574.29, \"category\": \"software\"}, {\"symbol\": \"GOOG\", \"date\": \"2008-05-01T00:00:00\", \"price\": 585.8, \"category\": \"software\"}, {\"symbol\": \"GOOG\", \"date\": \"2008-06-01T00:00:00\", \"price\": 526.42, \"category\": \"software\"}, {\"symbol\": \"GOOG\", \"date\": \"2008-07-01T00:00:00\", \"price\": 473.75, \"category\": \"software\"}, {\"symbol\": \"GOOG\", \"date\": \"2008-08-01T00:00:00\", \"price\": 463.29, \"category\": \"software\"}, {\"symbol\": \"GOOG\", \"date\": \"2008-09-01T00:00:00\", \"price\": 400.52, \"category\": \"software\"}, {\"symbol\": \"GOOG\", \"date\": \"2008-10-01T00:00:00\", \"price\": 359.36, \"category\": \"software\"}, {\"symbol\": \"GOOG\", \"date\": \"2008-11-01T00:00:00\", \"price\": 292.96, \"category\": \"software\"}, {\"symbol\": \"GOOG\", \"date\": \"2008-12-01T00:00:00\", \"price\": 307.65, \"category\": \"software\"}, {\"symbol\": \"GOOG\", \"date\": \"2009-01-01T00:00:00\", \"price\": 338.53, \"category\": \"software\"}, {\"symbol\": \"GOOG\", \"date\": \"2009-02-01T00:00:00\", \"price\": 337.99, \"category\": \"software\"}, {\"symbol\": \"GOOG\", \"date\": \"2009-03-01T00:00:00\", \"price\": 348.06, \"category\": \"software\"}, {\"symbol\": \"GOOG\", \"date\": \"2009-04-01T00:00:00\", \"price\": 395.97, \"category\": \"software\"}, {\"symbol\": \"GOOG\", \"date\": \"2009-05-01T00:00:00\", \"price\": 417.23, \"category\": \"software\"}, {\"symbol\": \"GOOG\", \"date\": \"2009-06-01T00:00:00\", \"price\": 421.59, \"category\": \"software\"}, {\"symbol\": \"GOOG\", \"date\": \"2009-07-01T00:00:00\", \"price\": 443.05, \"category\": \"software\"}, {\"symbol\": \"GOOG\", \"date\": \"2009-08-01T00:00:00\", \"price\": 461.67, \"category\": \"software\"}, {\"symbol\": \"GOOG\", \"date\": \"2009-09-01T00:00:00\", \"price\": 495.85, \"category\": \"software\"}, {\"symbol\": \"GOOG\", \"date\": \"2009-10-01T00:00:00\", \"price\": 536.12, \"category\": \"software\"}, {\"symbol\": \"GOOG\", \"date\": \"2009-11-01T00:00:00\", \"price\": 583.0, \"category\": \"software\"}, {\"symbol\": \"GOOG\", \"date\": \"2009-12-01T00:00:00\", \"price\": 619.98, \"category\": \"software\"}, {\"symbol\": \"GOOG\", \"date\": \"2010-01-01T00:00:00\", \"price\": 529.94, \"category\": \"software\"}, {\"symbol\": \"GOOG\", \"date\": \"2010-02-01T00:00:00\", \"price\": 526.8, \"category\": \"software\"}, {\"symbol\": \"GOOG\", \"date\": \"2010-03-01T00:00:00\", \"price\": 560.19, \"category\": \"software\"}, {\"symbol\": \"AAPL\", \"date\": \"2000-01-01T00:00:00\", \"price\": 25.94, \"category\": \"hardware\"}, {\"symbol\": \"AAPL\", \"date\": \"2000-02-01T00:00:00\", \"price\": 28.66, \"category\": \"hardware\"}, {\"symbol\": \"AAPL\", \"date\": \"2000-03-01T00:00:00\", \"price\": 33.95, \"category\": \"hardware\"}, {\"symbol\": \"AAPL\", \"date\": \"2000-04-01T00:00:00\", \"price\": 31.01, \"category\": \"hardware\"}, {\"symbol\": \"AAPL\", \"date\": \"2000-05-01T00:00:00\", \"price\": 21.0, \"category\": \"hardware\"}, {\"symbol\": \"AAPL\", \"date\": \"2000-06-01T00:00:00\", \"price\": 26.19, \"category\": \"hardware\"}, {\"symbol\": \"AAPL\", \"date\": \"2000-07-01T00:00:00\", \"price\": 25.41, \"category\": \"hardware\"}, {\"symbol\": \"AAPL\", \"date\": \"2000-08-01T00:00:00\", \"price\": 30.47, \"category\": \"hardware\"}, {\"symbol\": \"AAPL\", \"date\": \"2000-09-01T00:00:00\", \"price\": 12.88, \"category\": \"hardware\"}, {\"symbol\": \"AAPL\", \"date\": \"2000-10-01T00:00:00\", \"price\": 9.78, \"category\": \"hardware\"}, {\"symbol\": \"AAPL\", \"date\": \"2000-11-01T00:00:00\", \"price\": 8.25, \"category\": \"hardware\"}, {\"symbol\": \"AAPL\", \"date\": \"2000-12-01T00:00:00\", \"price\": 7.44, \"category\": \"hardware\"}, {\"symbol\": \"AAPL\", \"date\": \"2001-01-01T00:00:00\", \"price\": 10.81, \"category\": \"hardware\"}, {\"symbol\": \"AAPL\", \"date\": \"2001-02-01T00:00:00\", \"price\": 9.12, \"category\": \"hardware\"}, {\"symbol\": \"AAPL\", \"date\": \"2001-03-01T00:00:00\", \"price\": 11.03, \"category\": \"hardware\"}, {\"symbol\": \"AAPL\", \"date\": \"2001-04-01T00:00:00\", \"price\": 12.74, \"category\": \"hardware\"}, {\"symbol\": \"AAPL\", \"date\": \"2001-05-01T00:00:00\", \"price\": 9.98, \"category\": \"hardware\"}, {\"symbol\": \"AAPL\", \"date\": \"2001-06-01T00:00:00\", \"price\": 11.62, \"category\": \"hardware\"}, {\"symbol\": \"AAPL\", \"date\": \"2001-07-01T00:00:00\", \"price\": 9.4, \"category\": \"hardware\"}, {\"symbol\": \"AAPL\", \"date\": \"2001-08-01T00:00:00\", \"price\": 9.27, \"category\": \"hardware\"}, {\"symbol\": \"AAPL\", \"date\": \"2001-09-01T00:00:00\", \"price\": 7.76, \"category\": \"hardware\"}, {\"symbol\": \"AAPL\", \"date\": \"2001-10-01T00:00:00\", \"price\": 8.78, \"category\": \"hardware\"}, {\"symbol\": \"AAPL\", \"date\": \"2001-11-01T00:00:00\", \"price\": 10.65, \"category\": \"hardware\"}, {\"symbol\": \"AAPL\", \"date\": \"2001-12-01T00:00:00\", \"price\": 10.95, \"category\": \"hardware\"}, {\"symbol\": \"AAPL\", \"date\": \"2002-01-01T00:00:00\", \"price\": 12.36, \"category\": \"hardware\"}, {\"symbol\": \"AAPL\", \"date\": \"2002-02-01T00:00:00\", \"price\": 10.85, \"category\": \"hardware\"}, {\"symbol\": \"AAPL\", \"date\": \"2002-03-01T00:00:00\", \"price\": 11.84, \"category\": \"hardware\"}, {\"symbol\": \"AAPL\", \"date\": \"2002-04-01T00:00:00\", \"price\": 12.14, \"category\": \"hardware\"}, {\"symbol\": \"AAPL\", \"date\": \"2002-05-01T00:00:00\", \"price\": 11.65, \"category\": \"hardware\"}, {\"symbol\": \"AAPL\", \"date\": \"2002-06-01T00:00:00\", \"price\": 8.86, \"category\": \"hardware\"}, {\"symbol\": \"AAPL\", \"date\": \"2002-07-01T00:00:00\", \"price\": 7.63, \"category\": \"hardware\"}, {\"symbol\": \"AAPL\", \"date\": \"2002-08-01T00:00:00\", \"price\": 7.38, \"category\": \"hardware\"}, {\"symbol\": \"AAPL\", \"date\": \"2002-09-01T00:00:00\", \"price\": 7.25, \"category\": \"hardware\"}, {\"symbol\": \"AAPL\", \"date\": \"2002-10-01T00:00:00\", \"price\": 8.03, \"category\": \"hardware\"}, {\"symbol\": \"AAPL\", \"date\": \"2002-11-01T00:00:00\", \"price\": 7.75, \"category\": \"hardware\"}, {\"symbol\": \"AAPL\", \"date\": \"2002-12-01T00:00:00\", \"price\": 7.16, \"category\": \"hardware\"}, {\"symbol\": \"AAPL\", \"date\": \"2003-01-01T00:00:00\", \"price\": 7.18, \"category\": \"hardware\"}, {\"symbol\": \"AAPL\", \"date\": \"2003-02-01T00:00:00\", \"price\": 7.51, \"category\": \"hardware\"}, {\"symbol\": \"AAPL\", \"date\": \"2003-03-01T00:00:00\", \"price\": 7.07, \"category\": \"hardware\"}, {\"symbol\": \"AAPL\", \"date\": \"2003-04-01T00:00:00\", \"price\": 7.11, \"category\": \"hardware\"}, {\"symbol\": \"AAPL\", \"date\": \"2003-05-01T00:00:00\", \"price\": 8.98, \"category\": \"hardware\"}, {\"symbol\": \"AAPL\", \"date\": \"2003-06-01T00:00:00\", \"price\": 9.53, \"category\": \"hardware\"}, {\"symbol\": \"AAPL\", \"date\": \"2003-07-01T00:00:00\", \"price\": 10.54, \"category\": \"hardware\"}, {\"symbol\": \"AAPL\", \"date\": \"2003-08-01T00:00:00\", \"price\": 11.31, \"category\": \"hardware\"}, {\"symbol\": \"AAPL\", \"date\": \"2003-09-01T00:00:00\", \"price\": 10.36, \"category\": \"hardware\"}, {\"symbol\": \"AAPL\", \"date\": \"2003-10-01T00:00:00\", \"price\": 11.44, \"category\": \"hardware\"}, {\"symbol\": \"AAPL\", \"date\": \"2003-11-01T00:00:00\", \"price\": 10.45, \"category\": \"hardware\"}, {\"symbol\": \"AAPL\", \"date\": \"2003-12-01T00:00:00\", \"price\": 10.69, \"category\": \"hardware\"}, {\"symbol\": \"AAPL\", \"date\": \"2004-01-01T00:00:00\", \"price\": 11.28, \"category\": \"hardware\"}, {\"symbol\": \"AAPL\", \"date\": \"2004-02-01T00:00:00\", \"price\": 11.96, \"category\": \"hardware\"}, {\"symbol\": \"AAPL\", \"date\": \"2004-03-01T00:00:00\", \"price\": 13.52, \"category\": \"hardware\"}, {\"symbol\": \"AAPL\", \"date\": \"2004-04-01T00:00:00\", \"price\": 12.89, \"category\": \"hardware\"}, {\"symbol\": \"AAPL\", \"date\": \"2004-05-01T00:00:00\", \"price\": 14.03, \"category\": \"hardware\"}, {\"symbol\": \"AAPL\", \"date\": \"2004-06-01T00:00:00\", \"price\": 16.27, \"category\": \"hardware\"}, {\"symbol\": \"AAPL\", \"date\": \"2004-07-01T00:00:00\", \"price\": 16.17, \"category\": \"hardware\"}, {\"symbol\": \"AAPL\", \"date\": \"2004-08-01T00:00:00\", \"price\": 17.25, \"category\": \"hardware\"}, {\"symbol\": \"AAPL\", \"date\": \"2004-09-01T00:00:00\", \"price\": 19.38, \"category\": \"hardware\"}, {\"symbol\": \"AAPL\", \"date\": \"2004-10-01T00:00:00\", \"price\": 26.2, \"category\": \"hardware\"}, {\"symbol\": \"AAPL\", \"date\": \"2004-11-01T00:00:00\", \"price\": 33.53, \"category\": \"hardware\"}, {\"symbol\": \"AAPL\", \"date\": \"2004-12-01T00:00:00\", \"price\": 32.2, \"category\": \"hardware\"}, {\"symbol\": \"AAPL\", \"date\": \"2005-01-01T00:00:00\", \"price\": 38.45, \"category\": \"hardware\"}, {\"symbol\": \"AAPL\", \"date\": \"2005-02-01T00:00:00\", \"price\": 44.86, \"category\": \"hardware\"}, {\"symbol\": \"AAPL\", \"date\": \"2005-03-01T00:00:00\", \"price\": 41.67, \"category\": \"hardware\"}, {\"symbol\": \"AAPL\", \"date\": \"2005-04-01T00:00:00\", \"price\": 36.06, \"category\": \"hardware\"}, {\"symbol\": \"AAPL\", \"date\": \"2005-05-01T00:00:00\", \"price\": 39.76, \"category\": \"hardware\"}, {\"symbol\": \"AAPL\", \"date\": \"2005-06-01T00:00:00\", \"price\": 36.81, \"category\": \"hardware\"}, {\"symbol\": \"AAPL\", \"date\": \"2005-07-01T00:00:00\", \"price\": 42.65, \"category\": \"hardware\"}, {\"symbol\": \"AAPL\", \"date\": \"2005-08-01T00:00:00\", \"price\": 46.89, \"category\": \"hardware\"}, {\"symbol\": \"AAPL\", \"date\": \"2005-09-01T00:00:00\", \"price\": 53.61, \"category\": \"hardware\"}, {\"symbol\": \"AAPL\", \"date\": \"2005-10-01T00:00:00\", \"price\": 57.59, \"category\": \"hardware\"}, {\"symbol\": \"AAPL\", \"date\": \"2005-11-01T00:00:00\", \"price\": 67.82, \"category\": \"hardware\"}, {\"symbol\": \"AAPL\", \"date\": \"2005-12-01T00:00:00\", \"price\": 71.89, \"category\": \"hardware\"}, {\"symbol\": \"AAPL\", \"date\": \"2006-01-01T00:00:00\", \"price\": 75.51, \"category\": \"hardware\"}, {\"symbol\": \"AAPL\", \"date\": \"2006-02-01T00:00:00\", \"price\": 68.49, \"category\": \"hardware\"}, {\"symbol\": \"AAPL\", \"date\": \"2006-03-01T00:00:00\", \"price\": 62.72, \"category\": \"hardware\"}, {\"symbol\": \"AAPL\", \"date\": \"2006-04-01T00:00:00\", \"price\": 70.39, \"category\": \"hardware\"}, {\"symbol\": \"AAPL\", \"date\": \"2006-05-01T00:00:00\", \"price\": 59.77, \"category\": \"hardware\"}, {\"symbol\": \"AAPL\", \"date\": \"2006-06-01T00:00:00\", \"price\": 57.27, \"category\": \"hardware\"}, {\"symbol\": \"AAPL\", \"date\": \"2006-07-01T00:00:00\", \"price\": 67.96, \"category\": \"hardware\"}, {\"symbol\": \"AAPL\", \"date\": \"2006-08-01T00:00:00\", \"price\": 67.85, \"category\": \"hardware\"}, {\"symbol\": \"AAPL\", \"date\": \"2006-09-01T00:00:00\", \"price\": 76.98, \"category\": \"hardware\"}, {\"symbol\": \"AAPL\", \"date\": \"2006-10-01T00:00:00\", \"price\": 81.08, \"category\": \"hardware\"}, {\"symbol\": \"AAPL\", \"date\": \"2006-11-01T00:00:00\", \"price\": 91.66, \"category\": \"hardware\"}, {\"symbol\": \"AAPL\", \"date\": \"2006-12-01T00:00:00\", \"price\": 84.84, \"category\": \"hardware\"}, {\"symbol\": \"AAPL\", \"date\": \"2007-01-01T00:00:00\", \"price\": 85.73, \"category\": \"hardware\"}, {\"symbol\": \"AAPL\", \"date\": \"2007-02-01T00:00:00\", \"price\": 84.61, \"category\": \"hardware\"}, {\"symbol\": \"AAPL\", \"date\": \"2007-03-01T00:00:00\", \"price\": 92.91, \"category\": \"hardware\"}, {\"symbol\": \"AAPL\", \"date\": \"2007-04-01T00:00:00\", \"price\": 99.8, \"category\": \"hardware\"}, {\"symbol\": \"AAPL\", \"date\": \"2007-05-01T00:00:00\", \"price\": 121.19, \"category\": \"hardware\"}, {\"symbol\": \"AAPL\", \"date\": \"2007-06-01T00:00:00\", \"price\": 122.04, \"category\": \"hardware\"}, {\"symbol\": \"AAPL\", \"date\": \"2007-07-01T00:00:00\", \"price\": 131.76, \"category\": \"hardware\"}, {\"symbol\": \"AAPL\", \"date\": \"2007-08-01T00:00:00\", \"price\": 138.48, \"category\": \"hardware\"}, {\"symbol\": \"AAPL\", \"date\": \"2007-09-01T00:00:00\", \"price\": 153.47, \"category\": \"hardware\"}, {\"symbol\": \"AAPL\", \"date\": \"2007-10-01T00:00:00\", \"price\": 189.95, \"category\": \"hardware\"}, {\"symbol\": \"AAPL\", \"date\": \"2007-11-01T00:00:00\", \"price\": 182.22, \"category\": \"hardware\"}, {\"symbol\": \"AAPL\", \"date\": \"2007-12-01T00:00:00\", \"price\": 198.08, \"category\": \"hardware\"}, {\"symbol\": \"AAPL\", \"date\": \"2008-01-01T00:00:00\", \"price\": 135.36, \"category\": \"hardware\"}, {\"symbol\": \"AAPL\", \"date\": \"2008-02-01T00:00:00\", \"price\": 125.02, \"category\": \"hardware\"}, {\"symbol\": \"AAPL\", \"date\": \"2008-03-01T00:00:00\", \"price\": 143.5, \"category\": \"hardware\"}, {\"symbol\": \"AAPL\", \"date\": \"2008-04-01T00:00:00\", \"price\": 173.95, \"category\": \"hardware\"}, {\"symbol\": \"AAPL\", \"date\": \"2008-05-01T00:00:00\", \"price\": 188.75, \"category\": \"hardware\"}, {\"symbol\": \"AAPL\", \"date\": \"2008-06-01T00:00:00\", \"price\": 167.44, \"category\": \"hardware\"}, {\"symbol\": \"AAPL\", \"date\": \"2008-07-01T00:00:00\", \"price\": 158.95, \"category\": \"hardware\"}, {\"symbol\": \"AAPL\", \"date\": \"2008-08-01T00:00:00\", \"price\": 169.53, \"category\": \"hardware\"}, {\"symbol\": \"AAPL\", \"date\": \"2008-09-01T00:00:00\", \"price\": 113.66, \"category\": \"hardware\"}, {\"symbol\": \"AAPL\", \"date\": \"2008-10-01T00:00:00\", \"price\": 107.59, \"category\": \"hardware\"}, {\"symbol\": \"AAPL\", \"date\": \"2008-11-01T00:00:00\", \"price\": 92.67, \"category\": \"hardware\"}, {\"symbol\": \"AAPL\", \"date\": \"2008-12-01T00:00:00\", \"price\": 85.35, \"category\": \"hardware\"}, {\"symbol\": \"AAPL\", \"date\": \"2009-01-01T00:00:00\", \"price\": 90.13, \"category\": \"hardware\"}, {\"symbol\": \"AAPL\", \"date\": \"2009-02-01T00:00:00\", \"price\": 89.31, \"category\": \"hardware\"}, {\"symbol\": \"AAPL\", \"date\": \"2009-03-01T00:00:00\", \"price\": 105.12, \"category\": \"hardware\"}, {\"symbol\": \"AAPL\", \"date\": \"2009-04-01T00:00:00\", \"price\": 125.83, \"category\": \"hardware\"}, {\"symbol\": \"AAPL\", \"date\": \"2009-05-01T00:00:00\", \"price\": 135.81, \"category\": \"hardware\"}, {\"symbol\": \"AAPL\", \"date\": \"2009-06-01T00:00:00\", \"price\": 142.43, \"category\": \"hardware\"}, {\"symbol\": \"AAPL\", \"date\": \"2009-07-01T00:00:00\", \"price\": 163.39, \"category\": \"hardware\"}, {\"symbol\": \"AAPL\", \"date\": \"2009-08-01T00:00:00\", \"price\": 168.21, \"category\": \"hardware\"}, {\"symbol\": \"AAPL\", \"date\": \"2009-09-01T00:00:00\", \"price\": 185.35, \"category\": \"hardware\"}, {\"symbol\": \"AAPL\", \"date\": \"2009-10-01T00:00:00\", \"price\": 188.5, \"category\": \"hardware\"}, {\"symbol\": \"AAPL\", \"date\": \"2009-11-01T00:00:00\", \"price\": 199.91, \"category\": \"hardware\"}, {\"symbol\": \"AAPL\", \"date\": \"2009-12-01T00:00:00\", \"price\": 210.73, \"category\": \"hardware\"}, {\"symbol\": \"AAPL\", \"date\": \"2010-01-01T00:00:00\", \"price\": 192.06, \"category\": \"hardware\"}, {\"symbol\": \"AAPL\", \"date\": \"2010-02-01T00:00:00\", \"price\": 204.62, \"category\": \"hardware\"}, {\"symbol\": \"AAPL\", \"date\": \"2010-03-01T00:00:00\", \"price\": 223.02, \"category\": \"hardware\"}]}}, {\"mode\": \"vega-lite\"});\n",
       "</script>"
      ],
      "text/plain": [
       "alt.Chart(...)"
      ]
     },
     "execution_count": 4,
     "metadata": {},
     "output_type": "execute_result"
    }
   ],
   "source": [
    "import altair as alt\n",
    "from vega_datasets import data\n",
    "\n",
    "source = data.stocks()\n",
    "source.symbol.value_counts()\n",
    "source[\"category\"] = \"software\"\n",
    "source.loc[source[\"symbol\"].isin([\"AAPL\", \"IBM\"]), \"category\"] = \"hardware\"\n",
    "\n",
    "cat_values = list(source[\"category\"].unique())\n",
    "sym_values = list(source[\"symbol\"].unique())\n",
    "\n",
    "cat_options = [None] + cat_values\n",
    "sym_options = [None] + sym_values\n",
    "\n",
    "cat_labels = [\"All\"] + cat_values\n",
    "sym_labels = [\"All\"] + sym_values\n",
    "\n",
    "dropdown_category = alt.binding_select(options=cat_options, labels=cat_labels, name=\" \")\n",
    "dropdown_symbol = alt.binding_select(options=sym_options, labels=sym_labels, name=\" \")\n",
    "\n",
    "selection_category = alt.selection_single(\n",
    "    fields=[\"category\"], bind=dropdown_category, name=\"cat\"\n",
    ")\n",
    "selection_symbol = alt.selection_single(\n",
    "    fields=[\"symbol\"], bind=dropdown_symbol, name=\"sym\"\n",
    ")\n",
    "\n",
    "op_condition = {\n",
    "    \"condition\": {\n",
    "        \"test\": {\"and\": [{\"selection\": \"cat\"}, {\"selection\": \"sym\"}]},\n",
    "        \"value\": 1,\n",
    "    },\n",
    "    \"value\": 0.1,\n",
    "}\n",
    "\n",
    "chart = (\n",
    "    alt.Chart(source)\n",
    "    .mark_line()\n",
    "    .encode(x=\"date\", y=\"price\", color=\"symbol\", opacity=op_condition)\n",
    "    .add_selection(selection_symbol, selection_category)\n",
    ")\n",
    "\n",
    "chart"
   ]
  },
  {
   "cell_type": "code",
   "execution_count": 41,
   "id": "4d9f6ef3-699b-4314-8ba8-24a225b123ee",
   "metadata": {
    "tags": []
   },
   "outputs": [
    {
     "name": "stdout",
     "output_type": "stream",
     "text": [
      "CPU times: user 462 ms, sys: 173 ms, total: 635 ms\n",
      "Wall time: 635 ms\n"
     ]
    },
    {
     "data": {
      "text/plain": [
       "12495"
      ]
     },
     "execution_count": 41,
     "metadata": {},
     "output_type": "execute_result"
    }
   ],
   "source": [
    "%%time\n",
    "final_parq_both = Path(r\"/Users/yo_macbook/Documents/app_data/TR_02_FINAL_PARQ_BOTH_1999_2023_02_17\")\n",
    "\n",
    "cik_list_parq = sorted(set([file.stem.split('-')[0] for file in final_parq_both.iterdir() if file.suffix == '.parquet']))\n",
    "cik_list_parq = sorted(set([file.stem.split('-')[0] for file in final_parq_both.iterdir() if file.suffix == '.txt']))\n",
    "len(cik_list)"
   ]
  },
  {
   "cell_type": "code",
   "execution_count": 27,
   "id": "58eefc85-97f3-47e9-82a2-52c2cd70f290",
   "metadata": {
    "scrolled": true,
    "tags": []
   },
   "outputs": [
    {
     "name": "stdout",
     "output_type": "stream",
     "text": [
      "728575\n",
      "1573876\n",
      "1911384\n"
     ]
    },
    {
     "data": {
      "text/plain": [
       "[None, None, None]"
      ]
     },
     "execution_count": 27,
     "metadata": {},
     "output_type": "execute_result"
    }
   ],
   "source": [
    "n = 3\n",
    "[print(el) for index, el in enumerate(set(cik_list)) if index<=n-1]"
   ]
  },
  {
   "cell_type": "markdown",
   "id": "8aff655c-2709-432b-8811-46555931f77b",
   "metadata": {
    "tags": []
   },
   "source": [
    "## List **new** filings to parse"
   ]
  },
  {
   "cell_type": "code",
   "execution_count": 158,
   "id": "2b9303ea-c4fd-4230-bdac-d1d2e52b4eac",
   "metadata": {
    "tags": []
   },
   "outputs": [
    {
     "name": "stdout",
     "output_type": "stream",
     "text": [
      "CPU times: user 2.77 s, sys: 2.62 s, total: 5.39 s\n",
      "Wall time: 20.9 s\n"
     ]
    }
   ],
   "source": [
    "%%time\n",
    "from pathlib import Path\n",
    "import numpy as np\n",
    "from operator import itemgetter\n",
    "\n",
    "extract_txt_stem = lambda txt_folder: [file.stem for file in txt_folder.glob('*/*.txt')]\n",
    "extract_parq_stem = lambda parq_folder: ['-'.join(itemgetter(1, 2, 3)(file.stem.split('-'))) for file in parq_folder.iterdir() if file.suffix=='.parquet']\n",
    "\n",
    "txt_filings_dir = Path(r\"/Volumes/fanpc/app_data/sec_apps_data/speed_test/filings_13f_full/filings\")\n",
    "parquet_filings_dir = Path(r'/Users/yo_macbook/Documents/app_data/TR_02_FINAL_PARQ_BOTH_1999_2023_02_17')\n",
    "\n",
    "txt_file_stems = extract_txt_stem(txt_filings_dir)\n",
    "parquet_file_stems = extract_parq_stem(parquet_filings_dir)\n",
    "\n",
    "files_diff = list(set(txt_file_stems) - set(parquet_file_stems))\n",
    "# filtering out files with `fdate` from years 98, 99 or in general earlier than 2023\n",
    "files_diff = [file for file in files_diff if int(itemgetter(1)(file.split('-'))) >=23 and int(itemgetter(1)(file.split('-'))) not in [98, 99]]\n",
    "\n",
    "extract_txt_paths = lambda txt_folder: [file for file in txt_folder.glob('*/*.txt')]\n",
    "txt_paths_all = extract_txt_paths(txt_filings_dir)\n"
   ]
  },
  {
   "cell_type": "code",
   "execution_count": 201,
   "id": "fa395862-b6ec-49b0-accd-0c8c633fb649",
   "metadata": {
    "tags": []
   },
   "outputs": [
    {
     "data": {
      "text/plain": [
       "'2023_03_21_01_14'"
      ]
     },
     "execution_count": 202,
     "metadata": {},
     "output_type": "execute_result"
    }
   ],
   "source": [
    "import datetime\n",
    "datetime.datetime.utcnow().strftime('%Y_%m_%d%H%M')"
   ]
  },
  {
   "cell_type": "code",
   "execution_count": 221,
   "id": "edb2260e-5981-4893-9980-90a64b3a6461",
   "metadata": {
    "tags": []
   },
   "outputs": [],
   "source": [
    "len(files_diff)\n",
    "files_diff[:2]\n",
    "import datetime\n",
    "\n",
    "def parse_txt_filings(txt_folder, parq_folder, dir_failures, cutoff_date = '2023-02-17'):\n",
    "    extract_txt_stem = lambda txt_folder: [file.stem for file in txt_folder.glob('*/*.txt')]\n",
    "    extract_parq_stem = lambda parq_folder: ['-'.join(itemgetter(1, 2, 3)(file.stem.split('-'))) for file in parq_folder.iterdir() if file.suffix=='.parquet']\n",
    "\n",
    "    txt_file_stems = extract_txt_stem(txt_folder)\n",
    "    parquet_file_stems = extract_parq_stem(parq_folder)\n",
    "\n",
    "    files_diff = list(set(txt_file_stems) - set(parquet_file_stems))\n",
    "    # filtering out files with `fdate` from years 98, 99 or in general earlier than 2023\n",
    "    files_diff = [file for file in files_diff if int(itemgetter(1)(file.split('-'))) >=23 and int(itemgetter(1)(file.split('-'))) not in [98, 99]]\n",
    "\n",
    "    extract_txt_paths = lambda txt_folder: [file for file in txt_folder.glob('*/*.txt') if file.stem in files_diff]\n",
    "    txt_paths_diff = extract_txt_paths(txt_folder)\n",
    "    loaded_cik = []\n",
    "    for file in txt_paths_diff:\n",
    "        print(f'files to parse: {len(txt_paths_diff)}')\n",
    "        print(file)\n",
    "        end_to_end_parsing(file_path=file, directory_parquet=parq_folder, failures_parq_dir=dir_failures, cutoff_date=cutoff_date)"
   ]
  },
  {
   "cell_type": "code",
   "execution_count": 223,
   "id": "532f34fc-3a78-454d-808d-f22e5e73835a",
   "metadata": {
    "scrolled": true,
    "tags": []
   },
   "outputs": [
    {
     "data": {
      "text/html": [
       "<pre style=\"white-space:pre;overflow-x:auto;line-height:normal;font-family:Menlo,'DejaVu Sans Mono',consolas,'Courier New',monospace\">files to parse: <span style=\"color: #008080; text-decoration-color: #008080; font-weight: bold\">271</span>\n",
       "</pre>\n"
      ],
      "text/plain": [
       "files to parse: \u001b[1;36m271\u001b[0m\n"
      ]
     },
     "metadata": {},
     "output_type": "display_data"
    },
    {
     "data": {
      "text/html": [
       "<pre style=\"white-space:pre;overflow-x:auto;line-height:normal;font-family:Menlo,'DejaVu Sans Mono',consolas,'Courier New',monospace\"><span style=\"color: #800080; text-decoration-color: #800080\">/Volumes/fanpc/app_data/sec_apps_data/speed_test/filings_13f_full/filings/1008929/</span><span style=\"color: #ff00ff; text-decoration-color: #ff00ff\">0001172661-23-001504.txt</span>\n",
       "</pre>\n"
      ],
      "text/plain": [
       "\u001b[35m/Volumes/fanpc/app_data/sec_apps_data/speed_test/filings_13f_full/filings/1008929/\u001b[0m\u001b[95m0001172661-23-001504.txt\u001b[0m\n"
      ]
     },
     "metadata": {},
     "output_type": "display_data"
    },
    {
     "data": {
      "text/html": [
       "<pre style=\"white-space:pre;overflow-x:auto;line-height:normal;font-family:Menlo,'DejaVu Sans Mono',consolas,'Courier New',monospace\">files to parse: <span style=\"color: #008080; text-decoration-color: #008080; font-weight: bold\">271</span>\n",
       "</pre>\n"
      ],
      "text/plain": [
       "files to parse: \u001b[1;36m271\u001b[0m\n"
      ]
     },
     "metadata": {},
     "output_type": "display_data"
    },
    {
     "data": {
      "text/html": [
       "<pre style=\"white-space:pre;overflow-x:auto;line-height:normal;font-family:Menlo,'DejaVu Sans Mono',consolas,'Courier New',monospace\"><span style=\"color: #800080; text-decoration-color: #800080\">/Volumes/fanpc/app_data/sec_apps_data/speed_test/filings_13f_full/filings/1008929/</span><span style=\"color: #ff00ff; text-decoration-color: #ff00ff\">0001172661-23-001521.txt</span>\n",
       "</pre>\n"
      ],
      "text/plain": [
       "\u001b[35m/Volumes/fanpc/app_data/sec_apps_data/speed_test/filings_13f_full/filings/1008929/\u001b[0m\u001b[95m0001172661-23-001521.txt\u001b[0m\n"
      ]
     },
     "metadata": {},
     "output_type": "display_data"
    },
    {
     "data": {
      "text/html": [
       "<pre style=\"white-space:pre;overflow-x:auto;line-height:normal;font-family:Menlo,'DejaVu Sans Mono',consolas,'Courier New',monospace\">files to parse: <span style=\"color: #008080; text-decoration-color: #008080; font-weight: bold\">271</span>\n",
       "</pre>\n"
      ],
      "text/plain": [
       "files to parse: \u001b[1;36m271\u001b[0m\n"
      ]
     },
     "metadata": {},
     "output_type": "display_data"
    },
    {
     "data": {
      "text/html": [
       "<pre style=\"white-space:pre;overflow-x:auto;line-height:normal;font-family:Menlo,'DejaVu Sans Mono',consolas,'Courier New',monospace\"><span style=\"color: #800080; text-decoration-color: #800080\">/Volumes/fanpc/app_data/sec_apps_data/speed_test/filings_13f_full/filings/1008929/</span><span style=\"color: #ff00ff; text-decoration-color: #ff00ff\">0001172661-23-001522.txt</span>\n",
       "</pre>\n"
      ],
      "text/plain": [
       "\u001b[35m/Volumes/fanpc/app_data/sec_apps_data/speed_test/filings_13f_full/filings/1008929/\u001b[0m\u001b[95m0001172661-23-001522.txt\u001b[0m\n"
      ]
     },
     "metadata": {},
     "output_type": "display_data"
    },
    {
     "data": {
      "text/html": [
       "<pre style=\"white-space:pre;overflow-x:auto;line-height:normal;font-family:Menlo,'DejaVu Sans Mono',consolas,'Courier New',monospace\">files to parse: <span style=\"color: #008080; text-decoration-color: #008080; font-weight: bold\">271</span>\n",
       "</pre>\n"
      ],
      "text/plain": [
       "files to parse: \u001b[1;36m271\u001b[0m\n"
      ]
     },
     "metadata": {},
     "output_type": "display_data"
    },
    {
     "data": {
      "text/html": [
       "<pre style=\"white-space:pre;overflow-x:auto;line-height:normal;font-family:Menlo,'DejaVu Sans Mono',consolas,'Courier New',monospace\"><span style=\"color: #800080; text-decoration-color: #800080\">/Volumes/fanpc/app_data/sec_apps_data/speed_test/filings_13f_full/filings/1009027/</span><span style=\"color: #ff00ff; text-decoration-color: #ff00ff\">0001009027-23-000001.txt</span>\n",
       "</pre>\n"
      ],
      "text/plain": [
       "\u001b[35m/Volumes/fanpc/app_data/sec_apps_data/speed_test/filings_13f_full/filings/1009027/\u001b[0m\u001b[95m0001009027-23-000001.txt\u001b[0m\n"
      ]
     },
     "metadata": {},
     "output_type": "display_data"
    },
    {
     "data": {
      "text/html": [
       "<pre style=\"white-space:pre;overflow-x:auto;line-height:normal;font-family:Menlo,'DejaVu Sans Mono',consolas,'Courier New',monospace\">files to parse: <span style=\"color: #008080; text-decoration-color: #008080; font-weight: bold\">271</span>\n",
       "</pre>\n"
      ],
      "text/plain": [
       "files to parse: \u001b[1;36m271\u001b[0m\n"
      ]
     },
     "metadata": {},
     "output_type": "display_data"
    },
    {
     "data": {
      "text/html": [
       "<pre style=\"white-space:pre;overflow-x:auto;line-height:normal;font-family:Menlo,'DejaVu Sans Mono',consolas,'Courier New',monospace\"><span style=\"color: #800080; text-decoration-color: #800080\">/Volumes/fanpc/app_data/sec_apps_data/speed_test/filings_13f_full/filings/1011659/</span><span style=\"color: #ff00ff; text-decoration-color: #ff00ff\">0001085146-23-001425.txt</span>\n",
       "</pre>\n"
      ],
      "text/plain": [
       "\u001b[35m/Volumes/fanpc/app_data/sec_apps_data/speed_test/filings_13f_full/filings/1011659/\u001b[0m\u001b[95m0001085146-23-001425.txt\u001b[0m\n"
      ]
     },
     "metadata": {},
     "output_type": "display_data"
    },
    {
     "data": {
      "text/html": [
       "<pre style=\"white-space:pre;overflow-x:auto;line-height:normal;font-family:Menlo,'DejaVu Sans Mono',consolas,'Courier New',monospace\">files to parse: <span style=\"color: #008080; text-decoration-color: #008080; font-weight: bold\">271</span>\n",
       "</pre>\n"
      ],
      "text/plain": [
       "files to parse: \u001b[1;36m271\u001b[0m\n"
      ]
     },
     "metadata": {},
     "output_type": "display_data"
    },
    {
     "data": {
      "text/html": [
       "<pre style=\"white-space:pre;overflow-x:auto;line-height:normal;font-family:Menlo,'DejaVu Sans Mono',consolas,'Courier New',monospace\"><span style=\"color: #800080; text-decoration-color: #800080\">/Volumes/fanpc/app_data/sec_apps_data/speed_test/filings_13f_full/filings/1030618/</span><span style=\"color: #ff00ff; text-decoration-color: #ff00ff\">0001085146-23-001441.txt</span>\n",
       "</pre>\n"
      ],
      "text/plain": [
       "\u001b[35m/Volumes/fanpc/app_data/sec_apps_data/speed_test/filings_13f_full/filings/1030618/\u001b[0m\u001b[95m0001085146-23-001441.txt\u001b[0m\n"
      ]
     },
     "metadata": {},
     "output_type": "display_data"
    },
    {
     "data": {
      "text/html": [
       "<pre style=\"white-space:pre;overflow-x:auto;line-height:normal;font-family:Menlo,'DejaVu Sans Mono',consolas,'Courier New',monospace\">files to parse: <span style=\"color: #008080; text-decoration-color: #008080; font-weight: bold\">271</span>\n",
       "</pre>\n"
      ],
      "text/plain": [
       "files to parse: \u001b[1;36m271\u001b[0m\n"
      ]
     },
     "metadata": {},
     "output_type": "display_data"
    },
    {
     "data": {
      "text/html": [
       "<pre style=\"white-space:pre;overflow-x:auto;line-height:normal;font-family:Menlo,'DejaVu Sans Mono',consolas,'Courier New',monospace\"><span style=\"color: #800080; text-decoration-color: #800080\">/Volumes/fanpc/app_data/sec_apps_data/speed_test/filings_13f_full/filings/1040188/</span><span style=\"color: #ff00ff; text-decoration-color: #ff00ff\">0001040188-23-000059.txt</span>\n",
       "</pre>\n"
      ],
      "text/plain": [
       "\u001b[35m/Volumes/fanpc/app_data/sec_apps_data/speed_test/filings_13f_full/filings/1040188/\u001b[0m\u001b[95m0001040188-23-000059.txt\u001b[0m\n"
      ]
     },
     "metadata": {},
     "output_type": "display_data"
    },
    {
     "data": {
      "text/html": [
       "<pre style=\"white-space:pre;overflow-x:auto;line-height:normal;font-family:Menlo,'DejaVu Sans Mono',consolas,'Courier New',monospace\">files to parse: <span style=\"color: #008080; text-decoration-color: #008080; font-weight: bold\">271</span>\n",
       "</pre>\n"
      ],
      "text/plain": [
       "files to parse: \u001b[1;36m271\u001b[0m\n"
      ]
     },
     "metadata": {},
     "output_type": "display_data"
    },
    {
     "data": {
      "text/html": [
       "<pre style=\"white-space:pre;overflow-x:auto;line-height:normal;font-family:Menlo,'DejaVu Sans Mono',consolas,'Courier New',monospace\"><span style=\"color: #800080; text-decoration-color: #800080\">/Volumes/fanpc/app_data/sec_apps_data/speed_test/filings_13f_full/filings/1049650/</span><span style=\"color: #ff00ff; text-decoration-color: #ff00ff\">0001049650-23-000005.txt</span>\n",
       "</pre>\n"
      ],
      "text/plain": [
       "\u001b[35m/Volumes/fanpc/app_data/sec_apps_data/speed_test/filings_13f_full/filings/1049650/\u001b[0m\u001b[95m0001049650-23-000005.txt\u001b[0m\n"
      ]
     },
     "metadata": {},
     "output_type": "display_data"
    },
    {
     "data": {
      "text/html": [
       "<pre style=\"white-space:pre;overflow-x:auto;line-height:normal;font-family:Menlo,'DejaVu Sans Mono',consolas,'Courier New',monospace\">files to parse: <span style=\"color: #008080; text-decoration-color: #008080; font-weight: bold\">271</span>\n",
       "</pre>\n"
      ],
      "text/plain": [
       "files to parse: \u001b[1;36m271\u001b[0m\n"
      ]
     },
     "metadata": {},
     "output_type": "display_data"
    },
    {
     "data": {
      "text/html": [
       "<pre style=\"white-space:pre;overflow-x:auto;line-height:normal;font-family:Menlo,'DejaVu Sans Mono',consolas,'Courier New',monospace\"><span style=\"color: #800080; text-decoration-color: #800080\">/Volumes/fanpc/app_data/sec_apps_data/speed_test/filings_13f_full/filings/1049650/</span><span style=\"color: #ff00ff; text-decoration-color: #ff00ff\">0001049650-23-000006.txt</span>\n",
       "</pre>\n"
      ],
      "text/plain": [
       "\u001b[35m/Volumes/fanpc/app_data/sec_apps_data/speed_test/filings_13f_full/filings/1049650/\u001b[0m\u001b[95m0001049650-23-000006.txt\u001b[0m\n"
      ]
     },
     "metadata": {},
     "output_type": "display_data"
    },
    {
     "data": {
      "text/html": [
       "<pre style=\"white-space:pre;overflow-x:auto;line-height:normal;font-family:Menlo,'DejaVu Sans Mono',consolas,'Courier New',monospace\">files to parse: <span style=\"color: #008080; text-decoration-color: #008080; font-weight: bold\">271</span>\n",
       "</pre>\n"
      ],
      "text/plain": [
       "files to parse: \u001b[1;36m271\u001b[0m\n"
      ]
     },
     "metadata": {},
     "output_type": "display_data"
    },
    {
     "data": {
      "text/html": [
       "<pre style=\"white-space:pre;overflow-x:auto;line-height:normal;font-family:Menlo,'DejaVu Sans Mono',consolas,'Courier New',monospace\"><span style=\"color: #800080; text-decoration-color: #800080\">/Volumes/fanpc/app_data/sec_apps_data/speed_test/filings_13f_full/filings/1049650/</span><span style=\"color: #ff00ff; text-decoration-color: #ff00ff\">0001049650-23-000007.txt</span>\n",
       "</pre>\n"
      ],
      "text/plain": [
       "\u001b[35m/Volumes/fanpc/app_data/sec_apps_data/speed_test/filings_13f_full/filings/1049650/\u001b[0m\u001b[95m0001049650-23-000007.txt\u001b[0m\n"
      ]
     },
     "metadata": {},
     "output_type": "display_data"
    },
    {
     "data": {
      "text/html": [
       "<pre style=\"white-space:pre;overflow-x:auto;line-height:normal;font-family:Menlo,'DejaVu Sans Mono',consolas,'Courier New',monospace\">files to parse: <span style=\"color: #008080; text-decoration-color: #008080; font-weight: bold\">271</span>\n",
       "</pre>\n"
      ],
      "text/plain": [
       "files to parse: \u001b[1;36m271\u001b[0m\n"
      ]
     },
     "metadata": {},
     "output_type": "display_data"
    },
    {
     "data": {
      "text/html": [
       "<pre style=\"white-space:pre;overflow-x:auto;line-height:normal;font-family:Menlo,'DejaVu Sans Mono',consolas,'Courier New',monospace\"><span style=\"color: #800080; text-decoration-color: #800080\">/Volumes/fanpc/app_data/sec_apps_data/speed_test/filings_13f_full/filings/1049650/</span><span style=\"color: #ff00ff; text-decoration-color: #ff00ff\">0001049650-23-000008.txt</span>\n",
       "</pre>\n"
      ],
      "text/plain": [
       "\u001b[35m/Volumes/fanpc/app_data/sec_apps_data/speed_test/filings_13f_full/filings/1049650/\u001b[0m\u001b[95m0001049650-23-000008.txt\u001b[0m\n"
      ]
     },
     "metadata": {},
     "output_type": "display_data"
    },
    {
     "data": {
      "text/html": [
       "<pre style=\"white-space:pre;overflow-x:auto;line-height:normal;font-family:Menlo,'DejaVu Sans Mono',consolas,'Courier New',monospace\">files to parse: <span style=\"color: #008080; text-decoration-color: #008080; font-weight: bold\">271</span>\n",
       "</pre>\n"
      ],
      "text/plain": [
       "files to parse: \u001b[1;36m271\u001b[0m\n"
      ]
     },
     "metadata": {},
     "output_type": "display_data"
    },
    {
     "data": {
      "text/html": [
       "<pre style=\"white-space:pre;overflow-x:auto;line-height:normal;font-family:Menlo,'DejaVu Sans Mono',consolas,'Courier New',monospace\"><span style=\"color: #800080; text-decoration-color: #800080\">/Volumes/fanpc/app_data/sec_apps_data/speed_test/filings_13f_full/filings/1049650/</span><span style=\"color: #ff00ff; text-decoration-color: #ff00ff\">0001049650-23-000009.txt</span>\n",
       "</pre>\n"
      ],
      "text/plain": [
       "\u001b[35m/Volumes/fanpc/app_data/sec_apps_data/speed_test/filings_13f_full/filings/1049650/\u001b[0m\u001b[95m0001049650-23-000009.txt\u001b[0m\n"
      ]
     },
     "metadata": {},
     "output_type": "display_data"
    },
    {
     "data": {
      "text/html": [
       "<pre style=\"white-space:pre;overflow-x:auto;line-height:normal;font-family:Menlo,'DejaVu Sans Mono',consolas,'Courier New',monospace\">files to parse: <span style=\"color: #008080; text-decoration-color: #008080; font-weight: bold\">271</span>\n",
       "</pre>\n"
      ],
      "text/plain": [
       "files to parse: \u001b[1;36m271\u001b[0m\n"
      ]
     },
     "metadata": {},
     "output_type": "display_data"
    },
    {
     "data": {
      "text/html": [
       "<pre style=\"white-space:pre;overflow-x:auto;line-height:normal;font-family:Menlo,'DejaVu Sans Mono',consolas,'Courier New',monospace\"><span style=\"color: #800080; text-decoration-color: #800080\">/Volumes/fanpc/app_data/sec_apps_data/speed_test/filings_13f_full/filings/1049650/</span><span style=\"color: #ff00ff; text-decoration-color: #ff00ff\">0001049650-23-000010.txt</span>\n",
       "</pre>\n"
      ],
      "text/plain": [
       "\u001b[35m/Volumes/fanpc/app_data/sec_apps_data/speed_test/filings_13f_full/filings/1049650/\u001b[0m\u001b[95m0001049650-23-000010.txt\u001b[0m\n"
      ]
     },
     "metadata": {},
     "output_type": "display_data"
    },
    {
     "data": {
      "text/html": [
       "<pre style=\"white-space:pre;overflow-x:auto;line-height:normal;font-family:Menlo,'DejaVu Sans Mono',consolas,'Courier New',monospace\">files to parse: <span style=\"color: #008080; text-decoration-color: #008080; font-weight: bold\">271</span>\n",
       "</pre>\n"
      ],
      "text/plain": [
       "files to parse: \u001b[1;36m271\u001b[0m\n"
      ]
     },
     "metadata": {},
     "output_type": "display_data"
    },
    {
     "data": {
      "text/html": [
       "<pre style=\"white-space:pre;overflow-x:auto;line-height:normal;font-family:Menlo,'DejaVu Sans Mono',consolas,'Courier New',monospace\"><span style=\"color: #800080; text-decoration-color: #800080\">/Volumes/fanpc/app_data/sec_apps_data/speed_test/filings_13f_full/filings/1049650/</span><span style=\"color: #ff00ff; text-decoration-color: #ff00ff\">0001049650-23-000011.txt</span>\n",
       "</pre>\n"
      ],
      "text/plain": [
       "\u001b[35m/Volumes/fanpc/app_data/sec_apps_data/speed_test/filings_13f_full/filings/1049650/\u001b[0m\u001b[95m0001049650-23-000011.txt\u001b[0m\n"
      ]
     },
     "metadata": {},
     "output_type": "display_data"
    },
    {
     "data": {
      "text/html": [
       "<pre style=\"white-space:pre;overflow-x:auto;line-height:normal;font-family:Menlo,'DejaVu Sans Mono',consolas,'Courier New',monospace\">files to parse: <span style=\"color: #008080; text-decoration-color: #008080; font-weight: bold\">271</span>\n",
       "</pre>\n"
      ],
      "text/plain": [
       "files to parse: \u001b[1;36m271\u001b[0m\n"
      ]
     },
     "metadata": {},
     "output_type": "display_data"
    },
    {
     "data": {
      "text/html": [
       "<pre style=\"white-space:pre;overflow-x:auto;line-height:normal;font-family:Menlo,'DejaVu Sans Mono',consolas,'Courier New',monospace\"><span style=\"color: #800080; text-decoration-color: #800080\">/Volumes/fanpc/app_data/sec_apps_data/speed_test/filings_13f_full/filings/1049650/</span><span style=\"color: #ff00ff; text-decoration-color: #ff00ff\">0001049650-23-000012.txt</span>\n",
       "</pre>\n"
      ],
      "text/plain": [
       "\u001b[35m/Volumes/fanpc/app_data/sec_apps_data/speed_test/filings_13f_full/filings/1049650/\u001b[0m\u001b[95m0001049650-23-000012.txt\u001b[0m\n"
      ]
     },
     "metadata": {},
     "output_type": "display_data"
    },
    {
     "data": {
      "text/html": [
       "<pre style=\"white-space:pre;overflow-x:auto;line-height:normal;font-family:Menlo,'DejaVu Sans Mono',consolas,'Courier New',monospace\">files to parse: <span style=\"color: #008080; text-decoration-color: #008080; font-weight: bold\">271</span>\n",
       "</pre>\n"
      ],
      "text/plain": [
       "files to parse: \u001b[1;36m271\u001b[0m\n"
      ]
     },
     "metadata": {},
     "output_type": "display_data"
    },
    {
     "data": {
      "text/html": [
       "<pre style=\"white-space:pre;overflow-x:auto;line-height:normal;font-family:Menlo,'DejaVu Sans Mono',consolas,'Courier New',monospace\"><span style=\"color: #800080; text-decoration-color: #800080\">/Volumes/fanpc/app_data/sec_apps_data/speed_test/filings_13f_full/filings/1049650/</span><span style=\"color: #ff00ff; text-decoration-color: #ff00ff\">0001049650-23-000014.txt</span>\n",
       "</pre>\n"
      ],
      "text/plain": [
       "\u001b[35m/Volumes/fanpc/app_data/sec_apps_data/speed_test/filings_13f_full/filings/1049650/\u001b[0m\u001b[95m0001049650-23-000014.txt\u001b[0m\n"
      ]
     },
     "metadata": {},
     "output_type": "display_data"
    },
    {
     "data": {
      "text/html": [
       "<pre style=\"white-space:pre;overflow-x:auto;line-height:normal;font-family:Menlo,'DejaVu Sans Mono',consolas,'Courier New',monospace\">files to parse: <span style=\"color: #008080; text-decoration-color: #008080; font-weight: bold\">271</span>\n",
       "</pre>\n"
      ],
      "text/plain": [
       "files to parse: \u001b[1;36m271\u001b[0m\n"
      ]
     },
     "metadata": {},
     "output_type": "display_data"
    },
    {
     "data": {
      "text/html": [
       "<pre style=\"white-space:pre;overflow-x:auto;line-height:normal;font-family:Menlo,'DejaVu Sans Mono',consolas,'Courier New',monospace\"><span style=\"color: #800080; text-decoration-color: #800080\">/Volumes/fanpc/app_data/sec_apps_data/speed_test/filings_13f_full/filings/1049650/</span><span style=\"color: #ff00ff; text-decoration-color: #ff00ff\">0001049650-23-000015.txt</span>\n",
       "</pre>\n"
      ],
      "text/plain": [
       "\u001b[35m/Volumes/fanpc/app_data/sec_apps_data/speed_test/filings_13f_full/filings/1049650/\u001b[0m\u001b[95m0001049650-23-000015.txt\u001b[0m\n"
      ]
     },
     "metadata": {},
     "output_type": "display_data"
    },
    {
     "data": {
      "text/html": [
       "<pre style=\"white-space:pre;overflow-x:auto;line-height:normal;font-family:Menlo,'DejaVu Sans Mono',consolas,'Courier New',monospace\">files to parse: <span style=\"color: #008080; text-decoration-color: #008080; font-weight: bold\">271</span>\n",
       "</pre>\n"
      ],
      "text/plain": [
       "files to parse: \u001b[1;36m271\u001b[0m\n"
      ]
     },
     "metadata": {},
     "output_type": "display_data"
    },
    {
     "data": {
      "text/html": [
       "<pre style=\"white-space:pre;overflow-x:auto;line-height:normal;font-family:Menlo,'DejaVu Sans Mono',consolas,'Courier New',monospace\"><span style=\"color: #800080; text-decoration-color: #800080\">/Volumes/fanpc/app_data/sec_apps_data/speed_test/filings_13f_full/filings/1056559/</span><span style=\"color: #ff00ff; text-decoration-color: #ff00ff\">0001056559-23-000001.txt</span>\n",
       "</pre>\n"
      ],
      "text/plain": [
       "\u001b[35m/Volumes/fanpc/app_data/sec_apps_data/speed_test/filings_13f_full/filings/1056559/\u001b[0m\u001b[95m0001056559-23-000001.txt\u001b[0m\n"
      ]
     },
     "metadata": {},
     "output_type": "display_data"
    },
    {
     "data": {
      "text/html": [
       "<pre style=\"white-space:pre;overflow-x:auto;line-height:normal;font-family:Menlo,'DejaVu Sans Mono',consolas,'Courier New',monospace\">files to parse: <span style=\"color: #008080; text-decoration-color: #008080; font-weight: bold\">271</span>\n",
       "</pre>\n"
      ],
      "text/plain": [
       "files to parse: \u001b[1;36m271\u001b[0m\n"
      ]
     },
     "metadata": {},
     "output_type": "display_data"
    },
    {
     "data": {
      "text/html": [
       "<pre style=\"white-space:pre;overflow-x:auto;line-height:normal;font-family:Menlo,'DejaVu Sans Mono',consolas,'Courier New',monospace\"><span style=\"color: #800080; text-decoration-color: #800080\">/Volumes/fanpc/app_data/sec_apps_data/speed_test/filings_13f_full/filings/1056821/</span><span style=\"color: #ff00ff; text-decoration-color: #ff00ff\">0001056821-23-000005.txt</span>\n",
       "</pre>\n"
      ],
      "text/plain": [
       "\u001b[35m/Volumes/fanpc/app_data/sec_apps_data/speed_test/filings_13f_full/filings/1056821/\u001b[0m\u001b[95m0001056821-23-000005.txt\u001b[0m\n"
      ]
     },
     "metadata": {},
     "output_type": "display_data"
    },
    {
     "data": {
      "text/html": [
       "<pre style=\"white-space:pre;overflow-x:auto;line-height:normal;font-family:Menlo,'DejaVu Sans Mono',consolas,'Courier New',monospace\">files to parse: <span style=\"color: #008080; text-decoration-color: #008080; font-weight: bold\">271</span>\n",
       "</pre>\n"
      ],
      "text/plain": [
       "files to parse: \u001b[1;36m271\u001b[0m\n"
      ]
     },
     "metadata": {},
     "output_type": "display_data"
    },
    {
     "data": {
      "text/html": [
       "<pre style=\"white-space:pre;overflow-x:auto;line-height:normal;font-family:Menlo,'DejaVu Sans Mono',consolas,'Courier New',monospace\"><span style=\"color: #800080; text-decoration-color: #800080\">/Volumes/fanpc/app_data/sec_apps_data/speed_test/filings_13f_full/filings/1056907/</span><span style=\"color: #ff00ff; text-decoration-color: #ff00ff\">0000897423-23-000010.txt</span>\n",
       "</pre>\n"
      ],
      "text/plain": [
       "\u001b[35m/Volumes/fanpc/app_data/sec_apps_data/speed_test/filings_13f_full/filings/1056907/\u001b[0m\u001b[95m0000897423-23-000010.txt\u001b[0m\n"
      ]
     },
     "metadata": {},
     "output_type": "display_data"
    },
    {
     "data": {
      "text/html": [
       "<pre style=\"white-space:pre;overflow-x:auto;line-height:normal;font-family:Menlo,'DejaVu Sans Mono',consolas,'Courier New',monospace\">files to parse: <span style=\"color: #008080; text-decoration-color: #008080; font-weight: bold\">271</span>\n",
       "</pre>\n"
      ],
      "text/plain": [
       "files to parse: \u001b[1;36m271\u001b[0m\n"
      ]
     },
     "metadata": {},
     "output_type": "display_data"
    },
    {
     "data": {
      "text/html": [
       "<pre style=\"white-space:pre;overflow-x:auto;line-height:normal;font-family:Menlo,'DejaVu Sans Mono',consolas,'Courier New',monospace\"><span style=\"color: #800080; text-decoration-color: #800080\">/Volumes/fanpc/app_data/sec_apps_data/speed_test/filings_13f_full/filings/1068837/</span><span style=\"color: #ff00ff; text-decoration-color: #ff00ff\">0001068837-23-000008.txt</span>\n",
       "</pre>\n"
      ],
      "text/plain": [
       "\u001b[35m/Volumes/fanpc/app_data/sec_apps_data/speed_test/filings_13f_full/filings/1068837/\u001b[0m\u001b[95m0001068837-23-000008.txt\u001b[0m\n"
      ]
     },
     "metadata": {},
     "output_type": "display_data"
    },
    {
     "data": {
      "text/html": [
       "<pre style=\"white-space:pre;overflow-x:auto;line-height:normal;font-family:Menlo,'DejaVu Sans Mono',consolas,'Courier New',monospace\">files to parse: <span style=\"color: #008080; text-decoration-color: #008080; font-weight: bold\">271</span>\n",
       "</pre>\n"
      ],
      "text/plain": [
       "files to parse: \u001b[1;36m271\u001b[0m\n"
      ]
     },
     "metadata": {},
     "output_type": "display_data"
    },
    {
     "data": {
      "text/html": [
       "<pre style=\"white-space:pre;overflow-x:auto;line-height:normal;font-family:Menlo,'DejaVu Sans Mono',consolas,'Courier New',monospace\"><span style=\"color: #800080; text-decoration-color: #800080\">/Volumes/fanpc/app_data/sec_apps_data/speed_test/filings_13f_full/filings/1068837/</span><span style=\"color: #ff00ff; text-decoration-color: #ff00ff\">0001068837-23-000009.txt</span>\n",
       "</pre>\n"
      ],
      "text/plain": [
       "\u001b[35m/Volumes/fanpc/app_data/sec_apps_data/speed_test/filings_13f_full/filings/1068837/\u001b[0m\u001b[95m0001068837-23-000009.txt\u001b[0m\n"
      ]
     },
     "metadata": {},
     "output_type": "display_data"
    },
    {
     "data": {
      "text/html": [
       "<pre style=\"white-space:pre;overflow-x:auto;line-height:normal;font-family:Menlo,'DejaVu Sans Mono',consolas,'Courier New',monospace\">files to parse: <span style=\"color: #008080; text-decoration-color: #008080; font-weight: bold\">271</span>\n",
       "</pre>\n"
      ],
      "text/plain": [
       "files to parse: \u001b[1;36m271\u001b[0m\n"
      ]
     },
     "metadata": {},
     "output_type": "display_data"
    },
    {
     "data": {
      "text/html": [
       "<pre style=\"white-space:pre;overflow-x:auto;line-height:normal;font-family:Menlo,'DejaVu Sans Mono',consolas,'Courier New',monospace\"><span style=\"color: #800080; text-decoration-color: #800080\">/Volumes/fanpc/app_data/sec_apps_data/speed_test/filings_13f_full/filings/1088875/</span><span style=\"color: #ff00ff; text-decoration-color: #ff00ff\">0001088875-23-000074.txt</span>\n",
       "</pre>\n"
      ],
      "text/plain": [
       "\u001b[35m/Volumes/fanpc/app_data/sec_apps_data/speed_test/filings_13f_full/filings/1088875/\u001b[0m\u001b[95m0001088875-23-000074.txt\u001b[0m\n"
      ]
     },
     "metadata": {},
     "output_type": "display_data"
    },
    {
     "data": {
      "text/html": [
       "<pre style=\"white-space:pre;overflow-x:auto;line-height:normal;font-family:Menlo,'DejaVu Sans Mono',consolas,'Courier New',monospace\">files to parse: <span style=\"color: #008080; text-decoration-color: #008080; font-weight: bold\">271</span>\n",
       "</pre>\n"
      ],
      "text/plain": [
       "files to parse: \u001b[1;36m271\u001b[0m\n"
      ]
     },
     "metadata": {},
     "output_type": "display_data"
    },
    {
     "data": {
      "text/html": [
       "<pre style=\"white-space:pre;overflow-x:auto;line-height:normal;font-family:Menlo,'DejaVu Sans Mono',consolas,'Courier New',monospace\"><span style=\"color: #800080; text-decoration-color: #800080\">/Volumes/fanpc/app_data/sec_apps_data/speed_test/filings_13f_full/filings/1103245/</span><span style=\"color: #ff00ff; text-decoration-color: #ff00ff\">0001103245-23-000004.txt</span>\n",
       "</pre>\n"
      ],
      "text/plain": [
       "\u001b[35m/Volumes/fanpc/app_data/sec_apps_data/speed_test/filings_13f_full/filings/1103245/\u001b[0m\u001b[95m0001103245-23-000004.txt\u001b[0m\n"
      ]
     },
     "metadata": {},
     "output_type": "display_data"
    },
    {
     "data": {
      "text/html": [
       "<pre style=\"white-space:pre;overflow-x:auto;line-height:normal;font-family:Menlo,'DejaVu Sans Mono',consolas,'Courier New',monospace\">files to parse: <span style=\"color: #008080; text-decoration-color: #008080; font-weight: bold\">271</span>\n",
       "</pre>\n"
      ],
      "text/plain": [
       "files to parse: \u001b[1;36m271\u001b[0m\n"
      ]
     },
     "metadata": {},
     "output_type": "display_data"
    },
    {
     "data": {
      "text/html": [
       "<pre style=\"white-space:pre;overflow-x:auto;line-height:normal;font-family:Menlo,'DejaVu Sans Mono',consolas,'Courier New',monospace\"><span style=\"color: #800080; text-decoration-color: #800080\">/Volumes/fanpc/app_data/sec_apps_data/speed_test/filings_13f_full/filings/1105838/</span><span style=\"color: #ff00ff; text-decoration-color: #ff00ff\">0001140361-23-009813.txt</span>\n",
       "</pre>\n"
      ],
      "text/plain": [
       "\u001b[35m/Volumes/fanpc/app_data/sec_apps_data/speed_test/filings_13f_full/filings/1105838/\u001b[0m\u001b[95m0001140361-23-009813.txt\u001b[0m\n"
      ]
     },
     "metadata": {},
     "output_type": "display_data"
    },
    {
     "data": {
      "text/html": [
       "<pre style=\"white-space:pre;overflow-x:auto;line-height:normal;font-family:Menlo,'DejaVu Sans Mono',consolas,'Courier New',monospace\">files to parse: <span style=\"color: #008080; text-decoration-color: #008080; font-weight: bold\">271</span>\n",
       "</pre>\n"
      ],
      "text/plain": [
       "files to parse: \u001b[1;36m271\u001b[0m\n"
      ]
     },
     "metadata": {},
     "output_type": "display_data"
    },
    {
     "data": {
      "text/html": [
       "<pre style=\"white-space:pre;overflow-x:auto;line-height:normal;font-family:Menlo,'DejaVu Sans Mono',consolas,'Courier New',monospace\"><span style=\"color: #800080; text-decoration-color: #800080\">/Volumes/fanpc/app_data/sec_apps_data/speed_test/filings_13f_full/filings/1105909/</span><span style=\"color: #ff00ff; text-decoration-color: #ff00ff\">0001105909-23-000002.txt</span>\n",
       "</pre>\n"
      ],
      "text/plain": [
       "\u001b[35m/Volumes/fanpc/app_data/sec_apps_data/speed_test/filings_13f_full/filings/1105909/\u001b[0m\u001b[95m0001105909-23-000002.txt\u001b[0m\n"
      ]
     },
     "metadata": {},
     "output_type": "display_data"
    },
    {
     "data": {
      "text/html": [
       "<pre style=\"white-space:pre;overflow-x:auto;line-height:normal;font-family:Menlo,'DejaVu Sans Mono',consolas,'Courier New',monospace\">files to parse: <span style=\"color: #008080; text-decoration-color: #008080; font-weight: bold\">271</span>\n",
       "</pre>\n"
      ],
      "text/plain": [
       "files to parse: \u001b[1;36m271\u001b[0m\n"
      ]
     },
     "metadata": {},
     "output_type": "display_data"
    },
    {
     "data": {
      "text/html": [
       "<pre style=\"white-space:pre;overflow-x:auto;line-height:normal;font-family:Menlo,'DejaVu Sans Mono',consolas,'Courier New',monospace\"><span style=\"color: #800080; text-decoration-color: #800080\">/Volumes/fanpc/app_data/sec_apps_data/speed_test/filings_13f_full/filings/1110646/</span><span style=\"color: #ff00ff; text-decoration-color: #ff00ff\">0001104659-23-026958.txt</span>\n",
       "</pre>\n"
      ],
      "text/plain": [
       "\u001b[35m/Volumes/fanpc/app_data/sec_apps_data/speed_test/filings_13f_full/filings/1110646/\u001b[0m\u001b[95m0001104659-23-026958.txt\u001b[0m\n"
      ]
     },
     "metadata": {},
     "output_type": "display_data"
    },
    {
     "data": {
      "text/html": [
       "<pre style=\"white-space:pre;overflow-x:auto;line-height:normal;font-family:Menlo,'DejaVu Sans Mono',consolas,'Courier New',monospace\">files to parse: <span style=\"color: #008080; text-decoration-color: #008080; font-weight: bold\">271</span>\n",
       "</pre>\n"
      ],
      "text/plain": [
       "files to parse: \u001b[1;36m271\u001b[0m\n"
      ]
     },
     "metadata": {},
     "output_type": "display_data"
    },
    {
     "data": {
      "text/html": [
       "<pre style=\"white-space:pre;overflow-x:auto;line-height:normal;font-family:Menlo,'DejaVu Sans Mono',consolas,'Courier New',monospace\"><span style=\"color: #800080; text-decoration-color: #800080\">/Volumes/fanpc/app_data/sec_apps_data/speed_test/filings_13f_full/filings/1119032/</span><span style=\"color: #ff00ff; text-decoration-color: #ff00ff\">0001119032-23-000003.txt</span>\n",
       "</pre>\n"
      ],
      "text/plain": [
       "\u001b[35m/Volumes/fanpc/app_data/sec_apps_data/speed_test/filings_13f_full/filings/1119032/\u001b[0m\u001b[95m0001119032-23-000003.txt\u001b[0m\n"
      ]
     },
     "metadata": {},
     "output_type": "display_data"
    },
    {
     "data": {
      "text/html": [
       "<pre style=\"white-space:pre;overflow-x:auto;line-height:normal;font-family:Menlo,'DejaVu Sans Mono',consolas,'Courier New',monospace\">files to parse: <span style=\"color: #008080; text-decoration-color: #008080; font-weight: bold\">271</span>\n",
       "</pre>\n"
      ],
      "text/plain": [
       "files to parse: \u001b[1;36m271\u001b[0m\n"
      ]
     },
     "metadata": {},
     "output_type": "display_data"
    },
    {
     "data": {
      "text/html": [
       "<pre style=\"white-space:pre;overflow-x:auto;line-height:normal;font-family:Menlo,'DejaVu Sans Mono',consolas,'Courier New',monospace\"><span style=\"color: #800080; text-decoration-color: #800080\">/Volumes/fanpc/app_data/sec_apps_data/speed_test/filings_13f_full/filings/1140468/</span><span style=\"color: #ff00ff; text-decoration-color: #ff00ff\">0001085146-23-001037.txt</span>\n",
       "</pre>\n"
      ],
      "text/plain": [
       "\u001b[35m/Volumes/fanpc/app_data/sec_apps_data/speed_test/filings_13f_full/filings/1140468/\u001b[0m\u001b[95m0001085146-23-001037.txt\u001b[0m\n"
      ]
     },
     "metadata": {},
     "output_type": "display_data"
    },
    {
     "data": {
      "text/html": [
       "<pre style=\"white-space:pre;overflow-x:auto;line-height:normal;font-family:Menlo,'DejaVu Sans Mono',consolas,'Courier New',monospace\">files to parse: <span style=\"color: #008080; text-decoration-color: #008080; font-weight: bold\">271</span>\n",
       "</pre>\n"
      ],
      "text/plain": [
       "files to parse: \u001b[1;36m271\u001b[0m\n"
      ]
     },
     "metadata": {},
     "output_type": "display_data"
    },
    {
     "data": {
      "text/html": [
       "<pre style=\"white-space:pre;overflow-x:auto;line-height:normal;font-family:Menlo,'DejaVu Sans Mono',consolas,'Courier New',monospace\"><span style=\"color: #800080; text-decoration-color: #800080\">/Volumes/fanpc/app_data/sec_apps_data/speed_test/filings_13f_full/filings/1141802/</span><span style=\"color: #ff00ff; text-decoration-color: #ff00ff\">0001085146-23-001420.txt</span>\n",
       "</pre>\n"
      ],
      "text/plain": [
       "\u001b[35m/Volumes/fanpc/app_data/sec_apps_data/speed_test/filings_13f_full/filings/1141802/\u001b[0m\u001b[95m0001085146-23-001420.txt\u001b[0m\n"
      ]
     },
     "metadata": {},
     "output_type": "display_data"
    },
    {
     "data": {
      "text/html": [
       "<pre style=\"white-space:pre;overflow-x:auto;line-height:normal;font-family:Menlo,'DejaVu Sans Mono',consolas,'Courier New',monospace\">files to parse: <span style=\"color: #008080; text-decoration-color: #008080; font-weight: bold\">271</span>\n",
       "</pre>\n"
      ],
      "text/plain": [
       "files to parse: \u001b[1;36m271\u001b[0m\n"
      ]
     },
     "metadata": {},
     "output_type": "display_data"
    },
    {
     "data": {
      "text/html": [
       "<pre style=\"white-space:pre;overflow-x:auto;line-height:normal;font-family:Menlo,'DejaVu Sans Mono',consolas,'Courier New',monospace\"><span style=\"color: #800080; text-decoration-color: #800080\">/Volumes/fanpc/app_data/sec_apps_data/speed_test/filings_13f_full/filings/1157436/</span><span style=\"color: #ff00ff; text-decoration-color: #ff00ff\">0001398344-23-005772.txt</span>\n",
       "</pre>\n"
      ],
      "text/plain": [
       "\u001b[35m/Volumes/fanpc/app_data/sec_apps_data/speed_test/filings_13f_full/filings/1157436/\u001b[0m\u001b[95m0001398344-23-005772.txt\u001b[0m\n"
      ]
     },
     "metadata": {},
     "output_type": "display_data"
    },
    {
     "data": {
      "text/html": [
       "<pre style=\"white-space:pre;overflow-x:auto;line-height:normal;font-family:Menlo,'DejaVu Sans Mono',consolas,'Courier New',monospace\">files to parse: <span style=\"color: #008080; text-decoration-color: #008080; font-weight: bold\">271</span>\n",
       "</pre>\n"
      ],
      "text/plain": [
       "files to parse: \u001b[1;36m271\u001b[0m\n"
      ]
     },
     "metadata": {},
     "output_type": "display_data"
    },
    {
     "data": {
      "text/html": [
       "<pre style=\"white-space:pre;overflow-x:auto;line-height:normal;font-family:Menlo,'DejaVu Sans Mono',consolas,'Courier New',monospace\"><span style=\"color: #800080; text-decoration-color: #800080\">/Volumes/fanpc/app_data/sec_apps_data/speed_test/filings_13f_full/filings/1163165/</span><span style=\"color: #ff00ff; text-decoration-color: #ff00ff\">0001104659-23-006033.txt</span>\n",
       "</pre>\n"
      ],
      "text/plain": [
       "\u001b[35m/Volumes/fanpc/app_data/sec_apps_data/speed_test/filings_13f_full/filings/1163165/\u001b[0m\u001b[95m0001104659-23-006033.txt\u001b[0m\n"
      ]
     },
     "metadata": {},
     "output_type": "display_data"
    },
    {
     "data": {
      "text/html": [
       "<pre style=\"white-space:pre;overflow-x:auto;line-height:normal;font-family:Menlo,'DejaVu Sans Mono',consolas,'Courier New',monospace\">files to parse: <span style=\"color: #008080; text-decoration-color: #008080; font-weight: bold\">271</span>\n",
       "</pre>\n"
      ],
      "text/plain": [
       "files to parse: \u001b[1;36m271\u001b[0m\n"
      ]
     },
     "metadata": {},
     "output_type": "display_data"
    },
    {
     "data": {
      "text/html": [
       "<pre style=\"white-space:pre;overflow-x:auto;line-height:normal;font-family:Menlo,'DejaVu Sans Mono',consolas,'Courier New',monospace\"><span style=\"color: #800080; text-decoration-color: #800080\">/Volumes/fanpc/app_data/sec_apps_data/speed_test/filings_13f_full/filings/1165248/</span><span style=\"color: #ff00ff; text-decoration-color: #ff00ff\">0000902664-23-001527.txt</span>\n",
       "</pre>\n"
      ],
      "text/plain": [
       "\u001b[35m/Volumes/fanpc/app_data/sec_apps_data/speed_test/filings_13f_full/filings/1165248/\u001b[0m\u001b[95m0000902664-23-001527.txt\u001b[0m\n"
      ]
     },
     "metadata": {},
     "output_type": "display_data"
    },
    {
     "data": {
      "text/html": [
       "<pre style=\"white-space:pre;overflow-x:auto;line-height:normal;font-family:Menlo,'DejaVu Sans Mono',consolas,'Courier New',monospace\">files to parse: <span style=\"color: #008080; text-decoration-color: #008080; font-weight: bold\">271</span>\n",
       "</pre>\n"
      ],
      "text/plain": [
       "files to parse: \u001b[1;36m271\u001b[0m\n"
      ]
     },
     "metadata": {},
     "output_type": "display_data"
    },
    {
     "data": {
      "text/html": [
       "<pre style=\"white-space:pre;overflow-x:auto;line-height:normal;font-family:Menlo,'DejaVu Sans Mono',consolas,'Courier New',monospace\"><span style=\"color: #800080; text-decoration-color: #800080\">/Volumes/fanpc/app_data/sec_apps_data/speed_test/filings_13f_full/filings/1166850/</span><span style=\"color: #ff00ff; text-decoration-color: #ff00ff\">0001172661-23-000301.txt</span>\n",
       "</pre>\n"
      ],
      "text/plain": [
       "\u001b[35m/Volumes/fanpc/app_data/sec_apps_data/speed_test/filings_13f_full/filings/1166850/\u001b[0m\u001b[95m0001172661-23-000301.txt\u001b[0m\n"
      ]
     },
     "metadata": {},
     "output_type": "display_data"
    },
    {
     "data": {
      "text/html": [
       "<pre style=\"white-space:pre;overflow-x:auto;line-height:normal;font-family:Menlo,'DejaVu Sans Mono',consolas,'Courier New',monospace\">files to parse: <span style=\"color: #008080; text-decoration-color: #008080; font-weight: bold\">271</span>\n",
       "</pre>\n"
      ],
      "text/plain": [
       "files to parse: \u001b[1;36m271\u001b[0m\n"
      ]
     },
     "metadata": {},
     "output_type": "display_data"
    },
    {
     "data": {
      "text/html": [
       "<pre style=\"white-space:pre;overflow-x:auto;line-height:normal;font-family:Menlo,'DejaVu Sans Mono',consolas,'Courier New',monospace\"><span style=\"color: #800080; text-decoration-color: #800080\">/Volumes/fanpc/app_data/sec_apps_data/speed_test/filings_13f_full/filings/1167376/</span><span style=\"color: #ff00ff; text-decoration-color: #ff00ff\">0001167376-23-000005.txt</span>\n",
       "</pre>\n"
      ],
      "text/plain": [
       "\u001b[35m/Volumes/fanpc/app_data/sec_apps_data/speed_test/filings_13f_full/filings/1167376/\u001b[0m\u001b[95m0001167376-23-000005.txt\u001b[0m\n"
      ]
     },
     "metadata": {},
     "output_type": "display_data"
    },
    {
     "data": {
      "text/html": [
       "<pre style=\"white-space:pre;overflow-x:auto;line-height:normal;font-family:Menlo,'DejaVu Sans Mono',consolas,'Courier New',monospace\">files to parse: <span style=\"color: #008080; text-decoration-color: #008080; font-weight: bold\">271</span>\n",
       "</pre>\n"
      ],
      "text/plain": [
       "files to parse: \u001b[1;36m271\u001b[0m\n"
      ]
     },
     "metadata": {},
     "output_type": "display_data"
    },
    {
     "data": {
      "text/html": [
       "<pre style=\"white-space:pre;overflow-x:auto;line-height:normal;font-family:Menlo,'DejaVu Sans Mono',consolas,'Courier New',monospace\"><span style=\"color: #800080; text-decoration-color: #800080\">/Volumes/fanpc/app_data/sec_apps_data/speed_test/filings_13f_full/filings/1167711/</span><span style=\"color: #ff00ff; text-decoration-color: #ff00ff\">0001085146-23-001416.txt</span>\n",
       "</pre>\n"
      ],
      "text/plain": [
       "\u001b[35m/Volumes/fanpc/app_data/sec_apps_data/speed_test/filings_13f_full/filings/1167711/\u001b[0m\u001b[95m0001085146-23-001416.txt\u001b[0m\n"
      ]
     },
     "metadata": {},
     "output_type": "display_data"
    },
    {
     "data": {
      "text/html": [
       "<pre style=\"white-space:pre;overflow-x:auto;line-height:normal;font-family:Menlo,'DejaVu Sans Mono',consolas,'Courier New',monospace\">files to parse: <span style=\"color: #008080; text-decoration-color: #008080; font-weight: bold\">271</span>\n",
       "</pre>\n"
      ],
      "text/plain": [
       "files to parse: \u001b[1;36m271\u001b[0m\n"
      ]
     },
     "metadata": {},
     "output_type": "display_data"
    },
    {
     "data": {
      "text/html": [
       "<pre style=\"white-space:pre;overflow-x:auto;line-height:normal;font-family:Menlo,'DejaVu Sans Mono',consolas,'Courier New',monospace\"><span style=\"color: #800080; text-decoration-color: #800080\">/Volumes/fanpc/app_data/sec_apps_data/speed_test/filings_13f_full/filings/1219314/</span><span style=\"color: #ff00ff; text-decoration-color: #ff00ff\">0001493152-23-004831.txt</span>\n",
       "</pre>\n"
      ],
      "text/plain": [
       "\u001b[35m/Volumes/fanpc/app_data/sec_apps_data/speed_test/filings_13f_full/filings/1219314/\u001b[0m\u001b[95m0001493152-23-004831.txt\u001b[0m\n"
      ]
     },
     "metadata": {},
     "output_type": "display_data"
    },
    {
     "data": {
      "text/html": [
       "<pre style=\"white-space:pre;overflow-x:auto;line-height:normal;font-family:Menlo,'DejaVu Sans Mono',consolas,'Courier New',monospace\">files to parse: <span style=\"color: #008080; text-decoration-color: #008080; font-weight: bold\">271</span>\n",
       "</pre>\n"
      ],
      "text/plain": [
       "files to parse: \u001b[1;36m271\u001b[0m\n"
      ]
     },
     "metadata": {},
     "output_type": "display_data"
    },
    {
     "data": {
      "text/html": [
       "<pre style=\"white-space:pre;overflow-x:auto;line-height:normal;font-family:Menlo,'DejaVu Sans Mono',consolas,'Courier New',monospace\"><span style=\"color: #800080; text-decoration-color: #800080\">/Volumes/fanpc/app_data/sec_apps_data/speed_test/filings_13f_full/filings/1242829/</span><span style=\"color: #ff00ff; text-decoration-color: #ff00ff\">0000897423-23-000013.txt</span>\n",
       "</pre>\n"
      ],
      "text/plain": [
       "\u001b[35m/Volumes/fanpc/app_data/sec_apps_data/speed_test/filings_13f_full/filings/1242829/\u001b[0m\u001b[95m0000897423-23-000013.txt\u001b[0m\n"
      ]
     },
     "metadata": {},
     "output_type": "display_data"
    },
    {
     "data": {
      "text/html": [
       "<pre style=\"white-space:pre;overflow-x:auto;line-height:normal;font-family:Menlo,'DejaVu Sans Mono',consolas,'Courier New',monospace\">files to parse: <span style=\"color: #008080; text-decoration-color: #008080; font-weight: bold\">271</span>\n",
       "</pre>\n"
      ],
      "text/plain": [
       "files to parse: \u001b[1;36m271\u001b[0m\n"
      ]
     },
     "metadata": {},
     "output_type": "display_data"
    },
    {
     "data": {
      "text/html": [
       "<pre style=\"white-space:pre;overflow-x:auto;line-height:normal;font-family:Menlo,'DejaVu Sans Mono',consolas,'Courier New',monospace\"><span style=\"color: #800080; text-decoration-color: #800080\">/Volumes/fanpc/app_data/sec_apps_data/speed_test/filings_13f_full/filings/1274981/</span><span style=\"color: #ff00ff; text-decoration-color: #ff00ff\">0001104659-23-025387.txt</span>\n",
       "</pre>\n"
      ],
      "text/plain": [
       "\u001b[35m/Volumes/fanpc/app_data/sec_apps_data/speed_test/filings_13f_full/filings/1274981/\u001b[0m\u001b[95m0001104659-23-025387.txt\u001b[0m\n"
      ]
     },
     "metadata": {},
     "output_type": "display_data"
    },
    {
     "data": {
      "text/html": [
       "<pre style=\"white-space:pre;overflow-x:auto;line-height:normal;font-family:Menlo,'DejaVu Sans Mono',consolas,'Courier New',monospace\">files to parse: <span style=\"color: #008080; text-decoration-color: #008080; font-weight: bold\">271</span>\n",
       "</pre>\n"
      ],
      "text/plain": [
       "files to parse: \u001b[1;36m271\u001b[0m\n"
      ]
     },
     "metadata": {},
     "output_type": "display_data"
    },
    {
     "data": {
      "text/html": [
       "<pre style=\"white-space:pre;overflow-x:auto;line-height:normal;font-family:Menlo,'DejaVu Sans Mono',consolas,'Courier New',monospace\"><span style=\"color: #800080; text-decoration-color: #800080\">/Volumes/fanpc/app_data/sec_apps_data/speed_test/filings_13f_full/filings/1276755/</span><span style=\"color: #ff00ff; text-decoration-color: #ff00ff\">0001420506-23-000737.txt</span>\n",
       "</pre>\n"
      ],
      "text/plain": [
       "\u001b[35m/Volumes/fanpc/app_data/sec_apps_data/speed_test/filings_13f_full/filings/1276755/\u001b[0m\u001b[95m0001420506-23-000737.txt\u001b[0m\n"
      ]
     },
     "metadata": {},
     "output_type": "display_data"
    },
    {
     "data": {
      "text/html": [
       "<pre style=\"white-space:pre;overflow-x:auto;line-height:normal;font-family:Menlo,'DejaVu Sans Mono',consolas,'Courier New',monospace\">files to parse: <span style=\"color: #008080; text-decoration-color: #008080; font-weight: bold\">271</span>\n",
       "</pre>\n"
      ],
      "text/plain": [
       "files to parse: \u001b[1;36m271\u001b[0m\n"
      ]
     },
     "metadata": {},
     "output_type": "display_data"
    },
    {
     "data": {
      "text/html": [
       "<pre style=\"white-space:pre;overflow-x:auto;line-height:normal;font-family:Menlo,'DejaVu Sans Mono',consolas,'Courier New',monospace\"><span style=\"color: #800080; text-decoration-color: #800080\">/Volumes/fanpc/app_data/sec_apps_data/speed_test/filings_13f_full/filings/1278960/</span><span style=\"color: #ff00ff; text-decoration-color: #ff00ff\">0001398344-23-005308.txt</span>\n",
       "</pre>\n"
      ],
      "text/plain": [
       "\u001b[35m/Volumes/fanpc/app_data/sec_apps_data/speed_test/filings_13f_full/filings/1278960/\u001b[0m\u001b[95m0001398344-23-005308.txt\u001b[0m\n"
      ]
     },
     "metadata": {},
     "output_type": "display_data"
    },
    {
     "data": {
      "text/html": [
       "<pre style=\"white-space:pre;overflow-x:auto;line-height:normal;font-family:Menlo,'DejaVu Sans Mono',consolas,'Courier New',monospace\">files to parse: <span style=\"color: #008080; text-decoration-color: #008080; font-weight: bold\">271</span>\n",
       "</pre>\n"
      ],
      "text/plain": [
       "files to parse: \u001b[1;36m271\u001b[0m\n"
      ]
     },
     "metadata": {},
     "output_type": "display_data"
    },
    {
     "data": {
      "text/html": [
       "<pre style=\"white-space:pre;overflow-x:auto;line-height:normal;font-family:Menlo,'DejaVu Sans Mono',consolas,'Courier New',monospace\"><span style=\"color: #800080; text-decoration-color: #800080\">/Volumes/fanpc/app_data/sec_apps_data/speed_test/filings_13f_full/filings/1343916/</span><span style=\"color: #ff00ff; text-decoration-color: #ff00ff\">0001343916-23-000001.txt</span>\n",
       "</pre>\n"
      ],
      "text/plain": [
       "\u001b[35m/Volumes/fanpc/app_data/sec_apps_data/speed_test/filings_13f_full/filings/1343916/\u001b[0m\u001b[95m0001343916-23-000001.txt\u001b[0m\n"
      ]
     },
     "metadata": {},
     "output_type": "display_data"
    },
    {
     "data": {
      "text/html": [
       "<pre style=\"white-space:pre;overflow-x:auto;line-height:normal;font-family:Menlo,'DejaVu Sans Mono',consolas,'Courier New',monospace\">files to parse: <span style=\"color: #008080; text-decoration-color: #008080; font-weight: bold\">271</span>\n",
       "</pre>\n"
      ],
      "text/plain": [
       "files to parse: \u001b[1;36m271\u001b[0m\n"
      ]
     },
     "metadata": {},
     "output_type": "display_data"
    },
    {
     "data": {
      "text/html": [
       "<pre style=\"white-space:pre;overflow-x:auto;line-height:normal;font-family:Menlo,'DejaVu Sans Mono',consolas,'Courier New',monospace\"><span style=\"color: #800080; text-decoration-color: #800080\">/Volumes/fanpc/app_data/sec_apps_data/speed_test/filings_13f_full/filings/1352871/</span><span style=\"color: #ff00ff; text-decoration-color: #ff00ff\">0001085146-23-001434.txt</span>\n",
       "</pre>\n"
      ],
      "text/plain": [
       "\u001b[35m/Volumes/fanpc/app_data/sec_apps_data/speed_test/filings_13f_full/filings/1352871/\u001b[0m\u001b[95m0001085146-23-001434.txt\u001b[0m\n"
      ]
     },
     "metadata": {},
     "output_type": "display_data"
    },
    {
     "data": {
      "text/html": [
       "<pre style=\"white-space:pre;overflow-x:auto;line-height:normal;font-family:Menlo,'DejaVu Sans Mono',consolas,'Courier New',monospace\">files to parse: <span style=\"color: #008080; text-decoration-color: #008080; font-weight: bold\">271</span>\n",
       "</pre>\n"
      ],
      "text/plain": [
       "files to parse: \u001b[1;36m271\u001b[0m\n"
      ]
     },
     "metadata": {},
     "output_type": "display_data"
    },
    {
     "data": {
      "text/html": [
       "<pre style=\"white-space:pre;overflow-x:auto;line-height:normal;font-family:Menlo,'DejaVu Sans Mono',consolas,'Courier New',monospace\"><span style=\"color: #800080; text-decoration-color: #800080\">/Volumes/fanpc/app_data/sec_apps_data/speed_test/filings_13f_full/filings/1353110/</span><span style=\"color: #ff00ff; text-decoration-color: #ff00ff\">0001062993-23-006053.txt</span>\n",
       "</pre>\n"
      ],
      "text/plain": [
       "\u001b[35m/Volumes/fanpc/app_data/sec_apps_data/speed_test/filings_13f_full/filings/1353110/\u001b[0m\u001b[95m0001062993-23-006053.txt\u001b[0m\n"
      ]
     },
     "metadata": {},
     "output_type": "display_data"
    },
    {
     "data": {
      "text/html": [
       "<pre style=\"white-space:pre;overflow-x:auto;line-height:normal;font-family:Menlo,'DejaVu Sans Mono',consolas,'Courier New',monospace\">files to parse: <span style=\"color: #008080; text-decoration-color: #008080; font-weight: bold\">271</span>\n",
       "</pre>\n"
      ],
      "text/plain": [
       "files to parse: \u001b[1;36m271\u001b[0m\n"
      ]
     },
     "metadata": {},
     "output_type": "display_data"
    },
    {
     "data": {
      "text/html": [
       "<pre style=\"white-space:pre;overflow-x:auto;line-height:normal;font-family:Menlo,'DejaVu Sans Mono',consolas,'Courier New',monospace\"><span style=\"color: #800080; text-decoration-color: #800080\">/Volumes/fanpc/app_data/sec_apps_data/speed_test/filings_13f_full/filings/1367787/</span><span style=\"color: #ff00ff; text-decoration-color: #ff00ff\">0000950123-23-002611.txt</span>\n",
       "</pre>\n"
      ],
      "text/plain": [
       "\u001b[35m/Volumes/fanpc/app_data/sec_apps_data/speed_test/filings_13f_full/filings/1367787/\u001b[0m\u001b[95m0000950123-23-002611.txt\u001b[0m\n"
      ]
     },
     "metadata": {},
     "output_type": "display_data"
    },
    {
     "data": {
      "text/html": [
       "<pre style=\"white-space:pre;overflow-x:auto;line-height:normal;font-family:Menlo,'DejaVu Sans Mono',consolas,'Courier New',monospace\">files to parse: <span style=\"color: #008080; text-decoration-color: #008080; font-weight: bold\">271</span>\n",
       "</pre>\n"
      ],
      "text/plain": [
       "files to parse: \u001b[1;36m271\u001b[0m\n"
      ]
     },
     "metadata": {},
     "output_type": "display_data"
    },
    {
     "data": {
      "text/html": [
       "<pre style=\"white-space:pre;overflow-x:auto;line-height:normal;font-family:Menlo,'DejaVu Sans Mono',consolas,'Courier New',monospace\"><span style=\"color: #800080; text-decoration-color: #800080\">/Volumes/fanpc/app_data/sec_apps_data/speed_test/filings_13f_full/filings/1385864/</span><span style=\"color: #ff00ff; text-decoration-color: #ff00ff\">0001085146-23-000105.txt</span>\n",
       "</pre>\n"
      ],
      "text/plain": [
       "\u001b[35m/Volumes/fanpc/app_data/sec_apps_data/speed_test/filings_13f_full/filings/1385864/\u001b[0m\u001b[95m0001085146-23-000105.txt\u001b[0m\n"
      ]
     },
     "metadata": {},
     "output_type": "display_data"
    },
    {
     "data": {
      "text/html": [
       "<pre style=\"white-space:pre;overflow-x:auto;line-height:normal;font-family:Menlo,'DejaVu Sans Mono',consolas,'Courier New',monospace\">files to parse: <span style=\"color: #008080; text-decoration-color: #008080; font-weight: bold\">271</span>\n",
       "</pre>\n"
      ],
      "text/plain": [
       "files to parse: \u001b[1;36m271\u001b[0m\n"
      ]
     },
     "metadata": {},
     "output_type": "display_data"
    },
    {
     "data": {
      "text/html": [
       "<pre style=\"white-space:pre;overflow-x:auto;line-height:normal;font-family:Menlo,'DejaVu Sans Mono',consolas,'Courier New',monospace\"><span style=\"color: #800080; text-decoration-color: #800080\">/Volumes/fanpc/app_data/sec_apps_data/speed_test/filings_13f_full/filings/1389479/</span><span style=\"color: #ff00ff; text-decoration-color: #ff00ff\">0001085146-23-001127.txt</span>\n",
       "</pre>\n"
      ],
      "text/plain": [
       "\u001b[35m/Volumes/fanpc/app_data/sec_apps_data/speed_test/filings_13f_full/filings/1389479/\u001b[0m\u001b[95m0001085146-23-001127.txt\u001b[0m\n"
      ]
     },
     "metadata": {},
     "output_type": "display_data"
    },
    {
     "data": {
      "text/html": [
       "<pre style=\"white-space:pre;overflow-x:auto;line-height:normal;font-family:Menlo,'DejaVu Sans Mono',consolas,'Courier New',monospace\">files to parse: <span style=\"color: #008080; text-decoration-color: #008080; font-weight: bold\">271</span>\n",
       "</pre>\n"
      ],
      "text/plain": [
       "files to parse: \u001b[1;36m271\u001b[0m\n"
      ]
     },
     "metadata": {},
     "output_type": "display_data"
    },
    {
     "data": {
      "text/html": [
       "<pre style=\"white-space:pre;overflow-x:auto;line-height:normal;font-family:Menlo,'DejaVu Sans Mono',consolas,'Courier New',monospace\"><span style=\"color: #800080; text-decoration-color: #800080\">/Volumes/fanpc/app_data/sec_apps_data/speed_test/filings_13f_full/filings/1399518/</span><span style=\"color: #ff00ff; text-decoration-color: #ff00ff\">0001140361-23-001581.txt</span>\n",
       "</pre>\n"
      ],
      "text/plain": [
       "\u001b[35m/Volumes/fanpc/app_data/sec_apps_data/speed_test/filings_13f_full/filings/1399518/\u001b[0m\u001b[95m0001140361-23-001581.txt\u001b[0m\n"
      ]
     },
     "metadata": {},
     "output_type": "display_data"
    },
    {
     "data": {
      "text/html": [
       "<pre style=\"white-space:pre;overflow-x:auto;line-height:normal;font-family:Menlo,'DejaVu Sans Mono',consolas,'Courier New',monospace\">files to parse: <span style=\"color: #008080; text-decoration-color: #008080; font-weight: bold\">271</span>\n",
       "</pre>\n"
      ],
      "text/plain": [
       "files to parse: \u001b[1;36m271\u001b[0m\n"
      ]
     },
     "metadata": {},
     "output_type": "display_data"
    },
    {
     "data": {
      "text/html": [
       "<pre style=\"white-space:pre;overflow-x:auto;line-height:normal;font-family:Menlo,'DejaVu Sans Mono',consolas,'Courier New',monospace\"><span style=\"color: #800080; text-decoration-color: #800080\">/Volumes/fanpc/app_data/sec_apps_data/speed_test/filings_13f_full/filings/1405555/</span><span style=\"color: #ff00ff; text-decoration-color: #ff00ff\">0001405555-23-000001.txt</span>\n",
       "</pre>\n"
      ],
      "text/plain": [
       "\u001b[35m/Volumes/fanpc/app_data/sec_apps_data/speed_test/filings_13f_full/filings/1405555/\u001b[0m\u001b[95m0001405555-23-000001.txt\u001b[0m\n"
      ]
     },
     "metadata": {},
     "output_type": "display_data"
    },
    {
     "data": {
      "text/html": [
       "<pre style=\"white-space:pre;overflow-x:auto;line-height:normal;font-family:Menlo,'DejaVu Sans Mono',consolas,'Courier New',monospace\">files to parse: <span style=\"color: #008080; text-decoration-color: #008080; font-weight: bold\">271</span>\n",
       "</pre>\n"
      ],
      "text/plain": [
       "files to parse: \u001b[1;36m271\u001b[0m\n"
      ]
     },
     "metadata": {},
     "output_type": "display_data"
    },
    {
     "data": {
      "text/html": [
       "<pre style=\"white-space:pre;overflow-x:auto;line-height:normal;font-family:Menlo,'DejaVu Sans Mono',consolas,'Courier New',monospace\"><span style=\"color: #800080; text-decoration-color: #800080\">/Volumes/fanpc/app_data/sec_apps_data/speed_test/filings_13f_full/filings/1406313/</span><span style=\"color: #ff00ff; text-decoration-color: #ff00ff\">0001172661-23-001508.txt</span>\n",
       "</pre>\n"
      ],
      "text/plain": [
       "\u001b[35m/Volumes/fanpc/app_data/sec_apps_data/speed_test/filings_13f_full/filings/1406313/\u001b[0m\u001b[95m0001172661-23-001508.txt\u001b[0m\n"
      ]
     },
     "metadata": {},
     "output_type": "display_data"
    },
    {
     "data": {
      "text/html": [
       "<pre style=\"white-space:pre;overflow-x:auto;line-height:normal;font-family:Menlo,'DejaVu Sans Mono',consolas,'Courier New',monospace\">files to parse: <span style=\"color: #008080; text-decoration-color: #008080; font-weight: bold\">271</span>\n",
       "</pre>\n"
      ],
      "text/plain": [
       "files to parse: \u001b[1;36m271\u001b[0m\n"
      ]
     },
     "metadata": {},
     "output_type": "display_data"
    },
    {
     "data": {
      "text/html": [
       "<pre style=\"white-space:pre;overflow-x:auto;line-height:normal;font-family:Menlo,'DejaVu Sans Mono',consolas,'Courier New',monospace\"><span style=\"color: #800080; text-decoration-color: #800080\">/Volumes/fanpc/app_data/sec_apps_data/speed_test/filings_13f_full/filings/1406718/</span><span style=\"color: #ff00ff; text-decoration-color: #ff00ff\">0001085146-23-001399.txt</span>\n",
       "</pre>\n"
      ],
      "text/plain": [
       "\u001b[35m/Volumes/fanpc/app_data/sec_apps_data/speed_test/filings_13f_full/filings/1406718/\u001b[0m\u001b[95m0001085146-23-001399.txt\u001b[0m\n"
      ]
     },
     "metadata": {},
     "output_type": "display_data"
    },
    {
     "data": {
      "text/html": [
       "<pre style=\"white-space:pre;overflow-x:auto;line-height:normal;font-family:Menlo,'DejaVu Sans Mono',consolas,'Courier New',monospace\">files to parse: <span style=\"color: #008080; text-decoration-color: #008080; font-weight: bold\">271</span>\n",
       "</pre>\n"
      ],
      "text/plain": [
       "files to parse: \u001b[1;36m271\u001b[0m\n"
      ]
     },
     "metadata": {},
     "output_type": "display_data"
    },
    {
     "data": {
      "text/html": [
       "<pre style=\"white-space:pre;overflow-x:auto;line-height:normal;font-family:Menlo,'DejaVu Sans Mono',consolas,'Courier New',monospace\"><span style=\"color: #800080; text-decoration-color: #800080\">/Volumes/fanpc/app_data/sec_apps_data/speed_test/filings_13f_full/filings/1407024/</span><span style=\"color: #ff00ff; text-decoration-color: #ff00ff\">0001567619-23-002887.txt</span>\n",
       "</pre>\n"
      ],
      "text/plain": [
       "\u001b[35m/Volumes/fanpc/app_data/sec_apps_data/speed_test/filings_13f_full/filings/1407024/\u001b[0m\u001b[95m0001567619-23-002887.txt\u001b[0m\n"
      ]
     },
     "metadata": {},
     "output_type": "display_data"
    },
    {
     "data": {
      "text/html": [
       "<pre style=\"white-space:pre;overflow-x:auto;line-height:normal;font-family:Menlo,'DejaVu Sans Mono',consolas,'Courier New',monospace\">files to parse: <span style=\"color: #008080; text-decoration-color: #008080; font-weight: bold\">271</span>\n",
       "</pre>\n"
      ],
      "text/plain": [
       "files to parse: \u001b[1;36m271\u001b[0m\n"
      ]
     },
     "metadata": {},
     "output_type": "display_data"
    },
    {
     "data": {
      "text/html": [
       "<pre style=\"white-space:pre;overflow-x:auto;line-height:normal;font-family:Menlo,'DejaVu Sans Mono',consolas,'Courier New',monospace\"><span style=\"color: #800080; text-decoration-color: #800080\">/Volumes/fanpc/app_data/sec_apps_data/speed_test/filings_13f_full/filings/1418333/</span><span style=\"color: #ff00ff; text-decoration-color: #ff00ff\">0000950123-23-002841.txt</span>\n",
       "</pre>\n"
      ],
      "text/plain": [
       "\u001b[35m/Volumes/fanpc/app_data/sec_apps_data/speed_test/filings_13f_full/filings/1418333/\u001b[0m\u001b[95m0000950123-23-002841.txt\u001b[0m\n"
      ]
     },
     "metadata": {},
     "output_type": "display_data"
    },
    {
     "data": {
      "text/html": [
       "<pre style=\"white-space:pre;overflow-x:auto;line-height:normal;font-family:Menlo,'DejaVu Sans Mono',consolas,'Courier New',monospace\">files to parse: <span style=\"color: #008080; text-decoration-color: #008080; font-weight: bold\">271</span>\n",
       "</pre>\n"
      ],
      "text/plain": [
       "files to parse: \u001b[1;36m271\u001b[0m\n"
      ]
     },
     "metadata": {},
     "output_type": "display_data"
    },
    {
     "data": {
      "text/html": [
       "<pre style=\"white-space:pre;overflow-x:auto;line-height:normal;font-family:Menlo,'DejaVu Sans Mono',consolas,'Courier New',monospace\"><span style=\"color: #800080; text-decoration-color: #800080\">/Volumes/fanpc/app_data/sec_apps_data/speed_test/filings_13f_full/filings/1451531/</span><span style=\"color: #ff00ff; text-decoration-color: #ff00ff\">0001451531-23-000001.txt</span>\n",
       "</pre>\n"
      ],
      "text/plain": [
       "\u001b[35m/Volumes/fanpc/app_data/sec_apps_data/speed_test/filings_13f_full/filings/1451531/\u001b[0m\u001b[95m0001451531-23-000001.txt\u001b[0m\n"
      ]
     },
     "metadata": {},
     "output_type": "display_data"
    },
    {
     "data": {
      "text/html": [
       "<pre style=\"white-space:pre;overflow-x:auto;line-height:normal;font-family:Menlo,'DejaVu Sans Mono',consolas,'Courier New',monospace\">files to parse: <span style=\"color: #008080; text-decoration-color: #008080; font-weight: bold\">271</span>\n",
       "</pre>\n"
      ],
      "text/plain": [
       "files to parse: \u001b[1;36m271\u001b[0m\n"
      ]
     },
     "metadata": {},
     "output_type": "display_data"
    },
    {
     "data": {
      "text/html": [
       "<pre style=\"white-space:pre;overflow-x:auto;line-height:normal;font-family:Menlo,'DejaVu Sans Mono',consolas,'Courier New',monospace\"><span style=\"color: #800080; text-decoration-color: #800080\">/Volumes/fanpc/app_data/sec_apps_data/speed_test/filings_13f_full/filings/1454423/</span><span style=\"color: #ff00ff; text-decoration-color: #ff00ff\">0001085146-23-000577.txt</span>\n",
       "</pre>\n"
      ],
      "text/plain": [
       "\u001b[35m/Volumes/fanpc/app_data/sec_apps_data/speed_test/filings_13f_full/filings/1454423/\u001b[0m\u001b[95m0001085146-23-000577.txt\u001b[0m\n"
      ]
     },
     "metadata": {},
     "output_type": "display_data"
    },
    {
     "data": {
      "text/html": [
       "<pre style=\"white-space:pre;overflow-x:auto;line-height:normal;font-family:Menlo,'DejaVu Sans Mono',consolas,'Courier New',monospace\">files to parse: <span style=\"color: #008080; text-decoration-color: #008080; font-weight: bold\">271</span>\n",
       "</pre>\n"
      ],
      "text/plain": [
       "files to parse: \u001b[1;36m271\u001b[0m\n"
      ]
     },
     "metadata": {},
     "output_type": "display_data"
    },
    {
     "data": {
      "text/html": [
       "<pre style=\"white-space:pre;overflow-x:auto;line-height:normal;font-family:Menlo,'DejaVu Sans Mono',consolas,'Courier New',monospace\"><span style=\"color: #800080; text-decoration-color: #800080\">/Volumes/fanpc/app_data/sec_apps_data/speed_test/filings_13f_full/filings/1455915/</span><span style=\"color: #ff00ff; text-decoration-color: #ff00ff\">0001455915-23-000002.txt</span>\n",
       "</pre>\n"
      ],
      "text/plain": [
       "\u001b[35m/Volumes/fanpc/app_data/sec_apps_data/speed_test/filings_13f_full/filings/1455915/\u001b[0m\u001b[95m0001455915-23-000002.txt\u001b[0m\n"
      ]
     },
     "metadata": {},
     "output_type": "display_data"
    },
    {
     "data": {
      "text/html": [
       "<pre style=\"white-space:pre;overflow-x:auto;line-height:normal;font-family:Menlo,'DejaVu Sans Mono',consolas,'Courier New',monospace\">files to parse: <span style=\"color: #008080; text-decoration-color: #008080; font-weight: bold\">271</span>\n",
       "</pre>\n"
      ],
      "text/plain": [
       "files to parse: \u001b[1;36m271\u001b[0m\n"
      ]
     },
     "metadata": {},
     "output_type": "display_data"
    },
    {
     "data": {
      "text/html": [
       "<pre style=\"white-space:pre;overflow-x:auto;line-height:normal;font-family:Menlo,'DejaVu Sans Mono',consolas,'Courier New',monospace\"><span style=\"color: #800080; text-decoration-color: #800080\">/Volumes/fanpc/app_data/sec_apps_data/speed_test/filings_13f_full/filings/1462014/</span><span style=\"color: #ff00ff; text-decoration-color: #ff00ff\">0000950142-23-000719.txt</span>\n",
       "</pre>\n"
      ],
      "text/plain": [
       "\u001b[35m/Volumes/fanpc/app_data/sec_apps_data/speed_test/filings_13f_full/filings/1462014/\u001b[0m\u001b[95m0000950142-23-000719.txt\u001b[0m\n"
      ]
     },
     "metadata": {},
     "output_type": "display_data"
    },
    {
     "data": {
      "text/html": [
       "<pre style=\"white-space:pre;overflow-x:auto;line-height:normal;font-family:Menlo,'DejaVu Sans Mono',consolas,'Courier New',monospace\">files to parse: <span style=\"color: #008080; text-decoration-color: #008080; font-weight: bold\">271</span>\n",
       "</pre>\n"
      ],
      "text/plain": [
       "files to parse: \u001b[1;36m271\u001b[0m\n"
      ]
     },
     "metadata": {},
     "output_type": "display_data"
    },
    {
     "data": {
      "text/html": [
       "<pre style=\"white-space:pre;overflow-x:auto;line-height:normal;font-family:Menlo,'DejaVu Sans Mono',consolas,'Courier New',monospace\"><span style=\"color: #800080; text-decoration-color: #800080\">/Volumes/fanpc/app_data/sec_apps_data/speed_test/filings_13f_full/filings/1462014/</span><span style=\"color: #ff00ff; text-decoration-color: #ff00ff\">0000950142-23-000720.txt</span>\n",
       "</pre>\n"
      ],
      "text/plain": [
       "\u001b[35m/Volumes/fanpc/app_data/sec_apps_data/speed_test/filings_13f_full/filings/1462014/\u001b[0m\u001b[95m0000950142-23-000720.txt\u001b[0m\n"
      ]
     },
     "metadata": {},
     "output_type": "display_data"
    },
    {
     "data": {
      "text/html": [
       "<pre style=\"white-space:pre;overflow-x:auto;line-height:normal;font-family:Menlo,'DejaVu Sans Mono',consolas,'Courier New',monospace\">files to parse: <span style=\"color: #008080; text-decoration-color: #008080; font-weight: bold\">271</span>\n",
       "</pre>\n"
      ],
      "text/plain": [
       "files to parse: \u001b[1;36m271\u001b[0m\n"
      ]
     },
     "metadata": {},
     "output_type": "display_data"
    },
    {
     "data": {
      "text/html": [
       "<pre style=\"white-space:pre;overflow-x:auto;line-height:normal;font-family:Menlo,'DejaVu Sans Mono',consolas,'Courier New',monospace\"><span style=\"color: #800080; text-decoration-color: #800080\">/Volumes/fanpc/app_data/sec_apps_data/speed_test/filings_13f_full/filings/1462014/</span><span style=\"color: #ff00ff; text-decoration-color: #ff00ff\">0000950142-23-000721.txt</span>\n",
       "</pre>\n"
      ],
      "text/plain": [
       "\u001b[35m/Volumes/fanpc/app_data/sec_apps_data/speed_test/filings_13f_full/filings/1462014/\u001b[0m\u001b[95m0000950142-23-000721.txt\u001b[0m\n"
      ]
     },
     "metadata": {},
     "output_type": "display_data"
    },
    {
     "data": {
      "text/html": [
       "<pre style=\"white-space:pre;overflow-x:auto;line-height:normal;font-family:Menlo,'DejaVu Sans Mono',consolas,'Courier New',monospace\">files to parse: <span style=\"color: #008080; text-decoration-color: #008080; font-weight: bold\">271</span>\n",
       "</pre>\n"
      ],
      "text/plain": [
       "files to parse: \u001b[1;36m271\u001b[0m\n"
      ]
     },
     "metadata": {},
     "output_type": "display_data"
    },
    {
     "data": {
      "text/html": [
       "<pre style=\"white-space:pre;overflow-x:auto;line-height:normal;font-family:Menlo,'DejaVu Sans Mono',consolas,'Courier New',monospace\"><span style=\"color: #800080; text-decoration-color: #800080\">/Volumes/fanpc/app_data/sec_apps_data/speed_test/filings_13f_full/filings/1462014/</span><span style=\"color: #ff00ff; text-decoration-color: #ff00ff\">0000950142-23-000722.txt</span>\n",
       "</pre>\n"
      ],
      "text/plain": [
       "\u001b[35m/Volumes/fanpc/app_data/sec_apps_data/speed_test/filings_13f_full/filings/1462014/\u001b[0m\u001b[95m0000950142-23-000722.txt\u001b[0m\n"
      ]
     },
     "metadata": {},
     "output_type": "display_data"
    },
    {
     "data": {
      "text/html": [
       "<pre style=\"white-space:pre;overflow-x:auto;line-height:normal;font-family:Menlo,'DejaVu Sans Mono',consolas,'Courier New',monospace\">files to parse: <span style=\"color: #008080; text-decoration-color: #008080; font-weight: bold\">271</span>\n",
       "</pre>\n"
      ],
      "text/plain": [
       "files to parse: \u001b[1;36m271\u001b[0m\n"
      ]
     },
     "metadata": {},
     "output_type": "display_data"
    },
    {
     "data": {
      "text/html": [
       "<pre style=\"white-space:pre;overflow-x:auto;line-height:normal;font-family:Menlo,'DejaVu Sans Mono',consolas,'Courier New',monospace\"><span style=\"color: #800080; text-decoration-color: #800080\">/Volumes/fanpc/app_data/sec_apps_data/speed_test/filings_13f_full/filings/1464790/</span><span style=\"color: #ff00ff; text-decoration-color: #ff00ff\">0001213900-23-016251.txt</span>\n",
       "</pre>\n"
      ],
      "text/plain": [
       "\u001b[35m/Volumes/fanpc/app_data/sec_apps_data/speed_test/filings_13f_full/filings/1464790/\u001b[0m\u001b[95m0001213900-23-016251.txt\u001b[0m\n"
      ]
     },
     "metadata": {},
     "output_type": "display_data"
    },
    {
     "data": {
      "text/html": [
       "<pre style=\"white-space:pre;overflow-x:auto;line-height:normal;font-family:Menlo,'DejaVu Sans Mono',consolas,'Courier New',monospace\">files to parse: <span style=\"color: #008080; text-decoration-color: #008080; font-weight: bold\">271</span>\n",
       "</pre>\n"
      ],
      "text/plain": [
       "files to parse: \u001b[1;36m271\u001b[0m\n"
      ]
     },
     "metadata": {},
     "output_type": "display_data"
    },
    {
     "data": {
      "text/html": [
       "<pre style=\"white-space:pre;overflow-x:auto;line-height:normal;font-family:Menlo,'DejaVu Sans Mono',consolas,'Courier New',monospace\"><span style=\"color: #800080; text-decoration-color: #800080\">/Volumes/fanpc/app_data/sec_apps_data/speed_test/filings_13f_full/filings/1464811/</span><span style=\"color: #ff00ff; text-decoration-color: #ff00ff\">0001213900-23-013110.txt</span>\n",
       "</pre>\n"
      ],
      "text/plain": [
       "\u001b[35m/Volumes/fanpc/app_data/sec_apps_data/speed_test/filings_13f_full/filings/1464811/\u001b[0m\u001b[95m0001213900-23-013110.txt\u001b[0m\n"
      ]
     },
     "metadata": {},
     "output_type": "display_data"
    },
    {
     "data": {
      "text/html": [
       "<pre style=\"white-space:pre;overflow-x:auto;line-height:normal;font-family:Menlo,'DejaVu Sans Mono',consolas,'Courier New',monospace\">files to parse: <span style=\"color: #008080; text-decoration-color: #008080; font-weight: bold\">271</span>\n",
       "</pre>\n"
      ],
      "text/plain": [
       "files to parse: \u001b[1;36m271\u001b[0m\n"
      ]
     },
     "metadata": {},
     "output_type": "display_data"
    },
    {
     "data": {
      "text/html": [
       "<pre style=\"white-space:pre;overflow-x:auto;line-height:normal;font-family:Menlo,'DejaVu Sans Mono',consolas,'Courier New',monospace\"><span style=\"color: #800080; text-decoration-color: #800080\">/Volumes/fanpc/app_data/sec_apps_data/speed_test/filings_13f_full/filings/1464811/</span><span style=\"color: #ff00ff; text-decoration-color: #ff00ff\">0001213900-23-020216.txt</span>\n",
       "</pre>\n"
      ],
      "text/plain": [
       "\u001b[35m/Volumes/fanpc/app_data/sec_apps_data/speed_test/filings_13f_full/filings/1464811/\u001b[0m\u001b[95m0001213900-23-020216.txt\u001b[0m\n"
      ]
     },
     "metadata": {},
     "output_type": "display_data"
    },
    {
     "data": {
      "text/html": [
       "<pre style=\"white-space:pre;overflow-x:auto;line-height:normal;font-family:Menlo,'DejaVu Sans Mono',consolas,'Courier New',monospace\">files to parse: <span style=\"color: #008080; text-decoration-color: #008080; font-weight: bold\">271</span>\n",
       "</pre>\n"
      ],
      "text/plain": [
       "files to parse: \u001b[1;36m271\u001b[0m\n"
      ]
     },
     "metadata": {},
     "output_type": "display_data"
    },
    {
     "data": {
      "text/html": [
       "<pre style=\"white-space:pre;overflow-x:auto;line-height:normal;font-family:Menlo,'DejaVu Sans Mono',consolas,'Courier New',monospace\"><span style=\"color: #800080; text-decoration-color: #800080\">/Volumes/fanpc/app_data/sec_apps_data/speed_test/filings_13f_full/filings/1469751/</span><span style=\"color: #ff00ff; text-decoration-color: #ff00ff\">0001469751-23-000003.txt</span>\n",
       "</pre>\n"
      ],
      "text/plain": [
       "\u001b[35m/Volumes/fanpc/app_data/sec_apps_data/speed_test/filings_13f_full/filings/1469751/\u001b[0m\u001b[95m0001469751-23-000003.txt\u001b[0m\n"
      ]
     },
     "metadata": {},
     "output_type": "display_data"
    },
    {
     "data": {
      "text/html": [
       "<pre style=\"white-space:pre;overflow-x:auto;line-height:normal;font-family:Menlo,'DejaVu Sans Mono',consolas,'Courier New',monospace\">files to parse: <span style=\"color: #008080; text-decoration-color: #008080; font-weight: bold\">271</span>\n",
       "</pre>\n"
      ],
      "text/plain": [
       "files to parse: \u001b[1;36m271\u001b[0m\n"
      ]
     },
     "metadata": {},
     "output_type": "display_data"
    },
    {
     "data": {
      "text/html": [
       "<pre style=\"white-space:pre;overflow-x:auto;line-height:normal;font-family:Menlo,'DejaVu Sans Mono',consolas,'Courier New',monospace\"><span style=\"color: #800080; text-decoration-color: #800080\">/Volumes/fanpc/app_data/sec_apps_data/speed_test/filings_13f_full/filings/1476993/</span><span style=\"color: #ff00ff; text-decoration-color: #ff00ff\">0001398344-23-005679.txt</span>\n",
       "</pre>\n"
      ],
      "text/plain": [
       "\u001b[35m/Volumes/fanpc/app_data/sec_apps_data/speed_test/filings_13f_full/filings/1476993/\u001b[0m\u001b[95m0001398344-23-005679.txt\u001b[0m\n"
      ]
     },
     "metadata": {},
     "output_type": "display_data"
    },
    {
     "data": {
      "text/html": [
       "<pre style=\"white-space:pre;overflow-x:auto;line-height:normal;font-family:Menlo,'DejaVu Sans Mono',consolas,'Courier New',monospace\">files to parse: <span style=\"color: #008080; text-decoration-color: #008080; font-weight: bold\">271</span>\n",
       "</pre>\n"
      ],
      "text/plain": [
       "files to parse: \u001b[1;36m271\u001b[0m\n"
      ]
     },
     "metadata": {},
     "output_type": "display_data"
    },
    {
     "data": {
      "text/html": [
       "<pre style=\"white-space:pre;overflow-x:auto;line-height:normal;font-family:Menlo,'DejaVu Sans Mono',consolas,'Courier New',monospace\"><span style=\"color: #800080; text-decoration-color: #800080\">/Volumes/fanpc/app_data/sec_apps_data/speed_test/filings_13f_full/filings/1479847/</span><span style=\"color: #ff00ff; text-decoration-color: #ff00ff\">0001062993-23-003457.txt</span>\n",
       "</pre>\n"
      ],
      "text/plain": [
       "\u001b[35m/Volumes/fanpc/app_data/sec_apps_data/speed_test/filings_13f_full/filings/1479847/\u001b[0m\u001b[95m0001062993-23-003457.txt\u001b[0m\n"
      ]
     },
     "metadata": {},
     "output_type": "display_data"
    },
    {
     "data": {
      "text/html": [
       "<pre style=\"white-space:pre;overflow-x:auto;line-height:normal;font-family:Menlo,'DejaVu Sans Mono',consolas,'Courier New',monospace\">files to parse: <span style=\"color: #008080; text-decoration-color: #008080; font-weight: bold\">271</span>\n",
       "</pre>\n"
      ],
      "text/plain": [
       "files to parse: \u001b[1;36m271\u001b[0m\n"
      ]
     },
     "metadata": {},
     "output_type": "display_data"
    },
    {
     "data": {
      "text/html": [
       "<pre style=\"white-space:pre;overflow-x:auto;line-height:normal;font-family:Menlo,'DejaVu Sans Mono',consolas,'Courier New',monospace\"><span style=\"color: #800080; text-decoration-color: #800080\">/Volumes/fanpc/app_data/sec_apps_data/speed_test/filings_13f_full/filings/1481957/</span><span style=\"color: #ff00ff; text-decoration-color: #ff00ff\">0001140361-23-006355.txt</span>\n",
       "</pre>\n"
      ],
      "text/plain": [
       "\u001b[35m/Volumes/fanpc/app_data/sec_apps_data/speed_test/filings_13f_full/filings/1481957/\u001b[0m\u001b[95m0001140361-23-006355.txt\u001b[0m\n"
      ]
     },
     "metadata": {},
     "output_type": "display_data"
    },
    {
     "data": {
      "text/html": [
       "<pre style=\"white-space:pre;overflow-x:auto;line-height:normal;font-family:Menlo,'DejaVu Sans Mono',consolas,'Courier New',monospace\">files to parse: <span style=\"color: #008080; text-decoration-color: #008080; font-weight: bold\">271</span>\n",
       "</pre>\n"
      ],
      "text/plain": [
       "files to parse: \u001b[1;36m271\u001b[0m\n"
      ]
     },
     "metadata": {},
     "output_type": "display_data"
    },
    {
     "data": {
      "text/html": [
       "<pre style=\"white-space:pre;overflow-x:auto;line-height:normal;font-family:Menlo,'DejaVu Sans Mono',consolas,'Courier New',monospace\"><span style=\"color: #800080; text-decoration-color: #800080\">/Volumes/fanpc/app_data/sec_apps_data/speed_test/filings_13f_full/filings/1491126/</span><span style=\"color: #ff00ff; text-decoration-color: #ff00ff\">0000919574-23-001076.txt</span>\n",
       "</pre>\n"
      ],
      "text/plain": [
       "\u001b[35m/Volumes/fanpc/app_data/sec_apps_data/speed_test/filings_13f_full/filings/1491126/\u001b[0m\u001b[95m0000919574-23-001076.txt\u001b[0m\n"
      ]
     },
     "metadata": {},
     "output_type": "display_data"
    },
    {
     "data": {
      "text/html": [
       "<pre style=\"white-space:pre;overflow-x:auto;line-height:normal;font-family:Menlo,'DejaVu Sans Mono',consolas,'Courier New',monospace\">files to parse: <span style=\"color: #008080; text-decoration-color: #008080; font-weight: bold\">271</span>\n",
       "</pre>\n"
      ],
      "text/plain": [
       "files to parse: \u001b[1;36m271\u001b[0m\n"
      ]
     },
     "metadata": {},
     "output_type": "display_data"
    },
    {
     "data": {
      "text/html": [
       "<pre style=\"white-space:pre;overflow-x:auto;line-height:normal;font-family:Menlo,'DejaVu Sans Mono',consolas,'Courier New',monospace\"><span style=\"color: #800080; text-decoration-color: #800080\">/Volumes/fanpc/app_data/sec_apps_data/speed_test/filings_13f_full/filings/1504918/</span><span style=\"color: #ff00ff; text-decoration-color: #ff00ff\">0000950123-23-001441.txt</span>\n",
       "</pre>\n"
      ],
      "text/plain": [
       "\u001b[35m/Volumes/fanpc/app_data/sec_apps_data/speed_test/filings_13f_full/filings/1504918/\u001b[0m\u001b[95m0000950123-23-001441.txt\u001b[0m\n"
      ]
     },
     "metadata": {},
     "output_type": "display_data"
    },
    {
     "data": {
      "text/html": [
       "<pre style=\"white-space:pre;overflow-x:auto;line-height:normal;font-family:Menlo,'DejaVu Sans Mono',consolas,'Courier New',monospace\">files to parse: <span style=\"color: #008080; text-decoration-color: #008080; font-weight: bold\">271</span>\n",
       "</pre>\n"
      ],
      "text/plain": [
       "files to parse: \u001b[1;36m271\u001b[0m\n"
      ]
     },
     "metadata": {},
     "output_type": "display_data"
    },
    {
     "data": {
      "text/html": [
       "<pre style=\"white-space:pre;overflow-x:auto;line-height:normal;font-family:Menlo,'DejaVu Sans Mono',consolas,'Courier New',monospace\"><span style=\"color: #800080; text-decoration-color: #800080\">/Volumes/fanpc/app_data/sec_apps_data/speed_test/filings_13f_full/filings/1510769/</span><span style=\"color: #ff00ff; text-decoration-color: #ff00ff\">0001085146-23-000115.txt</span>\n",
       "</pre>\n"
      ],
      "text/plain": [
       "\u001b[35m/Volumes/fanpc/app_data/sec_apps_data/speed_test/filings_13f_full/filings/1510769/\u001b[0m\u001b[95m0001085146-23-000115.txt\u001b[0m\n"
      ]
     },
     "metadata": {},
     "output_type": "display_data"
    },
    {
     "data": {
      "text/html": [
       "<pre style=\"white-space:pre;overflow-x:auto;line-height:normal;font-family:Menlo,'DejaVu Sans Mono',consolas,'Courier New',monospace\">files to parse: <span style=\"color: #008080; text-decoration-color: #008080; font-weight: bold\">271</span>\n",
       "</pre>\n"
      ],
      "text/plain": [
       "files to parse: \u001b[1;36m271\u001b[0m\n"
      ]
     },
     "metadata": {},
     "output_type": "display_data"
    },
    {
     "data": {
      "text/html": [
       "<pre style=\"white-space:pre;overflow-x:auto;line-height:normal;font-family:Menlo,'DejaVu Sans Mono',consolas,'Courier New',monospace\"><span style=\"color: #800080; text-decoration-color: #800080\">/Volumes/fanpc/app_data/sec_apps_data/speed_test/filings_13f_full/filings/1511989/</span><span style=\"color: #ff00ff; text-decoration-color: #ff00ff\">0001493152-23-004817.txt</span>\n",
       "</pre>\n"
      ],
      "text/plain": [
       "\u001b[35m/Volumes/fanpc/app_data/sec_apps_data/speed_test/filings_13f_full/filings/1511989/\u001b[0m\u001b[95m0001493152-23-004817.txt\u001b[0m\n"
      ]
     },
     "metadata": {},
     "output_type": "display_data"
    },
    {
     "data": {
      "text/html": [
       "<pre style=\"white-space:pre;overflow-x:auto;line-height:normal;font-family:Menlo,'DejaVu Sans Mono',consolas,'Courier New',monospace\">files to parse: <span style=\"color: #008080; text-decoration-color: #008080; font-weight: bold\">271</span>\n",
       "</pre>\n"
      ],
      "text/plain": [
       "files to parse: \u001b[1;36m271\u001b[0m\n"
      ]
     },
     "metadata": {},
     "output_type": "display_data"
    },
    {
     "data": {
      "text/html": [
       "<pre style=\"white-space:pre;overflow-x:auto;line-height:normal;font-family:Menlo,'DejaVu Sans Mono',consolas,'Courier New',monospace\"><span style=\"color: #800080; text-decoration-color: #800080\">/Volumes/fanpc/app_data/sec_apps_data/speed_test/filings_13f_full/filings/1513030/</span><span style=\"color: #ff00ff; text-decoration-color: #ff00ff\">0001104659-23-021022.txt</span>\n",
       "</pre>\n"
      ],
      "text/plain": [
       "\u001b[35m/Volumes/fanpc/app_data/sec_apps_data/speed_test/filings_13f_full/filings/1513030/\u001b[0m\u001b[95m0001104659-23-021022.txt\u001b[0m\n"
      ]
     },
     "metadata": {},
     "output_type": "display_data"
    },
    {
     "data": {
      "text/html": [
       "<pre style=\"white-space:pre;overflow-x:auto;line-height:normal;font-family:Menlo,'DejaVu Sans Mono',consolas,'Courier New',monospace\">files to parse: <span style=\"color: #008080; text-decoration-color: #008080; font-weight: bold\">271</span>\n",
       "</pre>\n"
      ],
      "text/plain": [
       "files to parse: \u001b[1;36m271\u001b[0m\n"
      ]
     },
     "metadata": {},
     "output_type": "display_data"
    },
    {
     "data": {
      "text/html": [
       "<pre style=\"white-space:pre;overflow-x:auto;line-height:normal;font-family:Menlo,'DejaVu Sans Mono',consolas,'Courier New',monospace\"><span style=\"color: #800080; text-decoration-color: #800080\">/Volumes/fanpc/app_data/sec_apps_data/speed_test/filings_13f_full/filings/1521001/</span><span style=\"color: #ff00ff; text-decoration-color: #ff00ff\">0001172661-23-001525.txt</span>\n",
       "</pre>\n"
      ],
      "text/plain": [
       "\u001b[35m/Volumes/fanpc/app_data/sec_apps_data/speed_test/filings_13f_full/filings/1521001/\u001b[0m\u001b[95m0001172661-23-001525.txt\u001b[0m\n"
      ]
     },
     "metadata": {},
     "output_type": "display_data"
    },
    {
     "data": {
      "text/html": [
       "<pre style=\"white-space:pre;overflow-x:auto;line-height:normal;font-family:Menlo,'DejaVu Sans Mono',consolas,'Courier New',monospace\">files to parse: <span style=\"color: #008080; text-decoration-color: #008080; font-weight: bold\">271</span>\n",
       "</pre>\n"
      ],
      "text/plain": [
       "files to parse: \u001b[1;36m271\u001b[0m\n"
      ]
     },
     "metadata": {},
     "output_type": "display_data"
    },
    {
     "data": {
      "text/html": [
       "<pre style=\"white-space:pre;overflow-x:auto;line-height:normal;font-family:Menlo,'DejaVu Sans Mono',consolas,'Courier New',monospace\"><span style=\"color: #800080; text-decoration-color: #800080\">/Volumes/fanpc/app_data/sec_apps_data/speed_test/filings_13f_full/filings/1523988/</span><span style=\"color: #ff00ff; text-decoration-color: #ff00ff\">0001420506-23-000233.txt</span>\n",
       "</pre>\n"
      ],
      "text/plain": [
       "\u001b[35m/Volumes/fanpc/app_data/sec_apps_data/speed_test/filings_13f_full/filings/1523988/\u001b[0m\u001b[95m0001420506-23-000233.txt\u001b[0m\n"
      ]
     },
     "metadata": {},
     "output_type": "display_data"
    },
    {
     "data": {
      "text/html": [
       "<pre style=\"white-space:pre;overflow-x:auto;line-height:normal;font-family:Menlo,'DejaVu Sans Mono',consolas,'Courier New',monospace\">files to parse: <span style=\"color: #008080; text-decoration-color: #008080; font-weight: bold\">271</span>\n",
       "</pre>\n"
      ],
      "text/plain": [
       "files to parse: \u001b[1;36m271\u001b[0m\n"
      ]
     },
     "metadata": {},
     "output_type": "display_data"
    },
    {
     "data": {
      "text/html": [
       "<pre style=\"white-space:pre;overflow-x:auto;line-height:normal;font-family:Menlo,'DejaVu Sans Mono',consolas,'Courier New',monospace\"><span style=\"color: #800080; text-decoration-color: #800080\">/Volumes/fanpc/app_data/sec_apps_data/speed_test/filings_13f_full/filings/1527641/</span><span style=\"color: #ff00ff; text-decoration-color: #ff00ff\">0001527641-23-000001.txt</span>\n",
       "</pre>\n"
      ],
      "text/plain": [
       "\u001b[35m/Volumes/fanpc/app_data/sec_apps_data/speed_test/filings_13f_full/filings/1527641/\u001b[0m\u001b[95m0001527641-23-000001.txt\u001b[0m\n"
      ]
     },
     "metadata": {},
     "output_type": "display_data"
    },
    {
     "data": {
      "text/html": [
       "<pre style=\"white-space:pre;overflow-x:auto;line-height:normal;font-family:Menlo,'DejaVu Sans Mono',consolas,'Courier New',monospace\">files to parse: <span style=\"color: #008080; text-decoration-color: #008080; font-weight: bold\">271</span>\n",
       "</pre>\n"
      ],
      "text/plain": [
       "files to parse: \u001b[1;36m271\u001b[0m\n"
      ]
     },
     "metadata": {},
     "output_type": "display_data"
    },
    {
     "data": {
      "text/html": [
       "<pre style=\"white-space:pre;overflow-x:auto;line-height:normal;font-family:Menlo,'DejaVu Sans Mono',consolas,'Courier New',monospace\"><span style=\"color: #800080; text-decoration-color: #800080\">/Volumes/fanpc/app_data/sec_apps_data/speed_test/filings_13f_full/filings/1527781/</span><span style=\"color: #ff00ff; text-decoration-color: #ff00ff\">0001683168-23-001149.txt</span>\n",
       "</pre>\n"
      ],
      "text/plain": [
       "\u001b[35m/Volumes/fanpc/app_data/sec_apps_data/speed_test/filings_13f_full/filings/1527781/\u001b[0m\u001b[95m0001683168-23-001149.txt\u001b[0m\n"
      ]
     },
     "metadata": {},
     "output_type": "display_data"
    },
    {
     "data": {
      "text/html": [
       "<pre style=\"white-space:pre;overflow-x:auto;line-height:normal;font-family:Menlo,'DejaVu Sans Mono',consolas,'Courier New',monospace\">files to parse: <span style=\"color: #008080; text-decoration-color: #008080; font-weight: bold\">271</span>\n",
       "</pre>\n"
      ],
      "text/plain": [
       "files to parse: \u001b[1;36m271\u001b[0m\n"
      ]
     },
     "metadata": {},
     "output_type": "display_data"
    },
    {
     "data": {
      "text/html": [
       "<pre style=\"white-space:pre;overflow-x:auto;line-height:normal;font-family:Menlo,'DejaVu Sans Mono',consolas,'Courier New',monospace\"><span style=\"color: #800080; text-decoration-color: #800080\">/Volumes/fanpc/app_data/sec_apps_data/speed_test/filings_13f_full/filings/1527782/</span><span style=\"color: #ff00ff; text-decoration-color: #ff00ff\">0001683168-23-001146.txt</span>\n",
       "</pre>\n"
      ],
      "text/plain": [
       "\u001b[35m/Volumes/fanpc/app_data/sec_apps_data/speed_test/filings_13f_full/filings/1527782/\u001b[0m\u001b[95m0001683168-23-001146.txt\u001b[0m\n"
      ]
     },
     "metadata": {},
     "output_type": "display_data"
    },
    {
     "data": {
      "text/html": [
       "<pre style=\"white-space:pre;overflow-x:auto;line-height:normal;font-family:Menlo,'DejaVu Sans Mono',consolas,'Courier New',monospace\">files to parse: <span style=\"color: #008080; text-decoration-color: #008080; font-weight: bold\">271</span>\n",
       "</pre>\n"
      ],
      "text/plain": [
       "files to parse: \u001b[1;36m271\u001b[0m\n"
      ]
     },
     "metadata": {},
     "output_type": "display_data"
    },
    {
     "data": {
      "text/html": [
       "<pre style=\"white-space:pre;overflow-x:auto;line-height:normal;font-family:Menlo,'DejaVu Sans Mono',consolas,'Courier New',monospace\"><span style=\"color: #800080; text-decoration-color: #800080\">/Volumes/fanpc/app_data/sec_apps_data/speed_test/filings_13f_full/filings/1529872/</span><span style=\"color: #ff00ff; text-decoration-color: #ff00ff\">0001085146-23-001160.txt</span>\n",
       "</pre>\n"
      ],
      "text/plain": [
       "\u001b[35m/Volumes/fanpc/app_data/sec_apps_data/speed_test/filings_13f_full/filings/1529872/\u001b[0m\u001b[95m0001085146-23-001160.txt\u001b[0m\n"
      ]
     },
     "metadata": {},
     "output_type": "display_data"
    },
    {
     "data": {
      "text/html": [
       "<pre style=\"white-space:pre;overflow-x:auto;line-height:normal;font-family:Menlo,'DejaVu Sans Mono',consolas,'Courier New',monospace\">files to parse: <span style=\"color: #008080; text-decoration-color: #008080; font-weight: bold\">271</span>\n",
       "</pre>\n"
      ],
      "text/plain": [
       "files to parse: \u001b[1;36m271\u001b[0m\n"
      ]
     },
     "metadata": {},
     "output_type": "display_data"
    },
    {
     "data": {
      "text/html": [
       "<pre style=\"white-space:pre;overflow-x:auto;line-height:normal;font-family:Menlo,'DejaVu Sans Mono',consolas,'Courier New',monospace\"><span style=\"color: #800080; text-decoration-color: #800080\">/Volumes/fanpc/app_data/sec_apps_data/speed_test/filings_13f_full/filings/1534242/</span><span style=\"color: #ff00ff; text-decoration-color: #ff00ff\">0001534242-23-000002.txt</span>\n",
       "</pre>\n"
      ],
      "text/plain": [
       "\u001b[35m/Volumes/fanpc/app_data/sec_apps_data/speed_test/filings_13f_full/filings/1534242/\u001b[0m\u001b[95m0001534242-23-000002.txt\u001b[0m\n"
      ]
     },
     "metadata": {},
     "output_type": "display_data"
    },
    {
     "data": {
      "text/html": [
       "<pre style=\"white-space:pre;overflow-x:auto;line-height:normal;font-family:Menlo,'DejaVu Sans Mono',consolas,'Courier New',monospace\">files to parse: <span style=\"color: #008080; text-decoration-color: #008080; font-weight: bold\">271</span>\n",
       "</pre>\n"
      ],
      "text/plain": [
       "files to parse: \u001b[1;36m271\u001b[0m\n"
      ]
     },
     "metadata": {},
     "output_type": "display_data"
    },
    {
     "data": {
      "text/html": [
       "<pre style=\"white-space:pre;overflow-x:auto;line-height:normal;font-family:Menlo,'DejaVu Sans Mono',consolas,'Courier New',monospace\"><span style=\"color: #800080; text-decoration-color: #800080\">/Volumes/fanpc/app_data/sec_apps_data/speed_test/filings_13f_full/filings/1534300/</span><span style=\"color: #ff00ff; text-decoration-color: #ff00ff\">0001172661-23-001506.txt</span>\n",
       "</pre>\n"
      ],
      "text/plain": [
       "\u001b[35m/Volumes/fanpc/app_data/sec_apps_data/speed_test/filings_13f_full/filings/1534300/\u001b[0m\u001b[95m0001172661-23-001506.txt\u001b[0m\n"
      ]
     },
     "metadata": {},
     "output_type": "display_data"
    },
    {
     "data": {
      "text/html": [
       "<pre style=\"white-space:pre;overflow-x:auto;line-height:normal;font-family:Menlo,'DejaVu Sans Mono',consolas,'Courier New',monospace\">files to parse: <span style=\"color: #008080; text-decoration-color: #008080; font-weight: bold\">271</span>\n",
       "</pre>\n"
      ],
      "text/plain": [
       "files to parse: \u001b[1;36m271\u001b[0m\n"
      ]
     },
     "metadata": {},
     "output_type": "display_data"
    },
    {
     "data": {
      "text/html": [
       "<pre style=\"white-space:pre;overflow-x:auto;line-height:normal;font-family:Menlo,'DejaVu Sans Mono',consolas,'Courier New',monospace\"><span style=\"color: #800080; text-decoration-color: #800080\">/Volumes/fanpc/app_data/sec_apps_data/speed_test/filings_13f_full/filings/1535603/</span><span style=\"color: #ff00ff; text-decoration-color: #ff00ff\">0001104659-23-018448.txt</span>\n",
       "</pre>\n"
      ],
      "text/plain": [
       "\u001b[35m/Volumes/fanpc/app_data/sec_apps_data/speed_test/filings_13f_full/filings/1535603/\u001b[0m\u001b[95m0001104659-23-018448.txt\u001b[0m\n"
      ]
     },
     "metadata": {},
     "output_type": "display_data"
    },
    {
     "data": {
      "text/html": [
       "<pre style=\"white-space:pre;overflow-x:auto;line-height:normal;font-family:Menlo,'DejaVu Sans Mono',consolas,'Courier New',monospace\">files to parse: <span style=\"color: #008080; text-decoration-color: #008080; font-weight: bold\">271</span>\n",
       "</pre>\n"
      ],
      "text/plain": [
       "files to parse: \u001b[1;36m271\u001b[0m\n"
      ]
     },
     "metadata": {},
     "output_type": "display_data"
    },
    {
     "data": {
      "text/html": [
       "<pre style=\"white-space:pre;overflow-x:auto;line-height:normal;font-family:Menlo,'DejaVu Sans Mono',consolas,'Courier New',monospace\"><span style=\"color: #800080; text-decoration-color: #800080\">/Volumes/fanpc/app_data/sec_apps_data/speed_test/filings_13f_full/filings/1535782/</span><span style=\"color: #ff00ff; text-decoration-color: #ff00ff\">0001085146-23-000252.txt</span>\n",
       "</pre>\n"
      ],
      "text/plain": [
       "\u001b[35m/Volumes/fanpc/app_data/sec_apps_data/speed_test/filings_13f_full/filings/1535782/\u001b[0m\u001b[95m0001085146-23-000252.txt\u001b[0m\n"
      ]
     },
     "metadata": {},
     "output_type": "display_data"
    },
    {
     "data": {
      "text/html": [
       "<pre style=\"white-space:pre;overflow-x:auto;line-height:normal;font-family:Menlo,'DejaVu Sans Mono',consolas,'Courier New',monospace\">files to parse: <span style=\"color: #008080; text-decoration-color: #008080; font-weight: bold\">271</span>\n",
       "</pre>\n"
      ],
      "text/plain": [
       "files to parse: \u001b[1;36m271\u001b[0m\n"
      ]
     },
     "metadata": {},
     "output_type": "display_data"
    },
    {
     "data": {
      "text/html": [
       "<pre style=\"white-space:pre;overflow-x:auto;line-height:normal;font-family:Menlo,'DejaVu Sans Mono',consolas,'Courier New',monospace\"><span style=\"color: #800080; text-decoration-color: #800080\">/Volumes/fanpc/app_data/sec_apps_data/speed_test/filings_13f_full/filings/1536336/</span><span style=\"color: #ff00ff; text-decoration-color: #ff00ff\">0001536336-23-000001.txt</span>\n",
       "</pre>\n"
      ],
      "text/plain": [
       "\u001b[35m/Volumes/fanpc/app_data/sec_apps_data/speed_test/filings_13f_full/filings/1536336/\u001b[0m\u001b[95m0001536336-23-000001.txt\u001b[0m\n"
      ]
     },
     "metadata": {},
     "output_type": "display_data"
    },
    {
     "data": {
      "text/html": [
       "<pre style=\"white-space:pre;overflow-x:auto;line-height:normal;font-family:Menlo,'DejaVu Sans Mono',consolas,'Courier New',monospace\">files to parse: <span style=\"color: #008080; text-decoration-color: #008080; font-weight: bold\">271</span>\n",
       "</pre>\n"
      ],
      "text/plain": [
       "files to parse: \u001b[1;36m271\u001b[0m\n"
      ]
     },
     "metadata": {},
     "output_type": "display_data"
    },
    {
     "data": {
      "text/html": [
       "<pre style=\"white-space:pre;overflow-x:auto;line-height:normal;font-family:Menlo,'DejaVu Sans Mono',consolas,'Courier New',monospace\"><span style=\"color: #800080; text-decoration-color: #800080\">/Volumes/fanpc/app_data/sec_apps_data/speed_test/filings_13f_full/filings/1538882/</span><span style=\"color: #ff00ff; text-decoration-color: #ff00ff\">0001538882-23-000002.txt</span>\n",
       "</pre>\n"
      ],
      "text/plain": [
       "\u001b[35m/Volumes/fanpc/app_data/sec_apps_data/speed_test/filings_13f_full/filings/1538882/\u001b[0m\u001b[95m0001538882-23-000002.txt\u001b[0m\n"
      ]
     },
     "metadata": {},
     "output_type": "display_data"
    },
    {
     "data": {
      "text/html": [
       "<pre style=\"white-space:pre;overflow-x:auto;line-height:normal;font-family:Menlo,'DejaVu Sans Mono',consolas,'Courier New',monospace\">files to parse: <span style=\"color: #008080; text-decoration-color: #008080; font-weight: bold\">271</span>\n",
       "</pre>\n"
      ],
      "text/plain": [
       "files to parse: \u001b[1;36m271\u001b[0m\n"
      ]
     },
     "metadata": {},
     "output_type": "display_data"
    },
    {
     "data": {
      "text/html": [
       "<pre style=\"white-space:pre;overflow-x:auto;line-height:normal;font-family:Menlo,'DejaVu Sans Mono',consolas,'Courier New',monospace\"><span style=\"color: #800080; text-decoration-color: #800080\">/Volumes/fanpc/app_data/sec_apps_data/speed_test/filings_13f_full/filings/1541197/</span><span style=\"color: #ff00ff; text-decoration-color: #ff00ff\">0000950123-23-001975.txt</span>\n",
       "</pre>\n"
      ],
      "text/plain": [
       "\u001b[35m/Volumes/fanpc/app_data/sec_apps_data/speed_test/filings_13f_full/filings/1541197/\u001b[0m\u001b[95m0000950123-23-001975.txt\u001b[0m\n"
      ]
     },
     "metadata": {},
     "output_type": "display_data"
    },
    {
     "data": {
      "text/html": [
       "<pre style=\"white-space:pre;overflow-x:auto;line-height:normal;font-family:Menlo,'DejaVu Sans Mono',consolas,'Courier New',monospace\">files to parse: <span style=\"color: #008080; text-decoration-color: #008080; font-weight: bold\">271</span>\n",
       "</pre>\n"
      ],
      "text/plain": [
       "files to parse: \u001b[1;36m271\u001b[0m\n"
      ]
     },
     "metadata": {},
     "output_type": "display_data"
    },
    {
     "data": {
      "text/html": [
       "<pre style=\"white-space:pre;overflow-x:auto;line-height:normal;font-family:Menlo,'DejaVu Sans Mono',consolas,'Courier New',monospace\"><span style=\"color: #800080; text-decoration-color: #800080\">/Volumes/fanpc/app_data/sec_apps_data/speed_test/filings_13f_full/filings/1542156/</span><span style=\"color: #ff00ff; text-decoration-color: #ff00ff\">0001567619-23-002660.txt</span>\n",
       "</pre>\n"
      ],
      "text/plain": [
       "\u001b[35m/Volumes/fanpc/app_data/sec_apps_data/speed_test/filings_13f_full/filings/1542156/\u001b[0m\u001b[95m0001567619-23-002660.txt\u001b[0m\n"
      ]
     },
     "metadata": {},
     "output_type": "display_data"
    },
    {
     "data": {
      "text/html": [
       "<pre style=\"white-space:pre;overflow-x:auto;line-height:normal;font-family:Menlo,'DejaVu Sans Mono',consolas,'Courier New',monospace\">files to parse: <span style=\"color: #008080; text-decoration-color: #008080; font-weight: bold\">271</span>\n",
       "</pre>\n"
      ],
      "text/plain": [
       "files to parse: \u001b[1;36m271\u001b[0m\n"
      ]
     },
     "metadata": {},
     "output_type": "display_data"
    },
    {
     "data": {
      "text/html": [
       "<pre style=\"white-space:pre;overflow-x:auto;line-height:normal;font-family:Menlo,'DejaVu Sans Mono',consolas,'Courier New',monospace\"><span style=\"color: #800080; text-decoration-color: #800080\">/Volumes/fanpc/app_data/sec_apps_data/speed_test/filings_13f_full/filings/1548836/</span><span style=\"color: #ff00ff; text-decoration-color: #ff00ff\">0001493152-23-004843.txt</span>\n",
       "</pre>\n"
      ],
      "text/plain": [
       "\u001b[35m/Volumes/fanpc/app_data/sec_apps_data/speed_test/filings_13f_full/filings/1548836/\u001b[0m\u001b[95m0001493152-23-004843.txt\u001b[0m\n"
      ]
     },
     "metadata": {},
     "output_type": "display_data"
    },
    {
     "data": {
      "text/html": [
       "<pre style=\"white-space:pre;overflow-x:auto;line-height:normal;font-family:Menlo,'DejaVu Sans Mono',consolas,'Courier New',monospace\">files to parse: <span style=\"color: #008080; text-decoration-color: #008080; font-weight: bold\">271</span>\n",
       "</pre>\n"
      ],
      "text/plain": [
       "files to parse: \u001b[1;36m271\u001b[0m\n"
      ]
     },
     "metadata": {},
     "output_type": "display_data"
    },
    {
     "data": {
      "text/html": [
       "<pre style=\"white-space:pre;overflow-x:auto;line-height:normal;font-family:Menlo,'DejaVu Sans Mono',consolas,'Courier New',monospace\"><span style=\"color: #800080; text-decoration-color: #800080\">/Volumes/fanpc/app_data/sec_apps_data/speed_test/filings_13f_full/filings/1559789/</span><span style=\"color: #ff00ff; text-decoration-color: #ff00ff\">0001172661-23-001528.txt</span>\n",
       "</pre>\n"
      ],
      "text/plain": [
       "\u001b[35m/Volumes/fanpc/app_data/sec_apps_data/speed_test/filings_13f_full/filings/1559789/\u001b[0m\u001b[95m0001172661-23-001528.txt\u001b[0m\n"
      ]
     },
     "metadata": {},
     "output_type": "display_data"
    },
    {
     "data": {
      "text/html": [
       "<pre style=\"white-space:pre;overflow-x:auto;line-height:normal;font-family:Menlo,'DejaVu Sans Mono',consolas,'Courier New',monospace\">files to parse: <span style=\"color: #008080; text-decoration-color: #008080; font-weight: bold\">271</span>\n",
       "</pre>\n"
      ],
      "text/plain": [
       "files to parse: \u001b[1;36m271\u001b[0m\n"
      ]
     },
     "metadata": {},
     "output_type": "display_data"
    },
    {
     "data": {
      "text/html": [
       "<pre style=\"white-space:pre;overflow-x:auto;line-height:normal;font-family:Menlo,'DejaVu Sans Mono',consolas,'Courier New',monospace\"><span style=\"color: #800080; text-decoration-color: #800080\">/Volumes/fanpc/app_data/sec_apps_data/speed_test/filings_13f_full/filings/1566531/</span><span style=\"color: #ff00ff; text-decoration-color: #ff00ff\">0001214659-23-003176.txt</span>\n",
       "</pre>\n"
      ],
      "text/plain": [
       "\u001b[35m/Volumes/fanpc/app_data/sec_apps_data/speed_test/filings_13f_full/filings/1566531/\u001b[0m\u001b[95m0001214659-23-003176.txt\u001b[0m\n"
      ]
     },
     "metadata": {},
     "output_type": "display_data"
    },
    {
     "data": {
      "text/html": [
       "<pre style=\"white-space:pre;overflow-x:auto;line-height:normal;font-family:Menlo,'DejaVu Sans Mono',consolas,'Courier New',monospace\">files to parse: <span style=\"color: #008080; text-decoration-color: #008080; font-weight: bold\">271</span>\n",
       "</pre>\n"
      ],
      "text/plain": [
       "files to parse: \u001b[1;36m271\u001b[0m\n"
      ]
     },
     "metadata": {},
     "output_type": "display_data"
    },
    {
     "data": {
      "text/html": [
       "<pre style=\"white-space:pre;overflow-x:auto;line-height:normal;font-family:Menlo,'DejaVu Sans Mono',consolas,'Courier New',monospace\"><span style=\"color: #800080; text-decoration-color: #800080\">/Volumes/fanpc/app_data/sec_apps_data/speed_test/filings_13f_full/filings/1572838/</span><span style=\"color: #ff00ff; text-decoration-color: #ff00ff\">0001572838-23-000004.txt</span>\n",
       "</pre>\n"
      ],
      "text/plain": [
       "\u001b[35m/Volumes/fanpc/app_data/sec_apps_data/speed_test/filings_13f_full/filings/1572838/\u001b[0m\u001b[95m0001572838-23-000004.txt\u001b[0m\n"
      ]
     },
     "metadata": {},
     "output_type": "display_data"
    },
    {
     "data": {
      "text/html": [
       "<pre style=\"white-space:pre;overflow-x:auto;line-height:normal;font-family:Menlo,'DejaVu Sans Mono',consolas,'Courier New',monospace\">files to parse: <span style=\"color: #008080; text-decoration-color: #008080; font-weight: bold\">271</span>\n",
       "</pre>\n"
      ],
      "text/plain": [
       "files to parse: \u001b[1;36m271\u001b[0m\n"
      ]
     },
     "metadata": {},
     "output_type": "display_data"
    },
    {
     "data": {
      "text/html": [
       "<pre style=\"white-space:pre;overflow-x:auto;line-height:normal;font-family:Menlo,'DejaVu Sans Mono',consolas,'Courier New',monospace\"><span style=\"color: #800080; text-decoration-color: #800080\">/Volumes/fanpc/app_data/sec_apps_data/speed_test/filings_13f_full/filings/1583825/</span><span style=\"color: #ff00ff; text-decoration-color: #ff00ff\">0001687502-23-000004.txt</span>\n",
       "</pre>\n"
      ],
      "text/plain": [
       "\u001b[35m/Volumes/fanpc/app_data/sec_apps_data/speed_test/filings_13f_full/filings/1583825/\u001b[0m\u001b[95m0001687502-23-000004.txt\u001b[0m\n"
      ]
     },
     "metadata": {},
     "output_type": "display_data"
    },
    {
     "data": {
      "text/html": [
       "<pre style=\"white-space:pre;overflow-x:auto;line-height:normal;font-family:Menlo,'DejaVu Sans Mono',consolas,'Courier New',monospace\">files to parse: <span style=\"color: #008080; text-decoration-color: #008080; font-weight: bold\">271</span>\n",
       "</pre>\n"
      ],
      "text/plain": [
       "files to parse: \u001b[1;36m271\u001b[0m\n"
      ]
     },
     "metadata": {},
     "output_type": "display_data"
    },
    {
     "data": {
      "text/html": [
       "<pre style=\"white-space:pre;overflow-x:auto;line-height:normal;font-family:Menlo,'DejaVu Sans Mono',consolas,'Courier New',monospace\"><span style=\"color: #800080; text-decoration-color: #800080\">/Volumes/fanpc/app_data/sec_apps_data/speed_test/filings_13f_full/filings/1584289/</span><span style=\"color: #ff00ff; text-decoration-color: #ff00ff\">0000950123-23-002124.txt</span>\n",
       "</pre>\n"
      ],
      "text/plain": [
       "\u001b[35m/Volumes/fanpc/app_data/sec_apps_data/speed_test/filings_13f_full/filings/1584289/\u001b[0m\u001b[95m0000950123-23-002124.txt\u001b[0m\n"
      ]
     },
     "metadata": {},
     "output_type": "display_data"
    },
    {
     "data": {
      "text/html": [
       "<pre style=\"white-space:pre;overflow-x:auto;line-height:normal;font-family:Menlo,'DejaVu Sans Mono',consolas,'Courier New',monospace\">files to parse: <span style=\"color: #008080; text-decoration-color: #008080; font-weight: bold\">271</span>\n",
       "</pre>\n"
      ],
      "text/plain": [
       "files to parse: \u001b[1;36m271\u001b[0m\n"
      ]
     },
     "metadata": {},
     "output_type": "display_data"
    },
    {
     "data": {
      "text/html": [
       "<pre style=\"white-space:pre;overflow-x:auto;line-height:normal;font-family:Menlo,'DejaVu Sans Mono',consolas,'Courier New',monospace\"><span style=\"color: #800080; text-decoration-color: #800080\">/Volumes/fanpc/app_data/sec_apps_data/speed_test/filings_13f_full/filings/1586767/</span><span style=\"color: #ff00ff; text-decoration-color: #ff00ff\">0001586767-23-000001.txt</span>\n",
       "</pre>\n"
      ],
      "text/plain": [
       "\u001b[35m/Volumes/fanpc/app_data/sec_apps_data/speed_test/filings_13f_full/filings/1586767/\u001b[0m\u001b[95m0001586767-23-000001.txt\u001b[0m\n"
      ]
     },
     "metadata": {},
     "output_type": "display_data"
    },
    {
     "data": {
      "text/html": [
       "<pre style=\"white-space:pre;overflow-x:auto;line-height:normal;font-family:Menlo,'DejaVu Sans Mono',consolas,'Courier New',monospace\">files to parse: <span style=\"color: #008080; text-decoration-color: #008080; font-weight: bold\">271</span>\n",
       "</pre>\n"
      ],
      "text/plain": [
       "files to parse: \u001b[1;36m271\u001b[0m\n"
      ]
     },
     "metadata": {},
     "output_type": "display_data"
    },
    {
     "data": {
      "text/html": [
       "<pre style=\"white-space:pre;overflow-x:auto;line-height:normal;font-family:Menlo,'DejaVu Sans Mono',consolas,'Courier New',monospace\"><span style=\"color: #800080; text-decoration-color: #800080\">/Volumes/fanpc/app_data/sec_apps_data/speed_test/filings_13f_full/filings/1592828/</span><span style=\"color: #ff00ff; text-decoration-color: #ff00ff\">0001592828-23-000003.txt</span>\n",
       "</pre>\n"
      ],
      "text/plain": [
       "\u001b[35m/Volumes/fanpc/app_data/sec_apps_data/speed_test/filings_13f_full/filings/1592828/\u001b[0m\u001b[95m0001592828-23-000003.txt\u001b[0m\n"
      ]
     },
     "metadata": {},
     "output_type": "display_data"
    },
    {
     "data": {
      "text/html": [
       "<pre style=\"white-space:pre;overflow-x:auto;line-height:normal;font-family:Menlo,'DejaVu Sans Mono',consolas,'Courier New',monospace\">files to parse: <span style=\"color: #008080; text-decoration-color: #008080; font-weight: bold\">271</span>\n",
       "</pre>\n"
      ],
      "text/plain": [
       "files to parse: \u001b[1;36m271\u001b[0m\n"
      ]
     },
     "metadata": {},
     "output_type": "display_data"
    },
    {
     "data": {
      "text/html": [
       "<pre style=\"white-space:pre;overflow-x:auto;line-height:normal;font-family:Menlo,'DejaVu Sans Mono',consolas,'Courier New',monospace\"><span style=\"color: #800080; text-decoration-color: #800080\">/Volumes/fanpc/app_data/sec_apps_data/speed_test/filings_13f_full/filings/1595683/</span><span style=\"color: #ff00ff; text-decoration-color: #ff00ff\">0001104659-23-018127.txt</span>\n",
       "</pre>\n"
      ],
      "text/plain": [
       "\u001b[35m/Volumes/fanpc/app_data/sec_apps_data/speed_test/filings_13f_full/filings/1595683/\u001b[0m\u001b[95m0001104659-23-018127.txt\u001b[0m\n"
      ]
     },
     "metadata": {},
     "output_type": "display_data"
    },
    {
     "data": {
      "text/html": [
       "<pre style=\"white-space:pre;overflow-x:auto;line-height:normal;font-family:Menlo,'DejaVu Sans Mono',consolas,'Courier New',monospace\">files to parse: <span style=\"color: #008080; text-decoration-color: #008080; font-weight: bold\">271</span>\n",
       "</pre>\n"
      ],
      "text/plain": [
       "files to parse: \u001b[1;36m271\u001b[0m\n"
      ]
     },
     "metadata": {},
     "output_type": "display_data"
    },
    {
     "data": {
      "text/html": [
       "<pre style=\"white-space:pre;overflow-x:auto;line-height:normal;font-family:Menlo,'DejaVu Sans Mono',consolas,'Courier New',monospace\"><span style=\"color: #800080; text-decoration-color: #800080\">/Volumes/fanpc/app_data/sec_apps_data/speed_test/filings_13f_full/filings/1595907/</span><span style=\"color: #ff00ff; text-decoration-color: #ff00ff\">0001172661-23-001507.txt</span>\n",
       "</pre>\n"
      ],
      "text/plain": [
       "\u001b[35m/Volumes/fanpc/app_data/sec_apps_data/speed_test/filings_13f_full/filings/1595907/\u001b[0m\u001b[95m0001172661-23-001507.txt\u001b[0m\n"
      ]
     },
     "metadata": {},
     "output_type": "display_data"
    },
    {
     "data": {
      "text/html": [
       "<pre style=\"white-space:pre;overflow-x:auto;line-height:normal;font-family:Menlo,'DejaVu Sans Mono',consolas,'Courier New',monospace\">files to parse: <span style=\"color: #008080; text-decoration-color: #008080; font-weight: bold\">271</span>\n",
       "</pre>\n"
      ],
      "text/plain": [
       "files to parse: \u001b[1;36m271\u001b[0m\n"
      ]
     },
     "metadata": {},
     "output_type": "display_data"
    },
    {
     "data": {
      "text/html": [
       "<pre style=\"white-space:pre;overflow-x:auto;line-height:normal;font-family:Menlo,'DejaVu Sans Mono',consolas,'Courier New',monospace\"><span style=\"color: #800080; text-decoration-color: #800080\">/Volumes/fanpc/app_data/sec_apps_data/speed_test/filings_13f_full/filings/1597690/</span><span style=\"color: #ff00ff; text-decoration-color: #ff00ff\">0001085146-23-001438.txt</span>\n",
       "</pre>\n"
      ],
      "text/plain": [
       "\u001b[35m/Volumes/fanpc/app_data/sec_apps_data/speed_test/filings_13f_full/filings/1597690/\u001b[0m\u001b[95m0001085146-23-001438.txt\u001b[0m\n"
      ]
     },
     "metadata": {},
     "output_type": "display_data"
    },
    {
     "data": {
      "text/html": [
       "<pre style=\"white-space:pre;overflow-x:auto;line-height:normal;font-family:Menlo,'DejaVu Sans Mono',consolas,'Courier New',monospace\">files to parse: <span style=\"color: #008080; text-decoration-color: #008080; font-weight: bold\">271</span>\n",
       "</pre>\n"
      ],
      "text/plain": [
       "files to parse: \u001b[1;36m271\u001b[0m\n"
      ]
     },
     "metadata": {},
     "output_type": "display_data"
    },
    {
     "data": {
      "text/html": [
       "<pre style=\"white-space:pre;overflow-x:auto;line-height:normal;font-family:Menlo,'DejaVu Sans Mono',consolas,'Courier New',monospace\"><span style=\"color: #800080; text-decoration-color: #800080\">/Volumes/fanpc/app_data/sec_apps_data/speed_test/filings_13f_full/filings/1598102/</span><span style=\"color: #ff00ff; text-decoration-color: #ff00ff\">0001085146-23-001412.txt</span>\n",
       "</pre>\n"
      ],
      "text/plain": [
       "\u001b[35m/Volumes/fanpc/app_data/sec_apps_data/speed_test/filings_13f_full/filings/1598102/\u001b[0m\u001b[95m0001085146-23-001412.txt\u001b[0m\n"
      ]
     },
     "metadata": {},
     "output_type": "display_data"
    },
    {
     "data": {
      "text/html": [
       "<pre style=\"white-space:pre;overflow-x:auto;line-height:normal;font-family:Menlo,'DejaVu Sans Mono',consolas,'Courier New',monospace\">files to parse: <span style=\"color: #008080; text-decoration-color: #008080; font-weight: bold\">271</span>\n",
       "</pre>\n"
      ],
      "text/plain": [
       "files to parse: \u001b[1;36m271\u001b[0m\n"
      ]
     },
     "metadata": {},
     "output_type": "display_data"
    },
    {
     "data": {
      "text/html": [
       "<pre style=\"white-space:pre;overflow-x:auto;line-height:normal;font-family:Menlo,'DejaVu Sans Mono',consolas,'Courier New',monospace\"><span style=\"color: #800080; text-decoration-color: #800080\">/Volumes/fanpc/app_data/sec_apps_data/speed_test/filings_13f_full/filings/1598806/</span><span style=\"color: #ff00ff; text-decoration-color: #ff00ff\">0001598806-23-000001.txt</span>\n",
       "</pre>\n"
      ],
      "text/plain": [
       "\u001b[35m/Volumes/fanpc/app_data/sec_apps_data/speed_test/filings_13f_full/filings/1598806/\u001b[0m\u001b[95m0001598806-23-000001.txt\u001b[0m\n"
      ]
     },
     "metadata": {},
     "output_type": "display_data"
    },
    {
     "data": {
      "text/html": [
       "<pre style=\"white-space:pre;overflow-x:auto;line-height:normal;font-family:Menlo,'DejaVu Sans Mono',consolas,'Courier New',monospace\">files to parse: <span style=\"color: #008080; text-decoration-color: #008080; font-weight: bold\">271</span>\n",
       "</pre>\n"
      ],
      "text/plain": [
       "files to parse: \u001b[1;36m271\u001b[0m\n"
      ]
     },
     "metadata": {},
     "output_type": "display_data"
    },
    {
     "data": {
      "text/html": [
       "<pre style=\"white-space:pre;overflow-x:auto;line-height:normal;font-family:Menlo,'DejaVu Sans Mono',consolas,'Courier New',monospace\"><span style=\"color: #800080; text-decoration-color: #800080\">/Volumes/fanpc/app_data/sec_apps_data/speed_test/filings_13f_full/filings/1607597/</span><span style=\"color: #ff00ff; text-decoration-color: #ff00ff\">0001104659-23-002691.txt</span>\n",
       "</pre>\n"
      ],
      "text/plain": [
       "\u001b[35m/Volumes/fanpc/app_data/sec_apps_data/speed_test/filings_13f_full/filings/1607597/\u001b[0m\u001b[95m0001104659-23-002691.txt\u001b[0m\n"
      ]
     },
     "metadata": {},
     "output_type": "display_data"
    },
    {
     "data": {
      "text/html": [
       "<pre style=\"white-space:pre;overflow-x:auto;line-height:normal;font-family:Menlo,'DejaVu Sans Mono',consolas,'Courier New',monospace\">files to parse: <span style=\"color: #008080; text-decoration-color: #008080; font-weight: bold\">271</span>\n",
       "</pre>\n"
      ],
      "text/plain": [
       "files to parse: \u001b[1;36m271\u001b[0m\n"
      ]
     },
     "metadata": {},
     "output_type": "display_data"
    },
    {
     "data": {
      "text/html": [
       "<pre style=\"white-space:pre;overflow-x:auto;line-height:normal;font-family:Menlo,'DejaVu Sans Mono',consolas,'Courier New',monospace\"><span style=\"color: #800080; text-decoration-color: #800080\">/Volumes/fanpc/app_data/sec_apps_data/speed_test/filings_13f_full/filings/1608046/</span><span style=\"color: #ff00ff; text-decoration-color: #ff00ff\">0001608046-23-000002.txt</span>\n",
       "</pre>\n"
      ],
      "text/plain": [
       "\u001b[35m/Volumes/fanpc/app_data/sec_apps_data/speed_test/filings_13f_full/filings/1608046/\u001b[0m\u001b[95m0001608046-23-000002.txt\u001b[0m\n"
      ]
     },
     "metadata": {},
     "output_type": "display_data"
    },
    {
     "data": {
      "text/html": [
       "<pre style=\"white-space:pre;overflow-x:auto;line-height:normal;font-family:Menlo,'DejaVu Sans Mono',consolas,'Courier New',monospace\">files to parse: <span style=\"color: #008080; text-decoration-color: #008080; font-weight: bold\">271</span>\n",
       "</pre>\n"
      ],
      "text/plain": [
       "files to parse: \u001b[1;36m271\u001b[0m\n"
      ]
     },
     "metadata": {},
     "output_type": "display_data"
    },
    {
     "data": {
      "text/html": [
       "<pre style=\"white-space:pre;overflow-x:auto;line-height:normal;font-family:Menlo,'DejaVu Sans Mono',consolas,'Courier New',monospace\"><span style=\"color: #800080; text-decoration-color: #800080\">/Volumes/fanpc/app_data/sec_apps_data/speed_test/filings_13f_full/filings/1608046/</span><span style=\"color: #ff00ff; text-decoration-color: #ff00ff\">0001608046-23-000003.txt</span>\n",
       "</pre>\n"
      ],
      "text/plain": [
       "\u001b[35m/Volumes/fanpc/app_data/sec_apps_data/speed_test/filings_13f_full/filings/1608046/\u001b[0m\u001b[95m0001608046-23-000003.txt\u001b[0m\n"
      ]
     },
     "metadata": {},
     "output_type": "display_data"
    },
    {
     "data": {
      "text/html": [
       "<pre style=\"white-space:pre;overflow-x:auto;line-height:normal;font-family:Menlo,'DejaVu Sans Mono',consolas,'Courier New',monospace\">files to parse: <span style=\"color: #008080; text-decoration-color: #008080; font-weight: bold\">271</span>\n",
       "</pre>\n"
      ],
      "text/plain": [
       "files to parse: \u001b[1;36m271\u001b[0m\n"
      ]
     },
     "metadata": {},
     "output_type": "display_data"
    },
    {
     "data": {
      "text/html": [
       "<pre style=\"white-space:pre;overflow-x:auto;line-height:normal;font-family:Menlo,'DejaVu Sans Mono',consolas,'Courier New',monospace\"><span style=\"color: #800080; text-decoration-color: #800080\">/Volumes/fanpc/app_data/sec_apps_data/speed_test/filings_13f_full/filings/1608046/</span><span style=\"color: #ff00ff; text-decoration-color: #ff00ff\">0001608046-23-000004.txt</span>\n",
       "</pre>\n"
      ],
      "text/plain": [
       "\u001b[35m/Volumes/fanpc/app_data/sec_apps_data/speed_test/filings_13f_full/filings/1608046/\u001b[0m\u001b[95m0001608046-23-000004.txt\u001b[0m\n"
      ]
     },
     "metadata": {},
     "output_type": "display_data"
    },
    {
     "data": {
      "text/html": [
       "<pre style=\"white-space:pre;overflow-x:auto;line-height:normal;font-family:Menlo,'DejaVu Sans Mono',consolas,'Courier New',monospace\">files to parse: <span style=\"color: #008080; text-decoration-color: #008080; font-weight: bold\">271</span>\n",
       "</pre>\n"
      ],
      "text/plain": [
       "files to parse: \u001b[1;36m271\u001b[0m\n"
      ]
     },
     "metadata": {},
     "output_type": "display_data"
    },
    {
     "data": {
      "text/html": [
       "<pre style=\"white-space:pre;overflow-x:auto;line-height:normal;font-family:Menlo,'DejaVu Sans Mono',consolas,'Courier New',monospace\"><span style=\"color: #800080; text-decoration-color: #800080\">/Volumes/fanpc/app_data/sec_apps_data/speed_test/filings_13f_full/filings/1616081/</span><span style=\"color: #ff00ff; text-decoration-color: #ff00ff\">0001315863-23-000351.txt</span>\n",
       "</pre>\n"
      ],
      "text/plain": [
       "\u001b[35m/Volumes/fanpc/app_data/sec_apps_data/speed_test/filings_13f_full/filings/1616081/\u001b[0m\u001b[95m0001315863-23-000351.txt\u001b[0m\n"
      ]
     },
     "metadata": {},
     "output_type": "display_data"
    },
    {
     "data": {
      "text/html": [
       "<pre style=\"white-space:pre;overflow-x:auto;line-height:normal;font-family:Menlo,'DejaVu Sans Mono',consolas,'Courier New',monospace\">files to parse: <span style=\"color: #008080; text-decoration-color: #008080; font-weight: bold\">271</span>\n",
       "</pre>\n"
      ],
      "text/plain": [
       "files to parse: \u001b[1;36m271\u001b[0m\n"
      ]
     },
     "metadata": {},
     "output_type": "display_data"
    },
    {
     "data": {
      "text/html": [
       "<pre style=\"white-space:pre;overflow-x:auto;line-height:normal;font-family:Menlo,'DejaVu Sans Mono',consolas,'Courier New',monospace\"><span style=\"color: #800080; text-decoration-color: #800080\">/Volumes/fanpc/app_data/sec_apps_data/speed_test/filings_13f_full/filings/1616328/</span><span style=\"color: #ff00ff; text-decoration-color: #ff00ff\">0001616328-23-000001.txt</span>\n",
       "</pre>\n"
      ],
      "text/plain": [
       "\u001b[35m/Volumes/fanpc/app_data/sec_apps_data/speed_test/filings_13f_full/filings/1616328/\u001b[0m\u001b[95m0001616328-23-000001.txt\u001b[0m\n"
      ]
     },
     "metadata": {},
     "output_type": "display_data"
    },
    {
     "data": {
      "text/html": [
       "<pre style=\"white-space:pre;overflow-x:auto;line-height:normal;font-family:Menlo,'DejaVu Sans Mono',consolas,'Courier New',monospace\">files to parse: <span style=\"color: #008080; text-decoration-color: #008080; font-weight: bold\">271</span>\n",
       "</pre>\n"
      ],
      "text/plain": [
       "files to parse: \u001b[1;36m271\u001b[0m\n"
      ]
     },
     "metadata": {},
     "output_type": "display_data"
    },
    {
     "data": {
      "text/html": [
       "<pre style=\"white-space:pre;overflow-x:auto;line-height:normal;font-family:Menlo,'DejaVu Sans Mono',consolas,'Courier New',monospace\"><span style=\"color: #800080; text-decoration-color: #800080\">/Volumes/fanpc/app_data/sec_apps_data/speed_test/filings_13f_full/filings/1618366/</span><span style=\"color: #ff00ff; text-decoration-color: #ff00ff\">0001104659-23-010385.txt</span>\n",
       "</pre>\n"
      ],
      "text/plain": [
       "\u001b[35m/Volumes/fanpc/app_data/sec_apps_data/speed_test/filings_13f_full/filings/1618366/\u001b[0m\u001b[95m0001104659-23-010385.txt\u001b[0m\n"
      ]
     },
     "metadata": {},
     "output_type": "display_data"
    },
    {
     "data": {
      "text/html": [
       "<pre style=\"white-space:pre;overflow-x:auto;line-height:normal;font-family:Menlo,'DejaVu Sans Mono',consolas,'Courier New',monospace\">files to parse: <span style=\"color: #008080; text-decoration-color: #008080; font-weight: bold\">271</span>\n",
       "</pre>\n"
      ],
      "text/plain": [
       "files to parse: \u001b[1;36m271\u001b[0m\n"
      ]
     },
     "metadata": {},
     "output_type": "display_data"
    },
    {
     "data": {
      "text/html": [
       "<pre style=\"white-space:pre;overflow-x:auto;line-height:normal;font-family:Menlo,'DejaVu Sans Mono',consolas,'Courier New',monospace\"><span style=\"color: #800080; text-decoration-color: #800080\">/Volumes/fanpc/app_data/sec_apps_data/speed_test/filings_13f_full/filings/1626757/</span><span style=\"color: #ff00ff; text-decoration-color: #ff00ff\">0001626757-23-000002.txt</span>\n",
       "</pre>\n"
      ],
      "text/plain": [
       "\u001b[35m/Volumes/fanpc/app_data/sec_apps_data/speed_test/filings_13f_full/filings/1626757/\u001b[0m\u001b[95m0001626757-23-000002.txt\u001b[0m\n"
      ]
     },
     "metadata": {},
     "output_type": "display_data"
    },
    {
     "data": {
      "text/html": [
       "<pre style=\"white-space:pre;overflow-x:auto;line-height:normal;font-family:Menlo,'DejaVu Sans Mono',consolas,'Courier New',monospace\">files to parse: <span style=\"color: #008080; text-decoration-color: #008080; font-weight: bold\">271</span>\n",
       "</pre>\n"
      ],
      "text/plain": [
       "files to parse: \u001b[1;36m271\u001b[0m\n"
      ]
     },
     "metadata": {},
     "output_type": "display_data"
    },
    {
     "data": {
      "text/html": [
       "<pre style=\"white-space:pre;overflow-x:auto;line-height:normal;font-family:Menlo,'DejaVu Sans Mono',consolas,'Courier New',monospace\"><span style=\"color: #800080; text-decoration-color: #800080\">/Volumes/fanpc/app_data/sec_apps_data/speed_test/filings_13f_full/filings/1628110/</span><span style=\"color: #ff00ff; text-decoration-color: #ff00ff\">0000902664-23-001798.txt</span>\n",
       "</pre>\n"
      ],
      "text/plain": [
       "\u001b[35m/Volumes/fanpc/app_data/sec_apps_data/speed_test/filings_13f_full/filings/1628110/\u001b[0m\u001b[95m0000902664-23-001798.txt\u001b[0m\n"
      ]
     },
     "metadata": {},
     "output_type": "display_data"
    },
    {
     "data": {
      "text/html": [
       "<pre style=\"white-space:pre;overflow-x:auto;line-height:normal;font-family:Menlo,'DejaVu Sans Mono',consolas,'Courier New',monospace\">files to parse: <span style=\"color: #008080; text-decoration-color: #008080; font-weight: bold\">271</span>\n",
       "</pre>\n"
      ],
      "text/plain": [
       "files to parse: \u001b[1;36m271\u001b[0m\n"
      ]
     },
     "metadata": {},
     "output_type": "display_data"
    },
    {
     "data": {
      "text/html": [
       "<pre style=\"white-space:pre;overflow-x:auto;line-height:normal;font-family:Menlo,'DejaVu Sans Mono',consolas,'Courier New',monospace\"><span style=\"color: #800080; text-decoration-color: #800080\">/Volumes/fanpc/app_data/sec_apps_data/speed_test/filings_13f_full/filings/1629649/</span><span style=\"color: #ff00ff; text-decoration-color: #ff00ff\">0001085146-23-001417.txt</span>\n",
       "</pre>\n"
      ],
      "text/plain": [
       "\u001b[35m/Volumes/fanpc/app_data/sec_apps_data/speed_test/filings_13f_full/filings/1629649/\u001b[0m\u001b[95m0001085146-23-001417.txt\u001b[0m\n"
      ]
     },
     "metadata": {},
     "output_type": "display_data"
    },
    {
     "data": {
      "text/html": [
       "<pre style=\"white-space:pre;overflow-x:auto;line-height:normal;font-family:Menlo,'DejaVu Sans Mono',consolas,'Courier New',monospace\">files to parse: <span style=\"color: #008080; text-decoration-color: #008080; font-weight: bold\">271</span>\n",
       "</pre>\n"
      ],
      "text/plain": [
       "files to parse: \u001b[1;36m271\u001b[0m\n"
      ]
     },
     "metadata": {},
     "output_type": "display_data"
    },
    {
     "data": {
      "text/html": [
       "<pre style=\"white-space:pre;overflow-x:auto;line-height:normal;font-family:Menlo,'DejaVu Sans Mono',consolas,'Courier New',monospace\"><span style=\"color: #800080; text-decoration-color: #800080\">/Volumes/fanpc/app_data/sec_apps_data/speed_test/filings_13f_full/filings/1629680/</span><span style=\"color: #ff00ff; text-decoration-color: #ff00ff\">0001095449-23-000012.txt</span>\n",
       "</pre>\n"
      ],
      "text/plain": [
       "\u001b[35m/Volumes/fanpc/app_data/sec_apps_data/speed_test/filings_13f_full/filings/1629680/\u001b[0m\u001b[95m0001095449-23-000012.txt\u001b[0m\n"
      ]
     },
     "metadata": {},
     "output_type": "display_data"
    },
    {
     "data": {
      "text/html": [
       "<pre style=\"white-space:pre;overflow-x:auto;line-height:normal;font-family:Menlo,'DejaVu Sans Mono',consolas,'Courier New',monospace\">files to parse: <span style=\"color: #008080; text-decoration-color: #008080; font-weight: bold\">271</span>\n",
       "</pre>\n"
      ],
      "text/plain": [
       "files to parse: \u001b[1;36m271\u001b[0m\n"
      ]
     },
     "metadata": {},
     "output_type": "display_data"
    },
    {
     "data": {
      "text/html": [
       "<pre style=\"white-space:pre;overflow-x:auto;line-height:normal;font-family:Menlo,'DejaVu Sans Mono',consolas,'Courier New',monospace\"><span style=\"color: #800080; text-decoration-color: #800080\">/Volumes/fanpc/app_data/sec_apps_data/speed_test/filings_13f_full/filings/1629680/</span><span style=\"color: #ff00ff; text-decoration-color: #ff00ff\">0001095449-23-000013.txt</span>\n",
       "</pre>\n"
      ],
      "text/plain": [
       "\u001b[35m/Volumes/fanpc/app_data/sec_apps_data/speed_test/filings_13f_full/filings/1629680/\u001b[0m\u001b[95m0001095449-23-000013.txt\u001b[0m\n"
      ]
     },
     "metadata": {},
     "output_type": "display_data"
    },
    {
     "data": {
      "text/html": [
       "<pre style=\"white-space:pre;overflow-x:auto;line-height:normal;font-family:Menlo,'DejaVu Sans Mono',consolas,'Courier New',monospace\">files to parse: <span style=\"color: #008080; text-decoration-color: #008080; font-weight: bold\">271</span>\n",
       "</pre>\n"
      ],
      "text/plain": [
       "files to parse: \u001b[1;36m271\u001b[0m\n"
      ]
     },
     "metadata": {},
     "output_type": "display_data"
    },
    {
     "data": {
      "text/html": [
       "<pre style=\"white-space:pre;overflow-x:auto;line-height:normal;font-family:Menlo,'DejaVu Sans Mono',consolas,'Courier New',monospace\"><span style=\"color: #800080; text-decoration-color: #800080\">/Volumes/fanpc/app_data/sec_apps_data/speed_test/filings_13f_full/filings/1632407/</span><span style=\"color: #ff00ff; text-decoration-color: #ff00ff\">0001580642-23-001142.txt</span>\n",
       "</pre>\n"
      ],
      "text/plain": [
       "\u001b[35m/Volumes/fanpc/app_data/sec_apps_data/speed_test/filings_13f_full/filings/1632407/\u001b[0m\u001b[95m0001580642-23-001142.txt\u001b[0m\n"
      ]
     },
     "metadata": {},
     "output_type": "display_data"
    },
    {
     "data": {
      "text/html": [
       "<pre style=\"white-space:pre;overflow-x:auto;line-height:normal;font-family:Menlo,'DejaVu Sans Mono',consolas,'Courier New',monospace\">files to parse: <span style=\"color: #008080; text-decoration-color: #008080; font-weight: bold\">271</span>\n",
       "</pre>\n"
      ],
      "text/plain": [
       "files to parse: \u001b[1;36m271\u001b[0m\n"
      ]
     },
     "metadata": {},
     "output_type": "display_data"
    },
    {
     "data": {
      "text/html": [
       "<pre style=\"white-space:pre;overflow-x:auto;line-height:normal;font-family:Menlo,'DejaVu Sans Mono',consolas,'Courier New',monospace\"><span style=\"color: #800080; text-decoration-color: #800080\">/Volumes/fanpc/app_data/sec_apps_data/speed_test/filings_13f_full/filings/1633256/</span><span style=\"color: #ff00ff; text-decoration-color: #ff00ff\">0001172661-23-000312.txt</span>\n",
       "</pre>\n"
      ],
      "text/plain": [
       "\u001b[35m/Volumes/fanpc/app_data/sec_apps_data/speed_test/filings_13f_full/filings/1633256/\u001b[0m\u001b[95m0001172661-23-000312.txt\u001b[0m\n"
      ]
     },
     "metadata": {},
     "output_type": "display_data"
    },
    {
     "data": {
      "text/html": [
       "<pre style=\"white-space:pre;overflow-x:auto;line-height:normal;font-family:Menlo,'DejaVu Sans Mono',consolas,'Courier New',monospace\">files to parse: <span style=\"color: #008080; text-decoration-color: #008080; font-weight: bold\">271</span>\n",
       "</pre>\n"
      ],
      "text/plain": [
       "files to parse: \u001b[1;36m271\u001b[0m\n"
      ]
     },
     "metadata": {},
     "output_type": "display_data"
    },
    {
     "data": {
      "text/html": [
       "<pre style=\"white-space:pre;overflow-x:auto;line-height:normal;font-family:Menlo,'DejaVu Sans Mono',consolas,'Courier New',monospace\"><span style=\"color: #800080; text-decoration-color: #800080\">/Volumes/fanpc/app_data/sec_apps_data/speed_test/filings_13f_full/filings/1636722/</span><span style=\"color: #ff00ff; text-decoration-color: #ff00ff\">0000950123-23-001009.txt</span>\n",
       "</pre>\n"
      ],
      "text/plain": [
       "\u001b[35m/Volumes/fanpc/app_data/sec_apps_data/speed_test/filings_13f_full/filings/1636722/\u001b[0m\u001b[95m0000950123-23-001009.txt\u001b[0m\n"
      ]
     },
     "metadata": {},
     "output_type": "display_data"
    },
    {
     "data": {
      "text/html": [
       "<pre style=\"white-space:pre;overflow-x:auto;line-height:normal;font-family:Menlo,'DejaVu Sans Mono',consolas,'Courier New',monospace\">files to parse: <span style=\"color: #008080; text-decoration-color: #008080; font-weight: bold\">271</span>\n",
       "</pre>\n"
      ],
      "text/plain": [
       "files to parse: \u001b[1;36m271\u001b[0m\n"
      ]
     },
     "metadata": {},
     "output_type": "display_data"
    },
    {
     "data": {
      "text/html": [
       "<pre style=\"white-space:pre;overflow-x:auto;line-height:normal;font-family:Menlo,'DejaVu Sans Mono',consolas,'Courier New',monospace\"><span style=\"color: #800080; text-decoration-color: #800080\">/Volumes/fanpc/app_data/sec_apps_data/speed_test/filings_13f_full/filings/1650781/</span><span style=\"color: #ff00ff; text-decoration-color: #ff00ff\">0001420506-23-000551.txt</span>\n",
       "</pre>\n"
      ],
      "text/plain": [
       "\u001b[35m/Volumes/fanpc/app_data/sec_apps_data/speed_test/filings_13f_full/filings/1650781/\u001b[0m\u001b[95m0001420506-23-000551.txt\u001b[0m\n"
      ]
     },
     "metadata": {},
     "output_type": "display_data"
    },
    {
     "data": {
      "text/html": [
       "<pre style=\"white-space:pre;overflow-x:auto;line-height:normal;font-family:Menlo,'DejaVu Sans Mono',consolas,'Courier New',monospace\">files to parse: <span style=\"color: #008080; text-decoration-color: #008080; font-weight: bold\">271</span>\n",
       "</pre>\n"
      ],
      "text/plain": [
       "files to parse: \u001b[1;36m271\u001b[0m\n"
      ]
     },
     "metadata": {},
     "output_type": "display_data"
    },
    {
     "data": {
      "text/html": [
       "<pre style=\"white-space:pre;overflow-x:auto;line-height:normal;font-family:Menlo,'DejaVu Sans Mono',consolas,'Courier New',monospace\"><span style=\"color: #800080; text-decoration-color: #800080\">/Volumes/fanpc/app_data/sec_apps_data/speed_test/filings_13f_full/filings/1654586/</span><span style=\"color: #ff00ff; text-decoration-color: #ff00ff\">0000950123-23-000622.txt</span>\n",
       "</pre>\n"
      ],
      "text/plain": [
       "\u001b[35m/Volumes/fanpc/app_data/sec_apps_data/speed_test/filings_13f_full/filings/1654586/\u001b[0m\u001b[95m0000950123-23-000622.txt\u001b[0m\n"
      ]
     },
     "metadata": {},
     "output_type": "display_data"
    },
    {
     "data": {
      "text/html": [
       "<pre style=\"white-space:pre;overflow-x:auto;line-height:normal;font-family:Menlo,'DejaVu Sans Mono',consolas,'Courier New',monospace\">files to parse: <span style=\"color: #008080; text-decoration-color: #008080; font-weight: bold\">271</span>\n",
       "</pre>\n"
      ],
      "text/plain": [
       "files to parse: \u001b[1;36m271\u001b[0m\n"
      ]
     },
     "metadata": {},
     "output_type": "display_data"
    },
    {
     "data": {
      "text/html": [
       "<pre style=\"white-space:pre;overflow-x:auto;line-height:normal;font-family:Menlo,'DejaVu Sans Mono',consolas,'Courier New',monospace\"><span style=\"color: #800080; text-decoration-color: #800080\">/Volumes/fanpc/app_data/sec_apps_data/speed_test/filings_13f_full/filings/1656187/</span><span style=\"color: #ff00ff; text-decoration-color: #ff00ff\">0001085146-23-000399.txt</span>\n",
       "</pre>\n"
      ],
      "text/plain": [
       "\u001b[35m/Volumes/fanpc/app_data/sec_apps_data/speed_test/filings_13f_full/filings/1656187/\u001b[0m\u001b[95m0001085146-23-000399.txt\u001b[0m\n"
      ]
     },
     "metadata": {},
     "output_type": "display_data"
    },
    {
     "data": {
      "text/html": [
       "<pre style=\"white-space:pre;overflow-x:auto;line-height:normal;font-family:Menlo,'DejaVu Sans Mono',consolas,'Courier New',monospace\">files to parse: <span style=\"color: #008080; text-decoration-color: #008080; font-weight: bold\">271</span>\n",
       "</pre>\n"
      ],
      "text/plain": [
       "files to parse: \u001b[1;36m271\u001b[0m\n"
      ]
     },
     "metadata": {},
     "output_type": "display_data"
    },
    {
     "data": {
      "text/html": [
       "<pre style=\"white-space:pre;overflow-x:auto;line-height:normal;font-family:Menlo,'DejaVu Sans Mono',consolas,'Courier New',monospace\"><span style=\"color: #800080; text-decoration-color: #800080\">/Volumes/fanpc/app_data/sec_apps_data/speed_test/filings_13f_full/filings/1661191/</span><span style=\"color: #ff00ff; text-decoration-color: #ff00ff\">0000905148-23-000224.txt</span>\n",
       "</pre>\n"
      ],
      "text/plain": [
       "\u001b[35m/Volumes/fanpc/app_data/sec_apps_data/speed_test/filings_13f_full/filings/1661191/\u001b[0m\u001b[95m0000905148-23-000224.txt\u001b[0m\n"
      ]
     },
     "metadata": {},
     "output_type": "display_data"
    },
    {
     "data": {
      "text/html": [
       "<pre style=\"white-space:pre;overflow-x:auto;line-height:normal;font-family:Menlo,'DejaVu Sans Mono',consolas,'Courier New',monospace\">files to parse: <span style=\"color: #008080; text-decoration-color: #008080; font-weight: bold\">271</span>\n",
       "</pre>\n"
      ],
      "text/plain": [
       "files to parse: \u001b[1;36m271\u001b[0m\n"
      ]
     },
     "metadata": {},
     "output_type": "display_data"
    },
    {
     "data": {
      "text/html": [
       "<pre style=\"white-space:pre;overflow-x:auto;line-height:normal;font-family:Menlo,'DejaVu Sans Mono',consolas,'Courier New',monospace\"><span style=\"color: #800080; text-decoration-color: #800080\">/Volumes/fanpc/app_data/sec_apps_data/speed_test/filings_13f_full/filings/1664772/</span><span style=\"color: #ff00ff; text-decoration-color: #ff00ff\">0001664772-23-000001.txt</span>\n",
       "</pre>\n"
      ],
      "text/plain": [
       "\u001b[35m/Volumes/fanpc/app_data/sec_apps_data/speed_test/filings_13f_full/filings/1664772/\u001b[0m\u001b[95m0001664772-23-000001.txt\u001b[0m\n"
      ]
     },
     "metadata": {},
     "output_type": "display_data"
    },
    {
     "data": {
      "text/html": [
       "<pre style=\"white-space:pre;overflow-x:auto;line-height:normal;font-family:Menlo,'DejaVu Sans Mono',consolas,'Courier New',monospace\">files to parse: <span style=\"color: #008080; text-decoration-color: #008080; font-weight: bold\">271</span>\n",
       "</pre>\n"
      ],
      "text/plain": [
       "files to parse: \u001b[1;36m271\u001b[0m\n"
      ]
     },
     "metadata": {},
     "output_type": "display_data"
    },
    {
     "data": {
      "text/html": [
       "<pre style=\"white-space:pre;overflow-x:auto;line-height:normal;font-family:Menlo,'DejaVu Sans Mono',consolas,'Courier New',monospace\"><span style=\"color: #800080; text-decoration-color: #800080\">/Volumes/fanpc/app_data/sec_apps_data/speed_test/filings_13f_full/filings/1666024/</span><span style=\"color: #ff00ff; text-decoration-color: #ff00ff\">0001398344-23-005812.txt</span>\n",
       "</pre>\n"
      ],
      "text/plain": [
       "\u001b[35m/Volumes/fanpc/app_data/sec_apps_data/speed_test/filings_13f_full/filings/1666024/\u001b[0m\u001b[95m0001398344-23-005812.txt\u001b[0m\n"
      ]
     },
     "metadata": {},
     "output_type": "display_data"
    },
    {
     "data": {
      "text/html": [
       "<pre style=\"white-space:pre;overflow-x:auto;line-height:normal;font-family:Menlo,'DejaVu Sans Mono',consolas,'Courier New',monospace\">files to parse: <span style=\"color: #008080; text-decoration-color: #008080; font-weight: bold\">271</span>\n",
       "</pre>\n"
      ],
      "text/plain": [
       "files to parse: \u001b[1;36m271\u001b[0m\n"
      ]
     },
     "metadata": {},
     "output_type": "display_data"
    },
    {
     "data": {
      "text/html": [
       "<pre style=\"white-space:pre;overflow-x:auto;line-height:normal;font-family:Menlo,'DejaVu Sans Mono',consolas,'Courier New',monospace\"><span style=\"color: #800080; text-decoration-color: #800080\">/Volumes/fanpc/app_data/sec_apps_data/speed_test/filings_13f_full/filings/1666788/</span><span style=\"color: #ff00ff; text-decoration-color: #ff00ff\">0001398344-23-004889.txt</span>\n",
       "</pre>\n"
      ],
      "text/plain": [
       "\u001b[35m/Volumes/fanpc/app_data/sec_apps_data/speed_test/filings_13f_full/filings/1666788/\u001b[0m\u001b[95m0001398344-23-004889.txt\u001b[0m\n"
      ]
     },
     "metadata": {},
     "output_type": "display_data"
    },
    {
     "data": {
      "text/html": [
       "<pre style=\"white-space:pre;overflow-x:auto;line-height:normal;font-family:Menlo,'DejaVu Sans Mono',consolas,'Courier New',monospace\">files to parse: <span style=\"color: #008080; text-decoration-color: #008080; font-weight: bold\">271</span>\n",
       "</pre>\n"
      ],
      "text/plain": [
       "files to parse: \u001b[1;36m271\u001b[0m\n"
      ]
     },
     "metadata": {},
     "output_type": "display_data"
    },
    {
     "data": {
      "text/html": [
       "<pre style=\"white-space:pre;overflow-x:auto;line-height:normal;font-family:Menlo,'DejaVu Sans Mono',consolas,'Courier New',monospace\"><span style=\"color: #800080; text-decoration-color: #800080\">/Volumes/fanpc/app_data/sec_apps_data/speed_test/filings_13f_full/filings/1672775/</span><span style=\"color: #ff00ff; text-decoration-color: #ff00ff\">0001672775-23-000001.txt</span>\n",
       "</pre>\n"
      ],
      "text/plain": [
       "\u001b[35m/Volumes/fanpc/app_data/sec_apps_data/speed_test/filings_13f_full/filings/1672775/\u001b[0m\u001b[95m0001672775-23-000001.txt\u001b[0m\n"
      ]
     },
     "metadata": {},
     "output_type": "display_data"
    },
    {
     "data": {
      "text/html": [
       "<pre style=\"white-space:pre;overflow-x:auto;line-height:normal;font-family:Menlo,'DejaVu Sans Mono',consolas,'Courier New',monospace\">files to parse: <span style=\"color: #008080; text-decoration-color: #008080; font-weight: bold\">271</span>\n",
       "</pre>\n"
      ],
      "text/plain": [
       "files to parse: \u001b[1;36m271\u001b[0m\n"
      ]
     },
     "metadata": {},
     "output_type": "display_data"
    },
    {
     "data": {
      "text/html": [
       "<pre style=\"white-space:pre;overflow-x:auto;line-height:normal;font-family:Menlo,'DejaVu Sans Mono',consolas,'Courier New',monospace\"><span style=\"color: #800080; text-decoration-color: #800080\">/Volumes/fanpc/app_data/sec_apps_data/speed_test/filings_13f_full/filings/1676924/</span><span style=\"color: #ff00ff; text-decoration-color: #ff00ff\">0001420506-23-000093.txt</span>\n",
       "</pre>\n"
      ],
      "text/plain": [
       "\u001b[35m/Volumes/fanpc/app_data/sec_apps_data/speed_test/filings_13f_full/filings/1676924/\u001b[0m\u001b[95m0001420506-23-000093.txt\u001b[0m\n"
      ]
     },
     "metadata": {},
     "output_type": "display_data"
    },
    {
     "data": {
      "text/html": [
       "<pre style=\"white-space:pre;overflow-x:auto;line-height:normal;font-family:Menlo,'DejaVu Sans Mono',consolas,'Courier New',monospace\">files to parse: <span style=\"color: #008080; text-decoration-color: #008080; font-weight: bold\">271</span>\n",
       "</pre>\n"
      ],
      "text/plain": [
       "files to parse: \u001b[1;36m271\u001b[0m\n"
      ]
     },
     "metadata": {},
     "output_type": "display_data"
    },
    {
     "data": {
      "text/html": [
       "<pre style=\"white-space:pre;overflow-x:auto;line-height:normal;font-family:Menlo,'DejaVu Sans Mono',consolas,'Courier New',monospace\"><span style=\"color: #800080; text-decoration-color: #800080\">/Volumes/fanpc/app_data/sec_apps_data/speed_test/filings_13f_full/filings/1683182/</span><span style=\"color: #ff00ff; text-decoration-color: #ff00ff\">0001683182-23-000005.txt</span>\n",
       "</pre>\n"
      ],
      "text/plain": [
       "\u001b[35m/Volumes/fanpc/app_data/sec_apps_data/speed_test/filings_13f_full/filings/1683182/\u001b[0m\u001b[95m0001683182-23-000005.txt\u001b[0m\n"
      ]
     },
     "metadata": {},
     "output_type": "display_data"
    },
    {
     "data": {
      "text/html": [
       "<pre style=\"white-space:pre;overflow-x:auto;line-height:normal;font-family:Menlo,'DejaVu Sans Mono',consolas,'Courier New',monospace\">files to parse: <span style=\"color: #008080; text-decoration-color: #008080; font-weight: bold\">271</span>\n",
       "</pre>\n"
      ],
      "text/plain": [
       "files to parse: \u001b[1;36m271\u001b[0m\n"
      ]
     },
     "metadata": {},
     "output_type": "display_data"
    },
    {
     "data": {
      "text/html": [
       "<pre style=\"white-space:pre;overflow-x:auto;line-height:normal;font-family:Menlo,'DejaVu Sans Mono',consolas,'Courier New',monospace\"><span style=\"color: #800080; text-decoration-color: #800080\">/Volumes/fanpc/app_data/sec_apps_data/speed_test/filings_13f_full/filings/1683297/</span><span style=\"color: #ff00ff; text-decoration-color: #ff00ff\">0000902664-23-001531.txt</span>\n",
       "</pre>\n"
      ],
      "text/plain": [
       "\u001b[35m/Volumes/fanpc/app_data/sec_apps_data/speed_test/filings_13f_full/filings/1683297/\u001b[0m\u001b[95m0000902664-23-001531.txt\u001b[0m\n"
      ]
     },
     "metadata": {},
     "output_type": "display_data"
    },
    {
     "data": {
      "text/html": [
       "<pre style=\"white-space:pre;overflow-x:auto;line-height:normal;font-family:Menlo,'DejaVu Sans Mono',consolas,'Courier New',monospace\">files to parse: <span style=\"color: #008080; text-decoration-color: #008080; font-weight: bold\">271</span>\n",
       "</pre>\n"
      ],
      "text/plain": [
       "files to parse: \u001b[1;36m271\u001b[0m\n"
      ]
     },
     "metadata": {},
     "output_type": "display_data"
    },
    {
     "data": {
      "text/html": [
       "<pre style=\"white-space:pre;overflow-x:auto;line-height:normal;font-family:Menlo,'DejaVu Sans Mono',consolas,'Courier New',monospace\"><span style=\"color: #800080; text-decoration-color: #800080\">/Volumes/fanpc/app_data/sec_apps_data/speed_test/filings_13f_full/filings/1690680/</span><span style=\"color: #ff00ff; text-decoration-color: #ff00ff\">0000929638-23-000632.txt</span>\n",
       "</pre>\n"
      ],
      "text/plain": [
       "\u001b[35m/Volumes/fanpc/app_data/sec_apps_data/speed_test/filings_13f_full/filings/1690680/\u001b[0m\u001b[95m0000929638-23-000632.txt\u001b[0m\n"
      ]
     },
     "metadata": {},
     "output_type": "display_data"
    },
    {
     "data": {
      "text/html": [
       "<pre style=\"white-space:pre;overflow-x:auto;line-height:normal;font-family:Menlo,'DejaVu Sans Mono',consolas,'Courier New',monospace\">files to parse: <span style=\"color: #008080; text-decoration-color: #008080; font-weight: bold\">271</span>\n",
       "</pre>\n"
      ],
      "text/plain": [
       "files to parse: \u001b[1;36m271\u001b[0m\n"
      ]
     },
     "metadata": {},
     "output_type": "display_data"
    },
    {
     "data": {
      "text/html": [
       "<pre style=\"white-space:pre;overflow-x:auto;line-height:normal;font-family:Menlo,'DejaVu Sans Mono',consolas,'Courier New',monospace\"><span style=\"color: #800080; text-decoration-color: #800080\">/Volumes/fanpc/app_data/sec_apps_data/speed_test/filings_13f_full/filings/1693745/</span><span style=\"color: #ff00ff; text-decoration-color: #ff00ff\">0001693745-23-000001.txt</span>\n",
       "</pre>\n"
      ],
      "text/plain": [
       "\u001b[35m/Volumes/fanpc/app_data/sec_apps_data/speed_test/filings_13f_full/filings/1693745/\u001b[0m\u001b[95m0001693745-23-000001.txt\u001b[0m\n"
      ]
     },
     "metadata": {},
     "output_type": "display_data"
    },
    {
     "data": {
      "text/html": [
       "<pre style=\"white-space:pre;overflow-x:auto;line-height:normal;font-family:Menlo,'DejaVu Sans Mono',consolas,'Courier New',monospace\">files to parse: <span style=\"color: #008080; text-decoration-color: #008080; font-weight: bold\">271</span>\n",
       "</pre>\n"
      ],
      "text/plain": [
       "files to parse: \u001b[1;36m271\u001b[0m\n"
      ]
     },
     "metadata": {},
     "output_type": "display_data"
    },
    {
     "data": {
      "text/html": [
       "<pre style=\"white-space:pre;overflow-x:auto;line-height:normal;font-family:Menlo,'DejaVu Sans Mono',consolas,'Courier New',monospace\"><span style=\"color: #800080; text-decoration-color: #800080\">/Volumes/fanpc/app_data/sec_apps_data/speed_test/filings_13f_full/filings/1695329/</span><span style=\"color: #ff00ff; text-decoration-color: #ff00ff\">0001085146-23-001341.txt</span>\n",
       "</pre>\n"
      ],
      "text/plain": [
       "\u001b[35m/Volumes/fanpc/app_data/sec_apps_data/speed_test/filings_13f_full/filings/1695329/\u001b[0m\u001b[95m0001085146-23-001341.txt\u001b[0m\n"
      ]
     },
     "metadata": {},
     "output_type": "display_data"
    },
    {
     "data": {
      "text/html": [
       "<pre style=\"white-space:pre;overflow-x:auto;line-height:normal;font-family:Menlo,'DejaVu Sans Mono',consolas,'Courier New',monospace\">files to parse: <span style=\"color: #008080; text-decoration-color: #008080; font-weight: bold\">271</span>\n",
       "</pre>\n"
      ],
      "text/plain": [
       "files to parse: \u001b[1;36m271\u001b[0m\n"
      ]
     },
     "metadata": {},
     "output_type": "display_data"
    },
    {
     "data": {
      "text/html": [
       "<pre style=\"white-space:pre;overflow-x:auto;line-height:normal;font-family:Menlo,'DejaVu Sans Mono',consolas,'Courier New',monospace\"><span style=\"color: #800080; text-decoration-color: #800080\">/Volumes/fanpc/app_data/sec_apps_data/speed_test/filings_13f_full/filings/1696704/</span><span style=\"color: #ff00ff; text-decoration-color: #ff00ff\">0001011438-23-000064.txt</span>\n",
       "</pre>\n"
      ],
      "text/plain": [
       "\u001b[35m/Volumes/fanpc/app_data/sec_apps_data/speed_test/filings_13f_full/filings/1696704/\u001b[0m\u001b[95m0001011438-23-000064.txt\u001b[0m\n"
      ]
     },
     "metadata": {},
     "output_type": "display_data"
    },
    {
     "data": {
      "text/html": [
       "<pre style=\"white-space:pre;overflow-x:auto;line-height:normal;font-family:Menlo,'DejaVu Sans Mono',consolas,'Courier New',monospace\">files to parse: <span style=\"color: #008080; text-decoration-color: #008080; font-weight: bold\">271</span>\n",
       "</pre>\n"
      ],
      "text/plain": [
       "files to parse: \u001b[1;36m271\u001b[0m\n"
      ]
     },
     "metadata": {},
     "output_type": "display_data"
    },
    {
     "data": {
      "text/html": [
       "<pre style=\"white-space:pre;overflow-x:auto;line-height:normal;font-family:Menlo,'DejaVu Sans Mono',consolas,'Courier New',monospace\"><span style=\"color: #800080; text-decoration-color: #800080\">/Volumes/fanpc/app_data/sec_apps_data/speed_test/filings_13f_full/filings/1698926/</span><span style=\"color: #ff00ff; text-decoration-color: #ff00ff\">0001698926-23-000001.txt</span>\n",
       "</pre>\n"
      ],
      "text/plain": [
       "\u001b[35m/Volumes/fanpc/app_data/sec_apps_data/speed_test/filings_13f_full/filings/1698926/\u001b[0m\u001b[95m0001698926-23-000001.txt\u001b[0m\n"
      ]
     },
     "metadata": {},
     "output_type": "display_data"
    },
    {
     "data": {
      "text/html": [
       "<pre style=\"white-space:pre;overflow-x:auto;line-height:normal;font-family:Menlo,'DejaVu Sans Mono',consolas,'Courier New',monospace\">files to parse: <span style=\"color: #008080; text-decoration-color: #008080; font-weight: bold\">271</span>\n",
       "</pre>\n"
      ],
      "text/plain": [
       "files to parse: \u001b[1;36m271\u001b[0m\n"
      ]
     },
     "metadata": {},
     "output_type": "display_data"
    },
    {
     "data": {
      "text/html": [
       "<pre style=\"white-space:pre;overflow-x:auto;line-height:normal;font-family:Menlo,'DejaVu Sans Mono',consolas,'Courier New',monospace\"><span style=\"color: #800080; text-decoration-color: #800080\">/Volumes/fanpc/app_data/sec_apps_data/speed_test/filings_13f_full/filings/1699092/</span><span style=\"color: #ff00ff; text-decoration-color: #ff00ff\">0001699092-23-000002.txt</span>\n",
       "</pre>\n"
      ],
      "text/plain": [
       "\u001b[35m/Volumes/fanpc/app_data/sec_apps_data/speed_test/filings_13f_full/filings/1699092/\u001b[0m\u001b[95m0001699092-23-000002.txt\u001b[0m\n"
      ]
     },
     "metadata": {},
     "output_type": "display_data"
    },
    {
     "data": {
      "text/html": [
       "<pre style=\"white-space:pre;overflow-x:auto;line-height:normal;font-family:Menlo,'DejaVu Sans Mono',consolas,'Courier New',monospace\">files to parse: <span style=\"color: #008080; text-decoration-color: #008080; font-weight: bold\">271</span>\n",
       "</pre>\n"
      ],
      "text/plain": [
       "files to parse: \u001b[1;36m271\u001b[0m\n"
      ]
     },
     "metadata": {},
     "output_type": "display_data"
    },
    {
     "data": {
      "text/html": [
       "<pre style=\"white-space:pre;overflow-x:auto;line-height:normal;font-family:Menlo,'DejaVu Sans Mono',consolas,'Courier New',monospace\"><span style=\"color: #800080; text-decoration-color: #800080\">/Volumes/fanpc/app_data/sec_apps_data/speed_test/filings_13f_full/filings/1705622/</span><span style=\"color: #ff00ff; text-decoration-color: #ff00ff\">0000897423-23-000012.txt</span>\n",
       "</pre>\n"
      ],
      "text/plain": [
       "\u001b[35m/Volumes/fanpc/app_data/sec_apps_data/speed_test/filings_13f_full/filings/1705622/\u001b[0m\u001b[95m0000897423-23-000012.txt\u001b[0m\n"
      ]
     },
     "metadata": {},
     "output_type": "display_data"
    },
    {
     "data": {
      "text/html": [
       "<pre style=\"white-space:pre;overflow-x:auto;line-height:normal;font-family:Menlo,'DejaVu Sans Mono',consolas,'Courier New',monospace\">files to parse: <span style=\"color: #008080; text-decoration-color: #008080; font-weight: bold\">271</span>\n",
       "</pre>\n"
      ],
      "text/plain": [
       "files to parse: \u001b[1;36m271\u001b[0m\n"
      ]
     },
     "metadata": {},
     "output_type": "display_data"
    },
    {
     "data": {
      "text/html": [
       "<pre style=\"white-space:pre;overflow-x:auto;line-height:normal;font-family:Menlo,'DejaVu Sans Mono',consolas,'Courier New',monospace\"><span style=\"color: #800080; text-decoration-color: #800080\">/Volumes/fanpc/app_data/sec_apps_data/speed_test/filings_13f_full/filings/1711615/</span><span style=\"color: #ff00ff; text-decoration-color: #ff00ff\">0000930413-23-000963.txt</span>\n",
       "</pre>\n"
      ],
      "text/plain": [
       "\u001b[35m/Volumes/fanpc/app_data/sec_apps_data/speed_test/filings_13f_full/filings/1711615/\u001b[0m\u001b[95m0000930413-23-000963.txt\u001b[0m\n"
      ]
     },
     "metadata": {},
     "output_type": "display_data"
    },
    {
     "data": {
      "text/html": [
       "<pre style=\"white-space:pre;overflow-x:auto;line-height:normal;font-family:Menlo,'DejaVu Sans Mono',consolas,'Courier New',monospace\">files to parse: <span style=\"color: #008080; text-decoration-color: #008080; font-weight: bold\">271</span>\n",
       "</pre>\n"
      ],
      "text/plain": [
       "files to parse: \u001b[1;36m271\u001b[0m\n"
      ]
     },
     "metadata": {},
     "output_type": "display_data"
    },
    {
     "data": {
      "text/html": [
       "<pre style=\"white-space:pre;overflow-x:auto;line-height:normal;font-family:Menlo,'DejaVu Sans Mono',consolas,'Courier New',monospace\"><span style=\"color: #800080; text-decoration-color: #800080\">/Volumes/fanpc/app_data/sec_apps_data/speed_test/filings_13f_full/filings/1719883/</span><span style=\"color: #ff00ff; text-decoration-color: #ff00ff\">0001567619-23-001641.txt</span>\n",
       "</pre>\n"
      ],
      "text/plain": [
       "\u001b[35m/Volumes/fanpc/app_data/sec_apps_data/speed_test/filings_13f_full/filings/1719883/\u001b[0m\u001b[95m0001567619-23-001641.txt\u001b[0m\n"
      ]
     },
     "metadata": {},
     "output_type": "display_data"
    },
    {
     "data": {
      "text/html": [
       "<pre style=\"white-space:pre;overflow-x:auto;line-height:normal;font-family:Menlo,'DejaVu Sans Mono',consolas,'Courier New',monospace\">files to parse: <span style=\"color: #008080; text-decoration-color: #008080; font-weight: bold\">271</span>\n",
       "</pre>\n"
      ],
      "text/plain": [
       "files to parse: \u001b[1;36m271\u001b[0m\n"
      ]
     },
     "metadata": {},
     "output_type": "display_data"
    },
    {
     "data": {
      "text/html": [
       "<pre style=\"white-space:pre;overflow-x:auto;line-height:normal;font-family:Menlo,'DejaVu Sans Mono',consolas,'Courier New',monospace\"><span style=\"color: #800080; text-decoration-color: #800080\">/Volumes/fanpc/app_data/sec_apps_data/speed_test/filings_13f_full/filings/1725296/</span><span style=\"color: #ff00ff; text-decoration-color: #ff00ff\">0001725296-23-000004.txt</span>\n",
       "</pre>\n"
      ],
      "text/plain": [
       "\u001b[35m/Volumes/fanpc/app_data/sec_apps_data/speed_test/filings_13f_full/filings/1725296/\u001b[0m\u001b[95m0001725296-23-000004.txt\u001b[0m\n"
      ]
     },
     "metadata": {},
     "output_type": "display_data"
    },
    {
     "data": {
      "text/html": [
       "<pre style=\"white-space:pre;overflow-x:auto;line-height:normal;font-family:Menlo,'DejaVu Sans Mono',consolas,'Courier New',monospace\">files to parse: <span style=\"color: #008080; text-decoration-color: #008080; font-weight: bold\">271</span>\n",
       "</pre>\n"
      ],
      "text/plain": [
       "files to parse: \u001b[1;36m271\u001b[0m\n"
      ]
     },
     "metadata": {},
     "output_type": "display_data"
    },
    {
     "data": {
      "text/html": [
       "<pre style=\"white-space:pre;overflow-x:auto;line-height:normal;font-family:Menlo,'DejaVu Sans Mono',consolas,'Courier New',monospace\"><span style=\"color: #800080; text-decoration-color: #800080\">/Volumes/fanpc/app_data/sec_apps_data/speed_test/filings_13f_full/filings/1728321/</span><span style=\"color: #ff00ff; text-decoration-color: #ff00ff\">0001398344-23-004043.txt</span>\n",
       "</pre>\n"
      ],
      "text/plain": [
       "\u001b[35m/Volumes/fanpc/app_data/sec_apps_data/speed_test/filings_13f_full/filings/1728321/\u001b[0m\u001b[95m0001398344-23-004043.txt\u001b[0m\n"
      ]
     },
     "metadata": {},
     "output_type": "display_data"
    },
    {
     "data": {
      "text/html": [
       "<pre style=\"white-space:pre;overflow-x:auto;line-height:normal;font-family:Menlo,'DejaVu Sans Mono',consolas,'Courier New',monospace\">files to parse: <span style=\"color: #008080; text-decoration-color: #008080; font-weight: bold\">271</span>\n",
       "</pre>\n"
      ],
      "text/plain": [
       "files to parse: \u001b[1;36m271\u001b[0m\n"
      ]
     },
     "metadata": {},
     "output_type": "display_data"
    },
    {
     "data": {
      "text/html": [
       "<pre style=\"white-space:pre;overflow-x:auto;line-height:normal;font-family:Menlo,'DejaVu Sans Mono',consolas,'Courier New',monospace\"><span style=\"color: #800080; text-decoration-color: #800080\">/Volumes/fanpc/app_data/sec_apps_data/speed_test/filings_13f_full/filings/1730383/</span><span style=\"color: #ff00ff; text-decoration-color: #ff00ff\">0001730383-23-000002.txt</span>\n",
       "</pre>\n"
      ],
      "text/plain": [
       "\u001b[35m/Volumes/fanpc/app_data/sec_apps_data/speed_test/filings_13f_full/filings/1730383/\u001b[0m\u001b[95m0001730383-23-000002.txt\u001b[0m\n"
      ]
     },
     "metadata": {},
     "output_type": "display_data"
    },
    {
     "data": {
      "text/html": [
       "<pre style=\"white-space:pre;overflow-x:auto;line-height:normal;font-family:Menlo,'DejaVu Sans Mono',consolas,'Courier New',monospace\">files to parse: <span style=\"color: #008080; text-decoration-color: #008080; font-weight: bold\">271</span>\n",
       "</pre>\n"
      ],
      "text/plain": [
       "files to parse: \u001b[1;36m271\u001b[0m\n"
      ]
     },
     "metadata": {},
     "output_type": "display_data"
    },
    {
     "data": {
      "text/html": [
       "<pre style=\"white-space:pre;overflow-x:auto;line-height:normal;font-family:Menlo,'DejaVu Sans Mono',consolas,'Courier New',monospace\"><span style=\"color: #800080; text-decoration-color: #800080\">/Volumes/fanpc/app_data/sec_apps_data/speed_test/filings_13f_full/filings/1738126/</span><span style=\"color: #ff00ff; text-decoration-color: #ff00ff\">0001172661-23-001510.txt</span>\n",
       "</pre>\n"
      ],
      "text/plain": [
       "\u001b[35m/Volumes/fanpc/app_data/sec_apps_data/speed_test/filings_13f_full/filings/1738126/\u001b[0m\u001b[95m0001172661-23-001510.txt\u001b[0m\n"
      ]
     },
     "metadata": {},
     "output_type": "display_data"
    },
    {
     "data": {
      "text/html": [
       "<pre style=\"white-space:pre;overflow-x:auto;line-height:normal;font-family:Menlo,'DejaVu Sans Mono',consolas,'Courier New',monospace\">files to parse: <span style=\"color: #008080; text-decoration-color: #008080; font-weight: bold\">271</span>\n",
       "</pre>\n"
      ],
      "text/plain": [
       "files to parse: \u001b[1;36m271\u001b[0m\n"
      ]
     },
     "metadata": {},
     "output_type": "display_data"
    },
    {
     "data": {
      "text/html": [
       "<pre style=\"white-space:pre;overflow-x:auto;line-height:normal;font-family:Menlo,'DejaVu Sans Mono',consolas,'Courier New',monospace\"><span style=\"color: #800080; text-decoration-color: #800080\">/Volumes/fanpc/app_data/sec_apps_data/speed_test/filings_13f_full/filings/1739439/</span><span style=\"color: #ff00ff; text-decoration-color: #ff00ff\">0001739439-23-000005.txt</span>\n",
       "</pre>\n"
      ],
      "text/plain": [
       "\u001b[35m/Volumes/fanpc/app_data/sec_apps_data/speed_test/filings_13f_full/filings/1739439/\u001b[0m\u001b[95m0001739439-23-000005.txt\u001b[0m\n"
      ]
     },
     "metadata": {},
     "output_type": "display_data"
    },
    {
     "data": {
      "text/html": [
       "<pre style=\"white-space:pre;overflow-x:auto;line-height:normal;font-family:Menlo,'DejaVu Sans Mono',consolas,'Courier New',monospace\">files to parse: <span style=\"color: #008080; text-decoration-color: #008080; font-weight: bold\">271</span>\n",
       "</pre>\n"
      ],
      "text/plain": [
       "files to parse: \u001b[1;36m271\u001b[0m\n"
      ]
     },
     "metadata": {},
     "output_type": "display_data"
    },
    {
     "data": {
      "text/html": [
       "<pre style=\"white-space:pre;overflow-x:auto;line-height:normal;font-family:Menlo,'DejaVu Sans Mono',consolas,'Courier New',monospace\"><span style=\"color: #800080; text-decoration-color: #800080\">/Volumes/fanpc/app_data/sec_apps_data/speed_test/filings_13f_full/filings/1759578/</span><span style=\"color: #ff00ff; text-decoration-color: #ff00ff\">0001759578-23-000003.txt</span>\n",
       "</pre>\n"
      ],
      "text/plain": [
       "\u001b[35m/Volumes/fanpc/app_data/sec_apps_data/speed_test/filings_13f_full/filings/1759578/\u001b[0m\u001b[95m0001759578-23-000003.txt\u001b[0m\n"
      ]
     },
     "metadata": {},
     "output_type": "display_data"
    },
    {
     "data": {
      "text/html": [
       "<pre style=\"white-space:pre;overflow-x:auto;line-height:normal;font-family:Menlo,'DejaVu Sans Mono',consolas,'Courier New',monospace\">files to parse: <span style=\"color: #008080; text-decoration-color: #008080; font-weight: bold\">271</span>\n",
       "</pre>\n"
      ],
      "text/plain": [
       "files to parse: \u001b[1;36m271\u001b[0m\n"
      ]
     },
     "metadata": {},
     "output_type": "display_data"
    },
    {
     "data": {
      "text/html": [
       "<pre style=\"white-space:pre;overflow-x:auto;line-height:normal;font-family:Menlo,'DejaVu Sans Mono',consolas,'Courier New',monospace\"><span style=\"color: #800080; text-decoration-color: #800080\">/Volumes/fanpc/app_data/sec_apps_data/speed_test/filings_13f_full/filings/1759637/</span><span style=\"color: #ff00ff; text-decoration-color: #ff00ff\">0001567619-23-002896.txt</span>\n",
       "</pre>\n"
      ],
      "text/plain": [
       "\u001b[35m/Volumes/fanpc/app_data/sec_apps_data/speed_test/filings_13f_full/filings/1759637/\u001b[0m\u001b[95m0001567619-23-002896.txt\u001b[0m\n"
      ]
     },
     "metadata": {},
     "output_type": "display_data"
    },
    {
     "data": {
      "text/html": [
       "<pre style=\"white-space:pre;overflow-x:auto;line-height:normal;font-family:Menlo,'DejaVu Sans Mono',consolas,'Courier New',monospace\">files to parse: <span style=\"color: #008080; text-decoration-color: #008080; font-weight: bold\">271</span>\n",
       "</pre>\n"
      ],
      "text/plain": [
       "files to parse: \u001b[1;36m271\u001b[0m\n"
      ]
     },
     "metadata": {},
     "output_type": "display_data"
    },
    {
     "data": {
      "text/html": [
       "<pre style=\"white-space:pre;overflow-x:auto;line-height:normal;font-family:Menlo,'DejaVu Sans Mono',consolas,'Courier New',monospace\"><span style=\"color: #800080; text-decoration-color: #800080\">/Volumes/fanpc/app_data/sec_apps_data/speed_test/filings_13f_full/filings/1764386/</span><span style=\"color: #ff00ff; text-decoration-color: #ff00ff\">0001764386-23-000002.txt</span>\n",
       "</pre>\n"
      ],
      "text/plain": [
       "\u001b[35m/Volumes/fanpc/app_data/sec_apps_data/speed_test/filings_13f_full/filings/1764386/\u001b[0m\u001b[95m0001764386-23-000002.txt\u001b[0m\n"
      ]
     },
     "metadata": {},
     "output_type": "display_data"
    },
    {
     "data": {
      "text/html": [
       "<pre style=\"white-space:pre;overflow-x:auto;line-height:normal;font-family:Menlo,'DejaVu Sans Mono',consolas,'Courier New',monospace\">files to parse: <span style=\"color: #008080; text-decoration-color: #008080; font-weight: bold\">271</span>\n",
       "</pre>\n"
      ],
      "text/plain": [
       "files to parse: \u001b[1;36m271\u001b[0m\n"
      ]
     },
     "metadata": {},
     "output_type": "display_data"
    },
    {
     "data": {
      "text/html": [
       "<pre style=\"white-space:pre;overflow-x:auto;line-height:normal;font-family:Menlo,'DejaVu Sans Mono',consolas,'Courier New',monospace\"><span style=\"color: #800080; text-decoration-color: #800080\">/Volumes/fanpc/app_data/sec_apps_data/speed_test/filings_13f_full/filings/1766520/</span><span style=\"color: #ff00ff; text-decoration-color: #ff00ff\">0001172661-23-001533.txt</span>\n",
       "</pre>\n"
      ],
      "text/plain": [
       "\u001b[35m/Volumes/fanpc/app_data/sec_apps_data/speed_test/filings_13f_full/filings/1766520/\u001b[0m\u001b[95m0001172661-23-001533.txt\u001b[0m\n"
      ]
     },
     "metadata": {},
     "output_type": "display_data"
    },
    {
     "data": {
      "text/html": [
       "<pre style=\"white-space:pre;overflow-x:auto;line-height:normal;font-family:Menlo,'DejaVu Sans Mono',consolas,'Courier New',monospace\">files to parse: <span style=\"color: #008080; text-decoration-color: #008080; font-weight: bold\">271</span>\n",
       "</pre>\n"
      ],
      "text/plain": [
       "files to parse: \u001b[1;36m271\u001b[0m\n"
      ]
     },
     "metadata": {},
     "output_type": "display_data"
    },
    {
     "data": {
      "text/html": [
       "<pre style=\"white-space:pre;overflow-x:auto;line-height:normal;font-family:Menlo,'DejaVu Sans Mono',consolas,'Courier New',monospace\"><span style=\"color: #800080; text-decoration-color: #800080\">/Volumes/fanpc/app_data/sec_apps_data/speed_test/filings_13f_full/filings/1766520/</span><span style=\"color: #ff00ff; text-decoration-color: #ff00ff\">0001172661-23-001534.txt</span>\n",
       "</pre>\n"
      ],
      "text/plain": [
       "\u001b[35m/Volumes/fanpc/app_data/sec_apps_data/speed_test/filings_13f_full/filings/1766520/\u001b[0m\u001b[95m0001172661-23-001534.txt\u001b[0m\n"
      ]
     },
     "metadata": {},
     "output_type": "display_data"
    },
    {
     "data": {
      "text/html": [
       "<pre style=\"white-space:pre;overflow-x:auto;line-height:normal;font-family:Menlo,'DejaVu Sans Mono',consolas,'Courier New',monospace\">files to parse: <span style=\"color: #008080; text-decoration-color: #008080; font-weight: bold\">271</span>\n",
       "</pre>\n"
      ],
      "text/plain": [
       "files to parse: \u001b[1;36m271\u001b[0m\n"
      ]
     },
     "metadata": {},
     "output_type": "display_data"
    },
    {
     "data": {
      "text/html": [
       "<pre style=\"white-space:pre;overflow-x:auto;line-height:normal;font-family:Menlo,'DejaVu Sans Mono',consolas,'Courier New',monospace\"><span style=\"color: #800080; text-decoration-color: #800080\">/Volumes/fanpc/app_data/sec_apps_data/speed_test/filings_13f_full/filings/1766520/</span><span style=\"color: #ff00ff; text-decoration-color: #ff00ff\">0001172661-23-001535.txt</span>\n",
       "</pre>\n"
      ],
      "text/plain": [
       "\u001b[35m/Volumes/fanpc/app_data/sec_apps_data/speed_test/filings_13f_full/filings/1766520/\u001b[0m\u001b[95m0001172661-23-001535.txt\u001b[0m\n"
      ]
     },
     "metadata": {},
     "output_type": "display_data"
    },
    {
     "data": {
      "text/html": [
       "<pre style=\"white-space:pre;overflow-x:auto;line-height:normal;font-family:Menlo,'DejaVu Sans Mono',consolas,'Courier New',monospace\">files to parse: <span style=\"color: #008080; text-decoration-color: #008080; font-weight: bold\">271</span>\n",
       "</pre>\n"
      ],
      "text/plain": [
       "files to parse: \u001b[1;36m271\u001b[0m\n"
      ]
     },
     "metadata": {},
     "output_type": "display_data"
    },
    {
     "data": {
      "text/html": [
       "<pre style=\"white-space:pre;overflow-x:auto;line-height:normal;font-family:Menlo,'DejaVu Sans Mono',consolas,'Courier New',monospace\"><span style=\"color: #800080; text-decoration-color: #800080\">/Volumes/fanpc/app_data/sec_apps_data/speed_test/filings_13f_full/filings/1766520/</span><span style=\"color: #ff00ff; text-decoration-color: #ff00ff\">0001172661-23-001536.txt</span>\n",
       "</pre>\n"
      ],
      "text/plain": [
       "\u001b[35m/Volumes/fanpc/app_data/sec_apps_data/speed_test/filings_13f_full/filings/1766520/\u001b[0m\u001b[95m0001172661-23-001536.txt\u001b[0m\n"
      ]
     },
     "metadata": {},
     "output_type": "display_data"
    },
    {
     "data": {
      "text/html": [
       "<pre style=\"white-space:pre;overflow-x:auto;line-height:normal;font-family:Menlo,'DejaVu Sans Mono',consolas,'Courier New',monospace\">files to parse: <span style=\"color: #008080; text-decoration-color: #008080; font-weight: bold\">271</span>\n",
       "</pre>\n"
      ],
      "text/plain": [
       "files to parse: \u001b[1;36m271\u001b[0m\n"
      ]
     },
     "metadata": {},
     "output_type": "display_data"
    },
    {
     "data": {
      "text/html": [
       "<pre style=\"white-space:pre;overflow-x:auto;line-height:normal;font-family:Menlo,'DejaVu Sans Mono',consolas,'Courier New',monospace\"><span style=\"color: #800080; text-decoration-color: #800080\">/Volumes/fanpc/app_data/sec_apps_data/speed_test/filings_13f_full/filings/1766520/</span><span style=\"color: #ff00ff; text-decoration-color: #ff00ff\">0001172661-23-001537.txt</span>\n",
       "</pre>\n"
      ],
      "text/plain": [
       "\u001b[35m/Volumes/fanpc/app_data/sec_apps_data/speed_test/filings_13f_full/filings/1766520/\u001b[0m\u001b[95m0001172661-23-001537.txt\u001b[0m\n"
      ]
     },
     "metadata": {},
     "output_type": "display_data"
    },
    {
     "data": {
      "text/html": [
       "<pre style=\"white-space:pre;overflow-x:auto;line-height:normal;font-family:Menlo,'DejaVu Sans Mono',consolas,'Courier New',monospace\">files to parse: <span style=\"color: #008080; text-decoration-color: #008080; font-weight: bold\">271</span>\n",
       "</pre>\n"
      ],
      "text/plain": [
       "files to parse: \u001b[1;36m271\u001b[0m\n"
      ]
     },
     "metadata": {},
     "output_type": "display_data"
    },
    {
     "data": {
      "text/html": [
       "<pre style=\"white-space:pre;overflow-x:auto;line-height:normal;font-family:Menlo,'DejaVu Sans Mono',consolas,'Courier New',monospace\"><span style=\"color: #800080; text-decoration-color: #800080\">/Volumes/fanpc/app_data/sec_apps_data/speed_test/filings_13f_full/filings/1766520/</span><span style=\"color: #ff00ff; text-decoration-color: #ff00ff\">0001172661-23-001538.txt</span>\n",
       "</pre>\n"
      ],
      "text/plain": [
       "\u001b[35m/Volumes/fanpc/app_data/sec_apps_data/speed_test/filings_13f_full/filings/1766520/\u001b[0m\u001b[95m0001172661-23-001538.txt\u001b[0m\n"
      ]
     },
     "metadata": {},
     "output_type": "display_data"
    },
    {
     "data": {
      "text/html": [
       "<pre style=\"white-space:pre;overflow-x:auto;line-height:normal;font-family:Menlo,'DejaVu Sans Mono',consolas,'Courier New',monospace\">files to parse: <span style=\"color: #008080; text-decoration-color: #008080; font-weight: bold\">271</span>\n",
       "</pre>\n"
      ],
      "text/plain": [
       "files to parse: \u001b[1;36m271\u001b[0m\n"
      ]
     },
     "metadata": {},
     "output_type": "display_data"
    },
    {
     "data": {
      "text/html": [
       "<pre style=\"white-space:pre;overflow-x:auto;line-height:normal;font-family:Menlo,'DejaVu Sans Mono',consolas,'Courier New',monospace\"><span style=\"color: #800080; text-decoration-color: #800080\">/Volumes/fanpc/app_data/sec_apps_data/speed_test/filings_13f_full/filings/1766520/</span><span style=\"color: #ff00ff; text-decoration-color: #ff00ff\">0001172661-23-001539.txt</span>\n",
       "</pre>\n"
      ],
      "text/plain": [
       "\u001b[35m/Volumes/fanpc/app_data/sec_apps_data/speed_test/filings_13f_full/filings/1766520/\u001b[0m\u001b[95m0001172661-23-001539.txt\u001b[0m\n"
      ]
     },
     "metadata": {},
     "output_type": "display_data"
    },
    {
     "data": {
      "text/html": [
       "<pre style=\"white-space:pre;overflow-x:auto;line-height:normal;font-family:Menlo,'DejaVu Sans Mono',consolas,'Courier New',monospace\">files to parse: <span style=\"color: #008080; text-decoration-color: #008080; font-weight: bold\">271</span>\n",
       "</pre>\n"
      ],
      "text/plain": [
       "files to parse: \u001b[1;36m271\u001b[0m\n"
      ]
     },
     "metadata": {},
     "output_type": "display_data"
    },
    {
     "data": {
      "text/html": [
       "<pre style=\"white-space:pre;overflow-x:auto;line-height:normal;font-family:Menlo,'DejaVu Sans Mono',consolas,'Courier New',monospace\"><span style=\"color: #800080; text-decoration-color: #800080\">/Volumes/fanpc/app_data/sec_apps_data/speed_test/filings_13f_full/filings/1766520/</span><span style=\"color: #ff00ff; text-decoration-color: #ff00ff\">0001172661-23-001540.txt</span>\n",
       "</pre>\n"
      ],
      "text/plain": [
       "\u001b[35m/Volumes/fanpc/app_data/sec_apps_data/speed_test/filings_13f_full/filings/1766520/\u001b[0m\u001b[95m0001172661-23-001540.txt\u001b[0m\n"
      ]
     },
     "metadata": {},
     "output_type": "display_data"
    },
    {
     "data": {
      "text/html": [
       "<pre style=\"white-space:pre;overflow-x:auto;line-height:normal;font-family:Menlo,'DejaVu Sans Mono',consolas,'Courier New',monospace\">files to parse: <span style=\"color: #008080; text-decoration-color: #008080; font-weight: bold\">271</span>\n",
       "</pre>\n"
      ],
      "text/plain": [
       "files to parse: \u001b[1;36m271\u001b[0m\n"
      ]
     },
     "metadata": {},
     "output_type": "display_data"
    },
    {
     "data": {
      "text/html": [
       "<pre style=\"white-space:pre;overflow-x:auto;line-height:normal;font-family:Menlo,'DejaVu Sans Mono',consolas,'Courier New',monospace\"><span style=\"color: #800080; text-decoration-color: #800080\">/Volumes/fanpc/app_data/sec_apps_data/speed_test/filings_13f_full/filings/1766520/</span><span style=\"color: #ff00ff; text-decoration-color: #ff00ff\">0001172661-23-001541.txt</span>\n",
       "</pre>\n"
      ],
      "text/plain": [
       "\u001b[35m/Volumes/fanpc/app_data/sec_apps_data/speed_test/filings_13f_full/filings/1766520/\u001b[0m\u001b[95m0001172661-23-001541.txt\u001b[0m\n"
      ]
     },
     "metadata": {},
     "output_type": "display_data"
    },
    {
     "data": {
      "text/html": [
       "<pre style=\"white-space:pre;overflow-x:auto;line-height:normal;font-family:Menlo,'DejaVu Sans Mono',consolas,'Courier New',monospace\">files to parse: <span style=\"color: #008080; text-decoration-color: #008080; font-weight: bold\">271</span>\n",
       "</pre>\n"
      ],
      "text/plain": [
       "files to parse: \u001b[1;36m271\u001b[0m\n"
      ]
     },
     "metadata": {},
     "output_type": "display_data"
    },
    {
     "data": {
      "text/html": [
       "<pre style=\"white-space:pre;overflow-x:auto;line-height:normal;font-family:Menlo,'DejaVu Sans Mono',consolas,'Courier New',monospace\"><span style=\"color: #800080; text-decoration-color: #800080\">/Volumes/fanpc/app_data/sec_apps_data/speed_test/filings_13f_full/filings/1767617/</span><span style=\"color: #ff00ff; text-decoration-color: #ff00ff\">0001705819-23-000040.txt</span>\n",
       "</pre>\n"
      ],
      "text/plain": [
       "\u001b[35m/Volumes/fanpc/app_data/sec_apps_data/speed_test/filings_13f_full/filings/1767617/\u001b[0m\u001b[95m0001705819-23-000040.txt\u001b[0m\n"
      ]
     },
     "metadata": {},
     "output_type": "display_data"
    },
    {
     "data": {
      "text/html": [
       "<pre style=\"white-space:pre;overflow-x:auto;line-height:normal;font-family:Menlo,'DejaVu Sans Mono',consolas,'Courier New',monospace\">files to parse: <span style=\"color: #008080; text-decoration-color: #008080; font-weight: bold\">271</span>\n",
       "</pre>\n"
      ],
      "text/plain": [
       "files to parse: \u001b[1;36m271\u001b[0m\n"
      ]
     },
     "metadata": {},
     "output_type": "display_data"
    },
    {
     "data": {
      "text/html": [
       "<pre style=\"white-space:pre;overflow-x:auto;line-height:normal;font-family:Menlo,'DejaVu Sans Mono',consolas,'Courier New',monospace\"><span style=\"color: #800080; text-decoration-color: #800080\">/Volumes/fanpc/app_data/sec_apps_data/speed_test/filings_13f_full/filings/1767735/</span><span style=\"color: #ff00ff; text-decoration-color: #ff00ff\">0001705819-23-000039.txt</span>\n",
       "</pre>\n"
      ],
      "text/plain": [
       "\u001b[35m/Volumes/fanpc/app_data/sec_apps_data/speed_test/filings_13f_full/filings/1767735/\u001b[0m\u001b[95m0001705819-23-000039.txt\u001b[0m\n"
      ]
     },
     "metadata": {},
     "output_type": "display_data"
    },
    {
     "data": {
      "text/html": [
       "<pre style=\"white-space:pre;overflow-x:auto;line-height:normal;font-family:Menlo,'DejaVu Sans Mono',consolas,'Courier New',monospace\">files to parse: <span style=\"color: #008080; text-decoration-color: #008080; font-weight: bold\">271</span>\n",
       "</pre>\n"
      ],
      "text/plain": [
       "files to parse: \u001b[1;36m271\u001b[0m\n"
      ]
     },
     "metadata": {},
     "output_type": "display_data"
    },
    {
     "data": {
      "text/html": [
       "<pre style=\"white-space:pre;overflow-x:auto;line-height:normal;font-family:Menlo,'DejaVu Sans Mono',consolas,'Courier New',monospace\"><span style=\"color: #800080; text-decoration-color: #800080\">/Volumes/fanpc/app_data/sec_apps_data/speed_test/filings_13f_full/filings/1770682/</span><span style=\"color: #ff00ff; text-decoration-color: #ff00ff\">0001315863-23-000323.txt</span>\n",
       "</pre>\n"
      ],
      "text/plain": [
       "\u001b[35m/Volumes/fanpc/app_data/sec_apps_data/speed_test/filings_13f_full/filings/1770682/\u001b[0m\u001b[95m0001315863-23-000323.txt\u001b[0m\n"
      ]
     },
     "metadata": {},
     "output_type": "display_data"
    },
    {
     "data": {
      "text/html": [
       "<pre style=\"white-space:pre;overflow-x:auto;line-height:normal;font-family:Menlo,'DejaVu Sans Mono',consolas,'Courier New',monospace\">files to parse: <span style=\"color: #008080; text-decoration-color: #008080; font-weight: bold\">271</span>\n",
       "</pre>\n"
      ],
      "text/plain": [
       "files to parse: \u001b[1;36m271\u001b[0m\n"
      ]
     },
     "metadata": {},
     "output_type": "display_data"
    },
    {
     "data": {
      "text/html": [
       "<pre style=\"white-space:pre;overflow-x:auto;line-height:normal;font-family:Menlo,'DejaVu Sans Mono',consolas,'Courier New',monospace\"><span style=\"color: #800080; text-decoration-color: #800080\">/Volumes/fanpc/app_data/sec_apps_data/speed_test/filings_13f_full/filings/1771377/</span><span style=\"color: #ff00ff; text-decoration-color: #ff00ff\">0001013594-23-000199.txt</span>\n",
       "</pre>\n"
      ],
      "text/plain": [
       "\u001b[35m/Volumes/fanpc/app_data/sec_apps_data/speed_test/filings_13f_full/filings/1771377/\u001b[0m\u001b[95m0001013594-23-000199.txt\u001b[0m\n"
      ]
     },
     "metadata": {},
     "output_type": "display_data"
    },
    {
     "data": {
      "text/html": [
       "<pre style=\"white-space:pre;overflow-x:auto;line-height:normal;font-family:Menlo,'DejaVu Sans Mono',consolas,'Courier New',monospace\">files to parse: <span style=\"color: #008080; text-decoration-color: #008080; font-weight: bold\">271</span>\n",
       "</pre>\n"
      ],
      "text/plain": [
       "files to parse: \u001b[1;36m271\u001b[0m\n"
      ]
     },
     "metadata": {},
     "output_type": "display_data"
    },
    {
     "data": {
      "text/html": [
       "<pre style=\"white-space:pre;overflow-x:auto;line-height:normal;font-family:Menlo,'DejaVu Sans Mono',consolas,'Courier New',monospace\"><span style=\"color: #800080; text-decoration-color: #800080\">/Volumes/fanpc/app_data/sec_apps_data/speed_test/filings_13f_full/filings/1777371/</span><span style=\"color: #ff00ff; text-decoration-color: #ff00ff\">0000902664-23-001544.txt</span>\n",
       "</pre>\n"
      ],
      "text/plain": [
       "\u001b[35m/Volumes/fanpc/app_data/sec_apps_data/speed_test/filings_13f_full/filings/1777371/\u001b[0m\u001b[95m0000902664-23-001544.txt\u001b[0m\n"
      ]
     },
     "metadata": {},
     "output_type": "display_data"
    },
    {
     "data": {
      "text/html": [
       "<pre style=\"white-space:pre;overflow-x:auto;line-height:normal;font-family:Menlo,'DejaVu Sans Mono',consolas,'Courier New',monospace\">files to parse: <span style=\"color: #008080; text-decoration-color: #008080; font-weight: bold\">271</span>\n",
       "</pre>\n"
      ],
      "text/plain": [
       "files to parse: \u001b[1;36m271\u001b[0m\n"
      ]
     },
     "metadata": {},
     "output_type": "display_data"
    },
    {
     "data": {
      "text/html": [
       "<pre style=\"white-space:pre;overflow-x:auto;line-height:normal;font-family:Menlo,'DejaVu Sans Mono',consolas,'Courier New',monospace\"><span style=\"color: #800080; text-decoration-color: #800080\">/Volumes/fanpc/app_data/sec_apps_data/speed_test/filings_13f_full/filings/1785546/</span><span style=\"color: #ff00ff; text-decoration-color: #ff00ff\">0001785546-23-000001.txt</span>\n",
       "</pre>\n"
      ],
      "text/plain": [
       "\u001b[35m/Volumes/fanpc/app_data/sec_apps_data/speed_test/filings_13f_full/filings/1785546/\u001b[0m\u001b[95m0001785546-23-000001.txt\u001b[0m\n"
      ]
     },
     "metadata": {},
     "output_type": "display_data"
    },
    {
     "data": {
      "text/html": [
       "<pre style=\"white-space:pre;overflow-x:auto;line-height:normal;font-family:Menlo,'DejaVu Sans Mono',consolas,'Courier New',monospace\">files to parse: <span style=\"color: #008080; text-decoration-color: #008080; font-weight: bold\">271</span>\n",
       "</pre>\n"
      ],
      "text/plain": [
       "files to parse: \u001b[1;36m271\u001b[0m\n"
      ]
     },
     "metadata": {},
     "output_type": "display_data"
    },
    {
     "data": {
      "text/html": [
       "<pre style=\"white-space:pre;overflow-x:auto;line-height:normal;font-family:Menlo,'DejaVu Sans Mono',consolas,'Courier New',monospace\"><span style=\"color: #800080; text-decoration-color: #800080\">/Volumes/fanpc/app_data/sec_apps_data/speed_test/filings_13f_full/filings/1787423/</span><span style=\"color: #ff00ff; text-decoration-color: #ff00ff\">0001787423-23-000001.txt</span>\n",
       "</pre>\n"
      ],
      "text/plain": [
       "\u001b[35m/Volumes/fanpc/app_data/sec_apps_data/speed_test/filings_13f_full/filings/1787423/\u001b[0m\u001b[95m0001787423-23-000001.txt\u001b[0m\n"
      ]
     },
     "metadata": {},
     "output_type": "display_data"
    },
    {
     "data": {
      "text/html": [
       "<pre style=\"white-space:pre;overflow-x:auto;line-height:normal;font-family:Menlo,'DejaVu Sans Mono',consolas,'Courier New',monospace\">files to parse: <span style=\"color: #008080; text-decoration-color: #008080; font-weight: bold\">271</span>\n",
       "</pre>\n"
      ],
      "text/plain": [
       "files to parse: \u001b[1;36m271\u001b[0m\n"
      ]
     },
     "metadata": {},
     "output_type": "display_data"
    },
    {
     "data": {
      "text/html": [
       "<pre style=\"white-space:pre;overflow-x:auto;line-height:normal;font-family:Menlo,'DejaVu Sans Mono',consolas,'Courier New',monospace\"><span style=\"color: #800080; text-decoration-color: #800080\">/Volumes/fanpc/app_data/sec_apps_data/speed_test/filings_13f_full/filings/1788700/</span><span style=\"color: #ff00ff; text-decoration-color: #ff00ff\">0001104659-23-021274.txt</span>\n",
       "</pre>\n"
      ],
      "text/plain": [
       "\u001b[35m/Volumes/fanpc/app_data/sec_apps_data/speed_test/filings_13f_full/filings/1788700/\u001b[0m\u001b[95m0001104659-23-021274.txt\u001b[0m\n"
      ]
     },
     "metadata": {},
     "output_type": "display_data"
    },
    {
     "data": {
      "text/html": [
       "<pre style=\"white-space:pre;overflow-x:auto;line-height:normal;font-family:Menlo,'DejaVu Sans Mono',consolas,'Courier New',monospace\">files to parse: <span style=\"color: #008080; text-decoration-color: #008080; font-weight: bold\">271</span>\n",
       "</pre>\n"
      ],
      "text/plain": [
       "files to parse: \u001b[1;36m271\u001b[0m\n"
      ]
     },
     "metadata": {},
     "output_type": "display_data"
    },
    {
     "data": {
      "text/html": [
       "<pre style=\"white-space:pre;overflow-x:auto;line-height:normal;font-family:Menlo,'DejaVu Sans Mono',consolas,'Courier New',monospace\"><span style=\"color: #800080; text-decoration-color: #800080\">/Volumes/fanpc/app_data/sec_apps_data/speed_test/filings_13f_full/filings/1790837/</span><span style=\"color: #ff00ff; text-decoration-color: #ff00ff\">0001790837-23-000002.txt</span>\n",
       "</pre>\n"
      ],
      "text/plain": [
       "\u001b[35m/Volumes/fanpc/app_data/sec_apps_data/speed_test/filings_13f_full/filings/1790837/\u001b[0m\u001b[95m0001790837-23-000002.txt\u001b[0m\n"
      ]
     },
     "metadata": {},
     "output_type": "display_data"
    },
    {
     "data": {
      "text/html": [
       "<pre style=\"white-space:pre;overflow-x:auto;line-height:normal;font-family:Menlo,'DejaVu Sans Mono',consolas,'Courier New',monospace\">files to parse: <span style=\"color: #008080; text-decoration-color: #008080; font-weight: bold\">271</span>\n",
       "</pre>\n"
      ],
      "text/plain": [
       "files to parse: \u001b[1;36m271\u001b[0m\n"
      ]
     },
     "metadata": {},
     "output_type": "display_data"
    },
    {
     "data": {
      "text/html": [
       "<pre style=\"white-space:pre;overflow-x:auto;line-height:normal;font-family:Menlo,'DejaVu Sans Mono',consolas,'Courier New',monospace\"><span style=\"color: #800080; text-decoration-color: #800080\">/Volumes/fanpc/app_data/sec_apps_data/speed_test/filings_13f_full/filings/1794290/</span><span style=\"color: #ff00ff; text-decoration-color: #ff00ff\">0001567619-23-002890.txt</span>\n",
       "</pre>\n"
      ],
      "text/plain": [
       "\u001b[35m/Volumes/fanpc/app_data/sec_apps_data/speed_test/filings_13f_full/filings/1794290/\u001b[0m\u001b[95m0001567619-23-002890.txt\u001b[0m\n"
      ]
     },
     "metadata": {},
     "output_type": "display_data"
    },
    {
     "data": {
      "text/html": [
       "<pre style=\"white-space:pre;overflow-x:auto;line-height:normal;font-family:Menlo,'DejaVu Sans Mono',consolas,'Courier New',monospace\">files to parse: <span style=\"color: #008080; text-decoration-color: #008080; font-weight: bold\">271</span>\n",
       "</pre>\n"
      ],
      "text/plain": [
       "files to parse: \u001b[1;36m271\u001b[0m\n"
      ]
     },
     "metadata": {},
     "output_type": "display_data"
    },
    {
     "data": {
      "text/html": [
       "<pre style=\"white-space:pre;overflow-x:auto;line-height:normal;font-family:Menlo,'DejaVu Sans Mono',consolas,'Courier New',monospace\"><span style=\"color: #800080; text-decoration-color: #800080\">/Volumes/fanpc/app_data/sec_apps_data/speed_test/filings_13f_full/filings/1795594/</span><span style=\"color: #ff00ff; text-decoration-color: #ff00ff\">0001795594-23-000003.txt</span>\n",
       "</pre>\n"
      ],
      "text/plain": [
       "\u001b[35m/Volumes/fanpc/app_data/sec_apps_data/speed_test/filings_13f_full/filings/1795594/\u001b[0m\u001b[95m0001795594-23-000003.txt\u001b[0m\n"
      ]
     },
     "metadata": {},
     "output_type": "display_data"
    },
    {
     "data": {
      "text/html": [
       "<pre style=\"white-space:pre;overflow-x:auto;line-height:normal;font-family:Menlo,'DejaVu Sans Mono',consolas,'Courier New',monospace\">files to parse: <span style=\"color: #008080; text-decoration-color: #008080; font-weight: bold\">271</span>\n",
       "</pre>\n"
      ],
      "text/plain": [
       "files to parse: \u001b[1;36m271\u001b[0m\n"
      ]
     },
     "metadata": {},
     "output_type": "display_data"
    },
    {
     "data": {
      "text/html": [
       "<pre style=\"white-space:pre;overflow-x:auto;line-height:normal;font-family:Menlo,'DejaVu Sans Mono',consolas,'Courier New',monospace\"><span style=\"color: #800080; text-decoration-color: #800080\">/Volumes/fanpc/app_data/sec_apps_data/speed_test/filings_13f_full/filings/1801547/</span><span style=\"color: #ff00ff; text-decoration-color: #ff00ff\">0001801547-23-000002.txt</span>\n",
       "</pre>\n"
      ],
      "text/plain": [
       "\u001b[35m/Volumes/fanpc/app_data/sec_apps_data/speed_test/filings_13f_full/filings/1801547/\u001b[0m\u001b[95m0001801547-23-000002.txt\u001b[0m\n"
      ]
     },
     "metadata": {},
     "output_type": "display_data"
    },
    {
     "data": {
      "text/html": [
       "<pre style=\"white-space:pre;overflow-x:auto;line-height:normal;font-family:Menlo,'DejaVu Sans Mono',consolas,'Courier New',monospace\">files to parse: <span style=\"color: #008080; text-decoration-color: #008080; font-weight: bold\">271</span>\n",
       "</pre>\n"
      ],
      "text/plain": [
       "files to parse: \u001b[1;36m271\u001b[0m\n"
      ]
     },
     "metadata": {},
     "output_type": "display_data"
    },
    {
     "data": {
      "text/html": [
       "<pre style=\"white-space:pre;overflow-x:auto;line-height:normal;font-family:Menlo,'DejaVu Sans Mono',consolas,'Courier New',monospace\"><span style=\"color: #800080; text-decoration-color: #800080\">/Volumes/fanpc/app_data/sec_apps_data/speed_test/filings_13f_full/filings/1801667/</span><span style=\"color: #ff00ff; text-decoration-color: #ff00ff\">0001085146-23-001459.txt</span>\n",
       "</pre>\n"
      ],
      "text/plain": [
       "\u001b[35m/Volumes/fanpc/app_data/sec_apps_data/speed_test/filings_13f_full/filings/1801667/\u001b[0m\u001b[95m0001085146-23-001459.txt\u001b[0m\n"
      ]
     },
     "metadata": {},
     "output_type": "display_data"
    },
    {
     "data": {
      "text/html": [
       "<pre style=\"white-space:pre;overflow-x:auto;line-height:normal;font-family:Menlo,'DejaVu Sans Mono',consolas,'Courier New',monospace\">files to parse: <span style=\"color: #008080; text-decoration-color: #008080; font-weight: bold\">271</span>\n",
       "</pre>\n"
      ],
      "text/plain": [
       "files to parse: \u001b[1;36m271\u001b[0m\n"
      ]
     },
     "metadata": {},
     "output_type": "display_data"
    },
    {
     "data": {
      "text/html": [
       "<pre style=\"white-space:pre;overflow-x:auto;line-height:normal;font-family:Menlo,'DejaVu Sans Mono',consolas,'Courier New',monospace\"><span style=\"color: #800080; text-decoration-color: #800080\">/Volumes/fanpc/app_data/sec_apps_data/speed_test/filings_13f_full/filings/1801982/</span><span style=\"color: #ff00ff; text-decoration-color: #ff00ff\">0001172661-23-001511.txt</span>\n",
       "</pre>\n"
      ],
      "text/plain": [
       "\u001b[35m/Volumes/fanpc/app_data/sec_apps_data/speed_test/filings_13f_full/filings/1801982/\u001b[0m\u001b[95m0001172661-23-001511.txt\u001b[0m\n"
      ]
     },
     "metadata": {},
     "output_type": "display_data"
    },
    {
     "data": {
      "text/html": [
       "<pre style=\"white-space:pre;overflow-x:auto;line-height:normal;font-family:Menlo,'DejaVu Sans Mono',consolas,'Courier New',monospace\">files to parse: <span style=\"color: #008080; text-decoration-color: #008080; font-weight: bold\">271</span>\n",
       "</pre>\n"
      ],
      "text/plain": [
       "files to parse: \u001b[1;36m271\u001b[0m\n"
      ]
     },
     "metadata": {},
     "output_type": "display_data"
    },
    {
     "data": {
      "text/html": [
       "<pre style=\"white-space:pre;overflow-x:auto;line-height:normal;font-family:Menlo,'DejaVu Sans Mono',consolas,'Courier New',monospace\"><span style=\"color: #800080; text-decoration-color: #800080\">/Volumes/fanpc/app_data/sec_apps_data/speed_test/filings_13f_full/filings/1802084/</span><span style=\"color: #ff00ff; text-decoration-color: #ff00ff\">0001802084-23-000001.txt</span>\n",
       "</pre>\n"
      ],
      "text/plain": [
       "\u001b[35m/Volumes/fanpc/app_data/sec_apps_data/speed_test/filings_13f_full/filings/1802084/\u001b[0m\u001b[95m0001802084-23-000001.txt\u001b[0m\n"
      ]
     },
     "metadata": {},
     "output_type": "display_data"
    },
    {
     "data": {
      "text/html": [
       "<pre style=\"white-space:pre;overflow-x:auto;line-height:normal;font-family:Menlo,'DejaVu Sans Mono',consolas,'Courier New',monospace\">files to parse: <span style=\"color: #008080; text-decoration-color: #008080; font-weight: bold\">271</span>\n",
       "</pre>\n"
      ],
      "text/plain": [
       "files to parse: \u001b[1;36m271\u001b[0m\n"
      ]
     },
     "metadata": {},
     "output_type": "display_data"
    },
    {
     "data": {
      "text/html": [
       "<pre style=\"white-space:pre;overflow-x:auto;line-height:normal;font-family:Menlo,'DejaVu Sans Mono',consolas,'Courier New',monospace\"><span style=\"color: #800080; text-decoration-color: #800080\">/Volumes/fanpc/app_data/sec_apps_data/speed_test/filings_13f_full/filings/1802532/</span><span style=\"color: #ff00ff; text-decoration-color: #ff00ff\">0001085146-23-001345.txt</span>\n",
       "</pre>\n"
      ],
      "text/plain": [
       "\u001b[35m/Volumes/fanpc/app_data/sec_apps_data/speed_test/filings_13f_full/filings/1802532/\u001b[0m\u001b[95m0001085146-23-001345.txt\u001b[0m\n"
      ]
     },
     "metadata": {},
     "output_type": "display_data"
    },
    {
     "data": {
      "text/html": [
       "<pre style=\"white-space:pre;overflow-x:auto;line-height:normal;font-family:Menlo,'DejaVu Sans Mono',consolas,'Courier New',monospace\">files to parse: <span style=\"color: #008080; text-decoration-color: #008080; font-weight: bold\">271</span>\n",
       "</pre>\n"
      ],
      "text/plain": [
       "files to parse: \u001b[1;36m271\u001b[0m\n"
      ]
     },
     "metadata": {},
     "output_type": "display_data"
    },
    {
     "data": {
      "text/html": [
       "<pre style=\"white-space:pre;overflow-x:auto;line-height:normal;font-family:Menlo,'DejaVu Sans Mono',consolas,'Courier New',monospace\"><span style=\"color: #800080; text-decoration-color: #800080\">/Volumes/fanpc/app_data/sec_apps_data/speed_test/filings_13f_full/filings/1805824/</span><span style=\"color: #ff00ff; text-decoration-color: #ff00ff\">0001214659-23-003167.txt</span>\n",
       "</pre>\n"
      ],
      "text/plain": [
       "\u001b[35m/Volumes/fanpc/app_data/sec_apps_data/speed_test/filings_13f_full/filings/1805824/\u001b[0m\u001b[95m0001214659-23-003167.txt\u001b[0m\n"
      ]
     },
     "metadata": {},
     "output_type": "display_data"
    },
    {
     "data": {
      "text/html": [
       "<pre style=\"white-space:pre;overflow-x:auto;line-height:normal;font-family:Menlo,'DejaVu Sans Mono',consolas,'Courier New',monospace\">files to parse: <span style=\"color: #008080; text-decoration-color: #008080; font-weight: bold\">271</span>\n",
       "</pre>\n"
      ],
      "text/plain": [
       "files to parse: \u001b[1;36m271\u001b[0m\n"
      ]
     },
     "metadata": {},
     "output_type": "display_data"
    },
    {
     "data": {
      "text/html": [
       "<pre style=\"white-space:pre;overflow-x:auto;line-height:normal;font-family:Menlo,'DejaVu Sans Mono',consolas,'Courier New',monospace\"><span style=\"color: #800080; text-decoration-color: #800080\">/Volumes/fanpc/app_data/sec_apps_data/speed_test/filings_13f_full/filings/1806820/</span><span style=\"color: #ff00ff; text-decoration-color: #ff00ff\">0001806820-23-000001.txt</span>\n",
       "</pre>\n"
      ],
      "text/plain": [
       "\u001b[35m/Volumes/fanpc/app_data/sec_apps_data/speed_test/filings_13f_full/filings/1806820/\u001b[0m\u001b[95m0001806820-23-000001.txt\u001b[0m\n"
      ]
     },
     "metadata": {},
     "output_type": "display_data"
    },
    {
     "data": {
      "text/html": [
       "<pre style=\"white-space:pre;overflow-x:auto;line-height:normal;font-family:Menlo,'DejaVu Sans Mono',consolas,'Courier New',monospace\">files to parse: <span style=\"color: #008080; text-decoration-color: #008080; font-weight: bold\">271</span>\n",
       "</pre>\n"
      ],
      "text/plain": [
       "files to parse: \u001b[1;36m271\u001b[0m\n"
      ]
     },
     "metadata": {},
     "output_type": "display_data"
    },
    {
     "data": {
      "text/html": [
       "<pre style=\"white-space:pre;overflow-x:auto;line-height:normal;font-family:Menlo,'DejaVu Sans Mono',consolas,'Courier New',monospace\"><span style=\"color: #800080; text-decoration-color: #800080\">/Volumes/fanpc/app_data/sec_apps_data/speed_test/filings_13f_full/filings/1811052/</span><span style=\"color: #ff00ff; text-decoration-color: #ff00ff\">0001811052-23-000004.txt</span>\n",
       "</pre>\n"
      ],
      "text/plain": [
       "\u001b[35m/Volumes/fanpc/app_data/sec_apps_data/speed_test/filings_13f_full/filings/1811052/\u001b[0m\u001b[95m0001811052-23-000004.txt\u001b[0m\n"
      ]
     },
     "metadata": {},
     "output_type": "display_data"
    },
    {
     "data": {
      "text/html": [
       "<pre style=\"white-space:pre;overflow-x:auto;line-height:normal;font-family:Menlo,'DejaVu Sans Mono',consolas,'Courier New',monospace\">files to parse: <span style=\"color: #008080; text-decoration-color: #008080; font-weight: bold\">271</span>\n",
       "</pre>\n"
      ],
      "text/plain": [
       "files to parse: \u001b[1;36m271\u001b[0m\n"
      ]
     },
     "metadata": {},
     "output_type": "display_data"
    },
    {
     "data": {
      "text/html": [
       "<pre style=\"white-space:pre;overflow-x:auto;line-height:normal;font-family:Menlo,'DejaVu Sans Mono',consolas,'Courier New',monospace\"><span style=\"color: #800080; text-decoration-color: #800080\">/Volumes/fanpc/app_data/sec_apps_data/speed_test/filings_13f_full/filings/1813203/</span><span style=\"color: #ff00ff; text-decoration-color: #ff00ff\">0001813203-23-000002.txt</span>\n",
       "</pre>\n"
      ],
      "text/plain": [
       "\u001b[35m/Volumes/fanpc/app_data/sec_apps_data/speed_test/filings_13f_full/filings/1813203/\u001b[0m\u001b[95m0001813203-23-000002.txt\u001b[0m\n"
      ]
     },
     "metadata": {},
     "output_type": "display_data"
    },
    {
     "data": {
      "text/html": [
       "<pre style=\"white-space:pre;overflow-x:auto;line-height:normal;font-family:Menlo,'DejaVu Sans Mono',consolas,'Courier New',monospace\">files to parse: <span style=\"color: #008080; text-decoration-color: #008080; font-weight: bold\">271</span>\n",
       "</pre>\n"
      ],
      "text/plain": [
       "files to parse: \u001b[1;36m271\u001b[0m\n"
      ]
     },
     "metadata": {},
     "output_type": "display_data"
    },
    {
     "data": {
      "text/html": [
       "<pre style=\"white-space:pre;overflow-x:auto;line-height:normal;font-family:Menlo,'DejaVu Sans Mono',consolas,'Courier New',monospace\"><span style=\"color: #800080; text-decoration-color: #800080\">/Volumes/fanpc/app_data/sec_apps_data/speed_test/filings_13f_full/filings/1829805/</span><span style=\"color: #ff00ff; text-decoration-color: #ff00ff\">0001829805-23-000001.txt</span>\n",
       "</pre>\n"
      ],
      "text/plain": [
       "\u001b[35m/Volumes/fanpc/app_data/sec_apps_data/speed_test/filings_13f_full/filings/1829805/\u001b[0m\u001b[95m0001829805-23-000001.txt\u001b[0m\n"
      ]
     },
     "metadata": {},
     "output_type": "display_data"
    },
    {
     "data": {
      "text/html": [
       "<pre style=\"white-space:pre;overflow-x:auto;line-height:normal;font-family:Menlo,'DejaVu Sans Mono',consolas,'Courier New',monospace\">files to parse: <span style=\"color: #008080; text-decoration-color: #008080; font-weight: bold\">271</span>\n",
       "</pre>\n"
      ],
      "text/plain": [
       "files to parse: \u001b[1;36m271\u001b[0m\n"
      ]
     },
     "metadata": {},
     "output_type": "display_data"
    },
    {
     "data": {
      "text/html": [
       "<pre style=\"white-space:pre;overflow-x:auto;line-height:normal;font-family:Menlo,'DejaVu Sans Mono',consolas,'Courier New',monospace\"><span style=\"color: #800080; text-decoration-color: #800080\">/Volumes/fanpc/app_data/sec_apps_data/speed_test/filings_13f_full/filings/1831219/</span><span style=\"color: #ff00ff; text-decoration-color: #ff00ff\">0000919574-23-001161.txt</span>\n",
       "</pre>\n"
      ],
      "text/plain": [
       "\u001b[35m/Volumes/fanpc/app_data/sec_apps_data/speed_test/filings_13f_full/filings/1831219/\u001b[0m\u001b[95m0000919574-23-001161.txt\u001b[0m\n"
      ]
     },
     "metadata": {},
     "output_type": "display_data"
    },
    {
     "data": {
      "text/html": [
       "<pre style=\"white-space:pre;overflow-x:auto;line-height:normal;font-family:Menlo,'DejaVu Sans Mono',consolas,'Courier New',monospace\">files to parse: <span style=\"color: #008080; text-decoration-color: #008080; font-weight: bold\">271</span>\n",
       "</pre>\n"
      ],
      "text/plain": [
       "files to parse: \u001b[1;36m271\u001b[0m\n"
      ]
     },
     "metadata": {},
     "output_type": "display_data"
    },
    {
     "data": {
      "text/html": [
       "<pre style=\"white-space:pre;overflow-x:auto;line-height:normal;font-family:Menlo,'DejaVu Sans Mono',consolas,'Courier New',monospace\"><span style=\"color: #800080; text-decoration-color: #800080\">/Volumes/fanpc/app_data/sec_apps_data/speed_test/filings_13f_full/filings/1832179/</span><span style=\"color: #ff00ff; text-decoration-color: #ff00ff\">0001832179-23-000001.txt</span>\n",
       "</pre>\n"
      ],
      "text/plain": [
       "\u001b[35m/Volumes/fanpc/app_data/sec_apps_data/speed_test/filings_13f_full/filings/1832179/\u001b[0m\u001b[95m0001832179-23-000001.txt\u001b[0m\n"
      ]
     },
     "metadata": {},
     "output_type": "display_data"
    },
    {
     "data": {
      "text/html": [
       "<pre style=\"white-space:pre;overflow-x:auto;line-height:normal;font-family:Menlo,'DejaVu Sans Mono',consolas,'Courier New',monospace\">files to parse: <span style=\"color: #008080; text-decoration-color: #008080; font-weight: bold\">271</span>\n",
       "</pre>\n"
      ],
      "text/plain": [
       "files to parse: \u001b[1;36m271\u001b[0m\n"
      ]
     },
     "metadata": {},
     "output_type": "display_data"
    },
    {
     "data": {
      "text/html": [
       "<pre style=\"white-space:pre;overflow-x:auto;line-height:normal;font-family:Menlo,'DejaVu Sans Mono',consolas,'Courier New',monospace\"><span style=\"color: #800080; text-decoration-color: #800080\">/Volumes/fanpc/app_data/sec_apps_data/speed_test/filings_13f_full/filings/1833471/</span><span style=\"color: #ff00ff; text-decoration-color: #ff00ff\">0001833471-23-000001.txt</span>\n",
       "</pre>\n"
      ],
      "text/plain": [
       "\u001b[35m/Volumes/fanpc/app_data/sec_apps_data/speed_test/filings_13f_full/filings/1833471/\u001b[0m\u001b[95m0001833471-23-000001.txt\u001b[0m\n"
      ]
     },
     "metadata": {},
     "output_type": "display_data"
    },
    {
     "data": {
      "text/html": [
       "<pre style=\"white-space:pre;overflow-x:auto;line-height:normal;font-family:Menlo,'DejaVu Sans Mono',consolas,'Courier New',monospace\">files to parse: <span style=\"color: #008080; text-decoration-color: #008080; font-weight: bold\">271</span>\n",
       "</pre>\n"
      ],
      "text/plain": [
       "files to parse: \u001b[1;36m271\u001b[0m\n"
      ]
     },
     "metadata": {},
     "output_type": "display_data"
    },
    {
     "data": {
      "text/html": [
       "<pre style=\"white-space:pre;overflow-x:auto;line-height:normal;font-family:Menlo,'DejaVu Sans Mono',consolas,'Courier New',monospace\"><span style=\"color: #800080; text-decoration-color: #800080\">/Volumes/fanpc/app_data/sec_apps_data/speed_test/filings_13f_full/filings/1834239/</span><span style=\"color: #ff00ff; text-decoration-color: #ff00ff\">0000950123-23-000774.txt</span>\n",
       "</pre>\n"
      ],
      "text/plain": [
       "\u001b[35m/Volumes/fanpc/app_data/sec_apps_data/speed_test/filings_13f_full/filings/1834239/\u001b[0m\u001b[95m0000950123-23-000774.txt\u001b[0m\n"
      ]
     },
     "metadata": {},
     "output_type": "display_data"
    },
    {
     "data": {
      "text/html": [
       "<pre style=\"white-space:pre;overflow-x:auto;line-height:normal;font-family:Menlo,'DejaVu Sans Mono',consolas,'Courier New',monospace\">files to parse: <span style=\"color: #008080; text-decoration-color: #008080; font-weight: bold\">271</span>\n",
       "</pre>\n"
      ],
      "text/plain": [
       "files to parse: \u001b[1;36m271\u001b[0m\n"
      ]
     },
     "metadata": {},
     "output_type": "display_data"
    },
    {
     "data": {
      "text/html": [
       "<pre style=\"white-space:pre;overflow-x:auto;line-height:normal;font-family:Menlo,'DejaVu Sans Mono',consolas,'Courier New',monospace\"><span style=\"color: #800080; text-decoration-color: #800080\">/Volumes/fanpc/app_data/sec_apps_data/speed_test/filings_13f_full/filings/1842557/</span><span style=\"color: #ff00ff; text-decoration-color: #ff00ff\">0001842557-23-000001.txt</span>\n",
       "</pre>\n"
      ],
      "text/plain": [
       "\u001b[35m/Volumes/fanpc/app_data/sec_apps_data/speed_test/filings_13f_full/filings/1842557/\u001b[0m\u001b[95m0001842557-23-000001.txt\u001b[0m\n"
      ]
     },
     "metadata": {},
     "output_type": "display_data"
    },
    {
     "data": {
      "text/html": [
       "<pre style=\"white-space:pre;overflow-x:auto;line-height:normal;font-family:Menlo,'DejaVu Sans Mono',consolas,'Courier New',monospace\">files to parse: <span style=\"color: #008080; text-decoration-color: #008080; font-weight: bold\">271</span>\n",
       "</pre>\n"
      ],
      "text/plain": [
       "files to parse: \u001b[1;36m271\u001b[0m\n"
      ]
     },
     "metadata": {},
     "output_type": "display_data"
    },
    {
     "data": {
      "text/html": [
       "<pre style=\"white-space:pre;overflow-x:auto;line-height:normal;font-family:Menlo,'DejaVu Sans Mono',consolas,'Courier New',monospace\"><span style=\"color: #800080; text-decoration-color: #800080\">/Volumes/fanpc/app_data/sec_apps_data/speed_test/filings_13f_full/filings/1843237/</span><span style=\"color: #ff00ff; text-decoration-color: #ff00ff\">0001843237-23-000001.txt</span>\n",
       "</pre>\n"
      ],
      "text/plain": [
       "\u001b[35m/Volumes/fanpc/app_data/sec_apps_data/speed_test/filings_13f_full/filings/1843237/\u001b[0m\u001b[95m0001843237-23-000001.txt\u001b[0m\n"
      ]
     },
     "metadata": {},
     "output_type": "display_data"
    },
    {
     "data": {
      "text/html": [
       "<pre style=\"white-space:pre;overflow-x:auto;line-height:normal;font-family:Menlo,'DejaVu Sans Mono',consolas,'Courier New',monospace\">files to parse: <span style=\"color: #008080; text-decoration-color: #008080; font-weight: bold\">271</span>\n",
       "</pre>\n"
      ],
      "text/plain": [
       "files to parse: \u001b[1;36m271\u001b[0m\n"
      ]
     },
     "metadata": {},
     "output_type": "display_data"
    },
    {
     "data": {
      "text/html": [
       "<pre style=\"white-space:pre;overflow-x:auto;line-height:normal;font-family:Menlo,'DejaVu Sans Mono',consolas,'Courier New',monospace\"><span style=\"color: #800080; text-decoration-color: #800080\">/Volumes/fanpc/app_data/sec_apps_data/speed_test/filings_13f_full/filings/1844227/</span><span style=\"color: #ff00ff; text-decoration-color: #ff00ff\">0001085146-23-001440.txt</span>\n",
       "</pre>\n"
      ],
      "text/plain": [
       "\u001b[35m/Volumes/fanpc/app_data/sec_apps_data/speed_test/filings_13f_full/filings/1844227/\u001b[0m\u001b[95m0001085146-23-001440.txt\u001b[0m\n"
      ]
     },
     "metadata": {},
     "output_type": "display_data"
    },
    {
     "data": {
      "text/html": [
       "<pre style=\"white-space:pre;overflow-x:auto;line-height:normal;font-family:Menlo,'DejaVu Sans Mono',consolas,'Courier New',monospace\">files to parse: <span style=\"color: #008080; text-decoration-color: #008080; font-weight: bold\">271</span>\n",
       "</pre>\n"
      ],
      "text/plain": [
       "files to parse: \u001b[1;36m271\u001b[0m\n"
      ]
     },
     "metadata": {},
     "output_type": "display_data"
    },
    {
     "data": {
      "text/html": [
       "<pre style=\"white-space:pre;overflow-x:auto;line-height:normal;font-family:Menlo,'DejaVu Sans Mono',consolas,'Courier New',monospace\"><span style=\"color: #800080; text-decoration-color: #800080\">/Volumes/fanpc/app_data/sec_apps_data/speed_test/filings_13f_full/filings/1844799/</span><span style=\"color: #ff00ff; text-decoration-color: #ff00ff\">0001104659-23-020941.txt</span>\n",
       "</pre>\n"
      ],
      "text/plain": [
       "\u001b[35m/Volumes/fanpc/app_data/sec_apps_data/speed_test/filings_13f_full/filings/1844799/\u001b[0m\u001b[95m0001104659-23-020941.txt\u001b[0m\n"
      ]
     },
     "metadata": {},
     "output_type": "display_data"
    },
    {
     "data": {
      "text/html": [
       "<pre style=\"white-space:pre;overflow-x:auto;line-height:normal;font-family:Menlo,'DejaVu Sans Mono',consolas,'Courier New',monospace\">files to parse: <span style=\"color: #008080; text-decoration-color: #008080; font-weight: bold\">271</span>\n",
       "</pre>\n"
      ],
      "text/plain": [
       "files to parse: \u001b[1;36m271\u001b[0m\n"
      ]
     },
     "metadata": {},
     "output_type": "display_data"
    },
    {
     "data": {
      "text/html": [
       "<pre style=\"white-space:pre;overflow-x:auto;line-height:normal;font-family:Menlo,'DejaVu Sans Mono',consolas,'Courier New',monospace\"><span style=\"color: #800080; text-decoration-color: #800080\">/Volumes/fanpc/app_data/sec_apps_data/speed_test/filings_13f_full/filings/1844880/</span><span style=\"color: #ff00ff; text-decoration-color: #ff00ff\">0001085146-23-001423.txt</span>\n",
       "</pre>\n"
      ],
      "text/plain": [
       "\u001b[35m/Volumes/fanpc/app_data/sec_apps_data/speed_test/filings_13f_full/filings/1844880/\u001b[0m\u001b[95m0001085146-23-001423.txt\u001b[0m\n"
      ]
     },
     "metadata": {},
     "output_type": "display_data"
    },
    {
     "data": {
      "text/html": [
       "<pre style=\"white-space:pre;overflow-x:auto;line-height:normal;font-family:Menlo,'DejaVu Sans Mono',consolas,'Courier New',monospace\">files to parse: <span style=\"color: #008080; text-decoration-color: #008080; font-weight: bold\">271</span>\n",
       "</pre>\n"
      ],
      "text/plain": [
       "files to parse: \u001b[1;36m271\u001b[0m\n"
      ]
     },
     "metadata": {},
     "output_type": "display_data"
    },
    {
     "data": {
      "text/html": [
       "<pre style=\"white-space:pre;overflow-x:auto;line-height:normal;font-family:Menlo,'DejaVu Sans Mono',consolas,'Courier New',monospace\"><span style=\"color: #800080; text-decoration-color: #800080\">/Volumes/fanpc/app_data/sec_apps_data/speed_test/filings_13f_full/filings/1846038/</span><span style=\"color: #ff00ff; text-decoration-color: #ff00ff\">0000905148-23-000197.txt</span>\n",
       "</pre>\n"
      ],
      "text/plain": [
       "\u001b[35m/Volumes/fanpc/app_data/sec_apps_data/speed_test/filings_13f_full/filings/1846038/\u001b[0m\u001b[95m0000905148-23-000197.txt\u001b[0m\n"
      ]
     },
     "metadata": {},
     "output_type": "display_data"
    },
    {
     "data": {
      "text/html": [
       "<pre style=\"white-space:pre;overflow-x:auto;line-height:normal;font-family:Menlo,'DejaVu Sans Mono',consolas,'Courier New',monospace\">files to parse: <span style=\"color: #008080; text-decoration-color: #008080; font-weight: bold\">271</span>\n",
       "</pre>\n"
      ],
      "text/plain": [
       "files to parse: \u001b[1;36m271\u001b[0m\n"
      ]
     },
     "metadata": {},
     "output_type": "display_data"
    },
    {
     "data": {
      "text/html": [
       "<pre style=\"white-space:pre;overflow-x:auto;line-height:normal;font-family:Menlo,'DejaVu Sans Mono',consolas,'Courier New',monospace\"><span style=\"color: #800080; text-decoration-color: #800080\">/Volumes/fanpc/app_data/sec_apps_data/speed_test/filings_13f_full/filings/1846995/</span><span style=\"color: #ff00ff; text-decoration-color: #ff00ff\">0001085146-23-001422.txt</span>\n",
       "</pre>\n"
      ],
      "text/plain": [
       "\u001b[35m/Volumes/fanpc/app_data/sec_apps_data/speed_test/filings_13f_full/filings/1846995/\u001b[0m\u001b[95m0001085146-23-001422.txt\u001b[0m\n"
      ]
     },
     "metadata": {},
     "output_type": "display_data"
    },
    {
     "data": {
      "text/html": [
       "<pre style=\"white-space:pre;overflow-x:auto;line-height:normal;font-family:Menlo,'DejaVu Sans Mono',consolas,'Courier New',monospace\">files to parse: <span style=\"color: #008080; text-decoration-color: #008080; font-weight: bold\">271</span>\n",
       "</pre>\n"
      ],
      "text/plain": [
       "files to parse: \u001b[1;36m271\u001b[0m\n"
      ]
     },
     "metadata": {},
     "output_type": "display_data"
    },
    {
     "data": {
      "text/html": [
       "<pre style=\"white-space:pre;overflow-x:auto;line-height:normal;font-family:Menlo,'DejaVu Sans Mono',consolas,'Courier New',monospace\"><span style=\"color: #800080; text-decoration-color: #800080\">/Volumes/fanpc/app_data/sec_apps_data/speed_test/filings_13f_full/filings/1847258/</span><span style=\"color: #ff00ff; text-decoration-color: #ff00ff\">0001847258-23-000001.txt</span>\n",
       "</pre>\n"
      ],
      "text/plain": [
       "\u001b[35m/Volumes/fanpc/app_data/sec_apps_data/speed_test/filings_13f_full/filings/1847258/\u001b[0m\u001b[95m0001847258-23-000001.txt\u001b[0m\n"
      ]
     },
     "metadata": {},
     "output_type": "display_data"
    },
    {
     "data": {
      "text/html": [
       "<pre style=\"white-space:pre;overflow-x:auto;line-height:normal;font-family:Menlo,'DejaVu Sans Mono',consolas,'Courier New',monospace\">files to parse: <span style=\"color: #008080; text-decoration-color: #008080; font-weight: bold\">271</span>\n",
       "</pre>\n"
      ],
      "text/plain": [
       "files to parse: \u001b[1;36m271\u001b[0m\n"
      ]
     },
     "metadata": {},
     "output_type": "display_data"
    },
    {
     "data": {
      "text/html": [
       "<pre style=\"white-space:pre;overflow-x:auto;line-height:normal;font-family:Menlo,'DejaVu Sans Mono',consolas,'Courier New',monospace\"><span style=\"color: #800080; text-decoration-color: #800080\">/Volumes/fanpc/app_data/sec_apps_data/speed_test/filings_13f_full/filings/1849767/</span><span style=\"color: #ff00ff; text-decoration-color: #ff00ff\">0001849767-23-000001.txt</span>\n",
       "</pre>\n"
      ],
      "text/plain": [
       "\u001b[35m/Volumes/fanpc/app_data/sec_apps_data/speed_test/filings_13f_full/filings/1849767/\u001b[0m\u001b[95m0001849767-23-000001.txt\u001b[0m\n"
      ]
     },
     "metadata": {},
     "output_type": "display_data"
    },
    {
     "data": {
      "text/html": [
       "<pre style=\"white-space:pre;overflow-x:auto;line-height:normal;font-family:Menlo,'DejaVu Sans Mono',consolas,'Courier New',monospace\">files to parse: <span style=\"color: #008080; text-decoration-color: #008080; font-weight: bold\">271</span>\n",
       "</pre>\n"
      ],
      "text/plain": [
       "files to parse: \u001b[1;36m271\u001b[0m\n"
      ]
     },
     "metadata": {},
     "output_type": "display_data"
    },
    {
     "data": {
      "text/html": [
       "<pre style=\"white-space:pre;overflow-x:auto;line-height:normal;font-family:Menlo,'DejaVu Sans Mono',consolas,'Courier New',monospace\"><span style=\"color: #800080; text-decoration-color: #800080\">/Volumes/fanpc/app_data/sec_apps_data/speed_test/filings_13f_full/filings/1852338/</span><span style=\"color: #ff00ff; text-decoration-color: #ff00ff\">0001852338-23-000001.txt</span>\n",
       "</pre>\n"
      ],
      "text/plain": [
       "\u001b[35m/Volumes/fanpc/app_data/sec_apps_data/speed_test/filings_13f_full/filings/1852338/\u001b[0m\u001b[95m0001852338-23-000001.txt\u001b[0m\n"
      ]
     },
     "metadata": {},
     "output_type": "display_data"
    },
    {
     "data": {
      "text/html": [
       "<pre style=\"white-space:pre;overflow-x:auto;line-height:normal;font-family:Menlo,'DejaVu Sans Mono',consolas,'Courier New',monospace\">files to parse: <span style=\"color: #008080; text-decoration-color: #008080; font-weight: bold\">271</span>\n",
       "</pre>\n"
      ],
      "text/plain": [
       "files to parse: \u001b[1;36m271\u001b[0m\n"
      ]
     },
     "metadata": {},
     "output_type": "display_data"
    },
    {
     "data": {
      "text/html": [
       "<pre style=\"white-space:pre;overflow-x:auto;line-height:normal;font-family:Menlo,'DejaVu Sans Mono',consolas,'Courier New',monospace\"><span style=\"color: #800080; text-decoration-color: #800080\">/Volumes/fanpc/app_data/sec_apps_data/speed_test/filings_13f_full/filings/1852758/</span><span style=\"color: #ff00ff; text-decoration-color: #ff00ff\">0001315863-23-000352.txt</span>\n",
       "</pre>\n"
      ],
      "text/plain": [
       "\u001b[35m/Volumes/fanpc/app_data/sec_apps_data/speed_test/filings_13f_full/filings/1852758/\u001b[0m\u001b[95m0001315863-23-000352.txt\u001b[0m\n"
      ]
     },
     "metadata": {},
     "output_type": "display_data"
    },
    {
     "data": {
      "text/html": [
       "<pre style=\"white-space:pre;overflow-x:auto;line-height:normal;font-family:Menlo,'DejaVu Sans Mono',consolas,'Courier New',monospace\">files to parse: <span style=\"color: #008080; text-decoration-color: #008080; font-weight: bold\">271</span>\n",
       "</pre>\n"
      ],
      "text/plain": [
       "files to parse: \u001b[1;36m271\u001b[0m\n"
      ]
     },
     "metadata": {},
     "output_type": "display_data"
    },
    {
     "data": {
      "text/html": [
       "<pre style=\"white-space:pre;overflow-x:auto;line-height:normal;font-family:Menlo,'DejaVu Sans Mono',consolas,'Courier New',monospace\"><span style=\"color: #800080; text-decoration-color: #800080\">/Volumes/fanpc/app_data/sec_apps_data/speed_test/filings_13f_full/filings/1858879/</span><span style=\"color: #ff00ff; text-decoration-color: #ff00ff\">0001493152-23-004145.txt</span>\n",
       "</pre>\n"
      ],
      "text/plain": [
       "\u001b[35m/Volumes/fanpc/app_data/sec_apps_data/speed_test/filings_13f_full/filings/1858879/\u001b[0m\u001b[95m0001493152-23-004145.txt\u001b[0m\n"
      ]
     },
     "metadata": {},
     "output_type": "display_data"
    },
    {
     "data": {
      "text/html": [
       "<pre style=\"white-space:pre;overflow-x:auto;line-height:normal;font-family:Menlo,'DejaVu Sans Mono',consolas,'Courier New',monospace\">files to parse: <span style=\"color: #008080; text-decoration-color: #008080; font-weight: bold\">271</span>\n",
       "</pre>\n"
      ],
      "text/plain": [
       "files to parse: \u001b[1;36m271\u001b[0m\n"
      ]
     },
     "metadata": {},
     "output_type": "display_data"
    },
    {
     "data": {
      "text/html": [
       "<pre style=\"white-space:pre;overflow-x:auto;line-height:normal;font-family:Menlo,'DejaVu Sans Mono',consolas,'Courier New',monospace\"><span style=\"color: #800080; text-decoration-color: #800080\">/Volumes/fanpc/app_data/sec_apps_data/speed_test/filings_13f_full/filings/1862428/</span><span style=\"color: #ff00ff; text-decoration-color: #ff00ff\">0000909012-23-000039.txt</span>\n",
       "</pre>\n"
      ],
      "text/plain": [
       "\u001b[35m/Volumes/fanpc/app_data/sec_apps_data/speed_test/filings_13f_full/filings/1862428/\u001b[0m\u001b[95m0000909012-23-000039.txt\u001b[0m\n"
      ]
     },
     "metadata": {},
     "output_type": "display_data"
    },
    {
     "data": {
      "text/html": [
       "<pre style=\"white-space:pre;overflow-x:auto;line-height:normal;font-family:Menlo,'DejaVu Sans Mono',consolas,'Courier New',monospace\">files to parse: <span style=\"color: #008080; text-decoration-color: #008080; font-weight: bold\">271</span>\n",
       "</pre>\n"
      ],
      "text/plain": [
       "files to parse: \u001b[1;36m271\u001b[0m\n"
      ]
     },
     "metadata": {},
     "output_type": "display_data"
    },
    {
     "data": {
      "text/html": [
       "<pre style=\"white-space:pre;overflow-x:auto;line-height:normal;font-family:Menlo,'DejaVu Sans Mono',consolas,'Courier New',monospace\"><span style=\"color: #800080; text-decoration-color: #800080\">/Volumes/fanpc/app_data/sec_apps_data/speed_test/filings_13f_full/filings/1862428/</span><span style=\"color: #ff00ff; text-decoration-color: #ff00ff\">0000909012-23-000040.txt</span>\n",
       "</pre>\n"
      ],
      "text/plain": [
       "\u001b[35m/Volumes/fanpc/app_data/sec_apps_data/speed_test/filings_13f_full/filings/1862428/\u001b[0m\u001b[95m0000909012-23-000040.txt\u001b[0m\n"
      ]
     },
     "metadata": {},
     "output_type": "display_data"
    },
    {
     "data": {
      "text/html": [
       "<pre style=\"white-space:pre;overflow-x:auto;line-height:normal;font-family:Menlo,'DejaVu Sans Mono',consolas,'Courier New',monospace\">files to parse: <span style=\"color: #008080; text-decoration-color: #008080; font-weight: bold\">271</span>\n",
       "</pre>\n"
      ],
      "text/plain": [
       "files to parse: \u001b[1;36m271\u001b[0m\n"
      ]
     },
     "metadata": {},
     "output_type": "display_data"
    },
    {
     "data": {
      "text/html": [
       "<pre style=\"white-space:pre;overflow-x:auto;line-height:normal;font-family:Menlo,'DejaVu Sans Mono',consolas,'Courier New',monospace\"><span style=\"color: #800080; text-decoration-color: #800080\">/Volumes/fanpc/app_data/sec_apps_data/speed_test/filings_13f_full/filings/1863154/</span><span style=\"color: #ff00ff; text-decoration-color: #ff00ff\">0001085146-23-001445.txt</span>\n",
       "</pre>\n"
      ],
      "text/plain": [
       "\u001b[35m/Volumes/fanpc/app_data/sec_apps_data/speed_test/filings_13f_full/filings/1863154/\u001b[0m\u001b[95m0001085146-23-001445.txt\u001b[0m\n"
      ]
     },
     "metadata": {},
     "output_type": "display_data"
    },
    {
     "data": {
      "text/html": [
       "<pre style=\"white-space:pre;overflow-x:auto;line-height:normal;font-family:Menlo,'DejaVu Sans Mono',consolas,'Courier New',monospace\">files to parse: <span style=\"color: #008080; text-decoration-color: #008080; font-weight: bold\">271</span>\n",
       "</pre>\n"
      ],
      "text/plain": [
       "files to parse: \u001b[1;36m271\u001b[0m\n"
      ]
     },
     "metadata": {},
     "output_type": "display_data"
    },
    {
     "data": {
      "text/html": [
       "<pre style=\"white-space:pre;overflow-x:auto;line-height:normal;font-family:Menlo,'DejaVu Sans Mono',consolas,'Courier New',monospace\"><span style=\"color: #800080; text-decoration-color: #800080\">/Volumes/fanpc/app_data/sec_apps_data/speed_test/filings_13f_full/filings/1864910/</span><span style=\"color: #ff00ff; text-decoration-color: #ff00ff\">0001864910-23-000001.txt</span>\n",
       "</pre>\n"
      ],
      "text/plain": [
       "\u001b[35m/Volumes/fanpc/app_data/sec_apps_data/speed_test/filings_13f_full/filings/1864910/\u001b[0m\u001b[95m0001864910-23-000001.txt\u001b[0m\n"
      ]
     },
     "metadata": {},
     "output_type": "display_data"
    },
    {
     "data": {
      "text/html": [
       "<pre style=\"white-space:pre;overflow-x:auto;line-height:normal;font-family:Menlo,'DejaVu Sans Mono',consolas,'Courier New',monospace\">files to parse: <span style=\"color: #008080; text-decoration-color: #008080; font-weight: bold\">271</span>\n",
       "</pre>\n"
      ],
      "text/plain": [
       "files to parse: \u001b[1;36m271\u001b[0m\n"
      ]
     },
     "metadata": {},
     "output_type": "display_data"
    },
    {
     "data": {
      "text/html": [
       "<pre style=\"white-space:pre;overflow-x:auto;line-height:normal;font-family:Menlo,'DejaVu Sans Mono',consolas,'Courier New',monospace\"><span style=\"color: #800080; text-decoration-color: #800080\">/Volumes/fanpc/app_data/sec_apps_data/speed_test/filings_13f_full/filings/1864916/</span><span style=\"color: #ff00ff; text-decoration-color: #ff00ff\">0001085146-23-001439.txt</span>\n",
       "</pre>\n"
      ],
      "text/plain": [
       "\u001b[35m/Volumes/fanpc/app_data/sec_apps_data/speed_test/filings_13f_full/filings/1864916/\u001b[0m\u001b[95m0001085146-23-001439.txt\u001b[0m\n"
      ]
     },
     "metadata": {},
     "output_type": "display_data"
    },
    {
     "data": {
      "text/html": [
       "<pre style=\"white-space:pre;overflow-x:auto;line-height:normal;font-family:Menlo,'DejaVu Sans Mono',consolas,'Courier New',monospace\">files to parse: <span style=\"color: #008080; text-decoration-color: #008080; font-weight: bold\">271</span>\n",
       "</pre>\n"
      ],
      "text/plain": [
       "files to parse: \u001b[1;36m271\u001b[0m\n"
      ]
     },
     "metadata": {},
     "output_type": "display_data"
    },
    {
     "data": {
      "text/html": [
       "<pre style=\"white-space:pre;overflow-x:auto;line-height:normal;font-family:Menlo,'DejaVu Sans Mono',consolas,'Courier New',monospace\"><span style=\"color: #800080; text-decoration-color: #800080\">/Volumes/fanpc/app_data/sec_apps_data/speed_test/filings_13f_full/filings/1874080/</span><span style=\"color: #ff00ff; text-decoration-color: #ff00ff\">0001874080-23-000008.txt</span>\n",
       "</pre>\n"
      ],
      "text/plain": [
       "\u001b[35m/Volumes/fanpc/app_data/sec_apps_data/speed_test/filings_13f_full/filings/1874080/\u001b[0m\u001b[95m0001874080-23-000008.txt\u001b[0m\n"
      ]
     },
     "metadata": {},
     "output_type": "display_data"
    },
    {
     "data": {
      "text/html": [
       "<pre style=\"white-space:pre;overflow-x:auto;line-height:normal;font-family:Menlo,'DejaVu Sans Mono',consolas,'Courier New',monospace\">files to parse: <span style=\"color: #008080; text-decoration-color: #008080; font-weight: bold\">271</span>\n",
       "</pre>\n"
      ],
      "text/plain": [
       "files to parse: \u001b[1;36m271\u001b[0m\n"
      ]
     },
     "metadata": {},
     "output_type": "display_data"
    },
    {
     "data": {
      "text/html": [
       "<pre style=\"white-space:pre;overflow-x:auto;line-height:normal;font-family:Menlo,'DejaVu Sans Mono',consolas,'Courier New',monospace\"><span style=\"color: #800080; text-decoration-color: #800080\">/Volumes/fanpc/app_data/sec_apps_data/speed_test/filings_13f_full/filings/1877054/</span><span style=\"color: #ff00ff; text-decoration-color: #ff00ff\">0001062993-23-002812.txt</span>\n",
       "</pre>\n"
      ],
      "text/plain": [
       "\u001b[35m/Volumes/fanpc/app_data/sec_apps_data/speed_test/filings_13f_full/filings/1877054/\u001b[0m\u001b[95m0001062993-23-002812.txt\u001b[0m\n"
      ]
     },
     "metadata": {},
     "output_type": "display_data"
    },
    {
     "data": {
      "text/html": [
       "<pre style=\"white-space:pre;overflow-x:auto;line-height:normal;font-family:Menlo,'DejaVu Sans Mono',consolas,'Courier New',monospace\">files to parse: <span style=\"color: #008080; text-decoration-color: #008080; font-weight: bold\">271</span>\n",
       "</pre>\n"
      ],
      "text/plain": [
       "files to parse: \u001b[1;36m271\u001b[0m\n"
      ]
     },
     "metadata": {},
     "output_type": "display_data"
    },
    {
     "data": {
      "text/html": [
       "<pre style=\"white-space:pre;overflow-x:auto;line-height:normal;font-family:Menlo,'DejaVu Sans Mono',consolas,'Courier New',monospace\"><span style=\"color: #800080; text-decoration-color: #800080\">/Volumes/fanpc/app_data/sec_apps_data/speed_test/filings_13f_full/filings/1891834/</span><span style=\"color: #ff00ff; text-decoration-color: #ff00ff\">0001891834-23-000008.txt</span>\n",
       "</pre>\n"
      ],
      "text/plain": [
       "\u001b[35m/Volumes/fanpc/app_data/sec_apps_data/speed_test/filings_13f_full/filings/1891834/\u001b[0m\u001b[95m0001891834-23-000008.txt\u001b[0m\n"
      ]
     },
     "metadata": {},
     "output_type": "display_data"
    },
    {
     "data": {
      "text/html": [
       "<pre style=\"white-space:pre;overflow-x:auto;line-height:normal;font-family:Menlo,'DejaVu Sans Mono',consolas,'Courier New',monospace\">files to parse: <span style=\"color: #008080; text-decoration-color: #008080; font-weight: bold\">271</span>\n",
       "</pre>\n"
      ],
      "text/plain": [
       "files to parse: \u001b[1;36m271\u001b[0m\n"
      ]
     },
     "metadata": {},
     "output_type": "display_data"
    },
    {
     "data": {
      "text/html": [
       "<pre style=\"white-space:pre;overflow-x:auto;line-height:normal;font-family:Menlo,'DejaVu Sans Mono',consolas,'Courier New',monospace\"><span style=\"color: #800080; text-decoration-color: #800080\">/Volumes/fanpc/app_data/sec_apps_data/speed_test/filings_13f_full/filings/1900110/</span><span style=\"color: #ff00ff; text-decoration-color: #ff00ff\">0001900110-23-000001.txt</span>\n",
       "</pre>\n"
      ],
      "text/plain": [
       "\u001b[35m/Volumes/fanpc/app_data/sec_apps_data/speed_test/filings_13f_full/filings/1900110/\u001b[0m\u001b[95m0001900110-23-000001.txt\u001b[0m\n"
      ]
     },
     "metadata": {},
     "output_type": "display_data"
    },
    {
     "data": {
      "text/html": [
       "<pre style=\"white-space:pre;overflow-x:auto;line-height:normal;font-family:Menlo,'DejaVu Sans Mono',consolas,'Courier New',monospace\">files to parse: <span style=\"color: #008080; text-decoration-color: #008080; font-weight: bold\">271</span>\n",
       "</pre>\n"
      ],
      "text/plain": [
       "files to parse: \u001b[1;36m271\u001b[0m\n"
      ]
     },
     "metadata": {},
     "output_type": "display_data"
    },
    {
     "data": {
      "text/html": [
       "<pre style=\"white-space:pre;overflow-x:auto;line-height:normal;font-family:Menlo,'DejaVu Sans Mono',consolas,'Courier New',monospace\"><span style=\"color: #800080; text-decoration-color: #800080\">/Volumes/fanpc/app_data/sec_apps_data/speed_test/filings_13f_full/filings/1900110/</span><span style=\"color: #ff00ff; text-decoration-color: #ff00ff\">0001900110-23-000002.txt</span>\n",
       "</pre>\n"
      ],
      "text/plain": [
       "\u001b[35m/Volumes/fanpc/app_data/sec_apps_data/speed_test/filings_13f_full/filings/1900110/\u001b[0m\u001b[95m0001900110-23-000002.txt\u001b[0m\n"
      ]
     },
     "metadata": {},
     "output_type": "display_data"
    },
    {
     "data": {
      "text/html": [
       "<pre style=\"white-space:pre;overflow-x:auto;line-height:normal;font-family:Menlo,'DejaVu Sans Mono',consolas,'Courier New',monospace\">files to parse: <span style=\"color: #008080; text-decoration-color: #008080; font-weight: bold\">271</span>\n",
       "</pre>\n"
      ],
      "text/plain": [
       "files to parse: \u001b[1;36m271\u001b[0m\n"
      ]
     },
     "metadata": {},
     "output_type": "display_data"
    },
    {
     "data": {
      "text/html": [
       "<pre style=\"white-space:pre;overflow-x:auto;line-height:normal;font-family:Menlo,'DejaVu Sans Mono',consolas,'Courier New',monospace\"><span style=\"color: #800080; text-decoration-color: #800080\">/Volumes/fanpc/app_data/sec_apps_data/speed_test/filings_13f_full/filings/1904235/</span><span style=\"color: #ff00ff; text-decoration-color: #ff00ff\">0001493152-23-004849.txt</span>\n",
       "</pre>\n"
      ],
      "text/plain": [
       "\u001b[35m/Volumes/fanpc/app_data/sec_apps_data/speed_test/filings_13f_full/filings/1904235/\u001b[0m\u001b[95m0001493152-23-004849.txt\u001b[0m\n"
      ]
     },
     "metadata": {},
     "output_type": "display_data"
    },
    {
     "data": {
      "text/html": [
       "<pre style=\"white-space:pre;overflow-x:auto;line-height:normal;font-family:Menlo,'DejaVu Sans Mono',consolas,'Courier New',monospace\">files to parse: <span style=\"color: #008080; text-decoration-color: #008080; font-weight: bold\">271</span>\n",
       "</pre>\n"
      ],
      "text/plain": [
       "files to parse: \u001b[1;36m271\u001b[0m\n"
      ]
     },
     "metadata": {},
     "output_type": "display_data"
    },
    {
     "data": {
      "text/html": [
       "<pre style=\"white-space:pre;overflow-x:auto;line-height:normal;font-family:Menlo,'DejaVu Sans Mono',consolas,'Courier New',monospace\"><span style=\"color: #800080; text-decoration-color: #800080\">/Volumes/fanpc/app_data/sec_apps_data/speed_test/filings_13f_full/filings/1904262/</span><span style=\"color: #ff00ff; text-decoration-color: #ff00ff\">0001493152-23-004879.txt</span>\n",
       "</pre>\n"
      ],
      "text/plain": [
       "\u001b[35m/Volumes/fanpc/app_data/sec_apps_data/speed_test/filings_13f_full/filings/1904262/\u001b[0m\u001b[95m0001493152-23-004879.txt\u001b[0m\n"
      ]
     },
     "metadata": {},
     "output_type": "display_data"
    },
    {
     "data": {
      "text/html": [
       "<pre style=\"white-space:pre;overflow-x:auto;line-height:normal;font-family:Menlo,'DejaVu Sans Mono',consolas,'Courier New',monospace\">files to parse: <span style=\"color: #008080; text-decoration-color: #008080; font-weight: bold\">271</span>\n",
       "</pre>\n"
      ],
      "text/plain": [
       "files to parse: \u001b[1;36m271\u001b[0m\n"
      ]
     },
     "metadata": {},
     "output_type": "display_data"
    },
    {
     "data": {
      "text/html": [
       "<pre style=\"white-space:pre;overflow-x:auto;line-height:normal;font-family:Menlo,'DejaVu Sans Mono',consolas,'Courier New',monospace\"><span style=\"color: #800080; text-decoration-color: #800080\">/Volumes/fanpc/app_data/sec_apps_data/speed_test/filings_13f_full/filings/1907568/</span><span style=\"color: #ff00ff; text-decoration-color: #ff00ff\">0001398344-23-005305.txt</span>\n",
       "</pre>\n"
      ],
      "text/plain": [
       "\u001b[35m/Volumes/fanpc/app_data/sec_apps_data/speed_test/filings_13f_full/filings/1907568/\u001b[0m\u001b[95m0001398344-23-005305.txt\u001b[0m\n"
      ]
     },
     "metadata": {},
     "output_type": "display_data"
    },
    {
     "data": {
      "text/html": [
       "<pre style=\"white-space:pre;overflow-x:auto;line-height:normal;font-family:Menlo,'DejaVu Sans Mono',consolas,'Courier New',monospace\">files to parse: <span style=\"color: #008080; text-decoration-color: #008080; font-weight: bold\">271</span>\n",
       "</pre>\n"
      ],
      "text/plain": [
       "files to parse: \u001b[1;36m271\u001b[0m\n"
      ]
     },
     "metadata": {},
     "output_type": "display_data"
    },
    {
     "data": {
      "text/html": [
       "<pre style=\"white-space:pre;overflow-x:auto;line-height:normal;font-family:Menlo,'DejaVu Sans Mono',consolas,'Courier New',monospace\"><span style=\"color: #800080; text-decoration-color: #800080\">/Volumes/fanpc/app_data/sec_apps_data/speed_test/filings_13f_full/filings/1908275/</span><span style=\"color: #ff00ff; text-decoration-color: #ff00ff\">0001908275-23-000003.txt</span>\n",
       "</pre>\n"
      ],
      "text/plain": [
       "\u001b[35m/Volumes/fanpc/app_data/sec_apps_data/speed_test/filings_13f_full/filings/1908275/\u001b[0m\u001b[95m0001908275-23-000003.txt\u001b[0m\n"
      ]
     },
     "metadata": {},
     "output_type": "display_data"
    },
    {
     "data": {
      "text/html": [
       "<pre style=\"white-space:pre;overflow-x:auto;line-height:normal;font-family:Menlo,'DejaVu Sans Mono',consolas,'Courier New',monospace\">files to parse: <span style=\"color: #008080; text-decoration-color: #008080; font-weight: bold\">271</span>\n",
       "</pre>\n"
      ],
      "text/plain": [
       "files to parse: \u001b[1;36m271\u001b[0m\n"
      ]
     },
     "metadata": {},
     "output_type": "display_data"
    },
    {
     "data": {
      "text/html": [
       "<pre style=\"white-space:pre;overflow-x:auto;line-height:normal;font-family:Menlo,'DejaVu Sans Mono',consolas,'Courier New',monospace\"><span style=\"color: #800080; text-decoration-color: #800080\">/Volumes/fanpc/app_data/sec_apps_data/speed_test/filings_13f_full/filings/1908288/</span><span style=\"color: #ff00ff; text-decoration-color: #ff00ff\">0001908288-23-000002.txt</span>\n",
       "</pre>\n"
      ],
      "text/plain": [
       "\u001b[35m/Volumes/fanpc/app_data/sec_apps_data/speed_test/filings_13f_full/filings/1908288/\u001b[0m\u001b[95m0001908288-23-000002.txt\u001b[0m\n"
      ]
     },
     "metadata": {},
     "output_type": "display_data"
    },
    {
     "data": {
      "text/html": [
       "<pre style=\"white-space:pre;overflow-x:auto;line-height:normal;font-family:Menlo,'DejaVu Sans Mono',consolas,'Courier New',monospace\">files to parse: <span style=\"color: #008080; text-decoration-color: #008080; font-weight: bold\">271</span>\n",
       "</pre>\n"
      ],
      "text/plain": [
       "files to parse: \u001b[1;36m271\u001b[0m\n"
      ]
     },
     "metadata": {},
     "output_type": "display_data"
    },
    {
     "data": {
      "text/html": [
       "<pre style=\"white-space:pre;overflow-x:auto;line-height:normal;font-family:Menlo,'DejaVu Sans Mono',consolas,'Courier New',monospace\"><span style=\"color: #800080; text-decoration-color: #800080\">/Volumes/fanpc/app_data/sec_apps_data/speed_test/filings_13f_full/filings/1909307/</span><span style=\"color: #ff00ff; text-decoration-color: #ff00ff\">0001909307-23-000002.txt</span>\n",
       "</pre>\n"
      ],
      "text/plain": [
       "\u001b[35m/Volumes/fanpc/app_data/sec_apps_data/speed_test/filings_13f_full/filings/1909307/\u001b[0m\u001b[95m0001909307-23-000002.txt\u001b[0m\n"
      ]
     },
     "metadata": {},
     "output_type": "display_data"
    },
    {
     "data": {
      "text/html": [
       "<pre style=\"white-space:pre;overflow-x:auto;line-height:normal;font-family:Menlo,'DejaVu Sans Mono',consolas,'Courier New',monospace\">files to parse: <span style=\"color: #008080; text-decoration-color: #008080; font-weight: bold\">271</span>\n",
       "</pre>\n"
      ],
      "text/plain": [
       "files to parse: \u001b[1;36m271\u001b[0m\n"
      ]
     },
     "metadata": {},
     "output_type": "display_data"
    },
    {
     "data": {
      "text/html": [
       "<pre style=\"white-space:pre;overflow-x:auto;line-height:normal;font-family:Menlo,'DejaVu Sans Mono',consolas,'Courier New',monospace\"><span style=\"color: #800080; text-decoration-color: #800080\">/Volumes/fanpc/app_data/sec_apps_data/speed_test/filings_13f_full/filings/1909343/</span><span style=\"color: #ff00ff; text-decoration-color: #ff00ff\">0001728827-23-000002.txt</span>\n",
       "</pre>\n"
      ],
      "text/plain": [
       "\u001b[35m/Volumes/fanpc/app_data/sec_apps_data/speed_test/filings_13f_full/filings/1909343/\u001b[0m\u001b[95m0001728827-23-000002.txt\u001b[0m\n"
      ]
     },
     "metadata": {},
     "output_type": "display_data"
    },
    {
     "data": {
      "text/html": [
       "<pre style=\"white-space:pre;overflow-x:auto;line-height:normal;font-family:Menlo,'DejaVu Sans Mono',consolas,'Courier New',monospace\">files to parse: <span style=\"color: #008080; text-decoration-color: #008080; font-weight: bold\">271</span>\n",
       "</pre>\n"
      ],
      "text/plain": [
       "files to parse: \u001b[1;36m271\u001b[0m\n"
      ]
     },
     "metadata": {},
     "output_type": "display_data"
    },
    {
     "data": {
      "text/html": [
       "<pre style=\"white-space:pre;overflow-x:auto;line-height:normal;font-family:Menlo,'DejaVu Sans Mono',consolas,'Courier New',monospace\"><span style=\"color: #800080; text-decoration-color: #800080\">/Volumes/fanpc/app_data/sec_apps_data/speed_test/filings_13f_full/filings/1910321/</span><span style=\"color: #ff00ff; text-decoration-color: #ff00ff\">0001892688-23-000021.txt</span>\n",
       "</pre>\n"
      ],
      "text/plain": [
       "\u001b[35m/Volumes/fanpc/app_data/sec_apps_data/speed_test/filings_13f_full/filings/1910321/\u001b[0m\u001b[95m0001892688-23-000021.txt\u001b[0m\n"
      ]
     },
     "metadata": {},
     "output_type": "display_data"
    },
    {
     "data": {
      "text/html": [
       "<pre style=\"white-space:pre;overflow-x:auto;line-height:normal;font-family:Menlo,'DejaVu Sans Mono',consolas,'Courier New',monospace\">files to parse: <span style=\"color: #008080; text-decoration-color: #008080; font-weight: bold\">271</span>\n",
       "</pre>\n"
      ],
      "text/plain": [
       "files to parse: \u001b[1;36m271\u001b[0m\n"
      ]
     },
     "metadata": {},
     "output_type": "display_data"
    },
    {
     "data": {
      "text/html": [
       "<pre style=\"white-space:pre;overflow-x:auto;line-height:normal;font-family:Menlo,'DejaVu Sans Mono',consolas,'Courier New',monospace\"><span style=\"color: #800080; text-decoration-color: #800080\">/Volumes/fanpc/app_data/sec_apps_data/speed_test/filings_13f_full/filings/1910971/</span><span style=\"color: #ff00ff; text-decoration-color: #ff00ff\">0001104659-23-023725.txt</span>\n",
       "</pre>\n"
      ],
      "text/plain": [
       "\u001b[35m/Volumes/fanpc/app_data/sec_apps_data/speed_test/filings_13f_full/filings/1910971/\u001b[0m\u001b[95m0001104659-23-023725.txt\u001b[0m\n"
      ]
     },
     "metadata": {},
     "output_type": "display_data"
    },
    {
     "data": {
      "text/html": [
       "<pre style=\"white-space:pre;overflow-x:auto;line-height:normal;font-family:Menlo,'DejaVu Sans Mono',consolas,'Courier New',monospace\">files to parse: <span style=\"color: #008080; text-decoration-color: #008080; font-weight: bold\">271</span>\n",
       "</pre>\n"
      ],
      "text/plain": [
       "files to parse: \u001b[1;36m271\u001b[0m\n"
      ]
     },
     "metadata": {},
     "output_type": "display_data"
    },
    {
     "data": {
      "text/html": [
       "<pre style=\"white-space:pre;overflow-x:auto;line-height:normal;font-family:Menlo,'DejaVu Sans Mono',consolas,'Courier New',monospace\"><span style=\"color: #800080; text-decoration-color: #800080\">/Volumes/fanpc/app_data/sec_apps_data/speed_test/filings_13f_full/filings/1911615/</span><span style=\"color: #ff00ff; text-decoration-color: #ff00ff\">0001085146-23-001447.txt</span>\n",
       "</pre>\n"
      ],
      "text/plain": [
       "\u001b[35m/Volumes/fanpc/app_data/sec_apps_data/speed_test/filings_13f_full/filings/1911615/\u001b[0m\u001b[95m0001085146-23-001447.txt\u001b[0m\n"
      ]
     },
     "metadata": {},
     "output_type": "display_data"
    },
    {
     "data": {
      "text/html": [
       "<pre style=\"white-space:pre;overflow-x:auto;line-height:normal;font-family:Menlo,'DejaVu Sans Mono',consolas,'Courier New',monospace\">files to parse: <span style=\"color: #008080; text-decoration-color: #008080; font-weight: bold\">271</span>\n",
       "</pre>\n"
      ],
      "text/plain": [
       "files to parse: \u001b[1;36m271\u001b[0m\n"
      ]
     },
     "metadata": {},
     "output_type": "display_data"
    },
    {
     "data": {
      "text/html": [
       "<pre style=\"white-space:pre;overflow-x:auto;line-height:normal;font-family:Menlo,'DejaVu Sans Mono',consolas,'Courier New',monospace\"><span style=\"color: #800080; text-decoration-color: #800080\">/Volumes/fanpc/app_data/sec_apps_data/speed_test/filings_13f_full/filings/1914235/</span><span style=\"color: #ff00ff; text-decoration-color: #ff00ff\">0001398344-23-003743.txt</span>\n",
       "</pre>\n"
      ],
      "text/plain": [
       "\u001b[35m/Volumes/fanpc/app_data/sec_apps_data/speed_test/filings_13f_full/filings/1914235/\u001b[0m\u001b[95m0001398344-23-003743.txt\u001b[0m\n"
      ]
     },
     "metadata": {},
     "output_type": "display_data"
    },
    {
     "data": {
      "text/html": [
       "<pre style=\"white-space:pre;overflow-x:auto;line-height:normal;font-family:Menlo,'DejaVu Sans Mono',consolas,'Courier New',monospace\">files to parse: <span style=\"color: #008080; text-decoration-color: #008080; font-weight: bold\">271</span>\n",
       "</pre>\n"
      ],
      "text/plain": [
       "files to parse: \u001b[1;36m271\u001b[0m\n"
      ]
     },
     "metadata": {},
     "output_type": "display_data"
    },
    {
     "data": {
      "text/html": [
       "<pre style=\"white-space:pre;overflow-x:auto;line-height:normal;font-family:Menlo,'DejaVu Sans Mono',consolas,'Courier New',monospace\"><span style=\"color: #800080; text-decoration-color: #800080\">/Volumes/fanpc/app_data/sec_apps_data/speed_test/filings_13f_full/filings/1916885/</span><span style=\"color: #ff00ff; text-decoration-color: #ff00ff\">0001916885-23-000002.txt</span>\n",
       "</pre>\n"
      ],
      "text/plain": [
       "\u001b[35m/Volumes/fanpc/app_data/sec_apps_data/speed_test/filings_13f_full/filings/1916885/\u001b[0m\u001b[95m0001916885-23-000002.txt\u001b[0m\n"
      ]
     },
     "metadata": {},
     "output_type": "display_data"
    },
    {
     "data": {
      "text/html": [
       "<pre style=\"white-space:pre;overflow-x:auto;line-height:normal;font-family:Menlo,'DejaVu Sans Mono',consolas,'Courier New',monospace\">files to parse: <span style=\"color: #008080; text-decoration-color: #008080; font-weight: bold\">271</span>\n",
       "</pre>\n"
      ],
      "text/plain": [
       "files to parse: \u001b[1;36m271\u001b[0m\n"
      ]
     },
     "metadata": {},
     "output_type": "display_data"
    },
    {
     "data": {
      "text/html": [
       "<pre style=\"white-space:pre;overflow-x:auto;line-height:normal;font-family:Menlo,'DejaVu Sans Mono',consolas,'Courier New',monospace\"><span style=\"color: #800080; text-decoration-color: #800080\">/Volumes/fanpc/app_data/sec_apps_data/speed_test/filings_13f_full/filings/1921093/</span><span style=\"color: #ff00ff; text-decoration-color: #ff00ff\">0001921093-23-000001.txt</span>\n",
       "</pre>\n"
      ],
      "text/plain": [
       "\u001b[35m/Volumes/fanpc/app_data/sec_apps_data/speed_test/filings_13f_full/filings/1921093/\u001b[0m\u001b[95m0001921093-23-000001.txt\u001b[0m\n"
      ]
     },
     "metadata": {},
     "output_type": "display_data"
    },
    {
     "data": {
      "text/html": [
       "<pre style=\"white-space:pre;overflow-x:auto;line-height:normal;font-family:Menlo,'DejaVu Sans Mono',consolas,'Courier New',monospace\">files to parse: <span style=\"color: #008080; text-decoration-color: #008080; font-weight: bold\">271</span>\n",
       "</pre>\n"
      ],
      "text/plain": [
       "files to parse: \u001b[1;36m271\u001b[0m\n"
      ]
     },
     "metadata": {},
     "output_type": "display_data"
    },
    {
     "data": {
      "text/html": [
       "<pre style=\"white-space:pre;overflow-x:auto;line-height:normal;font-family:Menlo,'DejaVu Sans Mono',consolas,'Courier New',monospace\"><span style=\"color: #800080; text-decoration-color: #800080\">/Volumes/fanpc/app_data/sec_apps_data/speed_test/filings_13f_full/filings/1924152/</span><span style=\"color: #ff00ff; text-decoration-color: #ff00ff\">0001924152-23-000001.txt</span>\n",
       "</pre>\n"
      ],
      "text/plain": [
       "\u001b[35m/Volumes/fanpc/app_data/sec_apps_data/speed_test/filings_13f_full/filings/1924152/\u001b[0m\u001b[95m0001924152-23-000001.txt\u001b[0m\n"
      ]
     },
     "metadata": {},
     "output_type": "display_data"
    },
    {
     "data": {
      "text/html": [
       "<pre style=\"white-space:pre;overflow-x:auto;line-height:normal;font-family:Menlo,'DejaVu Sans Mono',consolas,'Courier New',monospace\">files to parse: <span style=\"color: #008080; text-decoration-color: #008080; font-weight: bold\">271</span>\n",
       "</pre>\n"
      ],
      "text/plain": [
       "files to parse: \u001b[1;36m271\u001b[0m\n"
      ]
     },
     "metadata": {},
     "output_type": "display_data"
    },
    {
     "data": {
      "text/html": [
       "<pre style=\"white-space:pre;overflow-x:auto;line-height:normal;font-family:Menlo,'DejaVu Sans Mono',consolas,'Courier New',monospace\"><span style=\"color: #800080; text-decoration-color: #800080\">/Volumes/fanpc/app_data/sec_apps_data/speed_test/filings_13f_full/filings/1932645/</span><span style=\"color: #ff00ff; text-decoration-color: #ff00ff\">0001085146-23-001424.txt</span>\n",
       "</pre>\n"
      ],
      "text/plain": [
       "\u001b[35m/Volumes/fanpc/app_data/sec_apps_data/speed_test/filings_13f_full/filings/1932645/\u001b[0m\u001b[95m0001085146-23-001424.txt\u001b[0m\n"
      ]
     },
     "metadata": {},
     "output_type": "display_data"
    },
    {
     "data": {
      "text/html": [
       "<pre style=\"white-space:pre;overflow-x:auto;line-height:normal;font-family:Menlo,'DejaVu Sans Mono',consolas,'Courier New',monospace\">files to parse: <span style=\"color: #008080; text-decoration-color: #008080; font-weight: bold\">271</span>\n",
       "</pre>\n"
      ],
      "text/plain": [
       "files to parse: \u001b[1;36m271\u001b[0m\n"
      ]
     },
     "metadata": {},
     "output_type": "display_data"
    },
    {
     "data": {
      "text/html": [
       "<pre style=\"white-space:pre;overflow-x:auto;line-height:normal;font-family:Menlo,'DejaVu Sans Mono',consolas,'Courier New',monospace\"><span style=\"color: #800080; text-decoration-color: #800080\">/Volumes/fanpc/app_data/sec_apps_data/speed_test/filings_13f_full/filings/1938757/</span><span style=\"color: #ff00ff; text-decoration-color: #ff00ff\">0001938757-23-000005.txt</span>\n",
       "</pre>\n"
      ],
      "text/plain": [
       "\u001b[35m/Volumes/fanpc/app_data/sec_apps_data/speed_test/filings_13f_full/filings/1938757/\u001b[0m\u001b[95m0001938757-23-000005.txt\u001b[0m\n"
      ]
     },
     "metadata": {},
     "output_type": "display_data"
    },
    {
     "data": {
      "text/html": [
       "<pre style=\"white-space:pre;overflow-x:auto;line-height:normal;font-family:Menlo,'DejaVu Sans Mono',consolas,'Courier New',monospace\">files to parse: <span style=\"color: #008080; text-decoration-color: #008080; font-weight: bold\">271</span>\n",
       "</pre>\n"
      ],
      "text/plain": [
       "files to parse: \u001b[1;36m271\u001b[0m\n"
      ]
     },
     "metadata": {},
     "output_type": "display_data"
    },
    {
     "data": {
      "text/html": [
       "<pre style=\"white-space:pre;overflow-x:auto;line-height:normal;font-family:Menlo,'DejaVu Sans Mono',consolas,'Courier New',monospace\"><span style=\"color: #800080; text-decoration-color: #800080\">/Volumes/fanpc/app_data/sec_apps_data/speed_test/filings_13f_full/filings/1938757/</span><span style=\"color: #ff00ff; text-decoration-color: #ff00ff\">0001938757-23-000014.txt</span>\n",
       "</pre>\n"
      ],
      "text/plain": [
       "\u001b[35m/Volumes/fanpc/app_data/sec_apps_data/speed_test/filings_13f_full/filings/1938757/\u001b[0m\u001b[95m0001938757-23-000014.txt\u001b[0m\n"
      ]
     },
     "metadata": {},
     "output_type": "display_data"
    },
    {
     "data": {
      "text/html": [
       "<pre style=\"white-space:pre;overflow-x:auto;line-height:normal;font-family:Menlo,'DejaVu Sans Mono',consolas,'Courier New',monospace\">files to parse: <span style=\"color: #008080; text-decoration-color: #008080; font-weight: bold\">271</span>\n",
       "</pre>\n"
      ],
      "text/plain": [
       "files to parse: \u001b[1;36m271\u001b[0m\n"
      ]
     },
     "metadata": {},
     "output_type": "display_data"
    },
    {
     "data": {
      "text/html": [
       "<pre style=\"white-space:pre;overflow-x:auto;line-height:normal;font-family:Menlo,'DejaVu Sans Mono',consolas,'Courier New',monospace\"><span style=\"color: #800080; text-decoration-color: #800080\">/Volumes/fanpc/app_data/sec_apps_data/speed_test/filings_13f_full/filings/1938757/</span><span style=\"color: #ff00ff; text-decoration-color: #ff00ff\">0001938757-23-000015.txt</span>\n",
       "</pre>\n"
      ],
      "text/plain": [
       "\u001b[35m/Volumes/fanpc/app_data/sec_apps_data/speed_test/filings_13f_full/filings/1938757/\u001b[0m\u001b[95m0001938757-23-000015.txt\u001b[0m\n"
      ]
     },
     "metadata": {},
     "output_type": "display_data"
    },
    {
     "data": {
      "text/html": [
       "<pre style=\"white-space:pre;overflow-x:auto;line-height:normal;font-family:Menlo,'DejaVu Sans Mono',consolas,'Courier New',monospace\">files to parse: <span style=\"color: #008080; text-decoration-color: #008080; font-weight: bold\">271</span>\n",
       "</pre>\n"
      ],
      "text/plain": [
       "files to parse: \u001b[1;36m271\u001b[0m\n"
      ]
     },
     "metadata": {},
     "output_type": "display_data"
    },
    {
     "data": {
      "text/html": [
       "<pre style=\"white-space:pre;overflow-x:auto;line-height:normal;font-family:Menlo,'DejaVu Sans Mono',consolas,'Courier New',monospace\"><span style=\"color: #800080; text-decoration-color: #800080\">/Volumes/fanpc/app_data/sec_apps_data/speed_test/filings_13f_full/filings/1938757/</span><span style=\"color: #ff00ff; text-decoration-color: #ff00ff\">0001938757-23-000016.txt</span>\n",
       "</pre>\n"
      ],
      "text/plain": [
       "\u001b[35m/Volumes/fanpc/app_data/sec_apps_data/speed_test/filings_13f_full/filings/1938757/\u001b[0m\u001b[95m0001938757-23-000016.txt\u001b[0m\n"
      ]
     },
     "metadata": {},
     "output_type": "display_data"
    },
    {
     "data": {
      "text/html": [
       "<pre style=\"white-space:pre;overflow-x:auto;line-height:normal;font-family:Menlo,'DejaVu Sans Mono',consolas,'Courier New',monospace\">files to parse: <span style=\"color: #008080; text-decoration-color: #008080; font-weight: bold\">271</span>\n",
       "</pre>\n"
      ],
      "text/plain": [
       "files to parse: \u001b[1;36m271\u001b[0m\n"
      ]
     },
     "metadata": {},
     "output_type": "display_data"
    },
    {
     "data": {
      "text/html": [
       "<pre style=\"white-space:pre;overflow-x:auto;line-height:normal;font-family:Menlo,'DejaVu Sans Mono',consolas,'Courier New',monospace\"><span style=\"color: #800080; text-decoration-color: #800080\">/Volumes/fanpc/app_data/sec_apps_data/speed_test/filings_13f_full/filings/1938757/</span><span style=\"color: #ff00ff; text-decoration-color: #ff00ff\">0001938757-23-000017.txt</span>\n",
       "</pre>\n"
      ],
      "text/plain": [
       "\u001b[35m/Volumes/fanpc/app_data/sec_apps_data/speed_test/filings_13f_full/filings/1938757/\u001b[0m\u001b[95m0001938757-23-000017.txt\u001b[0m\n"
      ]
     },
     "metadata": {},
     "output_type": "display_data"
    },
    {
     "data": {
      "text/html": [
       "<pre style=\"white-space:pre;overflow-x:auto;line-height:normal;font-family:Menlo,'DejaVu Sans Mono',consolas,'Courier New',monospace\">files to parse: <span style=\"color: #008080; text-decoration-color: #008080; font-weight: bold\">271</span>\n",
       "</pre>\n"
      ],
      "text/plain": [
       "files to parse: \u001b[1;36m271\u001b[0m\n"
      ]
     },
     "metadata": {},
     "output_type": "display_data"
    },
    {
     "data": {
      "text/html": [
       "<pre style=\"white-space:pre;overflow-x:auto;line-height:normal;font-family:Menlo,'DejaVu Sans Mono',consolas,'Courier New',monospace\"><span style=\"color: #800080; text-decoration-color: #800080\">/Volumes/fanpc/app_data/sec_apps_data/speed_test/filings_13f_full/filings/1938757/</span><span style=\"color: #ff00ff; text-decoration-color: #ff00ff\">0001938757-23-000018.txt</span>\n",
       "</pre>\n"
      ],
      "text/plain": [
       "\u001b[35m/Volumes/fanpc/app_data/sec_apps_data/speed_test/filings_13f_full/filings/1938757/\u001b[0m\u001b[95m0001938757-23-000018.txt\u001b[0m\n"
      ]
     },
     "metadata": {},
     "output_type": "display_data"
    },
    {
     "data": {
      "text/html": [
       "<pre style=\"white-space:pre;overflow-x:auto;line-height:normal;font-family:Menlo,'DejaVu Sans Mono',consolas,'Courier New',monospace\">files to parse: <span style=\"color: #008080; text-decoration-color: #008080; font-weight: bold\">271</span>\n",
       "</pre>\n"
      ],
      "text/plain": [
       "files to parse: \u001b[1;36m271\u001b[0m\n"
      ]
     },
     "metadata": {},
     "output_type": "display_data"
    },
    {
     "data": {
      "text/html": [
       "<pre style=\"white-space:pre;overflow-x:auto;line-height:normal;font-family:Menlo,'DejaVu Sans Mono',consolas,'Courier New',monospace\"><span style=\"color: #800080; text-decoration-color: #800080\">/Volumes/fanpc/app_data/sec_apps_data/speed_test/filings_13f_full/filings/1938757/</span><span style=\"color: #ff00ff; text-decoration-color: #ff00ff\">0001938757-23-000019.txt</span>\n",
       "</pre>\n"
      ],
      "text/plain": [
       "\u001b[35m/Volumes/fanpc/app_data/sec_apps_data/speed_test/filings_13f_full/filings/1938757/\u001b[0m\u001b[95m0001938757-23-000019.txt\u001b[0m\n"
      ]
     },
     "metadata": {},
     "output_type": "display_data"
    },
    {
     "data": {
      "text/html": [
       "<pre style=\"white-space:pre;overflow-x:auto;line-height:normal;font-family:Menlo,'DejaVu Sans Mono',consolas,'Courier New',monospace\">files to parse: <span style=\"color: #008080; text-decoration-color: #008080; font-weight: bold\">271</span>\n",
       "</pre>\n"
      ],
      "text/plain": [
       "files to parse: \u001b[1;36m271\u001b[0m\n"
      ]
     },
     "metadata": {},
     "output_type": "display_data"
    },
    {
     "data": {
      "text/html": [
       "<pre style=\"white-space:pre;overflow-x:auto;line-height:normal;font-family:Menlo,'DejaVu Sans Mono',consolas,'Courier New',monospace\"><span style=\"color: #800080; text-decoration-color: #800080\">/Volumes/fanpc/app_data/sec_apps_data/speed_test/filings_13f_full/filings/1938757/</span><span style=\"color: #ff00ff; text-decoration-color: #ff00ff\">0001938757-23-000020.txt</span>\n",
       "</pre>\n"
      ],
      "text/plain": [
       "\u001b[35m/Volumes/fanpc/app_data/sec_apps_data/speed_test/filings_13f_full/filings/1938757/\u001b[0m\u001b[95m0001938757-23-000020.txt\u001b[0m\n"
      ]
     },
     "metadata": {},
     "output_type": "display_data"
    },
    {
     "data": {
      "text/html": [
       "<pre style=\"white-space:pre;overflow-x:auto;line-height:normal;font-family:Menlo,'DejaVu Sans Mono',consolas,'Courier New',monospace\">files to parse: <span style=\"color: #008080; text-decoration-color: #008080; font-weight: bold\">271</span>\n",
       "</pre>\n"
      ],
      "text/plain": [
       "files to parse: \u001b[1;36m271\u001b[0m\n"
      ]
     },
     "metadata": {},
     "output_type": "display_data"
    },
    {
     "data": {
      "text/html": [
       "<pre style=\"white-space:pre;overflow-x:auto;line-height:normal;font-family:Menlo,'DejaVu Sans Mono',consolas,'Courier New',monospace\"><span style=\"color: #800080; text-decoration-color: #800080\">/Volumes/fanpc/app_data/sec_apps_data/speed_test/filings_13f_full/filings/1938757/</span><span style=\"color: #ff00ff; text-decoration-color: #ff00ff\">0001938757-23-000021.txt</span>\n",
       "</pre>\n"
      ],
      "text/plain": [
       "\u001b[35m/Volumes/fanpc/app_data/sec_apps_data/speed_test/filings_13f_full/filings/1938757/\u001b[0m\u001b[95m0001938757-23-000021.txt\u001b[0m\n"
      ]
     },
     "metadata": {},
     "output_type": "display_data"
    },
    {
     "data": {
      "text/html": [
       "<pre style=\"white-space:pre;overflow-x:auto;line-height:normal;font-family:Menlo,'DejaVu Sans Mono',consolas,'Courier New',monospace\">files to parse: <span style=\"color: #008080; text-decoration-color: #008080; font-weight: bold\">271</span>\n",
       "</pre>\n"
      ],
      "text/plain": [
       "files to parse: \u001b[1;36m271\u001b[0m\n"
      ]
     },
     "metadata": {},
     "output_type": "display_data"
    },
    {
     "data": {
      "text/html": [
       "<pre style=\"white-space:pre;overflow-x:auto;line-height:normal;font-family:Menlo,'DejaVu Sans Mono',consolas,'Courier New',monospace\"><span style=\"color: #800080; text-decoration-color: #800080\">/Volumes/fanpc/app_data/sec_apps_data/speed_test/filings_13f_full/filings/1938970/</span><span style=\"color: #ff00ff; text-decoration-color: #ff00ff\">0001221073-23-000027.txt</span>\n",
       "</pre>\n"
      ],
      "text/plain": [
       "\u001b[35m/Volumes/fanpc/app_data/sec_apps_data/speed_test/filings_13f_full/filings/1938970/\u001b[0m\u001b[95m0001221073-23-000027.txt\u001b[0m\n"
      ]
     },
     "metadata": {},
     "output_type": "display_data"
    },
    {
     "data": {
      "text/html": [
       "<pre style=\"white-space:pre;overflow-x:auto;line-height:normal;font-family:Menlo,'DejaVu Sans Mono',consolas,'Courier New',monospace\">files to parse: <span style=\"color: #008080; text-decoration-color: #008080; font-weight: bold\">271</span>\n",
       "</pre>\n"
      ],
      "text/plain": [
       "files to parse: \u001b[1;36m271\u001b[0m\n"
      ]
     },
     "metadata": {},
     "output_type": "display_data"
    },
    {
     "data": {
      "text/html": [
       "<pre style=\"white-space:pre;overflow-x:auto;line-height:normal;font-family:Menlo,'DejaVu Sans Mono',consolas,'Courier New',monospace\"><span style=\"color: #800080; text-decoration-color: #800080\">/Volumes/fanpc/app_data/sec_apps_data/speed_test/filings_13f_full/filings/1940678/</span><span style=\"color: #ff00ff; text-decoration-color: #ff00ff\">0001940678-23-000001.txt</span>\n",
       "</pre>\n"
      ],
      "text/plain": [
       "\u001b[35m/Volumes/fanpc/app_data/sec_apps_data/speed_test/filings_13f_full/filings/1940678/\u001b[0m\u001b[95m0001940678-23-000001.txt\u001b[0m\n"
      ]
     },
     "metadata": {},
     "output_type": "display_data"
    },
    {
     "data": {
      "text/html": [
       "<pre style=\"white-space:pre;overflow-x:auto;line-height:normal;font-family:Menlo,'DejaVu Sans Mono',consolas,'Courier New',monospace\">files to parse: <span style=\"color: #008080; text-decoration-color: #008080; font-weight: bold\">271</span>\n",
       "</pre>\n"
      ],
      "text/plain": [
       "files to parse: \u001b[1;36m271\u001b[0m\n"
      ]
     },
     "metadata": {},
     "output_type": "display_data"
    },
    {
     "data": {
      "text/html": [
       "<pre style=\"white-space:pre;overflow-x:auto;line-height:normal;font-family:Menlo,'DejaVu Sans Mono',consolas,'Courier New',monospace\"><span style=\"color: #800080; text-decoration-color: #800080\">/Volumes/fanpc/app_data/sec_apps_data/speed_test/filings_13f_full/filings/1946205/</span><span style=\"color: #ff00ff; text-decoration-color: #ff00ff\">0001946205-23-000002.txt</span>\n",
       "</pre>\n"
      ],
      "text/plain": [
       "\u001b[35m/Volumes/fanpc/app_data/sec_apps_data/speed_test/filings_13f_full/filings/1946205/\u001b[0m\u001b[95m0001946205-23-000002.txt\u001b[0m\n"
      ]
     },
     "metadata": {},
     "output_type": "display_data"
    },
    {
     "data": {
      "text/html": [
       "<pre style=\"white-space:pre;overflow-x:auto;line-height:normal;font-family:Menlo,'DejaVu Sans Mono',consolas,'Courier New',monospace\">files to parse: <span style=\"color: #008080; text-decoration-color: #008080; font-weight: bold\">271</span>\n",
       "</pre>\n"
      ],
      "text/plain": [
       "files to parse: \u001b[1;36m271\u001b[0m\n"
      ]
     },
     "metadata": {},
     "output_type": "display_data"
    },
    {
     "data": {
      "text/html": [
       "<pre style=\"white-space:pre;overflow-x:auto;line-height:normal;font-family:Menlo,'DejaVu Sans Mono',consolas,'Courier New',monospace\"><span style=\"color: #800080; text-decoration-color: #800080\">/Volumes/fanpc/app_data/sec_apps_data/speed_test/filings_13f_full/filings/1951368/</span><span style=\"color: #ff00ff; text-decoration-color: #ff00ff\">0001085146-23-001430.txt</span>\n",
       "</pre>\n"
      ],
      "text/plain": [
       "\u001b[35m/Volumes/fanpc/app_data/sec_apps_data/speed_test/filings_13f_full/filings/1951368/\u001b[0m\u001b[95m0001085146-23-001430.txt\u001b[0m\n"
      ]
     },
     "metadata": {},
     "output_type": "display_data"
    },
    {
     "data": {
      "text/html": [
       "<pre style=\"white-space:pre;overflow-x:auto;line-height:normal;font-family:Menlo,'DejaVu Sans Mono',consolas,'Courier New',monospace\">files to parse: <span style=\"color: #008080; text-decoration-color: #008080; font-weight: bold\">271</span>\n",
       "</pre>\n"
      ],
      "text/plain": [
       "files to parse: \u001b[1;36m271\u001b[0m\n"
      ]
     },
     "metadata": {},
     "output_type": "display_data"
    },
    {
     "data": {
      "text/html": [
       "<pre style=\"white-space:pre;overflow-x:auto;line-height:normal;font-family:Menlo,'DejaVu Sans Mono',consolas,'Courier New',monospace\"><span style=\"color: #800080; text-decoration-color: #800080\">/Volumes/fanpc/app_data/sec_apps_data/speed_test/filings_13f_full/filings/1955207/</span><span style=\"color: #ff00ff; text-decoration-color: #ff00ff\">0001955207-23-000001.txt</span>\n",
       "</pre>\n"
      ],
      "text/plain": [
       "\u001b[35m/Volumes/fanpc/app_data/sec_apps_data/speed_test/filings_13f_full/filings/1955207/\u001b[0m\u001b[95m0001955207-23-000001.txt\u001b[0m\n"
      ]
     },
     "metadata": {},
     "output_type": "display_data"
    },
    {
     "data": {
      "text/html": [
       "<pre style=\"white-space:pre;overflow-x:auto;line-height:normal;font-family:Menlo,'DejaVu Sans Mono',consolas,'Courier New',monospace\">files to parse: <span style=\"color: #008080; text-decoration-color: #008080; font-weight: bold\">271</span>\n",
       "</pre>\n"
      ],
      "text/plain": [
       "files to parse: \u001b[1;36m271\u001b[0m\n"
      ]
     },
     "metadata": {},
     "output_type": "display_data"
    },
    {
     "data": {
      "text/html": [
       "<pre style=\"white-space:pre;overflow-x:auto;line-height:normal;font-family:Menlo,'DejaVu Sans Mono',consolas,'Courier New',monospace\"><span style=\"color: #800080; text-decoration-color: #800080\">/Volumes/fanpc/app_data/sec_apps_data/speed_test/filings_13f_full/filings/1961150/</span><span style=\"color: #ff00ff; text-decoration-color: #ff00ff\">0001961150-23-000004.txt</span>\n",
       "</pre>\n"
      ],
      "text/plain": [
       "\u001b[35m/Volumes/fanpc/app_data/sec_apps_data/speed_test/filings_13f_full/filings/1961150/\u001b[0m\u001b[95m0001961150-23-000004.txt\u001b[0m\n"
      ]
     },
     "metadata": {},
     "output_type": "display_data"
    },
    {
     "data": {
      "text/html": [
       "<pre style=\"white-space:pre;overflow-x:auto;line-height:normal;font-family:Menlo,'DejaVu Sans Mono',consolas,'Courier New',monospace\">files to parse: <span style=\"color: #008080; text-decoration-color: #008080; font-weight: bold\">271</span>\n",
       "</pre>\n"
      ],
      "text/plain": [
       "files to parse: \u001b[1;36m271\u001b[0m\n"
      ]
     },
     "metadata": {},
     "output_type": "display_data"
    },
    {
     "data": {
      "text/html": [
       "<pre style=\"white-space:pre;overflow-x:auto;line-height:normal;font-family:Menlo,'DejaVu Sans Mono',consolas,'Courier New',monospace\"><span style=\"color: #800080; text-decoration-color: #800080\">/Volumes/fanpc/app_data/sec_apps_data/speed_test/filings_13f_full/filings/1962713/</span><span style=\"color: #ff00ff; text-decoration-color: #ff00ff\">0001962713-23-000003.txt</span>\n",
       "</pre>\n"
      ],
      "text/plain": [
       "\u001b[35m/Volumes/fanpc/app_data/sec_apps_data/speed_test/filings_13f_full/filings/1962713/\u001b[0m\u001b[95m0001962713-23-000003.txt\u001b[0m\n"
      ]
     },
     "metadata": {},
     "output_type": "display_data"
    },
    {
     "data": {
      "text/html": [
       "<pre style=\"white-space:pre;overflow-x:auto;line-height:normal;font-family:Menlo,'DejaVu Sans Mono',consolas,'Courier New',monospace\">files to parse: <span style=\"color: #008080; text-decoration-color: #008080; font-weight: bold\">271</span>\n",
       "</pre>\n"
      ],
      "text/plain": [
       "files to parse: \u001b[1;36m271\u001b[0m\n"
      ]
     },
     "metadata": {},
     "output_type": "display_data"
    },
    {
     "data": {
      "text/html": [
       "<pre style=\"white-space:pre;overflow-x:auto;line-height:normal;font-family:Menlo,'DejaVu Sans Mono',consolas,'Courier New',monospace\"><span style=\"color: #800080; text-decoration-color: #800080\">/Volumes/fanpc/app_data/sec_apps_data/speed_test/filings_13f_full/filings/1964532/</span><span style=\"color: #ff00ff; text-decoration-color: #ff00ff\">0001172661-23-001514.txt</span>\n",
       "</pre>\n"
      ],
      "text/plain": [
       "\u001b[35m/Volumes/fanpc/app_data/sec_apps_data/speed_test/filings_13f_full/filings/1964532/\u001b[0m\u001b[95m0001172661-23-001514.txt\u001b[0m\n"
      ]
     },
     "metadata": {},
     "output_type": "display_data"
    },
    {
     "data": {
      "text/html": [
       "<pre style=\"white-space:pre;overflow-x:auto;line-height:normal;font-family:Menlo,'DejaVu Sans Mono',consolas,'Courier New',monospace\">files to parse: <span style=\"color: #008080; text-decoration-color: #008080; font-weight: bold\">271</span>\n",
       "</pre>\n"
      ],
      "text/plain": [
       "files to parse: \u001b[1;36m271\u001b[0m\n"
      ]
     },
     "metadata": {},
     "output_type": "display_data"
    },
    {
     "data": {
      "text/html": [
       "<pre style=\"white-space:pre;overflow-x:auto;line-height:normal;font-family:Menlo,'DejaVu Sans Mono',consolas,'Courier New',monospace\"><span style=\"color: #800080; text-decoration-color: #800080\">/Volumes/fanpc/app_data/sec_apps_data/speed_test/filings_13f_full/filings/1964532/</span><span style=\"color: #ff00ff; text-decoration-color: #ff00ff\">0001172661-23-001515.txt</span>\n",
       "</pre>\n"
      ],
      "text/plain": [
       "\u001b[35m/Volumes/fanpc/app_data/sec_apps_data/speed_test/filings_13f_full/filings/1964532/\u001b[0m\u001b[95m0001172661-23-001515.txt\u001b[0m\n"
      ]
     },
     "metadata": {},
     "output_type": "display_data"
    },
    {
     "data": {
      "text/html": [
       "<pre style=\"white-space:pre;overflow-x:auto;line-height:normal;font-family:Menlo,'DejaVu Sans Mono',consolas,'Courier New',monospace\">files to parse: <span style=\"color: #008080; text-decoration-color: #008080; font-weight: bold\">271</span>\n",
       "</pre>\n"
      ],
      "text/plain": [
       "files to parse: \u001b[1;36m271\u001b[0m\n"
      ]
     },
     "metadata": {},
     "output_type": "display_data"
    },
    {
     "data": {
      "text/html": [
       "<pre style=\"white-space:pre;overflow-x:auto;line-height:normal;font-family:Menlo,'DejaVu Sans Mono',consolas,'Courier New',monospace\"><span style=\"color: #800080; text-decoration-color: #800080\">/Volumes/fanpc/app_data/sec_apps_data/speed_test/filings_13f_full/filings/1964532/</span><span style=\"color: #ff00ff; text-decoration-color: #ff00ff\">0001172661-23-001516.txt</span>\n",
       "</pre>\n"
      ],
      "text/plain": [
       "\u001b[35m/Volumes/fanpc/app_data/sec_apps_data/speed_test/filings_13f_full/filings/1964532/\u001b[0m\u001b[95m0001172661-23-001516.txt\u001b[0m\n"
      ]
     },
     "metadata": {},
     "output_type": "display_data"
    },
    {
     "data": {
      "text/html": [
       "<pre style=\"white-space:pre;overflow-x:auto;line-height:normal;font-family:Menlo,'DejaVu Sans Mono',consolas,'Courier New',monospace\">files to parse: <span style=\"color: #008080; text-decoration-color: #008080; font-weight: bold\">271</span>\n",
       "</pre>\n"
      ],
      "text/plain": [
       "files to parse: \u001b[1;36m271\u001b[0m\n"
      ]
     },
     "metadata": {},
     "output_type": "display_data"
    },
    {
     "data": {
      "text/html": [
       "<pre style=\"white-space:pre;overflow-x:auto;line-height:normal;font-family:Menlo,'DejaVu Sans Mono',consolas,'Courier New',monospace\"><span style=\"color: #800080; text-decoration-color: #800080\">/Volumes/fanpc/app_data/sec_apps_data/speed_test/filings_13f_full/filings/1964532/</span><span style=\"color: #ff00ff; text-decoration-color: #ff00ff\">0001172661-23-001517.txt</span>\n",
       "</pre>\n"
      ],
      "text/plain": [
       "\u001b[35m/Volumes/fanpc/app_data/sec_apps_data/speed_test/filings_13f_full/filings/1964532/\u001b[0m\u001b[95m0001172661-23-001517.txt\u001b[0m\n"
      ]
     },
     "metadata": {},
     "output_type": "display_data"
    },
    {
     "data": {
      "text/html": [
       "<pre style=\"white-space:pre;overflow-x:auto;line-height:normal;font-family:Menlo,'DejaVu Sans Mono',consolas,'Courier New',monospace\">files to parse: <span style=\"color: #008080; text-decoration-color: #008080; font-weight: bold\">271</span>\n",
       "</pre>\n"
      ],
      "text/plain": [
       "files to parse: \u001b[1;36m271\u001b[0m\n"
      ]
     },
     "metadata": {},
     "output_type": "display_data"
    },
    {
     "data": {
      "text/html": [
       "<pre style=\"white-space:pre;overflow-x:auto;line-height:normal;font-family:Menlo,'DejaVu Sans Mono',consolas,'Courier New',monospace\"><span style=\"color: #800080; text-decoration-color: #800080\">/Volumes/fanpc/app_data/sec_apps_data/speed_test/filings_13f_full/filings/1964785/</span><span style=\"color: #ff00ff; text-decoration-color: #ff00ff\">0000950123-23-001530.txt</span>\n",
       "</pre>\n"
      ],
      "text/plain": [
       "\u001b[35m/Volumes/fanpc/app_data/sec_apps_data/speed_test/filings_13f_full/filings/1964785/\u001b[0m\u001b[95m0000950123-23-001530.txt\u001b[0m\n"
      ]
     },
     "metadata": {},
     "output_type": "display_data"
    },
    {
     "data": {
      "text/html": [
       "<pre style=\"white-space:pre;overflow-x:auto;line-height:normal;font-family:Menlo,'DejaVu Sans Mono',consolas,'Courier New',monospace\">files to parse: <span style=\"color: #008080; text-decoration-color: #008080; font-weight: bold\">271</span>\n",
       "</pre>\n"
      ],
      "text/plain": [
       "files to parse: \u001b[1;36m271\u001b[0m\n"
      ]
     },
     "metadata": {},
     "output_type": "display_data"
    },
    {
     "data": {
      "text/html": [
       "<pre style=\"white-space:pre;overflow-x:auto;line-height:normal;font-family:Menlo,'DejaVu Sans Mono',consolas,'Courier New',monospace\"><span style=\"color: #800080; text-decoration-color: #800080\">/Volumes/fanpc/app_data/sec_apps_data/speed_test/filings_13f_full/filings/1965776/</span><span style=\"color: #ff00ff; text-decoration-color: #ff00ff\">0001965776-23-000001.txt</span>\n",
       "</pre>\n"
      ],
      "text/plain": [
       "\u001b[35m/Volumes/fanpc/app_data/sec_apps_data/speed_test/filings_13f_full/filings/1965776/\u001b[0m\u001b[95m0001965776-23-000001.txt\u001b[0m\n"
      ]
     },
     "metadata": {},
     "output_type": "display_data"
    },
    {
     "data": {
      "text/html": [
       "<pre style=\"white-space:pre;overflow-x:auto;line-height:normal;font-family:Menlo,'DejaVu Sans Mono',consolas,'Courier New',monospace\">files to parse: <span style=\"color: #008080; text-decoration-color: #008080; font-weight: bold\">271</span>\n",
       "</pre>\n"
      ],
      "text/plain": [
       "files to parse: \u001b[1;36m271\u001b[0m\n"
      ]
     },
     "metadata": {},
     "output_type": "display_data"
    },
    {
     "data": {
      "text/html": [
       "<pre style=\"white-space:pre;overflow-x:auto;line-height:normal;font-family:Menlo,'DejaVu Sans Mono',consolas,'Courier New',monospace\"><span style=\"color: #800080; text-decoration-color: #800080\">/Volumes/fanpc/app_data/sec_apps_data/speed_test/filings_13f_full/filings/1966040/</span><span style=\"color: #ff00ff; text-decoration-color: #ff00ff\">0001966040-23-000001.txt</span>\n",
       "</pre>\n"
      ],
      "text/plain": [
       "\u001b[35m/Volumes/fanpc/app_data/sec_apps_data/speed_test/filings_13f_full/filings/1966040/\u001b[0m\u001b[95m0001966040-23-000001.txt\u001b[0m\n"
      ]
     },
     "metadata": {},
     "output_type": "display_data"
    },
    {
     "data": {
      "text/html": [
       "<pre style=\"white-space:pre;overflow-x:auto;line-height:normal;font-family:Menlo,'DejaVu Sans Mono',consolas,'Courier New',monospace\">files to parse: <span style=\"color: #008080; text-decoration-color: #008080; font-weight: bold\">271</span>\n",
       "</pre>\n"
      ],
      "text/plain": [
       "files to parse: \u001b[1;36m271\u001b[0m\n"
      ]
     },
     "metadata": {},
     "output_type": "display_data"
    },
    {
     "data": {
      "text/html": [
       "<pre style=\"white-space:pre;overflow-x:auto;line-height:normal;font-family:Menlo,'DejaVu Sans Mono',consolas,'Courier New',monospace\"><span style=\"color: #800080; text-decoration-color: #800080\">/Volumes/fanpc/app_data/sec_apps_data/speed_test/filings_13f_full/filings/1966116/</span><span style=\"color: #ff00ff; text-decoration-color: #ff00ff\">0001966116-23-000001.txt</span>\n",
       "</pre>\n"
      ],
      "text/plain": [
       "\u001b[35m/Volumes/fanpc/app_data/sec_apps_data/speed_test/filings_13f_full/filings/1966116/\u001b[0m\u001b[95m0001966116-23-000001.txt\u001b[0m\n"
      ]
     },
     "metadata": {},
     "output_type": "display_data"
    },
    {
     "data": {
      "text/html": [
       "<pre style=\"white-space:pre;overflow-x:auto;line-height:normal;font-family:Menlo,'DejaVu Sans Mono',consolas,'Courier New',monospace\">files to parse: <span style=\"color: #008080; text-decoration-color: #008080; font-weight: bold\">271</span>\n",
       "</pre>\n"
      ],
      "text/plain": [
       "files to parse: \u001b[1;36m271\u001b[0m\n"
      ]
     },
     "metadata": {},
     "output_type": "display_data"
    },
    {
     "data": {
      "text/html": [
       "<pre style=\"white-space:pre;overflow-x:auto;line-height:normal;font-family:Menlo,'DejaVu Sans Mono',consolas,'Courier New',monospace\"><span style=\"color: #800080; text-decoration-color: #800080\">/Volumes/fanpc/app_data/sec_apps_data/speed_test/filings_13f_full/filings/1966351/</span><span style=\"color: #ff00ff; text-decoration-color: #ff00ff\">0001172661-23-001502.txt</span>\n",
       "</pre>\n"
      ],
      "text/plain": [
       "\u001b[35m/Volumes/fanpc/app_data/sec_apps_data/speed_test/filings_13f_full/filings/1966351/\u001b[0m\u001b[95m0001172661-23-001502.txt\u001b[0m\n"
      ]
     },
     "metadata": {},
     "output_type": "display_data"
    },
    {
     "data": {
      "text/html": [
       "<pre style=\"white-space:pre;overflow-x:auto;line-height:normal;font-family:Menlo,'DejaVu Sans Mono',consolas,'Courier New',monospace\">files to parse: <span style=\"color: #008080; text-decoration-color: #008080; font-weight: bold\">271</span>\n",
       "</pre>\n"
      ],
      "text/plain": [
       "files to parse: \u001b[1;36m271\u001b[0m\n"
      ]
     },
     "metadata": {},
     "output_type": "display_data"
    },
    {
     "data": {
      "text/html": [
       "<pre style=\"white-space:pre;overflow-x:auto;line-height:normal;font-family:Menlo,'DejaVu Sans Mono',consolas,'Courier New',monospace\"><span style=\"color: #800080; text-decoration-color: #800080\">/Volumes/fanpc/app_data/sec_apps_data/speed_test/filings_13f_full/filings/1966355/</span><span style=\"color: #ff00ff; text-decoration-color: #ff00ff\">0001966355-23-000001.txt</span>\n",
       "</pre>\n"
      ],
      "text/plain": [
       "\u001b[35m/Volumes/fanpc/app_data/sec_apps_data/speed_test/filings_13f_full/filings/1966355/\u001b[0m\u001b[95m0001966355-23-000001.txt\u001b[0m\n"
      ]
     },
     "metadata": {},
     "output_type": "display_data"
    },
    {
     "data": {
      "text/html": [
       "<pre style=\"white-space:pre;overflow-x:auto;line-height:normal;font-family:Menlo,'DejaVu Sans Mono',consolas,'Courier New',monospace\">files to parse: <span style=\"color: #008080; text-decoration-color: #008080; font-weight: bold\">271</span>\n",
       "</pre>\n"
      ],
      "text/plain": [
       "files to parse: \u001b[1;36m271\u001b[0m\n"
      ]
     },
     "metadata": {},
     "output_type": "display_data"
    },
    {
     "data": {
      "text/html": [
       "<pre style=\"white-space:pre;overflow-x:auto;line-height:normal;font-family:Menlo,'DejaVu Sans Mono',consolas,'Courier New',monospace\"><span style=\"color: #800080; text-decoration-color: #800080\">/Volumes/fanpc/app_data/sec_apps_data/speed_test/filings_13f_full/filings/1966400/</span><span style=\"color: #ff00ff; text-decoration-color: #ff00ff\">0001085146-23-001428.txt</span>\n",
       "</pre>\n"
      ],
      "text/plain": [
       "\u001b[35m/Volumes/fanpc/app_data/sec_apps_data/speed_test/filings_13f_full/filings/1966400/\u001b[0m\u001b[95m0001085146-23-001428.txt\u001b[0m\n"
      ]
     },
     "metadata": {},
     "output_type": "display_data"
    },
    {
     "data": {
      "text/html": [
       "<pre style=\"white-space:pre;overflow-x:auto;line-height:normal;font-family:Menlo,'DejaVu Sans Mono',consolas,'Courier New',monospace\">files to parse: <span style=\"color: #008080; text-decoration-color: #008080; font-weight: bold\">271</span>\n",
       "</pre>\n"
      ],
      "text/plain": [
       "files to parse: \u001b[1;36m271\u001b[0m\n"
      ]
     },
     "metadata": {},
     "output_type": "display_data"
    },
    {
     "data": {
      "text/html": [
       "<pre style=\"white-space:pre;overflow-x:auto;line-height:normal;font-family:Menlo,'DejaVu Sans Mono',consolas,'Courier New',monospace\"><span style=\"color: #800080; text-decoration-color: #800080\">/Volumes/fanpc/app_data/sec_apps_data/speed_test/filings_13f_full/filings/1966482/</span><span style=\"color: #ff00ff; text-decoration-color: #ff00ff\">0001966482-23-000001.txt</span>\n",
       "</pre>\n"
      ],
      "text/plain": [
       "\u001b[35m/Volumes/fanpc/app_data/sec_apps_data/speed_test/filings_13f_full/filings/1966482/\u001b[0m\u001b[95m0001966482-23-000001.txt\u001b[0m\n"
      ]
     },
     "metadata": {},
     "output_type": "display_data"
    },
    {
     "data": {
      "text/html": [
       "<pre style=\"white-space:pre;overflow-x:auto;line-height:normal;font-family:Menlo,'DejaVu Sans Mono',consolas,'Courier New',monospace\">files to parse: <span style=\"color: #008080; text-decoration-color: #008080; font-weight: bold\">271</span>\n",
       "</pre>\n"
      ],
      "text/plain": [
       "files to parse: \u001b[1;36m271\u001b[0m\n"
      ]
     },
     "metadata": {},
     "output_type": "display_data"
    },
    {
     "data": {
      "text/html": [
       "<pre style=\"white-space:pre;overflow-x:auto;line-height:normal;font-family:Menlo,'DejaVu Sans Mono',consolas,'Courier New',monospace\"><span style=\"color: #800080; text-decoration-color: #800080\">/Volumes/fanpc/app_data/sec_apps_data/speed_test/filings_13f_full/filings/1966581/</span><span style=\"color: #ff00ff; text-decoration-color: #ff00ff\">0001754960-23-000083.txt</span>\n",
       "</pre>\n"
      ],
      "text/plain": [
       "\u001b[35m/Volumes/fanpc/app_data/sec_apps_data/speed_test/filings_13f_full/filings/1966581/\u001b[0m\u001b[95m0001754960-23-000083.txt\u001b[0m\n"
      ]
     },
     "metadata": {},
     "output_type": "display_data"
    },
    {
     "data": {
      "text/html": [
       "<pre style=\"white-space:pre;overflow-x:auto;line-height:normal;font-family:Menlo,'DejaVu Sans Mono',consolas,'Courier New',monospace\">files to parse: <span style=\"color: #008080; text-decoration-color: #008080; font-weight: bold\">271</span>\n",
       "</pre>\n"
      ],
      "text/plain": [
       "files to parse: \u001b[1;36m271\u001b[0m\n"
      ]
     },
     "metadata": {},
     "output_type": "display_data"
    },
    {
     "data": {
      "text/html": [
       "<pre style=\"white-space:pre;overflow-x:auto;line-height:normal;font-family:Menlo,'DejaVu Sans Mono',consolas,'Courier New',monospace\"><span style=\"color: #800080; text-decoration-color: #800080\">/Volumes/fanpc/app_data/sec_apps_data/speed_test/filings_13f_full/filings/1966898/</span><span style=\"color: #ff00ff; text-decoration-color: #ff00ff\">0001172661-23-001509.txt</span>\n",
       "</pre>\n"
      ],
      "text/plain": [
       "\u001b[35m/Volumes/fanpc/app_data/sec_apps_data/speed_test/filings_13f_full/filings/1966898/\u001b[0m\u001b[95m0001172661-23-001509.txt\u001b[0m\n"
      ]
     },
     "metadata": {},
     "output_type": "display_data"
    },
    {
     "data": {
      "text/html": [
       "<pre style=\"white-space:pre;overflow-x:auto;line-height:normal;font-family:Menlo,'DejaVu Sans Mono',consolas,'Courier New',monospace\">files to parse: <span style=\"color: #008080; text-decoration-color: #008080; font-weight: bold\">271</span>\n",
       "</pre>\n"
      ],
      "text/plain": [
       "files to parse: \u001b[1;36m271\u001b[0m\n"
      ]
     },
     "metadata": {},
     "output_type": "display_data"
    },
    {
     "data": {
      "text/html": [
       "<pre style=\"white-space:pre;overflow-x:auto;line-height:normal;font-family:Menlo,'DejaVu Sans Mono',consolas,'Courier New',monospace\"><span style=\"color: #800080; text-decoration-color: #800080\">/Volumes/fanpc/app_data/sec_apps_data/speed_test/filings_13f_full/filings/1967018/</span><span style=\"color: #ff00ff; text-decoration-color: #ff00ff\">0001967018-23-000001.txt</span>\n",
       "</pre>\n"
      ],
      "text/plain": [
       "\u001b[35m/Volumes/fanpc/app_data/sec_apps_data/speed_test/filings_13f_full/filings/1967018/\u001b[0m\u001b[95m0001967018-23-000001.txt\u001b[0m\n"
      ]
     },
     "metadata": {},
     "output_type": "display_data"
    },
    {
     "data": {
      "text/html": [
       "<pre style=\"white-space:pre;overflow-x:auto;line-height:normal;font-family:Menlo,'DejaVu Sans Mono',consolas,'Courier New',monospace\">files to parse: <span style=\"color: #008080; text-decoration-color: #008080; font-weight: bold\">271</span>\n",
       "</pre>\n"
      ],
      "text/plain": [
       "files to parse: \u001b[1;36m271\u001b[0m\n"
      ]
     },
     "metadata": {},
     "output_type": "display_data"
    },
    {
     "data": {
      "text/html": [
       "<pre style=\"white-space:pre;overflow-x:auto;line-height:normal;font-family:Menlo,'DejaVu Sans Mono',consolas,'Courier New',monospace\"><span style=\"color: #800080; text-decoration-color: #800080\">/Volumes/fanpc/app_data/sec_apps_data/speed_test/filings_13f_full/filings/1967205/</span><span style=\"color: #ff00ff; text-decoration-color: #ff00ff\">0001967205-23-000001.txt</span>\n",
       "</pre>\n"
      ],
      "text/plain": [
       "\u001b[35m/Volumes/fanpc/app_data/sec_apps_data/speed_test/filings_13f_full/filings/1967205/\u001b[0m\u001b[95m0001967205-23-000001.txt\u001b[0m\n"
      ]
     },
     "metadata": {},
     "output_type": "display_data"
    },
    {
     "data": {
      "text/html": [
       "<pre style=\"white-space:pre;overflow-x:auto;line-height:normal;font-family:Menlo,'DejaVu Sans Mono',consolas,'Courier New',monospace\">files to parse: <span style=\"color: #008080; text-decoration-color: #008080; font-weight: bold\">271</span>\n",
       "</pre>\n"
      ],
      "text/plain": [
       "files to parse: \u001b[1;36m271\u001b[0m\n"
      ]
     },
     "metadata": {},
     "output_type": "display_data"
    },
    {
     "data": {
      "text/html": [
       "<pre style=\"white-space:pre;overflow-x:auto;line-height:normal;font-family:Menlo,'DejaVu Sans Mono',consolas,'Courier New',monospace\"><span style=\"color: #800080; text-decoration-color: #800080\">/Volumes/fanpc/app_data/sec_apps_data/speed_test/filings_13f_full/filings/1967227/</span><span style=\"color: #ff00ff; text-decoration-color: #ff00ff\">0001085146-23-001466.txt</span>\n",
       "</pre>\n"
      ],
      "text/plain": [
       "\u001b[35m/Volumes/fanpc/app_data/sec_apps_data/speed_test/filings_13f_full/filings/1967227/\u001b[0m\u001b[95m0001085146-23-001466.txt\u001b[0m\n"
      ]
     },
     "metadata": {},
     "output_type": "display_data"
    },
    {
     "data": {
      "text/html": [
       "<pre style=\"white-space:pre;overflow-x:auto;line-height:normal;font-family:Menlo,'DejaVu Sans Mono',consolas,'Courier New',monospace\">files to parse: <span style=\"color: #008080; text-decoration-color: #008080; font-weight: bold\">271</span>\n",
       "</pre>\n"
      ],
      "text/plain": [
       "files to parse: \u001b[1;36m271\u001b[0m\n"
      ]
     },
     "metadata": {},
     "output_type": "display_data"
    },
    {
     "data": {
      "text/html": [
       "<pre style=\"white-space:pre;overflow-x:auto;line-height:normal;font-family:Menlo,'DejaVu Sans Mono',consolas,'Courier New',monospace\"><span style=\"color: #800080; text-decoration-color: #800080\">/Volumes/fanpc/app_data/sec_apps_data/speed_test/filings_13f_full/filings/1967332/</span><span style=\"color: #ff00ff; text-decoration-color: #ff00ff\">0001967332-23-000002.txt</span>\n",
       "</pre>\n"
      ],
      "text/plain": [
       "\u001b[35m/Volumes/fanpc/app_data/sec_apps_data/speed_test/filings_13f_full/filings/1967332/\u001b[0m\u001b[95m0001967332-23-000002.txt\u001b[0m\n"
      ]
     },
     "metadata": {},
     "output_type": "display_data"
    },
    {
     "data": {
      "text/html": [
       "<pre style=\"white-space:pre;overflow-x:auto;line-height:normal;font-family:Menlo,'DejaVu Sans Mono',consolas,'Courier New',monospace\">files to parse: <span style=\"color: #008080; text-decoration-color: #008080; font-weight: bold\">271</span>\n",
       "</pre>\n"
      ],
      "text/plain": [
       "files to parse: \u001b[1;36m271\u001b[0m\n"
      ]
     },
     "metadata": {},
     "output_type": "display_data"
    },
    {
     "data": {
      "text/html": [
       "<pre style=\"white-space:pre;overflow-x:auto;line-height:normal;font-family:Menlo,'DejaVu Sans Mono',consolas,'Courier New',monospace\"><span style=\"color: #800080; text-decoration-color: #800080\">/Volumes/fanpc/app_data/sec_apps_data/speed_test/filings_13f_full/filings/1967640/</span><span style=\"color: #ff00ff; text-decoration-color: #ff00ff\">0001765380-23-000067.txt</span>\n",
       "</pre>\n"
      ],
      "text/plain": [
       "\u001b[35m/Volumes/fanpc/app_data/sec_apps_data/speed_test/filings_13f_full/filings/1967640/\u001b[0m\u001b[95m0001765380-23-000067.txt\u001b[0m\n"
      ]
     },
     "metadata": {},
     "output_type": "display_data"
    },
    {
     "data": {
      "text/html": [
       "<pre style=\"white-space:pre;overflow-x:auto;line-height:normal;font-family:Menlo,'DejaVu Sans Mono',consolas,'Courier New',monospace\">files to parse: <span style=\"color: #008080; text-decoration-color: #008080; font-weight: bold\">271</span>\n",
       "</pre>\n"
      ],
      "text/plain": [
       "files to parse: \u001b[1;36m271\u001b[0m\n"
      ]
     },
     "metadata": {},
     "output_type": "display_data"
    },
    {
     "data": {
      "text/html": [
       "<pre style=\"white-space:pre;overflow-x:auto;line-height:normal;font-family:Menlo,'DejaVu Sans Mono',consolas,'Courier New',monospace\"><span style=\"color: #800080; text-decoration-color: #800080\">/Volumes/fanpc/app_data/sec_apps_data/speed_test/filings_13f_full/filings/1968890/</span><span style=\"color: #ff00ff; text-decoration-color: #ff00ff\">0001968890-23-000001.txt</span>\n",
       "</pre>\n"
      ],
      "text/plain": [
       "\u001b[35m/Volumes/fanpc/app_data/sec_apps_data/speed_test/filings_13f_full/filings/1968890/\u001b[0m\u001b[95m0001968890-23-000001.txt\u001b[0m\n"
      ]
     },
     "metadata": {},
     "output_type": "display_data"
    },
    {
     "data": {
      "text/html": [
       "<pre style=\"white-space:pre;overflow-x:auto;line-height:normal;font-family:Menlo,'DejaVu Sans Mono',consolas,'Courier New',monospace\">files to parse: <span style=\"color: #008080; text-decoration-color: #008080; font-weight: bold\">271</span>\n",
       "</pre>\n"
      ],
      "text/plain": [
       "files to parse: \u001b[1;36m271\u001b[0m\n"
      ]
     },
     "metadata": {},
     "output_type": "display_data"
    },
    {
     "data": {
      "text/html": [
       "<pre style=\"white-space:pre;overflow-x:auto;line-height:normal;font-family:Menlo,'DejaVu Sans Mono',consolas,'Courier New',monospace\"><span style=\"color: #800080; text-decoration-color: #800080\">/Volumes/fanpc/app_data/sec_apps_data/speed_test/filings_13f_full/filings/33250/</span><span style=\"color: #ff00ff; text-decoration-color: #ff00ff\">0000033250-23-000001.txt</span>\n",
       "</pre>\n"
      ],
      "text/plain": [
       "\u001b[35m/Volumes/fanpc/app_data/sec_apps_data/speed_test/filings_13f_full/filings/33250/\u001b[0m\u001b[95m0000033250-23-000001.txt\u001b[0m\n"
      ]
     },
     "metadata": {},
     "output_type": "display_data"
    },
    {
     "data": {
      "text/html": [
       "<pre style=\"white-space:pre;overflow-x:auto;line-height:normal;font-family:Menlo,'DejaVu Sans Mono',consolas,'Courier New',monospace\">files to parse: <span style=\"color: #008080; text-decoration-color: #008080; font-weight: bold\">271</span>\n",
       "</pre>\n"
      ],
      "text/plain": [
       "files to parse: \u001b[1;36m271\u001b[0m\n"
      ]
     },
     "metadata": {},
     "output_type": "display_data"
    },
    {
     "data": {
      "text/html": [
       "<pre style=\"white-space:pre;overflow-x:auto;line-height:normal;font-family:Menlo,'DejaVu Sans Mono',consolas,'Courier New',monospace\"><span style=\"color: #800080; text-decoration-color: #800080\">/Volumes/fanpc/app_data/sec_apps_data/speed_test/filings_13f_full/filings/355429/</span><span style=\"color: #ff00ff; text-decoration-color: #ff00ff\">0001104659-23-028980.txt</span>\n",
       "</pre>\n"
      ],
      "text/plain": [
       "\u001b[35m/Volumes/fanpc/app_data/sec_apps_data/speed_test/filings_13f_full/filings/355429/\u001b[0m\u001b[95m0001104659-23-028980.txt\u001b[0m\n"
      ]
     },
     "metadata": {},
     "output_type": "display_data"
    },
    {
     "data": {
      "text/html": [
       "<pre style=\"white-space:pre;overflow-x:auto;line-height:normal;font-family:Menlo,'DejaVu Sans Mono',consolas,'Courier New',monospace\">files to parse: <span style=\"color: #008080; text-decoration-color: #008080; font-weight: bold\">271</span>\n",
       "</pre>\n"
      ],
      "text/plain": [
       "files to parse: \u001b[1;36m271\u001b[0m\n"
      ]
     },
     "metadata": {},
     "output_type": "display_data"
    },
    {
     "data": {
      "text/html": [
       "<pre style=\"white-space:pre;overflow-x:auto;line-height:normal;font-family:Menlo,'DejaVu Sans Mono',consolas,'Courier New',monospace\"><span style=\"color: #800080; text-decoration-color: #800080\">/Volumes/fanpc/app_data/sec_apps_data/speed_test/filings_13f_full/filings/40545/</span><span style=\"color: #ff00ff; text-decoration-color: #ff00ff\">0000040545-23-000072.txt</span>\n",
       "</pre>\n"
      ],
      "text/plain": [
       "\u001b[35m/Volumes/fanpc/app_data/sec_apps_data/speed_test/filings_13f_full/filings/40545/\u001b[0m\u001b[95m0000040545-23-000072.txt\u001b[0m\n"
      ]
     },
     "metadata": {},
     "output_type": "display_data"
    },
    {
     "data": {
      "text/html": [
       "<pre style=\"white-space:pre;overflow-x:auto;line-height:normal;font-family:Menlo,'DejaVu Sans Mono',consolas,'Courier New',monospace\">files to parse: <span style=\"color: #008080; text-decoration-color: #008080; font-weight: bold\">271</span>\n",
       "</pre>\n"
      ],
      "text/plain": [
       "files to parse: \u001b[1;36m271\u001b[0m\n"
      ]
     },
     "metadata": {},
     "output_type": "display_data"
    },
    {
     "data": {
      "text/html": [
       "<pre style=\"white-space:pre;overflow-x:auto;line-height:normal;font-family:Menlo,'DejaVu Sans Mono',consolas,'Courier New',monospace\"><span style=\"color: #800080; text-decoration-color: #800080\">/Volumes/fanpc/app_data/sec_apps_data/speed_test/filings_13f_full/filings/40545/</span><span style=\"color: #ff00ff; text-decoration-color: #ff00ff\">0000040545-23-000073.txt</span>\n",
       "</pre>\n"
      ],
      "text/plain": [
       "\u001b[35m/Volumes/fanpc/app_data/sec_apps_data/speed_test/filings_13f_full/filings/40545/\u001b[0m\u001b[95m0000040545-23-000073.txt\u001b[0m\n"
      ]
     },
     "metadata": {},
     "output_type": "display_data"
    },
    {
     "data": {
      "text/html": [
       "<pre style=\"white-space:pre;overflow-x:auto;line-height:normal;font-family:Menlo,'DejaVu Sans Mono',consolas,'Courier New',monospace\">files to parse: <span style=\"color: #008080; text-decoration-color: #008080; font-weight: bold\">271</span>\n",
       "</pre>\n"
      ],
      "text/plain": [
       "files to parse: \u001b[1;36m271\u001b[0m\n"
      ]
     },
     "metadata": {},
     "output_type": "display_data"
    },
    {
     "data": {
      "text/html": [
       "<pre style=\"white-space:pre;overflow-x:auto;line-height:normal;font-family:Menlo,'DejaVu Sans Mono',consolas,'Courier New',monospace\"><span style=\"color: #800080; text-decoration-color: #800080\">/Volumes/fanpc/app_data/sec_apps_data/speed_test/filings_13f_full/filings/40545/</span><span style=\"color: #ff00ff; text-decoration-color: #ff00ff\">0000040545-23-000074.txt</span>\n",
       "</pre>\n"
      ],
      "text/plain": [
       "\u001b[35m/Volumes/fanpc/app_data/sec_apps_data/speed_test/filings_13f_full/filings/40545/\u001b[0m\u001b[95m0000040545-23-000074.txt\u001b[0m\n"
      ]
     },
     "metadata": {},
     "output_type": "display_data"
    },
    {
     "data": {
      "text/html": [
       "<pre style=\"white-space:pre;overflow-x:auto;line-height:normal;font-family:Menlo,'DejaVu Sans Mono',consolas,'Courier New',monospace\">files to parse: <span style=\"color: #008080; text-decoration-color: #008080; font-weight: bold\">271</span>\n",
       "</pre>\n"
      ],
      "text/plain": [
       "files to parse: \u001b[1;36m271\u001b[0m\n"
      ]
     },
     "metadata": {},
     "output_type": "display_data"
    },
    {
     "data": {
      "text/html": [
       "<pre style=\"white-space:pre;overflow-x:auto;line-height:normal;font-family:Menlo,'DejaVu Sans Mono',consolas,'Courier New',monospace\"><span style=\"color: #800080; text-decoration-color: #800080\">/Volumes/fanpc/app_data/sec_apps_data/speed_test/filings_13f_full/filings/40545/</span><span style=\"color: #ff00ff; text-decoration-color: #ff00ff\">0000040545-23-000075.txt</span>\n",
       "</pre>\n"
      ],
      "text/plain": [
       "\u001b[35m/Volumes/fanpc/app_data/sec_apps_data/speed_test/filings_13f_full/filings/40545/\u001b[0m\u001b[95m0000040545-23-000075.txt\u001b[0m\n"
      ]
     },
     "metadata": {},
     "output_type": "display_data"
    },
    {
     "data": {
      "text/html": [
       "<pre style=\"white-space:pre;overflow-x:auto;line-height:normal;font-family:Menlo,'DejaVu Sans Mono',consolas,'Courier New',monospace\">files to parse: <span style=\"color: #008080; text-decoration-color: #008080; font-weight: bold\">271</span>\n",
       "</pre>\n"
      ],
      "text/plain": [
       "files to parse: \u001b[1;36m271\u001b[0m\n"
      ]
     },
     "metadata": {},
     "output_type": "display_data"
    },
    {
     "data": {
      "text/html": [
       "<pre style=\"white-space:pre;overflow-x:auto;line-height:normal;font-family:Menlo,'DejaVu Sans Mono',consolas,'Courier New',monospace\"><span style=\"color: #800080; text-decoration-color: #800080\">/Volumes/fanpc/app_data/sec_apps_data/speed_test/filings_13f_full/filings/40545/</span><span style=\"color: #ff00ff; text-decoration-color: #ff00ff\">0000040545-23-000076.txt</span>\n",
       "</pre>\n"
      ],
      "text/plain": [
       "\u001b[35m/Volumes/fanpc/app_data/sec_apps_data/speed_test/filings_13f_full/filings/40545/\u001b[0m\u001b[95m0000040545-23-000076.txt\u001b[0m\n"
      ]
     },
     "metadata": {},
     "output_type": "display_data"
    },
    {
     "data": {
      "text/html": [
       "<pre style=\"white-space:pre;overflow-x:auto;line-height:normal;font-family:Menlo,'DejaVu Sans Mono',consolas,'Courier New',monospace\">files to parse: <span style=\"color: #008080; text-decoration-color: #008080; font-weight: bold\">271</span>\n",
       "</pre>\n"
      ],
      "text/plain": [
       "files to parse: \u001b[1;36m271\u001b[0m\n"
      ]
     },
     "metadata": {},
     "output_type": "display_data"
    },
    {
     "data": {
      "text/html": [
       "<pre style=\"white-space:pre;overflow-x:auto;line-height:normal;font-family:Menlo,'DejaVu Sans Mono',consolas,'Courier New',monospace\"><span style=\"color: #800080; text-decoration-color: #800080\">/Volumes/fanpc/app_data/sec_apps_data/speed_test/filings_13f_full/filings/714142/</span><span style=\"color: #ff00ff; text-decoration-color: #ff00ff\">0000714142-23-000001.txt</span>\n",
       "</pre>\n"
      ],
      "text/plain": [
       "\u001b[35m/Volumes/fanpc/app_data/sec_apps_data/speed_test/filings_13f_full/filings/714142/\u001b[0m\u001b[95m0000714142-23-000001.txt\u001b[0m\n"
      ]
     },
     "metadata": {},
     "output_type": "display_data"
    },
    {
     "data": {
      "text/html": [
       "<pre style=\"white-space:pre;overflow-x:auto;line-height:normal;font-family:Menlo,'DejaVu Sans Mono',consolas,'Courier New',monospace\">files to parse: <span style=\"color: #008080; text-decoration-color: #008080; font-weight: bold\">271</span>\n",
       "</pre>\n"
      ],
      "text/plain": [
       "files to parse: \u001b[1;36m271\u001b[0m\n"
      ]
     },
     "metadata": {},
     "output_type": "display_data"
    },
    {
     "data": {
      "text/html": [
       "<pre style=\"white-space:pre;overflow-x:auto;line-height:normal;font-family:Menlo,'DejaVu Sans Mono',consolas,'Courier New',monospace\"><span style=\"color: #800080; text-decoration-color: #800080\">/Volumes/fanpc/app_data/sec_apps_data/speed_test/filings_13f_full/filings/724683/</span><span style=\"color: #ff00ff; text-decoration-color: #ff00ff\">0000724683-23-000012.txt</span>\n",
       "</pre>\n"
      ],
      "text/plain": [
       "\u001b[35m/Volumes/fanpc/app_data/sec_apps_data/speed_test/filings_13f_full/filings/724683/\u001b[0m\u001b[95m0000724683-23-000012.txt\u001b[0m\n"
      ]
     },
     "metadata": {},
     "output_type": "display_data"
    },
    {
     "data": {
      "text/html": [
       "<pre style=\"white-space:pre;overflow-x:auto;line-height:normal;font-family:Menlo,'DejaVu Sans Mono',consolas,'Courier New',monospace\">files to parse: <span style=\"color: #008080; text-decoration-color: #008080; font-weight: bold\">271</span>\n",
       "</pre>\n"
      ],
      "text/plain": [
       "files to parse: \u001b[1;36m271\u001b[0m\n"
      ]
     },
     "metadata": {},
     "output_type": "display_data"
    },
    {
     "data": {
      "text/html": [
       "<pre style=\"white-space:pre;overflow-x:auto;line-height:normal;font-family:Menlo,'DejaVu Sans Mono',consolas,'Courier New',monospace\"><span style=\"color: #800080; text-decoration-color: #800080\">/Volumes/fanpc/app_data/sec_apps_data/speed_test/filings_13f_full/filings/727117/</span><span style=\"color: #ff00ff; text-decoration-color: #ff00ff\">0001172661-23-001519.txt</span>\n",
       "</pre>\n"
      ],
      "text/plain": [
       "\u001b[35m/Volumes/fanpc/app_data/sec_apps_data/speed_test/filings_13f_full/filings/727117/\u001b[0m\u001b[95m0001172661-23-001519.txt\u001b[0m\n"
      ]
     },
     "metadata": {},
     "output_type": "display_data"
    },
    {
     "data": {
      "text/html": [
       "<pre style=\"white-space:pre;overflow-x:auto;line-height:normal;font-family:Menlo,'DejaVu Sans Mono',consolas,'Courier New',monospace\">files to parse: <span style=\"color: #008080; text-decoration-color: #008080; font-weight: bold\">271</span>\n",
       "</pre>\n"
      ],
      "text/plain": [
       "files to parse: \u001b[1;36m271\u001b[0m\n"
      ]
     },
     "metadata": {},
     "output_type": "display_data"
    },
    {
     "data": {
      "text/html": [
       "<pre style=\"white-space:pre;overflow-x:auto;line-height:normal;font-family:Menlo,'DejaVu Sans Mono',consolas,'Courier New',monospace\"><span style=\"color: #800080; text-decoration-color: #800080\">/Volumes/fanpc/app_data/sec_apps_data/speed_test/filings_13f_full/filings/74260/</span><span style=\"color: #ff00ff; text-decoration-color: #ff00ff\">0000074260-23-000011.txt</span>\n",
       "</pre>\n"
      ],
      "text/plain": [
       "\u001b[35m/Volumes/fanpc/app_data/sec_apps_data/speed_test/filings_13f_full/filings/74260/\u001b[0m\u001b[95m0000074260-23-000011.txt\u001b[0m\n"
      ]
     },
     "metadata": {},
     "output_type": "display_data"
    },
    {
     "data": {
      "text/html": [
       "<pre style=\"white-space:pre;overflow-x:auto;line-height:normal;font-family:Menlo,'DejaVu Sans Mono',consolas,'Courier New',monospace\">files to parse: <span style=\"color: #008080; text-decoration-color: #008080; font-weight: bold\">271</span>\n",
       "</pre>\n"
      ],
      "text/plain": [
       "files to parse: \u001b[1;36m271\u001b[0m\n"
      ]
     },
     "metadata": {},
     "output_type": "display_data"
    },
    {
     "data": {
      "text/html": [
       "<pre style=\"white-space:pre;overflow-x:auto;line-height:normal;font-family:Menlo,'DejaVu Sans Mono',consolas,'Courier New',monospace\"><span style=\"color: #800080; text-decoration-color: #800080\">/Volumes/fanpc/app_data/sec_apps_data/speed_test/filings_13f_full/filings/806250/</span><span style=\"color: #ff00ff; text-decoration-color: #ff00ff\">0000897423-23-000011.txt</span>\n",
       "</pre>\n"
      ],
      "text/plain": [
       "\u001b[35m/Volumes/fanpc/app_data/sec_apps_data/speed_test/filings_13f_full/filings/806250/\u001b[0m\u001b[95m0000897423-23-000011.txt\u001b[0m\n"
      ]
     },
     "metadata": {},
     "output_type": "display_data"
    },
    {
     "data": {
      "text/html": [
       "<pre style=\"white-space:pre;overflow-x:auto;line-height:normal;font-family:Menlo,'DejaVu Sans Mono',consolas,'Courier New',monospace\">files to parse: <span style=\"color: #008080; text-decoration-color: #008080; font-weight: bold\">271</span>\n",
       "</pre>\n"
      ],
      "text/plain": [
       "files to parse: \u001b[1;36m271\u001b[0m\n"
      ]
     },
     "metadata": {},
     "output_type": "display_data"
    },
    {
     "data": {
      "text/html": [
       "<pre style=\"white-space:pre;overflow-x:auto;line-height:normal;font-family:Menlo,'DejaVu Sans Mono',consolas,'Courier New',monospace\"><span style=\"color: #800080; text-decoration-color: #800080\">/Volumes/fanpc/app_data/sec_apps_data/speed_test/filings_13f_full/filings/825217/</span><span style=\"color: #ff00ff; text-decoration-color: #ff00ff\">0001172661-23-001527.txt</span>\n",
       "</pre>\n"
      ],
      "text/plain": [
       "\u001b[35m/Volumes/fanpc/app_data/sec_apps_data/speed_test/filings_13f_full/filings/825217/\u001b[0m\u001b[95m0001172661-23-001527.txt\u001b[0m\n"
      ]
     },
     "metadata": {},
     "output_type": "display_data"
    },
    {
     "data": {
      "text/html": [
       "<pre style=\"white-space:pre;overflow-x:auto;line-height:normal;font-family:Menlo,'DejaVu Sans Mono',consolas,'Courier New',monospace\">files to parse: <span style=\"color: #008080; text-decoration-color: #008080; font-weight: bold\">271</span>\n",
       "</pre>\n"
      ],
      "text/plain": [
       "files to parse: \u001b[1;36m271\u001b[0m\n"
      ]
     },
     "metadata": {},
     "output_type": "display_data"
    },
    {
     "data": {
      "text/html": [
       "<pre style=\"white-space:pre;overflow-x:auto;line-height:normal;font-family:Menlo,'DejaVu Sans Mono',consolas,'Courier New',monospace\"><span style=\"color: #800080; text-decoration-color: #800080\">/Volumes/fanpc/app_data/sec_apps_data/speed_test/filings_13f_full/filings/831571/</span><span style=\"color: #ff00ff; text-decoration-color: #ff00ff\">0000831571-23-000001.txt</span>\n",
       "</pre>\n"
      ],
      "text/plain": [
       "\u001b[35m/Volumes/fanpc/app_data/sec_apps_data/speed_test/filings_13f_full/filings/831571/\u001b[0m\u001b[95m0000831571-23-000001.txt\u001b[0m\n"
      ]
     },
     "metadata": {},
     "output_type": "display_data"
    },
    {
     "data": {
      "text/html": [
       "<pre style=\"white-space:pre;overflow-x:auto;line-height:normal;font-family:Menlo,'DejaVu Sans Mono',consolas,'Courier New',monospace\">files to parse: <span style=\"color: #008080; text-decoration-color: #008080; font-weight: bold\">271</span>\n",
       "</pre>\n"
      ],
      "text/plain": [
       "files to parse: \u001b[1;36m271\u001b[0m\n"
      ]
     },
     "metadata": {},
     "output_type": "display_data"
    },
    {
     "data": {
      "text/html": [
       "<pre style=\"white-space:pre;overflow-x:auto;line-height:normal;font-family:Menlo,'DejaVu Sans Mono',consolas,'Courier New',monospace\"><span style=\"color: #800080; text-decoration-color: #800080\">/Volumes/fanpc/app_data/sec_apps_data/speed_test/filings_13f_full/filings/883634/</span><span style=\"color: #ff00ff; text-decoration-color: #ff00ff\">0001754960-23-000082.txt</span>\n",
       "</pre>\n"
      ],
      "text/plain": [
       "\u001b[35m/Volumes/fanpc/app_data/sec_apps_data/speed_test/filings_13f_full/filings/883634/\u001b[0m\u001b[95m0001754960-23-000082.txt\u001b[0m\n"
      ]
     },
     "metadata": {},
     "output_type": "display_data"
    },
    {
     "data": {
      "text/html": [
       "<pre style=\"white-space:pre;overflow-x:auto;line-height:normal;font-family:Menlo,'DejaVu Sans Mono',consolas,'Courier New',monospace\">files to parse: <span style=\"color: #008080; text-decoration-color: #008080; font-weight: bold\">271</span>\n",
       "</pre>\n"
      ],
      "text/plain": [
       "files to parse: \u001b[1;36m271\u001b[0m\n"
      ]
     },
     "metadata": {},
     "output_type": "display_data"
    },
    {
     "data": {
      "text/html": [
       "<pre style=\"white-space:pre;overflow-x:auto;line-height:normal;font-family:Menlo,'DejaVu Sans Mono',consolas,'Courier New',monospace\"><span style=\"color: #800080; text-decoration-color: #800080\">/Volumes/fanpc/app_data/sec_apps_data/speed_test/filings_13f_full/filings/918504/</span><span style=\"color: #ff00ff; text-decoration-color: #ff00ff\">0000918504-23-000001.txt</span>\n",
       "</pre>\n"
      ],
      "text/plain": [
       "\u001b[35m/Volumes/fanpc/app_data/sec_apps_data/speed_test/filings_13f_full/filings/918504/\u001b[0m\u001b[95m0000918504-23-000001.txt\u001b[0m\n"
      ]
     },
     "metadata": {},
     "output_type": "display_data"
    },
    {
     "data": {
      "text/html": [
       "<pre style=\"white-space:pre;overflow-x:auto;line-height:normal;font-family:Menlo,'DejaVu Sans Mono',consolas,'Courier New',monospace\">files to parse: <span style=\"color: #008080; text-decoration-color: #008080; font-weight: bold\">271</span>\n",
       "</pre>\n"
      ],
      "text/plain": [
       "files to parse: \u001b[1;36m271\u001b[0m\n"
      ]
     },
     "metadata": {},
     "output_type": "display_data"
    },
    {
     "data": {
      "text/html": [
       "<pre style=\"white-space:pre;overflow-x:auto;line-height:normal;font-family:Menlo,'DejaVu Sans Mono',consolas,'Courier New',monospace\"><span style=\"color: #800080; text-decoration-color: #800080\">/Volumes/fanpc/app_data/sec_apps_data/speed_test/filings_13f_full/filings/919447/</span><span style=\"color: #ff00ff; text-decoration-color: #ff00ff\">0001172661-23-001523.txt</span>\n",
       "</pre>\n"
      ],
      "text/plain": [
       "\u001b[35m/Volumes/fanpc/app_data/sec_apps_data/speed_test/filings_13f_full/filings/919447/\u001b[0m\u001b[95m0001172661-23-001523.txt\u001b[0m\n"
      ]
     },
     "metadata": {},
     "output_type": "display_data"
    },
    {
     "data": {
      "text/html": [
       "<pre style=\"white-space:pre;overflow-x:auto;line-height:normal;font-family:Menlo,'DejaVu Sans Mono',consolas,'Courier New',monospace\">files to parse: <span style=\"color: #008080; text-decoration-color: #008080; font-weight: bold\">271</span>\n",
       "</pre>\n"
      ],
      "text/plain": [
       "files to parse: \u001b[1;36m271\u001b[0m\n"
      ]
     },
     "metadata": {},
     "output_type": "display_data"
    },
    {
     "data": {
      "text/html": [
       "<pre style=\"white-space:pre;overflow-x:auto;line-height:normal;font-family:Menlo,'DejaVu Sans Mono',consolas,'Courier New',monospace\"><span style=\"color: #800080; text-decoration-color: #800080\">/Volumes/fanpc/app_data/sec_apps_data/speed_test/filings_13f_full/filings/924920/</span><span style=\"color: #ff00ff; text-decoration-color: #ff00ff\">0000897423-23-000009.txt</span>\n",
       "</pre>\n"
      ],
      "text/plain": [
       "\u001b[35m/Volumes/fanpc/app_data/sec_apps_data/speed_test/filings_13f_full/filings/924920/\u001b[0m\u001b[95m0000897423-23-000009.txt\u001b[0m\n"
      ]
     },
     "metadata": {},
     "output_type": "display_data"
    },
    {
     "data": {
      "text/html": [
       "<pre style=\"white-space:pre;overflow-x:auto;line-height:normal;font-family:Menlo,'DejaVu Sans Mono',consolas,'Courier New',monospace\">files to parse: <span style=\"color: #008080; text-decoration-color: #008080; font-weight: bold\">271</span>\n",
       "</pre>\n"
      ],
      "text/plain": [
       "files to parse: \u001b[1;36m271\u001b[0m\n"
      ]
     },
     "metadata": {},
     "output_type": "display_data"
    },
    {
     "data": {
      "text/html": [
       "<pre style=\"white-space:pre;overflow-x:auto;line-height:normal;font-family:Menlo,'DejaVu Sans Mono',consolas,'Courier New',monospace\"><span style=\"color: #800080; text-decoration-color: #800080\">/Volumes/fanpc/app_data/sec_apps_data/speed_test/filings_13f_full/filings/931588/</span><span style=\"color: #ff00ff; text-decoration-color: #ff00ff\">0001628280-23-003656.txt</span>\n",
       "</pre>\n"
      ],
      "text/plain": [
       "\u001b[35m/Volumes/fanpc/app_data/sec_apps_data/speed_test/filings_13f_full/filings/931588/\u001b[0m\u001b[95m0001628280-23-003656.txt\u001b[0m\n"
      ]
     },
     "metadata": {},
     "output_type": "display_data"
    },
    {
     "data": {
      "text/html": [
       "<pre style=\"white-space:pre;overflow-x:auto;line-height:normal;font-family:Menlo,'DejaVu Sans Mono',consolas,'Courier New',monospace\">files to parse: <span style=\"color: #008080; text-decoration-color: #008080; font-weight: bold\">271</span>\n",
       "</pre>\n"
      ],
      "text/plain": [
       "files to parse: \u001b[1;36m271\u001b[0m\n"
      ]
     },
     "metadata": {},
     "output_type": "display_data"
    },
    {
     "data": {
      "text/html": [
       "<pre style=\"white-space:pre;overflow-x:auto;line-height:normal;font-family:Menlo,'DejaVu Sans Mono',consolas,'Courier New',monospace\"><span style=\"color: #800080; text-decoration-color: #800080\">/Volumes/fanpc/app_data/sec_apps_data/speed_test/filings_13f_full/filings/931588/</span><span style=\"color: #ff00ff; text-decoration-color: #ff00ff\">0001628280-23-005272.txt</span>\n",
       "</pre>\n"
      ],
      "text/plain": [
       "\u001b[35m/Volumes/fanpc/app_data/sec_apps_data/speed_test/filings_13f_full/filings/931588/\u001b[0m\u001b[95m0001628280-23-005272.txt\u001b[0m\n"
      ]
     },
     "metadata": {},
     "output_type": "display_data"
    },
    {
     "data": {
      "text/html": [
       "<pre style=\"white-space:pre;overflow-x:auto;line-height:normal;font-family:Menlo,'DejaVu Sans Mono',consolas,'Courier New',monospace\">files to parse: <span style=\"color: #008080; text-decoration-color: #008080; font-weight: bold\">271</span>\n",
       "</pre>\n"
      ],
      "text/plain": [
       "files to parse: \u001b[1;36m271\u001b[0m\n"
      ]
     },
     "metadata": {},
     "output_type": "display_data"
    },
    {
     "data": {
      "text/html": [
       "<pre style=\"white-space:pre;overflow-x:auto;line-height:normal;font-family:Menlo,'DejaVu Sans Mono',consolas,'Courier New',monospace\"><span style=\"color: #800080; text-decoration-color: #800080\">/Volumes/fanpc/app_data/sec_apps_data/speed_test/filings_13f_full/filings/932974/</span><span style=\"color: #ff00ff; text-decoration-color: #ff00ff\">0000932974-23-000002.txt</span>\n",
       "</pre>\n"
      ],
      "text/plain": [
       "\u001b[35m/Volumes/fanpc/app_data/sec_apps_data/speed_test/filings_13f_full/filings/932974/\u001b[0m\u001b[95m0000932974-23-000002.txt\u001b[0m\n"
      ]
     },
     "metadata": {},
     "output_type": "display_data"
    },
    {
     "data": {
      "text/html": [
       "<pre style=\"white-space:pre;overflow-x:auto;line-height:normal;font-family:Menlo,'DejaVu Sans Mono',consolas,'Courier New',monospace\">files to parse: <span style=\"color: #008080; text-decoration-color: #008080; font-weight: bold\">271</span>\n",
       "</pre>\n"
      ],
      "text/plain": [
       "files to parse: \u001b[1;36m271\u001b[0m\n"
      ]
     },
     "metadata": {},
     "output_type": "display_data"
    },
    {
     "data": {
      "text/html": [
       "<pre style=\"white-space:pre;overflow-x:auto;line-height:normal;font-family:Menlo,'DejaVu Sans Mono',consolas,'Courier New',monospace\"><span style=\"color: #800080; text-decoration-color: #800080\">/Volumes/fanpc/app_data/sec_apps_data/speed_test/filings_13f_full/filings/947484/</span><span style=\"color: #ff00ff; text-decoration-color: #ff00ff\">0000947484-23-000016.txt</span>\n",
       "</pre>\n"
      ],
      "text/plain": [
       "\u001b[35m/Volumes/fanpc/app_data/sec_apps_data/speed_test/filings_13f_full/filings/947484/\u001b[0m\u001b[95m0000947484-23-000016.txt\u001b[0m\n"
      ]
     },
     "metadata": {},
     "output_type": "display_data"
    },
    {
     "name": "stdout",
     "output_type": "stream",
     "text": [
      "CPU times: user 1min 1s, sys: 7.54 s, total: 1min 8s\n",
      "Wall time: 1min 50s\n"
     ]
    }
   ],
   "source": [
    "%%time\n",
    "\n",
    "txt_filings_dir = Path(r\"/Volumes/fanpc/app_data/sec_apps_data/speed_test/filings_13f_full/filings\")\n",
    "parquet_filings_dir = Path(r'/Users/yo_macbook/Documents/app_data/TR_02_PARQ_ALL')\n",
    "failure_cases = Path(r'/Users/yo_macbook/Documents/app_data/TR_02_FAILURE_CASES')\n",
    "\n",
    "test_parquet = Path(r'/Users/yo_macbook/Documents/app_data/sec_apps_data/test_parq')\n",
    "\n",
    "parse_txt_filings(txt_filings_dir, parquet_filings_dir, failure_cases, cutoff_date = '2023-02-17')"
   ]
  },
  {
   "cell_type": "code",
   "execution_count": null,
   "id": "c3f3a009-08c1-43ab-b37d-ca7863b393a0",
   "metadata": {},
   "outputs": [
    {
     "data": {
      "text/plain": [
       "[PosixPath('/Volumes/fanpc/app_data/sec_apps_data/speed_test/filings_13f_full/filings/1000097/0000919574-00-000478.txt'),\n",
       " PosixPath('/Volumes/fanpc/app_data/sec_apps_data/speed_test/filings_13f_full/filings/1000097/0000919574-00-000575.txt'),\n",
       " PosixPath('/Volumes/fanpc/app_data/sec_apps_data/speed_test/filings_13f_full/filings/1000097/0000919574-00-000601.txt')]"
      ]
     },
     "execution_count": 159,
     "metadata": {},
     "output_type": "execute_result"
    }
   ],
   "source": [
    "txt_paths_all[:3]"
   ]
  },
  {
   "cell_type": "code",
   "execution_count": 222,
   "id": "59485f07-7042-43b8-8084-04e4f23e572b",
   "metadata": {
    "tags": []
   },
   "outputs": [
    {
     "name": "stdout",
     "output_type": "stream",
     "text": [
      "CPU times: user 24 µs, sys: 1e+03 ns, total: 25 µs\n",
      "Wall time: 27.2 µs\n"
     ]
    }
   ],
   "source": [
    "%%time \n",
    "from datetime import datetime\n",
    "from bs4 import BeautifulSoup as bs\n",
    "import re\n",
    "import pandas as pd\n",
    "import numpy as np\n",
    "import os\n",
    "from pathlib import Path\n",
    "import pandera as pa\n",
    "\n",
    "############################################################################\n",
    "############################################################################\n",
    "\n",
    "## Function to end-to-end parse the raw `txt` filings, write to a pandas dataframe\n",
    "## and save to a `parquet` file. Only `xml` based filings are dealt with. \n",
    "## The filings prior `xml` format are ignored and instead we use the `csv` filings from dropbox\n",
    "\n",
    "## no division by 1000\n",
    "## cusip transformed to upper case\n",
    "## uses `pandera` to remove `cusip` != length of 9 (as non compliant)\n",
    "## uses `pandera` to remove `values` or `shares` != 0 (as non compliant)\n",
    "## the code writes bad data into a separate dataframes per filings\n",
    "## transformation where we group multiple `cusip` into one only after we have removed \n",
    "## the ones with zeros in `value` or `shares` \n",
    "\n",
    "\n",
    "def end_to_end_parsing(file_path, directory_parquet, failures_parq_dir, cutoff_date = '2023-02-17'):\n",
    "    \"\"\"\n",
    "    func that takes a txt filing's path and parses it to a parquet file\n",
    "    in the `directory_parquet`. It uses `pandera` lazy mode to filter out\n",
    "    bad cusip or empty/nan/zero shares or values. Bad records are written\n",
    "    to the `failures_parq_dir` for a later analysis or correction.\n",
    "    \n",
    "    \"\"\"\n",
    "    def work_content_extract(file_path):\n",
    "        \"\"\"extracting 1. xml or not flag, 2. xml part of filings, SEC header part\"\"\"\n",
    "        open_file = open(file_path, \"r\")\n",
    "        file_content = open_file.read()\n",
    "        open_file.close()\n",
    "\n",
    "        # find block of text between two words/tags/strings\n",
    "        start_header = \"<SEC-HEADER>\"\n",
    "        end_header = \"</SEC-HEADER>\"\n",
    "        block_header_search = re.compile(f\"{start_header}.*?{end_header}\", re.DOTALL)\n",
    "        pages_header = re.findall(block_header_search, file_content)\n",
    "\n",
    "        # check if file is XML or not\n",
    "        xml_tag_search = re.compile(r\"<xml>\", flags=re.IGNORECASE)\n",
    "        if xml_tag_search.search(file_content):\n",
    "            xml_flag = \"YES\"\n",
    "\n",
    "            # xml block search\n",
    "            start_xml = \"<XML\\>\"\n",
    "            end_xml = \"<\\/XML\\>\"\n",
    "            block_xml_search = re.compile(f\"{start_xml}(.*?){end_xml}\", re.DOTALL)\n",
    "            pages_xml = re.findall(block_xml_search, file_content)\n",
    "\n",
    "            if len(pages_xml) == 0:\n",
    "                reportType = \"\"\n",
    "                document0 = \"\"\n",
    "                document1 = \"\"\n",
    "            elif len(pages_xml) == 1:\n",
    "                document0 = bs(pages_xml[0], \"xml\")\n",
    "                coverPage = document0.find(\"coverPage\")\n",
    "                reportType = coverPage.find(\"reportType\").text.strip()\n",
    "                document1 = \"\"\n",
    "            if len(pages_xml) > 1:\n",
    "                document0 = bs(pages_xml[0], \"xml\")\n",
    "                coverPage = document0.find(\"coverPage\")\n",
    "                reportType = coverPage.find(\"reportType\").text.strip()\n",
    "                document1 = bs(pages_xml[1], \"xml\")\n",
    "\n",
    "        else:\n",
    "            xml_flag = \"NO\"\n",
    "            pages_xml = []\n",
    "            reportType = \"\"\n",
    "            document1 = \"\"\n",
    "\n",
    "        return pages_header, pages_xml, xml_flag, reportType, document1\n",
    "\n",
    "    def parse_institutionalInvestorInfo(file_path):\n",
    "        dataDictionary = dict()\n",
    "        dataDictionary[\"edgar_path\"] = file_path\n",
    "        periodOfReport = datetime.strptime(\n",
    "            re.compile(r\"(?<=CONFORMED PERIOD OF REPORT:).*\")\n",
    "            .search(pages_header[0])\n",
    "            .group(0)\n",
    "            .strip(),\n",
    "            \"%Y%m%d\",\n",
    "        ).date()\n",
    "        report_Year, report_Quarter = (\n",
    "            periodOfReport.year,\n",
    "            (periodOfReport.month - 1) // 3 + 1,\n",
    "        )\n",
    "\n",
    "        dataDictionary[\"accessionNumber\"] = (\n",
    "            re.compile(r\"(?<=ACCESSION NUMBER:).*\")\n",
    "            .search(pages_header[0])\n",
    "            .group(0)\n",
    "            .strip()\n",
    "        )\n",
    "        dataDictionary[\"cikManager\"] = (\n",
    "            re.compile(r\"(?<=CENTRAL INDEX KEY:).*\")\n",
    "            .search(pages_header[0])\n",
    "            .group(0)\n",
    "            .strip()\n",
    "        )\n",
    "        dataDictionary[\"managerName\"] = (\n",
    "            re.compile(r\"(?<=COMPANY CONFORMED NAME:).*\")\n",
    "            .search(pages_header[0])\n",
    "            .group(0)\n",
    "            .strip()\n",
    "        )\n",
    "        dataDictionary[\"periodOfReport\"] = periodOfReport\n",
    "        dataDictionary[\"report_Quarter\"] = report_Quarter\n",
    "        dataDictionary[\"report_Year\"] = report_Year\n",
    "        dataDictionary[\"submissionType\"] = (\n",
    "            re.compile(r\"(?<=CONFORMED SUBMISSION TYPE:).*\")\n",
    "            .search(pages_header[0])\n",
    "            .group(0)\n",
    "            .strip()\n",
    "        )\n",
    "        dataDictionary[\"filedAsOfDate\"] = datetime.strptime(\n",
    "            re.compile(r\"(?<=FILED AS OF DATE:).*\")\n",
    "            .search(pages_header[0])\n",
    "            .group(0)\n",
    "            .strip(),\n",
    "            \"%Y%m%d\",\n",
    "        ).date()\n",
    "        dataDictionary[\"xml_flag\"] = xml_flag\n",
    "        dataDictionary[\"created_at\"] = datetime.now()\n",
    "        dataDictionary[\"updated_at\"] = datetime.now()\n",
    "\n",
    "        # dataDictionary = dict()\n",
    "        dataDictionary[\"edgar_path\"] = file_path\n",
    "        if xml_flag == \"NO\":\n",
    "\n",
    "            dataDictionary[\"isAmendment\"] = \"\"\n",
    "            dataDictionary[\"amendmentType\"] = \"\"\n",
    "            dataDictionary[\"entryTotal\"] = int(\"0\" + \"\")\n",
    "            dataDictionary[\"valueTotal\"] = float(\"0.0\" + \"\")\n",
    "            dt = pd.DataFrame.from_dict([dataDictionary])\n",
    "\n",
    "        else:\n",
    "            if len(pages_xml) == 0:\n",
    "                dataDictionary[\"isAmendment\"] = \"\"\n",
    "                dataDictionary[\"amendmentType\"] = \"\"\n",
    "                dataDictionary[\"entryTotal\"] = int(\"0\" + \"\")\n",
    "                dataDictionary[\"valueTotal\"] = float(\"0.0\" + \"\")\n",
    "                dt = pd.DataFrame.from_dict([dataDictionary])\n",
    "\n",
    "            else:\n",
    "                document = bs(pages_xml[0], \"xml\")\n",
    "                # get sections\n",
    "                coverPage = document.find(\"coverPage\")\n",
    "                summaryPage = document.find(\"summaryPage\")\n",
    "                # get data\n",
    "                if coverPage.find(\"isAmendment\") is not None:\n",
    "\n",
    "                    if coverPage.find(\"isAmendment\").text.strip() == \"true\":\n",
    "                        dataDictionary[\"isAmendment\"] = coverPage.find(\n",
    "                            \"isAmendment\"\n",
    "                        ).text.strip()\n",
    "                        if coverPage.find(\"amendmentType\"):\n",
    "                            dataDictionary[\"amendmentType\"] = coverPage.find(\n",
    "                                \"amendmentType\"\n",
    "                            ).text.strip()\n",
    "                        else:\n",
    "                            dataDictionary[\"amendmentType\"] = \"\"\n",
    "                    else:\n",
    "                        dataDictionary[\"isAmendment\"] = coverPage.find(\n",
    "                            \"isAmendment\"\n",
    "                        ).text.strip()\n",
    "                        dataDictionary[\"amendmentType\"] = \"\"\n",
    "                else:\n",
    "                    dataDictionary[\"isAmendment\"] = \"\"\n",
    "                    dataDictionary[\"amendmentType\"] = \"\"\n",
    "\n",
    "                if summaryPage is not None:\n",
    "                    if summaryPage.find(\"tableEntryTotal\").text.strip():\n",
    "                        dataDictionary[\"entryTotal\"] = int(\n",
    "                            float(summaryPage.find(\"tableEntryTotal\").text.strip() + \"0.0\")\n",
    "                        )\n",
    "                    else:\n",
    "                        dataDictionary[\"entryTotal\"] = int(\"0\" + \"\")\n",
    "\n",
    "\n",
    "                    if summaryPage.find(\"tableValueTotal\").text.strip():\n",
    "                        dataDictionary[\"valueTotal\"] = float(\n",
    "                        summaryPage.find(\"tableValueTotal\").text.strip()\n",
    "                    + \"0.0\")\n",
    "\n",
    "                    else: dataDictionary[\"valueTotal\"] = float(\"0.0\" + \"\")\n",
    "                else:\n",
    "                    dataDictionary[\"entryTotal\"], dataDictionary[\"valueTotal\"] = int(\n",
    "                        \"0\" + \"\"\n",
    "                    ), float(\"0.0\" + \"\")\n",
    "\n",
    "                # create dataframe\n",
    "                dt = pd.DataFrame.from_dict([dataDictionary])\n",
    "\n",
    "        return dt\n",
    "\n",
    "    def parse_institutionalInvestorPortfolio(file_path):\n",
    "        check = re.compile(\"13F HOLDINGS REPORT|13F COMBINATION REPORT\")\n",
    "        if check.search(reportType) is not None and len(pages_xml) > 1:\n",
    "\n",
    "            portfolio = list()\n",
    "            # find all securities held\n",
    "\n",
    "            securities = document1.find_all(\"infoTable\")\n",
    "            for row in securities:\n",
    "                portfolioDict = dict()\n",
    "                portfolioDict[\"edgar_path\"] = file_path\n",
    "                portfolioDict[\"cusip\"] = row.find(\"cusip\").text.strip()\n",
    "                portfolioDict[\"nameOfIssuer\"] = row.find(\"nameOfIssuer\").text.strip()\n",
    "                portfolioDict[\"titleOfClass\"] = row.find(\"titleOfClass\").text.strip()\n",
    "                portfolioDict[\"sharesValue\"] = float(\n",
    "                    row.find(\"value\").text.strip()\n",
    "                )\n",
    "                portfolioDict[\"sharesHeldAtEndOfQtr\"] = int(\n",
    "                    float(row.find(\"sshPrnamt\").text.strip())\n",
    "                )\n",
    "\n",
    "                try:\n",
    "                    portfolioDict[\"sharePriceAtEndOfQtr\"] = round(\n",
    "                        portfolioDict[\"sharesValue\"]\n",
    "                        / portfolioDict[\"sharesHeldAtEndOfQtr\"],\n",
    "                        2,\n",
    "                    )\n",
    "                except ZeroDivisionError:\n",
    "                    portfolioDict[\"sharePriceAtEndOfQtr\"] = float(int(\"0\" + \"\"))\n",
    "\n",
    "                portfolioDict[\"shares_bonds\"] = row.find(\"sshPrnamtType\").text.strip()\n",
    "\n",
    "                if row.find(\"putCall\") is not None:\n",
    "                    portfolioDict[\"putCall\"] = row.find(\"putCall\").text.strip()\n",
    "                else:\n",
    "                    portfolioDict[\"putCall\"] = \"\"\n",
    "\n",
    "                portfolio.append(pd.DataFrame.from_dict([portfolioDict]))\n",
    "\n",
    "            # concatanate secutires\n",
    "            dtPortfolio = pd.concat(portfolio, sort=False, ignore_index=True)\n",
    "        else:\n",
    "            dtPortfolio = pd.DataFrame.from_dict(\n",
    "                [\n",
    "                    {\n",
    "                        \"cusip\": \"\",\n",
    "                        \"nameOfIssuer\": \"\",\n",
    "                        \"titleOfClass\": \"\",\n",
    "                        \"sharesValue\": float(\"0.0\" + \"\"),\n",
    "                        \"sharesHeldAtEndOfQtr\": int(\"0\" + \"\"),\n",
    "                        \"sharePriceAtEndOfQtr\": float(\"0.0\" + \"\"),\n",
    "                        \"shares_bonds\": \"\",\n",
    "                        \"putCall\": \"\",\n",
    "                        \"edgar_path\": file_path,\n",
    "                    }\n",
    "                ]\n",
    "            )\n",
    "\n",
    "        return dtPortfolio\n",
    "\n",
    "    pages_header, pages_xml, xml_flag, reportType, document1 = work_content_extract(\n",
    "        file_path\n",
    "    )\n",
    "    df1, df2 = parse_institutionalInvestorInfo(\n",
    "        file_path\n",
    "    ), parse_institutionalInvestorPortfolio(file_path)\n",
    "\n",
    "    data = pd.merge(df1, df2, on=\"edgar_path\")\n",
    "    data = data.assign(dsource='sec_app')    \n",
    "    data = data.rename(columns={'accessionNumber': 'accession_number', \"cikManager\": 'cik', \"managerName\":'cik_name','xml_flag':'type',\n",
    "           \"periodOfReport\": 'rdate', \"submissionType\": 'submission_type', \"filedAsOfDate\":'fdate', \"entryTotal\": \"entry_total\",\n",
    "           \"valueTotal\": \"value_total\", 'putCall':'put_call', \"sharesValue\":'value', \"sharesHeldAtEndOfQtr\":'shares',\n",
    "           \"securityType\": \"security_type\", 'titleOfClass':'title_of_class', 'nameOfIssuer':'name_of_issuer' , \"edgar_path\":'file'})\n",
    "\n",
    "    column_names = [\n",
    "        \"accession_number\",\n",
    "        \"cik\",\n",
    "        \"cik_name\",\n",
    "        \"rdate\",\n",
    "        \"submission_type\",\n",
    "        \"fdate\",\n",
    "        \"entry_total\",\n",
    "        \"value_total\",\n",
    "        \"cusip\",\n",
    "        \"name_of_issuer\",\n",
    "        \"title_of_class\",\n",
    "        \"value\",\n",
    "        \"shares\",\n",
    "        \"shares_bonds\",\n",
    "        \"put_call\",\n",
    "        \"type\",\n",
    "        \"file\",\n",
    "        'dsource',\n",
    "        \"created_at\",\n",
    "        'updated_at'\n",
    "    ]\n",
    "    data = data.astype(\n",
    "        {\n",
    "            \"accession_number\": str,\n",
    "            \"cik\": \"Int64\",\n",
    "            'cik_name': str,\n",
    "            \"rdate\": \"datetime64[ns]\",\n",
    "            \"submission_type\": str,\n",
    "            \"fdate\": \"datetime64[ns]\",\n",
    "            \"entry_total\": \"Int64\",\n",
    "            \"value_total\": \"float64\",\n",
    "            \"cusip\": str,\n",
    "            \"name_of_issuer\": str,\n",
    "            \"title_of_class\": str,\n",
    "            \"value\": \"float64\",\n",
    "            \"shares\": \"float64\",\n",
    "            \"shares_bonds\": str,\n",
    "            \"put_call\": str,\n",
    "            \"type\": str,\n",
    "            \"file\": str,\n",
    "            'dsource': str,\n",
    "            \"created_at\": \"datetime64[ns]\",\n",
    "            \"updated_at\": \"datetime64[ns]\"\n",
    "        }\n",
    "    )\n",
    "    attributes = {\n",
    "        \"accession_number\": \"first\",\n",
    "        \"cik\": \"first\",\n",
    "        \"cik_name\": \"first\",\n",
    "        \"rdate\": \"first\",\n",
    "        \"submission_type\": \"first\",\n",
    "        \"fdate\": \"first\",\n",
    "        \"entry_total\": \"first\",\n",
    "        \"value_total\": \"first\",\n",
    "        \"cusip\": \"first\",\n",
    "        \"name_of_issuer\": \"first\",\n",
    "        \"title_of_class\": \"first\",\n",
    "        \"value\": \"sum\",\n",
    "        \"shares\": \"sum\",\n",
    "        \"shares_bonds\": \"first\",\n",
    "        \"put_call\": \"first\",\n",
    "        \"type\": \"first\",\n",
    "        \"file\": \"first\",\n",
    "        'dsource': 'first',\n",
    "        \"created_at\": \"first\",\n",
    "        \"updated_at\": \"first\"\n",
    "    }\n",
    "    data = data.assign(cusip=data.cusip.str.upper())\n",
    "    data = data.reindex(columns=column_names)\n",
    "   \n",
    "    ## pandera code\n",
    "    validation_schema = pa.DataFrameSchema({\n",
    "    \"cusip\": pa.Column(str,\n",
    "                       pa.Check(lambda s: s.str.len() == 9),\n",
    "                       required=True, nullable=False),\n",
    "    \"value\":  pa.Column(float, pa.Check(lambda s: s != 0.0), required=True, nullable=False),\n",
    "    \"shares\": pa.Column(float, pa.Check(lambda s: s != 0.0), required=True, nullable=False)\n",
    "        })\n",
    "    if data.head(1).type.squeeze() != 'NO' and data.head(1).fdate.squeeze() > pd.to_datetime(cutoff_date,format='%Y-%m-%d'):\n",
    "        try:\n",
    "            validation_schema.validate(data, lazy=True)\n",
    "            if not data.empty:\n",
    "                # group cusips\n",
    "                df2 = data.groupby([\"cusip\"], as_index=False).agg(attributes)\n",
    "                df2.to_parquet(\n",
    "                    os.path.join(\n",
    "                        directory_parquet,\n",
    "                        f\"{df2.head(1).cik[0]}-{df2.head(1).accession_number[0]}-{df2.head(1).fdate[0].strftime('%Y-%m-%d')}.parquet\",\n",
    "                                    )\n",
    "                                )\n",
    "\n",
    "                # return df2\n",
    "            else: pd.DataFrame()\n",
    "\n",
    "        except pa.errors.SchemaErrors as e:\n",
    "            failure_cases = e.failure_cases\n",
    "            failure_cases = (failure_cases.assign(df_file=data.file,\n",
    "                                                 df_cik=data.cik,\n",
    "                                                 df_rdate=data.rdate,\n",
    "                                                 df_fdate=data.fdate,\n",
    "                                                 df_value=data.value)).astype({'failure_case':str})\n",
    "            # print(failure_cases)\n",
    "            failure_cases.to_parquet(Path.joinpath(failures_parq_dir, \\\n",
    "                                                   f\"bad-{data.head(1).cik[0]}-{data.head(1).accession_number[0]}-{data.head(1).fdate[0].strftime('%Y-%m-%d')}.parquet\"))\n",
    "            data = data[~data.index.isin(failure_cases[\"index\"])]\n",
    "            \n",
    "            if not data.empty:\n",
    "                # group cusips\n",
    "                df2 = data.groupby([\"cusip\"], as_index=False).agg(attributes)\n",
    "                df2.to_parquet(\n",
    "                    os.path.join(\n",
    "                        directory_parquet,\n",
    "                        f\"{df2.head(1).cik[0]}-{df2.head(1).accession_number[0]}-{df2.head(1).fdate[0].strftime('%Y-%m-%d')}.parquet\",\n",
    "                                    )\n",
    "                                )\n",
    "\n",
    "\n",
    "            else: pd.DataFrame()\n"
   ]
  },
  {
   "cell_type": "code",
   "execution_count": 143,
   "id": "da298687-e2ed-45bd-828b-645f25f7e8d5",
   "metadata": {
    "tags": []
   },
   "outputs": [
    {
     "name": "stdout",
     "output_type": "stream",
     "text": [
      "CPU times: user 526 ms, sys: 175 ms, total: 701 ms\n",
      "Wall time: 710 ms\n"
     ]
    },
    {
     "data": {
      "text/plain": [
       "355662"
      ]
     },
     "execution_count": 143,
     "metadata": {},
     "output_type": "execute_result"
    }
   ],
   "source": [
    "%%time\n"
   ]
  },
  {
   "cell_type": "code",
   "execution_count": 129,
   "id": "817aea0c-67a9-432f-b221-917b8883f365",
   "metadata": {
    "tags": []
   },
   "outputs": [
    {
     "data": {
      "text/html": [
       "<pre style=\"white-space:pre;overflow-x:auto;line-height:normal;font-family:Menlo,'DejaVu Sans Mono',consolas,'Courier New',monospace\"><span style=\"font-weight: bold\">[]</span>\n",
       "</pre>\n"
      ],
      "text/plain": [
       "\u001b[1m[\u001b[0m\u001b[1m]\u001b[0m\n"
      ]
     },
     "metadata": {},
     "output_type": "display_data"
    }
   ],
   "source": [
    "# find duplicates in a list\n",
    "freq = {}\n",
    "\n",
    "for element in parquet_files:\n",
    "    if element in freq:\n",
    "        freq[element] += 1\n",
    "    else:\n",
    "        freq[element] = 1\n",
    "\n",
    "duplicates = [key for key,value in freq.items() if value > 1 and int(itemgetter(1)(key.split('-'))) >=23 and int(itemgetter(1)(key.split('-'))) not in [98, 99]]\n",
    "print(duplicates)"
   ]
  }
 ],
 "metadata": {
  "kernelspec": {
   "display_name": "Python 3 (ipykernel)",
   "language": "python",
   "name": "python3"
  },
  "language_info": {
   "codemirror_mode": {
    "name": "ipython",
    "version": 3
   },
   "file_extension": ".py",
   "mimetype": "text/x-python",
   "name": "python",
   "nbconvert_exporter": "python",
   "pygments_lexer": "ipython3",
   "version": "3.10.9"
  }
 },
 "nbformat": 4,
 "nbformat_minor": 5
}
