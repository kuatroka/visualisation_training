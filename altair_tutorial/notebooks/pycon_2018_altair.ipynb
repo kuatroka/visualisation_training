{
 "cells": [
  {
   "cell_type": "code",
   "execution_count": null,
   "id": "984e1259-feed-48f0-8960-ce7afe3d2c6b",
   "metadata": {
    "tags": []
   },
   "outputs": [],
   "source": [
    "# years = pd.DataFrame({'year':pd.date_range(start='1998', end='2022',freq='Y')})\n",
    "# years =(years.assign(year=years.year.dt.year.astype(str)))\n",
    "# years.info()\n",
    "# years_in_scope = years.year.values\n",
    "# years_in_scope\n",
    "\n",
    "# active_cik = df.query(\"rdate.dt.year.astype('string').isin(@years_in_scope)\")['cik'].unique()"
   ]
  },
  {
   "cell_type": "code",
   "execution_count": null,
   "id": "40ad10e1-d63a-4b33-9b87-078426832b5c",
   "metadata": {
    "tags": []
   },
   "outputs": [],
   "source": [
    "%%time\n",
    "\n",
    "from pathlib import Path\n",
    "import pandas as pd\n",
    "import pyarrow as pa\n",
    "\n",
    "# my_file = Path(r\"E:\\app_data\\sec_apps_data\\speed_test\\filings_13f_full\\tr_04_filings_parquet_cik\")\n",
    "# columns = ['cik', 'accession_number', 'value', 'rdate', 'quarter']\n",
    "# df = pd.concat(pd.read_parquet(f, columns=columns, filters = [('tr_type',  '!=' , pa.scalar(\"CLOSE\"))]) for f in my_file.glob(\"*.parquet\"))\n",
    "\n",
    "df = df.assign(\n",
    "                 # cik=df.cik.astype(str),\n",
    "               ryear=df.rdate.dt.year.astype('category'),\n",
    "#                value_len=df.value.astype(str).str.len()-2\n",
    "               )"
   ]
  },
  {
   "cell_type": "code",
   "execution_count": null,
   "id": "dc7db074-8e38-4042-bd8f-4bec23483f4d",
   "metadata": {
    "tags": []
   },
   "outputs": [],
   "source": [
    "df.info()\n",
    "# df.query(\"cik==14661\").head(50)\n"
   ]
  },
  {
   "cell_type": "code",
   "execution_count": null,
   "id": "dad9bc88-e922-4a1a-8f21-02daed90803d",
   "metadata": {
    "tags": []
   },
   "outputs": [],
   "source": [
    "#  find ciks that have been active in 1999 and 2020\n",
    "df_cik_year = df[['cik', 'ryear']].drop_duplicates()\n",
    "df_cik_year = df_cik_year.sort_values(by=['cik', 'ryear'],ascending=[True,False])\n",
    "\n",
    "df_cik_year_1999_2020 = df_cik_year.query(\"ryear.astype('str') == '2020' | ryear.astype('str') == '1999'\")\n",
    "\n",
    "cik_1999_2020 = (df_cik_year_1999_2020\n",
    "           .groupby(by=['cik']).count()\n",
    "           .reset_index()\n",
    "           .query(\"ryear == 2 \")\n",
    "           .drop_duplicates()['cik'].to_list()\n",
    "           )\n",
    "\n",
    "# cik_1999_2020     # 1067983 berkshire\n",
    "len(cik_1999_2020) # 647"
   ]
  },
  {
   "cell_type": "code",
   "execution_count": null,
   "id": "e6f9a1c8-ad90-410a-beb2-537f1de50302",
   "metadata": {
    "tags": []
   },
   "outputs": [],
   "source": [
    "\n",
    "# np.array(cik_1999_2020)\n",
    "\n",
    "for element in cik_1999_2020:\n",
    "    print(element, end=',')\n"
   ]
  },
  {
   "cell_type": "code",
   "execution_count": null,
   "id": "5f641e9a-fbfc-4267-ac5e-5a7e8f7d654d",
   "metadata": {
    "tags": []
   },
   "outputs": [],
   "source": [
    "# len(cik_1999_2020)\n",
    "# print(cik_1999_2020[:20])\n",
    "# [2230, 3520, 5272, 7195, 7789, 9015, 10742, 14661, 16972, 18349, 18748, 19475, 19617, 21175, 22657, 24386, 35442, 35527, 36066, 36104]\n",
    "# (df.query(\"cik.isin(@cik_1999_2020)\"))[['cik']].drop_duplicates().sort_values(by=['cik']).shape"
   ]
  },
  {
   "cell_type": "code",
   "execution_count": null,
   "id": "fa40050e-cfd5-4571-9960-921f74efd926",
   "metadata": {
    "tags": []
   },
   "outputs": [],
   "source": [
    "# limit the big df to a subset where only the cik active from 1999 to 2020 are present\n",
    "# df.head()\n",
    "sub_df = (df\n",
    "          .query(\"cik.isin(@cik_1999_2020)\")\n",
    "          .groupby(by=['cik','quarter'])\n",
    "          .agg({'value':'sum', 'accession_number':'first'})\n",
    "          .reset_index()[['cik','quarter', 'value', 'accession_number']])\n"
   ]
  },
  {
   "cell_type": "code",
   "execution_count": 2,
   "id": "fa20d586-8a12-4eeb-9a1e-6846f391e1c6",
   "metadata": {
    "execution": {
     "iopub.execute_input": "2023-01-27T21:31:15.710382Z",
     "iopub.status.busy": "2023-01-27T21:31:15.710382Z",
     "iopub.status.idle": "2023-01-27T21:31:15.733324Z",
     "shell.execute_reply": "2023-01-27T21:31:15.732325Z",
     "shell.execute_reply.started": "2023-01-27T21:31:15.710382Z"
    },
    "tags": []
   },
   "outputs": [
    {
     "ename": "NameError",
     "evalue": "name 'cik_1999_2020' is not defined",
     "output_type": "error",
     "traceback": [
      "\u001b[1;31m--------------------------------------------\u001b[0m",
      "\u001b[1;31mNameError\u001b[0m  Traceback (most recent call last)",
      "Cell \u001b[1;32mIn[2], line 5\u001b[0m\n\u001b[0;32m      2\u001b[0m \u001b[38;5;28;01mimport\u001b[39;00m \u001b[38;5;21;01maltair\u001b[39;00m \u001b[38;5;28;01mas\u001b[39;00m \u001b[38;5;21;01malt\u001b[39;00m\n\u001b[0;32m      3\u001b[0m \u001b[38;5;28;01mfrom\u001b[39;00m \u001b[38;5;21;01maltair\u001b[39;00m \u001b[38;5;28;01mimport\u001b[39;00m datum\n\u001b[1;32m----> 5\u001b[0m input_dropdown \u001b[38;5;241m=\u001b[39m alt\u001b[38;5;241m.\u001b[39mbinding_select(options\u001b[38;5;241m=\u001b[39m\u001b[43mcik_1999_2020\u001b[49m, name\u001b[38;5;241m=\u001b[39m\u001b[38;5;124m'\u001b[39m\u001b[38;5;124mcik\u001b[39m\u001b[38;5;124m'\u001b[39m)\n\u001b[0;32m      6\u001b[0m selection \u001b[38;5;241m=\u001b[39m alt\u001b[38;5;241m.\u001b[39mselection_single(fields\u001b[38;5;241m=\u001b[39m[\u001b[38;5;124m'\u001b[39m\u001b[38;5;124mcik\u001b[39m\u001b[38;5;124m'\u001b[39m], bind\u001b[38;5;241m=\u001b[39minput_dropdown)\n\u001b[0;32m     10\u001b[0m alt\u001b[38;5;241m.\u001b[39mChart(sub_df)\u001b[38;5;241m.\u001b[39mmark_point()\u001b[38;5;241m.\u001b[39mtransform_calculate(value_billion\u001b[38;5;241m=\u001b[39m\u001b[38;5;124m\"\u001b[39m\u001b[38;5;124mdatum.value / 1000000000\u001b[39m\u001b[38;5;124m\"\u001b[39m)\\\n\u001b[0;32m     11\u001b[0m     \u001b[38;5;241m.\u001b[39mencode(\n\u001b[0;32m     12\u001b[0m     alt\u001b[38;5;241m.\u001b[39mX(\u001b[38;5;124m'\u001b[39m\u001b[38;5;124mquarter:O\u001b[39m\u001b[38;5;124m'\u001b[39m),\n\u001b[1;32m   (...)\u001b[0m\n\u001b[0;32m     21\u001b[0m     \n\u001b[0;32m     22\u001b[0m )\u001b[38;5;241m.\u001b[39madd_selection(selection)\u001b[38;5;241m.\u001b[39mtransform_filter(selection)\u001b[38;5;241m.\u001b[39minteractive()\u001b[38;5;241m.\u001b[39mproperties(width\u001b[38;5;241m=\u001b[39m\u001b[38;5;241m800\u001b[39m, height\u001b[38;5;241m=\u001b[39m\u001b[38;5;241m200\u001b[39m)\n",
      "\u001b[1;31mNameError\u001b[0m: name 'cik_1999_2020' is not defined"
     ]
    }
   ],
   "source": [
    "# working with slider / selector\n",
    "import altair as alt\n",
    "from altair import datum\n",
    "\n",
    "input_dropdown = alt.binding_select(options=cik_1999_2020, name='cik')\n",
    "selection = alt.selection_single(fields=['cik'], bind=input_dropdown)\n",
    "\n",
    "\n",
    "\n",
    "alt.Chart(sub_df).mark_point().transform_calculate(value_billion=\"datum.value / 1000000000\")\\\n",
    "    .encode(\n",
    "    alt.X('quarter:O'),\n",
    "    alt.Y('value'),\n",
    "    # alt.Row('cik'),\n",
    "    tooltip=['quarter:O','accession_number:N', \n",
    "             alt.Tooltip('value:Q', format=\"$.3s\") ,\n",
    "             alt.Tooltip('value_billion:Q', format=\"$.3\", title='In Billions'),\n",
    "             alt.Tooltip('value:Q', format=\"$~s\")\n",
    "            ]\n",
    "    # alt.Tooltip(['quarter:O','accession_number:N', 'value:O']),\n",
    "    \n",
    ").add_selection(selection).transform_filter(selection).interactive().properties(width=800, height=200)"
   ]
  },
  {
   "cell_type": "code",
   "execution_count": null,
   "id": "663cc837-b0e6-4e9e-bb73-8cee52c953a2",
   "metadata": {
    "tags": []
   },
   "outputs": [],
   "source": [
    "from vega_datasets import data\n",
    "import pandas as pd\n",
    "\n",
    "# source = data.cars()\n",
    "\n",
    "# alt.Chart(source).mark_circle(size=60).encode(\n",
    "#     x='Horsepower',\n",
    "#     y='Miles_per_Gallon',\n",
    "#     color='Origin',\n",
    "#     tooltip=[\n",
    "#         'Origin',\n",
    "#         alt.Tooltip('Horsepower', format=\"$.3s\", title=\"Valor\")\n",
    "#     ]\n",
    "# )\n",
    "\n",
    "data = pd.DataFrame({\n",
    "    'x': [1, 2, 3, 4, 5, 6],\n",
    "    'y': [100000000000, 200000000000000, 300000000, 400000000, 500000000, 300000]\n",
    "})\n",
    "\n",
    "tooltip = [alt.Tooltip('x', format='0.0f'), alt.Tooltip('y', format='$~s')] \n",
    "\n",
    "\n",
    "\n",
    "chart = alt.Chart(data).mark_point().encode(\n",
    "    x=alt.X('x:Q'),\n",
    "    y=alt.Y('y:Q', scale=alt.Scale(type='log')),\n",
    "    tooltip=tooltip,\n",
    "\n",
    ")\n",
    "\n",
    "chart.display()"
   ]
  },
  {
   "cell_type": "markdown",
   "id": "ddf307bd-3a4e-48e7-ae9f-878f1ac7fa24",
   "metadata": {},
   "source": [
    "### My 676 main `cik` dataset to learn with "
   ]
  },
  {
   "cell_type": "code",
   "execution_count": null,
   "id": "4d76b2fa-b9d5-452f-9a24-82d80a506ea0",
   "metadata": {
    "tags": []
   },
   "outputs": [],
   "source": [
    "%%time\n",
    "df_small = df.query(\"cik.astype('int').isin(@cik_1999_2020)\")\n",
    "df_small = df_small.query(\"cik.astype('int').isin(@cik_1999_2020)\")\n",
    "\n",
    "df_small = (df_small.groupby(by=['cik', 'quarter']).agg({'accession_number':'last',\n",
    "                                                         'value':'sum',\n",
    "                                                         'rdate':'last',\n",
    "                                                         'ryear':'last',\n",
    "                                                         'value_len':'max'}))\n",
    "\n",
    "df_small = df_small.reset_index()\n",
    "df_small = df_small.query(\"cik.astype('int').isin(@cik_1999_2020)\")\n",
    "\n",
    "df_small_year = (df_small.groupby(by=['cik', 'ryear']).agg({'value':'sum',\n",
    "                                                            'value_len':'max'}))\n",
    "\n",
    "df_small_year = df_small_year.reset_index()\n",
    "df_small_year = df_small_year.query(\"cik.astype('int').isin(@cik_1999_2020)\")\n",
    "\n",
    "df = None"
   ]
  },
  {
   "cell_type": "code",
   "execution_count": null,
   "id": "d7f58e70-c557-4040-921b-25233f5d31bc",
   "metadata": {
    "tags": []
   },
   "outputs": [],
   "source": [
    "# df_small.info()\n",
    "# df_small.head(100)\n",
    "# df_small.cik.nunique()\n",
    "# df_small_year.head(10)\n",
    "df_small_year.cik.nunique()"
   ]
  },
  {
   "cell_type": "code",
   "execution_count": null,
   "id": "5c62be54-01f6-4e4b-bba4-fdbf30ed264c",
   "metadata": {
    "tags": []
   },
   "outputs": [],
   "source": [
    "# df_small.query(\"cik.astype('int').isin(@cik_1999_2020)\")\n",
    "# df_small.head(20)\n",
    "df_small_year.head(200)"
   ]
  },
  {
   "cell_type": "markdown",
   "id": "1ff314a8-6497-4360-b687-708348142254",
   "metadata": {},
   "source": [
    "### Jake VanderPlas - Altair - PyCon 2018"
   ]
  },
  {
   "cell_type": "code",
   "execution_count": null,
   "id": "ea96f700-8b68-4afc-a601-d1cc2896782e",
   "metadata": {
    "tags": []
   },
   "outputs": [],
   "source": [
    "pd.set_option('display.max_columns', 35)\n",
    "pd.set_option(\"display.max_colwidth\",30)\n",
    "pd.set_option(\"display.max_rows\", 500)\n",
    "\n",
    "\n",
    "import pandas as pd\n",
    "from vega_datasets import data\n",
    "import altair as alt\n",
    "alt.data_transformers.disable_max_rows()"
   ]
  },
  {
   "cell_type": "code",
   "execution_count": null,
   "id": "6c783e7a-bfe0-4795-abbc-cc3b0a0319f9",
   "metadata": {
    "tags": []
   },
   "outputs": [],
   "source": [
    "cars = data.cars()\n",
    "\n",
    "cars.head(2)"
   ]
  },
  {
   "cell_type": "code",
   "execution_count": null,
   "id": "e42c8bae-1df0-4264-9819-d9cb93e1f94e",
   "metadata": {
    "tags": []
   },
   "outputs": [],
   "source": [
    "alt.Chart(cars).mark_circle().encode(\n",
    "    x='Miles_per_Gallon',\n",
    "    y='Horsepower'\n",
    ").interactive().to_dict()"
   ]
  },
  {
   "cell_type": "code",
   "execution_count": null,
   "id": "468de2f2-e9b0-4274-b7c0-1dee8a029c6e",
   "metadata": {
    "tags": []
   },
   "outputs": [],
   "source": [
    "cars1 = cars.iloc[:1]\n",
    "\n",
    "spec = alt.Chart(cars).mark_circle().encode(\n",
    "    x='Miles_per_Gallon',\n",
    "    y='Horsepower'\n",
    ").interactive().to_dict()"
   ]
  },
  {
   "cell_type": "code",
   "execution_count": null,
   "id": "8ac627c2-8cce-41d9-a38c-f2edb437df9e",
   "metadata": {
    "tags": []
   },
   "outputs": [],
   "source": [
    "alt.Chart.from_dict(spec).encode(color='Origin:N')"
   ]
  },
  {
   "cell_type": "code",
   "execution_count": null,
   "id": "569fd0b2-8b7d-4b41-a5a8-4fe5b21f52c4",
   "metadata": {
    "tags": []
   },
   "outputs": [],
   "source": [
    "alt.Chart(cars).mark_line().encode(\n",
    "    x='Miles_per_Gallon',\n",
    "    y='Horsepower'\n",
    ").interactive()"
   ]
  },
  {
   "cell_type": "code",
   "execution_count": null,
   "id": "a4aa6161-abee-42e9-b8bd-822980d3a4f9",
   "metadata": {
    "tags": []
   },
   "outputs": [],
   "source": [
    "cik_1999_2020[:10]"
   ]
  },
  {
   "cell_type": "code",
   "execution_count": null,
   "id": "bedab394-124e-4ea6-9901-9053dc7c7c45",
   "metadata": {
    "tags": []
   },
   "outputs": [],
   "source": [
    "\n",
    "alt.Chart(df_small_year[df_small_year.cik==5272][['ryear', 'value']]).mark_bar().encode(\n",
    "    x='ryear:O',\n",
    "    y='value'\n",
    ").interactive()\n",
    "\n"
   ]
  },
  {
   "cell_type": "code",
   "execution_count": null,
   "id": "d8ec74af-7b64-44bd-848c-6717b796deca",
   "metadata": {},
   "outputs": [],
   "source": []
  },
  {
   "cell_type": "code",
   "execution_count": null,
   "id": "40dc86e6-e987-4d1f-b9df-4e33edb20978",
   "metadata": {
    "tags": []
   },
   "outputs": [],
   "source": [
    "alt.Chart(cars).mark_bar().encode(\n",
    "    x='Miles_per_Gallon',\n",
    "    y='Horsepower'\n",
    ").interactive()"
   ]
  },
  {
   "cell_type": "code",
   "execution_count": null,
   "id": "b9ffd52e-7d31-40b2-b14b-d30cbcb8dbf1",
   "metadata": {
    "tags": []
   },
   "outputs": [],
   "source": [
    "alt.Chart(cars).mark_bar().encode(\n",
    "    x=alt.X('Miles_per_Gallon', bin=True),\n",
    "    y='count()'\n",
    "    \n",
    ").interactive()"
   ]
  },
  {
   "cell_type": "code",
   "execution_count": null,
   "id": "651e1506-3c97-4c4c-a7b9-a374a4dd2a1c",
   "metadata": {
    "tags": []
   },
   "outputs": [],
   "source": [
    "%pip install autoviz"
   ]
  }
 ],
 "metadata": {
  "kernelspec": {
   "display_name": "Python 3 (ipykernel)",
   "language": "python",
   "name": "python3"
  },
  "language_info": {
   "codemirror_mode": {
    "name": "ipython",
    "version": 3
   },
   "file_extension": ".py",
   "mimetype": "text/x-python",
   "name": "python",
   "nbconvert_exporter": "python",
   "pygments_lexer": "ipython3",
   "version": "3.9.7"
  }
 },
 "nbformat": 4,
 "nbformat_minor": 5
}
