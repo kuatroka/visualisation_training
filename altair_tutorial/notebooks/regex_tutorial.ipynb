{
 "cells": [
  {
   "cell_type": "code",
   "execution_count": 243,
   "id": "72692020-2402-4b86-b30e-bf6eba1aa491",
   "metadata": {
    "execution": {
     "iopub.execute_input": "2023-01-14T00:04:37.627206Z",
     "iopub.status.busy": "2023-01-14T00:04:37.627206Z",
     "iopub.status.idle": "2023-01-14T00:04:37.644238Z",
     "shell.execute_reply": "2023-01-14T00:04:37.643233Z",
     "shell.execute_reply.started": "2023-01-14T00:04:37.627206Z"
    },
    "tags": []
   },
   "outputs": [],
   "source": [
    "text_string = \"\"\"\n",
    "\n",
    "Form 13F Information Table Entry Total:                 659\n",
    "                                        ---------------------------------------\n",
    "    sdsfsdfdsfd  Form 13F  dfdfdsf dfds3454354\n",
    "                                                     2,403,697\n",
    "Form 13F Information Table Value Total: -------------------------------------- 1,456 1456 Form 13F\n",
    "                                                    (thousands) $2,403,697\n",
    "Form 13F Information Table Total Value: -------------------------------------- 1,456 1456\n",
    "                                                    (thousands) $2,403,697.00\n",
    " \"\"\"\n",
    "\n",
    "cast_to_bytecode = text_string.encode() # decodes into bytecode `.decode('utf-8')`\n",
    "text_raw = fr\"{text_string}\" # encodes string to raw text. Pretty cool tip on use `fr` together. Never seen it before"
   ]
  },
  {
   "cell_type": "code",
   "execution_count": 244,
   "id": "89531b98-5378-4e4f-9fcc-635543a24156",
   "metadata": {
    "execution": {
     "iopub.execute_input": "2023-01-14T00:04:38.250049Z",
     "iopub.status.busy": "2023-01-14T00:04:38.249075Z",
     "iopub.status.idle": "2023-01-14T00:04:38.269084Z",
     "shell.execute_reply": "2023-01-14T00:04:38.268081Z",
     "shell.execute_reply.started": "2023-01-14T00:04:38.250049Z"
    },
    "tags": []
   },
   "outputs": [
    {
     "data": {
      "text/plain": [
       "'\\n\\nForm 13F Information Table Entry Total:                 659\\n                                        ---------------------------------------\\n    sdsfsdfdsfd  Form 13F  dfdfdsf dfds3454354\\n                                                     2,403,697\\nForm 13F Information Table Value Total: -------------------------------------- 1,456 1456 Form 13F\\n                                                    (thousands) $2,403,697\\nForm 13F Information Table Total Value: -------------------------------------- 1,456 1456\\n                                                    (thousands) $2,403,697.00\\n '"
      ]
     },
     "execution_count": 244,
     "metadata": {},
     "output_type": "execute_result"
    }
   ],
   "source": [
    "# text_raw\n",
    "text_string\n",
    "# text_string.encode()"
   ]
  },
  {
   "cell_type": "code",
   "execution_count": 274,
   "id": "7e1d3a53-ebab-4926-9fc8-fd280a515fe7",
   "metadata": {
    "execution": {
     "iopub.execute_input": "2023-01-14T00:23:35.148924Z",
     "iopub.status.busy": "2023-01-14T00:23:35.147893Z",
     "iopub.status.idle": "2023-01-14T00:23:35.159895Z",
     "shell.execute_reply": "2023-01-14T00:23:35.158914Z",
     "shell.execute_reply.started": "2023-01-14T00:23:35.148924Z"
    },
    "tags": []
   },
   "outputs": [
    {
     "data": {
      "text/plain": [
       "[' Form 13F', ' Form 13F']"
      ]
     },
     "execution_count": 274,
     "metadata": {},
     "output_type": "execute_result"
    }
   ],
   "source": [
    "import re\n",
    "string = \"\"\"\n",
    "abc-1000?der \n",
    "\n",
    "How about a NO! or 20 times NO.\n",
    "\"\"\"\n",
    "string2 = \"\"\"dgsfdgsdg dfgdsfg \"30\",2014-08-08,\"100\",\"MT\",\"8\",\"3624\",\"#\",\"#\",1\"\"\"\n",
    "string3 = \"\"\"dgsfdgsdg dfgdsfg, 30 2014-08-08, 100 MT 8 3624 # # 1\n",
    "How about a NO! or 20 times NO.\"\"\"\n",
    "string4 = \"\"\"0828041930\t72\t0:5493513263615:1:1\t0:3513263615:2:1\t0:5491124970159:1:1\t\t0\t9\t14\t841\tSMPP.841:1\t1.0\t0\t0\t\"\"\"\n",
    "\n",
    "# \\d - digit in the string\n",
    "# \\d+ - matches all individual full digits/words with digits only, but it also means 1,345,555 is extracted as ['1', '345', '555']\n",
    "# \\d* - as `\\d+` plus every white space \"\" in the string ['',  '','','','1', '','','659','','', ''] etc\n",
    "# \\D - Negation of the `\\d`. 1st non-digit. Not [0-9].\n",
    "# \\w -  letter, digit or _ but not digits. `\\w{3,}?`: limits to any 3 or more starting chars. `\\w{3,}` to words with 3 or more chars \n",
    "# \\W - negation of `\\w`\n",
    "# \\s - white space\n",
    "# \\S - character that is anythin but white space\n",
    "# . - character except the new line\n",
    "# \\n\n",
    "re.findall(r\"(?:\\s*(?:\\\"([^\\\"]*)\\\"|([^\\s]+))\\s*\\s?)+?\", string3) # extracts every standalone whole word/character\n",
    "re.findall(r\"(?:\\s*(?:\\\"([^\\\"]*)\\\"|([^,]+))\\s*,?)+?\", string3) # extracts every standalone whole word/character separated by \",\"\n",
    "re.findall(r\"Entry Total\\W+([0-9]{0,5})\", text_string) # extracts digits in a line that starts with \"Entry Total\"\n",
    "re.findall(r\"(?:[^\\t]+\\s|\\t|\\w$)\", string4) # extracts data separated by tabs\n",
    "re.findall(r\"\\$?\\s?(\\$?\\d+[\\.\\s,\\dk]+)|(\\d+[\\.\\s,\\dk]+\\$?)\", text_string) # extracts data separated by tabs\n",
    "re.findall(r\"Value Total(:)?\\W+([0-9,?\\s?]{0,10})\", text_string) # extracts digits in a line that starts with \"Entry Total\"\n",
    "re.findall(r\"(?:un)?expected\", \"a few unexpected words are to be expected\")\n",
    "re.findall(r\"(?:un|not )?expected\", \"unexpected and not expected should both be matched\")\n",
    "# re.findall(r\"(?:Value Total|Total Value)\\W+?[\\d+,?\\d+?]\", text_string)\n",
    "re.findall(r\"(?:Value Total|Total Value)\", text_string) # () treats the selection as a unit\n",
    "re.findall(r\"[0-9A-Za-z\\-]+\", text_string) # [] is like a list of values to match. It can be any order and values are independent\n",
    "re.findall(r\"([\\d,.?]+)\", text_string)\n",
    "re.findall(r\"(?<!\\n) Form 13F\", text_string) # matches every \"Form 13F\" but not if on new line\n",
    "re.findall(r\"(?<!\\n) Form 13F\", text_string) # matches every \"Form 13F\" but not if on new line\n",
    "\n",
    "\n",
    "\n",
    "# re.search(r\"\\D.*\", fr'{string}', re.DOTALL).group()"
   ]
  },
  {
   "cell_type": "code",
   "execution_count": 263,
   "id": "11899ca8-4576-4d47-b464-ebbbbe3ed140",
   "metadata": {
    "execution": {
     "iopub.execute_input": "2023-01-14T00:14:58.519367Z",
     "iopub.status.busy": "2023-01-14T00:14:58.519367Z",
     "iopub.status.idle": "2023-01-14T00:14:58.527372Z",
     "shell.execute_reply": "2023-01-14T00:14:58.526396Z",
     "shell.execute_reply.started": "2023-01-14T00:14:58.519367Z"
    },
    "tags": []
   },
   "outputs": [
    {
     "data": {
      "text/plain": [
       "'\\n\\nForm 13F Information Table Entry Total:                 659\\n                                        ---------------------------------------\\n    sdsfsdfdsfd  Form 13F  dfdfdsf dfds3454354\\n                                                     2,403,697\\nForm 13F Information Table Value Total: -------------------------------------- 1,456 1456 Form 13F\\n                                                    (thousands) $2,403,697\\nForm 13F Information Table Total Value: -------------------------------------- 1,456 1456\\n                                                    (thousands) $2,403,697.00\\n '"
      ]
     },
     "execution_count": 269,
     "metadata": {},
     "output_type": "execute_result"
    }
   ],
   "source": [
    "fr\"{text_string}\"\n",
    "# text_raw\n",
    "print(text_string)"
   ]
  },
  {
   "cell_type": "markdown",
   "id": "63ea7ebd-204c-46e6-ba02-48cb36e23e24",
   "metadata": {},
   "source": [
    "## Real Python Regex Course"
   ]
  },
  {
   "cell_type": "markdown",
   "id": "11a18f68-64f1-453c-b27e-d5be2f799ece",
   "metadata": {},
   "source": [
    "<details><summary>(email text)</summary>\n",
    "text = \"\"\"\n",
    "X-RP-State: 1095x{ar}y394<rnE>3a34<med>41a<aai>x{bb}y\n",
    "MIME-Version: 1.0\n",
    "Date: Sun, 18 Sep 1949\n",
    "From: wile.e.coyote@desert.example.com\n",
    "To: support@acme.example.com\n",
    "Subject: suit failure\n",
    "\n",
    "Content-Type: text/plain; charset=\"ASCII\"\n",
    "\n",
    "Dear sirs,\n",
    "\n",
    "I'm writing to inform you of a drastic failure of your ACME Super Outfit. On Saturday, September 17, I endeavored to use your suit to achieve the dream of flight. I was beyond hopeful that my purchase from Acme Corporation would finally enable to capture my nemesis, the Road Runner.\n",
    "\n",
    "I am confident that I used your Super Outfit according to the directions, as it is well known, I am a super-genius. After failing to achieve my goals\n",
    "using a variety of mechanisms, including boomerang, a fake \"School Crossing\" sign, a rocket launcher, and a mural of a tunnel, I turned to your corporation's device. I was most disappointed at its failure, in fact, I uttered the oath \"$#^!*\" then screamed \"Aaaaaaaaaah!\" all the way to the ground.\n",
    "\n",
    "Product information was as follows:\n",
    "\n",
    "ACME Super Outfit\n",
    "Model: 3990[X]\\5\n",
    "S/N: 9230413-3\n",
    "Date of purchase: Friday September 15, 1949\n",
    "\n",
    "Enclosed, please find an invoice for my hospital bills. The large fall was quite incapacitating.\n",
    "\"\"\"\n",
    "</details>"
   ]
  },
  {
   "cell_type": "code",
   "execution_count": 275,
   "id": "3b01f7b7-5909-4ddb-ac2d-a1232798e68a",
   "metadata": {
    "execution": {
     "iopub.execute_input": "2023-01-16T20:05:34.093494Z",
     "iopub.status.busy": "2023-01-16T20:05:34.091521Z",
     "iopub.status.idle": "2023-01-16T20:05:34.123497Z",
     "shell.execute_reply": "2023-01-16T20:05:34.122496Z",
     "shell.execute_reply.started": "2023-01-16T20:05:34.093494Z"
    }
   },
   "outputs": [],
   "source": [
    "import re"
   ]
  },
  {
   "cell_type": "code",
   "execution_count": 281,
   "id": "44789bc1-b86a-41d4-915d-66ea9ec528fe",
   "metadata": {
    "execution": {
     "iopub.execute_input": "2023-01-16T20:26:42.675054Z",
     "iopub.status.busy": "2023-01-16T20:26:42.675054Z",
     "iopub.status.idle": "2023-01-16T20:26:42.688052Z",
     "shell.execute_reply": "2023-01-16T20:26:42.688052Z",
     "shell.execute_reply.started": "2023-01-16T20:26:42.675054Z"
    },
    "tags": []
   },
   "outputs": [
    {
     "data": {
      "text/plain": [
       "<re.Match object; span=(7, 11), match='spam'>"
      ]
     },
     "execution_count": 281,
     "metadata": {},
     "output_type": "execute_result"
    }
   ],
   "source": [
    "question = \"Lovely spam! Wonderful spam!\"\n",
    "re.search(\"spam\", question)"
   ]
  },
  {
   "cell_type": "code",
   "execution_count": 283,
   "id": "c625d0ef-d210-476f-ba17-89a9621f4c2e",
   "metadata": {
    "execution": {
     "iopub.execute_input": "2023-01-16T21:22:19.377472Z",
     "iopub.status.busy": "2023-01-16T21:22:19.377472Z",
     "iopub.status.idle": "2023-01-16T21:22:19.392495Z",
     "shell.execute_reply": "2023-01-16T21:22:19.391500Z",
     "shell.execute_reply.started": "2023-01-16T21:22:19.377472Z"
    },
    "tags": []
   },
   "outputs": [
    {
     "data": {
      "text/plain": [
       "'spam'"
      ]
     },
     "execution_count": 283,
     "metadata": {},
     "output_type": "execute_result"
    }
   ],
   "source": [
    "question[7:11]"
   ]
  },
  {
   "cell_type": "code",
   "execution_count": 285,
   "id": "70664974-41df-4b1d-b68a-dd081200c232",
   "metadata": {
    "execution": {
     "iopub.execute_input": "2023-01-16T21:22:50.841823Z",
     "iopub.status.busy": "2023-01-16T21:22:50.841823Z",
     "iopub.status.idle": "2023-01-16T21:22:50.848841Z",
     "shell.execute_reply": "2023-01-16T21:22:50.847856Z",
     "shell.execute_reply.started": "2023-01-16T21:22:50.841823Z"
    },
    "tags": []
   },
   "outputs": [
    {
     "data": {
      "text/plain": [
       "True"
      ]
     },
     "execution_count": 285,
     "metadata": {},
     "output_type": "execute_result"
    }
   ],
   "source": [
    "match = re.search('spam', question)\n",
    "bool(match)"
   ]
  },
  {
   "cell_type": "code",
   "execution_count": 286,
   "id": "5faab91a-3da2-4a4f-9e4e-10e404efcb49",
   "metadata": {
    "execution": {
     "iopub.execute_input": "2023-01-16T21:23:00.216606Z",
     "iopub.status.busy": "2023-01-16T21:23:00.216606Z",
     "iopub.status.idle": "2023-01-16T21:23:00.224627Z",
     "shell.execute_reply": "2023-01-16T21:23:00.224627Z",
     "shell.execute_reply.started": "2023-01-16T21:23:00.216606Z"
    }
   },
   "outputs": [
    {
     "data": {
      "text/plain": [
       "(7, 11)"
      ]
     },
     "execution_count": 286,
     "metadata": {},
     "output_type": "execute_result"
    }
   ],
   "source": [
    "match.span()"
   ]
  },
  {
   "cell_type": "code",
   "execution_count": 287,
   "id": "8e44d9ac-6637-4201-8d72-347e3aa3495b",
   "metadata": {
    "execution": {
     "iopub.execute_input": "2023-01-16T21:23:09.511455Z",
     "iopub.status.busy": "2023-01-16T21:23:09.510455Z",
     "iopub.status.idle": "2023-01-16T21:23:09.528454Z",
     "shell.execute_reply": "2023-01-16T21:23:09.527454Z",
     "shell.execute_reply.started": "2023-01-16T21:23:09.511455Z"
    }
   },
   "outputs": [
    {
     "data": {
      "text/plain": [
       "7"
      ]
     },
     "execution_count": 287,
     "metadata": {},
     "output_type": "execute_result"
    }
   ],
   "source": [
    "match.start()"
   ]
  },
  {
   "cell_type": "code",
   "execution_count": 293,
   "id": "e74852f0-595d-44bd-8aeb-b76089b76a9c",
   "metadata": {
    "execution": {
     "iopub.execute_input": "2023-01-16T21:24:04.576403Z",
     "iopub.status.busy": "2023-01-16T21:24:04.576403Z",
     "iopub.status.idle": "2023-01-16T21:24:04.583376Z",
     "shell.execute_reply": "2023-01-16T21:24:04.583376Z",
     "shell.execute_reply.started": "2023-01-16T21:24:04.576403Z"
    },
    "tags": []
   },
   "outputs": [
    {
     "data": {
      "text/plain": [
       "11"
      ]
     },
     "execution_count": 293,
     "metadata": {},
     "output_type": "execute_result"
    }
   ],
   "source": [
    "match.end()"
   ]
  },
  {
   "cell_type": "code",
   "execution_count": 294,
   "id": "7e2c593c-9b62-4446-80e8-bbb1c0205d07",
   "metadata": {
    "execution": {
     "iopub.execute_input": "2023-01-16T21:24:05.745521Z",
     "iopub.status.busy": "2023-01-16T21:24:05.745521Z",
     "iopub.status.idle": "2023-01-16T21:24:05.753549Z",
     "shell.execute_reply": "2023-01-16T21:24:05.753549Z",
     "shell.execute_reply.started": "2023-01-16T21:24:05.745521Z"
    },
    "tags": []
   },
   "outputs": [
    {
     "data": {
      "text/plain": [
       "'Lovely spam! Wonderful spam!'"
      ]
     },
     "execution_count": 294,
     "metadata": {},
     "output_type": "execute_result"
    }
   ],
   "source": [
    "match.string"
   ]
  },
  {
   "cell_type": "code",
   "execution_count": 296,
   "id": "d98dc503-9e8e-45d3-b64c-37c22f723380",
   "metadata": {
    "execution": {
     "iopub.execute_input": "2023-01-16T21:26:34.393654Z",
     "iopub.status.busy": "2023-01-16T21:26:34.393654Z",
     "iopub.status.idle": "2023-01-16T21:26:34.409669Z",
     "shell.execute_reply": "2023-01-16T21:26:34.408673Z",
     "shell.execute_reply.started": "2023-01-16T21:26:34.393654Z"
    },
    "tags": []
   },
   "outputs": [],
   "source": [
    "re.match(\"spam\", question) # re.match only matches the beginning of the string. Like `^` anchor\n",
    "# it doesn't return anythink,because there is no \"spam\" at the beginnig of the sting"
   ]
  },
  {
   "cell_type": "code",
   "execution_count": 297,
   "id": "46f76df6-3b1c-4214-9d17-01d8b32b1e80",
   "metadata": {
    "execution": {
     "iopub.execute_input": "2023-01-16T21:27:13.312671Z",
     "iopub.status.busy": "2023-01-16T21:27:13.312671Z",
     "iopub.status.idle": "2023-01-16T21:27:13.318671Z",
     "shell.execute_reply": "2023-01-16T21:27:13.318671Z",
     "shell.execute_reply.started": "2023-01-16T21:27:13.312671Z"
    }
   },
   "outputs": [],
   "source": [
    "match = re.match('spam', question)\n"
   ]
  },
  {
   "cell_type": "code",
   "execution_count": 298,
   "id": "4a2b96a7-1242-46b7-a4a9-1a14fc1404d3",
   "metadata": {
    "execution": {
     "iopub.execute_input": "2023-01-16T21:27:16.914825Z",
     "iopub.status.busy": "2023-01-16T21:27:16.913828Z",
     "iopub.status.idle": "2023-01-16T21:27:16.933085Z",
     "shell.execute_reply": "2023-01-16T21:27:16.932557Z",
     "shell.execute_reply.started": "2023-01-16T21:27:16.913828Z"
    }
   },
   "outputs": [],
   "source": [
    "match"
   ]
  },
  {
   "cell_type": "code",
   "execution_count": 299,
   "id": "950bf7db-4e96-489e-9de4-701a18dbdc98",
   "metadata": {
    "execution": {
     "iopub.execute_input": "2023-01-16T21:27:38.677965Z",
     "iopub.status.busy": "2023-01-16T21:27:38.676968Z",
     "iopub.status.idle": "2023-01-16T21:27:38.698967Z",
     "shell.execute_reply": "2023-01-16T21:27:38.697964Z",
     "shell.execute_reply.started": "2023-01-16T21:27:38.677965Z"
    }
   },
   "outputs": [
    {
     "data": {
      "text/plain": [
       "True"
      ]
     },
     "execution_count": 299,
     "metadata": {},
     "output_type": "execute_result"
    }
   ],
   "source": [
    "match is None\n"
   ]
  },
  {
   "cell_type": "code",
   "execution_count": 300,
   "id": "d08c553e-1b5f-40d9-bdb6-00eec5d56a08",
   "metadata": {
    "execution": {
     "iopub.execute_input": "2023-01-16T21:27:56.551984Z",
     "iopub.status.busy": "2023-01-16T21:27:56.551984Z",
     "iopub.status.idle": "2023-01-16T21:27:56.557993Z",
     "shell.execute_reply": "2023-01-16T21:27:56.557993Z",
     "shell.execute_reply.started": "2023-01-16T21:27:56.551984Z"
    }
   },
   "outputs": [
    {
     "data": {
      "text/plain": [
       "False"
      ]
     },
     "execution_count": 300,
     "metadata": {},
     "output_type": "execute_result"
    }
   ],
   "source": [
    "bool(match)"
   ]
  },
  {
   "cell_type": "code",
   "execution_count": 302,
   "id": "28760c95-48cb-466c-8249-3ae99a61b8ff",
   "metadata": {
    "execution": {
     "iopub.execute_input": "2023-01-16T21:28:35.637499Z",
     "iopub.status.busy": "2023-01-16T21:28:35.637499Z",
     "iopub.status.idle": "2023-01-16T21:28:35.646500Z",
     "shell.execute_reply": "2023-01-16T21:28:35.645502Z",
     "shell.execute_reply.started": "2023-01-16T21:28:35.637499Z"
    },
    "tags": []
   },
   "outputs": [
    {
     "data": {
      "text/plain": [
       "<re.Match object; span=(0, 5), match='Lovel'>"
      ]
     },
     "execution_count": 302,
     "metadata": {},
     "output_type": "execute_result"
    }
   ],
   "source": [
    "re.match(\"\\w{5}\", question)"
   ]
  },
  {
   "cell_type": "code",
   "execution_count": 303,
   "id": "225050e7-c062-4437-95e4-be516d907277",
   "metadata": {
    "execution": {
     "iopub.execute_input": "2023-01-16T21:38:06.587985Z",
     "iopub.status.busy": "2023-01-16T21:38:06.587985Z",
     "iopub.status.idle": "2023-01-16T21:38:06.596998Z",
     "shell.execute_reply": "2023-01-16T21:38:06.595985Z",
     "shell.execute_reply.started": "2023-01-16T21:38:06.587985Z"
    }
   },
   "outputs": [],
   "source": [
    "match = re.fullmatch('spam', question)"
   ]
  },
  {
   "cell_type": "code",
   "execution_count": 304,
   "id": "5755885c-45ac-427e-9d63-b64ab8fc92e9",
   "metadata": {
    "execution": {
     "iopub.execute_input": "2023-01-16T21:38:13.704296Z",
     "iopub.status.busy": "2023-01-16T21:38:13.704296Z",
     "iopub.status.idle": "2023-01-16T21:38:13.713304Z",
     "shell.execute_reply": "2023-01-16T21:38:13.713304Z",
     "shell.execute_reply.started": "2023-01-16T21:38:13.704296Z"
    }
   },
   "outputs": [
    {
     "data": {
      "text/plain": [
       "True"
      ]
     },
     "execution_count": 304,
     "metadata": {},
     "output_type": "execute_result"
    }
   ],
   "source": [
    "match is None"
   ]
  },
  {
   "cell_type": "code",
   "execution_count": 307,
   "id": "1f651e48-6886-4a10-aa81-810fe61e4657",
   "metadata": {
    "execution": {
     "iopub.execute_input": "2023-01-16T21:47:16.266727Z",
     "iopub.status.busy": "2023-01-16T21:47:16.265731Z",
     "iopub.status.idle": "2023-01-16T21:47:16.275727Z",
     "shell.execute_reply": "2023-01-16T21:47:16.275727Z",
     "shell.execute_reply.started": "2023-01-16T21:47:16.266727Z"
    },
    "tags": []
   },
   "outputs": [
    {
     "data": {
      "text/plain": [
       "<re.Match object; span=(0, 28), match='Lovely spam! Wonderful spam!'>"
      ]
     },
     "execution_count": 307,
     "metadata": {},
     "output_type": "execute_result"
    }
   ],
   "source": [
    "re.fullmatch('((\\w*\\s*)*!)*', question)"
   ]
  },
  {
   "cell_type": "code",
   "execution_count": 308,
   "id": "f3201e5f-71f9-4b1b-922b-b341b7357d57",
   "metadata": {
    "execution": {
     "iopub.execute_input": "2023-01-16T21:49:23.696921Z",
     "iopub.status.busy": "2023-01-16T21:49:23.696921Z",
     "iopub.status.idle": "2023-01-16T21:49:23.708921Z",
     "shell.execute_reply": "2023-01-16T21:49:23.707920Z",
     "shell.execute_reply.started": "2023-01-16T21:49:23.696921Z"
    }
   },
   "outputs": [
    {
     "data": {
      "text/plain": [
       "['ov', 'el', 'am', 'on', 'er', 'ul', 'am']"
      ]
     },
     "execution_count": 308,
     "metadata": {},
     "output_type": "execute_result"
    }
   ],
   "source": [
    "re.findall('[aeiou][^aeiou]', question)  # returns a list"
   ]
  },
  {
   "cell_type": "code",
   "execution_count": 309,
   "id": "5323b29f-3e19-46d5-9271-5673791a6524",
   "metadata": {
    "execution": {
     "iopub.execute_input": "2023-01-16T21:50:36.335721Z",
     "iopub.status.busy": "2023-01-16T21:50:36.334732Z",
     "iopub.status.idle": "2023-01-16T21:50:36.355721Z",
     "shell.execute_reply": "2023-01-16T21:50:36.355721Z",
     "shell.execute_reply.started": "2023-01-16T21:50:36.334732Z"
    }
   },
   "outputs": [
    {
     "data": {
      "text/plain": [
       "<callable_iterator at 0x14591fa7c10>"
      ]
     },
     "execution_count": 309,
     "metadata": {},
     "output_type": "execute_result"
    }
   ],
   "source": [
    "re.finditer('[aeiou][^aeiou]', question)  # returns a list"
   ]
  },
  {
   "cell_type": "code",
   "execution_count": 311,
   "id": "070cadab-c04b-4e00-a38a-f45b6cfbbde6",
   "metadata": {
    "execution": {
     "iopub.execute_input": "2023-01-16T21:52:07.019041Z",
     "iopub.status.busy": "2023-01-16T21:52:07.019041Z",
     "iopub.status.idle": "2023-01-16T21:52:07.029040Z",
     "shell.execute_reply": "2023-01-16T21:52:07.028053Z",
     "shell.execute_reply.started": "2023-01-16T21:52:07.019041Z"
    },
    "tags": []
   },
   "outputs": [
    {
     "name": "stdout",
     "output_type": "stream",
     "text": [
      "<re.Match object; span=(1, 3), match='ov'>\n",
      "<re.Match object; span=(3, 5), match='el'>\n",
      "<re.Match object; span=(9, 11), match='am'>\n",
      "<re.Match object; span=(14, 16), match='on'>\n",
      "<re.Match object; span=(17, 19), match='er'>\n",
      "<re.Match object; span=(20, 22), match='ul'>\n",
      "<re.Match object; span=(25, 27), match='am'>\n"
     ]
    },
    {
     "data": {
      "text/plain": [
       "[None, None, None, None, None, None, None]"
      ]
     },
     "execution_count": 311,
     "metadata": {},
     "output_type": "execute_result"
    }
   ],
   "source": [
    "[print(match) for match in re.finditer('[aeiou][^aeiou]', question) ]"
   ]
  },
  {
   "cell_type": "code",
   "execution_count": 312,
   "id": "6471111b-3866-4bc1-a50a-768ce7d71131",
   "metadata": {
    "execution": {
     "iopub.execute_input": "2023-01-16T21:55:36.982567Z",
     "iopub.status.busy": "2023-01-16T21:55:36.982567Z",
     "iopub.status.idle": "2023-01-16T21:55:36.991565Z",
     "shell.execute_reply": "2023-01-16T21:55:36.990565Z",
     "shell.execute_reply.started": "2023-01-16T21:55:36.982567Z"
    },
    "tags": []
   },
   "outputs": [
    {
     "data": {
      "text/plain": [
       "('one', 'two')"
      ]
     },
     "execution_count": 312,
     "metadata": {},
     "output_type": "execute_result"
    }
   ],
   "source": [
    "match = re.search(r'(\\w+), (\\w+)', 'one, two, three')\n",
    "match.groups()"
   ]
  },
  {
   "cell_type": "code",
   "execution_count": 314,
   "id": "9dfd79d5-c1b1-4c16-9cb6-0af2df29b080",
   "metadata": {
    "execution": {
     "iopub.execute_input": "2023-01-16T21:56:17.176516Z",
     "iopub.status.busy": "2023-01-16T21:56:17.176516Z",
     "iopub.status.idle": "2023-01-16T21:56:17.190542Z",
     "shell.execute_reply": "2023-01-16T21:56:17.189543Z",
     "shell.execute_reply.started": "2023-01-16T21:56:17.176516Z"
    },
    "tags": []
   },
   "outputs": [
    {
     "data": {
      "text/plain": [
       "'two'"
      ]
     },
     "execution_count": 314,
     "metadata": {},
     "output_type": "execute_result"
    }
   ],
   "source": [
    "match.group(2)"
   ]
  },
  {
   "cell_type": "code",
   "execution_count": 315,
   "id": "d2f63b0f-36e9-4de3-ac48-a46f2d8357e3",
   "metadata": {
    "execution": {
     "iopub.execute_input": "2023-01-16T21:56:31.522717Z",
     "iopub.status.busy": "2023-01-16T21:56:31.522717Z",
     "iopub.status.idle": "2023-01-16T21:56:31.529746Z",
     "shell.execute_reply": "2023-01-16T21:56:31.529746Z",
     "shell.execute_reply.started": "2023-01-16T21:56:31.522717Z"
    }
   },
   "outputs": [
    {
     "data": {
      "text/plain": [
       "('two', 'one')"
      ]
     },
     "execution_count": 315,
     "metadata": {},
     "output_type": "execute_result"
    }
   ],
   "source": [
    "match.group(2, 1)"
   ]
  },
  {
   "cell_type": "code",
   "execution_count": 316,
   "id": "0e15bd93-3cbc-40ca-b1a9-ab62924079a9",
   "metadata": {
    "execution": {
     "iopub.execute_input": "2023-01-16T21:56:40.948055Z",
     "iopub.status.busy": "2023-01-16T21:56:40.948055Z",
     "iopub.status.idle": "2023-01-16T21:56:40.957594Z",
     "shell.execute_reply": "2023-01-16T21:56:40.957594Z",
     "shell.execute_reply.started": "2023-01-16T21:56:40.948055Z"
    }
   },
   "outputs": [
    {
     "data": {
      "text/plain": [
       "'one, two'"
      ]
     },
     "execution_count": 316,
     "metadata": {},
     "output_type": "execute_result"
    }
   ],
   "source": [
    "match.group(0)"
   ]
  },
  {
   "cell_type": "code",
   "execution_count": 317,
   "id": "cb75be1d-246d-4313-980e-0d4ae9cb5933",
   "metadata": {
    "execution": {
     "iopub.execute_input": "2023-01-16T21:56:51.990041Z",
     "iopub.status.busy": "2023-01-16T21:56:51.989051Z",
     "iopub.status.idle": "2023-01-16T21:56:52.005040Z",
     "shell.execute_reply": "2023-01-16T21:56:52.005040Z",
     "shell.execute_reply.started": "2023-01-16T21:56:51.990041Z"
    }
   },
   "outputs": [
    {
     "data": {
      "text/plain": [
       "'one'"
      ]
     },
     "execution_count": 317,
     "metadata": {},
     "output_type": "execute_result"
    }
   ],
   "source": [
    "match[1]"
   ]
  },
  {
   "cell_type": "code",
   "execution_count": 318,
   "id": "c3d499c1-03eb-4e42-bc6a-5bb67dceecff",
   "metadata": {
    "execution": {
     "iopub.execute_input": "2023-01-16T21:56:58.232370Z",
     "iopub.status.busy": "2023-01-16T21:56:58.232370Z",
     "iopub.status.idle": "2023-01-16T21:56:58.251370Z",
     "shell.execute_reply": "2023-01-16T21:56:58.250376Z",
     "shell.execute_reply.started": "2023-01-16T21:56:58.232370Z"
    }
   },
   "outputs": [
    {
     "data": {
      "text/plain": [
       "'one, two'"
      ]
     },
     "execution_count": 318,
     "metadata": {},
     "output_type": "execute_result"
    }
   ],
   "source": [
    "match[0]"
   ]
  },
  {
   "cell_type": "code",
   "execution_count": 319,
   "id": "d5af1527-32a0-427f-aa1f-2feb57a954a7",
   "metadata": {
    "execution": {
     "iopub.execute_input": "2023-01-16T21:58:06.520927Z",
     "iopub.status.busy": "2023-01-16T21:58:06.519943Z",
     "iopub.status.idle": "2023-01-16T21:58:06.534934Z",
     "shell.execute_reply": "2023-01-16T21:58:06.534934Z",
     "shell.execute_reply.started": "2023-01-16T21:58:06.520927Z"
    }
   },
   "outputs": [
    {
     "data": {
      "text/plain": [
       "\"second was 'two', first was 'one'\""
      ]
     },
     "execution_count": 319,
     "metadata": {},
     "output_type": "execute_result"
    }
   ],
   "source": [
    "match.expand(\"second was '\\\\2', first was '\\\\1'\")"
   ]
  },
  {
   "cell_type": "code",
   "execution_count": 321,
   "id": "bf621761-c554-47b5-b1d4-0978bf0e8215",
   "metadata": {
    "execution": {
     "iopub.execute_input": "2023-01-16T21:59:39.946411Z",
     "iopub.status.busy": "2023-01-16T21:59:39.945412Z",
     "iopub.status.idle": "2023-01-16T21:59:39.958411Z",
     "shell.execute_reply": "2023-01-16T21:59:39.957410Z",
     "shell.execute_reply.started": "2023-01-16T21:59:39.946411Z"
    },
    "tags": []
   },
   "outputs": [
    {
     "data": {
      "text/plain": [
       "<re.Match object; span=(4, 7), match='123'>"
      ]
     },
     "execution_count": 321,
     "metadata": {},
     "output_type": "execute_result"
    }
   ],
   "source": [
    "match = re.search('123', 'abc,123,xyz')\n",
    "match"
   ]
  },
  {
   "cell_type": "code",
   "execution_count": 322,
   "id": "ff81f859-be02-44ce-916f-5c3e534608e7",
   "metadata": {
    "execution": {
     "iopub.execute_input": "2023-01-16T21:59:59.145290Z",
     "iopub.status.busy": "2023-01-16T21:59:59.144241Z",
     "iopub.status.idle": "2023-01-16T21:59:59.163308Z",
     "shell.execute_reply": "2023-01-16T21:59:59.162269Z",
     "shell.execute_reply.started": "2023-01-16T21:59:59.145290Z"
    }
   },
   "outputs": [
    {
     "data": {
      "text/plain": [
       "4"
      ]
     },
     "execution_count": 322,
     "metadata": {},
     "output_type": "execute_result"
    }
   ],
   "source": [
    "match.start()"
   ]
  },
  {
   "cell_type": "code",
   "execution_count": 323,
   "id": "80e875b3-e835-43e3-b409-86c42f4b8398",
   "metadata": {
    "execution": {
     "iopub.execute_input": "2023-01-16T22:00:05.038168Z",
     "iopub.status.busy": "2023-01-16T22:00:05.038168Z",
     "iopub.status.idle": "2023-01-16T22:00:05.056167Z",
     "shell.execute_reply": "2023-01-16T22:00:05.055167Z",
     "shell.execute_reply.started": "2023-01-16T22:00:05.038168Z"
    }
   },
   "outputs": [
    {
     "data": {
      "text/plain": [
       "7"
      ]
     },
     "execution_count": 323,
     "metadata": {},
     "output_type": "execute_result"
    }
   ],
   "source": [
    "match.end()"
   ]
  },
  {
   "cell_type": "code",
   "execution_count": 324,
   "id": "e170f3f2-052b-4337-a5fc-857038abad85",
   "metadata": {
    "execution": {
     "iopub.execute_input": "2023-01-16T22:00:13.672076Z",
     "iopub.status.busy": "2023-01-16T22:00:13.672076Z",
     "iopub.status.idle": "2023-01-16T22:00:13.680074Z",
     "shell.execute_reply": "2023-01-16T22:00:13.679074Z",
     "shell.execute_reply.started": "2023-01-16T22:00:13.672076Z"
    }
   },
   "outputs": [
    {
     "data": {
      "text/plain": [
       "'abc,123,xyz'"
      ]
     },
     "execution_count": 324,
     "metadata": {},
     "output_type": "execute_result"
    }
   ],
   "source": [
    "match.string"
   ]
  },
  {
   "cell_type": "code",
   "execution_count": 326,
   "id": "5bfcb27a-08e3-4412-9425-0e5e672b5076",
   "metadata": {
    "execution": {
     "iopub.execute_input": "2023-01-16T22:08:04.104260Z",
     "iopub.status.busy": "2023-01-16T22:08:04.104260Z",
     "iopub.status.idle": "2023-01-16T22:08:04.119263Z",
     "shell.execute_reply": "2023-01-16T22:08:04.118271Z",
     "shell.execute_reply.started": "2023-01-16T22:08:04.104260Z"
    },
    "tags": []
   },
   "outputs": [],
   "source": [
    "match = re.search(r'\\w+\\\\\\w+', r'one\\two')"
   ]
  },
  {
   "cell_type": "code",
   "execution_count": 327,
   "id": "89ff593e-33d9-4d6f-abe3-e85bbed355a2",
   "metadata": {
    "execution": {
     "iopub.execute_input": "2023-01-16T22:08:14.224486Z",
     "iopub.status.busy": "2023-01-16T22:08:14.224486Z",
     "iopub.status.idle": "2023-01-16T22:08:14.230486Z",
     "shell.execute_reply": "2023-01-16T22:08:14.230486Z",
     "shell.execute_reply.started": "2023-01-16T22:08:14.224486Z"
    },
    "tags": []
   },
   "outputs": [
    {
     "data": {
      "text/plain": [
       "'one\\\\two'"
      ]
     },
     "execution_count": 327,
     "metadata": {},
     "output_type": "execute_result"
    }
   ],
   "source": [
    "match.string"
   ]
  },
  {
   "cell_type": "code",
   "execution_count": 328,
   "id": "c2694bfa-f1f6-4d66-8e96-9d43e5b081f9",
   "metadata": {
    "execution": {
     "iopub.execute_input": "2023-01-16T22:17:34.925444Z",
     "iopub.status.busy": "2023-01-16T22:17:34.925444Z",
     "iopub.status.idle": "2023-01-16T22:17:34.939446Z",
     "shell.execute_reply": "2023-01-16T22:17:34.938467Z",
     "shell.execute_reply.started": "2023-01-16T22:17:34.925444Z"
    },
    "tags": []
   },
   "outputs": [
    {
     "data": {
      "text/plain": [
       "<re.Match object; span=(19, 34), match='one, two, three'>"
      ]
     },
     "execution_count": 328,
     "metadata": {},
     "output_type": "execute_result"
    }
   ],
   "source": [
    "content = \"I count like this: one, two, three\"\n",
    "match = re.search(r\"(\\w+), (\\w+), (\\w+)\", content)\n",
    "match"
   ]
  },
  {
   "cell_type": "code",
   "execution_count": 329,
   "id": "341e37bb-8516-475e-95de-ce6b47505181",
   "metadata": {
    "execution": {
     "iopub.execute_input": "2023-01-17T10:24:15.232036Z",
     "iopub.status.busy": "2023-01-17T10:24:15.231016Z",
     "iopub.status.idle": "2023-01-17T10:24:15.248655Z",
     "shell.execute_reply": "2023-01-17T10:24:15.247648Z",
     "shell.execute_reply.started": "2023-01-17T10:24:15.232036Z"
    },
    "tags": []
   },
   "outputs": [
    {
     "data": {
      "text/plain": [
       "('one', 'two', 'three')"
      ]
     },
     "execution_count": 329,
     "metadata": {},
     "output_type": "execute_result"
    }
   ],
   "source": [
    "match.groups()"
   ]
  },
  {
   "cell_type": "code",
   "execution_count": 331,
   "id": "331c1796-6e1b-4128-b2a6-e706db2258b1",
   "metadata": {
    "execution": {
     "iopub.execute_input": "2023-01-17T10:27:09.937967Z",
     "iopub.status.busy": "2023-01-17T10:27:09.936956Z",
     "iopub.status.idle": "2023-01-17T10:27:09.947953Z",
     "shell.execute_reply": "2023-01-17T10:27:09.946973Z",
     "shell.execute_reply.started": "2023-01-17T10:27:09.937967Z"
    },
    "tags": []
   },
   "outputs": [],
   "source": [
    "\n",
    "match = re.search(r\"(?P<first>\\w+), (?P<second>\\w+), (?P<third>\\w+)\", content)"
   ]
  },
  {
   "cell_type": "code",
   "execution_count": 332,
   "id": "3b772dd2-a05d-4c1a-994f-ce6da20d5125",
   "metadata": {
    "execution": {
     "iopub.execute_input": "2023-01-17T10:27:17.677676Z",
     "iopub.status.busy": "2023-01-17T10:27:17.676682Z",
     "iopub.status.idle": "2023-01-17T10:27:17.696681Z",
     "shell.execute_reply": "2023-01-17T10:27:17.695708Z",
     "shell.execute_reply.started": "2023-01-17T10:27:17.677676Z"
    }
   },
   "outputs": [
    {
     "data": {
      "text/plain": [
       "('one', 'two', 'three')"
      ]
     },
     "execution_count": 332,
     "metadata": {},
     "output_type": "execute_result"
    }
   ],
   "source": [
    "match.groups()"
   ]
  },
  {
   "cell_type": "code",
   "execution_count": 333,
   "id": "dd487688-2074-4417-85fb-026d785d26c3",
   "metadata": {
    "execution": {
     "iopub.execute_input": "2023-01-17T10:27:29.025301Z",
     "iopub.status.busy": "2023-01-17T10:27:29.025301Z",
     "iopub.status.idle": "2023-01-17T10:27:29.035301Z",
     "shell.execute_reply": "2023-01-17T10:27:29.034301Z",
     "shell.execute_reply.started": "2023-01-17T10:27:29.025301Z"
    }
   },
   "outputs": [
    {
     "data": {
      "text/plain": [
       "{'first': 'one', 'second': 'two', 'third': 'three'}"
      ]
     },
     "execution_count": 333,
     "metadata": {},
     "output_type": "execute_result"
    }
   ],
   "source": [
    "match.groupdict()"
   ]
  },
  {
   "cell_type": "code",
   "execution_count": 336,
   "id": "106d0b6f-4b10-4dbc-bb2b-d62549830d9d",
   "metadata": {
    "execution": {
     "iopub.execute_input": "2023-01-17T10:32:05.038662Z",
     "iopub.status.busy": "2023-01-17T10:32:05.038662Z",
     "iopub.status.idle": "2023-01-17T10:32:05.059646Z",
     "shell.execute_reply": "2023-01-17T10:32:05.058645Z",
     "shell.execute_reply.started": "2023-01-17T10:32:05.038662Z"
    },
    "tags": []
   },
   "outputs": [
    {
     "data": {
      "text/plain": [
       "('one', 'three')"
      ]
     },
     "execution_count": 336,
     "metadata": {},
     "output_type": "execute_result"
    }
   ],
   "source": [
    "# non capturing group in the middle\n",
    "match = re.search(r\"(?P<first>\\w+), (?:\\w+), (?P<third>\\w+)\", content)\n",
    "match.groups()"
   ]
  },
  {
   "cell_type": "code",
   "execution_count": 345,
   "id": "e7f4dc9e-d6b1-426f-a327-e34bed547173",
   "metadata": {
    "execution": {
     "iopub.execute_input": "2023-01-17T10:38:32.090729Z",
     "iopub.status.busy": "2023-01-17T10:38:32.090729Z",
     "iopub.status.idle": "2023-01-17T10:38:32.109698Z",
     "shell.execute_reply": "2023-01-17T10:38:32.108725Z",
     "shell.execute_reply.started": "2023-01-17T10:38:32.090729Z"
    },
    "tags": []
   },
   "outputs": [
    {
     "data": {
      "text/plain": [
       "('one', 'three')"
      ]
     },
     "execution_count": 345,
     "metadata": {},
     "output_type": "execute_result"
    }
   ],
   "source": [
    "# reusing the group's name\n",
    "content = \"I count like this: one, one, three\"\n",
    "match = re.search(r\"(?P<first>\\w+), (?P=first), (?P<third>\\w+)\", content)\n",
    "match.groups() # doesn't work for some reason"
   ]
  },
  {
   "cell_type": "code",
   "execution_count": 348,
   "id": "c376be71-a337-469d-8b71-ac8465a10d32",
   "metadata": {
    "execution": {
     "iopub.execute_input": "2023-01-17T10:40:25.216634Z",
     "iopub.status.busy": "2023-01-17T10:40:25.216634Z",
     "iopub.status.idle": "2023-01-17T10:40:25.234624Z",
     "shell.execute_reply": "2023-01-17T10:40:25.233649Z",
     "shell.execute_reply.started": "2023-01-17T10:40:25.216634Z"
    },
    "tags": []
   },
   "outputs": [
    {
     "data": {
      "text/plain": [
       "('a', 'e')"
      ]
     },
     "execution_count": 348,
     "metadata": {},
     "output_type": "execute_result"
    }
   ],
   "source": [
    "# non capturing group\n",
    "string = \"Idon't care if you dont'\"\n",
    "match = re.search(r\"(a)(?:r)(e)\", string)\n",
    "match.groups()"
   ]
  },
  {
   "cell_type": "code",
   "execution_count": 369,
   "id": "8fa3aefa-0b2b-4c32-a299-9ce3d4fe8ce5",
   "metadata": {
    "execution": {
     "iopub.execute_input": "2023-01-17T10:50:44.010005Z",
     "iopub.status.busy": "2023-01-17T10:50:44.010005Z",
     "iopub.status.idle": "2023-01-17T10:50:44.023985Z",
     "shell.execute_reply": "2023-01-17T10:50:44.023035Z",
     "shell.execute_reply.started": "2023-01-17T10:50:44.010005Z"
    },
    "tags": []
   },
   "outputs": [
    {
     "data": {
      "text/plain": [
       "['13', '42']"
      ]
     },
     "execution_count": 369,
     "metadata": {},
     "output_type": "execute_result"
    }
   ],
   "source": [
    "# match = re.match(r\"\\d+\", content).groups() # no matches\n",
    "match = re.search(r\"\\d+\", content)\n",
    "match.groups() # doesn't find anything. I don't know why\n",
    "\n",
    "matches = re.findall(r\"\\d+\", content)\n",
    "match # finds both digits\n",
    "\n",
    "matches = re.finditer(r\"\\d+\", content)\n",
    "match = [match.group() for match in matches]\n",
    "match # finds both digits"
   ]
  },
  {
   "cell_type": "code",
   "execution_count": 370,
   "id": "822b40d1-6f4f-4ba4-b426-cc1f462a715e",
   "metadata": {
    "execution": {
     "iopub.execute_input": "2023-01-17T10:51:16.045093Z",
     "iopub.status.busy": "2023-01-17T10:51:16.045093Z",
     "iopub.status.idle": "2023-01-17T10:51:16.065072Z",
     "shell.execute_reply": "2023-01-17T10:51:16.064071Z",
     "shell.execute_reply.started": "2023-01-17T10:51:16.045093Z"
    },
    "tags": []
   },
   "outputs": [
    {
     "data": {
      "text/plain": [
       "'My favorite numbers are # and #'"
      ]
     },
     "execution_count": 370,
     "metadata": {},
     "output_type": "execute_result"
    }
   ],
   "source": [
    "content = \"My favorite numbers are 13 and 42\"\n",
    "re.sub(r\"\\d+\", \"#\", content)"
   ]
  },
  {
   "cell_type": "code",
   "execution_count": 372,
   "id": "708bbc38-2c92-4f37-bf6b-0d902d624b62",
   "metadata": {
    "execution": {
     "iopub.execute_input": "2023-01-17T10:52:20.572602Z",
     "iopub.status.busy": "2023-01-17T10:52:20.571586Z",
     "iopub.status.idle": "2023-01-17T10:52:20.579588Z",
     "shell.execute_reply": "2023-01-17T10:52:20.578634Z",
     "shell.execute_reply.started": "2023-01-17T10:52:20.572602Z"
    },
    "tags": []
   },
   "outputs": [
    {
     "data": {
      "text/plain": [
       "'My favorite numbers are # and 42'"
      ]
     },
     "execution_count": 372,
     "metadata": {},
     "output_type": "execute_result"
    }
   ],
   "source": [
    "re.sub(r\"\\d+\", \"#\", content, count=1) # indicates that only the first match will be substituted"
   ]
  },
  {
   "cell_type": "code",
   "execution_count": 374,
   "id": "98a9b7d3-d263-45d7-b557-1b9d2658964a",
   "metadata": {
    "execution": {
     "iopub.execute_input": "2023-01-17T10:53:35.283049Z",
     "iopub.status.busy": "2023-01-17T10:53:35.282035Z",
     "iopub.status.idle": "2023-01-17T10:53:35.293038Z",
     "shell.execute_reply": "2023-01-17T10:53:35.292036Z",
     "shell.execute_reply.started": "2023-01-17T10:53:35.283049Z"
    },
    "tags": []
   },
   "outputs": [
    {
     "data": {
      "text/plain": [
       "'My favorite numbers are # and #'"
      ]
     },
     "execution_count": 374,
     "metadata": {},
     "output_type": "execute_result"
    }
   ],
   "source": [
    "re.sub(r\"\\d+\", \"#\", content, count=2) # indicates that only the first match will be substituted"
   ]
  },
  {
   "cell_type": "code",
   "execution_count": 375,
   "id": "26726ee3-ff46-4a68-979f-4c5d8409e8c7",
   "metadata": {
    "execution": {
     "iopub.execute_input": "2023-01-17T10:55:01.037551Z",
     "iopub.status.busy": "2023-01-17T10:55:01.036539Z",
     "iopub.status.idle": "2023-01-17T10:55:01.048537Z",
     "shell.execute_reply": "2023-01-17T10:55:01.047564Z",
     "shell.execute_reply.started": "2023-01-17T10:55:01.037551Z"
    }
   },
   "outputs": [
    {
     "data": {
      "text/plain": [
       "'My favorite numbers are 31 and 24'"
      ]
     },
     "execution_count": 375,
     "metadata": {},
     "output_type": "execute_result"
    }
   ],
   "source": [
    "# use a function in sub\n",
    "def reverse(match):\n",
    "    return match.group(0)[::-1] # slice reverses the string\n",
    "\n",
    "re.sub(r\"\\d+\", reverse, content)"
   ]
  },
  {
   "cell_type": "code",
   "execution_count": 379,
   "id": "cde4d9f4-dc77-41b1-9114-77edfc6c039e",
   "metadata": {
    "execution": {
     "iopub.execute_input": "2023-01-17T10:58:06.794635Z",
     "iopub.status.busy": "2023-01-17T10:58:06.794635Z",
     "iopub.status.idle": "2023-01-17T10:58:06.802640Z",
     "shell.execute_reply": "2023-01-17T10:58:06.802640Z",
     "shell.execute_reply.started": "2023-01-17T10:58:06.794635Z"
    },
    "tags": []
   },
   "outputs": [
    {
     "data": {
      "text/plain": [
       "'My favorite numbers are 42 and 13'"
      ]
     },
     "execution_count": 379,
     "metadata": {},
     "output_type": "execute_result"
    }
   ],
   "source": [
    "# using back references for swapping matches\n",
    "content = \"My favorite numbers are 13 and 42\"\n",
    "re.sub(r\"(\\d+) and (\\d+)\", r\"\\2 and \\1\", content)"
   ]
  },
  {
   "cell_type": "code",
   "execution_count": 380,
   "id": "d6d0bcd8-e288-4f5a-89d2-1661fac0d7e6",
   "metadata": {
    "execution": {
     "iopub.execute_input": "2023-01-17T10:59:57.998583Z",
     "iopub.status.busy": "2023-01-17T10:59:57.998583Z",
     "iopub.status.idle": "2023-01-17T10:59:58.010593Z",
     "shell.execute_reply": "2023-01-17T10:59:58.009583Z",
     "shell.execute_reply.started": "2023-01-17T10:59:57.998583Z"
    },
    "tags": []
   },
   "outputs": [
    {
     "data": {
      "text/plain": [
       "'My favorite numbers are ... and ...'"
      ]
     },
     "execution_count": 380,
     "metadata": {},
     "output_type": "execute_result"
    }
   ],
   "source": [
    "# using back references for swapping matches\n",
    "content = \"My favorite numbers are 13 and 42\"\n",
    "re.sub(r\"(\\d+) and (\\d+)\", r\"... and ...\", content)"
   ]
  },
  {
   "cell_type": "code",
   "execution_count": 384,
   "id": "bf4c7717-ae69-4bef-b84a-41529bef70ab",
   "metadata": {
    "execution": {
     "iopub.execute_input": "2023-01-17T11:03:02.358673Z",
     "iopub.status.busy": "2023-01-17T11:03:02.358673Z",
     "iopub.status.idle": "2023-01-17T11:03:02.373690Z",
     "shell.execute_reply": "2023-01-17T11:03:02.372675Z",
     "shell.execute_reply.started": "2023-01-17T11:03:02.358673Z"
    },
    "tags": []
   },
   "outputs": [
    {
     "data": {
      "text/plain": [
       "'My favorite numbers are 13 and 42'"
      ]
     },
     "execution_count": 384,
     "metadata": {},
     "output_type": "execute_result"
    }
   ],
   "source": [
    "# using back references for swapping matches\n",
    "content = \"My favorite numbers are 13 and 42\"\n",
    "re.sub(r\"(\\d+) and (\\1)\", r\"... and is the same\", content) # if `\\1` exists, the swapp happens, if there are no\n",
    "# repeating matches, then no swap"
   ]
  },
  {
   "cell_type": "code",
   "execution_count": 390,
   "id": "8c55e67e-4156-4cda-b5bb-87d69502ac81",
   "metadata": {
    "execution": {
     "iopub.execute_input": "2023-01-17T11:09:42.350456Z",
     "iopub.status.busy": "2023-01-17T11:09:42.350456Z",
     "iopub.status.idle": "2023-01-17T11:09:42.371388Z",
     "shell.execute_reply": "2023-01-17T11:09:42.370383Z",
     "shell.execute_reply.started": "2023-01-17T11:09:42.350456Z"
    },
    "tags": []
   },
   "outputs": [
    {
     "data": {
      "text/plain": [
       "'Is this a 10?'"
      ]
     },
     "execution_count": 390,
     "metadata": {},
     "output_type": "execute_result"
    }
   ],
   "source": [
    "# re.sub(r\"(\\d+)\", r\"\\10\", \"Is this a 1?\") # error\n",
    "re.sub(r\"(\\d+)\", r\"\\g<1>0\", \"Is this a 1?\") # substitute the match by itself plus `0`"
   ]
  },
  {
   "cell_type": "code",
   "execution_count": 392,
   "id": "22674a4f-035a-437c-aa20-32965b6044dd",
   "metadata": {
    "execution": {
     "iopub.execute_input": "2023-01-17T11:11:32.475152Z",
     "iopub.status.busy": "2023-01-17T11:11:32.475152Z",
     "iopub.status.idle": "2023-01-17T11:11:32.486134Z",
     "shell.execute_reply": "2023-01-17T11:11:32.485120Z",
     "shell.execute_reply.started": "2023-01-17T11:11:32.475152Z"
    },
    "tags": []
   },
   "outputs": [
    {
     "data": {
      "text/plain": [
       "'-s-p-a-m-'"
      ]
     },
     "execution_count": 392,
     "metadata": {},
     "output_type": "execute_result"
    }
   ],
   "source": [
    "re.sub(r\"x*\", \"-\", \"spam\") # `x*` zero or more x is substituted with `-`"
   ]
  },
  {
   "cell_type": "code",
   "execution_count": 394,
   "id": "11cdddd4-680e-4437-8854-ccfda39b73f8",
   "metadata": {
    "execution": {
     "iopub.execute_input": "2023-01-17T11:12:42.828731Z",
     "iopub.status.busy": "2023-01-17T11:12:42.827731Z",
     "iopub.status.idle": "2023-01-17T11:12:42.834710Z",
     "shell.execute_reply": "2023-01-17T11:12:42.834710Z",
     "shell.execute_reply.started": "2023-01-17T11:12:42.828731Z"
    },
    "tags": []
   },
   "outputs": [
    {
     "data": {
      "text/plain": [
       "('-s-p-a-m-', 5)"
      ]
     },
     "execution_count": 394,
     "metadata": {},
     "output_type": "execute_result"
    }
   ],
   "source": [
    "re.subn(r\"x*\", \"-\", \"spam\") # `x*` zero or more x is substituted with `-`\n",
    "# n show how many substitutins have happened"
   ]
  },
  {
   "cell_type": "code",
   "execution_count": 395,
   "id": "5ea96010-9f83-400b-a75e-b988bf1a1788",
   "metadata": {
    "execution": {
     "iopub.execute_input": "2023-01-17T11:13:59.924444Z",
     "iopub.status.busy": "2023-01-17T11:13:59.924444Z",
     "iopub.status.idle": "2023-01-17T11:13:59.934435Z",
     "shell.execute_reply": "2023-01-17T11:13:59.933462Z",
     "shell.execute_reply.started": "2023-01-17T11:13:59.924444Z"
    }
   },
   "outputs": [
    {
     "data": {
      "text/plain": [
       "['My favorite numbers are ', ' and ', '']"
      ]
     },
     "execution_count": 395,
     "metadata": {},
     "output_type": "execute_result"
    }
   ],
   "source": [
    "re.split(r\"\\d+\", \"My favorite numbers are 13 and 42\") # the matches are not included"
   ]
  },
  {
   "cell_type": "code",
   "execution_count": 396,
   "id": "d6df9899-2b06-442c-bf1a-34e298d9ace1",
   "metadata": {
    "execution": {
     "iopub.execute_input": "2023-01-17T11:14:50.112058Z",
     "iopub.status.busy": "2023-01-17T11:14:50.112058Z",
     "iopub.status.idle": "2023-01-17T11:14:50.117035Z",
     "shell.execute_reply": "2023-01-17T11:14:50.117035Z",
     "shell.execute_reply.started": "2023-01-17T11:14:50.112058Z"
    },
    "tags": []
   },
   "outputs": [
    {
     "data": {
      "text/plain": [
       "['My favorite numbers are ', ' and 42']"
      ]
     },
     "execution_count": 396,
     "metadata": {},
     "output_type": "execute_result"
    }
   ],
   "source": [
    "re.split(r\"\\d+\", \"My favorite numbers are 13 and 42\", maxsplit=1)"
   ]
  },
  {
   "cell_type": "code",
   "execution_count": 397,
   "id": "26070d9a-72d8-45ed-953c-3e70de52a293",
   "metadata": {
    "execution": {
     "iopub.execute_input": "2023-01-17T11:16:12.228070Z",
     "iopub.status.busy": "2023-01-17T11:16:12.228070Z",
     "iopub.status.idle": "2023-01-17T11:16:12.244069Z",
     "shell.execute_reply": "2023-01-17T11:16:12.243069Z",
     "shell.execute_reply.started": "2023-01-17T11:16:12.228070Z"
    },
    "tags": []
   },
   "outputs": [
    {
     "data": {
      "text/plain": [
       "['My favorite numbers are ', '13', ' and ', '42', '']"
      ]
     },
     "execution_count": 397,
     "metadata": {},
     "output_type": "execute_result"
    }
   ],
   "source": [
    "re.split(r\"(\\d+)\", \"My favorite numbers are 13 and 42\") # the matches ARE included"
   ]
  },
  {
   "cell_type": "code",
   "execution_count": 400,
   "id": "9ee20ef4-2cde-4474-90a7-ecadeb592b6b",
   "metadata": {
    "execution": {
     "iopub.execute_input": "2023-01-17T11:19:48.050694Z",
     "iopub.status.busy": "2023-01-17T11:19:48.050694Z",
     "iopub.status.idle": "2023-01-17T11:19:48.061711Z",
     "shell.execute_reply": "2023-01-17T11:19:48.061711Z",
     "shell.execute_reply.started": "2023-01-17T11:19:48.050694Z"
    },
    "tags": []
   },
   "outputs": [
    {
     "data": {
      "text/plain": [
       "['2^2']"
      ]
     },
     "execution_count": 400,
     "metadata": {},
     "output_type": "execute_result"
    }
   ],
   "source": [
    "re.findall(r\"2^4\", \"Even more than 2^2 is 2^4\") # nothing is found\n",
    "regex = re.escape(\"2^2\")\n",
    "re.findall(regex, \"Even more than 2^2 is 2^4\") # now it's found!"
   ]
  },
  {
   "cell_type": "code",
   "execution_count": 403,
   "id": "5170ce47-dc20-42e5-9c3f-7fa0b7bc1a02",
   "metadata": {
    "execution": {
     "iopub.execute_input": "2023-01-17T11:51:29.126169Z",
     "iopub.status.busy": "2023-01-17T11:51:29.126169Z",
     "iopub.status.idle": "2023-01-17T11:51:29.143698Z",
     "shell.execute_reply": "2023-01-17T11:51:29.142692Z",
     "shell.execute_reply.started": "2023-01-17T11:51:29.126169Z"
    },
    "tags": []
   },
   "outputs": [
    {
     "data": {
      "text/plain": [
       "<re.Match object; span=(24, 26), match='13'>"
      ]
     },
     "execution_count": 403,
     "metadata": {},
     "output_type": "execute_result"
    }
   ],
   "source": [
    "digits_re = re.compile(\"(\\d+)\")\n",
    "digits_re\n",
    "digits_re.search(\"My favorite numbers are 13 and 42.\")"
   ]
  },
  {
   "cell_type": "code",
   "execution_count": 412,
   "id": "855f6cb6-a59c-4b48-ac8d-33d471ad9893",
   "metadata": {
    "execution": {
     "iopub.execute_input": "2023-01-17T12:14:40.053543Z",
     "iopub.status.busy": "2023-01-17T12:14:40.053543Z",
     "iopub.status.idle": "2023-01-17T12:14:46.181969Z",
     "shell.execute_reply": "2023-01-17T12:14:46.179984Z",
     "shell.execute_reply.started": "2023-01-17T12:14:40.053543Z"
    },
    "tags": []
   },
   "outputs": [
    {
     "data": {
      "text/plain": [
       "0"
      ]
     },
     "execution_count": 412,
     "metadata": {},
     "output_type": "execute_result"
    }
   ],
   "source": [
    "# import os\n",
    "# os.system('notepad.exe ' + 'speed2.html')"
   ]
  },
  {
   "cell_type": "code",
   "execution_count": 415,
   "id": "ba40c588-6d1d-488f-a4e0-69d69e7fba9d",
   "metadata": {
    "execution": {
     "iopub.execute_input": "2023-01-17T12:32:30.982619Z",
     "iopub.status.busy": "2023-01-17T12:32:30.981614Z",
     "iopub.status.idle": "2023-01-17T12:32:30.999614Z",
     "shell.execute_reply": "2023-01-17T12:32:30.999614Z",
     "shell.execute_reply.started": "2023-01-17T12:32:30.982619Z"
    },
    "tags": []
   },
   "outputs": [
    {
     "data": {
      "text/plain": [
       "['AAA']"
      ]
     },
     "execution_count": 415,
     "metadata": {},
     "output_type": "execute_result"
    }
   ],
   "source": [
    "re.findall(r\"a+\", \"AAA\")\n",
    "re.findall(r\"a+\", \"AAA\", re.I) # flag ignorecase is activated"
   ]
  },
  {
   "cell_type": "code",
   "execution_count": 417,
   "id": "b18cd18c-524a-4bfa-a4e5-c933248e2b5a",
   "metadata": {
    "execution": {
     "iopub.execute_input": "2023-01-17T12:34:10.028612Z",
     "iopub.status.busy": "2023-01-17T12:34:10.028612Z",
     "iopub.status.idle": "2023-01-17T12:34:10.045613Z",
     "shell.execute_reply": "2023-01-17T12:34:10.044654Z",
     "shell.execute_reply.started": "2023-01-17T12:34:10.028612Z"
    },
    "tags": []
   },
   "outputs": [
    {
     "data": {
      "text/plain": [
       "['I']"
      ]
     },
     "execution_count": 417,
     "metadata": {},
     "output_type": "execute_result"
    }
   ],
   "source": [
    "# multiline\n",
    "re.findall(r\"^I\", \"Yes, you did, no\\nI didn't\")\n",
    "re.findall(r\"^I\", \"Yes, you did, no\\nI didn't\", re.M)"
   ]
  },
  {
   "cell_type": "code",
   "execution_count": 419,
   "id": "c4c13547-a9ec-403f-ac38-a2cc8e16b362",
   "metadata": {
    "execution": {
     "iopub.execute_input": "2023-01-17T12:35:46.314592Z",
     "iopub.status.busy": "2023-01-17T12:35:46.313577Z",
     "iopub.status.idle": "2023-01-17T12:35:46.324579Z",
     "shell.execute_reply": "2023-01-17T12:35:46.323577Z",
     "shell.execute_reply.started": "2023-01-17T12:35:46.314592Z"
    },
    "tags": []
   },
   "outputs": [
    {
     "data": {
      "text/plain": [
       "[]"
      ]
     },
     "execution_count": 419,
     "metadata": {},
     "output_type": "execute_result"
    }
   ],
   "source": [
    "re.findall(r\"\\AI\", \"Yes, you did, no\\nI didn't\", re.M) # no match as \\A matches start of the whole string"
   ]
  },
  {
   "cell_type": "code",
   "execution_count": 457,
   "id": "f5bdde8f-c7f0-4530-b385-568b4d5911fc",
   "metadata": {
    "execution": {
     "iopub.execute_input": "2023-01-17T14:02:57.054098Z",
     "iopub.status.busy": "2023-01-17T14:02:57.054098Z",
     "iopub.status.idle": "2023-01-17T14:02:57.073099Z",
     "shell.execute_reply": "2023-01-17T14:02:57.072098Z",
     "shell.execute_reply.started": "2023-01-17T14:02:57.054098Z"
    },
    "tags": []
   },
   "outputs": [
    {
     "data": {
      "text/plain": [
       "['1\\n2']"
      ]
     },
     "execution_count": 457,
     "metadata": {},
     "output_type": "execute_result"
    }
   ],
   "source": [
    "re.findall(r\"1.2\", \"First 1\\n2 next\") # match anything between 1 and 2  # no match\n",
    "re.findall(r\"1.2\", \"First 1\\n2 next\", re.DOTALL | re.IGNORECASE) # the same but enabling newline match\n"
   ]
  },
  {
   "cell_type": "code",
   "execution_count": 450,
   "id": "6ad0cf59-b5d9-4ed8-a78c-ce9096bf68ef",
   "metadata": {
    "execution": {
     "iopub.execute_input": "2023-01-17T13:57:47.478495Z",
     "iopub.status.busy": "2023-01-17T13:57:47.477494Z",
     "iopub.status.idle": "2023-01-17T13:57:47.490492Z",
     "shell.execute_reply": "2023-01-17T13:57:47.489492Z",
     "shell.execute_reply.started": "2023-01-17T13:57:47.478495Z"
    },
    "tags": []
   },
   "outputs": [
    {
     "data": {
      "text/plain": [
       "'1 (416) 967-1111'"
      ]
     },
     "execution_count": 450,
     "metadata": {},
     "output_type": "execute_result"
    }
   ],
   "source": [
    "PHONE_REGEX = \"\"\"\n",
    "    (1\\s)?      # optional leading 1\n",
    "    \\(\\d\\d\\d\\)  # aread code\n",
    "    \\s\n",
    "    \\d\\d\\d-     # prefix\n",
    "    \\d\\d\\d\\d\n",
    "\"\"\"\n",
    "phone = re.compile(PHONE_REGEX, re.VERBOSE)\n",
    "phone.findall(\"1 (416) 967-1111\")\n",
    "phone.match(\"1 (416) 967-1111\").group()\n",
    "phone.search(\"1 (416) 967-1111\")[0]"
   ]
  },
  {
   "cell_type": "code",
   "execution_count": 456,
   "id": "0a345c79-5c5a-42f9-88ea-c216d838ac97",
   "metadata": {
    "execution": {
     "iopub.execute_input": "2023-01-17T14:01:09.683973Z",
     "iopub.status.busy": "2023-01-17T14:01:09.682979Z",
     "iopub.status.idle": "2023-01-17T14:01:09.692969Z",
     "shell.execute_reply": "2023-01-17T14:01:09.692969Z",
     "shell.execute_reply.started": "2023-01-17T14:01:09.683973Z"
    },
    "tags": []
   },
   "outputs": [
    {
     "data": {
      "text/plain": [
       "<re.Match object; span=(0, 11), match='bacon, eggs'>"
      ]
     },
     "execution_count": 456,
     "metadata": {},
     "output_type": "execute_result"
    }
   ],
   "source": [
    "re.search(\"bacon, eggs\", \"bacon, eggs, and spam\")[0]\n",
    "re.search(\"bacon, eggs\", \"bacon, eggs, and spam\", re.VERBOSE) # careful with verbose, sometimes we need to clearly\n",
    "# specify \\s\n",
    "re.search(\"bacon,\\s eggs\", \"bacon, eggs, and spam\", re.VERBOSE)"
   ]
  },
  {
   "cell_type": "code",
   "execution_count": 458,
   "id": "3624dc74-1f93-40be-9567-5c7d149c60bd",
   "metadata": {
    "execution": {
     "iopub.execute_input": "2023-01-17T14:06:25.298029Z",
     "iopub.status.busy": "2023-01-17T14:06:25.298029Z",
     "iopub.status.idle": "2023-01-17T14:06:25.309989Z",
     "shell.execute_reply": "2023-01-17T14:06:25.308976Z",
     "shell.execute_reply.started": "2023-01-17T14:06:25.298029Z"
    },
    "tags": []
   },
   "outputs": [
    {
     "data": {
      "text/plain": [
       "<re.Match object; span=(17, 18), match='I'>"
      ]
     },
     "execution_count": 458,
     "metadata": {},
     "output_type": "execute_result"
    }
   ],
   "source": [
    "# flags inside the group\n",
    "re.search(\"(?im)^i\", \"Yes, you did, no\\nI didn't\") # switches on the capital i"
   ]
  },
  {
   "cell_type": "code",
   "execution_count": 462,
   "id": "7f68f90e-e84d-4a62-85f7-642d05f5136c",
   "metadata": {
    "execution": {
     "iopub.execute_input": "2023-01-17T14:08:17.056088Z",
     "iopub.status.busy": "2023-01-17T14:08:17.056088Z",
     "iopub.status.idle": "2023-01-17T14:08:17.065120Z",
     "shell.execute_reply": "2023-01-17T14:08:17.064107Z",
     "shell.execute_reply.started": "2023-01-17T14:08:17.056088Z"
    },
    "tags": []
   },
   "outputs": [
    {
     "data": {
      "text/plain": [
       "['Spam', 'spam', 'spam']"
      ]
     },
     "execution_count": 462,
     "metadata": {},
     "output_type": "execute_result"
    }
   ],
   "source": [
    "# flags inside the group\n",
    "re.findall(\"(?i:s)pam\", \"Spam, spam, spam, SPAM\") # switches on the capital i"
   ]
  },
  {
   "cell_type": "code",
   "execution_count": 463,
   "id": "568abd78-084e-414f-8b03-75bcb9719a30",
   "metadata": {
    "execution": {
     "iopub.execute_input": "2023-01-17T14:26:12.058662Z",
     "iopub.status.busy": "2023-01-17T14:26:12.058662Z",
     "iopub.status.idle": "2023-01-17T14:26:12.075701Z",
     "shell.execute_reply": "2023-01-17T14:26:12.074690Z",
     "shell.execute_reply.started": "2023-01-17T14:26:12.058662Z"
    }
   },
   "outputs": [
    {
     "data": {
      "text/plain": [
       "'(ACME)?\\\\sSuper\\\\s(?(1)(Out)|\\\\w*(fit))'"
      ]
     },
     "execution_count": 463,
     "metadata": {},
     "output_type": "execute_result"
    }
   ],
   "source": [
    "# conditional\n",
    "\n",
    "r\"(ACME)?\\sSuper\\s(?(1)(Out)|\\w*(fit))\" # if ACME is found, then select `Super` and `out` and if not, then\n",
    "# select `Super` and any characters till and including `fit`"
   ]
  },
  {
   "cell_type": "code",
   "execution_count": null,
   "id": "6159cdfa-672c-46b8-98f1-9bb185da99aa",
   "metadata": {},
   "outputs": [],
   "source": [
    "# look ahead\n",
    "r\"writing\\s(?=t)\" # it checks for `writing t`, but it doesn't select the `t` itself. It just checks if it exists"
   ]
  },
  {
   "cell_type": "code",
   "execution_count": null,
   "id": "2f48bb24-1631-4a4b-9ba4-a0b20f83b221",
   "metadata": {},
   "outputs": [],
   "source": [
    "# look ahead\n",
    "r\"\\d{4}(?=\\[\\w\\])\" # 4 digits followded by `[\\w]`\n",
    "r\"\\d{4}(?!=\\[\\w\\])\" # negative lookahead # does not followed by `[\\w]`"
   ]
  },
  {
   "cell_type": "code",
   "execution_count": null,
   "id": "dfa1de38-a456-425b-99cf-103e39b55a18",
   "metadata": {},
   "outputs": [],
   "source": [
    "# look behind\n",
    "r\"(?<=\\d{4})\\[\\w\\]\" # checks if there are 4 digits before the `[\\w]` and selects it, but doesn't select the digits,\n",
    "# only checks their existence"
   ]
  },
  {
   "cell_type": "code",
   "execution_count": null,
   "id": "c0673593-10a9-462c-a119-af1a5105c5ba",
   "metadata": {},
   "outputs": [],
   "source": [
    "# negative look behind\n",
    "r\"(?<!\\d\\d)\\d\\d\" # 2 digits NOT preceded by 2 digits"
   ]
  },
  {
   "cell_type": "code",
   "execution_count": 464,
   "id": "cbf24cb0-191e-4317-893c-495607610b55",
   "metadata": {
    "execution": {
     "iopub.execute_input": "2023-01-17T14:41:17.204783Z",
     "iopub.status.busy": "2023-01-17T14:41:17.204783Z",
     "iopub.status.idle": "2023-01-17T14:41:17.223784Z",
     "shell.execute_reply": "2023-01-17T14:41:17.222783Z",
     "shell.execute_reply.started": "2023-01-17T14:41:17.204783Z"
    }
   },
   "outputs": [
    {
     "data": {
      "text/plain": [
       "'(\\\\d{4})(?#four digits)'"
      ]
     },
     "execution_count": 464,
     "metadata": {},
     "output_type": "execute_result"
    }
   ],
   "source": [
    "# comments inside regex\n",
    "r\"(\\d{4})(?#four digits)\" # anything inside `(?#four digits)` is ignored "
   ]
  },
  {
   "cell_type": "code",
   "execution_count": 465,
   "id": "baf659cd-580a-4a37-9fe4-11b6eb35d042",
   "metadata": {
    "execution": {
     "iopub.execute_input": "2023-01-17T16:05:52.233783Z",
     "iopub.status.busy": "2023-01-17T16:05:52.233783Z",
     "iopub.status.idle": "2023-01-17T16:05:52.241762Z",
     "shell.execute_reply": "2023-01-17T16:05:52.240762Z",
     "shell.execute_reply.started": "2023-01-17T16:05:52.233783Z"
    }
   },
   "outputs": [],
   "source": [
    "from pathlib import Path"
   ]
  },
  {
   "cell_type": "code",
   "execution_count": 545,
   "id": "b6aeec08-5888-4d9b-af5b-8e0261d06c71",
   "metadata": {
    "execution": {
     "iopub.execute_input": "2023-01-17T17:50:23.220003Z",
     "iopub.status.busy": "2023-01-17T17:50:23.219003Z",
     "iopub.status.idle": "2023-01-17T17:50:23.226005Z",
     "shell.execute_reply": "2023-01-17T17:50:23.225013Z",
     "shell.execute_reply.started": "2023-01-17T17:50:23.220003Z"
    },
    "tags": []
   },
   "outputs": [
    {
     "name": "stdout",
     "output_type": "stream",
     "text": [
      "CPU times: total: 0 ns\n",
      "Wall time: 0 ns\n"
     ]
    }
   ],
   "source": [
    "%%time\n",
    "import os\n",
    "directory = Path(r\"E:\\app_data\\dropbox_13f_files\\processed_tables\\TR_00_TEST_676_CIK_TXT\\936944\")\n",
    "\n",
    "for file in directory.glob(\"*.\"):\n",
    "    f = file.read_text().splitlines()\n",
    "    # [input(\"click yes after sorting the file\") for line in f if not line.find(\"0000936944\")]\n",
    "    # [os.system(\"notepad.exe \"+ file.as_posix()) for line in f if line.find(\"0000936944\")]\n",
    "\n",
    "# if file.read_text().find(\"0000936944\"):\n",
    "#     os.system(\"notepad.exe \"+ file.as_posix())\n"
   ]
  },
  {
   "cell_type": "code",
   "execution_count": 574,
   "id": "1726356e-4706-4ce1-a19a-b5a7ccad0111",
   "metadata": {
    "execution": {
     "iopub.execute_input": "2023-01-17T17:57:39.460205Z",
     "iopub.status.busy": "2023-01-17T17:57:39.460205Z",
     "iopub.status.idle": "2023-01-17T17:57:39.476205Z",
     "shell.execute_reply": "2023-01-17T17:57:39.475451Z",
     "shell.execute_reply.started": "2023-01-17T17:57:39.460205Z"
    },
    "tags": []
   },
   "outputs": [
    {
     "data": {
      "text/plain": [
       "6"
      ]
     },
     "execution_count": 574,
     "metadata": {},
     "output_type": "execute_result"
    }
   ],
   "source": [
    "# file.read_text().find(\"0000936944\")\n",
    "len(list(directory.glob(\"*-03-*.*\")))"
   ]
  },
  {
   "cell_type": "markdown",
   "id": "e374a781-0ad0-47fe-968a-b1d809c90f24",
   "metadata": {},
   "source": [
    "### Tutorial **Regex-In-Python** from github\n",
    "https://github.com/nikhilkumarsingh/RegEx-In-Python/blob/master/02.%20import%20re.ipynb"
   ]
  },
  {
   "cell_type": "code",
   "execution_count": 575,
   "id": "18d64b86-fb20-4778-a40f-df6a645a0647",
   "metadata": {
    "execution": {
     "iopub.execute_input": "2023-01-17T20:25:22.284906Z",
     "iopub.status.busy": "2023-01-17T20:25:22.283837Z",
     "iopub.status.idle": "2023-01-17T20:25:22.303838Z",
     "shell.execute_reply": "2023-01-17T20:25:22.302905Z",
     "shell.execute_reply.started": "2023-01-17T20:25:22.284906Z"
    }
   },
   "outputs": [],
   "source": [
    "pattern = re.compile(\"hello\")"
   ]
  },
  {
   "cell_type": "code",
   "execution_count": 576,
   "id": "7a22d319-2c93-4089-9ca5-f132784f921b",
   "metadata": {
    "execution": {
     "iopub.execute_input": "2023-01-17T20:25:26.629755Z",
     "iopub.status.busy": "2023-01-17T20:25:26.628754Z",
     "iopub.status.idle": "2023-01-17T20:25:26.646754Z",
     "shell.execute_reply": "2023-01-17T20:25:26.645778Z",
     "shell.execute_reply.started": "2023-01-17T20:25:26.629755Z"
    }
   },
   "outputs": [
    {
     "data": {
      "text/plain": [
       "re.compile(r'hello', re.UNICODE)"
      ]
     },
     "execution_count": 576,
     "metadata": {},
     "output_type": "execute_result"
    }
   ],
   "source": [
    "pattern"
   ]
  },
  {
   "cell_type": "code",
   "execution_count": 577,
   "id": "469236be-26be-4df0-bf85-6a7cef70e739",
   "metadata": {
    "execution": {
     "iopub.execute_input": "2023-01-17T20:26:18.034679Z",
     "iopub.status.busy": "2023-01-17T20:26:18.034679Z",
     "iopub.status.idle": "2023-01-17T20:26:18.043649Z",
     "shell.execute_reply": "2023-01-17T20:26:18.042669Z",
     "shell.execute_reply.started": "2023-01-17T20:26:18.034679Z"
    }
   },
   "outputs": [],
   "source": [
    "pattern = re.compile(\"hello\", flags=re.I)"
   ]
  },
  {
   "cell_type": "code",
   "execution_count": 578,
   "id": "78208ab4-531c-4ebe-843b-8a8da22e05cf",
   "metadata": {
    "execution": {
     "iopub.execute_input": "2023-01-17T20:26:20.455664Z",
     "iopub.status.busy": "2023-01-17T20:26:20.455664Z",
     "iopub.status.idle": "2023-01-17T20:26:20.462662Z",
     "shell.execute_reply": "2023-01-17T20:26:20.462662Z",
     "shell.execute_reply.started": "2023-01-17T20:26:20.455664Z"
    }
   },
   "outputs": [
    {
     "data": {
      "text/plain": [
       "re.compile(r'hello', re.IGNORECASE|re.UNICODE)"
      ]
     },
     "execution_count": 578,
     "metadata": {},
     "output_type": "execute_result"
    }
   ],
   "source": [
    "pattern"
   ]
  },
  {
   "cell_type": "code",
   "execution_count": 583,
   "id": "66bd879f-1e87-4dae-ae33-01251d8b286b",
   "metadata": {
    "execution": {
     "iopub.execute_input": "2023-01-17T20:30:26.855761Z",
     "iopub.status.busy": "2023-01-17T20:30:26.855761Z",
     "iopub.status.idle": "2023-01-17T20:30:26.866785Z",
     "shell.execute_reply": "2023-01-17T20:30:26.865790Z",
     "shell.execute_reply.started": "2023-01-17T20:30:26.855761Z"
    },
    "tags": []
   },
   "outputs": [
    {
     "data": {
      "text/plain": [
       "5"
      ]
     },
     "execution_count": 583,
     "metadata": {},
     "output_type": "execute_result"
    }
   ],
   "source": [
    "pattern = re.compile(\"hello\")\n",
    "match = pattern.match(\"hello world\") # `.match` check matches on the beginning of the string\n",
    "match.span()\n",
    "match.start()\n",
    "match.end()\n"
   ]
  },
  {
   "cell_type": "code",
   "execution_count": 588,
   "id": "68feeaf4-66d6-4fdc-8450-ba0f3db02854",
   "metadata": {
    "execution": {
     "iopub.execute_input": "2023-01-17T20:31:27.215103Z",
     "iopub.status.busy": "2023-01-17T20:31:27.214129Z",
     "iopub.status.idle": "2023-01-17T20:31:27.224132Z",
     "shell.execute_reply": "2023-01-17T20:31:27.223128Z",
     "shell.execute_reply.started": "2023-01-17T20:31:27.215103Z"
    },
    "tags": []
   },
   "outputs": [
    {
     "data": {
      "text/plain": [
       "False"
      ]
     },
     "execution_count": 588,
     "metadata": {},
     "output_type": "execute_result"
    }
   ],
   "source": [
    "pattern.match(\"say hello to the world\", pos=4) is None"
   ]
  },
  {
   "cell_type": "code",
   "execution_count": 590,
   "id": "41062dbe-d05c-485e-9a69-df4ff674bc3a",
   "metadata": {
    "execution": {
     "iopub.execute_input": "2023-01-17T20:32:08.660965Z",
     "iopub.status.busy": "2023-01-17T20:32:08.660965Z",
     "iopub.status.idle": "2023-01-17T20:32:08.678969Z",
     "shell.execute_reply": "2023-01-17T20:32:08.677972Z",
     "shell.execute_reply.started": "2023-01-17T20:32:08.660965Z"
    },
    "tags": []
   },
   "outputs": [
    {
     "data": {
      "text/plain": [
       "True"
      ]
     },
     "execution_count": 590,
     "metadata": {},
     "output_type": "execute_result"
    }
   ],
   "source": [
    "pattern.match(\"say hello to the world\") is None"
   ]
  },
  {
   "cell_type": "code",
   "execution_count": 589,
   "id": "4084e2e0-87d6-4dbd-9c5f-304725f5e343",
   "metadata": {
    "execution": {
     "iopub.execute_input": "2023-01-17T20:31:47.145553Z",
     "iopub.status.busy": "2023-01-17T20:31:47.145553Z",
     "iopub.status.idle": "2023-01-17T20:31:47.158552Z",
     "shell.execute_reply": "2023-01-17T20:31:47.157552Z",
     "shell.execute_reply.started": "2023-01-17T20:31:47.145553Z"
    },
    "tags": []
   },
   "outputs": [
    {
     "data": {
      "text/plain": [
       "True"
      ]
     },
     "execution_count": 589,
     "metadata": {},
     "output_type": "execute_result"
    }
   ],
   "source": [
    "pattern.match(\"hello\", pos=4) is None"
   ]
  },
  {
   "cell_type": "code",
   "execution_count": 592,
   "id": "b8c27d57-c7ad-44ea-932d-a9a2f8d36efd",
   "metadata": {
    "execution": {
     "iopub.execute_input": "2023-01-17T20:33:08.565030Z",
     "iopub.status.busy": "2023-01-17T20:33:08.565030Z",
     "iopub.status.idle": "2023-01-17T20:33:08.573007Z",
     "shell.execute_reply": "2023-01-17T20:33:08.572010Z",
     "shell.execute_reply.started": "2023-01-17T20:33:08.565030Z"
    },
    "tags": []
   },
   "outputs": [
    {
     "data": {
      "text/plain": [
       "<re.Match object; span=(4, 9), match='hello'>"
      ]
     },
     "execution_count": 592,
     "metadata": {},
     "output_type": "execute_result"
    }
   ],
   "source": [
    "pattern.search(\"say hello\")"
   ]
  },
  {
   "cell_type": "code",
   "execution_count": 598,
   "id": "d0a95ff8-5164-426d-a99a-8a1118068849",
   "metadata": {
    "execution": {
     "iopub.execute_input": "2023-01-17T20:36:32.395510Z",
     "iopub.status.busy": "2023-01-17T20:36:32.395510Z",
     "iopub.status.idle": "2023-01-17T20:36:32.415509Z",
     "shell.execute_reply": "2023-01-17T20:36:32.414541Z",
     "shell.execute_reply.started": "2023-01-17T20:36:32.395510Z"
    },
    "tags": []
   },
   "outputs": [
    {
     "data": {
      "text/plain": [
       "<re.Match object; span=(4, 9), match='hello'>"
      ]
     },
     "execution_count": 598,
     "metadata": {},
     "output_type": "execute_result"
    }
   ],
   "source": [
    "pattern.search(\"say hello hello\") # `.search()` checks for the first match only"
   ]
  },
  {
   "cell_type": "code",
   "execution_count": 600,
   "id": "4d02e23a-0faa-4e43-8f9f-21acedbccd49",
   "metadata": {
    "execution": {
     "iopub.execute_input": "2023-01-17T20:37:36.477881Z",
     "iopub.status.busy": "2023-01-17T20:37:36.477881Z",
     "iopub.status.idle": "2023-01-17T20:37:36.492881Z",
     "shell.execute_reply": "2023-01-17T20:37:36.492881Z",
     "shell.execute_reply.started": "2023-01-17T20:37:36.477881Z"
    },
    "tags": []
   },
   "outputs": [
    {
     "data": {
      "text/plain": [
       "['hello', 'hello']"
      ]
     },
     "execution_count": 600,
     "metadata": {},
     "output_type": "execute_result"
    }
   ],
   "source": [
    "pattern.findall(\"say hello hello\") # `.search` checks for ALL the matches and returns a list"
   ]
  },
  {
   "cell_type": "code",
   "execution_count": 614,
   "id": "aa55fa5f-5bc1-49a9-aae7-ced7998eb2b5",
   "metadata": {
    "execution": {
     "iopub.execute_input": "2023-01-17T20:51:03.272386Z",
     "iopub.status.busy": "2023-01-17T20:51:03.272386Z",
     "iopub.status.idle": "2023-01-17T20:51:03.291387Z",
     "shell.execute_reply": "2023-01-17T20:51:03.290418Z",
     "shell.execute_reply.started": "2023-01-17T20:51:03.272386Z"
    },
    "tags": []
   },
   "outputs": [
    {
     "data": {
      "text/plain": [
       "<callable_iterator at 0x1459383b160>"
      ]
     },
     "execution_count": 614,
     "metadata": {},
     "output_type": "execute_result"
    }
   ],
   "source": [
    "matches = pattern.finditer(\"say hello hello\") # checks for ALL the matches and returns an interator of match objects\n",
    "matches"
   ]
  },
  {
   "cell_type": "code",
   "execution_count": 615,
   "id": "b89bd343-4993-4607-b9a2-d6b8e713b296",
   "metadata": {
    "execution": {
     "iopub.execute_input": "2023-01-17T20:51:06.736960Z",
     "iopub.status.busy": "2023-01-17T20:51:06.736960Z",
     "iopub.status.idle": "2023-01-17T20:51:06.750959Z",
     "shell.execute_reply": "2023-01-17T20:51:06.749959Z",
     "shell.execute_reply.started": "2023-01-17T20:51:06.736960Z"
    },
    "tags": []
   },
   "outputs": [
    {
     "name": "stdout",
     "output_type": "stream",
     "text": [
      "hello\n",
      "hello\n"
     ]
    },
    {
     "data": {
      "text/plain": [
       "[None, None]"
      ]
     },
     "execution_count": 615,
     "metadata": {},
     "output_type": "execute_result"
    }
   ],
   "source": [
    "# [print(match.span()) for match in matches] \n",
    "[print(match.group()) for match in matches] "
   ]
  },
  {
   "cell_type": "code",
   "execution_count": 617,
   "id": "69ba82c4-1637-487d-8cda-3cfd867ca384",
   "metadata": {
    "execution": {
     "iopub.execute_input": "2023-01-17T20:57:22.171187Z",
     "iopub.status.busy": "2023-01-17T20:57:22.170160Z",
     "iopub.status.idle": "2023-01-17T20:57:22.178192Z",
     "shell.execute_reply": "2023-01-17T20:57:22.177164Z",
     "shell.execute_reply.started": "2023-01-17T20:57:22.171187Z"
    },
    "tags": []
   },
   "outputs": [
    {
     "name": "stdout",
     "output_type": "stream",
     "text": [
      "say \u001b[43m\u001b[1mhello\u001b[0m \u001b[43m\u001b[1mhello\u001b[0m\n"
     ]
    }
   ],
   "source": [
    "from regex_utils import highlight_regex_matches\n",
    "highlight_regex_matches(pattern, \"say hello hello\")"
   ]
  },
  {
   "cell_type": "code",
   "execution_count": 618,
   "id": "4efdc560-d8c2-4f3d-99d0-0ba9e9672bcd",
   "metadata": {
    "execution": {
     "iopub.execute_input": "2023-01-17T21:00:49.627600Z",
     "iopub.status.busy": "2023-01-17T21:00:49.627600Z",
     "iopub.status.idle": "2023-01-17T21:00:49.638616Z",
     "shell.execute_reply": "2023-01-17T21:00:49.637621Z",
     "shell.execute_reply.started": "2023-01-17T21:00:49.627600Z"
    }
   },
   "outputs": [
    {
     "data": {
      "text/plain": [
       "<re.Match object; span=(0, 5), match='hello'>"
      ]
     },
     "execution_count": 618,
     "metadata": {},
     "output_type": "execute_result"
    }
   ],
   "source": [
    "re.match(\"hello\", \"hello\")"
   ]
  },
  {
   "cell_type": "code",
   "execution_count": 619,
   "id": "7d15978e-640f-46f6-819e-04543001035c",
   "metadata": {
    "execution": {
     "iopub.execute_input": "2023-01-17T21:01:05.690978Z",
     "iopub.status.busy": "2023-01-17T21:01:05.690978Z",
     "iopub.status.idle": "2023-01-17T21:01:05.701957Z",
     "shell.execute_reply": "2023-01-17T21:01:05.700956Z",
     "shell.execute_reply.started": "2023-01-17T21:01:05.690978Z"
    }
   },
   "outputs": [
    {
     "data": {
      "text/plain": [
       "['hello', 'hello']"
      ]
     },
     "execution_count": 619,
     "metadata": {},
     "output_type": "execute_result"
    }
   ],
   "source": [
    "re.findall(\"hello\", \"say hello hello\")"
   ]
  },
  {
   "cell_type": "code",
   "execution_count": 620,
   "id": "1d1f6ab0-9657-4696-9601-86989cc1fded",
   "metadata": {
    "execution": {
     "iopub.execute_input": "2023-01-17T21:01:40.197211Z",
     "iopub.status.busy": "2023-01-17T21:01:40.197211Z",
     "iopub.status.idle": "2023-01-17T21:01:40.204228Z",
     "shell.execute_reply": "2023-01-17T21:01:40.203211Z",
     "shell.execute_reply.started": "2023-01-17T21:01:40.197211Z"
    }
   },
   "outputs": [],
   "source": [
    "txt = \"This book costs $15.\""
   ]
  },
  {
   "cell_type": "code",
   "execution_count": 625,
   "id": "d0067371-1818-406f-9596-893b32f42d1d",
   "metadata": {
    "execution": {
     "iopub.execute_input": "2023-01-17T21:03:34.253532Z",
     "iopub.status.busy": "2023-01-17T21:03:34.252532Z",
     "iopub.status.idle": "2023-01-17T21:03:34.262562Z",
     "shell.execute_reply": "2023-01-17T21:03:34.262562Z",
     "shell.execute_reply.started": "2023-01-17T21:03:34.253532Z"
    },
    "tags": []
   },
   "outputs": [
    {
     "data": {
      "text/plain": [
       "<re.Match object; span=(16, 19), match='$15'>"
      ]
     },
     "execution_count": 625,
     "metadata": {},
     "output_type": "execute_result"
    }
   ],
   "source": [
    "pattern = re.compile(\"\\$15\")\n",
    "pattern.search(txt)\n",
    "# pattern.match(txt)"
   ]
  },
  {
   "cell_type": "code",
   "execution_count": 626,
   "id": "d4ccfdd4-d2be-44b7-9b47-1a998e9fc760",
   "metadata": {
    "execution": {
     "iopub.execute_input": "2023-01-17T21:05:29.046633Z",
     "iopub.status.busy": "2023-01-17T21:05:29.046633Z",
     "iopub.status.idle": "2023-01-17T21:05:29.063646Z",
     "shell.execute_reply": "2023-01-17T21:05:29.062649Z",
     "shell.execute_reply.started": "2023-01-17T21:05:29.046633Z"
    }
   },
   "outputs": [],
   "source": [
    "import re\n",
    "from regex_utils import highlight_regex_matches"
   ]
  },
  {
   "cell_type": "code",
   "execution_count": 642,
   "id": "c5dca946-329d-4a9e-be43-59fcd615313c",
   "metadata": {
    "execution": {
     "iopub.execute_input": "2023-01-17T21:12:56.210448Z",
     "iopub.status.busy": "2023-01-17T21:12:56.210448Z",
     "iopub.status.idle": "2023-01-17T21:12:56.225481Z",
     "shell.execute_reply": "2023-01-17T21:12:56.224476Z",
     "shell.execute_reply.started": "2023-01-17T21:12:56.210448Z"
    },
    "tags": []
   },
   "outputs": [],
   "source": [
    "txt = \"\"\"\n",
    "Yesterday, I was driving my car without a driving licence. The traffic police stopped me and asked me for my \n",
    "license. I told them that I forgot my licence at home. \n",
    "\"\"\""
   ]
  },
  {
   "cell_type": "code",
   "execution_count": 643,
   "id": "011b99c2-9c50-4b55-a5ea-4f3f746bb46b",
   "metadata": {
    "execution": {
     "iopub.execute_input": "2023-01-17T21:12:57.670123Z",
     "iopub.status.busy": "2023-01-17T21:12:57.670123Z",
     "iopub.status.idle": "2023-01-17T21:12:57.676101Z",
     "shell.execute_reply": "2023-01-17T21:12:57.675098Z",
     "shell.execute_reply.started": "2023-01-17T21:12:57.670123Z"
    },
    "tags": []
   },
   "outputs": [
    {
     "data": {
      "text/plain": [
       "['licence', 'license', 'licence']"
      ]
     },
     "execution_count": 643,
     "metadata": {},
     "output_type": "execute_result"
    }
   ],
   "source": [
    "pattern = re.compile(\"licen[sc]e\")\n",
    "pattern.findall(txt)"
   ]
  },
  {
   "cell_type": "code",
   "execution_count": 644,
   "id": "50b8f916-5097-451f-9786-93e80b79a781",
   "metadata": {
    "execution": {
     "iopub.execute_input": "2023-01-17T21:12:59.521795Z",
     "iopub.status.busy": "2023-01-17T21:12:59.520782Z",
     "iopub.status.idle": "2023-01-17T21:12:59.532781Z",
     "shell.execute_reply": "2023-01-17T21:12:59.531778Z",
     "shell.execute_reply.started": "2023-01-17T21:12:59.521795Z"
    },
    "tags": []
   },
   "outputs": [
    {
     "name": "stdout",
     "output_type": "stream",
     "text": [
      "\n",
      "Yesterday, I was driving my car without a driving \u001b[43m\u001b[1mlicence\u001b[0m. The traffic police stopped me and asked me for my \n",
      "\u001b[43m\u001b[1mlicense\u001b[0m. I told them that I forgot my \u001b[43m\u001b[1mlicence\u001b[0m at home. \n",
      "\n"
     ]
    }
   ],
   "source": [
    "highlight_regex_matches(pattern, txt)"
   ]
  },
  {
   "cell_type": "code",
   "execution_count": 672,
   "id": "b9a5aedc-548d-483e-aa0a-f248a1771598",
   "metadata": {
    "execution": {
     "iopub.execute_input": "2023-01-17T21:37:59.796053Z",
     "iopub.status.busy": "2023-01-17T21:37:59.795094Z",
     "iopub.status.idle": "2023-01-17T21:37:59.802051Z",
     "shell.execute_reply": "2023-01-17T21:37:59.801049Z",
     "shell.execute_reply.started": "2023-01-17T21:37:59.796053Z"
    },
    "tags": []
   },
   "outputs": [],
   "source": [
    "txt = \"\"\"\n",
    "The first season of Indian Premiere League (IPL) was played in 2008. \n",
    "The second season was played in 2009 in South Africa. \n",
    "Last season was played in 2018 and won by Chennai Super Kings (CSK).\n",
    "but CSK won the title in 2010 and 2011 as well.\n",
    "Mumbai Indians (MI) has also won the title 3 times in 2013, 2015 and 2017.\n",
    "\n",
    "CONFORMED PERIOD OF REPORT:\t20031231\n",
    "FILED AS OF DATE:\t\t20040129\n",
    "EFFECTIVENESS DATE:\t\t20040129\n",
    "\"\"\""
   ]
  },
  {
   "cell_type": "code",
   "execution_count": 655,
   "id": "afcbde74-ebb8-4023-b254-b33f761981f3",
   "metadata": {
    "execution": {
     "iopub.execute_input": "2023-01-17T21:23:56.061561Z",
     "iopub.status.busy": "2023-01-17T21:23:56.060546Z",
     "iopub.status.idle": "2023-01-17T21:23:56.073565Z",
     "shell.execute_reply": "2023-01-17T21:23:56.073565Z",
     "shell.execute_reply.started": "2023-01-17T21:23:56.061561Z"
    },
    "tags": []
   },
   "outputs": [
    {
     "data": {
      "text/plain": [
       "['2008',\n",
       " '2009',\n",
       " '2018',\n",
       " '2010',\n",
       " '2011',\n",
       " '2013',\n",
       " '2015',\n",
       " '2017',\n",
       " '2003',\n",
       " '1231',\n",
       " '2004',\n",
       " '2004']"
      ]
     },
     "execution_count": 655,
     "metadata": {},
     "output_type": "execute_result"
    }
   ],
   "source": [
    "# pattern = re.compile(\"[1-9][0-9][0-9][0-9]\")\n",
    "pattern = re.compile(\"[1-9]\\d\\d\\d\")\n",
    "pattern.findall(txt)"
   ]
  },
  {
   "cell_type": "code",
   "execution_count": 656,
   "id": "0893b018-fdda-4a42-be40-8271859be114",
   "metadata": {
    "execution": {
     "iopub.execute_input": "2023-01-17T21:24:49.697508Z",
     "iopub.status.busy": "2023-01-17T21:24:49.696508Z",
     "iopub.status.idle": "2023-01-17T21:24:49.706507Z",
     "shell.execute_reply": "2023-01-17T21:24:49.706507Z",
     "shell.execute_reply.started": "2023-01-17T21:24:49.697508Z"
    },
    "tags": []
   },
   "outputs": [
    {
     "name": "stdout",
     "output_type": "stream",
     "text": [
      "\n",
      "The first season of Indian Premiere League (IPL) was played in \u001b[43m\u001b[1m2008\u001b[0m. \n",
      "The second season was played in \u001b[43m\u001b[1m2009\u001b[0m in South Africa. \n",
      "Last season was played in \u001b[43m\u001b[1m2018\u001b[0m and won by Chennai Super Kings (CSK).\n",
      "CSK won the title in \u001b[43m\u001b[1m2010\u001b[0m and \u001b[43m\u001b[1m2011\u001b[0m as well.\n",
      "Mumbai Indians (MI) has also won the title 3 times in \u001b[43m\u001b[1m2013\u001b[0m, \u001b[43m\u001b[1m2015\u001b[0m and \u001b[43m\u001b[1m2017\u001b[0m.\n",
      "\n",
      "CONFORMED PERIOD OF REPORT:\t\u001b[43m\u001b[1m2003\u001b[0m\u001b[43m\u001b[1m1231\u001b[0m\n",
      "FILED AS OF DATE:\t\t\u001b[43m\u001b[1m2004\u001b[0m0129\n",
      "EFFECTIVENESS DATE:\t\t\u001b[43m\u001b[1m2004\u001b[0m0129\n",
      "\n"
     ]
    }
   ],
   "source": [
    "highlight_regex_matches(pattern, txt)"
   ]
  },
  {
   "cell_type": "code",
   "execution_count": null,
   "id": "8b64808f-a6ba-4dc2-a186-3602563ccc88",
   "metadata": {
    "tags": []
   },
   "outputs": [],
   "source": [
    "# negate the character set\n",
    "pattern = re.compile(\"[^aeiou]\")\n",
    "pattern.findall(txt)"
   ]
  },
  {
   "cell_type": "code",
   "execution_count": 657,
   "id": "98ad2b51-6a81-4c47-acd8-bf6f96c7b47f",
   "metadata": {
    "execution": {
     "iopub.execute_input": "2023-01-17T21:26:17.709910Z",
     "iopub.status.busy": "2023-01-17T21:26:17.709910Z",
     "iopub.status.idle": "2023-01-17T21:26:17.718906Z",
     "shell.execute_reply": "2023-01-17T21:26:17.718906Z",
     "shell.execute_reply.started": "2023-01-17T21:26:17.709910Z"
    },
    "tags": []
   },
   "outputs": [
    {
     "data": {
      "text/plain": [
       "['(', ')', '.', '.', '(', ')', '.', '.', '(', ')', ',', '.', ':', ':', ':']"
      ]
     },
     "execution_count": 657,
     "metadata": {},
     "output_type": "execute_result"
    }
   ],
   "source": [
    "re.findall(\"[^\\w\\s]\", txt)"
   ]
  },
  {
   "cell_type": "code",
   "execution_count": 668,
   "id": "7c4138d5-2a2a-4741-9139-2ee583814dd8",
   "metadata": {
    "execution": {
     "iopub.execute_input": "2023-01-17T21:36:17.701852Z",
     "iopub.status.busy": "2023-01-17T21:36:17.700852Z",
     "iopub.status.idle": "2023-01-17T21:36:17.715852Z",
     "shell.execute_reply": "2023-01-17T21:36:17.715852Z",
     "shell.execute_reply.started": "2023-01-17T21:36:17.701852Z"
    },
    "tags": []
   },
   "outputs": [],
   "source": [
    "txt = \"\"\"\n",
    "C:\\Windows\n",
    "C:\\Python\n",
    "C:\\Windows\\System32\n",
    "\"\"\""
   ]
  },
  {
   "cell_type": "code",
   "execution_count": 669,
   "id": "0f0d4c58-eedb-48fe-8b06-fc77a5f9c470",
   "metadata": {
    "execution": {
     "iopub.execute_input": "2023-01-17T21:36:18.424374Z",
     "iopub.status.busy": "2023-01-17T21:36:18.423374Z",
     "iopub.status.idle": "2023-01-17T21:36:18.439372Z",
     "shell.execute_reply": "2023-01-17T21:36:18.438405Z",
     "shell.execute_reply.started": "2023-01-17T21:36:18.424374Z"
    },
    "tags": []
   },
   "outputs": [],
   "source": [
    "pattern = re.compile(\"C:\\Windows\\System32\")\n",
    "pattern.search(txt)"
   ]
  },
  {
   "cell_type": "code",
   "execution_count": 670,
   "id": "cf7bbde6-15b0-4d7e-be4a-d48d9535b517",
   "metadata": {
    "execution": {
     "iopub.execute_input": "2023-01-17T21:36:18.897837Z",
     "iopub.status.busy": "2023-01-17T21:36:18.897837Z",
     "iopub.status.idle": "2023-01-17T21:36:18.910865Z",
     "shell.execute_reply": "2023-01-17T21:36:18.910865Z",
     "shell.execute_reply.started": "2023-01-17T21:36:18.897837Z"
    },
    "tags": []
   },
   "outputs": [
    {
     "data": {
      "text/plain": [
       "<re.Match object; span=(22, 41), match='C:\\\\Windows\\\\System32'>"
      ]
     },
     "execution_count": 670,
     "metadata": {},
     "output_type": "execute_result"
    }
   ],
   "source": [
    "pattern = re.compile(\"C:\\\\\\\\Windows\\\\\\\\System32\")\n",
    "pattern.search(txt)"
   ]
  },
  {
   "cell_type": "code",
   "execution_count": 671,
   "id": "97d2635a-9582-4fa1-bc34-3164b74deea7",
   "metadata": {
    "execution": {
     "iopub.execute_input": "2023-01-17T21:36:19.623502Z",
     "iopub.status.busy": "2023-01-17T21:36:19.623502Z",
     "iopub.status.idle": "2023-01-17T21:36:19.629501Z",
     "shell.execute_reply": "2023-01-17T21:36:19.629501Z",
     "shell.execute_reply.started": "2023-01-17T21:36:19.623502Z"
    },
    "tags": []
   },
   "outputs": [
    {
     "data": {
      "text/plain": [
       "<re.Match object; span=(22, 41), match='C:\\\\Windows\\\\System32'>"
      ]
     },
     "execution_count": 671,
     "metadata": {},
     "output_type": "execute_result"
    }
   ],
   "source": [
    "pattern = re.compile(r\"C:\\\\Windows\\\\System32\")\n",
    "pattern.search(txt)"
   ]
  },
  {
   "cell_type": "code",
   "execution_count": 673,
   "id": "69d58681-31af-4679-a420-61a9012e469d",
   "metadata": {
    "execution": {
     "iopub.execute_input": "2023-01-17T21:38:11.574513Z",
     "iopub.status.busy": "2023-01-17T21:38:11.574513Z",
     "iopub.status.idle": "2023-01-17T21:38:11.592515Z",
     "shell.execute_reply": "2023-01-17T21:38:11.592515Z",
     "shell.execute_reply.started": "2023-01-17T21:38:11.574513Z"
    }
   },
   "outputs": [],
   "source": [
    "txt = \"\"\"\n",
    "The first season of Indian Premiere League (IPL) was played in 2008. \n",
    "The second season was played in 2009 in South Africa. \n",
    "Last season was played in 2018 and won by Chennai Super Kings (CSK).\n",
    "but CSK won the title in 2010 and 2011 as well.\n",
    "Mumbai Indians (MI) has also won the title 3 times in 2013, 2015 and 2017.\n",
    "\n",
    "CONFORMED PERIOD OF REPORT:\t20031231\n",
    "FILED AS OF DATE:\t\t20040129\n",
    "EFFECTIVENESS DATE:\t\t20040129\n",
    "\"\"\""
   ]
  },
  {
   "cell_type": "code",
   "execution_count": 674,
   "id": "07590365-3dac-499f-8364-c60ea77fcea9",
   "metadata": {
    "execution": {
     "iopub.execute_input": "2023-01-17T21:40:04.084273Z",
     "iopub.status.busy": "2023-01-17T21:40:04.084273Z",
     "iopub.status.idle": "2023-01-17T21:40:04.102261Z",
     "shell.execute_reply": "2023-01-17T21:40:04.101260Z",
     "shell.execute_reply.started": "2023-01-17T21:40:04.084273Z"
    },
    "tags": []
   },
   "outputs": [
    {
     "data": {
      "text/plain": [
       "['and', 'but', 'the', 'and', 'the', 'and']"
      ]
     },
     "execution_count": 674,
     "metadata": {},
     "output_type": "execute_result"
    }
   ],
   "source": [
    "pattern = re.compile(\"and|or|the|but\")\n",
    "pattern.findall(txt)"
   ]
  },
  {
   "cell_type": "code",
   "execution_count": 675,
   "id": "45f47a1b-ec3a-48c1-8763-c042f7e644ea",
   "metadata": {
    "execution": {
     "iopub.execute_input": "2023-01-17T21:40:26.782557Z",
     "iopub.status.busy": "2023-01-17T21:40:26.781554Z",
     "iopub.status.idle": "2023-01-17T21:40:26.798550Z",
     "shell.execute_reply": "2023-01-17T21:40:26.797570Z",
     "shell.execute_reply.started": "2023-01-17T21:40:26.782557Z"
    },
    "tags": []
   },
   "outputs": [
    {
     "name": "stdout",
     "output_type": "stream",
     "text": [
      "\n",
      "The first season of Indian Premiere League (IPL) was played in 2008. \n",
      "The second season was played in 2009 in South Africa. \n",
      "Last season was played in 2018 \u001b[43m\u001b[1mand\u001b[0m won by Chennai Super Kings (CSK).\n",
      "\u001b[43m\u001b[1mbut\u001b[0m CSK won \u001b[43m\u001b[1mthe\u001b[0m title in 2010 \u001b[43m\u001b[1mand\u001b[0m 2011 as well.\n",
      "Mumbai Indians (MI) has also won \u001b[43m\u001b[1mthe\u001b[0m title 3 times in 2013, 2015 \u001b[43m\u001b[1mand\u001b[0m 2017.\n",
      "\n",
      "CONFORMED PERIOD OF REPORT:\t20031231\n",
      "FILED AS OF DATE:\t\t20040129\n",
      "EFFECTIVENESS DATE:\t\t20040129\n",
      "\n"
     ]
    }
   ],
   "source": [
    "highlight_regex_matches(pattern, txt)"
   ]
  },
  {
   "cell_type": "code",
   "execution_count": 676,
   "id": "2969f351-07bc-4417-b1f1-468a951596c7",
   "metadata": {
    "execution": {
     "iopub.execute_input": "2023-01-17T21:42:33.734169Z",
     "iopub.status.busy": "2023-01-17T21:42:33.733169Z",
     "iopub.status.idle": "2023-01-17T21:42:33.749162Z",
     "shell.execute_reply": "2023-01-17T21:42:33.748172Z",
     "shell.execute_reply.started": "2023-01-17T21:42:33.734169Z"
    }
   },
   "outputs": [],
   "source": [
    "txt = \"\"\"\n",
    "What is your name?\n",
    "Who is that guy?\n",
    "\"\"\""
   ]
  },
  {
   "cell_type": "code",
   "execution_count": 678,
   "id": "de3ce462-3bd9-426e-b427-7f6038efc372",
   "metadata": {
    "execution": {
     "iopub.execute_input": "2023-01-17T21:43:16.312538Z",
     "iopub.status.busy": "2023-01-17T21:43:16.312538Z",
     "iopub.status.idle": "2023-01-17T21:43:16.334560Z",
     "shell.execute_reply": "2023-01-17T21:43:16.333538Z",
     "shell.execute_reply.started": "2023-01-17T21:43:16.312538Z"
    },
    "tags": []
   },
   "outputs": [
    {
     "data": {
      "text/plain": [
       "['What', 'Who is']"
      ]
     },
     "execution_count": 678,
     "metadata": {},
     "output_type": "execute_result"
    }
   ],
   "source": [
    "pattern = re.compile(\"What|Who is\")\n",
    "pattern.findall(txt)\n"
   ]
  },
  {
   "cell_type": "code",
   "execution_count": 680,
   "id": "d283984f-8b20-45e8-baa6-b4291062e852",
   "metadata": {
    "execution": {
     "iopub.execute_input": "2023-01-17T21:44:33.879207Z",
     "iopub.status.busy": "2023-01-17T21:44:33.879207Z",
     "iopub.status.idle": "2023-01-17T21:44:33.884234Z",
     "shell.execute_reply": "2023-01-17T21:44:33.883256Z",
     "shell.execute_reply.started": "2023-01-17T21:44:33.879207Z"
    },
    "tags": []
   },
   "outputs": [
    {
     "name": "stdout",
     "output_type": "stream",
     "text": [
      "\n",
      "\u001b[43m\u001b[1mWhat\u001b[0m is your name?\n",
      "\u001b[43m\u001b[1mWho is\u001b[0m that guy?\n",
      "\n"
     ]
    }
   ],
   "source": [
    "highlight_regex_matches(pattern, txt)"
   ]
  },
  {
   "cell_type": "code",
   "execution_count": 683,
   "id": "3f53d4e4-00c9-4721-beb1-4522cbad0f8d",
   "metadata": {
    "execution": {
     "iopub.execute_input": "2023-01-17T21:45:58.516468Z",
     "iopub.status.busy": "2023-01-17T21:45:58.516468Z",
     "iopub.status.idle": "2023-01-17T21:45:58.532467Z",
     "shell.execute_reply": "2023-01-17T21:45:58.531468Z",
     "shell.execute_reply.started": "2023-01-17T21:45:58.516468Z"
    },
    "tags": []
   },
   "outputs": [
    {
     "data": {
      "text/plain": [
       "[<re.Match object; span=(1, 8), match='What is'>,\n",
       " <re.Match object; span=(20, 26), match='Who is'>]"
      ]
     },
     "execution_count": 683,
     "metadata": {},
     "output_type": "execute_result"
    }
   ],
   "source": [
    "pattern = re.compile(\"(What|Who) is\")\n",
    "pattern.findall(txt)\n",
    "list(pattern.finditer(txt))"
   ]
  },
  {
   "cell_type": "code",
   "execution_count": 682,
   "id": "1c77a290-a802-436f-8541-c723e35eaea0",
   "metadata": {
    "execution": {
     "iopub.execute_input": "2023-01-17T21:45:11.702997Z",
     "iopub.status.busy": "2023-01-17T21:45:11.702997Z",
     "iopub.status.idle": "2023-01-17T21:45:11.713973Z",
     "shell.execute_reply": "2023-01-17T21:45:11.713973Z",
     "shell.execute_reply.started": "2023-01-17T21:45:11.702997Z"
    },
    "tags": []
   },
   "outputs": [
    {
     "name": "stdout",
     "output_type": "stream",
     "text": [
      "\n",
      "\u001b[43m\u001b[1mWhat is\u001b[0m your name?\n",
      "\u001b[43m\u001b[1mWho is\u001b[0m that guy?\n",
      "\n"
     ]
    }
   ],
   "source": [
    "highlight_regex_matches(pattern, txt)"
   ]
  },
  {
   "cell_type": "code",
   "execution_count": 700,
   "id": "40927afd-a2fc-484c-8610-60a9bb7fa7e6",
   "metadata": {
    "execution": {
     "iopub.execute_input": "2023-01-17T21:54:02.957331Z",
     "iopub.status.busy": "2023-01-17T21:54:02.957331Z",
     "iopub.status.idle": "2023-01-17T21:54:02.969278Z",
     "shell.execute_reply": "2023-01-17T21:54:02.968315Z",
     "shell.execute_reply.started": "2023-01-17T21:54:02.957331Z"
    },
    "tags": []
   },
   "outputs": [],
   "source": [
    "txt = \"\"\"\n",
    "Report Summary:\n",
    "\n",
    "Number of Other Included Managers:                       0\n",
    "                                        ---------------------------------------\n",
    "\n",
    "Form 13F Information Table Entry Total:                 659\n",
    "                                        ---------------------------------------\n",
    "                                                     2,403,697\n",
    "Form 13F Information Table Value Total: --------------------------------------\n",
    "                                                    (thousands)\n",
    "\n",
    "List of Other Included Managers:\n",
    "\"\"\""
   ]
  },
  {
   "cell_type": "code",
   "execution_count": 702,
   "id": "46f95a14-bc8f-419b-ae8b-7b03088d6cd2",
   "metadata": {
    "execution": {
     "iopub.execute_input": "2023-01-18T09:49:45.437900Z",
     "iopub.status.busy": "2023-01-18T09:49:45.433900Z",
     "iopub.status.idle": "2023-01-18T09:49:45.465900Z",
     "shell.execute_reply": "2023-01-18T09:49:45.464898Z",
     "shell.execute_reply.started": "2023-01-18T09:49:45.437900Z"
    },
    "tags": []
   },
   "outputs": [
    {
     "data": {
      "text/plain": [
       "(['Entry Total', 'Value Total'],\n",
       " [<re.Match object; span=(185, 196), match='Entry Total'>,\n",
       "  <re.Match object; span=(388, 399), match='Value Total'>])"
      ]
     },
     "execution_count": 702,
     "metadata": {},
     "output_type": "execute_result"
    }
   ],
   "source": [
    "pattern = re.compile(\"(?:Value|Entry) Total\")\n",
    "# the `?:` in this context tells Python's regex library to not consider the parentheses as defining a capture.\n",
    "# (It's still used for grouping of course.) This way .findall() will behave as .finditer()\n",
    "pattern.findall(txt),list(pattern.finditer(txt))\n",
    "# highlight_regex_matches(pattern, txt)"
   ]
  },
  {
   "cell_type": "code",
   "execution_count": 703,
   "id": "12964d20-e571-41b0-84c1-eb03ae4b1a24",
   "metadata": {
    "execution": {
     "iopub.execute_input": "2023-01-18T12:29:28.781462Z",
     "iopub.status.busy": "2023-01-18T12:29:28.779462Z",
     "iopub.status.idle": "2023-01-18T12:29:28.808463Z",
     "shell.execute_reply": "2023-01-18T12:29:28.807488Z",
     "shell.execute_reply.started": "2023-01-18T12:29:28.781462Z"
    }
   },
   "outputs": [],
   "source": [
    "txt = \"\"\"\n",
    "I have 2 dogs. One dog is 1 year old and other one is 2 years old. Both dogs are very cute! \n",
    "\"\"\""
   ]
  },
  {
   "cell_type": "code",
   "execution_count": 714,
   "id": "88f569bc-b03c-41e1-a577-564ee811e740",
   "metadata": {
    "execution": {
     "iopub.execute_input": "2023-01-18T12:33:00.899385Z",
     "iopub.status.busy": "2023-01-18T12:33:00.899385Z",
     "iopub.status.idle": "2023-01-18T12:33:00.913386Z",
     "shell.execute_reply": "2023-01-18T12:33:00.912385Z",
     "shell.execute_reply.started": "2023-01-18T12:33:00.899385Z"
    },
    "tags": []
   },
   "outputs": [
    {
     "name": "stdout",
     "output_type": "stream",
     "text": [
      "\n",
      "I have 2 \u001b[43m\u001b[1mdogs\u001b[0m. One \u001b[43m\u001b[1mdog\u001b[0m is 1 year old and other one is 2 years old. Both \u001b[43m\u001b[1mdogs\u001b[0m are very cute! \n",
      "\n"
     ]
    }
   ],
   "source": [
    "pattern = re.compile(\"dogs?\")\n",
    "pattern.findall(txt)\n",
    "highlight_regex_matches(pattern, txt)"
   ]
  },
  {
   "cell_type": "code",
   "execution_count": 719,
   "id": "4ded9713-5085-4c10-8bbb-256dfe4f09cd",
   "metadata": {
    "execution": {
     "iopub.execute_input": "2023-01-18T12:35:40.977333Z",
     "iopub.status.busy": "2023-01-18T12:35:40.977333Z",
     "iopub.status.idle": "2023-01-18T12:35:40.985330Z",
     "shell.execute_reply": "2023-01-18T12:35:40.984330Z",
     "shell.execute_reply.started": "2023-01-18T12:35:40.977333Z"
    },
    "tags": []
   },
   "outputs": [],
   "source": [
    "txt = \"\"\"\n",
    "file1.txt\n",
    "file_one.txt\n",
    "file.txt\n",
    "fil.txt\n",
    "not.txt\n",
    "file.xml\n",
    "file-1.txt\n",
    "\"\"\""
   ]
  },
  {
   "cell_type": "code",
   "execution_count": 720,
   "id": "e9467d0e-6841-48ea-829f-6800bbedc67c",
   "metadata": {
    "execution": {
     "iopub.execute_input": "2023-01-18T12:35:41.499966Z",
     "iopub.status.busy": "2023-01-18T12:35:41.498970Z",
     "iopub.status.idle": "2023-01-18T12:35:41.510986Z",
     "shell.execute_reply": "2023-01-18T12:35:41.510986Z",
     "shell.execute_reply.started": "2023-01-18T12:35:41.498970Z"
    },
    "tags": []
   },
   "outputs": [
    {
     "data": {
      "text/plain": [
       "['file1.txt', 'file_one.txt', 'file.txt', 'file-1.txt']"
      ]
     },
     "execution_count": 720,
     "metadata": {},
     "output_type": "execute_result"
    }
   ],
   "source": [
    "pattern = re.compile(\"file[\\w-]*\\.txt\")\n",
    "pattern.findall(txt)"
   ]
  },
  {
   "cell_type": "code",
   "execution_count": 721,
   "id": "58f6f2ae-fd1c-443e-9dae-be3d852ee6ed",
   "metadata": {
    "execution": {
     "iopub.execute_input": "2023-01-18T12:36:05.908355Z",
     "iopub.status.busy": "2023-01-18T12:36:05.908355Z",
     "iopub.status.idle": "2023-01-18T12:36:05.914352Z",
     "shell.execute_reply": "2023-01-18T12:36:05.913351Z",
     "shell.execute_reply.started": "2023-01-18T12:36:05.908355Z"
    },
    "tags": []
   },
   "outputs": [
    {
     "name": "stdout",
     "output_type": "stream",
     "text": [
      "\n",
      "\u001b[43m\u001b[1mfile1.txt\u001b[0m\n",
      "\u001b[43m\u001b[1mfile_one.txt\u001b[0m\n",
      "\u001b[43m\u001b[1mfile.txt\u001b[0m\n",
      "fil.txt\n",
      "not.txt\n",
      "file.xml\n",
      "\u001b[43m\u001b[1mfile-1.txt\u001b[0m\n",
      "\n"
     ]
    }
   ],
   "source": [
    "highlight_regex_matches(pattern, txt)"
   ]
  },
  {
   "cell_type": "code",
   "execution_count": 722,
   "id": "a3b8c115-caef-4c5a-a420-2620b0c78a40",
   "metadata": {
    "execution": {
     "iopub.execute_input": "2023-01-18T12:37:00.635128Z",
     "iopub.status.busy": "2023-01-18T12:37:00.635128Z",
     "iopub.status.idle": "2023-01-18T12:37:00.641138Z",
     "shell.execute_reply": "2023-01-18T12:37:00.640128Z",
     "shell.execute_reply.started": "2023-01-18T12:37:00.635128Z"
    }
   },
   "outputs": [],
   "source": [
    "txt = \"\"\"\n",
    "file1.txt\n",
    "file_one.txt\n",
    "file09.txt\n",
    "fil.txt\n",
    "file23.xml\n",
    "file.txt\n",
    "\"\"\""
   ]
  },
  {
   "cell_type": "code",
   "execution_count": 723,
   "id": "ad22fcca-c508-416b-bbb1-8bef7d03c181",
   "metadata": {
    "execution": {
     "iopub.execute_input": "2023-01-18T12:38:19.538835Z",
     "iopub.status.busy": "2023-01-18T12:38:19.538835Z",
     "iopub.status.idle": "2023-01-18T12:38:19.550835Z",
     "shell.execute_reply": "2023-01-18T12:38:19.549834Z",
     "shell.execute_reply.started": "2023-01-18T12:38:19.538835Z"
    }
   },
   "outputs": [
    {
     "data": {
      "text/plain": [
       "['file1.txt', 'file09.txt']"
      ]
     },
     "execution_count": 723,
     "metadata": {},
     "output_type": "execute_result"
    }
   ],
   "source": [
    "pattern = re.compile(\"file\\d+\\.txt\")\n",
    "pattern.findall(txt)"
   ]
  },
  {
   "cell_type": "code",
   "execution_count": 724,
   "id": "07ff12d9-e0d6-48df-8a8a-27ae1dc8cf52",
   "metadata": {
    "execution": {
     "iopub.execute_input": "2023-01-18T12:38:54.530752Z",
     "iopub.status.busy": "2023-01-18T12:38:54.530752Z",
     "iopub.status.idle": "2023-01-18T12:38:55.081988Z",
     "shell.execute_reply": "2023-01-18T12:38:55.081006Z",
     "shell.execute_reply.started": "2023-01-18T12:38:54.530752Z"
    },
    "tags": []
   },
   "outputs": [
    {
     "name": "stdout",
     "output_type": "stream",
     "text": [
      "\n",
      "\u001b[43m\u001b[1mfile1.txt\u001b[0m\n",
      "file_one.txt\n",
      "\u001b[43m\u001b[1mfile09.txt\u001b[0m\n",
      "fil.txt\n",
      "file23.xml\n",
      "file.txt\n",
      "\n"
     ]
    }
   ],
   "source": [
    "highlight_regex_matches(pattern, txt)"
   ]
  },
  {
   "cell_type": "code",
   "execution_count": 725,
   "id": "2fcb8c49-6158-429c-975a-0ec00b895ecb",
   "metadata": {
    "execution": {
     "iopub.execute_input": "2023-01-18T12:40:51.276384Z",
     "iopub.status.busy": "2023-01-18T12:40:51.275400Z",
     "iopub.status.idle": "2023-01-18T12:40:51.281441Z",
     "shell.execute_reply": "2023-01-18T12:40:51.281441Z",
     "shell.execute_reply.started": "2023-01-18T12:40:51.276384Z"
    }
   },
   "outputs": [],
   "source": [
    "txt = \"\"\"\n",
    "The first season of Indian Premiere League (IPL) was played in 2008. \n",
    "The second season was played in 2009 in South Africa. \n",
    "Last season was played in 2018 and won by Chennai Super Kings (CSK).\n",
    "CSK won the title in 2010 and 2011 as well.\n",
    "Mumbai Indians (MI) has also won the title 3 times in 2013, 2015 and 2017.\n",
    "\"\"\""
   ]
  },
  {
   "cell_type": "code",
   "execution_count": 726,
   "id": "c7472c34-067e-4b73-ab99-13486b178117",
   "metadata": {
    "execution": {
     "iopub.execute_input": "2023-01-18T12:41:35.244308Z",
     "iopub.status.busy": "2023-01-18T12:41:35.244308Z",
     "iopub.status.idle": "2023-01-18T12:41:35.261343Z",
     "shell.execute_reply": "2023-01-18T12:41:35.261343Z",
     "shell.execute_reply.started": "2023-01-18T12:41:35.244308Z"
    },
    "tags": []
   },
   "outputs": [
    {
     "data": {
      "text/plain": [
       "['2008', '2009', '2018', '2010', '2011', '2013', '2015', '2017']"
      ]
     },
     "execution_count": 726,
     "metadata": {},
     "output_type": "execute_result"
    }
   ],
   "source": [
    "pattern = re.compile(\"\\d{4}\")\n",
    "pattern.findall(txt)"
   ]
  },
  {
   "cell_type": "code",
   "execution_count": 727,
   "id": "ebcc9832-95bb-45e0-b710-baaf18c8f1f5",
   "metadata": {
    "execution": {
     "iopub.execute_input": "2023-01-18T12:42:07.153700Z",
     "iopub.status.busy": "2023-01-18T12:42:07.152709Z",
     "iopub.status.idle": "2023-01-18T12:42:07.160753Z",
     "shell.execute_reply": "2023-01-18T12:42:07.159732Z",
     "shell.execute_reply.started": "2023-01-18T12:42:07.153700Z"
    }
   },
   "outputs": [],
   "source": [
    "txt = \"\"\"\n",
    "123143\n",
    "432\n",
    "5657\n",
    "4435\n",
    "54\n",
    "65111\n",
    "\"\"\""
   ]
  },
  {
   "cell_type": "code",
   "execution_count": 735,
   "id": "1838ead0-eb21-4cda-8897-3714276d05b5",
   "metadata": {
    "execution": {
     "iopub.execute_input": "2023-01-18T14:49:11.759599Z",
     "iopub.status.busy": "2023-01-18T14:49:11.758601Z",
     "iopub.status.idle": "2023-01-18T14:49:11.768640Z",
     "shell.execute_reply": "2023-01-18T14:49:11.767639Z",
     "shell.execute_reply.started": "2023-01-18T14:49:11.759599Z"
    },
    "tags": []
   },
   "outputs": [
    {
     "data": {
      "text/plain": [
       "['123143', '5657', '4435', '65111']"
      ]
     },
     "execution_count": 735,
     "metadata": {},
     "output_type": "execute_result"
    }
   ],
   "source": [
    "pattern = re.compile(\"\\d{4,}\")\n",
    "pattern.findall(txt)"
   ]
  },
  {
   "cell_type": "code",
   "execution_count": 759,
   "id": "08179098-89c3-4d70-b4c3-7a33c9c291ac",
   "metadata": {
    "execution": {
     "iopub.execute_input": "2023-01-18T15:11:24.870961Z",
     "iopub.status.busy": "2023-01-18T15:11:24.869994Z",
     "iopub.status.idle": "2023-01-18T15:11:24.882961Z",
     "shell.execute_reply": "2023-01-18T15:11:24.881998Z",
     "shell.execute_reply.started": "2023-01-18T15:11:24.870961Z"
    },
    "tags": []
   },
   "outputs": [],
   "source": [
    "txt = \"\"\"\n",
    "555-555-5555\n",
    "555 555 5555\n",
    "5555555555\n",
    "\"\"\""
   ]
  },
  {
   "cell_type": "code",
   "execution_count": 760,
   "id": "2f18b206-6ec3-4991-a41e-80ddadd07d22",
   "metadata": {
    "execution": {
     "iopub.execute_input": "2023-01-18T15:11:28.779771Z",
     "iopub.status.busy": "2023-01-18T15:11:28.778801Z",
     "iopub.status.idle": "2023-01-18T15:11:28.800893Z",
     "shell.execute_reply": "2023-01-18T15:11:28.799873Z",
     "shell.execute_reply.started": "2023-01-18T15:11:28.779771Z"
    },
    "tags": []
   },
   "outputs": [
    {
     "data": {
      "text/plain": [
       "['555-555-5555', '555 555 5555', '5555555555']"
      ]
     },
     "execution_count": 760,
     "metadata": {},
     "output_type": "execute_result"
    }
   ],
   "source": [
    "# pattern = re.compile(\"\\d+[-\\s]?\\d+[-\\s]?\\d+\")\n",
    "pattern = re.compile(r\"\\d{3}[-\\s]?\\d{3}[-\\s]?\\d{4}\") # same as above but specifies the # of digits\n",
    "pattern.findall(txt)"
   ]
  },
  {
   "cell_type": "markdown",
   "id": "f3163c0a-d288-4795-b02c-68f5d5879bdb",
   "metadata": {},
   "source": [
    "#### Greedy \\ Non-greedy"
   ]
  },
  {
   "cell_type": "code",
   "execution_count": 761,
   "id": "afb424d2-b97f-4959-90c4-6c2102385ed3",
   "metadata": {
    "execution": {
     "iopub.execute_input": "2023-01-18T15:11:39.378631Z",
     "iopub.status.busy": "2023-01-18T15:11:39.377631Z",
     "iopub.status.idle": "2023-01-18T15:11:39.395648Z",
     "shell.execute_reply": "2023-01-18T15:11:39.394635Z",
     "shell.execute_reply.started": "2023-01-18T15:11:39.378631Z"
    },
    "tags": []
   },
   "outputs": [],
   "source": [
    "txt = \"\"\"<html><head><title>Title</title><>\"\"\""
   ]
  },
  {
   "cell_type": "code",
   "execution_count": 762,
   "id": "11ee1904-5bfb-4801-a26a-3164c08b0fec",
   "metadata": {
    "execution": {
     "iopub.execute_input": "2023-01-18T15:11:43.564903Z",
     "iopub.status.busy": "2023-01-18T15:11:43.564903Z",
     "iopub.status.idle": "2023-01-18T15:11:43.580941Z",
     "shell.execute_reply": "2023-01-18T15:11:43.580941Z",
     "shell.execute_reply.started": "2023-01-18T15:11:43.564903Z"
    },
    "tags": []
   },
   "outputs": [
    {
     "data": {
      "text/plain": [
       "['<html>', '<head>', '<title>', '</title>', '<>']"
      ]
     },
     "execution_count": 762,
     "metadata": {},
     "output_type": "execute_result"
    }
   ],
   "source": [
    "pattern = re.compile(\"<.*>\") # greedy, will match the longes match possible\n",
    "pattern = re.compile(r\"<.*?>\") # non-greedy will search for the smallest match. Enabled with `?` after quantifier\n",
    "pattern.findall(txt)"
   ]
  },
  {
   "cell_type": "markdown",
   "id": "a99d2e92-8b5b-4603-be71-8afbaebaea75",
   "metadata": {},
   "source": [
    "#### Boundary Matchers\n"
   ]
  },
  {
   "cell_type": "code",
   "execution_count": 3,
   "id": "f512ae0a-4a4f-4afc-9dc5-0da9f3a538fd",
   "metadata": {
    "execution": {
     "iopub.execute_input": "2023-01-18T22:20:25.150724Z",
     "iopub.status.busy": "2023-01-18T22:20:25.150724Z",
     "iopub.status.idle": "2023-01-18T22:20:25.163753Z",
     "shell.execute_reply": "2023-01-18T22:20:25.163753Z",
     "shell.execute_reply.started": "2023-01-18T22:20:25.150724Z"
    },
    "tags": []
   },
   "outputs": [],
   "source": [
    "txt = r\"\"\"\n",
    "Lorem Ipsum is simply dummy text of the printing and typesetting industry. \n",
    "Lorem Ipsum has been the industry's standard dummy text ever since the 1500s, Lorem ad Ipsum\n",
    "bla bla Lorem\n",
    "when an unknown printer took a galley of type and scrambled it to make a type specimen book. \n",
    "It has survived not only five centuries, Lorem Ipsum but also the leap into electronic typesetting, \n",
    "remaining essentially unchanged. Lorem ad Ipsum\n",
    "It was popularised in the 1960s with the release of Letraset sheets containing Lorem Ipsum passages, \n",
    "and more recently with desktop publishing software like Aldus PageMaker including versions of Lorem ad Ipsum.\n",
    "Report Summary:\n",
    "\n",
    "Number of Other Included Managers:                       0\n",
    "                                        ---------------------------------------\n",
    "\n",
    "Form 13F Information Table Entry Total:                 659\n",
    "                                        ---------------------------------------\n",
    "                                                     2,403,697\n",
    "Form 13F Information Table Value Total: --------------------------------------\n",
    "                                                    (thousands)\n",
    "\n",
    "List of Other Included Managers:\n",
    "\"\"\""
   ]
  },
  {
   "cell_type": "code",
   "execution_count": 948,
   "id": "1e629bfc-9cf7-4e61-bead-8fcf761ff8e0",
   "metadata": {
    "execution": {
     "iopub.execute_input": "2023-01-18T21:52:26.993962Z",
     "iopub.status.busy": "2023-01-18T21:52:26.993962Z",
     "iopub.status.idle": "2023-01-18T21:52:27.001956Z",
     "shell.execute_reply": "2023-01-18T21:52:27.000981Z",
     "shell.execute_reply.started": "2023-01-18T21:52:26.993962Z"
    },
    "tags": []
   },
   "outputs": [
    {
     "data": {
      "text/plain": [
       "['Entry Total:                 659\\n                                        ---------------------------------------\\n                                                     2,403,697\\nForm 13F Information Table Value Total:']"
      ]
     },
     "execution_count": 948,
     "metadata": {},
     "output_type": "execute_result"
    }
   ],
   "source": [
    "pattern = re.compile(\"and|or|the\")\n",
    "pattern = re.compile(r\"\\b(and|or|the)\")\n",
    "##--------------------\n",
    "pattern = re.compile(r\"(?:Entry Total:?)(?:\\s*\\d.*\\s*)(?:Value Total:?)\", re.DOTALL|re.I) # whatever is between two strings, even across new lines\n",
    "# pattern = re.compile(r\"(?<=Entry Total:?)\", re.DOTALL|re.I) # whatever is between two strings, even across new lines\n",
    "\n",
    "##-------------------------------------\n",
    "# pattern = re.compile(r\"^Lorem\", flags=re.M) # matches only at the BEGINNING of the line\n",
    "# pattern = re.compile(r\"(?<=[^\\n])Lorem\", flags=re.M) # matches NOT at the beginning of the line\n",
    "##-------------------------------------\n",
    "# pattern = re.compile(r\"Lorem$\", flags=re.M) # matches pattern ONLY at the END of the line\n",
    "# pattern = re.compile(r\"Lorem(?=[^\\n])\", flags=re.M) # matches NOT at the END Of the line\n",
    "# pattern = re.compile(r\"(?<=[^\\n])Lorem(?=[^\\n])\", flags=re.M) # matches NOT at the END or BEGINNING Of the line\n",
    "##-------------------------------------\n",
    "# pattern = re.compile(r\"(?<=[^\\n])Lorem(?=\\sad)\", flags=re.M) # matches NOT new line and followed by `ad`\n",
    "# pattern = re.compile(r\"(?<=[^\\n])Lorem(?=(\\s)(?!\\sad))\", flags=re.M) # matches NOT new line and NOT followed by \" \" and \"ad\"\n",
    "###----------------------------------- \n",
    "# pattern = re.compile(r\"(?:Lorem Ipsum)(?:.*?)(?:Lorem ad Ipsum)\", flags=re.M|re.DOTALL) # group between strings - greedy\n",
    "# pattern = re.compile(r\"(Lorem Ipsum)(.*?)(Lorem ad Ipsum)\", flags=re.M|re.DOTALL) # group between strings - non-greedy\n",
    "# above are two types of presenting results: 1. with the search strings `from` and `to` included. 2. just what's between them,\n",
    "# but also separately the list presents the values for the individual search strings `from` and `to` \n",
    "pattern.findall(txt)\n",
    "# highlight_regex_matches(pattern, txt)"
   ]
  },
  {
   "cell_type": "code",
   "execution_count": null,
   "id": "5f9cc0a2-2273-4d26-b8ab-8acf8b014e53",
   "metadata": {
    "tags": []
   },
   "outputs": [],
   "source": [
    "\n"
   ]
  },
  {
   "cell_type": "code",
   "execution_count": 57,
   "id": "bf4a5064-1833-4822-aa03-02857924263d",
   "metadata": {
    "execution": {
     "iopub.execute_input": "2023-01-18T22:52:10.842927Z",
     "iopub.status.busy": "2023-01-18T22:52:10.842927Z",
     "iopub.status.idle": "2023-01-18T22:52:10.857908Z",
     "shell.execute_reply": "2023-01-18T22:52:10.857908Z",
     "shell.execute_reply.started": "2023-01-18T22:52:10.842927Z"
    },
    "tags": []
   },
   "outputs": [
    {
     "name": "stdout",
     "output_type": "stream",
     "text": [
      "Report Summary:\n",
      "\n",
      "Number of Other Included Managers:                       0\n",
      "                                        ---------------------------------------\n",
      "\n",
      "Form 13F Information Table Entry Total:                 659\n",
      "                                        ---------------------------------------\n",
      "                                                     2,403,697\n",
      "Form 13F Information Table Value Total: --------------------------------------\n",
      "                                                    (thousands)\n",
      "\n",
      "List of Other Included Managers:\n",
      "\n"
     ]
    }
   ],
   "source": [
    "# experiments with my text. start: select 200 chars before \"Entry Total\"\n",
    "# end: select 200 chars after \"Value Total\", then concat these texts together\n",
    "start = re.compile(r\"(?:^.{1,200})(?:Entry Total:?)(?:.{1,400}$)\", flags=re.M|re.DOTALL)\n",
    "end = re.compile(r\"(?:Value Total:?)(?:.{1,200}$)\", flags=re.M|re.DOTALL)\n",
    "pattern = re.compile(fr\"{start}{end}\")\n",
    "print((start.findall(txt)+end.findall(txt))[0], sep=\"\\n\")\n",
    "\n",
    "# match = re.search(pattern, txt)\n",
    "\n",
    "# if match:\n",
    "#     selected_lines = match.group(\"selected\")\n",
    "#     print(selected_lines)"
   ]
  },
  {
   "cell_type": "code",
   "execution_count": 64,
   "id": "1fcf8812-7806-4450-9e34-688fa6696b48",
   "metadata": {
    "execution": {
     "iopub.execute_input": "2023-01-18T22:58:07.339558Z",
     "iopub.status.busy": "2023-01-18T22:58:07.338593Z",
     "iopub.status.idle": "2023-01-18T22:58:07.344578Z",
     "shell.execute_reply": "2023-01-18T22:58:07.344578Z",
     "shell.execute_reply.started": "2023-01-18T22:58:07.339558Z"
    },
    "tags": []
   },
   "outputs": [
    {
     "data": {
      "text/plain": [
       "{'                                                     2,403,697',\n",
       " '                                        ---------------------------------------',\n",
       " 'Form 13F Information Table Entry Total:                 659',\n",
       " 'Form 13F Information Table Value Total: --------------------------------------',\n",
       " 'Number of Other Included Managers:                       0',\n",
       " 'Report Summary:',\n",
       " 'Value Total: --------------------------------------'}"
      ]
     },
     "execution_count": 64,
     "metadata": {},
     "output_type": "execute_result"
    }
   ],
   "source": [
    "set(start.findall(txt)[0].splitlines()).symmetric_difference(end.findall(txt)[0].splitlines())\n",
    "\n",
    "# txt"
   ]
  }
 ],
 "metadata": {
  "kernelspec": {
   "display_name": "Python 3 (ipykernel)",
   "language": "python",
   "name": "python3"
  },
  "language_info": {
   "codemirror_mode": {
    "name": "ipython",
    "version": 3
   },
   "file_extension": ".py",
   "mimetype": "text/x-python",
   "name": "python",
   "nbconvert_exporter": "python",
   "pygments_lexer": "ipython3",
   "version": "3.9.7"
  }
 },
 "nbformat": 4,
 "nbformat_minor": 5
}
