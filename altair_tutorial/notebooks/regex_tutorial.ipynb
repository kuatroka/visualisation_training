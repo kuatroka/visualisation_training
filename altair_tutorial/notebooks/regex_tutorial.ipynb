{
 "cells": [
  {
   "cell_type": "code",
   "execution_count": 243,
   "id": "72692020-2402-4b86-b30e-bf6eba1aa491",
   "metadata": {
    "execution": {
     "iopub.execute_input": "2023-01-14T00:04:37.627206Z",
     "iopub.status.busy": "2023-01-14T00:04:37.627206Z",
     "iopub.status.idle": "2023-01-14T00:04:37.644238Z",
     "shell.execute_reply": "2023-01-14T00:04:37.643233Z",
     "shell.execute_reply.started": "2023-01-14T00:04:37.627206Z"
    },
    "tags": []
   },
   "outputs": [],
   "source": [
    "text_string = \"\"\"\n",
    "\n",
    "Form 13F Information Table Entry Total:                 659\n",
    "                                        ---------------------------------------\n",
    "    sdsfsdfdsfd  Form 13F  dfdfdsf dfds3454354\n",
    "                                                     2,403,697\n",
    "Form 13F Information Table Value Total: -------------------------------------- 1,456 1456 Form 13F\n",
    "                                                    (thousands) $2,403,697\n",
    "Form 13F Information Table Total Value: -------------------------------------- 1,456 1456\n",
    "                                                    (thousands) $2,403,697.00\n",
    " \"\"\"\n",
    "\n",
    "cast_to_bytecode = text_string.encode() # decodes into bytecode `.decode('utf-8')`\n",
    "text_raw = fr\"{text_string}\" # encodes string to raw text. Pretty cool tip on use `fr` together. Never seen it before"
   ]
  },
  {
   "cell_type": "code",
   "execution_count": 244,
   "id": "89531b98-5378-4e4f-9fcc-635543a24156",
   "metadata": {
    "execution": {
     "iopub.execute_input": "2023-01-14T00:04:38.250049Z",
     "iopub.status.busy": "2023-01-14T00:04:38.249075Z",
     "iopub.status.idle": "2023-01-14T00:04:38.269084Z",
     "shell.execute_reply": "2023-01-14T00:04:38.268081Z",
     "shell.execute_reply.started": "2023-01-14T00:04:38.250049Z"
    },
    "tags": []
   },
   "outputs": [
    {
     "data": {
      "text/plain": [
       "'\\n\\nForm 13F Information Table Entry Total:                 659\\n                                        ---------------------------------------\\n    sdsfsdfdsfd  Form 13F  dfdfdsf dfds3454354\\n                                                     2,403,697\\nForm 13F Information Table Value Total: -------------------------------------- 1,456 1456 Form 13F\\n                                                    (thousands) $2,403,697\\nForm 13F Information Table Total Value: -------------------------------------- 1,456 1456\\n                                                    (thousands) $2,403,697.00\\n '"
      ]
     },
     "execution_count": 244,
     "metadata": {},
     "output_type": "execute_result"
    }
   ],
   "source": [
    "# text_raw\n",
    "text_string\n",
    "# text_string.encode()"
   ]
  },
  {
   "cell_type": "code",
   "execution_count": 274,
   "id": "7e1d3a53-ebab-4926-9fc8-fd280a515fe7",
   "metadata": {
    "execution": {
     "iopub.execute_input": "2023-01-14T00:23:35.148924Z",
     "iopub.status.busy": "2023-01-14T00:23:35.147893Z",
     "iopub.status.idle": "2023-01-14T00:23:35.159895Z",
     "shell.execute_reply": "2023-01-14T00:23:35.158914Z",
     "shell.execute_reply.started": "2023-01-14T00:23:35.148924Z"
    },
    "tags": []
   },
   "outputs": [
    {
     "data": {
      "text/plain": [
       "[' Form 13F', ' Form 13F']"
      ]
     },
     "execution_count": 274,
     "metadata": {},
     "output_type": "execute_result"
    }
   ],
   "source": [
    "import re\n",
    "string = \"\"\"\n",
    "abc-1000?der \n",
    "\n",
    "How about a NO! or 20 times NO.\n",
    "\"\"\"\n",
    "string2 = \"\"\"dgsfdgsdg dfgdsfg \"30\",2014-08-08,\"100\",\"MT\",\"8\",\"3624\",\"#\",\"#\",1\"\"\"\n",
    "string3 = \"\"\"dgsfdgsdg dfgdsfg, 30 2014-08-08, 100 MT 8 3624 # # 1\n",
    "How about a NO! or 20 times NO.\"\"\"\n",
    "string4 = \"\"\"0828041930\t72\t0:5493513263615:1:1\t0:3513263615:2:1\t0:5491124970159:1:1\t\t0\t9\t14\t841\tSMPP.841:1\t1.0\t0\t0\t\"\"\"\n",
    "\n",
    "# \\d - digit in the string\n",
    "# \\d+ - matches all individual full digits/words with digits only, but it also means 1,345,555 is extracted as ['1', '345', '555']\n",
    "# \\d* - as `\\d+` plus every white space \"\" in the string ['',  '','','','1', '','','659','','', ''] etc\n",
    "# \\D - Negation of the `\\d`. 1st non-digit. Not [0-9].\n",
    "# \\w -  letter, digit or _ but not digits. `\\w{3,}?`: limits to any 3 or more starting chars. `\\w{3,}` to words with 3 or more chars \n",
    "# \\W - negation of `\\w`\n",
    "# \\s - white space\n",
    "# \\S - character that is anythin but white space\n",
    "# . - character except the new line\n",
    "# \\n\n",
    "re.findall(r\"(?:\\s*(?:\\\"([^\\\"]*)\\\"|([^\\s]+))\\s*\\s?)+?\", string3) # extracts every standalone whole word/character\n",
    "re.findall(r\"(?:\\s*(?:\\\"([^\\\"]*)\\\"|([^,]+))\\s*,?)+?\", string3) # extracts every standalone whole word/character separated by \",\"\n",
    "re.findall(r\"Entry Total\\W+([0-9]{0,5})\", text_string) # extracts digits in a line that starts with \"Entry Total\"\n",
    "re.findall(r\"(?:[^\\t]+\\s|\\t|\\w$)\", string4) # extracts data separated by tabs\n",
    "re.findall(r\"\\$?\\s?(\\$?\\d+[\\.\\s,\\dk]+)|(\\d+[\\.\\s,\\dk]+\\$?)\", text_string) # extracts data separated by tabs\n",
    "re.findall(r\"Value Total(:)?\\W+([0-9,?\\s?]{0,10})\", text_string) # extracts digits in a line that starts with \"Entry Total\"\n",
    "re.findall(r\"(?:un)?expected\", \"a few unexpected words are to be expected\")\n",
    "re.findall(r\"(?:un|not )?expected\", \"unexpected and not expected should both be matched\")\n",
    "# re.findall(r\"(?:Value Total|Total Value)\\W+?[\\d+,?\\d+?]\", text_string)\n",
    "re.findall(r\"(?:Value Total|Total Value)\", text_string) # () treats the selection as a unit\n",
    "re.findall(r\"[0-9A-Za-z\\-]+\", text_string) # [] is like a list of values to match. It can be any order and values are independent\n",
    "re.findall(r\"([\\d,.?]+)\", text_string)\n",
    "re.findall(r\"(?<!\\n) Form 13F\", text_string) # matches every \"Form 13F\" but not if on new line\n",
    "re.findall(r\"(?<!\\n) Form 13F\", text_string) # matches every \"Form 13F\" but not if on new line\n",
    "\n",
    "\n",
    "\n",
    "# re.search(r\"\\D.*\", fr'{string}', re.DOTALL).group()"
   ]
  },
  {
   "cell_type": "code",
   "execution_count": 263,
   "id": "11899ca8-4576-4d47-b464-ebbbbe3ed140",
   "metadata": {
    "execution": {
     "iopub.execute_input": "2023-01-14T00:14:58.519367Z",
     "iopub.status.busy": "2023-01-14T00:14:58.519367Z",
     "iopub.status.idle": "2023-01-14T00:14:58.527372Z",
     "shell.execute_reply": "2023-01-14T00:14:58.526396Z",
     "shell.execute_reply.started": "2023-01-14T00:14:58.519367Z"
    },
    "tags": []
   },
   "outputs": [
    {
     "data": {
      "text/plain": [
       "'\\n\\nForm 13F Information Table Entry Total:                 659\\n                                        ---------------------------------------\\n    sdsfsdfdsfd  Form 13F  dfdfdsf dfds3454354\\n                                                     2,403,697\\nForm 13F Information Table Value Total: -------------------------------------- 1,456 1456 Form 13F\\n                                                    (thousands) $2,403,697\\nForm 13F Information Table Total Value: -------------------------------------- 1,456 1456\\n                                                    (thousands) $2,403,697.00\\n '"
      ]
     },
     "execution_count": 269,
     "metadata": {},
     "output_type": "execute_result"
    }
   ],
   "source": [
    "fr\"{text_string}\"\n",
    "# text_raw\n",
    "print(text_string)"
   ]
  },
  {
   "cell_type": "markdown",
   "id": "63ea7ebd-204c-46e6-ba02-48cb36e23e24",
   "metadata": {},
   "source": [
    "## Real Python Regex Course"
   ]
  },
  {
   "cell_type": "markdown",
   "id": "11a18f68-64f1-453c-b27e-d5be2f799ece",
   "metadata": {},
   "source": [
    "<details><summary>(email text)</summary>\n",
    "text = \"\"\"\n",
    "X-RP-State: 1095x{ar}y394<rnE>3a34<med>41a<aai>x{bb}y\n",
    "MIME-Version: 1.0\n",
    "Date: Sun, 18 Sep 1949\n",
    "From: wile.e.coyote@desert.example.com\n",
    "To: support@acme.example.com\n",
    "Subject: suit failure\n",
    "\n",
    "Content-Type: text/plain; charset=\"ASCII\"\n",
    "\n",
    "Dear sirs,\n",
    "\n",
    "I'm writing to inform you of a drastic failure of your ACME Super Outfit. On Saturday, September 17, I endeavored to use your suit to achieve the dream of flight. I was beyond hopeful that my purchase from Acme Corporation would finally enable to capture my nemesis, the Road Runner.\n",
    "\n",
    "I am confident that I used your Super Outfit according to the directions, as it is well known, I am a super-genius. After failing to achieve my goals\n",
    "using a variety of mechanisms, including boomerang, a fake \"School Crossing\" sign, a rocket launcher, and a mural of a tunnel, I turned to your corporation's device. I was most disappointed at its failure, in fact, I uttered the oath \"$#^!*\" then screamed \"Aaaaaaaaaah!\" all the way to the ground.\n",
    "\n",
    "Product information was as follows:\n",
    "\n",
    "ACME Super Outfit\n",
    "Model: 3990[X]\\5\n",
    "S/N: 9230413-3\n",
    "Date of purchase: Friday September 15, 1949\n",
    "\n",
    "Enclosed, please find an invoice for my hospital bills. The large fall was quite incapacitating.\n",
    "\"\"\"\n",
    "</details>"
   ]
  },
  {
   "cell_type": "code",
   "execution_count": 275,
   "id": "3b01f7b7-5909-4ddb-ac2d-a1232798e68a",
   "metadata": {
    "execution": {
     "iopub.execute_input": "2023-01-16T20:05:34.093494Z",
     "iopub.status.busy": "2023-01-16T20:05:34.091521Z",
     "iopub.status.idle": "2023-01-16T20:05:34.123497Z",
     "shell.execute_reply": "2023-01-16T20:05:34.122496Z",
     "shell.execute_reply.started": "2023-01-16T20:05:34.093494Z"
    }
   },
   "outputs": [],
   "source": [
    "import re"
   ]
  },
  {
   "cell_type": "code",
   "execution_count": 281,
   "id": "44789bc1-b86a-41d4-915d-66ea9ec528fe",
   "metadata": {
    "execution": {
     "iopub.execute_input": "2023-01-16T20:26:42.675054Z",
     "iopub.status.busy": "2023-01-16T20:26:42.675054Z",
     "iopub.status.idle": "2023-01-16T20:26:42.688052Z",
     "shell.execute_reply": "2023-01-16T20:26:42.688052Z",
     "shell.execute_reply.started": "2023-01-16T20:26:42.675054Z"
    },
    "tags": []
   },
   "outputs": [
    {
     "data": {
      "text/plain": [
       "<re.Match object; span=(7, 11), match='spam'>"
      ]
     },
     "execution_count": 281,
     "metadata": {},
     "output_type": "execute_result"
    }
   ],
   "source": [
    "question = \"Lovely spam! Wonderful spam!\"\n",
    "re.search(\"spam\", question)"
   ]
  },
  {
   "cell_type": "code",
   "execution_count": 283,
   "id": "c625d0ef-d210-476f-ba17-89a9621f4c2e",
   "metadata": {
    "execution": {
     "iopub.execute_input": "2023-01-16T21:22:19.377472Z",
     "iopub.status.busy": "2023-01-16T21:22:19.377472Z",
     "iopub.status.idle": "2023-01-16T21:22:19.392495Z",
     "shell.execute_reply": "2023-01-16T21:22:19.391500Z",
     "shell.execute_reply.started": "2023-01-16T21:22:19.377472Z"
    },
    "tags": []
   },
   "outputs": [
    {
     "data": {
      "text/plain": [
       "'spam'"
      ]
     },
     "execution_count": 283,
     "metadata": {},
     "output_type": "execute_result"
    }
   ],
   "source": [
    "question[7:11]"
   ]
  },
  {
   "cell_type": "code",
   "execution_count": 285,
   "id": "70664974-41df-4b1d-b68a-dd081200c232",
   "metadata": {
    "execution": {
     "iopub.execute_input": "2023-01-16T21:22:50.841823Z",
     "iopub.status.busy": "2023-01-16T21:22:50.841823Z",
     "iopub.status.idle": "2023-01-16T21:22:50.848841Z",
     "shell.execute_reply": "2023-01-16T21:22:50.847856Z",
     "shell.execute_reply.started": "2023-01-16T21:22:50.841823Z"
    },
    "tags": []
   },
   "outputs": [
    {
     "data": {
      "text/plain": [
       "True"
      ]
     },
     "execution_count": 285,
     "metadata": {},
     "output_type": "execute_result"
    }
   ],
   "source": [
    "match = re.search('spam', question)\n",
    "bool(match)"
   ]
  },
  {
   "cell_type": "code",
   "execution_count": 286,
   "id": "5faab91a-3da2-4a4f-9e4e-10e404efcb49",
   "metadata": {
    "execution": {
     "iopub.execute_input": "2023-01-16T21:23:00.216606Z",
     "iopub.status.busy": "2023-01-16T21:23:00.216606Z",
     "iopub.status.idle": "2023-01-16T21:23:00.224627Z",
     "shell.execute_reply": "2023-01-16T21:23:00.224627Z",
     "shell.execute_reply.started": "2023-01-16T21:23:00.216606Z"
    }
   },
   "outputs": [
    {
     "data": {
      "text/plain": [
       "(7, 11)"
      ]
     },
     "execution_count": 286,
     "metadata": {},
     "output_type": "execute_result"
    }
   ],
   "source": [
    "match.span()"
   ]
  },
  {
   "cell_type": "code",
   "execution_count": 287,
   "id": "8e44d9ac-6637-4201-8d72-347e3aa3495b",
   "metadata": {
    "execution": {
     "iopub.execute_input": "2023-01-16T21:23:09.511455Z",
     "iopub.status.busy": "2023-01-16T21:23:09.510455Z",
     "iopub.status.idle": "2023-01-16T21:23:09.528454Z",
     "shell.execute_reply": "2023-01-16T21:23:09.527454Z",
     "shell.execute_reply.started": "2023-01-16T21:23:09.511455Z"
    }
   },
   "outputs": [
    {
     "data": {
      "text/plain": [
       "7"
      ]
     },
     "execution_count": 287,
     "metadata": {},
     "output_type": "execute_result"
    }
   ],
   "source": [
    "match.start()"
   ]
  },
  {
   "cell_type": "code",
   "execution_count": 293,
   "id": "e74852f0-595d-44bd-8aeb-b76089b76a9c",
   "metadata": {
    "execution": {
     "iopub.execute_input": "2023-01-16T21:24:04.576403Z",
     "iopub.status.busy": "2023-01-16T21:24:04.576403Z",
     "iopub.status.idle": "2023-01-16T21:24:04.583376Z",
     "shell.execute_reply": "2023-01-16T21:24:04.583376Z",
     "shell.execute_reply.started": "2023-01-16T21:24:04.576403Z"
    },
    "tags": []
   },
   "outputs": [
    {
     "data": {
      "text/plain": [
       "11"
      ]
     },
     "execution_count": 293,
     "metadata": {},
     "output_type": "execute_result"
    }
   ],
   "source": [
    "match.end()"
   ]
  },
  {
   "cell_type": "code",
   "execution_count": 294,
   "id": "7e2c593c-9b62-4446-80e8-bbb1c0205d07",
   "metadata": {
    "execution": {
     "iopub.execute_input": "2023-01-16T21:24:05.745521Z",
     "iopub.status.busy": "2023-01-16T21:24:05.745521Z",
     "iopub.status.idle": "2023-01-16T21:24:05.753549Z",
     "shell.execute_reply": "2023-01-16T21:24:05.753549Z",
     "shell.execute_reply.started": "2023-01-16T21:24:05.745521Z"
    },
    "tags": []
   },
   "outputs": [
    {
     "data": {
      "text/plain": [
       "'Lovely spam! Wonderful spam!'"
      ]
     },
     "execution_count": 294,
     "metadata": {},
     "output_type": "execute_result"
    }
   ],
   "source": [
    "match.string"
   ]
  },
  {
   "cell_type": "code",
   "execution_count": 296,
   "id": "d98dc503-9e8e-45d3-b64c-37c22f723380",
   "metadata": {
    "execution": {
     "iopub.execute_input": "2023-01-16T21:26:34.393654Z",
     "iopub.status.busy": "2023-01-16T21:26:34.393654Z",
     "iopub.status.idle": "2023-01-16T21:26:34.409669Z",
     "shell.execute_reply": "2023-01-16T21:26:34.408673Z",
     "shell.execute_reply.started": "2023-01-16T21:26:34.393654Z"
    },
    "tags": []
   },
   "outputs": [],
   "source": [
    "re.match(\"spam\", question) # re.match only matches the beginning of the string. Like `^` anchor\n",
    "# it doesn't return anythink,because there is no \"spam\" at the beginnig of the sting"
   ]
  },
  {
   "cell_type": "code",
   "execution_count": 297,
   "id": "46f76df6-3b1c-4214-9d17-01d8b32b1e80",
   "metadata": {
    "execution": {
     "iopub.execute_input": "2023-01-16T21:27:13.312671Z",
     "iopub.status.busy": "2023-01-16T21:27:13.312671Z",
     "iopub.status.idle": "2023-01-16T21:27:13.318671Z",
     "shell.execute_reply": "2023-01-16T21:27:13.318671Z",
     "shell.execute_reply.started": "2023-01-16T21:27:13.312671Z"
    }
   },
   "outputs": [],
   "source": [
    "match = re.match('spam', question)\n"
   ]
  },
  {
   "cell_type": "code",
   "execution_count": 298,
   "id": "4a2b96a7-1242-46b7-a4a9-1a14fc1404d3",
   "metadata": {
    "execution": {
     "iopub.execute_input": "2023-01-16T21:27:16.914825Z",
     "iopub.status.busy": "2023-01-16T21:27:16.913828Z",
     "iopub.status.idle": "2023-01-16T21:27:16.933085Z",
     "shell.execute_reply": "2023-01-16T21:27:16.932557Z",
     "shell.execute_reply.started": "2023-01-16T21:27:16.913828Z"
    }
   },
   "outputs": [],
   "source": [
    "match"
   ]
  },
  {
   "cell_type": "code",
   "execution_count": 299,
   "id": "950bf7db-4e96-489e-9de4-701a18dbdc98",
   "metadata": {
    "execution": {
     "iopub.execute_input": "2023-01-16T21:27:38.677965Z",
     "iopub.status.busy": "2023-01-16T21:27:38.676968Z",
     "iopub.status.idle": "2023-01-16T21:27:38.698967Z",
     "shell.execute_reply": "2023-01-16T21:27:38.697964Z",
     "shell.execute_reply.started": "2023-01-16T21:27:38.677965Z"
    }
   },
   "outputs": [
    {
     "data": {
      "text/plain": [
       "True"
      ]
     },
     "execution_count": 299,
     "metadata": {},
     "output_type": "execute_result"
    }
   ],
   "source": [
    "match is None\n"
   ]
  },
  {
   "cell_type": "code",
   "execution_count": 300,
   "id": "d08c553e-1b5f-40d9-bdb6-00eec5d56a08",
   "metadata": {
    "execution": {
     "iopub.execute_input": "2023-01-16T21:27:56.551984Z",
     "iopub.status.busy": "2023-01-16T21:27:56.551984Z",
     "iopub.status.idle": "2023-01-16T21:27:56.557993Z",
     "shell.execute_reply": "2023-01-16T21:27:56.557993Z",
     "shell.execute_reply.started": "2023-01-16T21:27:56.551984Z"
    }
   },
   "outputs": [
    {
     "data": {
      "text/plain": [
       "False"
      ]
     },
     "execution_count": 300,
     "metadata": {},
     "output_type": "execute_result"
    }
   ],
   "source": [
    "bool(match)"
   ]
  },
  {
   "cell_type": "code",
   "execution_count": 302,
   "id": "28760c95-48cb-466c-8249-3ae99a61b8ff",
   "metadata": {
    "execution": {
     "iopub.execute_input": "2023-01-16T21:28:35.637499Z",
     "iopub.status.busy": "2023-01-16T21:28:35.637499Z",
     "iopub.status.idle": "2023-01-16T21:28:35.646500Z",
     "shell.execute_reply": "2023-01-16T21:28:35.645502Z",
     "shell.execute_reply.started": "2023-01-16T21:28:35.637499Z"
    },
    "tags": []
   },
   "outputs": [
    {
     "data": {
      "text/plain": [
       "<re.Match object; span=(0, 5), match='Lovel'>"
      ]
     },
     "execution_count": 302,
     "metadata": {},
     "output_type": "execute_result"
    }
   ],
   "source": [
    "re.match(\"\\w{5}\", question)"
   ]
  },
  {
   "cell_type": "code",
   "execution_count": 303,
   "id": "225050e7-c062-4437-95e4-be516d907277",
   "metadata": {
    "execution": {
     "iopub.execute_input": "2023-01-16T21:38:06.587985Z",
     "iopub.status.busy": "2023-01-16T21:38:06.587985Z",
     "iopub.status.idle": "2023-01-16T21:38:06.596998Z",
     "shell.execute_reply": "2023-01-16T21:38:06.595985Z",
     "shell.execute_reply.started": "2023-01-16T21:38:06.587985Z"
    }
   },
   "outputs": [],
   "source": [
    "match = re.fullmatch('spam', question)"
   ]
  },
  {
   "cell_type": "code",
   "execution_count": 304,
   "id": "5755885c-45ac-427e-9d63-b64ab8fc92e9",
   "metadata": {
    "execution": {
     "iopub.execute_input": "2023-01-16T21:38:13.704296Z",
     "iopub.status.busy": "2023-01-16T21:38:13.704296Z",
     "iopub.status.idle": "2023-01-16T21:38:13.713304Z",
     "shell.execute_reply": "2023-01-16T21:38:13.713304Z",
     "shell.execute_reply.started": "2023-01-16T21:38:13.704296Z"
    }
   },
   "outputs": [
    {
     "data": {
      "text/plain": [
       "True"
      ]
     },
     "execution_count": 304,
     "metadata": {},
     "output_type": "execute_result"
    }
   ],
   "source": [
    "match is None"
   ]
  },
  {
   "cell_type": "code",
   "execution_count": 307,
   "id": "1f651e48-6886-4a10-aa81-810fe61e4657",
   "metadata": {
    "execution": {
     "iopub.execute_input": "2023-01-16T21:47:16.266727Z",
     "iopub.status.busy": "2023-01-16T21:47:16.265731Z",
     "iopub.status.idle": "2023-01-16T21:47:16.275727Z",
     "shell.execute_reply": "2023-01-16T21:47:16.275727Z",
     "shell.execute_reply.started": "2023-01-16T21:47:16.266727Z"
    },
    "tags": []
   },
   "outputs": [
    {
     "data": {
      "text/plain": [
       "<re.Match object; span=(0, 28), match='Lovely spam! Wonderful spam!'>"
      ]
     },
     "execution_count": 307,
     "metadata": {},
     "output_type": "execute_result"
    }
   ],
   "source": [
    "re.fullmatch('((\\w*\\s*)*!)*', question)"
   ]
  },
  {
   "cell_type": "code",
   "execution_count": 308,
   "id": "f3201e5f-71f9-4b1b-922b-b341b7357d57",
   "metadata": {
    "execution": {
     "iopub.execute_input": "2023-01-16T21:49:23.696921Z",
     "iopub.status.busy": "2023-01-16T21:49:23.696921Z",
     "iopub.status.idle": "2023-01-16T21:49:23.708921Z",
     "shell.execute_reply": "2023-01-16T21:49:23.707920Z",
     "shell.execute_reply.started": "2023-01-16T21:49:23.696921Z"
    }
   },
   "outputs": [
    {
     "data": {
      "text/plain": [
       "['ov', 'el', 'am', 'on', 'er', 'ul', 'am']"
      ]
     },
     "execution_count": 308,
     "metadata": {},
     "output_type": "execute_result"
    }
   ],
   "source": [
    "re.findall('[aeiou][^aeiou]', question)  # returns a list"
   ]
  },
  {
   "cell_type": "code",
   "execution_count": 309,
   "id": "5323b29f-3e19-46d5-9271-5673791a6524",
   "metadata": {
    "execution": {
     "iopub.execute_input": "2023-01-16T21:50:36.335721Z",
     "iopub.status.busy": "2023-01-16T21:50:36.334732Z",
     "iopub.status.idle": "2023-01-16T21:50:36.355721Z",
     "shell.execute_reply": "2023-01-16T21:50:36.355721Z",
     "shell.execute_reply.started": "2023-01-16T21:50:36.334732Z"
    }
   },
   "outputs": [
    {
     "data": {
      "text/plain": [
       "<callable_iterator at 0x14591fa7c10>"
      ]
     },
     "execution_count": 309,
     "metadata": {},
     "output_type": "execute_result"
    }
   ],
   "source": [
    "re.finditer('[aeiou][^aeiou]', question)  # returns a list"
   ]
  },
  {
   "cell_type": "code",
   "execution_count": 311,
   "id": "070cadab-c04b-4e00-a38a-f45b6cfbbde6",
   "metadata": {
    "execution": {
     "iopub.execute_input": "2023-01-16T21:52:07.019041Z",
     "iopub.status.busy": "2023-01-16T21:52:07.019041Z",
     "iopub.status.idle": "2023-01-16T21:52:07.029040Z",
     "shell.execute_reply": "2023-01-16T21:52:07.028053Z",
     "shell.execute_reply.started": "2023-01-16T21:52:07.019041Z"
    },
    "tags": []
   },
   "outputs": [
    {
     "name": "stdout",
     "output_type": "stream",
     "text": [
      "<re.Match object; span=(1, 3), match='ov'>\n",
      "<re.Match object; span=(3, 5), match='el'>\n",
      "<re.Match object; span=(9, 11), match='am'>\n",
      "<re.Match object; span=(14, 16), match='on'>\n",
      "<re.Match object; span=(17, 19), match='er'>\n",
      "<re.Match object; span=(20, 22), match='ul'>\n",
      "<re.Match object; span=(25, 27), match='am'>\n"
     ]
    },
    {
     "data": {
      "text/plain": [
       "[None, None, None, None, None, None, None]"
      ]
     },
     "execution_count": 311,
     "metadata": {},
     "output_type": "execute_result"
    }
   ],
   "source": [
    "[print(match) for match in re.finditer('[aeiou][^aeiou]', question) ]"
   ]
  },
  {
   "cell_type": "code",
   "execution_count": 312,
   "id": "6471111b-3866-4bc1-a50a-768ce7d71131",
   "metadata": {
    "execution": {
     "iopub.execute_input": "2023-01-16T21:55:36.982567Z",
     "iopub.status.busy": "2023-01-16T21:55:36.982567Z",
     "iopub.status.idle": "2023-01-16T21:55:36.991565Z",
     "shell.execute_reply": "2023-01-16T21:55:36.990565Z",
     "shell.execute_reply.started": "2023-01-16T21:55:36.982567Z"
    },
    "tags": []
   },
   "outputs": [
    {
     "data": {
      "text/plain": [
       "('one', 'two')"
      ]
     },
     "execution_count": 312,
     "metadata": {},
     "output_type": "execute_result"
    }
   ],
   "source": [
    "match = re.search(r'(\\w+), (\\w+)', 'one, two, three')\n",
    "match.groups()"
   ]
  },
  {
   "cell_type": "code",
   "execution_count": 314,
   "id": "9dfd79d5-c1b1-4c16-9cb6-0af2df29b080",
   "metadata": {
    "execution": {
     "iopub.execute_input": "2023-01-16T21:56:17.176516Z",
     "iopub.status.busy": "2023-01-16T21:56:17.176516Z",
     "iopub.status.idle": "2023-01-16T21:56:17.190542Z",
     "shell.execute_reply": "2023-01-16T21:56:17.189543Z",
     "shell.execute_reply.started": "2023-01-16T21:56:17.176516Z"
    },
    "tags": []
   },
   "outputs": [
    {
     "data": {
      "text/plain": [
       "'two'"
      ]
     },
     "execution_count": 314,
     "metadata": {},
     "output_type": "execute_result"
    }
   ],
   "source": [
    "match.group(2)"
   ]
  },
  {
   "cell_type": "code",
   "execution_count": 315,
   "id": "d2f63b0f-36e9-4de3-ac48-a46f2d8357e3",
   "metadata": {
    "execution": {
     "iopub.execute_input": "2023-01-16T21:56:31.522717Z",
     "iopub.status.busy": "2023-01-16T21:56:31.522717Z",
     "iopub.status.idle": "2023-01-16T21:56:31.529746Z",
     "shell.execute_reply": "2023-01-16T21:56:31.529746Z",
     "shell.execute_reply.started": "2023-01-16T21:56:31.522717Z"
    }
   },
   "outputs": [
    {
     "data": {
      "text/plain": [
       "('two', 'one')"
      ]
     },
     "execution_count": 315,
     "metadata": {},
     "output_type": "execute_result"
    }
   ],
   "source": [
    "match.group(2, 1)"
   ]
  },
  {
   "cell_type": "code",
   "execution_count": 316,
   "id": "0e15bd93-3cbc-40ca-b1a9-ab62924079a9",
   "metadata": {
    "execution": {
     "iopub.execute_input": "2023-01-16T21:56:40.948055Z",
     "iopub.status.busy": "2023-01-16T21:56:40.948055Z",
     "iopub.status.idle": "2023-01-16T21:56:40.957594Z",
     "shell.execute_reply": "2023-01-16T21:56:40.957594Z",
     "shell.execute_reply.started": "2023-01-16T21:56:40.948055Z"
    }
   },
   "outputs": [
    {
     "data": {
      "text/plain": [
       "'one, two'"
      ]
     },
     "execution_count": 316,
     "metadata": {},
     "output_type": "execute_result"
    }
   ],
   "source": [
    "match.group(0)"
   ]
  },
  {
   "cell_type": "code",
   "execution_count": 317,
   "id": "cb75be1d-246d-4313-980e-0d4ae9cb5933",
   "metadata": {
    "execution": {
     "iopub.execute_input": "2023-01-16T21:56:51.990041Z",
     "iopub.status.busy": "2023-01-16T21:56:51.989051Z",
     "iopub.status.idle": "2023-01-16T21:56:52.005040Z",
     "shell.execute_reply": "2023-01-16T21:56:52.005040Z",
     "shell.execute_reply.started": "2023-01-16T21:56:51.990041Z"
    }
   },
   "outputs": [
    {
     "data": {
      "text/plain": [
       "'one'"
      ]
     },
     "execution_count": 317,
     "metadata": {},
     "output_type": "execute_result"
    }
   ],
   "source": [
    "match[1]"
   ]
  },
  {
   "cell_type": "code",
   "execution_count": 318,
   "id": "c3d499c1-03eb-4e42-bc6a-5bb67dceecff",
   "metadata": {
    "execution": {
     "iopub.execute_input": "2023-01-16T21:56:58.232370Z",
     "iopub.status.busy": "2023-01-16T21:56:58.232370Z",
     "iopub.status.idle": "2023-01-16T21:56:58.251370Z",
     "shell.execute_reply": "2023-01-16T21:56:58.250376Z",
     "shell.execute_reply.started": "2023-01-16T21:56:58.232370Z"
    }
   },
   "outputs": [
    {
     "data": {
      "text/plain": [
       "'one, two'"
      ]
     },
     "execution_count": 318,
     "metadata": {},
     "output_type": "execute_result"
    }
   ],
   "source": [
    "match[0]"
   ]
  },
  {
   "cell_type": "code",
   "execution_count": 319,
   "id": "d5af1527-32a0-427f-aa1f-2feb57a954a7",
   "metadata": {
    "execution": {
     "iopub.execute_input": "2023-01-16T21:58:06.520927Z",
     "iopub.status.busy": "2023-01-16T21:58:06.519943Z",
     "iopub.status.idle": "2023-01-16T21:58:06.534934Z",
     "shell.execute_reply": "2023-01-16T21:58:06.534934Z",
     "shell.execute_reply.started": "2023-01-16T21:58:06.520927Z"
    }
   },
   "outputs": [
    {
     "data": {
      "text/plain": [
       "\"second was 'two', first was 'one'\""
      ]
     },
     "execution_count": 319,
     "metadata": {},
     "output_type": "execute_result"
    }
   ],
   "source": [
    "match.expand(\"second was '\\\\2', first was '\\\\1'\")"
   ]
  },
  {
   "cell_type": "code",
   "execution_count": 321,
   "id": "bf621761-c554-47b5-b1d4-0978bf0e8215",
   "metadata": {
    "execution": {
     "iopub.execute_input": "2023-01-16T21:59:39.946411Z",
     "iopub.status.busy": "2023-01-16T21:59:39.945412Z",
     "iopub.status.idle": "2023-01-16T21:59:39.958411Z",
     "shell.execute_reply": "2023-01-16T21:59:39.957410Z",
     "shell.execute_reply.started": "2023-01-16T21:59:39.946411Z"
    },
    "tags": []
   },
   "outputs": [
    {
     "data": {
      "text/plain": [
       "<re.Match object; span=(4, 7), match='123'>"
      ]
     },
     "execution_count": 321,
     "metadata": {},
     "output_type": "execute_result"
    }
   ],
   "source": [
    "match = re.search('123', 'abc,123,xyz')\n",
    "match"
   ]
  },
  {
   "cell_type": "code",
   "execution_count": 322,
   "id": "ff81f859-be02-44ce-916f-5c3e534608e7",
   "metadata": {
    "execution": {
     "iopub.execute_input": "2023-01-16T21:59:59.145290Z",
     "iopub.status.busy": "2023-01-16T21:59:59.144241Z",
     "iopub.status.idle": "2023-01-16T21:59:59.163308Z",
     "shell.execute_reply": "2023-01-16T21:59:59.162269Z",
     "shell.execute_reply.started": "2023-01-16T21:59:59.145290Z"
    }
   },
   "outputs": [
    {
     "data": {
      "text/plain": [
       "4"
      ]
     },
     "execution_count": 322,
     "metadata": {},
     "output_type": "execute_result"
    }
   ],
   "source": [
    "match.start()"
   ]
  },
  {
   "cell_type": "code",
   "execution_count": 323,
   "id": "80e875b3-e835-43e3-b409-86c42f4b8398",
   "metadata": {
    "execution": {
     "iopub.execute_input": "2023-01-16T22:00:05.038168Z",
     "iopub.status.busy": "2023-01-16T22:00:05.038168Z",
     "iopub.status.idle": "2023-01-16T22:00:05.056167Z",
     "shell.execute_reply": "2023-01-16T22:00:05.055167Z",
     "shell.execute_reply.started": "2023-01-16T22:00:05.038168Z"
    }
   },
   "outputs": [
    {
     "data": {
      "text/plain": [
       "7"
      ]
     },
     "execution_count": 323,
     "metadata": {},
     "output_type": "execute_result"
    }
   ],
   "source": [
    "match.end()"
   ]
  },
  {
   "cell_type": "code",
   "execution_count": 324,
   "id": "e170f3f2-052b-4337-a5fc-857038abad85",
   "metadata": {
    "execution": {
     "iopub.execute_input": "2023-01-16T22:00:13.672076Z",
     "iopub.status.busy": "2023-01-16T22:00:13.672076Z",
     "iopub.status.idle": "2023-01-16T22:00:13.680074Z",
     "shell.execute_reply": "2023-01-16T22:00:13.679074Z",
     "shell.execute_reply.started": "2023-01-16T22:00:13.672076Z"
    }
   },
   "outputs": [
    {
     "data": {
      "text/plain": [
       "'abc,123,xyz'"
      ]
     },
     "execution_count": 324,
     "metadata": {},
     "output_type": "execute_result"
    }
   ],
   "source": [
    "match.string"
   ]
  },
  {
   "cell_type": "code",
   "execution_count": 326,
   "id": "5bfcb27a-08e3-4412-9425-0e5e672b5076",
   "metadata": {
    "execution": {
     "iopub.execute_input": "2023-01-16T22:08:04.104260Z",
     "iopub.status.busy": "2023-01-16T22:08:04.104260Z",
     "iopub.status.idle": "2023-01-16T22:08:04.119263Z",
     "shell.execute_reply": "2023-01-16T22:08:04.118271Z",
     "shell.execute_reply.started": "2023-01-16T22:08:04.104260Z"
    },
    "tags": []
   },
   "outputs": [],
   "source": [
    "match = re.search(r'\\w+\\\\\\w+', r'one\\two')"
   ]
  },
  {
   "cell_type": "code",
   "execution_count": 327,
   "id": "89ff593e-33d9-4d6f-abe3-e85bbed355a2",
   "metadata": {
    "execution": {
     "iopub.execute_input": "2023-01-16T22:08:14.224486Z",
     "iopub.status.busy": "2023-01-16T22:08:14.224486Z",
     "iopub.status.idle": "2023-01-16T22:08:14.230486Z",
     "shell.execute_reply": "2023-01-16T22:08:14.230486Z",
     "shell.execute_reply.started": "2023-01-16T22:08:14.224486Z"
    },
    "tags": []
   },
   "outputs": [
    {
     "data": {
      "text/plain": [
       "'one\\\\two'"
      ]
     },
     "execution_count": 327,
     "metadata": {},
     "output_type": "execute_result"
    }
   ],
   "source": [
    "match.string"
   ]
  },
  {
   "cell_type": "code",
   "execution_count": 328,
   "id": "c2694bfa-f1f6-4d66-8e96-9d43e5b081f9",
   "metadata": {
    "execution": {
     "iopub.execute_input": "2023-01-16T22:17:34.925444Z",
     "iopub.status.busy": "2023-01-16T22:17:34.925444Z",
     "iopub.status.idle": "2023-01-16T22:17:34.939446Z",
     "shell.execute_reply": "2023-01-16T22:17:34.938467Z",
     "shell.execute_reply.started": "2023-01-16T22:17:34.925444Z"
    },
    "tags": []
   },
   "outputs": [
    {
     "data": {
      "text/plain": [
       "<re.Match object; span=(19, 34), match='one, two, three'>"
      ]
     },
     "execution_count": 328,
     "metadata": {},
     "output_type": "execute_result"
    }
   ],
   "source": [
    "content = \"I count like this: one, two, three\"\n",
    "match = re.search(r\"(\\w+), (\\w+), (\\w+)\", content)\n",
    "match"
   ]
  },
  {
   "cell_type": "code",
   "execution_count": 329,
   "id": "341e37bb-8516-475e-95de-ce6b47505181",
   "metadata": {
    "execution": {
     "iopub.execute_input": "2023-01-17T10:24:15.232036Z",
     "iopub.status.busy": "2023-01-17T10:24:15.231016Z",
     "iopub.status.idle": "2023-01-17T10:24:15.248655Z",
     "shell.execute_reply": "2023-01-17T10:24:15.247648Z",
     "shell.execute_reply.started": "2023-01-17T10:24:15.232036Z"
    },
    "tags": []
   },
   "outputs": [
    {
     "data": {
      "text/plain": [
       "('one', 'two', 'three')"
      ]
     },
     "execution_count": 329,
     "metadata": {},
     "output_type": "execute_result"
    }
   ],
   "source": [
    "match.groups()"
   ]
  },
  {
   "cell_type": "code",
   "execution_count": 331,
   "id": "331c1796-6e1b-4128-b2a6-e706db2258b1",
   "metadata": {
    "execution": {
     "iopub.execute_input": "2023-01-17T10:27:09.937967Z",
     "iopub.status.busy": "2023-01-17T10:27:09.936956Z",
     "iopub.status.idle": "2023-01-17T10:27:09.947953Z",
     "shell.execute_reply": "2023-01-17T10:27:09.946973Z",
     "shell.execute_reply.started": "2023-01-17T10:27:09.937967Z"
    },
    "tags": []
   },
   "outputs": [],
   "source": [
    "\n",
    "match = re.search(r\"(?P<first>\\w+), (?P<second>\\w+), (?P<third>\\w+)\", content)"
   ]
  },
  {
   "cell_type": "code",
   "execution_count": 332,
   "id": "3b772dd2-a05d-4c1a-994f-ce6da20d5125",
   "metadata": {
    "execution": {
     "iopub.execute_input": "2023-01-17T10:27:17.677676Z",
     "iopub.status.busy": "2023-01-17T10:27:17.676682Z",
     "iopub.status.idle": "2023-01-17T10:27:17.696681Z",
     "shell.execute_reply": "2023-01-17T10:27:17.695708Z",
     "shell.execute_reply.started": "2023-01-17T10:27:17.677676Z"
    }
   },
   "outputs": [
    {
     "data": {
      "text/plain": [
       "('one', 'two', 'three')"
      ]
     },
     "execution_count": 332,
     "metadata": {},
     "output_type": "execute_result"
    }
   ],
   "source": [
    "match.groups()"
   ]
  },
  {
   "cell_type": "code",
   "execution_count": 333,
   "id": "dd487688-2074-4417-85fb-026d785d26c3",
   "metadata": {
    "execution": {
     "iopub.execute_input": "2023-01-17T10:27:29.025301Z",
     "iopub.status.busy": "2023-01-17T10:27:29.025301Z",
     "iopub.status.idle": "2023-01-17T10:27:29.035301Z",
     "shell.execute_reply": "2023-01-17T10:27:29.034301Z",
     "shell.execute_reply.started": "2023-01-17T10:27:29.025301Z"
    }
   },
   "outputs": [
    {
     "data": {
      "text/plain": [
       "{'first': 'one', 'second': 'two', 'third': 'three'}"
      ]
     },
     "execution_count": 333,
     "metadata": {},
     "output_type": "execute_result"
    }
   ],
   "source": [
    "match.groupdict()"
   ]
  },
  {
   "cell_type": "code",
   "execution_count": 336,
   "id": "106d0b6f-4b10-4dbc-bb2b-d62549830d9d",
   "metadata": {
    "execution": {
     "iopub.execute_input": "2023-01-17T10:32:05.038662Z",
     "iopub.status.busy": "2023-01-17T10:32:05.038662Z",
     "iopub.status.idle": "2023-01-17T10:32:05.059646Z",
     "shell.execute_reply": "2023-01-17T10:32:05.058645Z",
     "shell.execute_reply.started": "2023-01-17T10:32:05.038662Z"
    },
    "tags": []
   },
   "outputs": [
    {
     "data": {
      "text/plain": [
       "('one', 'three')"
      ]
     },
     "execution_count": 336,
     "metadata": {},
     "output_type": "execute_result"
    }
   ],
   "source": [
    "# non capturing group in the middle\n",
    "match = re.search(r\"(?P<first>\\w+), (?:\\w+), (?P<third>\\w+)\", content)\n",
    "match.groups()"
   ]
  },
  {
   "cell_type": "code",
   "execution_count": 345,
   "id": "e7f4dc9e-d6b1-426f-a327-e34bed547173",
   "metadata": {
    "execution": {
     "iopub.execute_input": "2023-01-17T10:38:32.090729Z",
     "iopub.status.busy": "2023-01-17T10:38:32.090729Z",
     "iopub.status.idle": "2023-01-17T10:38:32.109698Z",
     "shell.execute_reply": "2023-01-17T10:38:32.108725Z",
     "shell.execute_reply.started": "2023-01-17T10:38:32.090729Z"
    },
    "tags": []
   },
   "outputs": [
    {
     "data": {
      "text/plain": [
       "('one', 'three')"
      ]
     },
     "execution_count": 345,
     "metadata": {},
     "output_type": "execute_result"
    }
   ],
   "source": [
    "# reusing the group's name\n",
    "content = \"I count like this: one, one, three\"\n",
    "match = re.search(r\"(?P<first>\\w+), (?P=first), (?P<third>\\w+)\", content)\n",
    "match.groups() # doesn't work for some reason"
   ]
  },
  {
   "cell_type": "code",
   "execution_count": 348,
   "id": "c376be71-a337-469d-8b71-ac8465a10d32",
   "metadata": {
    "execution": {
     "iopub.execute_input": "2023-01-17T10:40:25.216634Z",
     "iopub.status.busy": "2023-01-17T10:40:25.216634Z",
     "iopub.status.idle": "2023-01-17T10:40:25.234624Z",
     "shell.execute_reply": "2023-01-17T10:40:25.233649Z",
     "shell.execute_reply.started": "2023-01-17T10:40:25.216634Z"
    },
    "tags": []
   },
   "outputs": [
    {
     "data": {
      "text/plain": [
       "('a', 'e')"
      ]
     },
     "execution_count": 348,
     "metadata": {},
     "output_type": "execute_result"
    }
   ],
   "source": [
    "# non capturing group\n",
    "string = \"Idon't care if you dont'\"\n",
    "match = re.search(r\"(a)(?:r)(e)\", string)\n",
    "match.groups()"
   ]
  },
  {
   "cell_type": "code",
   "execution_count": 369,
   "id": "8fa3aefa-0b2b-4c32-a299-9ce3d4fe8ce5",
   "metadata": {
    "execution": {
     "iopub.execute_input": "2023-01-17T10:50:44.010005Z",
     "iopub.status.busy": "2023-01-17T10:50:44.010005Z",
     "iopub.status.idle": "2023-01-17T10:50:44.023985Z",
     "shell.execute_reply": "2023-01-17T10:50:44.023035Z",
     "shell.execute_reply.started": "2023-01-17T10:50:44.010005Z"
    },
    "tags": []
   },
   "outputs": [
    {
     "data": {
      "text/plain": [
       "['13', '42']"
      ]
     },
     "execution_count": 369,
     "metadata": {},
     "output_type": "execute_result"
    }
   ],
   "source": [
    "# match = re.match(r\"\\d+\", content).groups() # no matches\n",
    "match = re.search(r\"\\d+\", content)\n",
    "match.groups() # doesn't find anything. I don't know why\n",
    "\n",
    "matches = re.findall(r\"\\d+\", content)\n",
    "match # finds both digits\n",
    "\n",
    "matches = re.finditer(r\"\\d+\", content)\n",
    "match = [match.group() for match in matches]\n",
    "match # finds both digits"
   ]
  },
  {
   "cell_type": "code",
   "execution_count": 370,
   "id": "822b40d1-6f4f-4ba4-b426-cc1f462a715e",
   "metadata": {
    "execution": {
     "iopub.execute_input": "2023-01-17T10:51:16.045093Z",
     "iopub.status.busy": "2023-01-17T10:51:16.045093Z",
     "iopub.status.idle": "2023-01-17T10:51:16.065072Z",
     "shell.execute_reply": "2023-01-17T10:51:16.064071Z",
     "shell.execute_reply.started": "2023-01-17T10:51:16.045093Z"
    },
    "tags": []
   },
   "outputs": [
    {
     "data": {
      "text/plain": [
       "'My favorite numbers are # and #'"
      ]
     },
     "execution_count": 370,
     "metadata": {},
     "output_type": "execute_result"
    }
   ],
   "source": [
    "content = \"My favorite numbers are 13 and 42\"\n",
    "re.sub(r\"\\d+\", \"#\", content)"
   ]
  },
  {
   "cell_type": "code",
   "execution_count": 372,
   "id": "708bbc38-2c92-4f37-bf6b-0d902d624b62",
   "metadata": {
    "execution": {
     "iopub.execute_input": "2023-01-17T10:52:20.572602Z",
     "iopub.status.busy": "2023-01-17T10:52:20.571586Z",
     "iopub.status.idle": "2023-01-17T10:52:20.579588Z",
     "shell.execute_reply": "2023-01-17T10:52:20.578634Z",
     "shell.execute_reply.started": "2023-01-17T10:52:20.572602Z"
    },
    "tags": []
   },
   "outputs": [
    {
     "data": {
      "text/plain": [
       "'My favorite numbers are # and 42'"
      ]
     },
     "execution_count": 372,
     "metadata": {},
     "output_type": "execute_result"
    }
   ],
   "source": [
    "re.sub(r\"\\d+\", \"#\", content, count=1) # indicates that only the first match will be substituted"
   ]
  },
  {
   "cell_type": "code",
   "execution_count": 374,
   "id": "98a9b7d3-d263-45d7-b557-1b9d2658964a",
   "metadata": {
    "execution": {
     "iopub.execute_input": "2023-01-17T10:53:35.283049Z",
     "iopub.status.busy": "2023-01-17T10:53:35.282035Z",
     "iopub.status.idle": "2023-01-17T10:53:35.293038Z",
     "shell.execute_reply": "2023-01-17T10:53:35.292036Z",
     "shell.execute_reply.started": "2023-01-17T10:53:35.283049Z"
    },
    "tags": []
   },
   "outputs": [
    {
     "data": {
      "text/plain": [
       "'My favorite numbers are # and #'"
      ]
     },
     "execution_count": 374,
     "metadata": {},
     "output_type": "execute_result"
    }
   ],
   "source": [
    "re.sub(r\"\\d+\", \"#\", content, count=2) # indicates that only the first match will be substituted"
   ]
  },
  {
   "cell_type": "code",
   "execution_count": 375,
   "id": "26726ee3-ff46-4a68-979f-4c5d8409e8c7",
   "metadata": {
    "execution": {
     "iopub.execute_input": "2023-01-17T10:55:01.037551Z",
     "iopub.status.busy": "2023-01-17T10:55:01.036539Z",
     "iopub.status.idle": "2023-01-17T10:55:01.048537Z",
     "shell.execute_reply": "2023-01-17T10:55:01.047564Z",
     "shell.execute_reply.started": "2023-01-17T10:55:01.037551Z"
    }
   },
   "outputs": [
    {
     "data": {
      "text/plain": [
       "'My favorite numbers are 31 and 24'"
      ]
     },
     "execution_count": 375,
     "metadata": {},
     "output_type": "execute_result"
    }
   ],
   "source": [
    "# use a function in sub\n",
    "def reverse(match):\n",
    "    return match.group(0)[::-1] # slice reverses the string\n",
    "\n",
    "re.sub(r\"\\d+\", reverse, content)"
   ]
  },
  {
   "cell_type": "code",
   "execution_count": 379,
   "id": "cde4d9f4-dc77-41b1-9114-77edfc6c039e",
   "metadata": {
    "execution": {
     "iopub.execute_input": "2023-01-17T10:58:06.794635Z",
     "iopub.status.busy": "2023-01-17T10:58:06.794635Z",
     "iopub.status.idle": "2023-01-17T10:58:06.802640Z",
     "shell.execute_reply": "2023-01-17T10:58:06.802640Z",
     "shell.execute_reply.started": "2023-01-17T10:58:06.794635Z"
    },
    "tags": []
   },
   "outputs": [
    {
     "data": {
      "text/plain": [
       "'My favorite numbers are 42 and 13'"
      ]
     },
     "execution_count": 379,
     "metadata": {},
     "output_type": "execute_result"
    }
   ],
   "source": [
    "# using back references for swapping matches\n",
    "content = \"My favorite numbers are 13 and 42\"\n",
    "re.sub(r\"(\\d+) and (\\d+)\", r\"\\2 and \\1\", content)"
   ]
  },
  {
   "cell_type": "code",
   "execution_count": 380,
   "id": "d6d0bcd8-e288-4f5a-89d2-1661fac0d7e6",
   "metadata": {
    "execution": {
     "iopub.execute_input": "2023-01-17T10:59:57.998583Z",
     "iopub.status.busy": "2023-01-17T10:59:57.998583Z",
     "iopub.status.idle": "2023-01-17T10:59:58.010593Z",
     "shell.execute_reply": "2023-01-17T10:59:58.009583Z",
     "shell.execute_reply.started": "2023-01-17T10:59:57.998583Z"
    },
    "tags": []
   },
   "outputs": [
    {
     "data": {
      "text/plain": [
       "'My favorite numbers are ... and ...'"
      ]
     },
     "execution_count": 380,
     "metadata": {},
     "output_type": "execute_result"
    }
   ],
   "source": [
    "# using back references for swapping matches\n",
    "content = \"My favorite numbers are 13 and 42\"\n",
    "re.sub(r\"(\\d+) and (\\d+)\", r\"... and ...\", content)"
   ]
  },
  {
   "cell_type": "code",
   "execution_count": 384,
   "id": "bf4c7717-ae69-4bef-b84a-41529bef70ab",
   "metadata": {
    "execution": {
     "iopub.execute_input": "2023-01-17T11:03:02.358673Z",
     "iopub.status.busy": "2023-01-17T11:03:02.358673Z",
     "iopub.status.idle": "2023-01-17T11:03:02.373690Z",
     "shell.execute_reply": "2023-01-17T11:03:02.372675Z",
     "shell.execute_reply.started": "2023-01-17T11:03:02.358673Z"
    },
    "tags": []
   },
   "outputs": [
    {
     "data": {
      "text/plain": [
       "'My favorite numbers are 13 and 42'"
      ]
     },
     "execution_count": 384,
     "metadata": {},
     "output_type": "execute_result"
    }
   ],
   "source": [
    "# using back references for swapping matches\n",
    "content = \"My favorite numbers are 13 and 42\"\n",
    "re.sub(r\"(\\d+) and (\\1)\", r\"... and is the same\", content) # if `\\1` exists, the swapp happens, if there are no\n",
    "# repeating matches, then no swap"
   ]
  },
  {
   "cell_type": "code",
   "execution_count": 390,
   "id": "8c55e67e-4156-4cda-b5bb-87d69502ac81",
   "metadata": {
    "execution": {
     "iopub.execute_input": "2023-01-17T11:09:42.350456Z",
     "iopub.status.busy": "2023-01-17T11:09:42.350456Z",
     "iopub.status.idle": "2023-01-17T11:09:42.371388Z",
     "shell.execute_reply": "2023-01-17T11:09:42.370383Z",
     "shell.execute_reply.started": "2023-01-17T11:09:42.350456Z"
    },
    "tags": []
   },
   "outputs": [
    {
     "data": {
      "text/plain": [
       "'Is this a 10?'"
      ]
     },
     "execution_count": 390,
     "metadata": {},
     "output_type": "execute_result"
    }
   ],
   "source": [
    "# re.sub(r\"(\\d+)\", r\"\\10\", \"Is this a 1?\") # error\n",
    "re.sub(r\"(\\d+)\", r\"\\g<1>0\", \"Is this a 1?\") # substitute the match by itself plus `0`"
   ]
  },
  {
   "cell_type": "code",
   "execution_count": 392,
   "id": "22674a4f-035a-437c-aa20-32965b6044dd",
   "metadata": {
    "execution": {
     "iopub.execute_input": "2023-01-17T11:11:32.475152Z",
     "iopub.status.busy": "2023-01-17T11:11:32.475152Z",
     "iopub.status.idle": "2023-01-17T11:11:32.486134Z",
     "shell.execute_reply": "2023-01-17T11:11:32.485120Z",
     "shell.execute_reply.started": "2023-01-17T11:11:32.475152Z"
    },
    "tags": []
   },
   "outputs": [
    {
     "data": {
      "text/plain": [
       "'-s-p-a-m-'"
      ]
     },
     "execution_count": 392,
     "metadata": {},
     "output_type": "execute_result"
    }
   ],
   "source": [
    "re.sub(r\"x*\", \"-\", \"spam\") # `x*` zero or more x is substituted with `-`"
   ]
  },
  {
   "cell_type": "code",
   "execution_count": 394,
   "id": "11cdddd4-680e-4437-8854-ccfda39b73f8",
   "metadata": {
    "execution": {
     "iopub.execute_input": "2023-01-17T11:12:42.828731Z",
     "iopub.status.busy": "2023-01-17T11:12:42.827731Z",
     "iopub.status.idle": "2023-01-17T11:12:42.834710Z",
     "shell.execute_reply": "2023-01-17T11:12:42.834710Z",
     "shell.execute_reply.started": "2023-01-17T11:12:42.828731Z"
    },
    "tags": []
   },
   "outputs": [
    {
     "data": {
      "text/plain": [
       "('-s-p-a-m-', 5)"
      ]
     },
     "execution_count": 394,
     "metadata": {},
     "output_type": "execute_result"
    }
   ],
   "source": [
    "re.subn(r\"x*\", \"-\", \"spam\") # `x*` zero or more x is substituted with `-`\n",
    "# n show how many substitutins have happened"
   ]
  },
  {
   "cell_type": "code",
   "execution_count": 395,
   "id": "5ea96010-9f83-400b-a75e-b988bf1a1788",
   "metadata": {
    "execution": {
     "iopub.execute_input": "2023-01-17T11:13:59.924444Z",
     "iopub.status.busy": "2023-01-17T11:13:59.924444Z",
     "iopub.status.idle": "2023-01-17T11:13:59.934435Z",
     "shell.execute_reply": "2023-01-17T11:13:59.933462Z",
     "shell.execute_reply.started": "2023-01-17T11:13:59.924444Z"
    }
   },
   "outputs": [
    {
     "data": {
      "text/plain": [
       "['My favorite numbers are ', ' and ', '']"
      ]
     },
     "execution_count": 395,
     "metadata": {},
     "output_type": "execute_result"
    }
   ],
   "source": [
    "re.split(r\"\\d+\", \"My favorite numbers are 13 and 42\") # the matches are not included"
   ]
  },
  {
   "cell_type": "code",
   "execution_count": 396,
   "id": "d6df9899-2b06-442c-bf1a-34e298d9ace1",
   "metadata": {
    "execution": {
     "iopub.execute_input": "2023-01-17T11:14:50.112058Z",
     "iopub.status.busy": "2023-01-17T11:14:50.112058Z",
     "iopub.status.idle": "2023-01-17T11:14:50.117035Z",
     "shell.execute_reply": "2023-01-17T11:14:50.117035Z",
     "shell.execute_reply.started": "2023-01-17T11:14:50.112058Z"
    },
    "tags": []
   },
   "outputs": [
    {
     "data": {
      "text/plain": [
       "['My favorite numbers are ', ' and 42']"
      ]
     },
     "execution_count": 396,
     "metadata": {},
     "output_type": "execute_result"
    }
   ],
   "source": [
    "re.split(r\"\\d+\", \"My favorite numbers are 13 and 42\", maxsplit=1)"
   ]
  },
  {
   "cell_type": "code",
   "execution_count": 397,
   "id": "26070d9a-72d8-45ed-953c-3e70de52a293",
   "metadata": {
    "execution": {
     "iopub.execute_input": "2023-01-17T11:16:12.228070Z",
     "iopub.status.busy": "2023-01-17T11:16:12.228070Z",
     "iopub.status.idle": "2023-01-17T11:16:12.244069Z",
     "shell.execute_reply": "2023-01-17T11:16:12.243069Z",
     "shell.execute_reply.started": "2023-01-17T11:16:12.228070Z"
    },
    "tags": []
   },
   "outputs": [
    {
     "data": {
      "text/plain": [
       "['My favorite numbers are ', '13', ' and ', '42', '']"
      ]
     },
     "execution_count": 397,
     "metadata": {},
     "output_type": "execute_result"
    }
   ],
   "source": [
    "re.split(r\"(\\d+)\", \"My favorite numbers are 13 and 42\") # the matches ARE included"
   ]
  },
  {
   "cell_type": "code",
   "execution_count": 400,
   "id": "9ee20ef4-2cde-4474-90a7-ecadeb592b6b",
   "metadata": {
    "execution": {
     "iopub.execute_input": "2023-01-17T11:19:48.050694Z",
     "iopub.status.busy": "2023-01-17T11:19:48.050694Z",
     "iopub.status.idle": "2023-01-17T11:19:48.061711Z",
     "shell.execute_reply": "2023-01-17T11:19:48.061711Z",
     "shell.execute_reply.started": "2023-01-17T11:19:48.050694Z"
    },
    "tags": []
   },
   "outputs": [
    {
     "data": {
      "text/plain": [
       "['2^2']"
      ]
     },
     "execution_count": 400,
     "metadata": {},
     "output_type": "execute_result"
    }
   ],
   "source": [
    "re.findall(r\"2^4\", \"Even more than 2^2 is 2^4\") # nothing is found\n",
    "regex = re.escape(\"2^2\")\n",
    "re.findall(regex, \"Even more than 2^2 is 2^4\") # now it's found!"
   ]
  },
  {
   "cell_type": "code",
   "execution_count": 403,
   "id": "5170ce47-dc20-42e5-9c3f-7fa0b7bc1a02",
   "metadata": {
    "execution": {
     "iopub.execute_input": "2023-01-17T11:51:29.126169Z",
     "iopub.status.busy": "2023-01-17T11:51:29.126169Z",
     "iopub.status.idle": "2023-01-17T11:51:29.143698Z",
     "shell.execute_reply": "2023-01-17T11:51:29.142692Z",
     "shell.execute_reply.started": "2023-01-17T11:51:29.126169Z"
    },
    "tags": []
   },
   "outputs": [
    {
     "data": {
      "text/plain": [
       "<re.Match object; span=(24, 26), match='13'>"
      ]
     },
     "execution_count": 403,
     "metadata": {},
     "output_type": "execute_result"
    }
   ],
   "source": [
    "digits_re = re.compile(\"(\\d+)\")\n",
    "digits_re\n",
    "digits_re.search(\"My favorite numbers are 13 and 42.\")"
   ]
  },
  {
   "cell_type": "code",
   "execution_count": 412,
   "id": "855f6cb6-a59c-4b48-ac8d-33d471ad9893",
   "metadata": {
    "execution": {
     "iopub.execute_input": "2023-01-17T12:14:40.053543Z",
     "iopub.status.busy": "2023-01-17T12:14:40.053543Z",
     "iopub.status.idle": "2023-01-17T12:14:46.181969Z",
     "shell.execute_reply": "2023-01-17T12:14:46.179984Z",
     "shell.execute_reply.started": "2023-01-17T12:14:40.053543Z"
    },
    "tags": []
   },
   "outputs": [
    {
     "data": {
      "text/plain": [
       "0"
      ]
     },
     "execution_count": 412,
     "metadata": {},
     "output_type": "execute_result"
    }
   ],
   "source": [
    "# import os\n",
    "# os.system('notepad.exe ' + 'speed2.html')"
   ]
  },
  {
   "cell_type": "code",
   "execution_count": 415,
   "id": "ba40c588-6d1d-488f-a4e0-69d69e7fba9d",
   "metadata": {
    "execution": {
     "iopub.execute_input": "2023-01-17T12:32:30.982619Z",
     "iopub.status.busy": "2023-01-17T12:32:30.981614Z",
     "iopub.status.idle": "2023-01-17T12:32:30.999614Z",
     "shell.execute_reply": "2023-01-17T12:32:30.999614Z",
     "shell.execute_reply.started": "2023-01-17T12:32:30.982619Z"
    },
    "tags": []
   },
   "outputs": [
    {
     "data": {
      "text/plain": [
       "['AAA']"
      ]
     },
     "execution_count": 415,
     "metadata": {},
     "output_type": "execute_result"
    }
   ],
   "source": [
    "re.findall(r\"a+\", \"AAA\")\n",
    "re.findall(r\"a+\", \"AAA\", re.I) # flag ignorecase is activated"
   ]
  },
  {
   "cell_type": "code",
   "execution_count": 417,
   "id": "b18cd18c-524a-4bfa-a4e5-c933248e2b5a",
   "metadata": {
    "execution": {
     "iopub.execute_input": "2023-01-17T12:34:10.028612Z",
     "iopub.status.busy": "2023-01-17T12:34:10.028612Z",
     "iopub.status.idle": "2023-01-17T12:34:10.045613Z",
     "shell.execute_reply": "2023-01-17T12:34:10.044654Z",
     "shell.execute_reply.started": "2023-01-17T12:34:10.028612Z"
    },
    "tags": []
   },
   "outputs": [
    {
     "data": {
      "text/plain": [
       "['I']"
      ]
     },
     "execution_count": 417,
     "metadata": {},
     "output_type": "execute_result"
    }
   ],
   "source": [
    "# multiline\n",
    "re.findall(r\"^I\", \"Yes, you did, no\\nI didn't\")\n",
    "re.findall(r\"^I\", \"Yes, you did, no\\nI didn't\", re.M)"
   ]
  },
  {
   "cell_type": "code",
   "execution_count": 419,
   "id": "c4c13547-a9ec-403f-ac38-a2cc8e16b362",
   "metadata": {
    "execution": {
     "iopub.execute_input": "2023-01-17T12:35:46.314592Z",
     "iopub.status.busy": "2023-01-17T12:35:46.313577Z",
     "iopub.status.idle": "2023-01-17T12:35:46.324579Z",
     "shell.execute_reply": "2023-01-17T12:35:46.323577Z",
     "shell.execute_reply.started": "2023-01-17T12:35:46.314592Z"
    },
    "tags": []
   },
   "outputs": [
    {
     "data": {
      "text/plain": [
       "[]"
      ]
     },
     "execution_count": 419,
     "metadata": {},
     "output_type": "execute_result"
    }
   ],
   "source": [
    "re.findall(r\"\\AI\", \"Yes, you did, no\\nI didn't\", re.M) # no match as \\A matches start of the whole string"
   ]
  },
  {
   "cell_type": "code",
   "execution_count": 457,
   "id": "f5bdde8f-c7f0-4530-b385-568b4d5911fc",
   "metadata": {
    "execution": {
     "iopub.execute_input": "2023-01-17T14:02:57.054098Z",
     "iopub.status.busy": "2023-01-17T14:02:57.054098Z",
     "iopub.status.idle": "2023-01-17T14:02:57.073099Z",
     "shell.execute_reply": "2023-01-17T14:02:57.072098Z",
     "shell.execute_reply.started": "2023-01-17T14:02:57.054098Z"
    },
    "tags": []
   },
   "outputs": [
    {
     "data": {
      "text/plain": [
       "['1\\n2']"
      ]
     },
     "execution_count": 457,
     "metadata": {},
     "output_type": "execute_result"
    }
   ],
   "source": [
    "re.findall(r\"1.2\", \"First 1\\n2 next\") # match anything between 1 and 2  # no match\n",
    "re.findall(r\"1.2\", \"First 1\\n2 next\", re.DOTALL | re.IGNORECASE) # the same but enabling newline match\n"
   ]
  },
  {
   "cell_type": "code",
   "execution_count": 450,
   "id": "6ad0cf59-b5d9-4ed8-a78c-ce9096bf68ef",
   "metadata": {
    "execution": {
     "iopub.execute_input": "2023-01-17T13:57:47.478495Z",
     "iopub.status.busy": "2023-01-17T13:57:47.477494Z",
     "iopub.status.idle": "2023-01-17T13:57:47.490492Z",
     "shell.execute_reply": "2023-01-17T13:57:47.489492Z",
     "shell.execute_reply.started": "2023-01-17T13:57:47.478495Z"
    },
    "tags": []
   },
   "outputs": [
    {
     "data": {
      "text/plain": [
       "'1 (416) 967-1111'"
      ]
     },
     "execution_count": 450,
     "metadata": {},
     "output_type": "execute_result"
    }
   ],
   "source": [
    "PHONE_REGEX = \"\"\"\n",
    "    (1\\s)?      # optional leading 1\n",
    "    \\(\\d\\d\\d\\)  # aread code\n",
    "    \\s\n",
    "    \\d\\d\\d-     # prefix\n",
    "    \\d\\d\\d\\d\n",
    "\"\"\"\n",
    "phone = re.compile(PHONE_REGEX, re.VERBOSE)\n",
    "phone.findall(\"1 (416) 967-1111\")\n",
    "phone.match(\"1 (416) 967-1111\").group()\n",
    "phone.search(\"1 (416) 967-1111\")[0]"
   ]
  },
  {
   "cell_type": "code",
   "execution_count": 456,
   "id": "0a345c79-5c5a-42f9-88ea-c216d838ac97",
   "metadata": {
    "execution": {
     "iopub.execute_input": "2023-01-17T14:01:09.683973Z",
     "iopub.status.busy": "2023-01-17T14:01:09.682979Z",
     "iopub.status.idle": "2023-01-17T14:01:09.692969Z",
     "shell.execute_reply": "2023-01-17T14:01:09.692969Z",
     "shell.execute_reply.started": "2023-01-17T14:01:09.683973Z"
    },
    "tags": []
   },
   "outputs": [
    {
     "data": {
      "text/plain": [
       "<re.Match object; span=(0, 11), match='bacon, eggs'>"
      ]
     },
     "execution_count": 456,
     "metadata": {},
     "output_type": "execute_result"
    }
   ],
   "source": [
    "re.search(\"bacon, eggs\", \"bacon, eggs, and spam\")[0]\n",
    "re.search(\"bacon, eggs\", \"bacon, eggs, and spam\", re.VERBOSE) # careful with verbose, sometimes we need to clearly\n",
    "# specify \\s\n",
    "re.search(\"bacon,\\s eggs\", \"bacon, eggs, and spam\", re.VERBOSE)"
   ]
  },
  {
   "cell_type": "code",
   "execution_count": 458,
   "id": "3624dc74-1f93-40be-9567-5c7d149c60bd",
   "metadata": {
    "execution": {
     "iopub.execute_input": "2023-01-17T14:06:25.298029Z",
     "iopub.status.busy": "2023-01-17T14:06:25.298029Z",
     "iopub.status.idle": "2023-01-17T14:06:25.309989Z",
     "shell.execute_reply": "2023-01-17T14:06:25.308976Z",
     "shell.execute_reply.started": "2023-01-17T14:06:25.298029Z"
    },
    "tags": []
   },
   "outputs": [
    {
     "data": {
      "text/plain": [
       "<re.Match object; span=(17, 18), match='I'>"
      ]
     },
     "execution_count": 458,
     "metadata": {},
     "output_type": "execute_result"
    }
   ],
   "source": [
    "# flags inside the group\n",
    "re.search(\"(?im)^i\", \"Yes, you did, no\\nI didn't\") # switches on the capital i"
   ]
  },
  {
   "cell_type": "code",
   "execution_count": 462,
   "id": "7f68f90e-e84d-4a62-85f7-642d05f5136c",
   "metadata": {
    "execution": {
     "iopub.execute_input": "2023-01-17T14:08:17.056088Z",
     "iopub.status.busy": "2023-01-17T14:08:17.056088Z",
     "iopub.status.idle": "2023-01-17T14:08:17.065120Z",
     "shell.execute_reply": "2023-01-17T14:08:17.064107Z",
     "shell.execute_reply.started": "2023-01-17T14:08:17.056088Z"
    },
    "tags": []
   },
   "outputs": [
    {
     "data": {
      "text/plain": [
       "['Spam', 'spam', 'spam']"
      ]
     },
     "execution_count": 462,
     "metadata": {},
     "output_type": "execute_result"
    }
   ],
   "source": [
    "# flags inside the group\n",
    "re.findall(\"(?i:s)pam\", \"Spam, spam, spam, SPAM\") # switches on the capital i"
   ]
  },
  {
   "cell_type": "code",
   "execution_count": 463,
   "id": "568abd78-084e-414f-8b03-75bcb9719a30",
   "metadata": {
    "execution": {
     "iopub.execute_input": "2023-01-17T14:26:12.058662Z",
     "iopub.status.busy": "2023-01-17T14:26:12.058662Z",
     "iopub.status.idle": "2023-01-17T14:26:12.075701Z",
     "shell.execute_reply": "2023-01-17T14:26:12.074690Z",
     "shell.execute_reply.started": "2023-01-17T14:26:12.058662Z"
    }
   },
   "outputs": [
    {
     "data": {
      "text/plain": [
       "'(ACME)?\\\\sSuper\\\\s(?(1)(Out)|\\\\w*(fit))'"
      ]
     },
     "execution_count": 463,
     "metadata": {},
     "output_type": "execute_result"
    }
   ],
   "source": [
    "# conditional\n",
    "\n",
    "r\"(ACME)?\\sSuper\\s(?(1)(Out)|\\w*(fit))\" # if ACME is found, then select `Super` and `out` and if not, then\n",
    "# select `Super` and any characters till and including `fit`"
   ]
  },
  {
   "cell_type": "code",
   "execution_count": null,
   "id": "6159cdfa-672c-46b8-98f1-9bb185da99aa",
   "metadata": {},
   "outputs": [],
   "source": [
    "# look ahead\n",
    "r\"writing\\s(?=t)\" # it checks for `writing t`, but it doesn't select the `t` itself. It just checks if it exists"
   ]
  },
  {
   "cell_type": "code",
   "execution_count": null,
   "id": "2f48bb24-1631-4a4b-9ba4-a0b20f83b221",
   "metadata": {},
   "outputs": [],
   "source": [
    "# look ahead\n",
    "r\"\\d{4}(?=\\[\\w\\])\" # 4 digits followded by `[\\w]`\n",
    "r\"\\d{4}(?!=\\[\\w\\])\" # negative lookahead # does not followed by `[\\w]`"
   ]
  },
  {
   "cell_type": "code",
   "execution_count": null,
   "id": "dfa1de38-a456-425b-99cf-103e39b55a18",
   "metadata": {},
   "outputs": [],
   "source": [
    "# look behind\n",
    "r\"(?<=\\d{4})\\[\\w\\]\" # checks if there are 4 digits before the `[\\w]` and selects it, but doesn't select the digits,\n",
    "# only checks their existence"
   ]
  },
  {
   "cell_type": "code",
   "execution_count": null,
   "id": "c0673593-10a9-462c-a119-af1a5105c5ba",
   "metadata": {},
   "outputs": [],
   "source": [
    "# negative look behind\n",
    "r\"(?<!\\d\\d)\\d\\d\" # 2 digits NOT preceded by 2 digits"
   ]
  },
  {
   "cell_type": "code",
   "execution_count": 464,
   "id": "cbf24cb0-191e-4317-893c-495607610b55",
   "metadata": {
    "execution": {
     "iopub.execute_input": "2023-01-17T14:41:17.204783Z",
     "iopub.status.busy": "2023-01-17T14:41:17.204783Z",
     "iopub.status.idle": "2023-01-17T14:41:17.223784Z",
     "shell.execute_reply": "2023-01-17T14:41:17.222783Z",
     "shell.execute_reply.started": "2023-01-17T14:41:17.204783Z"
    }
   },
   "outputs": [
    {
     "data": {
      "text/plain": [
       "'(\\\\d{4})(?#four digits)'"
      ]
     },
     "execution_count": 464,
     "metadata": {},
     "output_type": "execute_result"
    }
   ],
   "source": [
    "# comments inside regex\n",
    "r\"(\\d{4})(?#four digits)\" # anything inside `(?#four digits)` is ignored "
   ]
  }
 ],
 "metadata": {
  "kernelspec": {
   "display_name": "Python 3 (ipykernel)",
   "language": "python",
   "name": "python3"
  },
  "language_info": {
   "codemirror_mode": {
    "name": "ipython",
    "version": 3
   },
   "file_extension": ".py",
   "mimetype": "text/x-python",
   "name": "python",
   "nbconvert_exporter": "python",
   "pygments_lexer": "ipython3",
   "version": "3.9.7"
  }
 },
 "nbformat": 4,
 "nbformat_minor": 5
}
