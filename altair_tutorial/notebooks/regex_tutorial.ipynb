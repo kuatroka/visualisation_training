{
 "cells": [
  {
   "cell_type": "code",
   "execution_count": 243,
   "id": "72692020-2402-4b86-b30e-bf6eba1aa491",
   "metadata": {
    "execution": {
     "iopub.execute_input": "2023-01-14T00:04:37.627206Z",
     "iopub.status.busy": "2023-01-14T00:04:37.627206Z",
     "iopub.status.idle": "2023-01-14T00:04:37.644238Z",
     "shell.execute_reply": "2023-01-14T00:04:37.643233Z",
     "shell.execute_reply.started": "2023-01-14T00:04:37.627206Z"
    },
    "tags": []
   },
   "outputs": [],
   "source": [
    "text_string = \"\"\"\n",
    "\n",
    "Form 13F Information Table Entry Total:                 659\n",
    "                                        ---------------------------------------\n",
    "    sdsfsdfdsfd  Form 13F  dfdfdsf dfds3454354\n",
    "                                                     2,403,697\n",
    "Form 13F Information Table Value Total: -------------------------------------- 1,456 1456 Form 13F\n",
    "                                                    (thousands) $2,403,697\n",
    "Form 13F Information Table Total Value: -------------------------------------- 1,456 1456\n",
    "                                                    (thousands) $2,403,697.00\n",
    " \"\"\"\n",
    "\n",
    "cast_to_bytecode = text_string.encode() # decodes into bytecode `.decode('utf-8')`\n",
    "text_raw = fr\"{text_string}\" # encodes string to raw text. Pretty cool tip on use `fr` together. Never seen it before"
   ]
  },
  {
   "cell_type": "code",
   "execution_count": 244,
   "id": "89531b98-5378-4e4f-9fcc-635543a24156",
   "metadata": {
    "execution": {
     "iopub.execute_input": "2023-01-14T00:04:38.250049Z",
     "iopub.status.busy": "2023-01-14T00:04:38.249075Z",
     "iopub.status.idle": "2023-01-14T00:04:38.269084Z",
     "shell.execute_reply": "2023-01-14T00:04:38.268081Z",
     "shell.execute_reply.started": "2023-01-14T00:04:38.250049Z"
    },
    "tags": []
   },
   "outputs": [
    {
     "data": {
      "text/plain": [
       "'\\n\\nForm 13F Information Table Entry Total:                 659\\n                                        ---------------------------------------\\n    sdsfsdfdsfd  Form 13F  dfdfdsf dfds3454354\\n                                                     2,403,697\\nForm 13F Information Table Value Total: -------------------------------------- 1,456 1456 Form 13F\\n                                                    (thousands) $2,403,697\\nForm 13F Information Table Total Value: -------------------------------------- 1,456 1456\\n                                                    (thousands) $2,403,697.00\\n '"
      ]
     },
     "execution_count": 244,
     "metadata": {},
     "output_type": "execute_result"
    }
   ],
   "source": [
    "# text_raw\n",
    "text_string\n",
    "# text_string.encode()"
   ]
  },
  {
   "cell_type": "code",
   "execution_count": 274,
   "id": "7e1d3a53-ebab-4926-9fc8-fd280a515fe7",
   "metadata": {
    "execution": {
     "iopub.execute_input": "2023-01-14T00:23:35.148924Z",
     "iopub.status.busy": "2023-01-14T00:23:35.147893Z",
     "iopub.status.idle": "2023-01-14T00:23:35.159895Z",
     "shell.execute_reply": "2023-01-14T00:23:35.158914Z",
     "shell.execute_reply.started": "2023-01-14T00:23:35.148924Z"
    },
    "tags": []
   },
   "outputs": [
    {
     "data": {
      "text/plain": [
       "[' Form 13F', ' Form 13F']"
      ]
     },
     "execution_count": 274,
     "metadata": {},
     "output_type": "execute_result"
    }
   ],
   "source": [
    "import re\n",
    "string = \"\"\"\n",
    "abc-1000?der \n",
    "\n",
    "How about a NO! or 20 times NO.\n",
    "\"\"\"\n",
    "string2 = \"\"\"dgsfdgsdg dfgdsfg \"30\",2014-08-08,\"100\",\"MT\",\"8\",\"3624\",\"#\",\"#\",1\"\"\"\n",
    "string3 = \"\"\"dgsfdgsdg dfgdsfg, 30 2014-08-08, 100 MT 8 3624 # # 1\n",
    "How about a NO! or 20 times NO.\"\"\"\n",
    "string4 = \"\"\"0828041930\t72\t0:5493513263615:1:1\t0:3513263615:2:1\t0:5491124970159:1:1\t\t0\t9\t14\t841\tSMPP.841:1\t1.0\t0\t0\t\"\"\"\n",
    "\n",
    "# \\d - digit in the string\n",
    "# \\d+ - matches all individual full digits/words with digits only, but it also means 1,345,555 is extracted as ['1', '345', '555']\n",
    "# \\d* - as `\\d+` plus every white space \"\" in the string ['',  '','','','1', '','','659','','', ''] etc\n",
    "# \\D - Negation of the `\\d`. 1st non-digit. Not [0-9].\n",
    "# \\w -  letter, digit or _ but not digits. `\\w{3,}?`: limits to any 3 or more starting chars. `\\w{3,}` to words with 3 or more chars \n",
    "# \\W - negation of `\\w`\n",
    "# \\s - white space\n",
    "# \\S - character that is anythin but white space\n",
    "# . - character except the new line\n",
    "# \\n\n",
    "re.findall(r\"(?:\\s*(?:\\\"([^\\\"]*)\\\"|([^\\s]+))\\s*\\s?)+?\", string3) # extracts every standalone whole word/character\n",
    "re.findall(r\"(?:\\s*(?:\\\"([^\\\"]*)\\\"|([^,]+))\\s*,?)+?\", string3) # extracts every standalone whole word/character separated by \",\"\n",
    "re.findall(r\"Entry Total\\W+([0-9]{0,5})\", text_string) # extracts digits in a line that starts with \"Entry Total\"\n",
    "re.findall(r\"(?:[^\\t]+\\s|\\t|\\w$)\", string4) # extracts data separated by tabs\n",
    "re.findall(r\"\\$?\\s?(\\$?\\d+[\\.\\s,\\dk]+)|(\\d+[\\.\\s,\\dk]+\\$?)\", text_string) # extracts data separated by tabs\n",
    "re.findall(r\"Value Total(:)?\\W+([0-9,?\\s?]{0,10})\", text_string) # extracts digits in a line that starts with \"Entry Total\"\n",
    "re.findall(r\"(?:un)?expected\", \"a few unexpected words are to be expected\")\n",
    "re.findall(r\"(?:un|not )?expected\", \"unexpected and not expected should both be matched\")\n",
    "# re.findall(r\"(?:Value Total|Total Value)\\W+?[\\d+,?\\d+?]\", text_string)\n",
    "re.findall(r\"(?:Value Total|Total Value)\", text_string) # () treats the selection as a unit\n",
    "re.findall(r\"[0-9A-Za-z\\-]+\", text_string) # [] is like a list of values to match. It can be any order and values are independent\n",
    "re.findall(r\"([\\d,.?]+)\", text_string)\n",
    "re.findall(r\"(?<!\\n) Form 13F\", text_string) # matches every \"Form 13F\" but not if on new line\n",
    "re.findall(r\"(?<!\\n) Form 13F\", text_string) # matches every \"Form 13F\" but not if on new line\n",
    "\n",
    "\n",
    "\n",
    "# re.search(r\"\\D.*\", fr'{string}', re.DOTALL).group()"
   ]
  },
  {
   "cell_type": "code",
   "execution_count": 263,
   "id": "11899ca8-4576-4d47-b464-ebbbbe3ed140",
   "metadata": {
    "execution": {
     "iopub.execute_input": "2023-01-14T00:14:58.519367Z",
     "iopub.status.busy": "2023-01-14T00:14:58.519367Z",
     "iopub.status.idle": "2023-01-14T00:14:58.527372Z",
     "shell.execute_reply": "2023-01-14T00:14:58.526396Z",
     "shell.execute_reply.started": "2023-01-14T00:14:58.519367Z"
    },
    "tags": []
   },
   "outputs": [
    {
     "data": {
      "text/plain": [
       "'\\n\\nForm 13F Information Table Entry Total:                 659\\n                                        ---------------------------------------\\n    sdsfsdfdsfd  Form 13F  dfdfdsf dfds3454354\\n                                                     2,403,697\\nForm 13F Information Table Value Total: -------------------------------------- 1,456 1456 Form 13F\\n                                                    (thousands) $2,403,697\\nForm 13F Information Table Total Value: -------------------------------------- 1,456 1456\\n                                                    (thousands) $2,403,697.00\\n '"
      ]
     },
     "execution_count": 269,
     "metadata": {},
     "output_type": "execute_result"
    }
   ],
   "source": [
    "fr\"{text_string}\"\n",
    "# text_raw\n",
    "print(text_string)"
   ]
  },
  {
   "cell_type": "markdown",
   "id": "63ea7ebd-204c-46e6-ba02-48cb36e23e24",
   "metadata": {},
   "source": [
    "## Real Python Regex Course"
   ]
  },
  {
   "cell_type": "markdown",
   "id": "11a18f68-64f1-453c-b27e-d5be2f799ece",
   "metadata": {},
   "source": [
    "<details><summary>(email text)</summary>\n",
    "text = \"\"\"\n",
    "X-RP-State: 1095x{ar}y394<rnE>3a34<med>41a<aai>x{bb}y\n",
    "MIME-Version: 1.0\n",
    "Date: Sun, 18 Sep 1949\n",
    "From: wile.e.coyote@desert.example.com\n",
    "To: support@acme.example.com\n",
    "Subject: suit failure\n",
    "\n",
    "Content-Type: text/plain; charset=\"ASCII\"\n",
    "\n",
    "Dear sirs,\n",
    "\n",
    "I'm writing to inform you of a drastic failure of your ACME Super Outfit. On Saturday, September 17, I endeavored to use your suit to achieve the dream of flight. I was beyond hopeful that my purchase from Acme Corporation would finally enable to capture my nemesis, the Road Runner.\n",
    "\n",
    "I am confident that I used your Super Outfit according to the directions, as it is well known, I am a super-genius. After failing to achieve my goals\n",
    "using a variety of mechanisms, including boomerang, a fake \"School Crossing\" sign, a rocket launcher, and a mural of a tunnel, I turned to your corporation's device. I was most disappointed at its failure, in fact, I uttered the oath \"$#^!*\" then screamed \"Aaaaaaaaaah!\" all the way to the ground.\n",
    "\n",
    "Product information was as follows:\n",
    "\n",
    "ACME Super Outfit\n",
    "Model: 3990[X]\\5\n",
    "S/N: 9230413-3\n",
    "Date of purchase: Friday September 15, 1949\n",
    "\n",
    "Enclosed, please find an invoice for my hospital bills. The large fall was quite incapacitating.\n",
    "\"\"\"\n",
    "</details>"
   ]
  },
  {
   "cell_type": "code",
   "execution_count": 275,
   "id": "3b01f7b7-5909-4ddb-ac2d-a1232798e68a",
   "metadata": {
    "execution": {
     "iopub.execute_input": "2023-01-16T20:05:34.093494Z",
     "iopub.status.busy": "2023-01-16T20:05:34.091521Z",
     "iopub.status.idle": "2023-01-16T20:05:34.123497Z",
     "shell.execute_reply": "2023-01-16T20:05:34.122496Z",
     "shell.execute_reply.started": "2023-01-16T20:05:34.093494Z"
    }
   },
   "outputs": [],
   "source": [
    "import re"
   ]
  },
  {
   "cell_type": "code",
   "execution_count": 281,
   "id": "44789bc1-b86a-41d4-915d-66ea9ec528fe",
   "metadata": {
    "execution": {
     "iopub.execute_input": "2023-01-16T20:26:42.675054Z",
     "iopub.status.busy": "2023-01-16T20:26:42.675054Z",
     "iopub.status.idle": "2023-01-16T20:26:42.688052Z",
     "shell.execute_reply": "2023-01-16T20:26:42.688052Z",
     "shell.execute_reply.started": "2023-01-16T20:26:42.675054Z"
    },
    "tags": []
   },
   "outputs": [
    {
     "data": {
      "text/plain": [
       "<re.Match object; span=(7, 11), match='spam'>"
      ]
     },
     "execution_count": 281,
     "metadata": {},
     "output_type": "execute_result"
    }
   ],
   "source": [
    "question = \"Lovely spam! Wonderful spam!\"\n",
    "re.search(\"spam\", question)"
   ]
  },
  {
   "cell_type": "code",
   "execution_count": 283,
   "id": "c625d0ef-d210-476f-ba17-89a9621f4c2e",
   "metadata": {
    "execution": {
     "iopub.execute_input": "2023-01-16T21:22:19.377472Z",
     "iopub.status.busy": "2023-01-16T21:22:19.377472Z",
     "iopub.status.idle": "2023-01-16T21:22:19.392495Z",
     "shell.execute_reply": "2023-01-16T21:22:19.391500Z",
     "shell.execute_reply.started": "2023-01-16T21:22:19.377472Z"
    },
    "tags": []
   },
   "outputs": [
    {
     "data": {
      "text/plain": [
       "'spam'"
      ]
     },
     "execution_count": 283,
     "metadata": {},
     "output_type": "execute_result"
    }
   ],
   "source": [
    "question[7:11]"
   ]
  },
  {
   "cell_type": "code",
   "execution_count": 285,
   "id": "70664974-41df-4b1d-b68a-dd081200c232",
   "metadata": {
    "execution": {
     "iopub.execute_input": "2023-01-16T21:22:50.841823Z",
     "iopub.status.busy": "2023-01-16T21:22:50.841823Z",
     "iopub.status.idle": "2023-01-16T21:22:50.848841Z",
     "shell.execute_reply": "2023-01-16T21:22:50.847856Z",
     "shell.execute_reply.started": "2023-01-16T21:22:50.841823Z"
    },
    "tags": []
   },
   "outputs": [
    {
     "data": {
      "text/plain": [
       "True"
      ]
     },
     "execution_count": 285,
     "metadata": {},
     "output_type": "execute_result"
    }
   ],
   "source": [
    "match = re.search('spam', question)\n",
    "bool(match)"
   ]
  },
  {
   "cell_type": "code",
   "execution_count": 286,
   "id": "5faab91a-3da2-4a4f-9e4e-10e404efcb49",
   "metadata": {
    "execution": {
     "iopub.execute_input": "2023-01-16T21:23:00.216606Z",
     "iopub.status.busy": "2023-01-16T21:23:00.216606Z",
     "iopub.status.idle": "2023-01-16T21:23:00.224627Z",
     "shell.execute_reply": "2023-01-16T21:23:00.224627Z",
     "shell.execute_reply.started": "2023-01-16T21:23:00.216606Z"
    }
   },
   "outputs": [
    {
     "data": {
      "text/plain": [
       "(7, 11)"
      ]
     },
     "execution_count": 286,
     "metadata": {},
     "output_type": "execute_result"
    }
   ],
   "source": [
    "match.span()"
   ]
  },
  {
   "cell_type": "code",
   "execution_count": 287,
   "id": "8e44d9ac-6637-4201-8d72-347e3aa3495b",
   "metadata": {
    "execution": {
     "iopub.execute_input": "2023-01-16T21:23:09.511455Z",
     "iopub.status.busy": "2023-01-16T21:23:09.510455Z",
     "iopub.status.idle": "2023-01-16T21:23:09.528454Z",
     "shell.execute_reply": "2023-01-16T21:23:09.527454Z",
     "shell.execute_reply.started": "2023-01-16T21:23:09.511455Z"
    }
   },
   "outputs": [
    {
     "data": {
      "text/plain": [
       "7"
      ]
     },
     "execution_count": 287,
     "metadata": {},
     "output_type": "execute_result"
    }
   ],
   "source": [
    "match.start()"
   ]
  },
  {
   "cell_type": "code",
   "execution_count": 293,
   "id": "e74852f0-595d-44bd-8aeb-b76089b76a9c",
   "metadata": {
    "execution": {
     "iopub.execute_input": "2023-01-16T21:24:04.576403Z",
     "iopub.status.busy": "2023-01-16T21:24:04.576403Z",
     "iopub.status.idle": "2023-01-16T21:24:04.583376Z",
     "shell.execute_reply": "2023-01-16T21:24:04.583376Z",
     "shell.execute_reply.started": "2023-01-16T21:24:04.576403Z"
    },
    "tags": []
   },
   "outputs": [
    {
     "data": {
      "text/plain": [
       "11"
      ]
     },
     "execution_count": 293,
     "metadata": {},
     "output_type": "execute_result"
    }
   ],
   "source": [
    "match.end()"
   ]
  },
  {
   "cell_type": "code",
   "execution_count": 294,
   "id": "7e2c593c-9b62-4446-80e8-bbb1c0205d07",
   "metadata": {
    "execution": {
     "iopub.execute_input": "2023-01-16T21:24:05.745521Z",
     "iopub.status.busy": "2023-01-16T21:24:05.745521Z",
     "iopub.status.idle": "2023-01-16T21:24:05.753549Z",
     "shell.execute_reply": "2023-01-16T21:24:05.753549Z",
     "shell.execute_reply.started": "2023-01-16T21:24:05.745521Z"
    },
    "tags": []
   },
   "outputs": [
    {
     "data": {
      "text/plain": [
       "'Lovely spam! Wonderful spam!'"
      ]
     },
     "execution_count": 294,
     "metadata": {},
     "output_type": "execute_result"
    }
   ],
   "source": [
    "match.string"
   ]
  },
  {
   "cell_type": "code",
   "execution_count": 296,
   "id": "d98dc503-9e8e-45d3-b64c-37c22f723380",
   "metadata": {
    "execution": {
     "iopub.execute_input": "2023-01-16T21:26:34.393654Z",
     "iopub.status.busy": "2023-01-16T21:26:34.393654Z",
     "iopub.status.idle": "2023-01-16T21:26:34.409669Z",
     "shell.execute_reply": "2023-01-16T21:26:34.408673Z",
     "shell.execute_reply.started": "2023-01-16T21:26:34.393654Z"
    },
    "tags": []
   },
   "outputs": [],
   "source": [
    "re.match(\"spam\", question) # re.match only matches the beginning of the string. Like `^` anchor\n",
    "# it doesn't return anythink,because there is no \"spam\" at the beginnig of the sting"
   ]
  },
  {
   "cell_type": "code",
   "execution_count": 297,
   "id": "46f76df6-3b1c-4214-9d17-01d8b32b1e80",
   "metadata": {
    "execution": {
     "iopub.execute_input": "2023-01-16T21:27:13.312671Z",
     "iopub.status.busy": "2023-01-16T21:27:13.312671Z",
     "iopub.status.idle": "2023-01-16T21:27:13.318671Z",
     "shell.execute_reply": "2023-01-16T21:27:13.318671Z",
     "shell.execute_reply.started": "2023-01-16T21:27:13.312671Z"
    }
   },
   "outputs": [],
   "source": [
    "match = re.match('spam', question)\n"
   ]
  },
  {
   "cell_type": "code",
   "execution_count": 298,
   "id": "4a2b96a7-1242-46b7-a4a9-1a14fc1404d3",
   "metadata": {
    "execution": {
     "iopub.execute_input": "2023-01-16T21:27:16.914825Z",
     "iopub.status.busy": "2023-01-16T21:27:16.913828Z",
     "iopub.status.idle": "2023-01-16T21:27:16.933085Z",
     "shell.execute_reply": "2023-01-16T21:27:16.932557Z",
     "shell.execute_reply.started": "2023-01-16T21:27:16.913828Z"
    }
   },
   "outputs": [],
   "source": [
    "match"
   ]
  },
  {
   "cell_type": "code",
   "execution_count": 299,
   "id": "950bf7db-4e96-489e-9de4-701a18dbdc98",
   "metadata": {
    "execution": {
     "iopub.execute_input": "2023-01-16T21:27:38.677965Z",
     "iopub.status.busy": "2023-01-16T21:27:38.676968Z",
     "iopub.status.idle": "2023-01-16T21:27:38.698967Z",
     "shell.execute_reply": "2023-01-16T21:27:38.697964Z",
     "shell.execute_reply.started": "2023-01-16T21:27:38.677965Z"
    }
   },
   "outputs": [
    {
     "data": {
      "text/plain": [
       "True"
      ]
     },
     "execution_count": 299,
     "metadata": {},
     "output_type": "execute_result"
    }
   ],
   "source": [
    "match is None\n"
   ]
  },
  {
   "cell_type": "code",
   "execution_count": 300,
   "id": "d08c553e-1b5f-40d9-bdb6-00eec5d56a08",
   "metadata": {
    "execution": {
     "iopub.execute_input": "2023-01-16T21:27:56.551984Z",
     "iopub.status.busy": "2023-01-16T21:27:56.551984Z",
     "iopub.status.idle": "2023-01-16T21:27:56.557993Z",
     "shell.execute_reply": "2023-01-16T21:27:56.557993Z",
     "shell.execute_reply.started": "2023-01-16T21:27:56.551984Z"
    }
   },
   "outputs": [
    {
     "data": {
      "text/plain": [
       "False"
      ]
     },
     "execution_count": 300,
     "metadata": {},
     "output_type": "execute_result"
    }
   ],
   "source": [
    "bool(match)"
   ]
  },
  {
   "cell_type": "code",
   "execution_count": 302,
   "id": "28760c95-48cb-466c-8249-3ae99a61b8ff",
   "metadata": {
    "execution": {
     "iopub.execute_input": "2023-01-16T21:28:35.637499Z",
     "iopub.status.busy": "2023-01-16T21:28:35.637499Z",
     "iopub.status.idle": "2023-01-16T21:28:35.646500Z",
     "shell.execute_reply": "2023-01-16T21:28:35.645502Z",
     "shell.execute_reply.started": "2023-01-16T21:28:35.637499Z"
    },
    "tags": []
   },
   "outputs": [
    {
     "data": {
      "text/plain": [
       "<re.Match object; span=(0, 5), match='Lovel'>"
      ]
     },
     "execution_count": 302,
     "metadata": {},
     "output_type": "execute_result"
    }
   ],
   "source": [
    "re.match(\"\\w{5}\", question)"
   ]
  },
  {
   "cell_type": "code",
   "execution_count": 303,
   "id": "225050e7-c062-4437-95e4-be516d907277",
   "metadata": {
    "execution": {
     "iopub.execute_input": "2023-01-16T21:38:06.587985Z",
     "iopub.status.busy": "2023-01-16T21:38:06.587985Z",
     "iopub.status.idle": "2023-01-16T21:38:06.596998Z",
     "shell.execute_reply": "2023-01-16T21:38:06.595985Z",
     "shell.execute_reply.started": "2023-01-16T21:38:06.587985Z"
    }
   },
   "outputs": [],
   "source": [
    "match = re.fullmatch('spam', question)"
   ]
  },
  {
   "cell_type": "code",
   "execution_count": 304,
   "id": "5755885c-45ac-427e-9d63-b64ab8fc92e9",
   "metadata": {
    "execution": {
     "iopub.execute_input": "2023-01-16T21:38:13.704296Z",
     "iopub.status.busy": "2023-01-16T21:38:13.704296Z",
     "iopub.status.idle": "2023-01-16T21:38:13.713304Z",
     "shell.execute_reply": "2023-01-16T21:38:13.713304Z",
     "shell.execute_reply.started": "2023-01-16T21:38:13.704296Z"
    }
   },
   "outputs": [
    {
     "data": {
      "text/plain": [
       "True"
      ]
     },
     "execution_count": 304,
     "metadata": {},
     "output_type": "execute_result"
    }
   ],
   "source": [
    "match is None"
   ]
  },
  {
   "cell_type": "code",
   "execution_count": 307,
   "id": "1f651e48-6886-4a10-aa81-810fe61e4657",
   "metadata": {
    "execution": {
     "iopub.execute_input": "2023-01-16T21:47:16.266727Z",
     "iopub.status.busy": "2023-01-16T21:47:16.265731Z",
     "iopub.status.idle": "2023-01-16T21:47:16.275727Z",
     "shell.execute_reply": "2023-01-16T21:47:16.275727Z",
     "shell.execute_reply.started": "2023-01-16T21:47:16.266727Z"
    },
    "tags": []
   },
   "outputs": [
    {
     "data": {
      "text/plain": [
       "<re.Match object; span=(0, 28), match='Lovely spam! Wonderful spam!'>"
      ]
     },
     "execution_count": 307,
     "metadata": {},
     "output_type": "execute_result"
    }
   ],
   "source": [
    "re.fullmatch('((\\w*\\s*)*!)*', question)"
   ]
  },
  {
   "cell_type": "code",
   "execution_count": 308,
   "id": "f3201e5f-71f9-4b1b-922b-b341b7357d57",
   "metadata": {
    "execution": {
     "iopub.execute_input": "2023-01-16T21:49:23.696921Z",
     "iopub.status.busy": "2023-01-16T21:49:23.696921Z",
     "iopub.status.idle": "2023-01-16T21:49:23.708921Z",
     "shell.execute_reply": "2023-01-16T21:49:23.707920Z",
     "shell.execute_reply.started": "2023-01-16T21:49:23.696921Z"
    }
   },
   "outputs": [
    {
     "data": {
      "text/plain": [
       "['ov', 'el', 'am', 'on', 'er', 'ul', 'am']"
      ]
     },
     "execution_count": 308,
     "metadata": {},
     "output_type": "execute_result"
    }
   ],
   "source": [
    "re.findall('[aeiou][^aeiou]', question)  # returns a list"
   ]
  },
  {
   "cell_type": "code",
   "execution_count": 309,
   "id": "5323b29f-3e19-46d5-9271-5673791a6524",
   "metadata": {
    "execution": {
     "iopub.execute_input": "2023-01-16T21:50:36.335721Z",
     "iopub.status.busy": "2023-01-16T21:50:36.334732Z",
     "iopub.status.idle": "2023-01-16T21:50:36.355721Z",
     "shell.execute_reply": "2023-01-16T21:50:36.355721Z",
     "shell.execute_reply.started": "2023-01-16T21:50:36.334732Z"
    }
   },
   "outputs": [
    {
     "data": {
      "text/plain": [
       "<callable_iterator at 0x14591fa7c10>"
      ]
     },
     "execution_count": 309,
     "metadata": {},
     "output_type": "execute_result"
    }
   ],
   "source": [
    "re.finditer('[aeiou][^aeiou]', question)  # returns a list"
   ]
  },
  {
   "cell_type": "code",
   "execution_count": 311,
   "id": "070cadab-c04b-4e00-a38a-f45b6cfbbde6",
   "metadata": {
    "execution": {
     "iopub.execute_input": "2023-01-16T21:52:07.019041Z",
     "iopub.status.busy": "2023-01-16T21:52:07.019041Z",
     "iopub.status.idle": "2023-01-16T21:52:07.029040Z",
     "shell.execute_reply": "2023-01-16T21:52:07.028053Z",
     "shell.execute_reply.started": "2023-01-16T21:52:07.019041Z"
    },
    "tags": []
   },
   "outputs": [
    {
     "name": "stdout",
     "output_type": "stream",
     "text": [
      "<re.Match object; span=(1, 3), match='ov'>\n",
      "<re.Match object; span=(3, 5), match='el'>\n",
      "<re.Match object; span=(9, 11), match='am'>\n",
      "<re.Match object; span=(14, 16), match='on'>\n",
      "<re.Match object; span=(17, 19), match='er'>\n",
      "<re.Match object; span=(20, 22), match='ul'>\n",
      "<re.Match object; span=(25, 27), match='am'>\n"
     ]
    },
    {
     "data": {
      "text/plain": [
       "[None, None, None, None, None, None, None]"
      ]
     },
     "execution_count": 311,
     "metadata": {},
     "output_type": "execute_result"
    }
   ],
   "source": [
    "[print(match) for match in re.finditer('[aeiou][^aeiou]', question) ]"
   ]
  },
  {
   "cell_type": "code",
   "execution_count": 312,
   "id": "6471111b-3866-4bc1-a50a-768ce7d71131",
   "metadata": {
    "execution": {
     "iopub.execute_input": "2023-01-16T21:55:36.982567Z",
     "iopub.status.busy": "2023-01-16T21:55:36.982567Z",
     "iopub.status.idle": "2023-01-16T21:55:36.991565Z",
     "shell.execute_reply": "2023-01-16T21:55:36.990565Z",
     "shell.execute_reply.started": "2023-01-16T21:55:36.982567Z"
    },
    "tags": []
   },
   "outputs": [
    {
     "data": {
      "text/plain": [
       "('one', 'two')"
      ]
     },
     "execution_count": 312,
     "metadata": {},
     "output_type": "execute_result"
    }
   ],
   "source": [
    "match = re.search(r'(\\w+), (\\w+)', 'one, two, three')\n",
    "match.groups()"
   ]
  },
  {
   "cell_type": "code",
   "execution_count": 314,
   "id": "9dfd79d5-c1b1-4c16-9cb6-0af2df29b080",
   "metadata": {
    "execution": {
     "iopub.execute_input": "2023-01-16T21:56:17.176516Z",
     "iopub.status.busy": "2023-01-16T21:56:17.176516Z",
     "iopub.status.idle": "2023-01-16T21:56:17.190542Z",
     "shell.execute_reply": "2023-01-16T21:56:17.189543Z",
     "shell.execute_reply.started": "2023-01-16T21:56:17.176516Z"
    },
    "tags": []
   },
   "outputs": [
    {
     "data": {
      "text/plain": [
       "'two'"
      ]
     },
     "execution_count": 314,
     "metadata": {},
     "output_type": "execute_result"
    }
   ],
   "source": [
    "match.group(2)"
   ]
  },
  {
   "cell_type": "code",
   "execution_count": 315,
   "id": "d2f63b0f-36e9-4de3-ac48-a46f2d8357e3",
   "metadata": {
    "execution": {
     "iopub.execute_input": "2023-01-16T21:56:31.522717Z",
     "iopub.status.busy": "2023-01-16T21:56:31.522717Z",
     "iopub.status.idle": "2023-01-16T21:56:31.529746Z",
     "shell.execute_reply": "2023-01-16T21:56:31.529746Z",
     "shell.execute_reply.started": "2023-01-16T21:56:31.522717Z"
    }
   },
   "outputs": [
    {
     "data": {
      "text/plain": [
       "('two', 'one')"
      ]
     },
     "execution_count": 315,
     "metadata": {},
     "output_type": "execute_result"
    }
   ],
   "source": [
    "match.group(2, 1)"
   ]
  },
  {
   "cell_type": "code",
   "execution_count": 316,
   "id": "0e15bd93-3cbc-40ca-b1a9-ab62924079a9",
   "metadata": {
    "execution": {
     "iopub.execute_input": "2023-01-16T21:56:40.948055Z",
     "iopub.status.busy": "2023-01-16T21:56:40.948055Z",
     "iopub.status.idle": "2023-01-16T21:56:40.957594Z",
     "shell.execute_reply": "2023-01-16T21:56:40.957594Z",
     "shell.execute_reply.started": "2023-01-16T21:56:40.948055Z"
    }
   },
   "outputs": [
    {
     "data": {
      "text/plain": [
       "'one, two'"
      ]
     },
     "execution_count": 316,
     "metadata": {},
     "output_type": "execute_result"
    }
   ],
   "source": [
    "match.group(0)"
   ]
  },
  {
   "cell_type": "code",
   "execution_count": 317,
   "id": "cb75be1d-246d-4313-980e-0d4ae9cb5933",
   "metadata": {
    "execution": {
     "iopub.execute_input": "2023-01-16T21:56:51.990041Z",
     "iopub.status.busy": "2023-01-16T21:56:51.989051Z",
     "iopub.status.idle": "2023-01-16T21:56:52.005040Z",
     "shell.execute_reply": "2023-01-16T21:56:52.005040Z",
     "shell.execute_reply.started": "2023-01-16T21:56:51.990041Z"
    }
   },
   "outputs": [
    {
     "data": {
      "text/plain": [
       "'one'"
      ]
     },
     "execution_count": 317,
     "metadata": {},
     "output_type": "execute_result"
    }
   ],
   "source": [
    "match[1]"
   ]
  },
  {
   "cell_type": "code",
   "execution_count": 318,
   "id": "c3d499c1-03eb-4e42-bc6a-5bb67dceecff",
   "metadata": {
    "execution": {
     "iopub.execute_input": "2023-01-16T21:56:58.232370Z",
     "iopub.status.busy": "2023-01-16T21:56:58.232370Z",
     "iopub.status.idle": "2023-01-16T21:56:58.251370Z",
     "shell.execute_reply": "2023-01-16T21:56:58.250376Z",
     "shell.execute_reply.started": "2023-01-16T21:56:58.232370Z"
    }
   },
   "outputs": [
    {
     "data": {
      "text/plain": [
       "'one, two'"
      ]
     },
     "execution_count": 318,
     "metadata": {},
     "output_type": "execute_result"
    }
   ],
   "source": [
    "match[0]"
   ]
  },
  {
   "cell_type": "code",
   "execution_count": 319,
   "id": "d5af1527-32a0-427f-aa1f-2feb57a954a7",
   "metadata": {
    "execution": {
     "iopub.execute_input": "2023-01-16T21:58:06.520927Z",
     "iopub.status.busy": "2023-01-16T21:58:06.519943Z",
     "iopub.status.idle": "2023-01-16T21:58:06.534934Z",
     "shell.execute_reply": "2023-01-16T21:58:06.534934Z",
     "shell.execute_reply.started": "2023-01-16T21:58:06.520927Z"
    }
   },
   "outputs": [
    {
     "data": {
      "text/plain": [
       "\"second was 'two', first was 'one'\""
      ]
     },
     "execution_count": 319,
     "metadata": {},
     "output_type": "execute_result"
    }
   ],
   "source": [
    "match.expand(\"second was '\\\\2', first was '\\\\1'\")"
   ]
  },
  {
   "cell_type": "code",
   "execution_count": 321,
   "id": "bf621761-c554-47b5-b1d4-0978bf0e8215",
   "metadata": {
    "execution": {
     "iopub.execute_input": "2023-01-16T21:59:39.946411Z",
     "iopub.status.busy": "2023-01-16T21:59:39.945412Z",
     "iopub.status.idle": "2023-01-16T21:59:39.958411Z",
     "shell.execute_reply": "2023-01-16T21:59:39.957410Z",
     "shell.execute_reply.started": "2023-01-16T21:59:39.946411Z"
    },
    "tags": []
   },
   "outputs": [
    {
     "data": {
      "text/plain": [
       "<re.Match object; span=(4, 7), match='123'>"
      ]
     },
     "execution_count": 321,
     "metadata": {},
     "output_type": "execute_result"
    }
   ],
   "source": [
    "match = re.search('123', 'abc,123,xyz')\n",
    "match"
   ]
  },
  {
   "cell_type": "code",
   "execution_count": 322,
   "id": "ff81f859-be02-44ce-916f-5c3e534608e7",
   "metadata": {
    "execution": {
     "iopub.execute_input": "2023-01-16T21:59:59.145290Z",
     "iopub.status.busy": "2023-01-16T21:59:59.144241Z",
     "iopub.status.idle": "2023-01-16T21:59:59.163308Z",
     "shell.execute_reply": "2023-01-16T21:59:59.162269Z",
     "shell.execute_reply.started": "2023-01-16T21:59:59.145290Z"
    }
   },
   "outputs": [
    {
     "data": {
      "text/plain": [
       "4"
      ]
     },
     "execution_count": 322,
     "metadata": {},
     "output_type": "execute_result"
    }
   ],
   "source": [
    "match.start()"
   ]
  },
  {
   "cell_type": "code",
   "execution_count": 323,
   "id": "80e875b3-e835-43e3-b409-86c42f4b8398",
   "metadata": {
    "execution": {
     "iopub.execute_input": "2023-01-16T22:00:05.038168Z",
     "iopub.status.busy": "2023-01-16T22:00:05.038168Z",
     "iopub.status.idle": "2023-01-16T22:00:05.056167Z",
     "shell.execute_reply": "2023-01-16T22:00:05.055167Z",
     "shell.execute_reply.started": "2023-01-16T22:00:05.038168Z"
    }
   },
   "outputs": [
    {
     "data": {
      "text/plain": [
       "7"
      ]
     },
     "execution_count": 323,
     "metadata": {},
     "output_type": "execute_result"
    }
   ],
   "source": [
    "match.end()"
   ]
  },
  {
   "cell_type": "code",
   "execution_count": 324,
   "id": "e170f3f2-052b-4337-a5fc-857038abad85",
   "metadata": {
    "execution": {
     "iopub.execute_input": "2023-01-16T22:00:13.672076Z",
     "iopub.status.busy": "2023-01-16T22:00:13.672076Z",
     "iopub.status.idle": "2023-01-16T22:00:13.680074Z",
     "shell.execute_reply": "2023-01-16T22:00:13.679074Z",
     "shell.execute_reply.started": "2023-01-16T22:00:13.672076Z"
    }
   },
   "outputs": [
    {
     "data": {
      "text/plain": [
       "'abc,123,xyz'"
      ]
     },
     "execution_count": 324,
     "metadata": {},
     "output_type": "execute_result"
    }
   ],
   "source": [
    "match.string"
   ]
  },
  {
   "cell_type": "code",
   "execution_count": 326,
   "id": "5bfcb27a-08e3-4412-9425-0e5e672b5076",
   "metadata": {
    "execution": {
     "iopub.execute_input": "2023-01-16T22:08:04.104260Z",
     "iopub.status.busy": "2023-01-16T22:08:04.104260Z",
     "iopub.status.idle": "2023-01-16T22:08:04.119263Z",
     "shell.execute_reply": "2023-01-16T22:08:04.118271Z",
     "shell.execute_reply.started": "2023-01-16T22:08:04.104260Z"
    },
    "tags": []
   },
   "outputs": [],
   "source": [
    "match = re.search(r'\\w+\\\\\\w+', r'one\\two')"
   ]
  },
  {
   "cell_type": "code",
   "execution_count": 327,
   "id": "89ff593e-33d9-4d6f-abe3-e85bbed355a2",
   "metadata": {
    "execution": {
     "iopub.execute_input": "2023-01-16T22:08:14.224486Z",
     "iopub.status.busy": "2023-01-16T22:08:14.224486Z",
     "iopub.status.idle": "2023-01-16T22:08:14.230486Z",
     "shell.execute_reply": "2023-01-16T22:08:14.230486Z",
     "shell.execute_reply.started": "2023-01-16T22:08:14.224486Z"
    },
    "tags": []
   },
   "outputs": [
    {
     "data": {
      "text/plain": [
       "'one\\\\two'"
      ]
     },
     "execution_count": 327,
     "metadata": {},
     "output_type": "execute_result"
    }
   ],
   "source": [
    "match.string"
   ]
  },
  {
   "cell_type": "code",
   "execution_count": 328,
   "id": "c2694bfa-f1f6-4d66-8e96-9d43e5b081f9",
   "metadata": {
    "execution": {
     "iopub.execute_input": "2023-01-16T22:17:34.925444Z",
     "iopub.status.busy": "2023-01-16T22:17:34.925444Z",
     "iopub.status.idle": "2023-01-16T22:17:34.939446Z",
     "shell.execute_reply": "2023-01-16T22:17:34.938467Z",
     "shell.execute_reply.started": "2023-01-16T22:17:34.925444Z"
    },
    "tags": []
   },
   "outputs": [
    {
     "data": {
      "text/plain": [
       "<re.Match object; span=(19, 34), match='one, two, three'>"
      ]
     },
     "execution_count": 328,
     "metadata": {},
     "output_type": "execute_result"
    }
   ],
   "source": [
    "content = \"I count like this: one, two, three\"\n",
    "match = re.search(r\"(\\w+), (\\w+), (\\w+)\", content)\n",
    "match"
   ]
  },
  {
   "cell_type": "code",
   "execution_count": 329,
   "id": "341e37bb-8516-475e-95de-ce6b47505181",
   "metadata": {
    "execution": {
     "iopub.execute_input": "2023-01-17T10:24:15.232036Z",
     "iopub.status.busy": "2023-01-17T10:24:15.231016Z",
     "iopub.status.idle": "2023-01-17T10:24:15.248655Z",
     "shell.execute_reply": "2023-01-17T10:24:15.247648Z",
     "shell.execute_reply.started": "2023-01-17T10:24:15.232036Z"
    },
    "tags": []
   },
   "outputs": [
    {
     "data": {
      "text/plain": [
       "('one', 'two', 'three')"
      ]
     },
     "execution_count": 329,
     "metadata": {},
     "output_type": "execute_result"
    }
   ],
   "source": [
    "match.groups()"
   ]
  },
  {
   "cell_type": "code",
   "execution_count": 331,
   "id": "331c1796-6e1b-4128-b2a6-e706db2258b1",
   "metadata": {
    "execution": {
     "iopub.execute_input": "2023-01-17T10:27:09.937967Z",
     "iopub.status.busy": "2023-01-17T10:27:09.936956Z",
     "iopub.status.idle": "2023-01-17T10:27:09.947953Z",
     "shell.execute_reply": "2023-01-17T10:27:09.946973Z",
     "shell.execute_reply.started": "2023-01-17T10:27:09.937967Z"
    },
    "tags": []
   },
   "outputs": [],
   "source": [
    "\n",
    "match = re.search(r\"(?P<first>\\w+), (?P<second>\\w+), (?P<third>\\w+)\", content)"
   ]
  },
  {
   "cell_type": "code",
   "execution_count": 332,
   "id": "3b772dd2-a05d-4c1a-994f-ce6da20d5125",
   "metadata": {
    "execution": {
     "iopub.execute_input": "2023-01-17T10:27:17.677676Z",
     "iopub.status.busy": "2023-01-17T10:27:17.676682Z",
     "iopub.status.idle": "2023-01-17T10:27:17.696681Z",
     "shell.execute_reply": "2023-01-17T10:27:17.695708Z",
     "shell.execute_reply.started": "2023-01-17T10:27:17.677676Z"
    }
   },
   "outputs": [
    {
     "data": {
      "text/plain": [
       "('one', 'two', 'three')"
      ]
     },
     "execution_count": 332,
     "metadata": {},
     "output_type": "execute_result"
    }
   ],
   "source": [
    "match.groups()"
   ]
  },
  {
   "cell_type": "code",
   "execution_count": 333,
   "id": "dd487688-2074-4417-85fb-026d785d26c3",
   "metadata": {
    "execution": {
     "iopub.execute_input": "2023-01-17T10:27:29.025301Z",
     "iopub.status.busy": "2023-01-17T10:27:29.025301Z",
     "iopub.status.idle": "2023-01-17T10:27:29.035301Z",
     "shell.execute_reply": "2023-01-17T10:27:29.034301Z",
     "shell.execute_reply.started": "2023-01-17T10:27:29.025301Z"
    }
   },
   "outputs": [
    {
     "data": {
      "text/plain": [
       "{'first': 'one', 'second': 'two', 'third': 'three'}"
      ]
     },
     "execution_count": 333,
     "metadata": {},
     "output_type": "execute_result"
    }
   ],
   "source": [
    "match.groupdict()"
   ]
  },
  {
   "cell_type": "code",
   "execution_count": 336,
   "id": "106d0b6f-4b10-4dbc-bb2b-d62549830d9d",
   "metadata": {
    "execution": {
     "iopub.execute_input": "2023-01-17T10:32:05.038662Z",
     "iopub.status.busy": "2023-01-17T10:32:05.038662Z",
     "iopub.status.idle": "2023-01-17T10:32:05.059646Z",
     "shell.execute_reply": "2023-01-17T10:32:05.058645Z",
     "shell.execute_reply.started": "2023-01-17T10:32:05.038662Z"
    },
    "tags": []
   },
   "outputs": [
    {
     "data": {
      "text/plain": [
       "('one', 'three')"
      ]
     },
     "execution_count": 336,
     "metadata": {},
     "output_type": "execute_result"
    }
   ],
   "source": [
    "# non capturing group in the middle\n",
    "match = re.search(r\"(?P<first>\\w+), (?:\\w+), (?P<third>\\w+)\", content)\n",
    "match.groups()"
   ]
  },
  {
   "cell_type": "code",
   "execution_count": 345,
   "id": "e7f4dc9e-d6b1-426f-a327-e34bed547173",
   "metadata": {
    "execution": {
     "iopub.execute_input": "2023-01-17T10:38:32.090729Z",
     "iopub.status.busy": "2023-01-17T10:38:32.090729Z",
     "iopub.status.idle": "2023-01-17T10:38:32.109698Z",
     "shell.execute_reply": "2023-01-17T10:38:32.108725Z",
     "shell.execute_reply.started": "2023-01-17T10:38:32.090729Z"
    },
    "tags": []
   },
   "outputs": [
    {
     "data": {
      "text/plain": [
       "('one', 'three')"
      ]
     },
     "execution_count": 345,
     "metadata": {},
     "output_type": "execute_result"
    }
   ],
   "source": [
    "# reusing the group's name\n",
    "content = \"I count like this: one, one, three\"\n",
    "match = re.search(r\"(?P<first>\\w+), (?P=first), (?P<third>\\w+)\", content)\n",
    "match.groups() # doesn't work for some reason"
   ]
  },
  {
   "cell_type": "code",
   "execution_count": 348,
   "id": "c376be71-a337-469d-8b71-ac8465a10d32",
   "metadata": {
    "execution": {
     "iopub.execute_input": "2023-01-17T10:40:25.216634Z",
     "iopub.status.busy": "2023-01-17T10:40:25.216634Z",
     "iopub.status.idle": "2023-01-17T10:40:25.234624Z",
     "shell.execute_reply": "2023-01-17T10:40:25.233649Z",
     "shell.execute_reply.started": "2023-01-17T10:40:25.216634Z"
    },
    "tags": []
   },
   "outputs": [
    {
     "data": {
      "text/plain": [
       "('a', 'e')"
      ]
     },
     "execution_count": 348,
     "metadata": {},
     "output_type": "execute_result"
    }
   ],
   "source": [
    "# non capturing group\n",
    "string = \"Idon't care if you dont'\"\n",
    "match = re.search(r\"(a)(?:r)(e)\", string)\n",
    "match.groups()"
   ]
  },
  {
   "cell_type": "code",
   "execution_count": 369,
   "id": "8fa3aefa-0b2b-4c32-a299-9ce3d4fe8ce5",
   "metadata": {
    "execution": {
     "iopub.execute_input": "2023-01-17T10:50:44.010005Z",
     "iopub.status.busy": "2023-01-17T10:50:44.010005Z",
     "iopub.status.idle": "2023-01-17T10:50:44.023985Z",
     "shell.execute_reply": "2023-01-17T10:50:44.023035Z",
     "shell.execute_reply.started": "2023-01-17T10:50:44.010005Z"
    },
    "tags": []
   },
   "outputs": [
    {
     "data": {
      "text/plain": [
       "['13', '42']"
      ]
     },
     "execution_count": 369,
     "metadata": {},
     "output_type": "execute_result"
    }
   ],
   "source": [
    "# match = re.match(r\"\\d+\", content).groups() # no matches\n",
    "match = re.search(r\"\\d+\", content)\n",
    "match.groups() # doesn't find anything. I don't know why\n",
    "\n",
    "matches = re.findall(r\"\\d+\", content)\n",
    "match # finds both digits\n",
    "\n",
    "matches = re.finditer(r\"\\d+\", content)\n",
    "match = [match.group() for match in matches]\n",
    "match # finds both digits"
   ]
  },
  {
   "cell_type": "code",
   "execution_count": 370,
   "id": "822b40d1-6f4f-4ba4-b426-cc1f462a715e",
   "metadata": {
    "execution": {
     "iopub.execute_input": "2023-01-17T10:51:16.045093Z",
     "iopub.status.busy": "2023-01-17T10:51:16.045093Z",
     "iopub.status.idle": "2023-01-17T10:51:16.065072Z",
     "shell.execute_reply": "2023-01-17T10:51:16.064071Z",
     "shell.execute_reply.started": "2023-01-17T10:51:16.045093Z"
    },
    "tags": []
   },
   "outputs": [
    {
     "data": {
      "text/plain": [
       "'My favorite numbers are # and #'"
      ]
     },
     "execution_count": 370,
     "metadata": {},
     "output_type": "execute_result"
    }
   ],
   "source": [
    "content = \"My favorite numbers are 13 and 42\"\n",
    "re.sub(r\"\\d+\", \"#\", content)"
   ]
  },
  {
   "cell_type": "code",
   "execution_count": 372,
   "id": "708bbc38-2c92-4f37-bf6b-0d902d624b62",
   "metadata": {
    "execution": {
     "iopub.execute_input": "2023-01-17T10:52:20.572602Z",
     "iopub.status.busy": "2023-01-17T10:52:20.571586Z",
     "iopub.status.idle": "2023-01-17T10:52:20.579588Z",
     "shell.execute_reply": "2023-01-17T10:52:20.578634Z",
     "shell.execute_reply.started": "2023-01-17T10:52:20.572602Z"
    },
    "tags": []
   },
   "outputs": [
    {
     "data": {
      "text/plain": [
       "'My favorite numbers are # and 42'"
      ]
     },
     "execution_count": 372,
     "metadata": {},
     "output_type": "execute_result"
    }
   ],
   "source": [
    "re.sub(r\"\\d+\", \"#\", content, count=1) # indicates that only the first match will be substituted"
   ]
  },
  {
   "cell_type": "code",
   "execution_count": 374,
   "id": "98a9b7d3-d263-45d7-b557-1b9d2658964a",
   "metadata": {
    "execution": {
     "iopub.execute_input": "2023-01-17T10:53:35.283049Z",
     "iopub.status.busy": "2023-01-17T10:53:35.282035Z",
     "iopub.status.idle": "2023-01-17T10:53:35.293038Z",
     "shell.execute_reply": "2023-01-17T10:53:35.292036Z",
     "shell.execute_reply.started": "2023-01-17T10:53:35.283049Z"
    },
    "tags": []
   },
   "outputs": [
    {
     "data": {
      "text/plain": [
       "'My favorite numbers are # and #'"
      ]
     },
     "execution_count": 374,
     "metadata": {},
     "output_type": "execute_result"
    }
   ],
   "source": [
    "re.sub(r\"\\d+\", \"#\", content, count=2) # indicates that only the first match will be substituted"
   ]
  },
  {
   "cell_type": "code",
   "execution_count": 375,
   "id": "26726ee3-ff46-4a68-979f-4c5d8409e8c7",
   "metadata": {
    "execution": {
     "iopub.execute_input": "2023-01-17T10:55:01.037551Z",
     "iopub.status.busy": "2023-01-17T10:55:01.036539Z",
     "iopub.status.idle": "2023-01-17T10:55:01.048537Z",
     "shell.execute_reply": "2023-01-17T10:55:01.047564Z",
     "shell.execute_reply.started": "2023-01-17T10:55:01.037551Z"
    }
   },
   "outputs": [
    {
     "data": {
      "text/plain": [
       "'My favorite numbers are 31 and 24'"
      ]
     },
     "execution_count": 375,
     "metadata": {},
     "output_type": "execute_result"
    }
   ],
   "source": [
    "# use a function in sub\n",
    "def reverse(match):\n",
    "    return match.group(0)[::-1] # slice reverses the string\n",
    "\n",
    "re.sub(r\"\\d+\", reverse, content)"
   ]
  },
  {
   "cell_type": "code",
   "execution_count": 379,
   "id": "cde4d9f4-dc77-41b1-9114-77edfc6c039e",
   "metadata": {
    "execution": {
     "iopub.execute_input": "2023-01-17T10:58:06.794635Z",
     "iopub.status.busy": "2023-01-17T10:58:06.794635Z",
     "iopub.status.idle": "2023-01-17T10:58:06.802640Z",
     "shell.execute_reply": "2023-01-17T10:58:06.802640Z",
     "shell.execute_reply.started": "2023-01-17T10:58:06.794635Z"
    },
    "tags": []
   },
   "outputs": [
    {
     "data": {
      "text/plain": [
       "'My favorite numbers are 42 and 13'"
      ]
     },
     "execution_count": 379,
     "metadata": {},
     "output_type": "execute_result"
    }
   ],
   "source": [
    "# using back references for swapping matches\n",
    "content = \"My favorite numbers are 13 and 42\"\n",
    "re.sub(r\"(\\d+) and (\\d+)\", r\"\\2 and \\1\", content)"
   ]
  },
  {
   "cell_type": "code",
   "execution_count": 380,
   "id": "d6d0bcd8-e288-4f5a-89d2-1661fac0d7e6",
   "metadata": {
    "execution": {
     "iopub.execute_input": "2023-01-17T10:59:57.998583Z",
     "iopub.status.busy": "2023-01-17T10:59:57.998583Z",
     "iopub.status.idle": "2023-01-17T10:59:58.010593Z",
     "shell.execute_reply": "2023-01-17T10:59:58.009583Z",
     "shell.execute_reply.started": "2023-01-17T10:59:57.998583Z"
    },
    "tags": []
   },
   "outputs": [
    {
     "data": {
      "text/plain": [
       "'My favorite numbers are ... and ...'"
      ]
     },
     "execution_count": 380,
     "metadata": {},
     "output_type": "execute_result"
    }
   ],
   "source": [
    "# using back references for swapping matches\n",
    "content = \"My favorite numbers are 13 and 42\"\n",
    "re.sub(r\"(\\d+) and (\\d+)\", r\"... and ...\", content)"
   ]
  },
  {
   "cell_type": "code",
   "execution_count": 384,
   "id": "bf4c7717-ae69-4bef-b84a-41529bef70ab",
   "metadata": {
    "execution": {
     "iopub.execute_input": "2023-01-17T11:03:02.358673Z",
     "iopub.status.busy": "2023-01-17T11:03:02.358673Z",
     "iopub.status.idle": "2023-01-17T11:03:02.373690Z",
     "shell.execute_reply": "2023-01-17T11:03:02.372675Z",
     "shell.execute_reply.started": "2023-01-17T11:03:02.358673Z"
    },
    "tags": []
   },
   "outputs": [
    {
     "data": {
      "text/plain": [
       "'My favorite numbers are 13 and 42'"
      ]
     },
     "execution_count": 384,
     "metadata": {},
     "output_type": "execute_result"
    }
   ],
   "source": [
    "# using back references for swapping matches\n",
    "content = \"My favorite numbers are 13 and 42\"\n",
    "re.sub(r\"(\\d+) and (\\1)\", r\"... and is the same\", content) # if `\\1` exists, the swapp happens, if there are no\n",
    "# repeating matches, then no swap"
   ]
  },
  {
   "cell_type": "code",
   "execution_count": 390,
   "id": "8c55e67e-4156-4cda-b5bb-87d69502ac81",
   "metadata": {
    "execution": {
     "iopub.execute_input": "2023-01-17T11:09:42.350456Z",
     "iopub.status.busy": "2023-01-17T11:09:42.350456Z",
     "iopub.status.idle": "2023-01-17T11:09:42.371388Z",
     "shell.execute_reply": "2023-01-17T11:09:42.370383Z",
     "shell.execute_reply.started": "2023-01-17T11:09:42.350456Z"
    },
    "tags": []
   },
   "outputs": [
    {
     "data": {
      "text/plain": [
       "'Is this a 10?'"
      ]
     },
     "execution_count": 390,
     "metadata": {},
     "output_type": "execute_result"
    }
   ],
   "source": [
    "# re.sub(r\"(\\d+)\", r\"\\10\", \"Is this a 1?\") # error\n",
    "re.sub(r\"(\\d+)\", r\"\\g<1>0\", \"Is this a 1?\") # substitute the match by itself plus `0`"
   ]
  },
  {
   "cell_type": "code",
   "execution_count": 392,
   "id": "22674a4f-035a-437c-aa20-32965b6044dd",
   "metadata": {
    "execution": {
     "iopub.execute_input": "2023-01-17T11:11:32.475152Z",
     "iopub.status.busy": "2023-01-17T11:11:32.475152Z",
     "iopub.status.idle": "2023-01-17T11:11:32.486134Z",
     "shell.execute_reply": "2023-01-17T11:11:32.485120Z",
     "shell.execute_reply.started": "2023-01-17T11:11:32.475152Z"
    },
    "tags": []
   },
   "outputs": [
    {
     "data": {
      "text/plain": [
       "'-s-p-a-m-'"
      ]
     },
     "execution_count": 392,
     "metadata": {},
     "output_type": "execute_result"
    }
   ],
   "source": [
    "re.sub(r\"x*\", \"-\", \"spam\") # `x*` zero or more x is substituted with `-`"
   ]
  },
  {
   "cell_type": "code",
   "execution_count": 394,
   "id": "11cdddd4-680e-4437-8854-ccfda39b73f8",
   "metadata": {
    "execution": {
     "iopub.execute_input": "2023-01-17T11:12:42.828731Z",
     "iopub.status.busy": "2023-01-17T11:12:42.827731Z",
     "iopub.status.idle": "2023-01-17T11:12:42.834710Z",
     "shell.execute_reply": "2023-01-17T11:12:42.834710Z",
     "shell.execute_reply.started": "2023-01-17T11:12:42.828731Z"
    },
    "tags": []
   },
   "outputs": [
    {
     "data": {
      "text/plain": [
       "('-s-p-a-m-', 5)"
      ]
     },
     "execution_count": 394,
     "metadata": {},
     "output_type": "execute_result"
    }
   ],
   "source": [
    "re.subn(r\"x*\", \"-\", \"spam\") # `x*` zero or more x is substituted with `-`\n",
    "# n show how many substitutins have happened"
   ]
  },
  {
   "cell_type": "code",
   "execution_count": 395,
   "id": "5ea96010-9f83-400b-a75e-b988bf1a1788",
   "metadata": {
    "execution": {
     "iopub.execute_input": "2023-01-17T11:13:59.924444Z",
     "iopub.status.busy": "2023-01-17T11:13:59.924444Z",
     "iopub.status.idle": "2023-01-17T11:13:59.934435Z",
     "shell.execute_reply": "2023-01-17T11:13:59.933462Z",
     "shell.execute_reply.started": "2023-01-17T11:13:59.924444Z"
    }
   },
   "outputs": [
    {
     "data": {
      "text/plain": [
       "['My favorite numbers are ', ' and ', '']"
      ]
     },
     "execution_count": 395,
     "metadata": {},
     "output_type": "execute_result"
    }
   ],
   "source": [
    "re.split(r\"\\d+\", \"My favorite numbers are 13 and 42\") # the matches are not included"
   ]
  },
  {
   "cell_type": "code",
   "execution_count": 396,
   "id": "d6df9899-2b06-442c-bf1a-34e298d9ace1",
   "metadata": {
    "execution": {
     "iopub.execute_input": "2023-01-17T11:14:50.112058Z",
     "iopub.status.busy": "2023-01-17T11:14:50.112058Z",
     "iopub.status.idle": "2023-01-17T11:14:50.117035Z",
     "shell.execute_reply": "2023-01-17T11:14:50.117035Z",
     "shell.execute_reply.started": "2023-01-17T11:14:50.112058Z"
    },
    "tags": []
   },
   "outputs": [
    {
     "data": {
      "text/plain": [
       "['My favorite numbers are ', ' and 42']"
      ]
     },
     "execution_count": 396,
     "metadata": {},
     "output_type": "execute_result"
    }
   ],
   "source": [
    "re.split(r\"\\d+\", \"My favorite numbers are 13 and 42\", maxsplit=1)"
   ]
  },
  {
   "cell_type": "code",
   "execution_count": 397,
   "id": "26070d9a-72d8-45ed-953c-3e70de52a293",
   "metadata": {
    "execution": {
     "iopub.execute_input": "2023-01-17T11:16:12.228070Z",
     "iopub.status.busy": "2023-01-17T11:16:12.228070Z",
     "iopub.status.idle": "2023-01-17T11:16:12.244069Z",
     "shell.execute_reply": "2023-01-17T11:16:12.243069Z",
     "shell.execute_reply.started": "2023-01-17T11:16:12.228070Z"
    },
    "tags": []
   },
   "outputs": [
    {
     "data": {
      "text/plain": [
       "['My favorite numbers are ', '13', ' and ', '42', '']"
      ]
     },
     "execution_count": 397,
     "metadata": {},
     "output_type": "execute_result"
    }
   ],
   "source": [
    "re.split(r\"(\\d+)\", \"My favorite numbers are 13 and 42\") # the matches ARE included"
   ]
  },
  {
   "cell_type": "code",
   "execution_count": 400,
   "id": "9ee20ef4-2cde-4474-90a7-ecadeb592b6b",
   "metadata": {
    "execution": {
     "iopub.execute_input": "2023-01-17T11:19:48.050694Z",
     "iopub.status.busy": "2023-01-17T11:19:48.050694Z",
     "iopub.status.idle": "2023-01-17T11:19:48.061711Z",
     "shell.execute_reply": "2023-01-17T11:19:48.061711Z",
     "shell.execute_reply.started": "2023-01-17T11:19:48.050694Z"
    },
    "tags": []
   },
   "outputs": [
    {
     "data": {
      "text/plain": [
       "['2^2']"
      ]
     },
     "execution_count": 400,
     "metadata": {},
     "output_type": "execute_result"
    }
   ],
   "source": [
    "re.findall(r\"2^4\", \"Even more than 2^2 is 2^4\") # nothing is found\n",
    "regex = re.escape(\"2^2\")\n",
    "re.findall(regex, \"Even more than 2^2 is 2^4\") # now it's found!"
   ]
  },
  {
   "cell_type": "code",
   "execution_count": 403,
   "id": "5170ce47-dc20-42e5-9c3f-7fa0b7bc1a02",
   "metadata": {
    "execution": {
     "iopub.execute_input": "2023-01-17T11:51:29.126169Z",
     "iopub.status.busy": "2023-01-17T11:51:29.126169Z",
     "iopub.status.idle": "2023-01-17T11:51:29.143698Z",
     "shell.execute_reply": "2023-01-17T11:51:29.142692Z",
     "shell.execute_reply.started": "2023-01-17T11:51:29.126169Z"
    },
    "tags": []
   },
   "outputs": [
    {
     "data": {
      "text/plain": [
       "<re.Match object; span=(24, 26), match='13'>"
      ]
     },
     "execution_count": 403,
     "metadata": {},
     "output_type": "execute_result"
    }
   ],
   "source": [
    "digits_re = re.compile(\"(\\d+)\")\n",
    "digits_re\n",
    "digits_re.search(\"My favorite numbers are 13 and 42.\")"
   ]
  },
  {
   "cell_type": "code",
   "execution_count": 412,
   "id": "855f6cb6-a59c-4b48-ac8d-33d471ad9893",
   "metadata": {
    "execution": {
     "iopub.execute_input": "2023-01-17T12:14:40.053543Z",
     "iopub.status.busy": "2023-01-17T12:14:40.053543Z",
     "iopub.status.idle": "2023-01-17T12:14:46.181969Z",
     "shell.execute_reply": "2023-01-17T12:14:46.179984Z",
     "shell.execute_reply.started": "2023-01-17T12:14:40.053543Z"
    },
    "tags": []
   },
   "outputs": [
    {
     "data": {
      "text/plain": [
       "0"
      ]
     },
     "execution_count": 412,
     "metadata": {},
     "output_type": "execute_result"
    }
   ],
   "source": [
    "# import os\n",
    "# os.system('notepad.exe ' + 'speed2.html')"
   ]
  },
  {
   "cell_type": "code",
   "execution_count": 415,
   "id": "ba40c588-6d1d-488f-a4e0-69d69e7fba9d",
   "metadata": {
    "execution": {
     "iopub.execute_input": "2023-01-17T12:32:30.982619Z",
     "iopub.status.busy": "2023-01-17T12:32:30.981614Z",
     "iopub.status.idle": "2023-01-17T12:32:30.999614Z",
     "shell.execute_reply": "2023-01-17T12:32:30.999614Z",
     "shell.execute_reply.started": "2023-01-17T12:32:30.982619Z"
    },
    "tags": []
   },
   "outputs": [
    {
     "data": {
      "text/plain": [
       "['AAA']"
      ]
     },
     "execution_count": 415,
     "metadata": {},
     "output_type": "execute_result"
    }
   ],
   "source": [
    "re.findall(r\"a+\", \"AAA\")\n",
    "re.findall(r\"a+\", \"AAA\", re.I) # flag ignorecase is activated"
   ]
  },
  {
   "cell_type": "code",
   "execution_count": 417,
   "id": "b18cd18c-524a-4bfa-a4e5-c933248e2b5a",
   "metadata": {
    "execution": {
     "iopub.execute_input": "2023-01-17T12:34:10.028612Z",
     "iopub.status.busy": "2023-01-17T12:34:10.028612Z",
     "iopub.status.idle": "2023-01-17T12:34:10.045613Z",
     "shell.execute_reply": "2023-01-17T12:34:10.044654Z",
     "shell.execute_reply.started": "2023-01-17T12:34:10.028612Z"
    },
    "tags": []
   },
   "outputs": [
    {
     "data": {
      "text/plain": [
       "['I']"
      ]
     },
     "execution_count": 417,
     "metadata": {},
     "output_type": "execute_result"
    }
   ],
   "source": [
    "# multiline\n",
    "re.findall(r\"^I\", \"Yes, you did, no\\nI didn't\")\n",
    "re.findall(r\"^I\", \"Yes, you did, no\\nI didn't\", re.M)"
   ]
  },
  {
   "cell_type": "code",
   "execution_count": 419,
   "id": "c4c13547-a9ec-403f-ac38-a2cc8e16b362",
   "metadata": {
    "execution": {
     "iopub.execute_input": "2023-01-17T12:35:46.314592Z",
     "iopub.status.busy": "2023-01-17T12:35:46.313577Z",
     "iopub.status.idle": "2023-01-17T12:35:46.324579Z",
     "shell.execute_reply": "2023-01-17T12:35:46.323577Z",
     "shell.execute_reply.started": "2023-01-17T12:35:46.314592Z"
    },
    "tags": []
   },
   "outputs": [
    {
     "data": {
      "text/plain": [
       "[]"
      ]
     },
     "execution_count": 419,
     "metadata": {},
     "output_type": "execute_result"
    }
   ],
   "source": [
    "re.findall(r\"\\AI\", \"Yes, you did, no\\nI didn't\", re.M) # no match as \\A matches start of the whole string"
   ]
  },
  {
   "cell_type": "code",
   "execution_count": 457,
   "id": "f5bdde8f-c7f0-4530-b385-568b4d5911fc",
   "metadata": {
    "execution": {
     "iopub.execute_input": "2023-01-17T14:02:57.054098Z",
     "iopub.status.busy": "2023-01-17T14:02:57.054098Z",
     "iopub.status.idle": "2023-01-17T14:02:57.073099Z",
     "shell.execute_reply": "2023-01-17T14:02:57.072098Z",
     "shell.execute_reply.started": "2023-01-17T14:02:57.054098Z"
    },
    "tags": []
   },
   "outputs": [
    {
     "data": {
      "text/plain": [
       "['1\\n2']"
      ]
     },
     "execution_count": 457,
     "metadata": {},
     "output_type": "execute_result"
    }
   ],
   "source": [
    "re.findall(r\"1.2\", \"First 1\\n2 next\") # match anything between 1 and 2  # no match\n",
    "re.findall(r\"1.2\", \"First 1\\n2 next\", re.DOTALL | re.IGNORECASE) # the same but enabling newline match\n"
   ]
  },
  {
   "cell_type": "code",
   "execution_count": 450,
   "id": "6ad0cf59-b5d9-4ed8-a78c-ce9096bf68ef",
   "metadata": {
    "execution": {
     "iopub.execute_input": "2023-01-17T13:57:47.478495Z",
     "iopub.status.busy": "2023-01-17T13:57:47.477494Z",
     "iopub.status.idle": "2023-01-17T13:57:47.490492Z",
     "shell.execute_reply": "2023-01-17T13:57:47.489492Z",
     "shell.execute_reply.started": "2023-01-17T13:57:47.478495Z"
    },
    "tags": []
   },
   "outputs": [
    {
     "data": {
      "text/plain": [
       "'1 (416) 967-1111'"
      ]
     },
     "execution_count": 450,
     "metadata": {},
     "output_type": "execute_result"
    }
   ],
   "source": [
    "PHONE_REGEX = \"\"\"\n",
    "    (1\\s)?      # optional leading 1\n",
    "    \\(\\d\\d\\d\\)  # aread code\n",
    "    \\s\n",
    "    \\d\\d\\d-     # prefix\n",
    "    \\d\\d\\d\\d\n",
    "\"\"\"\n",
    "phone = re.compile(PHONE_REGEX, re.VERBOSE)\n",
    "phone.findall(\"1 (416) 967-1111\")\n",
    "phone.match(\"1 (416) 967-1111\").group()\n",
    "phone.search(\"1 (416) 967-1111\")[0]"
   ]
  },
  {
   "cell_type": "code",
   "execution_count": 456,
   "id": "0a345c79-5c5a-42f9-88ea-c216d838ac97",
   "metadata": {
    "execution": {
     "iopub.execute_input": "2023-01-17T14:01:09.683973Z",
     "iopub.status.busy": "2023-01-17T14:01:09.682979Z",
     "iopub.status.idle": "2023-01-17T14:01:09.692969Z",
     "shell.execute_reply": "2023-01-17T14:01:09.692969Z",
     "shell.execute_reply.started": "2023-01-17T14:01:09.683973Z"
    },
    "tags": []
   },
   "outputs": [
    {
     "data": {
      "text/plain": [
       "<re.Match object; span=(0, 11), match='bacon, eggs'>"
      ]
     },
     "execution_count": 456,
     "metadata": {},
     "output_type": "execute_result"
    }
   ],
   "source": [
    "re.search(\"bacon, eggs\", \"bacon, eggs, and spam\")[0]\n",
    "re.search(\"bacon, eggs\", \"bacon, eggs, and spam\", re.VERBOSE) # careful with verbose, sometimes we need to clearly\n",
    "# specify \\s\n",
    "re.search(\"bacon,\\s eggs\", \"bacon, eggs, and spam\", re.VERBOSE)"
   ]
  },
  {
   "cell_type": "code",
   "execution_count": 458,
   "id": "3624dc74-1f93-40be-9567-5c7d149c60bd",
   "metadata": {
    "execution": {
     "iopub.execute_input": "2023-01-17T14:06:25.298029Z",
     "iopub.status.busy": "2023-01-17T14:06:25.298029Z",
     "iopub.status.idle": "2023-01-17T14:06:25.309989Z",
     "shell.execute_reply": "2023-01-17T14:06:25.308976Z",
     "shell.execute_reply.started": "2023-01-17T14:06:25.298029Z"
    },
    "tags": []
   },
   "outputs": [
    {
     "data": {
      "text/plain": [
       "<re.Match object; span=(17, 18), match='I'>"
      ]
     },
     "execution_count": 458,
     "metadata": {},
     "output_type": "execute_result"
    }
   ],
   "source": [
    "# flags inside the group\n",
    "re.search(\"(?im)^i\", \"Yes, you did, no\\nI didn't\") # switches on the capital i"
   ]
  },
  {
   "cell_type": "code",
   "execution_count": 462,
   "id": "7f68f90e-e84d-4a62-85f7-642d05f5136c",
   "metadata": {
    "execution": {
     "iopub.execute_input": "2023-01-17T14:08:17.056088Z",
     "iopub.status.busy": "2023-01-17T14:08:17.056088Z",
     "iopub.status.idle": "2023-01-17T14:08:17.065120Z",
     "shell.execute_reply": "2023-01-17T14:08:17.064107Z",
     "shell.execute_reply.started": "2023-01-17T14:08:17.056088Z"
    },
    "tags": []
   },
   "outputs": [
    {
     "data": {
      "text/plain": [
       "['Spam', 'spam', 'spam']"
      ]
     },
     "execution_count": 462,
     "metadata": {},
     "output_type": "execute_result"
    }
   ],
   "source": [
    "# flags inside the group\n",
    "re.findall(\"(?i:s)pam\", \"Spam, spam, spam, SPAM\") # switches on the capital i"
   ]
  },
  {
   "cell_type": "code",
   "execution_count": 463,
   "id": "568abd78-084e-414f-8b03-75bcb9719a30",
   "metadata": {
    "execution": {
     "iopub.execute_input": "2023-01-17T14:26:12.058662Z",
     "iopub.status.busy": "2023-01-17T14:26:12.058662Z",
     "iopub.status.idle": "2023-01-17T14:26:12.075701Z",
     "shell.execute_reply": "2023-01-17T14:26:12.074690Z",
     "shell.execute_reply.started": "2023-01-17T14:26:12.058662Z"
    }
   },
   "outputs": [
    {
     "data": {
      "text/plain": [
       "'(ACME)?\\\\sSuper\\\\s(?(1)(Out)|\\\\w*(fit))'"
      ]
     },
     "execution_count": 463,
     "metadata": {},
     "output_type": "execute_result"
    }
   ],
   "source": [
    "# conditional\n",
    "\n",
    "r\"(ACME)?\\sSuper\\s(?(1)(Out)|\\w*(fit))\" # if ACME is found, then select `Super` and `out` and if not, then\n",
    "# select `Super` and any characters till and including `fit`"
   ]
  },
  {
   "cell_type": "code",
   "execution_count": null,
   "id": "6159cdfa-672c-46b8-98f1-9bb185da99aa",
   "metadata": {},
   "outputs": [],
   "source": [
    "# look ahead\n",
    "r\"writing\\s(?=t)\" # it checks for `writing t`, but it doesn't select the `t` itself. It just checks if it exists"
   ]
  },
  {
   "cell_type": "code",
   "execution_count": null,
   "id": "2f48bb24-1631-4a4b-9ba4-a0b20f83b221",
   "metadata": {},
   "outputs": [],
   "source": [
    "# look ahead\n",
    "r\"\\d{4}(?=\\[\\w\\])\" # 4 digits followded by `[\\w]`\n",
    "r\"\\d{4}(?!=\\[\\w\\])\" # negative lookahead # does not followed by `[\\w]`"
   ]
  },
  {
   "cell_type": "code",
   "execution_count": null,
   "id": "dfa1de38-a456-425b-99cf-103e39b55a18",
   "metadata": {},
   "outputs": [],
   "source": [
    "# look behind\n",
    "r\"(?<=\\d{4})\\[\\w\\]\" # checks if there are 4 digits before the `[\\w]` and selects it, but doesn't select the digits,\n",
    "# only checks their existence"
   ]
  },
  {
   "cell_type": "code",
   "execution_count": null,
   "id": "c0673593-10a9-462c-a119-af1a5105c5ba",
   "metadata": {},
   "outputs": [],
   "source": [
    "# negative look behind\n",
    "r\"(?<!\\d\\d)\\d\\d\" # 2 digits NOT preceded by 2 digits"
   ]
  },
  {
   "cell_type": "code",
   "execution_count": 464,
   "id": "cbf24cb0-191e-4317-893c-495607610b55",
   "metadata": {
    "execution": {
     "iopub.execute_input": "2023-01-17T14:41:17.204783Z",
     "iopub.status.busy": "2023-01-17T14:41:17.204783Z",
     "iopub.status.idle": "2023-01-17T14:41:17.223784Z",
     "shell.execute_reply": "2023-01-17T14:41:17.222783Z",
     "shell.execute_reply.started": "2023-01-17T14:41:17.204783Z"
    }
   },
   "outputs": [
    {
     "data": {
      "text/plain": [
       "'(\\\\d{4})(?#four digits)'"
      ]
     },
     "execution_count": 464,
     "metadata": {},
     "output_type": "execute_result"
    }
   ],
   "source": [
    "# comments inside regex\n",
    "r\"(\\d{4})(?#four digits)\" # anything inside `(?#four digits)` is ignored "
   ]
  },
  {
   "cell_type": "code",
   "execution_count": 465,
   "id": "baf659cd-580a-4a37-9fe4-11b6eb35d042",
   "metadata": {
    "execution": {
     "iopub.execute_input": "2023-01-17T16:05:52.233783Z",
     "iopub.status.busy": "2023-01-17T16:05:52.233783Z",
     "iopub.status.idle": "2023-01-17T16:05:52.241762Z",
     "shell.execute_reply": "2023-01-17T16:05:52.240762Z",
     "shell.execute_reply.started": "2023-01-17T16:05:52.233783Z"
    }
   },
   "outputs": [],
   "source": [
    "from pathlib import Path"
   ]
  },
  {
   "cell_type": "code",
   "execution_count": 545,
   "id": "b6aeec08-5888-4d9b-af5b-8e0261d06c71",
   "metadata": {
    "execution": {
     "iopub.execute_input": "2023-01-17T17:50:23.220003Z",
     "iopub.status.busy": "2023-01-17T17:50:23.219003Z",
     "iopub.status.idle": "2023-01-17T17:50:23.226005Z",
     "shell.execute_reply": "2023-01-17T17:50:23.225013Z",
     "shell.execute_reply.started": "2023-01-17T17:50:23.220003Z"
    },
    "tags": []
   },
   "outputs": [
    {
     "name": "stdout",
     "output_type": "stream",
     "text": [
      "CPU times: total: 0 ns\n",
      "Wall time: 0 ns\n"
     ]
    }
   ],
   "source": [
    "%%time\n",
    "import os\n",
    "directory = Path(r\"E:\\app_data\\dropbox_13f_files\\processed_tables\\TR_00_TEST_676_CIK_TXT\\936944\")\n",
    "\n",
    "for file in directory.glob(\"*.\"):\n",
    "    f = file.read_text().splitlines()\n",
    "    # [input(\"click yes after sorting the file\") for line in f if not line.find(\"0000936944\")]\n",
    "    # [os.system(\"notepad.exe \"+ file.as_posix()) for line in f if line.find(\"0000936944\")]\n",
    "\n",
    "# if file.read_text().find(\"0000936944\"):\n",
    "#     os.system(\"notepad.exe \"+ file.as_posix())\n"
   ]
  },
  {
   "cell_type": "code",
   "execution_count": 574,
   "id": "1726356e-4706-4ce1-a19a-b5a7ccad0111",
   "metadata": {
    "execution": {
     "iopub.execute_input": "2023-01-17T17:57:39.460205Z",
     "iopub.status.busy": "2023-01-17T17:57:39.460205Z",
     "iopub.status.idle": "2023-01-17T17:57:39.476205Z",
     "shell.execute_reply": "2023-01-17T17:57:39.475451Z",
     "shell.execute_reply.started": "2023-01-17T17:57:39.460205Z"
    },
    "tags": []
   },
   "outputs": [
    {
     "data": {
      "text/plain": [
       "6"
      ]
     },
     "execution_count": 574,
     "metadata": {},
     "output_type": "execute_result"
    }
   ],
   "source": [
    "# file.read_text().find(\"0000936944\")\n",
    "len(list(directory.glob(\"*-03-*.*\")))"
   ]
  },
  {
   "cell_type": "markdown",
   "id": "e374a781-0ad0-47fe-968a-b1d809c90f24",
   "metadata": {},
   "source": [
    "### Tutorial **Regex-In-Python** from github\n",
    "https://github.com/nikhilkumarsingh/RegEx-In-Python/blob/master/02.%20import%20re.ipynb"
   ]
  },
  {
   "cell_type": "code",
   "execution_count": 575,
   "id": "18d64b86-fb20-4778-a40f-df6a645a0647",
   "metadata": {
    "execution": {
     "iopub.execute_input": "2023-01-17T20:25:22.284906Z",
     "iopub.status.busy": "2023-01-17T20:25:22.283837Z",
     "iopub.status.idle": "2023-01-17T20:25:22.303838Z",
     "shell.execute_reply": "2023-01-17T20:25:22.302905Z",
     "shell.execute_reply.started": "2023-01-17T20:25:22.284906Z"
    }
   },
   "outputs": [],
   "source": [
    "pattern = re.compile(\"hello\")"
   ]
  },
  {
   "cell_type": "code",
   "execution_count": 576,
   "id": "7a22d319-2c93-4089-9ca5-f132784f921b",
   "metadata": {
    "execution": {
     "iopub.execute_input": "2023-01-17T20:25:26.629755Z",
     "iopub.status.busy": "2023-01-17T20:25:26.628754Z",
     "iopub.status.idle": "2023-01-17T20:25:26.646754Z",
     "shell.execute_reply": "2023-01-17T20:25:26.645778Z",
     "shell.execute_reply.started": "2023-01-17T20:25:26.629755Z"
    }
   },
   "outputs": [
    {
     "data": {
      "text/plain": [
       "re.compile(r'hello', re.UNICODE)"
      ]
     },
     "execution_count": 576,
     "metadata": {},
     "output_type": "execute_result"
    }
   ],
   "source": [
    "pattern"
   ]
  },
  {
   "cell_type": "code",
   "execution_count": 577,
   "id": "469236be-26be-4df0-bf85-6a7cef70e739",
   "metadata": {
    "execution": {
     "iopub.execute_input": "2023-01-17T20:26:18.034679Z",
     "iopub.status.busy": "2023-01-17T20:26:18.034679Z",
     "iopub.status.idle": "2023-01-17T20:26:18.043649Z",
     "shell.execute_reply": "2023-01-17T20:26:18.042669Z",
     "shell.execute_reply.started": "2023-01-17T20:26:18.034679Z"
    }
   },
   "outputs": [],
   "source": [
    "pattern = re.compile(\"hello\", flags=re.I)"
   ]
  },
  {
   "cell_type": "code",
   "execution_count": 578,
   "id": "78208ab4-531c-4ebe-843b-8a8da22e05cf",
   "metadata": {
    "execution": {
     "iopub.execute_input": "2023-01-17T20:26:20.455664Z",
     "iopub.status.busy": "2023-01-17T20:26:20.455664Z",
     "iopub.status.idle": "2023-01-17T20:26:20.462662Z",
     "shell.execute_reply": "2023-01-17T20:26:20.462662Z",
     "shell.execute_reply.started": "2023-01-17T20:26:20.455664Z"
    }
   },
   "outputs": [
    {
     "data": {
      "text/plain": [
       "re.compile(r'hello', re.IGNORECASE|re.UNICODE)"
      ]
     },
     "execution_count": 578,
     "metadata": {},
     "output_type": "execute_result"
    }
   ],
   "source": [
    "pattern"
   ]
  },
  {
   "cell_type": "code",
   "execution_count": 583,
   "id": "66bd879f-1e87-4dae-ae33-01251d8b286b",
   "metadata": {
    "execution": {
     "iopub.execute_input": "2023-01-17T20:30:26.855761Z",
     "iopub.status.busy": "2023-01-17T20:30:26.855761Z",
     "iopub.status.idle": "2023-01-17T20:30:26.866785Z",
     "shell.execute_reply": "2023-01-17T20:30:26.865790Z",
     "shell.execute_reply.started": "2023-01-17T20:30:26.855761Z"
    },
    "tags": []
   },
   "outputs": [
    {
     "data": {
      "text/plain": [
       "5"
      ]
     },
     "execution_count": 583,
     "metadata": {},
     "output_type": "execute_result"
    }
   ],
   "source": [
    "pattern = re.compile(\"hello\")\n",
    "match = pattern.match(\"hello world\") # `.match` check matches on the beginning of the string\n",
    "match.span()\n",
    "match.start()\n",
    "match.end()\n"
   ]
  },
  {
   "cell_type": "code",
   "execution_count": 588,
   "id": "68feeaf4-66d6-4fdc-8450-ba0f3db02854",
   "metadata": {
    "execution": {
     "iopub.execute_input": "2023-01-17T20:31:27.215103Z",
     "iopub.status.busy": "2023-01-17T20:31:27.214129Z",
     "iopub.status.idle": "2023-01-17T20:31:27.224132Z",
     "shell.execute_reply": "2023-01-17T20:31:27.223128Z",
     "shell.execute_reply.started": "2023-01-17T20:31:27.215103Z"
    },
    "tags": []
   },
   "outputs": [
    {
     "data": {
      "text/plain": [
       "False"
      ]
     },
     "execution_count": 588,
     "metadata": {},
     "output_type": "execute_result"
    }
   ],
   "source": [
    "pattern.match(\"say hello to the world\", pos=4) is None"
   ]
  },
  {
   "cell_type": "code",
   "execution_count": 590,
   "id": "41062dbe-d05c-485e-9a69-df4ff674bc3a",
   "metadata": {
    "execution": {
     "iopub.execute_input": "2023-01-17T20:32:08.660965Z",
     "iopub.status.busy": "2023-01-17T20:32:08.660965Z",
     "iopub.status.idle": "2023-01-17T20:32:08.678969Z",
     "shell.execute_reply": "2023-01-17T20:32:08.677972Z",
     "shell.execute_reply.started": "2023-01-17T20:32:08.660965Z"
    },
    "tags": []
   },
   "outputs": [
    {
     "data": {
      "text/plain": [
       "True"
      ]
     },
     "execution_count": 590,
     "metadata": {},
     "output_type": "execute_result"
    }
   ],
   "source": [
    "pattern.match(\"say hello to the world\") is None"
   ]
  },
  {
   "cell_type": "code",
   "execution_count": 589,
   "id": "4084e2e0-87d6-4dbd-9c5f-304725f5e343",
   "metadata": {
    "execution": {
     "iopub.execute_input": "2023-01-17T20:31:47.145553Z",
     "iopub.status.busy": "2023-01-17T20:31:47.145553Z",
     "iopub.status.idle": "2023-01-17T20:31:47.158552Z",
     "shell.execute_reply": "2023-01-17T20:31:47.157552Z",
     "shell.execute_reply.started": "2023-01-17T20:31:47.145553Z"
    },
    "tags": []
   },
   "outputs": [
    {
     "data": {
      "text/plain": [
       "True"
      ]
     },
     "execution_count": 589,
     "metadata": {},
     "output_type": "execute_result"
    }
   ],
   "source": [
    "pattern.match(\"hello\", pos=4) is None"
   ]
  },
  {
   "cell_type": "code",
   "execution_count": 592,
   "id": "b8c27d57-c7ad-44ea-932d-a9a2f8d36efd",
   "metadata": {
    "execution": {
     "iopub.execute_input": "2023-01-17T20:33:08.565030Z",
     "iopub.status.busy": "2023-01-17T20:33:08.565030Z",
     "iopub.status.idle": "2023-01-17T20:33:08.573007Z",
     "shell.execute_reply": "2023-01-17T20:33:08.572010Z",
     "shell.execute_reply.started": "2023-01-17T20:33:08.565030Z"
    },
    "tags": []
   },
   "outputs": [
    {
     "data": {
      "text/plain": [
       "<re.Match object; span=(4, 9), match='hello'>"
      ]
     },
     "execution_count": 592,
     "metadata": {},
     "output_type": "execute_result"
    }
   ],
   "source": [
    "pattern.search(\"say hello\")"
   ]
  },
  {
   "cell_type": "code",
   "execution_count": 598,
   "id": "d0a95ff8-5164-426d-a99a-8a1118068849",
   "metadata": {
    "execution": {
     "iopub.execute_input": "2023-01-17T20:36:32.395510Z",
     "iopub.status.busy": "2023-01-17T20:36:32.395510Z",
     "iopub.status.idle": "2023-01-17T20:36:32.415509Z",
     "shell.execute_reply": "2023-01-17T20:36:32.414541Z",
     "shell.execute_reply.started": "2023-01-17T20:36:32.395510Z"
    },
    "tags": []
   },
   "outputs": [
    {
     "data": {
      "text/plain": [
       "<re.Match object; span=(4, 9), match='hello'>"
      ]
     },
     "execution_count": 598,
     "metadata": {},
     "output_type": "execute_result"
    }
   ],
   "source": [
    "pattern.search(\"say hello hello\") # `.search()` checks for the first match only"
   ]
  },
  {
   "cell_type": "code",
   "execution_count": 600,
   "id": "4d02e23a-0faa-4e43-8f9f-21acedbccd49",
   "metadata": {
    "execution": {
     "iopub.execute_input": "2023-01-17T20:37:36.477881Z",
     "iopub.status.busy": "2023-01-17T20:37:36.477881Z",
     "iopub.status.idle": "2023-01-17T20:37:36.492881Z",
     "shell.execute_reply": "2023-01-17T20:37:36.492881Z",
     "shell.execute_reply.started": "2023-01-17T20:37:36.477881Z"
    },
    "tags": []
   },
   "outputs": [
    {
     "data": {
      "text/plain": [
       "['hello', 'hello']"
      ]
     },
     "execution_count": 600,
     "metadata": {},
     "output_type": "execute_result"
    }
   ],
   "source": [
    "pattern.findall(\"say hello hello\") # `.search` checks for ALL the matches and returns a list"
   ]
  },
  {
   "cell_type": "code",
   "execution_count": 614,
   "id": "aa55fa5f-5bc1-49a9-aae7-ced7998eb2b5",
   "metadata": {
    "execution": {
     "iopub.execute_input": "2023-01-17T20:51:03.272386Z",
     "iopub.status.busy": "2023-01-17T20:51:03.272386Z",
     "iopub.status.idle": "2023-01-17T20:51:03.291387Z",
     "shell.execute_reply": "2023-01-17T20:51:03.290418Z",
     "shell.execute_reply.started": "2023-01-17T20:51:03.272386Z"
    },
    "tags": []
   },
   "outputs": [
    {
     "data": {
      "text/plain": [
       "<callable_iterator at 0x1459383b160>"
      ]
     },
     "execution_count": 614,
     "metadata": {},
     "output_type": "execute_result"
    }
   ],
   "source": [
    "matches = pattern.finditer(\"say hello hello\") # checks for ALL the matches and returns an interator of match objects\n",
    "matches"
   ]
  },
  {
   "cell_type": "code",
   "execution_count": 615,
   "id": "b89bd343-4993-4607-b9a2-d6b8e713b296",
   "metadata": {
    "execution": {
     "iopub.execute_input": "2023-01-17T20:51:06.736960Z",
     "iopub.status.busy": "2023-01-17T20:51:06.736960Z",
     "iopub.status.idle": "2023-01-17T20:51:06.750959Z",
     "shell.execute_reply": "2023-01-17T20:51:06.749959Z",
     "shell.execute_reply.started": "2023-01-17T20:51:06.736960Z"
    },
    "tags": []
   },
   "outputs": [
    {
     "name": "stdout",
     "output_type": "stream",
     "text": [
      "hello\n",
      "hello\n"
     ]
    },
    {
     "data": {
      "text/plain": [
       "[None, None]"
      ]
     },
     "execution_count": 615,
     "metadata": {},
     "output_type": "execute_result"
    }
   ],
   "source": [
    "# [print(match.span()) for match in matches] \n",
    "[print(match.group()) for match in matches] "
   ]
  },
  {
   "cell_type": "code",
   "execution_count": 617,
   "id": "69ba82c4-1637-487d-8cda-3cfd867ca384",
   "metadata": {
    "execution": {
     "iopub.execute_input": "2023-01-17T20:57:22.171187Z",
     "iopub.status.busy": "2023-01-17T20:57:22.170160Z",
     "iopub.status.idle": "2023-01-17T20:57:22.178192Z",
     "shell.execute_reply": "2023-01-17T20:57:22.177164Z",
     "shell.execute_reply.started": "2023-01-17T20:57:22.171187Z"
    },
    "tags": []
   },
   "outputs": [
    {
     "name": "stdout",
     "output_type": "stream",
     "text": [
      "say \u001b[43m\u001b[1mhello\u001b[0m \u001b[43m\u001b[1mhello\u001b[0m\n"
     ]
    }
   ],
   "source": [
    "from regex_utils import highlight_regex_matches\n",
    "highlight_regex_matches(pattern, \"say hello hello\")"
   ]
  },
  {
   "cell_type": "code",
   "execution_count": 618,
   "id": "4efdc560-d8c2-4f3d-99d0-0ba9e9672bcd",
   "metadata": {
    "execution": {
     "iopub.execute_input": "2023-01-17T21:00:49.627600Z",
     "iopub.status.busy": "2023-01-17T21:00:49.627600Z",
     "iopub.status.idle": "2023-01-17T21:00:49.638616Z",
     "shell.execute_reply": "2023-01-17T21:00:49.637621Z",
     "shell.execute_reply.started": "2023-01-17T21:00:49.627600Z"
    }
   },
   "outputs": [
    {
     "data": {
      "text/plain": [
       "<re.Match object; span=(0, 5), match='hello'>"
      ]
     },
     "execution_count": 618,
     "metadata": {},
     "output_type": "execute_result"
    }
   ],
   "source": [
    "re.match(\"hello\", \"hello\")"
   ]
  },
  {
   "cell_type": "code",
   "execution_count": 619,
   "id": "7d15978e-640f-46f6-819e-04543001035c",
   "metadata": {
    "execution": {
     "iopub.execute_input": "2023-01-17T21:01:05.690978Z",
     "iopub.status.busy": "2023-01-17T21:01:05.690978Z",
     "iopub.status.idle": "2023-01-17T21:01:05.701957Z",
     "shell.execute_reply": "2023-01-17T21:01:05.700956Z",
     "shell.execute_reply.started": "2023-01-17T21:01:05.690978Z"
    }
   },
   "outputs": [
    {
     "data": {
      "text/plain": [
       "['hello', 'hello']"
      ]
     },
     "execution_count": 619,
     "metadata": {},
     "output_type": "execute_result"
    }
   ],
   "source": [
    "re.findall(\"hello\", \"say hello hello\")"
   ]
  },
  {
   "cell_type": "code",
   "execution_count": 620,
   "id": "1d1f6ab0-9657-4696-9601-86989cc1fded",
   "metadata": {
    "execution": {
     "iopub.execute_input": "2023-01-17T21:01:40.197211Z",
     "iopub.status.busy": "2023-01-17T21:01:40.197211Z",
     "iopub.status.idle": "2023-01-17T21:01:40.204228Z",
     "shell.execute_reply": "2023-01-17T21:01:40.203211Z",
     "shell.execute_reply.started": "2023-01-17T21:01:40.197211Z"
    }
   },
   "outputs": [],
   "source": [
    "txt = \"This book costs $15.\""
   ]
  },
  {
   "cell_type": "code",
   "execution_count": 625,
   "id": "d0067371-1818-406f-9596-893b32f42d1d",
   "metadata": {
    "execution": {
     "iopub.execute_input": "2023-01-17T21:03:34.253532Z",
     "iopub.status.busy": "2023-01-17T21:03:34.252532Z",
     "iopub.status.idle": "2023-01-17T21:03:34.262562Z",
     "shell.execute_reply": "2023-01-17T21:03:34.262562Z",
     "shell.execute_reply.started": "2023-01-17T21:03:34.253532Z"
    },
    "tags": []
   },
   "outputs": [
    {
     "data": {
      "text/plain": [
       "<re.Match object; span=(16, 19), match='$15'>"
      ]
     },
     "execution_count": 625,
     "metadata": {},
     "output_type": "execute_result"
    }
   ],
   "source": [
    "pattern = re.compile(\"\\$15\")\n",
    "pattern.search(txt)\n",
    "# pattern.match(txt)"
   ]
  },
  {
   "cell_type": "code",
   "execution_count": 626,
   "id": "d4ccfdd4-d2be-44b7-9b47-1a998e9fc760",
   "metadata": {
    "execution": {
     "iopub.execute_input": "2023-01-17T21:05:29.046633Z",
     "iopub.status.busy": "2023-01-17T21:05:29.046633Z",
     "iopub.status.idle": "2023-01-17T21:05:29.063646Z",
     "shell.execute_reply": "2023-01-17T21:05:29.062649Z",
     "shell.execute_reply.started": "2023-01-17T21:05:29.046633Z"
    }
   },
   "outputs": [],
   "source": [
    "import re\n",
    "from regex_utils import highlight_regex_matches"
   ]
  },
  {
   "cell_type": "code",
   "execution_count": 642,
   "id": "c5dca946-329d-4a9e-be43-59fcd615313c",
   "metadata": {
    "execution": {
     "iopub.execute_input": "2023-01-17T21:12:56.210448Z",
     "iopub.status.busy": "2023-01-17T21:12:56.210448Z",
     "iopub.status.idle": "2023-01-17T21:12:56.225481Z",
     "shell.execute_reply": "2023-01-17T21:12:56.224476Z",
     "shell.execute_reply.started": "2023-01-17T21:12:56.210448Z"
    },
    "tags": []
   },
   "outputs": [],
   "source": [
    "txt = \"\"\"\n",
    "Yesterday, I was driving my car without a driving licence. The traffic police stopped me and asked me for my \n",
    "license. I told them that I forgot my licence at home. \n",
    "\"\"\""
   ]
  },
  {
   "cell_type": "code",
   "execution_count": 643,
   "id": "011b99c2-9c50-4b55-a5ea-4f3f746bb46b",
   "metadata": {
    "execution": {
     "iopub.execute_input": "2023-01-17T21:12:57.670123Z",
     "iopub.status.busy": "2023-01-17T21:12:57.670123Z",
     "iopub.status.idle": "2023-01-17T21:12:57.676101Z",
     "shell.execute_reply": "2023-01-17T21:12:57.675098Z",
     "shell.execute_reply.started": "2023-01-17T21:12:57.670123Z"
    },
    "tags": []
   },
   "outputs": [
    {
     "data": {
      "text/plain": [
       "['licence', 'license', 'licence']"
      ]
     },
     "execution_count": 643,
     "metadata": {},
     "output_type": "execute_result"
    }
   ],
   "source": [
    "pattern = re.compile(\"licen[sc]e\")\n",
    "pattern.findall(txt)"
   ]
  },
  {
   "cell_type": "code",
   "execution_count": 644,
   "id": "50b8f916-5097-451f-9786-93e80b79a781",
   "metadata": {
    "execution": {
     "iopub.execute_input": "2023-01-17T21:12:59.521795Z",
     "iopub.status.busy": "2023-01-17T21:12:59.520782Z",
     "iopub.status.idle": "2023-01-17T21:12:59.532781Z",
     "shell.execute_reply": "2023-01-17T21:12:59.531778Z",
     "shell.execute_reply.started": "2023-01-17T21:12:59.521795Z"
    },
    "tags": []
   },
   "outputs": [
    {
     "name": "stdout",
     "output_type": "stream",
     "text": [
      "\n",
      "Yesterday, I was driving my car without a driving \u001b[43m\u001b[1mlicence\u001b[0m. The traffic police stopped me and asked me for my \n",
      "\u001b[43m\u001b[1mlicense\u001b[0m. I told them that I forgot my \u001b[43m\u001b[1mlicence\u001b[0m at home. \n",
      "\n"
     ]
    }
   ],
   "source": [
    "highlight_regex_matches(pattern, txt)"
   ]
  },
  {
   "cell_type": "code",
   "execution_count": 672,
   "id": "b9a5aedc-548d-483e-aa0a-f248a1771598",
   "metadata": {
    "execution": {
     "iopub.execute_input": "2023-01-17T21:37:59.796053Z",
     "iopub.status.busy": "2023-01-17T21:37:59.795094Z",
     "iopub.status.idle": "2023-01-17T21:37:59.802051Z",
     "shell.execute_reply": "2023-01-17T21:37:59.801049Z",
     "shell.execute_reply.started": "2023-01-17T21:37:59.796053Z"
    },
    "tags": []
   },
   "outputs": [],
   "source": [
    "txt = \"\"\"\n",
    "The first season of Indian Premiere League (IPL) was played in 2008. \n",
    "The second season was played in 2009 in South Africa. \n",
    "Last season was played in 2018 and won by Chennai Super Kings (CSK).\n",
    "but CSK won the title in 2010 and 2011 as well.\n",
    "Mumbai Indians (MI) has also won the title 3 times in 2013, 2015 and 2017.\n",
    "\n",
    "CONFORMED PERIOD OF REPORT:\t20031231\n",
    "FILED AS OF DATE:\t\t20040129\n",
    "EFFECTIVENESS DATE:\t\t20040129\n",
    "\"\"\""
   ]
  },
  {
   "cell_type": "code",
   "execution_count": 655,
   "id": "afcbde74-ebb8-4023-b254-b33f761981f3",
   "metadata": {
    "execution": {
     "iopub.execute_input": "2023-01-17T21:23:56.061561Z",
     "iopub.status.busy": "2023-01-17T21:23:56.060546Z",
     "iopub.status.idle": "2023-01-17T21:23:56.073565Z",
     "shell.execute_reply": "2023-01-17T21:23:56.073565Z",
     "shell.execute_reply.started": "2023-01-17T21:23:56.061561Z"
    },
    "tags": []
   },
   "outputs": [
    {
     "data": {
      "text/plain": [
       "['2008',\n",
       " '2009',\n",
       " '2018',\n",
       " '2010',\n",
       " '2011',\n",
       " '2013',\n",
       " '2015',\n",
       " '2017',\n",
       " '2003',\n",
       " '1231',\n",
       " '2004',\n",
       " '2004']"
      ]
     },
     "execution_count": 655,
     "metadata": {},
     "output_type": "execute_result"
    }
   ],
   "source": [
    "# pattern = re.compile(\"[1-9][0-9][0-9][0-9]\")\n",
    "pattern = re.compile(\"[1-9]\\d\\d\\d\")\n",
    "pattern.findall(txt)"
   ]
  },
  {
   "cell_type": "code",
   "execution_count": 656,
   "id": "0893b018-fdda-4a42-be40-8271859be114",
   "metadata": {
    "execution": {
     "iopub.execute_input": "2023-01-17T21:24:49.697508Z",
     "iopub.status.busy": "2023-01-17T21:24:49.696508Z",
     "iopub.status.idle": "2023-01-17T21:24:49.706507Z",
     "shell.execute_reply": "2023-01-17T21:24:49.706507Z",
     "shell.execute_reply.started": "2023-01-17T21:24:49.697508Z"
    },
    "tags": []
   },
   "outputs": [
    {
     "name": "stdout",
     "output_type": "stream",
     "text": [
      "\n",
      "The first season of Indian Premiere League (IPL) was played in \u001b[43m\u001b[1m2008\u001b[0m. \n",
      "The second season was played in \u001b[43m\u001b[1m2009\u001b[0m in South Africa. \n",
      "Last season was played in \u001b[43m\u001b[1m2018\u001b[0m and won by Chennai Super Kings (CSK).\n",
      "CSK won the title in \u001b[43m\u001b[1m2010\u001b[0m and \u001b[43m\u001b[1m2011\u001b[0m as well.\n",
      "Mumbai Indians (MI) has also won the title 3 times in \u001b[43m\u001b[1m2013\u001b[0m, \u001b[43m\u001b[1m2015\u001b[0m and \u001b[43m\u001b[1m2017\u001b[0m.\n",
      "\n",
      "CONFORMED PERIOD OF REPORT:\t\u001b[43m\u001b[1m2003\u001b[0m\u001b[43m\u001b[1m1231\u001b[0m\n",
      "FILED AS OF DATE:\t\t\u001b[43m\u001b[1m2004\u001b[0m0129\n",
      "EFFECTIVENESS DATE:\t\t\u001b[43m\u001b[1m2004\u001b[0m0129\n",
      "\n"
     ]
    }
   ],
   "source": [
    "highlight_regex_matches(pattern, txt)"
   ]
  },
  {
   "cell_type": "code",
   "execution_count": null,
   "id": "8b64808f-a6ba-4dc2-a186-3602563ccc88",
   "metadata": {
    "tags": []
   },
   "outputs": [],
   "source": [
    "# negate the character set\n",
    "pattern = re.compile(\"[^aeiou]\")\n",
    "pattern.findall(txt)"
   ]
  },
  {
   "cell_type": "code",
   "execution_count": 657,
   "id": "98ad2b51-6a81-4c47-acd8-bf6f96c7b47f",
   "metadata": {
    "execution": {
     "iopub.execute_input": "2023-01-17T21:26:17.709910Z",
     "iopub.status.busy": "2023-01-17T21:26:17.709910Z",
     "iopub.status.idle": "2023-01-17T21:26:17.718906Z",
     "shell.execute_reply": "2023-01-17T21:26:17.718906Z",
     "shell.execute_reply.started": "2023-01-17T21:26:17.709910Z"
    },
    "tags": []
   },
   "outputs": [
    {
     "data": {
      "text/plain": [
       "['(', ')', '.', '.', '(', ')', '.', '.', '(', ')', ',', '.', ':', ':', ':']"
      ]
     },
     "execution_count": 657,
     "metadata": {},
     "output_type": "execute_result"
    }
   ],
   "source": [
    "re.findall(\"[^\\w\\s]\", txt)"
   ]
  },
  {
   "cell_type": "code",
   "execution_count": 668,
   "id": "7c4138d5-2a2a-4741-9139-2ee583814dd8",
   "metadata": {
    "execution": {
     "iopub.execute_input": "2023-01-17T21:36:17.701852Z",
     "iopub.status.busy": "2023-01-17T21:36:17.700852Z",
     "iopub.status.idle": "2023-01-17T21:36:17.715852Z",
     "shell.execute_reply": "2023-01-17T21:36:17.715852Z",
     "shell.execute_reply.started": "2023-01-17T21:36:17.701852Z"
    },
    "tags": []
   },
   "outputs": [],
   "source": [
    "txt = \"\"\"\n",
    "C:\\Windows\n",
    "C:\\Python\n",
    "C:\\Windows\\System32\n",
    "\"\"\""
   ]
  },
  {
   "cell_type": "code",
   "execution_count": 669,
   "id": "0f0d4c58-eedb-48fe-8b06-fc77a5f9c470",
   "metadata": {
    "execution": {
     "iopub.execute_input": "2023-01-17T21:36:18.424374Z",
     "iopub.status.busy": "2023-01-17T21:36:18.423374Z",
     "iopub.status.idle": "2023-01-17T21:36:18.439372Z",
     "shell.execute_reply": "2023-01-17T21:36:18.438405Z",
     "shell.execute_reply.started": "2023-01-17T21:36:18.424374Z"
    },
    "tags": []
   },
   "outputs": [],
   "source": [
    "pattern = re.compile(\"C:\\Windows\\System32\")\n",
    "pattern.search(txt)"
   ]
  },
  {
   "cell_type": "code",
   "execution_count": 670,
   "id": "cf7bbde6-15b0-4d7e-be4a-d48d9535b517",
   "metadata": {
    "execution": {
     "iopub.execute_input": "2023-01-17T21:36:18.897837Z",
     "iopub.status.busy": "2023-01-17T21:36:18.897837Z",
     "iopub.status.idle": "2023-01-17T21:36:18.910865Z",
     "shell.execute_reply": "2023-01-17T21:36:18.910865Z",
     "shell.execute_reply.started": "2023-01-17T21:36:18.897837Z"
    },
    "tags": []
   },
   "outputs": [
    {
     "data": {
      "text/plain": [
       "<re.Match object; span=(22, 41), match='C:\\\\Windows\\\\System32'>"
      ]
     },
     "execution_count": 670,
     "metadata": {},
     "output_type": "execute_result"
    }
   ],
   "source": [
    "pattern = re.compile(\"C:\\\\\\\\Windows\\\\\\\\System32\")\n",
    "pattern.search(txt)"
   ]
  },
  {
   "cell_type": "code",
   "execution_count": 671,
   "id": "97d2635a-9582-4fa1-bc34-3164b74deea7",
   "metadata": {
    "execution": {
     "iopub.execute_input": "2023-01-17T21:36:19.623502Z",
     "iopub.status.busy": "2023-01-17T21:36:19.623502Z",
     "iopub.status.idle": "2023-01-17T21:36:19.629501Z",
     "shell.execute_reply": "2023-01-17T21:36:19.629501Z",
     "shell.execute_reply.started": "2023-01-17T21:36:19.623502Z"
    },
    "tags": []
   },
   "outputs": [
    {
     "data": {
      "text/plain": [
       "<re.Match object; span=(22, 41), match='C:\\\\Windows\\\\System32'>"
      ]
     },
     "execution_count": 671,
     "metadata": {},
     "output_type": "execute_result"
    }
   ],
   "source": [
    "pattern = re.compile(r\"C:\\\\Windows\\\\System32\")\n",
    "pattern.search(txt)"
   ]
  },
  {
   "cell_type": "code",
   "execution_count": 673,
   "id": "69d58681-31af-4679-a420-61a9012e469d",
   "metadata": {
    "execution": {
     "iopub.execute_input": "2023-01-17T21:38:11.574513Z",
     "iopub.status.busy": "2023-01-17T21:38:11.574513Z",
     "iopub.status.idle": "2023-01-17T21:38:11.592515Z",
     "shell.execute_reply": "2023-01-17T21:38:11.592515Z",
     "shell.execute_reply.started": "2023-01-17T21:38:11.574513Z"
    }
   },
   "outputs": [],
   "source": [
    "txt = \"\"\"\n",
    "The first season of Indian Premiere League (IPL) was played in 2008. \n",
    "The second season was played in 2009 in South Africa. \n",
    "Last season was played in 2018 and won by Chennai Super Kings (CSK).\n",
    "but CSK won the title in 2010 and 2011 as well.\n",
    "Mumbai Indians (MI) has also won the title 3 times in 2013, 2015 and 2017.\n",
    "\n",
    "CONFORMED PERIOD OF REPORT:\t20031231\n",
    "FILED AS OF DATE:\t\t20040129\n",
    "EFFECTIVENESS DATE:\t\t20040129\n",
    "\"\"\""
   ]
  },
  {
   "cell_type": "code",
   "execution_count": 674,
   "id": "07590365-3dac-499f-8364-c60ea77fcea9",
   "metadata": {
    "execution": {
     "iopub.execute_input": "2023-01-17T21:40:04.084273Z",
     "iopub.status.busy": "2023-01-17T21:40:04.084273Z",
     "iopub.status.idle": "2023-01-17T21:40:04.102261Z",
     "shell.execute_reply": "2023-01-17T21:40:04.101260Z",
     "shell.execute_reply.started": "2023-01-17T21:40:04.084273Z"
    },
    "tags": []
   },
   "outputs": [
    {
     "data": {
      "text/plain": [
       "['and', 'but', 'the', 'and', 'the', 'and']"
      ]
     },
     "execution_count": 674,
     "metadata": {},
     "output_type": "execute_result"
    }
   ],
   "source": [
    "pattern = re.compile(\"and|or|the|but\")\n",
    "pattern.findall(txt)"
   ]
  },
  {
   "cell_type": "code",
   "execution_count": 675,
   "id": "45f47a1b-ec3a-48c1-8763-c042f7e644ea",
   "metadata": {
    "execution": {
     "iopub.execute_input": "2023-01-17T21:40:26.782557Z",
     "iopub.status.busy": "2023-01-17T21:40:26.781554Z",
     "iopub.status.idle": "2023-01-17T21:40:26.798550Z",
     "shell.execute_reply": "2023-01-17T21:40:26.797570Z",
     "shell.execute_reply.started": "2023-01-17T21:40:26.782557Z"
    },
    "tags": []
   },
   "outputs": [
    {
     "name": "stdout",
     "output_type": "stream",
     "text": [
      "\n",
      "The first season of Indian Premiere League (IPL) was played in 2008. \n",
      "The second season was played in 2009 in South Africa. \n",
      "Last season was played in 2018 \u001b[43m\u001b[1mand\u001b[0m won by Chennai Super Kings (CSK).\n",
      "\u001b[43m\u001b[1mbut\u001b[0m CSK won \u001b[43m\u001b[1mthe\u001b[0m title in 2010 \u001b[43m\u001b[1mand\u001b[0m 2011 as well.\n",
      "Mumbai Indians (MI) has also won \u001b[43m\u001b[1mthe\u001b[0m title 3 times in 2013, 2015 \u001b[43m\u001b[1mand\u001b[0m 2017.\n",
      "\n",
      "CONFORMED PERIOD OF REPORT:\t20031231\n",
      "FILED AS OF DATE:\t\t20040129\n",
      "EFFECTIVENESS DATE:\t\t20040129\n",
      "\n"
     ]
    }
   ],
   "source": [
    "highlight_regex_matches(pattern, txt)"
   ]
  },
  {
   "cell_type": "code",
   "execution_count": 676,
   "id": "2969f351-07bc-4417-b1f1-468a951596c7",
   "metadata": {
    "execution": {
     "iopub.execute_input": "2023-01-17T21:42:33.734169Z",
     "iopub.status.busy": "2023-01-17T21:42:33.733169Z",
     "iopub.status.idle": "2023-01-17T21:42:33.749162Z",
     "shell.execute_reply": "2023-01-17T21:42:33.748172Z",
     "shell.execute_reply.started": "2023-01-17T21:42:33.734169Z"
    }
   },
   "outputs": [],
   "source": [
    "txt = \"\"\"\n",
    "What is your name?\n",
    "Who is that guy?\n",
    "\"\"\""
   ]
  },
  {
   "cell_type": "code",
   "execution_count": 678,
   "id": "de3ce462-3bd9-426e-b427-7f6038efc372",
   "metadata": {
    "execution": {
     "iopub.execute_input": "2023-01-17T21:43:16.312538Z",
     "iopub.status.busy": "2023-01-17T21:43:16.312538Z",
     "iopub.status.idle": "2023-01-17T21:43:16.334560Z",
     "shell.execute_reply": "2023-01-17T21:43:16.333538Z",
     "shell.execute_reply.started": "2023-01-17T21:43:16.312538Z"
    },
    "tags": []
   },
   "outputs": [
    {
     "data": {
      "text/plain": [
       "['What', 'Who is']"
      ]
     },
     "execution_count": 678,
     "metadata": {},
     "output_type": "execute_result"
    }
   ],
   "source": [
    "pattern = re.compile(\"What|Who is\")\n",
    "pattern.findall(txt)\n"
   ]
  },
  {
   "cell_type": "code",
   "execution_count": 680,
   "id": "d283984f-8b20-45e8-baa6-b4291062e852",
   "metadata": {
    "execution": {
     "iopub.execute_input": "2023-01-17T21:44:33.879207Z",
     "iopub.status.busy": "2023-01-17T21:44:33.879207Z",
     "iopub.status.idle": "2023-01-17T21:44:33.884234Z",
     "shell.execute_reply": "2023-01-17T21:44:33.883256Z",
     "shell.execute_reply.started": "2023-01-17T21:44:33.879207Z"
    },
    "tags": []
   },
   "outputs": [
    {
     "name": "stdout",
     "output_type": "stream",
     "text": [
      "\n",
      "\u001b[43m\u001b[1mWhat\u001b[0m is your name?\n",
      "\u001b[43m\u001b[1mWho is\u001b[0m that guy?\n",
      "\n"
     ]
    }
   ],
   "source": [
    "highlight_regex_matches(pattern, txt)"
   ]
  },
  {
   "cell_type": "code",
   "execution_count": 683,
   "id": "3f53d4e4-00c9-4721-beb1-4522cbad0f8d",
   "metadata": {
    "execution": {
     "iopub.execute_input": "2023-01-17T21:45:58.516468Z",
     "iopub.status.busy": "2023-01-17T21:45:58.516468Z",
     "iopub.status.idle": "2023-01-17T21:45:58.532467Z",
     "shell.execute_reply": "2023-01-17T21:45:58.531468Z",
     "shell.execute_reply.started": "2023-01-17T21:45:58.516468Z"
    },
    "tags": []
   },
   "outputs": [
    {
     "data": {
      "text/plain": [
       "[<re.Match object; span=(1, 8), match='What is'>,\n",
       " <re.Match object; span=(20, 26), match='Who is'>]"
      ]
     },
     "execution_count": 683,
     "metadata": {},
     "output_type": "execute_result"
    }
   ],
   "source": [
    "pattern = re.compile(\"(What|Who) is\")\n",
    "pattern.findall(txt)\n",
    "list(pattern.finditer(txt))"
   ]
  },
  {
   "cell_type": "code",
   "execution_count": 682,
   "id": "1c77a290-a802-436f-8541-c723e35eaea0",
   "metadata": {
    "execution": {
     "iopub.execute_input": "2023-01-17T21:45:11.702997Z",
     "iopub.status.busy": "2023-01-17T21:45:11.702997Z",
     "iopub.status.idle": "2023-01-17T21:45:11.713973Z",
     "shell.execute_reply": "2023-01-17T21:45:11.713973Z",
     "shell.execute_reply.started": "2023-01-17T21:45:11.702997Z"
    },
    "tags": []
   },
   "outputs": [
    {
     "name": "stdout",
     "output_type": "stream",
     "text": [
      "\n",
      "\u001b[43m\u001b[1mWhat is\u001b[0m your name?\n",
      "\u001b[43m\u001b[1mWho is\u001b[0m that guy?\n",
      "\n"
     ]
    }
   ],
   "source": [
    "highlight_regex_matches(pattern, txt)"
   ]
  },
  {
   "cell_type": "code",
   "execution_count": 700,
   "id": "40927afd-a2fc-484c-8610-60a9bb7fa7e6",
   "metadata": {
    "execution": {
     "iopub.execute_input": "2023-01-17T21:54:02.957331Z",
     "iopub.status.busy": "2023-01-17T21:54:02.957331Z",
     "iopub.status.idle": "2023-01-17T21:54:02.969278Z",
     "shell.execute_reply": "2023-01-17T21:54:02.968315Z",
     "shell.execute_reply.started": "2023-01-17T21:54:02.957331Z"
    },
    "tags": []
   },
   "outputs": [],
   "source": [
    "txt = \"\"\"\n",
    "Report Summary:\n",
    "\n",
    "Number of Other Included Managers:                       0\n",
    "                                        ---------------------------------------\n",
    "\n",
    "Form 13F Information Table Entry Total:                 659\n",
    "                                        ---------------------------------------\n",
    "                                                     2,403,697\n",
    "Form 13F Information Table Value Total: --------------------------------------\n",
    "                                                    (thousands)\n",
    "\n",
    "List of Other Included Managers:\n",
    "\"\"\""
   ]
  },
  {
   "cell_type": "code",
   "execution_count": 702,
   "id": "46f95a14-bc8f-419b-ae8b-7b03088d6cd2",
   "metadata": {
    "execution": {
     "iopub.execute_input": "2023-01-18T09:49:45.437900Z",
     "iopub.status.busy": "2023-01-18T09:49:45.433900Z",
     "iopub.status.idle": "2023-01-18T09:49:45.465900Z",
     "shell.execute_reply": "2023-01-18T09:49:45.464898Z",
     "shell.execute_reply.started": "2023-01-18T09:49:45.437900Z"
    },
    "tags": []
   },
   "outputs": [
    {
     "data": {
      "text/plain": [
       "(['Entry Total', 'Value Total'],\n",
       " [<re.Match object; span=(185, 196), match='Entry Total'>,\n",
       "  <re.Match object; span=(388, 399), match='Value Total'>])"
      ]
     },
     "execution_count": 702,
     "metadata": {},
     "output_type": "execute_result"
    }
   ],
   "source": [
    "pattern = re.compile(\"(?:Value|Entry) Total\")\n",
    "# the `?:` in this context tells Python's regex library to not consider the parentheses as defining a capture.\n",
    "# (It's still used for grouping of course.) This way .findall() will behave as .finditer()\n",
    "pattern.findall(txt),list(pattern.finditer(txt))\n",
    "# highlight_regex_matches(pattern, txt)"
   ]
  },
  {
   "cell_type": "code",
   "execution_count": 703,
   "id": "12964d20-e571-41b0-84c1-eb03ae4b1a24",
   "metadata": {
    "execution": {
     "iopub.execute_input": "2023-01-18T12:29:28.781462Z",
     "iopub.status.busy": "2023-01-18T12:29:28.779462Z",
     "iopub.status.idle": "2023-01-18T12:29:28.808463Z",
     "shell.execute_reply": "2023-01-18T12:29:28.807488Z",
     "shell.execute_reply.started": "2023-01-18T12:29:28.781462Z"
    }
   },
   "outputs": [],
   "source": [
    "txt = \"\"\"\n",
    "I have 2 dogs. One dog is 1 year old and other one is 2 years old. Both dogs are very cute! \n",
    "\"\"\""
   ]
  },
  {
   "cell_type": "code",
   "execution_count": 714,
   "id": "88f569bc-b03c-41e1-a577-564ee811e740",
   "metadata": {
    "execution": {
     "iopub.execute_input": "2023-01-18T12:33:00.899385Z",
     "iopub.status.busy": "2023-01-18T12:33:00.899385Z",
     "iopub.status.idle": "2023-01-18T12:33:00.913386Z",
     "shell.execute_reply": "2023-01-18T12:33:00.912385Z",
     "shell.execute_reply.started": "2023-01-18T12:33:00.899385Z"
    },
    "tags": []
   },
   "outputs": [
    {
     "name": "stdout",
     "output_type": "stream",
     "text": [
      "\n",
      "I have 2 \u001b[43m\u001b[1mdogs\u001b[0m. One \u001b[43m\u001b[1mdog\u001b[0m is 1 year old and other one is 2 years old. Both \u001b[43m\u001b[1mdogs\u001b[0m are very cute! \n",
      "\n"
     ]
    }
   ],
   "source": [
    "pattern = re.compile(\"dogs?\")\n",
    "pattern.findall(txt)\n",
    "highlight_regex_matches(pattern, txt)"
   ]
  },
  {
   "cell_type": "code",
   "execution_count": 719,
   "id": "4ded9713-5085-4c10-8bbb-256dfe4f09cd",
   "metadata": {
    "execution": {
     "iopub.execute_input": "2023-01-18T12:35:40.977333Z",
     "iopub.status.busy": "2023-01-18T12:35:40.977333Z",
     "iopub.status.idle": "2023-01-18T12:35:40.985330Z",
     "shell.execute_reply": "2023-01-18T12:35:40.984330Z",
     "shell.execute_reply.started": "2023-01-18T12:35:40.977333Z"
    },
    "tags": []
   },
   "outputs": [],
   "source": [
    "txt = \"\"\"\n",
    "file1.txt\n",
    "file_one.txt\n",
    "file.txt\n",
    "fil.txt\n",
    "not.txt\n",
    "file.xml\n",
    "file-1.txt\n",
    "\"\"\""
   ]
  },
  {
   "cell_type": "code",
   "execution_count": 720,
   "id": "e9467d0e-6841-48ea-829f-6800bbedc67c",
   "metadata": {
    "execution": {
     "iopub.execute_input": "2023-01-18T12:35:41.499966Z",
     "iopub.status.busy": "2023-01-18T12:35:41.498970Z",
     "iopub.status.idle": "2023-01-18T12:35:41.510986Z",
     "shell.execute_reply": "2023-01-18T12:35:41.510986Z",
     "shell.execute_reply.started": "2023-01-18T12:35:41.498970Z"
    },
    "tags": []
   },
   "outputs": [
    {
     "data": {
      "text/plain": [
       "['file1.txt', 'file_one.txt', 'file.txt', 'file-1.txt']"
      ]
     },
     "execution_count": 720,
     "metadata": {},
     "output_type": "execute_result"
    }
   ],
   "source": [
    "pattern = re.compile(\"file[\\w-]*\\.txt\")\n",
    "pattern.findall(txt)"
   ]
  },
  {
   "cell_type": "code",
   "execution_count": 721,
   "id": "58f6f2ae-fd1c-443e-9dae-be3d852ee6ed",
   "metadata": {
    "execution": {
     "iopub.execute_input": "2023-01-18T12:36:05.908355Z",
     "iopub.status.busy": "2023-01-18T12:36:05.908355Z",
     "iopub.status.idle": "2023-01-18T12:36:05.914352Z",
     "shell.execute_reply": "2023-01-18T12:36:05.913351Z",
     "shell.execute_reply.started": "2023-01-18T12:36:05.908355Z"
    },
    "tags": []
   },
   "outputs": [
    {
     "name": "stdout",
     "output_type": "stream",
     "text": [
      "\n",
      "\u001b[43m\u001b[1mfile1.txt\u001b[0m\n",
      "\u001b[43m\u001b[1mfile_one.txt\u001b[0m\n",
      "\u001b[43m\u001b[1mfile.txt\u001b[0m\n",
      "fil.txt\n",
      "not.txt\n",
      "file.xml\n",
      "\u001b[43m\u001b[1mfile-1.txt\u001b[0m\n",
      "\n"
     ]
    }
   ],
   "source": [
    "highlight_regex_matches(pattern, txt)"
   ]
  },
  {
   "cell_type": "code",
   "execution_count": 722,
   "id": "a3b8c115-caef-4c5a-a420-2620b0c78a40",
   "metadata": {
    "execution": {
     "iopub.execute_input": "2023-01-18T12:37:00.635128Z",
     "iopub.status.busy": "2023-01-18T12:37:00.635128Z",
     "iopub.status.idle": "2023-01-18T12:37:00.641138Z",
     "shell.execute_reply": "2023-01-18T12:37:00.640128Z",
     "shell.execute_reply.started": "2023-01-18T12:37:00.635128Z"
    }
   },
   "outputs": [],
   "source": [
    "txt = \"\"\"\n",
    "file1.txt\n",
    "file_one.txt\n",
    "file09.txt\n",
    "fil.txt\n",
    "file23.xml\n",
    "file.txt\n",
    "\"\"\""
   ]
  },
  {
   "cell_type": "code",
   "execution_count": 723,
   "id": "ad22fcca-c508-416b-bbb1-8bef7d03c181",
   "metadata": {
    "execution": {
     "iopub.execute_input": "2023-01-18T12:38:19.538835Z",
     "iopub.status.busy": "2023-01-18T12:38:19.538835Z",
     "iopub.status.idle": "2023-01-18T12:38:19.550835Z",
     "shell.execute_reply": "2023-01-18T12:38:19.549834Z",
     "shell.execute_reply.started": "2023-01-18T12:38:19.538835Z"
    }
   },
   "outputs": [
    {
     "data": {
      "text/plain": [
       "['file1.txt', 'file09.txt']"
      ]
     },
     "execution_count": 723,
     "metadata": {},
     "output_type": "execute_result"
    }
   ],
   "source": [
    "pattern = re.compile(\"file\\d+\\.txt\")\n",
    "pattern.findall(txt)"
   ]
  },
  {
   "cell_type": "code",
   "execution_count": 724,
   "id": "07ff12d9-e0d6-48df-8a8a-27ae1dc8cf52",
   "metadata": {
    "execution": {
     "iopub.execute_input": "2023-01-18T12:38:54.530752Z",
     "iopub.status.busy": "2023-01-18T12:38:54.530752Z",
     "iopub.status.idle": "2023-01-18T12:38:55.081988Z",
     "shell.execute_reply": "2023-01-18T12:38:55.081006Z",
     "shell.execute_reply.started": "2023-01-18T12:38:54.530752Z"
    },
    "tags": []
   },
   "outputs": [
    {
     "name": "stdout",
     "output_type": "stream",
     "text": [
      "\n",
      "\u001b[43m\u001b[1mfile1.txt\u001b[0m\n",
      "file_one.txt\n",
      "\u001b[43m\u001b[1mfile09.txt\u001b[0m\n",
      "fil.txt\n",
      "file23.xml\n",
      "file.txt\n",
      "\n"
     ]
    }
   ],
   "source": [
    "highlight_regex_matches(pattern, txt)"
   ]
  },
  {
   "cell_type": "code",
   "execution_count": 725,
   "id": "2fcb8c49-6158-429c-975a-0ec00b895ecb",
   "metadata": {
    "execution": {
     "iopub.execute_input": "2023-01-18T12:40:51.276384Z",
     "iopub.status.busy": "2023-01-18T12:40:51.275400Z",
     "iopub.status.idle": "2023-01-18T12:40:51.281441Z",
     "shell.execute_reply": "2023-01-18T12:40:51.281441Z",
     "shell.execute_reply.started": "2023-01-18T12:40:51.276384Z"
    }
   },
   "outputs": [],
   "source": [
    "txt = \"\"\"\n",
    "The first season of Indian Premiere League (IPL) was played in 2008. \n",
    "The second season was played in 2009 in South Africa. \n",
    "Last season was played in 2018 and won by Chennai Super Kings (CSK).\n",
    "CSK won the title in 2010 and 2011 as well.\n",
    "Mumbai Indians (MI) has also won the title 3 times in 2013, 2015 and 2017.\n",
    "\"\"\""
   ]
  },
  {
   "cell_type": "code",
   "execution_count": 726,
   "id": "c7472c34-067e-4b73-ab99-13486b178117",
   "metadata": {
    "execution": {
     "iopub.execute_input": "2023-01-18T12:41:35.244308Z",
     "iopub.status.busy": "2023-01-18T12:41:35.244308Z",
     "iopub.status.idle": "2023-01-18T12:41:35.261343Z",
     "shell.execute_reply": "2023-01-18T12:41:35.261343Z",
     "shell.execute_reply.started": "2023-01-18T12:41:35.244308Z"
    },
    "tags": []
   },
   "outputs": [
    {
     "data": {
      "text/plain": [
       "['2008', '2009', '2018', '2010', '2011', '2013', '2015', '2017']"
      ]
     },
     "execution_count": 726,
     "metadata": {},
     "output_type": "execute_result"
    }
   ],
   "source": [
    "pattern = re.compile(\"\\d{4}\")\n",
    "pattern.findall(txt)"
   ]
  },
  {
   "cell_type": "code",
   "execution_count": 727,
   "id": "ebcc9832-95bb-45e0-b710-baaf18c8f1f5",
   "metadata": {
    "execution": {
     "iopub.execute_input": "2023-01-18T12:42:07.153700Z",
     "iopub.status.busy": "2023-01-18T12:42:07.152709Z",
     "iopub.status.idle": "2023-01-18T12:42:07.160753Z",
     "shell.execute_reply": "2023-01-18T12:42:07.159732Z",
     "shell.execute_reply.started": "2023-01-18T12:42:07.153700Z"
    }
   },
   "outputs": [],
   "source": [
    "txt = \"\"\"\n",
    "123143\n",
    "432\n",
    "5657\n",
    "4435\n",
    "54\n",
    "65111\n",
    "\"\"\""
   ]
  },
  {
   "cell_type": "code",
   "execution_count": 735,
   "id": "1838ead0-eb21-4cda-8897-3714276d05b5",
   "metadata": {
    "execution": {
     "iopub.execute_input": "2023-01-18T14:49:11.759599Z",
     "iopub.status.busy": "2023-01-18T14:49:11.758601Z",
     "iopub.status.idle": "2023-01-18T14:49:11.768640Z",
     "shell.execute_reply": "2023-01-18T14:49:11.767639Z",
     "shell.execute_reply.started": "2023-01-18T14:49:11.759599Z"
    },
    "tags": []
   },
   "outputs": [
    {
     "data": {
      "text/plain": [
       "['123143', '5657', '4435', '65111']"
      ]
     },
     "execution_count": 735,
     "metadata": {},
     "output_type": "execute_result"
    }
   ],
   "source": [
    "pattern = re.compile(\"\\d{4,}\")\n",
    "pattern.findall(txt)"
   ]
  },
  {
   "cell_type": "code",
   "execution_count": 759,
   "id": "08179098-89c3-4d70-b4c3-7a33c9c291ac",
   "metadata": {
    "execution": {
     "iopub.execute_input": "2023-01-18T15:11:24.870961Z",
     "iopub.status.busy": "2023-01-18T15:11:24.869994Z",
     "iopub.status.idle": "2023-01-18T15:11:24.882961Z",
     "shell.execute_reply": "2023-01-18T15:11:24.881998Z",
     "shell.execute_reply.started": "2023-01-18T15:11:24.870961Z"
    },
    "tags": []
   },
   "outputs": [],
   "source": [
    "txt = \"\"\"\n",
    "555-555-5555\n",
    "555 555 5555\n",
    "5555555555\n",
    "\"\"\""
   ]
  },
  {
   "cell_type": "code",
   "execution_count": 760,
   "id": "2f18b206-6ec3-4991-a41e-80ddadd07d22",
   "metadata": {
    "execution": {
     "iopub.execute_input": "2023-01-18T15:11:28.779771Z",
     "iopub.status.busy": "2023-01-18T15:11:28.778801Z",
     "iopub.status.idle": "2023-01-18T15:11:28.800893Z",
     "shell.execute_reply": "2023-01-18T15:11:28.799873Z",
     "shell.execute_reply.started": "2023-01-18T15:11:28.779771Z"
    },
    "tags": []
   },
   "outputs": [
    {
     "data": {
      "text/plain": [
       "['555-555-5555', '555 555 5555', '5555555555']"
      ]
     },
     "execution_count": 760,
     "metadata": {},
     "output_type": "execute_result"
    }
   ],
   "source": [
    "# pattern = re.compile(\"\\d+[-\\s]?\\d+[-\\s]?\\d+\")\n",
    "pattern = re.compile(r\"\\d{3}[-\\s]?\\d{3}[-\\s]?\\d{4}\") # same as above but specifies the # of digits\n",
    "pattern.findall(txt)"
   ]
  },
  {
   "cell_type": "markdown",
   "id": "f3163c0a-d288-4795-b02c-68f5d5879bdb",
   "metadata": {},
   "source": [
    "#### Greedy \\ Non-greedy"
   ]
  },
  {
   "cell_type": "code",
   "execution_count": 761,
   "id": "afb424d2-b97f-4959-90c4-6c2102385ed3",
   "metadata": {
    "execution": {
     "iopub.execute_input": "2023-01-18T15:11:39.378631Z",
     "iopub.status.busy": "2023-01-18T15:11:39.377631Z",
     "iopub.status.idle": "2023-01-18T15:11:39.395648Z",
     "shell.execute_reply": "2023-01-18T15:11:39.394635Z",
     "shell.execute_reply.started": "2023-01-18T15:11:39.378631Z"
    },
    "tags": []
   },
   "outputs": [],
   "source": [
    "txt = \"\"\"<html><head><title>Title</title><>\"\"\""
   ]
  },
  {
   "cell_type": "code",
   "execution_count": 762,
   "id": "11ee1904-5bfb-4801-a26a-3164c08b0fec",
   "metadata": {
    "execution": {
     "iopub.execute_input": "2023-01-18T15:11:43.564903Z",
     "iopub.status.busy": "2023-01-18T15:11:43.564903Z",
     "iopub.status.idle": "2023-01-18T15:11:43.580941Z",
     "shell.execute_reply": "2023-01-18T15:11:43.580941Z",
     "shell.execute_reply.started": "2023-01-18T15:11:43.564903Z"
    },
    "tags": []
   },
   "outputs": [
    {
     "data": {
      "text/plain": [
       "['<html>', '<head>', '<title>', '</title>', '<>']"
      ]
     },
     "execution_count": 762,
     "metadata": {},
     "output_type": "execute_result"
    }
   ],
   "source": [
    "pattern = re.compile(\"<.*>\") # greedy, will match the longes match possible\n",
    "pattern = re.compile(r\"<.*?>\") # non-greedy will search for the smallest match. Enabled with `?` after quantifier\n",
    "pattern.findall(txt)"
   ]
  },
  {
   "cell_type": "markdown",
   "id": "a99d2e92-8b5b-4603-be71-8afbaebaea75",
   "metadata": {},
   "source": [
    "#### Boundary Matchers\n"
   ]
  },
  {
   "cell_type": "code",
   "execution_count": 3,
   "id": "f512ae0a-4a4f-4afc-9dc5-0da9f3a538fd",
   "metadata": {
    "execution": {
     "iopub.execute_input": "2023-01-18T22:20:25.150724Z",
     "iopub.status.busy": "2023-01-18T22:20:25.150724Z",
     "iopub.status.idle": "2023-01-18T22:20:25.163753Z",
     "shell.execute_reply": "2023-01-18T22:20:25.163753Z",
     "shell.execute_reply.started": "2023-01-18T22:20:25.150724Z"
    },
    "tags": []
   },
   "outputs": [],
   "source": [
    "txt = r\"\"\"\n",
    "Lorem Ipsum is simply dummy text of the printing and typesetting industry. \n",
    "Lorem Ipsum has been the industry's standard dummy text ever since the 1500s, Lorem ad Ipsum\n",
    "bla bla Lorem\n",
    "when an unknown printer took a galley of type and scrambled it to make a type specimen book. \n",
    "It has survived not only five centuries, Lorem Ipsum but also the leap into electronic typesetting, \n",
    "remaining essentially unchanged. Lorem ad Ipsum\n",
    "It was popularised in the 1960s with the release of Letraset sheets containing Lorem Ipsum passages, \n",
    "and more recently with desktop publishing software like Aldus PageMaker including versions of Lorem ad Ipsum.\n",
    "Report Summary:\n",
    "\n",
    "Number of Other Included Managers:                       0\n",
    "                                        ---------------------------------------\n",
    "\n",
    "Form 13F Information Table Entry Total:                 659\n",
    "                                        ---------------------------------------\n",
    "                                                     2,403,697\n",
    "Form 13F Information Table Value Total: --------------------------------------\n",
    "                                                    (thousands)\n",
    "\n",
    "List of Other Included Managers:\n",
    "\"\"\""
   ]
  },
  {
   "cell_type": "code",
   "execution_count": 948,
   "id": "1e629bfc-9cf7-4e61-bead-8fcf761ff8e0",
   "metadata": {
    "execution": {
     "iopub.execute_input": "2023-01-18T21:52:26.993962Z",
     "iopub.status.busy": "2023-01-18T21:52:26.993962Z",
     "iopub.status.idle": "2023-01-18T21:52:27.001956Z",
     "shell.execute_reply": "2023-01-18T21:52:27.000981Z",
     "shell.execute_reply.started": "2023-01-18T21:52:26.993962Z"
    },
    "tags": []
   },
   "outputs": [
    {
     "data": {
      "text/plain": [
       "['Entry Total:                 659\\n                                        ---------------------------------------\\n                                                     2,403,697\\nForm 13F Information Table Value Total:']"
      ]
     },
     "execution_count": 948,
     "metadata": {},
     "output_type": "execute_result"
    }
   ],
   "source": [
    "pattern = re.compile(\"and|or|the\")\n",
    "pattern = re.compile(r\"\\b(and|or|the)\")\n",
    "##--------------------\n",
    "pattern = re.compile(r\"(?:Entry Total:?)(?:\\s*\\d.*\\s*)(?:Value Total:?)\", re.DOTALL|re.I) # whatever is between two strings, even across new lines\n",
    "# pattern = re.compile(r\"(?<=Entry Total:?)\", re.DOTALL|re.I) # whatever is between two strings, even across new lines\n",
    "\n",
    "##-------------------------------------\n",
    "# pattern = re.compile(r\"^Lorem\", flags=re.M) # matches only at the BEGINNING of the line\n",
    "# pattern = re.compile(r\"(?<=[^\\n])Lorem\", flags=re.M) # matches NOT at the beginning of the line\n",
    "##-------------------------------------\n",
    "# pattern = re.compile(r\"Lorem$\", flags=re.M) # matches pattern ONLY at the END of the line\n",
    "# pattern = re.compile(r\"Lorem(?=[^\\n])\", flags=re.M) # matches NOT at the END Of the line\n",
    "# pattern = re.compile(r\"(?<=[^\\n])Lorem(?=[^\\n])\", flags=re.M) # matches NOT at the END or BEGINNING Of the line\n",
    "##-------------------------------------\n",
    "# pattern = re.compile(r\"(?<=[^\\n])Lorem(?=\\sad)\", flags=re.M) # matches NOT new line and followed by `ad`\n",
    "# pattern = re.compile(r\"(?<=[^\\n])Lorem(?=(\\s)(?!\\sad))\", flags=re.M) # matches NOT new line and NOT followed by \" \" and \"ad\"\n",
    "###----------------------------------- \n",
    "# pattern = re.compile(r\"(?:Lorem Ipsum)(?:.*?)(?:Lorem ad Ipsum)\", flags=re.M|re.DOTALL) # group between strings - greedy\n",
    "# pattern = re.compile(r\"(Lorem Ipsum)(.*?)(Lorem ad Ipsum)\", flags=re.M|re.DOTALL) # group between strings - non-greedy\n",
    "# above are two types of presenting results: 1. with the search strings `from` and `to` included. 2. just what's between them,\n",
    "# but also separately the list presents the values for the individual search strings `from` and `to` \n",
    "pattern.findall(txt)\n",
    "# highlight_regex_matches(pattern, txt)"
   ]
  },
  {
   "cell_type": "code",
   "execution_count": null,
   "id": "5f9cc0a2-2273-4d26-b8ab-8acf8b014e53",
   "metadata": {
    "tags": []
   },
   "outputs": [],
   "source": [
    "\n"
   ]
  },
  {
   "cell_type": "code",
   "execution_count": 57,
   "id": "bf4a5064-1833-4822-aa03-02857924263d",
   "metadata": {
    "execution": {
     "iopub.execute_input": "2023-01-18T22:52:10.842927Z",
     "iopub.status.busy": "2023-01-18T22:52:10.842927Z",
     "iopub.status.idle": "2023-01-18T22:52:10.857908Z",
     "shell.execute_reply": "2023-01-18T22:52:10.857908Z",
     "shell.execute_reply.started": "2023-01-18T22:52:10.842927Z"
    },
    "tags": []
   },
   "outputs": [
    {
     "name": "stdout",
     "output_type": "stream",
     "text": [
      "Report Summary:\n",
      "\n",
      "Number of Other Included Managers:                       0\n",
      "                                        ---------------------------------------\n",
      "\n",
      "Form 13F Information Table Entry Total:                 659\n",
      "                                        ---------------------------------------\n",
      "                                                     2,403,697\n",
      "Form 13F Information Table Value Total: --------------------------------------\n",
      "                                                    (thousands)\n",
      "\n",
      "List of Other Included Managers:\n",
      "\n"
     ]
    }
   ],
   "source": [
    "# experiments with my text. start: select 200 chars before \"Entry Total\"\n",
    "# end: select 200 chars after \"Value Total\", then concat these texts together\n",
    "start = re.compile(r\"(?:^.{1,200})(?:Entry Total:?)(?:.{1,400}$)\", flags=re.M|re.DOTALL)\n",
    "end = re.compile(r\"(?:Value Total:?)(?:.{1,200}$)\", flags=re.M|re.DOTALL)\n",
    "pattern = re.compile(fr\"{start}{end}\")\n",
    "print((start.findall(txt)+end.findall(txt))[0], sep=\"\\n\")\n",
    "\n",
    "# match = re.search(pattern, txt)\n",
    "\n",
    "# if match:\n",
    "#     selected_lines = match.group(\"selected\")\n",
    "#     print(selected_lines)"
   ]
  },
  {
   "cell_type": "code",
   "execution_count": 64,
   "id": "1fcf8812-7806-4450-9e34-688fa6696b48",
   "metadata": {
    "execution": {
     "iopub.execute_input": "2023-01-18T22:58:07.339558Z",
     "iopub.status.busy": "2023-01-18T22:58:07.338593Z",
     "iopub.status.idle": "2023-01-18T22:58:07.344578Z",
     "shell.execute_reply": "2023-01-18T22:58:07.344578Z",
     "shell.execute_reply.started": "2023-01-18T22:58:07.339558Z"
    },
    "tags": []
   },
   "outputs": [
    {
     "data": {
      "text/plain": [
       "{'                                                     2,403,697',\n",
       " '                                        ---------------------------------------',\n",
       " 'Form 13F Information Table Entry Total:                 659',\n",
       " 'Form 13F Information Table Value Total: --------------------------------------',\n",
       " 'Number of Other Included Managers:                       0',\n",
       " 'Report Summary:',\n",
       " 'Value Total: --------------------------------------'}"
      ]
     },
     "execution_count": 64,
     "metadata": {},
     "output_type": "execute_result"
    }
   ],
   "source": [
    "set(start.findall(txt)[0].splitlines()).symmetric_difference(end.findall(txt)[0].splitlines())\n",
    "\n",
    "# txt"
   ]
  },
  {
   "cell_type": "code",
   "execution_count": 100,
   "id": "babaae06-0a9f-41dc-8499-f870192b0fab",
   "metadata": {
    "execution": {
     "iopub.execute_input": "2023-01-19T11:38:49.927750Z",
     "iopub.status.busy": "2023-01-19T11:38:49.927750Z",
     "iopub.status.idle": "2023-01-19T11:38:49.942733Z",
     "shell.execute_reply": "2023-01-19T11:38:49.941735Z",
     "shell.execute_reply.started": "2023-01-19T11:38:49.927750Z"
    },
    "tags": []
   },
   "outputs": [],
   "source": [
    "def validate_usr(username):\n",
    "    # print(username.find(\" \"))\n",
    "    import re\n",
    "    # passwd = 'Geek12@'\n",
    "    # reg = \"^(?=.*[a-z])(?=.*[A-Z])(?=.*\\d)(?=.*[@$!%*#?&])[A-Za-z\\d@$!#%*?&]{6,20}$\" validate password\n",
    "    pattern = re.compile(r\"\\b([a-z\\d_]){4,16}\")\n",
    "    match = re.findall(pattern, username)\n",
    "    print(match)\n",
    "    if match: return True\n",
    "    else: return False"
   ]
  },
  {
   "cell_type": "code",
   "execution_count": 145,
   "id": "10c70c6d-b96d-4067-9967-35e198dcac8b",
   "metadata": {
    "execution": {
     "iopub.execute_input": "2023-01-19T15:40:26.699329Z",
     "iopub.status.busy": "2023-01-19T15:40:26.699329Z",
     "iopub.status.idle": "2023-01-19T15:40:26.710339Z",
     "shell.execute_reply": "2023-01-19T15:40:26.709329Z",
     "shell.execute_reply.started": "2023-01-19T15:40:26.699329Z"
    },
    "tags": []
   },
   "outputs": [
    {
     "data": {
      "text/plain": [
       "False"
      ]
     },
     "execution_count": 145,
     "metadata": {},
     "output_type": "execute_result"
    }
   ],
   "source": [
    "# from codewars \n",
    "# Write a simple regex to validate a username. Allowed characters are:\n",
    "# lowercase letters,numbers, underscore\n",
    "# Length should be between 4 and 16 characters (both included).\n",
    "\n",
    "def validate_usr(username):\n",
    "    return bool(re.match(r'^[a-z0-9_]{4,16}$', username)) # using ^ and $ makes sure, the entire string doesn't have\n",
    "# white spaces. Another way of doing it is to add and if statement `username.find(\" \") == -1`\n",
    "# or\n",
    "def validate_usr(username):\n",
    "    return re.match(r'^[a-z0-9_]{4,16}$', username) != None\n",
    "    # return re.match(r'^(?=[^_\\-\\s])[A-Za-z\\d@$!#%*?&]{4,16}$', username) != None # needs more testing, but seems to work\n",
    "    # (?=[^_\\-\\s]) explicitly states there can't be \"_\", \"-\" or white space in the string\n",
    "# validate_usr('asd43 34')\n",
    "validate_usr('asd43_45')\n",
    "validate_usr('asd43 45')\n",
    "validate_usr('asd4345')\n",
    "validate_usr('asd43@45')\n",
    "\n"
   ]
  },
  {
   "cell_type": "code",
   "execution_count": 116,
   "id": "d135c2fc-16c4-44b7-a2de-003c4dfae1c3",
   "metadata": {
    "execution": {
     "iopub.execute_input": "2023-01-19T13:17:15.589943Z",
     "iopub.status.busy": "2023-01-19T13:17:15.588942Z",
     "iopub.status.idle": "2023-01-19T13:17:15.608970Z",
     "shell.execute_reply": "2023-01-19T13:17:15.608970Z",
     "shell.execute_reply.started": "2023-01-19T13:17:15.588942Z"
    },
    "tags": []
   },
   "outputs": [
    {
     "name": "stdout",
     "output_type": "stream",
     "text": [
      "Password invalid !!\n"
     ]
    }
   ],
   "source": [
    "# validating password that ca nonly  have certain characters # [A-Za-z\\d@$!#%*?&]{6,20}\n",
    "def main():\n",
    "\tpasswd = 'Geek12@'\n",
    "\treg = \"^(?=.*[a-z])(?=.*[A-Z])(?=.*\\d)(?=.*[@$!%*#?&])[A-Za-z\\d@$!#%*?&]{6,20}$\"\n",
    "    # (?=.*[a-z]) - positive lookahead that check the match has at least one LOWER case\n",
    "    # (?=.*[A-Z]) - positive lookahead, checks the match has at least one UPPER case\n",
    "    # (?=.*\\d) - positive lookahead that check the match has at least one DIGIT case\n",
    "    # (?=.*[@$!%*#?&]) - positive lookahead that check the match has at least one of cpecial characters\n",
    "\t\n",
    "\t# compiling regex\n",
    "\tpat = re.compile(reg)\n",
    "\t\n",
    "\t# searching regex\t\t\t\t\n",
    "\tmat = re.search(pat, passwd)\n",
    "\t\n",
    "\t# validating conditions\n",
    "\tif mat:\n",
    "\t\tprint(\"Password is valid.\")\n",
    "\telse:\n",
    "\t\tprint(\"Password invalid !!\")\n",
    "\n",
    "# Driver Code\t\n",
    "if __name__ == '__main__':\n",
    "\tmain()\n"
   ]
  },
  {
   "cell_type": "code",
   "execution_count": 146,
   "id": "b4d1ab02-338a-4b79-ab7b-d1724c8c8ca7",
   "metadata": {
    "execution": {
     "iopub.execute_input": "2023-01-19T15:45:07.766517Z",
     "iopub.status.busy": "2023-01-19T15:45:07.765511Z",
     "iopub.status.idle": "2023-01-19T15:45:07.772521Z",
     "shell.execute_reply": "2023-01-19T15:45:07.771510Z",
     "shell.execute_reply.started": "2023-01-19T15:45:07.766517Z"
    }
   },
   "outputs": [],
   "source": [
    "txt = \"\"\"\n",
    "Name:\n",
    "Age: 0\n",
    "Roll No.: 15\n",
    "Grade: S\n",
    "\n",
    "Name: Ravi\n",
    "Age: -1\n",
    "Roll No.: 123 Name: ABC\n",
    "Grade: K\n",
    "\n",
    "Name: Ram\n",
    "Age: N/A\n",
    "Roll No.: 1\n",
    "Grade: G\n",
    "\"\"\""
   ]
  },
  {
   "cell_type": "code",
   "execution_count": 175,
   "id": "63204a2f-fd86-48c2-b6bc-10555e2cfc27",
   "metadata": {
    "execution": {
     "iopub.execute_input": "2023-01-19T15:57:41.831162Z",
     "iopub.status.busy": "2023-01-19T15:57:41.831162Z",
     "iopub.status.idle": "2023-01-19T15:57:41.852166Z",
     "shell.execute_reply": "2023-01-19T15:57:41.851157Z",
     "shell.execute_reply.started": "2023-01-19T15:57:41.831162Z"
    },
    "tags": []
   },
   "outputs": [
    {
     "data": {
      "text/plain": [
       "['Name:', 'Name: Ravi', 'Name: Ram']"
      ]
     },
     "execution_count": 175,
     "metadata": {},
     "output_type": "execute_result"
    }
   ],
   "source": [
    "# find all the lines in the given text which start with the pattern Name:.\n",
    "pattern = re.compile(r\"^Name:.*\", flags=re.M) # this option matches all lines. `r\"^Name:.*\"` matches only \n",
    "# the ones where there is something behind \"Name:\"\n",
    "# pattern = re.compile(\"^Name: \\w+\", flags=re.M)\n",
    "match = pattern.findall(txt)\n",
    "match"
   ]
  },
  {
   "cell_type": "code",
   "execution_count": 176,
   "id": "c21951ed-101f-4fc4-bb1a-ba34bb1b2eda",
   "metadata": {
    "execution": {
     "iopub.execute_input": "2023-01-19T15:58:47.805036Z",
     "iopub.status.busy": "2023-01-19T15:58:47.804036Z",
     "iopub.status.idle": "2023-01-19T15:58:47.812035Z",
     "shell.execute_reply": "2023-01-19T15:58:47.812035Z",
     "shell.execute_reply.started": "2023-01-19T15:58:47.805036Z"
    },
    "tags": []
   },
   "outputs": [],
   "source": [
    "txt = \"\"\"\n",
    "Lorem Ipsum is simply dummy text of the printing and typesetting industry.\n",
    "Lorem Ipsum has been the industry's standard dummy text ever since the 1500s!\n",
    "It has survived not only five centuries, but also the leap into electronic typesetting, remaining essentially unchanged.\n",
    "It was popularised in the 1960s with the release of Letraset sheets containing Lorem Ipsum passages\n",
    "More recently with desktop publishing software like Aldus PageMaker including versions of Lorem Ipsum.\"\"\""
   ]
  },
  {
   "cell_type": "code",
   "execution_count": 191,
   "id": "d82d5d46-d953-4e6b-94ba-4cac9d56ab33",
   "metadata": {
    "execution": {
     "iopub.execute_input": "2023-01-19T16:07:35.273653Z",
     "iopub.status.busy": "2023-01-19T16:07:35.273653Z",
     "iopub.status.idle": "2023-01-19T16:07:35.277659Z",
     "shell.execute_reply": "2023-01-19T16:07:35.277659Z",
     "shell.execute_reply.started": "2023-01-19T16:07:35.273653Z"
    },
    "tags": []
   },
   "outputs": [
    {
     "name": "stdout",
     "output_type": "stream",
     "text": [
      "\n",
      "Lorem Ipsum is simply dummy text of the printing and typesetting industry.\n",
      "\u001b[43m\u001b[1mLorem Ipsum has been the industry's standard dummy text ever since the 1500s!\u001b[0m\n",
      "It has survived not only five centuries, but also the leap into electronic typesetting, remaining essentially unchanged.\n",
      "\u001b[43m\u001b[1mIt was popularised in the 1960s with the release of Letraset sheets containing Lorem Ipsum passages\u001b[0m\n",
      "More recently with desktop publishing software like Aldus PageMaker including versions of Lorem Ipsum.\n"
     ]
    }
   ],
   "source": [
    "# Find all the sentences which DO NOT end with a full stop (.) in the given text.\n",
    "pattern = re.compile(r\".+[^\\.]$\", flags=re.M)\n",
    "match = pattern.findall(txt)\n",
    "match\n",
    "highlight_regex_matches(pattern,txt)"
   ]
  },
  {
   "cell_type": "markdown",
   "id": "cdb52c6f-ad42-4929-a891-97c201d191d4",
   "metadata": {},
   "source": [
    "#### Splitting with re"
   ]
  },
  {
   "cell_type": "code",
   "execution_count": 2,
   "id": "df8da88c-4b4f-4d87-889c-b5033990c91f",
   "metadata": {
    "execution": {
     "iopub.execute_input": "2023-01-19T16:47:23.855448Z",
     "iopub.status.busy": "2023-01-19T16:47:23.855448Z",
     "iopub.status.idle": "2023-01-19T16:47:23.862454Z",
     "shell.execute_reply": "2023-01-19T16:47:23.862454Z",
     "shell.execute_reply.started": "2023-01-19T16:47:23.855448Z"
    },
    "tags": []
   },
   "outputs": [],
   "source": [
    "txt = \"\"\"Beautiful is better than ugly.\n",
    "Explicit is better than implicit.\n",
    "Simple is better than complex.\n",
    "Complex is better than complicated.\"\"\""
   ]
  },
  {
   "cell_type": "code",
   "execution_count": 3,
   "id": "5e4bf738-87d6-47e6-b2c7-6bc217902ac8",
   "metadata": {
    "execution": {
     "iopub.execute_input": "2023-01-19T16:47:28.952195Z",
     "iopub.status.busy": "2023-01-19T16:47:28.952195Z",
     "iopub.status.idle": "2023-01-19T16:47:28.967194Z",
     "shell.execute_reply": "2023-01-19T16:47:28.966220Z",
     "shell.execute_reply.started": "2023-01-19T16:47:28.952195Z"
    },
    "tags": []
   },
   "outputs": [
    {
     "data": {
      "text/plain": [
       "['Beautiful is better than ugly.',\n",
       " 'Explicit is better than implicit.',\n",
       " 'Simple is better than complex.',\n",
       " 'Complex is better than complicated.']"
      ]
     },
     "execution_count": 3,
     "metadata": {},
     "output_type": "execute_result"
    }
   ],
   "source": [
    "# Pattern match is not included in any of the substrings obtained after splitting.\n",
    "pattern = re.compile(\"\\n\")\n",
    "pattern.split(txt)"
   ]
  },
  {
   "cell_type": "code",
   "execution_count": 24,
   "id": "b1af060b-1eee-4e10-b3c2-35ba3856e25f",
   "metadata": {
    "execution": {
     "iopub.execute_input": "2023-01-19T17:05:16.495922Z",
     "iopub.status.busy": "2023-01-19T17:05:16.494943Z",
     "iopub.status.idle": "2023-01-19T17:05:16.506974Z",
     "shell.execute_reply": "2023-01-19T17:05:16.505951Z",
     "shell.execute_reply.started": "2023-01-19T17:05:16.495922Z"
    },
    "tags": []
   },
   "outputs": [
    {
     "data": {
      "text/plain": [
       "['Beautiful',\n",
       " 'is',\n",
       " 'better',\n",
       " 'than',\n",
       " 'ugly',\n",
       " 'Explicit',\n",
       " 'is',\n",
       " 'better',\n",
       " 'than',\n",
       " 'implicit',\n",
       " 'Simple',\n",
       " 'is',\n",
       " 'better',\n",
       " 'than',\n",
       " 'complex',\n",
       " 'Complex',\n",
       " 'is',\n",
       " 'better',\n",
       " 'than',\n",
       " 'complicated']"
      ]
     },
     "execution_count": 24,
     "metadata": {},
     "output_type": "execute_result"
    }
   ],
   "source": [
    "import re\n",
    "pattern = re.compile(\"\\W\") # split by everything that is not a alphanumeric + _\n",
    "pattern.split(txt)\n",
    "\n",
    "[x for x in pattern.split(txt) if x.split()]\n",
    "list(filter(lambda x: x, pattern.split(txt)))"
   ]
  },
  {
   "cell_type": "code",
   "execution_count": 27,
   "id": "28d9f892-efd6-4f12-9786-8a1fe0cbec43",
   "metadata": {
    "execution": {
     "iopub.execute_input": "2023-01-19T17:07:19.202982Z",
     "iopub.status.busy": "2023-01-19T17:07:19.202982Z",
     "iopub.status.idle": "2023-01-19T17:07:19.221972Z",
     "shell.execute_reply": "2023-01-19T17:07:19.220969Z",
     "shell.execute_reply.started": "2023-01-19T17:07:19.202982Z"
    },
    "tags": []
   },
   "outputs": [
    {
     "data": {
      "text/plain": [
       "['Beautiful',\n",
       " 'is',\n",
       " 'better',\n",
       " 'than ugly.\\nExplicit is better than implicit.\\nSimple is better than complex.\\nComplex is better than complicated.']"
      ]
     },
     "execution_count": 27,
     "metadata": {},
     "output_type": "execute_result"
    }
   ],
   "source": [
    "pattern = re.compile(\"\\W\") # split by everything that is not a alphanumeric + _\n",
    "pattern.split(txt, maxsplit=3) # to split only first three words "
   ]
  },
  {
   "cell_type": "markdown",
   "id": "1e5c809f-7180-43da-bbf0-904fbd0eb0d7",
   "metadata": {},
   "source": [
    "#### Substitutions"
   ]
  },
  {
   "cell_type": "code",
   "execution_count": 31,
   "id": "05574617-5151-4648-bd72-65859e9bd4dd",
   "metadata": {
    "execution": {
     "iopub.execute_input": "2023-01-19T17:40:53.030384Z",
     "iopub.status.busy": "2023-01-19T17:40:53.029384Z",
     "iopub.status.idle": "2023-01-19T17:40:53.041372Z",
     "shell.execute_reply": "2023-01-19T17:40:53.040371Z",
     "shell.execute_reply.started": "2023-01-19T17:40:53.030384Z"
    },
    "tags": []
   },
   "outputs": [],
   "source": [
    "txt = \"100 cats, 23 dogs, 3 rabbits, 45trouts\""
   ]
  },
  {
   "cell_type": "code",
   "execution_count": 34,
   "id": "348576ae-99f6-4a43-85ea-40350a3a65f8",
   "metadata": {
    "execution": {
     "iopub.execute_input": "2023-01-19T17:41:54.034244Z",
     "iopub.status.busy": "2023-01-19T17:41:54.034244Z",
     "iopub.status.idle": "2023-01-19T17:41:54.047213Z",
     "shell.execute_reply": "2023-01-19T17:41:54.046238Z",
     "shell.execute_reply.started": "2023-01-19T17:41:54.034244Z"
    },
    "tags": []
   },
   "outputs": [
    {
     "data": {
      "text/plain": [
       "'- cats, - dogs, - rabbits, 45trouts'"
      ]
     },
     "execution_count": 34,
     "metadata": {},
     "output_type": "execute_result"
    }
   ],
   "source": [
    "pattern = re.compile(r\"\\b\\d+\\b\") # only match and substitute if the digit is an individual word\n",
    "pattern.sub(\"-\", txt)"
   ]
  },
  {
   "cell_type": "code",
   "execution_count": 35,
   "id": "8f03bf46-1171-48c5-b3aa-3426ff776716",
   "metadata": {
    "execution": {
     "iopub.execute_input": "2023-01-19T17:42:41.471062Z",
     "iopub.status.busy": "2023-01-19T17:42:41.470062Z",
     "iopub.status.idle": "2023-01-19T17:42:41.478066Z",
     "shell.execute_reply": "2023-01-19T17:42:41.477062Z",
     "shell.execute_reply.started": "2023-01-19T17:42:41.471062Z"
    },
    "tags": []
   },
   "outputs": [
    {
     "data": {
      "text/plain": [
       "('- cats, - dogs, - rabbits, 45trouts', 3)"
      ]
     },
     "execution_count": 35,
     "metadata": {},
     "output_type": "execute_result"
    }
   ],
   "source": [
    "pattern.subn(\"-\", txt) # show how many substitutions took place"
   ]
  },
  {
   "cell_type": "markdown",
   "id": "3f7ca84b-23b0-4114-af9c-cd1027f748e7",
   "metadata": {},
   "source": [
    "#### Flags"
   ]
  },
  {
   "cell_type": "code",
   "execution_count": 36,
   "id": "38a30a95-2360-4202-94c5-40d5b37b17b1",
   "metadata": {
    "execution": {
     "iopub.execute_input": "2023-01-19T17:45:22.410653Z",
     "iopub.status.busy": "2023-01-19T17:45:22.410653Z",
     "iopub.status.idle": "2023-01-19T17:45:22.425653Z",
     "shell.execute_reply": "2023-01-19T17:45:22.424680Z",
     "shell.execute_reply.started": "2023-01-19T17:45:22.410653Z"
    }
   },
   "outputs": [],
   "source": [
    "txt = \"\"\"\n",
    "The best thing about regex is that it makes the task of string manipulation so easy.\n",
    "\"\"\""
   ]
  },
  {
   "cell_type": "code",
   "execution_count": 38,
   "id": "ba91b417-4a4b-4b8a-bfb5-af97d52400fd",
   "metadata": {
    "execution": {
     "iopub.execute_input": "2023-01-19T17:45:53.768830Z",
     "iopub.status.busy": "2023-01-19T17:45:53.768830Z",
     "iopub.status.idle": "2023-01-19T17:45:53.782831Z",
     "shell.execute_reply": "2023-01-19T17:45:53.781857Z",
     "shell.execute_reply.started": "2023-01-19T17:45:53.768830Z"
    },
    "tags": []
   },
   "outputs": [
    {
     "data": {
      "text/plain": [
       "re.compile(r'the', re.IGNORECASE|re.UNICODE)"
      ]
     },
     "execution_count": 38,
     "metadata": {},
     "output_type": "execute_result"
    }
   ],
   "source": [
    "pattern = re.compile(\"the\", flags=re.I)\n",
    "pattern"
   ]
  },
  {
   "cell_type": "code",
   "execution_count": 39,
   "id": "2dfdedde-c4b8-4e90-aba0-272f073124dc",
   "metadata": {
    "execution": {
     "iopub.execute_input": "2023-01-19T17:46:33.066288Z",
     "iopub.status.busy": "2023-01-19T17:46:33.066288Z",
     "iopub.status.idle": "2023-01-19T17:46:33.079872Z",
     "shell.execute_reply": "2023-01-19T17:46:33.079872Z",
     "shell.execute_reply.started": "2023-01-19T17:46:33.066288Z"
    },
    "tags": []
   },
   "outputs": [
    {
     "name": "stdout",
     "output_type": "stream",
     "text": [
      "\n",
      "\u001b[43m\u001b[1mThe\u001b[0m best thing about regex is that it makes \u001b[43m\u001b[1mthe\u001b[0m task of string manipulation so easy.\n",
      "\n"
     ]
    }
   ],
   "source": [
    "from regex_utils import highlight_regex_matches\n",
    "\n",
    "highlight_regex_matches(pattern, txt)"
   ]
  },
  {
   "cell_type": "code",
   "execution_count": 56,
   "id": "6f4dec70-3587-46f4-bbc0-a8df4ccb0903",
   "metadata": {
    "execution": {
     "iopub.execute_input": "2023-01-19T17:52:42.846571Z",
     "iopub.status.busy": "2023-01-19T17:52:42.846571Z",
     "iopub.status.idle": "2023-01-19T17:52:42.863583Z",
     "shell.execute_reply": "2023-01-19T17:52:42.862732Z",
     "shell.execute_reply.started": "2023-01-19T17:52:42.846571Z"
    },
    "tags": []
   },
   "outputs": [],
   "source": [
    "# multiline\n",
    "txt = \"\"\"\n",
    "A man was crossing the road.\n",
    "Suddenly, a car passed before him in a very high speed.\n",
    "He was terrified\n",
    "And shocked.\n",
    "\"\"\""
   ]
  },
  {
   "cell_type": "code",
   "execution_count": 61,
   "id": "7876562b-1c6a-48c6-a807-efedd83540e4",
   "metadata": {
    "execution": {
     "iopub.execute_input": "2023-01-19T17:54:50.439047Z",
     "iopub.status.busy": "2023-01-19T17:54:50.439047Z",
     "iopub.status.idle": "2023-01-19T17:54:50.454061Z",
     "shell.execute_reply": "2023-01-19T17:54:50.453047Z",
     "shell.execute_reply.started": "2023-01-19T17:54:50.439047Z"
    },
    "tags": []
   },
   "outputs": [
    {
     "name": "stdout",
     "output_type": "stream",
     "text": [
      "\u001b[43m\u001b[1m\n",
      "A \u001b[0mman was crossing the road.\n",
      "Suddenly, a car passed before him in a very high speed.\n",
      "He was terrified\n",
      "And shocked.\n",
      "\n"
     ]
    }
   ],
   "source": [
    "pattern = re.compile(\"^A.*\", flags=re.M)\n",
    "pattern = re.compile(\"^[A\\s.]*\", flags=re.S) # in txt above the very firts line is actually empty\n",
    "# so we need to add \"\\s\" or \".\" to it and enable re.DOTALL/re.S\n",
    "highlight_regex_matches(pattern, txt)"
   ]
  },
  {
   "cell_type": "code",
   "execution_count": 65,
   "id": "941bb947-ad7d-4558-abe1-bf8a35f7eba8",
   "metadata": {
    "execution": {
     "iopub.execute_input": "2023-01-19T17:57:07.170672Z",
     "iopub.status.busy": "2023-01-19T17:57:07.169676Z",
     "iopub.status.idle": "2023-01-19T17:57:07.183680Z",
     "shell.execute_reply": "2023-01-19T17:57:07.183680Z",
     "shell.execute_reply.started": "2023-01-19T17:57:07.170672Z"
    },
    "tags": []
   },
   "outputs": [
    {
     "name": "stdout",
     "output_type": "stream",
     "text": [
      "\n",
      "A man was crossing the road.\n",
      "Suddenly, a \u001b[43m\u001b[1mcar passed before him in a very high speed.\u001b[0m\n",
      "He was terrified\n",
      "And shocked.\n",
      "\n"
     ]
    }
   ],
   "source": [
    "# re.DOTALL\n",
    "pattern = re.compile(r\"car.+\", flags=re.S)\n",
    "pattern = re.compile(r\"car.+\")\n",
    "highlight_regex_matches(pattern, txt)"
   ]
  },
  {
   "cell_type": "code",
   "execution_count": 66,
   "id": "76059a15-aeb9-46df-8932-1e32d0afe5fa",
   "metadata": {
    "execution": {
     "iopub.execute_input": "2023-01-19T18:00:07.046696Z",
     "iopub.status.busy": "2023-01-19T18:00:07.046696Z",
     "iopub.status.idle": "2023-01-19T18:00:07.060710Z",
     "shell.execute_reply": "2023-01-19T18:00:07.059724Z",
     "shell.execute_reply.started": "2023-01-19T18:00:07.046696Z"
    }
   },
   "outputs": [],
   "source": [
    "# re.UNICODE\n",
    "txt = \"मुझे किताबें पढ़ना बहुत पसंद है।\""
   ]
  },
  {
   "cell_type": "code",
   "execution_count": 67,
   "id": "d158828b-2c9c-4fd3-9986-b85e2d084ccd",
   "metadata": {
    "execution": {
     "iopub.execute_input": "2023-01-19T18:00:42.906633Z",
     "iopub.status.busy": "2023-01-19T18:00:42.905630Z",
     "iopub.status.idle": "2023-01-19T18:00:42.926651Z",
     "shell.execute_reply": "2023-01-19T18:00:42.925630Z",
     "shell.execute_reply.started": "2023-01-19T18:00:42.906633Z"
    },
    "tags": []
   },
   "outputs": [
    {
     "data": {
      "text/plain": [
       "['ु', 'े ', 'ि', 'ा', 'ें ', '़', 'ा ', 'ु', ' ', 'ं', ' ', 'ै।']"
      ]
     },
     "execution_count": 67,
     "metadata": {},
     "output_type": "execute_result"
    }
   ],
   "source": [
    "pattern = re.compile(r\"\\W+\")\n",
    "pattern.findall(txt)"
   ]
  },
  {
   "cell_type": "code",
   "execution_count": 69,
   "id": "152100de-a8d1-4922-ae4a-0c3e54287dc5",
   "metadata": {
    "execution": {
     "iopub.execute_input": "2023-01-19T18:06:09.596181Z",
     "iopub.status.busy": "2023-01-19T18:06:09.596181Z",
     "iopub.status.idle": "2023-01-19T18:06:09.616243Z",
     "shell.execute_reply": "2023-01-19T18:06:09.615180Z",
     "shell.execute_reply.started": "2023-01-19T18:06:09.596181Z"
    },
    "tags": []
   },
   "outputs": [],
   "source": [
    "import regex # DIFFERENT MODULE!!!\n",
    "# we're doing this because in re. there is a bug related to UNICODE "
   ]
  },
  {
   "cell_type": "code",
   "execution_count": 70,
   "id": "d06eb9f4-6ba2-4560-8c9f-ad5e186fc1e8",
   "metadata": {
    "execution": {
     "iopub.execute_input": "2023-01-19T18:06:33.226136Z",
     "iopub.status.busy": "2023-01-19T18:06:33.225137Z",
     "iopub.status.idle": "2023-01-19T18:06:33.248131Z",
     "shell.execute_reply": "2023-01-19T18:06:33.247131Z",
     "shell.execute_reply.started": "2023-01-19T18:06:33.226136Z"
    },
    "tags": []
   },
   "outputs": [
    {
     "data": {
      "text/plain": [
       "['मुझे', 'किताबें', 'पढ़ना', 'बहुत', 'पसंद', 'है']"
      ]
     },
     "execution_count": 70,
     "metadata": {},
     "output_type": "execute_result"
    }
   ],
   "source": [
    "pattern = regex.compile(\"\\w+\")\n",
    "pattern.findall(txt)"
   ]
  },
  {
   "cell_type": "code",
   "execution_count": null,
   "id": "de0cf00a-a453-48d6-9db5-511e1ba98a52",
   "metadata": {},
   "outputs": [],
   "source": []
  },
  {
   "cell_type": "code",
   "execution_count": 71,
   "id": "550481c2-a67f-4b4c-8e94-6005869f5dd3",
   "metadata": {
    "execution": {
     "iopub.execute_input": "2023-01-19T18:08:14.837094Z",
     "iopub.status.busy": "2023-01-19T18:08:14.837094Z",
     "iopub.status.idle": "2023-01-19T18:08:14.849093Z",
     "shell.execute_reply": "2023-01-19T18:08:14.848092Z",
     "shell.execute_reply.started": "2023-01-19T18:08:14.837094Z"
    },
    "tags": []
   },
   "outputs": [
    {
     "name": "stdout",
     "output_type": "stream",
     "text": [
      "\u0000\u0001\u0002\u0003\u0004\u0005\u0006\t\n",
      "\u000e\u000f\u0010\u0011\u0012\u0013\u0014\u0015\u0016\u0017\u0018\u0019\u001a\u001b\u001c",
      "\u001d",
      "\u001e",
      "\u001f !\"#$%&'()*+,-./0123456789:;<=>?@ABCDEFGHIJKLMNOPQRSTUVWXYZ[\\]^_`abcdefghijklmnopqrstuvwxyz{|}~",
      " ¡¢£¤¥¦§¨©ª«¬­®¯°±²³´µ¶·¸¹º»¼½¾¿ÀÁÂÃÄÅÆÇÈÉÊËÌÍÎÏÐÑÒÓÔÕÖ×ØÙÚÛÜÝÞßàáâãäåæçèéêëìíîïðñòóôõö÷øùúûüýþÿ\n"
     ]
    }
   ],
   "source": [
    "chars =  ''.join(chr(i) for i in range(256))\n",
    "print(chars)"
   ]
  },
  {
   "cell_type": "markdown",
   "id": "49e2ebbb-f09e-467b-baf1-deb4c83e1d8d",
   "metadata": {
    "execution": {
     "iopub.execute_input": "2023-01-19T18:12:30.029169Z",
     "iopub.status.busy": "2023-01-19T18:12:30.029169Z",
     "iopub.status.idle": "2023-01-19T18:12:30.046156Z",
     "shell.execute_reply": "2023-01-19T18:12:30.046156Z",
     "shell.execute_reply.started": "2023-01-19T18:12:30.029169Z"
    },
    "tags": []
   },
   "source": [
    "#### Groupping"
   ]
  },
  {
   "cell_type": "code",
   "execution_count": 80,
   "id": "49e3aaeb-431f-4f85-8254-70f0bb32f825",
   "metadata": {
    "execution": {
     "iopub.execute_input": "2023-01-19T18:14:14.397957Z",
     "iopub.status.busy": "2023-01-19T18:14:14.397957Z",
     "iopub.status.idle": "2023-01-19T18:14:14.411990Z",
     "shell.execute_reply": "2023-01-19T18:14:14.410990Z",
     "shell.execute_reply.started": "2023-01-19T18:14:14.397957Z"
    }
   },
   "outputs": [],
   "source": [
    "txt = \"abbbbbabbbb\""
   ]
  },
  {
   "cell_type": "code",
   "execution_count": 84,
   "id": "625f2b3d-fdb1-4160-8a22-fb176695de1c",
   "metadata": {
    "execution": {
     "iopub.execute_input": "2023-01-19T18:16:08.632171Z",
     "iopub.status.busy": "2023-01-19T18:16:08.632171Z",
     "iopub.status.idle": "2023-01-19T18:16:08.639167Z",
     "shell.execute_reply": "2023-01-19T18:16:08.638143Z",
     "shell.execute_reply.started": "2023-01-19T18:16:08.632171Z"
    },
    "tags": []
   },
   "outputs": [
    {
     "name": "stdout",
     "output_type": "stream",
     "text": [
      "\u001b[43m\u001b[1mabbbbb\u001b[0m\u001b[43m\u001b[1mabbbb\u001b[0m\n",
      "\u001b[43m\u001b[1mab\u001b[0mbbbb\u001b[43m\u001b[1mab\u001b[0mbbb\n"
     ]
    }
   ],
   "source": [
    "pattern1 = re.compile(r\"ab+\")\n",
    "pattern2 = re.compile(r\"(ab)+\")\n",
    "highlight_regex_matches(pattern1, txt)\n",
    "highlight_regex_matches(pattern2, txt)"
   ]
  },
  {
   "cell_type": "code",
   "execution_count": 85,
   "id": "b964f157-e72b-47d0-aafe-643f7a0db13a",
   "metadata": {
    "execution": {
     "iopub.execute_input": "2023-01-19T20:47:21.148185Z",
     "iopub.status.busy": "2023-01-19T20:47:21.147166Z",
     "iopub.status.idle": "2023-01-19T20:47:21.155174Z",
     "shell.execute_reply": "2023-01-19T20:47:21.154166Z",
     "shell.execute_reply.started": "2023-01-19T20:47:21.148185Z"
    }
   },
   "outputs": [],
   "source": [
    "txt = \"\"\"\n",
    "my name is ram\n",
    "my name is sam\n",
    "\"\"\""
   ]
  },
  {
   "cell_type": "code",
   "execution_count": 89,
   "id": "dbaa4411-0278-4068-b7e7-ee8fb87ba977",
   "metadata": {
    "execution": {
     "iopub.execute_input": "2023-01-19T20:48:44.703620Z",
     "iopub.status.busy": "2023-01-19T20:48:44.702619Z",
     "iopub.status.idle": "2023-01-19T20:48:44.722628Z",
     "shell.execute_reply": "2023-01-19T20:48:44.722628Z",
     "shell.execute_reply.started": "2023-01-19T20:48:44.703620Z"
    },
    "tags": []
   },
   "outputs": [
    {
     "name": "stdout",
     "output_type": "stream",
     "text": [
      "\n",
      "my \u001b[43m\u001b[1mname is ram\u001b[0m\n",
      "my name is \u001b[43m\u001b[1msam\u001b[0m\n",
      "\n"
     ]
    }
   ],
   "source": [
    "pattern = re.compile(r\"name is (ram|sam)\")\n",
    "pattern = re.compile(r\"name is ram|sam\")\n",
    "highlight_regex_matches(pattern, txt)\n"
   ]
  },
  {
   "cell_type": "code",
   "execution_count": 90,
   "id": "4861b52b-42c2-4733-8ff0-4334782fcdcd",
   "metadata": {
    "execution": {
     "iopub.execute_input": "2023-01-19T20:50:14.805414Z",
     "iopub.status.busy": "2023-01-19T20:50:14.805414Z",
     "iopub.status.idle": "2023-01-19T20:50:14.814416Z",
     "shell.execute_reply": "2023-01-19T20:50:14.813412Z",
     "shell.execute_reply.started": "2023-01-19T20:50:14.805414Z"
    }
   },
   "outputs": [],
   "source": [
    "# Capturing group\n",
    "\n",
    "txt = \"12/02/2019\" "
   ]
  },
  {
   "cell_type": "code",
   "execution_count": 148,
   "id": "31c00959-6972-4e91-ae63-d6dbb5bb37b0",
   "metadata": {
    "execution": {
     "iopub.execute_input": "2023-01-19T21:32:52.934966Z",
     "iopub.status.busy": "2023-01-19T21:32:52.934966Z",
     "iopub.status.idle": "2023-01-19T21:32:52.946050Z",
     "shell.execute_reply": "2023-01-19T21:32:52.944993Z",
     "shell.execute_reply.started": "2023-01-19T21:32:52.934966Z"
    },
    "tags": []
   },
   "outputs": [
    {
     "data": {
      "text/plain": [
       "[('12', '02', '2019')]"
      ]
     },
     "execution_count": 148,
     "metadata": {},
     "output_type": "execute_result"
    }
   ],
   "source": [
    "pattern = re.compile(\"(\\d{2})\\/(\\d{2})\\/(\\d{4})\")\n",
    "matches = list(pattern.finditer(txt))\n",
    "[match.groups() for match in matches]"
   ]
  },
  {
   "cell_type": "code",
   "execution_count": 128,
   "id": "c84bb2e3-2395-46e7-9304-43a6c167102f",
   "metadata": {
    "execution": {
     "iopub.execute_input": "2023-01-19T21:09:09.918099Z",
     "iopub.status.busy": "2023-01-19T21:09:09.918099Z",
     "iopub.status.idle": "2023-01-19T21:09:09.931100Z",
     "shell.execute_reply": "2023-01-19T21:09:09.930212Z",
     "shell.execute_reply.started": "2023-01-19T21:09:09.918099Z"
    },
    "tags": []
   },
   "outputs": [
    {
     "data": {
      "text/plain": [
       "['12']"
      ]
     },
     "execution_count": 128,
     "metadata": {},
     "output_type": "execute_result"
    }
   ],
   "source": [
    "[match.group(1) for match in match]"
   ]
  },
  {
   "cell_type": "code",
   "execution_count": 129,
   "id": "4084cdfb-67c6-41aa-aa46-dacf8baf8b70",
   "metadata": {
    "execution": {
     "iopub.execute_input": "2023-01-19T21:09:10.678840Z",
     "iopub.status.busy": "2023-01-19T21:09:10.678840Z",
     "iopub.status.idle": "2023-01-19T21:09:10.697842Z",
     "shell.execute_reply": "2023-01-19T21:09:10.696870Z",
     "shell.execute_reply.started": "2023-01-19T21:09:10.678840Z"
    },
    "tags": []
   },
   "outputs": [
    {
     "data": {
      "text/plain": [
       "['02']"
      ]
     },
     "execution_count": 129,
     "metadata": {},
     "output_type": "execute_result"
    }
   ],
   "source": [
    "[match.group(2) for match in match]"
   ]
  },
  {
   "cell_type": "code",
   "execution_count": 141,
   "id": "6d28e952-661f-4ff4-9cdd-583eeb2bb3e6",
   "metadata": {
    "execution": {
     "iopub.execute_input": "2023-01-19T21:20:20.445696Z",
     "iopub.status.busy": "2023-01-19T21:20:20.445696Z",
     "iopub.status.idle": "2023-01-19T21:20:20.466071Z",
     "shell.execute_reply": "2023-01-19T21:20:20.465066Z",
     "shell.execute_reply.started": "2023-01-19T21:20:20.445696Z"
    },
    "tags": []
   },
   "outputs": [
    {
     "data": {
      "text/plain": [
       "('12', '02', '2019')"
      ]
     },
     "execution_count": 141,
     "metadata": {},
     "output_type": "execute_result"
    }
   ],
   "source": [
    "day, month, year = sum([[match.group(1), match.group(2), match.group(3)] for match in matches], [])\n",
    "\n",
    "import itertools\n",
    "day, month, year = list(itertools.chain(*[[match.group(1), match.group(2), match.group(3)] for match in matches]))\n",
    "day, month, year"
   ]
  },
  {
   "cell_type": "code",
   "execution_count": 158,
   "id": "30fd0f54-fb9c-480a-a225-dc3a300ad48e",
   "metadata": {
    "execution": {
     "iopub.execute_input": "2023-01-19T21:35:55.092607Z",
     "iopub.status.busy": "2023-01-19T21:35:55.092607Z",
     "iopub.status.idle": "2023-01-19T21:35:55.115188Z",
     "shell.execute_reply": "2023-01-19T21:35:55.114214Z",
     "shell.execute_reply.started": "2023-01-19T21:35:55.092607Z"
    },
    "tags": []
   },
   "outputs": [
    {
     "data": {
      "text/plain": [
       "('12', '02', '2019')"
      ]
     },
     "execution_count": 158,
     "metadata": {},
     "output_type": "execute_result"
    }
   ],
   "source": [
    "# Capturing group\n",
    "\n",
    "txt = \"12/02/2019\" \n",
    "pattern = re.compile(\"(\\d{2})\\/(\\d{2})\\/(\\d{4})\")\n",
    "match = pattern.match(txt)\n",
    "match.groups()\n",
    "day, month, year = match.groups()\n",
    "day, month, year"
   ]
  },
  {
   "cell_type": "code",
   "execution_count": 160,
   "id": "aa50e6c6-10c9-4704-9e63-c90710a62b10",
   "metadata": {
    "execution": {
     "iopub.execute_input": "2023-01-19T21:37:00.554082Z",
     "iopub.status.busy": "2023-01-19T21:37:00.554082Z",
     "iopub.status.idle": "2023-01-19T21:37:00.566079Z",
     "shell.execute_reply": "2023-01-19T21:37:00.565082Z",
     "shell.execute_reply.started": "2023-01-19T21:37:00.554082Z"
    },
    "tags": []
   },
   "outputs": [],
   "source": [
    "txt = \"\"\"\n",
    "Name: Nikhil\n",
    "Age: 0\n",
    "Roll No.: 15\n",
    "Grade: S\n",
    "\n",
    "Name: Ravi\n",
    "Age: -1\n",
    "Roll No.: 123\n",
    "Grade: K\n",
    "\n",
    "Name: Ram\n",
    "Age: N/A\n",
    "Roll No.: 1\n",
    "Gra\n",
    "\"\"\""
   ]
  },
  {
   "cell_type": "code",
   "execution_count": 162,
   "id": "da34be27-ce3c-4938-b147-c91c86d76edb",
   "metadata": {
    "execution": {
     "iopub.execute_input": "2023-01-19T21:38:56.324724Z",
     "iopub.status.busy": "2023-01-19T21:38:56.324724Z",
     "iopub.status.idle": "2023-01-19T21:38:56.336726Z",
     "shell.execute_reply": "2023-01-19T21:38:56.335728Z",
     "shell.execute_reply.started": "2023-01-19T21:38:56.324724Z"
    },
    "tags": []
   },
   "outputs": [
    {
     "data": {
      "text/plain": [
       "['Nikhil', 'Ravi', 'Ram']"
      ]
     },
     "execution_count": 162,
     "metadata": {},
     "output_type": "execute_result"
    }
   ],
   "source": [
    "pattern = re.compile(r\"Name: (.+)\\n\")\n",
    "matches = pattern.findall(txt)\n",
    "matches"
   ]
  },
  {
   "cell_type": "code",
   "execution_count": 163,
   "id": "ad2dfa8f-67bd-4e71-a0f3-d235a29ab3cd",
   "metadata": {
    "execution": {
     "iopub.execute_input": "2023-01-19T21:40:20.945778Z",
     "iopub.status.busy": "2023-01-19T21:40:20.944786Z",
     "iopub.status.idle": "2023-01-19T21:40:20.962778Z",
     "shell.execute_reply": "2023-01-19T21:40:20.961778Z",
     "shell.execute_reply.started": "2023-01-19T21:40:20.945778Z"
    }
   },
   "outputs": [],
   "source": [
    "txt = \"\"\"\n",
    "Lorem Ipsum is simply dummy text of the printing and typesetting industry.\n",
    "Lorem Ipsum has been the industry's standard dummy text ever since the 1500s!\n",
    "It has survived not only five centuries, but also the leap into electronic typesetting, remaining essentially unchanged.\n",
    "It was popularised in the 1960s with the release of Letraset sheets containing Lorem Ipsum passages\n",
    "More recently with desktop publishing software like Aldus PageMaker including versions of Lorem Ipsum.\"\"\""
   ]
  },
  {
   "cell_type": "code",
   "execution_count": 174,
   "id": "3b57f99d-c32b-410e-ad82-2b7c94d7c6ed",
   "metadata": {
    "execution": {
     "iopub.execute_input": "2023-01-19T21:44:30.828522Z",
     "iopub.status.busy": "2023-01-19T21:44:30.828522Z",
     "iopub.status.idle": "2023-01-19T21:44:30.838520Z",
     "shell.execute_reply": "2023-01-19T21:44:30.838520Z",
     "shell.execute_reply.started": "2023-01-19T21:44:30.828522Z"
    },
    "tags": []
   },
   "outputs": [
    {
     "data": {
      "text/plain": [
       "['Ipsum is simply dummy text of the printing and typesetting industry.',\n",
       " \"Ipsum has been the industry's standard dummy text ever since the 1500s!\",\n",
       " 'Ipsum passages',\n",
       " 'Ipsum.']"
      ]
     },
     "execution_count": 174,
     "metadata": {},
     "output_type": "execute_result"
    }
   ],
   "source": [
    "pattern = re.compile(r\"Lorem (.+)$\", flags=re.M)\n",
    "matches = pattern.findall(txt)\n",
    "matches"
   ]
  },
  {
   "cell_type": "markdown",
   "id": "c2d43290-1491-4076-8be4-c83ce3339479",
   "metadata": {
    "execution": {
     "iopub.execute_input": "2023-01-19T21:43:47.384614Z",
     "iopub.status.busy": "2023-01-19T21:43:47.383617Z",
     "iopub.status.idle": "2023-01-19T21:43:47.398634Z",
     "shell.execute_reply": "2023-01-19T21:43:47.398634Z",
     "shell.execute_reply.started": "2023-01-19T21:43:47.384614Z"
    },
    "tags": []
   },
   "source": [
    "#### Backreferencing"
   ]
  },
  {
   "cell_type": "code",
   "execution_count": 187,
   "id": "bca05320-7235-445a-a33a-4e6141eed86d",
   "metadata": {
    "execution": {
     "iopub.execute_input": "2023-01-19T21:49:17.557230Z",
     "iopub.status.busy": "2023-01-19T21:49:17.556219Z",
     "iopub.status.idle": "2023-01-19T21:49:17.564226Z",
     "shell.execute_reply": "2023-01-19T21:49:17.563217Z",
     "shell.execute_reply.started": "2023-01-19T21:49:17.556219Z"
    },
    "tags": []
   },
   "outputs": [],
   "source": [
    "txt = \"\"\"\n",
    "hello hello\n",
    "how are you\n",
    "bye bye\n",
    "\"\"\""
   ]
  },
  {
   "cell_type": "code",
   "execution_count": 188,
   "id": "253a8b8c-bd65-4b75-afc2-4c68ad8e7d98",
   "metadata": {
    "execution": {
     "iopub.execute_input": "2023-01-19T21:49:17.981909Z",
     "iopub.status.busy": "2023-01-19T21:49:17.981909Z",
     "iopub.status.idle": "2023-01-19T21:49:17.990909Z",
     "shell.execute_reply": "2023-01-19T21:49:17.990909Z",
     "shell.execute_reply.started": "2023-01-19T21:49:17.981909Z"
    },
    "tags": []
   },
   "outputs": [
    {
     "data": {
      "text/plain": [
       "['hello', 'bye']"
      ]
     },
     "execution_count": 188,
     "metadata": {},
     "output_type": "execute_result"
    }
   ],
   "source": [
    "pattern = re.compile(r\"(\\w+)\\s\\1\")\n",
    "pattern.findall(txt)"
   ]
  },
  {
   "cell_type": "code",
   "execution_count": 224,
   "id": "7324e989-cdd8-4bc5-a6d5-47024fa86d4e",
   "metadata": {
    "execution": {
     "iopub.execute_input": "2023-01-19T22:09:05.494976Z",
     "iopub.status.busy": "2023-01-19T22:09:05.493984Z",
     "iopub.status.idle": "2023-01-19T22:09:05.498978Z",
     "shell.execute_reply": "2023-01-19T22:09:05.497996Z",
     "shell.execute_reply.started": "2023-01-19T22:09:05.493984Z"
    },
    "tags": []
   },
   "outputs": [],
   "source": [
    "# find all dates with the format dd/mm/yyyy and change them to yyyy-mm-dd format.\n",
    "txt = \"\"\"\n",
    "today is 23/02/2019.\n",
    "yesterday was 22/02/2019.\n",
    "tomorrow is 24/02/2019.\n",
    "\"\"\""
   ]
  },
  {
   "cell_type": "code",
   "execution_count": 225,
   "id": "9fd1dd64-189c-4734-9bc1-d3272b71564a",
   "metadata": {
    "execution": {
     "iopub.execute_input": "2023-01-19T22:09:06.122788Z",
     "iopub.status.busy": "2023-01-19T22:09:06.122788Z",
     "iopub.status.idle": "2023-01-19T22:09:06.131793Z",
     "shell.execute_reply": "2023-01-19T22:09:06.130788Z",
     "shell.execute_reply.started": "2023-01-19T22:09:06.122788Z"
    },
    "tags": []
   },
   "outputs": [
    {
     "data": {
      "text/plain": [
       "[('23', '02', '2019'), ('22', '02', '2019'), ('24', '02', '2019')]"
      ]
     },
     "execution_count": 225,
     "metadata": {},
     "output_type": "execute_result"
    }
   ],
   "source": [
    "import re\n",
    "pattern = re.compile(r\"(\\d{2})/(\\d{2})/(\\d{4})\")\n",
    "pattern.findall(txt)\n",
    "\n"
   ]
  },
  {
   "cell_type": "code",
   "execution_count": 226,
   "id": "374d9fb0-9674-4c05-a966-87b501d4f1be",
   "metadata": {
    "execution": {
     "iopub.execute_input": "2023-01-19T22:09:06.837856Z",
     "iopub.status.busy": "2023-01-19T22:09:06.837856Z",
     "iopub.status.idle": "2023-01-19T22:09:06.851856Z",
     "shell.execute_reply": "2023-01-19T22:09:06.850856Z",
     "shell.execute_reply.started": "2023-01-19T22:09:06.837856Z"
    },
    "tags": []
   },
   "outputs": [
    {
     "name": "stdout",
     "output_type": "stream",
     "text": [
      "\n",
      "today is 2019-02-23.\n",
      "yesterday was 2019-02-22.\n",
      "tomorrow is 2019-02-24.\n",
      "\n"
     ]
    }
   ],
   "source": [
    "# new = pattern.sub(r\"\\3-\\2-\\1\", txt)\n",
    "new = re.sub(pattern, r\"\\3-\\2-\\1\", txt)\n",
    "print(new)"
   ]
  },
  {
   "cell_type": "markdown",
   "id": "d0a24e68-f461-453c-8020-c66e7716cdf8",
   "metadata": {},
   "source": [
    "#### Named Groups"
   ]
  },
  {
   "cell_type": "code",
   "execution_count": 227,
   "id": "1d7aaef6-fdf5-4ae1-9524-aa49d719ced2",
   "metadata": {
    "execution": {
     "iopub.execute_input": "2023-01-20T12:44:45.296069Z",
     "iopub.status.busy": "2023-01-20T12:44:45.295101Z",
     "iopub.status.idle": "2023-01-20T12:44:45.317091Z",
     "shell.execute_reply": "2023-01-20T12:44:45.317091Z",
     "shell.execute_reply.started": "2023-01-20T12:44:45.296069Z"
    }
   },
   "outputs": [],
   "source": [
    "txt = \"Nikhil Kumar\""
   ]
  },
  {
   "cell_type": "code",
   "execution_count": 242,
   "id": "7df8a8ff-5345-4257-8cea-b5b26742fcb5",
   "metadata": {
    "execution": {
     "iopub.execute_input": "2023-01-20T12:50:40.417682Z",
     "iopub.status.busy": "2023-01-20T12:50:40.417682Z",
     "iopub.status.idle": "2023-01-20T12:50:40.425712Z",
     "shell.execute_reply": "2023-01-20T12:50:40.425712Z",
     "shell.execute_reply.started": "2023-01-20T12:50:40.417682Z"
    },
    "tags": []
   },
   "outputs": [
    {
     "data": {
      "text/plain": [
       "'Kumar'"
      ]
     },
     "execution_count": 242,
     "metadata": {},
     "output_type": "execute_result"
    }
   ],
   "source": [
    "pattern = re.compile(r\"(?P<first>\\w+) (?P<last>\\w+)\")\n",
    "match = pattern.match(txt)\n",
    "match.group('first')\n",
    "match.group('last') "
   ]
  },
  {
   "cell_type": "code",
   "execution_count": 246,
   "id": "94dfcaa1-bd7a-4331-bb2f-f2c46d545714",
   "metadata": {
    "execution": {
     "iopub.execute_input": "2023-01-20T12:52:11.048335Z",
     "iopub.status.busy": "2023-01-20T12:52:11.048335Z",
     "iopub.status.idle": "2023-01-20T12:52:11.058339Z",
     "shell.execute_reply": "2023-01-20T12:52:11.058339Z",
     "shell.execute_reply.started": "2023-01-20T12:52:11.048335Z"
    },
    "tags": []
   },
   "outputs": [
    {
     "data": {
      "text/plain": [
       "'Kumar Nikhil'"
      ]
     },
     "execution_count": 246,
     "metadata": {},
     "output_type": "execute_result"
    }
   ],
   "source": [
    "# swap first and last names\n",
    "pattern.sub(r\"\\g<last> \\g<first>\", txt)\n",
    "new_txt = re.sub(pattern, r\"\\g<last> \\g<first>\", txt) # same as above, but clearer\n",
    "new_txt"
   ]
  },
  {
   "cell_type": "code",
   "execution_count": 279,
   "id": "4ddb004b-c144-449d-841a-215499891907",
   "metadata": {
    "execution": {
     "iopub.execute_input": "2023-01-20T13:07:54.497503Z",
     "iopub.status.busy": "2023-01-20T13:07:54.497503Z",
     "iopub.status.idle": "2023-01-20T13:07:54.506501Z",
     "shell.execute_reply": "2023-01-20T13:07:54.506501Z",
     "shell.execute_reply.started": "2023-01-20T13:07:54.497503Z"
    },
    "tags": []
   },
   "outputs": [
    {
     "data": {
      "text/plain": [
       "1"
      ]
     },
     "execution_count": 279,
     "metadata": {},
     "output_type": "execute_result"
    }
   ],
   "source": [
    "# check if a person has the same first and last name\n",
    "txt = \"Jhonson Jhonson\"\n",
    "\n",
    "pattern = re.compile(r\"(?P<first>\\w+) (?P=first)\")\n",
    "\n",
    "# pattern.findall(txt)\n",
    "# pattern.match(txt).group()\n",
    "# pattern.fullmatch(txt).group()\n",
    "# [match.group() for match in pattern.finditer(txt)]\n",
    "\n"
   ]
  },
  {
   "cell_type": "code",
   "execution_count": 279,
   "id": "73962278",
   "metadata": {
    "execution": {
     "iopub.execute_input": "2023-01-20T13:07:54.497503Z",
     "iopub.status.busy": "2023-01-20T13:07:54.497503Z",
     "iopub.status.idle": "2023-01-20T13:07:54.506501Z",
     "shell.execute_reply": "2023-01-20T13:07:54.506501Z",
     "shell.execute_reply.started": "2023-01-20T13:07:54.497503Z"
    },
    "tags": []
   },
   "outputs": [
    {
     "data": {
      "text/plain": [
       "1"
      ]
     },
     "execution_count": 279,
     "metadata": {},
     "output_type": "execute_result"
    }
   ],
   "source": [
    "# check if a person has the same first and last name\n",
    "txt = \"Jhonson Jhonson\"\n",
    "\n",
    "pattern = re.compile(r\"(?P<first>\\w+) (?P=first)\")\n",
    "\n",
    "# pattern.findall(txt)\n",
    "# pattern.match(txt).group()\n",
    "# pattern.fullmatch(txt).group()\n",
    "# [match.group() for match in pattern.finditer(txt)]\n",
    "\n"
   ]
  },
  {
   "cell_type": "markdown",
   "id": "60d219c2-429f-4263-a346-f5a0fe3f56f8",
   "metadata": {},
   "source": [
    "#### Non-matching groups"
   ]
  },
  {
   "cell_type": "code",
   "execution_count": 282,
   "id": "595f9690-8579-4ca0-8c38-13e0eb2dff67",
   "metadata": {
    "execution": {
     "iopub.execute_input": "2023-01-20T13:10:24.424666Z",
     "iopub.status.busy": "2023-01-20T13:10:24.423674Z",
     "iopub.status.idle": "2023-01-20T13:10:24.433662Z",
     "shell.execute_reply": "2023-01-20T13:10:24.432695Z",
     "shell.execute_reply.started": "2023-01-20T13:10:24.424666Z"
    },
    "tags": []
   },
   "outputs": [],
   "source": [
    "txt = \"\"\"\n",
    "i love cats\n",
    "i love dogs\n",
    "\"\"\""
   ]
  },
  {
   "cell_type": "code",
   "execution_count": 290,
   "id": "4961cecb-d837-4068-9a6e-e7737f211fe0",
   "metadata": {
    "execution": {
     "iopub.execute_input": "2023-01-20T13:14:11.810100Z",
     "iopub.status.busy": "2023-01-20T13:14:11.810100Z",
     "iopub.status.idle": "2023-01-20T13:14:11.821129Z",
     "shell.execute_reply": "2023-01-20T13:14:11.821129Z",
     "shell.execute_reply.started": "2023-01-20T13:14:11.810100Z"
    },
    "tags": []
   },
   "outputs": [
    {
     "data": {
      "text/plain": [
       "['cats', 'dogs']"
      ]
     },
     "execution_count": 290,
     "metadata": {},
     "output_type": "execute_result"
    }
   ],
   "source": [
    "pattern = re.compile(\"I love (cats|dogs)\", flags=re.I)\n",
    "\n",
    "pattern.findall(txt)"
   ]
  },
  {
   "cell_type": "code",
   "execution_count": 291,
   "id": "8c6e21cb-92fc-4f12-971b-abe96ae9273e",
   "metadata": {
    "execution": {
     "iopub.execute_input": "2023-01-20T13:14:12.414788Z",
     "iopub.status.busy": "2023-01-20T13:14:12.414788Z",
     "iopub.status.idle": "2023-01-20T13:14:12.435826Z",
     "shell.execute_reply": "2023-01-20T13:14:12.434827Z",
     "shell.execute_reply.started": "2023-01-20T13:14:12.414788Z"
    },
    "tags": []
   },
   "outputs": [
    {
     "name": "stdout",
     "output_type": "stream",
     "text": [
      "Complete regex match (default): i love cats\n",
      "Match captured by 1st group: cats\n",
      "Complete regex match (default): i love dogs\n",
      "Match captured by 1st group: dogs\n"
     ]
    }
   ],
   "source": [
    "for match in pattern.finditer(txt):\n",
    "    print(\"Complete regex match (default):\", match.group(0))\n",
    "    print(\"Match captured by 1st group:\", match.group(1))"
   ]
  },
  {
   "cell_type": "code",
   "execution_count": 295,
   "id": "93d58986-35d8-4839-9e3d-89c995120c71",
   "metadata": {
    "execution": {
     "iopub.execute_input": "2023-01-20T13:16:32.827553Z",
     "iopub.status.busy": "2023-01-20T13:16:32.827553Z",
     "iopub.status.idle": "2023-01-20T13:16:32.843506Z",
     "shell.execute_reply": "2023-01-20T13:16:32.842533Z",
     "shell.execute_reply.started": "2023-01-20T13:16:32.827553Z"
    },
    "tags": []
   },
   "outputs": [
    {
     "data": {
      "text/plain": [
       "['i love cats', 'i love dogs']"
      ]
     },
     "execution_count": 295,
     "metadata": {},
     "output_type": "execute_result"
    }
   ],
   "source": [
    "# with non-capturing groups the match object will not have any group, so we can only use group()\n",
    "pattern = re.compile(\"I love (?:cats|dogs)\", flags=re.I)\n",
    "[match.group() for match in pattern.finditer(txt)]"
   ]
  },
  {
   "attachments": {
    "f31ce617-c6a2-4a20-bb69-f88cd90ad9b0.png": {
     "image/png": "[encoded data removed]"
    }
   },
   "cell_type": "markdown",
   "id": "0acd133e-be03-42c4-88a6-0b870bff3849",
   "metadata": {
    "execution": {
     "iopub.execute_input": "2023-01-20T13:22:09.678068Z",
     "iopub.status.busy": "2023-01-20T13:22:09.677082Z",
     "iopub.status.idle": "2023-01-20T13:22:09.696067Z",
     "shell.execute_reply": "2023-01-20T13:22:09.695065Z",
     "shell.execute_reply.started": "2023-01-20T13:22:09.678068Z"
    }
   },
   "source": [
    "#### Look Around, Positive / Negative Look ahead, Positive / Negative Look behind\n",
    "![image.png](attachment:f31ce617-c6a2-4a20-bb69-f88cd90ad9b0.png)"
   ]
  },
  {
   "cell_type": "markdown",
   "id": "b84b70a5-a035-4148-9a52-896b763de8be",
   "metadata": {},
   "source": [
    "##### Look Ahead"
   ]
  },
  {
   "cell_type": "code",
   "execution_count": 297,
   "id": "f96cd1dd-b2af-438c-af56-7e8ab51d4a05",
   "metadata": {
    "execution": {
     "iopub.execute_input": "2023-01-20T13:24:08.102360Z",
     "iopub.status.busy": "2023-01-20T13:24:08.102360Z",
     "iopub.status.idle": "2023-01-20T13:24:08.112359Z",
     "shell.execute_reply": "2023-01-20T13:24:08.112359Z",
     "shell.execute_reply.started": "2023-01-20T13:24:08.102360Z"
    }
   },
   "outputs": [],
   "source": [
    "txt = \"i love python, i love regex\""
   ]
  },
  {
   "cell_type": "code",
   "execution_count": 299,
   "id": "e4913c67-1ba3-424a-9ebd-b34c4f672a41",
   "metadata": {
    "execution": {
     "iopub.execute_input": "2023-01-20T13:25:10.411721Z",
     "iopub.status.busy": "2023-01-20T13:25:10.411721Z",
     "iopub.status.idle": "2023-01-20T13:25:10.431748Z",
     "shell.execute_reply": "2023-01-20T13:25:10.431748Z",
     "shell.execute_reply.started": "2023-01-20T13:25:10.411721Z"
    },
    "tags": []
   },
   "outputs": [
    {
     "data": {
      "text/plain": [
       "(17, 27)"
      ]
     },
     "execution_count": 299,
     "metadata": {},
     "output_type": "execute_result"
    }
   ],
   "source": [
    "pattern =re.compile(r\"love regex\")\n",
    "match = pattern.search(txt)\n",
    "match.span()"
   ]
  },
  {
   "cell_type": "code",
   "execution_count": 300,
   "id": "aef67959-eb0c-42db-986e-53d453f62dbf",
   "metadata": {
    "execution": {
     "iopub.execute_input": "2023-01-20T13:25:18.013554Z",
     "iopub.status.busy": "2023-01-20T13:25:18.013554Z",
     "iopub.status.idle": "2023-01-20T13:25:18.022553Z",
     "shell.execute_reply": "2023-01-20T13:25:18.022553Z",
     "shell.execute_reply.started": "2023-01-20T13:25:18.013554Z"
    },
    "tags": []
   },
   "outputs": [
    {
     "data": {
      "text/plain": [
       "['love regex']"
      ]
     },
     "execution_count": 300,
     "metadata": {},
     "output_type": "execute_result"
    }
   ],
   "source": [
    "pattern.findall(txt)"
   ]
  },
  {
   "cell_type": "code",
   "execution_count": 301,
   "id": "055ddb60-6a0b-45d1-9fff-681c1b32825a",
   "metadata": {
    "execution": {
     "iopub.execute_input": "2023-01-20T13:25:39.540879Z",
     "iopub.status.busy": "2023-01-20T13:25:39.540879Z",
     "iopub.status.idle": "2023-01-20T13:25:39.553914Z",
     "shell.execute_reply": "2023-01-20T13:25:39.552909Z",
     "shell.execute_reply.started": "2023-01-20T13:25:39.540879Z"
    },
    "tags": []
   },
   "outputs": [
    {
     "name": "stdout",
     "output_type": "stream",
     "text": [
      "i love python, i \u001b[43m\u001b[1mlove regex\u001b[0m\n"
     ]
    }
   ],
   "source": [
    "highlight_regex_matches(pattern, txt)"
   ]
  },
  {
   "cell_type": "code",
   "execution_count": 302,
   "id": "e5cecc66-f2a6-49ba-8877-a8e3921ee9be",
   "metadata": {
    "execution": {
     "iopub.execute_input": "2023-01-20T13:27:52.949400Z",
     "iopub.status.busy": "2023-01-20T13:27:52.949400Z",
     "iopub.status.idle": "2023-01-20T13:27:52.962400Z",
     "shell.execute_reply": "2023-01-20T13:27:52.961400Z",
     "shell.execute_reply.started": "2023-01-20T13:27:52.949400Z"
    },
    "tags": []
   },
   "outputs": [
    {
     "data": {
      "text/plain": [
       "(17, 21)"
      ]
     },
     "execution_count": 302,
     "metadata": {},
     "output_type": "execute_result"
    }
   ],
   "source": [
    "# positive look ahead: match \"love\" only if it's followed by \" regex\"\n",
    "pattern = re.compile(r\"love(?=\\sregex)\") \n",
    "match = pattern.search(txt)\n",
    "match.span()"
   ]
  },
  {
   "cell_type": "code",
   "execution_count": 303,
   "id": "94354be2-613e-4682-8a9f-1638aa617dc2",
   "metadata": {
    "execution": {
     "iopub.execute_input": "2023-01-20T13:28:20.608563Z",
     "iopub.status.busy": "2023-01-20T13:28:20.608563Z",
     "iopub.status.idle": "2023-01-20T13:28:20.625589Z",
     "shell.execute_reply": "2023-01-20T13:28:20.625589Z",
     "shell.execute_reply.started": "2023-01-20T13:28:20.608563Z"
    },
    "tags": []
   },
   "outputs": [
    {
     "name": "stdout",
     "output_type": "stream",
     "text": [
      "i love python, i \u001b[43m\u001b[1mlove\u001b[0m regex\n"
     ]
    }
   ],
   "source": [
    "highlight_regex_matches(pattern, txt)"
   ]
  },
  {
   "cell_type": "code",
   "execution_count": 306,
   "id": "dae1eb79-e99f-4ef8-b010-04626cdb5641",
   "metadata": {
    "execution": {
     "iopub.execute_input": "2023-01-20T13:35:13.875678Z",
     "iopub.status.busy": "2023-01-20T13:35:13.875678Z",
     "iopub.status.idle": "2023-01-20T13:35:13.886678Z",
     "shell.execute_reply": "2023-01-20T13:35:13.885676Z",
     "shell.execute_reply.started": "2023-01-20T13:35:13.875678Z"
    },
    "tags": []
   },
   "outputs": [
    {
     "name": "stdout",
     "output_type": "stream",
     "text": [
      "My favorite colors are \u001b[43m\u001b[1mred\u001b[0m, \u001b[43m\u001b[1mgreen\u001b[0m, and \u001b[43m\u001b[1mblue\u001b[0m.\n"
     ]
    }
   ],
   "source": [
    "# another example of a positive look ahead\n",
    "# find all words in given text ONLY IF are followed by `.` or `,`\n",
    "\n",
    "txt = \"My favorite colors are red, green, and blue.\"\n",
    "pattern = re.compile(r\"\\w+(?=[\\.,])\")\n",
    "# pattern = re.compile(r\"\\w+(?=\\.|,)\") # the same as above\n",
    "match = pattern.search(txt)\n",
    "match\n",
    "highlight_regex_matches(pattern, txt)"
   ]
  },
  {
   "cell_type": "code",
   "execution_count": 309,
   "id": "e43a2d95-a64a-4d8c-8cf8-f6eb7a36e1bd",
   "metadata": {
    "execution": {
     "iopub.execute_input": "2023-01-20T13:42:29.494794Z",
     "iopub.status.busy": "2023-01-20T13:42:29.494794Z",
     "iopub.status.idle": "2023-01-20T13:42:29.505795Z",
     "shell.execute_reply": "2023-01-20T13:42:29.504794Z",
     "shell.execute_reply.started": "2023-01-20T13:42:29.494794Z"
    },
    "tags": []
   },
   "outputs": [
    {
     "data": {
      "text/plain": [
       "(2, 6)"
      ]
     },
     "execution_count": 309,
     "metadata": {},
     "output_type": "execute_result"
    }
   ],
   "source": [
    "# negative look ahead: match \"love\" only if it is NOT followed by \" regex\"\n",
    "txt = \"i love python, i love regex\"\n",
    "\n",
    "pattern = re.compile(r\"love(?!\\sregex)\") \n",
    "match = pattern.search(txt)\n",
    "match.span()"
   ]
  },
  {
   "cell_type": "code",
   "execution_count": 308,
   "id": "01f24d9f-250a-44a6-a6fb-6854152e51b9",
   "metadata": {
    "execution": {
     "iopub.execute_input": "2023-01-20T13:37:48.619443Z",
     "iopub.status.busy": "2023-01-20T13:37:48.618443Z",
     "iopub.status.idle": "2023-01-20T13:37:48.630443Z",
     "shell.execute_reply": "2023-01-20T13:37:48.629470Z",
     "shell.execute_reply.started": "2023-01-20T13:37:48.619443Z"
    },
    "tags": []
   },
   "outputs": [
    {
     "name": "stdout",
     "output_type": "stream",
     "text": [
      "i \u001b[43m\u001b[1mlove\u001b[0m python, i love regex\n"
     ]
    }
   ],
   "source": [
    "highlight_regex_matches(pattern, txt)"
   ]
  },
  {
   "cell_type": "markdown",
   "id": "d5e84bab-62f2-4769-ae0d-1de69ab7a755",
   "metadata": {
    "execution": {
     "iopub.execute_input": "2023-01-20T14:46:48.308797Z",
     "iopub.status.busy": "2023-01-20T14:46:48.307797Z",
     "iopub.status.idle": "2023-01-20T14:46:48.323823Z",
     "shell.execute_reply": "2023-01-20T14:46:48.322865Z",
     "shell.execute_reply.started": "2023-01-20T14:46:48.308797Z"
    }
   },
   "source": [
    "##### [ ] **Look Behind**\n"
   ]
  },
  {
   "cell_type": "code",
   "execution_count": 312,
   "id": "c39518f5-4b2e-473a-9130-67147c03babd",
   "metadata": {
    "execution": {
     "iopub.execute_input": "2023-01-20T16:12:39.335547Z",
     "iopub.status.busy": "2023-01-20T16:12:39.335547Z",
     "iopub.status.idle": "2023-01-20T16:12:39.356545Z",
     "shell.execute_reply": "2023-01-20T16:12:39.355545Z",
     "shell.execute_reply.started": "2023-01-20T16:12:39.335547Z"
    },
    "tags": []
   },
   "outputs": [
    {
     "name": "stdout",
     "output_type": "stream",
     "text": [
      "love \u001b[43m\u001b[1mregex\u001b[0m or hate \u001b[43m\u001b[1mregex\u001b[0m, can't ignore regex\n"
     ]
    }
   ],
   "source": [
    "# Positive Look behind\n",
    "# find a match for \"regex\" in the given text only if it is preceded by \"love\" or \"hate\".\n",
    "txt = \"love regex or hate regex, can't ignore regex\"\n",
    "pattern = re.compile(r\"(?<=(love|hate)\\s)regex\")\n",
    "highlight_regex_matches(pattern, txt)"
   ]
  },
  {
   "cell_type": "code",
   "execution_count": 313,
   "id": "f87be79b-6bbd-4d93-8edc-0747478cb802",
   "metadata": {
    "execution": {
     "iopub.execute_input": "2023-01-20T16:14:36.426134Z",
     "iopub.status.busy": "2023-01-20T16:14:36.426134Z",
     "iopub.status.idle": "2023-01-20T16:14:36.433130Z",
     "shell.execute_reply": "2023-01-20T16:14:36.432125Z",
     "shell.execute_reply.started": "2023-01-20T16:14:36.426134Z"
    },
    "tags": []
   },
   "outputs": [
    {
     "name": "stdout",
     "output_type": "stream",
     "text": [
      "love regex or hate regex, can't ignore \u001b[43m\u001b[1mregex\u001b[0m\n"
     ]
    }
   ],
   "source": [
    "# Negative Look behind\n",
    "# find a match for \"regex\" in the given text only if it is NOT preceded by \"love\" or \"hate\".\n",
    "pattern = re.compile(r\"(?<!(love|hate)\\s)regex\")\n",
    "highlight_regex_matches(pattern, txt)"
   ]
  },
  {
   "cell_type": "markdown",
   "id": "258db21c-991d-4a2b-b2a2-833cb1ac4e3d",
   "metadata": {
    "execution": {
     "iopub.execute_input": "2023-01-20T16:31:42.994076Z",
     "iopub.status.busy": "2023-01-20T16:31:42.994076Z",
     "iopub.status.idle": "2023-01-20T16:31:43.000099Z",
     "shell.execute_reply": "2023-01-20T16:31:42.999107Z",
     "shell.execute_reply.started": "2023-01-20T16:31:42.994076Z"
    },
    "tags": []
   },
   "source": [
    "#### Other"
   ]
  },
  {
   "cell_type": "code",
   "execution_count": 322,
   "id": "067fbe56-50ca-49c0-9af2-0412b246498c",
   "metadata": {
    "execution": {
     "iopub.execute_input": "2023-01-20T16:47:58.115786Z",
     "iopub.status.busy": "2023-01-20T16:47:58.115786Z",
     "iopub.status.idle": "2023-01-20T16:47:58.131765Z",
     "shell.execute_reply": "2023-01-20T16:47:58.131765Z",
     "shell.execute_reply.started": "2023-01-20T16:47:58.115786Z"
    },
    "tags": []
   },
   "outputs": [
    {
     "data": {
      "text/plain": [
       "False"
      ]
     },
     "execution_count": 322,
     "metadata": {},
     "output_type": "execute_result"
    }
   ],
   "source": [
    "# check if the passed character is a digit \n",
    "def is_digit(n):\n",
    "    return bool(re.fullmatch(r'\\d', n))\n",
    "\n",
    "is_digit(\"13\")"
   ]
  },
  {
   "cell_type": "code",
   "execution_count": 327,
   "id": "f55ef80a-6d01-47f9-8543-de15b25e4c0d",
   "metadata": {
    "execution": {
     "iopub.execute_input": "2023-01-20T16:52:14.810499Z",
     "iopub.status.busy": "2023-01-20T16:52:14.810499Z",
     "iopub.status.idle": "2023-01-20T16:52:14.830480Z",
     "shell.execute_reply": "2023-01-20T16:52:14.829507Z",
     "shell.execute_reply.started": "2023-01-20T16:52:14.810499Z"
    },
    "tags": []
   },
   "outputs": [
    {
     "data": {
      "text/plain": [
       "True"
      ]
     },
     "execution_count": 327,
     "metadata": {},
     "output_type": "execute_result"
    }
   ],
   "source": [
    "txt = \"pop momn\"\n",
    "bool(re.fullmatch(r'pop', txt))\n",
    "# fullmatch() checks the pattern against the whole of the string. An equivalent is\n",
    "bool(re.match(r'pop momn\\Z', txt))\n",
    "\n",
    "####\n",
    "# `match()` checks only at the new line/beginning of the string"
   ]
  },
  {
   "cell_type": "code",
   "execution_count": 330,
   "id": "2a705e7e-f81c-4494-ba68-3306b0f65dba",
   "metadata": {
    "execution": {
     "iopub.execute_input": "2023-01-20T17:17:39.711613Z",
     "iopub.status.busy": "2023-01-20T17:17:39.711613Z",
     "iopub.status.idle": "2023-01-20T17:17:39.730613Z",
     "shell.execute_reply": "2023-01-20T17:17:39.730613Z",
     "shell.execute_reply.started": "2023-01-20T17:17:39.711613Z"
    },
    "tags": []
   },
   "outputs": [],
   "source": [
    "# codewars\n",
    "# substitute every character in text with char if chacarter in text is not empty\n",
    "def contamination(text, char):\n",
    "    pattern = re.compile(r\"[\\d\\w/]\")\n",
    "    if text:\n",
    "        return re.sub(pattern, fr\"{char}\", text)\n",
    "    else:\n",
    "        return text\n",
    "# other better options\n",
    "# def contamination(text, char):\n",
    "#   return re.sub(\".\", char, text)\n",
    "################\n",
    "def contamination(text, char):\n",
    "    return char*len(text)\n",
    "###########################\n"
   ]
  },
  {
   "cell_type": "code",
   "execution_count": 334,
   "id": "48decbbc-3609-489a-9566-add8648d275a",
   "metadata": {
    "execution": {
     "iopub.execute_input": "2023-01-20T17:18:40.727323Z",
     "iopub.status.busy": "2023-01-20T17:18:40.727323Z",
     "iopub.status.idle": "2023-01-20T17:18:40.736310Z",
     "shell.execute_reply": "2023-01-20T17:18:40.736310Z",
     "shell.execute_reply.started": "2023-01-20T17:18:40.727323Z"
    },
    "tags": []
   },
   "outputs": [
    {
     "data": {
      "text/plain": [
       "''"
      ]
     },
     "execution_count": 334,
     "metadata": {},
     "output_type": "execute_result"
    }
   ],
   "source": [
    "# test.assert_equals(contamination(\"abc\",\"z\"), \"zzz\")\n",
    "# test.assert_equals(contamination(\"\",\"z\"), \"\")\n",
    "# test.assert_equals(contamination(\"abc\",\"\"), \"\")\n",
    "# test.assert_equals(contamination(\"_3ebzgh4\",\"&\"), \"&&&&&&&&\")\n",
    "# test.assert_equals(contamination(\"//case\",\" \"), \"      \")\n",
    "contamination(\"//case\",\" \")\n",
    "contamination(\"\",\"z\")"
   ]
  },
  {
   "cell_type": "code",
   "execution_count": 339,
   "id": "1715167a-91c9-41fb-b676-2fee4bc998fd",
   "metadata": {
    "execution": {
     "iopub.execute_input": "2023-01-20T21:50:44.769259Z",
     "iopub.status.busy": "2023-01-20T21:50:44.769259Z",
     "iopub.status.idle": "2023-01-20T21:50:44.788226Z",
     "shell.execute_reply": "2023-01-20T21:50:44.787254Z",
     "shell.execute_reply.started": "2023-01-20T21:50:44.769259Z"
    },
    "tags": []
   },
   "outputs": [],
   "source": [
    "# Write a function that accepts an array of 10 integers (between 0 and 9), \n",
    "# that returns a string of those numbers in the form of a phone number.\n",
    "# create_phone_number([1, 2, 3, 4, 5, 6, 7, 8, 9, 0]) # => returns \"(123) 456-7890\""
   ]
  },
  {
   "cell_type": "code",
   "execution_count": 342,
   "id": "6bbc8eee-f99d-48ed-8016-1291424e5704",
   "metadata": {
    "execution": {
     "iopub.execute_input": "2023-01-20T21:55:14.961623Z",
     "iopub.status.busy": "2023-01-20T21:55:14.960625Z",
     "iopub.status.idle": "2023-01-20T21:55:14.975624Z",
     "shell.execute_reply": "2023-01-20T21:55:14.974624Z",
     "shell.execute_reply.started": "2023-01-20T21:55:14.961623Z"
    },
    "tags": []
   },
   "outputs": [
    {
     "data": {
      "text/plain": [
       "'(111) 111-1111'"
      ]
     },
     "execution_count": 342,
     "metadata": {},
     "output_type": "execute_result"
    }
   ],
   "source": [
    "import re\n",
    "def create_phone_number(n):\n",
    "    pattern = re.compile(r\"^(\\d{3})(\\d{3})(\\d{4})$\")\n",
    "    phone = re.sub(pattern, r\"(\\1) \\2-\\3\", \"\".join(map(str, n)) )\n",
    "    return phone\n",
    "\n",
    "create_phone_number([1, 2, 3, 4, 5, 6, 7, 8, 9, 0])\n",
    "create_phone_number([1, 1, 1, 1, 1, 1, 1, 1, 1, 1])\n",
    "\n",
    "###################### solution #1 form codewars \n",
    "def create_phone_number(n):\n",
    "\treturn \"({}{}{}) {}{}{}-{}{}{}{}\".format(*n)\n",
    "create_phone_number([1, 1, 1, 1, 1, 1, 1, 1, 1, 1])\n",
    "#####################\n",
    "\n"
   ]
  },
  {
   "cell_type": "code",
   "execution_count": null,
   "id": "cb02a91f-9aec-4f97-ab95-3c504e81e4df",
   "metadata": {},
   "outputs": [],
   "source": [
    "# Digital root is the recursive sum of all the digits in a number.\n",
    "\n",
    "# Given n, take the sum of the digits of n. If that value has more than one digit, continue reducing in this way until a single-digit number is produced. The input will be a non-negative integer.\n",
    "\n",
    "#     16  -->  1 + 6 = 7\n",
    "#    942  -->  9 + 4 + 2 = 15  -->  1 + 5 = 6\n",
    "# 132189  -->  1 + 3 + 2 + 1 + 8 + 9 = 24  -->  2 + 4 = 6\n",
    "# 493193  -->  4 + 9 + 3 + 1 + 9 + 3 = 29  -->  2 + 9 = 11  -->  1 + 1 = 2"
   ]
  },
  {
   "cell_type": "code",
   "execution_count": 415,
   "id": "1cff326a-a445-47af-b959-5170969b7ab5",
   "metadata": {
    "execution": {
     "iopub.execute_input": "2023-01-20T23:15:32.717556Z",
     "iopub.status.busy": "2023-01-20T23:15:32.716563Z",
     "iopub.status.idle": "2023-01-20T23:15:32.727592Z",
     "shell.execute_reply": "2023-01-20T23:15:32.727592Z",
     "shell.execute_reply.started": "2023-01-20T23:15:32.717556Z"
    },
    "tags": []
   },
   "outputs": [
    {
     "data": {
      "text/plain": [
       "7"
      ]
     },
     "execution_count": 415,
     "metadata": {},
     "output_type": "execute_result"
    }
   ],
   "source": [
    "\n",
    "def digital_root(n):\n",
    "    pattern = re.compile(r\"\\d+\")\n",
    "    match = pattern.match(str(n))\n",
    "    # if n < 10: return n\n",
    "    droot = sum(list(map(int, match.group())))\n",
    "    while len(str(droot)) != 1:\n",
    "        droot = sum(list(map(int, str(droot))))\n",
    "    return droot\n",
    "\n",
    "digital_root(23344)"
   ]
  },
  {
   "cell_type": "code",
   "execution_count": 418,
   "id": "460dccd8-dd27-461b-b55d-3ed6916c6509",
   "metadata": {
    "execution": {
     "iopub.execute_input": "2023-01-20T23:23:49.873518Z",
     "iopub.status.busy": "2023-01-20T23:23:49.873518Z",
     "iopub.status.idle": "2023-01-20T23:23:49.892517Z",
     "shell.execute_reply": "2023-01-20T23:23:49.892517Z",
     "shell.execute_reply.started": "2023-01-20T23:23:49.873518Z"
    },
    "tags": []
   },
   "outputs": [
    {
     "data": {
      "text/plain": [
       "3"
      ]
     },
     "execution_count": 418,
     "metadata": {},
     "output_type": "execute_result"
    }
   ],
   "source": [
    "# top result from codewars. It uses recursion. It feel like a beautiful solution\n",
    "def digital_root(n):\n",
    "    return n if n < 10 else digital_root(sum(map(int,str(n))))\n",
    "\n",
    "digital_root(2334)"
   ]
  },
  {
   "cell_type": "code",
   "execution_count": 476,
   "id": "cbdb069f-41c1-4513-ab7b-624fe8822050",
   "metadata": {
    "execution": {
     "iopub.execute_input": "2023-01-21T00:47:58.177272Z",
     "iopub.status.busy": "2023-01-21T00:47:58.177272Z",
     "iopub.status.idle": "2023-01-21T00:47:58.189263Z",
     "shell.execute_reply": "2023-01-21T00:47:58.188240Z",
     "shell.execute_reply.started": "2023-01-21T00:47:58.177272Z"
    },
    "tags": []
   },
   "outputs": [
    {
     "data": {
      "text/plain": [
       "-106"
      ]
     },
     "execution_count": 476,
     "metadata": {},
     "output_type": "execute_result"
    }
   ],
   "source": [
    "# Numbers ending with zeros are boring.They might be fun in your world, but not here.\n",
    "# Get rid of them. Only the ending ones.\n",
    "# 1450 -> 145\n",
    "# 960000 -> 96\n",
    "# 1050 -> 105\n",
    "# -1050 -> -105\n",
    "\n",
    "def no_boring_zeros(n):\n",
    "    pattern = re.compile(r\"(0+$)\")\n",
    "    match = pattern.search(str(n))\n",
    "    if n == 0 or not match: return n\n",
    "    else: return int(re.sub(pattern, r\"\", str(n)))\n",
    "\n",
    "no_boring_zeros(-1060)"
   ]
  },
  {
   "cell_type": "code",
   "execution_count": 486,
   "id": "7f738173-7d75-46b5-a858-34acb062de1a",
   "metadata": {
    "execution": {
     "iopub.execute_input": "2023-01-21T00:52:28.068766Z",
     "iopub.status.busy": "2023-01-21T00:52:28.068766Z",
     "iopub.status.idle": "2023-01-21T00:52:28.086782Z",
     "shell.execute_reply": "2023-01-21T00:52:28.085767Z",
     "shell.execute_reply.started": "2023-01-21T00:52:28.068766Z"
    },
    "tags": []
   },
   "outputs": [
    {
     "data": {
      "text/plain": [
       "-135346454"
      ]
     },
     "execution_count": 486,
     "metadata": {},
     "output_type": "execute_result"
    }
   ],
   "source": [
    "# top solution from codewars\n",
    "def no_boring_zeros(n):\n",
    "    return int(str(n).strip(\"0\")) if n else n # or `rstrip(\"0\")`\n",
    "# no_boring_zeros(-1060)\n",
    "# no_boring_zeros(0)\n",
    "# no_boring_zeros(106)\n",
    "# no_boring_zeros(10600000)\n",
    "no_boring_zeros(-135346454)"
   ]
  },
  {
   "cell_type": "code",
   "execution_count": 489,
   "id": "5ac749e3-bcb9-40b0-94f5-aa485fec7e75",
   "metadata": {
    "execution": {
     "iopub.execute_input": "2023-01-21T00:53:28.611900Z",
     "iopub.status.busy": "2023-01-21T00:53:28.611900Z",
     "iopub.status.idle": "2023-01-21T00:53:28.631925Z",
     "shell.execute_reply": "2023-01-21T00:53:28.630904Z",
     "shell.execute_reply.started": "2023-01-21T00:53:28.611900Z"
    },
    "tags": []
   },
   "outputs": [
    {
     "data": {
      "text/plain": [
       "'Tram Via'"
      ]
     },
     "execution_count": 489,
     "metadata": {},
     "output_type": "execute_result"
    }
   ],
   "source": [
    "\"Tram Via\".lstrip(\"Via\")\n",
    "\"sfsdf\"."
   ]
  },
  {
   "cell_type": "code",
   "execution_count": 542,
   "id": "298af6a4-158f-45f5-94fe-69449c2d2e78",
   "metadata": {
    "execution": {
     "iopub.execute_input": "2023-01-23T17:12:41.136495Z",
     "iopub.status.busy": "2023-01-23T17:12:41.136495Z",
     "iopub.status.idle": "2023-01-23T17:12:41.147525Z",
     "shell.execute_reply": "2023-01-23T17:12:41.147525Z",
     "shell.execute_reply.started": "2023-01-23T17:12:41.136495Z"
    },
    "tags": []
   },
   "outputs": [
    {
     "data": {
      "text/plain": [
       "0"
      ]
     },
     "execution_count": 542,
     "metadata": {},
     "output_type": "execute_result"
    }
   ],
   "source": [
    "# implement a function that calculates the sum of the integers inside a string. \n",
    "# string \"The30quick20brown10f0x1203jumps914ov3r1349the102l4zy dog\", the sum of the integers is 3635.\n",
    "\n",
    "# (\\d+) matches every full number in a string, it's greedy. (10, 20, 30, etc..) \n",
    "# (\\d+?) is non-greedy and will match each individual digit (1, 0, 2, 0, 3, 0, etc...)\n",
    "def sum_of_integets_in_string(s):\n",
    "    s = re.sub(r\"\\D+\", \",\", s)\n",
    "    s = re.sub(r\"(^\\D+|\\D+$)\", \"\", s)\n",
    "    return sum(list(map(int,s.split(\",\")))) if s else 0\n",
    "\n",
    "    # print(bool(s))\n",
    "    \n",
    "    \n",
    "\n",
    "\n",
    "sum_of_integets_in_string(\"The30quick20brown10f0x1203jumps914ov3r1349the102l4zy dog\")\n",
    "sum_of_integets_in_string(\"12.4\")\n",
    "sum_of_integets_in_string(\"C4t5 are 4m4z1ng.\")\n",
    "sum_of_integets_in_string(\"Dogs are our best friends.\")\n",
    "\n",
    "#\"Dogs are our best friends.\"\n"
   ]
  },
  {
   "cell_type": "code",
   "execution_count": 535,
   "id": "7efef76a-3a73-4358-a325-acc91bfd40e6",
   "metadata": {
    "execution": {
     "iopub.execute_input": "2023-01-23T17:09:13.897834Z",
     "iopub.status.busy": "2023-01-23T17:09:13.896830Z",
     "iopub.status.idle": "2023-01-23T17:09:13.908800Z",
     "shell.execute_reply": "2023-01-23T17:09:13.907829Z",
     "shell.execute_reply.started": "2023-01-23T17:09:13.897834Z"
    },
    "tags": []
   },
   "outputs": [
    {
     "data": {
      "text/plain": [
       "3635"
      ]
     },
     "execution_count": 535,
     "metadata": {},
     "output_type": "execute_result"
    }
   ],
   "source": [
    "### best solution from codewars\n",
    "def sum_of_integers_in_string(s):\n",
    "    return sum(int(x) for x in re.findall(r\"(\\d+)\", s))\n"
   ]
  },
  {
   "cell_type": "code",
   "execution_count": 56,
   "id": "b9b08493-c073-4014-a91a-c074cee52d0b",
   "metadata": {
    "execution": {
     "iopub.execute_input": "2023-01-23T21:21:09.770184Z",
     "iopub.status.busy": "2023-01-23T21:21:09.770184Z",
     "iopub.status.idle": "2023-01-23T21:21:09.781184Z",
     "shell.execute_reply": "2023-01-23T21:21:09.780213Z",
     "shell.execute_reply.started": "2023-01-23T21:21:09.770184Z"
    },
    "tags": []
   },
   "outputs": [],
   "source": [
    "from pathlib import Path\n",
    "import re\n",
    "\n",
    "l = ['947822/0000905718-00-000053.txt',\n",
    " '947822/0000905718-00-000188.txt',\n",
    " '947822/0000905718-00-000190.txt',\n",
    " '947822/0000905718-00-000267.txt',\n",
    " '947822/0000905718-00-000376.txt',\n",
    " '947822/0000905718-01-000053.txt',\n",
    " '947822/0000905718-99-000320.txt',\n",
    " '947822/0000905718-99-000429.txt',\n",
    " '947822/0000905718-99-000525.txt']"
   ]
  },
  {
   "cell_type": "code",
   "execution_count": 73,
   "id": "224ab2a1-e8a5-495a-8b62-ca15be9866e5",
   "metadata": {
    "execution": {
     "iopub.execute_input": "2023-01-23T21:38:16.178834Z",
     "iopub.status.busy": "2023-01-23T21:38:16.178834Z",
     "iopub.status.idle": "2023-01-23T21:38:16.195815Z",
     "shell.execute_reply": "2023-01-23T21:38:16.194842Z",
     "shell.execute_reply.started": "2023-01-23T21:38:16.178834Z"
    }
   },
   "outputs": [],
   "source": [
    "from regex_utils import highlight_regex_matches"
   ]
  },
  {
   "cell_type": "code",
   "execution_count": 110,
   "id": "ad37c825-7535-441c-9860-43c5386dd05e",
   "metadata": {
    "execution": {
     "iopub.execute_input": "2023-01-23T22:04:53.171475Z",
     "iopub.status.busy": "2023-01-23T22:04:53.170474Z",
     "iopub.status.idle": "2023-01-23T22:04:53.181445Z",
     "shell.execute_reply": "2023-01-23T22:04:53.180465Z",
     "shell.execute_reply.started": "2023-01-23T22:04:53.171475Z"
    },
    "tags": []
   },
   "outputs": [
    {
     "name": "stdout",
     "output_type": "stream",
     "text": [
      "Form 13F Information Table \u001b[43m\u001b[1mValue Total:\u001b[0m \n",
      "\u001b[43m\u001b[1m   $130,850\u001b[0m   (thousands)\n",
      "Value Total:   $130,850\n"
     ]
    }
   ],
   "source": [
    "lines = working_text.splitlines()\n",
    "for index, line in enumerate(lines):\n",
    "    pattern_v_total = re.compile(r\"((Value Total|Total Value)\\s*(:?))\", flags=re.I)\n",
    "    match_v_total = pattern_v_total.search(line)\n",
    "    if match_v_total:\n",
    "        highlight_regex_matches(pattern_v_total, line)\n",
    "        pattern_v_total_amnt = re.compile(r\"((Value Total|Total Value)\\s*(:?).*\\d+)\", flags=re.I)\n",
    "        match_v_total_amnt = pattern_v_total_amnt.search(line)\n",
    "        if match_v_total_amnt:\n",
    "            highlight_regex_matches(pattern_v_total_amnt, line)\n",
    "        else:\n",
    "            pattern_next_line_amnt = re.compile(r\"(.*(\\d+))\", flags=re.I)\n",
    "            match_next_line_amnt = pattern_next_line_amnt.search(lines[index+1])\n",
    "            if match_next_line_amnt:\n",
    "                highlight_regex_matches(pattern_next_line_amnt,lines[index+1])\n",
    "                updated_line = match_v_total.group()+match_next_line_amnt.group() \n",
    "                print(updated_line)\n",
    "                updated_text = re.sub(pattern_v_total,updated_line, text)\n",
    "                "
   ]
  },
  {
   "cell_type": "code",
   "execution_count": 106,
   "id": "8b3f9602-3673-4684-be08-4ab7745f0b5a",
   "metadata": {
    "execution": {
     "iopub.execute_input": "2023-01-23T22:02:09.740885Z",
     "iopub.status.busy": "2023-01-23T22:02:09.740885Z",
     "iopub.status.idle": "2023-01-23T22:02:09.750891Z",
     "shell.execute_reply": "2023-01-23T22:02:09.750891Z",
     "shell.execute_reply.started": "2023-01-23T22:02:09.740885Z"
    },
    "tags": []
   },
   "outputs": [
    {
     "data": {
      "text/plain": [
       "'Value Total:   $130,850'"
      ]
     },
     "execution_count": 106,
     "metadata": {},
     "output_type": "execute_result"
    }
   ],
   "source": [
    "updated_line"
   ]
  },
  {
   "cell_type": "code",
   "execution_count": null,
   "id": "039b13cc-9925-4569-9ad1-6c3da3bfdca6",
   "metadata": {
    "tags": []
   },
   "outputs": [],
   "source": [
    "# print(text)\n",
    "print(updated_text)"
   ]
  },
  {
   "cell_type": "code",
   "execution_count": 124,
   "id": "7eaa2817-44bf-4c9b-9bab-bd028651af07",
   "metadata": {
    "execution": {
     "iopub.execute_input": "2023-01-23T22:27:07.189984Z",
     "iopub.status.busy": "2023-01-23T22:27:07.189984Z",
     "iopub.status.idle": "2023-01-23T22:27:07.336012Z",
     "shell.execute_reply": "2023-01-23T22:27:07.336012Z",
     "shell.execute_reply.started": "2023-01-23T22:27:07.189984Z"
    },
    "tags": []
   },
   "outputs": [
    {
     "name": "stdout",
     "output_type": "stream",
     "text": [
      "CPU times: total: 141 ms\n",
      "Wall time: 136 ms\n"
     ]
    }
   ],
   "source": [
    "%%time\n",
    "\n",
    "filings_676_txt = Path(r\"E:\\app_data\\dropbox_13f_files\\processed_tables\\TR_00_TEST_676_CIK_TXT\")\n",
    "cik = '947822'\n",
    "files = filings_676_txt.rglob(f\"{cik}/*.txt\")  # -03-000131\n",
    "\n",
    "for file in files:\n",
    "    if f\"{cik}/\"+file.name in l:\n",
    "        text = file.read_text()\n",
    "        # select text 200 tokens befire and 200 after the \"Entry Total\" and work with it\n",
    "        pattern = re.compile(r\"(?:^.{1,200})(?:Entry Total:?)(?:.{1,400}$)\", flags=re.M|re.DOTALL)\n",
    "        working_text = (pattern.findall(text)[0])\n",
    "        # print(working_text, sep=\"\\n\")\n",
    "      \n",
    "        lines = working_text.splitlines()\n",
    "        for index, line in enumerate(lines):\n",
    "            pattern_v_total = re.compile(r\"((Value Total|Total Value)\\s*(:?))\", flags=re.I)\n",
    "            match_v_total = pattern_v_total.search(line)\n",
    "            if match_v_total:\n",
    "                pattern_v_total_amnt = re.compile(r\"((Value Total|Total Value)\\s*(:?).*\\d+)\", flags=re.I)\n",
    "                match_v_total_amnt = pattern_v_total_amnt.search(line)\n",
    "                if match_v_total_amnt:\n",
    "                    continue\n",
    "                else:\n",
    "                    pattern_next_line_amnt = re.compile(r\"(.*(\\d+))\", flags=re.I)\n",
    "                    match_next_line_amnt = pattern_next_line_amnt.search(lines[index+1])\n",
    "                    if match_next_line_amnt:\n",
    "                        updated_line = match_v_total.group()+match_next_line_amnt.group() \n",
    "                        updated_text = re.sub(pattern_v_total,updated_line, text)\n",
    "                        # print(updated_text[3500:6000], \"#\" * 10, sep=\"\\n\")\n",
    "                        file.write_text(updated_text)\n"
   ]
  },
  {
   "cell_type": "code",
   "execution_count": 121,
   "id": "e4438084-d0b5-40dd-926b-f8843f91d38c",
   "metadata": {
    "execution": {
     "iopub.execute_input": "2023-01-23T22:20:38.927263Z",
     "iopub.status.busy": "2023-01-23T22:20:38.927263Z",
     "iopub.status.idle": "2023-01-23T22:20:38.942262Z",
     "shell.execute_reply": "2023-01-23T22:20:38.942262Z",
     "shell.execute_reply.started": "2023-01-23T22:20:38.927263Z"
    },
    "tags": []
   },
   "outputs": [
    {
     "data": {
      "text/plain": [
       "'Entry Total:                 926\\n                                        ---------------------------------------\\n                                                       1,950,893\\nForm 13F Information Table Value Total'"
      ]
     },
     "execution_count": 121,
     "metadata": {},
     "output_type": "execute_result"
    }
   ],
   "source": [
    "match.group()\n"
   ]
  },
  {
   "cell_type": "code",
   "execution_count": 130,
   "id": "ae685dc0-13f6-45cc-b03c-e9a480b27555",
   "metadata": {
    "execution": {
     "iopub.execute_input": "2023-01-23T22:41:12.901284Z",
     "iopub.status.busy": "2023-01-23T22:41:12.900283Z",
     "iopub.status.idle": "2023-01-23T22:41:12.915291Z",
     "shell.execute_reply": "2023-01-23T22:41:12.914284Z",
     "shell.execute_reply.started": "2023-01-23T22:41:12.901284Z"
    },
    "tags": []
   },
   "outputs": [
    {
     "name": "stdout",
     "output_type": "stream",
     "text": [
      "\n",
      "Number of Other Included Managers:           0*\n",
      "\n",
      "- --------------------------------------------------------------------------------\n",
      "\n",
      "Form 13F Information Table \u001b[43m\u001b[1mEntry Total:      21\u001b[0m\n",
      "\n",
      "- --------------------------------------------------------------------------------\n",
      "\n",
      "Form 13F Information Table Value Total:   $173,121\n",
      "   $173,121   (thousands)\n",
      "- -------------\n",
      "Form 13F Information Table \u001b[43m\u001b[1mTotal Entry :      21\u001b[0m\n",
      "\n",
      "Form 13F Information Table Total Value :   $173,121\n",
      "\n",
      "\n"
     ]
    }
   ],
   "source": [
    "text = \"\"\"\n",
    "Number of Other Included Managers:           0*\n",
    "\n",
    "- --------------------------------------------------------------------------------\n",
    "\n",
    "Form 13F Information Table Entry Total:      21\n",
    "\n",
    "- --------------------------------------------------------------------------------\n",
    "\n",
    "Form 13F Information Table Value Total:   $173,121\n",
    "   $173,121   (thousands)\n",
    "- -------------\n",
    "Form 13F Information Table Total Entry :      21\n",
    "\n",
    "Form 13F Information Table Total Value :   $173,121\n",
    "\n",
    "\"\"\"\n",
    "pattern = re.compile(r\"(Entry Total|Total Entry(:)?).*\", flags = re.M|re.I)\n",
    "match_entry_total = pattern.search(text)\n",
    "highlight_regex_matches(pattern, text)"
   ]
  },
  {
   "cell_type": "code",
   "execution_count": 173,
   "id": "1f6791b3-37a1-4dc0-8b06-729026ee6af1",
   "metadata": {
    "execution": {
     "iopub.execute_input": "2023-01-24T01:44:00.208327Z",
     "iopub.status.busy": "2023-01-24T01:44:00.208327Z",
     "iopub.status.idle": "2023-01-24T01:44:00.553323Z",
     "shell.execute_reply": "2023-01-24T01:44:00.552323Z",
     "shell.execute_reply.started": "2023-01-24T01:44:00.208327Z"
    },
    "tags": []
   },
   "outputs": [],
   "source": [
    "import re\n",
    "from pathlib import Path\n",
    "import os, sys\n",
    "\n",
    "filings_676_txt = Path(r\"E:\\app_data\\dropbox_13f_files\\processed_tables\\TR_00_TEST_676_CIK_TXT\")\n",
    "# files = filings_676_txt.rglob(\"*.txt\")  \n",
    "files = filings_676_txt.rglob(\"7789/*.txt\") \n",
    "bad_filings = []\n",
    "to_correct_filings = []\n",
    "for file in files:\n",
    "    if re.search(r\"7789\", file.name):\n",
    "        # print(file)\n",
    "        text = file.read_text()\n",
    "                    \n",
    "        if not re.search(r'<?xml', text, flags= re.S|re.I|re.M):\n",
    "            if not re.search(r\"Total Value|Value Total(:?)\", text, flags= re.S|re.I|re.M):\n",
    "                bad_filings.append(file)\n",
    "                if re.search(r\"FINAL TOTALS\", text, flags= re.S|re.I|re.M):\n",
    "                    to_correct_filings.append(file)\n",
    "                    # updated_text = re.sub(r\"FINAL TOTALS\",r\"Value Total\", text)\n",
    "                    # file.write_text(updated_text)\n",
    "                    # print(updated_text[-200:-1], \"#\" * 10, sep=\"\\n\")\n",
    "                    \n",
    "                if re.search(r\"COLUMN TOTALS\", text, flags= re.S|re.I|re.M):\n",
    "                    matches = re.findall(r\"COLUMN TOTALS.*\", text, flags= re.I)\n",
    "                    to_correct_filings.append(file)\n",
    "                    # updated_text = re.sub(r\"FINAL TOTALS\",r\"Value Total\", text)\n",
    "                    # file.write_text(updated_text)\n",
    "                    # print(updated_text[-200:-1], \"#\" * 10, sep=\"\\n\")\n",
    "                    \n",
    "                    # [print(match) for match in matches]\n",
    "                    print(file)\n",
    "                    column_totals = sum([int(re.sub(r'\\D', '', match)) for match in matches])\n",
    "                    # value_total\n",
    "                        \n",
    "                # os.system(\"notepad.exe \"+ file.as_posix())\n",
    "                # i = input(\"did you check the opened file without 'Value Total'?... yes or no\")\n",
    "                # if i == \"yes\":\n",
    "                #     print(f\"file: {file} is finished\")\n",
    "                # else: sys.exit()\n",
    "            \n",
    "                \n",
    "        "
   ]
  },
  {
   "cell_type": "code",
   "execution_count": 175,
   "id": "dcac1de4-06d9-458f-aca0-eb36c84e9fe8",
   "metadata": {
    "execution": {
     "iopub.execute_input": "2023-01-24T01:44:55.836007Z",
     "iopub.status.busy": "2023-01-24T01:44:55.836007Z",
     "iopub.status.idle": "2023-01-24T01:44:55.852001Z",
     "shell.execute_reply": "2023-01-24T01:44:55.851026Z",
     "shell.execute_reply.started": "2023-01-24T01:44:55.836007Z"
    },
    "tags": []
   },
   "outputs": [
    {
     "data": {
      "text/plain": [
       "0"
      ]
     },
     "execution_count": 175,
     "metadata": {},
     "output_type": "execute_result"
    }
   ],
   "source": [
    "len(bad_filings)\n",
    "len(to_correct_filings)\n",
    "# column_totals"
   ]
  },
  {
   "cell_type": "code",
   "execution_count": null,
   "id": "5bf2bc40-bedb-4f31-b328-36c0c560e8a9",
   "metadata": {
    "tags": []
   },
   "outputs": [],
   "source": [
    "%%time\n",
    "import re\n",
    "from pathlib import Path\n",
    "import pandas as pd\n",
    "import os, sys\n",
    "\n",
    "###\n",
    "df_processed = pd.read_parquet(\"df_processed.parquet\")\n",
    "filings_processed = [tuple(x) for x in df_processed.itertuples(index=False, name=None)]\n",
    "###\n",
    "df_to_correct = pd.read_parquet(\"df_to_correct.parquet\")\n",
    "filings_to_correct = [tuple(x) for x in df_to_correct.itertuples(index=False, name=None)]\n",
    "###\n",
    "no_entry_section = {'file': [], 'status': []}\n",
    "no_value_section = []\n",
    "\n",
    "filings_676_txt = Path(r\"E:\\app_data\\dropbox_13f_files\\processed_tables\\TR_00_TEST_676_CIK_TXT\")\n",
    "files = filings_676_txt.rglob(\"*.txt\")  \n",
    "files_list = list(filings_676_txt.rglob(\"*.txt\"))\n",
    "\n",
    "for index, file in enumerate(files_list[:1000]):  \n",
    "    if file.name in df_to_correct.file.to_list():\n",
    "        print(file.name)\n",
    "        text = file.read_text()\n",
    "        # select text 200 tokens befire and 200 after the \"Entry Total\" and work with it\n",
    "        value_pattern = re.compile(r\"(?:^.{1,200})(Total Value|Value Total\\s?:?)(?:.{1,400}$)\",\\\n",
    "                                   flags=re.M|re.DOTALL)\n",
    "        entry_pattern = re.compile(r\"(?:^.{1,200})(Total Entry|Entry Total\\s?:?)(?:.{1,400}$)\", flags=re.M|re.DOTALL)\n",
    "        if entry_pattern.findall(text) and value_pattern.findall(text):\n",
    "            working_text = (entry_pattern.findall(text)[0])\n",
    "            no_entry_section['file'].append(file.name)\n",
    "            no_entry_section['status'].append('yes_entry_yes_value_section')\n",
    "\n",
    "        elif (not entry_pattern.findall(text)) and (not value_pattern.findall(text)):\n",
    "            no_entry_section['file'].append(file.name)\n",
    "            no_entry_section['status'].append('no_entry_no_value_section')\n",
    "            print(f\"No Entry or Value sections\")\n",
    "            # os.system(\"notepad.exe \"+ file.as_posix())\n",
    "            os.system(\"C:\\Program Files\\LibreOffice\\program\\soffice.bin \"+ file.as_posix())\n",
    "            i = input(\"did you correct both Entry and Value Total?... yes or no\")\n",
    "            if i == \"yes\":\n",
    "                print(f\"file: {file} is finished\")\n",
    "                no_entry_section['file'].append(file.name)\n",
    "                no_entry_section['status'].append('yes_entry_yes_value_section')\n",
    "            else: \n",
    "                no_entry_section['file'].append(file.name)\n",
    "                no_entry_section['status'].append('no_entry_no_value_section')\n",
    "                sys.exit()\n",
    "                \n",
    "        elif (not entry_pattern.findall(text)) and value_pattern.findall(text):\n",
    "            working_text = (value_pattern.findall(text)[0])\n",
    "            no_entry_section['file'].append(file.name)\n",
    "            no_entry_section['status'].append('no_entry_yes_value_section')\n",
    "            print(f\"No Entry but with Value sections\")\n",
    "            # os.system(\"notepad.exe \"+ file.as_posix())\n",
    "            os.system(\"C:\\Program Files\\LibreOffice\\program\\soffice.bin \"+ file.as_posix())\n",
    "            i = input(\"did you correct both Entry and Value Total?... yes or no\")\n",
    "            if i == \"yes\":\n",
    "                print(f\"file: {file} is finished\")\n",
    "                no_entry_section['file'].append(file.name)\n",
    "                no_entry_section['status'].append('yes_entry_yes_value_section')\n",
    "            else: \n",
    "                no_entry_section['file'].append(file.name)\n",
    "                no_entry_section['status'].append('no_entry_yes_value_section')\n",
    "                sys.exit()\n",
    "                \n",
    "        elif entry_pattern.findall(text) and (not value_pattern.findall(text)):\n",
    "            working_text = (entry_pattern.findall(text)[0])\n",
    "            no_entry_section['file'].append(file.name)\n",
    "            no_entry_section['status'].append('yes_entry_no_value_section')\n",
    "            print(f\"With Entry but no Value sections\")\n",
    "            # os.system(\"notepad.exe \"+ file.as_posix())\n",
    "            os.system(\"C:\\Program Files\\LibreOffice\\program\\soffice.bin \"+ file.as_posix())\n",
    "            i = input(\"did you correct both Entry and Value Total?... yes or no\")\n",
    "            if i == \"yes\":\n",
    "                print(f\"file: {file} is finished\")\n",
    "                no_entry_section['file'].append(file.name)\n",
    "                no_entry_section['status'].append('yes_entry_yes_value_section')\n",
    "            else: \n",
    "                no_entry_section['file'].append(file.name)\n",
    "                no_entry_section['status'].append('yes_entry_no_value_section')\n",
    "                sys.exit()\n",
    "\n",
    "            \n",
    "        # try:\n",
    "        #     working_text = (entry_pattern.findall(text)[0])\n",
    "        # except:\n",
    "        #     os.system(\"notepad.exe \"+ file.as_posix())\n",
    "        #     i = input(\"did you check the opened file without 'Value Total'?... yes or no\")\n",
    "        #     if i == \"yes\":\n",
    "        #         print(f\"file: {file} is finished\")\n",
    "        #     else: sys.exit()\n",
    "        # print(working_text, sep=\"\\n\")"
   ]
  },
  {
   "cell_type": "code",
   "execution_count": 333,
   "id": "2382a5af-39d4-4537-a4a6-61d21a3c3261",
   "metadata": {
    "execution": {
     "iopub.execute_input": "2023-01-24T23:10:57.640927Z",
     "iopub.status.busy": "2023-01-24T23:10:57.639924Z",
     "iopub.status.idle": "2023-01-24T23:10:58.864427Z",
     "shell.execute_reply": "2023-01-24T23:10:58.863426Z",
     "shell.execute_reply.started": "2023-01-24T23:10:57.640927Z"
    },
    "tags": []
   },
   "outputs": [
    {
     "data": {
      "text/plain": [
       "0"
      ]
     },
     "execution_count": 333,
     "metadata": {},
     "output_type": "execute_result"
    }
   ],
   "source": [
    "f = Path(r\"E:\\app_data\\dropbox_13f_files\\processed_tables\\TR_01_TEST_676_CIK_CSV_REDUCED\\2230-0000002230-00-000003.csv\")\n",
    "# os.system(\"notepad.exe \"+ f.as_posix())\n",
    "\n",
    "# tad = Path(r\"C:\\Users\\yo_fanpc\\AppData\\Local\\Programs\\Tad\\Tad.exe\")\n",
    "# libre = Path(r\"C:\\Program Files\\LibreOffice\\program\\soffice.exe\")\n",
    "# os.system(f\"{libre} \"+ f.as_posix())\n",
    "os.system(f\"code \"+ f.as_posix())"
   ]
  },
  {
   "cell_type": "code",
   "execution_count": null,
   "id": "6615ebfd-d19e-444a-97eb-247006e7840c",
   "metadata": {
    "tags": []
   },
   "outputs": [],
   "source": [
    "pd.DataFrame.from_records(no_entry_section)"
   ]
  },
  {
   "cell_type": "code",
   "execution_count": 334,
   "id": "df2c2e91-798b-4603-9e48-27a833e700a9",
   "metadata": {
    "execution": {
     "iopub.execute_input": "2023-01-25T12:14:55.037954Z",
     "iopub.status.busy": "2023-01-25T12:14:55.036961Z",
     "iopub.status.idle": "2023-01-25T12:14:55.054954Z",
     "shell.execute_reply": "2023-01-25T12:14:55.053954Z",
     "shell.execute_reply.started": "2023-01-25T12:14:55.037954Z"
    },
    "tags": []
   },
   "outputs": [],
   "source": [
    "TR_01_TEST_676_CIK_CSV_REDUCED = Path(r\"E:\\app_data\\dropbox_13f_files\\processed_tables\\TR_01_TEST_676_CIK_CSV_REDUCED\")\n",
    "filings_676_txt = Path(r\"E:\\app_data\\dropbox_13f_files\\processed_tables\\TR_00_TEST_676_CIK_TXT\")\n"
   ]
  },
  {
   "cell_type": "code",
   "execution_count": null,
   "id": "915900ef-7a75-4d79-a9dc-3f2f2f54d260",
   "metadata": {
    "scrolled": true,
    "tags": []
   },
   "outputs": [],
   "source": [
    "files = list(TR_01_TEST_676_CIK_CSV_REDUCED.glob(\"*.csv\"))[0]\n",
    "for csv in files:\n",
    "    print(f\"openning CSV file:... {csv.name} in vscode\", sep=\"\\n\")\n",
    "    os.system(\"code \"+ csv.as_posix())\n",
    "    txt_file = Path(filings_676_txt,f'{csv.name.split(\"-\")[0]}/{\"-\".join(csv.name.split(\"-\")[1:]).split(\".\")[0]}.txt')\n",
    "    print(f\"openning TXT file:... {csv.name} in notepad\", sep=\"\\n\")\n",
    "    os.system(\"notepad.exe \"+ txt_file.as_posix())\n",
    "    i = input(\"did you check and close both files?... yes or no\")\n",
    "    if i == \"yes\":\n",
    "        print(f\"file: {csv} is corrected\")\n",
    "\n",
    "    else: \n",
    "\n",
    "        sys.exit()"
   ]
  },
  {
   "cell_type": "code",
   "execution_count": 364,
   "id": "290d7c81-54db-4f10-8654-8a6ac42cbf4e",
   "metadata": {
    "execution": {
     "iopub.execute_input": "2023-01-25T12:36:34.656472Z",
     "iopub.status.busy": "2023-01-25T12:36:34.656472Z",
     "iopub.status.idle": "2023-01-25T12:36:34.808069Z",
     "shell.execute_reply": "2023-01-25T12:36:34.808069Z",
     "shell.execute_reply.started": "2023-01-25T12:36:34.656472Z"
    },
    "tags": []
   },
   "outputs": [
    {
     "data": {
      "text/plain": [
       "[]"
      ]
     },
     "execution_count": 364,
     "metadata": {},
     "output_type": "execute_result"
    }
   ],
   "source": [
    "csv = Path(r\"1000097-0000919574-00-000478.csv\")\n",
    "list(filings_676_txt.rglob(f'{csv.name.split(\"-\")[0]}/{csv.name.split(\".\")[0]}*.txt'))"
   ]
  },
  {
   "cell_type": "code",
   "execution_count": 360,
   "id": "701e8dac-7e4d-43a3-a235-d26cab3e1aee",
   "metadata": {
    "execution": {
     "iopub.execute_input": "2023-01-25T12:35:43.479336Z",
     "iopub.status.busy": "2023-01-25T12:35:43.479336Z",
     "iopub.status.idle": "2023-01-25T12:35:43.488364Z",
     "shell.execute_reply": "2023-01-25T12:35:43.488364Z",
     "shell.execute_reply.started": "2023-01-25T12:35:43.479336Z"
    },
    "tags": []
   },
   "outputs": [
    {
     "data": {
      "text/plain": [
       "'1000097/0000919574-00-000478*.txt'"
      ]
     },
     "execution_count": 360,
     "metadata": {},
     "output_type": "execute_result"
    }
   ],
   "source": [
    "csv.name.split(\".\")[0]\n",
    "f'{csv.name.split(\"-\")[0]}/{\"-\".join(csv.name.split(\"-\")[1:]).split(\".\")[0]}.txt'"
   ]
  },
  {
   "cell_type": "code",
   "execution_count": 371,
   "id": "2ddccfe8-c8bb-41d0-852f-b0dcc334bf07",
   "metadata": {
    "execution": {
     "iopub.execute_input": "2023-01-25T12:40:09.580536Z",
     "iopub.status.busy": "2023-01-25T12:40:09.580536Z",
     "iopub.status.idle": "2023-01-25T12:40:16.247997Z",
     "shell.execute_reply": "2023-01-25T12:40:16.246997Z",
     "shell.execute_reply.started": "2023-01-25T12:40:09.580536Z"
    },
    "tags": []
   },
   "outputs": [
    {
     "data": {
      "text/plain": [
       "0"
      ]
     },
     "execution_count": 371,
     "metadata": {},
     "output_type": "execute_result"
    }
   ],
   "source": [
    "l = Path(filings_676_txt,f'{csv.name.split(\"-\")[0]}/{\"-\".join(csv.name.split(\"-\")[1:]).split(\".\")[0]}.txt')\n",
    "os.system(\"notepad.exe \"+ l.as_posix())"
   ]
  },
  {
   "cell_type": "code",
   "execution_count": null,
   "id": "b7992e98-68ca-48ed-9d41-5ceab08abe14",
   "metadata": {
    "scrolled": true,
    "tags": []
   },
   "outputs": [],
   "source": [
    "%%time\n",
    "# Checking value data\n",
    "from pathlib import Path\n",
    "import shutil\n",
    "import pandas as pd\n",
    "import polars as pl\n",
    "import pandera as pa\n",
    "\n",
    "selected_cik = [2230,3520,5272,7195,7789,9015,10742,14661,16972,18349,18748,19475,19617,21175,22657,24386,35442,35527,36066,36104,36644,36966,38777,39263,40417,40545,44365,45319,49205,50863,51762,51812,51964,52234,53417,59558,59951,60086,61227,67698,70858,71210,71259,72971,73124,80255,84616,89014,92230,93751,98758,102212,102909,105495,108572,200217,201772,216851,276101,310051,312348,313028,313807,314949,314957,314984,315014,315032,315038,315054,315066,315080,315157,315297,315498,316011,318989,320335,320376,351051,351173,351262,354204,356264,700529,704051,707179,712537,713676,714142,720672,723204,728083,728100,728618,732905,733020,740272,740913,741073,743127,750641,754811,757657,759944,762152,763212,763848,764068,764106,764112,764529,764532,765443,769317,769954,769963,775368,776867,778963,779519,788714,790354,790502,791191,791490,796848,799003,799004,801051,806097,807249,807985,808722,809339,809443,810265,810384,810386,810672,810716,811360,811454,813917,813933,814133,814375,816788,819535,820027,820123,820124,820289,820478,820743,821197,822581,823621,825293,829407,831001,831571,836372,837592,842782,842941,846222,846633,846788,846797,850401,850529,852743,854157,857508,859872,860486,860561,860580,860585,860643,860644,860645,860662,860748,860828,860857,861176,861177,861462,861787,862469,866361,866842,868491,869178,869179,869353,869367,872080,872163,872259,872573,872732,873630,874791,877134,877338,878228,881432,883511,883677,883782,883790,883803,883961,883965,884300,884314,884414,884423,884541,884546,884548,884566,884589,885062,885415,886982,887402,887777,887818,889232,891287,891478,893738,894205,894300,894309,895213,895421,897070,897378,897599,898358,898382,898399,898413,899211,900169,900529,900973,902219,902367,902464,902584,903064,903944,903947,903949,905567,905591,905608,906304,908195,909151,909661,911274,912938,914933,914976,915287,915325,916542,917579,918893,919079,919185,919192,919458,919489,919497,919530,919538,919859,920440,920441,921531,921669,922127,922439,922898,922940,923093,923116,923469,924166,924171,924181,926688,926833,926834,928047,928196,928566,928568,928633,930441,931097,932024,932974,933429,934639,934999,936698,936753,936936,936941,936944,937394,937522,937589,937615,937760,937886,938076,938206,938487,938582,938592,938759,939219,940445,941560,943719,944234,944804,945625,945631,947822,947996,948518,948669,949012,949509,949615,949623,949853,1000097,1000742,1002152,1002672,1002784,1004244,1005354,1005607,1005817,1006364,1006378,1006407,1006435,1007280,1007399,1007524,1008322,1008877,1008894,1008895,1008929,1008937,1009003,1009005,1009012,1009016,1009022,1009076,1009207,1009209,1009232,1009254,1009258,1009262,1010873,1010911,1011443,1011659,1013234,1013536,1013538,1013701,1014306,1014315,1014736,1014738,1015079,1015083,1015086,1015308,1016150,1016287,1016683,1016972,1017115,1017645,1017918,1018331,1018674,1018825,1019231,1020066,1020317,1020580,1020585,1020617,1020918,1021008,1021117,1021223,1021249,1021258,1021642,1021926,1023279,1024716,1025421,1026200,1026710,1027451,1027796,1027817,1029160,1030618,1030815,1031972,1032814,1033225,1033427,1033475,1033505,1033974,1033984,1034184,1034196,1034524,1034541,1034546,1034549,1034642,1034771,1034886,1035350,1035463,1035912,1036248,1036325,1037389,1037558,1037763,1037792,1038661,1039565,1039807,1040190,1040197,1040198,1040210,1040273,1040592,1040762,1041241,1041885,1042046,1044207,1044797,1044905,1044924,1044929,1044936,1046187,1047339,1048921,1049648,1049650,1050442,1050463,1050470,1051359,1052100,1053013,1053054,1053055,1054074,1054425,1054522,1054554,1054677,1055290,1055544,1055963,1055964,1055966,1056053,1056288,1056466,1056488,1056491,1056515,1056516,1056527,1056549,1056559,1056581,1056593,1056807,1056821,1056825,1056827,1056831,1056859,1056958,1056973,1057395,1057439,1058022,1058470,1058800,1059187,1061186,1061768,1062938,1065349,1065350,1066816,1067324,1067926,1067983,1068829,1070134,1071483,1072843,1074027,1074034,1074266,1074273,1076598,1077148,1077583,1078013,1078246,1078658,1078841,1079112,1079114,1079736,1079738,1079930,1080071,1080107,1080117,1080132,1080166,1080171,1080173,1080197,1080201,1080351,1080374,1080380,1080381,1080382,1080386,1080493,1080523,1080628,1080818,1081019,1081198,1082020,1082215,1082327,1082339,1082461,1082491,1082509,1082621,1082917,1083323,1083340,1084207,1084208,1084683,1085041,1085163,1085227,1085601,1085936,1086477,1086483,1086611,1086619,1086762,1086763,1088859,1088875,1088950,1089707,1089755,1089911,1089991,1090413,1091561,1091860,1091923,1092203,1092290,1092351,1092903,1093276,1093589,1094584,1094749,1095836,1096783,1097218,1097278,1097833,1100710,1101250,1102062,1102578,1102598,1103245,1103738,1103804,1103882,1103887,1104186,1104329,1104366,1105468,1105471,1105497,1105837,1105863,1105909,1106129,1106191,1106500,1106505,1106832,1107261,1107310,1108893,1108965,1108969,1109147,1110806,1113629,1114618,1114739,1114928,1115941,1116247,1125727,1125816,1129770,1133219,1134152,1140334,1140771,1142031,1142062,1158583,1389426,1398739,1469219]\n",
    "TR_01_TEST_676_CIK_CSV_REDUCED = Path(r\"E:\\app_data\\dropbox_13f_files\\processed_tables\\TR_01_TEST_676_CIK_CSV_REDUCED\")\n",
    "TR_01_TEST_676_CIK_CSV_ORIGIN_CLEAN = Path(r\"E:\\app_data\\dropbox_13f_files\\processed_tables\\TR_01_TEST_676_CIK_CSV_ORIGIN_CLEAN\")\n",
    "TR_01_TEST_676_CIK_CSV_CLEANED = Path(r\"E:\\app_data\\dropbox_13f_files\\processed_tables\\TR_01_TEST_676_CIK_CSV_CLEANED\")\n",
    "TR_01_FAILURE_CASES_CSV = Path(r\"E:\\app_data\\dropbox_13f_files\\processed_tables\\TR_01_FAILURE_CASES_CSV\")\n",
    "\n",
    "filings_676_txt = Path(r\"E:\\app_data\\dropbox_13f_files\\processed_tables\\TR_00_TEST_676_CIK_TXT\")\n",
    "\n",
    "columns = ['cik', 'cusip9','value', 'shares','rdate', 'fdate',\\\n",
    "           'address', 'form', 'shrsOrPrnAmt', 'putCall', 'nameOfIssuer', 'titleOfClass', 'type', 'dsource']\n",
    "\n",
    "pl_dtypes = {'cusip8': str, 'cusip9': str , 'titleOfClass': str, 'form': str, 'putCall': str,\n",
    "           'shrsOrPrnAmt': str, 'value': pl.Float64, 'shares': pl.Float64, 'type': str, 'nameOfIssuer': str,\n",
    "           'cik' : pl.Int64, 'address': str,  'dsource': str}\n",
    "\n",
    "pd_dtypes_validation = {'cusip9': str , 'titleOfClass': str, 'form': 'category',\n",
    "           'putCall': 'category', 'shrsOrPrnAmt': 'category', 'value': 'float64',\n",
    "           'shares': 'float64', 'type': 'category', 'nameOfIssuer': str,\n",
    "           'cik' : 'int64', 'address': 'category',  'dsource': 'category'}\n",
    "\n",
    "\n",
    "# \"value\": pa.Column('float64', pa.Check(lambda s: s < 1000000), required=True, nullable=False) },\n",
    "value_schema = pa.DataFrameSchema({\n",
    "    \"value\":  pa.Column(float, pa.Check(lambda s: s != 0.0), required=True, nullable=False),\n",
    "    \"shares\": pa.Column(float, pa.Check(lambda s: s != 0.0), required=True, nullable=False)})\n",
    "\n",
    "cleaned = [file.name for file in TR_01_TEST_676_CIK_CSV_CLEANED.glob(\"*.csv\")]\n",
    "origin_clean = [file.name for file in TR_01_TEST_676_CIK_CSV_ORIGIN_CLEAN.glob(\"*.csv\")]\n",
    "files_failures = [file.name.split(\"-\", maxsplit=1)[-1] for file in TR_01_FAILURE_CASES_CSV.glob(\"*.csv\")]\n",
    "# dfs =[]\n",
    "for index, cik in enumerate(selected_cik[:3]):\n",
    "    for file in TR_01_TEST_676_CIK_CSV_ORIGIN_CLEAN.glob(f\"{cik}-*.csv\"):\n",
    "        # if file.name not in set(origin_clean + files_failures + cleaned):\n",
    "            try:\n",
    "                df = pl.read_csv(file, columns=columns, dtypes=pl_dtypes, parse_dates=True) \n",
    "            except Exception as e:\n",
    "                print(f\"Problem reading file... {file.name}\")\n",
    "                print(e)\n",
    "                # os.system(f\"code \"+ file.as_posix())\n",
    "                # i = input(\"did you correct the file?\")\n",
    "                # if i == \"yes\":\n",
    "                #     print(f\"file: {file} is finished\")\n",
    "                #     continue\n",
    "\n",
    "                # else: \n",
    "                #     sys.exit()\n",
    "            df = df.to_pandas().astype(pd_dtypes_validation)\n",
    "            print(f\"CIK: {cik}. Year: {file.name.split('-')[2]}, File: {file.name}.\")\n",
    "            print(f\"mean value: {round(df.value.mean(),1)/1000}M\")\n",
    "            print(f\"max  value: {round(df.value.max(),1)/1000}M\")\n",
    "            print(f\"min  value: {round(df.value.min(),1)/1000}M\")\n",
    "            print(f\"sum  value: {round(df.value.sum(),1)/1000}M\")\n",
    "            print(f\"monotonic : {df.value.is_monotonic}\")\n",
    "            print(f\"kurtosis : {df.value.kurt().round(2)}\")\n",
    "            print(f\"skew : {df.value.skew().round(2)}\")\n",
    "            print(f\"################################\")\n",
    "\n",
    "            try:\n",
    "                value_schema.validate(df) # , lazy=True\n",
    "                print(\"after try\")\n",
    "    #             # df.to_csv(Path.joinpath(TR_01_TEST_676_CIK_CSV_ORIGIN_CLEAN, file.name), index=False)\n",
    "            except pa.errors.SchemaErrors as e:\n",
    "                print(\"from except\")\n",
    "                failure_cases = e.failure_cases\n",
    "                failure_cases = (failure_cases.assign(df_file=file,\n",
    "                                                     df_cik=cik,\n",
    "                                                     df_rdate=df.rdate,\n",
    "                                                     df_fdate=df.fdate,\n",
    "                                                     df_value=df.value,\n",
    "                                                     df_shares=df.shares))\n",
    "    #             failure_cases.to_csv(Path.joinpath(TR_01_FAILURE_CASES_CSV, f\"bad-{file.name}\"), index=False)\n",
    "    #             # bad_dfs.append(failure_cases)\n",
    "    #             cleaned_df = df[~df.index.isin(failure_cases[\"index\"])]\n",
    "    #             cleaned_df.to_csv(Path.joinpath(TR_01_TEST_676_CIK_CSV_CLEANED, file.name), index=False)\n",
    "    #             print(f\"CIK: {cik}. Year: {file.name.split(\"-\")[2]}, File: {file.name}.\")\n",
    "    #             print(f\"Total rows: {df.shape[0]}. Bad rows: {failure_cases.shape[0]}. Clean rows: {cleaned_df.shape[0]}\")\n",
    "    #             print(f\"{round((failure_cases.shape[0] / df.shape[0]) * 100, 2)}% bad rows\", sep=\"\\n############\")\n",
    "    #             # cleaned_dfs.append(cleaned_df)\n",
    "    # df, failure_cases, cleaned_df = (None, None, None)\n",
    "\n",
    "        \n",
    "\n",
    "        # dfs.append(df)\n",
    "        # df = pl.concat(dfs).to_pandas().astype(pd_dtypes_validation)\n",
    "        # df = df.to_pandas().astype(pd_dtypes_validation)"
   ]
  },
  {
   "cell_type": "code",
   "execution_count": 419,
   "id": "e6627e4d-f5c6-48e3-842f-b61fe7bc7325",
   "metadata": {
    "execution": {
     "iopub.execute_input": "2023-01-26T22:16:01.553674Z",
     "iopub.status.busy": "2023-01-26T22:16:01.553674Z",
     "iopub.status.idle": "2023-01-26T22:16:01.569706Z",
     "shell.execute_reply": "2023-01-26T22:16:01.569706Z",
     "shell.execute_reply.started": "2023-01-26T22:16:01.553674Z"
    },
    "tags": []
   },
   "outputs": [
    {
     "data": {
      "text/plain": [
       "3520"
      ]
     },
     "execution_count": 419,
     "metadata": {},
     "output_type": "execute_result"
    }
   ],
   "source": [
    "df.cik.iloc[0]\n",
    "# value_schema = pa.DataFrameSchema({\"value\":  pa.Column(float, pa.Check(lambda s: s != 0.0), required=True, nullable=False),\n",
    "#  \"shares\": pa.Column(float, pa.Check(lambda s: s != 0.0), required=True, nullable=False)})\n",
    "# value_schema.validate(df)\n",
    "# failure_cases"
   ]
  },
  {
   "cell_type": "code",
   "execution_count": 472,
   "id": "d0582566-916e-4930-896c-ef4f5679cd38",
   "metadata": {
    "execution": {
     "iopub.execute_input": "2023-01-29T00:47:18.682724Z",
     "iopub.status.busy": "2023-01-29T00:47:18.682724Z",
     "iopub.status.idle": "2023-01-29T00:47:18.713722Z",
     "shell.execute_reply": "2023-01-29T00:47:18.712750Z",
     "shell.execute_reply.started": "2023-01-29T00:47:18.682724Z"
    },
    "tags": []
   },
   "outputs": [
    {
     "data": {
      "text/html": [
       "<div>\n",
       "<style scoped>\n",
       "    .dataframe tbody tr th:only-of-type {\n",
       "        vertical-align: middle;\n",
       "    }\n",
       "\n",
       "    .dataframe tbody tr th {\n",
       "        vertical-align: top;\n",
       "    }\n",
       "\n",
       "    .dataframe thead th {\n",
       "        text-align: right;\n",
       "    }\n",
       "</style>\n",
       "<table border=\"1\" class=\"dataframe\">\n",
       "  <thead>\n",
       "    <tr style=\"text-align: right;\">\n",
       "      <th></th>\n",
       "      <th>cik</th>\n",
       "      <th>cusip9</th>\n",
       "      <th>value</th>\n",
       "      <th>shares</th>\n",
       "      <th>rdate</th>\n",
       "      <th>fdate</th>\n",
       "      <th>address</th>\n",
       "      <th>form</th>\n",
       "      <th>shrsOrPrnAmt</th>\n",
       "      <th>putCall</th>\n",
       "      <th>nameOfIssuer</th>\n",
       "      <th>titleOfClass</th>\n",
       "      <th>type</th>\n",
       "      <th>dsource</th>\n",
       "    </tr>\n",
       "  </thead>\n",
       "  <tbody>\n",
       "    <tr>\n",
       "      <th>0</th>\n",
       "      <td>3520</td>\n",
       "      <td>00206R102</td>\n",
       "      <td>1853.0</td>\n",
       "      <td>48978.0</td>\n",
       "      <td>2019-09-30</td>\n",
       "      <td>2019-11-14</td>\n",
       "      <td>3520/0001104659-19-063722.txt</td>\n",
       "      <td>13F-HR</td>\n",
       "      <td>SH</td>\n",
       "      <td>NaN</td>\n",
       "      <td>AT&amp;T INC.</td>\n",
       "      <td>Common</td>\n",
       "      <td>xml</td>\n",
       "      <td>dropbox</td>\n",
       "    </tr>\n",
       "    <tr>\n",
       "      <th>1</th>\n",
       "      <td>3520</td>\n",
       "      <td>002824100</td>\n",
       "      <td>430101.0</td>\n",
       "      <td>5140445.0</td>\n",
       "      <td>2019-09-30</td>\n",
       "      <td>2019-11-14</td>\n",
       "      <td>3520/0001104659-19-063722.txt</td>\n",
       "      <td>13F-HR</td>\n",
       "      <td>SH</td>\n",
       "      <td>NaN</td>\n",
       "      <td>ABBOTT LABORATORIES</td>\n",
       "      <td>Common</td>\n",
       "      <td>xml</td>\n",
       "      <td>dropbox</td>\n",
       "    </tr>\n",
       "    <tr>\n",
       "      <th>2</th>\n",
       "      <td>3520</td>\n",
       "      <td>00287Y109</td>\n",
       "      <td>50051.0</td>\n",
       "      <td>660997.0</td>\n",
       "      <td>2019-09-30</td>\n",
       "      <td>2019-11-14</td>\n",
       "      <td>3520/0001104659-19-063722.txt</td>\n",
       "      <td>13F-HR</td>\n",
       "      <td>SH</td>\n",
       "      <td>NaN</td>\n",
       "      <td>ABBVIE INC</td>\n",
       "      <td>Common</td>\n",
       "      <td>xml</td>\n",
       "      <td>dropbox</td>\n",
       "    </tr>\n",
       "    <tr>\n",
       "      <th>3</th>\n",
       "      <td>3520</td>\n",
       "      <td>003654100</td>\n",
       "      <td>95701.0</td>\n",
       "      <td>537980.0</td>\n",
       "      <td>2019-09-30</td>\n",
       "      <td>2019-11-14</td>\n",
       "      <td>3520/0001104659-19-063722.txt</td>\n",
       "      <td>13F-HR</td>\n",
       "      <td>SH</td>\n",
       "      <td>NaN</td>\n",
       "      <td>ABIOMED INC.</td>\n",
       "      <td>Common</td>\n",
       "      <td>xml</td>\n",
       "      <td>dropbox</td>\n",
       "    </tr>\n",
       "    <tr>\n",
       "      <th>4</th>\n",
       "      <td>3520</td>\n",
       "      <td>004225108</td>\n",
       "      <td>36250.0</td>\n",
       "      <td>1007214.0</td>\n",
       "      <td>2019-09-30</td>\n",
       "      <td>2019-11-14</td>\n",
       "      <td>3520/0001104659-19-063722.txt</td>\n",
       "      <td>13F-HR</td>\n",
       "      <td>SH</td>\n",
       "      <td>NaN</td>\n",
       "      <td>ACADIA PHARMACEUTICALS INC</td>\n",
       "      <td>Common</td>\n",
       "      <td>xml</td>\n",
       "      <td>dropbox</td>\n",
       "    </tr>\n",
       "  </tbody>\n",
       "</table>\n",
       "</div>"
      ],
      "text/plain": [
       "    cik     cusip9     value     shares      rdate      fdate  \\\n",
       "0  3520  00206R102    1853.0    48978.0 2019-09-30 2019-11-14   \n",
       "1  3520  002824100  430101.0  5140445.0 2019-09-30 2019-11-14   \n",
       "2  3520  00287Y109   50051.0   660997.0 2019-09-30 2019-11-14   \n",
       "3  3520  003654100   95701.0   537980.0 2019-09-30 2019-11-14   \n",
       "4  3520  004225108   36250.0  1007214.0 2019-09-30 2019-11-14   \n",
       "\n",
       "                         address    form shrsOrPrnAmt putCall  \\\n",
       "0  3520/0001104659-19-063722.txt  13F-HR           SH     NaN   \n",
       "1  3520/0001104659-19-063722.txt  13F-HR           SH     NaN   \n",
       "2  3520/0001104659-19-063722.txt  13F-HR           SH     NaN   \n",
       "3  3520/0001104659-19-063722.txt  13F-HR           SH     NaN   \n",
       "4  3520/0001104659-19-063722.txt  13F-HR           SH     NaN   \n",
       "\n",
       "                 nameOfIssuer titleOfClass type  dsource  \n",
       "0                   AT&T INC.       Common  xml  dropbox  \n",
       "1         ABBOTT LABORATORIES       Common  xml  dropbox  \n",
       "2                  ABBVIE INC       Common  xml  dropbox  \n",
       "3                ABIOMED INC.       Common  xml  dropbox  \n",
       "4  ACADIA PHARMACEUTICALS INC       Common  xml  dropbox  "
      ]
     },
     "execution_count": 472,
     "metadata": {},
     "output_type": "execute_result"
    }
   ],
   "source": [
    "# %pip install -U altair\n",
    "# %pip install \"vegafusion[embed]\"\n",
    "df.head()"
   ]
  },
  {
   "cell_type": "code",
   "execution_count": 5,
   "id": "bfc115ba-1079-4ce2-850e-bdffd332b56e",
   "metadata": {
    "execution": {
     "iopub.execute_input": "2023-01-31T02:42:55.808494Z",
     "iopub.status.busy": "2023-01-31T02:42:55.807495Z",
     "iopub.status.idle": "2023-01-31T02:42:56.291492Z",
     "shell.execute_reply": "2023-01-31T02:42:56.291492Z",
     "shell.execute_reply.started": "2023-01-31T02:42:55.808494Z"
    },
    "tags": []
   },
   "outputs": [
    {
     "data": {
      "application/vnd.jupyter.widget-view+json": {
       "model_id": "b6230b7c011b4f48b1b97f28736193ed",
       "version_major": 2,
       "version_minor": 0
      },
      "text/plain": [
       "VegaFusionWidget(spec='{\\n  \"config\": {\\n    \"view\": {\\n      \"continuousWidth\": 400,\\n      \"continuousHeight…"
      ]
     },
     "metadata": {},
     "output_type": "display_data"
    },
    {
     "data": {
      "text/plain": []
     },
     "execution_count": 5,
     "metadata": {},
     "output_type": "execute_result"
    }
   ],
   "source": [
    "import altair as alt\n",
    "import vegafusion as vf\n",
    "import pandas as pd\n",
    "from pathlib import Path\n",
    "import polars as pl\n",
    "vf.jupyter.enable()\n",
    "# vf.jupyter.disable()\n",
    "\n",
    "\n",
    "# alt.renderers.active == \"vegafusion-widget\" # works\n",
    "# alt.data_transformers.active == 'vegafusion-feather'\n",
    "\n",
    "# alt.renderers.active == \"vegafusion-mime\"\n",
    "# alt.data_transformers.active == 'vegafusion-inline'\n",
    "\n",
    "\n",
    "selected_cik = [2230,3520,5272,7195,7789,9015,10742,14661,16972,18349,18748,19475]\n",
    "TR_01_TEST_676_CIK_CSV_ORIGIN_CLEAN = Path(r\"E:\\app_data\\dropbox_13f_files\\processed_tables\\TR_01_TEST_676_CIK_CSV_ORIGIN_CLEAN\")\n",
    "\n",
    "for index, cik in enumerate(selected_cik[:1]):\n",
    "    for file in TR_01_TEST_676_CIK_CSV_ORIGIN_CLEAN.glob(f\"{cik}-*.csv\"):\n",
    "        # df = pl.read_csv(file, columns=columns, dtypes=pl_dtypes, parse_dates=True) \n",
    "        # df = df.to_pandas().astype(pd_dtypes_validation)\n",
    "        df = pl.read_csv(file,parse_dates=True) \n",
    "        df = df.to_pandas()\n",
    "\n",
    "# df.head()\n",
    "brush = alt.selection(type='interval')\n",
    "points = alt.Chart(df[['cusip9', 'value', 'nameOfIssuer']]).mark_point().encode(\n",
    "    x='cusip9:N',\n",
    "    y='value:Q',\n",
    "    color=alt.condition(brush, 'cusip9', alt.value('lightgray'))).add_selection(brush)\n",
    "# points\n",
    "\n",
    "bars = alt.Chart(df[['cusip9', 'value', 'nameOfIssuer']]).mark_bar().encode(\n",
    "    y='nameOfIssuer:N',\n",
    "    # color='fdate:T',\n",
    "    x='value:Q'\n",
    ").transform_filter(brush)\n",
    "# bars\n",
    "points & bars\n",
    "\n",
    "####\n",
    "from vega_datasets import data\n",
    "\n",
    "source = data.cars()\n",
    "\n",
    "brush = alt.selection(type='interval')\n",
    "points = alt.Chart(source).mark_point().encode(\n",
    "    x='Horsepower',\n",
    "    y='Miles_per_Gallon',\n",
    "    color=alt.condition(brush, 'Origin', alt.value('lightgray'))).add_selection(brush)\n",
    "\n",
    "bars = alt.Chart(source).mark_bar().encode(\n",
    "    y='Origin',\n",
    "    color='Origin',\n",
    "    x='count(Origin)'\n",
    ").transform_filter(\n",
    "    brush\n",
    ")\n",
    "\n",
    "points & bars"
   ]
  },
  {
   "cell_type": "code",
   "execution_count": 3,
   "id": "8f8cae50-c07f-4f66-8a7a-2d17e74da8cd",
   "metadata": {
    "execution": {
     "iopub.execute_input": "2023-01-30T20:37:16.444270Z",
     "iopub.status.busy": "2023-01-30T20:37:16.444270Z",
     "iopub.status.idle": "2023-01-30T20:37:16.456266Z",
     "shell.execute_reply": "2023-01-30T20:37:16.456266Z",
     "shell.execute_reply.started": "2023-01-30T20:37:16.444270Z"
    },
    "tags": []
   },
   "outputs": [],
   "source": [
    "pd.set_option('display.max_columns', 35)\n",
    "pd.set_option(\"display.max_colwidth\",30)\n",
    "pd.set_option(\"display.max_rows\", 100)"
   ]
  },
  {
   "cell_type": "code",
   "execution_count": 193,
   "id": "ac929aa9-0e80-454c-ad46-562030b39448",
   "metadata": {
    "execution": {
     "iopub.execute_input": "2023-01-30T17:46:01.392363Z",
     "iopub.status.busy": "2023-01-30T17:46:01.392363Z",
     "iopub.status.idle": "2023-01-30T17:46:01.441336Z",
     "shell.execute_reply": "2023-01-30T17:46:01.440351Z",
     "shell.execute_reply.started": "2023-01-30T17:46:01.392363Z"
    },
    "tags": []
   },
   "outputs": [],
   "source": [
    "# df1 = pd.read_clipboard(names=['issuer', 'issuertype', 'cusip', 'value', 'shares'], index_col=None)\n",
    "\n",
    "# l0 = (df1.query('value.str.contains(\"-+\", regex=True, na=False)').index).to_list()\n",
    "# l1 = (df1.query('value.str.contains(\"-+\", regex=True, na=False)').index+1).to_list()\n",
    "df1.query(\"~index.isin(@l1) & ~index.isin(@l0)\").dropna(how='all').ffill()\n",
    "df_final = (df1\n",
    "             .query(\"~index.isin(@l1) & ~index.isin(@l0) & cusip.str.len() == 9\")\n",
    "             .dropna(how='all')\n",
    "             .ffill()\n",
    "             .astype({'value':'float64', 'shares':'float64', 'cusip': str}))\n",
    "df_final.head(20)\n",
    "df_final.to_clipboard(sep=',', index=False)"
   ]
  },
  {
   "cell_type": "code",
   "execution_count": 195,
   "id": "d9ace9c1-8810-443b-946b-909224cdac2e",
   "metadata": {
    "execution": {
     "iopub.execute_input": "2023-01-30T17:46:05.196992Z",
     "iopub.status.busy": "2023-01-30T17:46:05.196015Z",
     "iopub.status.idle": "2023-01-30T17:46:05.214019Z",
     "shell.execute_reply": "2023-01-30T17:46:05.213018Z",
     "shell.execute_reply.started": "2023-01-30T17:46:05.196992Z"
    },
    "tags": []
   },
   "outputs": [
    {
     "data": {
      "text/plain": [
       "(2648, 5)"
      ]
     },
     "execution_count": 195,
     "metadata": {},
     "output_type": "execute_result"
    }
   ],
   "source": [
    "df_final.query(\"cusip.str.len() == 9\").shape"
   ]
  }
 ],
 "metadata": {
  "kernelspec": {
   "display_name": "Python 3 (ipykernel)",
   "language": "python",
   "name": "python3"
  },
  "language_info": {
   "codemirror_mode": {
    "name": "ipython",
    "version": 3
   },
   "file_extension": ".py",
   "mimetype": "text/x-python",
   "name": "python",
   "nbconvert_exporter": "python",
   "pygments_lexer": "ipython3",
   "version": "3.9.7"
  }
 },
 "nbformat": 4,
 "nbformat_minor": 5
}
