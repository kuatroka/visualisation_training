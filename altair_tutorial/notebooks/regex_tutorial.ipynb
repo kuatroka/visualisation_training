{
 "cells": [
  {
   "cell_type": "code",
   "execution_count": 234,
   "id": "72692020-2402-4b86-b30e-bf6eba1aa491",
   "metadata": {
    "execution": {
     "iopub.execute_input": "2023-01-13T23:53:24.483502Z",
     "iopub.status.busy": "2023-01-13T23:53:24.482516Z",
     "iopub.status.idle": "2023-01-13T23:53:24.498513Z",
     "shell.execute_reply": "2023-01-13T23:53:24.497502Z",
     "shell.execute_reply.started": "2023-01-13T23:53:24.483502Z"
    },
    "tags": []
   },
   "outputs": [],
   "source": [
    "text_string = \"\"\"\n",
    "\n",
    "Form 13F Information Table Entry Total:                 659\n",
    "                                        ---------------------------------------\n",
    "                                                     2,403,697\n",
    "Form 13F Information Table Value Total: -------------------------------------- 1,456 1456\n",
    "                                                    (thousands) $2,403,697\n",
    "Form 13F Information Table Total Value: -------------------------------------- 1,456 1456\n",
    "                                                    (thousands) $2,403,697.00\n",
    " \"\"\"\n",
    "\n",
    "cast_to_bytecode = text_string.encode() # decodes into bytecode `.decode('utf-8')`\n",
    "text_raw = fr\"{text_string}\" # encodes string to raw text. Pretty cool tip on use `fr` together. Never seen it before"
   ]
  },
  {
   "cell_type": "code",
   "execution_count": 235,
   "id": "89531b98-5378-4e4f-9fcc-635543a24156",
   "metadata": {
    "execution": {
     "iopub.execute_input": "2023-01-13T23:53:25.023270Z",
     "iopub.status.busy": "2023-01-13T23:53:25.022276Z",
     "iopub.status.idle": "2023-01-13T23:53:25.030254Z",
     "shell.execute_reply": "2023-01-13T23:53:25.029248Z",
     "shell.execute_reply.started": "2023-01-13T23:53:25.023270Z"
    },
    "tags": []
   },
   "outputs": [
    {
     "data": {
      "text/plain": [
       "'\\n\\nForm 13F Information Table Entry Total:                 659\\n                                        ---------------------------------------\\n                                                     2,403,697\\nForm 13F Information Table Value Total: -------------------------------------- 1,456 1456\\n                                                    (thousands) $2,403,697\\nForm 13F Information Table Total Value: -------------------------------------- 1,456 1456\\n                                                    (thousands) $2,403,697.00\\n '"
      ]
     },
     "execution_count": 235,
     "metadata": {},
     "output_type": "execute_result"
    }
   ],
   "source": [
    "# text_raw\n",
    "text_string\n",
    "# text_string.encode()"
   ]
  },
  {
   "cell_type": "code",
   "execution_count": 238,
   "id": "7e1d3a53-ebab-4926-9fc8-fd280a515fe7",
   "metadata": {
    "execution": {
     "iopub.execute_input": "2023-01-13T23:54:21.186602Z",
     "iopub.status.busy": "2023-01-13T23:54:21.186602Z",
     "iopub.status.idle": "2023-01-13T23:54:21.207604Z",
     "shell.execute_reply": "2023-01-13T23:54:21.206603Z",
     "shell.execute_reply.started": "2023-01-13T23:54:21.186602Z"
    },
    "tags": []
   },
   "outputs": [
    {
     "data": {
      "text/plain": [
       "['13',\n",
       " '659',\n",
       " '2,403,697',\n",
       " '13',\n",
       " '1,456',\n",
       " '1456',\n",
       " '2,403,697',\n",
       " '13',\n",
       " '1,456',\n",
       " '1456',\n",
       " '2,403,697.00']"
      ]
     },
     "execution_count": 238,
     "metadata": {},
     "output_type": "execute_result"
    }
   ],
   "source": [
    "import re\n",
    "string = \"\"\"\n",
    "abc-1000?der \n",
    "\n",
    "How about a NO! or 20 times NO.\n",
    "\"\"\"\n",
    "string2 = \"\"\"dgsfdgsdg dfgdsfg \"30\",2014-08-08,\"100\",\"MT\",\"8\",\"3624\",\"#\",\"#\",1\"\"\"\n",
    "string3 = \"\"\"dgsfdgsdg dfgdsfg, 30 2014-08-08, 100 MT 8 3624 # # 1\n",
    "How about a NO! or 20 times NO.\"\"\"\n",
    "string4 = \"\"\"0828041930\t72\t0:5493513263615:1:1\t0:3513263615:2:1\t0:5491124970159:1:1\t\t0\t9\t14\t841\tSMPP.841:1\t1.0\t0\t0\t\"\"\"\n",
    "\n",
    "# \\d - digit in the string\n",
    "# \\d+ - matches all individual full digits/words with digits only, but it also means 1,345,555 is extracted as ['1', '345', '555']\n",
    "# \\d* - as `\\d+` plus every white space \"\" in the string ['',  '','','','1', '','','659','','', ''] etc\n",
    "# \\D - Negation of the `\\d`. 1st non-digit. Not [0-9].\n",
    "# \\w -  letter, digit or _ but not digits. `\\w{3,}?`: limits to any 3 or more starting chars. `\\w{3,}` to words with 3 or more chars \n",
    "# \\W - negation of `\\w`\n",
    "# \\s - white space\n",
    "# \\S - character that is anythin but white space\n",
    "# . - character except the new line\n",
    "# \\n\n",
    "re.findall(r\"(?:\\s*(?:\\\"([^\\\"]*)\\\"|([^\\s]+))\\s*\\s?)+?\", string3) # extracts every standalone whole word/character\n",
    "re.findall(r\"(?:\\s*(?:\\\"([^\\\"]*)\\\"|([^,]+))\\s*,?)+?\", string3) # extracts every standalone whole word/character separated by \",\"\n",
    "re.findall(r\"Entry Total\\W+([0-9]{0,5})\", text_string) # extracts digits in a line that starts with \"Entry Total\"\n",
    "re.findall(r\"(?:[^\\t]+\\s|\\t|\\w$)\", string4) # extracts data separated by tabs\n",
    "re.findall(r\"\\$?\\s?(\\$?\\d+[\\.\\s,\\dk]+)|(\\d+[\\.\\s,\\dk]+\\$?)\", text_string) # extracts data separated by tabs\n",
    "re.findall(r\"Value Total(:)?\\W+([0-9,?\\s?]{0,10})\", text_string) # extracts digits in a line that starts with \"Entry Total\"\n",
    "re.findall(r\"(?:un)?expected\", \"a few unexpected words are to be expected\")\n",
    "re.findall(r\"(?:un|not )?expected\", \"unexpected and not expected should both be matched\")\n",
    "# re.findall(r\"(?:Value Total|Total Value)\\W+?[\\d+,?\\d+?]\", text_string)\n",
    "re.findall(r\"(?:Value Total|Total Value)\", text_string) # () treats the selection as a unit\n",
    "re.findall(r\"[0-9A-Za-z\\-]+\", text_string) # [] is like a list of values to match. It can be any order and values are independent\n",
    "re.findall(r\"([\\d,.?]+)\", text_string) # matches every number, with or without `,`/`.` thousands/decimals separator\n",
    "# re.search(r\"\\D.*\", fr'{string}', re.DOTALL).group()"
   ]
  },
  {
   "cell_type": "code",
   "execution_count": 223,
   "id": "11899ca8-4576-4d47-b464-ebbbbe3ed140",
   "metadata": {
    "execution": {
     "iopub.execute_input": "2023-01-13T23:47:15.175929Z",
     "iopub.status.busy": "2023-01-13T23:47:15.175929Z",
     "iopub.status.idle": "2023-01-13T23:47:15.181930Z",
     "shell.execute_reply": "2023-01-13T23:47:15.180945Z",
     "shell.execute_reply.started": "2023-01-13T23:47:15.175929Z"
    },
    "tags": []
   },
   "outputs": [
    {
     "name": "stdout",
     "output_type": "stream",
     "text": [
      "\n",
      "\n",
      "Form 13F Information Table Entry Total:                 659\n",
      "                                        ---------------------------------------\n",
      "                                                     2,403,697\n",
      "Form 13F Information Table Value Total: -------------------------------------- 1,456 1456\n",
      "                                                    (thousands) $2,403,697\n",
      "Form 13F Information Table Total Value: -------------------------------------- 1,456 1456\n",
      "                                                    (thousands) $2,403,697\n",
      " \n"
     ]
    }
   ],
   "source": [
    "fr\"{text_string}\"\n",
    "# text_raw\n",
    "print(text_string)"
   ]
  }
 ],
 "metadata": {
  "kernelspec": {
   "display_name": "Python 3 (ipykernel)",
   "language": "python",
   "name": "python3"
  },
  "language_info": {
   "codemirror_mode": {
    "name": "ipython",
    "version": 3
   },
   "file_extension": ".py",
   "mimetype": "text/x-python",
   "name": "python",
   "nbconvert_exporter": "python",
   "pygments_lexer": "ipython3",
   "version": "3.9.7"
  }
 },
 "nbformat": 4,
 "nbformat_minor": 5
}
