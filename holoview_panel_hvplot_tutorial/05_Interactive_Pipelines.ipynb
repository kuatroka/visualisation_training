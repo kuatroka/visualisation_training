{
 "cells": [
  {
   "cell_type": "markdown",
   "id": "278916c1",
   "metadata": {},
   "source": [
    "<style>div.container { width: 100% }</style>\n",
    "<img style=\"float:left;  vertical-align:text-bottom;\" height=\"65\" width=\"172\" src=\"../assets/holoviz-logo-unstacked.svg\" />\n",
    "<div style=\"float:right; vertical-align:text-bottom;\"><h2>Tutorial 5. Interactive Pipelines</h2></div>"
   ]
  },
  {
   "cell_type": "markdown",
   "id": "b24a03d7",
   "metadata": {},
   "source": [
    "The plots built up over the first few tutorials were all highly interactive in the web browser, with interactivity provided by Bokeh plotting tools within the plots or in some cases by HoloViews generating a Bokeh widget to select for a `groupby` over a categorical variable. However, when you are exploring a dataset, you might want to see how _any_ aspect of the data or plot changes if varied interactively. Luckily, hvPlot makes it almost trivially easy to do this, so that you can very easily explore any parameter or setting in your code. \n",
    "\n",
    "## Panel widgets\n",
    "\n",
    "To do this, we will need a widget library, and here we will be using [Panel](https://panel.holoviz.org/) to generate Bokeh widgets under user control, just as hvPlot uses Panel to generate widgets for a `groupby` as shown previously. Let's first get ahold of a Panel widget to see how they work. Here, let's create a Panel floating-point number slider to specify an earthquake magnitude between zero and nine:"
   ]
  },
  {
   "cell_type": "code",
   "execution_count": null,
   "id": "88a39a23",
   "metadata": {},
   "outputs": [],
   "source": [
    "import pathlib\n",
    "\n",
    "import holoviews as hv\n",
    "import hvplot.pandas # noqa\n",
    "import numpy as np\n",
    "import pandas as pd\n",
    "import panel as pn\n",
    "\n",
    "\n",
    "pn.extension(sizing_mode='stretch_width')"
   ]
  },
  {
   "cell_type": "code",
   "execution_count": null,
   "id": "949491ce",
   "metadata": {},
   "outputs": [],
   "source": [
    "mag_slider = pn.widgets.FloatSlider(name='Minimum Magnitude', start=0, end=9, value=3)\n",
    "mag_slider\n",
    "\n"
   ]
  },
  {
   "cell_type": "markdown",
   "id": "85fbd6f2",
   "metadata": {},
   "source": [
    "The widget is a JavaScript object, but there are bidirectional connections between JS and Python that let us see and change the value of this slider using its `value` parameter:"
   ]
  },
  {
   "cell_type": "code",
   "execution_count": null,
   "id": "679f4468",
   "metadata": {},
   "outputs": [],
   "source": [
    "mag_slider.value"
   ]
  },
  {
   "cell_type": "code",
   "execution_count": null,
   "id": "05e4d603",
   "metadata": {},
   "outputs": [],
   "source": [
    "mag_slider.value = 7"
   ]
  },
  {
   "cell_type": "code",
   "execution_count": null,
   "id": "03f2aef3-fe45-4475-8e6f-a01383e5d03d",
   "metadata": {},
   "outputs": [],
   "source": [
    "import datetime as dt\n",
    "\n",
    "date_slider = pn.widgets.DateSlider(\n",
    "    value=dt.datetime(2025, 1, 1),\n",
    "    start=dt.datetime(2025, 1, 1),\n",
    "    end=dt.datetime(2025, 1, 7),\n",
    "    name=\"A datetime value\"\n",
    ")\n",
    "date_slider"
   ]
  },
  {
   "cell_type": "markdown",
   "id": "29536f61",
   "metadata": {},
   "source": [
    "#### Exercise\n",
    "\n",
    "Try moving the slider around and rerunning the `mag_slider.value` above to access the current slider value. As you can see, you can easily get the value of any widget to use in subsequent cells, but you'd need to re-run any cell that accesses that value for it to get updated.\n",
    "\n",
    "\n",
    "# hvPlot .interactive()\n",
    "\n",
    "hvPlot provides an easy way to connect widgets directly into an expression you want to control.\n",
    "\n",
    "First, let's read in our data:"
   ]
  },
  {
   "cell_type": "code",
   "execution_count": null,
   "id": "17c187f2",
   "metadata": {},
   "outputs": [],
   "source": [
    "%%time\n",
    "df = pd.read_parquet(pathlib.Path('../data/earthquakes.parq'))\n",
    "df = df.drop(columns='<!DOCTYPE HTML PUBLIC \"-//W3C//DTD HTML 4.01 Transitional//EN\" \"http://www.w3.org/TR/html4/loose.dtd\">')\n",
    "df.time = pd.to_datetime(df.time)\n",
    "df = df.set_index('time').tz_localize(None)\n",
    "\n",
    "df['easting'], df['northing'] = hv.util.transform.lon_lat_to_easting_northing(df.longitude, df.latitude)"
   ]
  },
  {
   "cell_type": "markdown",
   "id": "6d4000f7",
   "metadata": {},
   "source": [
    "Now, let's do a little filtering that we might want to control with such a widget, such as selecting the highest-magnitude events:"
   ]
  },
  {
   "cell_type": "code",
   "execution_count": null,
   "id": "b0c14069",
   "metadata": {},
   "outputs": [],
   "source": [
    "WEB_MERCATOR_LIMITS = (-20037508.342789244, 20037508.342789244)\n",
    "\n",
    "df2 = df[['mag', 'depth', 'latitude', 'longitude', 'place', 'type']][df['northing'] < WEB_MERCATOR_LIMITS[1]]\n",
    "\n",
    "df2[df2['mag'] > 5].head()"
   ]
  },
  {
   "cell_type": "code",
   "execution_count": null,
   "id": "3ab509d0-09e5-464e-82bc-7bbaf6fc2d60",
   "metadata": {},
   "outputs": [],
   "source": [
    "type(WEB_MERCATOR_LIMITS)"
   ]
  },
  {
   "cell_type": "markdown",
   "id": "cca96a62",
   "metadata": {},
   "source": [
    "What if instead of '5', we want the output above always to reflect the current value of `mag_slider`? We can do that by using hvPlot's `.interactive()` support, passing in a widget almost anywhere we want in a pipeline:"
   ]
  },
  {
   "cell_type": "code",
   "execution_count": null,
   "id": "38dbc635",
   "metadata": {},
   "outputs": [],
   "source": [
    "dfi = df2.interactive()\n",
    "\n",
    "dfi[dfi['mag'] >= mag_slider].head()"
   ]
  },
  {
   "cell_type": "markdown",
   "id": "e82591e4",
   "metadata": {},
   "source": [
    "Here, `.interactive` is a wrapper around your DataFrame or Xarray object that lets you provide Panel widgets almost anywhere you'd otherwise be using a number. Just as importing `hvplot.pandas` provides a `.hvplot()` method or object on your dataframe, it also provides a `.interactive` method or object that gives you a general-purpose *interactive* `Dataframe` driven by widgets. `.interactive` stores a copy of your pipeline (series of method calls or other expressions on your data) and dynamically replays the pipeline whenever that widget changes. \n",
    "\n",
    "`.interactive` supports just about any output you might want to get out of such a pipeline, such as text or numbers:"
   ]
  },
  {
   "cell_type": "code",
   "execution_count": null,
   "id": "4b8619a8",
   "metadata": {},
   "outputs": [],
   "source": [
    "dfi[dfi['mag'] > mag_slider].shape"
   ]
  },
  {
   "cell_type": "markdown",
   "id": "aae73ad6",
   "metadata": {},
   "source": [
    "Or Matplotlib plots:"
   ]
  },
  {
   "cell_type": "code",
   "execution_count": null,
   "id": "b972f3ce",
   "metadata": {},
   "outputs": [],
   "source": [
    "dfi[dfi['mag'] > mag_slider].plot(y='depth', kind='hist', bins=np.linspace(0, 50, 51))"
   ]
  },
  {
   "cell_type": "markdown",
   "id": "81c252df",
   "metadata": {},
   "source": [
    "Each time you drag the widget, hvPlot replays the pipeline and updates the output shown. \n",
    "\n",
    "Of course, `.interactive` also supports `.hvplot()`, here with a new copy of a widget so that it will be independent of the other cells above:"
   ]
  },
  {
   "cell_type": "code",
   "execution_count": null,
   "id": "673a0b93",
   "metadata": {},
   "outputs": [],
   "source": [
    "mag_slider2 = pn.widgets.FloatSlider(name='Minimum magnitude', start=0, end=9, value=6)\n",
    "\n",
    "dfi[dfi['mag'] > mag_slider2].hvplot(y='depth', kind='hist', bins=np.linspace(0, 50, 51))"
   ]
  },
  {
   "cell_type": "code",
   "execution_count": null,
   "id": "fbfe7075-9c0f-49a7-a5c0-77bff3342324",
   "metadata": {},
   "outputs": [],
   "source": [
    "mag_slider2.value"
   ]
  },
  {
   "cell_type": "markdown",
   "id": "53db36b3",
   "metadata": {},
   "source": [
    "You can see that the depth distribution varies dramatically as you vary the minimum magnitude, with the lowest magnitude events apparently only detectable at short depths. There also seems to be some artifact at depth 10, which is the largest bin regardless of the filtering for all but the largest magnitudes."
   ]
  },
  {
   "cell_type": "markdown",
   "id": "7be3fb20",
   "metadata": {
    "tags": []
   },
   "source": [
    "## Date widgets\n",
    "\n",
    "A `.interactive()` pipeline can contain any number of widgets, including any from the Panel [reference gallery](https://panel.holoviz.org/reference/index.html#widgets). For instance, let's make a widget to specify a date range covering the dates found in this data:"
   ]
  },
  {
   "cell_type": "code",
   "execution_count": null,
   "id": "111bbc0b",
   "metadata": {},
   "outputs": [],
   "source": [
    "date = pn.widgets.DateRangeSlider(name='Date', start=df.index[0], end=df.index[-1])\n",
    "date"
   ]
  },
  {
   "cell_type": "markdown",
   "id": "9aa4060e",
   "metadata": {},
   "source": [
    "Now we can access the value of this slider:"
   ]
  },
  {
   "cell_type": "code",
   "execution_count": null,
   "id": "a9efeff7",
   "metadata": {},
   "outputs": [],
   "source": [
    "date.value"
   ]
  },
  {
   "cell_type": "code",
   "execution_count": null,
   "id": "1d69049a-6965-40ec-85f7-8905e694a1f1",
   "metadata": {},
   "outputs": [],
   "source": [
    "# !pip install jupyter-lsp"
   ]
  },
  {
   "cell_type": "markdown",
   "id": "0d0d5c25",
   "metadata": {},
   "source": [
    "As this widget is specifying a range, this time the value is returned as a tuple. If you prefer, you can get the components of the tuple directly via the `value_start` and `value_end` parameters respectively:"
   ]
  },
  {
   "cell_type": "code",
   "execution_count": null,
   "id": "e080d121",
   "metadata": {},
   "outputs": [],
   "source": [
    "f'Start is at {date.value_start} and the end is at {date.value_end}'"
   ]
  },
  {
   "cell_type": "code",
   "execution_count": null,
   "id": "e1e7c3ea-3c96-4477-97c4-284eb136113d",
   "metadata": {},
   "outputs": [],
   "source": [
    "df2.depth.min(), df2.depth.max()"
   ]
  },
  {
   "cell_type": "markdown",
   "id": "0310495d",
   "metadata": {},
   "source": [
    "Once again, try specifying different ranges with the widgets and rerunning the cell above."
   ]
  },
  {
   "cell_type": "markdown",
   "id": "b1f77961",
   "metadata": {},
   "source": [
    "Now let's use this widget to expand our expression to filter by date as well as magnitude:"
   ]
  },
  {
   "cell_type": "code",
   "execution_count": null,
   "id": "cef40af7",
   "metadata": {},
   "outputs": [],
   "source": [
    "mag = pn.widgets.FloatSlider(name='Minimum magnitude', start=0, end=9, value=6)\n",
    "dep = pn.widgets.FloatSlider(name='Minimum depth', start=0, end=800, value=0)\n",
    "typ = pn.widgets.MultiChoice(name='Type', options=df2.type.drop_duplicates().to_list(), value=['acoustic noise', 'earthquake'])\n",
    "\n",
    "filtered = dfi[\n",
    "    (dfi['mag']   > mag.param.value) &\n",
    "    (dfi['mag']   > dep) &\n",
    "    (dfi['type'].isin(typ)) &\n",
    "    (dfi.index >= date.param.value_start) &\n",
    "    (dfi.index <= date.param.value_end)  ]\n",
    "\n",
    "filtered.head()\n",
    "\n"
   ]
  },
  {
   "cell_type": "markdown",
   "id": "43fdb0b5",
   "metadata": {},
   "source": [
    "You can now use either the magnitude or the date range (or both) to filter the data, and the output will update. Note that here you want to move the start date of the range slider rather than the end; otherwise, you may not see the table change because the earthquakes are displayed in date order."
   ]
  },
  {
   "cell_type": "markdown",
   "id": "faf0dba0",
   "metadata": {},
   "source": [
    "#### Exercise\n",
    "\n",
    "To specify the minimum earthquake magnitude, notice that we supplied the whole `mag` widget but `.interactive()` used only the `value` parameter of this widget by default. To be explicit, you may use `mag.param.value` instead if you wish. Try it!"
   ]
  },
  {
   "cell_type": "markdown",
   "id": "bffa023d",
   "metadata": {},
   "source": [
    "#### Exercise\n",
    "\n",
    "For readability, seven columns were chosen before displaying the `DataFrame`. Have a look at `df.columns` and pick a different set of columns for display."
   ]
  },
  {
   "cell_type": "code",
   "execution_count": null,
   "id": "b53e9104-da87-4b29-92f8-6f891d158ab9",
   "metadata": {},
   "outputs": [],
   "source": [
    "select_columns = pn.widgets.MultiSelect(options=list(df.columns))\n",
    "select_columns\n",
    "dfi[select_columns]"
   ]
  },
  {
   "cell_type": "markdown",
   "id": "a64118b7",
   "metadata": {},
   "source": [
    "## Functions as inputs\n",
    "\n",
    "Quite often the data structure you want to explore in a pipeline, may itself be the outcome of another pipeline. It may for instance be a Pandas Dataframe created by extracting and transforming the output of a database or an API call, or it could be the dynamic output of some simulation or pre-processing. With `hvplot.bind` you can start with an arbitrary custom function that returns the data structure you want to explore and then bind that function's argument to widgets. Then when those widgets change, the function will get called to get the updated output.\n",
    "\n",
    "To keep this example self-contained we'll illustrate this process using a simple function that filters the earthquakes dataset by event type and returns a DataFrame. Of course, this function could include _any_ computation that returns a DataFrame, including selecting data files on disk or making a query to a database."
   ]
  },
  {
   "cell_type": "code",
   "execution_count": null,
   "id": "6531853d",
   "metadata": {},
   "outputs": [],
   "source": [
    "def input_function(event_type):\n",
    "    df2 = df[['mag', 'depth', 'latitude', 'longitude', 'place', 'type']]\n",
    "    return df2[df2['type'] == event_type]"
   ]
  },
  {
   "cell_type": "markdown",
   "id": "041d03db",
   "metadata": {},
   "source": [
    "We can then create a Panel `Select` widget with a few options and bind it to the `input_function`. Calling `.interactive()` on the bound object is what allows it to be used in an interactive pipeline, as we previously did with `dfi`."
   ]
  },
  {
   "cell_type": "code",
   "execution_count": null,
   "id": "15932ede",
   "metadata": {},
   "outputs": [],
   "source": [
    "event_types = pn.widgets.Select(options=['earthquake', 'quarry blast', 'explosion', 'ice quake'])\n",
    "\n",
    "inputi = hvplot.bind(input_function, event_types).interactive()"
   ]
  },
  {
   "cell_type": "code",
   "execution_count": null,
   "id": "0697ebd1",
   "metadata": {},
   "outputs": [],
   "source": [
    "inputi[inputi['mag'] > mag].head(4)"
   ]
  },
  {
   "cell_type": "markdown",
   "id": "aa37220e",
   "metadata": {},
   "source": [
    "## .interactive() and HoloViews \n",
    "\n",
    "`.interactive()` lets you work naturally with the compositional HoloViews plots provided by `.hvplot()`. Here, let's combine such plots using the HoloViews `+` operator:"
   ]
  },
  {
   "cell_type": "code",
   "execution_count": null,
   "id": "b22a0f5d",
   "metadata": {},
   "outputs": [],
   "source": [
    "mag_hist   = filtered.hvplot(y='mag',   kind='hist', responsive=True, min_height=200)\n",
    "depth_hist = filtered.hvplot(y='depth', kind='hist', responsive=True, min_height=200)\n",
    "\n",
    "mag_hist + depth_hist"
   ]
  },
  {
   "cell_type": "code",
   "execution_count": null,
   "id": "b25772ac-1b80-418f-a4bf-bb8683210544",
   "metadata": {},
   "outputs": [],
   "source": [
    "# !! to link it together when using select feature, we first need to use .holoviews() on the previous interactive object\n",
    "# but to use the widgets, we need to call the separately with .widgets() (see the cell below)\n",
    "mag_hist   = filtered.hvplot(y='mag',   kind='hist', responsive=True, min_height=200)\n",
    "depth_hist = filtered.hvplot(y='depth', kind='hist', responsive=True, min_height=200)\n",
    "\n",
    "ls = hv.link_selections.instance()\n",
    "ls(mag_hist.holoviews().opts(width=300) + depth_hist.holoviews().opts(width=300))"
   ]
  },
  {
   "cell_type": "code",
   "execution_count": null,
   "id": "3c90c63a-e6a8-4234-ac1a-ae3d944d3e23",
   "metadata": {},
   "outputs": [],
   "source": [
    "filtered.widgets()"
   ]
  },
  {
   "cell_type": "markdown",
   "id": "a3c108c9",
   "metadata": {},
   "source": [
    "These are the same two histograms we saw earlier, but now we can filter them on data dimensions like `time` that aren't even explicitly shown in the plot, using the Panel widgets.\n",
    "\n",
    "## Filtering earthquakes on a map\n",
    "\n",
    "To display the earthquakes on a map, we will first create a subset of the data to make it quick to update without needing Datashader.:"
   ]
  },
  {
   "cell_type": "code",
   "execution_count": null,
   "id": "29b94501",
   "metadata": {},
   "outputs": [],
   "source": [
    "subset_df = df[\n",
    "            (df.northing <  WEB_MERCATOR_LIMITS[1]) &\n",
    "            (df.mag      >  4) &\n",
    "            (df.index    >= pd.Timestamp('2017-01-01')) &\n",
    "            (df.index    <= pd.Timestamp('2022-01-01'))]"
   ]
  },
  {
   "cell_type": "markdown",
   "id": "713a561d",
   "metadata": {},
   "source": [
    "Now we can make a new interactive `DataFrame` from this new subselection:"
   ]
  },
  {
   "cell_type": "code",
   "execution_count": null,
   "id": "1dd3840b",
   "metadata": {},
   "outputs": [],
   "source": [
    "subset_dfi = subset_df.interactive(sizing_mode='stretch_width')"
   ]
  },
  {
   "cell_type": "markdown",
   "id": "7ccb0ac3",
   "metadata": {},
   "source": [
    "And now we can declare our widgets and use them to filter the interactive `DataFrame` as before:"
   ]
  },
  {
   "cell_type": "code",
   "execution_count": null,
   "id": "1aa55072",
   "metadata": {},
   "outputs": [],
   "source": [
    "date_subrange = pn.widgets.DateRangeSlider(\n",
    "    name='Date', start=subset_df.index[0], end=subset_df.index[-1])\n",
    "mag_subrange = pn.widgets.FloatSlider(name='Magnitude', start=3, end=9, value=3)\n",
    "\n",
    "filtered_subrange = subset_dfi[\n",
    "    (subset_dfi.mag   > mag_subrange) &\n",
    "    (subset_dfi.index >= date_subrange.param.value_start) &\n",
    "    (subset_dfi.index <= date_subrange.param.value_end)]"
   ]
  },
  {
   "cell_type": "markdown",
   "id": "54cd846d",
   "metadata": {},
   "source": [
    "Now we can plot the earthquakes on an ESRI tilesource, including the filtering widgets as follows:"
   ]
  },
  {
   "cell_type": "code",
   "execution_count": null,
   "id": "f4e35c1d",
   "metadata": {},
   "outputs": [],
   "source": [
    "geo = filtered_subrange.hvplot(\n",
    "    'easting', 'northing', color='mag', kind='points',\n",
    "    xaxis=None, yaxis=None, responsive=True, min_height=500, tiles='ESRI')\n",
    "\n",
    "geo"
   ]
  },
  {
   "cell_type": "markdown",
   "id": "d142cfba",
   "metadata": {},
   "source": [
    "You'll likely notice some flickering as Panel updates the display when the widgets change in value. The flickering comes because the entire plot gets recreated each time the widget is dragged. You can get finer control over such updates, but doing so requires more advanced methods covered in later tutorials, so here, we will just accept that the plot flickers.\n",
    "\n",
    "## Terminating methods for `.interactive`\n",
    "\n",
    "The examples above all illustrate cases where you can display the output of `.interactive()` and not worry about its type, which is no longer a DataFrame or a HoloViews object, but an `Interactive` object:"
   ]
  },
  {
   "cell_type": "code",
   "execution_count": null,
   "id": "f8bbfeb9",
   "metadata": {},
   "outputs": [],
   "source": [
    "type(geo)"
   ]
  },
  {
   "cell_type": "markdown",
   "id": "0ae04af8",
   "metadata": {},
   "source": [
    "What if you need to work with some part of the interactive pipeline, e.g. to feed it to some function or object that does not understand `Interactive` objects? In such a case, you can use what is called a `terminating method` on your Interactive object to get at the underlying object for you to use.\n",
    "\n",
    "For instance, let's create magnitude and depth histograms on this subset of the data as in an earlier notebook and see if we can enable linked selections on them:"
   ]
  },
  {
   "cell_type": "code",
   "execution_count": null,
   "id": "aee6279c",
   "metadata": {},
   "outputs": [],
   "source": [
    "mag_subhist   = filtered_subrange.hvplot(y='mag',   kind='hist', responsive=True, min_height=200)\n",
    "depth_subhist = filtered_subrange.hvplot(y='depth', kind='hist', responsive=True, min_height=200)\n",
    "\n",
    "combined = mag_subhist + depth_subhist\n",
    "combined"
   ]
  },
  {
   "cell_type": "markdown",
   "id": "3246966a",
   "metadata": {},
   "source": [
    "Note that this looks like a HoloViews layout with some widgets, but this object is *not* a HoloViews object. Instead it is still an `Interactive` object:"
   ]
  },
  {
   "cell_type": "code",
   "execution_count": null,
   "id": "0737edd1",
   "metadata": {},
   "outputs": [],
   "source": [
    "type(combined)"
   ]
  },
  {
   "cell_type": "markdown",
   "id": "9eeb9da3",
   "metadata": {},
   "source": [
    "`link_selections` does not currently understand `Interactive` objects, and so it will raise an exception when given one. If we need a HoloViews `Layout`, e.g. for calling `link_selections`,  we can build a layout from the constituent objects using the `.holoviews()` terminating method on `Interactive`:"
   ]
  },
  {
   "cell_type": "code",
   "execution_count": null,
   "id": "cb4482e2",
   "metadata": {},
   "outputs": [],
   "source": [
    "layout = mag_subhist.holoviews() + depth_subhist.holoviews()\n",
    "layout"
   ]
  },
  {
   "cell_type": "markdown",
   "id": "a9d2b4a8",
   "metadata": {},
   "source": [
    "This is now a HoloViews object, so we can use it with `link_selections`:"
   ]
  },
  {
   "cell_type": "code",
   "execution_count": null,
   "id": "b7bbb5ab",
   "metadata": {},
   "outputs": [],
   "source": [
    "print(type(layout))\n",
    "\n",
    "ls = hv.link_selections.instance()\n",
    "ls(mag_subhist.holoviews()) + ls(depth_subhist.holoviews())"
   ]
  },
  {
   "cell_type": "markdown",
   "id": "1eda65d0",
   "metadata": {},
   "source": [
    "You can use the box selection tool to see how selections compare between these plots. However, you will note that the widgets are no longer displayed. To address this, we can display the widgets separately using a different terminating method, namely `.widgets()`:"
   ]
  },
  {
   "cell_type": "code",
   "execution_count": null,
   "id": "8d43c1c4",
   "metadata": {},
   "outputs": [],
   "source": [
    "filtered_subrange.widgets()"
   ]
  },
  {
   "cell_type": "markdown",
   "id": "c057585f",
   "metadata": {},
   "source": [
    "For reference, the terminating methods for an `Interactive` object are:\n",
    "\n",
    "- `.holoviews()`: Give me a HoloViews object\n",
    "- `.panel()`:     Give me a Panel ParamFunction\n",
    "\n",
    "- `.widgets()`:   Give me a layout of widgets associated with this interactive object\n",
    "- `.layout()`:    Give me the layout of the widgets and display `pn.Column(obj.widgets(), obj.panel())` where `pn.Column` will be described in the [Dashboards notebook](./06_Dashboards.ipynb)."
   ]
  },
  {
   "cell_type": "markdown",
   "id": "6bb2cc47",
   "metadata": {},
   "source": [
    "## Conclusion\n",
    "\n",
    "Using the techniques above, you can build up a collection of plots and other outputs with Panel widgets to control individual bits of computation and display. \n",
    "\n",
    "What if you want to collect these pieces and put them together into a standalone app or dashboard? If so, then the next tutorial will show you how to do so!"
   ]
  },
  {
   "cell_type": "code",
   "execution_count": null,
   "id": "1494100d-bf7d-4a80-a22d-423a6eca9ed8",
   "metadata": {},
   "outputs": [],
   "source": [
    "filtered_subrange.widgets()"
   ]
  }
 ],
 "metadata": {
  "kernelspec": {
   "display_name": "Python 3 (ipykernel)",
   "language": "python",
   "name": "python3"
  },
  "language_info": {
   "codemirror_mode": {
    "name": "ipython",
    "version": 3
   },
   "file_extension": ".py",
   "mimetype": "text/x-python",
   "name": "python",
   "nbconvert_exporter": "python",
   "pygments_lexer": "ipython3",
   "version": "3.9.7"
  },
  "widgets": {
   "application/vnd.jupyter.widget-state+json": {
    "state": {},
    "version_major": 2,
    "version_minor": 0
   }
  }
 },
 "nbformat": 4,
 "nbformat_minor": 5
}
