{
 "cells": [
  {
   "cell_type": "code",
   "execution_count": 2,
   "id": "0762cd43-a2cb-4073-8bbb-2b472b93ce0d",
   "metadata": {
    "execution": {
     "iopub.execute_input": "2023-01-06T16:15:06.560593Z",
     "iopub.status.busy": "2023-01-06T16:15:06.560593Z",
     "iopub.status.idle": "2023-01-06T16:15:07.844591Z",
     "shell.execute_reply": "2023-01-06T16:15:07.844591Z",
     "shell.execute_reply.started": "2023-01-06T16:15:06.560593Z"
    },
    "tags": []
   },
   "outputs": [],
   "source": [
    "from pathlib import Path\n",
    "import pandas as pd\n",
    "import numpy as np\n",
    "import polars as pl\n",
    "import duckdb\n",
    "import os\n",
    "import pandera as pa\n",
    "import io\n",
    "\n",
    "FROM_EXPERIMENT_CSV_IN = Path(r\"E:\\app_data\\dropbox_13f_files\\processed_tables\\TR_02_EXP_SELECT_CIK_CSV\")\n",
    "TO_EXPERIMENT_PARQUET = Path(r\"E:\\app_data\\dropbox_13f_files\\processed_tables\\TR_03_EXP_SELECT_CIK_PARQUET\")"
   ]
  },
  {
   "cell_type": "code",
   "execution_count": 3,
   "id": "ffc4c96a-6b04-47dd-a793-c0881614fde8",
   "metadata": {
    "execution": {
     "iopub.execute_input": "2023-01-06T16:15:07.846574Z",
     "iopub.status.busy": "2023-01-06T16:15:07.846574Z",
     "iopub.status.idle": "2023-01-06T16:15:07.860621Z",
     "shell.execute_reply": "2023-01-06T16:15:07.860621Z",
     "shell.execute_reply.started": "2023-01-06T16:15:07.846574Z"
    },
    "tags": []
   },
   "outputs": [
    {
     "name": "stdout",
     "output_type": "stream",
     "text": [
      "CPU times: total: 0 ns\n",
      "Wall time: 0 ns\n"
     ]
    }
   ],
   "source": [
    "%%time\n",
    "# option 1: loading files with os.walk\n",
    "\n",
    "columns = ['cik', 'cusip8', 'cusip9','rdate', 'fdate','value', 'shares',\\\n",
    "           'address', 'form', 'shrsOrPrnAmt', 'putCall', 'nameOfIssuer', 'titleOfClass', 'type']\n",
    "\n",
    "# columns2 = ['Address', 'Cik', 'Fdate', 'Rdate','Form', 'Value', 'Shares', 'Cusip8', \\\n",
    "#            'Cusip9', 'Shrs Or Prn Amt', 'Put Call', 'Name Of Issuer', 'Title Of Class', 'type']\n",
    "\n",
    "dtypes = {'cusip8': str, 'cusip9': str , 'titleOfClass': str, 'form': str,\n",
    "          'putCall': str, 'shrsOrPrnAmt': str, 'value': float, 'shares': float, \n",
    "          'nameOfIssuer': str, 'cik' : int, 'address': str, 'type': str,'num5': str,\n",
    "          'deviation':str, 'shrout':str,'num3': str,'num2': str, 'num6':str,'num7': str,'num4': str,\n",
    "           'votingAuthority': str, 'in_universe': str,'prc': str, 'split': str,\n",
    "           'investmentDiscretion': str}\n",
    "    \n",
    "# if df['fdate'].max() >= pd.to_datetime('2014-01-01',format='%Y-%m-%d') : continue\n",
    "\n",
    "# def concatenate_dataframes_pd_pathlib(dir_path):\n",
    "#     big_df = pd.DataFrame()\n",
    "#     for file in dir_path.rglob(\"*.csv\"):\n",
    "#         df = pd.read_csv(file, usecols=lambda c: c in set(columns), parse_dates=['rdate','fdate'], dtype=dtypes)\n",
    "#         big_df = pd.concat([big_df, df])\n",
    "#     return big_df\n",
    "\n",
    "def concatenate_dataframes_pl_pathlib(dir_path):\n",
    "    big_df = pl.DataFrame()\n",
    "    for file in dir_path.rglob(\"*.csv\"):\n",
    "        # print(file)\n",
    "        df = pl.read_csv(file, parse_dates=True, dtypes=dtypes ) #[columns]\n",
    "        # print(df.columns)\n",
    "        # print(file, df.head, df.columns, sep=\"\\n\")\n",
    "        for col in df.columns:\n",
    "    # if the column does not exist in the list, drop it from the dataframe\n",
    "            if col not in columns:\n",
    "                df = df.drop(columns=[col])\n",
    "        for col in columns:\n",
    "            if col not in df.columns:\n",
    "                df = df.with_column(pl.lit(None, dtype=dtypes[col]).alias(col))\n",
    "        df = df.select(columns)\n",
    "               \n",
    "\n",
    "                \n",
    "        # print(df.columns)\n",
    "        # print(df.columns)\n",
    "        try:\n",
    "            big_df = pl.concat([big_df, df])\n",
    "            # print(df.head, df.columns)\n",
    "        except:\n",
    "            print(df.head, df.columns)\n",
    "    return big_df\n"
   ]
  },
  {
   "cell_type": "code",
   "execution_count": null,
   "id": "dfaa9c8b-7293-4638-b4a8-c86cbe2c9fba",
   "metadata": {
    "scrolled": true,
    "tags": []
   },
   "outputs": [],
   "source": [
    "%%time\n",
    "pl_df = concatenate_dataframes_pl_pathlib(FROM_EXPERIMENT_CSV_IN)"
   ]
  },
  {
   "cell_type": "code",
   "execution_count": 18,
   "id": "9c773ec4-a170-4617-b675-b0037eee22fb",
   "metadata": {
    "execution": {
     "iopub.execute_input": "2023-01-06T00:27:19.975457Z",
     "iopub.status.busy": "2023-01-06T00:27:19.975457Z",
     "iopub.status.idle": "2023-01-06T00:27:19.990451Z",
     "shell.execute_reply": "2023-01-06T00:27:19.990451Z",
     "shell.execute_reply.started": "2023-01-06T00:27:19.975457Z"
    },
    "tags": []
   },
   "outputs": [
    {
     "data": {
      "text/html": [
       "<div>\n",
       "<style scoped>\n",
       "    .dataframe tbody tr th:only-of-type {\n",
       "        vertical-align: middle;\n",
       "    }\n",
       "\n",
       "    .dataframe tbody tr th {\n",
       "        vertical-align: top;\n",
       "    }\n",
       "\n",
       "    .dataframe thead th {\n",
       "        text-align: right;\n",
       "    }\n",
       "\n",
       "    .dataframe td {\n",
       "        white-space: pre;\n",
       "    }\n",
       "\n",
       "    .dataframe td {\n",
       "        padding-top: 0;\n",
       "    }\n",
       "\n",
       "    .dataframe td {\n",
       "        padding-bottom: 0;\n",
       "    }\n",
       "\n",
       "    .dataframe td {\n",
       "        line-height: 95%;\n",
       "    }\n",
       "</style>\n",
       "<table border=\"1\" class=\"dataframe\">\n",
       "<small>shape: (0, 0)</small>\n",
       "<thead>\n",
       "<tr>\n",
       "</tr>\n",
       "<tr>\n",
       "</tr>\n",
       "</thead>\n",
       "<tbody>\n",
       "</tbody>\n",
       "</table>\n",
       "</div>"
      ],
      "text/plain": [
       "shape: (0, 0)\n",
       "┌┐\n",
       "╞╡\n",
       "└┘"
      ]
     },
     "execution_count": 18,
     "metadata": {},
     "output_type": "execute_result"
    }
   ],
   "source": [
    "pl_df.head()"
   ]
  },
  {
   "cell_type": "code",
   "execution_count": 54,
   "id": "402a92e1-8754-477a-be3f-7bb8b3341ec1",
   "metadata": {
    "execution": {
     "iopub.execute_input": "2023-01-05T23:09:10.902493Z",
     "iopub.status.busy": "2023-01-05T23:09:10.902493Z",
     "iopub.status.idle": "2023-01-05T23:09:10.924516Z",
     "shell.execute_reply": "2023-01-05T23:09:10.923493Z",
     "shell.execute_reply.started": "2023-01-05T23:09:10.902493Z"
    },
    "tags": []
   },
   "outputs": [
    {
     "data": {
      "text/plain": [
       "14"
      ]
     },
     "execution_count": 54,
     "metadata": {},
     "output_type": "execute_result"
    }
   ],
   "source": [
    "all_cols = ['cusip8', 'cusip9', 'shrsOrPrnAmt', 'putCall', 'investmentDiscretion', 'remainder', 'value', 'shares', 'permno', 'prc', 'shrout', 'split', 'deviation', 'address', 'rdate', 'fdate', 'cik', 'form', 'type']\n",
    "columns = ['cik', 'cusip8', 'cusip9','rdate', 'fdate','value', 'shares',\\\n",
    "           'address', 'form', 'shrsOrPrnAmt', 'putCall', 'nameOfIssuer', 'titleOfClass', 'type']\n",
    "\n",
    "l12 = ['cusip8', 'cusip9', 'shrsOrPrnAmt', 'putCall', 'value', 'shares', 'address', 'rdate', 'fdate', 'cik', 'form', 'type', 'nameOfIssuer', 'titleOfClass']\n",
    "l13 = ['cusip8', 'nameOfIssuer', 'titleOfClass', 'value', 'shrsOrPrnAmt', 'cusip9', 'shares', 'address', 'rdate', 'fdate', 'cik', 'form', 'type', 'putCall']\n",
    "\n",
    "len(columns)\n",
    "# np.setdiff1d(l12,columns)"
   ]
  },
  {
   "cell_type": "code",
   "execution_count": 8,
   "id": "06a11663-5064-4d4b-8bca-dd225d41336d",
   "metadata": {
    "execution": {
     "iopub.execute_input": "2023-01-05T23:59:10.717772Z",
     "iopub.status.busy": "2023-01-05T23:59:10.717772Z",
     "iopub.status.idle": "2023-01-05T23:59:10.729751Z",
     "shell.execute_reply": "2023-01-05T23:59:10.728787Z",
     "shell.execute_reply.started": "2023-01-05T23:59:10.717772Z"
    },
    "tags": []
   },
   "outputs": [
    {
     "data": {
      "text/plain": [
       "[Utf8, Int64, Utf8, Int64]"
      ]
     },
     "execution_count": 8,
     "metadata": {},
     "output_type": "execute_result"
    }
   ],
   "source": [
    "txt = \"\"\"\n",
    "AB,CD,EF, JJ\n",
    "foo,20160101,a,23\n",
    "foo,20160102,a,34\n",
    "foo,20160103,a,56\n",
    "\"\"\"\n",
    "\n",
    "data = pl.read_csv(io.StringIO(txt))\n",
    "data = data."
   ]
  },
  {
   "cell_type": "code",
   "execution_count": null,
   "id": "2903f282-f292-4402-bf3e-88150aa5deb9",
   "metadata": {
    "scrolled": true,
    "tags": []
   },
   "outputs": [],
   "source": [
    "%%time\n",
    "\n",
    "dfs = []\n",
    "for file in FROM_EXPERIMENT_CSV_IN.rglob(\"*.csv\"):\n",
    "    print(file)\n",
    "    schema = pl.scan_csv(file).schema\n",
    "    \n",
    "    read_cols = list(set(schema.keys()).intersection(columns))\n",
    "    \n",
    "    df = pl.read_csv(file, columns=read_cols, dtypes=dtypes)\n",
    "    # if our `df` misses a column from the `columns` list, we dynamically create it with None values\n",
    "    # and get the correct dtype from the dtypes list declared outside of function\n",
    "    for col in columns:\n",
    "        if col not in df.columns:\n",
    "            df = df.with_column(pl.lit(None, dtype=dtypes[col]).alias(col))\n",
    "    df = df.select(columns)\n",
    "    dfs.append(df)\n",
    "    print(df.columns)\n",
    "        \n",
    "big_df = pl.concat(dfs)"
   ]
  },
  {
   "cell_type": "code",
   "execution_count": null,
   "id": "88efe2c6-5d09-4865-9af8-68ca61ba67d1",
   "metadata": {
    "tags": []
   },
   "outputs": [],
   "source": [
    "%%time\n",
    "# big_df.to_pandas()\n",
    "big_df"
   ]
  },
  {
   "cell_type": "code",
   "execution_count": 4,
   "id": "ad5f505c-1daf-4644-8cba-5d323b609df4",
   "metadata": {
    "execution": {
     "iopub.execute_input": "2023-01-06T16:15:14.519056Z",
     "iopub.status.busy": "2023-01-06T16:15:14.519056Z",
     "iopub.status.idle": "2023-01-06T16:15:14.536033Z",
     "shell.execute_reply": "2023-01-06T16:15:14.535027Z",
     "shell.execute_reply.started": "2023-01-06T16:15:14.519056Z"
    },
    "tags": []
   },
   "outputs": [],
   "source": [
    "file1 = Path(r\"E:\\app_data\\dropbox_13f_files\\processed_tables\\TR_02_EXP_SELECT_CIK_CSV\\35527\\0000950152-04-008309.csv\")\n",
    "schema = pl.scan_csv(file1).schema\n",
    "\n",
    "read_cols = list(set(schema.keys()).intersection(columns))\n",
    "\n",
    "df1 = pl.read_csv(file1, columns=read_cols, dtypes=dtypes)"
   ]
  },
  {
   "cell_type": "code",
   "execution_count": null,
   "id": "5b51aefc-a0be-49d5-bdfe-a5a4ab32cc13",
   "metadata": {
    "tags": []
   },
   "outputs": [],
   "source": [
    "# schema, \n",
    "df1.head(100)"
   ]
  }
 ],
 "metadata": {
  "kernelspec": {
   "display_name": "Python 3 (ipykernel)",
   "language": "python",
   "name": "python3"
  },
  "language_info": {
   "codemirror_mode": {
    "name": "ipython",
    "version": 3
   },
   "file_extension": ".py",
   "mimetype": "text/x-python",
   "name": "python",
   "nbconvert_exporter": "python",
   "pygments_lexer": "ipython3",
   "version": "3.9.7"
  }
 },
 "nbformat": 4,
 "nbformat_minor": 5
}
