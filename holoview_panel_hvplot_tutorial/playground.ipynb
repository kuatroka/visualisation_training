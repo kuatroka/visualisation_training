{
 "cells": [
  {
   "cell_type": "code",
   "execution_count": 27,
   "id": "0509a54d-8c22-426f-876c-c373bf037ce4",
   "metadata": {},
   "outputs": [],
   "source": [
    "import pandas as pd\n",
    "import dabl\n",
    "df = pd.read_parquet(\"data/891943-2022-12-05.parquet\")\n",
    "\n",
    "# data_clean = dabl.clean(df, type_hints={\"settlement_date\": \"date\",\"cusip\": \"categorical\", \"ticker\": \"categorical\",\n",
    "#                                        \"quarter\":\"date\", \"ticker_description\":\"free_string\"})"
   ]
  },
  {
   "cell_type": "code",
   "execution_count": null,
   "id": "14560665-badf-42e6-9fcc-e5af366be692",
   "metadata": {},
   "outputs": [],
   "source": [
    "# df_clean = dabl.clean(df, verbose=0)\n",
    "\n",
    "types = dabl.detect_types(df)\n",
    "print(types)\n"
   ]
  },
  {
   "cell_type": "code",
   "execution_count": 31,
   "id": "a05c54d2-ff5c-45e9-9a9a-7a6b547bfde5",
   "metadata": {},
   "outputs": [
    {
     "data": {
      "text/plain": [
       "-1.0       11572\n",
       " 9999.0     3586\n",
       " NaN        2828\n",
       "-3.0         145\n",
       "-4.0          99\n",
       "-6.0          77\n",
       "-8.0          63\n",
       "-5.0          60\n",
       "-9.0          58\n",
       "-10.0         54\n",
       "-11.0         42\n",
       "-7.0          36\n",
       "-12.0         33\n",
       "-13.0         24\n",
       "-14.0         23\n",
       "-17.0         18\n",
       "-15.0         14\n",
       "-16.0         12\n",
       "Name: next_quarter_diff, dtype: int64"
      ]
     },
     "execution_count": 31,
     "metadata": {},
     "output_type": "execute_result"
    }
   ],
   "source": [
    "df.next_quarter_diff.value_counts(dropna=False)"
   ]
  },
  {
   "cell_type": "code",
   "execution_count": null,
   "id": "a03850c8-e4e0-4f8a-8864-3b49940c5e70",
   "metadata": {},
   "outputs": [],
   "source": [
    "# !pip install pyjanitor\n",
    "!pip install nbconvert"
   ]
  },
  {
   "cell_type": "code",
   "execution_count": 34,
   "id": "46b59b91-e901-4890-bb2b-28de4d4195a2",
   "metadata": {},
   "outputs": [],
   "source": [
    "import janitor"
   ]
  },
  {
   "cell_type": "code",
   "execution_count": 35,
   "id": "dc85a5c7-e6da-41f1-abdd-048376e873c9",
   "metadata": {},
   "outputs": [],
   "source": [
    "df1 = df.fillna(0)"
   ]
  },
  {
   "cell_type": "code",
   "execution_count": 37,
   "id": "d3534808-e460-4c38-bc25-64982cce6d7e",
   "metadata": {},
   "outputs": [
    {
     "data": {
      "text/plain": [
       "cik     cusip      quarter  tr_id                       tr_type  tr_value   tr_shares  sec_13f_price  value     shares   prev_shares_diff  prev_value_diff  latest_filed_quarter  prev_quarter_diff  next_quarter_diff  accession_number      rdate       submission_type  fdate       cik_name                   name_of_issuer               title_of_class  put_call  xml_flag  shares_bonds  cik_ticker  cik_ticker_name  cik_ticker_exchange  updated_at  latest_fdate  cusip_ticker  cusip_ticker_name               quarter_as_int  next_shares_diff  next_value_diff  open       max        min     close   pnl_actual_pct  pnl_max_paper_pct  pnl_min_paper_pct  pnl_quarter_pct\n",
       "891943  000375204  2018Q2   TR-891943-000375204-2018Q2  OPEN      29000.0    1345.0    21.56          29000.0   1345.0    0.0               0.0             2022Q3                0.0                 0.0               0000891943-18-000008  2018-06-30  13F-HR           2018-08-15  CENTAURUS FINANCIAL, INC.  ABB LTD                      SPONSORED ADR   0         xml       SH            no_ticker   no_ticker_name   no_ticker_exchange   2022-12-07  2022-12-05    ABB           ABB LTD ADS ( 1 REG SHS)        193              0.0               0.0             21.56      21.56      21.56   21.56    0.00           0.00                0.00               0.00              1\n",
       "        73278L105  2020Q1   TR-891943-73278L105-2020Q1  OPEN      121000.0   614.0     197.07         121000.0  614.0     564.0             113000.0        2022Q3                7.0                -1.0               0000891943-20-000002  2020-03-31  13F-HR           2020-04-21  CENTAURUS FINANCIAL, INC.  POOL CORPORATION             COM             0         YES       SH            no_ticker   no_ticker_name   no_ticker_exchange   2022-12-07  2022-12-05    POOL          POOL CORPORATION COM STK        200              0.0              -46000.0         197.07     565.93     197.07  318.18   61.46          187.17              0.00               0.00              1\n",
       "        737446104  2018Q3   TR-891943-737446104-2018Q3  OPEN      122000.0   1.0       122000.00      122000.0  1.0       0.0               0.0             2022Q3                0.0                -1.0               0000891943-18-000010  2018-09-30  13F-HR           2018-11-05  CENTAURUS FINANCIAL, INC.  POST HLDGS INC               COM             0         xml       SH            no_ticker   no_ticker_name   no_ticker_exchange   2022-12-07  2022-12-05    POST          POST HLDGS INC COM STK (MO)     194             -124.0             121000.0        122000.00  122000.00  8.00    109.30  -99.91          0.00               -99.99              0.00              1\n",
       "        737010108  2018Q3   TR-891943-737010108-2018Q2  CLOSE    -11000.0   -300.0     36.67          0.0       0.0      -300.0            -11000.0         2022Q3                1.0                 9999.0            ESTIMATION-YY-EXITPO  2018-06-30  13F-HR           2018-08-15  CENTAURUS FINANCIAL, INC.  PORTOLA PHARMACEUTICALS INC  COM             0         xml       SH            no_ticker   no_ticker_name   no_ticker_exchange   2022-12-07  2022-12-05    PTLA          PORTOLA PHARMACEUTICALS INC CO  194              9999.0            9999.0          36.67      36.67      36.67   36.67    0.00           0.00                0.00               0.00              1\n",
       "                   2018Q2   TR-891943-737010108-2018Q2  OPEN      11000.0    300.0     36.67          11000.0   300.0     0.0               0.0             2022Q3                0.0                 0.0               0000891943-18-000008  2018-06-30  13F-HR           2018-08-15  CENTAURUS FINANCIAL, INC.  PORTOLA PHARMACEUTICALS INC  COM             0         xml       SH            no_ticker   no_ticker_name   no_ticker_exchange   2022-12-07  2022-12-05    PTLA          PORTOLA PHARMACEUTICALS INC CO  193              0.0               0.0             36.67      36.67      36.67   36.67    0.00           0.00                0.00               0.00              1\n",
       "                                                                                                                                                                                                                                                                                                                                                                                                                                                                                                                                                                                                                                                                                            ..\n",
       "        38147U107  2020Q2   TR-891943-38147U107-2019Q2  HOLD      0.0        0.0       16.25          148000.0  9108.0    0.0               36000.0         2022Q3                1.0                -1.0               0000891943-20-000005  2020-06-30  13F-HR           2020-08-13  CENTAURUS FINANCIAL, INC.  GOLDMAN SACHS BDC INC        SHS             0         YES       SH            no_ticker   no_ticker_name   no_ticker_exchange   2022-12-07  2022-12-05    GSBD          GOLDMAN SACHS BDC INC SHS       201              0.0               11000.0         19.60      21.27      12.30   14.45   -26.28          8.52               -37.24             -17.09             1\n",
       "                   2020Q1   TR-891943-38147U107-2019Q2  REDUCE   -115000.0  -1565.0    12.30          112000.0  9108.0   -1565.0           -115000.0        2022Q3                1.0                -1.0               0000891943-20-000002  2020-03-31  13F-HR           2020-04-21  CENTAURUS FINANCIAL, INC.  GOLDMAN SACHS BDC INC        SHS             0         YES       SH            no_ticker   no_ticker_name   no_ticker_exchange   2022-12-07  2022-12-05    GSBD          GOLDMAN SACHS BDC INC SHS       200              0.0              -36000.0         19.60      21.27      12.30   14.45   -26.28          8.52               -37.24             -37.24             1\n",
       "                   2019Q4   TR-891943-38147U107-2019Q2  HOLD      0.0        0.0       21.27          227000.0  10673.0   0.0               0.0             2022Q3                1.0                -1.0               0000891943-20-000001  2019-12-31  13F-HR           2020-02-12  CENTAURUS FINANCIAL, INC.  GOLDMAN SACHS BDC INC        SHS             0         YES       SH            no_ticker   no_ticker_name   no_ticker_exchange   2022-12-07  2022-12-05    GSBD          GOLDMAN SACHS BDC INC SHS       199              1565.0            115000.0        19.60      21.27      12.30   14.45   -26.28          8.52               -37.24              8.52              1\n",
       "                   2019Q3   TR-891943-38147U107-2019Q2  ADD       93000.0    3837.0    21.27          227000.0  10673.0   3837.0            93000.0         2022Q3                1.0                -1.0               ESTIMATION-YY-ADDQTR  2019-12-31  13F-HR           2020-02-12  CENTAURUS FINANCIAL, INC.  GOLDMAN SACHS BDC INC        SHS             0         YES       SH            no_ticker   no_ticker_name   no_ticker_exchange   2022-12-07  2022-12-05    GSBD          GOLDMAN SACHS BDC INC SHS       198              0.0               0.0             19.60      21.27      12.30   14.45   -26.28          8.52               -37.24              8.52              1\n",
       "        Y8564M105  2018Q3   TR-891943-Y8564M105-2018Q2  CLOSE    -7000.0    -435.0     16.09          0.0       0.0      -435.0            -7000.0          2022Q3                1.0                 9999.0            ESTIMATION-YY-EXITPO  2018-06-30  13F-HR           2018-08-15  CENTAURUS FINANCIAL, INC.  TEEKAY LNG PARTNERS L P      PRTNRSP UNITS   0         xml       SH            no_ticker   no_ticker_name   no_ticker_exchange   2022-12-07  2022-12-05    TGP           TEEKAY LNG PARTNERS L.P. COM U  194              9999.0            9999.0          16.09      16.09      16.09   16.09    0.00           0.00                0.00               0.00              1\n",
       "Length: 18744, dtype: int64"
      ]
     },
     "execution_count": 37,
     "metadata": {},
     "output_type": "execute_result"
    }
   ],
   "source": [
    "df1.value_counts(dropna=False)"
   ]
  }
 ],
 "metadata": {
  "kernelspec": {
   "display_name": "Python 3 (ipykernel)",
   "language": "python",
   "name": "python3"
  },
  "language_info": {
   "codemirror_mode": {
    "name": "ipython",
    "version": 3
   },
   "file_extension": ".py",
   "mimetype": "text/x-python",
   "name": "python",
   "nbconvert_exporter": "python",
   "pygments_lexer": "ipython3",
   "version": "3.9.7"
  },
  "widgets": {
   "application/vnd.jupyter.widget-state+json": {
    "state": {},
    "version_major": 2,
    "version_minor": 0
   }
  }
 },
 "nbformat": 4,
 "nbformat_minor": 5
}
