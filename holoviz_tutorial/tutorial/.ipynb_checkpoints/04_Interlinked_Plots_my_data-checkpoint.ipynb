{
 "cells": [
  {
   "cell_type": "code",
   "execution_count": null,
   "metadata": {},
   "outputs": [],
   "source": [
    "import pathlib\n",
    "import holoviews as hv\n",
    "import pandas as pd\n",
    "import hvplot.pandas\n",
    "import colorcet as cc"
   ]
  },
  {
   "cell_type": "markdown",
   "metadata": {},
   "source": [
    "### Load the big_df with multiple `cik`"
   ]
  },
  {
   "cell_type": "code",
   "execution_count": null,
   "metadata": {},
   "outputs": [],
   "source": [
    "%%time\n",
    "\n",
    "from pathlib import Path\n",
    "import pandas as pd\n",
    "import polars as pl\n",
    "from scipy import stats\n",
    "\n",
    "selected_cik = [2230,3520,5272,7195,7789,9015,10742,14661,16972,18349,18748,19475,19617,21175,22657,24386,35442,35527,36066,36104,36644,36966,38777,39263,40417,40545,44365,45319,49205,50863,51762,51812,51964,52234,53417,59558,59951,60086,61227,67698,70858,71210,71259,72971,73124,80255,84616,89014,92230,93751,98758,102212,102909,105495,108572,200217,201772,216851,276101,310051,312348,313028,313807,314949,314957,314984,315014,315032,315038,315054,315066,315080,315157,315297,315498,316011,318989,320335,320376,351051,351173,351262,354204,356264,700529,704051,707179,712537,713676,714142,720672,723204,728083,728100,728618,732905,733020,740272,740913,741073,743127,750641,754811,757657,759944,762152,763212,763848,764068,764106,764112,764529,764532,765443,769317,769954,769963,775368,776867,778963,779519,788714,790354,790502,791191,791490,796848,799003,799004,801051,806097,807249,807985,808722,809339,809443,810265,810384,810386,810672,810716,811360,811454,813917,813933,814133,814375,816788,819535,820027,820123,820124,820289,820478,820743,821197,822581,823621,825293,829407,831001,831571,836372,837592,842782,842941,846222,846633,846788,846797,850401,850529,852743,854157,857508,859872,860486,860561,860580,860585,860643,860644,860645,860662,860748,860828,860857,861176,861177,861462,861787,862469,866361,866842,868491,869178,869179,869353,869367,872080,872163,872259,872573,872732,873630,874791,877134,877338,878228,881432,883511,883677,883782,883790,883803,883961,883965,884300,884314,884414,884423,884541,884546,884548,884566,884589,885062,885415,886982,887402,887777,887818,889232,891287,891478,893738,894205,894300,894309,895213,895421,897070,897378,897599,898358,898382,898399,898413,899211,900169,900529,900973,902219,902367,902464,902584,903064,903944,903947,903949,905567,905591,905608,906304,908195,909151,909661,911274,912938,914933,914976,915287,915325,916542,917579,918893,919079,919185,919192,919458,919489,919497,919530,919538,919859,920440,920441,921531,921669,922127,922439,922898,922940,923093,923116,923469,924166,924171,924181,926688,926833,926834,928047,928196,928566,928568,928633,930441,931097,932024,932974,933429,934639,934999,936698,936753,936936,936941,936944,937394,937522,937589,937615,937760,937886,938076,938206,938487,938582,938592,938759,939219,940445,941560,943719,944234,944804,945625,945631,947822,947996,948518,948669,949012,949509,949615,949623,949853,1000097,1000742,1002152,1002672,1002784,1004244,1005354,1005607,1005817,1006364,1006378,1006407,1006435,1007280,1007399,1007524,1008322,1008877,1008894,1008895,1008929,1008937,1009003,1009005,1009012,1009016,1009022,1009076,1009207,1009209,1009232,1009254,1009258,1009262,1010873,1010911,1011443,1011659,1013234,1013536,1013538,1013701,1014306,1014315,1014736,1014738,1015079,1015083,1015086,1015308,1016150,1016287,1016683,1016972,1017115,1017645,1017918,1018331,1018674,1018825,1019231,1020066,1020317,1020580,1020585,1020617,1020918,1021008,1021117,1021223,1021249,1021258,1021642,1021926,1023279,1024716,1025421,1026200,1026710,1027451,1027796,1027817,1029160,1030618,1030815,1031972,1032814,1033225,1033427,1033475,1033505,1033974,1033984,1034184,1034196,1034524,1034541,1034546,1034549,1034642,1034771,1034886,1035350,1035463,1035912,1036248,1036325,1037389,1037558,1037763,1037792,1038661,1039565,1039807,1040190,1040197,1040198,1040210,1040273,1040592,1040762,1041241,1041885,1042046,1044207,1044797,1044905,1044924,1044929,1044936,1046187,1047339,1048921,1049648,1049650,1050442,1050463,1050470,1051359,1052100,1053013,1053054,1053055,1054074,1054425,1054522,1054554,1054677,1055290,1055544,1055963,1055964,1055966,1056053,1056288,1056466,1056488,1056491,1056515,1056516,1056527,1056549,1056559,1056581,1056593,1056807,1056821,1056825,1056827,1056831,1056859,1056958,1056973,1057395,1057439,1058022,1058470,1058800,1059187,1061186,1061768,1062938,1065349,1065350,1066816,1067324,1067926,1067983,1068829,1070134,1071483,1072843,1074027,1074034,1074266,1074273,1076598,1077148,1077583,1078013,1078246,1078658,1078841,1079112,1079114,1079736,1079738,1079930,1080071,1080107,1080117,1080132,1080166,1080171,1080173,1080197,1080201,1080351,1080374,1080380,1080381,1080382,1080386,1080493,1080523,1080628,1080818,1081019,1081198,1082020,1082215,1082327,1082339,1082461,1082491,1082509,1082621,1082917,1083323,1083340,1084207,1084208,1084683,1085041,1085163,1085227,1085601,1085936,1086477,1086483,1086611,1086619,1086762,1086763,1088859,1088875,1088950,1089707,1089755,1089911,1089991,1090413,1091561,1091860,1091923,1092203,1092290,1092351,1092903,1093276,1093589,1094584,1094749,1095836,1096783,1097218,1097278,1097833,1100710,1101250,1102062,1102578,1102598,1103245,1103738,1103804,1103882,1103887,1104186,1104329,1104366,1105468,1105471,1105497,1105837,1105863,1105909,1106129,1106191,1106500,1106505,1106832,1107261,1107310,1108893,1108965,1108969,1109147,1110806,1113629,1114618,1114739,1114928,1115941,1116247,1125727,1125816,1129770,1133219,1134152,1140334,1140771,1142031,1142062,1158583,1389426,1398739,1469219]\n",
    "both = Path(r\"/Users/yo_macbook/Documents/app_data/dropbox_13f_files/processed_tables/TR_01_TEST_676_CIK_CSV_CLEANED_BOTH\")\n",
    "\n",
    "columns = ['cik', 'cusip9','value', 'shares','rdate', 'fdate',\\\n",
    "            'address', 'form', 'shrsOrPrnAmt', 'putCall', 'nameOfIssuer', 'titleOfClass', 'type', 'dsource']\n",
    "\n",
    "pl_dtypes = {'cusip8': str, 'cusip9': str , 'titleOfClass': str, 'form': str, 'putCall': str,\n",
    "            'shrsOrPrnAmt': str, 'value': pl.Float64, 'shares': pl.Float64, 'type': str, 'nameOfIssuer': str,\n",
    "            'cik' : pl.Int64, 'address': str,  'dsource': str}\n",
    "\n",
    "pd_dtypes_validation = {'cusip9': str , 'titleOfClass': str, 'form': 'category',\n",
    "            'putCall': 'category', 'shrsOrPrnAmt': 'category', 'value': 'float64',\n",
    "            'shares': 'float64', 'type': 'category', 'nameOfIssuer': str,\n",
    "            'cik' : 'int64', 'address': 'category',  'dsource': 'category'}\n",
    "\n",
    "\n",
    "# cleaned = [file for file in TR_01_TEST_676_CIK_CSV_CLEANED.glob(\"*.csv\")]\n",
    "# origin_clean = [file for file in TR_01_TEST_676_CIK_CSV_ORIGIN_CLEAN.glob(\"*.csv\")]\n",
    "both_clean = [file for file in both.glob(\"*.csv\")]\n",
    "\n",
    "cik_dfs = []\n",
    "for index, cik in enumerate(selected_cik[:10]):\n",
    "    file_dfs = []\n",
    "    for file in set(both_clean):\n",
    "    # for file in set(cleaned + origin_clean):\n",
    "        if file.name.split(\"-\")[0] == str(cik):\n",
    "            try:\n",
    "                df = pl.read_csv(file, columns=columns, dtypes=pl_dtypes, parse_dates=True) \n",
    "                \n",
    "                df = df.to_pandas().astype(pd_dtypes_validation)\n",
    "                if df.empty: continue\n",
    "\n",
    "                df = (df.assign(row_value_zscore = stats.zscore(df.value),\n",
    "                                file_value_sum = df.value.sum(),\n",
    "                                file_value_max = df.value.max(),\n",
    "                                file_value_min = df.value.min(),\n",
    "                                file_record_count = df.shape[0],\n",
    "                                quarter=df.rdate.dt.to_period(freq=\"Q\").astype(str)))\n",
    "                df_short = df[['cik', 'cusip9', 'rdate', 'fdate',\n",
    "                               'address', 'file_value_sum', 'file_value_max',\n",
    "                               'file_value_min', 'file_record_count', 'quarter']].head(1)\n",
    "               \n",
    "\n",
    "                file_dfs.append(df_short)\n",
    "                df = None\n",
    "            except Exception as e:\n",
    "                print(f\"Problem reading file... {file.name}\")\n",
    "                print(e)\n",
    "      \n",
    "    cik_df = pd.concat(file_dfs)\n",
    "    file_dfs = None\n",
    "\n",
    "    cik_dfs.append(cik_df)\n",
    "big_df = pd.concat(cik_dfs)"
   ]
  },
  {
   "cell_type": "markdown",
   "metadata": {},
   "source": [
    "## Linked brushing across elements\n",
    "\n",
    "When dimensions or an underlying index match across multiple plots,  we can do linked brushing, where user selections are also linked across plots."
   ]
  },
  {
   "cell_type": "code",
   "execution_count": null,
   "metadata": {
    "tags": []
   },
   "outputs": [],
   "source": [
    "# big_df.head(2)\n",
    "# big_df = big_df.assign(quarter_plot = big_df.rdate.dt.to_period(freq='Q'))\n",
    "big_df.head(2)\n",
    "# big_df1 = big_df.set_index('quarter_plot')"
   ]
  },
  {
   "cell_type": "code",
   "execution_count": null,
   "metadata": {},
   "outputs": [],
   "source": [
    "# file_value_sum = big_df.hvplot(\n",
    "#     x='rdate', y='file_value_sum', kind='scatter', responsive=True, min_height=200, groupby=['cik'])\n",
    "\n",
    "# file_count = big_df.hvplot(\n",
    "#         x='rdate', y='file_record_count', kind='scatter', responsive=True, min_height=200, groupby=['cik'])\n",
    "\n",
    "file_value_sum = big_df.hvplot(x='rdate', y='file_value_sum', kind='points', responsive=True, min_height=200, groupby=['cik'])\n",
    "# step, area, bar\n",
    "\n",
    "file_count = big_df.hvplot(x='rdate', y='file_record_count', kind='table', responsive=True, min_height=200, groupby=['cik'])\n",
    "\n",
    "# big_df.info()"
   ]
  },
  {
   "cell_type": "code",
   "execution_count": null,
   "metadata": {},
   "outputs": [],
   "source": [
    "ls = hv.link_selections.instance()"
   ]
  },
  {
   "cell_type": "markdown",
   "metadata": {},
   "source": [
    "Given some HoloViews objects (elements, layouts, etc.), we can create versions of them linked to this shared linking object by calling `ls` on them:"
   ]
  },
  {
   "cell_type": "code",
   "execution_count": null,
   "metadata": {},
   "outputs": [],
   "source": [
    "ls(file_value_sum + file_count)  # scatter doesn't work with quarter being perid. It does work with dates.\n",
    "# error: linked_selection aborted because it could not display selection for all elements: Invalid comparison between dtype=period[Q-DEC] and datetime64\n",
    "\n",
    "# It seems like the `hvplot` doesn't like the `period` dtype for selection\n",
    "# important point: when using the brush selection here, it only selects/highlights, but not filters out other records like in altair"
   ]
  },
  {
   "cell_type": "code",
   "execution_count": null,
   "metadata": {
    "tags": []
   },
   "outputs": [],
   "source": [
    "# select what was filtered\n",
    "ls.filter(big_df)"
   ]
  },
  {
   "cell_type": "markdown",
   "metadata": {},
   "source": [
    "## Linked brushing across element types\n",
    "\n",
    "The previous example linked across two histograms as a first example, but nothing prevents you from linked brushing across different element types. Here are our earthquake points, also derived from the same `DataFrame`, where the only change from earlier is that we are using the reversed warm colormap (described in the previous notebook):"
   ]
  },
  {
   "cell_type": "code",
   "execution_count": null,
   "metadata": {},
   "outputs": [],
   "source": [
    "scatter = big_df.hvplot(x='rdate', y='file_value_max', kind='bar',responsive=True, height=350, framewise=True, groupby=['cik'])"
   ]
  },
  {
   "cell_type": "markdown",
   "metadata": {},
   "source": [
    "Once again, we just need to pass our points to the `ls` object (newly declared here to be independent of the one above) to declare the linkage:"
   ]
  },
  {
   "cell_type": "code",
   "execution_count": null,
   "metadata": {},
   "outputs": [],
   "source": [
    "ls2 = hv.link_selections.instance()\n",
    "\n",
    "(ls2(scatter + file_value_sum)).cols(1)"
   ]
  },
  {
   "cell_type": "markdown",
   "metadata": {},
   "source": [
    "Now you can use the box-select tool to select earthquakes on the map and view their corresponding depth distribution, or vice versa. E.g. if you select just the earthquakes in Alaska, you can see that they tend not to be very deep underground (though that may be a sampling issue). Other selections will show other properties, in this case typically with no obvious relationship between geographic location and depth distribution."
   ]
  },
  {
   "cell_type": "markdown",
   "metadata": {},
   "source": [
    "## Accessing the data selection\n",
    "\n",
    "If you pass your `DataFrame` into the `.filter` method of your linked selection object, you can apply the active filter that you specified interactively:"
   ]
  },
  {
   "cell_type": "code",
   "execution_count": null,
   "metadata": {},
   "outputs": [],
   "source": [
    "ls2.filter(big_df)"
   ]
  },
  {
   "cell_type": "markdown",
   "metadata": {},
   "source": [
    "#### Exercise\n",
    "\n",
    "Try selecting a small number of earthquakes on the map above and re-running the previous cell. You should see that your `DataFrame` only includes the earthquakes you have selected. You can use this linked selections feature in your own workflows by selecting a region of your data, then running subsequent analyses only on that subset of the data (or comparing that subset to the whole data set)."
   ]
  },
  {
   "cell_type": "markdown",
   "metadata": {},
   "source": [
    "## Conclusion\n",
    "\n",
    "When exploring data it can be convenient to use the `.plot` API to quickly visualize a particular dataset. By calling `.hvplot` to generate different plots over the course of a session, it is possible to gradually build up a mental model of how a particular dataset is structured. Linked selections let you see relationships between your data's dimensions and clusters of datapoints much more directly, so that you can:\n",
    "\n",
    "1. Interactively explore high-dimensional data by making selections across different views of the same underlying samples.\n",
    "2. Turn this interactive exploration into a Python subselection of your data, allowing you to continue your data analysis on a subset of your data that you interactively selected.\n",
    "\n",
    "This approach is very general and allows a deeper understanding of high-dimensional data through interactivity. This interactivity is itself built on the very powerful HoloViews 'streams' system which you can leverage for yourself to build youw own [Custom Interactivity](./07_Custom_Interactivity.ipynb) (optional, advanced topic) when necessary.\n",
    "\n",
    "In the next section we will see how to apply data processing in a pipelined form, allowing us to build interactive visualizations driven by user-defined widgets when we want to have custom control over our data processing and selection."
   ]
  }
 ],
 "metadata": {
  "kernelspec": {
   "display_name": "Python 3 (ipykernel)",
   "language": "python",
   "name": "python3"
  },
  "language_info": {
   "codemirror_mode": {
    "name": "ipython",
    "version": 3
   },
   "file_extension": ".py",
   "mimetype": "text/x-python",
   "name": "python",
   "nbconvert_exporter": "python",
   "pygments_lexer": "ipython3",
   "version": "3.10.9"
  }
 },
 "nbformat": 4,
 "nbformat_minor": 4
}
