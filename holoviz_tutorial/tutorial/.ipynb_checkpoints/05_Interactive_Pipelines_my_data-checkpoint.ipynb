{
 "cells": [
  {
   "cell_type": "markdown",
   "id": "13a90283",
   "metadata": {},
   "source": [
    "<style>div.container { width: 100% }</style>\n",
    "<img style=\"float:left;  vertical-align:text-bottom;\" height=\"65\" width=\"172\" src=\"../assets/holoviz-logo-unstacked.svg\" />\n",
    "<div style=\"float:right; vertical-align:text-bottom;\"><h2>Tutorial 5. Interactive Pipelines</h2></div>"
   ]
  },
  {
   "cell_type": "markdown",
   "id": "fbc83ee5",
   "metadata": {},
   "source": [
    "The plots built up over the first few tutorials were all highly interactive in the web browser, with interactivity provided by Bokeh plotting tools within the plots or in some cases by HoloViews generating a Bokeh widget to select for a `groupby` over a categorical variable. However, when you are exploring a dataset, you might want to see how _any_ aspect of the data or plot changes if varied interactively. Luckily, hvPlot makes it almost trivially easy to do this, so that you can very easily explore any parameter or setting in your code. \n",
    "\n",
    "## Panel widgets\n",
    "\n",
    "To do this, we will need a widget library, and here we will be using [Panel](https://panel.holoviz.org/) to generate Bokeh widgets under user control, just as hvPlot uses Panel to generate widgets for a `groupby` as shown previously. Let's first get ahold of a Panel widget to see how they work. Here, let's create a Panel floating-point number slider to specify an earthquake magnitude between zero and nine:"
   ]
  },
  {
   "cell_type": "code",
   "execution_count": null,
   "id": "24487f9e",
   "metadata": {
    "tags": []
   },
   "outputs": [],
   "source": [
    "import pathlib\n",
    "\n",
    "import holoviews as hv\n",
    "import hvplot.pandas # noqa\n",
    "import numpy as np\n",
    "import pandas as pd\n",
    "import panel as pn\n",
    "\n",
    "pn.extension(sizing_mode='stretch_width')"
   ]
  },
  {
   "cell_type": "code",
   "execution_count": null,
   "id": "ceb62a81-db61-49b0-917f-89c37cc0a701",
   "metadata": {
    "tags": []
   },
   "outputs": [],
   "source": [
    "selected_cik = [2230,3520,5272,7195,7789,9015,10742,14661,16972,18349,18748,19475,19617,21175,22657,24386,35442,35527,36066,36104,36644,36966,38777,39263,40417,40545,44365,45319,49205,50863,51762,51812,51964,52234,53417,59558,59951,60086,61227,67698,70858,71210,71259,72971,73124,80255,84616,89014,92230,93751,98758,102212,102909,105495,108572,200217,201772,216851,276101,310051,312348,313028,313807,314949,314957,314984,315014,315032,315038,315054,315066,315080,315157,315297,315498,316011,318989,320335,320376,351051,351173,351262,354204,356264,700529,704051,707179,712537,713676,714142,720672,723204,728083,728100,728618,732905,733020,740272,740913,741073,743127,750641,754811,757657,759944,762152,763212,763848,764068,764106,764112,764529,764532,765443,769317,769954,769963,775368,776867,778963,779519,788714,790354,790502,791191,791490,796848,799003,799004,801051,806097,807249,807985,808722,809339,809443,810265,810384,810386,810672,810716,811360,811454,813917,813933,814133,814375,816788,819535,820027,820123,820124,820289,820478,820743,821197,822581,823621,825293,829407,831001,831571,836372,837592,842782,842941,846222,846633,846788,846797,850401,850529,852743,854157,857508,859872,860486,860561,860580,860585,860643,860644,860645,860662,860748,860828,860857,861176,861177,861462,861787,862469,866361,866842,868491,869178,869179,869353,869367,872080,872163,872259,872573,872732,873630,874791,877134,877338,878228,881432,883511,883677,883782,883790,883803,883961,883965,884300,884314,884414,884423,884541,884546,884548,884566,884589,885062,885415,886982,887402,887777,887818,889232,891287,891478,893738,894205,894300,894309,895213,895421,897070,897378,897599,898358,898382,898399,898413,899211,900169,900529,900973,902219,902367,902464,902584,903064,903944,903947,903949,905567,905591,905608,906304,908195,909151,909661,911274,912938,914933,914976,915287,915325,916542,917579,918893,919079,919185,919192,919458,919489,919497,919530,919538,919859,920440,920441,921531,921669,922127,922439,922898,922940,923093,923116,923469,924166,924171,924181,926688,926833,926834,928047,928196,928566,928568,928633,930441,931097,932024,932974,933429,934639,934999,936698,936753,936936,936941,936944,937394,937522,937589,937615,937760,937886,938076,938206,938487,938582,938592,938759,939219,940445,941560,943719,944234,944804,945625,945631,947822,947996,948518,948669,949012,949509,949615,949623,949853,1000097,1000742,1002152,1002672,1002784,1004244,1005354,1005607,1005817,1006364,1006378,1006407,1006435,1007280,1007399,1007524,1008322,1008877,1008894,1008895,1008929,1008937,1009003,1009005,1009012,1009016,1009022,1009076,1009207,1009209,1009232,1009254,1009258,1009262,1010873,1010911,1011443,1011659,1013234,1013536,1013538,1013701,1014306,1014315,1014736,1014738,1015079,1015083,1015086,1015308,1016150,1016287,1016683,1016972,1017115,1017645,1017918,1018331,1018674,1018825,1019231,1020066,1020317,1020580,1020585,1020617,1020918,1021008,1021117,1021223,1021249,1021258,1021642,1021926,1023279,1024716,1025421,1026200,1026710,1027451,1027796,1027817,1029160,1030618,1030815,1031972,1032814,1033225,1033427,1033475,1033505,1033974,1033984,1034184,1034196,1034524,1034541,1034546,1034549,1034642,1034771,1034886,1035350,1035463,1035912,1036248,1036325,1037389,1037558,1037763,1037792,1038661,1039565,1039807,1040190,1040197,1040198,1040210,1040273,1040592,1040762,1041241,1041885,1042046,1044207,1044797,1044905,1044924,1044929,1044936,1046187,1047339,1048921,1049648,1049650,1050442,1050463,1050470,1051359,1052100,1053013,1053054,1053055,1054074,1054425,1054522,1054554,1054677,1055290,1055544,1055963,1055964,1055966,1056053,1056288,1056466,1056488,1056491,1056515,1056516,1056527,1056549,1056559,1056581,1056593,1056807,1056821,1056825,1056827,1056831,1056859,1056958,1056973,1057395,1057439,1058022,1058470,1058800,1059187,1061186,1061768,1062938,1065349,1065350,1066816,1067324,1067926,1067983,1068829,1070134,1071483,1072843,1074027,1074034,1074266,1074273,1076598,1077148,1077583,1078013,1078246,1078658,1078841,1079112,1079114,1079736,1079738,1079930,1080071,1080107,1080117,1080132,1080166,1080171,1080173,1080197,1080201,1080351,1080374,1080380,1080381,1080382,1080386,1080493,1080523,1080628,1080818,1081019,1081198,1082020,1082215,1082327,1082339,1082461,1082491,1082509,1082621,1082917,1083323,1083340,1084207,1084208,1084683,1085041,1085163,1085227,1085601,1085936,1086477,1086483,1086611,1086619,1086762,1086763,1088859,1088875,1088950,1089707,1089755,1089911,1089991,1090413,1091561,1091860,1091923,1092203,1092290,1092351,1092903,1093276,1093589,1094584,1094749,1095836,1096783,1097218,1097278,1097833,1100710,1101250,1102062,1102578,1102598,1103245,1103738,1103804,1103882,1103887,1104186,1104329,1104366,1105468,1105471,1105497,1105837,1105863,1105909,1106129,1106191,1106500,1106505,1106832,1107261,1107310,1108893,1108965,1108969,1109147,1110806,1113629,1114618,1114739,1114928,1115941,1116247,1125727,1125816,1129770,1133219,1134152,1140334,1140771,1142031,1142062,1158583,1389426,1398739,1469219]"
   ]
  },
  {
   "cell_type": "code",
   "execution_count": null,
   "id": "27c528b6",
   "metadata": {
    "tags": []
   },
   "outputs": [],
   "source": [
    "# integer based slider\n",
    "cik_slider = pn.widgets.IntSlider(name='CIK', start=selected_cik[0], end=selected_cik[-1], value=selected_cik[0])\n",
    "cik_slider"
   ]
  },
  {
   "cell_type": "markdown",
   "id": "68a52649",
   "metadata": {},
   "source": [
    "The widget is a JavaScript object, but there are bidirectional connections between JS and Python that let us see and change the value of this slider using its `value` parameter:"
   ]
  },
  {
   "cell_type": "code",
   "execution_count": null,
   "id": "5511a5a3",
   "metadata": {},
   "outputs": [],
   "source": [
    "cik_slider.value"
   ]
  },
  {
   "cell_type": "code",
   "execution_count": null,
   "id": "66812671",
   "metadata": {},
   "outputs": [],
   "source": [
    "cik_slider.value = 70000"
   ]
  },
  {
   "cell_type": "markdown",
   "id": "7712f7b9",
   "metadata": {},
   "source": [
    "# hvPlot .interactive()\n",
    "\n",
    "hvPlot provides an easy way to connect widgets directly into an expression you want to control.\n",
    "\n",
    "First, let's read in our data:"
   ]
  },
  {
   "cell_type": "code",
   "execution_count": null,
   "id": "8a10d6f0",
   "metadata": {},
   "outputs": [],
   "source": [
    "%%time\n",
    "\n",
    "from pathlib import Path\n",
    "import pandas as pd\n",
    "import polars as pl\n",
    "from scipy import stats\n",
    "\n",
    "selected_cik = [2230,3520,5272,7195,7789,9015,10742,14661,16972,18349,18748,19475,19617,21175,22657,24386,35442,35527,36066,36104,36644,36966,38777,39263,40417,40545,44365,45319,49205,50863,51762,51812,51964,52234,53417,59558,59951,60086,61227,67698,70858,71210,71259,72971,73124,80255,84616,89014,92230,93751,98758,102212,102909,105495,108572,200217,201772,216851,276101,310051,312348,313028,313807,314949,314957,314984,315014,315032,315038,315054,315066,315080,315157,315297,315498,316011,318989,320335,320376,351051,351173,351262,354204,356264,700529,704051,707179,712537,713676,714142,720672,723204,728083,728100,728618,732905,733020,740272,740913,741073,743127,750641,754811,757657,759944,762152,763212,763848,764068,764106,764112,764529,764532,765443,769317,769954,769963,775368,776867,778963,779519,788714,790354,790502,791191,791490,796848,799003,799004,801051,806097,807249,807985,808722,809339,809443,810265,810384,810386,810672,810716,811360,811454,813917,813933,814133,814375,816788,819535,820027,820123,820124,820289,820478,820743,821197,822581,823621,825293,829407,831001,831571,836372,837592,842782,842941,846222,846633,846788,846797,850401,850529,852743,854157,857508,859872,860486,860561,860580,860585,860643,860644,860645,860662,860748,860828,860857,861176,861177,861462,861787,862469,866361,866842,868491,869178,869179,869353,869367,872080,872163,872259,872573,872732,873630,874791,877134,877338,878228,881432,883511,883677,883782,883790,883803,883961,883965,884300,884314,884414,884423,884541,884546,884548,884566,884589,885062,885415,886982,887402,887777,887818,889232,891287,891478,893738,894205,894300,894309,895213,895421,897070,897378,897599,898358,898382,898399,898413,899211,900169,900529,900973,902219,902367,902464,902584,903064,903944,903947,903949,905567,905591,905608,906304,908195,909151,909661,911274,912938,914933,914976,915287,915325,916542,917579,918893,919079,919185,919192,919458,919489,919497,919530,919538,919859,920440,920441,921531,921669,922127,922439,922898,922940,923093,923116,923469,924166,924171,924181,926688,926833,926834,928047,928196,928566,928568,928633,930441,931097,932024,932974,933429,934639,934999,936698,936753,936936,936941,936944,937394,937522,937589,937615,937760,937886,938076,938206,938487,938582,938592,938759,939219,940445,941560,943719,944234,944804,945625,945631,947822,947996,948518,948669,949012,949509,949615,949623,949853,1000097,1000742,1002152,1002672,1002784,1004244,1005354,1005607,1005817,1006364,1006378,1006407,1006435,1007280,1007399,1007524,1008322,1008877,1008894,1008895,1008929,1008937,1009003,1009005,1009012,1009016,1009022,1009076,1009207,1009209,1009232,1009254,1009258,1009262,1010873,1010911,1011443,1011659,1013234,1013536,1013538,1013701,1014306,1014315,1014736,1014738,1015079,1015083,1015086,1015308,1016150,1016287,1016683,1016972,1017115,1017645,1017918,1018331,1018674,1018825,1019231,1020066,1020317,1020580,1020585,1020617,1020918,1021008,1021117,1021223,1021249,1021258,1021642,1021926,1023279,1024716,1025421,1026200,1026710,1027451,1027796,1027817,1029160,1030618,1030815,1031972,1032814,1033225,1033427,1033475,1033505,1033974,1033984,1034184,1034196,1034524,1034541,1034546,1034549,1034642,1034771,1034886,1035350,1035463,1035912,1036248,1036325,1037389,1037558,1037763,1037792,1038661,1039565,1039807,1040190,1040197,1040198,1040210,1040273,1040592,1040762,1041241,1041885,1042046,1044207,1044797,1044905,1044924,1044929,1044936,1046187,1047339,1048921,1049648,1049650,1050442,1050463,1050470,1051359,1052100,1053013,1053054,1053055,1054074,1054425,1054522,1054554,1054677,1055290,1055544,1055963,1055964,1055966,1056053,1056288,1056466,1056488,1056491,1056515,1056516,1056527,1056549,1056559,1056581,1056593,1056807,1056821,1056825,1056827,1056831,1056859,1056958,1056973,1057395,1057439,1058022,1058470,1058800,1059187,1061186,1061768,1062938,1065349,1065350,1066816,1067324,1067926,1067983,1068829,1070134,1071483,1072843,1074027,1074034,1074266,1074273,1076598,1077148,1077583,1078013,1078246,1078658,1078841,1079112,1079114,1079736,1079738,1079930,1080071,1080107,1080117,1080132,1080166,1080171,1080173,1080197,1080201,1080351,1080374,1080380,1080381,1080382,1080386,1080493,1080523,1080628,1080818,1081019,1081198,1082020,1082215,1082327,1082339,1082461,1082491,1082509,1082621,1082917,1083323,1083340,1084207,1084208,1084683,1085041,1085163,1085227,1085601,1085936,1086477,1086483,1086611,1086619,1086762,1086763,1088859,1088875,1088950,1089707,1089755,1089911,1089991,1090413,1091561,1091860,1091923,1092203,1092290,1092351,1092903,1093276,1093589,1094584,1094749,1095836,1096783,1097218,1097278,1097833,1100710,1101250,1102062,1102578,1102598,1103245,1103738,1103804,1103882,1103887,1104186,1104329,1104366,1105468,1105471,1105497,1105837,1105863,1105909,1106129,1106191,1106500,1106505,1106832,1107261,1107310,1108893,1108965,1108969,1109147,1110806,1113629,1114618,1114739,1114928,1115941,1116247,1125727,1125816,1129770,1133219,1134152,1140334,1140771,1142031,1142062,1158583,1389426,1398739,1469219]\n",
    "both = Path(r\"/Users/yo_macbook/Documents/app_data/dropbox_13f_files/processed_tables/TR_01_TEST_676_CIK_CSV_CLEANED_BOTH\")\n",
    "\n",
    "columns = ['cik', 'cusip9','value', 'shares','rdate', 'fdate',\\\n",
    "            'address', 'form', 'shrsOrPrnAmt', 'putCall', 'nameOfIssuer', 'titleOfClass', 'type', 'dsource']\n",
    "\n",
    "pl_dtypes = {'cusip8': str, 'cusip9': str , 'titleOfClass': str, 'form': str, 'putCall': str,\n",
    "            'shrsOrPrnAmt': str, 'value': pl.Float64, 'shares': pl.Float64, 'type': str, 'nameOfIssuer': str,\n",
    "            'cik' : pl.Int64, 'address': str,  'dsource': str}\n",
    "\n",
    "pd_dtypes_validation = {'cusip9': str , 'titleOfClass': str, 'form': 'category',\n",
    "            'putCall': 'category', 'shrsOrPrnAmt': 'category', 'value': 'float64',\n",
    "            'shares': 'float64', 'type': 'category', 'nameOfIssuer': str,\n",
    "            'cik' : 'int64', 'address': 'category',  'dsource': 'category'}\n",
    "\n",
    "\n",
    "# cleaned = [file for file in TR_01_TEST_676_CIK_CSV_CLEANED.glob(\"*.csv\")]\n",
    "# origin_clean = [file for file in TR_01_TEST_676_CIK_CSV_ORIGIN_CLEAN.glob(\"*.csv\")]\n",
    "both_clean = [file for file in both.glob(\"*.csv\")]\n",
    "\n",
    "cik_dfs = []\n",
    "for index, cik in enumerate(selected_cik[:10]):\n",
    "    file_dfs = []\n",
    "    for file in set(both_clean):\n",
    "    # for file in set(cleaned + origin_clean):\n",
    "        if file.name.split(\"-\")[0] == str(cik):\n",
    "            try:\n",
    "                df = pl.read_csv(file, columns=columns, dtypes=pl_dtypes, parse_dates=True) \n",
    "                \n",
    "                df = df.to_pandas().astype(pd_dtypes_validation)\n",
    "                if df.empty: continue\n",
    "\n",
    "                df = (df.assign(row_value_zscore = stats.zscore(df.value),\n",
    "                                file_value_sum = df.value.sum(),\n",
    "                                file_value_max = df.value.max(),\n",
    "                                file_value_min = df.value.min(),\n",
    "                                file_record_count = df.shape[0],\n",
    "                                quarter=df.rdate.dt.to_period(freq=\"Q\").astype(str)))\n",
    "                df_short = df[['cik', 'cusip9', 'rdate', 'fdate',\n",
    "                               'address', 'file_value_sum', 'file_value_max',\n",
    "                               'file_value_min', 'file_record_count', 'quarter']].head(1)\n",
    "               \n",
    "\n",
    "                file_dfs.append(df_short)\n",
    "                df = None\n",
    "            except Exception as e:\n",
    "                print(f\"Problem reading file... {file.name}\")\n",
    "                print(e)\n",
    "      \n",
    "    cik_df = pd.concat(file_dfs)\n",
    "    file_dfs = None\n",
    "\n",
    "    cik_dfs.append(cik_df)\n",
    "big_df = pd.concat(cik_dfs)"
   ]
  },
  {
   "cell_type": "markdown",
   "id": "1ac5cbbf",
   "metadata": {},
   "source": [
    "\n"
   ]
  },
  {
   "cell_type": "code",
   "execution_count": null,
   "id": "9fdaa5ce-5873-47bf-af5f-abee8b5df15f",
   "metadata": {
    "tags": []
   },
   "outputs": [],
   "source": [
    "big_df = big_df.assign(quarter_plot = big_df.rdate.dt.to_period(freq='Q'))"
   ]
  },
  {
   "cell_type": "code",
   "execution_count": null,
   "id": "9a61ddd9-a8ce-4060-866f-440abbbbd369",
   "metadata": {
    "tags": []
   },
   "outputs": [],
   "source": [
    "# selection/dropdown menu based on values in a list\n",
    "\n",
    "\n",
    "cik_dropdown = pn.widgets.Select(name='CIK', options=big_df.cik.unique().tolist(), value=big_df.cik.unique().tolist()[0])\n",
    "cik_dropdown"
   ]
  },
  {
   "cell_type": "code",
   "execution_count": null,
   "id": "d9bfa63e-880f-48e2-95a6-2351af778e32",
   "metadata": {
    "tags": []
   },
   "outputs": [],
   "source": []
  },
  {
   "cell_type": "code",
   "execution_count": null,
   "id": "05a23e19",
   "metadata": {},
   "outputs": [],
   "source": [
    "cusip_slider = pn.widgets.DiscreteSlider(\n",
    "    value=sorted(big_df.cusip9.unique().tolist())[0],\n",
    "    options=sorted(big_df.cusip9.unique().tolist()),\n",
    "    name=\"CUSIP\",\n",
    ")\n",
    "cusip_slider"
   ]
  },
  {
   "cell_type": "markdown",
   "id": "5d61fde9",
   "metadata": {},
   "source": [
    "What if instead of '5', we want the output above always to reflect the current value of `mag_slider`? We can do that by using hvPlot's `.interactive()` support, passing in a widget almost anywhere we want in a pipeline:"
   ]
  },
  {
   "cell_type": "code",
   "execution_count": null,
   "id": "2c08f4d0",
   "metadata": {},
   "outputs": [],
   "source": [
    "big_dfi = big_df.interactive()\n",
    "\n",
    "# big_dfi[(big_dfi['cik']== cik_dropdown) & (big_dfi['cusip9']== cusip_slider) ].head()\n",
    "big_dfi[(big_dfi['cik']== cik_dropdown) ].head()"
   ]
  },
  {
   "cell_type": "markdown",
   "id": "79795805",
   "metadata": {},
   "source": [
    "Here, `.interactive` is a wrapper around your DataFrame or Xarray object that lets you provide Panel widgets almost anywhere you'd otherwise be using a number. Just as importing `hvplot.pandas` provides a `.hvplot()` method or object on your dataframe, it also provides a `.interactive` method or object that gives you a general-purpose *interactive* `Dataframe` driven by widgets. `.interactive` stores a copy of your pipeline (series of method calls or other expressions on your data) and dynamically replays the pipeline whenever that widget changes. \n",
    "\n",
    "`.interactive` supports just about any output you might want to get out of such a pipeline, such as text or numbers:"
   ]
  },
  {
   "cell_type": "code",
   "execution_count": null,
   "id": "fdfdf768",
   "metadata": {},
   "outputs": [],
   "source": [
    "big_dfi[(big_dfi['cik']== cik_dropdown) ].shape"
   ]
  },
  {
   "cell_type": "markdown",
   "id": "9c652d40",
   "metadata": {},
   "source": [
    "Or Matplotlib plots:"
   ]
  },
  {
   "cell_type": "code",
   "execution_count": null,
   "id": "b3c8fe64",
   "metadata": {},
   "outputs": [],
   "source": [
    "big_dfi[(big_dfi['cik']== cik_dropdown) ].plot(y='file_value_sum', kind='hist')"
   ]
  },
  {
   "cell_type": "markdown",
   "id": "ca593fa4",
   "metadata": {},
   "source": [
    "Each time you drag the widget, hvPlot replays the pipeline and updates the output shown. \n",
    "\n",
    "Of course, `.interactive` also supports `.hvplot()`, here with a new copy of a widget so that it will be independent of the other cells above:"
   ]
  },
  {
   "cell_type": "code",
   "execution_count": null,
   "id": "61e975c5",
   "metadata": {},
   "outputs": [],
   "source": [
    "\n",
    "cik_dropdown2 = pn.widgets.Select(name='CIK', options=big_df.cik.unique().tolist(), value=big_df.cik.unique().tolist()[0])\n",
    "cik_slider2 = pn.widgets.DiscreteSlider(name='CIK', options=big_df.cik.unique().tolist(), value=big_df.cik.unique().tolist()[0])\n",
    "\n",
    "big_dfi[(big_dfi['cik']== cik_dropdown2)  | (big_dfi['cik']== cik_slider2)].hvplot(y='file_value_sum', kind='hist')"
   ]
  },
  {
   "cell_type": "markdown",
   "id": "f4720472",
   "metadata": {},
   "source": [
    "You can see that the depth distribution varies dramatically as you vary the minimum magnitude, with the lowest magnitude events apparently only detectable at short depths. There also seems to be some artifact at depth 10, which is the largest bin regardless of the filtering for all but the largest magnitudes."
   ]
  },
  {
   "cell_type": "markdown",
   "id": "28e54e33",
   "metadata": {},
   "source": [
    "## Date widgets\n",
    "\n",
    "A `.interactive()` pipeline can contain any number of widgets, including any from the Panel [reference gallery](https://panel.holoviz.org/reference/index.html#widgets). For instance, let's make a widget to specify a date range covering the dates found in this data:"
   ]
  },
  {
   "cell_type": "code",
   "execution_count": null,
   "id": "e10c79c9",
   "metadata": {},
   "outputs": [],
   "source": [
    "date = pn.widgets.DateRangeSlider(name='quarter', start=big_df.rdate.min(), end=big_df.rdate.max())\n",
    "date"
   ]
  },
  {
   "cell_type": "markdown",
   "id": "2be9e96d",
   "metadata": {},
   "source": [
    "Now we can access the value of this slider:"
   ]
  },
  {
   "cell_type": "code",
   "execution_count": null,
   "id": "78dbee87",
   "metadata": {},
   "outputs": [],
   "source": [
    "date.value"
   ]
  },
  {
   "cell_type": "markdown",
   "id": "57145c1e",
   "metadata": {},
   "source": [
    "As this widget is specifying a range, this time the value is returned as a tuple. If you prefer, you can get the components of the tuple directly via the `value_start` and `value_end` parameters respectively:"
   ]
  },
  {
   "cell_type": "code",
   "execution_count": null,
   "id": "76db4d84",
   "metadata": {},
   "outputs": [],
   "source": [
    "f'Start is at {date.value_start.date()} and the end is at {date.value_end.date()}'"
   ]
  },
  {
   "cell_type": "markdown",
   "id": "4f241011",
   "metadata": {},
   "source": [
    "Once again, try specifying different ranges with the widgets and rerunning the cell above."
   ]
  },
  {
   "cell_type": "markdown",
   "id": "80c27071",
   "metadata": {},
   "source": [
    "Now let's use this widget to expand our expression to filter by date as well as magnitude:"
   ]
  },
  {
   "cell_type": "code",
   "execution_count": null,
   "id": "09885761",
   "metadata": {},
   "outputs": [],
   "source": [
    "value = pn.widgets.FloatSlider(name='sum value', start=big_df.file_value_sum.min(), end=big_df.file_value_sum.max(), value=big_df.file_value_sum.min())\n",
    "cik_dropdown = pn.widgets.Select(name='CIK', options=big_df.cik.unique().tolist(), value=big_df.cik.unique().tolist()[0])\n",
    "date = pn.widgets.DateRangeSlider(name='quarter', start=big_df.rdate.min(), end=big_df.rdate.max())\n",
    "filtered = big_dfi[\n",
    "    (big_dfi.cik == cik_dropdown) &\n",
    "    (big_dfi.file_value_sum  > value) &\n",
    "    (big_dfi.rdate >= date.param.value_start) &\n",
    "    (big_dfi.rdate <= date.param.value_end)]\n",
    "\n",
    "filtered.head()"
   ]
  },
  {
   "cell_type": "markdown",
   "id": "ff1d9055",
   "metadata": {},
   "source": [
    "You can now use either the magnitude or the date range (or both) to filter the data, and the output will update. Note that here you want to move the start date of the range slider rather than the end; otherwise, you may not see the table change because the earthquakes are displayed in date order."
   ]
  },
  {
   "cell_type": "markdown",
   "id": "6d7b811f",
   "metadata": {
    "tags": []
   },
   "source": [
    "#### Exercise\n",
    "\n",
    "To specify the minimum earthquake magnitude, notice that we supplied the whole `mag` widget but `.interactive()` used only the `value` parameter of this widget by default. To be explicit, you may use `mag.param.value` instead if you wish. Try it!"
   ]
  },
  {
   "cell_type": "code",
   "execution_count": null,
   "id": "c8793215-5e20-4207-9c0f-f36f52cfd291",
   "metadata": {
    "tags": []
   },
   "outputs": [],
   "source": [
    "value = pn.widgets.FloatSlider(name='sum value', start=big_df.file_value_sum.min(), end=big_df.file_value_sum.max(), value=big_df.file_value_sum.min())\n",
    "cik_dropdown = pn.widgets.Select(name='CIK', options=big_df.cik.unique().tolist(), value=big_df.cik.unique().tolist()[0])\n",
    "date = pn.widgets.DateRangeSlider(name='quarter', start=big_df.rdate.min(), end=big_df.rdate.max())\n",
    "filtered = big_dfi[\n",
    "    (big_dfi.cik == cik_dropdown) &\n",
    "    (big_dfi.file_value_sum  > value.param.value) &\n",
    "    (big_dfi.rdate >= date.param.value_start) &\n",
    "    (big_dfi.rdate <= date.param.value_end)]\n",
    "\n",
    "filtered.head()"
   ]
  },
  {
   "cell_type": "markdown",
   "id": "02a76d56",
   "metadata": {},
   "source": [
    "#### Exercise\n",
    "\n",
    "For readability, seven columns were chosen before displaying the `DataFrame`. Have a look at `df.columns` and pick a different set of columns for display."
   ]
  },
  {
   "cell_type": "markdown",
   "id": "65ccf0cf",
   "metadata": {},
   "source": [
    "## Functions as inputs\n",
    "\n",
    "Quite often the data structure you want to explore in a pipeline, may itself be the outcome of another pipeline. It may for instance be a Pandas Dataframe created by extracting and transforming the output of a database or an API call, or it could be the dynamic output of some simulation or pre-processing. With `hvplot.bind` you can start with an arbitrary custom function that returns the data structure you want to explore and then bind that function's argument to widgets. Then when those widgets change, the function will get called to get the updated output.\n",
    "\n",
    "To keep this example self-contained we'll illustrate this process using a simple function that filters the earthquakes dataset by event type and returns a DataFrame. Of course, this function could include _any_ computation that returns a DataFrame, including selecting data files on disk or making a query to a database."
   ]
  },
  {
   "cell_type": "code",
   "execution_count": null,
   "id": "60a1547d",
   "metadata": {},
   "outputs": [],
   "source": [
    "# def input_function(event_type):\n",
    "#     df2 = df[['mag', 'depth', 'latitude', 'longitude', 'place', 'type']]\n",
    "#     return df2[df2['type'] == event_type]\n",
    "\n",
    "def input_function(df, cik):\n",
    "    return df[df['cik'] == cik]"
   ]
  },
  {
   "cell_type": "markdown",
   "id": "bcb4c70e",
   "metadata": {},
   "source": [
    "We can then create a Panel `Select` widget with a few options and bind it to the `input_function`. Calling `.interactive()` on the bound object is what allows it to be used in an interactive pipeline, as we previously did with `dfi`."
   ]
  },
  {
   "cell_type": "code",
   "execution_count": null,
   "id": "6e7f83c2",
   "metadata": {},
   "outputs": [],
   "source": [
    "# cik dropdown is inside the funcion itself and the value slider is referenced in the final `inputi` comparison\n",
    "cik_dropdown = pn.widgets.Select(name='CIK', options=big_df.cik.unique().tolist(), value=big_df.cik.unique().tolist()[0])\n",
    "value = pn.widgets.FloatSlider(name='sum value', start=big_df.file_value_sum.min(), end=big_df.file_value_sum.max(), value=big_df.file_value_sum.min())\n",
    "\n",
    "inputi = hvplot.bind(input_function, big_df, cik_dropdown).interactive()"
   ]
  },
  {
   "cell_type": "code",
   "execution_count": null,
   "id": "4881543e-be58-4a5e-945a-9125730c8610",
   "metadata": {
    "tags": []
   },
   "outputs": [],
   "source": [
    "inputi[inputi['file_value_sum'] > value].head(2)\n",
    "\n"
   ]
  },
  {
   "cell_type": "markdown",
   "id": "705e7b20",
   "metadata": {},
   "source": [
    "## .interactive() and HoloViews \n",
    "\n",
    "`.interactive()` lets you work naturally with the compositional HoloViews plots provided by `.hvplot()`. Here, let's combine such plots using the HoloViews `+` operator:"
   ]
  },
  {
   "cell_type": "code",
   "execution_count": null,
   "id": "feb03fb1",
   "metadata": {},
   "outputs": [],
   "source": [
    "value = pn.widgets.FloatSlider(name='sum value', start=big_df.file_value_sum.min(), end=big_df.file_value_sum.max(), value=big_df.file_value_sum.min())\n",
    "cik_dropdown = pn.widgets.Select(name='CIK', options=big_df.cik.unique().tolist(), value=big_df.cik.unique().tolist()[0])\n",
    "date = pn.widgets.DateRangeSlider(name='quarter', start=big_df.rdate.min(), end=big_df.rdate.max())\n",
    "filtered = big_dfi[\n",
    "    (big_dfi.cik == cik_dropdown) &\n",
    "    (big_dfi.file_value_sum  > value.param.value) &\n",
    "    (big_dfi.rdate >= date.param.value_start) &\n",
    "    (big_dfi.rdate <= date.param.value_end)]\n",
    "\n",
    "\n",
    "points   = filtered.hvplot(x='rdate', y='file_value_sum',   kind='points', responsive=True, min_height=200)\n",
    "line = filtered.hvplot(x='rdate', kind='table', responsive=True, min_height=200)\n",
    "# points + line\n",
    "\n",
    "ls = hv.link_selections.instance()\n",
    "\n",
    "ls(points.holoviews()) + ls(line.holoviews())"
   ]
  },
  {
   "cell_type": "code",
   "execution_count": null,
   "id": "9cec7502-c9d6-4e71-b915-dc129462a54f",
   "metadata": {
    "tags": []
   },
   "outputs": [],
   "source": [
    "ls.filter(big_df)"
   ]
  },
  {
   "cell_type": "markdown",
   "id": "02a7b4b7",
   "metadata": {},
   "source": [
    "These are the same two histograms we saw earlier, but now we can filter them on data dimensions like `time` that aren't even explicitly shown in the plot, using the Panel widgets.\n",
    "\n",
    "## Filtering earthquakes on a map\n",
    "\n",
    "To display the earthquakes on a map, we will first create a subset of the data to make it quick to update without needing Datashader.:"
   ]
  },
  {
   "cell_type": "code",
   "execution_count": null,
   "id": "2040dd0f",
   "metadata": {},
   "outputs": [],
   "source": [
    "subset_df = df[\n",
    "            (df.northing <  WEB_MERCATOR_LIMITS[1]) &\n",
    "            (df.mag      >  4) &\n",
    "            (df.index    >= pd.Timestamp('2017-01-01')) &\n",
    "            (df.index    <= pd.Timestamp('2018-01-01'))]"
   ]
  },
  {
   "cell_type": "markdown",
   "id": "53ac44a1",
   "metadata": {},
   "source": [
    "Now we can make a new interactive `DataFrame` from this new subselection:"
   ]
  },
  {
   "cell_type": "code",
   "execution_count": null,
   "id": "ed41c9ef",
   "metadata": {},
   "outputs": [],
   "source": [
    "subset_dfi = subset_df.interactive(sizing_mode='stretch_width')"
   ]
  },
  {
   "cell_type": "markdown",
   "id": "6146763f",
   "metadata": {},
   "source": [
    "And now we can declare our widgets and use them to filter the interactive `DataFrame` as before:"
   ]
  },
  {
   "cell_type": "code",
   "execution_count": null,
   "id": "7f80f5a1",
   "metadata": {},
   "outputs": [],
   "source": [
    "cik_dropdown = pn.widgets.Select(name='CIK', options=big_df.cik.unique().tolist(), value=big_df.cik.unique().tolist()[0])\n",
    "date = pn.widgets.DateRangeSlider(name='quarter', start=big_df.rdate.min(), end=big_df.rdate.max())\n",
    "filtered_subrange = big_dfi[\n",
    "    (big_dfi.cik == cik_dropdown) &\n",
    "    (big_dfi.rdate >= date.param.value_start) &\n",
    "    (big_dfi.rdate <= date.param.value_end)]\n",
    "\n",
    "plot = filtered_subrange.hvplot(x='rdate', y='file_value_sum',\n",
    "    kind='points',\n",
    "    responsive=True, min_height=300)\n",
    "plot\n"
   ]
  },
  {
   "cell_type": "markdown",
   "id": "d03b3495",
   "metadata": {},
   "source": [
    "Now we can plot the earthquakes on an ESRI tilesource, including the filtering widgets as follows:"
   ]
  },
  {
   "cell_type": "markdown",
   "id": "dd71b56e",
   "metadata": {},
   "source": [
    "\n",
    "## Terminating methods for `.interactive`\n",
    "\n",
    "The examples above all illustrate cases where you can display the output of `.interactive()` and not worry about its type, which is no longer a DataFrame or a HoloViews object, but an `Interactive` object:"
   ]
  },
  {
   "cell_type": "code",
   "execution_count": null,
   "id": "637a043e",
   "metadata": {},
   "outputs": [],
   "source": [
    "type(plot)"
   ]
  },
  {
   "cell_type": "markdown",
   "id": "8559a1b7",
   "metadata": {},
   "source": [
    "What if you need to work with some part of the interactive pipeline, e.g. to feed it to some function or object that does not understand `Interactive` objects? In such a case, you can use what is called a `terminating method` on your Interactive object to get at the underlying object for you to use.\n",
    "\n",
    "For instance, let's create magnitude and depth histograms on this subset of the data as in an earlier notebook and see if we can enable linked selections on them:"
   ]
  },
  {
   "cell_type": "code",
   "execution_count": null,
   "id": "dc408383",
   "metadata": {},
   "outputs": [],
   "source": [
    "sum_subpoints   = filtered_subrange.hvplot(x='rdate', y='file_value_sum',   kind='points', responsive=True, min_height=200)\n",
    "count_subpoints = filtered_subrange.hvplot(x='rdate', y='file_record_count', kind='points', responsive=True, min_height=200)\n",
    "\n",
    "combined = sum_subpoints + count_subpoints\n",
    "combined"
   ]
  },
  {
   "cell_type": "markdown",
   "id": "984b3a0a",
   "metadata": {},
   "source": [
    "Note that this looks like a HoloViews layout with some widgets, but this object is *not* a HoloViews object. Instead it is still an `Interactive` object:"
   ]
  },
  {
   "cell_type": "code",
   "execution_count": null,
   "id": "ee268576",
   "metadata": {},
   "outputs": [],
   "source": [
    "type(combined)"
   ]
  },
  {
   "cell_type": "markdown",
   "id": "1cdb8ebe",
   "metadata": {},
   "source": [
    "`link_selections` does not currently understand `Interactive` objects, and so it will raise an exception when given one. If we need a HoloViews `Layout`, e.g. for calling `link_selections`,  we can build a layout from the constituent objects using the `.holoviews()` terminating method on `Interactive`:"
   ]
  },
  {
   "cell_type": "code",
   "execution_count": null,
   "id": "986f8b86",
   "metadata": {},
   "outputs": [],
   "source": [
    "layout = sum_subpoints.holoviews() + count_subpoints.holoviews()\n",
    "layout"
   ]
  },
  {
   "cell_type": "markdown",
   "id": "d3f2468e",
   "metadata": {},
   "source": [
    "This is now a HoloViews object, so we can use it with `link_selections`:"
   ]
  },
  {
   "cell_type": "code",
   "execution_count": null,
   "id": "d0ed2deb",
   "metadata": {},
   "outputs": [],
   "source": [
    "print(type(layout))\n",
    "\n",
    "ls = hv.link_selections.instance()\n",
    "ls(sum_subpoints.holoviews()) + ls(count_subpoints.holoviews())"
   ]
  },
  {
   "cell_type": "markdown",
   "id": "4dfbd734",
   "metadata": {},
   "source": [
    "You can use the box selection tool to see how selections compare between these plots. However, you will note that the widgets are no longer displayed. To address this, we can display the widgets separately using a different terminating method, namely `.widgets()`:"
   ]
  },
  {
   "cell_type": "code",
   "execution_count": null,
   "id": "ed6edf1a-c63d-4d7b-a5c6-b50f7f287a1e",
   "metadata": {
    "tags": []
   },
   "outputs": [],
   "source": [
    "ls.filter(big_df)"
   ]
  },
  {
   "cell_type": "code",
   "execution_count": null,
   "id": "321a671a",
   "metadata": {},
   "outputs": [],
   "source": [
    "filtered_subrange.widgets()"
   ]
  },
  {
   "cell_type": "markdown",
   "id": "09ac7f70",
   "metadata": {},
   "source": [
    "For reference, the terminating methods for an `Interactive` object are:\n",
    "\n",
    "- `.holoviews()`: Give me a HoloViews object\n",
    "- `.panel()`:     Give me a Panel ParamFunction\n",
    "\n",
    "- `.widgets()`:   Give me a layout of widgets associated with this interactive object\n",
    "- `.layout()`:    Give me the layout of the widgets and display `pn.Column(obj.widgets(), obj.panel())` where `pn.Column` will be described in the [Dashboards notebook](./06_Dashboards.ipynb)."
   ]
  },
  {
   "cell_type": "markdown",
   "id": "12d05648",
   "metadata": {},
   "source": [
    "## Conclusion\n",
    "\n",
    "Using the techniques above, you can build up a collection of plots and other outputs with Panel widgets to control individual bits of computation and display. \n",
    "\n",
    "What if you want to collect these pieces and put them together into a standalone app or dashboard? If so, then the next tutorial will show you how to do so!"
   ]
  }
 ],
 "metadata": {
  "kernelspec": {
   "display_name": "Python 3 (ipykernel)",
   "language": "python",
   "name": "python3"
  },
  "language_info": {
   "codemirror_mode": {
    "name": "ipython",
    "version": 3
   },
   "file_extension": ".py",
   "mimetype": "text/x-python",
   "name": "python",
   "nbconvert_exporter": "python",
   "pygments_lexer": "ipython3",
   "version": "3.10.9"
  }
 },
 "nbformat": 4,
 "nbformat_minor": 5
}
