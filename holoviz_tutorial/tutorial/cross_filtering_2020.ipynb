{
 "cells": [
  {
   "cell_type": "markdown",
   "metadata": {},
   "source": [
    "Youtube video for this notebook\n",
    "\n",
    "https://youtu.be/AmHz31GrvkA"
   ]
  },
  {
   "cell_type": "code",
   "execution_count": null,
   "metadata": {
    "slideshow": {
     "slide_type": "skip"
    },
    "tags": []
   },
   "outputs": [],
   "source": [
    "import numpy as np\n",
    "import pandas as pd\n",
    "\n",
    "import holoviews as hv\n",
    "import hvplot.pandas\n",
    "\n",
    "colors = {\n",
    "    'Adelie Penguin': '#1f77b4',\n",
    "    'Gentoo penguin': '#ff7f0e',\n",
    "    'Chinstrap penguin': '#2ca02c'\n",
    "}"
   ]
  },
  {
   "cell_type": "markdown",
   "metadata": {
    "slideshow": {
     "slide_type": "slide"
    }
   },
   "source": [
    "# Scalable Cross-filtering Dashboards with Panel, HoloViews, and hvPlot\n",
    "\n",
    "### PyData Global 2020\n",
    "### Philipp Rudiger and James A. Bednar\n",
    "### Anaconda Inc."
   ]
  },
  {
   "cell_type": "markdown",
   "metadata": {
    "slideshow": {
     "slide_type": "slide"
    }
   },
   "source": [
    "## What is cross-filtering?\n",
    "\n",
    "- Selecting data in one plot and having the selection reflected in other plots\n",
    "- Also known as \"linked brushing\"\n",
    "- Allows understanding multidimensional datasets by showing how many different views of the same data relate"
   ]
  },
  {
   "cell_type": "markdown",
   "metadata": {
    "slideshow": {
     "slide_type": "slide"
    }
   },
   "source": [
    "<h1><b style=\"font-size: 0.6em\">Scalable</b> Cross-filtering <b style=\"font-size: 0.6em;\">Dashboards</b> with <b style=\"font-size: 0.6em\">Panel,</b> HoloViews and hvPlot</h1>\n",
    "\n",
    "In this first example for building interactive plots we start with 3 main libraries:\n",
    "    \n",
    "1. **Pandas**: To load and manipulate the data\n",
    "2. **HoloViews**: To link selections between plots automatically\n",
    "3. **hvPlot**: To quickly generate plots using a simple and familiar API\n",
    "\n",
    "<div style=\"display: table; vertical-align: center;\">\n",
    "<img src=\"./pandas-logo-300.png\" style=\"float:left; white-space: nowrap;\" width=\"200px\"></img>\n",
    "<img src=\"./holoviews.jpg\"  style=\"float:left; white-space: nowrap;\" width=\"210px\"></img>\n",
    "<img src=\"./hvplot-wm.png\"  style=\"float:left; white-space: nowrap;\" width=\"120px\"></img>\n",
    "</div>"
   ]
  },
  {
   "cell_type": "markdown",
   "metadata": {
    "slideshow": {
     "slide_type": "subslide"
    }
   },
   "source": [
    "## Building some plots\n",
    "\n",
    "Let us first load the Palmer penguin dataset ([Gorman et al.](https://allisonhorst.github.io/palmerpenguins/)), which contains measurements about a number of penguin species:"
   ]
  },
  {
   "cell_type": "code",
   "execution_count": null,
   "metadata": {
    "slideshow": {
     "slide_type": "fragment"
    },
    "tags": []
   },
   "outputs": [],
   "source": [
    "penguins = pd.read_csv('../data/penguins.csv')\n",
    "penguins.head(3)"
   ]
  },
  {
   "cell_type": "markdown",
   "metadata": {
    "slideshow": {
     "slide_type": "subslide"
    }
   },
   "source": [
    "## Building some plots"
   ]
  },
  {
   "cell_type": "code",
   "execution_count": null,
   "metadata": {
    "slideshow": {
     "slide_type": "fragment"
    },
    "tags": []
   },
   "outputs": [],
   "source": [
    "scatter = penguins.hvplot.scatter(\n",
    "    'Culmen Length (mm)', 'Culmen Depth (mm)', c='Species', cmap=colors, frame_width=400\n",
    ")\n",
    "scatter"
   ]
  },
  {
   "cell_type": "markdown",
   "metadata": {
    "slideshow": {
     "slide_type": "subslide"
    }
   },
   "source": [
    "## Building some plots"
   ]
  },
  {
   "cell_type": "code",
   "execution_count": null,
   "metadata": {
    "slideshow": {
     "slide_type": "fragment"
    },
    "tags": []
   },
   "outputs": [],
   "source": [
    "histogram = penguins.hvplot.hist(\n",
    "    'Body Mass (g)', by='Species', color=hv.dim('Species').categorize(colors),\n",
    "    legend=False, alpha=0.5, frame_width=400\n",
    ")\n",
    "histogram"
   ]
  },
  {
   "cell_type": "markdown",
   "metadata": {
    "slideshow": {
     "slide_type": "subslide"
    }
   },
   "source": [
    "## Link selections"
   ]
  },
  {
   "cell_type": "code",
   "execution_count": null,
   "metadata": {
    "slideshow": {
     "slide_type": "fragment"
    },
    "tags": []
   },
   "outputs": [],
   "source": [
    "ls1 = hv.link_selections.instance()\n",
    "\n",
    "hv.link_selections(histogram + scatter)"
   ]
  },
  {
   "cell_type": "markdown",
   "metadata": {
    "slideshow": {
     "slide_type": "subslide"
    }
   },
   "source": [
    "## Other plot types"
   ]
  },
  {
   "cell_type": "code",
   "execution_count": null,
   "metadata": {
    "slideshow": {
     "slide_type": "fragment"
    },
    "tags": []
   },
   "outputs": [],
   "source": [
    "# bars = (penguins.hvplot.bar('Species', 'Individual ID', c='Species', cmap=colors)\n",
    "#         .aggregate(function=np.count_nonzero))\n",
    "violin = (penguins.hvplot.violin('Flipper Length (mm)', by=['Species', 'Sex'], cmap='Category20')\n",
    "          .opts(split='Sex'))\n",
    "\n",
    "hv.link_selections(scatter.opts(show_legend=False) + histogram + histogram + violin).cols(2)"
   ]
  },
  {
   "cell_type": "markdown",
   "metadata": {
    "slideshow": {
     "slide_type": "subslide"
    }
   },
   "source": [
    "## Other data types"
   ]
  },
  {
   "cell_type": "code",
   "execution_count": null,
   "metadata": {
    "tags": []
   },
   "outputs": [],
   "source": [
    "temp"
   ]
  },
  {
   "cell_type": "code",
   "execution_count": null,
   "metadata": {
    "slideshow": {
     "slide_type": "fragment"
    },
    "tags": []
   },
   "outputs": [],
   "source": [
    "import hvplot.xarray\n",
    "import xarray as xr\n",
    "temp = xr.tutorial.load_dataset('air_temperature')\n",
    "qmesh = temp.hvplot.quadmesh('lon', 'lat', rasterize=True)\n",
    "# qmesh = temp.hvplot.points(x='time', y='lat')\n",
    "hist = temp.air.hvplot.hist('air', by=[], groupby='time')\n",
    "hv.link_selections(qmesh+hist).cols(1)"
   ]
  },
  {
   "cell_type": "markdown",
   "metadata": {
    "slideshow": {
     "slide_type": "slide"
    }
   },
   "source": [
    "<h1><i>Scalable</i> Cross-filtering <b style=\"font-size: 0.6em;\">Dashboards</b> with <b style=\"font-size: 0.6em\">Panel,</b> HoloViews and hvPlot</h1>\n",
    "\n",
    "* **Dask**: Scale your pandas DataFrame up and out to multiple cores or a whole cluster\n",
    "* **RAPIDS cuDF**: Move the computation to a GPU\n",
    "* **Datashader**: Render large datasets outside the browser\n",
    "\n",
    "<img src=\"diagram.png\" width=\"80%\"></img>"
   ]
  },
  {
   "cell_type": "code",
   "execution_count": null,
   "metadata": {
    "slideshow": {
     "slide_type": "skip"
    },
    "tags": []
   },
   "outputs": [],
   "source": [
    "import dask.dataframe as ddf\n",
    "import panel as pn\n",
    "\n",
    "library = 'pandas' # 'dask' | 'pandas' | 'cudf'\n",
    "\n",
    "def load_data(path, library):\n",
    "    df = ddf.read_parquet(path, engine='fastparquet').persist()\n",
    "    \n",
    "    if library != 'dask':\n",
    "        df = df.compute()\n",
    "        \n",
    "    if library == 'cudf': \n",
    "        import cudf\n",
    "        import hvplot.cudf\n",
    "        df['passenger_count'] = df.passenger_count.astype('int32')\n",
    "        df['pickup_hour'] = df.pickup_hour.astype('int32')\n",
    "        df['dropoff_hour'] = df.dropoff_hour.astype('int32')\n",
    "        df = cudf.from_pandas(df)\n",
    "    return df\n",
    "\n",
    "pn.config.sizing_mode = 'stretch_both'\n",
    "\n",
    "opts = {\n",
    "    'datashade': True,\n",
    "    'cmap': 'viridis',\n",
    "    'xaxis': None,\n",
    "    'yaxis': None,\n",
    "    'responsive': True,\n",
    "    'min_height': 500,\n",
    "    'shared_axes': False\n",
    "}"
   ]
  },
  {
   "cell_type": "markdown",
   "metadata": {
    "slideshow": {
     "slide_type": "subslide"
    }
   },
   "source": [
    "## Loading data"
   ]
  },
  {
   "cell_type": "code",
   "execution_count": null,
   "metadata": {
    "slideshow": {
     "slide_type": "fragment"
    },
    "tags": []
   },
   "outputs": [],
   "source": [
    "from pathlib import Path\n",
    "\n",
    "path = Path('../data/nyc_taxi_wide.parq', engine='fastparquet')\n",
    "\n",
    "df = pd.read_parquet(path)\n",
    "df.head(3)"
   ]
  },
  {
   "cell_type": "markdown",
   "metadata": {
    "slideshow": {
     "slide_type": "subslide"
    }
   },
   "source": [
    "## Building the cross-filtering views"
   ]
  },
  {
   "cell_type": "code",
   "execution_count": null,
   "metadata": {
    "slideshow": {
     "slide_type": "fragment"
    }
   },
   "outputs": [],
   "source": [
    "ls3 = hv.link_selections.instance()\n",
    "\n",
    "carto = hv.element.tiles.CartoDark().opts(axiswise=True)\n",
    "pickup = carto * ls3(df.hvplot.scatter('pickup_x', 'pickup_y', title='Pickup', **opts))\n",
    "dropoff = carto * ls3(df.hvplot.scatter('dropoff_x', 'dropoff_y', title='Dropoff',  **opts))\n",
    "\n",
    "pickup + dropoff"
   ]
  },
  {
   "cell_type": "markdown",
   "metadata": {
    "slideshow": {
     "slide_type": "subslide"
    }
   },
   "source": [
    "## Building the cross-filtering views"
   ]
  },
  {
   "cell_type": "code",
   "execution_count": null,
   "metadata": {
    "slideshow": {
     "slide_type": "fragment"
    }
   },
   "outputs": [],
   "source": [
    "hist_ranges = {'trip_distance': (0, 10), 'fare_amount': (0, 10),\n",
    "               'pickup_hour': (0, 24), 'dropoff_hour': (0, 24)}\n",
    "hists = pn.Column()\n",
    "for value, bin_range in hist_ranges.items():\n",
    "    hist = df.hvplot.hist(value, normed=True, bin_range=bin_range, yaxis=None,\n",
    "                          height=200, responsive=True)\n",
    "    hists.append(ls3(hist))\n",
    "hists"
   ]
  },
  {
   "cell_type": "markdown",
   "metadata": {
    "slideshow": {
     "slide_type": "slide"
    }
   },
   "source": [
    "<h1>Scalable Cross-filtering <i>Dashboards</i> with <i>Panel,</i> HoloViews and hvPlot</h1>\n",
    "\n",
    "</br></br>\n",
    "\n",
    "<div style=\"display: flex\">\n",
    "<img src=\"panel_diagram.png\" width=\"80%\"></img>\n",
    "</div>"
   ]
  },
  {
   "cell_type": "markdown",
   "metadata": {
    "slideshow": {
     "slide_type": "subslide"
    }
   },
   "source": [
    "## Build the dashboard"
   ]
  },
  {
   "cell_type": "code",
   "execution_count": null,
   "metadata": {
    "slideshow": {
     "slide_type": "fragment"
    }
   },
   "outputs": [],
   "source": [
    "df_N = len(df)\n",
    "\n",
    "def count(data):\n",
    "    N = len(data)\n",
    "    return pn.panel('## %d/%d Trips selected - Avg. Trip Distance: %.2f mi' %\n",
    "                    (N, df_N, data.trip_distance.mean()), width=600)\n",
    "\n",
    "pn.panel(pn.bind(count, ls3.selection_param(df)))"
   ]
  },
  {
   "cell_type": "markdown",
   "metadata": {
    "slideshow": {
     "slide_type": "subslide"
    }
   },
   "source": [
    "## Build the dashboard"
   ]
  },
  {
   "cell_type": "code",
   "execution_count": null,
   "metadata": {
    "slideshow": {
     "slide_type": "fragment"
    }
   },
   "outputs": [],
   "source": [
    "def selected(data):\n",
    "    return pn.indicators.Progress(value=int((len(data)/df_N)*100))\n",
    "\n",
    "pn.panel(pn.bind(selected, ls3.selection_param(df)))"
   ]
  },
  {
   "cell_type": "markdown",
   "metadata": {
    "slideshow": {
     "slide_type": "subslide"
    }
   },
   "source": [
    "## Build the dashboard"
   ]
  },
  {
   "cell_type": "code",
   "execution_count": null,
   "metadata": {
    "slideshow": {
     "slide_type": "skip"
    }
   },
   "outputs": [],
   "source": [
    "ls4 = hv.link_selections.instance()\n",
    "\n",
    "sel_param = ls4.selection_param(df)\n",
    "\n",
    "df_N = len(df)\n",
    "\n",
    "def count(data):\n",
    "    N = len(data)\n",
    "    return pn.pane.HTML(\n",
    "        '<span style=\"font-size: 1.5em\">%d/%d Trips selected - Avg. Trip Distance: %.2f mi</span>' %\n",
    "        (N, df_N, data.trip_distance.mean()),\n",
    "        sizing_mode='fixed', width=600, align='center'\n",
    "    )\n",
    "\n",
    "def selected(data):\n",
    "    return pn.indicators.Progress(value=int((len(data)/df_N)*100))\n",
    "\n",
    "carto = hv.element.tiles.CartoDark().opts(axiswise=True)\n",
    "pickup = carto * ls4(df.hvplot.scatter('pickup_x', 'pickup_y', title='Pickup', **opts))\n",
    "dropoff = carto * ls4(df.hvplot.scatter('dropoff_x', 'dropoff_y', title='Dropoff',  **opts))\n",
    "\n",
    "hist_ranges = {'trip_distance': (0, 10), 'fare_amount': (0, 10),\n",
    "               'pickup_hour': (0, 24), 'dropoff_hour': (0, 24)}\n",
    "\n",
    "hists = pn.Column()\n",
    "for value, bin_range in hist_ranges.items():\n",
    "    hist = df.hvplot.hist(value, normed=True, bin_range=bin_range, yaxis=None,\n",
    "                          height=200, responsive=True)\n",
    "    hists.append(ls4(hist))"
   ]
  },
  {
   "cell_type": "code",
   "execution_count": null,
   "metadata": {
    "slideshow": {
     "slide_type": "fragment"
    }
   },
   "outputs": [],
   "source": [
    "tmpl = pn.template.ReactTemplate(\n",
    "    title=\"NYC Taxi - Linked Brushing Demo\", logo=\"taxi_logo.png\",\n",
    "    theme=pn.template.DarkTheme\n",
    ")\n",
    "\n",
    "header = pn.Row(\n",
    "    pn.Spacer(width=200, sizing_mode='fixed'),\n",
    "    pn.bind(count, sel_param),\n",
    "    sizing_mode='stretch_width'\n",
    ")\n",
    "\n",
    "plots = pn.Column(\n",
    "    (pickup + dropoff).opts(shared_axes=False)\n",
    ")\n",
    "\n",
    "tmpl.header.append(header)\n",
    "tmpl.main[:4, :6] = pickup\n",
    "tmpl.main[:4, 6:] = dropoff\n",
    "for i, hist in enumerate(hists):\n",
    "    tmpl.main[4:6, 3*i:(3*i)+3] = hist\n",
    "    \n",
    "tmpl.show(title='NYC Taxi - Linked Brushing')"
   ]
  },
  {
   "cell_type": "markdown",
   "metadata": {
    "slideshow": {
     "slide_type": "slide"
    }
   },
   "source": [
    "# Thank you!\n",
    "\n",
    "### Special Acknowledgements to Jon Mease for implementing first version of linked selections!\n",
    "\n",
    "### Looking forward to your questions."
   ]
  }
 ],
 "metadata": {
  "celltoolbar": "Slideshow",
  "kernelspec": {
   "display_name": "Python 3 (ipykernel)",
   "language": "python",
   "name": "python3"
  },
  "language_info": {
   "codemirror_mode": {
    "name": "ipython",
    "version": 3
   },
   "file_extension": ".py",
   "mimetype": "text/x-python",
   "name": "python",
   "nbconvert_exporter": "python",
   "pygments_lexer": "ipython3",
   "version": "3.10.9"
  },
  "widgets": {
   "application/vnd.jupyter.widget-state+json": {
    "state": {},
    "version_major": 2,
    "version_minor": 0
   }
  }
 },
 "nbformat": 4,
 "nbformat_minor": 4
}
